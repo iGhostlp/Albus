{
  "nbformat": 4,
  "nbformat_minor": 0,
  "metadata": {
    "colab": {
      "provenance": [],
      "mount_file_id": "1XGT2igqqV9AdE_iPgjsdx5Z1W3QAv3FY",
      "authorship_tag": "ABX9TyMSupdwRDcq3LzZ/eXSEgrj",
      "include_colab_link": true
    },
    "kernelspec": {
      "name": "python3",
      "display_name": "Python 3"
    },
    "language_info": {
      "name": "python"
    }
  },
  "cells": [
    {
      "cell_type": "markdown",
      "metadata": {
        "id": "view-in-github",
        "colab_type": "text"
      },
      "source": [
        "<a href=\"https://colab.research.google.com/github/iGhostlp/Albus/blob/severus/Proyecto_BBVA.ipynb\" target=\"_parent\"><img src=\"https://colab.research.google.com/assets/colab-badge.svg\" alt=\"Open In Colab\"/></a>"
      ]
    },
    {
      "cell_type": "code",
      "source": [
        "!apt-get install openjdk-8-jdk-headless -qq > /dev/null"
      ],
      "metadata": {
        "id": "bEAwOI09S5T2"
      },
      "execution_count": 1,
      "outputs": []
    },
    {
      "cell_type": "code",
      "source": [
        "!wget -q https://dlcdn.apache.org/spark/spark-3.3.2/spark-3.3.2-bin-hadoop3.tgz"
      ],
      "metadata": {
        "id": "ozLs2gYdS83_"
      },
      "execution_count": 2,
      "outputs": []
    },
    {
      "cell_type": "code",
      "source": [
        "ls"
      ],
      "metadata": {
        "colab": {
          "base_uri": "https://localhost:8080/"
        },
        "id": "iu40EdRwrqvG",
        "outputId": "ea1f595c-c979-4c1e-857e-ba8b51bb17f2"
      },
      "execution_count": 3,
      "outputs": [
        {
          "output_type": "stream",
          "name": "stdout",
          "text": [
            "\u001b[0m\u001b[01;34mDatasets\u001b[0m/     \u001b[01;34mspark-3.3.2-bin-hadoop3\u001b[0m/     spark-3.3.2-bin-hadoop3.tgz.1\n",
            "\u001b[01;34msample_data\u001b[0m/  spark-3.3.2-bin-hadoop3.tgz  spark-3.3.2-bin-hadoop3.tgz.2\n"
          ]
        }
      ]
    },
    {
      "cell_type": "code",
      "source": [
        "!tar xf spark-3.3.2-bin-hadoop3.tgz\n"
      ],
      "metadata": {
        "id": "P8LniTLfqxn2"
      },
      "execution_count": 4,
      "outputs": []
    },
    {
      "cell_type": "code",
      "source": [
        "!java -version"
      ],
      "metadata": {
        "colab": {
          "base_uri": "https://localhost:8080/"
        },
        "id": "x0KRBVbzwLIx",
        "outputId": "c4147bfc-eed3-4a3b-c0f1-f1ebcacbbb8c"
      },
      "execution_count": 5,
      "outputs": [
        {
          "output_type": "stream",
          "name": "stdout",
          "text": [
            "openjdk version \"11.0.18\" 2023-01-17\n",
            "OpenJDK Runtime Environment (build 11.0.18+10-post-Ubuntu-0ubuntu120.04.1)\n",
            "OpenJDK 64-Bit Server VM (build 11.0.18+10-post-Ubuntu-0ubuntu120.04.1, mixed mode, sharing)\n"
          ]
        }
      ]
    },
    {
      "cell_type": "code",
      "source": [
        "!readlink -f $(which java) | sed \"s:bin/java::\"\n"
      ],
      "metadata": {
        "colab": {
          "base_uri": "https://localhost:8080/"
        },
        "id": "420RQAADxMI1",
        "outputId": "5c396dcb-1059-4d98-8ec4-705968ff053e"
      },
      "execution_count": 6,
      "outputs": [
        {
          "output_type": "stream",
          "name": "stdout",
          "text": [
            "/usr/lib/jvm/java-11-openjdk-amd64/\n"
          ]
        }
      ]
    },
    {
      "cell_type": "code",
      "source": [
        "!echo $JAVA_HOME"
      ],
      "metadata": {
        "colab": {
          "base_uri": "https://localhost:8080/"
        },
        "id": "umf4RhEvx04m",
        "outputId": "26b9e082-97c8-4c52-ee07-84a614093acc"
      },
      "execution_count": 7,
      "outputs": [
        {
          "output_type": "stream",
          "name": "stdout",
          "text": [
            "\n"
          ]
        }
      ]
    },
    {
      "cell_type": "code",
      "source": [
        "!pip install -q findspark\n"
      ],
      "metadata": {
        "id": "xgFprvu-sBQ_"
      },
      "execution_count": 8,
      "outputs": []
    },
    {
      "cell_type": "code",
      "source": [
        "!pip install pyspark "
      ],
      "metadata": {
        "colab": {
          "base_uri": "https://localhost:8080/"
        },
        "id": "rkP7aL9FZyfl",
        "outputId": "468c2627-0e88-41fa-c914-43d7468806c7"
      },
      "execution_count": 9,
      "outputs": [
        {
          "output_type": "stream",
          "name": "stdout",
          "text": [
            "Looking in indexes: https://pypi.org/simple, https://us-python.pkg.dev/colab-wheels/public/simple/\n",
            "Requirement already satisfied: pyspark in /usr/local/lib/python3.9/dist-packages (3.3.2)\n",
            "Requirement already satisfied: py4j==0.10.9.5 in /usr/local/lib/python3.9/dist-packages (from pyspark) (0.10.9.5)\n"
          ]
        }
      ]
    },
    {
      "cell_type": "code",
      "source": [
        "import os\n",
        "os.environ[\"JAVA_HOME\"] = \"/usr/lib/jvm/java-11-openjdk-amd64\"\n",
        "os.environ[\"SPARK_HOME\"] = '/content/spark-3.3.2-bin-hadoop3'"
      ],
      "metadata": {
        "id": "fqKj66wKr4Kz"
      },
      "execution_count": 10,
      "outputs": []
    },
    {
      "cell_type": "code",
      "source": [
        "import findspark\n"
      ],
      "metadata": {
        "id": "OOLeuFZwsEXS"
      },
      "execution_count": 11,
      "outputs": []
    },
    {
      "cell_type": "code",
      "source": [
        "import pandas as pd\n"
      ],
      "metadata": {
        "id": "IqbsIKBXZOVl"
      },
      "execution_count": 12,
      "outputs": []
    },
    {
      "cell_type": "code",
      "source": [
        "import matplotlib.pyplot as plt"
      ],
      "metadata": {
        "id": "USFCsNF3erdq"
      },
      "execution_count": 13,
      "outputs": []
    },
    {
      "cell_type": "code",
      "source": [
        "findspark.init()\n"
      ],
      "metadata": {
        "id": "I2RROl2rsGna"
      },
      "execution_count": 14,
      "outputs": []
    },
    {
      "cell_type": "code",
      "source": [
        "findspark.find()\n"
      ],
      "metadata": {
        "colab": {
          "base_uri": "https://localhost:8080/",
          "height": 36
        },
        "id": "r96QSEHksI2p",
        "outputId": "fc67a364-870a-41d0-a00f-8b228a7137a0"
      },
      "execution_count": 15,
      "outputs": [
        {
          "output_type": "execute_result",
          "data": {
            "text/plain": [
              "'/content/spark-3.3.2-bin-hadoop3'"
            ],
            "application/vnd.google.colaboratory.intrinsic+json": {
              "type": "string"
            }
          },
          "metadata": {},
          "execution_count": 15
        }
      ]
    },
    {
      "cell_type": "code",
      "source": [
        "from pyspark.sql import SparkSession\n"
      ],
      "metadata": {
        "id": "zkkuHDHZsLe1"
      },
      "execution_count": 16,
      "outputs": []
    },
    {
      "cell_type": "code",
      "source": [
        "from pyspark.sql.functions import col\n"
      ],
      "metadata": {
        "id": "yZ0T8x_vsVjb"
      },
      "execution_count": 17,
      "outputs": []
    },
    {
      "cell_type": "code",
      "source": [
        "spark = SparkSession.builder.master(\"local[*]\").config('spark.sql.parquet.datetimeRebaseModeInRead','CORRECTED').getOrCreate()\n"
      ],
      "metadata": {
        "id": "fKnQKd_ysNhm"
      },
      "execution_count": 18,
      "outputs": []
    },
    {
      "cell_type": "code",
      "source": [
        "spark"
      ],
      "metadata": {
        "colab": {
          "base_uri": "https://localhost:8080/",
          "height": 219
        },
        "id": "EqYpq6dLUwyg",
        "outputId": "22659fac-2d59-45d2-b09e-91950122604f"
      },
      "execution_count": 19,
      "outputs": [
        {
          "output_type": "execute_result",
          "data": {
            "text/plain": [
              "<pyspark.sql.session.SparkSession at 0x7f55d3b7be20>"
            ],
            "text/html": [
              "\n",
              "            <div>\n",
              "                <p><b>SparkSession - in-memory</b></p>\n",
              "                \n",
              "        <div>\n",
              "            <p><b>SparkContext</b></p>\n",
              "\n",
              "            <p><a href=\"http://6496a62be749:4040\">Spark UI</a></p>\n",
              "\n",
              "            <dl>\n",
              "              <dt>Version</dt>\n",
              "                <dd><code>v3.3.2</code></dd>\n",
              "              <dt>Master</dt>\n",
              "                <dd><code>local[*]</code></dd>\n",
              "              <dt>AppName</dt>\n",
              "                <dd><code>pyspark-shell</code></dd>\n",
              "            </dl>\n",
              "        </div>\n",
              "        \n",
              "            </div>\n",
              "        "
            ]
          },
          "metadata": {},
          "execution_count": 19
        }
      ]
    },
    {
      "cell_type": "code",
      "source": [
        "path_address = '/content/Datasets/address.snappy.parquet'\n",
        "path_customer_basics = '/content/Datasets/customer_basics.snappy.parquet'\n",
        "path_customer = '/content/Datasets/customer.snappy.parquet'\n",
        "path_mails = '/content/Datasets/email.snappy.parquet'\n",
        "path_phones = '/content/Datasets/phones.snappy.parquet'\n"
      ],
      "metadata": {
        "id": "OYR7NPBIUyCy"
      },
      "execution_count": 20,
      "outputs": []
    },
    {
      "cell_type": "code",
      "source": [
        "df_address = spark.read.load(path_address, sep=',' , inferschema= 'true', header = 'true')\n",
        "\n",
        "df_customerb = spark.read.load(path_customer_basics, sep = ',' , inferschema = 'true', header = 'true')\n",
        "\n",
        "df_customer = spark.read.load(path_customer, sep = ',' , inferschema = 'true', header = 'true')\n",
        "\n",
        "df_mail = spark.read.load(path_mails, sep = ',' , inferschema = 'true', header = 'true')\n",
        "\n",
        "df_phones = spark.read.load(path_phones, sep = ',' , inferschema = 'true', header = 'true')\n",
        "\n"
      ],
      "metadata": {
        "id": "VvzFJQCXVp0O"
      },
      "execution_count": 21,
      "outputs": []
    },
    {
      "cell_type": "code",
      "source": [
        "df_customer_address = df_address.join(df_customerb, ['customer_id'], how = 'left')\n"
      ],
      "metadata": {
        "id": "m7GGKPEvkhMp"
      },
      "execution_count": 57,
      "outputs": []
    },
    {
      "cell_type": "code",
      "source": [
        "df_customer_address.show()"
      ],
      "metadata": {
        "colab": {
          "base_uri": "https://localhost:8080/"
        },
        "id": "F-5KpAc1njNX",
        "outputId": "cb261335-bfab-413f-ae3a-76962143871e"
      },
      "execution_count": 56,
      "outputs": [
        {
          "output_type": "stream",
          "name": "stdout",
          "text": [
            "+-----------+-----------------------+-------------------+--------------+-----------+------------------+---------------------------+-----------------+-------------+---------------------+-----------------+-----------------------+----------+---------------+-----------+------------------+----------------------+-------------------------+------------------+---------------------+------------------------------+-----------------------+--------------------+---------------------+------------------+-------------------------+-------------------------+------------------+-----------------------------+--------------------+---------------------+-----------------------+----------------------+--------------------+----------------------+------------------------------+----------------------------+------------------------+-------------------+----------------+----------------+-------------------+--------------------+-----------------------+-----------------+---------------------+-------------+-------------+--------------+---------------+--------------------+---------+----------------+-----------+-----------------------+-----------------------+----------+-------------------+-----------------+--------------------------+----------+----------------+-----------------+-------------------+-----------+----------+----------------------+--------------------+---------------------+-----------+--------------------------+----------------------------+-------------------------------+------------------------+------------------------+--------------------------+------------------------+--------------------------+----------------------------+------------------+------------------------+-------------------+-------------------+---------------------------+-----------------+-------------------+-----------------+-------------------------------+--------------------+---------------------+------------------+----------------+--------------------+--------------------------+----------------+--------------------------+--------------------+-------------+----------------+--------------------+-------------------+--------+---------------------+-------------------------+--------------------------+----------------+--------------------+--------------------+----------------+-------------+-------------------------+-----------------------+---------------------+\n",
            "|customer_id|address_priority_number|address_sequence_id|residence_type|street_name|address_outdoor_id|address_without_number_type|address_indoor_id|indoor_number|address_district_name|address_town_name|address_department_name|zipcode_id|long_zipcode_id|province_id|address_country_id|other_information_desc|address_relationship_type|address_start_date|address_verified_date|customer_locator_verified_type|address_status_mod_date|contact_channel_type|sender_application_id|returned_mail_type|normalization_status_type|normalization_reason_name|normalization_date|normalized_level_match_number|dlvy_day_monday_type|dlvy_day_tuesday_type|dlvy_day_wednesday_type|dlvy_day_thursday_type|dlvy_day_friday_type|dlvy_day_saturday_type|delivery_contact_start_hm_date|delivery_contact_end_hm_date|prev_address_sequence_id|registry_entry_date|register_user_id|last_change_date|last_change_user_id|last_change_hms_date|last_change_terminal_id|registration_type|operational_load_date|personal_type|  personal_id|admission_date|sale_channel_id|operation_channel_id|branch_id|business_area_id|campaing_id|customer_situation_type|customer_condition_type|manager_id|tracking_manager_id|credit_manager_id|credit_recovery_manager_id| last_name|second_last_name|       first_name|marital_status_type|gender_type|birth_date|country_nationality_id|residence_country_id|customer_subject_type|sector_type|customer_level_access_type|cust_bcra_econ_activity_type|internal_economic_activity_type|bbva_inhabilitation_type|customer_block_bbva_date|customer_unblock_bbva_date|customer_block_bcra_date|customer_unblock_bcra_date|customer_pending_notice_type|last_notice_number|last_reference_number_id|last_service_number|last_address_number|last_unlinking_account_date|customer_end_date|last_change_user_id|customer_pep_type|bbva_family_lnk_weighted_number|customer_status_type|scoring_activity_type|refinancing_number|refinancing_date|coholder_customer_id|customer_bcra_situation_id|customer_cuit_id|customer_position_vat_type|balance_closing_date|profession_id|bbva_cust_number|customer_linked_type|customer_entry_type|job_type|profession_start_date|customer_first_block_date|customer_registration_date|last_change_date|last_change_hms_date|register_terminal_id|register_user_id|customer_type|customer_seniority_number|last_status_change_date|operational_load_date|\n",
            "+-----------+-----------------------+-------------------+--------------+-----------+------------------+---------------------------+-----------------+-------------+---------------------+-----------------+-----------------------+----------+---------------+-----------+------------------+----------------------+-------------------------+------------------+---------------------+------------------------------+-----------------------+--------------------+---------------------+------------------+-------------------------+-------------------------+------------------+-----------------------------+--------------------+---------------------+-----------------------+----------------------+--------------------+----------------------+------------------------------+----------------------------+------------------------+-------------------+----------------+----------------+-------------------+--------------------+-----------------------+-----------------+---------------------+-------------+-------------+--------------+---------------+--------------------+---------+----------------+-----------+-----------------------+-----------------------+----------+-------------------+-----------------+--------------------------+----------+----------------+-----------------+-------------------+-----------+----------+----------------------+--------------------+---------------------+-----------+--------------------------+----------------------------+-------------------------------+------------------------+------------------------+--------------------------+------------------------+--------------------------+----------------------------+------------------+------------------------+-------------------+-------------------+---------------------------+-----------------+-------------------+-----------------+-------------------------------+--------------------+---------------------+------------------+----------------+--------------------+--------------------------+----------------+--------------------------+--------------------+-------------+----------------+--------------------+-------------------+--------+---------------------+-------------------------+--------------------------+----------------+--------------------+--------------------+----------------+-------------+-------------------------+-----------------------+---------------------+\n",
            "|   01157212|                   null|               null|          null|       null|              null|                       null|             null|         null|                 null|             null|                   null|      null|           null|       null|              null|                  null|                     null|              null|                 null|                          null|                   null|                null|                 null|              null|                     null|                     null|              null|                         null|                null|                 null|                   null|                  null|                null|                  null|                          null|                        null|                    null|               null|            null|            null|               null|                null|                   null|             null|                 null|           00|0000013226627|    2008-08-28|          10000|                  00|       74|              30|          0|                      1|                      1|       192|                   |                 |                          |     RAMOS|                |  GERARDO GABRIEL|                  1|          M|1959-08-20|                    80|                 080|                  201|        100|                         0|                          82|                       21101000|                       0|                    null|                      null|                    null|                      null|                            |                11|                       0|                  0|                  1|                       null|             null|            A800118|                0|                              3|                  AC|                   50|              null|            null|                    |                      null|   0020132266272|                       042|                null|          035|       001157212|                   N|                   |     004|           2009-01-01|                     null|                2008-08-28|      2021-09-16|              112634|                3633|          VUELCO|            N|                     null|                   null| 2022-03-10 01:05:...|\n",
            "|   26745469|                   null|               null|          null|       null|              null|                       null|             null|         null|                 null|             null|                   null|      null|           null|       null|              null|                  null|                     null|              null|                 null|                          null|                   null|                null|                 null|              null|                     null|                     null|              null|                         null|                null|                 null|                   null|                  null|                null|                  null|                          null|                        null|                    null|               null|            null|            null|               null|                null|                   null|             null|                 null|           00|0000013226860|    2020-04-20|          10000|                  00|      243|              30|          0|                      1|                      1|       226|                080|                 |                          |FRIEDERICH|                |      LEO IGNACIO|                  5|          M|1957-08-20|                    80|                 080|                  201|        100|                         0|                          82|                       21101000|                       0|                    null|                      null|                    null|                      null|                            |                 5|                       0|                  0|                  2|                       null|             null|            PCLE06R|                2|                              1|                  AC|                   18|              null|            null|                    |                      null|   0020132268607|                       042|                null|          007|       026745469|                   N|                   |     001|           2020-05-18|                     null|                2020-04-20|      2020-06-25|              174211|                P37B|         PCLE510|            N|                     null|             2020-05-18| 2022-03-10 01:05:...|\n",
            "|   19403025|                   null|               null|          null|       null|              null|                       null|             null|         null|                 null|             null|                   null|      null|           null|       null|              null|                  null|                     null|              null|                 null|                          null|                   null|                null|                 null|              null|                     null|                     null|              null|                         null|                null|                 null|                   null|                  null|                null|                  null|                          null|                        null|                    null|               null|            null|            null|               null|                null|                   null|             null|                 null|           27|0000007880359|    2012-03-28|          10000|                  00|      418|              34|          0|                      1|                      8|       139|                   |                 |                          | VELAZQUEZ|                |         ROMUALDO|                  1|          M|1946-02-09|                    80|                 080|                  201|        100|                         0|                          82|                       21101000|                       0|                    null|                      null|                    null|                      null|                           0|                 0|                       0|                  0|                  1|                       null|             null|            PCLE25Q|                1|                              1|                  PO|                   47|              null|            null|                    |                      null|   0020078803593|                       042|                null|          016|       019403025|                   N|                 MD|     001|           2012-03-28|                     null|                2012-03-28|      2013-04-20|              175404|                P37B|         PCLE10P|            S|                     null|                   null| 2022-03-10 01:05:...|\n",
            "|   19963134|                   null|               null|          null|       null|              null|                       null|             null|         null|                 null|             null|                   null|      null|           null|       null|              null|                  null|                     null|              null|                 null|                          null|                   null|                null|                 null|              null|                     null|                     null|              null|                         null|                null|                 null|                   null|                  null|                null|                  null|                          null|                        null|                    null|               null|            null|            null|               null|                null|                   null|             null|                 null|           27|0000007882950|    2013-05-28|          10000|                  01|      259|              30|          0|                      1|                      1|       553|                   |                 |                          |     ZUPEL|                |   RUBEN CEFERINO|                  5|          M|1949-03-07|                    80|                 080|                  201|        100|                         0|                          82|                       21101000|                       0|                    null|                      null|                    null|                      null|                           0|                 0|                       0|                  0|                  1|                       null|             null|            PCLE06R|                2|                              1|                  PO|                   50|              null|            null|                    |                      null|   0020078829509|                       042|                null|          038|       019963134|                   N|                   |     004|           2013-05-28|                     null|                2013-05-28|      2013-05-28|              175554|                P37B|         A118096|            S|                     null|                   null| 2022-03-10 01:05:...|\n",
            "|   06916693|                   null|               null|          null|       null|              null|                       null|             null|         null|                 null|             null|                   null|      null|           null|       null|              null|                  null|                     null|              null|                 null|                          null|                   null|                null|                 null|              null|                     null|                     null|              null|                         null|                null|                 null|                   null|                  null|                null|                  null|                          null|                        null|                    null|               null|            null|            null|               null|                null|                   null|             null|                 null|           27|0000007883500|    2006-04-04|          10000|                    |      207|              34|          0|                      1|                      1|        11|                   |                 |                          |  SCARAFIA|                |          ALCIDES|                  1|          M|1948-08-26|                    80|                 080|                  201|        100|                         0|                          82|                       21101000|                       0|                    null|                      null|                    null|                      null|                            |                 0|                       0|                  0|                  1|                       null|             null|            PCLE25Q|                0|                              1|                  CA|                   47|              null|            null|                    |                      null|   0020078835002|                       042|                null|          016|       006916693|                   N|                   |     001|           2009-01-01|                     null|                2006-04-04|      2013-02-27|              174517|                P37B|          VUELCO|            S|                     null|                   null| 2022-03-10 01:05:...|\n",
            "|   19955757|                   null|               null|          null|       null|              null|                       null|             null|         null|                 null|             null|                   null|      null|           null|       null|              null|                  null|                     null|              null|                 null|                          null|                   null|                null|                 null|              null|                     null|                     null|              null|                         null|                null|                 null|                   null|                  null|                null|                  null|                          null|                        null|                    null|               null|            null|            null|               null|                null|                   null|             null|                 null|           27|0000007885360|    2013-05-24|          10000|                  00|       15|              34|          0|                      1|                      8|        81|                   |                 |                          |    AVALOS|                |            LUCAS|                  1|          M|1949-01-01|                    80|                 080|                  201|        100|                         0|                          82|                       21101000|                       0|                    null|                      null|                    null|                      null|                           0|                 0|                       0|                  0|                  1|                       null|             null|            PCLE25Q|                1|                              1|                  PO|                   47|              null|            null|                    |                      null|   0020078853604|                       042|                null|          016|       019955757|                   N|                 MO|     001|           2013-05-24|                     null|                2013-05-24|      2013-05-24|              175554|                P37B|         PCLE10P|            S|                     null|                   null| 2022-03-10 01:05:...|\n",
            "|   01718049|                   null|               null|          null|       null|              null|                       null|             null|         null|                 null|             null|                   null|      null|           null|       null|              null|                  null|                     null|              null|                 null|                          null|                   null|                null|                 null|              null|                     null|                     null|              null|                         null|                null|                 null|                   null|                  null|                null|                  null|                          null|                        null|                    null|               null|            null|            null|               null|                null|                   null|             null|                 null|           27|0000007889122|    2009-07-30|          74000|                  01|      237|              30|          0|                      1|                      1|       979|                   |                 |                          |   BARRERA|                | ALEJANDRO HECTOR|                  1|          M|1950-02-26|                    80|                 080|                  201|        100|                         0|                          82|                       21101000|                       0|                    null|                      null|                    null|                      null|                            |                 0|                       0|                  0|                  1|                       null|             null|            PCLE25Q|                0|                              1|                  PO|                   35|              null|            null|                    |                      null|   0020078891220|                       042|                null|          025|       001718049|                   N|                   |     003|           2009-07-30|                     null|                2009-07-30|      2009-07-30|              163820|                P37B|          VUELCO|            S|                     null|                   null| 2022-03-10 01:05:...|\n",
            "|   21466591|                   null|               null|          null|       null|              null|                       null|             null|         null|                 null|             null|                   null|      null|           null|       null|              null|                  null|                     null|              null|                 null|                          null|                   null|                null|                 null|              null|                     null|                     null|              null|                         null|                null|                 null|                   null|                  null|                null|                  null|                          null|                        null|                    null|               null|            null|            null|               null|                null|                   null|             null|                 null|           27|0000007889212|    2015-04-23|          10000|                  00|      603|              34|          0|                      1|                      8|      2603|                   |                 |                          |    CORTEZ|                |          ROBERTO|                  1|          M|1950-02-05|                    80|                 080|                  201|        100|                         0|                          82|                       21101000|                       0|                    null|                      null|                    null|                      null|                           0|                 0|                       0|                  0|                  0|                       null|             null|            PCLE06R|                1|                              1|                  PO|                   47|              null|            null|                    |                      null|   0023078892129|                       042|                null|          016|       021466591|                   N|                 MD|     001|           2015-04-23|                     null|                2015-04-23|      2015-04-23|              231958|                P37B|         PCLE25H|            S|                     null|                   null| 2022-03-10 01:05:...|\n",
            "|   20706165|                   null|               null|          null|       null|              null|                       null|             null|         null|                 null|             null|                   null|      null|           null|       null|              null|                  null|                     null|              null|                 null|                          null|                   null|                null|                 null|              null|                     null|                     null|              null|                         null|                null|                 null|                   null|                  null|                null|                  null|                          null|                        null|                    null|               null|            null|            null|               null|                null|                   null|             null|                 null|           27|0000007889953|    2014-09-15|          10000|                  00|      285|              34|          0|                      1|                      1|       487|                   |                 |                          |      CRUZ|                |      JUAN CARLOS|                  1|          M|1949-09-24|                    80|                 080|                  201|        100|                         0|                          82|                       21101000|                       0|                    null|                      null|                    null|                      null|                            |                 0|                       0|                  0|                  1|                       null|             null|           S1CFN667|                1|                              1|                  CA|                   47|              null|            null|                    |                      null|   0020078899531|                       042|                null|          016|       020706165|                   N|                   |     001|           2014-09-15|                     null|                2014-09-15|      2015-11-09|              184838|                P37B|         PCLE10P|            S|                     null|                   null| 2022-03-10 01:05:...|\n",
            "|   02997060|                   null|               null|          null|       null|              null|                       null|             null|         null|                 null|             null|                   null|      null|           null|       null|              null|                  null|                     null|              null|                 null|                          null|                   null|                null|                 null|              null|                     null|                     null|              null|                         null|                null|                 null|                   null|                  null|                null|                  null|                          null|                        null|                    null|               null|            null|            null|               null|                null|                   null|             null|                 null|           25|0000007897097|    2011-02-28|          10000|                  00|      111|              34|          0|                      1|                      1|       378|                   |                 |                      BLOQ|      WYSS|                |     LUIS ROLANDO|                  1|          M|1942-08-27|                    80|                 080|                  201|        100|                         0|                          82|                       21101000|                       0|                    null|                      null|                    null|                      null|                           0|                 0|                       0|                  0|                  1|                       null|             null|            PCLE06R|                1|                              1|                  PO|                   47|              null|            null|                    |                      null|   0023078970979|                       042|                null|          016|       002997060|                   N|                   |     001|           2011-02-28|                     null|                2011-02-28|      2011-02-28|              162126|                P37B|          VUELCO|            S|                     null|                   null| 2022-03-10 01:05:...|\n",
            "|   04484525|                   null|               null|          null|       null|              null|                       null|             null|         null|                 null|             null|                   null|      null|           null|       null|              null|                  null|                     null|              null|                 null|                          null|                   null|                null|                 null|              null|                     null|                     null|              null|                         null|                null|                 null|                   null|                  null|                null|                  null|                          null|                        null|                    null|               null|            null|            null|               null|                null|                   null|             null|                 null|           27|0000007898443|    1991-12-18|          10000|                  01|      218|              34|         13|                      1|                      1|       219|                   |                 |                          | BOGLIETTI|                |            RUBEN|                  1|          M|1942-02-12|                    80|                 080|                  201|        100|                         0|                          82|                       21101000|                       0|                    null|                      null|                    null|                      null|                           0|                 0|                       0|                  0|                  2|                       null|             null|            PCLE25Q|                0|                              1|                  CA|                   47|              null|            null|                    |                      null|   0020078984431|                       042|                null|          016|       004484525|                   N|                   |     001|           2009-01-01|                     null|                1999-02-17|      1999-02-17|              165931|                P37B|          VUELCO|            S|                     null|                   null| 2022-03-10 01:05:...|\n",
            "|   20405028|                   null|               null|          null|       null|              null|                       null|             null|         null|                 null|             null|                   null|      null|           null|       null|              null|                  null|                     null|              null|                 null|                          null|                   null|                null|                 null|              null|                     null|                     null|              null|                         null|                null|                 null|                   null|                  null|                null|                  null|                          null|                        null|                    null|               null|            null|            null|               null|                null|                   null|             null|                 null|           25|0000007901907|    2014-03-12|          10000|                  00|      150|              34|          0|                      1|                      8|       498|                   |                 |                      BLOQ|   MENDOZA|                |  EPIFANIO VICTOR|                  1|          M|1949-04-07|                    80|                 080|                  201|        100|                         0|                          82|                       21101000|                       0|                    null|                      null|                    null|                      null|                           0|                 0|                       0|                  0|                  1|                       null|             null|            PCLE06R|                1|                              1|                  PO|                   47|              null|            null|                    |                      null|   0020079019071|                       042|                null|          016|       020405028|                   N|                 MO|     001|           2014-03-12|                     null|                2014-03-12|      2014-03-12|              161531|                P37B|         PCLE10P|            S|                     null|                   null| 2022-03-10 01:05:...|\n",
            "|   03099590|                   null|               null|          null|       null|              null|                       null|             null|         null|                 null|             null|                   null|      null|           null|       null|              null|                  null|                     null|              null|                 null|                          null|                   null|                null|                 null|              null|                     null|                     null|              null|                         null|                null|                 null|                   null|                  null|                null|                  null|                          null|                        null|                    null|               null|            null|            null|               null|                null|                   null|             null|                 null|           27|0000007909556|    1997-05-22|          20050|                  01|      216|              34|          0|                      1|                      1|       225|                   |                 |                          |   PASCUAL|                |     JUAN ANTONIO|                  5|          M|1944-01-31|                    80|                 080|                  201|        100|                          |                          82|                       21101000|                       0|                    null|                      null|                    null|                      null|                            |                 0|                       0|                  0|                  3|                       null|             null|            PCLE07V|                0|                              1|                  CA|                   47|              null|            null|                    |                      null|   0020079095568|                       055|                null|          016|       001057996|                   N|                   |     001|           2009-01-01|                     null|                1997-05-22|      1998-07-05|              165345|                P37B|          VUELCO|            S|                     null|                   null| 2022-03-10 01:05:...|\n",
            "|   04762676|                   null|               null|          null|       null|              null|                       null|             null|         null|                 null|             null|                   null|      null|           null|       null|              null|                  null|                     null|              null|                 null|                          null|                   null|                null|                 null|              null|                     null|                     null|              null|                         null|                null|                 null|                   null|                  null|                null|                  null|                          null|                        null|                    null|               null|            null|            null|               null|                null|                   null|             null|                 null|           00|0000025919431|    1999-08-13|          10000|                  01|      202|              34|          0|                      1|                      1|       522|                   |                 |                          |    MOYANO|                |   MARCOS ANTONIO|                  5|          M|1976-02-07|                    80|                 080|                  201|        100|                         0|                          82|                       21101000|                       0|                    null|                      null|                    null|                      null|                            |                 0|                       0|                  0|                  1|                       null|             null|            PCLE06R|                0|                              1|                  CA|                   47|              null|            null|                    |                      null|   0020259194319|                       042|                null|          016|       004762676|                   N|                   |     001|           2009-01-01|                     null|                1999-08-13|      2002-03-22|              111055|                P37B|          VUELCO|            S|                     null|                   null| 2022-03-10 01:05:...|\n",
            "|   23303554|                   null|               null|          null|       null|              null|                       null|             null|         null|                 null|             null|                   null|      null|           null|       null|              null|                  null|                     null|              null|                 null|                          null|                   null|                null|                 null|              null|                     null|                     null|              null|                         null|                null|                 null|                   null|                  null|                null|                  null|                          null|                        null|                    null|               null|            null|            null|               null|                null|                   null|             null|                 null|           00|0000025919890|    2016-10-21|          10000|                  00|      603|              34|          0|                      1|                      8|      2603|                   |                 |                          |     GAIDO|                |GUSTAVO ALEJANDRO|                  1|          M|1977-07-24|                    80|                 080|                  201|        100|                         0|                          82|                       21101000|                       0|                    null|                      null|                    null|                      null|                           0|                 0|                       0|                  0|                  0|                       null|             null|            PCLE06R|                1|                              1|                  PO|                   47|              null|            null|                    |                      null|   0023259198909|                       042|                null|          016|       023303554|                   N|                 MD|     001|           2016-10-21|                     null|                2016-10-21|      2016-10-21|              231441|                P37B|         PCLE25H|            S|                     null|                   null| 2022-03-10 01:05:...|\n",
            "|   05483567|                   null|               null|          null|       null|              null|                       null|             null|         null|                 null|             null|                   null|      null|           null|       null|              null|                  null|                     null|              null|                 null|                          null|                   null|                null|                 null|              null|                     null|                     null|              null|                         null|                null|                 null|                   null|                  null|                null|                  null|                          null|                        null|                    null|               null|            null|            null|               null|                null|                   null|             null|                 null|           00|0000025925477|    2001-05-17|          10000|                  01|       79|              34|          0|                      1|                      1|       216|                   |                 |                          |    TAIANA|                |      MAXIMILIANO|                  5|          M|1977-05-26|                    80|                 080|                  201|        100|                         0|                          82|                       21101000|                       0|                    null|                      null|                    null|                      null|                            |                 0|                       0|                  0|                  1|                       null|             null|            PCLE06R|                0|                              1|                  AC|                   47|              null|            null|                    |                      null|   0023259254779|                       042|                null|          016|       005483567|                   N|                   |     001|           2009-01-01|                     null|                2001-05-17|      2008-04-25|              044357|                P37B|          VUELCO|            N|                     null|                   null| 2022-03-10 01:05:...|\n",
            "|   02337659|                   null|               null|          null|       null|              null|                       null|             null|         null|                 null|             null|                   null|      null|           null|       null|              null|                  null|                     null|              null|                 null|                          null|                   null|                null|                 null|              null|                     null|                     null|              null|                         null|                null|                 null|                   null|                  null|                null|                  null|                          null|                        null|                    null|               null|            null|            null|               null|                null|                   null|             null|                 null|           00|0000025926393|    2010-03-29|          10000|                  00|       76|              34|          0|                      1|                      1|       201|                   |                 |                          |   AGUIRRE|                |    GONZALO RAMON|                  1|          M|1977-07-22|                    80|                 080|                  201|        100|                         0|                          82|                       21101000|                       0|                    null|                      null|                    null|                      null|                            |                 0|                       0|                  0|                  2|                       null|             null|            PCLE06R|                2|                              1|                  CA|                   47|              null|            null|                    |                      null|   0020259263930|                       042|                null|          016|       002337659|                   N|                   |     001|           2013-08-26|                     null|                2010-03-29|      2016-11-08|              232012|                P37B|          VUELCO|            S|                     null|                   null| 2022-03-10 01:05:...|\n",
            "|   00888642|                   null|               null|          null|       null|              null|                       null|             null|         null|                 null|             null|                   null|      null|           null|       null|              null|                  null|                     null|              null|                 null|                          null|                   null|                null|                 null|              null|                     null|                     null|              null|                         null|                null|                 null|                   null|                  null|                null|                  null|                          null|                        null|                    null|               null|            null|            null|               null|                null|                   null|             null|                 null|           00|0000017409288|    1992-10-29|          10000|                    |       91|              34|          0|                      1|                      1|        66|                   |                 |                          |     CITRO|                |    MARIA CLAUDIA|                  1|          F|1965-03-18|                    80|                 080|                  201|        100|                         0|                          82|                       21101000|                       0|                    null|                      null|                    null|                      null|                           0|                 0|                       0|                  0|                  0|                       null|             null|            PCLE06R|                0|                              1|                  CA|                   47|              null|            null|                    |                      null|   0027174092880|                       042|                null|          016|                |                   N|                   |     001|           2009-01-01|                     null|                1993-09-20|      2000-06-23|              105751|                P37B|          VUELCO|            S|                     null|                   null| 2022-03-10 01:05:...|\n",
            "|   27060621|                   null|               null|          null|       null|              null|                       null|             null|         null|                 null|             null|                   null|      null|           null|       null|              null|                  null|                     null|              null|                 null|                          null|                   null|                null|                 null|              null|                     null|                     null|              null|                         null|                null|                 null|                   null|                  null|                null|                  null|                          null|                        null|                    null|               null|            null|            null|               null|                null|                   null|             null|                 null|           00|0000017411413|    2020-07-29|          10000|                  00|      603|              34|          0|                      1|                      8|      2603|                   |                 |                          |    MENDEZ|                |  ROSARIO BEATRIZ|                  1|          F|1965-04-28|                    80|                 080|                  201|        100|                         0|                          82|                       21101000|                       0|                    null|                      null|                    null|                      null|                           0|                 0|                       0|                  0|                  0|                       null|             null|            PCLE06R|                1|                              1|                  PO|                   47|              null|            null|                    |                      null|   0027174114132|                       042|                null|          016|       027060621|                   N|                 MD|     001|           2020-07-29|                     null|                2020-07-29|      2020-07-29|              003221|                P37B|         PCLE25H|            S|                     null|                   null| 2022-03-10 01:05:...|\n",
            "|   02169869|                   null|               null|          null|       null|              null|                       null|             null|         null|                 null|             null|                   null|      null|           null|       null|              null|                  null|                     null|              null|                 null|                          null|                   null|                null|                 null|              null|                     null|                     null|              null|                         null|                null|                 null|                   null|                  null|                null|                  null|                          null|                        null|                    null|               null|            null|            null|               null|                null|                   null|             null|                 null|           00|0000017411728|    1997-07-14|          10000|                  01|        4|              34|          0|                      1|                      1|      1073|                080|                 |                          |    OLAZAR|                |     CLAUDIO LUIS|                  5|          M|1965-07-06|                    80|                 080|                  201|        100|                         0|                          82|                       21101000|                       0|                    null|                      null|                    null|                      null|                            |                 0|                       0|                  0|                  0|                       null|             null|            PCLE06R|                2|                              1|                  AC|                    4|              null|            null|                    |                      null|   0020174117285|                       042|          1995-01-01|          007|                |                   N|                   |     001|           2018-11-07|                     null|                1997-07-14|      2020-04-29|              230139|                P37C|          VUELCO|            N|                     null|                   null| 2022-03-10 01:05:...|\n",
            "+-----------+-----------------------+-------------------+--------------+-----------+------------------+---------------------------+-----------------+-------------+---------------------+-----------------+-----------------------+----------+---------------+-----------+------------------+----------------------+-------------------------+------------------+---------------------+------------------------------+-----------------------+--------------------+---------------------+------------------+-------------------------+-------------------------+------------------+-----------------------------+--------------------+---------------------+-----------------------+----------------------+--------------------+----------------------+------------------------------+----------------------------+------------------------+-------------------+----------------+----------------+-------------------+--------------------+-----------------------+-----------------+---------------------+-------------+-------------+--------------+---------------+--------------------+---------+----------------+-----------+-----------------------+-----------------------+----------+-------------------+-----------------+--------------------------+----------+----------------+-----------------+-------------------+-----------+----------+----------------------+--------------------+---------------------+-----------+--------------------------+----------------------------+-------------------------------+------------------------+------------------------+--------------------------+------------------------+--------------------------+----------------------------+------------------+------------------------+-------------------+-------------------+---------------------------+-----------------+-------------------+-----------------+-------------------------------+--------------------+---------------------+------------------+----------------+--------------------+--------------------------+----------------+--------------------------+--------------------+-------------+----------------+--------------------+-------------------+--------+---------------------+-------------------------+--------------------------+----------------+--------------------+--------------------+----------------+-------------+-------------------------+-----------------------+---------------------+\n",
            "only showing top 20 rows\n",
            "\n"
          ]
        }
      ]
    },
    {
      "cell_type": "code",
      "source": [
        "df_address.show()"
      ],
      "metadata": {
        "colab": {
          "base_uri": "https://localhost:8080/"
        },
        "id": "9Z9ZKqwwpGbb",
        "outputId": "3d51d5d2-3c84-4e1c-dfcd-52d9cf50a01d"
      },
      "execution_count": 47,
      "outputs": [
        {
          "output_type": "stream",
          "name": "stdout",
          "text": [
            "+-----------+-----------------------+-------------------+--------------+--------------------+------------------+---------------------------+-----------------+-------------+---------------------+--------------------+-----------------------+----------+---------------+-----------+------------------+----------------------+-------------------------+------------------+---------------------+------------------------------+-----------------------+--------------------+---------------------+------------------+-------------------------+-------------------------+------------------+-----------------------------+--------------------+---------------------+-----------------------+----------------------+--------------------+----------------------+------------------------------+----------------------------+------------------------+-------------------+----------------+----------------+-------------------+--------------------+-----------------------+-----------------+---------------------+\n",
            "|customer_id|address_priority_number|address_sequence_id|residence_type|         street_name|address_outdoor_id|address_without_number_type|address_indoor_id|indoor_number|address_district_name|   address_town_name|address_department_name|zipcode_id|long_zipcode_id|province_id|address_country_id|other_information_desc|address_relationship_type|address_start_date|address_verified_date|customer_locator_verified_type|address_status_mod_date|contact_channel_type|sender_application_id|returned_mail_type|normalization_status_type|normalization_reason_name|normalization_date|normalized_level_match_number|dlvy_day_monday_type|dlvy_day_tuesday_type|dlvy_day_wednesday_type|dlvy_day_thursday_type|dlvy_day_friday_type|dlvy_day_saturday_type|delivery_contact_start_hm_date|delivery_contact_end_hm_date|prev_address_sequence_id|registry_entry_date|register_user_id|last_change_date|last_change_user_id|last_change_hms_date|last_change_terminal_id|registration_type|operational_load_date|\n",
            "+-----------+-----------------------+-------------------+--------------+--------------------+------------------+---------------------------+-----------------+-------------+---------------------+--------------------+-----------------------+----------+---------------+-----------+------------------+----------------------+-------------------------+------------------+---------------------+------------------------------+-----------------------+--------------------+---------------------+------------------+-------------------------+-------------------------+------------------+-----------------------------+--------------------+---------------------+-----------------------+----------------------+--------------------+----------------------+------------------------------+----------------------------+------------------------+-------------------+----------------+----------------+-------------------+--------------------+-----------------------+-----------------+---------------------+\n",
            "|   00000003|                      1|                  0|            06|AV PRES BARTOLOME...|           0001500|                          N|                 |             |                  ...|CRUCESITA        ...|   AVELLANEDA       ...|     01870|       B1873AMN|         02|               080|                   ...|                        0|              null|                 null|                    DECLARADO |             2011-09-07|                  01|                 CTES|                 0|               NORM AUTO |               CO        |        2011-09-07|                         0.00|                    |                     |                       |                      |                    |                      |                          0000|                        0000|                       0|         2011-09-07|        XA02735 |      2011-09-07|           XA02735 |              111900|                   M911|                -| 2022-01-13 21:32:...|\n",
            "|   00000009|                      1|                 44|            06|CNEL AREVALO     ...|           0002391|                          N|                 |             |                  ...|CIUDAD AUTONOMA B...|   CAPITAL FEDERAL  ...|     01425|       C1425FZE|         01|               080|                   ...|                        0|              null|                 null|                    VALIDADO  |             2014-07-22|                  01|                 WKFL|                 0|               NORM AUTO |               CO        |        2008-12-05|                         0.00|                   X|                    X|                      X|                     X|                   X|                     X|                          0900|                        1800|                       0|         2008-12-05|        E05085  |      2014-07-22|           XA03406 |              145035|                   D257|                -| 2022-01-13 21:32:...|\n",
            "|   00000009|                      4|                  2|            10|VENEZUELA 538    ...|           23     |                          1|         1       |      CAPITAL| MONSERRAT        ...|                 ...|   112233114455     ...|     11111|       11111111|         11|               11 |                   ...|                        4|        2006-02-01|           2008-04-05|                    1154      |             1999-02-02|                  12|                 1111|                 0|               11215     |               21245     |        2000-02-03|                         0.01|                   S|                    S|                      S|                     S|                   S|                     S|                          0900|                        2200|                      15|         0000-12-30|        E025255 |      2017-04-18|           PLCE31K |              104150|                   E31K|                -| 2022-01-13 21:32:...|\n",
            "|   00000011|                      2|                  1|            03|AV FELIX DE OLAZA...|           0005392|                          N|         1       |      C      |                  ...|CIUDAD AUTONOMA B...|   CAPITAL FEDERAL  ...|     01431|       C1431CGW|         01|               080|                   ...|                        1|        1994-04-01|           1998-05-27|                    NO VERIF  |             2007-12-21|                  00|                 VLCO|                 0|               NORM AUTO |               CO        |        2007-11-01|                         0.00|                    |                     |                       |                      |                    |                      |                          0000|                        0000|                       1|         1999-10-14|                |      2007-11-02|           PCLE12F |              174055|                   CONV|                -| 2022-01-13 21:32:...|\n",
            "|   00000027|                      4|                  0|            01|HEROES DE MALVI  ...|           0001944|                          N|         00      |             |                  ...|LANUS            ...|   112233114455     ...|     01824|               |         02|               080|                   ...|                        4|        1976-02-20|           1998-12-18|                              |                   null|                  00|                 VLCO|                 0|               NORM AUTO |               1234567891|        2007-11-10|                         0.00|                    |                     |                       |                      |                    |                      |                          0000|                        0000|                       2|         1998-06-05|                |      1998-12-18|           A72515  |              175140|                   1590|                -| 2022-01-13 21:32:...|\n",
            "|   00000027|                      1|                  2|            05|PJE JACHAL       ...|           0003547|                          N|                 |             |                  ...|CIUDAD AUTONOMA B...|   CAPITAL FEDERAL  ...|     01417|       C1417GSA|         01|               080|                   ...|                        0|              null|                 null|                    DECLARADO |             2008-12-05|                  01|                 CTES|                 0|               NORM AUTO |               CO        |        2008-12-05|                         0.00|                    |                     |                       |                      |                    |                      |                          0000|                        0000|                       0|         2008-12-05|        E023466 |      2008-12-05|           E023466 |              114633|                   M920|                -| 2022-01-13 21:32:...|\n",
            "|   00000027|                      1|                  3|            06|AVENIDA DE MAYO  ...|           0001465|                          N|         2       |      AA     | CABA             ...|CIUDAD AUTONOMA B...|   CAPITAL FEDERAL  ...|     01098|       C1098ABC|         02|               080|                   ...|                        0|        1996-01-31|           1996-02-27|                    DECLARADO |             2010-01-25|                  01|                 WKFL|                 0|               NORM AUTO |               CO        |        2010-01-25|                         0.00|                   X|                    X|                      X|                     X|                   X|                     X|                          0900|                        1800|                       0|         2010-01-25|        XA01645 |      2010-01-25|           XA01645 |              172559|                   M936|                -| 2022-01-13 21:32:...|\n",
            "|   00000028|                      1|                  0|            06|NECOCHEA         ...|           0004653|                          N|         35      |      1      |                  ...|LA TABLADA       ...|   LA MATANZA       ...|     01766|       B1766FVO|         02|               080|                   ...|                        0|              null|                 null|                              |                   null|                  01|                 CTES|                 0|               NORM AUTO |               1234567891|        2007-11-10|                         0.00|                    |                     |                       |                      |                    |                      |                          0000|                        0000|                       0|         2007-11-20|        A115546 |      2017-04-18|           PLCE31K |              104150|                   E31K|                -| 2022-01-13 21:32:...|\n",
            "|   00000035|                      1|                  0|            06|AGUSTIN ALVAREZ  ...|           0003051|                          N|                 |             |                  ...|FLORIDA          ...|   VICENTE LOPEZ    ...|     01602|       B1602ECE|         02|               080|                   ...|                        0|              null|                 null|                    DECLARADO |             2010-12-20|                  01|                 CTES|                 0|               NORM AUTO |               CO        |        2010-12-20|                         0.00|                    |                     |                       |                      |                    |                      |                          0000|                        0000|                       0|         2008-07-15|        E05085  |      2017-04-18|           PLCE31K |              104150|                   E31K|                -| 2022-01-13 21:32:...|\n",
            "|   00000035|                      1|                  2|            06|ALMONACID        ...|           0000238|                          N|                 |             |                  ...|MANUEL ALBERTI   ...|   PILAR            ...|     01667|       B1664CIF|         02|               080|                   ...|                        0|              null|                 null|                    NO VERIF  |             2008-07-16|                  00|                 CTES|                 0|               NORM AUTO |               CO        |        2008-07-16|                         0.00|                    |                     |                       |                      |                    |                      |                          0000|                        0000|                       0|         2008-07-16|        PCLE510 |      2017-04-18|           PLCE31K |              104150|                   E31K|                -| 2022-01-13 21:32:...|\n",
            "|   00000035|                      1|                  9|            06|AGUSTIN ALVAREZ  ...|           0003051|                          N|                 |             |                  ...|                 ...|   VICENTE LOPEZ    ...|     01602|               |         02|               080|                   ...|                        0|              null|                 null|                    DECLARADO |             2016-10-12|                  1 |                 CLIE|                 0|                         |               SDSM      |              null|                         0.00|                    |                     |                       |                      |                    |                      |                          0000|                        0000|                       0|         2016-10-12|        PCLE30T |      2016-10-12|           PCLE30T |              143547|                   BATC|                -| 2022-01-13 21:32:...|\n",
            "|   00000035|                      1|                 10|            06|ALMONACID        ...|           0000238|                          N|                 |             |                  ...|                 ...|   PILAR            ...|     01667|               |         02|               080|                   ...|                        0|              null|                 null|                    DECLARADO |             2016-10-12|                  1 |                 CLIE|                 0|                         |               SDSM      |              null|                         0.00|                    |                     |                       |                      |                    |                      |                          0000|                        0000|                       0|         2016-10-12|        PCLE30T |      2016-10-12|           PCLE30T |              143547|                   BATC|                -| 2022-01-13 21:32:...|\n",
            "|   00000050|                      1|                  0|            06|DR A ALSINA      ...|           0002849|                          N|                 |             |                  ...|FLORIDA          ...|   VICENTE LOPEZ    ...|     01602|       B1602EEA|         02|               080|                   ...|                        1|        1997-12-12|                 null|                    DECLARADO |             2010-12-20|                  01|                 CTES|                 0|               NORM AUTO |               CO        |        2010-12-20|                         0.00|                    |                     |                       |                      |                    |                      |                          0000|                        0000|                       0|         2008-07-16|        E05085  |      2017-04-18|           PLCE31K |              104150|                   E31K|                -| 2022-01-13 21:32:...|\n",
            "|   00000050|                      1|                  5|            06|DR A ALSINA      ...|           0002849|                          N|                 |             |                  ...|                 ...|   VICENTE LOPEZ    ...|     01602|               |         02|               080|                   ...|                        0|              null|                 null|                    DECLARADO |             2016-10-12|                  1 |                 CLIE|                 0|                         |               SDSM      |              null|                         0.00|                    |                     |                       |                      |                    |                      |                          0000|                        0000|                       0|         2016-10-12|        PCLE30T |      2016-10-12|           PCLE30T |              143547|                   BATC|                -| 2022-01-13 21:32:...|\n",
            "|   00000052|                      3|                  2|            01|FRAY LUIS BELTRAN...|           0000707|                          N|                 |             |                  ...|CIUDAD AUTONOMA B...|   CAPITAL FEDERAL  ...|     01063|       C1063ACH|         01|               080|                   ...|                        0|              null|           2000-05-18|                    NO VERIF  |             2007-12-21|                  00|                 VLCO|                 0|               NORM AUTO |               CO        |        2007-09-24|                         0.00|                    |                     |                       |                      |                    |                      |                          0000|                        0000|                       3|         1997-06-26|                |      2013-01-17|           XA05033 |              111406|                   D229|                -| 2022-01-13 21:32:...|\n",
            "|   00000052|                      1|                  0|            06|GRAL LAS HERAS   ...|           0002586|                          N|                 |             |                  ...|FLORIDA          ...|   VICENTE LOPEZ    ...|     01602|       B1602DWV|         02|               080|                   ...|                        1|        1997-12-12|                 null|                    DECLARADO |             2008-07-16|                  01|                 CTES|                 0|               NORM AUTO |               CO        |        2008-07-16|                         0.00|                    |                     |                       |                      |                    |                      |                          0000|                        0000|                       0|         2008-07-16|        E05085  |      2017-04-18|           PLCE31K |              104150|                   E31K|                -| 2022-01-13 21:32:...|\n",
            "|   00000052|                      1|                  3|            06|FRAY LUIS BELTRAN...|           0000075|                          N|                 |             |                  ...|CIUDAD AUTONOMA B...|   CAPITAL FEDERAL  ...|     01003|       C1003ABA|         01|               080|                   ...|                        1|        1997-12-12|                 null|                    DECLARADO |             2008-07-16|                  01|                 CTES|                 0|               NORM AUTO |               CO        |        2008-07-16|                         0.00|                    |                     |                       |                      |                    |                      |                          0000|                        0000|                       0|         2008-07-16|        E091230 |      2017-04-18|           PLCE31K |              104150|                   E31K|                -| 2022-01-13 21:32:...|\n",
            "|   00000052|                      1|                  7|            06|GRAL LAS HERAS   ...|           0002586|                          N|                 |             |                  ...|                 ...|   VICENTE LOPEZ    ...|     01602|               |         02|               080|                   ...|                        0|              null|                 null|                    DECLARADO |             2016-10-12|                  1 |                 CLIE|                 0|                         |               SDSM      |              null|                         0.00|                    |                     |                       |                      |                    |                      |                          0000|                        0000|                       0|         2016-10-12|        PCLE30T |      2016-10-12|           PCLE30T |              143547|                   BATC|                -| 2022-01-13 21:32:...|\n",
            "|   25567249|                      1|                  0|            06|RIO IGUAZU       ...|           0001768|                          N|                 |             |                  ...|VILLA VATTEONE   ...|   FLORENCIO VARELA ...|     01888|       B1853ASD|         02|               080|                   ...|                        0|              null|                 null|                    NO VERIF  |             2008-07-16|                  00|                 CTES|                 0|               NORM AUTO |               CO        |        2008-07-16|                         0.00|                    |                     |                       |                      |                    |                      |                          0000|                        0000|                       0|         2008-07-16|        PCLE510 |      2017-04-21|           PLCE31K |              110911|                   E31K|                -| 2022-01-13 21:32:...|\n",
            "|   01096851|                      1|                  0|            06|RIO BERMEJO      ...|           0001948|                          N|                 |             |                  ...|VILLA VATTEONE   ...|   FLORENCIO VARELA ...|     01888|       B1853GXJ|         02|               080|                   ...|                        0|              null|                 null|                    NO VERIF  |             2008-07-16|                  00|                 CTES|                 0|               NORM AUTO |               CO        |        2008-07-16|                         0.00|                    |                     |                       |                      |                    |                      |                          0000|                        0000|                       0|         2008-07-16|        PCLE510 |      2017-04-18|           PLCE31K |              104150|                   E31K|                -| 2022-01-13 21:32:...|\n",
            "+-----------+-----------------------+-------------------+--------------+--------------------+------------------+---------------------------+-----------------+-------------+---------------------+--------------------+-----------------------+----------+---------------+-----------+------------------+----------------------+-------------------------+------------------+---------------------+------------------------------+-----------------------+--------------------+---------------------+------------------+-------------------------+-------------------------+------------------+-----------------------------+--------------------+---------------------+-----------------------+----------------------+--------------------+----------------------+------------------------------+----------------------------+------------------------+-------------------+----------------+----------------+-------------------+--------------------+-----------------------+-----------------+---------------------+\n",
            "only showing top 20 rows\n",
            "\n"
          ]
        }
      ]
    },
    {
      "cell_type": "code",
      "source": [],
      "metadata": {
        "id": "KBQ2fRA1qPdJ"
      },
      "execution_count": null,
      "outputs": []
    }
  ]
}