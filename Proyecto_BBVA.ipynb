{
  "nbformat": 4,
  "nbformat_minor": 0,
  "metadata": {
    "colab": {
      "provenance": [],
      "mount_file_id": "1XGT2igqqV9AdE_iPgjsdx5Z1W3QAv3FY",
      "authorship_tag": "ABX9TyPBQiGQ/00cArm+kEyZ2i3V",
      "include_colab_link": true
    },
    "kernelspec": {
      "name": "python3",
      "display_name": "Python 3"
    },
    "language_info": {
      "name": "python"
    }
  },
  "cells": [
    {
      "cell_type": "markdown",
      "metadata": {
        "id": "view-in-github",
        "colab_type": "text"
      },
      "source": [
        "<a href=\"https://colab.research.google.com/github/iGhostlp/Albus/blob/severus/Proyecto_BBVA.ipynb\" target=\"_parent\"><img src=\"https://colab.research.google.com/assets/colab-badge.svg\" alt=\"Open In Colab\"/></a>"
      ]
    },
    {
      "cell_type": "code",
      "source": [
        "!apt-get install openjdk-8-jdk-headless -qq > /dev/null"
      ],
      "metadata": {
        "id": "bEAwOI09S5T2"
      },
      "execution_count": 12,
      "outputs": []
    },
    {
      "cell_type": "code",
      "source": [
        "!wget -q https://dlcdn.apache.org/spark/spark-3.3.2/spark-3.3.2-bin-hadoop3.tgz"
      ],
      "metadata": {
        "id": "ozLs2gYdS83_"
      },
      "execution_count": 13,
      "outputs": []
    },
    {
      "cell_type": "code",
      "source": [
        "ls"
      ],
      "metadata": {
        "colab": {
          "base_uri": "https://localhost:8080/"
        },
        "id": "iu40EdRwrqvG",
        "outputId": "eaa330a8-1e1d-4a8f-f9eb-75db86185df0"
      },
      "execution_count": 14,
      "outputs": [
        {
          "output_type": "stream",
          "name": "stdout",
          "text": [
            "\u001b[0m\u001b[01;34mDatasets\u001b[0m/  \u001b[01;34msample_data\u001b[0m/  spark-3.3.2-bin-hadoop3.tgz\n"
          ]
        }
      ]
    },
    {
      "cell_type": "code",
      "source": [
        "!tar xf spark-3.3.2-bin-hadoop3.tgz\n"
      ],
      "metadata": {
        "id": "P8LniTLfqxn2"
      },
      "execution_count": 15,
      "outputs": []
    },
    {
      "cell_type": "code",
      "source": [
        "!java -version"
      ],
      "metadata": {
        "colab": {
          "base_uri": "https://localhost:8080/"
        },
        "id": "x0KRBVbzwLIx",
        "outputId": "7b91b8f6-4f06-41d9-a195-2bc28daa581f"
      },
      "execution_count": 16,
      "outputs": [
        {
          "output_type": "stream",
          "name": "stdout",
          "text": [
            "openjdk version \"11.0.18\" 2023-01-17\n",
            "OpenJDK Runtime Environment (build 11.0.18+10-post-Ubuntu-0ubuntu120.04.1)\n",
            "OpenJDK 64-Bit Server VM (build 11.0.18+10-post-Ubuntu-0ubuntu120.04.1, mixed mode, sharing)\n"
          ]
        }
      ]
    },
    {
      "cell_type": "code",
      "source": [
        "!readlink -f $(which java) | sed \"s:bin/java::\"\n"
      ],
      "metadata": {
        "colab": {
          "base_uri": "https://localhost:8080/"
        },
        "id": "420RQAADxMI1",
        "outputId": "648185ac-3206-4d38-ed50-d375ac035c46"
      },
      "execution_count": 17,
      "outputs": [
        {
          "output_type": "stream",
          "name": "stdout",
          "text": [
            "/usr/lib/jvm/java-11-openjdk-amd64/\n"
          ]
        }
      ]
    },
    {
      "cell_type": "code",
      "source": [
        "!echo $JAVA_HOME"
      ],
      "metadata": {
        "colab": {
          "base_uri": "https://localhost:8080/"
        },
        "id": "umf4RhEvx04m",
        "outputId": "aeb76883-9970-4e3c-8105-d86a249b4926"
      },
      "execution_count": 18,
      "outputs": [
        {
          "output_type": "stream",
          "name": "stdout",
          "text": [
            "/usr/lib/jvm/java-11-openjdk-amd64\n"
          ]
        }
      ]
    },
    {
      "cell_type": "code",
      "source": [
        "!pip install -q findspark\n"
      ],
      "metadata": {
        "id": "xgFprvu-sBQ_"
      },
      "execution_count": 19,
      "outputs": []
    },
    {
      "cell_type": "code",
      "source": [
        "!pip install pyspark "
      ],
      "metadata": {
        "colab": {
          "base_uri": "https://localhost:8080/"
        },
        "id": "rkP7aL9FZyfl",
        "outputId": "fc528410-8d33-428b-d115-c417a7ed2f02"
      },
      "execution_count": 20,
      "outputs": [
        {
          "output_type": "stream",
          "name": "stdout",
          "text": [
            "Looking in indexes: https://pypi.org/simple, https://us-python.pkg.dev/colab-wheels/public/simple/\n",
            "Requirement already satisfied: pyspark in /usr/local/lib/python3.9/dist-packages (3.3.2)\n",
            "Requirement already satisfied: py4j==0.10.9.5 in /usr/local/lib/python3.9/dist-packages (from pyspark) (0.10.9.5)\n"
          ]
        }
      ]
    },
    {
      "cell_type": "code",
      "source": [
        "import os\n",
        "os.environ[\"JAVA_HOME\"] = \"/usr/lib/jvm/java-11-openjdk-amd64\"\n",
        "os.environ[\"SPARK_HOME\"] = '/content/spark-3.3.2-bin-hadoop3'"
      ],
      "metadata": {
        "id": "fqKj66wKr4Kz"
      },
      "execution_count": 21,
      "outputs": []
    },
    {
      "cell_type": "code",
      "source": [
        "import findspark\n"
      ],
      "metadata": {
        "id": "OOLeuFZwsEXS"
      },
      "execution_count": 22,
      "outputs": []
    },
    {
      "cell_type": "code",
      "source": [
        "import pandas as pd\n"
      ],
      "metadata": {
        "id": "IqbsIKBXZOVl"
      },
      "execution_count": 51,
      "outputs": []
    },
    {
      "cell_type": "code",
      "source": [
        "findspark.init()\n"
      ],
      "metadata": {
        "id": "I2RROl2rsGna"
      },
      "execution_count": 23,
      "outputs": []
    },
    {
      "cell_type": "code",
      "source": [
        "findspark.find()\n"
      ],
      "metadata": {
        "colab": {
          "base_uri": "https://localhost:8080/",
          "height": 36
        },
        "id": "r96QSEHksI2p",
        "outputId": "92263ff5-16d6-466a-c76c-3aa5e7598fca"
      },
      "execution_count": 24,
      "outputs": [
        {
          "output_type": "execute_result",
          "data": {
            "text/plain": [
              "'/content/spark-3.3.2-bin-hadoop3'"
            ],
            "application/vnd.google.colaboratory.intrinsic+json": {
              "type": "string"
            }
          },
          "metadata": {},
          "execution_count": 24
        }
      ]
    },
    {
      "cell_type": "code",
      "source": [
        "from pyspark.sql import SparkSession\n"
      ],
      "metadata": {
        "id": "zkkuHDHZsLe1"
      },
      "execution_count": 83,
      "outputs": []
    },
    {
      "cell_type": "code",
      "source": [
        "from pyspark.sql.functions import col\n"
      ],
      "metadata": {
        "id": "yZ0T8x_vsVjb"
      },
      "execution_count": 84,
      "outputs": []
    },
    {
      "cell_type": "code",
      "source": [
        "spark = SparkSession.builder.master(\"local[*]\").config('spark.sql.parquet.datetimeRebaseModeInRead','CORRECTED').getOrCreate()\n"
      ],
      "metadata": {
        "id": "fKnQKd_ysNhm"
      },
      "execution_count": 85,
      "outputs": []
    },
    {
      "cell_type": "code",
      "source": [
        "spark"
      ],
      "metadata": {
        "colab": {
          "base_uri": "https://localhost:8080/",
          "height": 219
        },
        "id": "EqYpq6dLUwyg",
        "outputId": "8621fc66-787e-4140-e57a-ff836553d052"
      },
      "execution_count": 86,
      "outputs": [
        {
          "output_type": "execute_result",
          "data": {
            "text/plain": [
              "<pyspark.sql.session.SparkSession at 0x7f9ce96c5820>"
            ],
            "text/html": [
              "\n",
              "            <div>\n",
              "                <p><b>SparkSession - in-memory</b></p>\n",
              "                \n",
              "        <div>\n",
              "            <p><b>SparkContext</b></p>\n",
              "\n",
              "            <p><a href=\"http://6496a62be749:4040\">Spark UI</a></p>\n",
              "\n",
              "            <dl>\n",
              "              <dt>Version</dt>\n",
              "                <dd><code>v3.3.2</code></dd>\n",
              "              <dt>Master</dt>\n",
              "                <dd><code>local[*]</code></dd>\n",
              "              <dt>AppName</dt>\n",
              "                <dd><code>pyspark-shell</code></dd>\n",
              "            </dl>\n",
              "        </div>\n",
              "        \n",
              "            </div>\n",
              "        "
            ]
          },
          "metadata": {},
          "execution_count": 86
        }
      ]
    },
    {
      "cell_type": "code",
      "source": [
        "path_address = '/content/Datasets/address.snappy.parquet'\n",
        "path_customer_basics = '/content/Datasets/customer_basics.snappy.parquet'\n",
        "path_customer = '/content/Datasets/customer.snappy.parquet'\n",
        "path_mails = '/content/Datasets/email.snappy.parquet'\n",
        "path_phones = '/content/Datasets/phones.snappy.parquet'\n"
      ],
      "metadata": {
        "id": "OYR7NPBIUyCy"
      },
      "execution_count": 87,
      "outputs": []
    },
    {
      "cell_type": "code",
      "source": [
        "df_address = spark.read.load(path_address, sep=',' , inferschema= 'true', header = 'true')\n",
        "\n",
        "df_customerb = spark.read.load(path_customer_basics, sep = ',' , inferschema = 'true', header = 'true')\n",
        "\n",
        "df_customer = spark.read.load(path_customer, sep = ',' , inferschema = 'true', header = 'true')\n",
        "\n",
        "df_mail = spark.read.load(path_mails, sep = ',' , inferschema = 'true', header = 'true')\n",
        "\n",
        "df_phones = spark.read.load(path_phones, sep = ',' , inferschema = 'true', header = 'true')\n",
        "\n"
      ],
      "metadata": {
        "id": "VvzFJQCXVp0O"
      },
      "execution_count": 88,
      "outputs": []
    },
    {
      "cell_type": "code",
      "source": [
        "df_customerb.toPandas()"
      ],
      "metadata": {
        "colab": {
          "base_uri": "https://localhost:8080/",
          "height": 487
        },
        "id": "H9ErYS5CcsbX",
        "outputId": "6c3efbf9-c50d-4b3f-9008-5d6224c56bac"
      },
      "execution_count": 89,
      "outputs": [
        {
          "output_type": "execute_result",
          "data": {
            "text/plain": [
              "     customer_id personal_type    personal_id admission_date sale_channel_id  \\\n",
              "0       01157212            00  0000013226627     2008-08-28           10000   \n",
              "1       26745469            00  0000013226860     2020-04-20           10000   \n",
              "2       19403025            27  0000007880359     2012-03-28           10000   \n",
              "3       19963134            27  0000007882950     2013-05-28           10000   \n",
              "4       06916693            27  0000007883500     2006-04-04           10000   \n",
              "...          ...           ...            ...            ...             ...   \n",
              "1610    20336532            31  0000093907052     2013-12-23           10000   \n",
              "1611    24405935            31  0000093917909     2018-02-01           10000   \n",
              "1612    03979302            31  0000093918618     2011-08-05           10000   \n",
              "1613    19776813            31  0000093920693     2013-01-14           10000   \n",
              "1614    06086785            31  0000093923513     2003-03-06           10000   \n",
              "\n",
              "     operation_channel_id  branch_id  business_area_id campaing_id  \\\n",
              "0                      00         74                30           0   \n",
              "1                      00        243                30           0   \n",
              "2                      00        418                34           0   \n",
              "3                      01        259                30           0   \n",
              "4                                207                34           0   \n",
              "...                   ...        ...               ...         ...   \n",
              "1610                   00        141                34           0   \n",
              "1611                   01        210                34           0   \n",
              "1612                   00        156                34           0   \n",
              "1613                   00         66                34           0   \n",
              "1614                   01        118                34           0   \n",
              "\n",
              "      customer_situation_type  ...  customer_first_block_date  \\\n",
              "0                           1  ...                       None   \n",
              "1                           1  ...                       None   \n",
              "2                           1  ...                       None   \n",
              "3                           1  ...                       None   \n",
              "4                           1  ...                       None   \n",
              "...                       ...  ...                        ...   \n",
              "1610                        1  ...                       None   \n",
              "1611                        1  ...                       None   \n",
              "1612                        1  ...                       None   \n",
              "1613                        1  ...                       None   \n",
              "1614                        1  ...                       None   \n",
              "\n",
              "      customer_registration_date last_change_date last_change_hms_date  \\\n",
              "0                     2008-08-28       2021-09-16               112634   \n",
              "1                     2020-04-20       2020-06-25               174211   \n",
              "2                     2012-03-28       2013-04-20               175404   \n",
              "3                     2013-05-28       2013-05-28               175554   \n",
              "4                     2006-04-04       2013-02-27               174517   \n",
              "...                          ...              ...                  ...   \n",
              "1610                  2013-12-23       2017-08-16               225946   \n",
              "1611                  2018-02-01       2018-02-01               145946   \n",
              "1612                  2011-08-05       2011-08-05               161548   \n",
              "1613                  2013-01-14       2013-01-14               162455   \n",
              "1614                  2003-03-06       2003-04-02               042136   \n",
              "\n",
              "     register_terminal_id register_user_id customer_type  \\\n",
              "0                    3633           VUELCO             N   \n",
              "1                    P37B          PCLE510             N   \n",
              "2                    P37B          PCLE10P             S   \n",
              "3                    P37B          A118096             S   \n",
              "4                    P37B           VUELCO             S   \n",
              "...                   ...              ...           ...   \n",
              "1610                 P37B          PCLE10P             S   \n",
              "1611                 P37B          A116396             S   \n",
              "1612                 P37B          PCLE10P             S   \n",
              "1613                 P37B          PCLE10P             S   \n",
              "1614                 P37B           VUELCO             S   \n",
              "\n",
              "     customer_seniority_number  last_status_change_date  \\\n",
              "0                         None                     None   \n",
              "1                         None               2020-05-18   \n",
              "2                         None                     None   \n",
              "3                         None                     None   \n",
              "4                         None                     None   \n",
              "...                        ...                      ...   \n",
              "1610                      None               2015-10-01   \n",
              "1611                      None               2018-02-01   \n",
              "1612                      None                     None   \n",
              "1613                      None                     None   \n",
              "1614                      None                     None   \n",
              "\n",
              "       operational_load_date  \n",
              "0    2022-03-10 01:05:30.551  \n",
              "1    2022-03-10 01:05:30.551  \n",
              "2    2022-03-10 01:05:30.551  \n",
              "3    2022-03-10 01:05:30.551  \n",
              "4    2022-03-10 01:05:30.551  \n",
              "...                      ...  \n",
              "1610 2022-03-10 01:05:30.551  \n",
              "1611 2022-03-10 01:05:30.551  \n",
              "1612 2022-03-10 01:05:30.551  \n",
              "1613 2022-03-10 01:05:30.551  \n",
              "1614 2022-03-10 01:05:30.551  \n",
              "\n",
              "[1615 rows x 68 columns]"
            ],
            "text/html": [
              "\n",
              "  <div id=\"df-536db6f3-63bb-430f-b348-6f8ceed17721\">\n",
              "    <div class=\"colab-df-container\">\n",
              "      <div>\n",
              "<style scoped>\n",
              "    .dataframe tbody tr th:only-of-type {\n",
              "        vertical-align: middle;\n",
              "    }\n",
              "\n",
              "    .dataframe tbody tr th {\n",
              "        vertical-align: top;\n",
              "    }\n",
              "\n",
              "    .dataframe thead th {\n",
              "        text-align: right;\n",
              "    }\n",
              "</style>\n",
              "<table border=\"1\" class=\"dataframe\">\n",
              "  <thead>\n",
              "    <tr style=\"text-align: right;\">\n",
              "      <th></th>\n",
              "      <th>customer_id</th>\n",
              "      <th>personal_type</th>\n",
              "      <th>personal_id</th>\n",
              "      <th>admission_date</th>\n",
              "      <th>sale_channel_id</th>\n",
              "      <th>operation_channel_id</th>\n",
              "      <th>branch_id</th>\n",
              "      <th>business_area_id</th>\n",
              "      <th>campaing_id</th>\n",
              "      <th>customer_situation_type</th>\n",
              "      <th>...</th>\n",
              "      <th>customer_first_block_date</th>\n",
              "      <th>customer_registration_date</th>\n",
              "      <th>last_change_date</th>\n",
              "      <th>last_change_hms_date</th>\n",
              "      <th>register_terminal_id</th>\n",
              "      <th>register_user_id</th>\n",
              "      <th>customer_type</th>\n",
              "      <th>customer_seniority_number</th>\n",
              "      <th>last_status_change_date</th>\n",
              "      <th>operational_load_date</th>\n",
              "    </tr>\n",
              "  </thead>\n",
              "  <tbody>\n",
              "    <tr>\n",
              "      <th>0</th>\n",
              "      <td>01157212</td>\n",
              "      <td>00</td>\n",
              "      <td>0000013226627</td>\n",
              "      <td>2008-08-28</td>\n",
              "      <td>10000</td>\n",
              "      <td>00</td>\n",
              "      <td>74</td>\n",
              "      <td>30</td>\n",
              "      <td>0</td>\n",
              "      <td>1</td>\n",
              "      <td>...</td>\n",
              "      <td>None</td>\n",
              "      <td>2008-08-28</td>\n",
              "      <td>2021-09-16</td>\n",
              "      <td>112634</td>\n",
              "      <td>3633</td>\n",
              "      <td>VUELCO</td>\n",
              "      <td>N</td>\n",
              "      <td>None</td>\n",
              "      <td>None</td>\n",
              "      <td>2022-03-10 01:05:30.551</td>\n",
              "    </tr>\n",
              "    <tr>\n",
              "      <th>1</th>\n",
              "      <td>26745469</td>\n",
              "      <td>00</td>\n",
              "      <td>0000013226860</td>\n",
              "      <td>2020-04-20</td>\n",
              "      <td>10000</td>\n",
              "      <td>00</td>\n",
              "      <td>243</td>\n",
              "      <td>30</td>\n",
              "      <td>0</td>\n",
              "      <td>1</td>\n",
              "      <td>...</td>\n",
              "      <td>None</td>\n",
              "      <td>2020-04-20</td>\n",
              "      <td>2020-06-25</td>\n",
              "      <td>174211</td>\n",
              "      <td>P37B</td>\n",
              "      <td>PCLE510</td>\n",
              "      <td>N</td>\n",
              "      <td>None</td>\n",
              "      <td>2020-05-18</td>\n",
              "      <td>2022-03-10 01:05:30.551</td>\n",
              "    </tr>\n",
              "    <tr>\n",
              "      <th>2</th>\n",
              "      <td>19403025</td>\n",
              "      <td>27</td>\n",
              "      <td>0000007880359</td>\n",
              "      <td>2012-03-28</td>\n",
              "      <td>10000</td>\n",
              "      <td>00</td>\n",
              "      <td>418</td>\n",
              "      <td>34</td>\n",
              "      <td>0</td>\n",
              "      <td>1</td>\n",
              "      <td>...</td>\n",
              "      <td>None</td>\n",
              "      <td>2012-03-28</td>\n",
              "      <td>2013-04-20</td>\n",
              "      <td>175404</td>\n",
              "      <td>P37B</td>\n",
              "      <td>PCLE10P</td>\n",
              "      <td>S</td>\n",
              "      <td>None</td>\n",
              "      <td>None</td>\n",
              "      <td>2022-03-10 01:05:30.551</td>\n",
              "    </tr>\n",
              "    <tr>\n",
              "      <th>3</th>\n",
              "      <td>19963134</td>\n",
              "      <td>27</td>\n",
              "      <td>0000007882950</td>\n",
              "      <td>2013-05-28</td>\n",
              "      <td>10000</td>\n",
              "      <td>01</td>\n",
              "      <td>259</td>\n",
              "      <td>30</td>\n",
              "      <td>0</td>\n",
              "      <td>1</td>\n",
              "      <td>...</td>\n",
              "      <td>None</td>\n",
              "      <td>2013-05-28</td>\n",
              "      <td>2013-05-28</td>\n",
              "      <td>175554</td>\n",
              "      <td>P37B</td>\n",
              "      <td>A118096</td>\n",
              "      <td>S</td>\n",
              "      <td>None</td>\n",
              "      <td>None</td>\n",
              "      <td>2022-03-10 01:05:30.551</td>\n",
              "    </tr>\n",
              "    <tr>\n",
              "      <th>4</th>\n",
              "      <td>06916693</td>\n",
              "      <td>27</td>\n",
              "      <td>0000007883500</td>\n",
              "      <td>2006-04-04</td>\n",
              "      <td>10000</td>\n",
              "      <td></td>\n",
              "      <td>207</td>\n",
              "      <td>34</td>\n",
              "      <td>0</td>\n",
              "      <td>1</td>\n",
              "      <td>...</td>\n",
              "      <td>None</td>\n",
              "      <td>2006-04-04</td>\n",
              "      <td>2013-02-27</td>\n",
              "      <td>174517</td>\n",
              "      <td>P37B</td>\n",
              "      <td>VUELCO</td>\n",
              "      <td>S</td>\n",
              "      <td>None</td>\n",
              "      <td>None</td>\n",
              "      <td>2022-03-10 01:05:30.551</td>\n",
              "    </tr>\n",
              "    <tr>\n",
              "      <th>...</th>\n",
              "      <td>...</td>\n",
              "      <td>...</td>\n",
              "      <td>...</td>\n",
              "      <td>...</td>\n",
              "      <td>...</td>\n",
              "      <td>...</td>\n",
              "      <td>...</td>\n",
              "      <td>...</td>\n",
              "      <td>...</td>\n",
              "      <td>...</td>\n",
              "      <td>...</td>\n",
              "      <td>...</td>\n",
              "      <td>...</td>\n",
              "      <td>...</td>\n",
              "      <td>...</td>\n",
              "      <td>...</td>\n",
              "      <td>...</td>\n",
              "      <td>...</td>\n",
              "      <td>...</td>\n",
              "      <td>...</td>\n",
              "      <td>...</td>\n",
              "    </tr>\n",
              "    <tr>\n",
              "      <th>1610</th>\n",
              "      <td>20336532</td>\n",
              "      <td>31</td>\n",
              "      <td>0000093907052</td>\n",
              "      <td>2013-12-23</td>\n",
              "      <td>10000</td>\n",
              "      <td>00</td>\n",
              "      <td>141</td>\n",
              "      <td>34</td>\n",
              "      <td>0</td>\n",
              "      <td>1</td>\n",
              "      <td>...</td>\n",
              "      <td>None</td>\n",
              "      <td>2013-12-23</td>\n",
              "      <td>2017-08-16</td>\n",
              "      <td>225946</td>\n",
              "      <td>P37B</td>\n",
              "      <td>PCLE10P</td>\n",
              "      <td>S</td>\n",
              "      <td>None</td>\n",
              "      <td>2015-10-01</td>\n",
              "      <td>2022-03-10 01:05:30.551</td>\n",
              "    </tr>\n",
              "    <tr>\n",
              "      <th>1611</th>\n",
              "      <td>24405935</td>\n",
              "      <td>31</td>\n",
              "      <td>0000093917909</td>\n",
              "      <td>2018-02-01</td>\n",
              "      <td>10000</td>\n",
              "      <td>01</td>\n",
              "      <td>210</td>\n",
              "      <td>34</td>\n",
              "      <td>0</td>\n",
              "      <td>1</td>\n",
              "      <td>...</td>\n",
              "      <td>None</td>\n",
              "      <td>2018-02-01</td>\n",
              "      <td>2018-02-01</td>\n",
              "      <td>145946</td>\n",
              "      <td>P37B</td>\n",
              "      <td>A116396</td>\n",
              "      <td>S</td>\n",
              "      <td>None</td>\n",
              "      <td>2018-02-01</td>\n",
              "      <td>2022-03-10 01:05:30.551</td>\n",
              "    </tr>\n",
              "    <tr>\n",
              "      <th>1612</th>\n",
              "      <td>03979302</td>\n",
              "      <td>31</td>\n",
              "      <td>0000093918618</td>\n",
              "      <td>2011-08-05</td>\n",
              "      <td>10000</td>\n",
              "      <td>00</td>\n",
              "      <td>156</td>\n",
              "      <td>34</td>\n",
              "      <td>0</td>\n",
              "      <td>1</td>\n",
              "      <td>...</td>\n",
              "      <td>None</td>\n",
              "      <td>2011-08-05</td>\n",
              "      <td>2011-08-05</td>\n",
              "      <td>161548</td>\n",
              "      <td>P37B</td>\n",
              "      <td>PCLE10P</td>\n",
              "      <td>S</td>\n",
              "      <td>None</td>\n",
              "      <td>None</td>\n",
              "      <td>2022-03-10 01:05:30.551</td>\n",
              "    </tr>\n",
              "    <tr>\n",
              "      <th>1613</th>\n",
              "      <td>19776813</td>\n",
              "      <td>31</td>\n",
              "      <td>0000093920693</td>\n",
              "      <td>2013-01-14</td>\n",
              "      <td>10000</td>\n",
              "      <td>00</td>\n",
              "      <td>66</td>\n",
              "      <td>34</td>\n",
              "      <td>0</td>\n",
              "      <td>1</td>\n",
              "      <td>...</td>\n",
              "      <td>None</td>\n",
              "      <td>2013-01-14</td>\n",
              "      <td>2013-01-14</td>\n",
              "      <td>162455</td>\n",
              "      <td>P37B</td>\n",
              "      <td>PCLE10P</td>\n",
              "      <td>S</td>\n",
              "      <td>None</td>\n",
              "      <td>None</td>\n",
              "      <td>2022-03-10 01:05:30.551</td>\n",
              "    </tr>\n",
              "    <tr>\n",
              "      <th>1614</th>\n",
              "      <td>06086785</td>\n",
              "      <td>31</td>\n",
              "      <td>0000093923513</td>\n",
              "      <td>2003-03-06</td>\n",
              "      <td>10000</td>\n",
              "      <td>01</td>\n",
              "      <td>118</td>\n",
              "      <td>34</td>\n",
              "      <td>0</td>\n",
              "      <td>1</td>\n",
              "      <td>...</td>\n",
              "      <td>None</td>\n",
              "      <td>2003-03-06</td>\n",
              "      <td>2003-04-02</td>\n",
              "      <td>042136</td>\n",
              "      <td>P37B</td>\n",
              "      <td>VUELCO</td>\n",
              "      <td>S</td>\n",
              "      <td>None</td>\n",
              "      <td>None</td>\n",
              "      <td>2022-03-10 01:05:30.551</td>\n",
              "    </tr>\n",
              "  </tbody>\n",
              "</table>\n",
              "<p>1615 rows × 68 columns</p>\n",
              "</div>\n",
              "      <button class=\"colab-df-convert\" onclick=\"convertToInteractive('df-536db6f3-63bb-430f-b348-6f8ceed17721')\"\n",
              "              title=\"Convert this dataframe to an interactive table.\"\n",
              "              style=\"display:none;\">\n",
              "        \n",
              "  <svg xmlns=\"http://www.w3.org/2000/svg\" height=\"24px\"viewBox=\"0 0 24 24\"\n",
              "       width=\"24px\">\n",
              "    <path d=\"M0 0h24v24H0V0z\" fill=\"none\"/>\n",
              "    <path d=\"M18.56 5.44l.94 2.06.94-2.06 2.06-.94-2.06-.94-.94-2.06-.94 2.06-2.06.94zm-11 1L8.5 8.5l.94-2.06 2.06-.94-2.06-.94L8.5 2.5l-.94 2.06-2.06.94zm10 10l.94 2.06.94-2.06 2.06-.94-2.06-.94-.94-2.06-.94 2.06-2.06.94z\"/><path d=\"M17.41 7.96l-1.37-1.37c-.4-.4-.92-.59-1.43-.59-.52 0-1.04.2-1.43.59L10.3 9.45l-7.72 7.72c-.78.78-.78 2.05 0 2.83L4 21.41c.39.39.9.59 1.41.59.51 0 1.02-.2 1.41-.59l7.78-7.78 2.81-2.81c.8-.78.8-2.07 0-2.86zM5.41 20L4 18.59l7.72-7.72 1.47 1.35L5.41 20z\"/>\n",
              "  </svg>\n",
              "      </button>\n",
              "      \n",
              "  <style>\n",
              "    .colab-df-container {\n",
              "      display:flex;\n",
              "      flex-wrap:wrap;\n",
              "      gap: 12px;\n",
              "    }\n",
              "\n",
              "    .colab-df-convert {\n",
              "      background-color: #E8F0FE;\n",
              "      border: none;\n",
              "      border-radius: 50%;\n",
              "      cursor: pointer;\n",
              "      display: none;\n",
              "      fill: #1967D2;\n",
              "      height: 32px;\n",
              "      padding: 0 0 0 0;\n",
              "      width: 32px;\n",
              "    }\n",
              "\n",
              "    .colab-df-convert:hover {\n",
              "      background-color: #E2EBFA;\n",
              "      box-shadow: 0px 1px 2px rgba(60, 64, 67, 0.3), 0px 1px 3px 1px rgba(60, 64, 67, 0.15);\n",
              "      fill: #174EA6;\n",
              "    }\n",
              "\n",
              "    [theme=dark] .colab-df-convert {\n",
              "      background-color: #3B4455;\n",
              "      fill: #D2E3FC;\n",
              "    }\n",
              "\n",
              "    [theme=dark] .colab-df-convert:hover {\n",
              "      background-color: #434B5C;\n",
              "      box-shadow: 0px 1px 3px 1px rgba(0, 0, 0, 0.15);\n",
              "      filter: drop-shadow(0px 1px 2px rgba(0, 0, 0, 0.3));\n",
              "      fill: #FFFFFF;\n",
              "    }\n",
              "  </style>\n",
              "\n",
              "      <script>\n",
              "        const buttonEl =\n",
              "          document.querySelector('#df-536db6f3-63bb-430f-b348-6f8ceed17721 button.colab-df-convert');\n",
              "        buttonEl.style.display =\n",
              "          google.colab.kernel.accessAllowed ? 'block' : 'none';\n",
              "\n",
              "        async function convertToInteractive(key) {\n",
              "          const element = document.querySelector('#df-536db6f3-63bb-430f-b348-6f8ceed17721');\n",
              "          const dataTable =\n",
              "            await google.colab.kernel.invokeFunction('convertToInteractive',\n",
              "                                                     [key], {});\n",
              "          if (!dataTable) return;\n",
              "\n",
              "          const docLinkHtml = 'Like what you see? Visit the ' +\n",
              "            '<a target=\"_blank\" href=https://colab.research.google.com/notebooks/data_table.ipynb>data table notebook</a>'\n",
              "            + ' to learn more about interactive tables.';\n",
              "          element.innerHTML = '';\n",
              "          dataTable['output_type'] = 'display_data';\n",
              "          await google.colab.output.renderOutput(dataTable, element);\n",
              "          const docLink = document.createElement('div');\n",
              "          docLink.innerHTML = docLinkHtml;\n",
              "          element.appendChild(docLink);\n",
              "        }\n",
              "      </script>\n",
              "    </div>\n",
              "  </div>\n",
              "  "
            ]
          },
          "metadata": {},
          "execution_count": 89
        }
      ]
    },
    {
      "cell_type": "code",
      "source": [],
      "metadata": {
        "id": "USFCsNF3erdq"
      },
      "execution_count": null,
      "outputs": []
    }
  ]
}