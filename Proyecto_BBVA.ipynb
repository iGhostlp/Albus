{
  "nbformat": 4,
  "nbformat_minor": 0,
  "metadata": {
    "colab": {
      "provenance": [],
      "mount_file_id": "15iJNb5ngijYf_kSAZ7kAXjfIX9Wv7PqD",
      "authorship_tag": "ABX9TyNH4vh29Dmw9Uu5xXB3S18w",
      "include_colab_link": true
    },
    "kernelspec": {
      "name": "python3",
      "display_name": "Python 3"
    },
    "language_info": {
      "name": "python"
    }
  },
  "cells": [
    {
      "cell_type": "markdown",
      "metadata": {
        "id": "view-in-github",
        "colab_type": "text"
      },
      "source": [
        "<a href=\"https://colab.research.google.com/github/iGhostlp/Albus/blob/Sin-Dientes/Proyecto_BBVA.ipynb\" target=\"_parent\"><img src=\"https://colab.research.google.com/assets/colab-badge.svg\" alt=\"Open In Colab\"/></a>"
      ]
    },
    {
      "cell_type": "markdown",
      "source": [
        "# Armado de entorno"
      ],
      "metadata": {
        "id": "EtgvVFecjdTw"
      }
    },
    {
      "cell_type": "code",
      "execution_count": 36,
      "metadata": {
        "colab": {
          "base_uri": "https://localhost:8080/"
        },
        "id": "L096RbQuFQ6I",
        "outputId": "620e6d37-cd7f-4582-9015-1c96dd568a9e"
      },
      "outputs": [
        {
          "output_type": "stream",
          "name": "stdout",
          "text": [
            "Looking in indexes: https://pypi.org/simple, https://us-python.pkg.dev/colab-wheels/public/simple/\n",
            "Requirement already satisfied: docker in /usr/local/lib/python3.9/dist-packages (6.0.1)\n",
            "Requirement already satisfied: urllib3>=1.26.0 in /usr/local/lib/python3.9/dist-packages (from docker) (1.26.15)\n",
            "Requirement already satisfied: requests>=2.26.0 in /usr/local/lib/python3.9/dist-packages (from docker) (2.27.1)\n",
            "Requirement already satisfied: packaging>=14.0 in /usr/local/lib/python3.9/dist-packages (from docker) (23.0)\n",
            "Requirement already satisfied: websocket-client>=0.32.0 in /usr/local/lib/python3.9/dist-packages (from docker) (1.5.1)\n",
            "Requirement already satisfied: idna<4,>=2.5 in /usr/local/lib/python3.9/dist-packages (from requests>=2.26.0->docker) (3.4)\n",
            "Requirement already satisfied: certifi>=2017.4.17 in /usr/local/lib/python3.9/dist-packages (from requests>=2.26.0->docker) (2022.12.7)\n",
            "Requirement already satisfied: charset-normalizer~=2.0.0 in /usr/local/lib/python3.9/dist-packages (from requests>=2.26.0->docker) (2.0.12)\n"
          ]
        }
      ],
      "source": [
        "pip install docker"
      ]
    },
    {
      "cell_type": "code",
      "source": [
        "pip install pyspark"
      ],
      "metadata": {
        "colab": {
          "base_uri": "https://localhost:8080/"
        },
        "id": "p8edA0G1GhwD",
        "outputId": "5d63b075-336c-4dde-e52a-b0f0c4c61804"
      },
      "execution_count": 37,
      "outputs": [
        {
          "output_type": "stream",
          "name": "stdout",
          "text": [
            "Looking in indexes: https://pypi.org/simple, https://us-python.pkg.dev/colab-wheels/public/simple/\n",
            "Requirement already satisfied: pyspark in /usr/local/lib/python3.9/dist-packages (3.3.2)\n",
            "Requirement already satisfied: py4j==0.10.9.5 in /usr/local/lib/python3.9/dist-packages (from pyspark) (0.10.9.5)\n"
          ]
        }
      ]
    },
    {
      "cell_type": "code",
      "source": [
        "pip install findspark"
      ],
      "metadata": {
        "id": "3mQRdIihGtRm",
        "colab": {
          "base_uri": "https://localhost:8080/"
        },
        "outputId": "76a0c6a6-1816-4acd-8205-b6b28a549699"
      },
      "execution_count": 38,
      "outputs": [
        {
          "output_type": "stream",
          "name": "stdout",
          "text": [
            "Looking in indexes: https://pypi.org/simple, https://us-python.pkg.dev/colab-wheels/public/simple/\n",
            "Requirement already satisfied: findspark in /usr/local/lib/python3.9/dist-packages (2.0.1)\n"
          ]
        }
      ]
    },
    {
      "cell_type": "code",
      "source": [
        "import os\n",
        "os.environ[\"JAVA_HOME\"] = \"/usr/lib/jvm/java-11-openjdk-amd64\"\n",
        "os.environ[\"SPARK_HOME\"] = '/content/spark-3.3.2-bin-hadoop3'"
      ],
      "metadata": {
        "id": "Dso7B-hGRMrE"
      },
      "execution_count": 39,
      "outputs": []
    },
    {
      "cell_type": "code",
      "source": [
        "import findspark"
      ],
      "metadata": {
        "id": "vv6XivkUSJw1"
      },
      "execution_count": 40,
      "outputs": []
    },
    {
      "cell_type": "code",
      "source": [
        "!apt-get install openjdk-8-jdk-headless -qq > /dev/null"
      ],
      "metadata": {
        "id": "aFFpvGdzSYy9"
      },
      "execution_count": 41,
      "outputs": []
    },
    {
      "cell_type": "code",
      "source": [
        "!wget -q https://dlcdn.apache.org/spark/spark-3.3.2/spark-3.3.2-bin-hadoop3.tgz"
      ],
      "metadata": {
        "id": "V8rVeEtlScIl"
      },
      "execution_count": 42,
      "outputs": []
    },
    {
      "cell_type": "code",
      "source": [
        "ls"
      ],
      "metadata": {
        "colab": {
          "base_uri": "https://localhost:8080/"
        },
        "id": "tJvZCa5zSgHA",
        "outputId": "382302bf-b86f-4172-9f84-a89cda2ed107"
      },
      "execution_count": 43,
      "outputs": [
        {
          "output_type": "stream",
          "name": "stdout",
          "text": [
            "\u001b[0m\u001b[01;34mDataset\u001b[0m/   \u001b[01;34msample_data\u001b[0m/              spark-3.3.2-bin-hadoop3.tgz\n",
            "\u001b[01;34mDatasets\u001b[0m/  \u001b[01;34mspark-3.3.2-bin-hadoop3\u001b[0m/  spark-3.3.2-bin-hadoop3.tgz.1\n"
          ]
        }
      ]
    },
    {
      "cell_type": "code",
      "source": [
        "!tar xf spark-3.3.2-bin-hadoop3.tgz"
      ],
      "metadata": {
        "id": "tkY3GJRiShrT"
      },
      "execution_count": 44,
      "outputs": []
    },
    {
      "cell_type": "code",
      "source": [
        "!java -version"
      ],
      "metadata": {
        "colab": {
          "base_uri": "https://localhost:8080/"
        },
        "id": "RIkJVEC9SlHD",
        "outputId": "5147a9e7-69f9-4528-b48f-3a523854e7da"
      },
      "execution_count": 45,
      "outputs": [
        {
          "output_type": "stream",
          "name": "stdout",
          "text": [
            "openjdk version \"11.0.18\" 2023-01-17\n",
            "OpenJDK Runtime Environment (build 11.0.18+10-post-Ubuntu-0ubuntu120.04.1)\n",
            "OpenJDK 64-Bit Server VM (build 11.0.18+10-post-Ubuntu-0ubuntu120.04.1, mixed mode, sharing)\n"
          ]
        }
      ]
    },
    {
      "cell_type": "code",
      "source": [
        "!readlink -f $(which java) | sed \"s:bin/java::\""
      ],
      "metadata": {
        "colab": {
          "base_uri": "https://localhost:8080/"
        },
        "id": "5s3qXR9CSmYT",
        "outputId": "517cd4e4-9c20-4744-9577-99a720d45383"
      },
      "execution_count": 46,
      "outputs": [
        {
          "output_type": "stream",
          "name": "stdout",
          "text": [
            "/usr/lib/jvm/java-11-openjdk-amd64/\n"
          ]
        }
      ]
    },
    {
      "cell_type": "code",
      "source": [
        "!echo $JAVA_HOME"
      ],
      "metadata": {
        "colab": {
          "base_uri": "https://localhost:8080/"
        },
        "id": "GK9cftcwSwFq",
        "outputId": "d3fc1db3-94ce-4f2b-d888-10d712a6f1df"
      },
      "execution_count": 47,
      "outputs": [
        {
          "output_type": "stream",
          "name": "stdout",
          "text": [
            "/usr/lib/jvm/java-11-openjdk-amd64\n"
          ]
        }
      ]
    },
    {
      "cell_type": "code",
      "source": [
        "!pip install -q findspark"
      ],
      "metadata": {
        "id": "rRg70X6TSyqf"
      },
      "execution_count": 48,
      "outputs": []
    },
    {
      "cell_type": "code",
      "source": [
        "!pip install pyspark "
      ],
      "metadata": {
        "colab": {
          "base_uri": "https://localhost:8080/"
        },
        "id": "tkCPZZG2S1Ve",
        "outputId": "789c201a-c398-4f86-e0c8-0d71189011f6"
      },
      "execution_count": 49,
      "outputs": [
        {
          "output_type": "stream",
          "name": "stdout",
          "text": [
            "Looking in indexes: https://pypi.org/simple, https://us-python.pkg.dev/colab-wheels/public/simple/\n",
            "Requirement already satisfied: pyspark in /usr/local/lib/python3.9/dist-packages (3.3.2)\n",
            "Requirement already satisfied: py4j==0.10.9.5 in /usr/local/lib/python3.9/dist-packages (from pyspark) (0.10.9.5)\n"
          ]
        }
      ]
    },
    {
      "cell_type": "code",
      "source": [
        "import os\n",
        "os.environ[\"JAVA_HOME\"] = \"/usr/lib/jvm/java-11-openjdk-amd64\"\n",
        "os.environ[\"SPARK_HOME\"] = '/content/spark-3.3.2-bin-hadoop3'"
      ],
      "metadata": {
        "id": "Ar-kBMNzS5aS"
      },
      "execution_count": 50,
      "outputs": []
    },
    {
      "cell_type": "code",
      "source": [
        "import findspark"
      ],
      "metadata": {
        "id": "PvpFRzXIS7Ol"
      },
      "execution_count": 51,
      "outputs": []
    },
    {
      "cell_type": "code",
      "source": [
        "findspark.init()"
      ],
      "metadata": {
        "id": "R233IpUPS_Qa"
      },
      "execution_count": 52,
      "outputs": []
    },
    {
      "cell_type": "code",
      "source": [
        "findspark.find()"
      ],
      "metadata": {
        "colab": {
          "base_uri": "https://localhost:8080/",
          "height": 36
        },
        "id": "aX4L2WY8TBIE",
        "outputId": "d0f60f30-48d2-4395-d544-27a58f5512d1"
      },
      "execution_count": 53,
      "outputs": [
        {
          "output_type": "execute_result",
          "data": {
            "text/plain": [
              "'/content/spark-3.3.2-bin-hadoop3'"
            ],
            "application/vnd.google.colaboratory.intrinsic+json": {
              "type": "string"
            }
          },
          "metadata": {},
          "execution_count": 53
        }
      ]
    },
    {
      "cell_type": "code",
      "source": [
        "from pyspark.sql import SparkSession"
      ],
      "metadata": {
        "id": "lcToqdWuTFr3"
      },
      "execution_count": 54,
      "outputs": []
    },
    {
      "cell_type": "code",
      "source": [
        "from pyspark.sql.functions import col\n"
      ],
      "metadata": {
        "id": "tDnfwaSNTJpS"
      },
      "execution_count": 55,
      "outputs": []
    },
    {
      "cell_type": "code",
      "source": [
        "spark = SparkSession.builder.master(\"local[*]\").config('spark.sql.parquet.datetimeRebaseModeInRead','CORRECTED').getOrCreate()"
      ],
      "metadata": {
        "id": "7vyWjzCfTMf2"
      },
      "execution_count": 56,
      "outputs": []
    },
    {
      "cell_type": "code",
      "source": [
        "spark.sparkContext.setLogLevel(\"ERROR\")"
      ],
      "metadata": {
        "id": "WZNziKI0S5I3"
      },
      "execution_count": 57,
      "outputs": []
    },
    {
      "cell_type": "code",
      "source": [
        "spark"
      ],
      "metadata": {
        "colab": {
          "base_uri": "https://localhost:8080/",
          "height": 219
        },
        "id": "2z7H8UZnTQjr",
        "outputId": "dfa27a8e-5bde-49f7-c2c7-a24a6898e5bd"
      },
      "execution_count": 58,
      "outputs": [
        {
          "output_type": "execute_result",
          "data": {
            "text/plain": [
              "<pyspark.sql.session.SparkSession at 0x7fbfa0d8e5e0>"
            ],
            "text/html": [
              "\n",
              "            <div>\n",
              "                <p><b>SparkSession - in-memory</b></p>\n",
              "                \n",
              "        <div>\n",
              "            <p><b>SparkContext</b></p>\n",
              "\n",
              "            <p><a href=\"http://135a1ad72af6:4040\">Spark UI</a></p>\n",
              "\n",
              "            <dl>\n",
              "              <dt>Version</dt>\n",
              "                <dd><code>v3.3.2</code></dd>\n",
              "              <dt>Master</dt>\n",
              "                <dd><code>local[*]</code></dd>\n",
              "              <dt>AppName</dt>\n",
              "                <dd><code>pyspark-shell</code></dd>\n",
              "            </dl>\n",
              "        </div>\n",
              "        \n",
              "            </div>\n",
              "        "
            ]
          },
          "metadata": {},
          "execution_count": 58
        }
      ]
    },
    {
      "cell_type": "code",
      "source": [
        "import pandas as pd"
      ],
      "metadata": {
        "id": "ORhOfVDiTwO2"
      },
      "execution_count": 59,
      "outputs": []
    },
    {
      "cell_type": "markdown",
      "source": [
        "# Creación de dataframes"
      ],
      "metadata": {
        "id": "A1QD0ndpjlwQ"
      }
    },
    {
      "cell_type": "code",
      "source": [
        "# Creando el dataframe"
      ],
      "metadata": {
        "id": "hk7T4u34U9s-"
      },
      "execution_count": 60,
      "outputs": []
    },
    {
      "cell_type": "code",
      "source": [
        "df_address = spark.read.parquet(\"/content/Dataset/address.snappy.parquet\")"
      ],
      "metadata": {
        "id": "mZXYm9PGXU76"
      },
      "execution_count": 61,
      "outputs": []
    },
    {
      "cell_type": "code",
      "source": [
        "df_customer = spark.read.parquet(\"/content/Dataset/customer.snappy.parquet\")"
      ],
      "metadata": {
        "id": "e3UBTP7lXgRZ"
      },
      "execution_count": 62,
      "outputs": []
    },
    {
      "cell_type": "code",
      "source": [
        "df_customer_b = spark.read.parquet(\"/content/Dataset/customer_basics.snappy.parquet\")"
      ],
      "metadata": {
        "id": "hMHAq0jBaT9F"
      },
      "execution_count": 63,
      "outputs": []
    },
    {
      "cell_type": "code",
      "source": [
        "df_mails = spark.read.parquet(\"/content/Dataset/email.snappy.parquet\")"
      ],
      "metadata": {
        "id": "ocY3RP__Xjmb"
      },
      "execution_count": 64,
      "outputs": []
    },
    {
      "cell_type": "code",
      "source": [
        "df_phones = spark.read.parquet(\"/content/Dataset/phones.snappy.parquet\")"
      ],
      "metadata": {
        "id": "qagDR3aVXkrp"
      },
      "execution_count": 65,
      "outputs": []
    },
    {
      "cell_type": "markdown",
      "source": [
        "# Exploración de la tabla"
      ],
      "metadata": {
        "id": "ydKqitSGjsxo"
      }
    },
    {
      "cell_type": "code",
      "source": [
        "# Exploracion de tabla\n",
        "\n",
        "df_mails.show()"
      ],
      "metadata": {
        "colab": {
          "base_uri": "https://localhost:8080/"
        },
        "id": "j3p1HhMAek-w",
        "outputId": "faa32b54-e071-4201-e3ad-22601aa732f2"
      },
      "execution_count": 66,
      "outputs": [
        {
          "output_type": "stream",
          "name": "stdout",
          "text": [
            "+-----------+---------+-------------------+--------------+----------+------------------+--------------------+-----------------+--------------+-------------------+----------------+--------------------------+--------------+----------------+-------------------+--------------------+-----------------------+---------------------+--------------------------+-------------------+----------------+\n",
            "|customer_id|role_type|address_sequence_id|residence_type|email_type|primary_email_type|          email_desc|email_domain_type|encripted_type|field_length_number|   comments_desc|customer_email_status_type|email_app_type|register_user_id|last_change_user_id|last_change_hms_date|last_change_terminal_id|operational_load_date|customer_email_status_date|registry_entry_date|last_change_date|\n",
            "+-----------+---------+-------------------+--------------+----------+------------------+--------------------+-----------------+--------------+-------------------+----------------+--------------------------+--------------+----------------+-------------------+--------------------+-----------------------+---------------------+--------------------------+-------------------+----------------+\n",
            "|   00000000|       CL|                  1|             1|  PERSONAL|                 0|LIBRERIAURUGUAY@G...|              COM|              |                 30|                |                 DECLARADO|          CTES|          A79018|             A79018|            12:05:36|                   4560| 2021-12-09 19:39:...|                2015-10-27|         2015-10-27|      2015-10-27|\n",
            "|   00000000|       CL|                  2|             2|   LABORAL|                -1|ALVAROJOSE.DAGAND...|              COM|             N|                 30|  ALTA EMPLEADOS|                  VALIDADO|          VLCO|         PCLE30J|            PCLE30J|            23:59:14|                       | 2021-12-09 19:39:...|                2016-10-17|         2016-10-17|      2019-12-18|\n",
            "|   00027555|       CL|                  1|             1|  PERSONAL|                 0|ALEFRID666@YAHOO....|                 |             N|                 30|                |                  VALIDADO|          FNET|        GPROBANK|           GPROBANK|            18:46:25|                   Y57R| 2021-12-09 19:39:...|                2012-07-08|         2012-07-08|      2012-07-08|\n",
            "|   00027568|       CL|                  1|             1|  PERSONAL|                 0|   SCATIVA@GMAIL.COM|                 |             N|                 30|                |                  VALIDADO|          FNET|        GPROBANK|           GPROBANK|            10:50:19|                   4ZGA| 2021-12-09 19:39:...|                2016-03-15|         2016-03-15|      2016-03-15|\n",
            "|   00027595|       CL|                  1|             1|  PERSONAL|                 0|        NO@GMAIL.COM|              COM|              |                 30|                |                 DECLARADO|          CTES|          A16799|             A16799|            17:37:16|                   1582| 2021-12-09 19:39:...|                2018-08-07|         2018-08-07|      2018-08-07|\n",
            "|   00027609|       CL|                  1|             1|  PERSONAL|                 0|lindocampo@yahoo.com|              com|             N|                 30|VUELCO FRONT END|                  NO VERIF|          VLCO|                |            PCLE11O|            18:14:49|                       | 2021-12-09 19:39:...|                2007-12-12|         2001-07-19|      2009-06-27|\n",
            "|   27514336|       CL|                  1|             1|  PERSONAL|                 0|EDGAR.RIVERO@ROCK...|              COM|             N|                 30|VINCULADAS (PSA)|                COMPROBADO|          VINC|         XA05318|           PCLUPC15|            17:17:15|                   PC15| 2021-12-09 19:39:...|                2021-01-25|         2021-01-25|      2021-01-25|\n",
            "|   00027726|       CL|                  1|             1|  PERSONAL|                 0|MORELPUB@FIBERTEL...|                 |             N|                 30|                |                  VALIDADO|          FNET|        GPROBANK|           GPROBANK|            14:50:43|                   4ZLR| 2021-12-09 19:39:...|                2016-09-20|         2016-09-20|      2016-09-20|\n",
            "|   00027766|       CL|                  1|             1|  PERSONAL|                 0|HAYDINEITOR@GMAIL...|                 |             N|                 30|                |                COMPROBADO|          FNET|        GPROBANK|            RCLM131|            16:37:42|                   M131| 2021-12-09 19:39:...|                2018-11-08|         2014-11-10|      2014-11-10|\n",
            "|   00027780|       CL|                  1|             1|  PERSONAL|                 0|LEMOS-LILIANA@HOT...|              COM|              |                 30|                |                 DECLARADO|          WKFL|         a115236|            A115981|            12:02:56|                   1057| 2021-12-09 19:39:...|                2021-03-23|         2019-12-03|      2021-03-23|\n",
            "|   00027781|       CL|                  1|             2|  PERSONAL|                 0|hgrinschpun@edeno...|              com|             N|                 30|VUELCO FRONT END|                  NO VERIF|          VLCO|                |           GPROBANK|            12:00:00|                       | 2021-12-09 19:39:...|                2007-12-12|         2002-05-14|      2002-06-11|\n",
            "|   00027867|       CL|                  1|             2|  PERSONAL|                 0| scoppo@arnet.com.ar|              com|             N|                 30|VUELCO FRONT END|                  NO VERIF|          VLCO|                |           GPROBANK|            12:00:00|                       | 2021-12-09 19:39:...|                2007-12-12|         2002-04-01|      2002-04-22|\n",
            "|   00027877|       CL|                  1|             1|  PERSONAL|                 0|LAURAFRISCHKNECHT...|                 |              |                 30|                |                  VALIDADO|          FNET|        GPROBANK|           GPROBANK|            21:40:57|                   4ZLT| 2021-12-09 19:39:...|                2014-02-04|         2014-01-03|      2014-02-04|\n",
            "|   00027942|       CL|                  1|             1|  PERSONAL|                 0|           NO@NO.COM|              COM|              |                 30|                |                 DECLARADO|          WKFL|         a127416|            A127416|            09:10:42|                   EECC| 2021-12-09 19:39:...|                2019-03-26|         2019-03-26|      2019-03-26|\n",
            "|   00027990|       CL|                  1|             1|  PERSONAL|                 0|  VEMUSICO@GMAIL.COM|              COM|              |                 30|        20150723|                 DECLARADO|          CTES|          A31674|            A118176|            14:06:21|                   5A85| 2021-12-09 19:39:...|                2015-05-19|         2015-05-19|      2015-07-23|\n",
            "|   00028043|       CL|                  1|             2|  PERSONAL|                 0| dario@utenet.com.ar|              com|             N|                 30|VUELCO FRONT END|                  NO VERIF|          VLCO|                |           GPROBANK|            12:00:00|                       | 2021-12-09 19:39:...|                2007-12-12|         2002-02-27|      2002-06-02|\n",
            "|   00028080|       CL|                  1|             1|  PERSONAL|                 0|gmrepetto@ciudad....|              com|             N|                 30|VUELCO FRONT END|                  NO VERIF|          VLCO|                |            PCLE11O|            18:14:49|                       | 2021-12-09 19:39:...|                2007-12-12|         2002-02-12|      2009-06-27|\n",
            "|   00028091|       CL|                  1|             1|  PERSONAL|                 0|GRACIELADD@HOTMAI...|                 |              |                 30|                |                  VALIDADO|          FNET|        GPROBANK|           GPROBANK|            21:38:47|                   4ZFV| 2021-12-09 19:39:...|                2014-03-21|         2014-03-21|      2014-03-21|\n",
            "|   00028104|       CL|                  1|             1|  PERSONAL|                 0|M.CAAMANO2403@GMA...|                 |             N|                 30|                |                COMPROBADO|          FNET|        GPROBANK|           GPROBANK|            14:21:27|                   Y57R| 2021-12-09 19:39:...|                2016-10-06|         2016-10-05|      2016-10-05|\n",
            "|   00028284|       CL|                  1|             1|  PERSONAL|                 1|GABYDIAZ27@HOTMAI...|              COM|              |                 30|                |                 DECLARADO|          CTES|         A125556|            A125556|            13:49:34|                   2134| 2021-12-09 19:39:...|                2015-05-21|         2015-05-21|      2015-05-21|\n",
            "+-----------+---------+-------------------+--------------+----------+------------------+--------------------+-----------------+--------------+-------------------+----------------+--------------------------+--------------+----------------+-------------------+--------------------+-----------------------+---------------------+--------------------------+-------------------+----------------+\n",
            "only showing top 20 rows\n",
            "\n"
          ]
        }
      ]
    },
    {
      "cell_type": "markdown",
      "source": [
        "# QUERY"
      ],
      "metadata": {
        "id": "CbigTBosj1cz"
      }
    },
    {
      "cell_type": "code",
      "source": [
        "# query solicitada\n",
        "\n",
        "df_customer_mails = df_customer_b.join(df_mails, ['customer_id'], how='left')"
      ],
      "metadata": {
        "id": "h868HxhYX-cu"
      },
      "execution_count": 67,
      "outputs": []
    },
    {
      "cell_type": "code",
      "source": [
        "#exploracion esquema\n",
        "\n",
        "df_customer_mails.printSchema()"
      ],
      "metadata": {
        "colab": {
          "base_uri": "https://localhost:8080/"
        },
        "id": "6QQVPBfDfD_D",
        "outputId": "1c434a1b-4e0d-4778-fddf-524b34c4cd93"
      },
      "execution_count": 68,
      "outputs": [
        {
          "output_type": "stream",
          "name": "stdout",
          "text": [
            "root\n",
            " |-- customer_id: string (nullable = true)\n",
            " |-- personal_type: string (nullable = true)\n",
            " |-- personal_id: string (nullable = true)\n",
            " |-- admission_date: date (nullable = true)\n",
            " |-- sale_channel_id: string (nullable = true)\n",
            " |-- operation_channel_id: string (nullable = true)\n",
            " |-- branch_id: integer (nullable = true)\n",
            " |-- business_area_id: integer (nullable = true)\n",
            " |-- campaing_id: decimal(2,0) (nullable = true)\n",
            " |-- customer_situation_type: integer (nullable = true)\n",
            " |-- customer_condition_type: integer (nullable = true)\n",
            " |-- manager_id: integer (nullable = true)\n",
            " |-- tracking_manager_id: string (nullable = true)\n",
            " |-- credit_manager_id: string (nullable = true)\n",
            " |-- credit_recovery_manager_id: string (nullable = true)\n",
            " |-- last_name: string (nullable = true)\n",
            " |-- second_last_name: string (nullable = true)\n",
            " |-- first_name: string (nullable = true)\n",
            " |-- marital_status_type: integer (nullable = true)\n",
            " |-- gender_type: string (nullable = true)\n",
            " |-- birth_date: date (nullable = true)\n",
            " |-- country_nationality_id: integer (nullable = true)\n",
            " |-- residence_country_id: string (nullable = true)\n",
            " |-- customer_subject_type: string (nullable = true)\n",
            " |-- sector_type: integer (nullable = true)\n",
            " |-- customer_level_access_type: string (nullable = true)\n",
            " |-- cust_bcra_econ_activity_type: integer (nullable = true)\n",
            " |-- internal_economic_activity_type: integer (nullable = true)\n",
            " |-- bbva_inhabilitation_type: string (nullable = true)\n",
            " |-- customer_block_bbva_date: date (nullable = true)\n",
            " |-- customer_unblock_bbva_date: date (nullable = true)\n",
            " |-- customer_block_bcra_date: date (nullable = true)\n",
            " |-- customer_unblock_bcra_date: date (nullable = true)\n",
            " |-- customer_pending_notice_type: string (nullable = true)\n",
            " |-- last_notice_number: decimal(3,0) (nullable = true)\n",
            " |-- last_reference_number_id: decimal(3,0) (nullable = true)\n",
            " |-- last_service_number: decimal(3,0) (nullable = true)\n",
            " |-- last_address_number: decimal(3,0) (nullable = true)\n",
            " |-- last_unlinking_account_date: date (nullable = true)\n",
            " |-- customer_end_date: date (nullable = true)\n",
            " |-- last_change_user_id: string (nullable = true)\n",
            " |-- customer_pep_type: decimal(1,0) (nullable = true)\n",
            " |-- bbva_family_lnk_weighted_number: decimal(1,0) (nullable = true)\n",
            " |-- customer_status_type: string (nullable = true)\n",
            " |-- scoring_activity_type: integer (nullable = true)\n",
            " |-- refinancing_number: integer (nullable = true)\n",
            " |-- refinancing_date: date (nullable = true)\n",
            " |-- coholder_customer_id: string (nullable = true)\n",
            " |-- customer_bcra_situation_id: integer (nullable = true)\n",
            " |-- customer_cuit_id: string (nullable = true)\n",
            " |-- customer_position_vat_type: string (nullable = true)\n",
            " |-- balance_closing_date: date (nullable = true)\n",
            " |-- profession_id: string (nullable = true)\n",
            " |-- bbva_cust_number: string (nullable = true)\n",
            " |-- customer_linked_type: string (nullable = true)\n",
            " |-- customer_entry_type: string (nullable = true)\n",
            " |-- job_type: string (nullable = true)\n",
            " |-- profession_start_date: date (nullable = true)\n",
            " |-- customer_first_block_date: date (nullable = true)\n",
            " |-- customer_registration_date: date (nullable = true)\n",
            " |-- last_change_date: date (nullable = true)\n",
            " |-- last_change_hms_date: string (nullable = true)\n",
            " |-- register_terminal_id: string (nullable = true)\n",
            " |-- register_user_id: string (nullable = true)\n",
            " |-- customer_type: string (nullable = true)\n",
            " |-- customer_seniority_number: decimal(4,0) (nullable = true)\n",
            " |-- last_status_change_date: date (nullable = true)\n",
            " |-- operational_load_date: timestamp (nullable = true)\n",
            " |-- role_type: string (nullable = true)\n",
            " |-- address_sequence_id: integer (nullable = true)\n",
            " |-- residence_type: string (nullable = true)\n",
            " |-- email_type: string (nullable = true)\n",
            " |-- primary_email_type: integer (nullable = true)\n",
            " |-- email_desc: string (nullable = true)\n",
            " |-- email_domain_type: string (nullable = true)\n",
            " |-- encripted_type: string (nullable = true)\n",
            " |-- field_length_number: string (nullable = true)\n",
            " |-- comments_desc: string (nullable = true)\n",
            " |-- customer_email_status_type: string (nullable = true)\n",
            " |-- email_app_type: string (nullable = true)\n",
            " |-- register_user_id: string (nullable = true)\n",
            " |-- last_change_user_id: string (nullable = true)\n",
            " |-- last_change_hms_date: string (nullable = true)\n",
            " |-- last_change_terminal_id: string (nullable = true)\n",
            " |-- operational_load_date: timestamp (nullable = true)\n",
            " |-- customer_email_status_date: date (nullable = true)\n",
            " |-- registry_entry_date: date (nullable = true)\n",
            " |-- last_change_date: date (nullable = true)\n",
            "\n"
          ]
        }
      ]
    },
    {
      "cell_type": "code",
      "source": [
        "df_customer_mails.show()"
      ],
      "metadata": {
        "colab": {
          "base_uri": "https://localhost:8080/"
        },
        "id": "U3xHnlsvgVr1",
        "outputId": "fda4302f-9561-41e7-ba58-26ed1e147ba7"
      },
      "execution_count": 69,
      "outputs": [
        {
          "output_type": "stream",
          "name": "stdout",
          "text": [
            "+-----------+-------------+-------------+--------------+---------------+--------------------+---------+----------------+-----------+-----------------------+-----------------------+----------+-------------------+-----------------+--------------------------+----------+----------------+-----------------+-------------------+-----------+----------+----------------------+--------------------+---------------------+-----------+--------------------------+----------------------------+-------------------------------+------------------------+------------------------+--------------------------+------------------------+--------------------------+----------------------------+------------------+------------------------+-------------------+-------------------+---------------------------+-----------------+-------------------+-----------------+-------------------------------+--------------------+---------------------+------------------+----------------+--------------------+--------------------------+----------------+--------------------------+--------------------+-------------+----------------+--------------------+-------------------+--------+---------------------+-------------------------+--------------------------+----------------+--------------------+--------------------+----------------+-------------+-------------------------+-----------------------+---------------------+---------+-------------------+--------------+----------+------------------+----------+-----------------+--------------+-------------------+-------------+--------------------------+--------------+----------------+-------------------+--------------------+-----------------------+---------------------+--------------------------+-------------------+----------------+\n",
            "|customer_id|personal_type|  personal_id|admission_date|sale_channel_id|operation_channel_id|branch_id|business_area_id|campaing_id|customer_situation_type|customer_condition_type|manager_id|tracking_manager_id|credit_manager_id|credit_recovery_manager_id| last_name|second_last_name|       first_name|marital_status_type|gender_type|birth_date|country_nationality_id|residence_country_id|customer_subject_type|sector_type|customer_level_access_type|cust_bcra_econ_activity_type|internal_economic_activity_type|bbva_inhabilitation_type|customer_block_bbva_date|customer_unblock_bbva_date|customer_block_bcra_date|customer_unblock_bcra_date|customer_pending_notice_type|last_notice_number|last_reference_number_id|last_service_number|last_address_number|last_unlinking_account_date|customer_end_date|last_change_user_id|customer_pep_type|bbva_family_lnk_weighted_number|customer_status_type|scoring_activity_type|refinancing_number|refinancing_date|coholder_customer_id|customer_bcra_situation_id|customer_cuit_id|customer_position_vat_type|balance_closing_date|profession_id|bbva_cust_number|customer_linked_type|customer_entry_type|job_type|profession_start_date|customer_first_block_date|customer_registration_date|last_change_date|last_change_hms_date|register_terminal_id|register_user_id|customer_type|customer_seniority_number|last_status_change_date|operational_load_date|role_type|address_sequence_id|residence_type|email_type|primary_email_type|email_desc|email_domain_type|encripted_type|field_length_number|comments_desc|customer_email_status_type|email_app_type|register_user_id|last_change_user_id|last_change_hms_date|last_change_terminal_id|operational_load_date|customer_email_status_date|registry_entry_date|last_change_date|\n",
            "+-----------+-------------+-------------+--------------+---------------+--------------------+---------+----------------+-----------+-----------------------+-----------------------+----------+-------------------+-----------------+--------------------------+----------+----------------+-----------------+-------------------+-----------+----------+----------------------+--------------------+---------------------+-----------+--------------------------+----------------------------+-------------------------------+------------------------+------------------------+--------------------------+------------------------+--------------------------+----------------------------+------------------+------------------------+-------------------+-------------------+---------------------------+-----------------+-------------------+-----------------+-------------------------------+--------------------+---------------------+------------------+----------------+--------------------+--------------------------+----------------+--------------------------+--------------------+-------------+----------------+--------------------+-------------------+--------+---------------------+-------------------------+--------------------------+----------------+--------------------+--------------------+----------------+-------------+-------------------------+-----------------------+---------------------+---------+-------------------+--------------+----------+------------------+----------+-----------------+--------------+-------------------+-------------+--------------------------+--------------+----------------+-------------------+--------------------+-----------------------+---------------------+--------------------------+-------------------+----------------+\n",
            "|   01157212|           00|0000013226627|    2008-08-28|          10000|                  00|       74|              30|          0|                      1|                      1|       192|                   |                 |                          |     RAMOS|                |  GERARDO GABRIEL|                  1|          M|1959-08-20|                    80|                 080|                  201|        100|                         0|                          82|                       21101000|                       0|                    null|                      null|                    null|                      null|                            |                11|                       0|                  0|                  1|                       null|             null|            A800118|                0|                              3|                  AC|                   50|              null|            null|                    |                      null|   0020132266272|                       042|                null|          035|       001157212|                   N|                   |     004|           2009-01-01|                     null|                2008-08-28|      2021-09-16|              112634|                3633|          VUELCO|            N|                     null|                   null| 2022-03-10 01:05:...|     null|               null|          null|      null|              null|      null|             null|          null|               null|         null|                      null|          null|            null|               null|                null|                   null|                 null|                      null|               null|            null|\n",
            "|   26745469|           00|0000013226860|    2020-04-20|          10000|                  00|      243|              30|          0|                      1|                      1|       226|                080|                 |                          |FRIEDERICH|                |      LEO IGNACIO|                  5|          M|1957-08-20|                    80|                 080|                  201|        100|                         0|                          82|                       21101000|                       0|                    null|                      null|                    null|                      null|                            |                 5|                       0|                  0|                  2|                       null|             null|            PCLE06R|                2|                              1|                  AC|                   18|              null|            null|                    |                      null|   0020132268607|                       042|                null|          007|       026745469|                   N|                   |     001|           2020-05-18|                     null|                2020-04-20|      2020-06-25|              174211|                P37B|         PCLE510|            N|                     null|             2020-05-18| 2022-03-10 01:05:...|     null|               null|          null|      null|              null|      null|             null|          null|               null|         null|                      null|          null|            null|               null|                null|                   null|                 null|                      null|               null|            null|\n",
            "|   19403025|           27|0000007880359|    2012-03-28|          10000|                  00|      418|              34|          0|                      1|                      8|       139|                   |                 |                          | VELAZQUEZ|                |         ROMUALDO|                  1|          M|1946-02-09|                    80|                 080|                  201|        100|                         0|                          82|                       21101000|                       0|                    null|                      null|                    null|                      null|                           0|                 0|                       0|                  0|                  1|                       null|             null|            PCLE25Q|                1|                              1|                  PO|                   47|              null|            null|                    |                      null|   0020078803593|                       042|                null|          016|       019403025|                   N|                 MD|     001|           2012-03-28|                     null|                2012-03-28|      2013-04-20|              175404|                P37B|         PCLE10P|            S|                     null|                   null| 2022-03-10 01:05:...|     null|               null|          null|      null|              null|      null|             null|          null|               null|         null|                      null|          null|            null|               null|                null|                   null|                 null|                      null|               null|            null|\n",
            "|   19963134|           27|0000007882950|    2013-05-28|          10000|                  01|      259|              30|          0|                      1|                      1|       553|                   |                 |                          |     ZUPEL|                |   RUBEN CEFERINO|                  5|          M|1949-03-07|                    80|                 080|                  201|        100|                         0|                          82|                       21101000|                       0|                    null|                      null|                    null|                      null|                           0|                 0|                       0|                  0|                  1|                       null|             null|            PCLE06R|                2|                              1|                  PO|                   50|              null|            null|                    |                      null|   0020078829509|                       042|                null|          038|       019963134|                   N|                   |     004|           2013-05-28|                     null|                2013-05-28|      2013-05-28|              175554|                P37B|         A118096|            S|                     null|                   null| 2022-03-10 01:05:...|     null|               null|          null|      null|              null|      null|             null|          null|               null|         null|                      null|          null|            null|               null|                null|                   null|                 null|                      null|               null|            null|\n",
            "|   06916693|           27|0000007883500|    2006-04-04|          10000|                    |      207|              34|          0|                      1|                      1|        11|                   |                 |                          |  SCARAFIA|                |          ALCIDES|                  1|          M|1948-08-26|                    80|                 080|                  201|        100|                         0|                          82|                       21101000|                       0|                    null|                      null|                    null|                      null|                            |                 0|                       0|                  0|                  1|                       null|             null|            PCLE25Q|                0|                              1|                  CA|                   47|              null|            null|                    |                      null|   0020078835002|                       042|                null|          016|       006916693|                   N|                   |     001|           2009-01-01|                     null|                2006-04-04|      2013-02-27|              174517|                P37B|          VUELCO|            S|                     null|                   null| 2022-03-10 01:05:...|     null|               null|          null|      null|              null|      null|             null|          null|               null|         null|                      null|          null|            null|               null|                null|                   null|                 null|                      null|               null|            null|\n",
            "|   19955757|           27|0000007885360|    2013-05-24|          10000|                  00|       15|              34|          0|                      1|                      8|        81|                   |                 |                          |    AVALOS|                |            LUCAS|                  1|          M|1949-01-01|                    80|                 080|                  201|        100|                         0|                          82|                       21101000|                       0|                    null|                      null|                    null|                      null|                           0|                 0|                       0|                  0|                  1|                       null|             null|            PCLE25Q|                1|                              1|                  PO|                   47|              null|            null|                    |                      null|   0020078853604|                       042|                null|          016|       019955757|                   N|                 MO|     001|           2013-05-24|                     null|                2013-05-24|      2013-05-24|              175554|                P37B|         PCLE10P|            S|                     null|                   null| 2022-03-10 01:05:...|     null|               null|          null|      null|              null|      null|             null|          null|               null|         null|                      null|          null|            null|               null|                null|                   null|                 null|                      null|               null|            null|\n",
            "|   01718049|           27|0000007889122|    2009-07-30|          74000|                  01|      237|              30|          0|                      1|                      1|       979|                   |                 |                          |   BARRERA|                | ALEJANDRO HECTOR|                  1|          M|1950-02-26|                    80|                 080|                  201|        100|                         0|                          82|                       21101000|                       0|                    null|                      null|                    null|                      null|                            |                 0|                       0|                  0|                  1|                       null|             null|            PCLE25Q|                0|                              1|                  PO|                   35|              null|            null|                    |                      null|   0020078891220|                       042|                null|          025|       001718049|                   N|                   |     003|           2009-07-30|                     null|                2009-07-30|      2009-07-30|              163820|                P37B|          VUELCO|            S|                     null|                   null| 2022-03-10 01:05:...|     null|               null|          null|      null|              null|      null|             null|          null|               null|         null|                      null|          null|            null|               null|                null|                   null|                 null|                      null|               null|            null|\n",
            "|   21466591|           27|0000007889212|    2015-04-23|          10000|                  00|      603|              34|          0|                      1|                      8|      2603|                   |                 |                          |    CORTEZ|                |          ROBERTO|                  1|          M|1950-02-05|                    80|                 080|                  201|        100|                         0|                          82|                       21101000|                       0|                    null|                      null|                    null|                      null|                           0|                 0|                       0|                  0|                  0|                       null|             null|            PCLE06R|                1|                              1|                  PO|                   47|              null|            null|                    |                      null|   0023078892129|                       042|                null|          016|       021466591|                   N|                 MD|     001|           2015-04-23|                     null|                2015-04-23|      2015-04-23|              231958|                P37B|         PCLE25H|            S|                     null|                   null| 2022-03-10 01:05:...|     null|               null|          null|      null|              null|      null|             null|          null|               null|         null|                      null|          null|            null|               null|                null|                   null|                 null|                      null|               null|            null|\n",
            "|   20706165|           27|0000007889953|    2014-09-15|          10000|                  00|      285|              34|          0|                      1|                      1|       487|                   |                 |                          |      CRUZ|                |      JUAN CARLOS|                  1|          M|1949-09-24|                    80|                 080|                  201|        100|                         0|                          82|                       21101000|                       0|                    null|                      null|                    null|                      null|                            |                 0|                       0|                  0|                  1|                       null|             null|           S1CFN667|                1|                              1|                  CA|                   47|              null|            null|                    |                      null|   0020078899531|                       042|                null|          016|       020706165|                   N|                   |     001|           2014-09-15|                     null|                2014-09-15|      2015-11-09|              184838|                P37B|         PCLE10P|            S|                     null|                   null| 2022-03-10 01:05:...|     null|               null|          null|      null|              null|      null|             null|          null|               null|         null|                      null|          null|            null|               null|                null|                   null|                 null|                      null|               null|            null|\n",
            "|   02997060|           25|0000007897097|    2011-02-28|          10000|                  00|      111|              34|          0|                      1|                      1|       378|                   |                 |                      BLOQ|      WYSS|                |     LUIS ROLANDO|                  1|          M|1942-08-27|                    80|                 080|                  201|        100|                         0|                          82|                       21101000|                       0|                    null|                      null|                    null|                      null|                           0|                 0|                       0|                  0|                  1|                       null|             null|            PCLE06R|                1|                              1|                  PO|                   47|              null|            null|                    |                      null|   0023078970979|                       042|                null|          016|       002997060|                   N|                   |     001|           2011-02-28|                     null|                2011-02-28|      2011-02-28|              162126|                P37B|          VUELCO|            S|                     null|                   null| 2022-03-10 01:05:...|     null|               null|          null|      null|              null|      null|             null|          null|               null|         null|                      null|          null|            null|               null|                null|                   null|                 null|                      null|               null|            null|\n",
            "|   04484525|           27|0000007898443|    1991-12-18|          10000|                  01|      218|              34|         13|                      1|                      1|       219|                   |                 |                          | BOGLIETTI|                |            RUBEN|                  1|          M|1942-02-12|                    80|                 080|                  201|        100|                         0|                          82|                       21101000|                       0|                    null|                      null|                    null|                      null|                           0|                 0|                       0|                  0|                  2|                       null|             null|            PCLE25Q|                0|                              1|                  CA|                   47|              null|            null|                    |                      null|   0020078984431|                       042|                null|          016|       004484525|                   N|                   |     001|           2009-01-01|                     null|                1999-02-17|      1999-02-17|              165931|                P37B|          VUELCO|            S|                     null|                   null| 2022-03-10 01:05:...|     null|               null|          null|      null|              null|      null|             null|          null|               null|         null|                      null|          null|            null|               null|                null|                   null|                 null|                      null|               null|            null|\n",
            "|   20405028|           25|0000007901907|    2014-03-12|          10000|                  00|      150|              34|          0|                      1|                      8|       498|                   |                 |                      BLOQ|   MENDOZA|                |  EPIFANIO VICTOR|                  1|          M|1949-04-07|                    80|                 080|                  201|        100|                         0|                          82|                       21101000|                       0|                    null|                      null|                    null|                      null|                           0|                 0|                       0|                  0|                  1|                       null|             null|            PCLE06R|                1|                              1|                  PO|                   47|              null|            null|                    |                      null|   0020079019071|                       042|                null|          016|       020405028|                   N|                 MO|     001|           2014-03-12|                     null|                2014-03-12|      2014-03-12|              161531|                P37B|         PCLE10P|            S|                     null|                   null| 2022-03-10 01:05:...|     null|               null|          null|      null|              null|      null|             null|          null|               null|         null|                      null|          null|            null|               null|                null|                   null|                 null|                      null|               null|            null|\n",
            "|   03099590|           27|0000007909556|    1997-05-22|          20050|                  01|      216|              34|          0|                      1|                      1|       225|                   |                 |                          |   PASCUAL|                |     JUAN ANTONIO|                  5|          M|1944-01-31|                    80|                 080|                  201|        100|                          |                          82|                       21101000|                       0|                    null|                      null|                    null|                      null|                            |                 0|                       0|                  0|                  3|                       null|             null|            PCLE07V|                0|                              1|                  CA|                   47|              null|            null|                    |                      null|   0020079095568|                       055|                null|          016|       001057996|                   N|                   |     001|           2009-01-01|                     null|                1997-05-22|      1998-07-05|              165345|                P37B|          VUELCO|            S|                     null|                   null| 2022-03-10 01:05:...|     null|               null|          null|      null|              null|      null|             null|          null|               null|         null|                      null|          null|            null|               null|                null|                   null|                 null|                      null|               null|            null|\n",
            "|   04762676|           00|0000025919431|    1999-08-13|          10000|                  01|      202|              34|          0|                      1|                      1|       522|                   |                 |                          |    MOYANO|                |   MARCOS ANTONIO|                  5|          M|1976-02-07|                    80|                 080|                  201|        100|                         0|                          82|                       21101000|                       0|                    null|                      null|                    null|                      null|                            |                 0|                       0|                  0|                  1|                       null|             null|            PCLE06R|                0|                              1|                  CA|                   47|              null|            null|                    |                      null|   0020259194319|                       042|                null|          016|       004762676|                   N|                   |     001|           2009-01-01|                     null|                1999-08-13|      2002-03-22|              111055|                P37B|          VUELCO|            S|                     null|                   null| 2022-03-10 01:05:...|     null|               null|          null|      null|              null|      null|             null|          null|               null|         null|                      null|          null|            null|               null|                null|                   null|                 null|                      null|               null|            null|\n",
            "|   23303554|           00|0000025919890|    2016-10-21|          10000|                  00|      603|              34|          0|                      1|                      8|      2603|                   |                 |                          |     GAIDO|                |GUSTAVO ALEJANDRO|                  1|          M|1977-07-24|                    80|                 080|                  201|        100|                         0|                          82|                       21101000|                       0|                    null|                      null|                    null|                      null|                           0|                 0|                       0|                  0|                  0|                       null|             null|            PCLE06R|                1|                              1|                  PO|                   47|              null|            null|                    |                      null|   0023259198909|                       042|                null|          016|       023303554|                   N|                 MD|     001|           2016-10-21|                     null|                2016-10-21|      2016-10-21|              231441|                P37B|         PCLE25H|            S|                     null|                   null| 2022-03-10 01:05:...|     null|               null|          null|      null|              null|      null|             null|          null|               null|         null|                      null|          null|            null|               null|                null|                   null|                 null|                      null|               null|            null|\n",
            "|   05483567|           00|0000025925477|    2001-05-17|          10000|                  01|       79|              34|          0|                      1|                      1|       216|                   |                 |                          |    TAIANA|                |      MAXIMILIANO|                  5|          M|1977-05-26|                    80|                 080|                  201|        100|                         0|                          82|                       21101000|                       0|                    null|                      null|                    null|                      null|                            |                 0|                       0|                  0|                  1|                       null|             null|            PCLE06R|                0|                              1|                  AC|                   47|              null|            null|                    |                      null|   0023259254779|                       042|                null|          016|       005483567|                   N|                   |     001|           2009-01-01|                     null|                2001-05-17|      2008-04-25|              044357|                P37B|          VUELCO|            N|                     null|                   null| 2022-03-10 01:05:...|     null|               null|          null|      null|              null|      null|             null|          null|               null|         null|                      null|          null|            null|               null|                null|                   null|                 null|                      null|               null|            null|\n",
            "|   02337659|           00|0000025926393|    2010-03-29|          10000|                  00|       76|              34|          0|                      1|                      1|       201|                   |                 |                          |   AGUIRRE|                |    GONZALO RAMON|                  1|          M|1977-07-22|                    80|                 080|                  201|        100|                         0|                          82|                       21101000|                       0|                    null|                      null|                    null|                      null|                            |                 0|                       0|                  0|                  2|                       null|             null|            PCLE06R|                2|                              1|                  CA|                   47|              null|            null|                    |                      null|   0020259263930|                       042|                null|          016|       002337659|                   N|                   |     001|           2013-08-26|                     null|                2010-03-29|      2016-11-08|              232012|                P37B|          VUELCO|            S|                     null|                   null| 2022-03-10 01:05:...|     null|               null|          null|      null|              null|      null|             null|          null|               null|         null|                      null|          null|            null|               null|                null|                   null|                 null|                      null|               null|            null|\n",
            "|   00888642|           00|0000017409288|    1992-10-29|          10000|                    |       91|              34|          0|                      1|                      1|        66|                   |                 |                          |     CITRO|                |    MARIA CLAUDIA|                  1|          F|1965-03-18|                    80|                 080|                  201|        100|                         0|                          82|                       21101000|                       0|                    null|                      null|                    null|                      null|                           0|                 0|                       0|                  0|                  0|                       null|             null|            PCLE06R|                0|                              1|                  CA|                   47|              null|            null|                    |                      null|   0027174092880|                       042|                null|          016|                |                   N|                   |     001|           2009-01-01|                     null|                1993-09-20|      2000-06-23|              105751|                P37B|          VUELCO|            S|                     null|                   null| 2022-03-10 01:05:...|     null|               null|          null|      null|              null|      null|             null|          null|               null|         null|                      null|          null|            null|               null|                null|                   null|                 null|                      null|               null|            null|\n",
            "|   27060621|           00|0000017411413|    2020-07-29|          10000|                  00|      603|              34|          0|                      1|                      8|      2603|                   |                 |                          |    MENDEZ|                |  ROSARIO BEATRIZ|                  1|          F|1965-04-28|                    80|                 080|                  201|        100|                         0|                          82|                       21101000|                       0|                    null|                      null|                    null|                      null|                           0|                 0|                       0|                  0|                  0|                       null|             null|            PCLE06R|                1|                              1|                  PO|                   47|              null|            null|                    |                      null|   0027174114132|                       042|                null|          016|       027060621|                   N|                 MD|     001|           2020-07-29|                     null|                2020-07-29|      2020-07-29|              003221|                P37B|         PCLE25H|            S|                     null|                   null| 2022-03-10 01:05:...|     null|               null|          null|      null|              null|      null|             null|          null|               null|         null|                      null|          null|            null|               null|                null|                   null|                 null|                      null|               null|            null|\n",
            "|   02169869|           00|0000017411728|    1997-07-14|          10000|                  01|        4|              34|          0|                      1|                      1|      1073|                080|                 |                          |    OLAZAR|                |     CLAUDIO LUIS|                  5|          M|1965-07-06|                    80|                 080|                  201|        100|                         0|                          82|                       21101000|                       0|                    null|                      null|                    null|                      null|                            |                 0|                       0|                  0|                  0|                       null|             null|            PCLE06R|                2|                              1|                  AC|                    4|              null|            null|                    |                      null|   0020174117285|                       042|          1995-01-01|          007|                |                   N|                   |     001|           2018-11-07|                     null|                1997-07-14|      2020-04-29|              230139|                P37C|          VUELCO|            N|                     null|                   null| 2022-03-10 01:05:...|     null|               null|          null|      null|              null|      null|             null|          null|               null|         null|                      null|          null|            null|               null|                null|                   null|                 null|                      null|               null|            null|\n",
            "+-----------+-------------+-------------+--------------+---------------+--------------------+---------+----------------+-----------+-----------------------+-----------------------+----------+-------------------+-----------------+--------------------------+----------+----------------+-----------------+-------------------+-----------+----------+----------------------+--------------------+---------------------+-----------+--------------------------+----------------------------+-------------------------------+------------------------+------------------------+--------------------------+------------------------+--------------------------+----------------------------+------------------+------------------------+-------------------+-------------------+---------------------------+-----------------+-------------------+-----------------+-------------------------------+--------------------+---------------------+------------------+----------------+--------------------+--------------------------+----------------+--------------------------+--------------------+-------------+----------------+--------------------+-------------------+--------+---------------------+-------------------------+--------------------------+----------------+--------------------+--------------------+----------------+-------------+-------------------------+-----------------------+---------------------+---------+-------------------+--------------+----------+------------------+----------+-----------------+--------------+-------------------+-------------+--------------------------+--------------+----------------+-------------------+--------------------+-----------------------+---------------------+--------------------------+-------------------+----------------+\n",
            "only showing top 20 rows\n",
            "\n"
          ]
        }
      ]
    },
    {
      "cell_type": "markdown",
      "source": [
        "# Extraccion de datos"
      ],
      "metadata": {
        "id": "OIA30LWU62Ft"
      }
    },
    {
      "cell_type": "code",
      "source": [
        "df_emails = spark.read.parquet('/content/Datasets/email.snappy.parquet')"
      ],
      "metadata": {
        "id": "E-JBgpzQ68vQ"
      },
      "execution_count": 70,
      "outputs": []
    },
    {
      "cell_type": "code",
      "source": [
        "df_customer = spark.read.parquet('/content/Datasets/customer_basics.snappy.parquet')"
      ],
      "metadata": {
        "id": "8S6Si_QV8BZ3"
      },
      "execution_count": 76,
      "outputs": []
    },
    {
      "cell_type": "code",
      "source": [
        "\n",
        "df_customer_emails = df_emails.join(df_customer, 'customer_id', how=\"right\")"
      ],
      "metadata": {
        "id": "imA7NZYx7Bmb"
      },
      "execution_count": 77,
      "outputs": []
    },
    {
      "cell_type": "markdown",
      "source": [
        "#Filtrado de e-mails"
      ],
      "metadata": {
        "id": "DingJiLQ7D4A"
      }
    },
    {
      "cell_type": "code",
      "source": [
        "import pyspark.sql.functions as F\n",
        "from pyspark.sql import SparkSession\n",
        "from pyspark.sql.functions import concat,col, row_number, desc, collect_list\n",
        "from pyspark.sql.window import Window"
      ],
      "metadata": {
        "id": "VEzfV2IkY-kj"
      },
      "execution_count": 83,
      "outputs": []
    },
    {
      "cell_type": "code",
      "source": [
        "df_emails_cut = df_emails.drop('role_type', 'email_type','address_sequence_id','residence_type','primary_email_type','email_domain_type','encripted_type','field_length_number','comments_desc','customer_email_status_type','email_app_type','register_user_id','last_change_user_id','last_change_hms_date','last_change_terminal_id','operational_load_date','customer_email_status_date','registry_entry_date')\n"
      ],
      "metadata": {
        "id": "7UgOl38u7JfW"
      },
      "execution_count": 78,
      "outputs": []
    },
    {
      "cell_type": "code",
      "source": [
        "df_emails_sorted = df_emails_cut.orderBy([df_emails_cut.customer_id, desc('last_change_date')])\n"
      ],
      "metadata": {
        "id": "JA76P0pC7Oci"
      },
      "execution_count": 84,
      "outputs": []
    },
    {
      "cell_type": "code",
      "source": [
        "df_emails_sorted.toPandas()\n"
      ],
      "metadata": {
        "colab": {
          "base_uri": "https://localhost:8080/",
          "height": 423
        },
        "id": "MpSxPqIE7QI4",
        "outputId": "0a64c0ab-5872-469d-b29d-5587b836e3e9"
      },
      "execution_count": 85,
      "outputs": [
        {
          "output_type": "execute_result",
          "data": {
            "text/plain": [
              "    customer_id                        email_desc last_change_date\n",
              "0      00000000        ALVAROJOSE.DAGAND@BBVA.COM       2019-12-18\n",
              "1      00000000         LIBRERIAURUGUAY@GMAIL.COM       2015-10-27\n",
              "2      00027555           ALEFRID666@YAHOO.COM.AR       2012-07-08\n",
              "3      00027568                 SCATIVA@GMAIL.COM       2016-03-15\n",
              "4      00027595                      NO@GMAIL.COM       2018-08-07\n",
              "..          ...                               ...              ...\n",
              "495    27514366        NICOLAS.SZEBUN@HOTMAIL.COM       2021-01-25\n",
              "496    27514374           TOMASBORBAS@HOTMAIL.COM       2021-01-25\n",
              "497    27514379           FSANFRANCISCO@GMAIL.COM       2021-01-26\n",
              "498    27514380           JUANCA.BIANCU@GMAIL.COM       2021-01-25\n",
              "499    27514381  CLAUDIABETYBARRAZA7026@GMAIL.COM       2021-03-09\n",
              "\n",
              "[500 rows x 3 columns]"
            ],
            "text/html": [
              "\n",
              "  <div id=\"df-5464347f-b33d-466b-ba9d-efb2f538f154\">\n",
              "    <div class=\"colab-df-container\">\n",
              "      <div>\n",
              "<style scoped>\n",
              "    .dataframe tbody tr th:only-of-type {\n",
              "        vertical-align: middle;\n",
              "    }\n",
              "\n",
              "    .dataframe tbody tr th {\n",
              "        vertical-align: top;\n",
              "    }\n",
              "\n",
              "    .dataframe thead th {\n",
              "        text-align: right;\n",
              "    }\n",
              "</style>\n",
              "<table border=\"1\" class=\"dataframe\">\n",
              "  <thead>\n",
              "    <tr style=\"text-align: right;\">\n",
              "      <th></th>\n",
              "      <th>customer_id</th>\n",
              "      <th>email_desc</th>\n",
              "      <th>last_change_date</th>\n",
              "    </tr>\n",
              "  </thead>\n",
              "  <tbody>\n",
              "    <tr>\n",
              "      <th>0</th>\n",
              "      <td>00000000</td>\n",
              "      <td>ALVAROJOSE.DAGAND@BBVA.COM</td>\n",
              "      <td>2019-12-18</td>\n",
              "    </tr>\n",
              "    <tr>\n",
              "      <th>1</th>\n",
              "      <td>00000000</td>\n",
              "      <td>LIBRERIAURUGUAY@GMAIL.COM</td>\n",
              "      <td>2015-10-27</td>\n",
              "    </tr>\n",
              "    <tr>\n",
              "      <th>2</th>\n",
              "      <td>00027555</td>\n",
              "      <td>ALEFRID666@YAHOO.COM.AR</td>\n",
              "      <td>2012-07-08</td>\n",
              "    </tr>\n",
              "    <tr>\n",
              "      <th>3</th>\n",
              "      <td>00027568</td>\n",
              "      <td>SCATIVA@GMAIL.COM</td>\n",
              "      <td>2016-03-15</td>\n",
              "    </tr>\n",
              "    <tr>\n",
              "      <th>4</th>\n",
              "      <td>00027595</td>\n",
              "      <td>NO@GMAIL.COM</td>\n",
              "      <td>2018-08-07</td>\n",
              "    </tr>\n",
              "    <tr>\n",
              "      <th>...</th>\n",
              "      <td>...</td>\n",
              "      <td>...</td>\n",
              "      <td>...</td>\n",
              "    </tr>\n",
              "    <tr>\n",
              "      <th>495</th>\n",
              "      <td>27514366</td>\n",
              "      <td>NICOLAS.SZEBUN@HOTMAIL.COM</td>\n",
              "      <td>2021-01-25</td>\n",
              "    </tr>\n",
              "    <tr>\n",
              "      <th>496</th>\n",
              "      <td>27514374</td>\n",
              "      <td>TOMASBORBAS@HOTMAIL.COM</td>\n",
              "      <td>2021-01-25</td>\n",
              "    </tr>\n",
              "    <tr>\n",
              "      <th>497</th>\n",
              "      <td>27514379</td>\n",
              "      <td>FSANFRANCISCO@GMAIL.COM</td>\n",
              "      <td>2021-01-26</td>\n",
              "    </tr>\n",
              "    <tr>\n",
              "      <th>498</th>\n",
              "      <td>27514380</td>\n",
              "      <td>JUANCA.BIANCU@GMAIL.COM</td>\n",
              "      <td>2021-01-25</td>\n",
              "    </tr>\n",
              "    <tr>\n",
              "      <th>499</th>\n",
              "      <td>27514381</td>\n",
              "      <td>CLAUDIABETYBARRAZA7026@GMAIL.COM</td>\n",
              "      <td>2021-03-09</td>\n",
              "    </tr>\n",
              "  </tbody>\n",
              "</table>\n",
              "<p>500 rows × 3 columns</p>\n",
              "</div>\n",
              "      <button class=\"colab-df-convert\" onclick=\"convertToInteractive('df-5464347f-b33d-466b-ba9d-efb2f538f154')\"\n",
              "              title=\"Convert this dataframe to an interactive table.\"\n",
              "              style=\"display:none;\">\n",
              "        \n",
              "  <svg xmlns=\"http://www.w3.org/2000/svg\" height=\"24px\"viewBox=\"0 0 24 24\"\n",
              "       width=\"24px\">\n",
              "    <path d=\"M0 0h24v24H0V0z\" fill=\"none\"/>\n",
              "    <path d=\"M18.56 5.44l.94 2.06.94-2.06 2.06-.94-2.06-.94-.94-2.06-.94 2.06-2.06.94zm-11 1L8.5 8.5l.94-2.06 2.06-.94-2.06-.94L8.5 2.5l-.94 2.06-2.06.94zm10 10l.94 2.06.94-2.06 2.06-.94-2.06-.94-.94-2.06-.94 2.06-2.06.94z\"/><path d=\"M17.41 7.96l-1.37-1.37c-.4-.4-.92-.59-1.43-.59-.52 0-1.04.2-1.43.59L10.3 9.45l-7.72 7.72c-.78.78-.78 2.05 0 2.83L4 21.41c.39.39.9.59 1.41.59.51 0 1.02-.2 1.41-.59l7.78-7.78 2.81-2.81c.8-.78.8-2.07 0-2.86zM5.41 20L4 18.59l7.72-7.72 1.47 1.35L5.41 20z\"/>\n",
              "  </svg>\n",
              "      </button>\n",
              "      \n",
              "  <style>\n",
              "    .colab-df-container {\n",
              "      display:flex;\n",
              "      flex-wrap:wrap;\n",
              "      gap: 12px;\n",
              "    }\n",
              "\n",
              "    .colab-df-convert {\n",
              "      background-color: #E8F0FE;\n",
              "      border: none;\n",
              "      border-radius: 50%;\n",
              "      cursor: pointer;\n",
              "      display: none;\n",
              "      fill: #1967D2;\n",
              "      height: 32px;\n",
              "      padding: 0 0 0 0;\n",
              "      width: 32px;\n",
              "    }\n",
              "\n",
              "    .colab-df-convert:hover {\n",
              "      background-color: #E2EBFA;\n",
              "      box-shadow: 0px 1px 2px rgba(60, 64, 67, 0.3), 0px 1px 3px 1px rgba(60, 64, 67, 0.15);\n",
              "      fill: #174EA6;\n",
              "    }\n",
              "\n",
              "    [theme=dark] .colab-df-convert {\n",
              "      background-color: #3B4455;\n",
              "      fill: #D2E3FC;\n",
              "    }\n",
              "\n",
              "    [theme=dark] .colab-df-convert:hover {\n",
              "      background-color: #434B5C;\n",
              "      box-shadow: 0px 1px 3px 1px rgba(0, 0, 0, 0.15);\n",
              "      filter: drop-shadow(0px 1px 2px rgba(0, 0, 0, 0.3));\n",
              "      fill: #FFFFFF;\n",
              "    }\n",
              "  </style>\n",
              "\n",
              "      <script>\n",
              "        const buttonEl =\n",
              "          document.querySelector('#df-5464347f-b33d-466b-ba9d-efb2f538f154 button.colab-df-convert');\n",
              "        buttonEl.style.display =\n",
              "          google.colab.kernel.accessAllowed ? 'block' : 'none';\n",
              "\n",
              "        async function convertToInteractive(key) {\n",
              "          const element = document.querySelector('#df-5464347f-b33d-466b-ba9d-efb2f538f154');\n",
              "          const dataTable =\n",
              "            await google.colab.kernel.invokeFunction('convertToInteractive',\n",
              "                                                     [key], {});\n",
              "          if (!dataTable) return;\n",
              "\n",
              "          const docLinkHtml = 'Like what you see? Visit the ' +\n",
              "            '<a target=\"_blank\" href=https://colab.research.google.com/notebooks/data_table.ipynb>data table notebook</a>'\n",
              "            + ' to learn more about interactive tables.';\n",
              "          element.innerHTML = '';\n",
              "          dataTable['output_type'] = 'display_data';\n",
              "          await google.colab.output.renderOutput(dataTable, element);\n",
              "          const docLink = document.createElement('div');\n",
              "          docLink.innerHTML = docLinkHtml;\n",
              "          element.appendChild(docLink);\n",
              "        }\n",
              "      </script>\n",
              "    </div>\n",
              "  </div>\n",
              "  "
            ]
          },
          "metadata": {},
          "execution_count": 85
        }
      ]
    },
    {
      "cell_type": "code",
      "source": [
        "window = Window.partitionBy(df_emails_sorted.customer_id).orderBy(desc(df_emails_sorted.last_change_date))\n"
      ],
      "metadata": {
        "id": "5cpOKjHc7Rie"
      },
      "execution_count": 86,
      "outputs": []
    },
    {
      "cell_type": "code",
      "source": [
        "df_email = df_emails_sorted.withColumn('row_num', row_number().over(window))\n"
      ],
      "metadata": {
        "id": "7UxtCP8S7TFT"
      },
      "execution_count": 87,
      "outputs": []
    },
    {
      "cell_type": "code",
      "source": [
        "df_email = df_email.filter(df_email.row_num <= 3)\n"
      ],
      "metadata": {
        "id": "YSOWifvK7Ulq"
      },
      "execution_count": 88,
      "outputs": []
    },
    {
      "cell_type": "code",
      "source": [
        "df_email.toPandas()"
      ],
      "metadata": {
        "colab": {
          "base_uri": "https://localhost:8080/",
          "height": 423
        },
        "id": "9QfQ6WxZ7XzB",
        "outputId": "07ad09da-7f8b-4dd4-dbe8-dd86518f2fe9"
      },
      "execution_count": 89,
      "outputs": [
        {
          "output_type": "execute_result",
          "data": {
            "text/plain": [
              "    customer_id                        email_desc last_change_date  row_num\n",
              "0      00000000        ALVAROJOSE.DAGAND@BBVA.COM       2019-12-18        1\n",
              "1      00000000         LIBRERIAURUGUAY@GMAIL.COM       2015-10-27        2\n",
              "2      00027555           ALEFRID666@YAHOO.COM.AR       2012-07-08        1\n",
              "3      00027568                 SCATIVA@GMAIL.COM       2016-03-15        1\n",
              "4      00027595                      NO@GMAIL.COM       2018-08-07        1\n",
              "..          ...                               ...              ...      ...\n",
              "495    27514366        NICOLAS.SZEBUN@HOTMAIL.COM       2021-01-25        1\n",
              "496    27514374           TOMASBORBAS@HOTMAIL.COM       2021-01-25        1\n",
              "497    27514379           FSANFRANCISCO@GMAIL.COM       2021-01-26        1\n",
              "498    27514380           JUANCA.BIANCU@GMAIL.COM       2021-01-25        1\n",
              "499    27514381  CLAUDIABETYBARRAZA7026@GMAIL.COM       2021-03-09        1\n",
              "\n",
              "[500 rows x 4 columns]"
            ],
            "text/html": [
              "\n",
              "  <div id=\"df-c91ebec4-59c7-4a67-8ae1-32ad33169ee3\">\n",
              "    <div class=\"colab-df-container\">\n",
              "      <div>\n",
              "<style scoped>\n",
              "    .dataframe tbody tr th:only-of-type {\n",
              "        vertical-align: middle;\n",
              "    }\n",
              "\n",
              "    .dataframe tbody tr th {\n",
              "        vertical-align: top;\n",
              "    }\n",
              "\n",
              "    .dataframe thead th {\n",
              "        text-align: right;\n",
              "    }\n",
              "</style>\n",
              "<table border=\"1\" class=\"dataframe\">\n",
              "  <thead>\n",
              "    <tr style=\"text-align: right;\">\n",
              "      <th></th>\n",
              "      <th>customer_id</th>\n",
              "      <th>email_desc</th>\n",
              "      <th>last_change_date</th>\n",
              "      <th>row_num</th>\n",
              "    </tr>\n",
              "  </thead>\n",
              "  <tbody>\n",
              "    <tr>\n",
              "      <th>0</th>\n",
              "      <td>00000000</td>\n",
              "      <td>ALVAROJOSE.DAGAND@BBVA.COM</td>\n",
              "      <td>2019-12-18</td>\n",
              "      <td>1</td>\n",
              "    </tr>\n",
              "    <tr>\n",
              "      <th>1</th>\n",
              "      <td>00000000</td>\n",
              "      <td>LIBRERIAURUGUAY@GMAIL.COM</td>\n",
              "      <td>2015-10-27</td>\n",
              "      <td>2</td>\n",
              "    </tr>\n",
              "    <tr>\n",
              "      <th>2</th>\n",
              "      <td>00027555</td>\n",
              "      <td>ALEFRID666@YAHOO.COM.AR</td>\n",
              "      <td>2012-07-08</td>\n",
              "      <td>1</td>\n",
              "    </tr>\n",
              "    <tr>\n",
              "      <th>3</th>\n",
              "      <td>00027568</td>\n",
              "      <td>SCATIVA@GMAIL.COM</td>\n",
              "      <td>2016-03-15</td>\n",
              "      <td>1</td>\n",
              "    </tr>\n",
              "    <tr>\n",
              "      <th>4</th>\n",
              "      <td>00027595</td>\n",
              "      <td>NO@GMAIL.COM</td>\n",
              "      <td>2018-08-07</td>\n",
              "      <td>1</td>\n",
              "    </tr>\n",
              "    <tr>\n",
              "      <th>...</th>\n",
              "      <td>...</td>\n",
              "      <td>...</td>\n",
              "      <td>...</td>\n",
              "      <td>...</td>\n",
              "    </tr>\n",
              "    <tr>\n",
              "      <th>495</th>\n",
              "      <td>27514366</td>\n",
              "      <td>NICOLAS.SZEBUN@HOTMAIL.COM</td>\n",
              "      <td>2021-01-25</td>\n",
              "      <td>1</td>\n",
              "    </tr>\n",
              "    <tr>\n",
              "      <th>496</th>\n",
              "      <td>27514374</td>\n",
              "      <td>TOMASBORBAS@HOTMAIL.COM</td>\n",
              "      <td>2021-01-25</td>\n",
              "      <td>1</td>\n",
              "    </tr>\n",
              "    <tr>\n",
              "      <th>497</th>\n",
              "      <td>27514379</td>\n",
              "      <td>FSANFRANCISCO@GMAIL.COM</td>\n",
              "      <td>2021-01-26</td>\n",
              "      <td>1</td>\n",
              "    </tr>\n",
              "    <tr>\n",
              "      <th>498</th>\n",
              "      <td>27514380</td>\n",
              "      <td>JUANCA.BIANCU@GMAIL.COM</td>\n",
              "      <td>2021-01-25</td>\n",
              "      <td>1</td>\n",
              "    </tr>\n",
              "    <tr>\n",
              "      <th>499</th>\n",
              "      <td>27514381</td>\n",
              "      <td>CLAUDIABETYBARRAZA7026@GMAIL.COM</td>\n",
              "      <td>2021-03-09</td>\n",
              "      <td>1</td>\n",
              "    </tr>\n",
              "  </tbody>\n",
              "</table>\n",
              "<p>500 rows × 4 columns</p>\n",
              "</div>\n",
              "      <button class=\"colab-df-convert\" onclick=\"convertToInteractive('df-c91ebec4-59c7-4a67-8ae1-32ad33169ee3')\"\n",
              "              title=\"Convert this dataframe to an interactive table.\"\n",
              "              style=\"display:none;\">\n",
              "        \n",
              "  <svg xmlns=\"http://www.w3.org/2000/svg\" height=\"24px\"viewBox=\"0 0 24 24\"\n",
              "       width=\"24px\">\n",
              "    <path d=\"M0 0h24v24H0V0z\" fill=\"none\"/>\n",
              "    <path d=\"M18.56 5.44l.94 2.06.94-2.06 2.06-.94-2.06-.94-.94-2.06-.94 2.06-2.06.94zm-11 1L8.5 8.5l.94-2.06 2.06-.94-2.06-.94L8.5 2.5l-.94 2.06-2.06.94zm10 10l.94 2.06.94-2.06 2.06-.94-2.06-.94-.94-2.06-.94 2.06-2.06.94z\"/><path d=\"M17.41 7.96l-1.37-1.37c-.4-.4-.92-.59-1.43-.59-.52 0-1.04.2-1.43.59L10.3 9.45l-7.72 7.72c-.78.78-.78 2.05 0 2.83L4 21.41c.39.39.9.59 1.41.59.51 0 1.02-.2 1.41-.59l7.78-7.78 2.81-2.81c.8-.78.8-2.07 0-2.86zM5.41 20L4 18.59l7.72-7.72 1.47 1.35L5.41 20z\"/>\n",
              "  </svg>\n",
              "      </button>\n",
              "      \n",
              "  <style>\n",
              "    .colab-df-container {\n",
              "      display:flex;\n",
              "      flex-wrap:wrap;\n",
              "      gap: 12px;\n",
              "    }\n",
              "\n",
              "    .colab-df-convert {\n",
              "      background-color: #E8F0FE;\n",
              "      border: none;\n",
              "      border-radius: 50%;\n",
              "      cursor: pointer;\n",
              "      display: none;\n",
              "      fill: #1967D2;\n",
              "      height: 32px;\n",
              "      padding: 0 0 0 0;\n",
              "      width: 32px;\n",
              "    }\n",
              "\n",
              "    .colab-df-convert:hover {\n",
              "      background-color: #E2EBFA;\n",
              "      box-shadow: 0px 1px 2px rgba(60, 64, 67, 0.3), 0px 1px 3px 1px rgba(60, 64, 67, 0.15);\n",
              "      fill: #174EA6;\n",
              "    }\n",
              "\n",
              "    [theme=dark] .colab-df-convert {\n",
              "      background-color: #3B4455;\n",
              "      fill: #D2E3FC;\n",
              "    }\n",
              "\n",
              "    [theme=dark] .colab-df-convert:hover {\n",
              "      background-color: #434B5C;\n",
              "      box-shadow: 0px 1px 3px 1px rgba(0, 0, 0, 0.15);\n",
              "      filter: drop-shadow(0px 1px 2px rgba(0, 0, 0, 0.3));\n",
              "      fill: #FFFFFF;\n",
              "    }\n",
              "  </style>\n",
              "\n",
              "      <script>\n",
              "        const buttonEl =\n",
              "          document.querySelector('#df-c91ebec4-59c7-4a67-8ae1-32ad33169ee3 button.colab-df-convert');\n",
              "        buttonEl.style.display =\n",
              "          google.colab.kernel.accessAllowed ? 'block' : 'none';\n",
              "\n",
              "        async function convertToInteractive(key) {\n",
              "          const element = document.querySelector('#df-c91ebec4-59c7-4a67-8ae1-32ad33169ee3');\n",
              "          const dataTable =\n",
              "            await google.colab.kernel.invokeFunction('convertToInteractive',\n",
              "                                                     [key], {});\n",
              "          if (!dataTable) return;\n",
              "\n",
              "          const docLinkHtml = 'Like what you see? Visit the ' +\n",
              "            '<a target=\"_blank\" href=https://colab.research.google.com/notebooks/data_table.ipynb>data table notebook</a>'\n",
              "            + ' to learn more about interactive tables.';\n",
              "          element.innerHTML = '';\n",
              "          dataTable['output_type'] = 'display_data';\n",
              "          await google.colab.output.renderOutput(dataTable, element);\n",
              "          const docLink = document.createElement('div');\n",
              "          docLink.innerHTML = docLinkHtml;\n",
              "          element.appendChild(docLink);\n",
              "        }\n",
              "      </script>\n",
              "    </div>\n",
              "  </div>\n",
              "  "
            ]
          },
          "metadata": {},
          "execution_count": 89
        }
      ]
    },
    {
      "cell_type": "code",
      "source": [
        "df_pivot_email = df_email.groupBy('customer_id').agg(collect_list('email_desc').alias('last_3_changes_list'))"
      ],
      "metadata": {
        "id": "Y6_mGniB7Ycq"
      },
      "execution_count": 90,
      "outputs": []
    },
    {
      "cell_type": "code",
      "source": [
        "df_pivot_email = df_pivot_email.selectExpr('customer_id', 'last_3_changes_list[0] as Email_1', 'last_3_changes_list[1] as Email_2', 'last_3_changes_list[2] as Email_3')"
      ],
      "metadata": {
        "id": "mfnHwkIT7bwK"
      },
      "execution_count": 91,
      "outputs": []
    },
    {
      "cell_type": "code",
      "source": [
        "df_pivot_email.toPandas()"
      ],
      "metadata": {
        "colab": {
          "base_uri": "https://localhost:8080/",
          "height": 423
        },
        "id": "y9xawUGr7b59",
        "outputId": "ed5bc0cd-dd7c-4046-94ae-2c66527b4fcc"
      },
      "execution_count": 92,
      "outputs": [
        {
          "output_type": "execute_result",
          "data": {
            "text/plain": [
              "    customer_id                           Email_1                    Email_2  \\\n",
              "0      00000000        ALVAROJOSE.DAGAND@BBVA.COM  LIBRERIAURUGUAY@GMAIL.COM   \n",
              "1      00027555           ALEFRID666@YAHOO.COM.AR                       None   \n",
              "2      00027568                 SCATIVA@GMAIL.COM                       None   \n",
              "3      00027595                      NO@GMAIL.COM                       None   \n",
              "4      00027609              lindocampo@yahoo.com                       None   \n",
              "..          ...                               ...                        ...   \n",
              "424    27514366        NICOLAS.SZEBUN@HOTMAIL.COM                       None   \n",
              "425    27514374           TOMASBORBAS@HOTMAIL.COM                       None   \n",
              "426    27514379           FSANFRANCISCO@GMAIL.COM                       None   \n",
              "427    27514380           JUANCA.BIANCU@GMAIL.COM                       None   \n",
              "428    27514381  CLAUDIABETYBARRAZA7026@GMAIL.COM                       None   \n",
              "\n",
              "    Email_3  \n",
              "0      None  \n",
              "1      None  \n",
              "2      None  \n",
              "3      None  \n",
              "4      None  \n",
              "..      ...  \n",
              "424    None  \n",
              "425    None  \n",
              "426    None  \n",
              "427    None  \n",
              "428    None  \n",
              "\n",
              "[429 rows x 4 columns]"
            ],
            "text/html": [
              "\n",
              "  <div id=\"df-8c4eb23d-6f0f-4773-8a49-9e6ddf49bccd\">\n",
              "    <div class=\"colab-df-container\">\n",
              "      <div>\n",
              "<style scoped>\n",
              "    .dataframe tbody tr th:only-of-type {\n",
              "        vertical-align: middle;\n",
              "    }\n",
              "\n",
              "    .dataframe tbody tr th {\n",
              "        vertical-align: top;\n",
              "    }\n",
              "\n",
              "    .dataframe thead th {\n",
              "        text-align: right;\n",
              "    }\n",
              "</style>\n",
              "<table border=\"1\" class=\"dataframe\">\n",
              "  <thead>\n",
              "    <tr style=\"text-align: right;\">\n",
              "      <th></th>\n",
              "      <th>customer_id</th>\n",
              "      <th>Email_1</th>\n",
              "      <th>Email_2</th>\n",
              "      <th>Email_3</th>\n",
              "    </tr>\n",
              "  </thead>\n",
              "  <tbody>\n",
              "    <tr>\n",
              "      <th>0</th>\n",
              "      <td>00000000</td>\n",
              "      <td>ALVAROJOSE.DAGAND@BBVA.COM</td>\n",
              "      <td>LIBRERIAURUGUAY@GMAIL.COM</td>\n",
              "      <td>None</td>\n",
              "    </tr>\n",
              "    <tr>\n",
              "      <th>1</th>\n",
              "      <td>00027555</td>\n",
              "      <td>ALEFRID666@YAHOO.COM.AR</td>\n",
              "      <td>None</td>\n",
              "      <td>None</td>\n",
              "    </tr>\n",
              "    <tr>\n",
              "      <th>2</th>\n",
              "      <td>00027568</td>\n",
              "      <td>SCATIVA@GMAIL.COM</td>\n",
              "      <td>None</td>\n",
              "      <td>None</td>\n",
              "    </tr>\n",
              "    <tr>\n",
              "      <th>3</th>\n",
              "      <td>00027595</td>\n",
              "      <td>NO@GMAIL.COM</td>\n",
              "      <td>None</td>\n",
              "      <td>None</td>\n",
              "    </tr>\n",
              "    <tr>\n",
              "      <th>4</th>\n",
              "      <td>00027609</td>\n",
              "      <td>lindocampo@yahoo.com</td>\n",
              "      <td>None</td>\n",
              "      <td>None</td>\n",
              "    </tr>\n",
              "    <tr>\n",
              "      <th>...</th>\n",
              "      <td>...</td>\n",
              "      <td>...</td>\n",
              "      <td>...</td>\n",
              "      <td>...</td>\n",
              "    </tr>\n",
              "    <tr>\n",
              "      <th>424</th>\n",
              "      <td>27514366</td>\n",
              "      <td>NICOLAS.SZEBUN@HOTMAIL.COM</td>\n",
              "      <td>None</td>\n",
              "      <td>None</td>\n",
              "    </tr>\n",
              "    <tr>\n",
              "      <th>425</th>\n",
              "      <td>27514374</td>\n",
              "      <td>TOMASBORBAS@HOTMAIL.COM</td>\n",
              "      <td>None</td>\n",
              "      <td>None</td>\n",
              "    </tr>\n",
              "    <tr>\n",
              "      <th>426</th>\n",
              "      <td>27514379</td>\n",
              "      <td>FSANFRANCISCO@GMAIL.COM</td>\n",
              "      <td>None</td>\n",
              "      <td>None</td>\n",
              "    </tr>\n",
              "    <tr>\n",
              "      <th>427</th>\n",
              "      <td>27514380</td>\n",
              "      <td>JUANCA.BIANCU@GMAIL.COM</td>\n",
              "      <td>None</td>\n",
              "      <td>None</td>\n",
              "    </tr>\n",
              "    <tr>\n",
              "      <th>428</th>\n",
              "      <td>27514381</td>\n",
              "      <td>CLAUDIABETYBARRAZA7026@GMAIL.COM</td>\n",
              "      <td>None</td>\n",
              "      <td>None</td>\n",
              "    </tr>\n",
              "  </tbody>\n",
              "</table>\n",
              "<p>429 rows × 4 columns</p>\n",
              "</div>\n",
              "      <button class=\"colab-df-convert\" onclick=\"convertToInteractive('df-8c4eb23d-6f0f-4773-8a49-9e6ddf49bccd')\"\n",
              "              title=\"Convert this dataframe to an interactive table.\"\n",
              "              style=\"display:none;\">\n",
              "        \n",
              "  <svg xmlns=\"http://www.w3.org/2000/svg\" height=\"24px\"viewBox=\"0 0 24 24\"\n",
              "       width=\"24px\">\n",
              "    <path d=\"M0 0h24v24H0V0z\" fill=\"none\"/>\n",
              "    <path d=\"M18.56 5.44l.94 2.06.94-2.06 2.06-.94-2.06-.94-.94-2.06-.94 2.06-2.06.94zm-11 1L8.5 8.5l.94-2.06 2.06-.94-2.06-.94L8.5 2.5l-.94 2.06-2.06.94zm10 10l.94 2.06.94-2.06 2.06-.94-2.06-.94-.94-2.06-.94 2.06-2.06.94z\"/><path d=\"M17.41 7.96l-1.37-1.37c-.4-.4-.92-.59-1.43-.59-.52 0-1.04.2-1.43.59L10.3 9.45l-7.72 7.72c-.78.78-.78 2.05 0 2.83L4 21.41c.39.39.9.59 1.41.59.51 0 1.02-.2 1.41-.59l7.78-7.78 2.81-2.81c.8-.78.8-2.07 0-2.86zM5.41 20L4 18.59l7.72-7.72 1.47 1.35L5.41 20z\"/>\n",
              "  </svg>\n",
              "      </button>\n",
              "      \n",
              "  <style>\n",
              "    .colab-df-container {\n",
              "      display:flex;\n",
              "      flex-wrap:wrap;\n",
              "      gap: 12px;\n",
              "    }\n",
              "\n",
              "    .colab-df-convert {\n",
              "      background-color: #E8F0FE;\n",
              "      border: none;\n",
              "      border-radius: 50%;\n",
              "      cursor: pointer;\n",
              "      display: none;\n",
              "      fill: #1967D2;\n",
              "      height: 32px;\n",
              "      padding: 0 0 0 0;\n",
              "      width: 32px;\n",
              "    }\n",
              "\n",
              "    .colab-df-convert:hover {\n",
              "      background-color: #E2EBFA;\n",
              "      box-shadow: 0px 1px 2px rgba(60, 64, 67, 0.3), 0px 1px 3px 1px rgba(60, 64, 67, 0.15);\n",
              "      fill: #174EA6;\n",
              "    }\n",
              "\n",
              "    [theme=dark] .colab-df-convert {\n",
              "      background-color: #3B4455;\n",
              "      fill: #D2E3FC;\n",
              "    }\n",
              "\n",
              "    [theme=dark] .colab-df-convert:hover {\n",
              "      background-color: #434B5C;\n",
              "      box-shadow: 0px 1px 3px 1px rgba(0, 0, 0, 0.15);\n",
              "      filter: drop-shadow(0px 1px 2px rgba(0, 0, 0, 0.3));\n",
              "      fill: #FFFFFF;\n",
              "    }\n",
              "  </style>\n",
              "\n",
              "      <script>\n",
              "        const buttonEl =\n",
              "          document.querySelector('#df-8c4eb23d-6f0f-4773-8a49-9e6ddf49bccd button.colab-df-convert');\n",
              "        buttonEl.style.display =\n",
              "          google.colab.kernel.accessAllowed ? 'block' : 'none';\n",
              "\n",
              "        async function convertToInteractive(key) {\n",
              "          const element = document.querySelector('#df-8c4eb23d-6f0f-4773-8a49-9e6ddf49bccd');\n",
              "          const dataTable =\n",
              "            await google.colab.kernel.invokeFunction('convertToInteractive',\n",
              "                                                     [key], {});\n",
              "          if (!dataTable) return;\n",
              "\n",
              "          const docLinkHtml = 'Like what you see? Visit the ' +\n",
              "            '<a target=\"_blank\" href=https://colab.research.google.com/notebooks/data_table.ipynb>data table notebook</a>'\n",
              "            + ' to learn more about interactive tables.';\n",
              "          element.innerHTML = '';\n",
              "          dataTable['output_type'] = 'display_data';\n",
              "          await google.colab.output.renderOutput(dataTable, element);\n",
              "          const docLink = document.createElement('div');\n",
              "          docLink.innerHTML = docLinkHtml;\n",
              "          element.appendChild(docLink);\n",
              "        }\n",
              "      </script>\n",
              "    </div>\n",
              "  </div>\n",
              "  "
            ]
          },
          "metadata": {},
          "execution_count": 92
        }
      ]
    },
    {
      "cell_type": "code",
      "source": [
        "df_pivot_email = df_pivot_email.na.fill('---')"
      ],
      "metadata": {
        "id": "raYK8pSO7b9m"
      },
      "execution_count": 93,
      "outputs": []
    },
    {
      "cell_type": "code",
      "source": [
        "df_pivot_email.toPandas()"
      ],
      "metadata": {
        "colab": {
          "base_uri": "https://localhost:8080/",
          "height": 423
        },
        "id": "7w0L4UdT7cBA",
        "outputId": "f7490b17-a7b2-4cb6-b7c6-208b3fce0147"
      },
      "execution_count": 94,
      "outputs": [
        {
          "output_type": "execute_result",
          "data": {
            "text/plain": [
              "    customer_id                           Email_1                    Email_2  \\\n",
              "0      00000000        ALVAROJOSE.DAGAND@BBVA.COM  LIBRERIAURUGUAY@GMAIL.COM   \n",
              "1      00027555           ALEFRID666@YAHOO.COM.AR                        ---   \n",
              "2      00027568                 SCATIVA@GMAIL.COM                        ---   \n",
              "3      00027595                      NO@GMAIL.COM                        ---   \n",
              "4      00027609              lindocampo@yahoo.com                        ---   \n",
              "..          ...                               ...                        ...   \n",
              "424    27514366        NICOLAS.SZEBUN@HOTMAIL.COM                        ---   \n",
              "425    27514374           TOMASBORBAS@HOTMAIL.COM                        ---   \n",
              "426    27514379           FSANFRANCISCO@GMAIL.COM                        ---   \n",
              "427    27514380           JUANCA.BIANCU@GMAIL.COM                        ---   \n",
              "428    27514381  CLAUDIABETYBARRAZA7026@GMAIL.COM                        ---   \n",
              "\n",
              "    Email_3  \n",
              "0       ---  \n",
              "1       ---  \n",
              "2       ---  \n",
              "3       ---  \n",
              "4       ---  \n",
              "..      ...  \n",
              "424     ---  \n",
              "425     ---  \n",
              "426     ---  \n",
              "427     ---  \n",
              "428     ---  \n",
              "\n",
              "[429 rows x 4 columns]"
            ],
            "text/html": [
              "\n",
              "  <div id=\"df-2a8ad00f-17e7-4a66-8b63-3b914f2d94f9\">\n",
              "    <div class=\"colab-df-container\">\n",
              "      <div>\n",
              "<style scoped>\n",
              "    .dataframe tbody tr th:only-of-type {\n",
              "        vertical-align: middle;\n",
              "    }\n",
              "\n",
              "    .dataframe tbody tr th {\n",
              "        vertical-align: top;\n",
              "    }\n",
              "\n",
              "    .dataframe thead th {\n",
              "        text-align: right;\n",
              "    }\n",
              "</style>\n",
              "<table border=\"1\" class=\"dataframe\">\n",
              "  <thead>\n",
              "    <tr style=\"text-align: right;\">\n",
              "      <th></th>\n",
              "      <th>customer_id</th>\n",
              "      <th>Email_1</th>\n",
              "      <th>Email_2</th>\n",
              "      <th>Email_3</th>\n",
              "    </tr>\n",
              "  </thead>\n",
              "  <tbody>\n",
              "    <tr>\n",
              "      <th>0</th>\n",
              "      <td>00000000</td>\n",
              "      <td>ALVAROJOSE.DAGAND@BBVA.COM</td>\n",
              "      <td>LIBRERIAURUGUAY@GMAIL.COM</td>\n",
              "      <td>---</td>\n",
              "    </tr>\n",
              "    <tr>\n",
              "      <th>1</th>\n",
              "      <td>00027555</td>\n",
              "      <td>ALEFRID666@YAHOO.COM.AR</td>\n",
              "      <td>---</td>\n",
              "      <td>---</td>\n",
              "    </tr>\n",
              "    <tr>\n",
              "      <th>2</th>\n",
              "      <td>00027568</td>\n",
              "      <td>SCATIVA@GMAIL.COM</td>\n",
              "      <td>---</td>\n",
              "      <td>---</td>\n",
              "    </tr>\n",
              "    <tr>\n",
              "      <th>3</th>\n",
              "      <td>00027595</td>\n",
              "      <td>NO@GMAIL.COM</td>\n",
              "      <td>---</td>\n",
              "      <td>---</td>\n",
              "    </tr>\n",
              "    <tr>\n",
              "      <th>4</th>\n",
              "      <td>00027609</td>\n",
              "      <td>lindocampo@yahoo.com</td>\n",
              "      <td>---</td>\n",
              "      <td>---</td>\n",
              "    </tr>\n",
              "    <tr>\n",
              "      <th>...</th>\n",
              "      <td>...</td>\n",
              "      <td>...</td>\n",
              "      <td>...</td>\n",
              "      <td>...</td>\n",
              "    </tr>\n",
              "    <tr>\n",
              "      <th>424</th>\n",
              "      <td>27514366</td>\n",
              "      <td>NICOLAS.SZEBUN@HOTMAIL.COM</td>\n",
              "      <td>---</td>\n",
              "      <td>---</td>\n",
              "    </tr>\n",
              "    <tr>\n",
              "      <th>425</th>\n",
              "      <td>27514374</td>\n",
              "      <td>TOMASBORBAS@HOTMAIL.COM</td>\n",
              "      <td>---</td>\n",
              "      <td>---</td>\n",
              "    </tr>\n",
              "    <tr>\n",
              "      <th>426</th>\n",
              "      <td>27514379</td>\n",
              "      <td>FSANFRANCISCO@GMAIL.COM</td>\n",
              "      <td>---</td>\n",
              "      <td>---</td>\n",
              "    </tr>\n",
              "    <tr>\n",
              "      <th>427</th>\n",
              "      <td>27514380</td>\n",
              "      <td>JUANCA.BIANCU@GMAIL.COM</td>\n",
              "      <td>---</td>\n",
              "      <td>---</td>\n",
              "    </tr>\n",
              "    <tr>\n",
              "      <th>428</th>\n",
              "      <td>27514381</td>\n",
              "      <td>CLAUDIABETYBARRAZA7026@GMAIL.COM</td>\n",
              "      <td>---</td>\n",
              "      <td>---</td>\n",
              "    </tr>\n",
              "  </tbody>\n",
              "</table>\n",
              "<p>429 rows × 4 columns</p>\n",
              "</div>\n",
              "      <button class=\"colab-df-convert\" onclick=\"convertToInteractive('df-2a8ad00f-17e7-4a66-8b63-3b914f2d94f9')\"\n",
              "              title=\"Convert this dataframe to an interactive table.\"\n",
              "              style=\"display:none;\">\n",
              "        \n",
              "  <svg xmlns=\"http://www.w3.org/2000/svg\" height=\"24px\"viewBox=\"0 0 24 24\"\n",
              "       width=\"24px\">\n",
              "    <path d=\"M0 0h24v24H0V0z\" fill=\"none\"/>\n",
              "    <path d=\"M18.56 5.44l.94 2.06.94-2.06 2.06-.94-2.06-.94-.94-2.06-.94 2.06-2.06.94zm-11 1L8.5 8.5l.94-2.06 2.06-.94-2.06-.94L8.5 2.5l-.94 2.06-2.06.94zm10 10l.94 2.06.94-2.06 2.06-.94-2.06-.94-.94-2.06-.94 2.06-2.06.94z\"/><path d=\"M17.41 7.96l-1.37-1.37c-.4-.4-.92-.59-1.43-.59-.52 0-1.04.2-1.43.59L10.3 9.45l-7.72 7.72c-.78.78-.78 2.05 0 2.83L4 21.41c.39.39.9.59 1.41.59.51 0 1.02-.2 1.41-.59l7.78-7.78 2.81-2.81c.8-.78.8-2.07 0-2.86zM5.41 20L4 18.59l7.72-7.72 1.47 1.35L5.41 20z\"/>\n",
              "  </svg>\n",
              "      </button>\n",
              "      \n",
              "  <style>\n",
              "    .colab-df-container {\n",
              "      display:flex;\n",
              "      flex-wrap:wrap;\n",
              "      gap: 12px;\n",
              "    }\n",
              "\n",
              "    .colab-df-convert {\n",
              "      background-color: #E8F0FE;\n",
              "      border: none;\n",
              "      border-radius: 50%;\n",
              "      cursor: pointer;\n",
              "      display: none;\n",
              "      fill: #1967D2;\n",
              "      height: 32px;\n",
              "      padding: 0 0 0 0;\n",
              "      width: 32px;\n",
              "    }\n",
              "\n",
              "    .colab-df-convert:hover {\n",
              "      background-color: #E2EBFA;\n",
              "      box-shadow: 0px 1px 2px rgba(60, 64, 67, 0.3), 0px 1px 3px 1px rgba(60, 64, 67, 0.15);\n",
              "      fill: #174EA6;\n",
              "    }\n",
              "\n",
              "    [theme=dark] .colab-df-convert {\n",
              "      background-color: #3B4455;\n",
              "      fill: #D2E3FC;\n",
              "    }\n",
              "\n",
              "    [theme=dark] .colab-df-convert:hover {\n",
              "      background-color: #434B5C;\n",
              "      box-shadow: 0px 1px 3px 1px rgba(0, 0, 0, 0.15);\n",
              "      filter: drop-shadow(0px 1px 2px rgba(0, 0, 0, 0.3));\n",
              "      fill: #FFFFFF;\n",
              "    }\n",
              "  </style>\n",
              "\n",
              "      <script>\n",
              "        const buttonEl =\n",
              "          document.querySelector('#df-2a8ad00f-17e7-4a66-8b63-3b914f2d94f9 button.colab-df-convert');\n",
              "        buttonEl.style.display =\n",
              "          google.colab.kernel.accessAllowed ? 'block' : 'none';\n",
              "\n",
              "        async function convertToInteractive(key) {\n",
              "          const element = document.querySelector('#df-2a8ad00f-17e7-4a66-8b63-3b914f2d94f9');\n",
              "          const dataTable =\n",
              "            await google.colab.kernel.invokeFunction('convertToInteractive',\n",
              "                                                     [key], {});\n",
              "          if (!dataTable) return;\n",
              "\n",
              "          const docLinkHtml = 'Like what you see? Visit the ' +\n",
              "            '<a target=\"_blank\" href=https://colab.research.google.com/notebooks/data_table.ipynb>data table notebook</a>'\n",
              "            + ' to learn more about interactive tables.';\n",
              "          element.innerHTML = '';\n",
              "          dataTable['output_type'] = 'display_data';\n",
              "          await google.colab.output.renderOutput(dataTable, element);\n",
              "          const docLink = document.createElement('div');\n",
              "          docLink.innerHTML = docLinkHtml;\n",
              "          element.appendChild(docLink);\n",
              "        }\n",
              "      </script>\n",
              "    </div>\n",
              "  </div>\n",
              "  "
            ]
          },
          "metadata": {},
          "execution_count": 94
        }
      ]
    }
  ]
}