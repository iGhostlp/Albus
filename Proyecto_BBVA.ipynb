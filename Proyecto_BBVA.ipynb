{
  "nbformat": 4,
  "nbformat_minor": 0,
  "metadata": {
    "colab": {
      "provenance": [],
      "include_colab_link": true
    },
    "kernelspec": {
      "name": "python3",
      "display_name": "Python 3"
    },
    "language_info": {
      "name": "python"
    }
  },
  "cells": [
    {
      "cell_type": "markdown",
      "metadata": {
        "id": "view-in-github",
        "colab_type": "text"
      },
      "source": [
        "<a href=\"https://colab.research.google.com/github/iGhostlp/Albus/blob/Gunter-y-Ernesto/Proyecto_BBVA.ipynb\" target=\"_parent\"><img src=\"https://colab.research.google.com/assets/colab-badge.svg\" alt=\"Open In Colab\"/></a>"
      ]
    },
    {
      "cell_type": "markdown",
      "source": [
        "# Armado del entorno"
      ],
      "metadata": {
        "id": "VxhZxWLWuiG6"
      }
    },
    {
      "cell_type": "code",
      "execution_count": 3,
      "metadata": {
        "id": "L2mgwn8PsQQX"
      },
      "outputs": [],
      "source": [
        "# Download Spark\n",
        "!wget -q https://dlcdn.apache.org/spark/spark-3.3.2/spark-3.3.2-bin-hadoop3.tgz"
      ]
    },
    {
      "cell_type": "code",
      "source": [
        "# Unzip the file\n",
        "!tar xf spark-3.3.2-bin-hadoop3.tgz"
      ],
      "metadata": {
        "id": "2qbDnH7Euw7n"
      },
      "execution_count": 4,
      "outputs": []
    },
    {
      "cell_type": "code",
      "source": [
        "!readlink -f $(which java) | sed \"s:bin/java::\""
      ],
      "metadata": {
        "colab": {
          "base_uri": "https://localhost:8080/"
        },
        "id": "psFPl5kAaLV1",
        "outputId": "f1651b1c-0193-4415-91e4-00a4c372106b"
      },
      "execution_count": 5,
      "outputs": [
        {
          "output_type": "stream",
          "name": "stdout",
          "text": [
            "/usr/lib/jvm/java-11-openjdk-amd64/\n"
          ]
        }
      ]
    },
    {
      "cell_type": "code",
      "source": [
        "# Set up the environment for Spark\n",
        "import os\n",
        "os.environ[\"JAVA_HOME\"] = \"/usr/lib/jvm/java-11-openjdk-amd64/\"\n",
        "os.environ[\"SPARK_HOME\"] = '/content/spark-3.3.2-bin-hadoop3'"
      ],
      "metadata": {
        "id": "3eP99SbmBuQW"
      },
      "execution_count": 6,
      "outputs": []
    },
    {
      "cell_type": "code",
      "source": [
        "# Install library for finding Spark\n",
        "!pip install -q findspark\n",
        "\n",
        "# Import the libary\n",
        "import findspark\n",
        "\n",
        "# Initiate findspark\n",
        "findspark.init()"
      ],
      "metadata": {
        "id": "ayaw6ZzfB0Kz"
      },
      "execution_count": 7,
      "outputs": []
    },
    {
      "cell_type": "code",
      "source": [
        "# Import SparkSession\n",
        "from pyspark.sql import SparkSession\n",
        "\n",
        "# Create a Spark Session\n",
        "spark = SparkSession.builder.master(\"local[*]\").config('spark.sql.parquet.datetimeRebaseModeInRead','CORRECTED').getOrCreate()\n",
        "\n",
        "# Check Spark Session Information\n",
        "spark"
      ],
      "metadata": {
        "colab": {
          "base_uri": "https://localhost:8080/",
          "height": 219
        },
        "id": "hz-Q9qhgCrkK",
        "outputId": "ddb996fb-3714-437d-a0b3-bbf8e9ef2b7e"
      },
      "execution_count": 8,
      "outputs": [
        {
          "output_type": "execute_result",
          "data": {
            "text/plain": [
              "<pyspark.sql.session.SparkSession at 0x7f6c05776250>"
            ],
            "text/html": [
              "\n",
              "            <div>\n",
              "                <p><b>SparkSession - in-memory</b></p>\n",
              "                \n",
              "        <div>\n",
              "            <p><b>SparkContext</b></p>\n",
              "\n",
              "            <p><a href=\"http://96fca1e46638:4040\">Spark UI</a></p>\n",
              "\n",
              "            <dl>\n",
              "              <dt>Version</dt>\n",
              "                <dd><code>v3.3.2</code></dd>\n",
              "              <dt>Master</dt>\n",
              "                <dd><code>local[*]</code></dd>\n",
              "              <dt>AppName</dt>\n",
              "                <dd><code>pyspark-shell</code></dd>\n",
              "            </dl>\n",
              "        </div>\n",
              "        \n",
              "            </div>\n",
              "        "
            ]
          },
          "metadata": {},
          "execution_count": 8
        }
      ]
    },
    {
      "cell_type": "markdown",
      "source": [
        "# Extraccion de datos desde parquet, clientes y teléfonos."
      ],
      "metadata": {
        "id": "VIT40BZLR5W_"
      }
    },
    {
      "cell_type": "code",
      "source": [
        "df_customer = spark.read.load('sample_data/customer_basics_bootcamp.snappy.parquet', sep=',', inferschema='true', header='true')\n",
        "df_phones = spark.read.load('sample_data/phones_bootcamp.snappy.parquet', sep=',', inferschema='true', header='true')\n"
      ],
      "metadata": {
        "id": "3nBhHQp_R8Nb"
      },
      "execution_count": 9,
      "outputs": []
    },
    {
      "cell_type": "code",
      "source": [
        "df_customer_phones = df_customer.join(df_phones, 'customer_id', how='inner')"
      ],
      "metadata": {
        "id": "0vU-yIbkWTEc"
      },
      "execution_count": 10,
      "outputs": []
    },
    {
      "cell_type": "code",
      "source": [
        "df_customer_phones.show()"
      ],
      "metadata": {
        "colab": {
          "base_uri": "https://localhost:8080/"
        },
        "id": "Yx36q0p8h_Sc",
        "outputId": "136723b2-b2fb-45d8-dd1f-60b448275065"
      },
      "execution_count": 11,
      "outputs": [
        {
          "output_type": "stream",
          "name": "stdout",
          "text": [
            "+-----------+-------------+-------------+--------------+---------------+--------------------+---------+----------------+-----------+-----------------------+-----------------------+----------+-------------------+-----------------+--------------------------+-----------+----------------+-----------------+-------------------+-----------+----------+----------------------+--------------------+---------------------+-----------+--------------------------+----------------------------+-------------------------------+------------------------+------------------------+--------------------------+------------------------+--------------------------+----------------------------+------------------+------------------------+-------------------+-------------------+---------------------------+-----------------+-------------------+-----------------+-------------------------------+--------------------+---------------------+------------------+----------------+--------------------+--------------------------+----------------+--------------------------+--------------------+-------------+----------------+--------------------+-------------------+--------+---------------------+-------------------------+--------------------------+----------------+--------------------+--------------------+----------------+-------------+-------------------------+-----------------------+---------------------+--------------+-------------------+-----------------+----------+----------------+---------------+-------------+-------------------+-----------------+-------------+------------+---------------+-----------------------+------------------+---------------------+-----------------+----------+-----------+--------------------------+---------------------+--------------------+---------------------+----------------+-------------------------+-------------------------+------------------+-------------------+-----------------+--------------------+---------------------+-----------------------+----------------------+--------------------+----------------------+------------------------------+----------------------------+-------------------+----------------+----------------+-------------------+--------------------+-----------------------+---------------------+\n",
            "|customer_id|personal_type|  personal_id|admission_date|sale_channel_id|operation_channel_id|branch_id|business_area_id|campaing_id|customer_situation_type|customer_condition_type|manager_id|tracking_manager_id|credit_manager_id|credit_recovery_manager_id|  last_name|second_last_name|       first_name|marital_status_type|gender_type|birth_date|country_nationality_id|residence_country_id|customer_subject_type|sector_type|customer_level_access_type|cust_bcra_econ_activity_type|internal_economic_activity_type|bbva_inhabilitation_type|customer_block_bbva_date|customer_unblock_bbva_date|customer_block_bcra_date|customer_unblock_bcra_date|customer_pending_notice_type|last_notice_number|last_reference_number_id|last_service_number|last_address_number|last_unlinking_account_date|customer_end_date|last_change_user_id|customer_pep_type|bbva_family_lnk_weighted_number|customer_status_type|scoring_activity_type|refinancing_number|refinancing_date|coholder_customer_id|customer_bcra_situation_id|customer_cuit_id|customer_position_vat_type|balance_closing_date|profession_id|bbva_cust_number|customer_linked_type|customer_entry_type|job_type|profession_start_date|customer_first_block_date|customer_registration_date|last_change_date|last_change_hms_date|register_terminal_id|register_user_id|customer_type|customer_seniority_number|last_status_change_date|operational_load_date|phone_use_type|address_sequence_id|phone_sequence_id|phone_type|phone_country_id|prefix_phone_id|phone_area_id|cellphone_prefix_id|phone_exchange_id|phone_line_id|    phone_id|phone_intern_id|aditional_info_txt_desc|primary_phone_type|address_sequence_type|address_town_name|zipcode_id|province_id|customer_phone_status_type|phone_status_mod_date|contact_channel_type|sender_application_id|wrong_phone_type|normalization_status_type|normalization_reason_name|normalization_date|validity_start_date|validity_end_date|dlvy_day_monday_type|dlvy_day_tuesday_type|dlvy_day_wednesday_type|dlvy_day_thursday_type|dlvy_day_friday_type|dlvy_day_saturday_type|delivery_contact_start_hm_date|delivery_contact_end_hm_date|registry_entry_date|register_user_id|last_change_date|last_change_user_id|last_change_hms_date|last_change_terminal_id|operational_load_date|\n",
            "+-----------+-------------+-------------+--------------+---------------+--------------------+---------+----------------+-----------+-----------------------+-----------------------+----------+-------------------+-----------------+--------------------------+-----------+----------------+-----------------+-------------------+-----------+----------+----------------------+--------------------+---------------------+-----------+--------------------------+----------------------------+-------------------------------+------------------------+------------------------+--------------------------+------------------------+--------------------------+----------------------------+------------------+------------------------+-------------------+-------------------+---------------------------+-----------------+-------------------+-----------------+-------------------------------+--------------------+---------------------+------------------+----------------+--------------------+--------------------------+----------------+--------------------------+--------------------+-------------+----------------+--------------------+-------------------+--------+---------------------+-------------------------+--------------------------+----------------+--------------------+--------------------+----------------+-------------+-------------------------+-----------------------+---------------------+--------------+-------------------+-----------------+----------+----------------+---------------+-------------+-------------------+-----------------+-------------+------------+---------------+-----------------------+------------------+---------------------+-----------------+----------+-----------+--------------------------+---------------------+--------------------+---------------------+----------------+-------------------------+-------------------------+------------------+-------------------+-----------------+--------------------+---------------------+-----------------------+----------------------+--------------------+----------------------+------------------------------+----------------------------+-------------------+----------------+----------------+-------------------+--------------------+-----------------------+---------------------+\n",
            "|   22288382|           00|0000028090040|    2015-12-04|          10000|                  00|      603|              34|          0|                      1|                      8|      2603|                   |                 |                          |   BILLORDO|                |     MARIO ANDRES|                  1|          M|1980-04-13|                    80|                 080|                  201|        100|                         0|                          82|                       21101000|                       0|                    null|                      null|                    null|                      null|                           0|                 0|                       0|                  0|                  0|                       null|             null|            PCLE06R|                1|                              1|                  PO|                   47|              null|            null|                    |                      null|   0020280900401|                       042|                null|          016|       022288382|                   N|                 MD|     001|           2015-12-04|                     null|                2015-12-04|      2015-12-04|              235311|                P37B|         PCLE25H|            S|                     null|                   null| 2022-03-10 01:05:...|            00|                  0|                4|         3|             080|             54|           11|                 15|             2634|         9000|048225806655|               |                       |                 N|                    N|                 |          |           |                COMPROBADO|           2022-08-05|                  01|                 CTES|                |                NORM AUTO|                  COPDTEL|        2022-06-30|         1900-01-01|       1900-01-01|                    |                     |                       |                      |                    |                      |                      00:00:00|                    00:00:00|         2022-06-30|         A117663|      2022-08-05|               XATM|              113350|                   XATM| 2022-11-30 00:42:...|\n",
            "|   21126665|           00|0000038854260|    2015-01-16|          10000|                  00|      603|              34|          0|                      1|                      8|      2603|                   |                 |                          |   BARRAGAN|                |    MIGUEL NAHUEL|                  1|          M|1995-05-07|                    80|                 080|                  201|        100|                         0|                          82|                       21101000|                       0|                    null|                      null|                    null|                      null|                           0|                 0|                       0|                  0|                  0|                       null|             null|            PCLE06R|                1|                              1|                  PO|                   47|              null|            null|                    |                      null|   0020388542609|                       042|                null|          016|       021126665|                   N|                 MD|     001|           2015-01-16|                     null|                2015-01-16|      2015-01-16|              231215|                P37B|         PCLE25H|            S|                     null|                   null| 2022-03-10 01:05:...|            00|                  0|                2|         3|             080|             54|         3444|                 15|               53|         5561|677225712027|               |                       |                 N|                    N|                 |          |           |                COMPROBADO|           2022-07-28|                  01|                 CTES|                |                NORM AUTO|                     COSM|        2022-07-28|         1900-01-01|       1900-01-01|                    |                     |                       |                      |                    |                      |                      00:00:00|                    00:00:00|         2022-07-28|         A118347|      2022-07-28|               XATM|              103346|                   XATM| 2022-11-30 00:42:...|\n",
            "|   27124153|           00|0000038921737|    2020-07-30|          10000|                  00|      603|              34|          0|                      1|                      8|      2603|                   |                 |                          |     ARANAS|                |      PAULA KAREN|                  1|          F|1995-03-24|                    80|                 080|                  201|        100|                         0|                          82|                       21101000|                       0|                    null|                      null|                    null|                      null|                           0|                 0|                       0|                  0|                  0|                       null|             null|            PCLE06R|                1|                              1|                  PO|                   47|              null|            null|                    |                      null|   0027389217374|                       042|                null|          016|       027124153|                   N|                 MD|     001|           2020-07-30|                     null|                2020-07-30|      2020-07-30|              003119|                P37B|         PCLE25H|            S|                     null|                   null| 2022-03-10 01:05:...|            00|                  0|                1|         3|             080|             54|           11|                 15|             3636|         7400|485482219628|               |                       |                 N|                    N|                 |          |           |                 DECLARADO|           2022-09-30|                  01|                 CTES|                |                NORM AUTO|                  COPDTEL|        2022-09-30|         1900-01-01|       1900-01-01|                    |                     |                       |                      |                    |                      |                      00:00:00|                    00:00:00|         2022-09-30|          A64302|      2022-09-30|           PCLESMS0|              211502|                   3016| 2022-11-30 00:42:...|\n",
            "|   22999372|           00|0000036674400|    2016-07-29|          10000|                  00|       21|              34|          0|                      1|                      1|       702|                   |                 |                          |   SANDOVAL|                |   VICTOR ANTONIO|                  5|          M|1992-03-26|                    80|                 080|                  201|        100|                         0|                          82|                       21101000|                       0|                    null|                      null|                    null|                      null|                            |                11|                       0|                  0|                  1|                       null|             null|            PCLE06M|                1|                              1|                  AC|                   50|              null|            null|                    |                      null|   0020366744003|                       042|                null|          039|       022999372|                   N|                   |     004|           2016-07-29|                     null|                2016-07-29|      2021-05-11|              090130|                P37B|         PCLE15V|            N|                     null|                   null| 2022-03-10 01:05:...|            00|                  0|                1|         3|             080|             54|         3541|                 15|               62|         1557|750325436808|               |                       |                 N|                    N|                 |          |           |                COMPROBADO|           2022-10-30|                  01|                 PVTA|                |                NORM AUTO|                     COSM|        2022-10-30|         1900-01-01|       1900-01-01|                    |                     |                       |                      |                    |                      |                      00:00:00|                    00:00:00|         2022-10-30|        VW2CCON0|      2022-10-30|           PCLUPCRT|              205017|                   OSMS| 2022-11-30 00:42:...|\n",
            "|   30668415|           00|0000022062274|    2015-08-11|          10000|                  00|      603|              34|          0|                      1|                      8|      2603|                   |                 |                          |     TAYLOR|                |   ALFREDO FABIAN|                  1|          M|1971-01-28|                    80|                 080|                  201|        100|                         0|                          82|                       21101000|                       0|                    null|                      null|                    null|                      null|                           0|                 0|                       0|                  0|                  2|                       null|             null|            PCLE06R|                1|                              1|                  PO|                   47|              null|            null|                    |                      null|   0020220622747|                       042|                null|          016|       021812737|                   N|                 MD|     001|           2015-08-11|                     null|                2015-08-11|      2015-08-11|              232342|                P37B|         PCLE25H|            S|                     null|                   null| 2022-03-10 01:05:...|            00|                  0|                1|         3|             080|             54|           11|                 15|             2366|         8711|929625826012|               |                       |                 N|                    N|                 |          |           |                COMPROBADO|           2022-11-16|                  01|                 CTES|                |                NORM AUTO|                   COPDTE|        2022-11-16|         1900-01-01|       1900-01-01|                    |                     |                       |                      |                    |                      |                      00:00:00|                    00:00:00|         2022-11-16|          A48833|      2022-11-16|             A33643|              111313|                   2305| 2022-11-30 00:42:...|\n",
            "|   30668415|           00|0000022062274|    2015-08-11|          10000|                  00|      603|              34|          0|                      1|                      8|      2603|                   |                 |                          |     TAYLOR|                |   ALFREDO FABIAN|                  1|          M|1971-01-28|                    80|                 080|                  201|        100|                         0|                          82|                       21101000|                       0|                    null|                      null|                    null|                      null|                           0|                 0|                       0|                  0|                  2|                       null|             null|            PCLE06R|                1|                              1|                  PO|                   47|              null|            null|                    |                      null|   0020220622747|                       042|                null|          016|       021812737|                   N|                 MD|     001|           2015-08-11|                     null|                2015-08-11|      2015-08-11|              232342|                P37B|         PCLE25H|            S|                     null|                   null| 2022-03-10 01:05:...|            01|                  0|                2|         3|             080|             54|           11|                 15|             2366|         8711|929625826012|               |                       |                 N|                    N|                 |          |           |                 DECLARADO|           2022-11-16|                  01|                 CTES|                |                NORM AUTO|                  COPDTEL|        2022-11-16|         1900-01-01|       1900-01-01|                    |                     |                       |                      |                    |                      |                      00:00:00|                    00:00:00|         2022-11-16|          A33643|      2022-11-16|             A33643|              111313|                   2305| 2022-11-30 00:42:...|\n",
            "|   02856972|           00|0000013147944|    2010-11-12|          10000|                  00|      336|              34|          0|                      1|                      1|       633|                   |                 |                          |     TREACY|                |   LORNA VIRGINIA|                  1|          F|1957-06-20|                    80|                 080|                  201|        100|                         0|                          82|                       21101000|                       0|                    null|                      null|                    null|                      null|                           0|                 0|                       0|                  0|                  1|                       null|             null|            PCLE06R|                1|                              1|                  PO|                   47|              null|            null|                    |                      null|   0027131479447|                       042|                null|          016|       002856972|                   N|                   |     001|           2010-11-12|                     null|                2010-11-12|      2010-11-12|              162832|                P37B|          VUELCO|            S|                     null|                   null| 2022-03-10 01:05:...|            00|                  0|                3|         3|             080|             54|           11|                 15|             7608|         3818|700232910447|               |                       |                 N|                    N|                 |     00000|         00|                 DECLARADO|           2022-06-24|                  01|                 CTES|                |                NORM OPER|                       NE|        2022-06-24|         1900-01-01|       1900-01-01|                    |                     |                       |                      |                    |                      |                      00:00:00|                    00:00:00|         2022-06-24|          A45587|      2022-06-24|             A45587|              120245|                   2734| 2022-11-30 00:42:...|\n",
            "|   02369314|           00|0000029919195|    2010-04-21|          10000|                  00|       81|              92|          0|                      1|                      1|      8118|                080|                 |                          |      CIRES|                |      ENZO ANDRES|                  5|          M|1984-06-15|                    80|                 080|                  201|        100|                         0|                          82|                       21101000|                       0|                    null|                      null|                    null|                      null|                            |                 0|                       0|                  0|                  2|                       null|             null|            PCLE825|                2|                              1|                  AC|                   44|              null|            null|                    |                        21|   0020299191959|                       042|                null|          005|       002369314|                   N|                   |     001|           2010-05-05|                     null|                2010-04-21|      2022-02-21|              125837|                   B|          VUELCO|            N|                     null|                   null| 2022-03-10 01:05:...|            00|                  0|                2|         3|             080|             54|          380|                 15|              475|         4624|069913142457|               |                       |                 S|                    N|                 |          |           |                COMPROBADO|           2022-10-29|                  01|                 CTES|                |                NORM AUTO|                     COSM|        2022-08-24|         1900-01-01|       1900-01-01|                    |                     |                       |                      |                    |                      |                      00:00:00|                    00:00:00|         2022-08-24|         A126618|      2022-10-29|               XATM|              211126|                   XATM| 2022-11-30 00:42:...|\n",
            "|   04942990|           00|0000025646917|    1999-11-01|          10000|                  01|      166|              30|          0|                      1|                      1|       400|                   |                 |                          |    IRURZUN|                |           JAZMIN|                  5|          F|1977-02-21|                    80|                 080|                  201|        100|                         0|                          82|                       21101000|                       0|                    null|                      null|                    null|                      null|                            |                 0|                       0|                  0|                  1|                       null|             null|            PCLE06O|                0|                              1|                  CA|                   47|              null|            null|                  93|                      null|   0027256469176|                       042|                null|          016|       004942990|                   N|                   |     001|           2009-01-01|                     null|                1999-11-01|      2008-03-28|              223554|                   B|          VUELCO|            N|                     null|                   null| 2022-03-10 01:05:...|            00|                  0|                2|         3|             080|             54|           11|                 15|             6987|         4382|020491180270|               |                       |                 N|                    N|                 |          |           |                COMPROBADO|           2022-09-09|                  01|                 WKFL|                |                NORM AUTO|                     COSM|        2022-09-09|         1900-01-01|       1900-01-01|                    |                     |                       |                      |                    |                      |                      00:00:00|                    00:00:00|         2022-09-09|         A126696|      2022-09-09|           PCLUPCRT|              124508|                   OSMS| 2022-11-30 00:42:...|\n",
            "|   00051576|           28|0000000985182|    1989-03-16|          10000|                    |       38|              34|          0|                      1|                      8|       137|                   |                 |                          |BERAZATEGUI|                |           CARMEN|                  1|          F|1935-05-07|                    80|                 080|                  201|        100|                         0|                          82|                       21101000|                       0|                    null|                      null|                    null|                      null|                           0|                 0|                       0|                  0|                  5|                       null|             null|            PCLE25Q|                0|                              1|                  CA|                   47|              null|            null|                    |                      null|   0027009851823|                       045|                null|          016|       001017319|                   N|                 AD|     001|           2009-01-01|                     null|                1993-08-17|      2013-03-09|              162143|                P37B|          VUELCO|            S|                     null|                   null| 2022-03-10 01:05:...|            00|                  0|                1|         3|             080|             54|           11|                 15|             2653|         1080|959943195039|               |                       |                 N|                    N|                 |          |           |                COMPROBADO|           2022-10-12|                  01|                 PVTA|                |                NORM AUTO|                     COSM|        2022-10-12|         1900-01-01|       1900-01-01|                    |                     |                       |                      |                    |                      |                      00:00:00|                    00:00:00|         2022-10-12|        VW2CCON0|      2022-10-12|           PCLUPCRT|              142116|                   OSMS| 2022-11-30 00:42:...|\n",
            "|   30255141|           00|0000022364138|    1998-06-18|          10000|                  01|      344|              34|          0|                      1|                      1|       643|                   |                 |                          |  RODRIGUEZ|                |      JULIA ELENA|                  1|          F|1971-09-17|                    80|                 080|                  201|        100|                         0|                          82|                       21101000|                       0|                    null|                      null|                    null|                      null|                            |                 0|                       0|                  0|                  0|                       null|             null|            PCLE06R|                0|                              1|                  CA|                   47|              null|            null|                    |                      null|   0027223641380|                       042|                null|          016|       004256320|                   N|                   |     001|           2009-01-01|                     null|                1998-06-18|      1998-07-05|              110819|                P37B|          VUELCO|            S|                     null|                   null| 2022-03-10 01:05:...|            00|                  0|                1|         3|             080|             54|         2657|                 15|               20|         3098|681112840839|               |                       |                 N|                    N|                 |          |           |                COMPROBADO|           2022-11-18|                  16|                 CTES|                |                NORM AUTO|                   COPDTE|        2022-11-03|         1900-01-01|       1900-01-01|                    |                     |                       |                      |                    |                      |                      00:00:00|                    00:00:00|         2022-11-03|         A127190|      2022-11-18|               XATM|              085325|                   XATM| 2022-11-30 00:42:...|\n",
            "|   30255141|           00|0000022364138|    1998-06-18|          10000|                  01|      344|              34|          0|                      1|                      1|       643|                   |                 |                          |  RODRIGUEZ|                |      JULIA ELENA|                  1|          F|1971-09-17|                    80|                 080|                  201|        100|                         0|                          82|                       21101000|                       0|                    null|                      null|                    null|                      null|                            |                 0|                       0|                  0|                  0|                       null|             null|            PCLE06R|                0|                              1|                  CA|                   47|              null|            null|                    |                      null|   0027223641380|                       042|                null|          016|       004256320|                   N|                   |     001|           2009-01-01|                     null|                1998-06-18|      1998-07-05|              110819|                P37B|          VUELCO|            S|                     null|                   null| 2022-03-10 01:05:...|            00|                  0|                2|         3|             080|             54|         2657|                 15|               62|         3856|397111069167|               |                       |                 N|                    N|                 |          |           |                  VALIDADO|           2022-11-18|                  16|                 CTES|                |                NORM AUTO|                  COPDTEL|        2022-11-03|         1900-01-01|       1900-01-01|                    |                     |                       |                      |                    |                      |                      00:00:00|                    00:00:00|         2022-11-03|         A127190|      2022-11-18|           GPROBANK|              085337|                   LVI7| 2022-11-30 00:42:...|\n",
            "|   00093940|           26|0000001994808|    1993-09-13|          10000|                  01|      340|              34|          0|                      1|                      8|       211|                   |                 |                          | LACAMPAGNA|                |           AMELIA|                  2|          F|1921-11-22|                    80|                 080|                  201|        100|                         0|                          82|                       21101000|                       0|                    null|                      null|                    null|                      null|                           2|                 1|                       0|                  0|                  2|                       null|             null|            PCLE06R|                0|                              1|                  CA|                   47|              null|            null|                    |                      null|   0027019948086|                       042|                null|          016|                |                   N|                 AD|     001|           2009-01-01|                     null|                1994-11-22|      2013-03-09|              150515|                P37B|          VUELCO|            S|                     null|                   null| 2022-03-10 01:05:...|            00|                  0|                2|         3|             080|             54|          294|                 15|              465|         2918|833281785951|               |                       |                 N|                    N|                 |          |           |                 DECLARADO|           2022-11-04|                  01|                 CTES|                |                NORM AUTO|                  COPDTEL|        2022-11-04|         1900-01-01|       1900-01-01|                    |                     |                       |                      |                    |                      |                      00:00:00|                    00:00:00|         2022-11-04|         A126656|      2022-11-04|            A126656|              124017|                   8Z03| 2022-11-30 00:42:...|\n",
            "|   09502224|           00|0000022061947|    2010-08-12|          10000|                  00|       58|              34|          0|                      1|                      1|       164|                   |                 |                          |      GEMMA|                |  ALICIA VERONICA|                  1|          F|1971-05-29|                    80|                 080|                  201|        100|                         0|                          82|                       21101000|                       0|                    null|                      null|                    null|                      null|                           0|                 0|                       0|                  0|                  1|                       null|             null|            PCLE06R|                1|                              1|                  PO|                   47|              null|            null|                    |                      null|   0027220619473|                       042|                null|          016|       002573516|                   N|                   |     001|           2010-08-12|                     null|                2010-08-12|      2010-08-12|              163210|                P37B|          VUELCO|            S|                     null|                   null| 2022-03-10 01:05:...|            00|                  0|                2|         3|             080|             54|          370|                 15|              499|         2155|574598098175|               |                       |                 N|                    N|                 |          |           |                 DECLARADO|           2022-11-17|                  01|                 WKFL|                |                NORM OPER|                       NE|        2022-11-17|         1900-01-01|       1900-01-01|                    |                     |                       |                      |                    |                      |                      00:00:00|                    00:00:00|         2022-11-17|         A127570|      2022-11-17|            A127570|              083214|                   5455| 2022-11-30 00:42:...|\n",
            "|   04885794|           00|0000036891196|    2019-06-11|          10000|                  01|      995|              34|          0|                      1|                      8|      2603|                   |             PVTA|                          |    PALACIO|                |      MARIA ELENA|                  5|          F|1992-02-20|                    80|                 080|                  201|        100|                         0|                          82|                       21101000|                       0|                    null|                      null|                    null|                      null|                           0|                 0|                       0|                  0|                  0|                       null|             null|            PCLE06R|                1|                              1|                  PO|                    4|              null|            null|                    |                      null|   0000000000000|                       042|                null|          016|       025850055|                   N|                 MD|     001|           2019-06-11|                     null|                2019-06-11|      2019-06-11|              114348|                P37B|        VW2CEVA0|            S|                     null|                   null| 2022-03-10 01:05:...|            00|                  0|                2|         3|             080|             54|          297|                 15|              408|         8581|648671005228|               |                       |                 N|                    N|                 |          |           |                 DECLARADO|           2022-11-29|                  01|                 CTES|                |                NORM AUTO|                     COSM|        2022-11-29|         1900-01-01|       1900-01-01|                    |                     |                       |                      |                    |                      |                      00:00:00|                    00:00:00|         2022-11-29|         A119197|      2022-11-29|           PCLESMS0|              210940|                   L42X| 2022-11-30 00:42:...|\n",
            "|   09601024|           00|0000037739162|    2012-02-16|          10000|                  00|      344|              34|          0|                      1|                      1|       643|                   |                 |                          |      ORTIZ|           AMAYA|  ALEXIS EZEQUIEL|                  5|          M|1994-05-13|                    80|                 080|                  201|        100|                         0|                          82|                       21101000|                       0|                    null|                      null|                    null|                      null|                            |                 0|                       0|                  0|                  2|                       null|             null|           GPROBANK|                2|                              1|                  CA|                   47|              null|            null|                    |                      null|   0020377391625|                       042|                null|          016|       009601024|                   N|                   |     001|           2012-03-06|                     null|                2012-02-16|      2013-12-01|              192645|                P37B|         PCLE510|            S|                     null|                   null| 2022-03-10 01:05:...|            00|                  0|                1|         3|             080|             54|           11|                 15|             5632|         9614|974114628080|               |                     04|                 N|                    N|                 |          |           |                 DECLARADO|           2022-08-18|                  01|                 PVTA|                |                NORM AUTO|                     COSM|        2022-08-18|         2022-08-18|       1900-01-01|                    |                     |                       |                      |                    |                      |                      00:00:00|                    00:00:00|         2022-08-18|        VW2CCON0|      2022-08-18|            PCLE20N|              180241|                   BATC| 2022-11-30 00:42:...|\n",
            "|   03875505|           00|0000036735732|    2011-05-23|          10000|                  01|      144|              34|          0|                      1|                      1|       215|                   |                 |                          |   SPERANZA|                |           CAMILA|                  5|          F|1992-01-29|                    80|                 080|                  201|        100|                         0|                          82|                       21101000|                       0|                    null|                      null|                    null|                      null|                            |                 0|                       0|                  0|                  1|                       null|             null|            PCLE06R|                2|                              1|                  PO|                   50|              null|            null|                    |                      null|   0027367357326|                       042|                null|          034|       003875505|                   N|                   |     004|           2011-05-23|                     null|                2011-05-23|      2011-05-23|              035525|                P37B|          A90180|            S|                     null|                   null| 2022-03-10 01:05:...|            00|                  0|                2|         3|             080|             54|           11|                 15|             5425|         1649|899397119711|               |                       |                 N|                    N|                 |          |           |                 DECLARADO|           2022-11-04|                  01|                 WKFL|                |                NORM AUTO|                     COSM|        2022-11-04|         1900-01-01|       1900-01-01|                    |                     |                       |                      |                    |                      |                      00:00:00|                    00:00:00|         2022-11-04|          A95754|      2022-11-04|             A95754|              113252|                   P268| 2022-11-30 00:42:...|\n",
            "|   26184148|           00|0000037869033|    2019-08-16|          10000|                  00|      603|              34|          0|                      1|                      8|      2603|                   |                 |                          |    ALARCON|                |   JOHANNA MARIEL|                  1|          F|1993-08-30|                    80|                 080|                  201|        100|                         0|                          82|                       21101000|                       0|                    null|                      null|                    null|                      null|                           0|                 0|                       0|                  0|                  0|                       null|             null|            PCLE06R|                1|                              1|                  PO|                   47|              null|            null|                    |                      null|   0027378690337|                       042|                null|          016|       026184148|                   N|                 MD|     001|           2019-08-16|                     null|                2019-08-16|      2019-08-16|              004136|                P37B|         PCLE25H|            S|                     null|                   null| 2022-03-10 01:05:...|            00|                  0|                2|         3|             080|             54|          341|                 15|              375|         0800|993921678666|               |                       |                 N|                    N|                 |          |           |                COMPROBADO|           2022-08-04|                  01|                 CTES|                |                NORM AUTO|                   COPDTE|        2022-08-02|         1900-01-01|       1900-01-01|                    |                     |                       |                      |                    |                      |                      00:00:00|                    00:00:00|         2022-07-27|         A119279|      2022-08-04|               XATM|              112237|                   XATM| 2022-11-30 00:42:...|\n",
            "|   29326858|           00|0000036880441|    2022-03-08|          10000|                  00|      603|              30|          0|                      1|                      8|      2603|                   |                 |                          |       VERA|                |LEONARDO FEDERICO|                  1|          M|1992-09-28|                    80|                 080|                  201|        100|                         0|                          82|                       21101000|                       0|                    null|                      null|                    null|                      null|                           0|                 0|                       0|                  0|                  0|                       null|             null|            PCLE25H|                1|                              0|                    |                   47|              null|            null|                    |                      null|   0020368804410|                       042|                null|          016|       028989980|                   N|                 MD|     001|           2022-03-08|                     null|                2022-03-08|      2022-03-08|              003155|                 BAT|         PCLE25H|             |                     null|                   null| 2022-03-10 01:05:...|            00|                  0|                3|         3|             080|             54|           11|                 15|             2526|         5221|924659678253|               |                       |                 N|                    N|                 |          |           |                 DECLARADO|           2022-08-29|                  35|                 TVTA|                |                NORM AUTO|                     COSM|        2022-08-29|         1900-01-01|       1900-01-01|                    |                     |                       |                      |                    |                      |                      00:00:00|                    00:00:00|         2022-08-29|        GPROTLVT|      2022-08-29|           GPROTLVT|              165149|                   LV3T| 2022-11-30 00:42:...|\n",
            "|   23384749|           00|0000013243619|    2006-06-12|          10000|                    |      344|              34|          0|                      1|                      1|       643|                   |                 |                          |    POGONZA|                |    ANGEL RICARDO|                  1|          M|1957-04-24|                    80|                 080|                  201|        100|                         0|                          82|                       21101000|                       0|                    null|                      null|                    null|                      null|                           0|                 0|                       0|                  0|                  1|                       null|             null|            PCLE06R|                0|                              1|                  PO|                   47|              null|            null|                    |                      null|   0020132436194|                       042|                null|          016|       007099126|                   N|                   |     001|           2009-01-01|                     null|                2006-06-12|      2008-05-02|              183636|                P37B|          VUELCO|            S|                     null|                   null| 2022-03-10 01:05:...|            01|                  0|                2|         1|             080|             54|          221|                   |              513|         9898|  3932325985|               |                       |                 N|                    N|                 |          |           |                 DECLARADO|           2022-09-13|                  01|                 CTES|                |                NORM AUTO|                  COPDTEL|        2022-09-13|         1900-01-01|       1900-01-01|                    |                     |                       |                      |                    |                      |                      00:00:00|                    00:00:00|         2022-09-13|         A119036|      2022-09-13|            A119036|              165555|                   L0D8| 2022-11-30 00:42:...|\n",
            "+-----------+-------------+-------------+--------------+---------------+--------------------+---------+----------------+-----------+-----------------------+-----------------------+----------+-------------------+-----------------+--------------------------+-----------+----------------+-----------------+-------------------+-----------+----------+----------------------+--------------------+---------------------+-----------+--------------------------+----------------------------+-------------------------------+------------------------+------------------------+--------------------------+------------------------+--------------------------+----------------------------+------------------+------------------------+-------------------+-------------------+---------------------------+-----------------+-------------------+-----------------+-------------------------------+--------------------+---------------------+------------------+----------------+--------------------+--------------------------+----------------+--------------------------+--------------------+-------------+----------------+--------------------+-------------------+--------+---------------------+-------------------------+--------------------------+----------------+--------------------+--------------------+----------------+-------------+-------------------------+-----------------------+---------------------+--------------+-------------------+-----------------+----------+----------------+---------------+-------------+-------------------+-----------------+-------------+------------+---------------+-----------------------+------------------+---------------------+-----------------+----------+-----------+--------------------------+---------------------+--------------------+---------------------+----------------+-------------------------+-------------------------+------------------+-------------------+-----------------+--------------------+---------------------+-----------------------+----------------------+--------------------+----------------------+------------------------------+----------------------------+-------------------+----------------+----------------+-------------------+--------------------+-----------------------+---------------------+\n",
            "only showing top 20 rows\n",
            "\n"
          ]
        }
      ]
    },
    {
      "cell_type": "markdown",
      "source": [],
      "metadata": {
        "id": "_IDpWzcDieox"
      }
    },
    {
      "cell_type": "markdown",
      "source": [
        "QUIERO: Filtrar el DataFrame de contactos telefónicos de clientes y resguardar los 3 contactos más actuales por cliente.   \n",
        "PARA: Reducir el volumen de datos y trabajar solo con los más actualizados\n",
        "\n",
        "registry_entry_date Momento en el que se realiza el alta de un registro\n",
        "last_change_date Fecha en el que se registra en el sitema un cambio en la informacion"
      ],
      "metadata": {
        "id": "-9ZMsbZQmGvs"
      }
    },
    {
      "cell_type": "code",
      "source": [
        "df_phones.sort('customer_id').show()"
      ],
      "metadata": {
        "colab": {
          "base_uri": "https://localhost:8080/"
        },
        "id": "rIzrBeqoieRv",
        "outputId": "12fd2117-260b-46f4-bc4e-cd6f2fb5cc46"
      },
      "execution_count": 12,
      "outputs": [
        {
          "output_type": "stream",
          "name": "stdout",
          "text": [
            "+-----------+--------------+-------------------+-----------------+----------+----------------+---------------+-------------+-------------------+-----------------+-------------+-------------+---------------+-----------------------+------------------+---------------------+-----------------+----------+-----------+--------------------------+---------------------+--------------------+---------------------+----------------+-------------------------+-------------------------+------------------+-------------------+-----------------+--------------------+---------------------+-----------------------+----------------------+--------------------+----------------------+------------------------------+----------------------------+-------------------+----------------+----------------+-------------------+--------------------+-----------------------+---------------------+\n",
            "|customer_id|phone_use_type|address_sequence_id|phone_sequence_id|phone_type|phone_country_id|prefix_phone_id|phone_area_id|cellphone_prefix_id|phone_exchange_id|phone_line_id|     phone_id|phone_intern_id|aditional_info_txt_desc|primary_phone_type|address_sequence_type|address_town_name|zipcode_id|province_id|customer_phone_status_type|phone_status_mod_date|contact_channel_type|sender_application_id|wrong_phone_type|normalization_status_type|normalization_reason_name|normalization_date|validity_start_date|validity_end_date|dlvy_day_monday_type|dlvy_day_tuesday_type|dlvy_day_wednesday_type|dlvy_day_thursday_type|dlvy_day_friday_type|dlvy_day_saturday_type|delivery_contact_start_hm_date|delivery_contact_end_hm_date|registry_entry_date|register_user_id|last_change_date|last_change_user_id|last_change_hms_date|last_change_terminal_id|operational_load_date|\n",
            "+-----------+--------------+-------------------+-----------------+----------+----------------+---------------+-------------+-------------------+-----------------+-------------+-------------+---------------+-----------------------+------------------+---------------------+-----------------+----------+-----------+--------------------------+---------------------+--------------------+---------------------+----------------+-------------------------+-------------------------+------------------+-------------------+-----------------+--------------------+---------------------+-----------------------+----------------------+--------------------+----------------------+------------------------------+----------------------------+-------------------+----------------+----------------+-------------------+--------------------+-----------------------+---------------------+\n",
            "|   00000007|            00|                  2|                1|         3|             080|             54|          266|                 15|              469|         7946| 304920118694|               |                       |                 N|                    N|                 |          |           |                 DECLARADO|           2022-09-01|                  01|                 CTES|                |                NORM AUTO|                     COSM|        2022-09-01|         1900-01-01|       1900-01-01|                    |                     |                       |                      |                    |                      |                      00:00:00|                    00:00:00|         2022-09-01|         A126150|      2022-09-01|            A126150|              085907|                   L0CX| 2022-11-30 00:42:...|\n",
            "|   00000039|            00|                  0|                2|         3|             080|             54|          341|                 15|              284|         7321| 142040288534|               |                       |                 N|                    N|                 |          |           |                 DECLARADO|           2022-09-20|                  01|                 CTES|                |                NORM AUTO|                     COSM|        2022-09-20|         1900-01-01|       1900-01-01|                    |                     |                       |                      |                    |                      |                      00:00:00|                    00:00:00|         2022-09-20|         A115480|      2022-09-20|            A115480|              140240|                   3586| 2022-11-30 00:42:...|\n",
            "|   00000044|            00|                  2|                2|         3|             080|             54|           11|                 15|             2506|         4159| 150642392069|               |                       |                 N|                    N|                 |          |           |                 DECLARADO|           2022-10-03|                  01|                 CTES|                |                NORM AUTO|                     COSM|        2022-10-03|         1900-01-01|       1900-01-01|                    |                     |                       |                      |                    |                      |                      00:00:00|                    00:00:00|         2022-09-09|         A126255|      2022-10-03|           PCLESMS0|              211417|                   2556| 2022-11-30 00:42:...|\n",
            "|   00000381|            00|                  1|                1|         3|             080|             54|          381|                 15|              590|         9885| 579839963031|               |                       |                 N|                    N|                 |          |           |                 DECLARADO|           2022-07-19|                  01|                 CTES|                |                NORM AUTO|                     COSM|        2022-07-19|         1900-01-01|       1900-01-01|                    |                     |                       |                      |                    |                      |                      00:00:00|                    00:00:00|         2022-07-19|         A126541|      2022-07-19|            A126541|              110528|                   Y2GC| 2022-11-30 00:42:...|\n",
            "|   00000442|            02|                  0|                2|         3|             080|             54|          297|                 15|              529|         6284| 712455962424|               |                       |                 N|                    N|                 |          |           |                 DECLARADO|           2022-07-20|                  01|                 CTES|                |                NORM AUTO|                  COPDTEL|        2022-07-20|         1900-01-01|       1900-01-01|                    |                     |                       |                      |                    |                      |                      00:00:00|                    00:00:00|         2022-07-20|         A125588|      2022-07-20|            A125588|              122016|                   E307| 2022-11-30 00:42:...|\n",
            "|   00000442|            00|                  0|                1|         3|             080|             54|          297|                 15|              472|         9337| 384498667593|               |                       |                 N|                    N|                 |          |           |                 DECLARADO|           2022-07-20|                  01|                 CTES|                |                NORM AUTO|                   COPDTE|        2022-07-20|         1900-01-01|       1900-01-01|                    |                     |                       |                      |                    |                      |                      00:00:00|                    00:00:00|         2022-07-20|         A125588|      2022-07-20|            A125588|              122016|                   E307| 2022-11-30 00:42:...|\n",
            "|   00001419|            00|                  0|                2|         3|             080|             54|           11|                 15|             6679|         3207| 044982237001|               |                       |                 S|                    N|                 |          |           |                COMPROBADO|           2022-11-01|                  01|                 CTES|                |                NORM AUTO|                  COPDTEL|        2022-11-01|         1900-01-01|       1900-01-01|                    |                     |                       |                      |                    |                      |                      00:00:00|                    00:00:00|         2022-11-01|         A126407|      2022-11-01|            A126407|              135527|                   L0B2| 2022-11-30 00:42:...|\n",
            "|   00001939|            00|                  0|                1|         3|             080|             54|           11|                 15|             3870|         0150| 008960137788|               |                       |                 N|                    N|                 |          |           |                COMPROBADO|           2022-09-21|                  01|                 CTES|                |                NORM AUTO|                  COPDTEL|        2022-09-21|         1900-01-01|       1900-01-01|                    |                     |                       |                      |                    |                      |                      00:00:00|                    00:00:00|         2022-09-21|        GPROBANK|      2022-09-21|           PCLUPCRT|              162941|                   OSMS| 2022-11-30 00:42:...|\n",
            "|   00002707|            01|                  0|                1|         1|             080|             54|          299|                   |              447|         7116|   6116490163|               |                       |                 N|                    N|                 |          |           |                 DECLARADO|           2022-08-12|                  01|                 CTES|                |                NORM AUTO|                   COPDTE|        2022-08-17|         1900-01-01|       1900-01-01|                    |                     |                       |                      |                    |                      |                      00:00:00|                    00:00:00|         2022-08-12|         A126869|      2022-08-17|            A126869|              141848|                   5240| 2022-11-30 00:42:...|\n",
            "|   00002790|            00|                  0|                1|         3|             080|             54|          342|                 15|              466|         2478| 051880599267|               |                       |                 N|                    N|                 |          |           |                COMPROBADO|           2022-11-18|                  16|                 CTES|                |                NORM AUTO|                   COPDTE|        2022-10-03|         1900-01-01|       1900-01-01|                    |                     |                       |                      |                    |                      |                      00:00:00|                    00:00:00|         2022-10-03|         A118982|      2022-11-18|               XATM|              190233|                   XATM| 2022-11-30 00:42:...|\n",
            "|   00002790|            00|                  0|                2|         1|             080|             54|          342|                   |              488|         3620|   4330463819|               |                       |                 N|                    N|                 |          |           |                  VALIDADO|           2022-10-08|                  16|                 CTES|                |                NORM AUTO|                  COPDTEL|        2022-10-03|         1900-01-01|       1900-01-01|                    |                     |                       |                      |                    |                      |                      00:00:00|                    00:00:00|         2022-10-03|         A118982|      2022-10-08|           UPROBCAT|              190239|                   LTGJ| 2022-11-30 00:42:...|\n",
            "|   00004287|            00|                  0|                2|         3|             080|             54|         3541|                 15|             5988|          799|1456900382957|               |                       |                 N|                    N|                 |     00000|         00|                 DECLARADO|           2022-08-29|                  01|                 CTES|                |                NORM OPER|                       NE|        2022-08-29|         1900-01-01|       1900-01-01|                    |                     |                       |                      |                    |                      |                      00:00:00|                    00:00:00|         2022-08-29|         A128522|      2022-08-29|            A128522|              085936|                   6004| 2022-11-30 00:42:...|\n",
            "|   00004724|            00|                  0|                1|         3|             080|             54|           11|                 15|             2408|         4447| 820582605809|               |                       |                 N|                    N|                 |          |           |                COMPROBADO|           2022-11-04|                  01|                 PVTA|                |                NORM AUTO|                     COSM|        2022-08-22|         1900-01-01|       1900-01-01|                    |                     |                       |                      |                    |                      |                      00:00:00|                    00:00:00|         2022-08-22|        VW2CCON0|      2022-11-04|               XATM|              134712|                   XATM| 2022-11-30 00:42:...|\n",
            "|   00005527|            00|                  0|                3|         3|             080|             54|          261|                 15|              386|         2762| 386965082277|               |                       |                 N|                    N|                 |          |           |                COMPROBADO|           2022-10-03|                  01|                 CTES|                |                NORM AUTO|                     COSM|        2022-10-03|         1900-01-01|       1900-01-01|                    |                     |                       |                      |                    |                      |                      00:00:00|                    00:00:00|         2022-10-03|         A116250|      2022-10-03|           PCLUPCRT|              083101|                   OSMS| 2022-11-30 00:42:...|\n",
            "|   00005527|            00|                  0|                2|         3|             080|             54|          261|                 15|              590|         4192| 414386216022|               |                       |                 N|                    N|                 |          |           |                 DECLARADO|           2022-10-03|                  01|                 CTES|                |                NORM AUTO|                     COSM|        2022-10-03|         1900-01-01|       1900-01-01|                    |                     |                       |                      |                    |                      |                      00:00:00|                    00:00:00|         2022-10-03|         A116250|      2022-10-03|           PCLESMS0|              211417|                   A1ER| 2022-11-30 00:42:...|\n",
            "|   00007932|            00|                  0|                1|         3|             080|             54|          385|                 15|              406|         5887| 402572158909|               |                       |                 N|                    N|                 |          |           |                 DECLARADO|           2022-09-29|                  01|                 CTES|                |                NORM AUTO|                  COPDTEL|        2022-09-29|         1900-01-01|       1900-01-01|                    |                     |                       |                      |                    |                      |                      00:00:00|                    00:00:00|         2022-09-29|         A126810|      2022-09-29|            A126810|              080344|                   2433| 2022-11-30 00:42:...|\n",
            "|   00011850|            02|                  0|                2|         3|             080|             54|           11|                 15|             2578|         1080| 790484486094|               |                       |                 N|                    N|                 |          |           |                 DECLARADO|           2022-10-24|                  01|                 CTES|                |                NORM AUTO|                  COPDTEL|        2022-10-24|         1900-01-01|       1900-01-01|                    |                     |                       |                      |                    |                      |                      00:00:00|                    00:00:00|         2022-10-24|         A128087|      2022-10-24|            A128087|              102418|                   DJ02| 2022-11-30 00:42:...|\n",
            "|   00011850|            00|                  0|                1|         3|             080|             54|         3489|                 15|               49|         3578| 163848812051|               |                       |                 N|                    N|                 |          |           |                COMPROBADO|           2022-10-27|                  01|                 CTES|                |                NORM AUTO|                   COPDTE|        2022-10-24|         1900-01-01|       1900-01-01|                    |                     |                       |                      |                    |                      |                      00:00:00|                    00:00:00|         2022-10-24|         A128087|      2022-10-27|               XATM|              102418|                   XATM| 2022-11-30 00:42:...|\n",
            "|   00012051|            00|                  0|                1|         3|             080|             54|         3401|                 15|               53|         4381| 226398993225|               |                       |                 N|                    N|                 |          |           |                 DECLARADO|           2022-10-06|                  01|                 PVTA|                |                NORM AUTO|                     COSM|        2022-10-06|         1900-01-01|       1900-01-01|                    |                     |                       |                      |                    |                      |                      00:00:00|                    00:00:00|         2022-10-06|        VW2CCON0|      2022-10-06|           VW2CCON0|              103328|                   PVTA| 2022-11-30 00:42:...|\n",
            "|   00012611|            00|                  0|                1|         3|             080|             54|           11|                 15|             6114|         1855| 162848642527|               |                       |                 N|                    N|                 |          |           |                COMPROBADO|           2022-08-30|                  01|                 CTES|                |                NORM AUTO|                   COPDTE|        2022-08-29|         1900-01-01|       1900-01-01|                    |                     |                       |                      |                    |                      |                      00:00:00|                    00:00:00|         2022-08-24|         A127359|      2022-08-30|               XATM|              084918|                   XATM| 2022-11-30 00:42:...|\n",
            "+-----------+--------------+-------------------+-----------------+----------+----------------+---------------+-------------+-------------------+-----------------+-------------+-------------+---------------+-----------------------+------------------+---------------------+-----------------+----------+-----------+--------------------------+---------------------+--------------------+---------------------+----------------+-------------------------+-------------------------+------------------+-------------------+-----------------+--------------------+---------------------+-----------------------+----------------------+--------------------+----------------------+------------------------------+----------------------------+-------------------+----------------+----------------+-------------------+--------------------+-----------------------+---------------------+\n",
            "only showing top 20 rows\n",
            "\n"
          ]
        }
      ]
    },
    {
      "cell_type": "code",
      "source": [
        "from pyspark.sql.functions import row_number, desc"
      ],
      "metadata": {
        "id": "3iyrt-mgmH2X"
      },
      "execution_count": 13,
      "outputs": []
    },
    {
      "cell_type": "code",
      "source": [
        "from pyspark.sql.window import Window"
      ],
      "metadata": {
        "id": "k8z5MjQNB6wb"
      },
      "execution_count": 14,
      "outputs": []
    },
    {
      "cell_type": "markdown",
      "source": [
        "#Filtro telefonos\n",
        "\n"
      ],
      "metadata": {
        "id": "-VDk1DPK6Te6"
      }
    },
    {
      "cell_type": "code",
      "source": [
        "import pyspark.sql.functions as F\n",
        "from pyspark.sql import SparkSession\n",
        "from pyspark.sql.functions import concat,col, row_number, desc, collect_list\n",
        "from pyspark.sql.window import Window"
      ],
      "metadata": {
        "id": "GWTKYB_ofu6s"
      },
      "execution_count": 15,
      "outputs": []
    },
    {
      "cell_type": "markdown",
      "source": [
        "Cortamos la tabla, las columnas que no consideramos parte del analisis"
      ],
      "metadata": {
        "id": "J-RWB9n89LGU"
      }
    },
    {
      "cell_type": "code",
      "source": [
        "df_phones_cut = df_phones.drop('phone_intern_id','phone_country_id', 'aditional_info_txt_desc', 'primary_phone_type','address_sequence_type','address_town_name','zipcode_id', 'province_id','sender_application_id','normalization_status_type','normalization_reason_name','validity_start_date','validity_end_date','dlvy_day_monday_type','dlvy_day_tuesday_type','dlvy_day_wednesday_type','dlvy_day_thursday_type','dlvy_day_friday_type','dlvy_day_friday_type','dlvy_day_saturday_type','delivery_contact_start_hm_date','delivery_contact_end_hm_date','operational_load_date','normalization_date')"
      ],
      "metadata": {
        "id": "9hERzQKPG3g0"
      },
      "execution_count": 16,
      "outputs": []
    },
    {
      "cell_type": "code",
      "source": [
        "df_phones_sorted = df_phones_cut.orderBy([df_phones_cut.customer_id, desc('last_change_date')])\n",
        "df_phones_sorted.show()"
      ],
      "metadata": {
        "colab": {
          "base_uri": "https://localhost:8080/"
        },
        "id": "FoPhEn2ZGS54",
        "outputId": "9432f283-64ab-4e6a-f402-a9279598d08e"
      },
      "execution_count": 17,
      "outputs": [
        {
          "output_type": "stream",
          "name": "stdout",
          "text": [
            "+-----------+--------------+-------------------+-----------------+----------+---------------+-------------+-------------------+-----------------+-------------+-------------+--------------------------+---------------------+--------------------+----------------+-------------------+----------------+----------------+-------------------+--------------------+-----------------------+\n",
            "|customer_id|phone_use_type|address_sequence_id|phone_sequence_id|phone_type|prefix_phone_id|phone_area_id|cellphone_prefix_id|phone_exchange_id|phone_line_id|     phone_id|customer_phone_status_type|phone_status_mod_date|contact_channel_type|wrong_phone_type|registry_entry_date|register_user_id|last_change_date|last_change_user_id|last_change_hms_date|last_change_terminal_id|\n",
            "+-----------+--------------+-------------------+-----------------+----------+---------------+-------------+-------------------+-----------------+-------------+-------------+--------------------------+---------------------+--------------------+----------------+-------------------+----------------+----------------+-------------------+--------------------+-----------------------+\n",
            "|   00000007|            00|                  2|                1|         3|             54|          266|                 15|              469|         7946| 304920118694|                 DECLARADO|           2022-09-01|                  01|                |         2022-09-01|         A126150|      2022-09-01|            A126150|              085907|                   L0CX|\n",
            "|   00000039|            00|                  0|                2|         3|             54|          341|                 15|              284|         7321| 142040288534|                 DECLARADO|           2022-09-20|                  01|                |         2022-09-20|         A115480|      2022-09-20|            A115480|              140240|                   3586|\n",
            "|   00000044|            00|                  2|                2|         3|             54|           11|                 15|             2506|         4159| 150642392069|                 DECLARADO|           2022-10-03|                  01|                |         2022-09-09|         A126255|      2022-10-03|           PCLESMS0|              211417|                   2556|\n",
            "|   00000381|            00|                  1|                1|         3|             54|          381|                 15|              590|         9885| 579839963031|                 DECLARADO|           2022-07-19|                  01|                |         2022-07-19|         A126541|      2022-07-19|            A126541|              110528|                   Y2GC|\n",
            "|   00000442|            02|                  0|                2|         3|             54|          297|                 15|              529|         6284| 712455962424|                 DECLARADO|           2022-07-20|                  01|                |         2022-07-20|         A125588|      2022-07-20|            A125588|              122016|                   E307|\n",
            "|   00000442|            00|                  0|                1|         3|             54|          297|                 15|              472|         9337| 384498667593|                 DECLARADO|           2022-07-20|                  01|                |         2022-07-20|         A125588|      2022-07-20|            A125588|              122016|                   E307|\n",
            "|   00001419|            00|                  0|                2|         3|             54|           11|                 15|             6679|         3207| 044982237001|                COMPROBADO|           2022-11-01|                  01|                |         2022-11-01|         A126407|      2022-11-01|            A126407|              135527|                   L0B2|\n",
            "|   00001939|            00|                  0|                1|         3|             54|           11|                 15|             3870|         0150| 008960137788|                COMPROBADO|           2022-09-21|                  01|                |         2022-09-21|        GPROBANK|      2022-09-21|           PCLUPCRT|              162941|                   OSMS|\n",
            "|   00002707|            01|                  0|                1|         1|             54|          299|                   |              447|         7116|   6116490163|                 DECLARADO|           2022-08-12|                  01|                |         2022-08-12|         A126869|      2022-08-17|            A126869|              141848|                   5240|\n",
            "|   00002790|            00|                  0|                1|         3|             54|          342|                 15|              466|         2478| 051880599267|                COMPROBADO|           2022-11-18|                  16|                |         2022-10-03|         A118982|      2022-11-18|               XATM|              190233|                   XATM|\n",
            "|   00002790|            00|                  0|                2|         1|             54|          342|                   |              488|         3620|   4330463819|                  VALIDADO|           2022-10-08|                  16|                |         2022-10-03|         A118982|      2022-10-08|           UPROBCAT|              190239|                   LTGJ|\n",
            "|   00004287|            00|                  0|                2|         3|             54|         3541|                 15|             5988|          799|1456900382957|                 DECLARADO|           2022-08-29|                  01|                |         2022-08-29|         A128522|      2022-08-29|            A128522|              085936|                   6004|\n",
            "|   00004724|            00|                  0|                1|         3|             54|           11|                 15|             2408|         4447| 820582605809|                COMPROBADO|           2022-11-04|                  01|                |         2022-08-22|        VW2CCON0|      2022-11-04|               XATM|              134712|                   XATM|\n",
            "|   00005527|            00|                  0|                3|         3|             54|          261|                 15|              386|         2762| 386965082277|                COMPROBADO|           2022-10-03|                  01|                |         2022-10-03|         A116250|      2022-10-03|           PCLUPCRT|              083101|                   OSMS|\n",
            "|   00005527|            00|                  0|                2|         3|             54|          261|                 15|              590|         4192| 414386216022|                 DECLARADO|           2022-10-03|                  01|                |         2022-10-03|         A116250|      2022-10-03|           PCLESMS0|              211417|                   A1ER|\n",
            "|   00007932|            00|                  0|                1|         3|             54|          385|                 15|              406|         5887| 402572158909|                 DECLARADO|           2022-09-29|                  01|                |         2022-09-29|         A126810|      2022-09-29|            A126810|              080344|                   2433|\n",
            "|   00011850|            00|                  0|                1|         3|             54|         3489|                 15|               49|         3578| 163848812051|                COMPROBADO|           2022-10-27|                  01|                |         2022-10-24|         A128087|      2022-10-27|               XATM|              102418|                   XATM|\n",
            "|   00011850|            02|                  0|                2|         3|             54|           11|                 15|             2578|         1080| 790484486094|                 DECLARADO|           2022-10-24|                  01|                |         2022-10-24|         A128087|      2022-10-24|            A128087|              102418|                   DJ02|\n",
            "|   00012051|            00|                  0|                1|         3|             54|         3401|                 15|               53|         4381| 226398993225|                 DECLARADO|           2022-10-06|                  01|                |         2022-10-06|        VW2CCON0|      2022-10-06|           VW2CCON0|              103328|                   PVTA|\n",
            "|   00012611|            00|                  0|                1|         3|             54|           11|                 15|             6114|         1855| 162848642527|                COMPROBADO|           2022-08-30|                  01|                |         2022-08-24|         A127359|      2022-08-30|               XATM|              084918|                   XATM|\n",
            "+-----------+--------------+-------------------+-----------------+----------+---------------+-------------+-------------------+-----------------+-------------+-------------+--------------------------+---------------------+--------------------+----------------+-------------------+----------------+----------------+-------------------+--------------------+-----------------------+\n",
            "only showing top 20 rows\n",
            "\n"
          ]
        }
      ]
    },
    {
      "cell_type": "markdown",
      "source": [
        "\n",
        "Concatenamos las columnas del numero de telefono para armarlo en una sola\n"
      ],
      "metadata": {
        "id": "ZLjxKGiQ9AEw"
      }
    },
    {
      "cell_type": "code",
      "source": [
        "df_phones_sorted = df_phones_sorted.select(concat(df_phones_sorted.prefix_phone_id,df_phones_sorted.phone_area_id,df_phones_sorted.phone_exchange_id,df_phones_sorted.phone_line_id).alias('Full_Phone'),'customer_id','last_change_date')"
      ],
      "metadata": {
        "id": "vtxLPtYtha3U"
      },
      "execution_count": 18,
      "outputs": []
    },
    {
      "cell_type": "code",
      "source": [
        "df_phones_sorted.show()"
      ],
      "metadata": {
        "id": "LWdGRx181M8k",
        "colab": {
          "base_uri": "https://localhost:8080/"
        },
        "outputId": "fb7c6629-d130-4423-dc54-2f596ab21bb4"
      },
      "execution_count": 19,
      "outputs": [
        {
          "output_type": "stream",
          "name": "stdout",
          "text": [
            "+-------------+-----------+----------------+\n",
            "|   Full_Phone|customer_id|last_change_date|\n",
            "+-------------+-----------+----------------+\n",
            "| 542664697946|   00000007|      2022-09-01|\n",
            "| 543412847321|   00000039|      2022-09-20|\n",
            "| 541125064159|   00000044|      2022-10-03|\n",
            "| 543815909885|   00000381|      2022-07-19|\n",
            "| 542975296284|   00000442|      2022-07-20|\n",
            "| 542974729337|   00000442|      2022-07-20|\n",
            "| 541166793207|   00001419|      2022-11-01|\n",
            "| 541138700150|   00001939|      2022-09-21|\n",
            "| 542994477116|   00002707|      2022-08-17|\n",
            "| 543424662478|   00002790|      2022-11-18|\n",
            "| 543424883620|   00002790|      2022-10-08|\n",
            "|5435415988799|   00004287|      2022-08-29|\n",
            "| 541124084447|   00004724|      2022-11-04|\n",
            "| 542613862762|   00005527|      2022-10-03|\n",
            "| 542615904192|   00005527|      2022-10-03|\n",
            "| 543854065887|   00007932|      2022-09-29|\n",
            "| 543489493578|   00011850|      2022-10-27|\n",
            "| 541125781080|   00011850|      2022-10-24|\n",
            "| 543401534381|   00012051|      2022-10-06|\n",
            "| 541161141855|   00012611|      2022-08-30|\n",
            "+-------------+-----------+----------------+\n",
            "only showing top 20 rows\n",
            "\n"
          ]
        }
      ]
    },
    {
      "cell_type": "markdown",
      "source": [
        "Utilizamos windows para realizar las particiones de costumer_id"
      ],
      "metadata": {
        "id": "wvwHTk3182rA"
      }
    },
    {
      "cell_type": "code",
      "source": [
        "window = Window.partitionBy(df_phones_sorted.customer_id).orderBy(desc(df_phones_sorted.last_change_date))"
      ],
      "metadata": {
        "id": "nOtD4NAEkJ0R"
      },
      "execution_count": 20,
      "outputs": []
    },
    {
      "cell_type": "code",
      "source": [
        "df_phone = df_phones_sorted.withColumn('row_num', row_number().over(window))"
      ],
      "metadata": {
        "id": "hUwxB8zlkRlt"
      },
      "execution_count": 21,
      "outputs": []
    },
    {
      "cell_type": "code",
      "source": [
        "df_phone = df_phone.filter(df_phone.row_num <= 3)"
      ],
      "metadata": {
        "id": "n5zor5BTncC3"
      },
      "execution_count": 22,
      "outputs": []
    },
    {
      "cell_type": "code",
      "source": [
        "df_phone.show()"
      ],
      "metadata": {
        "colab": {
          "base_uri": "https://localhost:8080/"
        },
        "id": "eXBiJoRhoXuj",
        "outputId": "11e2b780-baa2-40e0-b119-61f08d248dcf"
      },
      "execution_count": 23,
      "outputs": [
        {
          "output_type": "stream",
          "name": "stdout",
          "text": [
            "+-------------+-----------+----------------+-------+\n",
            "|   Full_Phone|customer_id|last_change_date|row_num|\n",
            "+-------------+-----------+----------------+-------+\n",
            "| 542664697946|   00000007|      2022-09-01|      1|\n",
            "| 543815909885|   00000381|      2022-07-19|      1|\n",
            "| 543424662478|   00002790|      2022-11-18|      1|\n",
            "| 543424883620|   00002790|      2022-10-08|      2|\n",
            "|5435415988799|   00004287|      2022-08-29|      1|\n",
            "| 543854065887|   00007932|      2022-09-29|      1|\n",
            "| 543489493578|   00011850|      2022-10-27|      1|\n",
            "| 541125781080|   00011850|      2022-10-24|      2|\n",
            "| 543401534381|   00012051|      2022-10-06|      1|\n",
            "| 542216208511|   00013498|      2022-08-22|      1|\n",
            "| 541165050605|   00014664|      2022-10-06|      1|\n",
            "| 541161577947|   00041884|      2022-07-28|      1|\n",
            "| 541165187983|   00048225|      2022-07-08|      1|\n",
            "| 541169951912|   00052103|      2022-09-27|      1|\n",
            "| 543364577255|   00056407|      2022-10-17|      1|\n",
            "| 543412740967|   00058519|      2022-10-26|      1|\n",
            "| 541125222584|   00058909|      2022-08-03|      1|\n",
            "| 542976219525|   00064043|      2022-11-23|      1|\n",
            "| 542975133355|   00064043|      2022-08-19|      2|\n",
            "| 542966425661|   00064339|      2022-07-07|      1|\n",
            "+-------------+-----------+----------------+-------+\n",
            "only showing top 20 rows\n",
            "\n"
          ]
        }
      ]
    },
    {
      "cell_type": "markdown",
      "source": [
        "Realizamos la tabla pivot"
      ],
      "metadata": {
        "id": "fLCSlshr8rg0"
      }
    },
    {
      "cell_type": "code",
      "source": [
        "df_pivot_phone = df_phone.groupBy('customer_id').agg(collect_list('Full_Phone').alias('last_3_changes_list'))"
      ],
      "metadata": {
        "id": "d737GpB5obZr"
      },
      "execution_count": 24,
      "outputs": []
    },
    {
      "cell_type": "code",
      "source": [
        "df_pivot_phone = df_pivot_phone.selectExpr('customer_id', 'last_3_changes_list[0] as Phone_1', 'last_3_changes_list[1] as Phone_2', 'last_3_changes_list[2] as Phone_3')"
      ],
      "metadata": {
        "id": "USIvdMD0smwB"
      },
      "execution_count": 25,
      "outputs": []
    },
    {
      "cell_type": "code",
      "source": [
        "df_pivot_phone.show()"
      ],
      "metadata": {
        "colab": {
          "base_uri": "https://localhost:8080/"
        },
        "id": "-OqSrFegsq0G",
        "outputId": "b8b69501-d4e2-45d2-d6f6-97e4a7fc8416"
      },
      "execution_count": 26,
      "outputs": [
        {
          "output_type": "stream",
          "name": "stdout",
          "text": [
            "+-----------+-------------+------------+-------+\n",
            "|customer_id|      Phone_1|     Phone_2|Phone_3|\n",
            "+-----------+-------------+------------+-------+\n",
            "|   00000007| 542664697946|        null|   null|\n",
            "|   00000381| 543815909885|        null|   null|\n",
            "|   00002790| 543424662478|543424883620|   null|\n",
            "|   00004287|5435415988799|        null|   null|\n",
            "|   00007932| 543854065887|        null|   null|\n",
            "|   00011850| 543489493578|541125781080|   null|\n",
            "|   00012051| 543401534381|        null|   null|\n",
            "|   00013498| 542216208511|        null|   null|\n",
            "|   00014664| 541165050605|        null|   null|\n",
            "|   00041884| 541161577947|        null|   null|\n",
            "|   00048225| 541165187983|        null|   null|\n",
            "|   00052103| 541169951912|        null|   null|\n",
            "|   00056407| 543364577255|        null|   null|\n",
            "|   00058519| 543412740967|        null|   null|\n",
            "|   00058909| 541125222584|        null|   null|\n",
            "|   00064043| 542976219525|542975133355|   null|\n",
            "|   00064339| 542966425661|        null|   null|\n",
            "|   00071569| 543584112643|        null|   null|\n",
            "|   00077558| 541151522021|        null|   null|\n",
            "|   00079642| 541168707818|        null|   null|\n",
            "+-----------+-------------+------------+-------+\n",
            "only showing top 20 rows\n",
            "\n"
          ]
        }
      ]
    },
    {
      "cell_type": "markdown",
      "source": [
        "Reemplazamos null por ---"
      ],
      "metadata": {
        "id": "7M-r-88L8kkg"
      }
    },
    {
      "cell_type": "code",
      "source": [
        "df_pivot_phone = df_pivot_phone.na.fill('---')\n",
        "df_pivot_phone.show()"
      ],
      "metadata": {
        "colab": {
          "base_uri": "https://localhost:8080/"
        },
        "id": "NG-z-hV555Mb",
        "outputId": "01e2b67a-8b17-444d-e063-cf4c0b0b1df2"
      },
      "execution_count": 27,
      "outputs": [
        {
          "output_type": "stream",
          "name": "stdout",
          "text": [
            "+-----------+-------------+------------+-------+\n",
            "|customer_id|      Phone_1|     Phone_2|Phone_3|\n",
            "+-----------+-------------+------------+-------+\n",
            "|   00000007| 542664697946|         ---|    ---|\n",
            "|   00000381| 543815909885|         ---|    ---|\n",
            "|   00004287|5435415988799|         ---|    ---|\n",
            "|   00007932| 543854065887|         ---|    ---|\n",
            "|   00011850| 543489493578|541125781080|    ---|\n",
            "|   00012051| 543401534381|         ---|    ---|\n",
            "|   00013498| 542216208511|         ---|    ---|\n",
            "|   00014664| 541165050605|         ---|    ---|\n",
            "|   00041884| 541161577947|         ---|    ---|\n",
            "|   00048225| 541165187983|         ---|    ---|\n",
            "|   00052103| 541169951912|         ---|    ---|\n",
            "|   00056407| 543364577255|         ---|    ---|\n",
            "|   00058519| 543412740967|         ---|    ---|\n",
            "|   00058909| 541125222584|         ---|    ---|\n",
            "|   00064043| 542976219525|542975133355|    ---|\n",
            "|   00064339| 542966425661|         ---|    ---|\n",
            "|   00071569| 543584112643|         ---|    ---|\n",
            "|   00077558| 541151522021|         ---|    ---|\n",
            "|   00079642| 541168707818|         ---|    ---|\n",
            "|   00080625| 542262323396|         ---|    ---|\n",
            "+-----------+-------------+------------+-------+\n",
            "only showing top 20 rows\n",
            "\n"
          ]
        }
      ]
    },
    {
      "cell_type": "code",
      "source": [
        "df_customer = spark.read.load('sample_data/customer_basics_bootcamp.snappy.parquet', sep=',', inferschema='true', header='true')\n",
        "df_phones = spark.read.load('sample_data/phones_bootcamp.snappy.parquet', sep=',', inferschema='true', header='true')"
      ],
      "metadata": {
        "id": "KbhCYGsK58wt"
      },
      "execution_count": 28,
      "outputs": []
    },
    {
      "cell_type": "code",
      "source": [
        "df_phones.show()"
      ],
      "metadata": {
        "id": "B8Jn9OVdvYAt",
        "outputId": "69a20762-d6cb-4ab1-ecb8-efb7fd2262a9",
        "colab": {
          "base_uri": "https://localhost:8080/"
        }
      },
      "execution_count": 29,
      "outputs": [
        {
          "output_type": "stream",
          "name": "stdout",
          "text": [
            "+-----------+--------------+-------------------+-----------------+----------+----------------+---------------+-------------+-------------------+-----------------+-------------+--------------+---------------+-----------------------+------------------+---------------------+--------------------+----------+-----------+--------------------------+---------------------+--------------------+---------------------+----------------+-------------------------+-------------------------+------------------+-------------------+-----------------+--------------------+---------------------+-----------------------+----------------------+--------------------+----------------------+------------------------------+----------------------------+-------------------+----------------+----------------+-------------------+--------------------+-----------------------+---------------------+\n",
            "|customer_id|phone_use_type|address_sequence_id|phone_sequence_id|phone_type|phone_country_id|prefix_phone_id|phone_area_id|cellphone_prefix_id|phone_exchange_id|phone_line_id|      phone_id|phone_intern_id|aditional_info_txt_desc|primary_phone_type|address_sequence_type|   address_town_name|zipcode_id|province_id|customer_phone_status_type|phone_status_mod_date|contact_channel_type|sender_application_id|wrong_phone_type|normalization_status_type|normalization_reason_name|normalization_date|validity_start_date|validity_end_date|dlvy_day_monday_type|dlvy_day_tuesday_type|dlvy_day_wednesday_type|dlvy_day_thursday_type|dlvy_day_friday_type|dlvy_day_saturday_type|delivery_contact_start_hm_date|delivery_contact_end_hm_date|registry_entry_date|register_user_id|last_change_date|last_change_user_id|last_change_hms_date|last_change_terminal_id|operational_load_date|\n",
            "+-----------+--------------+-------------------+-----------------+----------+----------------+---------------+-------------+-------------------+-----------------+-------------+--------------+---------------+-----------------------+------------------+---------------------+--------------------+----------+-----------+--------------------------+---------------------+--------------------+---------------------+----------------+-------------------------+-------------------------+------------------+-------------------+-----------------+--------------------+---------------------+-----------------------+----------------------+--------------------+----------------------+------------------------------+----------------------------+-------------------+----------------+----------------+-------------------+--------------------+-----------------------+---------------------+\n",
            "|   29354201|            00|                  0|                1|         3|             080|             54|          385|                 15|              618|         8929|  696850618783|               |                       |                 N|                    N|                    |          |           |                 DECLARADO|           2022-06-24|                  01|                 CTES|                |                NORM OPER|                       NE|        2022-06-24|         1900-01-01|       1900-01-01|                    |                     |                       |                      |                    |                      |                      00:00:00|                    00:00:00|         2022-06-24|         A126810|      2022-06-24|            A126810|              085240|                   2429| 2022-11-30 00:42:...|\n",
            "|   29389432|            00|                  0|                1|         3|             080|             54|           11|                 15|             2550|         6187|  711931820675|               |                       |                 N|                    N|                    |          |           |                 DECLARADO|           2022-06-24|                  01|                 PVTA|                |                NORM AUTO|                  COPDTEL|        2022-06-24|         1900-01-01|       1900-01-01|                    |                     |                       |                      |                    |                      |                      00:00:00|                    00:00:00|         2022-06-24|        VW2CCON0|      2022-06-24|           VW2CCON0|              102004|                   PVTA| 2022-11-30 00:42:...|\n",
            "|   29382041|            01|                  0|                2|         1|             080|             54|          341|                   |              454|         3113|    3843676600|               |                       |                 N|                    N|                    |          |           |                 DECLARADO|           2022-06-24|                  01|                 CTES|                |                NORM AUTO|                  COPDTEL|        2022-06-24|         1900-01-01|       1900-01-01|                    |                     |                       |                      |                    |                      |                      00:00:00|                    00:00:00|         2022-06-24|         A126228|      2022-06-24|            A126228|              102436|                   Y2GK| 2022-11-30 00:42:...|\n",
            "|   07395331|            00|                  0|                2|         3|             080|             54|           11|                 15|             3017|         9680|  229013342402|               |                       |                 N|                    N|                    |          |           |                 DECLARADO|           2022-06-24|                  01|                 WKFL|                |                NORM AUTO|                  COPDTEL|        2022-06-24|         1900-01-01|       1900-01-01|                    |                     |                       |                      |                    |                      |                      00:00:00|                    00:00:00|         2022-06-24|         A118094|      2022-06-24|            A118094|              105750|                   P101| 2022-11-30 00:42:...|\n",
            "|   29349520|            00|                  0|                1|         3|             080|             54|           11|                 15|             4439|         4790|  589625269325|               |                       |                 N|                    N|                    |          |           |                 DECLARADO|           2022-06-24|                  01|                 CTES|                |                NORM AUTO|                   COPDTE|        2022-06-24|         1900-01-01|       1900-01-01|                    |                     |                       |                      |                    |                      |                      00:00:00|                    00:00:00|         2022-06-24|          A33643|      2022-06-24|             A33643|              105847|                   2305| 2022-11-30 00:42:...|\n",
            "|   29349520|            01|                  0|                2|         3|             080|             54|           11|                 15|             4439|         4790|  589625269325|               |                       |                 N|                    N|                    |          |           |                 DECLARADO|           2022-06-24|                  01|                 CTES|                |                NORM AUTO|                  COPDTEL|        2022-06-24|         1900-01-01|       1900-01-01|                    |                     |                       |                      |                    |                      |                      00:00:00|                    00:00:00|         2022-06-24|          A33643|      2022-06-24|             A33643|              105847|                   2305| 2022-11-30 00:42:...|\n",
            "|   29390571|            00|                  0|                1|         3|             080|             54|          388|                 15|              514|         3040|  888200805780|               |                       |                 N|                    N|SAN SALVADOR DE J...|     04600|         10|                 DECLARADO|           2022-06-24|                  01|                 CTES|                |                NORM AUTO|                   COPDTE|        2022-08-11|         1900-01-01|       1900-01-01|                    |                     |                       |                      |                    |                      |                      00:00:00|                    00:00:00|         2022-06-24|          A78911|      2022-08-11|            A115116|              092940|                   5159| 2022-11-30 00:42:...|\n",
            "|   29353393|            00|                  0|                1|         3|             080|             54|         3444|                 15|               52|         3887|  474148675676|               |                       |                 N|                    N|                    |          |           |                COMPROBADO|           2022-06-24|                  01|                 CTES|                |                NORM AUTO|                  COPDTEL|        2022-06-24|         1900-01-01|       1900-01-01|                    |                     |                       |                      |                    |                      |                      00:00:00|                    00:00:00|         2022-06-24|         A127353|      2022-06-26|           PCLUPCRT|              125515|                   OSMS| 2022-11-30 00:42:...|\n",
            "|   29387501|            01|                  0|                2|         1|             080|             54|         2317|                   |               43|         4879|    2546905684|               |                       |                 N|                    N|                    |          |           |                 DECLARADO|           2022-06-24|                  01|                 CTES|                |                NORM AUTO|                  COPDTEL|        2022-06-24|         1900-01-01|       1900-01-01|                    |                     |                       |                      |                    |                      |                      00:00:00|                    00:00:00|         2022-06-24|         A118960|      2022-06-24|            A118960|              163712|                   Y2IG| 2022-11-30 00:42:...|\n",
            "|   29391432|            05|                  0|                1|         3|             080|             54|           11|                 15|             5529|         1962|  673397682353|               |                     04|                 N|                    N|                    |          |           |                 DECLARADO|           2022-06-24|                  01|                 CTES|                |                NORM AUTO|                  COPDTEL|        2022-06-24|         2022-06-24|       1900-01-01|                    |                     |                       |                      |                    |                      |                      00:00:00|                    00:00:00|         2022-06-24|        GPROBANK|      2022-06-24|            PCLE20N|              180221|                   BATC| 2022-11-30 00:42:...|\n",
            "|   29390553|            00|                  0|                1|         3|             080|             54|          351|                 15|              256|         0268|  453595914089|               |                       |                 N|                    N|                    |          |           |                COMPROBADO|           2022-07-02|                  01|                 CTES|                |                NORM AUTO|                  COPDTEL|        2022-07-01|         1900-01-01|       1900-01-01|                    |                     |                       |                      |                    |                      |                      00:00:00|                    00:00:00|         2022-06-24|         A126703|      2022-07-02|               XATM|              164720|                   XATM| 2022-11-30 00:42:...|\n",
            "|   29389361|            00|                  0|                1|         3|             080|             54|           11|                 15|             5579|         2407|  478405248222|               |                       |                 N|                    N|                    |          |           |                 DECLARADO|           2022-06-25|                  01|                 PVTA|                |                NORM AUTO|                  COPDTEL|        2022-06-25|         1900-01-01|       1900-01-01|                    |                     |                       |                      |                    |                      |                      00:00:00|                    00:00:00|         2022-06-25|        VW2CCON0|      2022-06-25|           VW2CCON0|              021541|                   PVTA| 2022-11-30 00:42:...|\n",
            "|   29400313|            00|                  0|                1|         3|             080|             54|           11|                 15|             4030|         8325|  043683030098|               |                       |                 N|                    N|                    |          |           |                 DECLARADO|           2022-06-25|                  01|                 CTES|                |                NORM AUTO|                  COPDTEL|        2022-06-27|         1900-01-01|       1900-01-01|                    |                     |                       |                      |                    |                      |                      00:00:00|                    00:00:00|         2022-06-25|        GPROBANK|      2022-06-27|           GPROBANK|              152322|                   LWBE| 2022-11-30 00:42:...|\n",
            "|   29401025|            00|                  0|                1|         3|             080|             54|           11|                 15|             2288|         8738|  008725729120|               |                       |                 N|                    N|                    |          |           |                COMPROBADO|           2022-06-26|                  01|                 PVTA|                |                NORM AUTO|                  COPDTEL|        2022-06-26|         1900-01-01|       1900-01-01|                    |                     |                       |                      |                    |                      |                      00:00:00|                    00:00:00|         2022-06-26|        VW2CCON0|      2022-07-12|           PCLUPCRT|              215455|                   OSMS| 2022-11-30 00:42:...|\n",
            "|   29401299|            00|                  0|                1|         3|             080|             54|         0011|                 15|             6761|         8843|09893903230068|               |                       |                 N|                    N|                    |          |           |                 DECLARADO|           2022-06-27|                  01|                 CTES|                |                         |                         |        1900-01-01|         1900-01-01|       1900-01-01|                    |                     |                       |                      |                    |                      |                      00:00:00|                    00:00:00|         2022-06-27|        GPROBANK|      2022-06-27|           GPROBANK|              184500|                   LWAW| 2022-11-30 00:42:...|\n",
            "|   29325999|            00|                  0|                2|         3|             080|             54|          342|                 15|              479|         9696|  466813319125|               |                       |                 N|                    N|                    |          |           |                 DECLARADO|           2022-06-26|                  01|                 PVTA|                |                NORM AUTO|                  COPDTEL|        2022-06-26|         1900-01-01|       1900-01-01|                    |                     |                       |                      |                    |                      |                      00:00:00|                    00:00:00|         2022-06-26|        VW2CCON0|      2022-06-26|           VW2CCON0|              222823|                   PVTA| 2022-11-30 00:42:...|\n",
            "|   29402665|            00|                  0|                1|         3|             080|             54|         3564|                 15|               33|         7284|  443220384448|               |                       |                 N|                    N|       SAN FRANCISCO|     02400|         04|                 DECLARADO|           2022-06-27|                  01|                 CTES|                |                NORM AUTO|                   COPDTE|        2022-06-27|         1900-01-01|       1900-01-01|                    |                     |                       |                      |                    |                      |                      00:00:00|                    00:00:00|         2022-06-27|         A116108|      2022-06-27|            A116108|              124517|                   6104| 2022-11-30 00:42:...|\n",
            "|   29402665|            00|                  0|                2|         3|             080|             54|         3564|                 15|               33|         3190|  538542198741|               |                       |                 N|                    N|                    |          |           |                 DECLARADO|           2022-06-27|                  01|                 CTES|                |                NORM AUTO|                  COPDTEL|        2022-06-27|         1900-01-01|       1900-01-01|                    |                     |                       |                      |                    |                      |                      00:00:00|                    00:00:00|         2022-06-27|         A116108|      2022-06-27|            A116108|              124517|                   6104| 2022-11-30 00:42:...|\n",
            "|   29375587|            00|                  0|                1|         3|             080|             54|          221|                 15|              692|         9792|  061269423380|               |                       |                 N|                    N|                    |          |           |                COMPROBADO|           2022-10-03|                  01|                 CTES|                |                NORM AUTO|                     COSM|        2022-10-03|         1900-01-01|       1900-01-01|                    |                     |                       |                      |                    |                      |                      00:00:00|                    00:00:00|         2022-10-03|         A127599|      2022-10-03|           PCLUPCRT|              132855|                   OSMS| 2022-11-30 00:42:...|\n",
            "|   29375587|            01|                  0|                2|         1|             080|             54|          221|                   |              425|         9227|    7885170733|               |                       |                 N|                    N|                    |          |           |                  VALIDADO|           2022-10-03|                  01|                 CTES|                |                NORM AUTO|                  COPDTEL|        2022-07-01|         1900-01-01|       1900-01-01|                    |                     |                       |                      |                    |                      |                      00:00:00|                    00:00:00|         2022-06-27|         A118978|      2022-10-03|            A127599|              122731|                   9330| 2022-11-30 00:42:...|\n",
            "+-----------+--------------+-------------------+-----------------+----------+----------------+---------------+-------------+-------------------+-----------------+-------------+--------------+---------------+-----------------------+------------------+---------------------+--------------------+----------+-----------+--------------------------+---------------------+--------------------+---------------------+----------------+-------------------------+-------------------------+------------------+-------------------+-----------------+--------------------+---------------------+-----------------------+----------------------+--------------------+----------------------+------------------------------+----------------------------+-------------------+----------------+----------------+-------------------+--------------------+-----------------------+---------------------+\n",
            "only showing top 20 rows\n",
            "\n"
          ]
        }
      ]
    },
    {
      "cell_type": "markdown",
      "source": [
        "#Agregar una nueva columna a los DataFrame de contactos, indicando el contact_type según corresponda (address, email, phone)"
      ],
      "metadata": {
        "id": "YiGoATa6SagJ"
      }
    },
    {
      "cell_type": "code",
      "source": [
        "from pyspark.sql.functions import lit"
      ],
      "metadata": {
        "id": "1FxxmbO8Sg4-"
      },
      "execution_count": 40,
      "outputs": []
    },
    {
      "cell_type": "code",
      "source": [
        "df_phones = df_phones.withColumn('contact_type', lit('phone'))"
      ],
      "metadata": {
        "id": "SEQYNdONpOYH"
      },
      "execution_count": 41,
      "outputs": []
    },
    {
      "cell_type": "code",
      "source": [
        "df_phones.show()"
      ],
      "metadata": {
        "id": "tns_tzaCplHU",
        "outputId": "c13cfd4b-60e3-4e8a-a87f-07b8f488930f",
        "colab": {
          "base_uri": "https://localhost:8080/"
        }
      },
      "execution_count": 42,
      "outputs": [
        {
          "output_type": "stream",
          "name": "stdout",
          "text": [
            "+-----------+--------------+-------------------+-----------------+----------+----------------+---------------+-------------+-------------------+-----------------+-------------+--------------+---------------+-----------------------+------------------+---------------------+--------------------+----------+-----------+--------------------------+---------------------+--------------------+---------------------+----------------+-------------------------+-------------------------+------------------+-------------------+-----------------+--------------------+---------------------+-----------------------+----------------------+--------------------+----------------------+------------------------------+----------------------------+-------------------+----------------+----------------+-------------------+--------------------+-----------------------+---------------------+------------+\n",
            "|customer_id|phone_use_type|address_sequence_id|phone_sequence_id|phone_type|phone_country_id|prefix_phone_id|phone_area_id|cellphone_prefix_id|phone_exchange_id|phone_line_id|      phone_id|phone_intern_id|aditional_info_txt_desc|primary_phone_type|address_sequence_type|   address_town_name|zipcode_id|province_id|customer_phone_status_type|phone_status_mod_date|contact_channel_type|sender_application_id|wrong_phone_type|normalization_status_type|normalization_reason_name|normalization_date|validity_start_date|validity_end_date|dlvy_day_monday_type|dlvy_day_tuesday_type|dlvy_day_wednesday_type|dlvy_day_thursday_type|dlvy_day_friday_type|dlvy_day_saturday_type|delivery_contact_start_hm_date|delivery_contact_end_hm_date|registry_entry_date|register_user_id|last_change_date|last_change_user_id|last_change_hms_date|last_change_terminal_id|operational_load_date|contact_type|\n",
            "+-----------+--------------+-------------------+-----------------+----------+----------------+---------------+-------------+-------------------+-----------------+-------------+--------------+---------------+-----------------------+------------------+---------------------+--------------------+----------+-----------+--------------------------+---------------------+--------------------+---------------------+----------------+-------------------------+-------------------------+------------------+-------------------+-----------------+--------------------+---------------------+-----------------------+----------------------+--------------------+----------------------+------------------------------+----------------------------+-------------------+----------------+----------------+-------------------+--------------------+-----------------------+---------------------+------------+\n",
            "|   29354201|            00|                  0|                1|         3|             080|             54|          385|                 15|              618|         8929|  696850618783|               |                       |                 N|                    N|                    |          |           |                 DECLARADO|           2022-06-24|                  01|                 CTES|                |                NORM OPER|                       NE|        2022-06-24|         1900-01-01|       1900-01-01|                    |                     |                       |                      |                    |                      |                      00:00:00|                    00:00:00|         2022-06-24|         A126810|      2022-06-24|            A126810|              085240|                   2429| 2022-11-30 00:42:...|       phone|\n",
            "|   29389432|            00|                  0|                1|         3|             080|             54|           11|                 15|             2550|         6187|  711931820675|               |                       |                 N|                    N|                    |          |           |                 DECLARADO|           2022-06-24|                  01|                 PVTA|                |                NORM AUTO|                  COPDTEL|        2022-06-24|         1900-01-01|       1900-01-01|                    |                     |                       |                      |                    |                      |                      00:00:00|                    00:00:00|         2022-06-24|        VW2CCON0|      2022-06-24|           VW2CCON0|              102004|                   PVTA| 2022-11-30 00:42:...|       phone|\n",
            "|   29382041|            01|                  0|                2|         1|             080|             54|          341|                   |              454|         3113|    3843676600|               |                       |                 N|                    N|                    |          |           |                 DECLARADO|           2022-06-24|                  01|                 CTES|                |                NORM AUTO|                  COPDTEL|        2022-06-24|         1900-01-01|       1900-01-01|                    |                     |                       |                      |                    |                      |                      00:00:00|                    00:00:00|         2022-06-24|         A126228|      2022-06-24|            A126228|              102436|                   Y2GK| 2022-11-30 00:42:...|       phone|\n",
            "|   07395331|            00|                  0|                2|         3|             080|             54|           11|                 15|             3017|         9680|  229013342402|               |                       |                 N|                    N|                    |          |           |                 DECLARADO|           2022-06-24|                  01|                 WKFL|                |                NORM AUTO|                  COPDTEL|        2022-06-24|         1900-01-01|       1900-01-01|                    |                     |                       |                      |                    |                      |                      00:00:00|                    00:00:00|         2022-06-24|         A118094|      2022-06-24|            A118094|              105750|                   P101| 2022-11-30 00:42:...|       phone|\n",
            "|   29349520|            00|                  0|                1|         3|             080|             54|           11|                 15|             4439|         4790|  589625269325|               |                       |                 N|                    N|                    |          |           |                 DECLARADO|           2022-06-24|                  01|                 CTES|                |                NORM AUTO|                   COPDTE|        2022-06-24|         1900-01-01|       1900-01-01|                    |                     |                       |                      |                    |                      |                      00:00:00|                    00:00:00|         2022-06-24|          A33643|      2022-06-24|             A33643|              105847|                   2305| 2022-11-30 00:42:...|       phone|\n",
            "|   29349520|            01|                  0|                2|         3|             080|             54|           11|                 15|             4439|         4790|  589625269325|               |                       |                 N|                    N|                    |          |           |                 DECLARADO|           2022-06-24|                  01|                 CTES|                |                NORM AUTO|                  COPDTEL|        2022-06-24|         1900-01-01|       1900-01-01|                    |                     |                       |                      |                    |                      |                      00:00:00|                    00:00:00|         2022-06-24|          A33643|      2022-06-24|             A33643|              105847|                   2305| 2022-11-30 00:42:...|       phone|\n",
            "|   29390571|            00|                  0|                1|         3|             080|             54|          388|                 15|              514|         3040|  888200805780|               |                       |                 N|                    N|SAN SALVADOR DE J...|     04600|         10|                 DECLARADO|           2022-06-24|                  01|                 CTES|                |                NORM AUTO|                   COPDTE|        2022-08-11|         1900-01-01|       1900-01-01|                    |                     |                       |                      |                    |                      |                      00:00:00|                    00:00:00|         2022-06-24|          A78911|      2022-08-11|            A115116|              092940|                   5159| 2022-11-30 00:42:...|       phone|\n",
            "|   29353393|            00|                  0|                1|         3|             080|             54|         3444|                 15|               52|         3887|  474148675676|               |                       |                 N|                    N|                    |          |           |                COMPROBADO|           2022-06-24|                  01|                 CTES|                |                NORM AUTO|                  COPDTEL|        2022-06-24|         1900-01-01|       1900-01-01|                    |                     |                       |                      |                    |                      |                      00:00:00|                    00:00:00|         2022-06-24|         A127353|      2022-06-26|           PCLUPCRT|              125515|                   OSMS| 2022-11-30 00:42:...|       phone|\n",
            "|   29387501|            01|                  0|                2|         1|             080|             54|         2317|                   |               43|         4879|    2546905684|               |                       |                 N|                    N|                    |          |           |                 DECLARADO|           2022-06-24|                  01|                 CTES|                |                NORM AUTO|                  COPDTEL|        2022-06-24|         1900-01-01|       1900-01-01|                    |                     |                       |                      |                    |                      |                      00:00:00|                    00:00:00|         2022-06-24|         A118960|      2022-06-24|            A118960|              163712|                   Y2IG| 2022-11-30 00:42:...|       phone|\n",
            "|   29391432|            05|                  0|                1|         3|             080|             54|           11|                 15|             5529|         1962|  673397682353|               |                     04|                 N|                    N|                    |          |           |                 DECLARADO|           2022-06-24|                  01|                 CTES|                |                NORM AUTO|                  COPDTEL|        2022-06-24|         2022-06-24|       1900-01-01|                    |                     |                       |                      |                    |                      |                      00:00:00|                    00:00:00|         2022-06-24|        GPROBANK|      2022-06-24|            PCLE20N|              180221|                   BATC| 2022-11-30 00:42:...|       phone|\n",
            "|   29390553|            00|                  0|                1|         3|             080|             54|          351|                 15|              256|         0268|  453595914089|               |                       |                 N|                    N|                    |          |           |                COMPROBADO|           2022-07-02|                  01|                 CTES|                |                NORM AUTO|                  COPDTEL|        2022-07-01|         1900-01-01|       1900-01-01|                    |                     |                       |                      |                    |                      |                      00:00:00|                    00:00:00|         2022-06-24|         A126703|      2022-07-02|               XATM|              164720|                   XATM| 2022-11-30 00:42:...|       phone|\n",
            "|   29389361|            00|                  0|                1|         3|             080|             54|           11|                 15|             5579|         2407|  478405248222|               |                       |                 N|                    N|                    |          |           |                 DECLARADO|           2022-06-25|                  01|                 PVTA|                |                NORM AUTO|                  COPDTEL|        2022-06-25|         1900-01-01|       1900-01-01|                    |                     |                       |                      |                    |                      |                      00:00:00|                    00:00:00|         2022-06-25|        VW2CCON0|      2022-06-25|           VW2CCON0|              021541|                   PVTA| 2022-11-30 00:42:...|       phone|\n",
            "|   29400313|            00|                  0|                1|         3|             080|             54|           11|                 15|             4030|         8325|  043683030098|               |                       |                 N|                    N|                    |          |           |                 DECLARADO|           2022-06-25|                  01|                 CTES|                |                NORM AUTO|                  COPDTEL|        2022-06-27|         1900-01-01|       1900-01-01|                    |                     |                       |                      |                    |                      |                      00:00:00|                    00:00:00|         2022-06-25|        GPROBANK|      2022-06-27|           GPROBANK|              152322|                   LWBE| 2022-11-30 00:42:...|       phone|\n",
            "|   29401025|            00|                  0|                1|         3|             080|             54|           11|                 15|             2288|         8738|  008725729120|               |                       |                 N|                    N|                    |          |           |                COMPROBADO|           2022-06-26|                  01|                 PVTA|                |                NORM AUTO|                  COPDTEL|        2022-06-26|         1900-01-01|       1900-01-01|                    |                     |                       |                      |                    |                      |                      00:00:00|                    00:00:00|         2022-06-26|        VW2CCON0|      2022-07-12|           PCLUPCRT|              215455|                   OSMS| 2022-11-30 00:42:...|       phone|\n",
            "|   29401299|            00|                  0|                1|         3|             080|             54|         0011|                 15|             6761|         8843|09893903230068|               |                       |                 N|                    N|                    |          |           |                 DECLARADO|           2022-06-27|                  01|                 CTES|                |                         |                         |        1900-01-01|         1900-01-01|       1900-01-01|                    |                     |                       |                      |                    |                      |                      00:00:00|                    00:00:00|         2022-06-27|        GPROBANK|      2022-06-27|           GPROBANK|              184500|                   LWAW| 2022-11-30 00:42:...|       phone|\n",
            "|   29325999|            00|                  0|                2|         3|             080|             54|          342|                 15|              479|         9696|  466813319125|               |                       |                 N|                    N|                    |          |           |                 DECLARADO|           2022-06-26|                  01|                 PVTA|                |                NORM AUTO|                  COPDTEL|        2022-06-26|         1900-01-01|       1900-01-01|                    |                     |                       |                      |                    |                      |                      00:00:00|                    00:00:00|         2022-06-26|        VW2CCON0|      2022-06-26|           VW2CCON0|              222823|                   PVTA| 2022-11-30 00:42:...|       phone|\n",
            "|   29402665|            00|                  0|                1|         3|             080|             54|         3564|                 15|               33|         7284|  443220384448|               |                       |                 N|                    N|       SAN FRANCISCO|     02400|         04|                 DECLARADO|           2022-06-27|                  01|                 CTES|                |                NORM AUTO|                   COPDTE|        2022-06-27|         1900-01-01|       1900-01-01|                    |                     |                       |                      |                    |                      |                      00:00:00|                    00:00:00|         2022-06-27|         A116108|      2022-06-27|            A116108|              124517|                   6104| 2022-11-30 00:42:...|       phone|\n",
            "|   29402665|            00|                  0|                2|         3|             080|             54|         3564|                 15|               33|         3190|  538542198741|               |                       |                 N|                    N|                    |          |           |                 DECLARADO|           2022-06-27|                  01|                 CTES|                |                NORM AUTO|                  COPDTEL|        2022-06-27|         1900-01-01|       1900-01-01|                    |                     |                       |                      |                    |                      |                      00:00:00|                    00:00:00|         2022-06-27|         A116108|      2022-06-27|            A116108|              124517|                   6104| 2022-11-30 00:42:...|       phone|\n",
            "|   29375587|            00|                  0|                1|         3|             080|             54|          221|                 15|              692|         9792|  061269423380|               |                       |                 N|                    N|                    |          |           |                COMPROBADO|           2022-10-03|                  01|                 CTES|                |                NORM AUTO|                     COSM|        2022-10-03|         1900-01-01|       1900-01-01|                    |                     |                       |                      |                    |                      |                      00:00:00|                    00:00:00|         2022-10-03|         A127599|      2022-10-03|           PCLUPCRT|              132855|                   OSMS| 2022-11-30 00:42:...|       phone|\n",
            "|   29375587|            01|                  0|                2|         1|             080|             54|          221|                   |              425|         9227|    7885170733|               |                       |                 N|                    N|                    |          |           |                  VALIDADO|           2022-10-03|                  01|                 CTES|                |                NORM AUTO|                  COPDTEL|        2022-07-01|         1900-01-01|       1900-01-01|                    |                     |                       |                      |                    |                      |                      00:00:00|                    00:00:00|         2022-06-27|         A118978|      2022-10-03|            A127599|              122731|                   9330| 2022-11-30 00:42:...|       phone|\n",
            "+-----------+--------------+-------------------+-----------------+----------+----------------+---------------+-------------+-------------------+-----------------+-------------+--------------+---------------+-----------------------+------------------+---------------------+--------------------+----------+-----------+--------------------------+---------------------+--------------------+---------------------+----------------+-------------------------+-------------------------+------------------+-------------------+-----------------+--------------------+---------------------+-----------------------+----------------------+--------------------+----------------------+------------------------------+----------------------------+-------------------+----------------+----------------+-------------------+--------------------+-----------------------+---------------------+------------+\n",
            "only showing top 20 rows\n",
            "\n"
          ]
        }
      ]
    },
    {
      "cell_type": "code",
      "source": [
        "df_emails = spark.read.load('sample_data/emails_bootcamp.snappy.parquet', sep=',', inferschema='true', header='true')"
      ],
      "metadata": {
        "id": "o_ghcK4uXn4n"
      },
      "execution_count": 35,
      "outputs": []
    },
    {
      "cell_type": "code",
      "source": [
        "df_emails = df_emails.withColumn('contact_type', lit('e-mail'))\n",
        "df_emails.show()"
      ],
      "metadata": {
        "id": "S_2ANqSYanU3",
        "outputId": "51a96edf-e68d-4712-f9d2-e3f3b8bcfadb",
        "colab": {
          "base_uri": "https://localhost:8080/"
        }
      },
      "execution_count": 44,
      "outputs": [
        {
          "output_type": "stream",
          "name": "stdout",
          "text": [
            "+-----------+---------+-------------------+--------------+----------+------------------+--------------------+-----------------+--------------+-------------------+----------------+--------------------------+--------------+----------------+-------------------+--------------------+-----------------------+---------------------+--------------------------+-------------------+----------------+------------+\n",
            "|customer_id|role_type|address_sequence_id|residence_type|email_type|primary_email_type|          email_desc|email_domain_type|encripted_type|field_length_number|   comments_desc|customer_email_status_type|email_app_type|register_user_id|last_change_user_id|last_change_hms_date|last_change_terminal_id|operational_load_date|customer_email_status_date|registry_entry_date|last_change_date|contact_type|\n",
            "+-----------+---------+-------------------+--------------+----------+------------------+--------------------+-----------------+--------------+-------------------+----------------+--------------------------+--------------+----------------+-------------------+--------------------+-----------------------+---------------------+--------------------------+-------------------+----------------+------------+\n",
            "|   00038638|       CL|                  1|             1|  PERSONAL|                 0|MIGUELINDART@GMAI...|              COM|              |                 30|                |                 DECLARADO|          CTES|         A115377|            A115377|            11:20:05|                   0704| 2021-12-09 19:39:...|                2019-11-14|         2019-11-14|      2019-11-14|      e-mail|\n",
            "|   00037083|       CL|                  1|             1|  PERSONAL|                 0|GROSENKRANTZ@GMAI...|                 |             N|                 30|                |                COMPROBADO|          FNET|        GPROBANK|           GPROBANK|            14:47:29|                   Y57L| 2021-12-09 19:39:...|                2017-03-08|         2017-03-08|      2017-03-08|      e-mail|\n",
            "|   06179762|       CL|                  1|             1|  PERSONAL|                 0|GUERRACLAUDIA@HOT...|              COM|              |                 30|                |                  VALIDADO|          FNET|         a126602|           GPROBANK|            13:20:12|                   LR7S| 2021-12-09 19:39:...|                2018-06-18|         2018-06-15|      2018-06-18|      e-mail|\n",
            "|   06179762|       CL|                  2|             1|  PERSONAL|                 0|BERRACLAUDIA@GMAI...|                 |             N|                 30|                |                COMPROBADO|          FNET|        GPROBANK|           PCLUPC15|            13:21:02|                   PC15| 2021-12-09 19:39:...|                2018-06-18|         2018-06-18|      2018-06-18|      e-mail|\n",
            "|   26957165|       CL|                  1|             1|  PERSONAL|                 1|CLAUDIABETYBARRAZ...|              COM|              |                 30|                |                COMPROBADO|          CTES|          A47294|           PCLUPC15|            15:16:35|                   PC15| 2021-12-09 19:39:...|                2021-03-09|         2021-01-25|      2021-03-09|      e-mail|\n",
            "|   01128123|       CL|                  1|             1|  PERSONAL|                 0|ESTEBANESS14@HOTM...|              COM|              |                 30|                |                COMPROBADO|          WKFL|         a115577|           PCLUPC15|            10:08:39|                   PC15| 2021-12-09 19:39:...|                2019-02-21|         2019-02-21|      2019-02-21|      e-mail|\n",
            "|   28886249|       CL|                  1|             1|  PERSONAL|                 0|WILLYSA@HOTMAIL.C...|              COM|              |                 30|                |                COMPROBADO|          FNET|        GPROBANK|           PCLUPC15|            12:16:40|                   PC15| 2021-12-09 19:39:...|                2019-04-23|         2014-02-17|      2019-04-23|      e-mail|\n",
            "|   27514348|       CL|                  1|             1|  PERSONAL|                 0|PPG.CARLACRUZ@GMA...|              COM|             N|                 30|                |                COMPROBADO|          PVTA|        VW2CCON0|           PCLUPC15|            14:10:40|                   PC15| 2021-12-09 19:39:...|                2021-01-25|         2021-01-25|      2021-01-25|      e-mail|\n",
            "|   27333422|       CL|                  1|             1|  PERSONAL|                -1| VIVGLAD@HOTMAIL.COM|                 |              |                 30|                |                  VALIDADO|          FNET|        GPROBANK|           GPROBANK|            15:25:27|                   4ZGB| 2021-12-09 19:39:...|                2017-12-28|         2011-07-05|      2017-12-28|      e-mail|\n",
            "|   00031275|       CL|                  1|             1|  PERSONAL|                 0|DARREMARIAL@GMAIL...|              COM|              |                 30|                |                 DECLARADO|          CTES|         A115377|            A115377|            12:14:39|                   0704| 2021-12-09 19:39:...|                2019-11-08|         2019-11-08|      2019-11-08|      e-mail|\n",
            "|   21938599|       CL|                  1|             1|  PERSONAL|                 0|   NOTIENE@GMAIL.COM|              COM|              |                 30|                |                  VALIDADO|          FNET|         A127169|           GPROBANK|            21:32:30|                   LR2Z| 2021-12-09 19:39:...|                2020-04-03|         2019-07-11|      2020-04-03|      e-mail|\n",
            "|   28990339|       CL|                  1|             1|  PERSONAL|                 0|    ELSAMO@GMAIL.COM|              COM|              |                 30|                |                 DECLARADO|          WKFL|         a115377|            A115377|            12:36:22|                   EECC| 2021-12-09 19:39:...|                2019-11-08|         2019-11-08|      2019-11-08|      e-mail|\n",
            "|   00033622|       CL|                  1|             1|  PERSONAL|                 0|nuevoviajero33@ho...|              COM|             N|                 30|                |                  NO VERIF|          VLCO|                |            PCLE11O|            18:14:49|                   Y57V| 2021-12-09 19:39:...|                2007-12-12|         2005-05-27|      2009-06-27|      e-mail|\n",
            "|   00033991|       CL|                  1|             2|  PERSONAL|                 0|robertomaneiro@in...|              com|             N|                 30|VUELCO FRONT END|                  NO VERIF|          VLCO|                |           GPROBANK|            12:00:00|                       | 2021-12-09 19:39:...|                2007-12-12|         2001-03-22|      2002-06-24|      e-mail|\n",
            "|   03692218|       CL|                  1|             1|  PERSONAL|                -1|ELORDISERVI@FIBER...|                 |              |                 30|                |                 DECLARADO|          FNET|        GPROBANK|                   |            10:18:23|                   Y37A| 2021-12-09 19:39:...|                2011-11-09|         2011-11-09|      2011-11-09|      e-mail|\n",
            "|   08698875|       CL|                  1|             1|  PERSONAL|                 0|MARTACENTI@HOTMAI...|              COM|             N|                 30|                |                  VALIDADO|          FNET|         A118046|           GPROBANK|            10:15:38|                   4ZGQ| 2021-12-09 19:39:...|                2017-12-20|         2014-09-30|      2017-12-20|      e-mail|\n",
            "|   27335212|       CL|                  1|             2|   LABORAL|                 0|DOMINICASROS@YAHO...|              COM|              |                 30|                |                 DECLARADO|          CTES|          A93505|             A93505|            14:25:15|                   L49H| 2021-12-09 19:39:...|                2019-08-08|         2019-08-08|      2020-02-14|      e-mail|\n",
            "|   00038389|       CL|                  1|             1|  PERSONAL|                 0|digitalizacion@ee...|                 |             N|                 30|                |                 DECLARADO|          CTES|          a61527|                   |            01:01:01|                       | 2021-12-09 19:39:...|                1900-01-01|         1900-01-01|      1900-01-01|      e-mail|\n",
            "|   00043705|       CL|                  1|             1|  PERSONAL|                 1|GOBDULIA@YAHOO.CO...|              COM|              |                 30|                |                 DECLARADO|          CTES|         A125582|            A125582|            16:43:38|                   2710| 2021-12-09 19:39:...|                2015-04-15|         2015-04-15|      2015-04-15|      e-mail|\n",
            "|   00043705|       CL|                  2|             1|  PERSONAL|                 0|CRAMIRTA@FIBERTEL...|                 |              |                 30|                |                 DECLARADO|          FNET|        GPROBANK|           GPROBANK|            13:30:23|                   4ZKO| 2021-12-09 19:39:...|                2015-06-09|         2015-06-09|      2015-06-09|      e-mail|\n",
            "+-----------+---------+-------------------+--------------+----------+------------------+--------------------+-----------------+--------------+-------------------+----------------+--------------------------+--------------+----------------+-------------------+--------------------+-----------------------+---------------------+--------------------------+-------------------+----------------+------------+\n",
            "only showing top 20 rows\n",
            "\n"
          ]
        }
      ]
    },
    {
      "cell_type": "code",
      "source": [
        "df_address = spark.read.load('sample_data/address_bootcamp.snappy.parquet', sep=',', inferschema='true', header='true')"
      ],
      "metadata": {
        "id": "4lPqyQNIcbew"
      },
      "execution_count": 37,
      "outputs": []
    },
    {
      "cell_type": "code",
      "source": [
        "df_address = df_address.withColumn('contact_type', lit('address'))\n",
        "df_address.show()"
      ],
      "metadata": {
        "id": "_DZkDUIhcfzv",
        "outputId": "4a035816-2a6a-4889-fea3-8236f3b6a44d",
        "colab": {
          "base_uri": "https://localhost:8080/"
        }
      },
      "execution_count": 45,
      "outputs": [
        {
          "output_type": "stream",
          "name": "stdout",
          "text": [
            "+-----------+-----------------------+-------------------+--------------+--------------------+------------------+---------------------------+-----------------+-------------+---------------------+--------------------+-----------------------+----------+---------------+-----------+------------------+----------------------+-------------------------+------------------+---------------------+------------------------------+-----------------------+--------------------+---------------------+------------------+-------------------------+-------------------------+------------------+-----------------------------+--------------------+---------------------+-----------------------+----------------------+--------------------+----------------------+------------------------------+----------------------------+------------------------+-------------------+----------------+----------------+-------------------+--------------------+-----------------------+-----------------+---------------------+------------+\n",
            "|customer_id|address_priority_number|address_sequence_id|residence_type|         street_name|address_outdoor_id|address_without_number_type|address_indoor_id|indoor_number|address_district_name|   address_town_name|address_department_name|zipcode_id|long_zipcode_id|province_id|address_country_id|other_information_desc|address_relationship_type|address_start_date|address_verified_date|customer_locator_verified_type|address_status_mod_date|contact_channel_type|sender_application_id|returned_mail_type|normalization_status_type|normalization_reason_name|normalization_date|normalized_level_match_number|dlvy_day_monday_type|dlvy_day_tuesday_type|dlvy_day_wednesday_type|dlvy_day_thursday_type|dlvy_day_friday_type|dlvy_day_saturday_type|delivery_contact_start_hm_date|delivery_contact_end_hm_date|prev_address_sequence_id|registry_entry_date|register_user_id|last_change_date|last_change_user_id|last_change_hms_date|last_change_terminal_id|registration_type|operational_load_date|contact_type|\n",
            "+-----------+-----------------------+-------------------+--------------+--------------------+------------------+---------------------------+-----------------+-------------+---------------------+--------------------+-----------------------+----------+---------------+-----------+------------------+----------------------+-------------------------+------------------+---------------------+------------------------------+-----------------------+--------------------+---------------------+------------------+-------------------------+-------------------------+------------------+-----------------------------+--------------------+---------------------+-----------------------+----------------------+--------------------+----------------------+------------------------------+----------------------------+------------------------+-------------------+----------------+----------------+-------------------+--------------------+-----------------------+-----------------+---------------------+------------+\n",
            "|   00000660|                      1|                  0|            06|PASCUALA DEL JUNC...|           0000850|                          N|                 |             |                  ...|VIRREYES         ...|   112233114455     ...|     01646|               |         02|               080|                   ...|                        0|              null|                 null|                    NO VERIF  |             2008-07-16|                  00|                 CTES|                 1|               NORM USU  |               NEAI      |        2008-07-16|                         0.00|                    |                     |                       |                      |                    |                      |                          0000|                        0000|                       0|         2008-07-16|        PCLE510 |      2011-07-01|           PCLE05T |              144535|                   B   |                -| 2022-01-13 21:32:...|     address|\n",
            "|   07121078|                      1|                  0|            06|SAN NICOLAS      ...|           0002478|                          N|                 |             |                  ...|VILLA VATTEONE   ...|   FLORENCIO VARELA ...|     01888|       B1853AMP|         02|               080|                   ...|                        0|              null|                 null|                    NO VERIF  |             2008-07-16|                  00|                 CTES|                 1|               NORM AUTO |               CO        |        2008-07-16|                         0.00|                    |                     |                       |                      |                    |                      |                          0000|                        0000|                       0|         2008-07-16|        PCLE510 |      2016-09-29|           PCLE05T |              145753|                   D265|                -| 2022-01-13 21:32:...|     address|\n",
            "|   22374047|                      1|                  0|            06|J DE LA CRUZ CONT...|           0000408|                          N|                 |             |                  ...|FLORENCIO VARELA ...|   FLORENCIO VARELA ...|     01888|       B1888IIJ|         02|               080|                   ...|                        0|              null|                 null|                    NO VERIF  |             2008-07-16|                  00|                 CTES|                 1|               NORM AUTO |               CO        |        2008-07-16|                         0.00|                    |                     |                       |                      |                    |                      |                          0000|                        0000|                       0|         2008-07-16|        PCLE510 |      2011-07-01|           PCLE05T |              144535|                   B   |                -| 2022-01-13 21:32:...|     address|\n",
            "|   00002450|                      1|                  0|            06|BACACAY          ...|           0001466|                          N|                 |             |                  ...|ITUZAINGO        ...|   ITUZAINGO        ...|     01714|       B1714ERV|         02|               080|                   ...|                        0|              null|                 null|                    NO VERIF  |             2009-01-26|                  00|                 CTES|                 0|               NORM AUTO |               CO        |        2009-01-26|                         0.00|                    |                     |                       |                      |                    |                      |                          0000|                        0000|                       0|         2009-01-26|        PCLE510 |      2009-01-26|           PCLE510 |              134000|                   B   |                -| 2022-01-13 21:32:...|     address|\n",
            "|   00003925|                      1|                  0|            06|MANUELA PEDRAZA  ...|           0001715|                          N|         5       |      B      |                  ...|CIUDAD AUTONOMA B...|   CAPITAL FEDERAL  ...|     01429|       C1429CBE|         01|               080|                   ...|                        0|              null|                 null|                    NO VERIF  |             2009-01-26|                  00|                 CTES|                 0|               NORM AUTO |               CO        |        2009-01-26|                         0.00|                    |                     |                       |                      |                    |                      |                          0000|                        0000|                       0|         2009-01-26|        PCLE07Q |      2009-01-26|           PCLE07Q |              155342|                   BAT |                -| 2022-01-13 21:32:...|     address|\n",
            "|   00004038|                      1|                  0|            06|BELGRANO         ...|           0001445|                          N|                 |             |                  ...|QUILMES          ...|   QUILMES          ...|     01878|       B1878GLC|         02|               080|                   ...|                        0|              null|                 null|                    NO VERIF  |             2009-01-26|                  00|                 CTES|                 0|               NORM AUTO |               CO        |        2009-01-26|                         0.00|                    |                     |                       |                      |                    |                      |                          0000|                        0000|                       0|         2009-01-26|        PCLE07Q |      2009-01-26|           PCLE07Q |              155342|                   BAT |                -| 2022-01-13 21:32:...|     address|\n",
            "|   01188067|                      1|                  0|            06|VENTURA BOSCH    ...|           0006320|                          N|                 |             |                  ...|CIUDAD AUTONOMA B...|   CAPITAL FEDERAL  ...|     01408|       C1408ECB|         01|               080|                   ...|                        0|              null|                 null|                    NO VERIF  |             2009-01-26|                  00|                 CTES|                 0|               NORM AUTO |               CO        |        2009-01-26|                         0.00|                    |                     |                       |                      |                    |                      |                          0000|                        0000|                       0|         2009-01-26|        PCLE07Q |      2009-01-26|           PCLE07Q |              155342|                   BAT |                -| 2022-01-13 21:32:...|     address|\n",
            "|   00006509|                      1|                  0|            06|CHILE            ...|           0000672|                          N|         4       |      16     |                  ...|CIUDAD AUTONOMA B...|   CAPITAL FEDERAL  ...|     01098|       C1098AAN|         01|               080|                   ...|                        0|              null|                 null|                    NO VERIF  |             2009-01-26|                  00|                 CTES|                 0|               NORM AUTO |               CO        |        2009-01-26|                         0.00|                    |                     |                       |                      |                    |                      |                          0000|                        0000|                       0|         2009-01-26|        PCLE07Q |      2009-01-26|           PCLE07Q |              155342|                   BAT |                -| 2022-01-13 21:32:...|     address|\n",
            "|   00006754|                      1|                  0|            06|CHASSAING        ...|           0004377|                          N|                 |             |                  ...|GREGORIO DE LAFER...|   LA MATANZA       ...|     01757|       B1757LIO|         02|               080|                   ...|                        0|              null|                 null|                    NO VERIF  |             2009-01-26|                  00|                 CTES|                 0|               NORM AUTO |               CO        |        2009-01-26|                         0.00|                    |                     |                       |                      |                    |                      |                          0000|                        0000|                       0|         2009-01-26|        PCLE07Q |      2009-01-26|           PCLE07Q |              155342|                   BAT |                -| 2022-01-13 21:32:...|     address|\n",
            "|   00009582|                      1|                  0|            06|J DE GARAY       ...|           0004818|                          N|                 |             |                  ...|CASEROS          ...|   TRES DE FEBRERO  ...|     01678|       B1678BJV|         02|               080|                   ...|                        0|              null|                 null|                    NO VERIF  |             2009-01-26|                  00|                 CTES|                 0|               NORM AUTO |               CO        |        2009-01-26|                         0.00|                    |                     |                       |                      |                    |                      |                          0000|                        0000|                       0|         2009-01-26|        PCLE07Q |      2009-01-26|           PCLE07Q |              155342|                   BAT |                -| 2022-01-13 21:32:...|     address|\n",
            "|   26761763|                      1|                  0|            06|PICO             ...|           0003366|                          N|         1       |             |                  ...|CIUDAD AUTONOMA B...|   CAPITAL FEDERAL  ...|     01429|       C1429EGH|         01|               080|                   ...|                        0|              null|                 null|                    NO VERIF  |             2009-01-26|                  00|                 CTES|                 0|               NORM AUTO |               CO        |        2009-01-26|                         0.00|                    |                     |                       |                      |                    |                      |                          0000|                        0000|                       0|         2009-01-26|        PCLE07Q |      2009-01-26|           PCLE07Q |              155342|                   BAT |                -| 2022-01-13 21:32:...|     address|\n",
            "|   00012730|                      1|                  0|            06|DR SALVADOR MAZZA...|           0003170|                          N|                 |             |                  ...|QUILMES OESTE    ...|   QUILMES          ...|     01879|       B1879CMB|         02|               080|                   ...|                        0|              null|                 null|                    NO VERIF  |             2009-01-26|                  00|                 CTES|                 0|               NORM AUTO |               CO        |        2009-01-26|                         0.00|                    |                     |                       |                      |                    |                      |                          0000|                        0000|                       0|         2009-01-26|        PCLE07Q |      2009-01-26|           PCLE07Q |              155342|                   BAT |                -| 2022-01-13 21:32:...|     address|\n",
            "|   23483616|                      1|                  0|            06|NICOLAS MEDINA   ...|           0000667|                          N|                 |             |                  ...|CIUDAD AUTONOMA B...|   CAPITAL FEDERAL  ...|     01407|       C1407JEM|         01|               080|                   ...|                        0|              null|                 null|                    NO VERIF  |             2009-01-26|                  00|                 CTES|                 0|               NORM AUTO |               CO        |        2009-01-26|                         0.00|                    |                     |                       |                      |                    |                      |                          0000|                        0000|                       0|         2009-01-26|        PCLE07Q |      2009-01-26|           PCLE07Q |              155342|                   BAT |                -| 2022-01-13 21:32:...|     address|\n",
            "|   00051576|                      1|                  0|            06|ING GUILLERMO MAR...|           0003215|                          N|                 |             |                  ...|BECCAR           ...|   SAN ISIDRO       ...|     01643|       B1643FFQ|         02|               080|                   ...|                        0|              null|                 null|                    NO VERIF  |             2009-01-26|                  00|                 CTES|                 0|               NORM AUTO |               CO        |        2009-01-26|                         0.00|                    |                     |                       |                      |                    |                      |                          0000|                        0000|                       0|         2009-01-26|        PCLE07Q |      2009-01-26|           PCLE07Q |              155342|                   BAT |                -| 2022-01-13 21:32:...|     address|\n",
            "|   00016049|                      4|                  0|            10|*****************...|           0000000|                          S|                 |             |                  ...|*****************...|   112233114455     ...|     00000|               |         00|               080|                   ...|                        0|              null|                 null|                    NO VERIF  |             2007-12-21|                  00|                 VLCO|                 0|               NO NORM   |                         |              null|                         0.00|                    |                     |                       |                      |                    |                      |                          0000|                        0000|                       0|         1996-11-30|                |      1996-11-30|           CONV    |              173959|                   FUSI|                -| 2022-01-13 21:32:...|     address|\n",
            "|   00016995|                      1|                  0|            06|AGUERO           ...|           0000777|                          N|         2       |      7      |                  ...|CIUDAD AUTONOMA B...|   CAPITAL FEDERAL  ...|     01171|       C1171ABK|         01|               080|                   ...|                        0|              null|                 null|                    NO VERIF  |             2009-01-26|                  00|                 CTES|                 0|               NORM AUTO |               CO        |        2009-01-26|                         0.00|                    |                     |                       |                      |                    |                      |                          0000|                        0000|                       0|         2009-01-26|        PCLE07Q |      2009-01-26|           PCLE07Q |              155342|                   BAT |                -| 2022-01-13 21:32:...|     address|\n",
            "|   26074313|                      1|                  0|            06|GRAL M DE AZCUENA...|           0000396|                          N|         2       |      A      |                  ...|CIUDAD AUTONOMA B...|   CAPITAL FEDERAL  ...|     01029|       C1029AAH|         01|               080|                   ...|                        0|              null|                 null|                    NO VERIF  |             2009-01-26|                  00|                 CTES|                 0|               NORM AUTO |               CO        |        2009-01-26|                         0.00|                    |                     |                       |                      |                    |                      |                          0000|                        0000|                       0|         2009-01-26|        PCLE07Q |      2009-01-26|           PCLE07Q |              155342|                   BAT |                -| 2022-01-13 21:32:...|     address|\n",
            "|   27666452|                      1|                  0|            06|PUEYRREDON       ...|           0002728|                          N|                 |             |                  ...|MANUEL ALBERTI   ...|   PILAR            ...|     01667|       B1664JLA|         02|               080|                   ...|                        0|              null|                 null|                    NO VERIF  |             2008-07-16|                  00|                 CTES|                 1|               NORM AUTO |               CO        |        2008-07-16|                         0.00|                    |                     |                       |                      |                    |                      |                          0000|                        0000|                       0|         2008-07-16|        PCLE510 |      2011-07-01|           PCLE05T |              144535|                   B   |                -| 2022-01-13 21:32:...|     address|\n",
            "|   00001213|                      8|                  3|            00|CLAUDIO MAMERTO C...|           0000111|                          N|         1       |      C      |                  ...|CIUDAD AUTONOMA B...|   CAPITAL FEDERAL  ...|     01406|       C1406ARA|         01|               080|                   ...|                        0|              null|                 null|                    DECLARADO |             2008-12-16|                  01|                 CTES|                 0|               NORM AUTO |               CO        |        2008-12-16|                         0.00|                    |                     |                       |                      |                    |                      |                          0000|                        0000|                       0|         2008-12-16|        XA01006 |      2008-12-16|           XA01006 |              105545|                   M903|                -| 2022-01-13 21:32:...|     address|\n",
            "|   00001213|                      3|                  2|            01|TUCUMAN          ...|           0001332|                          N|         4       |      B      |                  ...|CIUDAD AUTONOMA B...|   CAPITAL FEDERAL  ...|     01050|       C1050AAB|         01|               080|                   ...|                        0|              null|                 null|                    DECLARADO |             2008-12-17|                  01|                 CTES|                 0|               NORM AUTO |               CO        |        2008-12-17|                         0.00|                    |                     |                       |                      |                    |                      |                          0000|                        0000|                       0|         2008-12-12|        XA01006 |      2008-12-17|           XA01006 |              111852|                   M903|                -| 2022-01-13 21:32:...|     address|\n",
            "+-----------+-----------------------+-------------------+--------------+--------------------+------------------+---------------------------+-----------------+-------------+---------------------+--------------------+-----------------------+----------+---------------+-----------+------------------+----------------------+-------------------------+------------------+---------------------+------------------------------+-----------------------+--------------------+---------------------+------------------+-------------------------+-------------------------+------------------+-----------------------------+--------------------+---------------------+-----------------------+----------------------+--------------------+----------------------+------------------------------+----------------------------+------------------------+-------------------+----------------+----------------+-------------------+--------------------+-----------------------+-----------------+---------------------+------------+\n",
            "only showing top 20 rows\n",
            "\n"
          ]
        }
      ]
    },
    {
      "cell_type": "code",
      "source": [],
      "metadata": {
        "id": "wF8y8Uorcj9e"
      },
      "execution_count": null,
      "outputs": []
    }
  ]
}