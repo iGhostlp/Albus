{
  "nbformat": 4,
  "nbformat_minor": 0,
  "metadata": {
    "colab": {
      "provenance": [],
      "include_colab_link": true
    },
    "kernelspec": {
      "name": "python3",
      "display_name": "Python 3"
    },
    "language_info": {
      "name": "python"
    }
  },
  "cells": [
    {
      "cell_type": "markdown",
      "metadata": {
        "id": "view-in-github",
        "colab_type": "text"
      },
      "source": [
        "<a href=\"https://colab.research.google.com/github/iGhostlp/Albus/blob/Gunter-y-Ernesto/Proyecto_BBVA.ipynb\" target=\"_parent\"><img src=\"https://colab.research.google.com/assets/colab-badge.svg\" alt=\"Open In Colab\"/></a>"
      ]
    },
    {
      "cell_type": "markdown",
      "source": [
        "# Armado del entorno"
      ],
      "metadata": {
        "id": "VxhZxWLWuiG6"
      }
    },
    {
      "cell_type": "code",
      "execution_count": 2,
      "metadata": {
        "id": "L2mgwn8PsQQX"
      },
      "outputs": [],
      "source": [
        "# Download Spark\n",
        "!wget -q https://dlcdn.apache.org/spark/spark-3.3.2/spark-3.3.2-bin-hadoop3.tgz"
      ]
    },
    {
      "cell_type": "code",
      "source": [
        "# Unzip the file\n",
        "!tar xf spark-3.3.2-bin-hadoop3.tgz"
      ],
      "metadata": {
        "id": "2qbDnH7Euw7n"
      },
      "execution_count": 3,
      "outputs": []
    },
    {
      "cell_type": "code",
      "source": [
        "!readlink -f $(which java) | sed \"s:bin/java::\""
      ],
      "metadata": {
        "colab": {
          "base_uri": "https://localhost:8080/"
        },
        "id": "psFPl5kAaLV1",
        "outputId": "4b0d3017-cb1c-4250-85f0-ae5ca52b5491"
      },
      "execution_count": 4,
      "outputs": [
        {
          "output_type": "stream",
          "name": "stdout",
          "text": [
            "/usr/lib/jvm/java-11-openjdk-amd64/\n"
          ]
        }
      ]
    },
    {
      "cell_type": "code",
      "source": [
        "# Set up the environment for Spark\n",
        "import os\n",
        "os.environ[\"JAVA_HOME\"] = \"/usr/lib/jvm/java-11-openjdk-amd64/\"\n",
        "os.environ[\"SPARK_HOME\"] = '/content/spark-3.3.2-bin-hadoop3'"
      ],
      "metadata": {
        "id": "3eP99SbmBuQW"
      },
      "execution_count": 5,
      "outputs": []
    },
    {
      "cell_type": "code",
      "source": [
        "# Install library for finding Spark\n",
        "!pip install -q findspark\n",
        "\n",
        "# Import the libary\n",
        "import findspark\n",
        "\n",
        "# Initiate findspark\n",
        "findspark.init()"
      ],
      "metadata": {
        "id": "ayaw6ZzfB0Kz"
      },
      "execution_count": 6,
      "outputs": []
    },
    {
      "cell_type": "code",
      "source": [
        "# Import SparkSession\n",
        "from pyspark.sql import SparkSession\n",
        "\n",
        "# Create a Spark Session\n",
        "spark = SparkSession.builder.master(\"local[*]\").config('spark.sql.parquet.datetimeRebaseModeInRead','CORRECTED').getOrCreate()\n",
        "\n",
        "# Check Spark Session Information\n",
        "spark"
      ],
      "metadata": {
        "colab": {
          "base_uri": "https://localhost:8080/",
          "height": 0
        },
        "id": "hz-Q9qhgCrkK",
        "outputId": "1167140d-2909-4465-a9a9-1cde4e8ad267"
      },
      "execution_count": 7,
      "outputs": [
        {
          "output_type": "execute_result",
          "data": {
            "text/plain": [
              "<pyspark.sql.session.SparkSession at 0x7f95e410fd30>"
            ],
            "text/html": [
              "\n",
              "            <div>\n",
              "                <p><b>SparkSession - in-memory</b></p>\n",
              "                \n",
              "        <div>\n",
              "            <p><b>SparkContext</b></p>\n",
              "\n",
              "            <p><a href=\"http://4664840d1fd0:4040\">Spark UI</a></p>\n",
              "\n",
              "            <dl>\n",
              "              <dt>Version</dt>\n",
              "                <dd><code>v3.3.2</code></dd>\n",
              "              <dt>Master</dt>\n",
              "                <dd><code>local[*]</code></dd>\n",
              "              <dt>AppName</dt>\n",
              "                <dd><code>pyspark-shell</code></dd>\n",
              "            </dl>\n",
              "        </div>\n",
              "        \n",
              "            </div>\n",
              "        "
            ]
          },
          "metadata": {},
          "execution_count": 7
        }
      ]
    },
    {
      "cell_type": "markdown",
      "source": [
        "# Extraccion de datos desde parquet, clientes y teléfonos."
      ],
      "metadata": {
        "id": "VIT40BZLR5W_"
      }
    },
    {
      "cell_type": "code",
      "source": [
        "df_customer = spark.read.load('sample_data/customer_basics_bootcamp.snappy.parquet', sep=',', inferschema='true', header='true')\n",
        "df_phones = spark.read.load('sample_data/phones_bootcamp.snappy.parquet', sep=',', inferschema='true', header='true')\n"
      ],
      "metadata": {
        "id": "3nBhHQp_R8Nb"
      },
      "execution_count": 8,
      "outputs": []
    },
    {
      "cell_type": "code",
      "source": [
        "df_customer_phones = df_customer.join(df_phones, 'customer_id', how='inner')"
      ],
      "metadata": {
        "id": "0vU-yIbkWTEc"
      },
      "execution_count": 9,
      "outputs": []
    },
    {
      "cell_type": "code",
      "source": [
        "df_customer_phones.show()"
      ],
      "metadata": {
        "colab": {
          "base_uri": "https://localhost:8080/"
        },
        "id": "Yx36q0p8h_Sc",
        "outputId": "0fc4a30f-8bc9-4e3b-b415-a07c9650f207"
      },
      "execution_count": 10,
      "outputs": [
        {
          "output_type": "stream",
          "name": "stdout",
          "text": [
            "+-----------+-------------+-------------+--------------+---------------+--------------------+---------+----------------+-----------+-----------------------+-----------------------+----------+-------------------+-----------------+--------------------------+-----------+----------------+-----------------+-------------------+-----------+----------+----------------------+--------------------+---------------------+-----------+--------------------------+----------------------------+-------------------------------+------------------------+------------------------+--------------------------+------------------------+--------------------------+----------------------------+------------------+------------------------+-------------------+-------------------+---------------------------+-----------------+-------------------+-----------------+-------------------------------+--------------------+---------------------+------------------+----------------+--------------------+--------------------------+----------------+--------------------------+--------------------+-------------+----------------+--------------------+-------------------+--------+---------------------+-------------------------+--------------------------+----------------+--------------------+--------------------+----------------+-------------+-------------------------+-----------------------+---------------------+--------------+-------------------+-----------------+----------+----------------+---------------+-------------+-------------------+-----------------+-------------+------------+---------------+-----------------------+------------------+---------------------+-----------------+----------+-----------+--------------------------+---------------------+--------------------+---------------------+----------------+-------------------------+-------------------------+------------------+-------------------+-----------------+--------------------+---------------------+-----------------------+----------------------+--------------------+----------------------+------------------------------+----------------------------+-------------------+----------------+----------------+-------------------+--------------------+-----------------------+---------------------+\n",
            "|customer_id|personal_type|  personal_id|admission_date|sale_channel_id|operation_channel_id|branch_id|business_area_id|campaing_id|customer_situation_type|customer_condition_type|manager_id|tracking_manager_id|credit_manager_id|credit_recovery_manager_id|  last_name|second_last_name|       first_name|marital_status_type|gender_type|birth_date|country_nationality_id|residence_country_id|customer_subject_type|sector_type|customer_level_access_type|cust_bcra_econ_activity_type|internal_economic_activity_type|bbva_inhabilitation_type|customer_block_bbva_date|customer_unblock_bbva_date|customer_block_bcra_date|customer_unblock_bcra_date|customer_pending_notice_type|last_notice_number|last_reference_number_id|last_service_number|last_address_number|last_unlinking_account_date|customer_end_date|last_change_user_id|customer_pep_type|bbva_family_lnk_weighted_number|customer_status_type|scoring_activity_type|refinancing_number|refinancing_date|coholder_customer_id|customer_bcra_situation_id|customer_cuit_id|customer_position_vat_type|balance_closing_date|profession_id|bbva_cust_number|customer_linked_type|customer_entry_type|job_type|profession_start_date|customer_first_block_date|customer_registration_date|last_change_date|last_change_hms_date|register_terminal_id|register_user_id|customer_type|customer_seniority_number|last_status_change_date|operational_load_date|phone_use_type|address_sequence_id|phone_sequence_id|phone_type|phone_country_id|prefix_phone_id|phone_area_id|cellphone_prefix_id|phone_exchange_id|phone_line_id|    phone_id|phone_intern_id|aditional_info_txt_desc|primary_phone_type|address_sequence_type|address_town_name|zipcode_id|province_id|customer_phone_status_type|phone_status_mod_date|contact_channel_type|sender_application_id|wrong_phone_type|normalization_status_type|normalization_reason_name|normalization_date|validity_start_date|validity_end_date|dlvy_day_monday_type|dlvy_day_tuesday_type|dlvy_day_wednesday_type|dlvy_day_thursday_type|dlvy_day_friday_type|dlvy_day_saturday_type|delivery_contact_start_hm_date|delivery_contact_end_hm_date|registry_entry_date|register_user_id|last_change_date|last_change_user_id|last_change_hms_date|last_change_terminal_id|operational_load_date|\n",
            "+-----------+-------------+-------------+--------------+---------------+--------------------+---------+----------------+-----------+-----------------------+-----------------------+----------+-------------------+-----------------+--------------------------+-----------+----------------+-----------------+-------------------+-----------+----------+----------------------+--------------------+---------------------+-----------+--------------------------+----------------------------+-------------------------------+------------------------+------------------------+--------------------------+------------------------+--------------------------+----------------------------+------------------+------------------------+-------------------+-------------------+---------------------------+-----------------+-------------------+-----------------+-------------------------------+--------------------+---------------------+------------------+----------------+--------------------+--------------------------+----------------+--------------------------+--------------------+-------------+----------------+--------------------+-------------------+--------+---------------------+-------------------------+--------------------------+----------------+--------------------+--------------------+----------------+-------------+-------------------------+-----------------------+---------------------+--------------+-------------------+-----------------+----------+----------------+---------------+-------------+-------------------+-----------------+-------------+------------+---------------+-----------------------+------------------+---------------------+-----------------+----------+-----------+--------------------------+---------------------+--------------------+---------------------+----------------+-------------------------+-------------------------+------------------+-------------------+-----------------+--------------------+---------------------+-----------------------+----------------------+--------------------+----------------------+------------------------------+----------------------------+-------------------+----------------+----------------+-------------------+--------------------+-----------------------+---------------------+\n",
            "|   22288382|           00|0000028090040|    2015-12-04|          10000|                  00|      603|              34|          0|                      1|                      8|      2603|                   |                 |                          |   BILLORDO|                |     MARIO ANDRES|                  1|          M|1980-04-13|                    80|                 080|                  201|        100|                         0|                          82|                       21101000|                       0|                    null|                      null|                    null|                      null|                           0|                 0|                       0|                  0|                  0|                       null|             null|            PCLE06R|                1|                              1|                  PO|                   47|              null|            null|                    |                      null|   0020280900401|                       042|                null|          016|       022288382|                   N|                 MD|     001|           2015-12-04|                     null|                2015-12-04|      2015-12-04|              235311|                P37B|         PCLE25H|            S|                     null|                   null| 2022-03-10 01:05:...|            00|                  0|                4|         3|             080|             54|           11|                 15|             2634|         9000|048225806655|               |                       |                 N|                    N|                 |          |           |                COMPROBADO|           2022-08-05|                  01|                 CTES|                |                NORM AUTO|                  COPDTEL|        2022-06-30|         1900-01-01|       1900-01-01|                    |                     |                       |                      |                    |                      |                      00:00:00|                    00:00:00|         2022-06-30|         A117663|      2022-08-05|               XATM|              113350|                   XATM| 2022-11-30 00:42:...|\n",
            "|   21126665|           00|0000038854260|    2015-01-16|          10000|                  00|      603|              34|          0|                      1|                      8|      2603|                   |                 |                          |   BARRAGAN|                |    MIGUEL NAHUEL|                  1|          M|1995-05-07|                    80|                 080|                  201|        100|                         0|                          82|                       21101000|                       0|                    null|                      null|                    null|                      null|                           0|                 0|                       0|                  0|                  0|                       null|             null|            PCLE06R|                1|                              1|                  PO|                   47|              null|            null|                    |                      null|   0020388542609|                       042|                null|          016|       021126665|                   N|                 MD|     001|           2015-01-16|                     null|                2015-01-16|      2015-01-16|              231215|                P37B|         PCLE25H|            S|                     null|                   null| 2022-03-10 01:05:...|            00|                  0|                2|         3|             080|             54|         3444|                 15|               53|         5561|677225712027|               |                       |                 N|                    N|                 |          |           |                COMPROBADO|           2022-07-28|                  01|                 CTES|                |                NORM AUTO|                     COSM|        2022-07-28|         1900-01-01|       1900-01-01|                    |                     |                       |                      |                    |                      |                      00:00:00|                    00:00:00|         2022-07-28|         A118347|      2022-07-28|               XATM|              103346|                   XATM| 2022-11-30 00:42:...|\n",
            "|   27124153|           00|0000038921737|    2020-07-30|          10000|                  00|      603|              34|          0|                      1|                      8|      2603|                   |                 |                          |     ARANAS|                |      PAULA KAREN|                  1|          F|1995-03-24|                    80|                 080|                  201|        100|                         0|                          82|                       21101000|                       0|                    null|                      null|                    null|                      null|                           0|                 0|                       0|                  0|                  0|                       null|             null|            PCLE06R|                1|                              1|                  PO|                   47|              null|            null|                    |                      null|   0027389217374|                       042|                null|          016|       027124153|                   N|                 MD|     001|           2020-07-30|                     null|                2020-07-30|      2020-07-30|              003119|                P37B|         PCLE25H|            S|                     null|                   null| 2022-03-10 01:05:...|            00|                  0|                1|         3|             080|             54|           11|                 15|             3636|         7400|485482219628|               |                       |                 N|                    N|                 |          |           |                 DECLARADO|           2022-09-30|                  01|                 CTES|                |                NORM AUTO|                  COPDTEL|        2022-09-30|         1900-01-01|       1900-01-01|                    |                     |                       |                      |                    |                      |                      00:00:00|                    00:00:00|         2022-09-30|          A64302|      2022-09-30|           PCLESMS0|              211502|                   3016| 2022-11-30 00:42:...|\n",
            "|   22999372|           00|0000036674400|    2016-07-29|          10000|                  00|       21|              34|          0|                      1|                      1|       702|                   |                 |                          |   SANDOVAL|                |   VICTOR ANTONIO|                  5|          M|1992-03-26|                    80|                 080|                  201|        100|                         0|                          82|                       21101000|                       0|                    null|                      null|                    null|                      null|                            |                11|                       0|                  0|                  1|                       null|             null|            PCLE06M|                1|                              1|                  AC|                   50|              null|            null|                    |                      null|   0020366744003|                       042|                null|          039|       022999372|                   N|                   |     004|           2016-07-29|                     null|                2016-07-29|      2021-05-11|              090130|                P37B|         PCLE15V|            N|                     null|                   null| 2022-03-10 01:05:...|            00|                  0|                1|         3|             080|             54|         3541|                 15|               62|         1557|750325436808|               |                       |                 N|                    N|                 |          |           |                COMPROBADO|           2022-10-30|                  01|                 PVTA|                |                NORM AUTO|                     COSM|        2022-10-30|         1900-01-01|       1900-01-01|                    |                     |                       |                      |                    |                      |                      00:00:00|                    00:00:00|         2022-10-30|        VW2CCON0|      2022-10-30|           PCLUPCRT|              205017|                   OSMS| 2022-11-30 00:42:...|\n",
            "|   30668415|           00|0000022062274|    2015-08-11|          10000|                  00|      603|              34|          0|                      1|                      8|      2603|                   |                 |                          |     TAYLOR|                |   ALFREDO FABIAN|                  1|          M|1971-01-28|                    80|                 080|                  201|        100|                         0|                          82|                       21101000|                       0|                    null|                      null|                    null|                      null|                           0|                 0|                       0|                  0|                  2|                       null|             null|            PCLE06R|                1|                              1|                  PO|                   47|              null|            null|                    |                      null|   0020220622747|                       042|                null|          016|       021812737|                   N|                 MD|     001|           2015-08-11|                     null|                2015-08-11|      2015-08-11|              232342|                P37B|         PCLE25H|            S|                     null|                   null| 2022-03-10 01:05:...|            00|                  0|                1|         3|             080|             54|           11|                 15|             2366|         8711|929625826012|               |                       |                 N|                    N|                 |          |           |                COMPROBADO|           2022-11-16|                  01|                 CTES|                |                NORM AUTO|                   COPDTE|        2022-11-16|         1900-01-01|       1900-01-01|                    |                     |                       |                      |                    |                      |                      00:00:00|                    00:00:00|         2022-11-16|          A48833|      2022-11-16|             A33643|              111313|                   2305| 2022-11-30 00:42:...|\n",
            "|   30668415|           00|0000022062274|    2015-08-11|          10000|                  00|      603|              34|          0|                      1|                      8|      2603|                   |                 |                          |     TAYLOR|                |   ALFREDO FABIAN|                  1|          M|1971-01-28|                    80|                 080|                  201|        100|                         0|                          82|                       21101000|                       0|                    null|                      null|                    null|                      null|                           0|                 0|                       0|                  0|                  2|                       null|             null|            PCLE06R|                1|                              1|                  PO|                   47|              null|            null|                    |                      null|   0020220622747|                       042|                null|          016|       021812737|                   N|                 MD|     001|           2015-08-11|                     null|                2015-08-11|      2015-08-11|              232342|                P37B|         PCLE25H|            S|                     null|                   null| 2022-03-10 01:05:...|            01|                  0|                2|         3|             080|             54|           11|                 15|             2366|         8711|929625826012|               |                       |                 N|                    N|                 |          |           |                 DECLARADO|           2022-11-16|                  01|                 CTES|                |                NORM AUTO|                  COPDTEL|        2022-11-16|         1900-01-01|       1900-01-01|                    |                     |                       |                      |                    |                      |                      00:00:00|                    00:00:00|         2022-11-16|          A33643|      2022-11-16|             A33643|              111313|                   2305| 2022-11-30 00:42:...|\n",
            "|   02856972|           00|0000013147944|    2010-11-12|          10000|                  00|      336|              34|          0|                      1|                      1|       633|                   |                 |                          |     TREACY|                |   LORNA VIRGINIA|                  1|          F|1957-06-20|                    80|                 080|                  201|        100|                         0|                          82|                       21101000|                       0|                    null|                      null|                    null|                      null|                           0|                 0|                       0|                  0|                  1|                       null|             null|            PCLE06R|                1|                              1|                  PO|                   47|              null|            null|                    |                      null|   0027131479447|                       042|                null|          016|       002856972|                   N|                   |     001|           2010-11-12|                     null|                2010-11-12|      2010-11-12|              162832|                P37B|          VUELCO|            S|                     null|                   null| 2022-03-10 01:05:...|            00|                  0|                3|         3|             080|             54|           11|                 15|             7608|         3818|700232910447|               |                       |                 N|                    N|                 |     00000|         00|                 DECLARADO|           2022-06-24|                  01|                 CTES|                |                NORM OPER|                       NE|        2022-06-24|         1900-01-01|       1900-01-01|                    |                     |                       |                      |                    |                      |                      00:00:00|                    00:00:00|         2022-06-24|          A45587|      2022-06-24|             A45587|              120245|                   2734| 2022-11-30 00:42:...|\n",
            "|   02369314|           00|0000029919195|    2010-04-21|          10000|                  00|       81|              92|          0|                      1|                      1|      8118|                080|                 |                          |      CIRES|                |      ENZO ANDRES|                  5|          M|1984-06-15|                    80|                 080|                  201|        100|                         0|                          82|                       21101000|                       0|                    null|                      null|                    null|                      null|                            |                 0|                       0|                  0|                  2|                       null|             null|            PCLE825|                2|                              1|                  AC|                   44|              null|            null|                    |                        21|   0020299191959|                       042|                null|          005|       002369314|                   N|                   |     001|           2010-05-05|                     null|                2010-04-21|      2022-02-21|              125837|                   B|          VUELCO|            N|                     null|                   null| 2022-03-10 01:05:...|            00|                  0|                2|         3|             080|             54|          380|                 15|              475|         4624|069913142457|               |                       |                 S|                    N|                 |          |           |                COMPROBADO|           2022-10-29|                  01|                 CTES|                |                NORM AUTO|                     COSM|        2022-08-24|         1900-01-01|       1900-01-01|                    |                     |                       |                      |                    |                      |                      00:00:00|                    00:00:00|         2022-08-24|         A126618|      2022-10-29|               XATM|              211126|                   XATM| 2022-11-30 00:42:...|\n",
            "|   04942990|           00|0000025646917|    1999-11-01|          10000|                  01|      166|              30|          0|                      1|                      1|       400|                   |                 |                          |    IRURZUN|                |           JAZMIN|                  5|          F|1977-02-21|                    80|                 080|                  201|        100|                         0|                          82|                       21101000|                       0|                    null|                      null|                    null|                      null|                            |                 0|                       0|                  0|                  1|                       null|             null|            PCLE06O|                0|                              1|                  CA|                   47|              null|            null|                  93|                      null|   0027256469176|                       042|                null|          016|       004942990|                   N|                   |     001|           2009-01-01|                     null|                1999-11-01|      2008-03-28|              223554|                   B|          VUELCO|            N|                     null|                   null| 2022-03-10 01:05:...|            00|                  0|                2|         3|             080|             54|           11|                 15|             6987|         4382|020491180270|               |                       |                 N|                    N|                 |          |           |                COMPROBADO|           2022-09-09|                  01|                 WKFL|                |                NORM AUTO|                     COSM|        2022-09-09|         1900-01-01|       1900-01-01|                    |                     |                       |                      |                    |                      |                      00:00:00|                    00:00:00|         2022-09-09|         A126696|      2022-09-09|           PCLUPCRT|              124508|                   OSMS| 2022-11-30 00:42:...|\n",
            "|   00051576|           28|0000000985182|    1989-03-16|          10000|                    |       38|              34|          0|                      1|                      8|       137|                   |                 |                          |BERAZATEGUI|                |           CARMEN|                  1|          F|1935-05-07|                    80|                 080|                  201|        100|                         0|                          82|                       21101000|                       0|                    null|                      null|                    null|                      null|                           0|                 0|                       0|                  0|                  5|                       null|             null|            PCLE25Q|                0|                              1|                  CA|                   47|              null|            null|                    |                      null|   0027009851823|                       045|                null|          016|       001017319|                   N|                 AD|     001|           2009-01-01|                     null|                1993-08-17|      2013-03-09|              162143|                P37B|          VUELCO|            S|                     null|                   null| 2022-03-10 01:05:...|            00|                  0|                1|         3|             080|             54|           11|                 15|             2653|         1080|959943195039|               |                       |                 N|                    N|                 |          |           |                COMPROBADO|           2022-10-12|                  01|                 PVTA|                |                NORM AUTO|                     COSM|        2022-10-12|         1900-01-01|       1900-01-01|                    |                     |                       |                      |                    |                      |                      00:00:00|                    00:00:00|         2022-10-12|        VW2CCON0|      2022-10-12|           PCLUPCRT|              142116|                   OSMS| 2022-11-30 00:42:...|\n",
            "|   30255141|           00|0000022364138|    1998-06-18|          10000|                  01|      344|              34|          0|                      1|                      1|       643|                   |                 |                          |  RODRIGUEZ|                |      JULIA ELENA|                  1|          F|1971-09-17|                    80|                 080|                  201|        100|                         0|                          82|                       21101000|                       0|                    null|                      null|                    null|                      null|                            |                 0|                       0|                  0|                  0|                       null|             null|            PCLE06R|                0|                              1|                  CA|                   47|              null|            null|                    |                      null|   0027223641380|                       042|                null|          016|       004256320|                   N|                   |     001|           2009-01-01|                     null|                1998-06-18|      1998-07-05|              110819|                P37B|          VUELCO|            S|                     null|                   null| 2022-03-10 01:05:...|            00|                  0|                1|         3|             080|             54|         2657|                 15|               20|         3098|681112840839|               |                       |                 N|                    N|                 |          |           |                COMPROBADO|           2022-11-18|                  16|                 CTES|                |                NORM AUTO|                   COPDTE|        2022-11-03|         1900-01-01|       1900-01-01|                    |                     |                       |                      |                    |                      |                      00:00:00|                    00:00:00|         2022-11-03|         A127190|      2022-11-18|               XATM|              085325|                   XATM| 2022-11-30 00:42:...|\n",
            "|   30255141|           00|0000022364138|    1998-06-18|          10000|                  01|      344|              34|          0|                      1|                      1|       643|                   |                 |                          |  RODRIGUEZ|                |      JULIA ELENA|                  1|          F|1971-09-17|                    80|                 080|                  201|        100|                         0|                          82|                       21101000|                       0|                    null|                      null|                    null|                      null|                            |                 0|                       0|                  0|                  0|                       null|             null|            PCLE06R|                0|                              1|                  CA|                   47|              null|            null|                    |                      null|   0027223641380|                       042|                null|          016|       004256320|                   N|                   |     001|           2009-01-01|                     null|                1998-06-18|      1998-07-05|              110819|                P37B|          VUELCO|            S|                     null|                   null| 2022-03-10 01:05:...|            00|                  0|                2|         3|             080|             54|         2657|                 15|               62|         3856|397111069167|               |                       |                 N|                    N|                 |          |           |                  VALIDADO|           2022-11-18|                  16|                 CTES|                |                NORM AUTO|                  COPDTEL|        2022-11-03|         1900-01-01|       1900-01-01|                    |                     |                       |                      |                    |                      |                      00:00:00|                    00:00:00|         2022-11-03|         A127190|      2022-11-18|           GPROBANK|              085337|                   LVI7| 2022-11-30 00:42:...|\n",
            "|   00093940|           26|0000001994808|    1993-09-13|          10000|                  01|      340|              34|          0|                      1|                      8|       211|                   |                 |                          | LACAMPAGNA|                |           AMELIA|                  2|          F|1921-11-22|                    80|                 080|                  201|        100|                         0|                          82|                       21101000|                       0|                    null|                      null|                    null|                      null|                           2|                 1|                       0|                  0|                  2|                       null|             null|            PCLE06R|                0|                              1|                  CA|                   47|              null|            null|                    |                      null|   0027019948086|                       042|                null|          016|                |                   N|                 AD|     001|           2009-01-01|                     null|                1994-11-22|      2013-03-09|              150515|                P37B|          VUELCO|            S|                     null|                   null| 2022-03-10 01:05:...|            00|                  0|                2|         3|             080|             54|          294|                 15|              465|         2918|833281785951|               |                       |                 N|                    N|                 |          |           |                 DECLARADO|           2022-11-04|                  01|                 CTES|                |                NORM AUTO|                  COPDTEL|        2022-11-04|         1900-01-01|       1900-01-01|                    |                     |                       |                      |                    |                      |                      00:00:00|                    00:00:00|         2022-11-04|         A126656|      2022-11-04|            A126656|              124017|                   8Z03| 2022-11-30 00:42:...|\n",
            "|   09502224|           00|0000022061947|    2010-08-12|          10000|                  00|       58|              34|          0|                      1|                      1|       164|                   |                 |                          |      GEMMA|                |  ALICIA VERONICA|                  1|          F|1971-05-29|                    80|                 080|                  201|        100|                         0|                          82|                       21101000|                       0|                    null|                      null|                    null|                      null|                           0|                 0|                       0|                  0|                  1|                       null|             null|            PCLE06R|                1|                              1|                  PO|                   47|              null|            null|                    |                      null|   0027220619473|                       042|                null|          016|       002573516|                   N|                   |     001|           2010-08-12|                     null|                2010-08-12|      2010-08-12|              163210|                P37B|          VUELCO|            S|                     null|                   null| 2022-03-10 01:05:...|            00|                  0|                2|         3|             080|             54|          370|                 15|              499|         2155|574598098175|               |                       |                 N|                    N|                 |          |           |                 DECLARADO|           2022-11-17|                  01|                 WKFL|                |                NORM OPER|                       NE|        2022-11-17|         1900-01-01|       1900-01-01|                    |                     |                       |                      |                    |                      |                      00:00:00|                    00:00:00|         2022-11-17|         A127570|      2022-11-17|            A127570|              083214|                   5455| 2022-11-30 00:42:...|\n",
            "|   04885794|           00|0000036891196|    2019-06-11|          10000|                  01|      995|              34|          0|                      1|                      8|      2603|                   |             PVTA|                          |    PALACIO|                |      MARIA ELENA|                  5|          F|1992-02-20|                    80|                 080|                  201|        100|                         0|                          82|                       21101000|                       0|                    null|                      null|                    null|                      null|                           0|                 0|                       0|                  0|                  0|                       null|             null|            PCLE06R|                1|                              1|                  PO|                    4|              null|            null|                    |                      null|   0000000000000|                       042|                null|          016|       025850055|                   N|                 MD|     001|           2019-06-11|                     null|                2019-06-11|      2019-06-11|              114348|                P37B|        VW2CEVA0|            S|                     null|                   null| 2022-03-10 01:05:...|            00|                  0|                2|         3|             080|             54|          297|                 15|              408|         8581|648671005228|               |                       |                 N|                    N|                 |          |           |                 DECLARADO|           2022-11-29|                  01|                 CTES|                |                NORM AUTO|                     COSM|        2022-11-29|         1900-01-01|       1900-01-01|                    |                     |                       |                      |                    |                      |                      00:00:00|                    00:00:00|         2022-11-29|         A119197|      2022-11-29|           PCLESMS0|              210940|                   L42X| 2022-11-30 00:42:...|\n",
            "|   09601024|           00|0000037739162|    2012-02-16|          10000|                  00|      344|              34|          0|                      1|                      1|       643|                   |                 |                          |      ORTIZ|           AMAYA|  ALEXIS EZEQUIEL|                  5|          M|1994-05-13|                    80|                 080|                  201|        100|                         0|                          82|                       21101000|                       0|                    null|                      null|                    null|                      null|                            |                 0|                       0|                  0|                  2|                       null|             null|           GPROBANK|                2|                              1|                  CA|                   47|              null|            null|                    |                      null|   0020377391625|                       042|                null|          016|       009601024|                   N|                   |     001|           2012-03-06|                     null|                2012-02-16|      2013-12-01|              192645|                P37B|         PCLE510|            S|                     null|                   null| 2022-03-10 01:05:...|            00|                  0|                1|         3|             080|             54|           11|                 15|             5632|         9614|974114628080|               |                     04|                 N|                    N|                 |          |           |                 DECLARADO|           2022-08-18|                  01|                 PVTA|                |                NORM AUTO|                     COSM|        2022-08-18|         2022-08-18|       1900-01-01|                    |                     |                       |                      |                    |                      |                      00:00:00|                    00:00:00|         2022-08-18|        VW2CCON0|      2022-08-18|            PCLE20N|              180241|                   BATC| 2022-11-30 00:42:...|\n",
            "|   03875505|           00|0000036735732|    2011-05-23|          10000|                  01|      144|              34|          0|                      1|                      1|       215|                   |                 |                          |   SPERANZA|                |           CAMILA|                  5|          F|1992-01-29|                    80|                 080|                  201|        100|                         0|                          82|                       21101000|                       0|                    null|                      null|                    null|                      null|                            |                 0|                       0|                  0|                  1|                       null|             null|            PCLE06R|                2|                              1|                  PO|                   50|              null|            null|                    |                      null|   0027367357326|                       042|                null|          034|       003875505|                   N|                   |     004|           2011-05-23|                     null|                2011-05-23|      2011-05-23|              035525|                P37B|          A90180|            S|                     null|                   null| 2022-03-10 01:05:...|            00|                  0|                2|         3|             080|             54|           11|                 15|             5425|         1649|899397119711|               |                       |                 N|                    N|                 |          |           |                 DECLARADO|           2022-11-04|                  01|                 WKFL|                |                NORM AUTO|                     COSM|        2022-11-04|         1900-01-01|       1900-01-01|                    |                     |                       |                      |                    |                      |                      00:00:00|                    00:00:00|         2022-11-04|          A95754|      2022-11-04|             A95754|              113252|                   P268| 2022-11-30 00:42:...|\n",
            "|   26184148|           00|0000037869033|    2019-08-16|          10000|                  00|      603|              34|          0|                      1|                      8|      2603|                   |                 |                          |    ALARCON|                |   JOHANNA MARIEL|                  1|          F|1993-08-30|                    80|                 080|                  201|        100|                         0|                          82|                       21101000|                       0|                    null|                      null|                    null|                      null|                           0|                 0|                       0|                  0|                  0|                       null|             null|            PCLE06R|                1|                              1|                  PO|                   47|              null|            null|                    |                      null|   0027378690337|                       042|                null|          016|       026184148|                   N|                 MD|     001|           2019-08-16|                     null|                2019-08-16|      2019-08-16|              004136|                P37B|         PCLE25H|            S|                     null|                   null| 2022-03-10 01:05:...|            00|                  0|                2|         3|             080|             54|          341|                 15|              375|         0800|993921678666|               |                       |                 N|                    N|                 |          |           |                COMPROBADO|           2022-08-04|                  01|                 CTES|                |                NORM AUTO|                   COPDTE|        2022-08-02|         1900-01-01|       1900-01-01|                    |                     |                       |                      |                    |                      |                      00:00:00|                    00:00:00|         2022-07-27|         A119279|      2022-08-04|               XATM|              112237|                   XATM| 2022-11-30 00:42:...|\n",
            "|   29326858|           00|0000036880441|    2022-03-08|          10000|                  00|      603|              30|          0|                      1|                      8|      2603|                   |                 |                          |       VERA|                |LEONARDO FEDERICO|                  1|          M|1992-09-28|                    80|                 080|                  201|        100|                         0|                          82|                       21101000|                       0|                    null|                      null|                    null|                      null|                           0|                 0|                       0|                  0|                  0|                       null|             null|            PCLE25H|                1|                              0|                    |                   47|              null|            null|                    |                      null|   0020368804410|                       042|                null|          016|       028989980|                   N|                 MD|     001|           2022-03-08|                     null|                2022-03-08|      2022-03-08|              003155|                 BAT|         PCLE25H|             |                     null|                   null| 2022-03-10 01:05:...|            00|                  0|                3|         3|             080|             54|           11|                 15|             2526|         5221|924659678253|               |                       |                 N|                    N|                 |          |           |                 DECLARADO|           2022-08-29|                  35|                 TVTA|                |                NORM AUTO|                     COSM|        2022-08-29|         1900-01-01|       1900-01-01|                    |                     |                       |                      |                    |                      |                      00:00:00|                    00:00:00|         2022-08-29|        GPROTLVT|      2022-08-29|           GPROTLVT|              165149|                   LV3T| 2022-11-30 00:42:...|\n",
            "|   23384749|           00|0000013243619|    2006-06-12|          10000|                    |      344|              34|          0|                      1|                      1|       643|                   |                 |                          |    POGONZA|                |    ANGEL RICARDO|                  1|          M|1957-04-24|                    80|                 080|                  201|        100|                         0|                          82|                       21101000|                       0|                    null|                      null|                    null|                      null|                           0|                 0|                       0|                  0|                  1|                       null|             null|            PCLE06R|                0|                              1|                  PO|                   47|              null|            null|                    |                      null|   0020132436194|                       042|                null|          016|       007099126|                   N|                   |     001|           2009-01-01|                     null|                2006-06-12|      2008-05-02|              183636|                P37B|          VUELCO|            S|                     null|                   null| 2022-03-10 01:05:...|            01|                  0|                2|         1|             080|             54|          221|                   |              513|         9898|  3932325985|               |                       |                 N|                    N|                 |          |           |                 DECLARADO|           2022-09-13|                  01|                 CTES|                |                NORM AUTO|                  COPDTEL|        2022-09-13|         1900-01-01|       1900-01-01|                    |                     |                       |                      |                    |                      |                      00:00:00|                    00:00:00|         2022-09-13|         A119036|      2022-09-13|            A119036|              165555|                   L0D8| 2022-11-30 00:42:...|\n",
            "+-----------+-------------+-------------+--------------+---------------+--------------------+---------+----------------+-----------+-----------------------+-----------------------+----------+-------------------+-----------------+--------------------------+-----------+----------------+-----------------+-------------------+-----------+----------+----------------------+--------------------+---------------------+-----------+--------------------------+----------------------------+-------------------------------+------------------------+------------------------+--------------------------+------------------------+--------------------------+----------------------------+------------------+------------------------+-------------------+-------------------+---------------------------+-----------------+-------------------+-----------------+-------------------------------+--------------------+---------------------+------------------+----------------+--------------------+--------------------------+----------------+--------------------------+--------------------+-------------+----------------+--------------------+-------------------+--------+---------------------+-------------------------+--------------------------+----------------+--------------------+--------------------+----------------+-------------+-------------------------+-----------------------+---------------------+--------------+-------------------+-----------------+----------+----------------+---------------+-------------+-------------------+-----------------+-------------+------------+---------------+-----------------------+------------------+---------------------+-----------------+----------+-----------+--------------------------+---------------------+--------------------+---------------------+----------------+-------------------------+-------------------------+------------------+-------------------+-----------------+--------------------+---------------------+-----------------------+----------------------+--------------------+----------------------+------------------------------+----------------------------+-------------------+----------------+----------------+-------------------+--------------------+-----------------------+---------------------+\n",
            "only showing top 20 rows\n",
            "\n"
          ]
        }
      ]
    },
    {
      "cell_type": "markdown",
      "source": [],
      "metadata": {
        "id": "_IDpWzcDieox"
      }
    },
    {
      "cell_type": "markdown",
      "source": [
        "#Filtro telefonos\n",
        "QUIERO: Filtrar el DataFrame de contactos telefónicos de clientes y resguardar los 3 contactos más actuales por cliente.   \n",
        "PARA: Reducir el volumen de datos y trabajar solo con los más actualizados\n",
        "\n",
        "registry_entry_date Momento en el que se realiza el alta de un registro\n",
        "last_change_date Fecha en el que se registra en el sitema un cambio en la informacion\n"
      ],
      "metadata": {
        "id": "-VDk1DPK6Te6"
      }
    },
    {
      "cell_type": "code",
      "source": [
        "import pyspark.sql.functions as F\n",
        "from pyspark.sql import SparkSession\n",
        "from pyspark.sql.functions import concat,col, row_number, desc, collect_list\n",
        "from pyspark.sql.window import Window"
      ],
      "metadata": {
        "id": "GWTKYB_ofu6s"
      },
      "execution_count": 11,
      "outputs": []
    },
    {
      "cell_type": "markdown",
      "source": [
        "Cortamos la tabla, las columnas que no consideramos parte del analisis"
      ],
      "metadata": {
        "id": "J-RWB9n89LGU"
      }
    },
    {
      "cell_type": "code",
      "source": [
        "df_phones_cut = df_phones.drop('phone_intern_id','phone_country_id', 'aditional_info_txt_desc', 'primary_phone_type','address_sequence_type','address_town_name','zipcode_id', 'province_id','sender_application_id','normalization_status_type','normalization_reason_name','validity_start_date','validity_end_date','dlvy_day_monday_type','dlvy_day_tuesday_type','dlvy_day_wednesday_type','dlvy_day_thursday_type','dlvy_day_friday_type','dlvy_day_friday_type','dlvy_day_saturday_type','delivery_contact_start_hm_date','delivery_contact_end_hm_date','operational_load_date','normalization_date')"
      ],
      "metadata": {
        "id": "9hERzQKPG3g0"
      },
      "execution_count": 12,
      "outputs": []
    },
    {
      "cell_type": "code",
      "source": [
        "df_phones_sorted = df_phones_cut.orderBy([df_phones_cut.customer_id, desc('last_change_date')])\n",
        "df_phones_sorted.show()"
      ],
      "metadata": {
        "colab": {
          "base_uri": "https://localhost:8080/"
        },
        "id": "FoPhEn2ZGS54",
        "outputId": "62d42ce0-0ff1-421b-dac0-a4bd1df0c9cc"
      },
      "execution_count": 13,
      "outputs": [
        {
          "output_type": "stream",
          "name": "stdout",
          "text": [
            "+-----------+--------------+-------------------+-----------------+----------+---------------+-------------+-------------------+-----------------+-------------+-------------+--------------------------+---------------------+--------------------+----------------+-------------------+----------------+----------------+-------------------+--------------------+-----------------------+\n",
            "|customer_id|phone_use_type|address_sequence_id|phone_sequence_id|phone_type|prefix_phone_id|phone_area_id|cellphone_prefix_id|phone_exchange_id|phone_line_id|     phone_id|customer_phone_status_type|phone_status_mod_date|contact_channel_type|wrong_phone_type|registry_entry_date|register_user_id|last_change_date|last_change_user_id|last_change_hms_date|last_change_terminal_id|\n",
            "+-----------+--------------+-------------------+-----------------+----------+---------------+-------------+-------------------+-----------------+-------------+-------------+--------------------------+---------------------+--------------------+----------------+-------------------+----------------+----------------+-------------------+--------------------+-----------------------+\n",
            "|   00000007|            00|                  2|                1|         3|             54|          266|                 15|              469|         7946| 304920118694|                 DECLARADO|           2022-09-01|                  01|                |         2022-09-01|         A126150|      2022-09-01|            A126150|              085907|                   L0CX|\n",
            "|   00000039|            00|                  0|                2|         3|             54|          341|                 15|              284|         7321| 142040288534|                 DECLARADO|           2022-09-20|                  01|                |         2022-09-20|         A115480|      2022-09-20|            A115480|              140240|                   3586|\n",
            "|   00000044|            00|                  2|                2|         3|             54|           11|                 15|             2506|         4159| 150642392069|                 DECLARADO|           2022-10-03|                  01|                |         2022-09-09|         A126255|      2022-10-03|           PCLESMS0|              211417|                   2556|\n",
            "|   00000381|            00|                  1|                1|         3|             54|          381|                 15|              590|         9885| 579839963031|                 DECLARADO|           2022-07-19|                  01|                |         2022-07-19|         A126541|      2022-07-19|            A126541|              110528|                   Y2GC|\n",
            "|   00000442|            02|                  0|                2|         3|             54|          297|                 15|              529|         6284| 712455962424|                 DECLARADO|           2022-07-20|                  01|                |         2022-07-20|         A125588|      2022-07-20|            A125588|              122016|                   E307|\n",
            "|   00000442|            00|                  0|                1|         3|             54|          297|                 15|              472|         9337| 384498667593|                 DECLARADO|           2022-07-20|                  01|                |         2022-07-20|         A125588|      2022-07-20|            A125588|              122016|                   E307|\n",
            "|   00001419|            00|                  0|                2|         3|             54|           11|                 15|             6679|         3207| 044982237001|                COMPROBADO|           2022-11-01|                  01|                |         2022-11-01|         A126407|      2022-11-01|            A126407|              135527|                   L0B2|\n",
            "|   00001939|            00|                  0|                1|         3|             54|           11|                 15|             3870|         0150| 008960137788|                COMPROBADO|           2022-09-21|                  01|                |         2022-09-21|        GPROBANK|      2022-09-21|           PCLUPCRT|              162941|                   OSMS|\n",
            "|   00002707|            01|                  0|                1|         1|             54|          299|                   |              447|         7116|   6116490163|                 DECLARADO|           2022-08-12|                  01|                |         2022-08-12|         A126869|      2022-08-17|            A126869|              141848|                   5240|\n",
            "|   00002790|            00|                  0|                1|         3|             54|          342|                 15|              466|         2478| 051880599267|                COMPROBADO|           2022-11-18|                  16|                |         2022-10-03|         A118982|      2022-11-18|               XATM|              190233|                   XATM|\n",
            "|   00002790|            00|                  0|                2|         1|             54|          342|                   |              488|         3620|   4330463819|                  VALIDADO|           2022-10-08|                  16|                |         2022-10-03|         A118982|      2022-10-08|           UPROBCAT|              190239|                   LTGJ|\n",
            "|   00004287|            00|                  0|                2|         3|             54|         3541|                 15|             5988|          799|1456900382957|                 DECLARADO|           2022-08-29|                  01|                |         2022-08-29|         A128522|      2022-08-29|            A128522|              085936|                   6004|\n",
            "|   00004724|            00|                  0|                1|         3|             54|           11|                 15|             2408|         4447| 820582605809|                COMPROBADO|           2022-11-04|                  01|                |         2022-08-22|        VW2CCON0|      2022-11-04|               XATM|              134712|                   XATM|\n",
            "|   00005527|            00|                  0|                3|         3|             54|          261|                 15|              386|         2762| 386965082277|                COMPROBADO|           2022-10-03|                  01|                |         2022-10-03|         A116250|      2022-10-03|           PCLUPCRT|              083101|                   OSMS|\n",
            "|   00005527|            00|                  0|                2|         3|             54|          261|                 15|              590|         4192| 414386216022|                 DECLARADO|           2022-10-03|                  01|                |         2022-10-03|         A116250|      2022-10-03|           PCLESMS0|              211417|                   A1ER|\n",
            "|   00007932|            00|                  0|                1|         3|             54|          385|                 15|              406|         5887| 402572158909|                 DECLARADO|           2022-09-29|                  01|                |         2022-09-29|         A126810|      2022-09-29|            A126810|              080344|                   2433|\n",
            "|   00011850|            00|                  0|                1|         3|             54|         3489|                 15|               49|         3578| 163848812051|                COMPROBADO|           2022-10-27|                  01|                |         2022-10-24|         A128087|      2022-10-27|               XATM|              102418|                   XATM|\n",
            "|   00011850|            02|                  0|                2|         3|             54|           11|                 15|             2578|         1080| 790484486094|                 DECLARADO|           2022-10-24|                  01|                |         2022-10-24|         A128087|      2022-10-24|            A128087|              102418|                   DJ02|\n",
            "|   00012051|            00|                  0|                1|         3|             54|         3401|                 15|               53|         4381| 226398993225|                 DECLARADO|           2022-10-06|                  01|                |         2022-10-06|        VW2CCON0|      2022-10-06|           VW2CCON0|              103328|                   PVTA|\n",
            "|   00012611|            00|                  0|                1|         3|             54|           11|                 15|             6114|         1855| 162848642527|                COMPROBADO|           2022-08-30|                  01|                |         2022-08-24|         A127359|      2022-08-30|               XATM|              084918|                   XATM|\n",
            "+-----------+--------------+-------------------+-----------------+----------+---------------+-------------+-------------------+-----------------+-------------+-------------+--------------------------+---------------------+--------------------+----------------+-------------------+----------------+----------------+-------------------+--------------------+-----------------------+\n",
            "only showing top 20 rows\n",
            "\n"
          ]
        }
      ]
    },
    {
      "cell_type": "markdown",
      "source": [
        "\n",
        "Concatenamos las columnas del numero de telefono para armarlo en una sola\n"
      ],
      "metadata": {
        "id": "ZLjxKGiQ9AEw"
      }
    },
    {
      "cell_type": "code",
      "source": [
        "df_phones_sorted = df_phones_sorted.select(concat(df_phones_sorted.prefix_phone_id,df_phones_sorted.phone_area_id,df_phones_sorted.phone_exchange_id,df_phones_sorted.phone_line_id).alias('Full_Phone'),'customer_id','last_change_date')"
      ],
      "metadata": {
        "id": "vtxLPtYtha3U"
      },
      "execution_count": 14,
      "outputs": []
    },
    {
      "cell_type": "code",
      "source": [
        "df_phones_sorted.show()"
      ],
      "metadata": {
        "id": "LWdGRx181M8k",
        "colab": {
          "base_uri": "https://localhost:8080/"
        },
        "outputId": "60847ef6-c5fe-46d6-b532-67b3e9b3e24a"
      },
      "execution_count": 15,
      "outputs": [
        {
          "output_type": "stream",
          "name": "stdout",
          "text": [
            "+-------------+-----------+----------------+\n",
            "|   Full_Phone|customer_id|last_change_date|\n",
            "+-------------+-----------+----------------+\n",
            "| 542664697946|   00000007|      2022-09-01|\n",
            "| 543412847321|   00000039|      2022-09-20|\n",
            "| 541125064159|   00000044|      2022-10-03|\n",
            "| 543815909885|   00000381|      2022-07-19|\n",
            "| 542975296284|   00000442|      2022-07-20|\n",
            "| 542974729337|   00000442|      2022-07-20|\n",
            "| 541166793207|   00001419|      2022-11-01|\n",
            "| 541138700150|   00001939|      2022-09-21|\n",
            "| 542994477116|   00002707|      2022-08-17|\n",
            "| 543424662478|   00002790|      2022-11-18|\n",
            "| 543424883620|   00002790|      2022-10-08|\n",
            "|5435415988799|   00004287|      2022-08-29|\n",
            "| 541124084447|   00004724|      2022-11-04|\n",
            "| 542613862762|   00005527|      2022-10-03|\n",
            "| 542615904192|   00005527|      2022-10-03|\n",
            "| 543854065887|   00007932|      2022-09-29|\n",
            "| 543489493578|   00011850|      2022-10-27|\n",
            "| 541125781080|   00011850|      2022-10-24|\n",
            "| 543401534381|   00012051|      2022-10-06|\n",
            "| 541161141855|   00012611|      2022-08-30|\n",
            "+-------------+-----------+----------------+\n",
            "only showing top 20 rows\n",
            "\n"
          ]
        }
      ]
    },
    {
      "cell_type": "markdown",
      "source": [
        "Utilizamos windows para realizar las particiones de costumer_id"
      ],
      "metadata": {
        "id": "wvwHTk3182rA"
      }
    },
    {
      "cell_type": "code",
      "source": [
        "window = Window.partitionBy(df_phones_sorted.customer_id).orderBy(desc(df_phones_sorted.last_change_date))"
      ],
      "metadata": {
        "id": "nOtD4NAEkJ0R"
      },
      "execution_count": 16,
      "outputs": []
    },
    {
      "cell_type": "code",
      "source": [
        "df_phone = df_phones_sorted.withColumn('row_num', row_number().over(window))"
      ],
      "metadata": {
        "id": "hUwxB8zlkRlt"
      },
      "execution_count": 17,
      "outputs": []
    },
    {
      "cell_type": "code",
      "source": [
        "df_phone = df_phone.filter(df_phone.row_num <= 3)"
      ],
      "metadata": {
        "id": "n5zor5BTncC3"
      },
      "execution_count": 18,
      "outputs": []
    },
    {
      "cell_type": "code",
      "source": [
        "df_phone.show()"
      ],
      "metadata": {
        "colab": {
          "base_uri": "https://localhost:8080/"
        },
        "id": "eXBiJoRhoXuj",
        "outputId": "b8ce5091-2321-43bb-9676-5e28aab3adb1"
      },
      "execution_count": 19,
      "outputs": [
        {
          "output_type": "stream",
          "name": "stdout",
          "text": [
            "+-------------+-----------+----------------+-------+\n",
            "|   Full_Phone|customer_id|last_change_date|row_num|\n",
            "+-------------+-----------+----------------+-------+\n",
            "| 542664697946|   00000007|      2022-09-01|      1|\n",
            "| 543815909885|   00000381|      2022-07-19|      1|\n",
            "| 543424662478|   00002790|      2022-11-18|      1|\n",
            "| 543424883620|   00002790|      2022-10-08|      2|\n",
            "|5435415988799|   00004287|      2022-08-29|      1|\n",
            "| 543854065887|   00007932|      2022-09-29|      1|\n",
            "| 543489493578|   00011850|      2022-10-27|      1|\n",
            "| 541125781080|   00011850|      2022-10-24|      2|\n",
            "| 543401534381|   00012051|      2022-10-06|      1|\n",
            "| 542216208511|   00013498|      2022-08-22|      1|\n",
            "| 541165050605|   00014664|      2022-10-06|      1|\n",
            "| 541161577947|   00041884|      2022-07-28|      1|\n",
            "| 541165187983|   00048225|      2022-07-08|      1|\n",
            "| 541169951912|   00052103|      2022-09-27|      1|\n",
            "| 543364577255|   00056407|      2022-10-17|      1|\n",
            "| 543412740967|   00058519|      2022-10-26|      1|\n",
            "| 541125222584|   00058909|      2022-08-03|      1|\n",
            "| 542976219525|   00064043|      2022-11-23|      1|\n",
            "| 542975133355|   00064043|      2022-08-19|      2|\n",
            "| 542966425661|   00064339|      2022-07-07|      1|\n",
            "+-------------+-----------+----------------+-------+\n",
            "only showing top 20 rows\n",
            "\n"
          ]
        }
      ]
    },
    {
      "cell_type": "markdown",
      "source": [
        "Realizamos la tabla pivot"
      ],
      "metadata": {
        "id": "fLCSlshr8rg0"
      }
    },
    {
      "cell_type": "code",
      "source": [
        "df_pivot_phone = df_phone.groupBy('customer_id').agg(collect_list('Full_Phone').alias('last_3_changes_list'))"
      ],
      "metadata": {
        "id": "d737GpB5obZr"
      },
      "execution_count": 20,
      "outputs": []
    },
    {
      "cell_type": "code",
      "source": [
        "df_pivot_phone = df_pivot_phone.selectExpr('customer_id', 'last_3_changes_list[0] as Phone_1', 'last_3_changes_list[1] as Phone_2', 'last_3_changes_list[2] as Phone_3')"
      ],
      "metadata": {
        "id": "USIvdMD0smwB"
      },
      "execution_count": 21,
      "outputs": []
    },
    {
      "cell_type": "code",
      "source": [
        "df_pivot_phone.show()"
      ],
      "metadata": {
        "colab": {
          "base_uri": "https://localhost:8080/"
        },
        "id": "-OqSrFegsq0G",
        "outputId": "8497b444-c8ad-4313-f1af-1529675d53ce"
      },
      "execution_count": 22,
      "outputs": [
        {
          "output_type": "stream",
          "name": "stdout",
          "text": [
            "+-----------+-------------+------------+-------+\n",
            "|customer_id|      Phone_1|     Phone_2|Phone_3|\n",
            "+-----------+-------------+------------+-------+\n",
            "|   00000007| 542664697946|        null|   null|\n",
            "|   00000381| 543815909885|        null|   null|\n",
            "|   00002790| 543424662478|543424883620|   null|\n",
            "|   00004287|5435415988799|        null|   null|\n",
            "|   00007932| 543854065887|        null|   null|\n",
            "|   00011850| 543489493578|541125781080|   null|\n",
            "|   00012051| 543401534381|        null|   null|\n",
            "|   00013498| 542216208511|        null|   null|\n",
            "|   00014664| 541165050605|        null|   null|\n",
            "|   00041884| 541161577947|        null|   null|\n",
            "|   00048225| 541165187983|        null|   null|\n",
            "|   00052103| 541169951912|        null|   null|\n",
            "|   00056407| 543364577255|        null|   null|\n",
            "|   00058519| 543412740967|        null|   null|\n",
            "|   00058909| 541125222584|        null|   null|\n",
            "|   00064043| 542976219525|542975133355|   null|\n",
            "|   00064339| 542966425661|        null|   null|\n",
            "|   00071569| 543584112643|        null|   null|\n",
            "|   00077558| 541151522021|        null|   null|\n",
            "|   00079642| 541168707818|        null|   null|\n",
            "+-----------+-------------+------------+-------+\n",
            "only showing top 20 rows\n",
            "\n"
          ]
        }
      ]
    },
    {
      "cell_type": "markdown",
      "source": [
        "Reemplazamos null por ---"
      ],
      "metadata": {
        "id": "7M-r-88L8kkg"
      }
    },
    {
      "cell_type": "code",
      "source": [
        "df_pivot_phone = df_pivot_phone.na.fill('---')\n",
        "df_pivot_phone.show()"
      ],
      "metadata": {
        "colab": {
          "base_uri": "https://localhost:8080/"
        },
        "id": "NG-z-hV555Mb",
        "outputId": "98722377-0d98-472a-e57a-aee2759a7c12"
      },
      "execution_count": 23,
      "outputs": [
        {
          "output_type": "stream",
          "name": "stdout",
          "text": [
            "+-----------+-------------+------------+-------+\n",
            "|customer_id|      Phone_1|     Phone_2|Phone_3|\n",
            "+-----------+-------------+------------+-------+\n",
            "|   00000007| 542664697946|         ---|    ---|\n",
            "|   00000381| 543815909885|         ---|    ---|\n",
            "|   00004287|5435415988799|         ---|    ---|\n",
            "|   00007932| 543854065887|         ---|    ---|\n",
            "|   00011850| 543489493578|541125781080|    ---|\n",
            "|   00012051| 543401534381|         ---|    ---|\n",
            "|   00013498| 542216208511|         ---|    ---|\n",
            "|   00014664| 541165050605|         ---|    ---|\n",
            "|   00041884| 541161577947|         ---|    ---|\n",
            "|   00048225| 541165187983|         ---|    ---|\n",
            "|   00052103| 541169951912|         ---|    ---|\n",
            "|   00056407| 543364577255|         ---|    ---|\n",
            "|   00058519| 543412740967|         ---|    ---|\n",
            "|   00058909| 541125222584|         ---|    ---|\n",
            "|   00064043| 542976219525|542975133355|    ---|\n",
            "|   00064339| 542966425661|         ---|    ---|\n",
            "|   00071569| 543584112643|         ---|    ---|\n",
            "|   00077558| 541151522021|         ---|    ---|\n",
            "|   00079642| 541168707818|         ---|    ---|\n",
            "|   00080625| 542262323396|         ---|    ---|\n",
            "+-----------+-------------+------------+-------+\n",
            "only showing top 20 rows\n",
            "\n"
          ]
        }
      ]
    },
    {
      "cell_type": "markdown",
      "source": [
        "#Extraccion de datos desde parquet, clientes y emails."
      ],
      "metadata": {
        "id": "p0I30YfQfgyp"
      }
    },
    {
      "cell_type": "code",
      "source": [
        "df_emails = spark.read.parquet('sample_data/emails_bootcamp.snappy.parquet')"
      ],
      "metadata": {
        "id": "JoTr5L2nf_jZ"
      },
      "execution_count": 24,
      "outputs": []
    },
    {
      "cell_type": "code",
      "source": [
        "df_customer_emails = df_emails.join(df_customer, 'customer_id', how=\"right\")"
      ],
      "metadata": {
        "id": "17a2uIu0gAZS"
      },
      "execution_count": 25,
      "outputs": []
    },
    {
      "cell_type": "markdown",
      "source": [
        "#Filtrando emails"
      ],
      "metadata": {
        "id": "-0JMT4nwgcVq"
      }
    },
    {
      "cell_type": "code",
      "source": [
        "df_emails_cut = df_emails.drop('role_type', 'email_type','address_sequence_id','residence_type','primary_email_type','email_domain_type','encripted_type','field_length_number','comments_desc','customer_email_status_type','email_app_type','register_user_id','last_change_user_id','last_change_hms_date','last_change_terminal_id','operational_load_date','customer_email_status_date','registry_entry_date')"
      ],
      "metadata": {
        "id": "DjwhfVbqgZwG"
      },
      "execution_count": 26,
      "outputs": []
    },
    {
      "cell_type": "code",
      "source": [
        "df_emails_sorted = df_emails_cut.orderBy([df_emails_cut.customer_id, desc('last_change_date')])\n",
        "\n",
        "df_emails_sorted.toPandas()"
      ],
      "metadata": {
        "colab": {
          "base_uri": "https://localhost:8080/",
          "height": 0
        },
        "id": "lPZiI6Q3gZfz",
        "outputId": "c58d5ce4-621c-4b4c-bd94-50a4dea18ab1"
      },
      "execution_count": 27,
      "outputs": [
        {
          "output_type": "execute_result",
          "data": {
            "text/plain": [
              "    customer_id                   email_desc last_change_date\n",
              "0      00001419           JU_LY1@HOTMAIL.COM       2019-05-11\n",
              "1      00001419  EMILIA.RUBIANES@HOTMAIL.COM       2015-10-08\n",
              "2      00002790          NOTIENE@HOIMAIL.COM       2019-07-29\n",
              "3      00002790      DIGITALIZACION@EECC.COM       1900-01-01\n",
              "4      00014664            alq@ciudad.com.ar       2009-06-27\n",
              "..          ...                          ...              ...\n",
              "495    28990339             ELSAMO@GMAIL.COM       2019-11-08\n",
              "496    28993945       navyig@fibertel.com.ar       2009-06-27\n",
              "497    29003190         ANLAU_08@LIVE.COM.AR       2020-06-01\n",
              "498    29008648        ROBERTOWINY@GMAIL.COM       2013-01-23\n",
              "499    29012113     DE_LA_GARMA@YAHOO.COM.AR       2013-05-28\n",
              "\n",
              "[500 rows x 3 columns]"
            ],
            "text/html": [
              "\n",
              "  <div id=\"df-9f636329-ea45-4c1b-99fa-5c8434b70704\">\n",
              "    <div class=\"colab-df-container\">\n",
              "      <div>\n",
              "<style scoped>\n",
              "    .dataframe tbody tr th:only-of-type {\n",
              "        vertical-align: middle;\n",
              "    }\n",
              "\n",
              "    .dataframe tbody tr th {\n",
              "        vertical-align: top;\n",
              "    }\n",
              "\n",
              "    .dataframe thead th {\n",
              "        text-align: right;\n",
              "    }\n",
              "</style>\n",
              "<table border=\"1\" class=\"dataframe\">\n",
              "  <thead>\n",
              "    <tr style=\"text-align: right;\">\n",
              "      <th></th>\n",
              "      <th>customer_id</th>\n",
              "      <th>email_desc</th>\n",
              "      <th>last_change_date</th>\n",
              "    </tr>\n",
              "  </thead>\n",
              "  <tbody>\n",
              "    <tr>\n",
              "      <th>0</th>\n",
              "      <td>00001419</td>\n",
              "      <td>JU_LY1@HOTMAIL.COM</td>\n",
              "      <td>2019-05-11</td>\n",
              "    </tr>\n",
              "    <tr>\n",
              "      <th>1</th>\n",
              "      <td>00001419</td>\n",
              "      <td>EMILIA.RUBIANES@HOTMAIL.COM</td>\n",
              "      <td>2015-10-08</td>\n",
              "    </tr>\n",
              "    <tr>\n",
              "      <th>2</th>\n",
              "      <td>00002790</td>\n",
              "      <td>NOTIENE@HOIMAIL.COM</td>\n",
              "      <td>2019-07-29</td>\n",
              "    </tr>\n",
              "    <tr>\n",
              "      <th>3</th>\n",
              "      <td>00002790</td>\n",
              "      <td>DIGITALIZACION@EECC.COM</td>\n",
              "      <td>1900-01-01</td>\n",
              "    </tr>\n",
              "    <tr>\n",
              "      <th>4</th>\n",
              "      <td>00014664</td>\n",
              "      <td>alq@ciudad.com.ar</td>\n",
              "      <td>2009-06-27</td>\n",
              "    </tr>\n",
              "    <tr>\n",
              "      <th>...</th>\n",
              "      <td>...</td>\n",
              "      <td>...</td>\n",
              "      <td>...</td>\n",
              "    </tr>\n",
              "    <tr>\n",
              "      <th>495</th>\n",
              "      <td>28990339</td>\n",
              "      <td>ELSAMO@GMAIL.COM</td>\n",
              "      <td>2019-11-08</td>\n",
              "    </tr>\n",
              "    <tr>\n",
              "      <th>496</th>\n",
              "      <td>28993945</td>\n",
              "      <td>navyig@fibertel.com.ar</td>\n",
              "      <td>2009-06-27</td>\n",
              "    </tr>\n",
              "    <tr>\n",
              "      <th>497</th>\n",
              "      <td>29003190</td>\n",
              "      <td>ANLAU_08@LIVE.COM.AR</td>\n",
              "      <td>2020-06-01</td>\n",
              "    </tr>\n",
              "    <tr>\n",
              "      <th>498</th>\n",
              "      <td>29008648</td>\n",
              "      <td>ROBERTOWINY@GMAIL.COM</td>\n",
              "      <td>2013-01-23</td>\n",
              "    </tr>\n",
              "    <tr>\n",
              "      <th>499</th>\n",
              "      <td>29012113</td>\n",
              "      <td>DE_LA_GARMA@YAHOO.COM.AR</td>\n",
              "      <td>2013-05-28</td>\n",
              "    </tr>\n",
              "  </tbody>\n",
              "</table>\n",
              "<p>500 rows × 3 columns</p>\n",
              "</div>\n",
              "      <button class=\"colab-df-convert\" onclick=\"convertToInteractive('df-9f636329-ea45-4c1b-99fa-5c8434b70704')\"\n",
              "              title=\"Convert this dataframe to an interactive table.\"\n",
              "              style=\"display:none;\">\n",
              "        \n",
              "  <svg xmlns=\"http://www.w3.org/2000/svg\" height=\"24px\"viewBox=\"0 0 24 24\"\n",
              "       width=\"24px\">\n",
              "    <path d=\"M0 0h24v24H0V0z\" fill=\"none\"/>\n",
              "    <path d=\"M18.56 5.44l.94 2.06.94-2.06 2.06-.94-2.06-.94-.94-2.06-.94 2.06-2.06.94zm-11 1L8.5 8.5l.94-2.06 2.06-.94-2.06-.94L8.5 2.5l-.94 2.06-2.06.94zm10 10l.94 2.06.94-2.06 2.06-.94-2.06-.94-.94-2.06-.94 2.06-2.06.94z\"/><path d=\"M17.41 7.96l-1.37-1.37c-.4-.4-.92-.59-1.43-.59-.52 0-1.04.2-1.43.59L10.3 9.45l-7.72 7.72c-.78.78-.78 2.05 0 2.83L4 21.41c.39.39.9.59 1.41.59.51 0 1.02-.2 1.41-.59l7.78-7.78 2.81-2.81c.8-.78.8-2.07 0-2.86zM5.41 20L4 18.59l7.72-7.72 1.47 1.35L5.41 20z\"/>\n",
              "  </svg>\n",
              "      </button>\n",
              "      \n",
              "  <style>\n",
              "    .colab-df-container {\n",
              "      display:flex;\n",
              "      flex-wrap:wrap;\n",
              "      gap: 12px;\n",
              "    }\n",
              "\n",
              "    .colab-df-convert {\n",
              "      background-color: #E8F0FE;\n",
              "      border: none;\n",
              "      border-radius: 50%;\n",
              "      cursor: pointer;\n",
              "      display: none;\n",
              "      fill: #1967D2;\n",
              "      height: 32px;\n",
              "      padding: 0 0 0 0;\n",
              "      width: 32px;\n",
              "    }\n",
              "\n",
              "    .colab-df-convert:hover {\n",
              "      background-color: #E2EBFA;\n",
              "      box-shadow: 0px 1px 2px rgba(60, 64, 67, 0.3), 0px 1px 3px 1px rgba(60, 64, 67, 0.15);\n",
              "      fill: #174EA6;\n",
              "    }\n",
              "\n",
              "    [theme=dark] .colab-df-convert {\n",
              "      background-color: #3B4455;\n",
              "      fill: #D2E3FC;\n",
              "    }\n",
              "\n",
              "    [theme=dark] .colab-df-convert:hover {\n",
              "      background-color: #434B5C;\n",
              "      box-shadow: 0px 1px 3px 1px rgba(0, 0, 0, 0.15);\n",
              "      filter: drop-shadow(0px 1px 2px rgba(0, 0, 0, 0.3));\n",
              "      fill: #FFFFFF;\n",
              "    }\n",
              "  </style>\n",
              "\n",
              "      <script>\n",
              "        const buttonEl =\n",
              "          document.querySelector('#df-9f636329-ea45-4c1b-99fa-5c8434b70704 button.colab-df-convert');\n",
              "        buttonEl.style.display =\n",
              "          google.colab.kernel.accessAllowed ? 'block' : 'none';\n",
              "\n",
              "        async function convertToInteractive(key) {\n",
              "          const element = document.querySelector('#df-9f636329-ea45-4c1b-99fa-5c8434b70704');\n",
              "          const dataTable =\n",
              "            await google.colab.kernel.invokeFunction('convertToInteractive',\n",
              "                                                     [key], {});\n",
              "          if (!dataTable) return;\n",
              "\n",
              "          const docLinkHtml = 'Like what you see? Visit the ' +\n",
              "            '<a target=\"_blank\" href=https://colab.research.google.com/notebooks/data_table.ipynb>data table notebook</a>'\n",
              "            + ' to learn more about interactive tables.';\n",
              "          element.innerHTML = '';\n",
              "          dataTable['output_type'] = 'display_data';\n",
              "          await google.colab.output.renderOutput(dataTable, element);\n",
              "          const docLink = document.createElement('div');\n",
              "          docLink.innerHTML = docLinkHtml;\n",
              "          element.appendChild(docLink);\n",
              "        }\n",
              "      </script>\n",
              "    </div>\n",
              "  </div>\n",
              "  "
            ]
          },
          "metadata": {},
          "execution_count": 27
        }
      ]
    },
    {
      "cell_type": "code",
      "source": [
        "window = Window.partitionBy(df_emails_sorted.customer_id).orderBy(desc(df_emails_sorted.last_change_date))"
      ],
      "metadata": {
        "id": "286YVN7BgYys"
      },
      "execution_count": 28,
      "outputs": []
    },
    {
      "cell_type": "code",
      "source": [
        "df_email = df_emails_sorted.withColumn('row_num', row_number().over(window))"
      ],
      "metadata": {
        "id": "rkhYfrwAhjS_"
      },
      "execution_count": 29,
      "outputs": []
    },
    {
      "cell_type": "code",
      "source": [
        "df_email = df_email.filter(df_email.row_num <= 3)"
      ],
      "metadata": {
        "id": "cbgcBCIThjEg"
      },
      "execution_count": 30,
      "outputs": []
    },
    {
      "cell_type": "code",
      "source": [
        "df_email.toPandas()"
      ],
      "metadata": {
        "colab": {
          "base_uri": "https://localhost:8080/",
          "height": 0
        },
        "id": "2CJLJoa9hiod",
        "outputId": "1e1d8b91-ed96-44e4-b048-0085a54cfcf0"
      },
      "execution_count": 31,
      "outputs": [
        {
          "output_type": "execute_result",
          "data": {
            "text/plain": [
              "    customer_id                   email_desc last_change_date  row_num\n",
              "0      00001419           JU_LY1@HOTMAIL.COM       2019-05-11        1\n",
              "1      00001419  EMILIA.RUBIANES@HOTMAIL.COM       2015-10-08        2\n",
              "2      00002790          NOTIENE@HOIMAIL.COM       2019-07-29        1\n",
              "3      00002790      DIGITALIZACION@EECC.COM       1900-01-01        2\n",
              "4      00014664            alq@ciudad.com.ar       2009-06-27        1\n",
              "..          ...                          ...              ...      ...\n",
              "495    28990339             ELSAMO@GMAIL.COM       2019-11-08        1\n",
              "496    28993945       navyig@fibertel.com.ar       2009-06-27        1\n",
              "497    29003190         ANLAU_08@LIVE.COM.AR       2020-06-01        1\n",
              "498    29008648        ROBERTOWINY@GMAIL.COM       2013-01-23        1\n",
              "499    29012113     DE_LA_GARMA@YAHOO.COM.AR       2013-05-28        1\n",
              "\n",
              "[500 rows x 4 columns]"
            ],
            "text/html": [
              "\n",
              "  <div id=\"df-782aed69-dbf1-40fb-95f1-854b15450387\">\n",
              "    <div class=\"colab-df-container\">\n",
              "      <div>\n",
              "<style scoped>\n",
              "    .dataframe tbody tr th:only-of-type {\n",
              "        vertical-align: middle;\n",
              "    }\n",
              "\n",
              "    .dataframe tbody tr th {\n",
              "        vertical-align: top;\n",
              "    }\n",
              "\n",
              "    .dataframe thead th {\n",
              "        text-align: right;\n",
              "    }\n",
              "</style>\n",
              "<table border=\"1\" class=\"dataframe\">\n",
              "  <thead>\n",
              "    <tr style=\"text-align: right;\">\n",
              "      <th></th>\n",
              "      <th>customer_id</th>\n",
              "      <th>email_desc</th>\n",
              "      <th>last_change_date</th>\n",
              "      <th>row_num</th>\n",
              "    </tr>\n",
              "  </thead>\n",
              "  <tbody>\n",
              "    <tr>\n",
              "      <th>0</th>\n",
              "      <td>00001419</td>\n",
              "      <td>JU_LY1@HOTMAIL.COM</td>\n",
              "      <td>2019-05-11</td>\n",
              "      <td>1</td>\n",
              "    </tr>\n",
              "    <tr>\n",
              "      <th>1</th>\n",
              "      <td>00001419</td>\n",
              "      <td>EMILIA.RUBIANES@HOTMAIL.COM</td>\n",
              "      <td>2015-10-08</td>\n",
              "      <td>2</td>\n",
              "    </tr>\n",
              "    <tr>\n",
              "      <th>2</th>\n",
              "      <td>00002790</td>\n",
              "      <td>NOTIENE@HOIMAIL.COM</td>\n",
              "      <td>2019-07-29</td>\n",
              "      <td>1</td>\n",
              "    </tr>\n",
              "    <tr>\n",
              "      <th>3</th>\n",
              "      <td>00002790</td>\n",
              "      <td>DIGITALIZACION@EECC.COM</td>\n",
              "      <td>1900-01-01</td>\n",
              "      <td>2</td>\n",
              "    </tr>\n",
              "    <tr>\n",
              "      <th>4</th>\n",
              "      <td>00014664</td>\n",
              "      <td>alq@ciudad.com.ar</td>\n",
              "      <td>2009-06-27</td>\n",
              "      <td>1</td>\n",
              "    </tr>\n",
              "    <tr>\n",
              "      <th>...</th>\n",
              "      <td>...</td>\n",
              "      <td>...</td>\n",
              "      <td>...</td>\n",
              "      <td>...</td>\n",
              "    </tr>\n",
              "    <tr>\n",
              "      <th>495</th>\n",
              "      <td>28990339</td>\n",
              "      <td>ELSAMO@GMAIL.COM</td>\n",
              "      <td>2019-11-08</td>\n",
              "      <td>1</td>\n",
              "    </tr>\n",
              "    <tr>\n",
              "      <th>496</th>\n",
              "      <td>28993945</td>\n",
              "      <td>navyig@fibertel.com.ar</td>\n",
              "      <td>2009-06-27</td>\n",
              "      <td>1</td>\n",
              "    </tr>\n",
              "    <tr>\n",
              "      <th>497</th>\n",
              "      <td>29003190</td>\n",
              "      <td>ANLAU_08@LIVE.COM.AR</td>\n",
              "      <td>2020-06-01</td>\n",
              "      <td>1</td>\n",
              "    </tr>\n",
              "    <tr>\n",
              "      <th>498</th>\n",
              "      <td>29008648</td>\n",
              "      <td>ROBERTOWINY@GMAIL.COM</td>\n",
              "      <td>2013-01-23</td>\n",
              "      <td>1</td>\n",
              "    </tr>\n",
              "    <tr>\n",
              "      <th>499</th>\n",
              "      <td>29012113</td>\n",
              "      <td>DE_LA_GARMA@YAHOO.COM.AR</td>\n",
              "      <td>2013-05-28</td>\n",
              "      <td>1</td>\n",
              "    </tr>\n",
              "  </tbody>\n",
              "</table>\n",
              "<p>500 rows × 4 columns</p>\n",
              "</div>\n",
              "      <button class=\"colab-df-convert\" onclick=\"convertToInteractive('df-782aed69-dbf1-40fb-95f1-854b15450387')\"\n",
              "              title=\"Convert this dataframe to an interactive table.\"\n",
              "              style=\"display:none;\">\n",
              "        \n",
              "  <svg xmlns=\"http://www.w3.org/2000/svg\" height=\"24px\"viewBox=\"0 0 24 24\"\n",
              "       width=\"24px\">\n",
              "    <path d=\"M0 0h24v24H0V0z\" fill=\"none\"/>\n",
              "    <path d=\"M18.56 5.44l.94 2.06.94-2.06 2.06-.94-2.06-.94-.94-2.06-.94 2.06-2.06.94zm-11 1L8.5 8.5l.94-2.06 2.06-.94-2.06-.94L8.5 2.5l-.94 2.06-2.06.94zm10 10l.94 2.06.94-2.06 2.06-.94-2.06-.94-.94-2.06-.94 2.06-2.06.94z\"/><path d=\"M17.41 7.96l-1.37-1.37c-.4-.4-.92-.59-1.43-.59-.52 0-1.04.2-1.43.59L10.3 9.45l-7.72 7.72c-.78.78-.78 2.05 0 2.83L4 21.41c.39.39.9.59 1.41.59.51 0 1.02-.2 1.41-.59l7.78-7.78 2.81-2.81c.8-.78.8-2.07 0-2.86zM5.41 20L4 18.59l7.72-7.72 1.47 1.35L5.41 20z\"/>\n",
              "  </svg>\n",
              "      </button>\n",
              "      \n",
              "  <style>\n",
              "    .colab-df-container {\n",
              "      display:flex;\n",
              "      flex-wrap:wrap;\n",
              "      gap: 12px;\n",
              "    }\n",
              "\n",
              "    .colab-df-convert {\n",
              "      background-color: #E8F0FE;\n",
              "      border: none;\n",
              "      border-radius: 50%;\n",
              "      cursor: pointer;\n",
              "      display: none;\n",
              "      fill: #1967D2;\n",
              "      height: 32px;\n",
              "      padding: 0 0 0 0;\n",
              "      width: 32px;\n",
              "    }\n",
              "\n",
              "    .colab-df-convert:hover {\n",
              "      background-color: #E2EBFA;\n",
              "      box-shadow: 0px 1px 2px rgba(60, 64, 67, 0.3), 0px 1px 3px 1px rgba(60, 64, 67, 0.15);\n",
              "      fill: #174EA6;\n",
              "    }\n",
              "\n",
              "    [theme=dark] .colab-df-convert {\n",
              "      background-color: #3B4455;\n",
              "      fill: #D2E3FC;\n",
              "    }\n",
              "\n",
              "    [theme=dark] .colab-df-convert:hover {\n",
              "      background-color: #434B5C;\n",
              "      box-shadow: 0px 1px 3px 1px rgba(0, 0, 0, 0.15);\n",
              "      filter: drop-shadow(0px 1px 2px rgba(0, 0, 0, 0.3));\n",
              "      fill: #FFFFFF;\n",
              "    }\n",
              "  </style>\n",
              "\n",
              "      <script>\n",
              "        const buttonEl =\n",
              "          document.querySelector('#df-782aed69-dbf1-40fb-95f1-854b15450387 button.colab-df-convert');\n",
              "        buttonEl.style.display =\n",
              "          google.colab.kernel.accessAllowed ? 'block' : 'none';\n",
              "\n",
              "        async function convertToInteractive(key) {\n",
              "          const element = document.querySelector('#df-782aed69-dbf1-40fb-95f1-854b15450387');\n",
              "          const dataTable =\n",
              "            await google.colab.kernel.invokeFunction('convertToInteractive',\n",
              "                                                     [key], {});\n",
              "          if (!dataTable) return;\n",
              "\n",
              "          const docLinkHtml = 'Like what you see? Visit the ' +\n",
              "            '<a target=\"_blank\" href=https://colab.research.google.com/notebooks/data_table.ipynb>data table notebook</a>'\n",
              "            + ' to learn more about interactive tables.';\n",
              "          element.innerHTML = '';\n",
              "          dataTable['output_type'] = 'display_data';\n",
              "          await google.colab.output.renderOutput(dataTable, element);\n",
              "          const docLink = document.createElement('div');\n",
              "          docLink.innerHTML = docLinkHtml;\n",
              "          element.appendChild(docLink);\n",
              "        }\n",
              "      </script>\n",
              "    </div>\n",
              "  </div>\n",
              "  "
            ]
          },
          "metadata": {},
          "execution_count": 31
        }
      ]
    },
    {
      "cell_type": "code",
      "source": [
        "df_pivot_email = df_email.groupBy('customer_id').agg(collect_list('email_desc').alias('last_3_changes_list'))"
      ],
      "metadata": {
        "id": "hA1wDoYvjORO"
      },
      "execution_count": 32,
      "outputs": []
    },
    {
      "cell_type": "code",
      "source": [
        "df_pivot_email = df_pivot_email.selectExpr('customer_id', 'last_3_changes_list[0] as Email_1', 'last_3_changes_list[1] as Email_2', 'last_3_changes_list[2] as Email_3')"
      ],
      "metadata": {
        "id": "z1YOYYPbjOJt"
      },
      "execution_count": 33,
      "outputs": []
    },
    {
      "cell_type": "code",
      "source": [
        "df_pivot_email.toPandas()"
      ],
      "metadata": {
        "colab": {
          "base_uri": "https://localhost:8080/",
          "height": 0
        },
        "id": "1fUMzsSyjN93",
        "outputId": "0fd7061e-6102-4cf5-90a9-e86826251e82"
      },
      "execution_count": 34,
      "outputs": [
        {
          "output_type": "execute_result",
          "data": {
            "text/plain": [
              "    customer_id                            Email_1  \\\n",
              "0      00001419                 JU_LY1@HOTMAIL.COM   \n",
              "1      00002790                NOTIENE@HOIMAIL.COM   \n",
              "2      00014664                  alq@ciudad.com.ar   \n",
              "3      00027568                  SCATIVA@GMAIL.COM   \n",
              "4      00027877  LAURAFRISCHKNECHT@FIBERTEL.COM.AR   \n",
              "..          ...                                ...   \n",
              "424    28990339                   ELSAMO@GMAIL.COM   \n",
              "425    28993945             navyig@fibertel.com.ar   \n",
              "426    29003190               ANLAU_08@LIVE.COM.AR   \n",
              "427    29008648              ROBERTOWINY@GMAIL.COM   \n",
              "428    29012113           DE_LA_GARMA@YAHOO.COM.AR   \n",
              "\n",
              "                         Email_2 Email_3  \n",
              "0    EMILIA.RUBIANES@HOTMAIL.COM    None  \n",
              "1        DIGITALIZACION@EECC.COM    None  \n",
              "2                           None    None  \n",
              "3                           None    None  \n",
              "4                           None    None  \n",
              "..                           ...     ...  \n",
              "424                         None    None  \n",
              "425                         None    None  \n",
              "426                         None    None  \n",
              "427                         None    None  \n",
              "428                         None    None  \n",
              "\n",
              "[429 rows x 4 columns]"
            ],
            "text/html": [
              "\n",
              "  <div id=\"df-3d660389-f060-4e49-a43d-2c47cb8c49ff\">\n",
              "    <div class=\"colab-df-container\">\n",
              "      <div>\n",
              "<style scoped>\n",
              "    .dataframe tbody tr th:only-of-type {\n",
              "        vertical-align: middle;\n",
              "    }\n",
              "\n",
              "    .dataframe tbody tr th {\n",
              "        vertical-align: top;\n",
              "    }\n",
              "\n",
              "    .dataframe thead th {\n",
              "        text-align: right;\n",
              "    }\n",
              "</style>\n",
              "<table border=\"1\" class=\"dataframe\">\n",
              "  <thead>\n",
              "    <tr style=\"text-align: right;\">\n",
              "      <th></th>\n",
              "      <th>customer_id</th>\n",
              "      <th>Email_1</th>\n",
              "      <th>Email_2</th>\n",
              "      <th>Email_3</th>\n",
              "    </tr>\n",
              "  </thead>\n",
              "  <tbody>\n",
              "    <tr>\n",
              "      <th>0</th>\n",
              "      <td>00001419</td>\n",
              "      <td>JU_LY1@HOTMAIL.COM</td>\n",
              "      <td>EMILIA.RUBIANES@HOTMAIL.COM</td>\n",
              "      <td>None</td>\n",
              "    </tr>\n",
              "    <tr>\n",
              "      <th>1</th>\n",
              "      <td>00002790</td>\n",
              "      <td>NOTIENE@HOIMAIL.COM</td>\n",
              "      <td>DIGITALIZACION@EECC.COM</td>\n",
              "      <td>None</td>\n",
              "    </tr>\n",
              "    <tr>\n",
              "      <th>2</th>\n",
              "      <td>00014664</td>\n",
              "      <td>alq@ciudad.com.ar</td>\n",
              "      <td>None</td>\n",
              "      <td>None</td>\n",
              "    </tr>\n",
              "    <tr>\n",
              "      <th>3</th>\n",
              "      <td>00027568</td>\n",
              "      <td>SCATIVA@GMAIL.COM</td>\n",
              "      <td>None</td>\n",
              "      <td>None</td>\n",
              "    </tr>\n",
              "    <tr>\n",
              "      <th>4</th>\n",
              "      <td>00027877</td>\n",
              "      <td>LAURAFRISCHKNECHT@FIBERTEL.COM.AR</td>\n",
              "      <td>None</td>\n",
              "      <td>None</td>\n",
              "    </tr>\n",
              "    <tr>\n",
              "      <th>...</th>\n",
              "      <td>...</td>\n",
              "      <td>...</td>\n",
              "      <td>...</td>\n",
              "      <td>...</td>\n",
              "    </tr>\n",
              "    <tr>\n",
              "      <th>424</th>\n",
              "      <td>28990339</td>\n",
              "      <td>ELSAMO@GMAIL.COM</td>\n",
              "      <td>None</td>\n",
              "      <td>None</td>\n",
              "    </tr>\n",
              "    <tr>\n",
              "      <th>425</th>\n",
              "      <td>28993945</td>\n",
              "      <td>navyig@fibertel.com.ar</td>\n",
              "      <td>None</td>\n",
              "      <td>None</td>\n",
              "    </tr>\n",
              "    <tr>\n",
              "      <th>426</th>\n",
              "      <td>29003190</td>\n",
              "      <td>ANLAU_08@LIVE.COM.AR</td>\n",
              "      <td>None</td>\n",
              "      <td>None</td>\n",
              "    </tr>\n",
              "    <tr>\n",
              "      <th>427</th>\n",
              "      <td>29008648</td>\n",
              "      <td>ROBERTOWINY@GMAIL.COM</td>\n",
              "      <td>None</td>\n",
              "      <td>None</td>\n",
              "    </tr>\n",
              "    <tr>\n",
              "      <th>428</th>\n",
              "      <td>29012113</td>\n",
              "      <td>DE_LA_GARMA@YAHOO.COM.AR</td>\n",
              "      <td>None</td>\n",
              "      <td>None</td>\n",
              "    </tr>\n",
              "  </tbody>\n",
              "</table>\n",
              "<p>429 rows × 4 columns</p>\n",
              "</div>\n",
              "      <button class=\"colab-df-convert\" onclick=\"convertToInteractive('df-3d660389-f060-4e49-a43d-2c47cb8c49ff')\"\n",
              "              title=\"Convert this dataframe to an interactive table.\"\n",
              "              style=\"display:none;\">\n",
              "        \n",
              "  <svg xmlns=\"http://www.w3.org/2000/svg\" height=\"24px\"viewBox=\"0 0 24 24\"\n",
              "       width=\"24px\">\n",
              "    <path d=\"M0 0h24v24H0V0z\" fill=\"none\"/>\n",
              "    <path d=\"M18.56 5.44l.94 2.06.94-2.06 2.06-.94-2.06-.94-.94-2.06-.94 2.06-2.06.94zm-11 1L8.5 8.5l.94-2.06 2.06-.94-2.06-.94L8.5 2.5l-.94 2.06-2.06.94zm10 10l.94 2.06.94-2.06 2.06-.94-2.06-.94-.94-2.06-.94 2.06-2.06.94z\"/><path d=\"M17.41 7.96l-1.37-1.37c-.4-.4-.92-.59-1.43-.59-.52 0-1.04.2-1.43.59L10.3 9.45l-7.72 7.72c-.78.78-.78 2.05 0 2.83L4 21.41c.39.39.9.59 1.41.59.51 0 1.02-.2 1.41-.59l7.78-7.78 2.81-2.81c.8-.78.8-2.07 0-2.86zM5.41 20L4 18.59l7.72-7.72 1.47 1.35L5.41 20z\"/>\n",
              "  </svg>\n",
              "      </button>\n",
              "      \n",
              "  <style>\n",
              "    .colab-df-container {\n",
              "      display:flex;\n",
              "      flex-wrap:wrap;\n",
              "      gap: 12px;\n",
              "    }\n",
              "\n",
              "    .colab-df-convert {\n",
              "      background-color: #E8F0FE;\n",
              "      border: none;\n",
              "      border-radius: 50%;\n",
              "      cursor: pointer;\n",
              "      display: none;\n",
              "      fill: #1967D2;\n",
              "      height: 32px;\n",
              "      padding: 0 0 0 0;\n",
              "      width: 32px;\n",
              "    }\n",
              "\n",
              "    .colab-df-convert:hover {\n",
              "      background-color: #E2EBFA;\n",
              "      box-shadow: 0px 1px 2px rgba(60, 64, 67, 0.3), 0px 1px 3px 1px rgba(60, 64, 67, 0.15);\n",
              "      fill: #174EA6;\n",
              "    }\n",
              "\n",
              "    [theme=dark] .colab-df-convert {\n",
              "      background-color: #3B4455;\n",
              "      fill: #D2E3FC;\n",
              "    }\n",
              "\n",
              "    [theme=dark] .colab-df-convert:hover {\n",
              "      background-color: #434B5C;\n",
              "      box-shadow: 0px 1px 3px 1px rgba(0, 0, 0, 0.15);\n",
              "      filter: drop-shadow(0px 1px 2px rgba(0, 0, 0, 0.3));\n",
              "      fill: #FFFFFF;\n",
              "    }\n",
              "  </style>\n",
              "\n",
              "      <script>\n",
              "        const buttonEl =\n",
              "          document.querySelector('#df-3d660389-f060-4e49-a43d-2c47cb8c49ff button.colab-df-convert');\n",
              "        buttonEl.style.display =\n",
              "          google.colab.kernel.accessAllowed ? 'block' : 'none';\n",
              "\n",
              "        async function convertToInteractive(key) {\n",
              "          const element = document.querySelector('#df-3d660389-f060-4e49-a43d-2c47cb8c49ff');\n",
              "          const dataTable =\n",
              "            await google.colab.kernel.invokeFunction('convertToInteractive',\n",
              "                                                     [key], {});\n",
              "          if (!dataTable) return;\n",
              "\n",
              "          const docLinkHtml = 'Like what you see? Visit the ' +\n",
              "            '<a target=\"_blank\" href=https://colab.research.google.com/notebooks/data_table.ipynb>data table notebook</a>'\n",
              "            + ' to learn more about interactive tables.';\n",
              "          element.innerHTML = '';\n",
              "          dataTable['output_type'] = 'display_data';\n",
              "          await google.colab.output.renderOutput(dataTable, element);\n",
              "          const docLink = document.createElement('div');\n",
              "          docLink.innerHTML = docLinkHtml;\n",
              "          element.appendChild(docLink);\n",
              "        }\n",
              "      </script>\n",
              "    </div>\n",
              "  </div>\n",
              "  "
            ]
          },
          "metadata": {},
          "execution_count": 34
        }
      ]
    },
    {
      "cell_type": "code",
      "source": [
        "df_pivot_email = df_pivot_email.na.fill('---')\n",
        "df_pivot_email.toPandas()"
      ],
      "metadata": {
        "colab": {
          "base_uri": "https://localhost:8080/",
          "height": 0
        },
        "id": "fA9O-cTfjY3x",
        "outputId": "0a101473-6132-4485-8598-40be056e8bec"
      },
      "execution_count": 35,
      "outputs": [
        {
          "output_type": "execute_result",
          "data": {
            "text/plain": [
              "    customer_id                            Email_1  \\\n",
              "0      00001419                 JU_LY1@HOTMAIL.COM   \n",
              "1      00002790                NOTIENE@HOIMAIL.COM   \n",
              "2      00014664                  alq@ciudad.com.ar   \n",
              "3      00027568                  SCATIVA@GMAIL.COM   \n",
              "4      00027877  LAURAFRISCHKNECHT@FIBERTEL.COM.AR   \n",
              "..          ...                                ...   \n",
              "424    28990339                   ELSAMO@GMAIL.COM   \n",
              "425    28993945             navyig@fibertel.com.ar   \n",
              "426    29003190               ANLAU_08@LIVE.COM.AR   \n",
              "427    29008648              ROBERTOWINY@GMAIL.COM   \n",
              "428    29012113           DE_LA_GARMA@YAHOO.COM.AR   \n",
              "\n",
              "                         Email_2 Email_3  \n",
              "0    EMILIA.RUBIANES@HOTMAIL.COM     ---  \n",
              "1        DIGITALIZACION@EECC.COM     ---  \n",
              "2                            ---     ---  \n",
              "3                            ---     ---  \n",
              "4                            ---     ---  \n",
              "..                           ...     ...  \n",
              "424                          ---     ---  \n",
              "425                          ---     ---  \n",
              "426                          ---     ---  \n",
              "427                          ---     ---  \n",
              "428                          ---     ---  \n",
              "\n",
              "[429 rows x 4 columns]"
            ],
            "text/html": [
              "\n",
              "  <div id=\"df-cb03c8c9-b4bf-464c-a87e-faa4db5dd149\">\n",
              "    <div class=\"colab-df-container\">\n",
              "      <div>\n",
              "<style scoped>\n",
              "    .dataframe tbody tr th:only-of-type {\n",
              "        vertical-align: middle;\n",
              "    }\n",
              "\n",
              "    .dataframe tbody tr th {\n",
              "        vertical-align: top;\n",
              "    }\n",
              "\n",
              "    .dataframe thead th {\n",
              "        text-align: right;\n",
              "    }\n",
              "</style>\n",
              "<table border=\"1\" class=\"dataframe\">\n",
              "  <thead>\n",
              "    <tr style=\"text-align: right;\">\n",
              "      <th></th>\n",
              "      <th>customer_id</th>\n",
              "      <th>Email_1</th>\n",
              "      <th>Email_2</th>\n",
              "      <th>Email_3</th>\n",
              "    </tr>\n",
              "  </thead>\n",
              "  <tbody>\n",
              "    <tr>\n",
              "      <th>0</th>\n",
              "      <td>00001419</td>\n",
              "      <td>JU_LY1@HOTMAIL.COM</td>\n",
              "      <td>EMILIA.RUBIANES@HOTMAIL.COM</td>\n",
              "      <td>---</td>\n",
              "    </tr>\n",
              "    <tr>\n",
              "      <th>1</th>\n",
              "      <td>00002790</td>\n",
              "      <td>NOTIENE@HOIMAIL.COM</td>\n",
              "      <td>DIGITALIZACION@EECC.COM</td>\n",
              "      <td>---</td>\n",
              "    </tr>\n",
              "    <tr>\n",
              "      <th>2</th>\n",
              "      <td>00014664</td>\n",
              "      <td>alq@ciudad.com.ar</td>\n",
              "      <td>---</td>\n",
              "      <td>---</td>\n",
              "    </tr>\n",
              "    <tr>\n",
              "      <th>3</th>\n",
              "      <td>00027568</td>\n",
              "      <td>SCATIVA@GMAIL.COM</td>\n",
              "      <td>---</td>\n",
              "      <td>---</td>\n",
              "    </tr>\n",
              "    <tr>\n",
              "      <th>4</th>\n",
              "      <td>00027877</td>\n",
              "      <td>LAURAFRISCHKNECHT@FIBERTEL.COM.AR</td>\n",
              "      <td>---</td>\n",
              "      <td>---</td>\n",
              "    </tr>\n",
              "    <tr>\n",
              "      <th>...</th>\n",
              "      <td>...</td>\n",
              "      <td>...</td>\n",
              "      <td>...</td>\n",
              "      <td>...</td>\n",
              "    </tr>\n",
              "    <tr>\n",
              "      <th>424</th>\n",
              "      <td>28990339</td>\n",
              "      <td>ELSAMO@GMAIL.COM</td>\n",
              "      <td>---</td>\n",
              "      <td>---</td>\n",
              "    </tr>\n",
              "    <tr>\n",
              "      <th>425</th>\n",
              "      <td>28993945</td>\n",
              "      <td>navyig@fibertel.com.ar</td>\n",
              "      <td>---</td>\n",
              "      <td>---</td>\n",
              "    </tr>\n",
              "    <tr>\n",
              "      <th>426</th>\n",
              "      <td>29003190</td>\n",
              "      <td>ANLAU_08@LIVE.COM.AR</td>\n",
              "      <td>---</td>\n",
              "      <td>---</td>\n",
              "    </tr>\n",
              "    <tr>\n",
              "      <th>427</th>\n",
              "      <td>29008648</td>\n",
              "      <td>ROBERTOWINY@GMAIL.COM</td>\n",
              "      <td>---</td>\n",
              "      <td>---</td>\n",
              "    </tr>\n",
              "    <tr>\n",
              "      <th>428</th>\n",
              "      <td>29012113</td>\n",
              "      <td>DE_LA_GARMA@YAHOO.COM.AR</td>\n",
              "      <td>---</td>\n",
              "      <td>---</td>\n",
              "    </tr>\n",
              "  </tbody>\n",
              "</table>\n",
              "<p>429 rows × 4 columns</p>\n",
              "</div>\n",
              "      <button class=\"colab-df-convert\" onclick=\"convertToInteractive('df-cb03c8c9-b4bf-464c-a87e-faa4db5dd149')\"\n",
              "              title=\"Convert this dataframe to an interactive table.\"\n",
              "              style=\"display:none;\">\n",
              "        \n",
              "  <svg xmlns=\"http://www.w3.org/2000/svg\" height=\"24px\"viewBox=\"0 0 24 24\"\n",
              "       width=\"24px\">\n",
              "    <path d=\"M0 0h24v24H0V0z\" fill=\"none\"/>\n",
              "    <path d=\"M18.56 5.44l.94 2.06.94-2.06 2.06-.94-2.06-.94-.94-2.06-.94 2.06-2.06.94zm-11 1L8.5 8.5l.94-2.06 2.06-.94-2.06-.94L8.5 2.5l-.94 2.06-2.06.94zm10 10l.94 2.06.94-2.06 2.06-.94-2.06-.94-.94-2.06-.94 2.06-2.06.94z\"/><path d=\"M17.41 7.96l-1.37-1.37c-.4-.4-.92-.59-1.43-.59-.52 0-1.04.2-1.43.59L10.3 9.45l-7.72 7.72c-.78.78-.78 2.05 0 2.83L4 21.41c.39.39.9.59 1.41.59.51 0 1.02-.2 1.41-.59l7.78-7.78 2.81-2.81c.8-.78.8-2.07 0-2.86zM5.41 20L4 18.59l7.72-7.72 1.47 1.35L5.41 20z\"/>\n",
              "  </svg>\n",
              "      </button>\n",
              "      \n",
              "  <style>\n",
              "    .colab-df-container {\n",
              "      display:flex;\n",
              "      flex-wrap:wrap;\n",
              "      gap: 12px;\n",
              "    }\n",
              "\n",
              "    .colab-df-convert {\n",
              "      background-color: #E8F0FE;\n",
              "      border: none;\n",
              "      border-radius: 50%;\n",
              "      cursor: pointer;\n",
              "      display: none;\n",
              "      fill: #1967D2;\n",
              "      height: 32px;\n",
              "      padding: 0 0 0 0;\n",
              "      width: 32px;\n",
              "    }\n",
              "\n",
              "    .colab-df-convert:hover {\n",
              "      background-color: #E2EBFA;\n",
              "      box-shadow: 0px 1px 2px rgba(60, 64, 67, 0.3), 0px 1px 3px 1px rgba(60, 64, 67, 0.15);\n",
              "      fill: #174EA6;\n",
              "    }\n",
              "\n",
              "    [theme=dark] .colab-df-convert {\n",
              "      background-color: #3B4455;\n",
              "      fill: #D2E3FC;\n",
              "    }\n",
              "\n",
              "    [theme=dark] .colab-df-convert:hover {\n",
              "      background-color: #434B5C;\n",
              "      box-shadow: 0px 1px 3px 1px rgba(0, 0, 0, 0.15);\n",
              "      filter: drop-shadow(0px 1px 2px rgba(0, 0, 0, 0.3));\n",
              "      fill: #FFFFFF;\n",
              "    }\n",
              "  </style>\n",
              "\n",
              "      <script>\n",
              "        const buttonEl =\n",
              "          document.querySelector('#df-cb03c8c9-b4bf-464c-a87e-faa4db5dd149 button.colab-df-convert');\n",
              "        buttonEl.style.display =\n",
              "          google.colab.kernel.accessAllowed ? 'block' : 'none';\n",
              "\n",
              "        async function convertToInteractive(key) {\n",
              "          const element = document.querySelector('#df-cb03c8c9-b4bf-464c-a87e-faa4db5dd149');\n",
              "          const dataTable =\n",
              "            await google.colab.kernel.invokeFunction('convertToInteractive',\n",
              "                                                     [key], {});\n",
              "          if (!dataTable) return;\n",
              "\n",
              "          const docLinkHtml = 'Like what you see? Visit the ' +\n",
              "            '<a target=\"_blank\" href=https://colab.research.google.com/notebooks/data_table.ipynb>data table notebook</a>'\n",
              "            + ' to learn more about interactive tables.';\n",
              "          element.innerHTML = '';\n",
              "          dataTable['output_type'] = 'display_data';\n",
              "          await google.colab.output.renderOutput(dataTable, element);\n",
              "          const docLink = document.createElement('div');\n",
              "          docLink.innerHTML = docLinkHtml;\n",
              "          element.appendChild(docLink);\n",
              "        }\n",
              "      </script>\n",
              "    </div>\n",
              "  </div>\n",
              "  "
            ]
          },
          "metadata": {},
          "execution_count": 35
        }
      ]
    },
    {
      "cell_type": "markdown",
      "source": [
        "# Extraccion de datos desde .parquet, clientes y direcciones."
      ],
      "metadata": {
        "id": "9HKBqEE6jgsB"
      }
    },
    {
      "cell_type": "code",
      "source": [
        "df_address = spark.read.parquet('sample_data/address_bootcamp.snappy.parquet')"
      ],
      "metadata": {
        "id": "VwByJgA2jYyz"
      },
      "execution_count": 36,
      "outputs": []
    },
    {
      "cell_type": "code",
      "source": [
        "df_customer_address = df_address.join(df_customer, 'customer_id')"
      ],
      "metadata": {
        "id": "8f6EQlGvjYrD"
      },
      "execution_count": 37,
      "outputs": []
    },
    {
      "cell_type": "markdown",
      "source": [
        "#Filtrado Address"
      ],
      "metadata": {
        "id": "zZ3kOyM7kBE2"
      }
    },
    {
      "cell_type": "code",
      "source": [
        "df_address_cut = df_address.drop('address_priority_number','address_sequence_id','residence_type','address_without_number_type','province_id','address_country_id','other_information_desc','address_relationship_type','address_start_date','address_verified_date','customer_locator_verified_type','address_status_mod_date','contact_channel_type','sender_application_id','returned_mail_type','normalization_status_type','normalization_reason_name','normalization_date','normalized_level_match_number','dlvy_day_monday_type','dlvy_day_tuesday_type','dlvy_day_wednesday_type','dlvy_day_thursday_type','dlvy_day_friday_type','dlvy_day_saturday_type','delivery_contact_start_hm_date','delivery_contact_end_hm_date','prev_address_sequence_id','registry_entry_date','register_user_id','last_change_user_id','last_change_hms_date','last_change_terminal_id','registration_type','operational_load_date')"
      ],
      "metadata": {
        "id": "rci8VyNVkBo1"
      },
      "execution_count": 38,
      "outputs": []
    },
    {
      "cell_type": "code",
      "source": [
        "df_address_cut.toPandas()"
      ],
      "metadata": {
        "colab": {
          "base_uri": "https://localhost:8080/",
          "height": 731
        },
        "id": "x1vVZ5nskBbO",
        "outputId": "fceee6c2-1d5b-4c51-b6e5-4a4ed6d6233e"
      },
      "execution_count": 39,
      "outputs": [
        {
          "output_type": "execute_result",
          "data": {
            "text/plain": [
              "     customer_id               street_name address_outdoor_id  \\\n",
              "0       00000660  PASCUALA DEL JUNCAL                 0000850   \n",
              "1       07121078  SAN NICOLAS                         0002478   \n",
              "2       22374047  J DE LA CRUZ CONTRERAS              0000408   \n",
              "3       00002450  BACACAY                             0001466   \n",
              "4       00003925  MANUELA PEDRAZA                     0001715   \n",
              "...          ...                       ...                ...   \n",
              "2495    00005200  PARAGUAY                            0003091   \n",
              "2496    08341355  AV CORRIENTES                       0004923   \n",
              "2497    06987700  ESTADOS UNIDOS                      0002772   \n",
              "2498    00015314  AV ALVAREZ THOMAS                   0000195   \n",
              "2499    00016258  MONTA�ESES                          0002325   \n",
              "\n",
              "     address_indoor_id indoor_number           address_district_name  \\\n",
              "0                                                                      \n",
              "1                                                                      \n",
              "2                                                                      \n",
              "3                                                                      \n",
              "4             5              B                                         \n",
              "...                ...           ...                             ...   \n",
              "2495                                                                   \n",
              "2496          2              F                                         \n",
              "2497          2              B                                         \n",
              "2498          13             A                                         \n",
              "2499                                                                   \n",
              "\n",
              "                   address_town_name         address_department_name  \\\n",
              "0     VIRREYES                        112233114455                     \n",
              "1     VILLA VATTEONE                  FLORENCIO VARELA                 \n",
              "2     FLORENCIO VARELA                FLORENCIO VARELA                 \n",
              "3     ITUZAINGO                       ITUZAINGO                        \n",
              "4     CIUDAD AUTONOMA BUENOS AIRES    CAPITAL FEDERAL                  \n",
              "...                              ...                             ...   \n",
              "2495  CIUDAD AUTONOMA BUENOS AIRES    CAPITAL FEDERAL                  \n",
              "2496  CIUDAD AUTONOMA BUENOS AIRES    CAPITAL FEDERAL                  \n",
              "2497  CIUDAD AUTONOMA BUENOS AIRES    CAPITAL FEDERAL                  \n",
              "2498  CIUDAD AUTONOMA BUENOS AIRES    CAPITAL FEDERAL                  \n",
              "2499  CIUDAD AUTONOMA BUENOS AIRES    CAPITAL FEDERAL                  \n",
              "\n",
              "     zipcode_id long_zipcode_id last_change_date  \n",
              "0         01646                       2011-07-01  \n",
              "1         01888        B1853AMP       2016-09-29  \n",
              "2         01888        B1888IIJ       2011-07-01  \n",
              "3         01714        B1714ERV       2009-01-26  \n",
              "4         01429        C1429CBE       2009-01-26  \n",
              "...         ...             ...              ...  \n",
              "2495      01425        C1425BRK       2009-01-26  \n",
              "2496      01414        C1414AJC       2009-01-26  \n",
              "2497      01227        C1227ABT       2009-01-26  \n",
              "2498      01427        C1427CCB       2009-01-26  \n",
              "2499      01428        C1428AQK       2009-01-26  \n",
              "\n",
              "[2500 rows x 11 columns]"
            ],
            "text/html": [
              "\n",
              "  <div id=\"df-4a7b32b3-8995-4622-81a9-48f911d864c8\">\n",
              "    <div class=\"colab-df-container\">\n",
              "      <div>\n",
              "<style scoped>\n",
              "    .dataframe tbody tr th:only-of-type {\n",
              "        vertical-align: middle;\n",
              "    }\n",
              "\n",
              "    .dataframe tbody tr th {\n",
              "        vertical-align: top;\n",
              "    }\n",
              "\n",
              "    .dataframe thead th {\n",
              "        text-align: right;\n",
              "    }\n",
              "</style>\n",
              "<table border=\"1\" class=\"dataframe\">\n",
              "  <thead>\n",
              "    <tr style=\"text-align: right;\">\n",
              "      <th></th>\n",
              "      <th>customer_id</th>\n",
              "      <th>street_name</th>\n",
              "      <th>address_outdoor_id</th>\n",
              "      <th>address_indoor_id</th>\n",
              "      <th>indoor_number</th>\n",
              "      <th>address_district_name</th>\n",
              "      <th>address_town_name</th>\n",
              "      <th>address_department_name</th>\n",
              "      <th>zipcode_id</th>\n",
              "      <th>long_zipcode_id</th>\n",
              "      <th>last_change_date</th>\n",
              "    </tr>\n",
              "  </thead>\n",
              "  <tbody>\n",
              "    <tr>\n",
              "      <th>0</th>\n",
              "      <td>00000660</td>\n",
              "      <td>PASCUALA DEL JUNCAL</td>\n",
              "      <td>0000850</td>\n",
              "      <td></td>\n",
              "      <td></td>\n",
              "      <td></td>\n",
              "      <td>VIRREYES</td>\n",
              "      <td>112233114455</td>\n",
              "      <td>01646</td>\n",
              "      <td></td>\n",
              "      <td>2011-07-01</td>\n",
              "    </tr>\n",
              "    <tr>\n",
              "      <th>1</th>\n",
              "      <td>07121078</td>\n",
              "      <td>SAN NICOLAS</td>\n",
              "      <td>0002478</td>\n",
              "      <td></td>\n",
              "      <td></td>\n",
              "      <td></td>\n",
              "      <td>VILLA VATTEONE</td>\n",
              "      <td>FLORENCIO VARELA</td>\n",
              "      <td>01888</td>\n",
              "      <td>B1853AMP</td>\n",
              "      <td>2016-09-29</td>\n",
              "    </tr>\n",
              "    <tr>\n",
              "      <th>2</th>\n",
              "      <td>22374047</td>\n",
              "      <td>J DE LA CRUZ CONTRERAS</td>\n",
              "      <td>0000408</td>\n",
              "      <td></td>\n",
              "      <td></td>\n",
              "      <td></td>\n",
              "      <td>FLORENCIO VARELA</td>\n",
              "      <td>FLORENCIO VARELA</td>\n",
              "      <td>01888</td>\n",
              "      <td>B1888IIJ</td>\n",
              "      <td>2011-07-01</td>\n",
              "    </tr>\n",
              "    <tr>\n",
              "      <th>3</th>\n",
              "      <td>00002450</td>\n",
              "      <td>BACACAY</td>\n",
              "      <td>0001466</td>\n",
              "      <td></td>\n",
              "      <td></td>\n",
              "      <td></td>\n",
              "      <td>ITUZAINGO</td>\n",
              "      <td>ITUZAINGO</td>\n",
              "      <td>01714</td>\n",
              "      <td>B1714ERV</td>\n",
              "      <td>2009-01-26</td>\n",
              "    </tr>\n",
              "    <tr>\n",
              "      <th>4</th>\n",
              "      <td>00003925</td>\n",
              "      <td>MANUELA PEDRAZA</td>\n",
              "      <td>0001715</td>\n",
              "      <td>5</td>\n",
              "      <td>B</td>\n",
              "      <td></td>\n",
              "      <td>CIUDAD AUTONOMA BUENOS AIRES</td>\n",
              "      <td>CAPITAL FEDERAL</td>\n",
              "      <td>01429</td>\n",
              "      <td>C1429CBE</td>\n",
              "      <td>2009-01-26</td>\n",
              "    </tr>\n",
              "    <tr>\n",
              "      <th>...</th>\n",
              "      <td>...</td>\n",
              "      <td>...</td>\n",
              "      <td>...</td>\n",
              "      <td>...</td>\n",
              "      <td>...</td>\n",
              "      <td>...</td>\n",
              "      <td>...</td>\n",
              "      <td>...</td>\n",
              "      <td>...</td>\n",
              "      <td>...</td>\n",
              "      <td>...</td>\n",
              "    </tr>\n",
              "    <tr>\n",
              "      <th>2495</th>\n",
              "      <td>00005200</td>\n",
              "      <td>PARAGUAY</td>\n",
              "      <td>0003091</td>\n",
              "      <td></td>\n",
              "      <td></td>\n",
              "      <td></td>\n",
              "      <td>CIUDAD AUTONOMA BUENOS AIRES</td>\n",
              "      <td>CAPITAL FEDERAL</td>\n",
              "      <td>01425</td>\n",
              "      <td>C1425BRK</td>\n",
              "      <td>2009-01-26</td>\n",
              "    </tr>\n",
              "    <tr>\n",
              "      <th>2496</th>\n",
              "      <td>08341355</td>\n",
              "      <td>AV CORRIENTES</td>\n",
              "      <td>0004923</td>\n",
              "      <td>2</td>\n",
              "      <td>F</td>\n",
              "      <td></td>\n",
              "      <td>CIUDAD AUTONOMA BUENOS AIRES</td>\n",
              "      <td>CAPITAL FEDERAL</td>\n",
              "      <td>01414</td>\n",
              "      <td>C1414AJC</td>\n",
              "      <td>2009-01-26</td>\n",
              "    </tr>\n",
              "    <tr>\n",
              "      <th>2497</th>\n",
              "      <td>06987700</td>\n",
              "      <td>ESTADOS UNIDOS</td>\n",
              "      <td>0002772</td>\n",
              "      <td>2</td>\n",
              "      <td>B</td>\n",
              "      <td></td>\n",
              "      <td>CIUDAD AUTONOMA BUENOS AIRES</td>\n",
              "      <td>CAPITAL FEDERAL</td>\n",
              "      <td>01227</td>\n",
              "      <td>C1227ABT</td>\n",
              "      <td>2009-01-26</td>\n",
              "    </tr>\n",
              "    <tr>\n",
              "      <th>2498</th>\n",
              "      <td>00015314</td>\n",
              "      <td>AV ALVAREZ THOMAS</td>\n",
              "      <td>0000195</td>\n",
              "      <td>13</td>\n",
              "      <td>A</td>\n",
              "      <td></td>\n",
              "      <td>CIUDAD AUTONOMA BUENOS AIRES</td>\n",
              "      <td>CAPITAL FEDERAL</td>\n",
              "      <td>01427</td>\n",
              "      <td>C1427CCB</td>\n",
              "      <td>2009-01-26</td>\n",
              "    </tr>\n",
              "    <tr>\n",
              "      <th>2499</th>\n",
              "      <td>00016258</td>\n",
              "      <td>MONTA�ESES</td>\n",
              "      <td>0002325</td>\n",
              "      <td></td>\n",
              "      <td></td>\n",
              "      <td></td>\n",
              "      <td>CIUDAD AUTONOMA BUENOS AIRES</td>\n",
              "      <td>CAPITAL FEDERAL</td>\n",
              "      <td>01428</td>\n",
              "      <td>C1428AQK</td>\n",
              "      <td>2009-01-26</td>\n",
              "    </tr>\n",
              "  </tbody>\n",
              "</table>\n",
              "<p>2500 rows × 11 columns</p>\n",
              "</div>\n",
              "      <button class=\"colab-df-convert\" onclick=\"convertToInteractive('df-4a7b32b3-8995-4622-81a9-48f911d864c8')\"\n",
              "              title=\"Convert this dataframe to an interactive table.\"\n",
              "              style=\"display:none;\">\n",
              "        \n",
              "  <svg xmlns=\"http://www.w3.org/2000/svg\" height=\"24px\"viewBox=\"0 0 24 24\"\n",
              "       width=\"24px\">\n",
              "    <path d=\"M0 0h24v24H0V0z\" fill=\"none\"/>\n",
              "    <path d=\"M18.56 5.44l.94 2.06.94-2.06 2.06-.94-2.06-.94-.94-2.06-.94 2.06-2.06.94zm-11 1L8.5 8.5l.94-2.06 2.06-.94-2.06-.94L8.5 2.5l-.94 2.06-2.06.94zm10 10l.94 2.06.94-2.06 2.06-.94-2.06-.94-.94-2.06-.94 2.06-2.06.94z\"/><path d=\"M17.41 7.96l-1.37-1.37c-.4-.4-.92-.59-1.43-.59-.52 0-1.04.2-1.43.59L10.3 9.45l-7.72 7.72c-.78.78-.78 2.05 0 2.83L4 21.41c.39.39.9.59 1.41.59.51 0 1.02-.2 1.41-.59l7.78-7.78 2.81-2.81c.8-.78.8-2.07 0-2.86zM5.41 20L4 18.59l7.72-7.72 1.47 1.35L5.41 20z\"/>\n",
              "  </svg>\n",
              "      </button>\n",
              "      \n",
              "  <style>\n",
              "    .colab-df-container {\n",
              "      display:flex;\n",
              "      flex-wrap:wrap;\n",
              "      gap: 12px;\n",
              "    }\n",
              "\n",
              "    .colab-df-convert {\n",
              "      background-color: #E8F0FE;\n",
              "      border: none;\n",
              "      border-radius: 50%;\n",
              "      cursor: pointer;\n",
              "      display: none;\n",
              "      fill: #1967D2;\n",
              "      height: 32px;\n",
              "      padding: 0 0 0 0;\n",
              "      width: 32px;\n",
              "    }\n",
              "\n",
              "    .colab-df-convert:hover {\n",
              "      background-color: #E2EBFA;\n",
              "      box-shadow: 0px 1px 2px rgba(60, 64, 67, 0.3), 0px 1px 3px 1px rgba(60, 64, 67, 0.15);\n",
              "      fill: #174EA6;\n",
              "    }\n",
              "\n",
              "    [theme=dark] .colab-df-convert {\n",
              "      background-color: #3B4455;\n",
              "      fill: #D2E3FC;\n",
              "    }\n",
              "\n",
              "    [theme=dark] .colab-df-convert:hover {\n",
              "      background-color: #434B5C;\n",
              "      box-shadow: 0px 1px 3px 1px rgba(0, 0, 0, 0.15);\n",
              "      filter: drop-shadow(0px 1px 2px rgba(0, 0, 0, 0.3));\n",
              "      fill: #FFFFFF;\n",
              "    }\n",
              "  </style>\n",
              "\n",
              "      <script>\n",
              "        const buttonEl =\n",
              "          document.querySelector('#df-4a7b32b3-8995-4622-81a9-48f911d864c8 button.colab-df-convert');\n",
              "        buttonEl.style.display =\n",
              "          google.colab.kernel.accessAllowed ? 'block' : 'none';\n",
              "\n",
              "        async function convertToInteractive(key) {\n",
              "          const element = document.querySelector('#df-4a7b32b3-8995-4622-81a9-48f911d864c8');\n",
              "          const dataTable =\n",
              "            await google.colab.kernel.invokeFunction('convertToInteractive',\n",
              "                                                     [key], {});\n",
              "          if (!dataTable) return;\n",
              "\n",
              "          const docLinkHtml = 'Like what you see? Visit the ' +\n",
              "            '<a target=\"_blank\" href=https://colab.research.google.com/notebooks/data_table.ipynb>data table notebook</a>'\n",
              "            + ' to learn more about interactive tables.';\n",
              "          element.innerHTML = '';\n",
              "          dataTable['output_type'] = 'display_data';\n",
              "          await google.colab.output.renderOutput(dataTable, element);\n",
              "          const docLink = document.createElement('div');\n",
              "          docLink.innerHTML = docLinkHtml;\n",
              "          element.appendChild(docLink);\n",
              "        }\n",
              "      </script>\n",
              "    </div>\n",
              "  </div>\n",
              "  "
            ]
          },
          "metadata": {},
          "execution_count": 39
        }
      ]
    },
    {
      "cell_type": "code",
      "source": [
        "df_address_sorted = df_address_cut.orderBy([df_address_cut.customer_id, desc('last_change_date')])\n",
        "df_address_sorted.toPandas()"
      ],
      "metadata": {
        "colab": {
          "base_uri": "https://localhost:8080/",
          "height": 627
        },
        "id": "fWLJ1rGmkBYp",
        "outputId": "86b98507-b5de-4fd9-a5a7-afa5f4f56e27"
      },
      "execution_count": 40,
      "outputs": [
        {
          "output_type": "execute_result",
          "data": {
            "text/plain": [
              "     customer_id               street_name address_outdoor_id  \\\n",
              "0       00000003  AV PRES BARTOLOME MITRE             0001500   \n",
              "1       00000050  DR A ALSINA                         0002849   \n",
              "2       00000050  DR A ALSINA                         0002849   \n",
              "3       00000173  CALLE 150                           0003726   \n",
              "4       00000173  CALLE 150                           0003726   \n",
              "...          ...                       ...                ...   \n",
              "2495    29015563  IBANEZ TENIENTE 1 RO                0001355   \n",
              "2496    29015902  GARIBALDI                           0001554   \n",
              "2497    29017100  DOMINGO MATHEU                      0000972   \n",
              "2498    29017191  VIRREY ARREDONDO                    0002641   \n",
              "2499    29022069  ACASSUSO                            0002665   \n",
              "\n",
              "     address_indoor_id indoor_number           address_district_name  \\\n",
              "0                                                                      \n",
              "1                                                                      \n",
              "2                                                                      \n",
              "3                                                                      \n",
              "4                                                                      \n",
              "...                ...           ...                             ...   \n",
              "2495                                                                   \n",
              "2496                                                                   \n",
              "2497                                                                   \n",
              "2498          3              B                                         \n",
              "2499                                                                   \n",
              "\n",
              "                   address_town_name         address_department_name  \\\n",
              "0     CRUCESITA                       AVELLANEDA                       \n",
              "1     FLORIDA                         VICENTE LOPEZ                    \n",
              "2                                     VICENTE LOPEZ                    \n",
              "3                                     BERAZATEGUI                      \n",
              "4                                     BERAZATEGUI                      \n",
              "...                              ...                             ...   \n",
              "2495  BELLA VISTA                     112233114455                     \n",
              "2496  RAMOS MEJIA                     LA MATANZA                       \n",
              "2497  CIUDAD AUTONOMA BUENOS AIRES    CAPITAL FEDERAL                  \n",
              "2498  CIUDAD AUTONOMA BUENOS AIRES    CAPITAL FEDERAL                  \n",
              "2499  BECCAR                          SAN ISIDRO                       \n",
              "\n",
              "     zipcode_id long_zipcode_id last_change_date  \n",
              "0         01870        B1873AMN       2011-09-07  \n",
              "1         01602        B1602EEA       2017-04-18  \n",
              "2         01602                       2016-10-12  \n",
              "3         01885                       2016-10-12  \n",
              "4         01885                       2016-10-12  \n",
              "...         ...             ...              ...  \n",
              "2495      01661                       2009-01-26  \n",
              "2496      01704        B1704IEH       2009-01-26  \n",
              "2497      01219        C1219AAH       2009-01-26  \n",
              "2498      01426        C1426DZI       2009-01-26  \n",
              "2499      01643        B1643CPE       2009-01-26  \n",
              "\n",
              "[2500 rows x 11 columns]"
            ],
            "text/html": [
              "\n",
              "  <div id=\"df-a4a27d05-5a7a-454a-8f93-86fedfef1103\">\n",
              "    <div class=\"colab-df-container\">\n",
              "      <div>\n",
              "<style scoped>\n",
              "    .dataframe tbody tr th:only-of-type {\n",
              "        vertical-align: middle;\n",
              "    }\n",
              "\n",
              "    .dataframe tbody tr th {\n",
              "        vertical-align: top;\n",
              "    }\n",
              "\n",
              "    .dataframe thead th {\n",
              "        text-align: right;\n",
              "    }\n",
              "</style>\n",
              "<table border=\"1\" class=\"dataframe\">\n",
              "  <thead>\n",
              "    <tr style=\"text-align: right;\">\n",
              "      <th></th>\n",
              "      <th>customer_id</th>\n",
              "      <th>street_name</th>\n",
              "      <th>address_outdoor_id</th>\n",
              "      <th>address_indoor_id</th>\n",
              "      <th>indoor_number</th>\n",
              "      <th>address_district_name</th>\n",
              "      <th>address_town_name</th>\n",
              "      <th>address_department_name</th>\n",
              "      <th>zipcode_id</th>\n",
              "      <th>long_zipcode_id</th>\n",
              "      <th>last_change_date</th>\n",
              "    </tr>\n",
              "  </thead>\n",
              "  <tbody>\n",
              "    <tr>\n",
              "      <th>0</th>\n",
              "      <td>00000003</td>\n",
              "      <td>AV PRES BARTOLOME MITRE</td>\n",
              "      <td>0001500</td>\n",
              "      <td></td>\n",
              "      <td></td>\n",
              "      <td></td>\n",
              "      <td>CRUCESITA</td>\n",
              "      <td>AVELLANEDA</td>\n",
              "      <td>01870</td>\n",
              "      <td>B1873AMN</td>\n",
              "      <td>2011-09-07</td>\n",
              "    </tr>\n",
              "    <tr>\n",
              "      <th>1</th>\n",
              "      <td>00000050</td>\n",
              "      <td>DR A ALSINA</td>\n",
              "      <td>0002849</td>\n",
              "      <td></td>\n",
              "      <td></td>\n",
              "      <td></td>\n",
              "      <td>FLORIDA</td>\n",
              "      <td>VICENTE LOPEZ</td>\n",
              "      <td>01602</td>\n",
              "      <td>B1602EEA</td>\n",
              "      <td>2017-04-18</td>\n",
              "    </tr>\n",
              "    <tr>\n",
              "      <th>2</th>\n",
              "      <td>00000050</td>\n",
              "      <td>DR A ALSINA</td>\n",
              "      <td>0002849</td>\n",
              "      <td></td>\n",
              "      <td></td>\n",
              "      <td></td>\n",
              "      <td></td>\n",
              "      <td>VICENTE LOPEZ</td>\n",
              "      <td>01602</td>\n",
              "      <td></td>\n",
              "      <td>2016-10-12</td>\n",
              "    </tr>\n",
              "    <tr>\n",
              "      <th>3</th>\n",
              "      <td>00000173</td>\n",
              "      <td>CALLE 150</td>\n",
              "      <td>0003726</td>\n",
              "      <td></td>\n",
              "      <td></td>\n",
              "      <td></td>\n",
              "      <td></td>\n",
              "      <td>BERAZATEGUI</td>\n",
              "      <td>01885</td>\n",
              "      <td></td>\n",
              "      <td>2016-10-12</td>\n",
              "    </tr>\n",
              "    <tr>\n",
              "      <th>4</th>\n",
              "      <td>00000173</td>\n",
              "      <td>CALLE 150</td>\n",
              "      <td>0003726</td>\n",
              "      <td></td>\n",
              "      <td></td>\n",
              "      <td></td>\n",
              "      <td></td>\n",
              "      <td>BERAZATEGUI</td>\n",
              "      <td>01885</td>\n",
              "      <td></td>\n",
              "      <td>2016-10-12</td>\n",
              "    </tr>\n",
              "    <tr>\n",
              "      <th>...</th>\n",
              "      <td>...</td>\n",
              "      <td>...</td>\n",
              "      <td>...</td>\n",
              "      <td>...</td>\n",
              "      <td>...</td>\n",
              "      <td>...</td>\n",
              "      <td>...</td>\n",
              "      <td>...</td>\n",
              "      <td>...</td>\n",
              "      <td>...</td>\n",
              "      <td>...</td>\n",
              "    </tr>\n",
              "    <tr>\n",
              "      <th>2495</th>\n",
              "      <td>29015563</td>\n",
              "      <td>IBANEZ TENIENTE 1 RO</td>\n",
              "      <td>0001355</td>\n",
              "      <td></td>\n",
              "      <td></td>\n",
              "      <td></td>\n",
              "      <td>BELLA VISTA</td>\n",
              "      <td>112233114455</td>\n",
              "      <td>01661</td>\n",
              "      <td></td>\n",
              "      <td>2009-01-26</td>\n",
              "    </tr>\n",
              "    <tr>\n",
              "      <th>2496</th>\n",
              "      <td>29015902</td>\n",
              "      <td>GARIBALDI</td>\n",
              "      <td>0001554</td>\n",
              "      <td></td>\n",
              "      <td></td>\n",
              "      <td></td>\n",
              "      <td>RAMOS MEJIA</td>\n",
              "      <td>LA MATANZA</td>\n",
              "      <td>01704</td>\n",
              "      <td>B1704IEH</td>\n",
              "      <td>2009-01-26</td>\n",
              "    </tr>\n",
              "    <tr>\n",
              "      <th>2497</th>\n",
              "      <td>29017100</td>\n",
              "      <td>DOMINGO MATHEU</td>\n",
              "      <td>0000972</td>\n",
              "      <td></td>\n",
              "      <td></td>\n",
              "      <td></td>\n",
              "      <td>CIUDAD AUTONOMA BUENOS AIRES</td>\n",
              "      <td>CAPITAL FEDERAL</td>\n",
              "      <td>01219</td>\n",
              "      <td>C1219AAH</td>\n",
              "      <td>2009-01-26</td>\n",
              "    </tr>\n",
              "    <tr>\n",
              "      <th>2498</th>\n",
              "      <td>29017191</td>\n",
              "      <td>VIRREY ARREDONDO</td>\n",
              "      <td>0002641</td>\n",
              "      <td>3</td>\n",
              "      <td>B</td>\n",
              "      <td></td>\n",
              "      <td>CIUDAD AUTONOMA BUENOS AIRES</td>\n",
              "      <td>CAPITAL FEDERAL</td>\n",
              "      <td>01426</td>\n",
              "      <td>C1426DZI</td>\n",
              "      <td>2009-01-26</td>\n",
              "    </tr>\n",
              "    <tr>\n",
              "      <th>2499</th>\n",
              "      <td>29022069</td>\n",
              "      <td>ACASSUSO</td>\n",
              "      <td>0002665</td>\n",
              "      <td></td>\n",
              "      <td></td>\n",
              "      <td></td>\n",
              "      <td>BECCAR</td>\n",
              "      <td>SAN ISIDRO</td>\n",
              "      <td>01643</td>\n",
              "      <td>B1643CPE</td>\n",
              "      <td>2009-01-26</td>\n",
              "    </tr>\n",
              "  </tbody>\n",
              "</table>\n",
              "<p>2500 rows × 11 columns</p>\n",
              "</div>\n",
              "      <button class=\"colab-df-convert\" onclick=\"convertToInteractive('df-a4a27d05-5a7a-454a-8f93-86fedfef1103')\"\n",
              "              title=\"Convert this dataframe to an interactive table.\"\n",
              "              style=\"display:none;\">\n",
              "        \n",
              "  <svg xmlns=\"http://www.w3.org/2000/svg\" height=\"24px\"viewBox=\"0 0 24 24\"\n",
              "       width=\"24px\">\n",
              "    <path d=\"M0 0h24v24H0V0z\" fill=\"none\"/>\n",
              "    <path d=\"M18.56 5.44l.94 2.06.94-2.06 2.06-.94-2.06-.94-.94-2.06-.94 2.06-2.06.94zm-11 1L8.5 8.5l.94-2.06 2.06-.94-2.06-.94L8.5 2.5l-.94 2.06-2.06.94zm10 10l.94 2.06.94-2.06 2.06-.94-2.06-.94-.94-2.06-.94 2.06-2.06.94z\"/><path d=\"M17.41 7.96l-1.37-1.37c-.4-.4-.92-.59-1.43-.59-.52 0-1.04.2-1.43.59L10.3 9.45l-7.72 7.72c-.78.78-.78 2.05 0 2.83L4 21.41c.39.39.9.59 1.41.59.51 0 1.02-.2 1.41-.59l7.78-7.78 2.81-2.81c.8-.78.8-2.07 0-2.86zM5.41 20L4 18.59l7.72-7.72 1.47 1.35L5.41 20z\"/>\n",
              "  </svg>\n",
              "      </button>\n",
              "      \n",
              "  <style>\n",
              "    .colab-df-container {\n",
              "      display:flex;\n",
              "      flex-wrap:wrap;\n",
              "      gap: 12px;\n",
              "    }\n",
              "\n",
              "    .colab-df-convert {\n",
              "      background-color: #E8F0FE;\n",
              "      border: none;\n",
              "      border-radius: 50%;\n",
              "      cursor: pointer;\n",
              "      display: none;\n",
              "      fill: #1967D2;\n",
              "      height: 32px;\n",
              "      padding: 0 0 0 0;\n",
              "      width: 32px;\n",
              "    }\n",
              "\n",
              "    .colab-df-convert:hover {\n",
              "      background-color: #E2EBFA;\n",
              "      box-shadow: 0px 1px 2px rgba(60, 64, 67, 0.3), 0px 1px 3px 1px rgba(60, 64, 67, 0.15);\n",
              "      fill: #174EA6;\n",
              "    }\n",
              "\n",
              "    [theme=dark] .colab-df-convert {\n",
              "      background-color: #3B4455;\n",
              "      fill: #D2E3FC;\n",
              "    }\n",
              "\n",
              "    [theme=dark] .colab-df-convert:hover {\n",
              "      background-color: #434B5C;\n",
              "      box-shadow: 0px 1px 3px 1px rgba(0, 0, 0, 0.15);\n",
              "      filter: drop-shadow(0px 1px 2px rgba(0, 0, 0, 0.3));\n",
              "      fill: #FFFFFF;\n",
              "    }\n",
              "  </style>\n",
              "\n",
              "      <script>\n",
              "        const buttonEl =\n",
              "          document.querySelector('#df-a4a27d05-5a7a-454a-8f93-86fedfef1103 button.colab-df-convert');\n",
              "        buttonEl.style.display =\n",
              "          google.colab.kernel.accessAllowed ? 'block' : 'none';\n",
              "\n",
              "        async function convertToInteractive(key) {\n",
              "          const element = document.querySelector('#df-a4a27d05-5a7a-454a-8f93-86fedfef1103');\n",
              "          const dataTable =\n",
              "            await google.colab.kernel.invokeFunction('convertToInteractive',\n",
              "                                                     [key], {});\n",
              "          if (!dataTable) return;\n",
              "\n",
              "          const docLinkHtml = 'Like what you see? Visit the ' +\n",
              "            '<a target=\"_blank\" href=https://colab.research.google.com/notebooks/data_table.ipynb>data table notebook</a>'\n",
              "            + ' to learn more about interactive tables.';\n",
              "          element.innerHTML = '';\n",
              "          dataTable['output_type'] = 'display_data';\n",
              "          await google.colab.output.renderOutput(dataTable, element);\n",
              "          const docLink = document.createElement('div');\n",
              "          docLink.innerHTML = docLinkHtml;\n",
              "          element.appendChild(docLink);\n",
              "        }\n",
              "      </script>\n",
              "    </div>\n",
              "  </div>\n",
              "  "
            ]
          },
          "metadata": {},
          "execution_count": 40
        }
      ]
    },
    {
      "cell_type": "code",
      "source": [
        "df_address_sorted = df_address_sorted.select('customer_id', concat(df_address_sorted.street_name,df_address_sorted.address_outdoor_id,df_address_sorted.address_indoor_id,df_address_sorted.indoor_number).alias('Full_Address'),'address_district_name','address_town_name','address_department_name','zipcode_id','long_zipcode_id','last_change_date')"
      ],
      "metadata": {
        "id": "OKCbfzQYkBVz"
      },
      "execution_count": 41,
      "outputs": []
    },
    {
      "cell_type": "code",
      "source": [
        "df_address_sorted.toPandas()"
      ],
      "metadata": {
        "colab": {
          "base_uri": "https://localhost:8080/",
          "height": 676
        },
        "id": "7_8NyKs3kWt8",
        "outputId": "3f59507d-8df5-4966-85d3-876f208773d1"
      },
      "execution_count": 42,
      "outputs": [
        {
          "output_type": "execute_result",
          "data": {
            "text/plain": [
              "     customer_id                                    Full_Address  \\\n",
              "0       00000003  AV PRES BARTOLOME MITRE 0001500                  \n",
              "1       00000050  DR A ALSINA             0002849                  \n",
              "2       00000050  DR A ALSINA             0002849                  \n",
              "3       00000173  CALLE 150               0003726                  \n",
              "4       00000173  CALLE 150               0003726                  \n",
              "...          ...                                             ...   \n",
              "2495    29015563  IBANEZ TENIENTE 1 RO    0001355                  \n",
              "2496    29015902  GARIBALDI               0001554                  \n",
              "2497    29017100  DOMINGO MATHEU          0000972                  \n",
              "2498    29017191  VIRREY ARREDONDO        00026413       B         \n",
              "2499    29022069  ACASSUSO                0002665                  \n",
              "\n",
              "               address_district_name               address_town_name  \\\n",
              "0                                     CRUCESITA                        \n",
              "1                                     FLORIDA                          \n",
              "2                                                                      \n",
              "3                                                                      \n",
              "4                                                                      \n",
              "...                              ...                             ...   \n",
              "2495                                  BELLA VISTA                      \n",
              "2496                                  RAMOS MEJIA                      \n",
              "2497                                  CIUDAD AUTONOMA BUENOS AIRES     \n",
              "2498                                  CIUDAD AUTONOMA BUENOS AIRES     \n",
              "2499                                  BECCAR                           \n",
              "\n",
              "             address_department_name zipcode_id long_zipcode_id  \\\n",
              "0     AVELLANEDA                          01870        B1873AMN   \n",
              "1     VICENTE LOPEZ                       01602        B1602EEA   \n",
              "2     VICENTE LOPEZ                       01602                   \n",
              "3     BERAZATEGUI                         01885                   \n",
              "4     BERAZATEGUI                         01885                   \n",
              "...                              ...        ...             ...   \n",
              "2495  112233114455                        01661                   \n",
              "2496  LA MATANZA                          01704        B1704IEH   \n",
              "2497  CAPITAL FEDERAL                     01219        C1219AAH   \n",
              "2498  CAPITAL FEDERAL                     01426        C1426DZI   \n",
              "2499  SAN ISIDRO                          01643        B1643CPE   \n",
              "\n",
              "     last_change_date  \n",
              "0          2011-09-07  \n",
              "1          2017-04-18  \n",
              "2          2016-10-12  \n",
              "3          2016-10-12  \n",
              "4          2016-10-12  \n",
              "...               ...  \n",
              "2495       2009-01-26  \n",
              "2496       2009-01-26  \n",
              "2497       2009-01-26  \n",
              "2498       2009-01-26  \n",
              "2499       2009-01-26  \n",
              "\n",
              "[2500 rows x 8 columns]"
            ],
            "text/html": [
              "\n",
              "  <div id=\"df-5e44f4df-da02-40c0-99a1-789532bbf1ef\">\n",
              "    <div class=\"colab-df-container\">\n",
              "      <div>\n",
              "<style scoped>\n",
              "    .dataframe tbody tr th:only-of-type {\n",
              "        vertical-align: middle;\n",
              "    }\n",
              "\n",
              "    .dataframe tbody tr th {\n",
              "        vertical-align: top;\n",
              "    }\n",
              "\n",
              "    .dataframe thead th {\n",
              "        text-align: right;\n",
              "    }\n",
              "</style>\n",
              "<table border=\"1\" class=\"dataframe\">\n",
              "  <thead>\n",
              "    <tr style=\"text-align: right;\">\n",
              "      <th></th>\n",
              "      <th>customer_id</th>\n",
              "      <th>Full_Address</th>\n",
              "      <th>address_district_name</th>\n",
              "      <th>address_town_name</th>\n",
              "      <th>address_department_name</th>\n",
              "      <th>zipcode_id</th>\n",
              "      <th>long_zipcode_id</th>\n",
              "      <th>last_change_date</th>\n",
              "    </tr>\n",
              "  </thead>\n",
              "  <tbody>\n",
              "    <tr>\n",
              "      <th>0</th>\n",
              "      <td>00000003</td>\n",
              "      <td>AV PRES BARTOLOME MITRE 0001500</td>\n",
              "      <td></td>\n",
              "      <td>CRUCESITA</td>\n",
              "      <td>AVELLANEDA</td>\n",
              "      <td>01870</td>\n",
              "      <td>B1873AMN</td>\n",
              "      <td>2011-09-07</td>\n",
              "    </tr>\n",
              "    <tr>\n",
              "      <th>1</th>\n",
              "      <td>00000050</td>\n",
              "      <td>DR A ALSINA             0002849</td>\n",
              "      <td></td>\n",
              "      <td>FLORIDA</td>\n",
              "      <td>VICENTE LOPEZ</td>\n",
              "      <td>01602</td>\n",
              "      <td>B1602EEA</td>\n",
              "      <td>2017-04-18</td>\n",
              "    </tr>\n",
              "    <tr>\n",
              "      <th>2</th>\n",
              "      <td>00000050</td>\n",
              "      <td>DR A ALSINA             0002849</td>\n",
              "      <td></td>\n",
              "      <td></td>\n",
              "      <td>VICENTE LOPEZ</td>\n",
              "      <td>01602</td>\n",
              "      <td></td>\n",
              "      <td>2016-10-12</td>\n",
              "    </tr>\n",
              "    <tr>\n",
              "      <th>3</th>\n",
              "      <td>00000173</td>\n",
              "      <td>CALLE 150               0003726</td>\n",
              "      <td></td>\n",
              "      <td></td>\n",
              "      <td>BERAZATEGUI</td>\n",
              "      <td>01885</td>\n",
              "      <td></td>\n",
              "      <td>2016-10-12</td>\n",
              "    </tr>\n",
              "    <tr>\n",
              "      <th>4</th>\n",
              "      <td>00000173</td>\n",
              "      <td>CALLE 150               0003726</td>\n",
              "      <td></td>\n",
              "      <td></td>\n",
              "      <td>BERAZATEGUI</td>\n",
              "      <td>01885</td>\n",
              "      <td></td>\n",
              "      <td>2016-10-12</td>\n",
              "    </tr>\n",
              "    <tr>\n",
              "      <th>...</th>\n",
              "      <td>...</td>\n",
              "      <td>...</td>\n",
              "      <td>...</td>\n",
              "      <td>...</td>\n",
              "      <td>...</td>\n",
              "      <td>...</td>\n",
              "      <td>...</td>\n",
              "      <td>...</td>\n",
              "    </tr>\n",
              "    <tr>\n",
              "      <th>2495</th>\n",
              "      <td>29015563</td>\n",
              "      <td>IBANEZ TENIENTE 1 RO    0001355</td>\n",
              "      <td></td>\n",
              "      <td>BELLA VISTA</td>\n",
              "      <td>112233114455</td>\n",
              "      <td>01661</td>\n",
              "      <td></td>\n",
              "      <td>2009-01-26</td>\n",
              "    </tr>\n",
              "    <tr>\n",
              "      <th>2496</th>\n",
              "      <td>29015902</td>\n",
              "      <td>GARIBALDI               0001554</td>\n",
              "      <td></td>\n",
              "      <td>RAMOS MEJIA</td>\n",
              "      <td>LA MATANZA</td>\n",
              "      <td>01704</td>\n",
              "      <td>B1704IEH</td>\n",
              "      <td>2009-01-26</td>\n",
              "    </tr>\n",
              "    <tr>\n",
              "      <th>2497</th>\n",
              "      <td>29017100</td>\n",
              "      <td>DOMINGO MATHEU          0000972</td>\n",
              "      <td></td>\n",
              "      <td>CIUDAD AUTONOMA BUENOS AIRES</td>\n",
              "      <td>CAPITAL FEDERAL</td>\n",
              "      <td>01219</td>\n",
              "      <td>C1219AAH</td>\n",
              "      <td>2009-01-26</td>\n",
              "    </tr>\n",
              "    <tr>\n",
              "      <th>2498</th>\n",
              "      <td>29017191</td>\n",
              "      <td>VIRREY ARREDONDO        00026413       B</td>\n",
              "      <td></td>\n",
              "      <td>CIUDAD AUTONOMA BUENOS AIRES</td>\n",
              "      <td>CAPITAL FEDERAL</td>\n",
              "      <td>01426</td>\n",
              "      <td>C1426DZI</td>\n",
              "      <td>2009-01-26</td>\n",
              "    </tr>\n",
              "    <tr>\n",
              "      <th>2499</th>\n",
              "      <td>29022069</td>\n",
              "      <td>ACASSUSO                0002665</td>\n",
              "      <td></td>\n",
              "      <td>BECCAR</td>\n",
              "      <td>SAN ISIDRO</td>\n",
              "      <td>01643</td>\n",
              "      <td>B1643CPE</td>\n",
              "      <td>2009-01-26</td>\n",
              "    </tr>\n",
              "  </tbody>\n",
              "</table>\n",
              "<p>2500 rows × 8 columns</p>\n",
              "</div>\n",
              "      <button class=\"colab-df-convert\" onclick=\"convertToInteractive('df-5e44f4df-da02-40c0-99a1-789532bbf1ef')\"\n",
              "              title=\"Convert this dataframe to an interactive table.\"\n",
              "              style=\"display:none;\">\n",
              "        \n",
              "  <svg xmlns=\"http://www.w3.org/2000/svg\" height=\"24px\"viewBox=\"0 0 24 24\"\n",
              "       width=\"24px\">\n",
              "    <path d=\"M0 0h24v24H0V0z\" fill=\"none\"/>\n",
              "    <path d=\"M18.56 5.44l.94 2.06.94-2.06 2.06-.94-2.06-.94-.94-2.06-.94 2.06-2.06.94zm-11 1L8.5 8.5l.94-2.06 2.06-.94-2.06-.94L8.5 2.5l-.94 2.06-2.06.94zm10 10l.94 2.06.94-2.06 2.06-.94-2.06-.94-.94-2.06-.94 2.06-2.06.94z\"/><path d=\"M17.41 7.96l-1.37-1.37c-.4-.4-.92-.59-1.43-.59-.52 0-1.04.2-1.43.59L10.3 9.45l-7.72 7.72c-.78.78-.78 2.05 0 2.83L4 21.41c.39.39.9.59 1.41.59.51 0 1.02-.2 1.41-.59l7.78-7.78 2.81-2.81c.8-.78.8-2.07 0-2.86zM5.41 20L4 18.59l7.72-7.72 1.47 1.35L5.41 20z\"/>\n",
              "  </svg>\n",
              "      </button>\n",
              "      \n",
              "  <style>\n",
              "    .colab-df-container {\n",
              "      display:flex;\n",
              "      flex-wrap:wrap;\n",
              "      gap: 12px;\n",
              "    }\n",
              "\n",
              "    .colab-df-convert {\n",
              "      background-color: #E8F0FE;\n",
              "      border: none;\n",
              "      border-radius: 50%;\n",
              "      cursor: pointer;\n",
              "      display: none;\n",
              "      fill: #1967D2;\n",
              "      height: 32px;\n",
              "      padding: 0 0 0 0;\n",
              "      width: 32px;\n",
              "    }\n",
              "\n",
              "    .colab-df-convert:hover {\n",
              "      background-color: #E2EBFA;\n",
              "      box-shadow: 0px 1px 2px rgba(60, 64, 67, 0.3), 0px 1px 3px 1px rgba(60, 64, 67, 0.15);\n",
              "      fill: #174EA6;\n",
              "    }\n",
              "\n",
              "    [theme=dark] .colab-df-convert {\n",
              "      background-color: #3B4455;\n",
              "      fill: #D2E3FC;\n",
              "    }\n",
              "\n",
              "    [theme=dark] .colab-df-convert:hover {\n",
              "      background-color: #434B5C;\n",
              "      box-shadow: 0px 1px 3px 1px rgba(0, 0, 0, 0.15);\n",
              "      filter: drop-shadow(0px 1px 2px rgba(0, 0, 0, 0.3));\n",
              "      fill: #FFFFFF;\n",
              "    }\n",
              "  </style>\n",
              "\n",
              "      <script>\n",
              "        const buttonEl =\n",
              "          document.querySelector('#df-5e44f4df-da02-40c0-99a1-789532bbf1ef button.colab-df-convert');\n",
              "        buttonEl.style.display =\n",
              "          google.colab.kernel.accessAllowed ? 'block' : 'none';\n",
              "\n",
              "        async function convertToInteractive(key) {\n",
              "          const element = document.querySelector('#df-5e44f4df-da02-40c0-99a1-789532bbf1ef');\n",
              "          const dataTable =\n",
              "            await google.colab.kernel.invokeFunction('convertToInteractive',\n",
              "                                                     [key], {});\n",
              "          if (!dataTable) return;\n",
              "\n",
              "          const docLinkHtml = 'Like what you see? Visit the ' +\n",
              "            '<a target=\"_blank\" href=https://colab.research.google.com/notebooks/data_table.ipynb>data table notebook</a>'\n",
              "            + ' to learn more about interactive tables.';\n",
              "          element.innerHTML = '';\n",
              "          dataTable['output_type'] = 'display_data';\n",
              "          await google.colab.output.renderOutput(dataTable, element);\n",
              "          const docLink = document.createElement('div');\n",
              "          docLink.innerHTML = docLinkHtml;\n",
              "          element.appendChild(docLink);\n",
              "        }\n",
              "      </script>\n",
              "    </div>\n",
              "  </div>\n",
              "  "
            ]
          },
          "metadata": {},
          "execution_count": 42
        }
      ]
    },
    {
      "cell_type": "code",
      "source": [
        "window = Window.partitionBy(df_address_sorted.customer_id).orderBy(desc(df_address_sorted.last_change_date))"
      ],
      "metadata": {
        "id": "xIHacG3EkWlc"
      },
      "execution_count": 43,
      "outputs": []
    },
    {
      "cell_type": "code",
      "source": [
        "df_address = df_address_sorted.withColumn('row_num', row_number().over(window))"
      ],
      "metadata": {
        "id": "tVXYPItzkWhA"
      },
      "execution_count": 44,
      "outputs": []
    },
    {
      "cell_type": "code",
      "source": [
        "df_address = df_address.filter(df_address.row_num <= 3)\n",
        "df_address.toPandas()"
      ],
      "metadata": {
        "colab": {
          "base_uri": "https://localhost:8080/",
          "height": 748
        },
        "id": "uA3bWGtokWY5",
        "outputId": "cb0d38e7-38bd-4b52-d0d5-4f17a93cebef"
      },
      "execution_count": 45,
      "outputs": [
        {
          "output_type": "execute_result",
          "data": {
            "text/plain": [
              "     customer_id                                    Full_Address  \\\n",
              "0       00000003  AV PRES BARTOLOME MITRE 0001500                  \n",
              "1       00000050  DR A ALSINA             0002849                  \n",
              "2       00000050  DR A ALSINA             0002849                  \n",
              "3       00000173  CALLE 150               0003726                  \n",
              "4       00000173  CALLE 150               0003726                  \n",
              "...          ...                                             ...   \n",
              "2478    29015563  IBANEZ TENIENTE 1 RO    0001355                  \n",
              "2479    29015902  GARIBALDI               0001554                  \n",
              "2480    29017100  DOMINGO MATHEU          0000972                  \n",
              "2481    29017191  VIRREY ARREDONDO        00026413       B         \n",
              "2482    29022069  ACASSUSO                0002665                  \n",
              "\n",
              "               address_district_name               address_town_name  \\\n",
              "0                                     CRUCESITA                        \n",
              "1                                     FLORIDA                          \n",
              "2                                                                      \n",
              "3                                                                      \n",
              "4                                                                      \n",
              "...                              ...                             ...   \n",
              "2478                                  BELLA VISTA                      \n",
              "2479                                  RAMOS MEJIA                      \n",
              "2480                                  CIUDAD AUTONOMA BUENOS AIRES     \n",
              "2481                                  CIUDAD AUTONOMA BUENOS AIRES     \n",
              "2482                                  BECCAR                           \n",
              "\n",
              "             address_department_name zipcode_id long_zipcode_id  \\\n",
              "0     AVELLANEDA                          01870        B1873AMN   \n",
              "1     VICENTE LOPEZ                       01602        B1602EEA   \n",
              "2     VICENTE LOPEZ                       01602                   \n",
              "3     BERAZATEGUI                         01885                   \n",
              "4     BERAZATEGUI                         01885                   \n",
              "...                              ...        ...             ...   \n",
              "2478  112233114455                        01661                   \n",
              "2479  LA MATANZA                          01704        B1704IEH   \n",
              "2480  CAPITAL FEDERAL                     01219        C1219AAH   \n",
              "2481  CAPITAL FEDERAL                     01426        C1426DZI   \n",
              "2482  SAN ISIDRO                          01643        B1643CPE   \n",
              "\n",
              "     last_change_date  row_num  \n",
              "0          2011-09-07        1  \n",
              "1          2017-04-18        1  \n",
              "2          2016-10-12        2  \n",
              "3          2016-10-12        1  \n",
              "4          2016-10-12        2  \n",
              "...               ...      ...  \n",
              "2478       2009-01-26        1  \n",
              "2479       2009-01-26        1  \n",
              "2480       2009-01-26        1  \n",
              "2481       2009-01-26        1  \n",
              "2482       2009-01-26        1  \n",
              "\n",
              "[2483 rows x 9 columns]"
            ],
            "text/html": [
              "\n",
              "  <div id=\"df-2de880ad-b106-49bb-a581-12750f0bd187\">\n",
              "    <div class=\"colab-df-container\">\n",
              "      <div>\n",
              "<style scoped>\n",
              "    .dataframe tbody tr th:only-of-type {\n",
              "        vertical-align: middle;\n",
              "    }\n",
              "\n",
              "    .dataframe tbody tr th {\n",
              "        vertical-align: top;\n",
              "    }\n",
              "\n",
              "    .dataframe thead th {\n",
              "        text-align: right;\n",
              "    }\n",
              "</style>\n",
              "<table border=\"1\" class=\"dataframe\">\n",
              "  <thead>\n",
              "    <tr style=\"text-align: right;\">\n",
              "      <th></th>\n",
              "      <th>customer_id</th>\n",
              "      <th>Full_Address</th>\n",
              "      <th>address_district_name</th>\n",
              "      <th>address_town_name</th>\n",
              "      <th>address_department_name</th>\n",
              "      <th>zipcode_id</th>\n",
              "      <th>long_zipcode_id</th>\n",
              "      <th>last_change_date</th>\n",
              "      <th>row_num</th>\n",
              "    </tr>\n",
              "  </thead>\n",
              "  <tbody>\n",
              "    <tr>\n",
              "      <th>0</th>\n",
              "      <td>00000003</td>\n",
              "      <td>AV PRES BARTOLOME MITRE 0001500</td>\n",
              "      <td></td>\n",
              "      <td>CRUCESITA</td>\n",
              "      <td>AVELLANEDA</td>\n",
              "      <td>01870</td>\n",
              "      <td>B1873AMN</td>\n",
              "      <td>2011-09-07</td>\n",
              "      <td>1</td>\n",
              "    </tr>\n",
              "    <tr>\n",
              "      <th>1</th>\n",
              "      <td>00000050</td>\n",
              "      <td>DR A ALSINA             0002849</td>\n",
              "      <td></td>\n",
              "      <td>FLORIDA</td>\n",
              "      <td>VICENTE LOPEZ</td>\n",
              "      <td>01602</td>\n",
              "      <td>B1602EEA</td>\n",
              "      <td>2017-04-18</td>\n",
              "      <td>1</td>\n",
              "    </tr>\n",
              "    <tr>\n",
              "      <th>2</th>\n",
              "      <td>00000050</td>\n",
              "      <td>DR A ALSINA             0002849</td>\n",
              "      <td></td>\n",
              "      <td></td>\n",
              "      <td>VICENTE LOPEZ</td>\n",
              "      <td>01602</td>\n",
              "      <td></td>\n",
              "      <td>2016-10-12</td>\n",
              "      <td>2</td>\n",
              "    </tr>\n",
              "    <tr>\n",
              "      <th>3</th>\n",
              "      <td>00000173</td>\n",
              "      <td>CALLE 150               0003726</td>\n",
              "      <td></td>\n",
              "      <td></td>\n",
              "      <td>BERAZATEGUI</td>\n",
              "      <td>01885</td>\n",
              "      <td></td>\n",
              "      <td>2016-10-12</td>\n",
              "      <td>1</td>\n",
              "    </tr>\n",
              "    <tr>\n",
              "      <th>4</th>\n",
              "      <td>00000173</td>\n",
              "      <td>CALLE 150               0003726</td>\n",
              "      <td></td>\n",
              "      <td></td>\n",
              "      <td>BERAZATEGUI</td>\n",
              "      <td>01885</td>\n",
              "      <td></td>\n",
              "      <td>2016-10-12</td>\n",
              "      <td>2</td>\n",
              "    </tr>\n",
              "    <tr>\n",
              "      <th>...</th>\n",
              "      <td>...</td>\n",
              "      <td>...</td>\n",
              "      <td>...</td>\n",
              "      <td>...</td>\n",
              "      <td>...</td>\n",
              "      <td>...</td>\n",
              "      <td>...</td>\n",
              "      <td>...</td>\n",
              "      <td>...</td>\n",
              "    </tr>\n",
              "    <tr>\n",
              "      <th>2478</th>\n",
              "      <td>29015563</td>\n",
              "      <td>IBANEZ TENIENTE 1 RO    0001355</td>\n",
              "      <td></td>\n",
              "      <td>BELLA VISTA</td>\n",
              "      <td>112233114455</td>\n",
              "      <td>01661</td>\n",
              "      <td></td>\n",
              "      <td>2009-01-26</td>\n",
              "      <td>1</td>\n",
              "    </tr>\n",
              "    <tr>\n",
              "      <th>2479</th>\n",
              "      <td>29015902</td>\n",
              "      <td>GARIBALDI               0001554</td>\n",
              "      <td></td>\n",
              "      <td>RAMOS MEJIA</td>\n",
              "      <td>LA MATANZA</td>\n",
              "      <td>01704</td>\n",
              "      <td>B1704IEH</td>\n",
              "      <td>2009-01-26</td>\n",
              "      <td>1</td>\n",
              "    </tr>\n",
              "    <tr>\n",
              "      <th>2480</th>\n",
              "      <td>29017100</td>\n",
              "      <td>DOMINGO MATHEU          0000972</td>\n",
              "      <td></td>\n",
              "      <td>CIUDAD AUTONOMA BUENOS AIRES</td>\n",
              "      <td>CAPITAL FEDERAL</td>\n",
              "      <td>01219</td>\n",
              "      <td>C1219AAH</td>\n",
              "      <td>2009-01-26</td>\n",
              "      <td>1</td>\n",
              "    </tr>\n",
              "    <tr>\n",
              "      <th>2481</th>\n",
              "      <td>29017191</td>\n",
              "      <td>VIRREY ARREDONDO        00026413       B</td>\n",
              "      <td></td>\n",
              "      <td>CIUDAD AUTONOMA BUENOS AIRES</td>\n",
              "      <td>CAPITAL FEDERAL</td>\n",
              "      <td>01426</td>\n",
              "      <td>C1426DZI</td>\n",
              "      <td>2009-01-26</td>\n",
              "      <td>1</td>\n",
              "    </tr>\n",
              "    <tr>\n",
              "      <th>2482</th>\n",
              "      <td>29022069</td>\n",
              "      <td>ACASSUSO                0002665</td>\n",
              "      <td></td>\n",
              "      <td>BECCAR</td>\n",
              "      <td>SAN ISIDRO</td>\n",
              "      <td>01643</td>\n",
              "      <td>B1643CPE</td>\n",
              "      <td>2009-01-26</td>\n",
              "      <td>1</td>\n",
              "    </tr>\n",
              "  </tbody>\n",
              "</table>\n",
              "<p>2483 rows × 9 columns</p>\n",
              "</div>\n",
              "      <button class=\"colab-df-convert\" onclick=\"convertToInteractive('df-2de880ad-b106-49bb-a581-12750f0bd187')\"\n",
              "              title=\"Convert this dataframe to an interactive table.\"\n",
              "              style=\"display:none;\">\n",
              "        \n",
              "  <svg xmlns=\"http://www.w3.org/2000/svg\" height=\"24px\"viewBox=\"0 0 24 24\"\n",
              "       width=\"24px\">\n",
              "    <path d=\"M0 0h24v24H0V0z\" fill=\"none\"/>\n",
              "    <path d=\"M18.56 5.44l.94 2.06.94-2.06 2.06-.94-2.06-.94-.94-2.06-.94 2.06-2.06.94zm-11 1L8.5 8.5l.94-2.06 2.06-.94-2.06-.94L8.5 2.5l-.94 2.06-2.06.94zm10 10l.94 2.06.94-2.06 2.06-.94-2.06-.94-.94-2.06-.94 2.06-2.06.94z\"/><path d=\"M17.41 7.96l-1.37-1.37c-.4-.4-.92-.59-1.43-.59-.52 0-1.04.2-1.43.59L10.3 9.45l-7.72 7.72c-.78.78-.78 2.05 0 2.83L4 21.41c.39.39.9.59 1.41.59.51 0 1.02-.2 1.41-.59l7.78-7.78 2.81-2.81c.8-.78.8-2.07 0-2.86zM5.41 20L4 18.59l7.72-7.72 1.47 1.35L5.41 20z\"/>\n",
              "  </svg>\n",
              "      </button>\n",
              "      \n",
              "  <style>\n",
              "    .colab-df-container {\n",
              "      display:flex;\n",
              "      flex-wrap:wrap;\n",
              "      gap: 12px;\n",
              "    }\n",
              "\n",
              "    .colab-df-convert {\n",
              "      background-color: #E8F0FE;\n",
              "      border: none;\n",
              "      border-radius: 50%;\n",
              "      cursor: pointer;\n",
              "      display: none;\n",
              "      fill: #1967D2;\n",
              "      height: 32px;\n",
              "      padding: 0 0 0 0;\n",
              "      width: 32px;\n",
              "    }\n",
              "\n",
              "    .colab-df-convert:hover {\n",
              "      background-color: #E2EBFA;\n",
              "      box-shadow: 0px 1px 2px rgba(60, 64, 67, 0.3), 0px 1px 3px 1px rgba(60, 64, 67, 0.15);\n",
              "      fill: #174EA6;\n",
              "    }\n",
              "\n",
              "    [theme=dark] .colab-df-convert {\n",
              "      background-color: #3B4455;\n",
              "      fill: #D2E3FC;\n",
              "    }\n",
              "\n",
              "    [theme=dark] .colab-df-convert:hover {\n",
              "      background-color: #434B5C;\n",
              "      box-shadow: 0px 1px 3px 1px rgba(0, 0, 0, 0.15);\n",
              "      filter: drop-shadow(0px 1px 2px rgba(0, 0, 0, 0.3));\n",
              "      fill: #FFFFFF;\n",
              "    }\n",
              "  </style>\n",
              "\n",
              "      <script>\n",
              "        const buttonEl =\n",
              "          document.querySelector('#df-2de880ad-b106-49bb-a581-12750f0bd187 button.colab-df-convert');\n",
              "        buttonEl.style.display =\n",
              "          google.colab.kernel.accessAllowed ? 'block' : 'none';\n",
              "\n",
              "        async function convertToInteractive(key) {\n",
              "          const element = document.querySelector('#df-2de880ad-b106-49bb-a581-12750f0bd187');\n",
              "          const dataTable =\n",
              "            await google.colab.kernel.invokeFunction('convertToInteractive',\n",
              "                                                     [key], {});\n",
              "          if (!dataTable) return;\n",
              "\n",
              "          const docLinkHtml = 'Like what you see? Visit the ' +\n",
              "            '<a target=\"_blank\" href=https://colab.research.google.com/notebooks/data_table.ipynb>data table notebook</a>'\n",
              "            + ' to learn more about interactive tables.';\n",
              "          element.innerHTML = '';\n",
              "          dataTable['output_type'] = 'display_data';\n",
              "          await google.colab.output.renderOutput(dataTable, element);\n",
              "          const docLink = document.createElement('div');\n",
              "          docLink.innerHTML = docLinkHtml;\n",
              "          element.appendChild(docLink);\n",
              "        }\n",
              "      </script>\n",
              "    </div>\n",
              "  </div>\n",
              "  "
            ]
          },
          "metadata": {},
          "execution_count": 45
        }
      ]
    },
    {
      "cell_type": "code",
      "source": [
        "df_pivot_address = df_address.groupBy('customer_id').agg(collect_list('Full_Address').alias('last_3_changes_list'))"
      ],
      "metadata": {
        "id": "keD0skbYkixC"
      },
      "execution_count": 46,
      "outputs": []
    },
    {
      "cell_type": "code",
      "source": [
        "df_pivot_address = df_pivot_address.selectExpr('customer_id', 'last_3_changes_list[0] as Address_1', 'last_3_changes_list[1] as Address_2', 'last_3_changes_list[2] as Address_3')"
      ],
      "metadata": {
        "id": "Vd_OLT0GkiqO"
      },
      "execution_count": 47,
      "outputs": []
    },
    {
      "cell_type": "code",
      "source": [
        "df_pivot_address = df_pivot_address.na.fill('---')\n",
        "df_pivot_address.toPandas()"
      ],
      "metadata": {
        "colab": {
          "base_uri": "https://localhost:8080/",
          "height": 424
        },
        "id": "W2gd1uZLkiiL",
        "outputId": "2bd6586d-8ede-4c61-9e19-556992351c58"
      },
      "execution_count": 48,
      "outputs": [
        {
          "output_type": "execute_result",
          "data": {
            "text/plain": [
              "     customer_id                                       Address_1  \\\n",
              "0       00000003  AV PRES BARTOLOME MITRE 0001500                  \n",
              "1       00000050  DR A ALSINA             0002849                  \n",
              "2       00000173  CALLE 150               0003726                  \n",
              "3       00000188  CALLE 156               0004344                  \n",
              "4       00000204  GRAL PINTO              0002441                  \n",
              "...          ...                                             ...   \n",
              "2395    29015563  IBANEZ TENIENTE 1 RO    0001355                  \n",
              "2396    29015902  GARIBALDI               0001554                  \n",
              "2397    29017100  DOMINGO MATHEU          0000972                  \n",
              "2398    29017191  VIRREY ARREDONDO        00026413       B         \n",
              "2399    29022069  ACASSUSO                0002665                  \n",
              "\n",
              "                                           Address_2  \\\n",
              "0                                                ---   \n",
              "1     DR A ALSINA             0002849                  \n",
              "2     CALLE 150               0003726                  \n",
              "3                                                ---   \n",
              "4                                                ---   \n",
              "...                                              ...   \n",
              "2395                                             ---   \n",
              "2396                                             ---   \n",
              "2397                                             ---   \n",
              "2398                                             ---   \n",
              "2399                                             ---   \n",
              "\n",
              "                                           Address_3  \n",
              "0                                                ---  \n",
              "1                                                ---  \n",
              "2     CALLE 150               0003726                 \n",
              "3                                                ---  \n",
              "4                                                ---  \n",
              "...                                              ...  \n",
              "2395                                             ---  \n",
              "2396                                             ---  \n",
              "2397                                             ---  \n",
              "2398                                             ---  \n",
              "2399                                             ---  \n",
              "\n",
              "[2400 rows x 4 columns]"
            ],
            "text/html": [
              "\n",
              "  <div id=\"df-99208531-27a6-40c8-bab6-f95135f5543b\">\n",
              "    <div class=\"colab-df-container\">\n",
              "      <div>\n",
              "<style scoped>\n",
              "    .dataframe tbody tr th:only-of-type {\n",
              "        vertical-align: middle;\n",
              "    }\n",
              "\n",
              "    .dataframe tbody tr th {\n",
              "        vertical-align: top;\n",
              "    }\n",
              "\n",
              "    .dataframe thead th {\n",
              "        text-align: right;\n",
              "    }\n",
              "</style>\n",
              "<table border=\"1\" class=\"dataframe\">\n",
              "  <thead>\n",
              "    <tr style=\"text-align: right;\">\n",
              "      <th></th>\n",
              "      <th>customer_id</th>\n",
              "      <th>Address_1</th>\n",
              "      <th>Address_2</th>\n",
              "      <th>Address_3</th>\n",
              "    </tr>\n",
              "  </thead>\n",
              "  <tbody>\n",
              "    <tr>\n",
              "      <th>0</th>\n",
              "      <td>00000003</td>\n",
              "      <td>AV PRES BARTOLOME MITRE 0001500</td>\n",
              "      <td>---</td>\n",
              "      <td>---</td>\n",
              "    </tr>\n",
              "    <tr>\n",
              "      <th>1</th>\n",
              "      <td>00000050</td>\n",
              "      <td>DR A ALSINA             0002849</td>\n",
              "      <td>DR A ALSINA             0002849</td>\n",
              "      <td>---</td>\n",
              "    </tr>\n",
              "    <tr>\n",
              "      <th>2</th>\n",
              "      <td>00000173</td>\n",
              "      <td>CALLE 150               0003726</td>\n",
              "      <td>CALLE 150               0003726</td>\n",
              "      <td>CALLE 150               0003726</td>\n",
              "    </tr>\n",
              "    <tr>\n",
              "      <th>3</th>\n",
              "      <td>00000188</td>\n",
              "      <td>CALLE 156               0004344</td>\n",
              "      <td>---</td>\n",
              "      <td>---</td>\n",
              "    </tr>\n",
              "    <tr>\n",
              "      <th>4</th>\n",
              "      <td>00000204</td>\n",
              "      <td>GRAL PINTO              0002441</td>\n",
              "      <td>---</td>\n",
              "      <td>---</td>\n",
              "    </tr>\n",
              "    <tr>\n",
              "      <th>...</th>\n",
              "      <td>...</td>\n",
              "      <td>...</td>\n",
              "      <td>...</td>\n",
              "      <td>...</td>\n",
              "    </tr>\n",
              "    <tr>\n",
              "      <th>2395</th>\n",
              "      <td>29015563</td>\n",
              "      <td>IBANEZ TENIENTE 1 RO    0001355</td>\n",
              "      <td>---</td>\n",
              "      <td>---</td>\n",
              "    </tr>\n",
              "    <tr>\n",
              "      <th>2396</th>\n",
              "      <td>29015902</td>\n",
              "      <td>GARIBALDI               0001554</td>\n",
              "      <td>---</td>\n",
              "      <td>---</td>\n",
              "    </tr>\n",
              "    <tr>\n",
              "      <th>2397</th>\n",
              "      <td>29017100</td>\n",
              "      <td>DOMINGO MATHEU          0000972</td>\n",
              "      <td>---</td>\n",
              "      <td>---</td>\n",
              "    </tr>\n",
              "    <tr>\n",
              "      <th>2398</th>\n",
              "      <td>29017191</td>\n",
              "      <td>VIRREY ARREDONDO        00026413       B</td>\n",
              "      <td>---</td>\n",
              "      <td>---</td>\n",
              "    </tr>\n",
              "    <tr>\n",
              "      <th>2399</th>\n",
              "      <td>29022069</td>\n",
              "      <td>ACASSUSO                0002665</td>\n",
              "      <td>---</td>\n",
              "      <td>---</td>\n",
              "    </tr>\n",
              "  </tbody>\n",
              "</table>\n",
              "<p>2400 rows × 4 columns</p>\n",
              "</div>\n",
              "      <button class=\"colab-df-convert\" onclick=\"convertToInteractive('df-99208531-27a6-40c8-bab6-f95135f5543b')\"\n",
              "              title=\"Convert this dataframe to an interactive table.\"\n",
              "              style=\"display:none;\">\n",
              "        \n",
              "  <svg xmlns=\"http://www.w3.org/2000/svg\" height=\"24px\"viewBox=\"0 0 24 24\"\n",
              "       width=\"24px\">\n",
              "    <path d=\"M0 0h24v24H0V0z\" fill=\"none\"/>\n",
              "    <path d=\"M18.56 5.44l.94 2.06.94-2.06 2.06-.94-2.06-.94-.94-2.06-.94 2.06-2.06.94zm-11 1L8.5 8.5l.94-2.06 2.06-.94-2.06-.94L8.5 2.5l-.94 2.06-2.06.94zm10 10l.94 2.06.94-2.06 2.06-.94-2.06-.94-.94-2.06-.94 2.06-2.06.94z\"/><path d=\"M17.41 7.96l-1.37-1.37c-.4-.4-.92-.59-1.43-.59-.52 0-1.04.2-1.43.59L10.3 9.45l-7.72 7.72c-.78.78-.78 2.05 0 2.83L4 21.41c.39.39.9.59 1.41.59.51 0 1.02-.2 1.41-.59l7.78-7.78 2.81-2.81c.8-.78.8-2.07 0-2.86zM5.41 20L4 18.59l7.72-7.72 1.47 1.35L5.41 20z\"/>\n",
              "  </svg>\n",
              "      </button>\n",
              "      \n",
              "  <style>\n",
              "    .colab-df-container {\n",
              "      display:flex;\n",
              "      flex-wrap:wrap;\n",
              "      gap: 12px;\n",
              "    }\n",
              "\n",
              "    .colab-df-convert {\n",
              "      background-color: #E8F0FE;\n",
              "      border: none;\n",
              "      border-radius: 50%;\n",
              "      cursor: pointer;\n",
              "      display: none;\n",
              "      fill: #1967D2;\n",
              "      height: 32px;\n",
              "      padding: 0 0 0 0;\n",
              "      width: 32px;\n",
              "    }\n",
              "\n",
              "    .colab-df-convert:hover {\n",
              "      background-color: #E2EBFA;\n",
              "      box-shadow: 0px 1px 2px rgba(60, 64, 67, 0.3), 0px 1px 3px 1px rgba(60, 64, 67, 0.15);\n",
              "      fill: #174EA6;\n",
              "    }\n",
              "\n",
              "    [theme=dark] .colab-df-convert {\n",
              "      background-color: #3B4455;\n",
              "      fill: #D2E3FC;\n",
              "    }\n",
              "\n",
              "    [theme=dark] .colab-df-convert:hover {\n",
              "      background-color: #434B5C;\n",
              "      box-shadow: 0px 1px 3px 1px rgba(0, 0, 0, 0.15);\n",
              "      filter: drop-shadow(0px 1px 2px rgba(0, 0, 0, 0.3));\n",
              "      fill: #FFFFFF;\n",
              "    }\n",
              "  </style>\n",
              "\n",
              "      <script>\n",
              "        const buttonEl =\n",
              "          document.querySelector('#df-99208531-27a6-40c8-bab6-f95135f5543b button.colab-df-convert');\n",
              "        buttonEl.style.display =\n",
              "          google.colab.kernel.accessAllowed ? 'block' : 'none';\n",
              "\n",
              "        async function convertToInteractive(key) {\n",
              "          const element = document.querySelector('#df-99208531-27a6-40c8-bab6-f95135f5543b');\n",
              "          const dataTable =\n",
              "            await google.colab.kernel.invokeFunction('convertToInteractive',\n",
              "                                                     [key], {});\n",
              "          if (!dataTable) return;\n",
              "\n",
              "          const docLinkHtml = 'Like what you see? Visit the ' +\n",
              "            '<a target=\"_blank\" href=https://colab.research.google.com/notebooks/data_table.ipynb>data table notebook</a>'\n",
              "            + ' to learn more about interactive tables.';\n",
              "          element.innerHTML = '';\n",
              "          dataTable['output_type'] = 'display_data';\n",
              "          await google.colab.output.renderOutput(dataTable, element);\n",
              "          const docLink = document.createElement('div');\n",
              "          docLink.innerHTML = docLinkHtml;\n",
              "          element.appendChild(docLink);\n",
              "        }\n",
              "      </script>\n",
              "    </div>\n",
              "  </div>\n",
              "  "
            ]
          },
          "metadata": {},
          "execution_count": 48
        }
      ]
    },
    {
      "cell_type": "markdown",
      "source": [
        "#Agregar una nueva columna a los DataFrame de contactos, indicando el contact_type según corresponda (address, email, phone)"
      ],
      "metadata": {
        "id": "YiGoATa6SagJ"
      }
    },
    {
      "cell_type": "code",
      "source": [
        "from pyspark.sql.functions import lit"
      ],
      "metadata": {
        "id": "1FxxmbO8Sg4-"
      },
      "execution_count": 49,
      "outputs": []
    },
    {
      "cell_type": "code",
      "source": [
        "df_phones_contact_col = df_phones.withColumn('contact_type_phones', lit('phone'))"
      ],
      "metadata": {
        "id": "SEQYNdONpOYH"
      },
      "execution_count": 50,
      "outputs": []
    },
    {
      "cell_type": "code",
      "source": [
        "df_phones_contact_col.select('customer_id','contact_type_phones',).show()"
      ],
      "metadata": {
        "colab": {
          "base_uri": "https://localhost:8080/"
        },
        "id": "tns_tzaCplHU",
        "outputId": "ee666c7c-1f8f-41c4-903d-82f038da7ce8"
      },
      "execution_count": 51,
      "outputs": [
        {
          "output_type": "stream",
          "name": "stdout",
          "text": [
            "+-----------+-------------------+\n",
            "|customer_id|contact_type_phones|\n",
            "+-----------+-------------------+\n",
            "|   29354201|              phone|\n",
            "|   29389432|              phone|\n",
            "|   29382041|              phone|\n",
            "|   07395331|              phone|\n",
            "|   29349520|              phone|\n",
            "|   29349520|              phone|\n",
            "|   29390571|              phone|\n",
            "|   29353393|              phone|\n",
            "|   29387501|              phone|\n",
            "|   29391432|              phone|\n",
            "|   29390553|              phone|\n",
            "|   29389361|              phone|\n",
            "|   29400313|              phone|\n",
            "|   29401025|              phone|\n",
            "|   29401299|              phone|\n",
            "|   29325999|              phone|\n",
            "|   29402665|              phone|\n",
            "|   29402665|              phone|\n",
            "|   29375587|              phone|\n",
            "|   29375587|              phone|\n",
            "+-----------+-------------------+\n",
            "only showing top 20 rows\n",
            "\n"
          ]
        }
      ]
    },
    {
      "cell_type": "code",
      "source": [
        "df_emails_contact_col = df_emails.withColumn('contact_type_emails', lit('e-mail'))\n",
        "df_emails.show()"
      ],
      "metadata": {
        "colab": {
          "base_uri": "https://localhost:8080/"
        },
        "id": "S_2ANqSYanU3",
        "outputId": "19c56012-d805-4090-f0ad-16a40e41ab82"
      },
      "execution_count": 52,
      "outputs": [
        {
          "output_type": "stream",
          "name": "stdout",
          "text": [
            "+-----------+---------+-------------------+--------------+----------+------------------+--------------------+-----------------+--------------+-------------------+----------------+--------------------------+--------------+----------------+-------------------+--------------------+-----------------------+---------------------+--------------------------+-------------------+----------------+\n",
            "|customer_id|role_type|address_sequence_id|residence_type|email_type|primary_email_type|          email_desc|email_domain_type|encripted_type|field_length_number|   comments_desc|customer_email_status_type|email_app_type|register_user_id|last_change_user_id|last_change_hms_date|last_change_terminal_id|operational_load_date|customer_email_status_date|registry_entry_date|last_change_date|\n",
            "+-----------+---------+-------------------+--------------+----------+------------------+--------------------+-----------------+--------------+-------------------+----------------+--------------------------+--------------+----------------+-------------------+--------------------+-----------------------+---------------------+--------------------------+-------------------+----------------+\n",
            "|   00038638|       CL|                  1|             1|  PERSONAL|                 0|MIGUELINDART@GMAI...|              COM|              |                 30|                |                 DECLARADO|          CTES|         A115377|            A115377|            11:20:05|                   0704| 2021-12-09 19:39:...|                2019-11-14|         2019-11-14|      2019-11-14|\n",
            "|   00037083|       CL|                  1|             1|  PERSONAL|                 0|GROSENKRANTZ@GMAI...|                 |             N|                 30|                |                COMPROBADO|          FNET|        GPROBANK|           GPROBANK|            14:47:29|                   Y57L| 2021-12-09 19:39:...|                2017-03-08|         2017-03-08|      2017-03-08|\n",
            "|   06179762|       CL|                  1|             1|  PERSONAL|                 0|GUERRACLAUDIA@HOT...|              COM|              |                 30|                |                  VALIDADO|          FNET|         a126602|           GPROBANK|            13:20:12|                   LR7S| 2021-12-09 19:39:...|                2018-06-18|         2018-06-15|      2018-06-18|\n",
            "|   06179762|       CL|                  2|             1|  PERSONAL|                 0|BERRACLAUDIA@GMAI...|                 |             N|                 30|                |                COMPROBADO|          FNET|        GPROBANK|           PCLUPC15|            13:21:02|                   PC15| 2021-12-09 19:39:...|                2018-06-18|         2018-06-18|      2018-06-18|\n",
            "|   26957165|       CL|                  1|             1|  PERSONAL|                 1|CLAUDIABETYBARRAZ...|              COM|              |                 30|                |                COMPROBADO|          CTES|          A47294|           PCLUPC15|            15:16:35|                   PC15| 2021-12-09 19:39:...|                2021-03-09|         2021-01-25|      2021-03-09|\n",
            "|   01128123|       CL|                  1|             1|  PERSONAL|                 0|ESTEBANESS14@HOTM...|              COM|              |                 30|                |                COMPROBADO|          WKFL|         a115577|           PCLUPC15|            10:08:39|                   PC15| 2021-12-09 19:39:...|                2019-02-21|         2019-02-21|      2019-02-21|\n",
            "|   28886249|       CL|                  1|             1|  PERSONAL|                 0|WILLYSA@HOTMAIL.C...|              COM|              |                 30|                |                COMPROBADO|          FNET|        GPROBANK|           PCLUPC15|            12:16:40|                   PC15| 2021-12-09 19:39:...|                2019-04-23|         2014-02-17|      2019-04-23|\n",
            "|   27514348|       CL|                  1|             1|  PERSONAL|                 0|PPG.CARLACRUZ@GMA...|              COM|             N|                 30|                |                COMPROBADO|          PVTA|        VW2CCON0|           PCLUPC15|            14:10:40|                   PC15| 2021-12-09 19:39:...|                2021-01-25|         2021-01-25|      2021-01-25|\n",
            "|   27333422|       CL|                  1|             1|  PERSONAL|                -1| VIVGLAD@HOTMAIL.COM|                 |              |                 30|                |                  VALIDADO|          FNET|        GPROBANK|           GPROBANK|            15:25:27|                   4ZGB| 2021-12-09 19:39:...|                2017-12-28|         2011-07-05|      2017-12-28|\n",
            "|   00031275|       CL|                  1|             1|  PERSONAL|                 0|DARREMARIAL@GMAIL...|              COM|              |                 30|                |                 DECLARADO|          CTES|         A115377|            A115377|            12:14:39|                   0704| 2021-12-09 19:39:...|                2019-11-08|         2019-11-08|      2019-11-08|\n",
            "|   21938599|       CL|                  1|             1|  PERSONAL|                 0|   NOTIENE@GMAIL.COM|              COM|              |                 30|                |                  VALIDADO|          FNET|         A127169|           GPROBANK|            21:32:30|                   LR2Z| 2021-12-09 19:39:...|                2020-04-03|         2019-07-11|      2020-04-03|\n",
            "|   28990339|       CL|                  1|             1|  PERSONAL|                 0|    ELSAMO@GMAIL.COM|              COM|              |                 30|                |                 DECLARADO|          WKFL|         a115377|            A115377|            12:36:22|                   EECC| 2021-12-09 19:39:...|                2019-11-08|         2019-11-08|      2019-11-08|\n",
            "|   00033622|       CL|                  1|             1|  PERSONAL|                 0|nuevoviajero33@ho...|              COM|             N|                 30|                |                  NO VERIF|          VLCO|                |            PCLE11O|            18:14:49|                   Y57V| 2021-12-09 19:39:...|                2007-12-12|         2005-05-27|      2009-06-27|\n",
            "|   00033991|       CL|                  1|             2|  PERSONAL|                 0|robertomaneiro@in...|              com|             N|                 30|VUELCO FRONT END|                  NO VERIF|          VLCO|                |           GPROBANK|            12:00:00|                       | 2021-12-09 19:39:...|                2007-12-12|         2001-03-22|      2002-06-24|\n",
            "|   03692218|       CL|                  1|             1|  PERSONAL|                -1|ELORDISERVI@FIBER...|                 |              |                 30|                |                 DECLARADO|          FNET|        GPROBANK|                   |            10:18:23|                   Y37A| 2021-12-09 19:39:...|                2011-11-09|         2011-11-09|      2011-11-09|\n",
            "|   08698875|       CL|                  1|             1|  PERSONAL|                 0|MARTACENTI@HOTMAI...|              COM|             N|                 30|                |                  VALIDADO|          FNET|         A118046|           GPROBANK|            10:15:38|                   4ZGQ| 2021-12-09 19:39:...|                2017-12-20|         2014-09-30|      2017-12-20|\n",
            "|   27335212|       CL|                  1|             2|   LABORAL|                 0|DOMINICASROS@YAHO...|              COM|              |                 30|                |                 DECLARADO|          CTES|          A93505|             A93505|            14:25:15|                   L49H| 2021-12-09 19:39:...|                2019-08-08|         2019-08-08|      2020-02-14|\n",
            "|   00038389|       CL|                  1|             1|  PERSONAL|                 0|digitalizacion@ee...|                 |             N|                 30|                |                 DECLARADO|          CTES|          a61527|                   |            01:01:01|                       | 2021-12-09 19:39:...|                1900-01-01|         1900-01-01|      1900-01-01|\n",
            "|   00043705|       CL|                  1|             1|  PERSONAL|                 1|GOBDULIA@YAHOO.CO...|              COM|              |                 30|                |                 DECLARADO|          CTES|         A125582|            A125582|            16:43:38|                   2710| 2021-12-09 19:39:...|                2015-04-15|         2015-04-15|      2015-04-15|\n",
            "|   00043705|       CL|                  2|             1|  PERSONAL|                 0|CRAMIRTA@FIBERTEL...|                 |              |                 30|                |                 DECLARADO|          FNET|        GPROBANK|           GPROBANK|            13:30:23|                   4ZKO| 2021-12-09 19:39:...|                2015-06-09|         2015-06-09|      2015-06-09|\n",
            "+-----------+---------+-------------------+--------------+----------+------------------+--------------------+-----------------+--------------+-------------------+----------------+--------------------------+--------------+----------------+-------------------+--------------------+-----------------------+---------------------+--------------------------+-------------------+----------------+\n",
            "only showing top 20 rows\n",
            "\n"
          ]
        }
      ]
    },
    {
      "cell_type": "code",
      "source": [
        "df_address_contact_col = df_address.withColumn('contact_type_address', lit('address'))\n",
        "df_address.show()"
      ],
      "metadata": {
        "colab": {
          "base_uri": "https://localhost:8080/"
        },
        "id": "_DZkDUIhcfzv",
        "outputId": "be16968f-262c-4423-de7f-9e472c5d638c"
      },
      "execution_count": 53,
      "outputs": [
        {
          "output_type": "stream",
          "name": "stdout",
          "text": [
            "+-----------+--------------------+---------------------+--------------------+-----------------------+----------+---------------+----------------+-------+\n",
            "|customer_id|        Full_Address|address_district_name|   address_town_name|address_department_name|zipcode_id|long_zipcode_id|last_change_date|row_num|\n",
            "+-----------+--------------------+---------------------+--------------------+-----------------------+----------+---------------+----------------+-------+\n",
            "|   00000003|AV PRES BARTOLOME...|                  ...|CRUCESITA        ...|   AVELLANEDA       ...|     01870|       B1873AMN|      2011-09-07|      1|\n",
            "|   00000050|DR A ALSINA      ...|                  ...|FLORIDA          ...|   VICENTE LOPEZ    ...|     01602|       B1602EEA|      2017-04-18|      1|\n",
            "|   00000050|DR A ALSINA      ...|                  ...|                 ...|   VICENTE LOPEZ    ...|     01602|               |      2016-10-12|      2|\n",
            "|   00000173|CALLE 150        ...|                  ...|                 ...|   BERAZATEGUI      ...|     01885|               |      2016-10-12|      1|\n",
            "|   00000173|CALLE 150        ...|                  ...|                 ...|   BERAZATEGUI      ...|     01885|               |      2016-10-12|      2|\n",
            "|   00000173|CALLE 150        ...|                  ...|                 ...|   BERAZATEGUI      ...|     01885|               |      2016-10-12|      3|\n",
            "|   00000188|CALLE 156        ...|                  ...|PLATANOS         ...|   BERAZATEGUI      ...|     01885|       B1861CEB|      2011-07-01|      1|\n",
            "|   00000204|GRAL PINTO       ...|                  ...|SAN FERNANDO     ...|   SAN FERNANDO     ...|     01646|       B1646ERQ|      2011-07-01|      1|\n",
            "|   00000228|CHILE            ...|                  ...|VIRREYES         ...|   SAN FERNANDO     ...|     01646|       B1645BNL|      2011-07-01|      1|\n",
            "|   00000274|SGTO JUAN B CABRA...|                  ...|VIRREYES         ...|   SAN FERNANDO     ...|     01646|       B1645BJI|      2011-07-01|      1|\n",
            "|   00000282|ESPA�A           ...|                  ...|VIRREYES         ...|   SAN FERNANDO     ...|     01646|       B1645BPL|      2011-07-01|      1|\n",
            "|   00000284|ESTRADA          ...|                  ...|VICTORIA         ...|   SAN FERNANDO     ...|     01644|       B1644ASF|      2011-07-01|      1|\n",
            "|   00000288|SAN PEDRO        ...|                  ...|MANUEL ALBERTI   ...|   PILAR            ...|     01667|       B1664DLC|      2011-07-01|      1|\n",
            "|   00000305|CHILE            ...|                  ...|VIRREYES         ...|   SAN FERNANDO     ...|     01646|       B1645BNH|      2011-07-01|      1|\n",
            "|   00000321|CALLE 505        ...|                  ...|GOBERNADOR COSTA ...|   FLORENCIO VARELA ...|     01888|       B1859DIE|      2011-07-01|      1|\n",
            "|   00000333|MANUEL ANASAGASTI...|                  ...|MANUEL ALBERTI   ...|   PILAR            ...|     01667|       B1664CBR|      2011-07-01|      1|\n",
            "|   00000354|SELVA DE MONTIEL ...|                  ...|CIUDAD AUTONOMA B...|   CAPITAL FEDERAL  ...|     01439|       C1439HEH|      2011-07-01|      1|\n",
            "|   00000359|GANDOLFO         ...|                  ...|VIRREYES         ...|   SAN FERNANDO     ...|     01646|       B1645DAT|      2011-07-01|      1|\n",
            "|   00000372|GONZALEZ         ...|                  ...|SAN FERNANDO     ...|   SAN FERNANDO     ...|     01646|       B1646FTC|      2011-07-01|      1|\n",
            "|   00000376|BARTOLOME MITRE  ...|                  ...|M.ALBERTI(APEADER...|   112233114455     ...|     01667|               |      2011-07-01|      1|\n",
            "+-----------+--------------------+---------------------+--------------------+-----------------------+----------+---------------+----------------+-------+\n",
            "only showing top 20 rows\n",
            "\n"
          ]
        }
      ]
    },
    {
      "cell_type": "markdown",
      "source": [
        "#Combinar los DataFrame de contactos telefónicos de clientes, direcciones de clientes y email de clientes en uno solo.\n",
        "Use full, pq entiendo que tiene que abarcar a todos los clientes, indepentientemente que el mismo cliente, tenga 1 o 3 tipos de contactos cargados"
      ],
      "metadata": {
        "id": "0MKlt9BfCvHF"
      }
    },
    {
      "cell_type": "code",
      "source": [
        "df_contact_types = df_phones_contact_col.join(df_address_contact_col, 'customer_id', how='full')\\\n",
        ".join(df_emails_contact_col, 'customer_id', how='full')\n",
        "\n"
      ],
      "metadata": {
        "id": "p-5M2zJQxJfK"
      },
      "execution_count": 54,
      "outputs": []
    },
    {
      "cell_type": "code",
      "source": [
        "df_contact_types.select('customer_id','contact_type_phones','contact_type_address','contact_type_emails').show()"
      ],
      "metadata": {
        "id": "N-9F_dLz5DUW",
        "outputId": "b432be4c-74a8-4e9d-a3c8-c1d2a654dd40",
        "colab": {
          "base_uri": "https://localhost:8080/"
        }
      },
      "execution_count": 55,
      "outputs": [
        {
          "output_type": "stream",
          "name": "stdout",
          "text": [
            "+-----------+-------------------+--------------------+-------------------+\n",
            "|customer_id|contact_type_phones|contact_type_address|contact_type_emails|\n",
            "+-----------+-------------------+--------------------+-------------------+\n",
            "|   00000007|              phone|                null|               null|\n",
            "|   00000188|               null|             address|               null|\n",
            "|   00000204|               null|             address|               null|\n",
            "|   00000228|               null|             address|               null|\n",
            "|   00000274|               null|             address|               null|\n",
            "|   00000282|               null|             address|               null|\n",
            "|   00000305|               null|             address|               null|\n",
            "|   00000381|              phone|                null|               null|\n",
            "|   00000429|               null|             address|               null|\n",
            "|   00000445|               null|             address|               null|\n",
            "|   00000451|               null|             address|               null|\n",
            "|   00000474|               null|             address|               null|\n",
            "|   00000497|               null|             address|               null|\n",
            "|   00000501|               null|             address|               null|\n",
            "|   00000506|               null|             address|               null|\n",
            "|   00000523|               null|             address|               null|\n",
            "|   00000526|               null|             address|               null|\n",
            "|   00000527|               null|             address|               null|\n",
            "|   00000530|               null|             address|               null|\n",
            "|   00000552|               null|             address|               null|\n",
            "+-----------+-------------------+--------------------+-------------------+\n",
            "only showing top 20 rows\n",
            "\n"
          ]
        }
      ]
    },
    {
      "cell_type": "markdown",
      "source": [
        "Join tablas pivot"
      ],
      "metadata": {
        "id": "b9EpJA1hs_X5"
      }
    },
    {
      "cell_type": "code",
      "source": [
        "df_contactos = df_pivot_phone.join(df_pivot_email, \"customer_id\") \\\n",
        "                   .join(df_pivot_address, \"customer_id\")"
      ],
      "metadata": {
        "id": "7kJLqRSO34Y_"
      },
      "execution_count": 59,
      "outputs": []
    },
    {
      "cell_type": "code",
      "source": [
        "sorted(df_contactos.columns)"
      ],
      "metadata": {
        "colab": {
          "base_uri": "https://localhost:8080/"
        },
        "id": "hWlNHHSJmyUF",
        "outputId": "885bcc5d-bbd3-4321-af17-01ae75e0817c"
      },
      "execution_count": 60,
      "outputs": [
        {
          "output_type": "execute_result",
          "data": {
            "text/plain": [
              "['Address_1',\n",
              " 'Address_2',\n",
              " 'Address_3',\n",
              " 'Email_1',\n",
              " 'Email_2',\n",
              " 'Email_3',\n",
              " 'Phone_1',\n",
              " 'Phone_2',\n",
              " 'Phone_3',\n",
              " 'customer_id']"
            ]
          },
          "metadata": {},
          "execution_count": 60
        }
      ]
    },
    {
      "cell_type": "code",
      "source": [
        "df_contactos.show()"
      ],
      "metadata": {
        "colab": {
          "base_uri": "https://localhost:8080/"
        },
        "id": "3Z0lCMc3m0LE",
        "outputId": "7ea18507-7679-482e-f5ed-1889b4f5a65e"
      },
      "execution_count": 61,
      "outputs": [
        {
          "output_type": "stream",
          "name": "stdout",
          "text": [
            "+-----------+------------+------------+-------+--------------------+--------------------+-------+--------------------+---------+---------+\n",
            "|customer_id|     Phone_1|     Phone_2|Phone_3|             Email_1|             Email_2|Email_3|           Address_1|Address_2|Address_3|\n",
            "+-----------+------------+------------+-------+--------------------+--------------------+-------+--------------------+---------+---------+\n",
            "|   00002790|543424662478|543424883620|    ---| NOTIENE@HOIMAIL.COM|DIGITALIZACION@EE...|    ---|AV CORDOBA       ...|      ---|      ---|\n",
            "|   00014664|541165050605|         ---|    ---|   alq@ciudad.com.ar|                 ---|    ---|AV TRIUNVIRATO   ...|      ---|      ---|\n",
            "|   00056407|543364577255|         ---|    ---|NELLY.S.GEREZ@GMA...|                 ---|    ---|AV DR J BAUTISTA ...|      ---|      ---|\n",
            "|   00058909|541125222584|         ---|    ---|jmanau@fibertel.c...|                 ---|    ---|AV PTE J D PERON ...|      ---|      ---|\n",
            "|   00079642|541168707818|         ---|    ---| MARITA@4HOTMAIL.COM|                 ---|    ---|VICTORIANO AGUILA...|      ---|      ---|\n",
            "|   00096670|541144071782|         ---|    ---|CONTACTO@COMPRESO...|                 ---|    ---|CATTANEO         ...|      ---|      ---|\n",
            "|   00101437|543815853371|         ---|    ---|   NOTIENE@GMAIL.COM|                 ---|    ---|CALLE 51         ...|      ---|      ---|\n",
            "|   00477803|543416646849|         ---|    ---|LEMOS-LILIANA@HOT...|                 ---|    ---|PTE D F SARMIENTO...|      ---|      ---|\n",
            "|   01010176|543816425198|         ---|    ---|  CORTESMT@GMAIL.COM|                 ---|    ---|DEAN FUNES       ...|      ---|      ---|\n",
            "|   01157212|541124841730|         ---|    ---|ADURIZM.57@GMAIL.COM|AMESTICA@YAHOO.CO...|    ---|BENITO PEREZ GALD...|      ---|      ---|\n",
            "|   01670443|541155784448|         ---|    ---|smbortolussi@s5.c...|                 ---|    ---|HILARION DE LA QU...|      ---|      ---|\n",
            "|   01718049|541138492510|         ---|    ---|CARMELA1162@YAHOO...|                 ---|    ---|CA�ADA DE GOMEZ  ...|      ---|      ---|\n",
            "|   01962947|543874831165|         ---|    ---|MIGUEL46LUISE@GMA...|                 ---|    ---|BRAGADO          ...|      ---|      ---|\n",
            "|   02029463|541138950846|         ---|    ---|cuadi@estudiopezz...|                 ---|    ---|CALLE            ...|      ---|      ---|\n",
            "|   02168855|541141627829|         ---|    ---|AMERICOMARTINEZ16...|                 ---|    ---|AV CORDOBA       ...|      ---|      ---|\n",
            "|   02214818|543814634191|         ---|    ---|danielra200@gmail...|DANIELRA200@YAHOO...|    ---|LOS LAURELES     ...|      ---|      ---|\n",
            "|   02233188|542364269670|         ---|    ---|BALBINAABOJER@GMA...|                 ---|    ---|SITIO DE MONTEVID...|      ---|      ---|\n",
            "|   02376057|541144226852|         ---|    ---|CANALELIDIA@GMAI.COM|                 ---|    ---|GELLY            ...|      ---|      ---|\n",
            "|   02382514|541123110806|         ---|    ---|admin@argenpower....|                 ---|    ---|FRAY JOSE W ACHAV...|      ---|      ---|\n",
            "|   02443685|543704605017|         ---|    ---|ARQ.CECILIALARREA...|                 ---|    ---|JUAN MANTOVANI   ...|      ---|      ---|\n",
            "+-----------+------------+------------+-------+--------------------+--------------------+-------+--------------------+---------+---------+\n",
            "only showing top 20 rows\n",
            "\n"
          ]
        }
      ]
    },
    {
      "cell_type": "markdown",
      "source": [
        "#QUIERO: Filtrar el DataFrame de contactos y resguardar solo 3 contactos por cliente respetando la prioridad phone, email, address. Resguardar el resultado como una vista temporal.\n",
        "PARA: Reducir el volumen de datos y trabajar solo con los más actualizados."
      ],
      "metadata": {
        "id": "ECzzyvjwic0f"
      }
    },
    {
      "cell_type": "code",
      "source": [
        "df_contactos_1 = df_contactos.select('customer_id','Phone_1','Email_1','Address_1')\n",
        "df_contactos_1.createOrReplaceTempView(\"contactos_temp\")"
      ],
      "metadata": {
        "id": "7AMsqgjrijEG"
      },
      "execution_count": 62,
      "outputs": []
    },
    {
      "cell_type": "code",
      "source": [
        "df_contactos_1.show()"
      ],
      "metadata": {
        "colab": {
          "base_uri": "https://localhost:8080/"
        },
        "id": "fl7TNwDvisfm",
        "outputId": "61f87e84-dd42-48c3-e042-db7a2c7ae098"
      },
      "execution_count": 63,
      "outputs": [
        {
          "output_type": "stream",
          "name": "stdout",
          "text": [
            "+-----------+------------+--------------------+--------------------+\n",
            "|customer_id|     Phone_1|             Email_1|           Address_1|\n",
            "+-----------+------------+--------------------+--------------------+\n",
            "|   00002790|543424662478| NOTIENE@HOIMAIL.COM|AV CORDOBA       ...|\n",
            "|   00014664|541165050605|   alq@ciudad.com.ar|AV TRIUNVIRATO   ...|\n",
            "|   00056407|543364577255|NELLY.S.GEREZ@GMA...|AV DR J BAUTISTA ...|\n",
            "|   00058909|541125222584|jmanau@fibertel.c...|AV PTE J D PERON ...|\n",
            "|   00079642|541168707818| MARITA@4HOTMAIL.COM|VICTORIANO AGUILA...|\n",
            "|   00096670|541144071782|CONTACTO@COMPRESO...|CATTANEO         ...|\n",
            "|   00101437|543815853371|   NOTIENE@GMAIL.COM|CALLE 51         ...|\n",
            "|   00477803|543416646849|LEMOS-LILIANA@HOT...|PTE D F SARMIENTO...|\n",
            "|   01010176|543816425198|  CORTESMT@GMAIL.COM|DEAN FUNES       ...|\n",
            "|   01157212|541124841730|ADURIZM.57@GMAIL.COM|BENITO PEREZ GALD...|\n",
            "|   01670443|541155784448|smbortolussi@s5.c...|HILARION DE LA QU...|\n",
            "|   01718049|541138492510|CARMELA1162@YAHOO...|CA�ADA DE GOMEZ  ...|\n",
            "|   01962947|543874831165|MIGUEL46LUISE@GMA...|BRAGADO          ...|\n",
            "|   02029463|541138950846|cuadi@estudiopezz...|CALLE            ...|\n",
            "|   02168855|541141627829|AMERICOMARTINEZ16...|AV CORDOBA       ...|\n",
            "|   02214818|543814634191|danielra200@gmail...|LOS LAURELES     ...|\n",
            "|   02233188|542364269670|BALBINAABOJER@GMA...|SITIO DE MONTEVID...|\n",
            "|   02376057|541144226852|CANALELIDIA@GMAI.COM|GELLY            ...|\n",
            "|   02382514|541123110806|admin@argenpower....|FRAY JOSE W ACHAV...|\n",
            "|   02443685|543704605017|ARQ.CECILIALARREA...|JUAN MANTOVANI   ...|\n",
            "+-----------+------------+--------------------+--------------------+\n",
            "only showing top 20 rows\n",
            "\n"
          ]
        }
      ]
    },
    {
      "cell_type": "markdown",
      "source": [
        "QUIERO: Agregar una nueva columna al DataFrame de contactos telefónicos de clientes, resguardando el contacto en formato json contenido en string, con los datos: Phone_type (mobile, landline ), Código país., Código de Área, Número teléfono. Tkt 31"
      ],
      "metadata": {
        "id": "98gPtJDDqc49"
      }
    },
    {
      "cell_type": "code",
      "source": [
        "from pyspark.sql.functions import concat_ws, to_json, struct"
      ],
      "metadata": {
        "id": "5Ed2hMztqdGC"
      },
      "execution_count": 64,
      "outputs": []
    },
    {
      "cell_type": "code",
      "source": [
        "df_contact_types = df_contact_types.withColumn(\"phone_contact\", to_json(struct(concat_ws(\",\", df_contact_types.phone_type, df_contact_types.phone_country_id, df_contact_types.prefix_phone_id, df_contact_types.phone_area_id, df_contact_types.cellphone_prefix_id, df_contact_types.phone_exchange_id, df_contact_types.phone_line_id))))"
      ],
      "metadata": {
        "id": "JScZ05JOqdJD"
      },
      "execution_count": 65,
      "outputs": []
    },
    {
      "cell_type": "code",
      "source": [
        "df_contact_types.show()"
      ],
      "metadata": {
        "id": "7poGk2gjqcls",
        "outputId": "1ca4313d-2511-4e79-cc68-bb1f51c221ce",
        "colab": {
          "base_uri": "https://localhost:8080/"
        }
      },
      "execution_count": 66,
      "outputs": [
        {
          "output_type": "stream",
          "name": "stdout",
          "text": [
            "+-----------+--------------+-------------------+-----------------+----------+----------------+---------------+-------------+-------------------+-----------------+-------------+------------+---------------+-----------------------+------------------+---------------------+-----------------+----------+-----------+--------------------------+---------------------+--------------------+---------------------+----------------+-------------------------+-------------------------+------------------+-------------------+-----------------+--------------------+---------------------+-----------------------+----------------------+--------------------+----------------------+------------------------------+----------------------------+-------------------+----------------+----------------+-------------------+--------------------+-----------------------+---------------------+-------------------+--------------------+---------------------+--------------------+-----------------------+----------+---------------+----------------+-------+--------------------+---------+-------------------+--------------+----------+------------------+----------+-----------------+--------------+-------------------+-------------+--------------------------+--------------+----------------+-------------------+--------------------+-----------------------+---------------------+--------------------------+-------------------+----------------+-------------------+--------------------+\n",
            "|customer_id|phone_use_type|address_sequence_id|phone_sequence_id|phone_type|phone_country_id|prefix_phone_id|phone_area_id|cellphone_prefix_id|phone_exchange_id|phone_line_id|    phone_id|phone_intern_id|aditional_info_txt_desc|primary_phone_type|address_sequence_type|address_town_name|zipcode_id|province_id|customer_phone_status_type|phone_status_mod_date|contact_channel_type|sender_application_id|wrong_phone_type|normalization_status_type|normalization_reason_name|normalization_date|validity_start_date|validity_end_date|dlvy_day_monday_type|dlvy_day_tuesday_type|dlvy_day_wednesday_type|dlvy_day_thursday_type|dlvy_day_friday_type|dlvy_day_saturday_type|delivery_contact_start_hm_date|delivery_contact_end_hm_date|registry_entry_date|register_user_id|last_change_date|last_change_user_id|last_change_hms_date|last_change_terminal_id|operational_load_date|contact_type_phones|        Full_Address|address_district_name|   address_town_name|address_department_name|zipcode_id|long_zipcode_id|last_change_date|row_num|contact_type_address|role_type|address_sequence_id|residence_type|email_type|primary_email_type|email_desc|email_domain_type|encripted_type|field_length_number|comments_desc|customer_email_status_type|email_app_type|register_user_id|last_change_user_id|last_change_hms_date|last_change_terminal_id|operational_load_date|customer_email_status_date|registry_entry_date|last_change_date|contact_type_emails|       phone_contact|\n",
            "+-----------+--------------+-------------------+-----------------+----------+----------------+---------------+-------------+-------------------+-----------------+-------------+------------+---------------+-----------------------+------------------+---------------------+-----------------+----------+-----------+--------------------------+---------------------+--------------------+---------------------+----------------+-------------------------+-------------------------+------------------+-------------------+-----------------+--------------------+---------------------+-----------------------+----------------------+--------------------+----------------------+------------------------------+----------------------------+-------------------+----------------+----------------+-------------------+--------------------+-----------------------+---------------------+-------------------+--------------------+---------------------+--------------------+-----------------------+----------+---------------+----------------+-------+--------------------+---------+-------------------+--------------+----------+------------------+----------+-----------------+--------------+-------------------+-------------+--------------------------+--------------+----------------+-------------------+--------------------+-----------------------+---------------------+--------------------------+-------------------+----------------+-------------------+--------------------+\n",
            "|   00000007|            00|                  2|                1|         3|             080|             54|          266|                 15|              469|         7946|304920118694|               |                       |                 N|                    N|                 |          |           |                 DECLARADO|           2022-09-01|                  01|                 CTES|                |                NORM AUTO|                     COSM|        2022-09-01|         1900-01-01|       1900-01-01|                    |                     |                       |                      |                    |                      |                      00:00:00|                    00:00:00|         2022-09-01|         A126150|      2022-09-01|            A126150|              085907|                   L0CX| 2022-11-30 00:42:...|              phone|                null|                 null|                null|                   null|      null|           null|            null|   null|                null|     null|               null|          null|      null|              null|      null|             null|          null|               null|         null|                      null|          null|            null|               null|                null|                   null|                 null|                      null|               null|            null|               null|{\"col1\":\"3,080,54...|\n",
            "|   00000188|          null|               null|             null|      null|            null|           null|         null|               null|             null|         null|        null|           null|                   null|              null|                 null|             null|      null|       null|                      null|                 null|                null|                 null|            null|                     null|                     null|              null|               null|             null|                null|                 null|                   null|                  null|                null|                  null|                          null|                        null|               null|            null|            null|               null|                null|                   null|                 null|               null|CALLE 156        ...|                  ...|PLATANOS         ...|   BERAZATEGUI      ...|     01885|       B1861CEB|      2011-07-01|      1|             address|     null|               null|          null|      null|              null|      null|             null|          null|               null|         null|                      null|          null|            null|               null|                null|                   null|                 null|                      null|               null|            null|               null|         {\"col1\":\"\"}|\n",
            "|   00000204|          null|               null|             null|      null|            null|           null|         null|               null|             null|         null|        null|           null|                   null|              null|                 null|             null|      null|       null|                      null|                 null|                null|                 null|            null|                     null|                     null|              null|               null|             null|                null|                 null|                   null|                  null|                null|                  null|                          null|                        null|               null|            null|            null|               null|                null|                   null|                 null|               null|GRAL PINTO       ...|                  ...|SAN FERNANDO     ...|   SAN FERNANDO     ...|     01646|       B1646ERQ|      2011-07-01|      1|             address|     null|               null|          null|      null|              null|      null|             null|          null|               null|         null|                      null|          null|            null|               null|                null|                   null|                 null|                      null|               null|            null|               null|         {\"col1\":\"\"}|\n",
            "|   00000228|          null|               null|             null|      null|            null|           null|         null|               null|             null|         null|        null|           null|                   null|              null|                 null|             null|      null|       null|                      null|                 null|                null|                 null|            null|                     null|                     null|              null|               null|             null|                null|                 null|                   null|                  null|                null|                  null|                          null|                        null|               null|            null|            null|               null|                null|                   null|                 null|               null|CHILE            ...|                  ...|VIRREYES         ...|   SAN FERNANDO     ...|     01646|       B1645BNL|      2011-07-01|      1|             address|     null|               null|          null|      null|              null|      null|             null|          null|               null|         null|                      null|          null|            null|               null|                null|                   null|                 null|                      null|               null|            null|               null|         {\"col1\":\"\"}|\n",
            "|   00000274|          null|               null|             null|      null|            null|           null|         null|               null|             null|         null|        null|           null|                   null|              null|                 null|             null|      null|       null|                      null|                 null|                null|                 null|            null|                     null|                     null|              null|               null|             null|                null|                 null|                   null|                  null|                null|                  null|                          null|                        null|               null|            null|            null|               null|                null|                   null|                 null|               null|SGTO JUAN B CABRA...|                  ...|VIRREYES         ...|   SAN FERNANDO     ...|     01646|       B1645BJI|      2011-07-01|      1|             address|     null|               null|          null|      null|              null|      null|             null|          null|               null|         null|                      null|          null|            null|               null|                null|                   null|                 null|                      null|               null|            null|               null|         {\"col1\":\"\"}|\n",
            "|   00000282|          null|               null|             null|      null|            null|           null|         null|               null|             null|         null|        null|           null|                   null|              null|                 null|             null|      null|       null|                      null|                 null|                null|                 null|            null|                     null|                     null|              null|               null|             null|                null|                 null|                   null|                  null|                null|                  null|                          null|                        null|               null|            null|            null|               null|                null|                   null|                 null|               null|ESPA�A           ...|                  ...|VIRREYES         ...|   SAN FERNANDO     ...|     01646|       B1645BPL|      2011-07-01|      1|             address|     null|               null|          null|      null|              null|      null|             null|          null|               null|         null|                      null|          null|            null|               null|                null|                   null|                 null|                      null|               null|            null|               null|         {\"col1\":\"\"}|\n",
            "|   00000305|          null|               null|             null|      null|            null|           null|         null|               null|             null|         null|        null|           null|                   null|              null|                 null|             null|      null|       null|                      null|                 null|                null|                 null|            null|                     null|                     null|              null|               null|             null|                null|                 null|                   null|                  null|                null|                  null|                          null|                        null|               null|            null|            null|               null|                null|                   null|                 null|               null|CHILE            ...|                  ...|VIRREYES         ...|   SAN FERNANDO     ...|     01646|       B1645BNH|      2011-07-01|      1|             address|     null|               null|          null|      null|              null|      null|             null|          null|               null|         null|                      null|          null|            null|               null|                null|                   null|                 null|                      null|               null|            null|               null|         {\"col1\":\"\"}|\n",
            "|   00000381|            00|                  1|                1|         3|             080|             54|          381|                 15|              590|         9885|579839963031|               |                       |                 N|                    N|                 |          |           |                 DECLARADO|           2022-07-19|                  01|                 CTES|                |                NORM AUTO|                     COSM|        2022-07-19|         1900-01-01|       1900-01-01|                    |                     |                       |                      |                    |                      |                      00:00:00|                    00:00:00|         2022-07-19|         A126541|      2022-07-19|            A126541|              110528|                   Y2GC| 2022-11-30 00:42:...|              phone|                null|                 null|                null|                   null|      null|           null|            null|   null|                null|     null|               null|          null|      null|              null|      null|             null|          null|               null|         null|                      null|          null|            null|               null|                null|                   null|                 null|                      null|               null|            null|               null|{\"col1\":\"3,080,54...|\n",
            "|   00000429|          null|               null|             null|      null|            null|           null|         null|               null|             null|         null|        null|           null|                   null|              null|                 null|             null|      null|       null|                      null|                 null|                null|                 null|            null|                     null|                     null|              null|               null|             null|                null|                 null|                   null|                  null|                null|                  null|                          null|                        null|               null|            null|            null|               null|                null|                   null|                 null|               null|MARTIN GUERRICO  ...|                  ...|CIUDAD AUTONOMA B...|   CAPITAL FEDERAL  ...|     01439|       C1439DTD|      2011-07-01|      1|             address|     null|               null|          null|      null|              null|      null|             null|          null|               null|         null|                      null|          null|            null|               null|                null|                   null|                 null|                      null|               null|            null|               null|         {\"col1\":\"\"}|\n",
            "|   00000445|          null|               null|             null|      null|            null|           null|         null|               null|             null|         null|        null|           null|                   null|              null|                 null|             null|      null|       null|                      null|                 null|                null|                 null|            null|                     null|                     null|              null|               null|             null|                null|                 null|                   null|                  null|                null|                  null|                          null|                        null|               null|            null|            null|               null|                null|                   null|                 null|               null|2 DE ABRIL DE 198...|                  ...|CAPITAL FEDERAL  ...|   112233114455     ...|     01439|               |      2011-07-01|      1|             address|     null|               null|          null|      null|              null|      null|             null|          null|               null|         null|                      null|          null|            null|               null|                null|                   null|                 null|                      null|               null|            null|               null|         {\"col1\":\"\"}|\n",
            "|   00000451|          null|               null|             null|      null|            null|           null|         null|               null|             null|         null|        null|           null|                   null|              null|                 null|             null|      null|       null|                      null|                 null|                null|                 null|            null|                     null|                     null|              null|               null|             null|                null|                 null|                   null|                  null|                null|                  null|                          null|                        null|               null|            null|            null|               null|                null|                   null|                 null|               null|PRES N AVELLANEDA...|                  ...|VILLA VATTEONE   ...|   FLORENCIO VARELA ...|     01888|       B1853GCI|      2011-07-01|      1|             address|     null|               null|          null|      null|              null|      null|             null|          null|               null|         null|                      null|          null|            null|               null|                null|                   null|                 null|                      null|               null|            null|               null|         {\"col1\":\"\"}|\n",
            "|   00000474|          null|               null|             null|      null|            null|           null|         null|               null|             null|         null|        null|           null|                   null|              null|                 null|             null|      null|       null|                      null|                 null|                null|                 null|            null|                     null|                     null|              null|               null|             null|                null|                 null|                   null|                  null|                null|                  null|                          null|                        null|               null|            null|            null|               null|                null|                   null|                 null|               null|ALMONACID        ...|                  ...|MANUEL ALBERTI   ...|   PILAR            ...|     01667|       B1664CIF|      2011-07-01|      1|             address|     null|               null|          null|      null|              null|      null|             null|          null|               null|         null|                      null|          null|            null|               null|                null|                   null|                 null|                      null|               null|            null|               null|         {\"col1\":\"\"}|\n",
            "|   00000497|          null|               null|             null|      null|            null|           null|         null|               null|             null|         null|        null|           null|                   null|              null|                 null|             null|      null|       null|                      null|                 null|                null|                 null|            null|                     null|                     null|              null|               null|             null|                null|                 null|                   null|                  null|                null|                  null|                          null|                        null|               null|            null|            null|               null|                null|                   null|                 null|               null|ESTRADA          ...|                  ...|VIRREYES         ...|   SAN FERNANDO     ...|     01646|       B1645DLA|      2011-07-01|      1|             address|     null|               null|          null|      null|              null|      null|             null|          null|               null|         null|                      null|          null|            null|               null|                null|                   null|                 null|                      null|               null|            null|               null|         {\"col1\":\"\"}|\n",
            "|   00000501|          null|               null|             null|      null|            null|           null|         null|               null|             null|         null|        null|           null|                   null|              null|                 null|             null|      null|       null|                      null|                 null|                null|                 null|            null|                     null|                     null|              null|               null|             null|                null|                 null|                   null|                  null|                null|                  null|                          null|                        null|               null|            null|            null|               null|                null|                   null|                 null|               null|PASAJE SANTA LUCI...|                  ...|VIRREYES         ...|   112233114455     ...|     01646|               |      2011-07-01|      1|             address|     null|               null|          null|      null|              null|      null|             null|          null|               null|         null|                      null|          null|            null|               null|                null|                   null|                 null|                      null|               null|            null|               null|         {\"col1\":\"\"}|\n",
            "|   00000506|          null|               null|             null|      null|            null|           null|         null|               null|             null|         null|        null|           null|                   null|              null|                 null|             null|      null|       null|                      null|                 null|                null|                 null|            null|                     null|                     null|              null|               null|             null|                null|                 null|                   null|                  null|                null|                  null|                          null|                        null|               null|            null|            null|               null|                null|                   null|                 null|               null|BARRIO INTA      ...| INTA             ...|CIUDAD AUTONOMA B...|   CAPITAL FEDERAL  ...|     01439|       C1439IVA|      2011-07-01|      1|             address|     null|               null|          null|      null|              null|      null|             null|          null|               null|         null|                      null|          null|            null|               null|                null|                   null|                 null|                      null|               null|            null|               null|         {\"col1\":\"\"}|\n",
            "|   00000523|          null|               null|             null|      null|            null|           null|         null|               null|             null|         null|        null|           null|                   null|              null|                 null|             null|      null|       null|                      null|                 null|                null|                 null|            null|                     null|                     null|              null|               null|             null|                null|                 null|                   null|                  null|                null|                  null|                          null|                        null|               null|            null|            null|               null|                null|                   null|                 null|               null|MAR CHIQUITA     ...|                  ...|VILLA VATTEONE   ...|   FLORENCIO VARELA ...|     01888|       B1853GRG|      2011-07-01|      1|             address|     null|               null|          null|      null|              null|      null|             null|          null|               null|         null|                      null|          null|            null|               null|                null|                   null|                 null|                      null|               null|            null|               null|         {\"col1\":\"\"}|\n",
            "|   00000526|          null|               null|             null|      null|            null|           null|         null|               null|             null|         null|        null|           null|                   null|              null|                 null|             null|      null|       null|                      null|                 null|                null|                 null|            null|                     null|                     null|              null|               null|             null|                null|                 null|                   null|                  null|                null|                  null|                          null|                        null|               null|            null|            null|               null|                null|                   null|                 null|               null|HABEAS DATA      ...|                  ...|                 ...|                    ...|          |       B1645BOK|      2018-11-08|      1|             address|     null|               null|          null|      null|              null|      null|             null|          null|               null|         null|                      null|          null|            null|               null|                null|                   null|                 null|                      null|               null|            null|               null|         {\"col1\":\"\"}|\n",
            "|   00000527|          null|               null|             null|      null|            null|           null|         null|               null|             null|         null|        null|           null|                   null|              null|                 null|             null|      null|       null|                      null|                 null|                null|                 null|            null|                     null|                     null|              null|               null|             null|                null|                 null|                   null|                  null|                null|                  null|                          null|                        null|               null|            null|            null|               null|                null|                   null|                 null|               null|CALLE 38         ...|                  ...|PLATANOS         ...|   BERAZATEGUI      ...|     01885|       B1861APO|      2011-07-01|      1|             address|     null|               null|          null|      null|              null|      null|             null|          null|               null|         null|                      null|          null|            null|               null|                null|                   null|                 null|                      null|               null|            null|               null|         {\"col1\":\"\"}|\n",
            "|   00000530|          null|               null|             null|      null|            null|           null|         null|               null|             null|         null|        null|           null|                   null|              null|                 null|             null|      null|       null|                      null|                 null|                null|                 null|            null|                     null|                     null|              null|               null|             null|                null|                 null|                   null|                  null|                null|                  null|                          null|                        null|               null|            null|            null|               null|                null|                   null|                 null|               null|GRAL O HIGGINS   ...|                  ...|FLORENCIO VARELA ...|   FLORENCIO VARELA ...|     01888|       B1888DTF|      2011-07-01|      1|             address|     null|               null|          null|      null|              null|      null|             null|          null|               null|         null|                      null|          null|            null|               null|                null|                   null|                 null|                      null|               null|            null|               null|         {\"col1\":\"\"}|\n",
            "|   00000552|          null|               null|             null|      null|            null|           null|         null|               null|             null|         null|        null|           null|                   null|              null|                 null|             null|      null|       null|                      null|                 null|                null|                 null|            null|                     null|                     null|              null|               null|             null|                null|                 null|                   null|                  null|                null|                  null|                          null|                        null|               null|            null|            null|               null|                null|                   null|                 null|               null|AV CMTE LUIS PIED...|                  ...|CIUDAD AUTONOMA B...|   CAPITAL FEDERAL  ...|     01439|       C1439GVG|      2011-07-01|      1|             address|     null|               null|          null|      null|              null|      null|             null|          null|               null|         null|                      null|          null|            null|               null|                null|                   null|                 null|                      null|               null|            null|               null|         {\"col1\":\"\"}|\n",
            "+-----------+--------------+-------------------+-----------------+----------+----------------+---------------+-------------+-------------------+-----------------+-------------+------------+---------------+-----------------------+------------------+---------------------+-----------------+----------+-----------+--------------------------+---------------------+--------------------+---------------------+----------------+-------------------------+-------------------------+------------------+-------------------+-----------------+--------------------+---------------------+-----------------------+----------------------+--------------------+----------------------+------------------------------+----------------------------+-------------------+----------------+----------------+-------------------+--------------------+-----------------------+---------------------+-------------------+--------------------+---------------------+--------------------+-----------------------+----------+---------------+----------------+-------+--------------------+---------+-------------------+--------------+----------+------------------+----------+-----------------+--------------+-------------------+-------------+--------------------------+--------------+----------------+-------------------+--------------------+-----------------------+---------------------+--------------------------+-------------------+----------------+-------------------+--------------------+\n",
            "only showing top 20 rows\n",
            "\n"
          ]
        }
      ]
    },
    {
      "cell_type": "markdown",
      "source": [
        "QUIERO: Agregar una nueva columna al DataFrame de direcciones de clientes, resguardando el contacto en formato json contenido en string, con los datos: Calle, Número, Piso, Depto, Localidad, Provincia, Código postal\n",
        "PARA: Enriquecer los datos aplicando el formato requerido Tkt 32"
      ],
      "metadata": {
        "id": "aLtj4uSAqkp4"
      }
    },
    {
      "cell_type": "code",
      "source": [],
      "metadata": {
        "id": "kT-Iah3VqpKj"
      },
      "execution_count": 66,
      "outputs": []
    },
    {
      "cell_type": "markdown",
      "source": [
        "#Generar una vista temporal "
      ],
      "metadata": {
        "id": "hPaO54KL7zb0"
      }
    },
    {
      "cell_type": "markdown",
      "source": [
        "Generar una vista temporal a partir del DataFrame de contactos.\n",
        "PARA: Preparar los datos para trabajar con SparkSQL. Tkt 35"
      ],
      "metadata": {
        "id": "nOjFXtVQpjY6"
      }
    },
    {
      "cell_type": "code",
      "source": [
        "df_contactos_vt = df_contactos\n",
        "df_contactos_vt.createTempView('contact_vtemporal')"
      ],
      "metadata": {
        "id": "D-Rjj_Xypjti"
      },
      "execution_count": 67,
      "outputs": []
    },
    {
      "cell_type": "markdown",
      "source": [
        "A partir del archivo t_abtq_customer_basics.\n",
        "PARA: Preparar los datos para trabajar con SparkSQL. Utilizo el archivo normalizado. Ticket 36"
      ],
      "metadata": {
        "id": "0uOM8Fv0E-56"
      }
    },
    {
      "cell_type": "code",
      "source": [
        "df_customer_vt = spark.read.load('sample_data/customer_basics_bootcamp.snappy.parquet', sep=',', inferschema='true', header='true')\n",
        "\n"
      ],
      "metadata": {
        "id": "jG2iJDWN8kIV"
      },
      "execution_count": 68,
      "outputs": []
    },
    {
      "cell_type": "code",
      "source": [
        "df_customer_vt.createTempView('customer_vtemporal')"
      ],
      "metadata": {
        "id": "alxoKIBL72f6"
      },
      "execution_count": 69,
      "outputs": []
    },
    {
      "cell_type": "markdown",
      "source": [
        "QUIERO: Generar una vista temporal a partir del archivo t_acog_marital_status_type.\n",
        "PARA: Preparar los datos para trabajar con SparkSQL Tkt 37"
      ],
      "metadata": {
        "id": "EPTswMUS_fev"
      }
    },
    {
      "cell_type": "code",
      "source": [
        "df_marital_status_vt = spark.read.load('sample_data/t_acog_marital_status_type.snappy.parquet', sep=',', inferschema='true', header='true')"
      ],
      "metadata": {
        "id": "lIqFraI18o9z"
      },
      "execution_count": 71,
      "outputs": []
    },
    {
      "cell_type": "code",
      "source": [
        "df_marital_status_vt.createTempView('marital_status_type_vt')"
      ],
      "metadata": {
        "id": "HRqXM1zjBT7A"
      },
      "execution_count": 72,
      "outputs": []
    },
    {
      "cell_type": "markdown",
      "source": [
        "QUIERO: Generar una vista temporal a partir del archivo t_acog_nationality.\n",
        "PARA: Preparar los datos para trabajar con SparkSQ Tkt 38"
      ],
      "metadata": {
        "id": "7v-6e_6jD0i_"
      }
    },
    {
      "cell_type": "code",
      "source": [
        "df_nationality_vt = spark.read.load('sample_data/t_acog_nationality.snappy.parquet', sep=',', inferschema='true', header='true')"
      ],
      "metadata": {
        "id": "6cWKV9e1BdXT"
      },
      "execution_count": 73,
      "outputs": []
    },
    {
      "cell_type": "code",
      "source": [
        "df_nationality_vt.createTempView('nationality_vt')"
      ],
      "metadata": {
        "id": "FIPcRq7OCVyC"
      },
      "execution_count": 74,
      "outputs": []
    },
    {
      "cell_type": "code",
      "source": [],
      "metadata": {
        "id": "_qKI0iOucJo9"
      },
      "execution_count": null,
      "outputs": []
    }
  ]
}