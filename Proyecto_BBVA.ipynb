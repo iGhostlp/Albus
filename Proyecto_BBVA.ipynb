{
  "nbformat": 4,
  "nbformat_minor": 0,
  "metadata": {
    "colab": {
      "provenance": [],
      "include_colab_link": true
    },
    "kernelspec": {
      "name": "python3",
      "display_name": "Python 3"
    },
    "language_info": {
      "name": "python"
    }
  },
  "cells": [
    {
      "cell_type": "markdown",
      "metadata": {
        "id": "view-in-github",
        "colab_type": "text"
      },
      "source": [
        "<a href=\"https://colab.research.google.com/github/iGhostlp/Albus/blob/Gunter-y-Ernesto/Proyecto_BBVA.ipynb\" target=\"_parent\"><img src=\"https://colab.research.google.com/assets/colab-badge.svg\" alt=\"Open In Colab\"/></a>"
      ]
    },
    {
      "cell_type": "markdown",
      "source": [
        "# Armado del entorno"
      ],
      "metadata": {
        "id": "VxhZxWLWuiG6"
      }
    },
    {
      "cell_type": "code",
      "execution_count": 14,
      "metadata": {
        "id": "L2mgwn8PsQQX"
      },
      "outputs": [],
      "source": [
        "# Download Spark\n",
        "!wget -q https://dlcdn.apache.org/spark/spark-3.3.2/spark-3.3.2-bin-hadoop3.tgz"
      ]
    },
    {
      "cell_type": "code",
      "source": [
        "# Unzip the file\n",
        "!tar xf spark-3.3.2-bin-hadoop3.tgz"
      ],
      "metadata": {
        "id": "2qbDnH7Euw7n"
      },
      "execution_count": 15,
      "outputs": []
    },
    {
      "cell_type": "code",
      "source": [
        "!readlink -f $(which java) | sed \"s:bin/java::\""
      ],
      "metadata": {
        "colab": {
          "base_uri": "https://localhost:8080/"
        },
        "id": "psFPl5kAaLV1",
        "outputId": "30e3efe3-a244-4c6c-ab1c-ad6171f081f7"
      },
      "execution_count": 16,
      "outputs": [
        {
          "output_type": "stream",
          "name": "stdout",
          "text": [
            "/usr/lib/jvm/java-11-openjdk-amd64/\n"
          ]
        }
      ]
    },
    {
      "cell_type": "code",
      "source": [
        "# Set up the environment for Spark\n",
        "import os\n",
        "os.environ[\"JAVA_HOME\"] = \"/usr/lib/jvm/java-11-openjdk-amd64/\"\n",
        "os.environ[\"SPARK_HOME\"] = '/content/spark-3.3.2-bin-hadoop3'"
      ],
      "metadata": {
        "id": "3eP99SbmBuQW"
      },
      "execution_count": 17,
      "outputs": []
    },
    {
      "cell_type": "code",
      "source": [
        "# Install library for finding Spark\n",
        "!pip install -q findspark\n",
        "\n",
        "# Import the libary\n",
        "import findspark\n",
        "\n",
        "# Initiate findspark\n",
        "findspark.init()"
      ],
      "metadata": {
        "id": "ayaw6ZzfB0Kz"
      },
      "execution_count": 18,
      "outputs": []
    },
    {
      "cell_type": "code",
      "source": [
        "# Import SparkSession\n",
        "from pyspark.sql import SparkSession\n",
        "\n",
        "# Create a Spark Session\n",
        "spark = SparkSession.builder.master(\"local[*]\").config('spark.sql.parquet.datetimeRebaseModeInRead','CORRECTED').getOrCreate()\n",
        "\n",
        "# Check Spark Session Information\n",
        "spark"
      ],
      "metadata": {
        "colab": {
          "base_uri": "https://localhost:8080/",
          "height": 219
        },
        "id": "hz-Q9qhgCrkK",
        "outputId": "b08ebde9-6ce1-4fbf-f577-d99e24043c17"
      },
      "execution_count": 19,
      "outputs": [
        {
          "output_type": "execute_result",
          "data": {
            "text/plain": [
              "<pyspark.sql.session.SparkSession at 0x7fb41ffa9ca0>"
            ],
            "text/html": [
              "\n",
              "            <div>\n",
              "                <p><b>SparkSession - in-memory</b></p>\n",
              "                \n",
              "        <div>\n",
              "            <p><b>SparkContext</b></p>\n",
              "\n",
              "            <p><a href=\"http://431c98ae01b5:4040\">Spark UI</a></p>\n",
              "\n",
              "            <dl>\n",
              "              <dt>Version</dt>\n",
              "                <dd><code>v3.3.2</code></dd>\n",
              "              <dt>Master</dt>\n",
              "                <dd><code>local[*]</code></dd>\n",
              "              <dt>AppName</dt>\n",
              "                <dd><code>pyspark-shell</code></dd>\n",
              "            </dl>\n",
              "        </div>\n",
              "        \n",
              "            </div>\n",
              "        "
            ]
          },
          "metadata": {},
          "execution_count": 19
        }
      ]
    },
    {
      "cell_type": "markdown",
      "source": [
        "# Extraccion de datos desde parquet, clientes y teléfonos."
      ],
      "metadata": {
        "id": "VIT40BZLR5W_"
      }
    },
    {
      "cell_type": "code",
      "source": [
        "df_customer = spark.read.load('sample_data/customer_basics.snappy.parquet', sep=',', inferschema='true', header='true')\n",
        "df_phones = spark.read.load('sample_data/phones.snappy.parquet', sep=',', inferschema='true', header='true')\n"
      ],
      "metadata": {
        "id": "3nBhHQp_R8Nb"
      },
      "execution_count": 37,
      "outputs": []
    },
    {
      "cell_type": "code",
      "source": [
        "df_customer_phones = df_customer.join(df_phones, 'customer_id', how='inner')"
      ],
      "metadata": {
        "id": "0vU-yIbkWTEc"
      },
      "execution_count": 38,
      "outputs": []
    },
    {
      "cell_type": "code",
      "source": [
        "df_customer_phones.show()"
      ],
      "metadata": {
        "colab": {
          "base_uri": "https://localhost:8080/"
        },
        "id": "Yx36q0p8h_Sc",
        "outputId": "38196132-2d28-4827-f09b-65a8d7310ed5"
      },
      "execution_count": 39,
      "outputs": [
        {
          "output_type": "stream",
          "name": "stdout",
          "text": [
            "+-----------+-------------+-------------+--------------+---------------+--------------------+---------+----------------+-----------+-----------------------+-----------------------+----------+-------------------+-----------------+--------------------------+----------------+----------------+-------------------+-------------------+-----------+----------+----------------------+--------------------+---------------------+-----------+--------------------------+----------------------------+-------------------------------+------------------------+------------------------+--------------------------+------------------------+--------------------------+----------------------------+------------------+------------------------+-------------------+-------------------+---------------------------+-----------------+-------------------+-----------------+-------------------------------+--------------------+---------------------+------------------+----------------+--------------------+--------------------------+----------------+--------------------------+--------------------+-------------+----------------+--------------------+-------------------+--------+---------------------+-------------------------+--------------------------+----------------+--------------------+--------------------+----------------+-------------+-------------------------+-----------------------+---------------------+--------------+-------------------+-----------------+----------+----------------+---------------+-------------+-------------------+-----------------+-------------+------------+---------------+-----------------------+------------------+---------------------+-----------------+----------+-----------+--------------------------+---------------------+--------------------+---------------------+----------------+-------------------------+-------------------------+------------------+-------------------+-----------------+--------------------+---------------------+-----------------------+----------------------+--------------------+----------------------+------------------------------+----------------------------+-------------------+----------------+----------------+-------------------+--------------------+-----------------------+---------------------+\n",
            "|customer_id|personal_type|  personal_id|admission_date|sale_channel_id|operation_channel_id|branch_id|business_area_id|campaing_id|customer_situation_type|customer_condition_type|manager_id|tracking_manager_id|credit_manager_id|credit_recovery_manager_id|       last_name|second_last_name|         first_name|marital_status_type|gender_type|birth_date|country_nationality_id|residence_country_id|customer_subject_type|sector_type|customer_level_access_type|cust_bcra_econ_activity_type|internal_economic_activity_type|bbva_inhabilitation_type|customer_block_bbva_date|customer_unblock_bbva_date|customer_block_bcra_date|customer_unblock_bcra_date|customer_pending_notice_type|last_notice_number|last_reference_number_id|last_service_number|last_address_number|last_unlinking_account_date|customer_end_date|last_change_user_id|customer_pep_type|bbva_family_lnk_weighted_number|customer_status_type|scoring_activity_type|refinancing_number|refinancing_date|coholder_customer_id|customer_bcra_situation_id|customer_cuit_id|customer_position_vat_type|balance_closing_date|profession_id|bbva_cust_number|customer_linked_type|customer_entry_type|job_type|profession_start_date|customer_first_block_date|customer_registration_date|last_change_date|last_change_hms_date|register_terminal_id|register_user_id|customer_type|customer_seniority_number|last_status_change_date|operational_load_date|phone_use_type|address_sequence_id|phone_sequence_id|phone_type|phone_country_id|prefix_phone_id|phone_area_id|cellphone_prefix_id|phone_exchange_id|phone_line_id|    phone_id|phone_intern_id|aditional_info_txt_desc|primary_phone_type|address_sequence_type|address_town_name|zipcode_id|province_id|customer_phone_status_type|phone_status_mod_date|contact_channel_type|sender_application_id|wrong_phone_type|normalization_status_type|normalization_reason_name|normalization_date|validity_start_date|validity_end_date|dlvy_day_monday_type|dlvy_day_tuesday_type|dlvy_day_wednesday_type|dlvy_day_thursday_type|dlvy_day_friday_type|dlvy_day_saturday_type|delivery_contact_start_hm_date|delivery_contact_end_hm_date|registry_entry_date|register_user_id|last_change_date|last_change_user_id|last_change_hms_date|last_change_terminal_id|operational_load_date|\n",
            "+-----------+-------------+-------------+--------------+---------------+--------------------+---------+----------------+-----------+-----------------------+-----------------------+----------+-------------------+-----------------+--------------------------+----------------+----------------+-------------------+-------------------+-----------+----------+----------------------+--------------------+---------------------+-----------+--------------------------+----------------------------+-------------------------------+------------------------+------------------------+--------------------------+------------------------+--------------------------+----------------------------+------------------+------------------------+-------------------+-------------------+---------------------------+-----------------+-------------------+-----------------+-------------------------------+--------------------+---------------------+------------------+----------------+--------------------+--------------------------+----------------+--------------------------+--------------------+-------------+----------------+--------------------+-------------------+--------+---------------------+-------------------------+--------------------------+----------------+--------------------+--------------------+----------------+-------------+-------------------------+-----------------------+---------------------+--------------+-------------------+-----------------+----------+----------------+---------------+-------------+-------------------+-----------------+-------------+------------+---------------+-----------------------+------------------+---------------------+-----------------+----------+-----------+--------------------------+---------------------+--------------------+---------------------+----------------+-------------------------+-------------------------+------------------+-------------------+-----------------+--------------------+---------------------+-----------------------+----------------------+--------------------+----------------------+------------------------------+----------------------------+-------------------+----------------+----------------+-------------------+--------------------+-----------------------+---------------------+\n",
            "|   24401530|           00|0000025563603|    2018-01-29|          10000|                  01|      170|              34|          0|                      1|                      1|       492|                080|                 |                          |         PARENTE|                |     CRISTINA NOEMI|                  5|          F|1977-02-03|                    80|                 080|                  201|        100|                         0|                          82|                       21101000|                       0|                    null|                      null|                    null|                      null|                           0|                 0|                       0|                  0|                  1|                       null|             null|            PCLE06R|                2|                              1|                  PO|                   35|              null|            null|                    |                      null|   0027255636036|                       042|                null|          007|       024401530|                   N|                   |     001|           2018-01-29|                     null|                2018-01-29|      2020-04-11|              182808|                P37B|         A127389|            S|                     null|             2018-01-29| 2022-03-10 01:05:...|            00|                  0|                3|         3|             080|             54|           11|                 15|             5656|         3942|356767213183|               |                       |                 N|                    N|                 |          |           |                 DECLARADO|           2022-07-04|                  35|                 TVTA|                |                NORM AUTO|                  COPDTEL|        2022-07-04|         1900-01-01|       1900-01-01|                    |                     |                       |                      |                    |                      |                      00:00:00|                    00:00:00|         2022-07-04|        GPROTLVT|      2022-07-04|           GPROTLVT|              154256|                   Y59G| 2022-11-30 00:42:...|\n",
            "|   06987700|           00|0000029918196|    2006-04-27|          10000|                  01|      344|              30|          0|                      1|                      1|       643|                   |                 |                          |           OJEDA|                |       MIGUEL ANGEL|                  5|          M|1983-06-03|                    80|                 080|                  201|        100|                         0|                          82|                       21101000|                       0|                    null|                      null|                    null|                      null|                            |                13|                       0|                  0|                  1|                       null|             null|           GPROBATE|                2|                              1|                  AC|                   28|              null|            null|                    |                      null|   0020299181961|                       042|                null|          007|       006987700|                   N|                   |     001|           2009-10-15|                     null|                2006-04-27|      2021-04-30|              130632|                P37B|          VUELCO|            N|                     null|             2014-07-22| 2022-03-10 01:05:...|            01|                  0|                2|         1|             080|             54|           11|                   |             4451|         4104|  5848841581|               |                     04|                 N|                    N|                 |          |           |                 DECLARADO|           2022-07-18|                  01|                 CTES|                |                NORM AUTO|                  COPDTEL|        2022-07-18|         2022-07-18|       1900-01-01|                    |                     |                       |                      |                    |                      |                      00:00:00|                    00:00:00|         2022-07-18|         A118828|      2022-07-18|            PCLE20N|              180221|                   BATC| 2022-11-30 00:42:...|\n",
            "|   26183611|           00|0000037752045|    2019-08-16|          10000|                  00|      603|              34|          0|                      1|                      8|      2603|                   |                 |                          |          ALDREY|                |            AGUSTIN|                  1|          M|1993-07-22|                    80|                 080|                  201|        100|                         0|                          82|                       21101000|                       0|                    null|                      null|                    null|                      null|                           0|                 0|                       0|                  0|                  0|                       null|             null|            PCLE06R|                1|                              1|                  PO|                   47|              null|            null|                    |                      null|   0023377520459|                       042|                null|          016|       026183611|                   N|                 MD|     001|           2019-08-16|                     null|                2019-08-16|      2019-08-16|              004045|                P37B|         PCLE25H|            S|                     null|                   null| 2022-03-10 01:05:...|            00|                  0|                1|         1|             080|             54|           11|                   |             4341|         0084|  8056529871|               |                       |                 N|                    N|                 |          |           |                 DECLARADO|           2022-07-21|                  09|                 CTES|                |                NORM AUTO|                     COSM|        2022-07-21|         1900-01-01|       1900-01-01|                    |                     |                       |                      |                    |                      |                      00:00:00|                    00:00:00|         2022-07-21|          A59667|      2022-07-21|             A59667|              130651|                   L49G| 2022-11-30 00:42:...|\n",
            "|   26183611|           00|0000037752045|    2019-08-16|          10000|                  00|      603|              34|          0|                      1|                      8|      2603|                   |                 |                          |          ALDREY|                |            AGUSTIN|                  1|          M|1993-07-22|                    80|                 080|                  201|        100|                         0|                          82|                       21101000|                       0|                    null|                      null|                    null|                      null|                           0|                 0|                       0|                  0|                  0|                       null|             null|            PCLE06R|                1|                              1|                  PO|                   47|              null|            null|                    |                      null|   0023377520459|                       042|                null|          016|       026183611|                   N|                 MD|     001|           2019-08-16|                     null|                2019-08-16|      2019-08-16|              004045|                P37B|         PCLE25H|            S|                     null|                   null| 2022-03-10 01:05:...|            00|                  0|                2|         1|             080|             54|           11|                   |             4341|         0084|  8056529871|               |                       |                 N|                    N|                 |          |           |                 DECLARADO|           2022-07-21|                  01|                 CTES|                |                NORM AUTO|                  COPDTEL|        2022-07-21|         1900-01-01|       1900-01-01|                    |                     |                       |                      |                    |                      |                      00:00:00|                    00:00:00|         2022-07-21|        GPROBANK|      2022-07-21|           GPROBANK|              130906|                   4ZOE| 2022-11-30 00:42:...|\n",
            "|   26293280|           00|0000037681320|    2019-09-30|          10000|                  00|      999|              30|          0|                      1|                      1|      2609|                080|                 |                          |        FERREYRA|                |           VICTORIA|                  5|          F|1993-07-04|                    80|                 080|                  201|        100|                         0|                          82|                       21101000|                       0|                    null|                      null|                    null|                      null|                           2|                24|                       0|                  0|                  1|                       null|             null|            PCLE825|                2|                              2|                  AC|                   47|              null|            null|                    |                        21|   0027376813202|                       042|                null|          016|       026293280|                   N|                   |     001|           2021-01-19|                     null|                2019-09-30|      2022-02-21|              125938|                   B|         PCLE25H|            N|                     null|             2021-01-19| 2022-03-10 01:05:...|            00|                  0|                2|         3|             080|             54|         2323|                 15|               67|         7206|157089694205|               |                       |                 N|                    N|                 |          |           |                 DECLARADO|           2022-07-21|                  01|                 CTES|                |                NORM AUTO|                  COPDTEL|        2022-07-21|         1900-01-01|       1900-01-01|                    |                     |                       |                      |                    |                      |                      00:00:00|                    00:00:00|         2022-07-21|         A126531|      2022-07-21|            A126531|              144115|                   AH03| 2022-11-30 00:42:...|\n",
            "|   27008407|           00|0000039396015|    2020-07-01|          10000|                  00|       27|              34|          0|                      1|                      8|      4795|                   |                 |                          |           ORTIZ|                |   VICTOR JOSE LUIS|                  5|          M|1996-05-14|                    80|                 080|                  201|        100|                         0|                          82|                       21101000|                       0|                    null|                      null|                    null|                      null|                           0|                 0|                       0|                  0|                  1|                       null|             null|            PCLE06R|                1|                              1|                  IN|                   50|              null|            null|                    |                      null|   0023393960159|                       042|                null|          039|       027008407|                   N|                   |     004|           2020-07-01|                     null|                2020-07-01|      2020-07-01|              170330|                P37B|         PCLE15V|            S|                     null|                   null| 2022-03-10 01:05:...|            00|                  0|                1|         3|             080|             54|         2657|                 15|               22|         6503|732058098884|               |                       |                 N|                    N|                 |          |           |                 DECLARADO|           2022-10-24|                  01|                 CTES|                |                NORM AUTO|                   COPDTE|        2022-10-24|         1900-01-01|       1900-01-01|                    |                     |                       |                      |                    |                      |                      00:00:00|                    00:00:00|         2022-07-25|         A117815|      2022-10-24|            A127190|              092230|                   5857| 2022-11-30 00:42:...|\n",
            "|   19801715|           00|0000037870809|    2013-01-16|          10000|                  00|      314|              34|          0|                      1|                      1|       605|                   |                 |                          |          MARINO|                |            TATIANA|                  5|          M|1993-10-14|                    80|                 080|                  201|        100|                         0|                          82|                       21101000|                       0|                    null|                      null|                    null|                      null|                            |                 0|                       0|                  0|                  2|                       null|             null|            PCLE06R|                2|                              1|                  CA|                   47|              null|            null|                    |                      null|   0020378708096|                       042|                null|          016|       019801715|                   N|                   |     001|           2013-02-07|                     null|                2013-01-16|      2018-01-15|              115455|                P37B|         PCLE510|            S|                     null|                   null| 2022-03-10 01:05:...|            01|                  0|                2|         1|             080|             54|           11|                   |             4544|         8655|  1059286565|               |                       |                 N|                    N|                 |          |           |                 DECLARADO|           2022-08-01|                  01|                 CTES|                |                NORM AUTO|                  COPDTEL|        2022-08-01|         1900-01-01|       1900-01-01|                    |                     |                       |                      |                    |                      |                      00:00:00|                    00:00:00|         2022-08-01|         A118556|      2022-08-01|            A118556|              100725|                   6734| 2022-11-30 00:42:...|\n",
            "|   26488506|           00|0000036576678|    2019-11-27|          10000|                  00|      603|              34|          0|                      1|                      8|      2603|                   |                 |                          |         PAREDES|                |ANIBAL DARDO JAVIER|                  1|          M|1991-11-12|                    80|                 080|                  201|        100|                         0|                          82|                       21101000|                       0|                    null|                      null|                    null|                      null|                           0|                 0|                       0|                  0|                  0|                       null|             null|            PCLE06R|                1|                              1|                  PO|                   47|              null|            null|                    |                      null|   0023365766789|                       042|                null|          016|       026488506|                   N|                 MD|     001|           2019-11-27|                     null|                2019-11-27|      2019-11-27|              003122|                P37B|         PCLE25H|            S|                     null|                   null| 2022-03-10 01:05:...|            00|                  0|                1|         3|             080|             54|         2964|                 15|               54|         9154|476804622398|               |                       |                 N|                    N|                 |          |           |                 DECLARADO|           2022-09-01|                  01|                 PVTA|                |                NORM AUTO|                     COSM|        2022-09-01|         1900-01-01|       1900-01-01|                    |                     |                       |                      |                    |                      |                      00:00:00|                    00:00:00|         2022-09-01|        VW2CCON0|      2022-09-01|           VW2CCON0|              133038|                   PVTA| 2022-11-30 00:42:...|\n",
            "|   28660498|           00|0000037679303|    2022-03-02|          10000|                  01|       94|              30|          0|                      1|                      1|       299|                080|                 |                         1|        MARTINEZ|           ACUNA|   CYNTHIA CAROLINA|                  5|          F|1993-07-14|                    80|                 080|                  201|        100|                         0|                          82|                       21101000|                       0|                    null|                      null|                    null|                      null|                            |                 0|                       0|                  0|                  2|                       null|             null|           PB5C0010|                2|                              3|                  AC|                   47|              null|            null|                    |                      null|   0027376793031|                       042|                null|          007|       028660498|                   N|                   |     001|           2022-03-04|                     null|                2022-03-02|      2022-03-08|              205729|                BATC|         A115719|            N|                     null|             2022-03-04| 2022-03-10 01:05:...|            01|                  0|                2|         1|             080|             54|          223|                   |              451|         2038|  3399484580|               |                       |                 N|                    N|                 |          |           |                 DECLARADO|           2022-09-12|                  01|                 CTES|                |                NORM AUTO|                  COPDTEL|        2022-09-12|         1900-01-01|       1900-01-01|                    |                     |                       |                      |                    |                      |                      00:00:00|                    00:00:00|         2022-09-12|         A118977|      2022-09-12|            A118977|              123816|                   6544| 2022-11-30 00:42:...|\n",
            "|   25633010|           00|0000037668269|    2019-05-10|          10000|                  00|      603|              34|          0|                      1|                      8|      2603|                   |                 |                          |           ACIAR|                |      NOELI MARIBEL|                  1|          F|1993-07-07|                    80|                 080|                  201|        100|                         0|                          82|                       21101000|                       0|                    null|                      null|                    null|                      null|                           0|                 0|                       0|                  0|                  0|                       null|             null|            PCLE06R|                1|                              1|                  PO|                   47|              null|            null|                    |                      null|   0027376682698|                       042|                null|          016|       025633010|                   N|                 MD|     001|           2019-05-10|                     null|                2019-05-10|      2019-05-10|              003635|                P37B|         PCLE25H|            S|                     null|                   null| 2022-03-10 01:05:...|            00|                  0|                1|         3|             080|             54|           11|                 15|             5667|         3375|535359608479|               |                       |                 N|                    N|                 |          |           |                COMPROBADO|           2022-10-13|                  01|                 CTES|                |                NORM AUTO|                   COPDTE|        2022-09-30|         1900-01-01|       1900-01-01|                    |                     |                       |                      |                    |                      |                      00:00:00|                    00:00:00|         2022-09-26|         A129315|      2022-10-13|               XATM|              121932|                   XATM| 2022-11-30 00:42:...|\n",
            "|   21162204|           00|0000029158799|    2015-02-02|          10000|                  39|      142|              34|          0|                      1|                      1|       488|                080|                 |                          |         FABUNDI|                |              JESUS|                  5|          M|1981-12-24|                    80|                 080|                  201|        100|                         0|                          82|                       21101000|                       0|                    null|                      null|                    null|                      null|                            |                 0|                       0|                  0|                  2|                       null|             null|            PCLE05F|                2|                              1|                  CA|                   48|              null|            null|                    |                      null|   0020291587993|                       042|                null|          013|       021162204|                   N|                   |     001|           2015-02-18|                     null|                2015-02-02|      2018-01-13|              070251|                P37B|        GPROBANK|            S|                     null|             2015-02-18| 2022-03-10 01:05:...|            00|                  0|                4|         3|             080|             54|           11|                 15|             6286|         0946|113051084214|               |                       |                 N|                    N|                 |          |           |                 DECLARADO|           2022-09-28|                  01|                 WKFL|                |                NORM AUTO|                  COPDTEL|        2022-09-28|         1900-01-01|       1900-01-01|                    |                     |                       |                      |                    |                      |                      00:00:00|                    00:00:00|         2022-09-28|         A127366|      2022-09-28|            A127366|              120448|                   Y81K| 2022-11-30 00:42:...|\n",
            "|   25633010|           00|0000037668269|    2019-05-10|          10000|                  00|      603|              34|          0|                      1|                      8|      2603|                   |                 |                          |           ACIAR|                |      NOELI MARIBEL|                  1|          F|1993-07-07|                    80|                 080|                  201|        100|                         0|                          82|                       21101000|                       0|                    null|                      null|                    null|                      null|                           0|                 0|                       0|                  0|                  0|                       null|             null|            PCLE06R|                1|                              1|                  PO|                   47|              null|            null|                    |                      null|   0027376682698|                       042|                null|          016|       025633010|                   N|                 MD|     001|           2019-05-10|                     null|                2019-05-10|      2019-05-10|              003635|                P37B|         PCLE25H|            S|                     null|                   null| 2022-03-10 01:05:...|            01|                  0|                2|         1|             080|             54|           11|                   |             4342|         8605|  8901935610|               |                       |                 N|                    N|                 |          |           |                 DECLARADO|           2022-09-30|                  01|                 CTES|                |                NORM AUTO|                  COPDTEL|        2022-09-30|         1900-01-01|       1900-01-01|                    |                     |                       |                      |                    |                      |                      00:00:00|                    00:00:00|         2022-09-30|         A129315|      2022-09-30|            A129315|              121932|                   L0AX| 2022-11-30 00:42:...|\n",
            "|   24935788|           00|0000032548258|    2018-11-26|          10000|                  00|       52|              30|          0|                      1|                      1|      1300|                080|                 |                          |        ABANZINI|                |GUSTAVO MAXIMILIANO|                  5|          M|1987-04-02|                    80|                 080|                  201|        100|                         0|                          82|                       21101000|                       0|                    null|                      null|                    null|                      null|                            |                27|                       0|                  0|                  2|                       null|             null|           S1GFN690|                2|                              1|                  AC|                   47|              null|            null|                    |                      null|   0020325482584|                       042|                null|          016|       024935788|                   N|                   |     001|           2018-12-12|                     null|                2018-11-26|      2021-12-24|              111912|                 ATM|         PCLE510|            N|                     null|                   null| 2022-03-10 01:05:...|            00|                  0|                3|         3|             080|             54|         3447|                 15|               64|         4382|100854912474|               |                       |                 N|                    N|                 |          |           |                 DECLARADO|           2022-10-11|                  01|                 CTES|                |                NORM AUTO|                     COSM|        2022-10-11|         1900-01-01|       1900-01-01|                    |                     |                       |                      |                    |                      |                      00:00:00|                    00:00:00|         2022-10-11|         A115541|      2022-10-11|           PCLESMS0|              211539|                   4O03| 2022-11-30 00:42:...|\n",
            "|   27008407|           00|0000039396015|    2020-07-01|          10000|                  00|       27|              34|          0|                      1|                      8|      4795|                   |                 |                          |           ORTIZ|                |   VICTOR JOSE LUIS|                  5|          M|1996-05-14|                    80|                 080|                  201|        100|                         0|                          82|                       21101000|                       0|                    null|                      null|                    null|                      null|                           0|                 0|                       0|                  0|                  1|                       null|             null|            PCLE06R|                1|                              1|                  IN|                   50|              null|            null|                    |                      null|   0023393960159|                       042|                null|          039|       027008407|                   N|                   |     004|           2020-07-01|                     null|                2020-07-01|      2020-07-01|              170330|                P37B|         PCLE15V|            S|                     null|                   null| 2022-03-10 01:05:...|            00|                  0|                2|         3|             080|             54|         2657|                 15|               31|         3231|169530868436|               |                       |                 N|                    N|                 |          |           |                 DECLARADO|           2022-10-24|                  01|                 CTES|                |                NORM AUTO|                  COPDTEL|        2022-10-24|         1900-01-01|       1900-01-01|                    |                     |                       |                      |                    |                      |                      00:00:00|                    00:00:00|         2022-10-24|         A127190|      2022-10-24|            A127190|              092230|                   5857| 2022-11-30 00:42:...|\n",
            "|   23417903|           00|0000038989972|    2016-12-01|          10000|                  01|      995|              34|          0|                      1|                      8|      2603|                   |             PVTA|                          |GONZALEZ CANTERO|                |    MAURICIO ADRIAN|                  5|          M|1995-05-27|                    80|                 080|                  201|        100|                         0|                          82|                       21101000|                       0|                    null|                      null|                    null|                      null|                           0|                 0|                       0|                  0|                  0|                       null|             null|            PCLE06R|                1|                              1|                  PO|                    4|              null|            null|                    |                      null|   0000000000000|                       042|                null|          016|       023417903|                   N|                 MD|     001|           2016-12-01|                     null|                2016-12-01|      2016-12-01|              172535|                P37B|        VW2CEVA0|            S|                     null|                   null| 2022-03-10 01:05:...|            00|                  2|                1|         1|             080|             54|           11|                   |             4788|         3665|  2617017168|               |                       |                 N|                    S|                 |          |           |                COMPROBADO|           2022-11-08|                  01|                 WKFL|                |                NORM AUTO|                   COPDTE|        2022-11-02|         1900-01-01|       1900-01-01|                    |                     |                       |                      |                    |                      |                      00:00:00|                    00:00:00|         2022-11-02|          A86362|      2022-11-08|               XATM|              113856|                   XATM| 2022-11-30 00:42:...|\n",
            "|   28633515|           00|0000029606790|    2022-02-24|          10000|                  00|      603|              30|          0|                      1|                      8|      2603|                   |                 |                          |        MARTINEZ|                |      OMAR HUMBERTO|                  1|          M|1982-07-14|                    80|                 080|                  201|        100|                         0|                          82|                       21101000|                       0|                    null|                      null|                    null|                      null|                           0|                 0|                       0|                  0|                  0|                       null|             null|            PCLE25H|                1|                              1|                    |                   47|              null|            null|                    |                      null|   0020296067904|                       042|                null|          016|       028633515|                   N|                 MD|     001|           2022-02-24|                     null|                2022-02-24|      2022-02-24|              003349|                P37B|         PCLE25H|            S|                     null|                   null| 2022-03-10 01:05:...|            00|                  0|                1|         3|             080|             54|          351|                 15|              716|         8741|283462903121|               |                       |                 N|                    N|                 |          |           |                 DECLARADO|           2022-11-19|                  01|                 PVTA|                |                NORM AUTO|                     COSM|        2022-11-19|         1900-01-01|       1900-01-01|                    |                     |                       |                      |                    |                      |                      00:00:00|                    00:00:00|         2022-11-19|        VW2CCON0|      2022-11-19|           VW2CCON0|              202754|                   PVTA| 2022-11-30 00:42:...|\n",
            "|   26923214|           00|0000038854045|    2020-06-01|          10000|                  00|       13|              34|          0|                      1|                      8|      4556|                   |                 |                          |            DIAZ|                |       CLAUDIO JOEL|                  5|          M|1995-04-16|                    80|                 080|                  201|        100|                         0|                          82|                       21101000|                       0|                    null|                      null|                    null|                      null|                           0|                 0|                       0|                  0|                  1|                       null|             null|            PCLE06R|                1|                              1|                  IN|                   50|              null|            null|                    |                      null|   0020388540452|                       042|                null|          039|       026923214|                   N|                   |     004|           2020-06-01|                     null|                2020-06-01|      2020-06-01|              170423|                P37B|         PCLE15V|            S|                     null|                   null| 2022-03-10 01:05:...|            00|                  0|                1|         3|             080|             54|           11|                 15|             6705|         6375|080766214167|               |                       |                 N|                    N|                 |          |           |                COMPROBADO|           2022-11-22|                  01|                 CTES|                |                NORM AUTO|                  COPDTEL|        2022-11-22|         1900-01-01|       1900-01-01|                    |                     |                       |                      |                    |                      |                      00:00:00|                    00:00:00|         2022-11-22|         A114673|      2022-11-22|           PCLUPCRT|              113939|                   OSMS| 2022-11-30 00:42:...|\n",
            "|   28445138|           00|0000036790967|    2022-02-08|          10000|                  01|      603|              30|          0|                      1|                      8|      2603|                080|             PVTA|                          |         ZALEWKI|                |             MATIAS|                  5|          F|1992-09-05|                    80|                 080|                  201|        100|                         0|                          82|                       21101000|                       0|                    null|                      null|                    null|                      null|                           0|                 0|                       0|                  0|                  0|                       null|             null|           UPROVTAS|                1|                              1|                  PO|                    4|              null|            null|                    |                      null|   0000000000000|                       042|                null|          016|       028445138|                   N|                 MD|     001|           2022-02-08|                     null|                2022-02-08|      2022-02-08|              144058|                P37B|        UPROVTAS|            S|                     null|                   null| 2022-03-10 01:05:...|            00|                  0|                2|         3|             080|             54|           11|                 15|             6161|         5326|222003974740|               |                       |                 N|                    N|                 |          |           |                COMPROBADO|           2022-11-23|                  01|                 CTES|                |                NORM AUTO|                     COSM|        2022-11-23|         1900-01-01|       1900-01-01|                    |                     |                       |                      |                    |                      |                      00:00:00|                    00:00:00|         2022-11-23|          A61876|      2022-11-23|               XATM|              144737|                   XATM| 2022-11-30 00:42:...|\n",
            "+-----------+-------------+-------------+--------------+---------------+--------------------+---------+----------------+-----------+-----------------------+-----------------------+----------+-------------------+-----------------+--------------------------+----------------+----------------+-------------------+-------------------+-----------+----------+----------------------+--------------------+---------------------+-----------+--------------------------+----------------------------+-------------------------------+------------------------+------------------------+--------------------------+------------------------+--------------------------+----------------------------+------------------+------------------------+-------------------+-------------------+---------------------------+-----------------+-------------------+-----------------+-------------------------------+--------------------+---------------------+------------------+----------------+--------------------+--------------------------+----------------+--------------------------+--------------------+-------------+----------------+--------------------+-------------------+--------+---------------------+-------------------------+--------------------------+----------------+--------------------+--------------------+----------------+-------------+-------------------------+-----------------------+---------------------+--------------+-------------------+-----------------+----------+----------------+---------------+-------------+-------------------+-----------------+-------------+------------+---------------+-----------------------+------------------+---------------------+-----------------+----------+-----------+--------------------------+---------------------+--------------------+---------------------+----------------+-------------------------+-------------------------+------------------+-------------------+-----------------+--------------------+---------------------+-----------------------+----------------------+--------------------+----------------------+------------------------------+----------------------------+-------------------+----------------+----------------+-------------------+--------------------+-----------------------+---------------------+\n",
            "\n"
          ]
        }
      ]
    },
    {
      "cell_type": "markdown",
      "source": [],
      "metadata": {
        "id": "_IDpWzcDieox"
      }
    },
    {
      "cell_type": "markdown",
      "source": [
        "QUIERO: Filtrar el DataFrame de contactos telefónicos de clientes y resguardar los 3 contactos más actuales por cliente.   \n",
        "PARA: Reducir el volumen de datos y trabajar solo con los más actualizados\n",
        "\n",
        "registry_entry_date Momento en el que se realiza el alta de un registro\n",
        "last_change_date Fecha en el que se registra en el sitema un cambio en la informacion"
      ],
      "metadata": {
        "id": "-9ZMsbZQmGvs"
      }
    },
    {
      "cell_type": "code",
      "source": [
        "df_phones.sort('customer_id').show()"
      ],
      "metadata": {
        "colab": {
          "base_uri": "https://localhost:8080/"
        },
        "id": "rIzrBeqoieRv",
        "outputId": "188e217b-af4b-4cfe-df7c-b8796cc36a8f"
      },
      "execution_count": 40,
      "outputs": [
        {
          "output_type": "stream",
          "name": "stdout",
          "text": [
            "+-----------+--------------+-------------------+-----------------+----------+----------------+---------------+-------------+-------------------+-----------------+-------------+------------+---------------+-----------------------+------------------+---------------------+-----------------+----------+-----------+--------------------------+---------------------+--------------------+---------------------+----------------+-------------------------+-------------------------+------------------+-------------------+-----------------+--------------------+---------------------+-----------------------+----------------------+--------------------+----------------------+------------------------------+----------------------------+-------------------+----------------+----------------+-------------------+--------------------+-----------------------+---------------------+\n",
            "|customer_id|phone_use_type|address_sequence_id|phone_sequence_id|phone_type|phone_country_id|prefix_phone_id|phone_area_id|cellphone_prefix_id|phone_exchange_id|phone_line_id|    phone_id|phone_intern_id|aditional_info_txt_desc|primary_phone_type|address_sequence_type|address_town_name|zipcode_id|province_id|customer_phone_status_type|phone_status_mod_date|contact_channel_type|sender_application_id|wrong_phone_type|normalization_status_type|normalization_reason_name|normalization_date|validity_start_date|validity_end_date|dlvy_day_monday_type|dlvy_day_tuesday_type|dlvy_day_wednesday_type|dlvy_day_thursday_type|dlvy_day_friday_type|dlvy_day_saturday_type|delivery_contact_start_hm_date|delivery_contact_end_hm_date|registry_entry_date|register_user_id|last_change_date|last_change_user_id|last_change_hms_date|last_change_terminal_id|operational_load_date|\n",
            "+-----------+--------------+-------------------+-----------------+----------+----------------+---------------+-------------+-------------------+-----------------+-------------+------------+---------------+-----------------------+------------------+---------------------+-----------------+----------+-----------+--------------------------+---------------------+--------------------+---------------------+----------------+-------------------------+-------------------------+------------------+-------------------+-----------------+--------------------+---------------------+-----------------------+----------------------+--------------------+----------------------+------------------------------+----------------------------+-------------------+----------------+----------------+-------------------+--------------------+-----------------------+---------------------+\n",
            "|   00000007|            00|                  2|                1|         3|             080|             54|          266|                 15|              469|         7946|304920118694|               |                       |                 N|                    N|                 |          |           |                 DECLARADO|           2022-09-01|                  01|                 CTES|                |                NORM AUTO|                     COSM|        2022-09-01|         1900-01-01|       1900-01-01|                    |                     |                       |                      |                    |                      |                      00:00:00|                    00:00:00|         2022-09-01|         A126150|      2022-09-01|            A126150|              085907|                   L0CX| 2022-11-30 00:42:...|\n",
            "|   00000039|            00|                  0|                2|         3|             080|             54|          341|                 15|              284|         7321|142040288534|               |                       |                 N|                    N|                 |          |           |                 DECLARADO|           2022-09-20|                  01|                 CTES|                |                NORM AUTO|                     COSM|        2022-09-20|         1900-01-01|       1900-01-01|                    |                     |                       |                      |                    |                      |                      00:00:00|                    00:00:00|         2022-09-20|         A115480|      2022-09-20|            A115480|              140240|                   3586| 2022-11-30 00:42:...|\n",
            "|   00000044|            00|                  2|                2|         3|             080|             54|           11|                 15|             2506|         4159|150642392069|               |                       |                 N|                    N|                 |          |           |                 DECLARADO|           2022-10-03|                  01|                 CTES|                |                NORM AUTO|                     COSM|        2022-10-03|         1900-01-01|       1900-01-01|                    |                     |                       |                      |                    |                      |                      00:00:00|                    00:00:00|         2022-09-09|         A126255|      2022-10-03|           PCLESMS0|              211417|                   2556| 2022-11-30 00:42:...|\n",
            "|   00000381|            00|                  1|                1|         3|             080|             54|          381|                 15|              590|         9885|579839963031|               |                       |                 N|                    N|                 |          |           |                 DECLARADO|           2022-07-19|                  01|                 CTES|                |                NORM AUTO|                     COSM|        2022-07-19|         1900-01-01|       1900-01-01|                    |                     |                       |                      |                    |                      |                      00:00:00|                    00:00:00|         2022-07-19|         A126541|      2022-07-19|            A126541|              110528|                   Y2GC| 2022-11-30 00:42:...|\n",
            "|   00005527|            00|                  0|                2|         3|             080|             54|          261|                 15|              590|         4192|414386216022|               |                       |                 N|                    N|                 |          |           |                 DECLARADO|           2022-10-03|                  01|                 CTES|                |                NORM AUTO|                     COSM|        2022-10-03|         1900-01-01|       1900-01-01|                    |                     |                       |                      |                    |                      |                      00:00:00|                    00:00:00|         2022-10-03|         A116250|      2022-10-03|           PCLESMS0|              211417|                   A1ER| 2022-11-30 00:42:...|\n",
            "|   00005527|            00|                  0|                3|         3|             080|             54|          261|                 15|              386|         2762|386965082277|               |                       |                 N|                    N|                 |          |           |                COMPROBADO|           2022-10-03|                  01|                 CTES|                |                NORM AUTO|                     COSM|        2022-10-03|         1900-01-01|       1900-01-01|                    |                     |                       |                      |                    |                      |                      00:00:00|                    00:00:00|         2022-10-03|         A116250|      2022-10-03|           PCLUPCRT|              083101|                   OSMS| 2022-11-30 00:42:...|\n",
            "|   00013438|            00|                  0|                2|         3|             080|             54|           11|                 15|             3434|         0087|867720276639|               |                       |                 N|                    N|                 |          |           |                 DECLARADO|           2022-09-08|                  01|                 WKFL|                |                NORM AUTO|                     COSM|        2022-09-08|         1900-01-01|       1900-01-01|                    |                     |                       |                      |                    |                      |                      00:00:00|                    00:00:00|         2022-09-08|         A126483|      2022-09-08|            A126483|              113021|                   P101| 2022-11-30 00:42:...|\n",
            "|   00021991|            00|                  1|                1|         3|             080|             54|           11|                 15|             6489|         1848|345682952298|               |                       |                 N|                    N|                 |          |           |                COMPROBADO|           2022-08-05|                  01|                 CTES|                |                NORM AUTO|                  COPDTEL|        2022-08-09|         1900-01-01|       1900-01-01|                    |                     |                       |                      |                    |                      |                      00:00:00|                    00:00:00|         2022-08-05|         A115944|      2022-08-09|            A127729|              122515|                   0280| 2022-11-30 00:42:...|\n",
            "|   00038236|            00|                  2|                2|         3|             080|             54|           11|                 15|             5311|         5187|478970404176|               |                       |                 N|                    N|                 |          |           |                COMPROBADO|           2022-08-10|                  01|                 CTES|                |                NORM AUTO|                     COSM|        2022-08-10|         1900-01-01|       1900-01-01|                    |                     |                       |                      |                    |                      |                      00:00:00|                    00:00:00|         2022-08-10|         A118170|      2022-08-10|               XATM|              130116|                   XATM| 2022-11-30 00:42:...|\n",
            "|   00041884|            00|                  0|                2|         3|             080|             54|           11|                 15|             6157|         7947|035048875817|               |                       |                 N|                    N|                 |          |           |                 DECLARADO|           2022-07-28|                  01|                 WKFL|                |                NORM AUTO|                     COSM|        2022-07-28|         1900-01-01|       1900-01-01|                    |                     |                       |                      |                    |                      |                      00:00:00|                    00:00:00|         2022-07-28|         A117987|      2022-07-28|            A117987|              115102|                   PR02| 2022-11-30 00:42:...|\n",
            "|   00048126|            00|                  0|                3|         3|             080|             54|           11|                 15|             5337|         6523|415719030992|               |                       |                 N|                    N|                 |          |           |                COMPROBADO|           2022-10-21|                  16|                 FNET|                |                NORM AUTO|                     COSM|        2022-10-21|         1900-01-01|       1900-01-01|                   X|                    X|                      X|                     X|                   X|                     X|                      09:00:00|                    16:00:00|         2022-10-21|        GPROBANK|      2022-10-24|           PCLUPCRT|              014344|                   OSMS| 2022-11-30 00:42:...|\n",
            "|   00048225|            00|                  0|                2|         3|             080|             54|           11|                 15|             6518|         7983|963827126204|               |                       |                 N|                    N|                 |          |           |                 DECLARADO|           2022-07-08|                  01|                 WKFL|                |                NORM AUTO|                     COSM|        2022-07-08|         1900-01-01|       1900-01-01|                    |                     |                       |                      |                    |                      |                      00:00:00|                    00:00:00|         2022-07-08|         A118844|      2022-07-08|            A118844|              124620|                   PR00| 2022-11-30 00:42:...|\n",
            "|   00052103|            00|                  0|                2|         3|             080|             54|           11|                 15|             6995|         1912|537419593373|               |                       |                 N|                    N|                 |          |           |                 DECLARADO|           2022-09-27|                  16|                 FNET|                |                NORM AUTO|                     COSM|        2022-09-27|         1900-01-01|       1900-01-01|                   X|                    X|                      X|                     X|                   X|                     X|                      09:00:00|                    16:00:00|         2022-09-27|        GPROBANK|      2022-09-27|           GPROBANK|              093130|                   LWJZ| 2022-11-30 00:42:...|\n",
            "|   00064339|            00|                  0|                1|         1|             080|             54|         2966|                   |               42|         5661|  7371137147|               |                       |                 N|                    N|                 |          |           |                 DECLARADO|           2022-07-07|                  01|                 CTES|                |                NORM AUTO|                  COPDTEL|        2022-07-07|         1900-01-01|       1900-01-01|                    |                     |                       |                      |                    |                      |                      00:00:00|                    00:00:00|         2022-07-07|          A91425|      2022-07-07|             A91425|              111806|                   5916| 2022-11-30 00:42:...|\n",
            "|   00071569|            00|                  0|                1|         3|             080|             54|          358|                 15|              411|         2643|441427295031|               |                       |                 N|                    N|                 |          |           |                 DECLARADO|           2022-11-25|                  01|                 CTES|                |                NORM AUTO|                  COPDTEL|        2022-11-25|         1900-01-01|       1900-01-01|                    |                     |                       |                      |                    |                      |                      00:00:00|                    00:00:00|         2022-11-25|         A118772|      2022-11-25|            A118772|              093107|                   5715| 2022-11-30 00:42:...|\n",
            "|   00072996|            00|                  0|                3|         3|             080|             54|          291|                 15|              574|         0275|432161765719|               |                       |                 N|                    N|                 |          |           |                COMPROBADO|           2022-11-23|                  01|                 WKFL|                |                NORM AUTO|                     COSM|        2022-11-23|         1900-01-01|       1900-01-01|                    |                     |                       |                      |                    |                      |                      00:00:00|                    00:00:00|         2022-11-23|         A114726|      2022-11-23|           PCLUPCRT|              121717|                   OSMS| 2022-11-30 00:42:...|\n",
            "|   00076782|            00|                  0|                2|         1|             080|             54|          261|                   |              437|         2519|  2766715319|               |                       |                 N|                    N|                 |          |           |                 DECLARADO|           2022-08-03|                  01|                 CTES|                |                NORM AUTO|                  COPDTEL|        2022-08-03|         1900-01-01|       1900-01-01|                    |                     |                       |                      |                    |                      |                      00:00:00|                    00:00:00|         2022-08-03|        GPROBANK|      2022-08-03|           GPROBANK|              230930|                   4ZOZ| 2022-11-30 00:42:...|\n",
            "|   00077558|            00|                  0|                2|         3|             080|             54|           11|                 15|             5152|         2021|049475117647|               |                       |                 N|                    N|                 |          |           |                 DECLARADO|           2022-06-29|                  01|                 CTES|                |                NORM AUTO|                  COPDTEL|        2022-06-29|         1900-01-01|       1900-01-01|                    |                     |                       |                      |                    |                      |                      00:00:00|                    00:00:00|         2022-06-29|         A126362|      2022-06-29|            A126362|              145218|                   0507| 2022-11-30 00:42:...|\n",
            "|   00084439|            00|                  0|                2|         1|             080|             54|          221|                   |              421|         8843|  6954764655|               |                       |                 N|                    N|                 |          |           |                 DECLARADO|           2022-08-01|                  01|                 CTES|                |                NORM AUTO|                  COPDTEL|        2022-08-01|         1900-01-01|       1900-01-01|                    |                     |                       |                      |                    |                      |                      00:00:00|                    00:00:00|         2022-08-01|         A109382|      2022-08-01|            A109382|              140422|                   2906| 2022-11-30 00:42:...|\n",
            "|   00084439|            00|                  0|                3|         3|             080|             54|          297|                 15|              477|         9188|358522593064|               |                     04|                 N|                    N|                 |          |           |                COMPROBADO|           2022-10-20|                  01|                 WKFL|                |                NORM AUTO|                     COSM|        2022-10-20|         2022-10-20|       1900-01-01|                    |                     |                       |                      |                    |                      |                      00:00:00|                    00:00:00|         2022-10-20|         A109382|      2022-10-20|            PCLE20N|              180258|                   BATC| 2022-11-30 00:42:...|\n",
            "+-----------+--------------+-------------------+-----------------+----------+----------------+---------------+-------------+-------------------+-----------------+-------------+------------+---------------+-----------------------+------------------+---------------------+-----------------+----------+-----------+--------------------------+---------------------+--------------------+---------------------+----------------+-------------------------+-------------------------+------------------+-------------------+-----------------+--------------------+---------------------+-----------------------+----------------------+--------------------+----------------------+------------------------------+----------------------------+-------------------+----------------+----------------+-------------------+--------------------+-----------------------+---------------------+\n",
            "only showing top 20 rows\n",
            "\n"
          ]
        }
      ]
    },
    {
      "cell_type": "code",
      "source": [
        "from pyspark.sql.functions import row_number, desc"
      ],
      "metadata": {
        "id": "3iyrt-mgmH2X"
      },
      "execution_count": 25,
      "outputs": []
    },
    {
      "cell_type": "code",
      "source": [
        "from pyspark.sql.window import Window"
      ],
      "metadata": {
        "id": "k8z5MjQNB6wb"
      },
      "execution_count": 26,
      "outputs": []
    },
    {
      "cell_type": "code",
      "source": [
        "df_phonesCut = df_phones.drop('phone_intern_id','phone_country_id', 'aditional_info_txt_desc', 'primary_phone_type','address_sequence_type','address_town_name','zipcode_id', 'province_id','sender_application_id','normalization_status_type','normalization_reason_name','validity_start_date','validity_end_date','dlvy_day_monday_type','dlvy_day_tuesday_type','dlvy_day_wednesday_type','dlvy_day_thursday_type','dlvy_day_friday_type','dlvy_day_friday_type','dlvy_day_saturday_type','delivery_contact_start_hm_date','delivery_contact_end_hm_date','operational_load_date','normalization_date')"
      ],
      "metadata": {
        "id": "_VYkDx3zXbGH"
      },
      "execution_count": 55,
      "outputs": []
    },
    {
      "cell_type": "code",
      "source": [
        "df_phonesOrdenados = df_phonesCut.orderBy([df_phonesCut.customer_id, desc('last_change_date')])\n",
        "\n",
        "df_phonesOrdenados.show()"
      ],
      "metadata": {
        "colab": {
          "base_uri": "https://localhost:8080/"
        },
        "id": "MnEWSzRGCfNJ",
        "outputId": "17673895-0d9e-48d7-ac57-c0bf8503b483"
      },
      "execution_count": 63,
      "outputs": [
        {
          "output_type": "stream",
          "name": "stdout",
          "text": [
            "+-----------+--------------+-------------------+-----------------+----------+---------------+-------------+-------------------+-----------------+-------------+------------+--------------------------+---------------------+--------------------+----------------+-------------------+----------------+----------------+-------------------+--------------------+-----------------------+\n",
            "|customer_id|phone_use_type|address_sequence_id|phone_sequence_id|phone_type|prefix_phone_id|phone_area_id|cellphone_prefix_id|phone_exchange_id|phone_line_id|    phone_id|customer_phone_status_type|phone_status_mod_date|contact_channel_type|wrong_phone_type|registry_entry_date|register_user_id|last_change_date|last_change_user_id|last_change_hms_date|last_change_terminal_id|\n",
            "+-----------+--------------+-------------------+-----------------+----------+---------------+-------------+-------------------+-----------------+-------------+------------+--------------------------+---------------------+--------------------+----------------+-------------------+----------------+----------------+-------------------+--------------------+-----------------------+\n",
            "|   00000007|            00|                  2|                1|         3|             54|          266|                 15|              469|         7946|304920118694|                 DECLARADO|           2022-09-01|                  01|                |         2022-09-01|         A126150|      2022-09-01|            A126150|              085907|                   L0CX|\n",
            "|   00000039|            00|                  0|                2|         3|             54|          341|                 15|              284|         7321|142040288534|                 DECLARADO|           2022-09-20|                  01|                |         2022-09-20|         A115480|      2022-09-20|            A115480|              140240|                   3586|\n",
            "|   00000044|            00|                  2|                2|         3|             54|           11|                 15|             2506|         4159|150642392069|                 DECLARADO|           2022-10-03|                  01|                |         2022-09-09|         A126255|      2022-10-03|           PCLESMS0|              211417|                   2556|\n",
            "|   00000381|            00|                  1|                1|         3|             54|          381|                 15|              590|         9885|579839963031|                 DECLARADO|           2022-07-19|                  01|                |         2022-07-19|         A126541|      2022-07-19|            A126541|              110528|                   Y2GC|\n",
            "|   00005527|            00|                  0|                2|         3|             54|          261|                 15|              590|         4192|414386216022|                 DECLARADO|           2022-10-03|                  01|                |         2022-10-03|         A116250|      2022-10-03|           PCLESMS0|              211417|                   A1ER|\n",
            "|   00005527|            00|                  0|                3|         3|             54|          261|                 15|              386|         2762|386965082277|                COMPROBADO|           2022-10-03|                  01|                |         2022-10-03|         A116250|      2022-10-03|           PCLUPCRT|              083101|                   OSMS|\n",
            "|   00013438|            00|                  0|                2|         3|             54|           11|                 15|             3434|         0087|867720276639|                 DECLARADO|           2022-09-08|                  01|                |         2022-09-08|         A126483|      2022-09-08|            A126483|              113021|                   P101|\n",
            "|   00021991|            00|                  1|                1|         3|             54|           11|                 15|             6489|         1848|345682952298|                COMPROBADO|           2022-08-05|                  01|                |         2022-08-05|         A115944|      2022-08-09|            A127729|              122515|                   0280|\n",
            "|   00038236|            00|                  2|                2|         3|             54|           11|                 15|             5311|         5187|478970404176|                COMPROBADO|           2022-08-10|                  01|                |         2022-08-10|         A118170|      2022-08-10|               XATM|              130116|                   XATM|\n",
            "|   00041884|            00|                  0|                2|         3|             54|           11|                 15|             6157|         7947|035048875817|                 DECLARADO|           2022-07-28|                  01|                |         2022-07-28|         A117987|      2022-07-28|            A117987|              115102|                   PR02|\n",
            "|   00048126|            00|                  0|                3|         3|             54|           11|                 15|             5337|         6523|415719030992|                COMPROBADO|           2022-10-21|                  16|                |         2022-10-21|        GPROBANK|      2022-10-24|           PCLUPCRT|              014344|                   OSMS|\n",
            "|   00048225|            00|                  0|                2|         3|             54|           11|                 15|             6518|         7983|963827126204|                 DECLARADO|           2022-07-08|                  01|                |         2022-07-08|         A118844|      2022-07-08|            A118844|              124620|                   PR00|\n",
            "|   00052103|            00|                  0|                2|         3|             54|           11|                 15|             6995|         1912|537419593373|                 DECLARADO|           2022-09-27|                  16|                |         2022-09-27|        GPROBANK|      2022-09-27|           GPROBANK|              093130|                   LWJZ|\n",
            "|   00064339|            00|                  0|                1|         1|             54|         2966|                   |               42|         5661|  7371137147|                 DECLARADO|           2022-07-07|                  01|                |         2022-07-07|          A91425|      2022-07-07|             A91425|              111806|                   5916|\n",
            "|   00071569|            00|                  0|                1|         3|             54|          358|                 15|              411|         2643|441427295031|                 DECLARADO|           2022-11-25|                  01|                |         2022-11-25|         A118772|      2022-11-25|            A118772|              093107|                   5715|\n",
            "|   00072996|            00|                  0|                3|         3|             54|          291|                 15|              574|         0275|432161765719|                COMPROBADO|           2022-11-23|                  01|                |         2022-11-23|         A114726|      2022-11-23|           PCLUPCRT|              121717|                   OSMS|\n",
            "|   00076782|            00|                  0|                2|         1|             54|          261|                   |              437|         2519|  2766715319|                 DECLARADO|           2022-08-03|                  01|                |         2022-08-03|        GPROBANK|      2022-08-03|           GPROBANK|              230930|                   4ZOZ|\n",
            "|   00077558|            00|                  0|                2|         3|             54|           11|                 15|             5152|         2021|049475117647|                 DECLARADO|           2022-06-29|                  01|                |         2022-06-29|         A126362|      2022-06-29|            A126362|              145218|                   0507|\n",
            "|   00084439|            00|                  0|                3|         3|             54|          297|                 15|              477|         9188|358522593064|                COMPROBADO|           2022-10-20|                  01|                |         2022-10-20|         A109382|      2022-10-20|            PCLE20N|              180258|                   BATC|\n",
            "|   00084439|            00|                  0|                2|         1|             54|          221|                   |              421|         8843|  6954764655|                 DECLARADO|           2022-08-01|                  01|                |         2022-08-01|         A109382|      2022-08-01|            A109382|              140422|                   2906|\n",
            "+-----------+--------------+-------------------+-----------------+----------+---------------+-------------+-------------------+-----------------+-------------+------------+--------------------------+---------------------+--------------------+----------------+-------------------+----------------+----------------+-------------------+--------------------+-----------------------+\n",
            "only showing top 20 rows\n",
            "\n"
          ]
        }
      ]
    },
    {
      "cell_type": "code",
      "source": [
        "import pyspark.sql.functions as f\n",
        "from pyspark.sql import SparkSession\n",
        "from pyspark.sql.functions import concat,col"
      ],
      "metadata": {
        "id": "GWTKYB_ofu6s"
      },
      "execution_count": 64,
      "outputs": []
    },
    {
      "cell_type": "code",
      "source": [
        "df_phonesOrdenados = df_phonesOrdenados.select(concat(df_phonesOrdenados.prefix_phone_id,df_phonesOrdenados.phone_area_id,df_phonesOrdenados.phone_exchange_id,df_phonesOrdenados.phone_line_id).alias('Full_Phone'),'customer_id','last_change_date')"
      ],
      "metadata": {
        "id": "9hERzQKPG3g0"
      },
      "execution_count": 65,
      "outputs": []
    },
    {
      "cell_type": "code",
      "source": [
        "df_phonesOrdenados.show()"
      ],
      "metadata": {
        "colab": {
          "base_uri": "https://localhost:8080/"
        },
        "id": "FoPhEn2ZGS54",
        "outputId": "77f93b8c-496d-469b-97fd-747b99a554ba"
      },
      "execution_count": 69,
      "outputs": [
        {
          "output_type": "stream",
          "name": "stdout",
          "text": [
            "+------------+-----------+----------------+\n",
            "|  Full_Phone|customer_id|last_change_date|\n",
            "+------------+-----------+----------------+\n",
            "|542664697946|   00000007|      2022-09-01|\n",
            "|543412847321|   00000039|      2022-09-20|\n",
            "|541125064159|   00000044|      2022-10-03|\n",
            "|543815909885|   00000381|      2022-07-19|\n",
            "|542615904192|   00005527|      2022-10-03|\n",
            "|542613862762|   00005527|      2022-10-03|\n",
            "|541134340087|   00013438|      2022-09-08|\n",
            "|541164891848|   00021991|      2022-08-09|\n",
            "|541153115187|   00038236|      2022-08-10|\n",
            "|541161577947|   00041884|      2022-07-28|\n",
            "|541153376523|   00048126|      2022-10-24|\n",
            "|541165187983|   00048225|      2022-07-08|\n",
            "|541169951912|   00052103|      2022-09-27|\n",
            "|542966425661|   00064339|      2022-07-07|\n",
            "|543584112643|   00071569|      2022-11-25|\n",
            "|542915740275|   00072996|      2022-11-23|\n",
            "|542614372519|   00076782|      2022-08-03|\n",
            "|541151522021|   00077558|      2022-06-29|\n",
            "|542974779188|   00084439|      2022-10-20|\n",
            "|542214218843|   00084439|      2022-08-01|\n",
            "+------------+-----------+----------------+\n",
            "only showing top 20 rows\n",
            "\n"
          ]
        }
      ]
    },
    {
      "cell_type": "code",
      "source": [
        "df_phonesOrdenados.repartition(3).sortWithinPartitions('customer_id','Full_phone','last_change_date').withColumn(\"partition\", f.col(spark_partition_id)).show();"
      ],
      "metadata": {
        "colab": {
          "base_uri": "https://localhost:8080/",
          "height": 220
        },
        "id": "vtxLPtYtha3U",
        "outputId": "f7486aec-b03b-437e-a9f8-2139a0ec7d1e"
      },
      "execution_count": 87,
      "outputs": [
        {
          "output_type": "error",
          "ename": "NameError",
          "evalue": "ignored",
          "traceback": [
            "\u001b[0;31m---------------------------------------------------------------------------\u001b[0m",
            "\u001b[0;31mNameError\u001b[0m                                 Traceback (most recent call last)",
            "\u001b[0;32m<ipython-input-87-66a485d7af80>\u001b[0m in \u001b[0;36m<module>\u001b[0;34m\u001b[0m\n\u001b[0;32m----> 1\u001b[0;31m \u001b[0mdf_phonesOrdenados\u001b[0m\u001b[0;34m.\u001b[0m\u001b[0mrepartition\u001b[0m\u001b[0;34m(\u001b[0m\u001b[0;36m3\u001b[0m\u001b[0;34m)\u001b[0m\u001b[0;34m.\u001b[0m\u001b[0msortWithinPartitions\u001b[0m\u001b[0;34m(\u001b[0m\u001b[0;34m'customer_id'\u001b[0m\u001b[0;34m,\u001b[0m\u001b[0;34m'Full_phone'\u001b[0m\u001b[0;34m,\u001b[0m\u001b[0;34m'last_change_date'\u001b[0m\u001b[0;34m)\u001b[0m\u001b[0;34m.\u001b[0m\u001b[0mwithColumn\u001b[0m\u001b[0;34m(\u001b[0m\u001b[0;34m\"partition\"\u001b[0m\u001b[0;34m,\u001b[0m \u001b[0mf\u001b[0m\u001b[0;34m.\u001b[0m\u001b[0mcol\u001b[0m\u001b[0;34m(\u001b[0m\u001b[0mspark_partition_id\u001b[0m\u001b[0;34m)\u001b[0m\u001b[0;34m)\u001b[0m\u001b[0;34m.\u001b[0m\u001b[0mshow\u001b[0m\u001b[0;34m(\u001b[0m\u001b[0;34m)\u001b[0m\u001b[0;34m;\u001b[0m\u001b[0;34m\u001b[0m\u001b[0;34m\u001b[0m\u001b[0m\n\u001b[0m",
            "\u001b[0;31mNameError\u001b[0m: name 'spark_partition_id' is not defined"
          ]
        }
      ]
    },
    {
      "cell_type": "code",
      "source": [],
      "metadata": {
        "id": "LWdGRx181M8k"
      },
      "execution_count": null,
      "outputs": []
    }
  ]
}