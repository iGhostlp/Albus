{
  "nbformat": 4,
  "nbformat_minor": 0,
  "metadata": {
    "colab": {
      "provenance": [],
      "include_colab_link": true
    },
    "kernelspec": {
      "name": "python3",
      "display_name": "Python 3"
    },
    "language_info": {
      "name": "python"
    }
  },
  "cells": [
    {
      "cell_type": "markdown",
      "metadata": {
        "id": "view-in-github",
        "colab_type": "text"
      },
      "source": [
        "<a href=\"https://colab.research.google.com/github/iGhostlp/Albus/blob/severus/Proyecto_BBVA.ipynb\" target=\"_parent\"><img src=\"https://colab.research.google.com/assets/colab-badge.svg\" alt=\"Open In Colab\"/></a>"
      ]
    },
    {
      "cell_type": "markdown",
      "source": [
        "# Armado del entorno"
      ],
      "metadata": {
        "id": "HWni6Oa3Xst4"
      }
    },
    {
      "cell_type": "code",
      "execution_count": 90,
      "metadata": {
        "id": "7oZjRfdSVnQa"
      },
      "outputs": [],
      "source": [
        "# Download Spark\n",
        "!wget -q https://dlcdn.apache.org/spark/spark-3.3.2/spark-3.3.2-bin-hadoop3.tgz"
      ]
    },
    {
      "cell_type": "code",
      "source": [
        "# Unzip the file\n",
        "!tar xf spark-3.3.2-bin-hadoop3.tgz"
      ],
      "metadata": {
        "id": "4AqJxH7ZVvNa"
      },
      "execution_count": 91,
      "outputs": []
    },
    {
      "cell_type": "code",
      "source": [
        "!readlink -f $(which java) | sed \"s:bin/java::\""
      ],
      "metadata": {
        "colab": {
          "base_uri": "https://localhost:8080/"
        },
        "id": "jHCrfKNLWTsi",
        "outputId": "e8613254-b313-445b-ed3f-d2e3a4a24c04"
      },
      "execution_count": 92,
      "outputs": [
        {
          "output_type": "stream",
          "name": "stdout",
          "text": [
            "/usr/lib/jvm/java-11-openjdk-amd64/\n"
          ]
        }
      ]
    },
    {
      "cell_type": "code",
      "source": [
        "# Set up the environment for Spark\n",
        "import os\n",
        "os.environ[\"JAVA_HOME\"] = \"/usr/lib/jvm/java-11-openjdk-amd64/\"\n",
        "os.environ[\"SPARK_HOME\"] = '/content/spark-3.3.2-bin-hadoop3'"
      ],
      "metadata": {
        "id": "7VjkyMMOWVOs"
      },
      "execution_count": 93,
      "outputs": []
    },
    {
      "cell_type": "code",
      "source": [
        "# Install library for finding Spark\n",
        "!pip install -q findspark\n",
        "\n",
        "# Import the libary\n",
        "import findspark\n",
        "\n",
        "# Initiate findspark\n",
        "findspark.init()"
      ],
      "metadata": {
        "id": "idA0uSW7WW47"
      },
      "execution_count": 94,
      "outputs": []
    },
    {
      "cell_type": "code",
      "source": [
        "# Import SparkSession\n",
        "from pyspark.sql import SparkSession\n",
        "\n",
        "# Create a Spark Session\n",
        "spark = SparkSession.builder.master(\"local[*]\").config('spark.sql.parquet.datetimeRebaseModeInRead','CORRECTED').getOrCreate()\n",
        "\n",
        "# Check Spark Session Information\n",
        "spark"
      ],
      "metadata": {
        "colab": {
          "base_uri": "https://localhost:8080/",
          "height": 0
        },
        "id": "RjQQ7TU0WYYg",
        "outputId": "30df5f68-e68e-4a8e-8a5a-2101524cb6df"
      },
      "execution_count": 95,
      "outputs": [
        {
          "output_type": "execute_result",
          "data": {
            "text/plain": [
              "<pyspark.sql.session.SparkSession at 0x7f701c408730>"
            ],
            "text/html": [
              "\n",
              "            <div>\n",
              "                <p><b>SparkSession - in-memory</b></p>\n",
              "                \n",
              "        <div>\n",
              "            <p><b>SparkContext</b></p>\n",
              "\n",
              "            <p><a href=\"http://0f2363e2b52f:4040\">Spark UI</a></p>\n",
              "\n",
              "            <dl>\n",
              "              <dt>Version</dt>\n",
              "                <dd><code>v3.3.2</code></dd>\n",
              "              <dt>Master</dt>\n",
              "                <dd><code>local[*]</code></dd>\n",
              "              <dt>AppName</dt>\n",
              "                <dd><code>pyspark-shell</code></dd>\n",
              "            </dl>\n",
              "        </div>\n",
              "        \n",
              "            </div>\n",
              "        "
            ]
          },
          "metadata": {},
          "execution_count": 95
        }
      ]
    },
    {
      "cell_type": "markdown",
      "source": [
        "# Importado de funciones"
      ],
      "metadata": {
        "id": "ScNsjwRNsuLb"
      }
    },
    {
      "cell_type": "code",
      "source": [
        "import pyspark.sql.functions as F\n",
        "from pyspark.sql import SparkSession\n",
        "from pyspark.sql.functions import concat, concat_ws, col, row_number, desc, collect_list, to_json, struct, year, current_date, datediff, floor, when, lit\n",
        "from pyspark.sql.window import Window"
      ],
      "metadata": {
        "id": "V6pZxnWwOVBg"
      },
      "execution_count": 96,
      "outputs": []
    },
    {
      "cell_type": "code",
      "source": [
        "#Creación de un SQL context\n",
        "from pyspark.sql import SQLContext\n",
        "sqlContext = SQLContext(spark)"
      ],
      "metadata": {
        "colab": {
          "base_uri": "https://localhost:8080/"
        },
        "id": "6r1MPCMLJJ18",
        "outputId": "eb24fcd0-94ad-4577-d5c9-f050cd9527e3"
      },
      "execution_count": 97,
      "outputs": [
        {
          "output_type": "stream",
          "name": "stderr",
          "text": [
            "/content/spark-3.3.2-bin-hadoop3/python/pyspark/sql/context.py:112: FutureWarning: Deprecated in 3.0.0. Use SparkSession.builder.getOrCreate() instead.\n",
            "  warnings.warn(\n"
          ]
        }
      ]
    },
    {
      "cell_type": "markdown",
      "source": [
        "# Carga de parquets"
      ],
      "metadata": {
        "id": "Q5AVpwy7083X"
      }
    },
    {
      "cell_type": "code",
      "source": [
        "df_customer = spark.read.parquet('/content/Datasets/customer_basics.snappy.parquet')\n",
        "df_phones = spark.read.parquet('/content/Datasets/phones.snappy.parquet')\n",
        "df_address = spark.read.parquet('/content/Datasets/address.snappy.parquet')\n",
        "df_emails = spark.read.parquet('/content/Datasets/emails.snappy.parquet')\n",
        "df_marital_status = spark.read.parquet('/content/Datasets/marital_status_type.parquet')\n",
        "df_segment_type = spark.read.parquet('/content/Datasets/segment_type.parquet')\n",
        "df_customer_documents = spark.read.parquet('/content/Datasets/customer_documents.parquet')\n",
        "df_address_type = spark.read.parquet('/content/Datasets/address_type.parquet')\n",
        "df_gender = spark.read.parquet('/content/Datasets/gender.parquet')\n",
        "df_nationality = spark.read.parquet('/content/Datasets/nationality.parquet')\n",
        "df_personal_type = spark.read.parquet('/content/Datasets/personal_type.parquet')\n",
        "df_phone_type = spark.read.parquet('/content/Datasets/phone_type.parquet')\n",
        "df_province = spark.read.parquet('/content/Datasets/province.parquet')\n",
        "df_customer_segment = spark.read.parquet('/content/Datasets/customer_segment.parquet')\n",
        "df_customer_info_temp = spark.read.parquet('/content/Datasets/customer_info_temp.parquet')"
      ],
      "metadata": {
        "id": "KyG_qzVEWaV3"
      },
      "execution_count": 98,
      "outputs": []
    },
    {
      "cell_type": "markdown",
      "source": [
        "### Normalización de datos"
      ],
      "metadata": {
        "id": "ZWXD1CqV0B7O"
      }
    },
    {
      "cell_type": "code",
      "source": [
        "df_customer = df_customer.withColumnRenamed('last_change_date', 'l_c_d_customer')"
      ],
      "metadata": {
        "id": "QFH6W5UwP4gS"
      },
      "execution_count": 99,
      "outputs": []
    },
    {
      "cell_type": "code",
      "source": [
        "df_customer = df_customer.withColumn(\"job_type_desc\", \n",
        "                                             when(df_customer.job_type == 1, 'REL.DEPENDENCIA/FIJO')\n",
        "                                             .when(df_customer.job_type == 2, 'TEMPORAL')\n",
        "                                             .when(df_customer.job_type == 3, 'AUTONOMO/INDEPENDIENTE')\n",
        "                                             .when(df_customer.job_type == 3, 'OTROS')\n",
        "                                             .otherwise(\"-\"))"
      ],
      "metadata": {
        "id": "Z90hmVGjEIa-"
      },
      "execution_count": 100,
      "outputs": []
    },
    {
      "cell_type": "code",
      "source": [
        "df_marital_status_ok = df_marital_status.withColumn(\"marital_status_type\", \n",
        "                                             when(df_marital_status.martial_status_short_desc == \"NO INFORMA\", 0)\n",
        "                                             .when(df_marital_status.martial_status_short_desc == \"CASADO/A  \", 1)\n",
        "                                             .when(df_marital_status.martial_status_short_desc == \"VIUDO/A   \", 2)\n",
        "                                             .when(df_marital_status.martial_status_short_desc == \"SEPARADO/A\", 3)\n",
        "                                             .when(df_marital_status.martial_status_short_desc == \"DIVORCIADO\", 4)\n",
        "                                             .when(df_marital_status.martial_status_short_desc == \"SOLTERO/A \", 5)\n",
        "                                             .when(df_marital_status.martial_status_short_desc == \"CONVIVIENT\", 6)\n",
        "                                             .when(df_marital_status.martial_status_short_desc == \"OTROS     \", 7)\n",
        "                                             .when(df_marital_status.martial_status_short_desc == \"CONV. INSC\", 8)\n",
        "                                             .otherwise(\"-\"))"
      ],
      "metadata": {
        "id": "lLUiJ5YC0E0d"
      },
      "execution_count": 101,
      "outputs": []
    },
    {
      "cell_type": "markdown",
      "source": [
        "# Extraccion de datos\n",
        "\n"
      ],
      "metadata": {
        "id": "OMmwI7gkYZ5u"
      }
    },
    {
      "cell_type": "markdown",
      "source": [
        "### - 24 - Extraccion de datos desde parquet, clientes y teléfonos.\n",
        "####Crear un DataFrame que contenga el JOIN de la tabla t_abtq_customer_basics y tabla t_abtq_customer_phones."
      ],
      "metadata": {
        "id": "JNSaDeDCGImG"
      }
    },
    {
      "cell_type": "code",
      "source": [
        "df_customer_phones = df_phones.join(df_customer, 'customer_id')"
      ],
      "metadata": {
        "id": "lXvJoM9jWcHg"
      },
      "execution_count": 102,
      "outputs": []
    },
    {
      "cell_type": "code",
      "source": [
        "df_customer_phones.show()"
      ],
      "metadata": {
        "id": "0qFd1difZvmA",
        "outputId": "8417c57f-b776-4ca2-ce61-ccf8e25a129e",
        "colab": {
          "base_uri": "https://localhost:8080/"
        }
      },
      "execution_count": 103,
      "outputs": [
        {
          "output_type": "stream",
          "name": "stdout",
          "text": [
            "+-----------+--------------+-------------------+-----------------+----------+----------------+---------------+-------------+-------------------+-----------------+-------------+------------+---------------+-----------------------+------------------+---------------------+-----------------+----------+-----------+--------------------------+---------------------+--------------------+---------------------+----------------+-------------------------+-------------------------+------------------+-------------------+-----------------+--------------------+---------------------+-----------------------+----------------------+--------------------+----------------------+------------------------------+----------------------------+-------------------+----------------+----------------+-------------------+--------------------+-----------------------+---------------------+-------------+-------------+--------------+---------------+--------------------+---------+----------------+-----------+-----------------------+-----------------------+----------+-------------------+-----------------+--------------------------+----------------+----------------+-------------------+-------------------+-----------+----------+----------------------+--------------------+---------------------+-----------+--------------------------+----------------------------+-------------------------------+------------------------+------------------------+--------------------------+------------------------+--------------------------+----------------------------+------------------+------------------------+-------------------+-------------------+---------------------------+-----------------+-------------------+-----------------+-------------------------------+--------------------+---------------------+------------------+----------------+--------------------+--------------------------+----------------+--------------------------+--------------------+-------------+----------------+--------------------+-------------------+--------+---------------------+-------------------------+--------------------------+--------------+--------------------+--------------------+----------------+-------------+-------------------------+-----------------------+---------------------+--------------------+\n",
            "|customer_id|phone_use_type|address_sequence_id|phone_sequence_id|phone_type|phone_country_id|prefix_phone_id|phone_area_id|cellphone_prefix_id|phone_exchange_id|phone_line_id|    phone_id|phone_intern_id|aditional_info_txt_desc|primary_phone_type|address_sequence_type|address_town_name|zipcode_id|province_id|customer_phone_status_type|phone_status_mod_date|contact_channel_type|sender_application_id|wrong_phone_type|normalization_status_type|normalization_reason_name|normalization_date|validity_start_date|validity_end_date|dlvy_day_monday_type|dlvy_day_tuesday_type|dlvy_day_wednesday_type|dlvy_day_thursday_type|dlvy_day_friday_type|dlvy_day_saturday_type|delivery_contact_start_hm_date|delivery_contact_end_hm_date|registry_entry_date|register_user_id|last_change_date|last_change_user_id|last_change_hms_date|last_change_terminal_id|operational_load_date|personal_type|  personal_id|admission_date|sale_channel_id|operation_channel_id|branch_id|business_area_id|campaing_id|customer_situation_type|customer_condition_type|manager_id|tracking_manager_id|credit_manager_id|credit_recovery_manager_id|       last_name|second_last_name|         first_name|marital_status_type|gender_type|birth_date|country_nationality_id|residence_country_id|customer_subject_type|sector_type|customer_level_access_type|cust_bcra_econ_activity_type|internal_economic_activity_type|bbva_inhabilitation_type|customer_block_bbva_date|customer_unblock_bbva_date|customer_block_bcra_date|customer_unblock_bcra_date|customer_pending_notice_type|last_notice_number|last_reference_number_id|last_service_number|last_address_number|last_unlinking_account_date|customer_end_date|last_change_user_id|customer_pep_type|bbva_family_lnk_weighted_number|customer_status_type|scoring_activity_type|refinancing_number|refinancing_date|coholder_customer_id|customer_bcra_situation_id|customer_cuit_id|customer_position_vat_type|balance_closing_date|profession_id|bbva_cust_number|customer_linked_type|customer_entry_type|job_type|profession_start_date|customer_first_block_date|customer_registration_date|l_c_d_customer|last_change_hms_date|register_terminal_id|register_user_id|customer_type|customer_seniority_number|last_status_change_date|operational_load_date|       job_type_desc|\n",
            "+-----------+--------------+-------------------+-----------------+----------+----------------+---------------+-------------+-------------------+-----------------+-------------+------------+---------------+-----------------------+------------------+---------------------+-----------------+----------+-----------+--------------------------+---------------------+--------------------+---------------------+----------------+-------------------------+-------------------------+------------------+-------------------+-----------------+--------------------+---------------------+-----------------------+----------------------+--------------------+----------------------+------------------------------+----------------------------+-------------------+----------------+----------------+-------------------+--------------------+-----------------------+---------------------+-------------+-------------+--------------+---------------+--------------------+---------+----------------+-----------+-----------------------+-----------------------+----------+-------------------+-----------------+--------------------------+----------------+----------------+-------------------+-------------------+-----------+----------+----------------------+--------------------+---------------------+-----------+--------------------------+----------------------------+-------------------------------+------------------------+------------------------+--------------------------+------------------------+--------------------------+----------------------------+------------------+------------------------+-------------------+-------------------+---------------------------+-----------------+-------------------+-----------------+-------------------------------+--------------------+---------------------+------------------+----------------+--------------------+--------------------------+----------------+--------------------------+--------------------+-------------+----------------+--------------------+-------------------+--------+---------------------+-------------------------+--------------------------+--------------+--------------------+--------------------+----------------+-------------+-------------------------+-----------------------+---------------------+--------------------+\n",
            "|   24401530|            00|                  0|                3|         3|             080|             54|           11|                 15|             5656|         3942|356767213183|               |                       |                 N|                    N|                 |          |           |                 DECLARADO|           2022-07-04|                  35|                 TVTA|                |                NORM AUTO|                  COPDTEL|        2022-07-04|         1900-01-01|       1900-01-01|                    |                     |                       |                      |                    |                      |                      00:00:00|                    00:00:00|         2022-07-04|        GPROTLVT|      2022-07-04|           GPROTLVT|              154256|                   Y59G| 2022-11-30 00:42:...|           00|0000025563603|    2018-01-29|          10000|                  01|      170|              34|          0|                      1|                      1|       492|                080|                 |                          |         PARENTE|                |     CRISTINA NOEMI|                  5|          F|1977-02-03|                    80|                 080|                  201|        100|                         0|                          82|                       21101000|                       0|                    null|                      null|                    null|                      null|                           0|                 0|                       0|                  0|                  1|                       null|             null|            PCLE06R|                2|                              1|                  PO|                   35|              null|            null|                    |                      null|   0027255636036|                       042|                null|          007|       024401530|                   N|                   |     001|           2018-01-29|                     null|                2018-01-29|    2020-04-11|              182808|                P37B|         A127389|            S|                     null|             2018-01-29| 2022-03-10 01:05:...|REL.DEPENDENCIA/FIJO|\n",
            "|   06987700|            01|                  0|                2|         1|             080|             54|           11|                   |             4451|         4104|  5848841581|               |                     04|                 N|                    N|                 |          |           |                 DECLARADO|           2022-07-18|                  01|                 CTES|                |                NORM AUTO|                  COPDTEL|        2022-07-18|         2022-07-18|       1900-01-01|                    |                     |                       |                      |                    |                      |                      00:00:00|                    00:00:00|         2022-07-18|         A118828|      2022-07-18|            PCLE20N|              180221|                   BATC| 2022-11-30 00:42:...|           00|0000029918196|    2006-04-27|          10000|                  01|      344|              30|          0|                      1|                      1|       643|                   |                 |                          |           OJEDA|                |       MIGUEL ANGEL|                  5|          M|1983-06-03|                    80|                 080|                  201|        100|                         0|                          82|                       21101000|                       0|                    null|                      null|                    null|                      null|                            |                13|                       0|                  0|                  1|                       null|             null|           GPROBATE|                2|                              1|                  AC|                   28|              null|            null|                    |                      null|   0020299181961|                       042|                null|          007|       006987700|                   N|                   |     001|           2009-10-15|                     null|                2006-04-27|    2021-04-30|              130632|                P37B|          VUELCO|            N|                     null|             2014-07-22| 2022-03-10 01:05:...|REL.DEPENDENCIA/FIJO|\n",
            "|   26183611|            00|                  0|                1|         1|             080|             54|           11|                   |             4341|         0084|  8056529871|               |                       |                 N|                    N|                 |          |           |                 DECLARADO|           2022-07-21|                  09|                 CTES|                |                NORM AUTO|                     COSM|        2022-07-21|         1900-01-01|       1900-01-01|                    |                     |                       |                      |                    |                      |                      00:00:00|                    00:00:00|         2022-07-21|          A59667|      2022-07-21|             A59667|              130651|                   L49G| 2022-11-30 00:42:...|           00|0000037752045|    2019-08-16|          10000|                  00|      603|              34|          0|                      1|                      8|      2603|                   |                 |                          |          ALDREY|                |            AGUSTIN|                  1|          M|1993-07-22|                    80|                 080|                  201|        100|                         0|                          82|                       21101000|                       0|                    null|                      null|                    null|                      null|                           0|                 0|                       0|                  0|                  0|                       null|             null|            PCLE06R|                1|                              1|                  PO|                   47|              null|            null|                    |                      null|   0023377520459|                       042|                null|          016|       026183611|                   N|                 MD|     001|           2019-08-16|                     null|                2019-08-16|    2019-08-16|              004045|                P37B|         PCLE25H|            S|                     null|                   null| 2022-03-10 01:05:...|REL.DEPENDENCIA/FIJO|\n",
            "|   26183611|            00|                  0|                2|         1|             080|             54|           11|                   |             4341|         0084|  8056529871|               |                       |                 N|                    N|                 |          |           |                 DECLARADO|           2022-07-21|                  01|                 CTES|                |                NORM AUTO|                  COPDTEL|        2022-07-21|         1900-01-01|       1900-01-01|                    |                     |                       |                      |                    |                      |                      00:00:00|                    00:00:00|         2022-07-21|        GPROBANK|      2022-07-21|           GPROBANK|              130906|                   4ZOE| 2022-11-30 00:42:...|           00|0000037752045|    2019-08-16|          10000|                  00|      603|              34|          0|                      1|                      8|      2603|                   |                 |                          |          ALDREY|                |            AGUSTIN|                  1|          M|1993-07-22|                    80|                 080|                  201|        100|                         0|                          82|                       21101000|                       0|                    null|                      null|                    null|                      null|                           0|                 0|                       0|                  0|                  0|                       null|             null|            PCLE06R|                1|                              1|                  PO|                   47|              null|            null|                    |                      null|   0023377520459|                       042|                null|          016|       026183611|                   N|                 MD|     001|           2019-08-16|                     null|                2019-08-16|    2019-08-16|              004045|                P37B|         PCLE25H|            S|                     null|                   null| 2022-03-10 01:05:...|REL.DEPENDENCIA/FIJO|\n",
            "|   26293280|            00|                  0|                2|         3|             080|             54|         2323|                 15|               67|         7206|157089694205|               |                       |                 N|                    N|                 |          |           |                 DECLARADO|           2022-07-21|                  01|                 CTES|                |                NORM AUTO|                  COPDTEL|        2022-07-21|         1900-01-01|       1900-01-01|                    |                     |                       |                      |                    |                      |                      00:00:00|                    00:00:00|         2022-07-21|         A126531|      2022-07-21|            A126531|              144115|                   AH03| 2022-11-30 00:42:...|           00|0000037681320|    2019-09-30|          10000|                  00|      999|              30|          0|                      1|                      1|      2609|                080|                 |                          |        FERREYRA|                |           VICTORIA|                  5|          F|1993-07-04|                    80|                 080|                  201|        100|                         0|                          82|                       21101000|                       0|                    null|                      null|                    null|                      null|                           2|                24|                       0|                  0|                  1|                       null|             null|            PCLE825|                2|                              2|                  AC|                   47|              null|            null|                    |                        21|   0027376813202|                       042|                null|          016|       026293280|                   N|                   |     001|           2021-01-19|                     null|                2019-09-30|    2022-02-21|              125938|                   B|         PCLE25H|            N|                     null|             2021-01-19| 2022-03-10 01:05:...|REL.DEPENDENCIA/FIJO|\n",
            "|   27008407|            00|                  0|                1|         3|             080|             54|         2657|                 15|               22|         6503|732058098884|               |                       |                 N|                    N|                 |          |           |                 DECLARADO|           2022-10-24|                  01|                 CTES|                |                NORM AUTO|                   COPDTE|        2022-10-24|         1900-01-01|       1900-01-01|                    |                     |                       |                      |                    |                      |                      00:00:00|                    00:00:00|         2022-07-25|         A117815|      2022-10-24|            A127190|              092230|                   5857| 2022-11-30 00:42:...|           00|0000039396015|    2020-07-01|          10000|                  00|       27|              34|          0|                      1|                      8|      4795|                   |                 |                          |           ORTIZ|                |   VICTOR JOSE LUIS|                  5|          M|1996-05-14|                    80|                 080|                  201|        100|                         0|                          82|                       21101000|                       0|                    null|                      null|                    null|                      null|                           0|                 0|                       0|                  0|                  1|                       null|             null|            PCLE06R|                1|                              1|                  IN|                   50|              null|            null|                    |                      null|   0023393960159|                       042|                null|          039|       027008407|                   N|                   |     004|           2020-07-01|                     null|                2020-07-01|    2020-07-01|              170330|                P37B|         PCLE15V|            S|                     null|                   null| 2022-03-10 01:05:...|                   -|\n",
            "|   19801715|            01|                  0|                2|         1|             080|             54|           11|                   |             4544|         8655|  1059286565|               |                       |                 N|                    N|                 |          |           |                 DECLARADO|           2022-08-01|                  01|                 CTES|                |                NORM AUTO|                  COPDTEL|        2022-08-01|         1900-01-01|       1900-01-01|                    |                     |                       |                      |                    |                      |                      00:00:00|                    00:00:00|         2022-08-01|         A118556|      2022-08-01|            A118556|              100725|                   6734| 2022-11-30 00:42:...|           00|0000037870809|    2013-01-16|          10000|                  00|      314|              34|          0|                      1|                      1|       605|                   |                 |                          |          MARINO|                |            TATIANA|                  5|          M|1993-10-14|                    80|                 080|                  201|        100|                         0|                          82|                       21101000|                       0|                    null|                      null|                    null|                      null|                            |                 0|                       0|                  0|                  2|                       null|             null|            PCLE06R|                2|                              1|                  CA|                   47|              null|            null|                    |                      null|   0020378708096|                       042|                null|          016|       019801715|                   N|                   |     001|           2013-02-07|                     null|                2013-01-16|    2018-01-15|              115455|                P37B|         PCLE510|            S|                     null|                   null| 2022-03-10 01:05:...|REL.DEPENDENCIA/FIJO|\n",
            "|   26488506|            00|                  0|                1|         3|             080|             54|         2964|                 15|               54|         9154|476804622398|               |                       |                 N|                    N|                 |          |           |                 DECLARADO|           2022-09-01|                  01|                 PVTA|                |                NORM AUTO|                     COSM|        2022-09-01|         1900-01-01|       1900-01-01|                    |                     |                       |                      |                    |                      |                      00:00:00|                    00:00:00|         2022-09-01|        VW2CCON0|      2022-09-01|           VW2CCON0|              133038|                   PVTA| 2022-11-30 00:42:...|           00|0000036576678|    2019-11-27|          10000|                  00|      603|              34|          0|                      1|                      8|      2603|                   |                 |                          |         PAREDES|                |ANIBAL DARDO JAVIER|                  1|          M|1991-11-12|                    80|                 080|                  201|        100|                         0|                          82|                       21101000|                       0|                    null|                      null|                    null|                      null|                           0|                 0|                       0|                  0|                  0|                       null|             null|            PCLE06R|                1|                              1|                  PO|                   47|              null|            null|                    |                      null|   0023365766789|                       042|                null|          016|       026488506|                   N|                 MD|     001|           2019-11-27|                     null|                2019-11-27|    2019-11-27|              003122|                P37B|         PCLE25H|            S|                     null|                   null| 2022-03-10 01:05:...|REL.DEPENDENCIA/FIJO|\n",
            "|   28660498|            01|                  0|                2|         1|             080|             54|          223|                   |              451|         2038|  3399484580|               |                       |                 N|                    N|                 |          |           |                 DECLARADO|           2022-09-12|                  01|                 CTES|                |                NORM AUTO|                  COPDTEL|        2022-09-12|         1900-01-01|       1900-01-01|                    |                     |                       |                      |                    |                      |                      00:00:00|                    00:00:00|         2022-09-12|         A118977|      2022-09-12|            A118977|              123816|                   6544| 2022-11-30 00:42:...|           00|0000037679303|    2022-03-02|          10000|                  01|       94|              30|          0|                      1|                      1|       299|                080|                 |                         1|        MARTINEZ|           ACUNA|   CYNTHIA CAROLINA|                  5|          F|1993-07-14|                    80|                 080|                  201|        100|                         0|                          82|                       21101000|                       0|                    null|                      null|                    null|                      null|                            |                 0|                       0|                  0|                  2|                       null|             null|           PB5C0010|                2|                              3|                  AC|                   47|              null|            null|                    |                      null|   0027376793031|                       042|                null|          007|       028660498|                   N|                   |     001|           2022-03-04|                     null|                2022-03-02|    2022-03-08|              205729|                BATC|         A115719|            N|                     null|             2022-03-04| 2022-03-10 01:05:...|REL.DEPENDENCIA/FIJO|\n",
            "|   25633010|            00|                  0|                1|         3|             080|             54|           11|                 15|             5667|         3375|535359608479|               |                       |                 N|                    N|                 |          |           |                COMPROBADO|           2022-10-13|                  01|                 CTES|                |                NORM AUTO|                   COPDTE|        2022-09-30|         1900-01-01|       1900-01-01|                    |                     |                       |                      |                    |                      |                      00:00:00|                    00:00:00|         2022-09-26|         A129315|      2022-10-13|               XATM|              121932|                   XATM| 2022-11-30 00:42:...|           00|0000037668269|    2019-05-10|          10000|                  00|      603|              34|          0|                      1|                      8|      2603|                   |                 |                          |           ACIAR|                |      NOELI MARIBEL|                  1|          F|1993-07-07|                    80|                 080|                  201|        100|                         0|                          82|                       21101000|                       0|                    null|                      null|                    null|                      null|                           0|                 0|                       0|                  0|                  0|                       null|             null|            PCLE06R|                1|                              1|                  PO|                   47|              null|            null|                    |                      null|   0027376682698|                       042|                null|          016|       025633010|                   N|                 MD|     001|           2019-05-10|                     null|                2019-05-10|    2019-05-10|              003635|                P37B|         PCLE25H|            S|                     null|                   null| 2022-03-10 01:05:...|REL.DEPENDENCIA/FIJO|\n",
            "|   21162204|            00|                  0|                4|         3|             080|             54|           11|                 15|             6286|         0946|113051084214|               |                       |                 N|                    N|                 |          |           |                 DECLARADO|           2022-09-28|                  01|                 WKFL|                |                NORM AUTO|                  COPDTEL|        2022-09-28|         1900-01-01|       1900-01-01|                    |                     |                       |                      |                    |                      |                      00:00:00|                    00:00:00|         2022-09-28|         A127366|      2022-09-28|            A127366|              120448|                   Y81K| 2022-11-30 00:42:...|           00|0000029158799|    2015-02-02|          10000|                  39|      142|              34|          0|                      1|                      1|       488|                080|                 |                          |         FABUNDI|                |              JESUS|                  5|          M|1981-12-24|                    80|                 080|                  201|        100|                         0|                          82|                       21101000|                       0|                    null|                      null|                    null|                      null|                            |                 0|                       0|                  0|                  2|                       null|             null|            PCLE05F|                2|                              1|                  CA|                   48|              null|            null|                    |                      null|   0020291587993|                       042|                null|          013|       021162204|                   N|                   |     001|           2015-02-18|                     null|                2015-02-02|    2018-01-13|              070251|                P37B|        GPROBANK|            S|                     null|             2015-02-18| 2022-03-10 01:05:...|REL.DEPENDENCIA/FIJO|\n",
            "|   25633010|            01|                  0|                2|         1|             080|             54|           11|                   |             4342|         8605|  8901935610|               |                       |                 N|                    N|                 |          |           |                 DECLARADO|           2022-09-30|                  01|                 CTES|                |                NORM AUTO|                  COPDTEL|        2022-09-30|         1900-01-01|       1900-01-01|                    |                     |                       |                      |                    |                      |                      00:00:00|                    00:00:00|         2022-09-30|         A129315|      2022-09-30|            A129315|              121932|                   L0AX| 2022-11-30 00:42:...|           00|0000037668269|    2019-05-10|          10000|                  00|      603|              34|          0|                      1|                      8|      2603|                   |                 |                          |           ACIAR|                |      NOELI MARIBEL|                  1|          F|1993-07-07|                    80|                 080|                  201|        100|                         0|                          82|                       21101000|                       0|                    null|                      null|                    null|                      null|                           0|                 0|                       0|                  0|                  0|                       null|             null|            PCLE06R|                1|                              1|                  PO|                   47|              null|            null|                    |                      null|   0027376682698|                       042|                null|          016|       025633010|                   N|                 MD|     001|           2019-05-10|                     null|                2019-05-10|    2019-05-10|              003635|                P37B|         PCLE25H|            S|                     null|                   null| 2022-03-10 01:05:...|REL.DEPENDENCIA/FIJO|\n",
            "|   24935788|            00|                  0|                3|         3|             080|             54|         3447|                 15|               64|         4382|100854912474|               |                       |                 N|                    N|                 |          |           |                 DECLARADO|           2022-10-11|                  01|                 CTES|                |                NORM AUTO|                     COSM|        2022-10-11|         1900-01-01|       1900-01-01|                    |                     |                       |                      |                    |                      |                      00:00:00|                    00:00:00|         2022-10-11|         A115541|      2022-10-11|           PCLESMS0|              211539|                   4O03| 2022-11-30 00:42:...|           00|0000032548258|    2018-11-26|          10000|                  00|       52|              30|          0|                      1|                      1|      1300|                080|                 |                          |        ABANZINI|                |GUSTAVO MAXIMILIANO|                  5|          M|1987-04-02|                    80|                 080|                  201|        100|                         0|                          82|                       21101000|                       0|                    null|                      null|                    null|                      null|                            |                27|                       0|                  0|                  2|                       null|             null|           S1GFN690|                2|                              1|                  AC|                   47|              null|            null|                    |                      null|   0020325482584|                       042|                null|          016|       024935788|                   N|                   |     001|           2018-12-12|                     null|                2018-11-26|    2021-12-24|              111912|                 ATM|         PCLE510|            N|                     null|                   null| 2022-03-10 01:05:...|REL.DEPENDENCIA/FIJO|\n",
            "|   27008407|            00|                  0|                2|         3|             080|             54|         2657|                 15|               31|         3231|169530868436|               |                       |                 N|                    N|                 |          |           |                 DECLARADO|           2022-10-24|                  01|                 CTES|                |                NORM AUTO|                  COPDTEL|        2022-10-24|         1900-01-01|       1900-01-01|                    |                     |                       |                      |                    |                      |                      00:00:00|                    00:00:00|         2022-10-24|         A127190|      2022-10-24|            A127190|              092230|                   5857| 2022-11-30 00:42:...|           00|0000039396015|    2020-07-01|          10000|                  00|       27|              34|          0|                      1|                      8|      4795|                   |                 |                          |           ORTIZ|                |   VICTOR JOSE LUIS|                  5|          M|1996-05-14|                    80|                 080|                  201|        100|                         0|                          82|                       21101000|                       0|                    null|                      null|                    null|                      null|                           0|                 0|                       0|                  0|                  1|                       null|             null|            PCLE06R|                1|                              1|                  IN|                   50|              null|            null|                    |                      null|   0023393960159|                       042|                null|          039|       027008407|                   N|                   |     004|           2020-07-01|                     null|                2020-07-01|    2020-07-01|              170330|                P37B|         PCLE15V|            S|                     null|                   null| 2022-03-10 01:05:...|                   -|\n",
            "|   23417903|            00|                  2|                1|         1|             080|             54|           11|                   |             4788|         3665|  2617017168|               |                       |                 N|                    S|                 |          |           |                COMPROBADO|           2022-11-08|                  01|                 WKFL|                |                NORM AUTO|                   COPDTE|        2022-11-02|         1900-01-01|       1900-01-01|                    |                     |                       |                      |                    |                      |                      00:00:00|                    00:00:00|         2022-11-02|          A86362|      2022-11-08|               XATM|              113856|                   XATM| 2022-11-30 00:42:...|           00|0000038989972|    2016-12-01|          10000|                  01|      995|              34|          0|                      1|                      8|      2603|                   |             PVTA|                          |GONZALEZ CANTERO|                |    MAURICIO ADRIAN|                  5|          M|1995-05-27|                    80|                 080|                  201|        100|                         0|                          82|                       21101000|                       0|                    null|                      null|                    null|                      null|                           0|                 0|                       0|                  0|                  0|                       null|             null|            PCLE06R|                1|                              1|                  PO|                    4|              null|            null|                    |                      null|   0000000000000|                       042|                null|          016|       023417903|                   N|                 MD|     001|           2016-12-01|                     null|                2016-12-01|    2016-12-01|              172535|                P37B|        VW2CEVA0|            S|                     null|                   null| 2022-03-10 01:05:...|REL.DEPENDENCIA/FIJO|\n",
            "|   28633515|            00|                  0|                1|         3|             080|             54|          351|                 15|              716|         8741|283462903121|               |                       |                 N|                    N|                 |          |           |                 DECLARADO|           2022-11-19|                  01|                 PVTA|                |                NORM AUTO|                     COSM|        2022-11-19|         1900-01-01|       1900-01-01|                    |                     |                       |                      |                    |                      |                      00:00:00|                    00:00:00|         2022-11-19|        VW2CCON0|      2022-11-19|           VW2CCON0|              202754|                   PVTA| 2022-11-30 00:42:...|           00|0000029606790|    2022-02-24|          10000|                  00|      603|              30|          0|                      1|                      8|      2603|                   |                 |                          |        MARTINEZ|                |      OMAR HUMBERTO|                  1|          M|1982-07-14|                    80|                 080|                  201|        100|                         0|                          82|                       21101000|                       0|                    null|                      null|                    null|                      null|                           0|                 0|                       0|                  0|                  0|                       null|             null|            PCLE25H|                1|                              1|                    |                   47|              null|            null|                    |                      null|   0020296067904|                       042|                null|          016|       028633515|                   N|                 MD|     001|           2022-02-24|                     null|                2022-02-24|    2022-02-24|              003349|                P37B|         PCLE25H|            S|                     null|                   null| 2022-03-10 01:05:...|REL.DEPENDENCIA/FIJO|\n",
            "|   26923214|            00|                  0|                1|         3|             080|             54|           11|                 15|             6705|         6375|080766214167|               |                       |                 N|                    N|                 |          |           |                COMPROBADO|           2022-11-22|                  01|                 CTES|                |                NORM AUTO|                  COPDTEL|        2022-11-22|         1900-01-01|       1900-01-01|                    |                     |                       |                      |                    |                      |                      00:00:00|                    00:00:00|         2022-11-22|         A114673|      2022-11-22|           PCLUPCRT|              113939|                   OSMS| 2022-11-30 00:42:...|           00|0000038854045|    2020-06-01|          10000|                  00|       13|              34|          0|                      1|                      8|      4556|                   |                 |                          |            DIAZ|                |       CLAUDIO JOEL|                  5|          M|1995-04-16|                    80|                 080|                  201|        100|                         0|                          82|                       21101000|                       0|                    null|                      null|                    null|                      null|                           0|                 0|                       0|                  0|                  1|                       null|             null|            PCLE06R|                1|                              1|                  IN|                   50|              null|            null|                    |                      null|   0020388540452|                       042|                null|          039|       026923214|                   N|                   |     004|           2020-06-01|                     null|                2020-06-01|    2020-06-01|              170423|                P37B|         PCLE15V|            S|                     null|                   null| 2022-03-10 01:05:...|                   -|\n",
            "|   28445138|            00|                  0|                2|         3|             080|             54|           11|                 15|             6161|         5326|222003974740|               |                       |                 N|                    N|                 |          |           |                COMPROBADO|           2022-11-23|                  01|                 CTES|                |                NORM AUTO|                     COSM|        2022-11-23|         1900-01-01|       1900-01-01|                    |                     |                       |                      |                    |                      |                      00:00:00|                    00:00:00|         2022-11-23|          A61876|      2022-11-23|               XATM|              144737|                   XATM| 2022-11-30 00:42:...|           00|0000036790967|    2022-02-08|          10000|                  01|      603|              30|          0|                      1|                      8|      2603|                080|             PVTA|                          |         ZALEWKI|                |             MATIAS|                  5|          F|1992-09-05|                    80|                 080|                  201|        100|                         0|                          82|                       21101000|                       0|                    null|                      null|                    null|                      null|                           0|                 0|                       0|                  0|                  0|                       null|             null|           UPROVTAS|                1|                              1|                  PO|                    4|              null|            null|                    |                      null|   0000000000000|                       042|                null|          016|       028445138|                   N|                 MD|     001|           2022-02-08|                     null|                2022-02-08|    2022-02-08|              144058|                P37B|        UPROVTAS|            S|                     null|                   null| 2022-03-10 01:05:...|REL.DEPENDENCIA/FIJO|\n",
            "+-----------+--------------+-------------------+-----------------+----------+----------------+---------------+-------------+-------------------+-----------------+-------------+------------+---------------+-----------------------+------------------+---------------------+-----------------+----------+-----------+--------------------------+---------------------+--------------------+---------------------+----------------+-------------------------+-------------------------+------------------+-------------------+-----------------+--------------------+---------------------+-----------------------+----------------------+--------------------+----------------------+------------------------------+----------------------------+-------------------+----------------+----------------+-------------------+--------------------+-----------------------+---------------------+-------------+-------------+--------------+---------------+--------------------+---------+----------------+-----------+-----------------------+-----------------------+----------+-------------------+-----------------+--------------------------+----------------+----------------+-------------------+-------------------+-----------+----------+----------------------+--------------------+---------------------+-----------+--------------------------+----------------------------+-------------------------------+------------------------+------------------------+--------------------------+------------------------+--------------------------+----------------------------+------------------+------------------------+-------------------+-------------------+---------------------------+-----------------+-------------------+-----------------+-------------------------------+--------------------+---------------------+------------------+----------------+--------------------+--------------------------+----------------+--------------------------+--------------------+-------------+----------------+--------------------+-------------------+--------+---------------------+-------------------------+--------------------------+--------------+--------------------+--------------------+----------------+-------------+-------------------------+-----------------------+---------------------+--------------------+\n",
            "\n"
          ]
        }
      ]
    },
    {
      "cell_type": "markdown",
      "source": [
        "### - 25 - Extraccion de datos desde .parquet, clientes y direcciones\n",
        "####Crear un DataFrame que contenga el JOIN de la tabla t_abtq_customer_basics y tabla t_abtq_customer_adress."
      ],
      "metadata": {
        "id": "-0sm-Qx7kBVa"
      }
    },
    {
      "cell_type": "code",
      "source": [
        "df_customer_address = df_address.join(df_customer, 'customer_id')"
      ],
      "metadata": {
        "id": "wE8LkJZ6tjyN"
      },
      "execution_count": 104,
      "outputs": []
    },
    {
      "cell_type": "code",
      "source": [
        "df_customer_address.show()"
      ],
      "metadata": {
        "id": "ewysTyLUXXx9",
        "outputId": "c2d14cc0-7b9b-4dd2-8c6d-5d132d7eca08",
        "colab": {
          "base_uri": "https://localhost:8080/"
        }
      },
      "execution_count": 105,
      "outputs": [
        {
          "output_type": "stream",
          "name": "stdout",
          "text": [
            "+-----------+-----------------------+-------------------+--------------+-----------+------------------+---------------------------+-----------------+-------------+---------------------+-----------------+-----------------------+----------+---------------+-----------+------------------+----------------------+-------------------------+------------------+---------------------+------------------------------+-----------------------+--------------------+---------------------+------------------+-------------------------+-------------------------+------------------+-----------------------------+--------------------+---------------------+-----------------------+----------------------+--------------------+----------------------+------------------------------+----------------------------+------------------------+-------------------+----------------+----------------+-------------------+--------------------+-----------------------+-----------------+---------------------+-------------+-----------+--------------+---------------+--------------------+---------+----------------+-----------+-----------------------+-----------------------+----------+-------------------+-----------------+--------------------------+---------+----------------+----------+-------------------+-----------+----------+----------------------+--------------------+---------------------+-----------+--------------------------+----------------------------+-------------------------------+------------------------+------------------------+--------------------------+------------------------+--------------------------+----------------------------+------------------+------------------------+-------------------+-------------------+---------------------------+-----------------+-------------------+-----------------+-------------------------------+--------------------+---------------------+------------------+----------------+--------------------+--------------------------+----------------+--------------------------+--------------------+-------------+----------------+--------------------+-------------------+--------+---------------------+-------------------------+--------------------------+--------------+--------------------+--------------------+----------------+-------------+-------------------------+-----------------------+---------------------+-------------+\n",
            "|customer_id|address_priority_number|address_sequence_id|residence_type|street_name|address_outdoor_id|address_without_number_type|address_indoor_id|indoor_number|address_district_name|address_town_name|address_department_name|zipcode_id|long_zipcode_id|province_id|address_country_id|other_information_desc|address_relationship_type|address_start_date|address_verified_date|customer_locator_verified_type|address_status_mod_date|contact_channel_type|sender_application_id|returned_mail_type|normalization_status_type|normalization_reason_name|normalization_date|normalized_level_match_number|dlvy_day_monday_type|dlvy_day_tuesday_type|dlvy_day_wednesday_type|dlvy_day_thursday_type|dlvy_day_friday_type|dlvy_day_saturday_type|delivery_contact_start_hm_date|delivery_contact_end_hm_date|prev_address_sequence_id|registry_entry_date|register_user_id|last_change_date|last_change_user_id|last_change_hms_date|last_change_terminal_id|registration_type|operational_load_date|personal_type|personal_id|admission_date|sale_channel_id|operation_channel_id|branch_id|business_area_id|campaing_id|customer_situation_type|customer_condition_type|manager_id|tracking_manager_id|credit_manager_id|credit_recovery_manager_id|last_name|second_last_name|first_name|marital_status_type|gender_type|birth_date|country_nationality_id|residence_country_id|customer_subject_type|sector_type|customer_level_access_type|cust_bcra_econ_activity_type|internal_economic_activity_type|bbva_inhabilitation_type|customer_block_bbva_date|customer_unblock_bbva_date|customer_block_bcra_date|customer_unblock_bcra_date|customer_pending_notice_type|last_notice_number|last_reference_number_id|last_service_number|last_address_number|last_unlinking_account_date|customer_end_date|last_change_user_id|customer_pep_type|bbva_family_lnk_weighted_number|customer_status_type|scoring_activity_type|refinancing_number|refinancing_date|coholder_customer_id|customer_bcra_situation_id|customer_cuit_id|customer_position_vat_type|balance_closing_date|profession_id|bbva_cust_number|customer_linked_type|customer_entry_type|job_type|profession_start_date|customer_first_block_date|customer_registration_date|l_c_d_customer|last_change_hms_date|register_terminal_id|register_user_id|customer_type|customer_seniority_number|last_status_change_date|operational_load_date|job_type_desc|\n",
            "+-----------+-----------------------+-------------------+--------------+-----------+------------------+---------------------------+-----------------+-------------+---------------------+-----------------+-----------------------+----------+---------------+-----------+------------------+----------------------+-------------------------+------------------+---------------------+------------------------------+-----------------------+--------------------+---------------------+------------------+-------------------------+-------------------------+------------------+-----------------------------+--------------------+---------------------+-----------------------+----------------------+--------------------+----------------------+------------------------------+----------------------------+------------------------+-------------------+----------------+----------------+-------------------+--------------------+-----------------------+-----------------+---------------------+-------------+-----------+--------------+---------------+--------------------+---------+----------------+-----------+-----------------------+-----------------------+----------+-------------------+-----------------+--------------------------+---------+----------------+----------+-------------------+-----------+----------+----------------------+--------------------+---------------------+-----------+--------------------------+----------------------------+-------------------------------+------------------------+------------------------+--------------------------+------------------------+--------------------------+----------------------------+------------------+------------------------+-------------------+-------------------+---------------------------+-----------------+-------------------+-----------------+-------------------------------+--------------------+---------------------+------------------+----------------+--------------------+--------------------------+----------------+--------------------------+--------------------+-------------+----------------+--------------------+-------------------+--------+---------------------+-------------------------+--------------------------+--------------+--------------------+--------------------+----------------+-------------+-------------------------+-----------------------+---------------------+-------------+\n",
            "+-----------+-----------------------+-------------------+--------------+-----------+------------------+---------------------------+-----------------+-------------+---------------------+-----------------+-----------------------+----------+---------------+-----------+------------------+----------------------+-------------------------+------------------+---------------------+------------------------------+-----------------------+--------------------+---------------------+------------------+-------------------------+-------------------------+------------------+-----------------------------+--------------------+---------------------+-----------------------+----------------------+--------------------+----------------------+------------------------------+----------------------------+------------------------+-------------------+----------------+----------------+-------------------+--------------------+-----------------------+-----------------+---------------------+-------------+-----------+--------------+---------------+--------------------+---------+----------------+-----------+-----------------------+-----------------------+----------+-------------------+-----------------+--------------------------+---------+----------------+----------+-------------------+-----------+----------+----------------------+--------------------+---------------------+-----------+--------------------------+----------------------------+-------------------------------+------------------------+------------------------+--------------------------+------------------------+--------------------------+----------------------------+------------------+------------------------+-------------------+-------------------+---------------------------+-----------------+-------------------+-----------------+-------------------------------+--------------------+---------------------+------------------+----------------+--------------------+--------------------------+----------------+--------------------------+--------------------+-------------+----------------+--------------------+-------------------+--------+---------------------+-------------------------+--------------------------+--------------+--------------------+--------------------+----------------+-------------+-------------------------+-----------------------+---------------------+-------------+\n",
            "\n"
          ]
        }
      ]
    },
    {
      "cell_type": "markdown",
      "source": [
        "### - 26 - Extraccion de datos desde .parquet, clientes y correos electrónicos\n",
        "#### Crear un DataFrame que contenga el JOIN de la tabla t_abtq_customer_basics y tabla t_abtq_customer_email.   "
      ],
      "metadata": {
        "id": "D0SjaTWftWxp"
      }
    },
    {
      "cell_type": "code",
      "source": [
        "df_customer_emails = df_emails.join(df_customer, 'customer_id')"
      ],
      "metadata": {
        "id": "MFOQeJsFkBVb"
      },
      "execution_count": 106,
      "outputs": []
    },
    {
      "cell_type": "code",
      "source": [
        "df_customer_emails.show()"
      ],
      "metadata": {
        "id": "KQdpYwwzaoop",
        "outputId": "d0ae754e-e55a-4feb-ecc3-3276d52c0d09",
        "colab": {
          "base_uri": "https://localhost:8080/"
        }
      },
      "execution_count": 107,
      "outputs": [
        {
          "output_type": "stream",
          "name": "stdout",
          "text": [
            "+-----------+---------+-------------------+--------------+----------+------------------+----------+-----------------+--------------+-------------------+-------------+--------------------------+--------------+----------------+-------------------+--------------------+-----------------------+---------------------+--------------------------+-------------------+----------------+-------------+-----------+--------------+---------------+--------------------+---------+----------------+-----------+-----------------------+-----------------------+----------+-------------------+-----------------+--------------------------+---------+----------------+----------+-------------------+-----------+----------+----------------------+--------------------+---------------------+-----------+--------------------------+----------------------------+-------------------------------+------------------------+------------------------+--------------------------+------------------------+--------------------------+----------------------------+------------------+------------------------+-------------------+-------------------+---------------------------+-----------------+-------------------+-----------------+-------------------------------+--------------------+---------------------+------------------+----------------+--------------------+--------------------------+----------------+--------------------------+--------------------+-------------+----------------+--------------------+-------------------+--------+---------------------+-------------------------+--------------------------+--------------+--------------------+--------------------+----------------+-------------+-------------------------+-----------------------+---------------------+-------------+\n",
            "|customer_id|role_type|address_sequence_id|residence_type|email_type|primary_email_type|email_desc|email_domain_type|encripted_type|field_length_number|comments_desc|customer_email_status_type|email_app_type|register_user_id|last_change_user_id|last_change_hms_date|last_change_terminal_id|operational_load_date|customer_email_status_date|registry_entry_date|last_change_date|personal_type|personal_id|admission_date|sale_channel_id|operation_channel_id|branch_id|business_area_id|campaing_id|customer_situation_type|customer_condition_type|manager_id|tracking_manager_id|credit_manager_id|credit_recovery_manager_id|last_name|second_last_name|first_name|marital_status_type|gender_type|birth_date|country_nationality_id|residence_country_id|customer_subject_type|sector_type|customer_level_access_type|cust_bcra_econ_activity_type|internal_economic_activity_type|bbva_inhabilitation_type|customer_block_bbva_date|customer_unblock_bbva_date|customer_block_bcra_date|customer_unblock_bcra_date|customer_pending_notice_type|last_notice_number|last_reference_number_id|last_service_number|last_address_number|last_unlinking_account_date|customer_end_date|last_change_user_id|customer_pep_type|bbva_family_lnk_weighted_number|customer_status_type|scoring_activity_type|refinancing_number|refinancing_date|coholder_customer_id|customer_bcra_situation_id|customer_cuit_id|customer_position_vat_type|balance_closing_date|profession_id|bbva_cust_number|customer_linked_type|customer_entry_type|job_type|profession_start_date|customer_first_block_date|customer_registration_date|l_c_d_customer|last_change_hms_date|register_terminal_id|register_user_id|customer_type|customer_seniority_number|last_status_change_date|operational_load_date|job_type_desc|\n",
            "+-----------+---------+-------------------+--------------+----------+------------------+----------+-----------------+--------------+-------------------+-------------+--------------------------+--------------+----------------+-------------------+--------------------+-----------------------+---------------------+--------------------------+-------------------+----------------+-------------+-----------+--------------+---------------+--------------------+---------+----------------+-----------+-----------------------+-----------------------+----------+-------------------+-----------------+--------------------------+---------+----------------+----------+-------------------+-----------+----------+----------------------+--------------------+---------------------+-----------+--------------------------+----------------------------+-------------------------------+------------------------+------------------------+--------------------------+------------------------+--------------------------+----------------------------+------------------+------------------------+-------------------+-------------------+---------------------------+-----------------+-------------------+-----------------+-------------------------------+--------------------+---------------------+------------------+----------------+--------------------+--------------------------+----------------+--------------------------+--------------------+-------------+----------------+--------------------+-------------------+--------+---------------------+-------------------------+--------------------------+--------------+--------------------+--------------------+----------------+-------------+-------------------------+-----------------------+---------------------+-------------+\n",
            "+-----------+---------+-------------------+--------------+----------+------------------+----------+-----------------+--------------+-------------------+-------------+--------------------------+--------------+----------------+-------------------+--------------------+-----------------------+---------------------+--------------------------+-------------------+----------------+-------------+-----------+--------------+---------------+--------------------+---------+----------------+-----------+-----------------------+-----------------------+----------+-------------------+-----------------+--------------------------+---------+----------------+----------+-------------------+-----------+----------+----------------------+--------------------+---------------------+-----------+--------------------------+----------------------------+-------------------------------+------------------------+------------------------+--------------------------+------------------------+--------------------------+----------------------------+------------------+------------------------+-------------------+-------------------+---------------------------+-----------------+-------------------+-----------------+-------------------------------+--------------------+---------------------+------------------+----------------+--------------------+--------------------------+----------------+--------------------------+--------------------+-------------+----------------+--------------------+-------------------+--------+---------------------+-------------------------+--------------------------+--------------+--------------------+--------------------+----------------+-------------+-------------------------+-----------------------+---------------------+-------------+\n",
            "\n"
          ]
        }
      ]
    },
    {
      "cell_type": "markdown",
      "source": [
        "# Filtrar datos, reducir volumen"
      ],
      "metadata": {
        "id": "v898pfOnvE_d"
      }
    },
    {
      "cell_type": "markdown",
      "source": [
        "####- 27 - Filtrar el DataFrame de contactos telefónicos de clientes y resguardar los 3 contactos más actuales por cliente."
      ],
      "metadata": {
        "id": "cMRaId42aHMV"
      }
    },
    {
      "cell_type": "code",
      "source": [
        "df_customer_phones_sorted = df_customer_phones.orderBy([df_customer_phones.customer_id, desc('last_change_date')])"
      ],
      "metadata": {
        "id": "q_ftH3XKWwRS"
      },
      "execution_count": 108,
      "outputs": []
    },
    {
      "cell_type": "code",
      "source": [
        "window = Window.partitionBy(df_customer_phones_sorted.customer_id).orderBy(desc(df_customer_phones_sorted.last_change_date))"
      ],
      "metadata": {
        "id": "fRs0zhTdXDtA"
      },
      "execution_count": 109,
      "outputs": []
    },
    {
      "cell_type": "code",
      "source": [
        "df_phone_contact = df_customer_phones_sorted.withColumn('row_num', row_number().over(window))\n",
        "df_phone_contact = df_phone_contact.filter(df_phone_contact.row_num <= 3)"
      ],
      "metadata": {
        "id": "kUN3ajuZXFvz"
      },
      "execution_count": 110,
      "outputs": []
    },
    {
      "cell_type": "code",
      "source": [
        "df_phone_contact = df_phone_contact.withColumn(\"full_phone\", concat_ws(\"-\", 'prefix_phone_id', 'phone_area_id', 'phone_exchange_id', 'phone_line_id'))"
      ],
      "metadata": {
        "id": "M_SLPUIEvXso"
      },
      "execution_count": 111,
      "outputs": []
    },
    {
      "cell_type": "code",
      "source": [
        "df_pivot_pc = df_phone_contact.groupBy('customer_id').agg(collect_list('full_phone').alias('last_3_changes_list'))"
      ],
      "metadata": {
        "id": "K-AIfg0_c423"
      },
      "execution_count": 112,
      "outputs": []
    },
    {
      "cell_type": "code",
      "source": [
        "df_pivot_phone = df_pivot_pc.selectExpr('customer_id', 'last_3_changes_list[0] as phone_1', 'last_3_changes_list[1] as phone_2', 'last_3_changes_list[2] as phone_3')"
      ],
      "metadata": {
        "id": "wklSvSASfGbH"
      },
      "execution_count": 113,
      "outputs": []
    },
    {
      "cell_type": "code",
      "source": [
        "df_pivot_phone = df_pivot_phone.na.fill('---')\n",
        "df_pivot_phone.show()"
      ],
      "metadata": {
        "id": "m2D8d8s7hlUR",
        "outputId": "fbb5469d-452b-415b-d70b-934233403460",
        "colab": {
          "base_uri": "https://localhost:8080/"
        }
      },
      "execution_count": 114,
      "outputs": [
        {
          "output_type": "stream",
          "name": "stdout",
          "text": [
            "+-----------+---------------+---------------+-------+\n",
            "|customer_id|        phone_1|        phone_2|phone_3|\n",
            "+-----------+---------------+---------------+-------+\n",
            "|   06987700|54-11-4451-4104|            ---|    ---|\n",
            "|   19801715|54-11-4544-8655|            ---|    ---|\n",
            "|   21162204|54-11-6286-0946|            ---|    ---|\n",
            "|   23417903|54-11-4788-3665|            ---|    ---|\n",
            "|   24401530|54-11-5656-3942|            ---|    ---|\n",
            "|   24935788|54-3447-64-4382|            ---|    ---|\n",
            "|   25633010|54-11-5667-3375|54-11-4342-8605|    ---|\n",
            "|   26183611|54-11-4341-0084|54-11-4341-0084|    ---|\n",
            "|   26293280|54-2323-67-7206|            ---|    ---|\n",
            "|   26488506|54-2964-54-9154|            ---|    ---|\n",
            "|   26923214|54-11-6705-6375|            ---|    ---|\n",
            "|   27008407|54-2657-22-6503|54-2657-31-3231|    ---|\n",
            "|   28445138|54-11-6161-5326|            ---|    ---|\n",
            "|   28633515|54-351-716-8741|            ---|    ---|\n",
            "|   28660498|54-223-451-2038|            ---|    ---|\n",
            "+-----------+---------------+---------------+-------+\n",
            "\n"
          ]
        }
      ]
    },
    {
      "cell_type": "markdown",
      "source": [
        "####- 28 - Filtrar el DataFrame de direcciones de clientes y resguardar los 3 contactos más actuales por cliente."
      ],
      "metadata": {
        "id": "581jyCaHt3SU"
      }
    },
    {
      "cell_type": "code",
      "source": [
        "df_customer_address_sorted = df_customer_address.orderBy([df_customer_address.customer_id, desc('last_change_date')])"
      ],
      "metadata": {
        "id": "d6HSi_IFdrxa"
      },
      "execution_count": 115,
      "outputs": []
    },
    {
      "cell_type": "code",
      "source": [
        "window = Window.partitionBy(df_customer_address_sorted.customer_id).orderBy(desc(df_customer_address_sorted.last_change_date))"
      ],
      "metadata": {
        "id": "j5gmni1Kdrxb"
      },
      "execution_count": 116,
      "outputs": []
    },
    {
      "cell_type": "code",
      "source": [
        "df_address_contact = df_customer_address_sorted.withColumn('row_num', row_number().over(window))\n",
        "df_address_contact = df_address_contact.filter(df_address_contact.row_num <= 3)"
      ],
      "metadata": {
        "id": "19eIQVaWdrxb"
      },
      "execution_count": 117,
      "outputs": []
    },
    {
      "cell_type": "code",
      "source": [
        "df_address_contact = df_address_contact.withColumn(\"full_address\", concat('street_name', 'address_outdoor_id', 'address_indoor_id', 'indoor_number', 'address_department_name', 'province_id', 'zipcode_id'))"
      ],
      "metadata": {
        "id": "fZUMeg4Bdrxb"
      },
      "execution_count": 118,
      "outputs": []
    },
    {
      "cell_type": "code",
      "source": [
        "df_pivot_ad = df_address_contact.groupBy('customer_id').agg(collect_list('full_address').alias('last_3_changes_list'))"
      ],
      "metadata": {
        "id": "j2VpUVDQdrxb"
      },
      "execution_count": 119,
      "outputs": []
    },
    {
      "cell_type": "code",
      "source": [
        "df_pivot_address = df_pivot_ad.selectExpr('customer_id', 'last_3_changes_list[0] as address_1', 'last_3_changes_list[1] as address_2', 'last_3_changes_list[2] as address_3')"
      ],
      "metadata": {
        "id": "U3Pvzadcdrxb"
      },
      "execution_count": 120,
      "outputs": []
    },
    {
      "cell_type": "code",
      "source": [
        "df_pivot_address = df_pivot_address.na.fill('---')\n",
        "df_pivot_address.toPandas()"
      ],
      "metadata": {
        "id": "d_d1U18vdrxb",
        "outputId": "c7104f04-83aa-401d-8f29-4aefccb3da4d",
        "colab": {
          "base_uri": "https://localhost:8080/",
          "height": 49
        }
      },
      "execution_count": 121,
      "outputs": [
        {
          "output_type": "execute_result",
          "data": {
            "text/plain": [
              "Empty DataFrame\n",
              "Columns: [customer_id, address_1, address_2, address_3]\n",
              "Index: []"
            ],
            "text/html": [
              "\n",
              "  <div id=\"df-fe87e9ee-3b8a-4d4c-afb2-cb0c72deb42a\">\n",
              "    <div class=\"colab-df-container\">\n",
              "      <div>\n",
              "<style scoped>\n",
              "    .dataframe tbody tr th:only-of-type {\n",
              "        vertical-align: middle;\n",
              "    }\n",
              "\n",
              "    .dataframe tbody tr th {\n",
              "        vertical-align: top;\n",
              "    }\n",
              "\n",
              "    .dataframe thead th {\n",
              "        text-align: right;\n",
              "    }\n",
              "</style>\n",
              "<table border=\"1\" class=\"dataframe\">\n",
              "  <thead>\n",
              "    <tr style=\"text-align: right;\">\n",
              "      <th></th>\n",
              "      <th>customer_id</th>\n",
              "      <th>address_1</th>\n",
              "      <th>address_2</th>\n",
              "      <th>address_3</th>\n",
              "    </tr>\n",
              "  </thead>\n",
              "  <tbody>\n",
              "  </tbody>\n",
              "</table>\n",
              "</div>\n",
              "      <button class=\"colab-df-convert\" onclick=\"convertToInteractive('df-fe87e9ee-3b8a-4d4c-afb2-cb0c72deb42a')\"\n",
              "              title=\"Convert this dataframe to an interactive table.\"\n",
              "              style=\"display:none;\">\n",
              "        \n",
              "  <svg xmlns=\"http://www.w3.org/2000/svg\" height=\"24px\"viewBox=\"0 0 24 24\"\n",
              "       width=\"24px\">\n",
              "    <path d=\"M0 0h24v24H0V0z\" fill=\"none\"/>\n",
              "    <path d=\"M18.56 5.44l.94 2.06.94-2.06 2.06-.94-2.06-.94-.94-2.06-.94 2.06-2.06.94zm-11 1L8.5 8.5l.94-2.06 2.06-.94-2.06-.94L8.5 2.5l-.94 2.06-2.06.94zm10 10l.94 2.06.94-2.06 2.06-.94-2.06-.94-.94-2.06-.94 2.06-2.06.94z\"/><path d=\"M17.41 7.96l-1.37-1.37c-.4-.4-.92-.59-1.43-.59-.52 0-1.04.2-1.43.59L10.3 9.45l-7.72 7.72c-.78.78-.78 2.05 0 2.83L4 21.41c.39.39.9.59 1.41.59.51 0 1.02-.2 1.41-.59l7.78-7.78 2.81-2.81c.8-.78.8-2.07 0-2.86zM5.41 20L4 18.59l7.72-7.72 1.47 1.35L5.41 20z\"/>\n",
              "  </svg>\n",
              "      </button>\n",
              "      \n",
              "  <style>\n",
              "    .colab-df-container {\n",
              "      display:flex;\n",
              "      flex-wrap:wrap;\n",
              "      gap: 12px;\n",
              "    }\n",
              "\n",
              "    .colab-df-convert {\n",
              "      background-color: #E8F0FE;\n",
              "      border: none;\n",
              "      border-radius: 50%;\n",
              "      cursor: pointer;\n",
              "      display: none;\n",
              "      fill: #1967D2;\n",
              "      height: 32px;\n",
              "      padding: 0 0 0 0;\n",
              "      width: 32px;\n",
              "    }\n",
              "\n",
              "    .colab-df-convert:hover {\n",
              "      background-color: #E2EBFA;\n",
              "      box-shadow: 0px 1px 2px rgba(60, 64, 67, 0.3), 0px 1px 3px 1px rgba(60, 64, 67, 0.15);\n",
              "      fill: #174EA6;\n",
              "    }\n",
              "\n",
              "    [theme=dark] .colab-df-convert {\n",
              "      background-color: #3B4455;\n",
              "      fill: #D2E3FC;\n",
              "    }\n",
              "\n",
              "    [theme=dark] .colab-df-convert:hover {\n",
              "      background-color: #434B5C;\n",
              "      box-shadow: 0px 1px 3px 1px rgba(0, 0, 0, 0.15);\n",
              "      filter: drop-shadow(0px 1px 2px rgba(0, 0, 0, 0.3));\n",
              "      fill: #FFFFFF;\n",
              "    }\n",
              "  </style>\n",
              "\n",
              "      <script>\n",
              "        const buttonEl =\n",
              "          document.querySelector('#df-fe87e9ee-3b8a-4d4c-afb2-cb0c72deb42a button.colab-df-convert');\n",
              "        buttonEl.style.display =\n",
              "          google.colab.kernel.accessAllowed ? 'block' : 'none';\n",
              "\n",
              "        async function convertToInteractive(key) {\n",
              "          const element = document.querySelector('#df-fe87e9ee-3b8a-4d4c-afb2-cb0c72deb42a');\n",
              "          const dataTable =\n",
              "            await google.colab.kernel.invokeFunction('convertToInteractive',\n",
              "                                                     [key], {});\n",
              "          if (!dataTable) return;\n",
              "\n",
              "          const docLinkHtml = 'Like what you see? Visit the ' +\n",
              "            '<a target=\"_blank\" href=https://colab.research.google.com/notebooks/data_table.ipynb>data table notebook</a>'\n",
              "            + ' to learn more about interactive tables.';\n",
              "          element.innerHTML = '';\n",
              "          dataTable['output_type'] = 'display_data';\n",
              "          await google.colab.output.renderOutput(dataTable, element);\n",
              "          const docLink = document.createElement('div');\n",
              "          docLink.innerHTML = docLinkHtml;\n",
              "          element.appendChild(docLink);\n",
              "        }\n",
              "      </script>\n",
              "    </div>\n",
              "  </div>\n",
              "  "
            ]
          },
          "metadata": {},
          "execution_count": 121
        }
      ]
    },
    {
      "cell_type": "markdown",
      "source": [
        "####- 29 - Filtrar el DataFrame de correos electrónicos de clientes  y resguardar los 3 contactos más actuales por cliente. "
      ],
      "metadata": {
        "id": "Fde4zMn4jXXD"
      }
    },
    {
      "cell_type": "code",
      "source": [
        "df_customer_emails_sorted = df_customer_emails.orderBy([df_customer_emails.customer_id, desc('last_change_date')])"
      ],
      "metadata": {
        "id": "wAtQGJfMgRHd"
      },
      "execution_count": 122,
      "outputs": []
    },
    {
      "cell_type": "code",
      "source": [
        "window = Window.partitionBy(df_customer_emails_sorted.customer_id).orderBy(desc(df_customer_emails_sorted.last_change_date))"
      ],
      "metadata": {
        "id": "1oIrfS-LgRHd"
      },
      "execution_count": 123,
      "outputs": []
    },
    {
      "cell_type": "code",
      "source": [
        "df_email_contact = df_customer_emails_sorted.withColumn('row_num', row_number().over(window))\n",
        "df_email_contact = df_email_contact.filter(df_email_contact.row_num <= 3)"
      ],
      "metadata": {
        "id": "zYMJ-3oLgRHd"
      },
      "execution_count": 124,
      "outputs": []
    },
    {
      "cell_type": "code",
      "source": [
        "df_pivot_ec = df_email_contact.groupBy('customer_id').agg(collect_list('email_desc').alias('last_3_changes_list'))"
      ],
      "metadata": {
        "id": "GPO3eGmbgRHe"
      },
      "execution_count": 125,
      "outputs": []
    },
    {
      "cell_type": "code",
      "source": [
        "df_pivot_email = df_pivot_ec.selectExpr('customer_id', 'last_3_changes_list[0] as email_1', 'last_3_changes_list[1] as email_2', 'last_3_changes_list[2] as email_3')"
      ],
      "metadata": {
        "id": "A0OnqllGgRHe"
      },
      "execution_count": 126,
      "outputs": []
    },
    {
      "cell_type": "code",
      "source": [
        "df_pivot_email = df_pivot_email.na.fill('---')\n",
        "df_pivot_email.toPandas()"
      ],
      "metadata": {
        "id": "efrb8V-AgRHe",
        "outputId": "4bfadb7f-448e-4d37-d79d-78297b9b27d2",
        "colab": {
          "base_uri": "https://localhost:8080/",
          "height": 49
        }
      },
      "execution_count": 127,
      "outputs": [
        {
          "output_type": "execute_result",
          "data": {
            "text/plain": [
              "Empty DataFrame\n",
              "Columns: [customer_id, email_1, email_2, email_3]\n",
              "Index: []"
            ],
            "text/html": [
              "\n",
              "  <div id=\"df-c9068c2a-4f89-4567-b7f2-fd7bf63e4b5b\">\n",
              "    <div class=\"colab-df-container\">\n",
              "      <div>\n",
              "<style scoped>\n",
              "    .dataframe tbody tr th:only-of-type {\n",
              "        vertical-align: middle;\n",
              "    }\n",
              "\n",
              "    .dataframe tbody tr th {\n",
              "        vertical-align: top;\n",
              "    }\n",
              "\n",
              "    .dataframe thead th {\n",
              "        text-align: right;\n",
              "    }\n",
              "</style>\n",
              "<table border=\"1\" class=\"dataframe\">\n",
              "  <thead>\n",
              "    <tr style=\"text-align: right;\">\n",
              "      <th></th>\n",
              "      <th>customer_id</th>\n",
              "      <th>email_1</th>\n",
              "      <th>email_2</th>\n",
              "      <th>email_3</th>\n",
              "    </tr>\n",
              "  </thead>\n",
              "  <tbody>\n",
              "  </tbody>\n",
              "</table>\n",
              "</div>\n",
              "      <button class=\"colab-df-convert\" onclick=\"convertToInteractive('df-c9068c2a-4f89-4567-b7f2-fd7bf63e4b5b')\"\n",
              "              title=\"Convert this dataframe to an interactive table.\"\n",
              "              style=\"display:none;\">\n",
              "        \n",
              "  <svg xmlns=\"http://www.w3.org/2000/svg\" height=\"24px\"viewBox=\"0 0 24 24\"\n",
              "       width=\"24px\">\n",
              "    <path d=\"M0 0h24v24H0V0z\" fill=\"none\"/>\n",
              "    <path d=\"M18.56 5.44l.94 2.06.94-2.06 2.06-.94-2.06-.94-.94-2.06-.94 2.06-2.06.94zm-11 1L8.5 8.5l.94-2.06 2.06-.94-2.06-.94L8.5 2.5l-.94 2.06-2.06.94zm10 10l.94 2.06.94-2.06 2.06-.94-2.06-.94-.94-2.06-.94 2.06-2.06.94z\"/><path d=\"M17.41 7.96l-1.37-1.37c-.4-.4-.92-.59-1.43-.59-.52 0-1.04.2-1.43.59L10.3 9.45l-7.72 7.72c-.78.78-.78 2.05 0 2.83L4 21.41c.39.39.9.59 1.41.59.51 0 1.02-.2 1.41-.59l7.78-7.78 2.81-2.81c.8-.78.8-2.07 0-2.86zM5.41 20L4 18.59l7.72-7.72 1.47 1.35L5.41 20z\"/>\n",
              "  </svg>\n",
              "      </button>\n",
              "      \n",
              "  <style>\n",
              "    .colab-df-container {\n",
              "      display:flex;\n",
              "      flex-wrap:wrap;\n",
              "      gap: 12px;\n",
              "    }\n",
              "\n",
              "    .colab-df-convert {\n",
              "      background-color: #E8F0FE;\n",
              "      border: none;\n",
              "      border-radius: 50%;\n",
              "      cursor: pointer;\n",
              "      display: none;\n",
              "      fill: #1967D2;\n",
              "      height: 32px;\n",
              "      padding: 0 0 0 0;\n",
              "      width: 32px;\n",
              "    }\n",
              "\n",
              "    .colab-df-convert:hover {\n",
              "      background-color: #E2EBFA;\n",
              "      box-shadow: 0px 1px 2px rgba(60, 64, 67, 0.3), 0px 1px 3px 1px rgba(60, 64, 67, 0.15);\n",
              "      fill: #174EA6;\n",
              "    }\n",
              "\n",
              "    [theme=dark] .colab-df-convert {\n",
              "      background-color: #3B4455;\n",
              "      fill: #D2E3FC;\n",
              "    }\n",
              "\n",
              "    [theme=dark] .colab-df-convert:hover {\n",
              "      background-color: #434B5C;\n",
              "      box-shadow: 0px 1px 3px 1px rgba(0, 0, 0, 0.15);\n",
              "      filter: drop-shadow(0px 1px 2px rgba(0, 0, 0, 0.3));\n",
              "      fill: #FFFFFF;\n",
              "    }\n",
              "  </style>\n",
              "\n",
              "      <script>\n",
              "        const buttonEl =\n",
              "          document.querySelector('#df-c9068c2a-4f89-4567-b7f2-fd7bf63e4b5b button.colab-df-convert');\n",
              "        buttonEl.style.display =\n",
              "          google.colab.kernel.accessAllowed ? 'block' : 'none';\n",
              "\n",
              "        async function convertToInteractive(key) {\n",
              "          const element = document.querySelector('#df-c9068c2a-4f89-4567-b7f2-fd7bf63e4b5b');\n",
              "          const dataTable =\n",
              "            await google.colab.kernel.invokeFunction('convertToInteractive',\n",
              "                                                     [key], {});\n",
              "          if (!dataTable) return;\n",
              "\n",
              "          const docLinkHtml = 'Like what you see? Visit the ' +\n",
              "            '<a target=\"_blank\" href=https://colab.research.google.com/notebooks/data_table.ipynb>data table notebook</a>'\n",
              "            + ' to learn more about interactive tables.';\n",
              "          element.innerHTML = '';\n",
              "          dataTable['output_type'] = 'display_data';\n",
              "          await google.colab.output.renderOutput(dataTable, element);\n",
              "          const docLink = document.createElement('div');\n",
              "          docLink.innerHTML = docLinkHtml;\n",
              "          element.appendChild(docLink);\n",
              "        }\n",
              "      </script>\n",
              "    </div>\n",
              "  </div>\n",
              "  "
            ]
          },
          "metadata": {},
          "execution_count": 127
        }
      ]
    },
    {
      "cell_type": "markdown",
      "source": [
        "# Enrequecimiento de datos"
      ],
      "metadata": {
        "id": "kf8Hrr5n-M0Y"
      }
    },
    {
      "cell_type": "markdown",
      "source": [
        "####- 30 - Agregar una nueva columna a los DataFrame de contactos, indicando el contact_type según corresponda (address, email, phone)"
      ],
      "metadata": {
        "id": "XwqLG65oHfQU"
      }
    },
    {
      "cell_type": "code",
      "source": [
        "df_phones_contact_col = df_phones.withColumn('contact_type_phones', lit('phone'))\n",
        "df_phones_contact_col.select('customer_id','contact_type_phones').show()"
      ],
      "metadata": {
        "id": "qz6g1mpwlQoK",
        "outputId": "cd28ba8e-c3c9-4c4a-d26f-d782500e60e9",
        "colab": {
          "base_uri": "https://localhost:8080/"
        }
      },
      "execution_count": 128,
      "outputs": [
        {
          "output_type": "stream",
          "name": "stdout",
          "text": [
            "+-----------+-------------------+\n",
            "|customer_id|contact_type_phones|\n",
            "+-----------+-------------------+\n",
            "|   29377168|              phone|\n",
            "|   29385404|              phone|\n",
            "|   29385404|              phone|\n",
            "|   29385454|              phone|\n",
            "|   27626595|              phone|\n",
            "|   24349744|              phone|\n",
            "|   29389994|              phone|\n",
            "|   29389999|              phone|\n",
            "|   01192665|              phone|\n",
            "|   29359207|              phone|\n",
            "|   29354182|              phone|\n",
            "|   22538341|              phone|\n",
            "|   29387551|              phone|\n",
            "|   29387551|              phone|\n",
            "|   29353051|              phone|\n",
            "|   29132899|              phone|\n",
            "|   29390010|              phone|\n",
            "|   27617687|              phone|\n",
            "|   27617687|              phone|\n",
            "|   29387672|              phone|\n",
            "+-----------+-------------------+\n",
            "only showing top 20 rows\n",
            "\n"
          ]
        }
      ]
    },
    {
      "cell_type": "code",
      "source": [
        "df_emails_contact_col = df_emails.withColumn('contact_type_emails', lit('e-mail'))\n",
        "df_emails_contact_col.select('customer_id','contact_type_emails').show()"
      ],
      "metadata": {
        "id": "CUL_CS3ZldKn",
        "outputId": "1a59c599-7249-4ca4-fbec-e0e84d317281",
        "colab": {
          "base_uri": "https://localhost:8080/"
        }
      },
      "execution_count": 129,
      "outputs": [
        {
          "output_type": "stream",
          "name": "stdout",
          "text": [
            "+-----------+-------------------+\n",
            "|customer_id|contact_type_emails|\n",
            "+-----------+-------------------+\n",
            "|   00000000|             e-mail|\n",
            "|   00000000|             e-mail|\n",
            "|   00027555|             e-mail|\n",
            "|   00027568|             e-mail|\n",
            "|   00027595|             e-mail|\n",
            "|   00027609|             e-mail|\n",
            "|   27514336|             e-mail|\n",
            "|   00027726|             e-mail|\n",
            "|   00027766|             e-mail|\n",
            "|   00027780|             e-mail|\n",
            "|   00027781|             e-mail|\n",
            "|   00027867|             e-mail|\n",
            "|   00027877|             e-mail|\n",
            "|   00027942|             e-mail|\n",
            "|   00027990|             e-mail|\n",
            "|   00028043|             e-mail|\n",
            "|   00028080|             e-mail|\n",
            "|   00028091|             e-mail|\n",
            "|   00028104|             e-mail|\n",
            "|   00028284|             e-mail|\n",
            "+-----------+-------------------+\n",
            "only showing top 20 rows\n",
            "\n"
          ]
        }
      ]
    },
    {
      "cell_type": "code",
      "source": [
        "df_address_contact_col = df_address.withColumn('contact_type_address', lit('address'))\n",
        "df_address_contact_col.select('customer_id','contact_type_address').show()"
      ],
      "metadata": {
        "id": "vHPhk9tIluhv",
        "outputId": "a95d815b-9139-4b71-88af-c1603db31f99",
        "colab": {
          "base_uri": "https://localhost:8080/"
        }
      },
      "execution_count": 130,
      "outputs": [
        {
          "output_type": "stream",
          "name": "stdout",
          "text": [
            "+-----------+--------------------+\n",
            "|customer_id|contact_type_address|\n",
            "+-----------+--------------------+\n",
            "|   00000003|             address|\n",
            "|   00000009|             address|\n",
            "|   00000009|             address|\n",
            "|   00000011|             address|\n",
            "|   00000027|             address|\n",
            "|   00000027|             address|\n",
            "|   00000027|             address|\n",
            "|   00000028|             address|\n",
            "|   00000035|             address|\n",
            "|   00000035|             address|\n",
            "|   00000035|             address|\n",
            "|   00000035|             address|\n",
            "|   00000050|             address|\n",
            "|   00000050|             address|\n",
            "|   00000052|             address|\n",
            "|   00000052|             address|\n",
            "|   00000052|             address|\n",
            "|   00000052|             address|\n",
            "|   25567249|             address|\n",
            "|   01096851|             address|\n",
            "+-----------+--------------------+\n",
            "only showing top 20 rows\n",
            "\n"
          ]
        }
      ]
    },
    {
      "cell_type": "markdown",
      "source": [
        "####- 31 - Agregar una nueva columna al DataFrame de contactos telefónicos de clientes, resguardando el contacto en formato json contenido en string, con los datos: Phone_type (mobile, landline ), Código país., Código de Área, Número teléfono."
      ],
      "metadata": {
        "id": "3XoMOFoyHgkq"
      }
    },
    {
      "cell_type": "code",
      "source": [
        "df_phone_contact = df_phone_contact.withColumn(\"phone_contact\", to_json(struct(df_phone_contact.phone_type, df_phone_contact.phone_country_id, df_phone_contact.prefix_phone_id, df_phone_contact.phone_area_id, df_phone_contact.cellphone_prefix_id, df_phone_contact.phone_exchange_id, df_phone_contact.phone_line_id)))"
      ],
      "metadata": {
        "id": "UpXne4NcU_xU"
      },
      "execution_count": 131,
      "outputs": []
    },
    {
      "cell_type": "code",
      "source": [
        "df_phone_contact.show(truncate=False)"
      ],
      "metadata": {
        "id": "ZkMd0glic11C",
        "outputId": "b42341cc-4b4e-4190-9d9d-afff06b3e492",
        "colab": {
          "base_uri": "https://localhost:8080/"
        }
      },
      "execution_count": 132,
      "outputs": [
        {
          "output_type": "stream",
          "name": "stdout",
          "text": [
            "+-----------+--------------+-------------------+-----------------+----------+----------------+---------------+-------------+-------------------+-----------------+-------------+------------+---------------+-----------------------+------------------+---------------------+-----------------+----------+-----------+--------------------------+---------------------+--------------------+---------------------+----------------+-------------------------+-------------------------+------------------+-------------------+-----------------+--------------------+---------------------+-----------------------+----------------------+--------------------+----------------------+------------------------------+----------------------------+-------------------+----------------+----------------+-------------------+--------------------+-----------------------+-----------------------+-------------+-------------+--------------+---------------+--------------------+---------+----------------+-----------+-----------------------+-----------------------+----------+-------------------+-----------------+--------------------------+----------------+----------------+-------------------+-------------------+-----------+----------+----------------------+--------------------+---------------------+-----------+--------------------------+----------------------------+-------------------------------+------------------------+------------------------+--------------------------+------------------------+--------------------------+----------------------------+------------------+------------------------+-------------------+-------------------+---------------------------+-----------------+-------------------+-----------------+-------------------------------+--------------------+---------------------+------------------+----------------+--------------------+--------------------------+----------------+--------------------------+--------------------+-------------+----------------+--------------------+-------------------+--------+---------------------+-------------------------+--------------------------+--------------+--------------------+--------------------+----------------+-------------+-------------------------+-----------------------+-----------------------+--------------------+-------+---------------+--------------------------------------------------------------------------------------------------------------------------------------------------------------------+\n",
            "|customer_id|phone_use_type|address_sequence_id|phone_sequence_id|phone_type|phone_country_id|prefix_phone_id|phone_area_id|cellphone_prefix_id|phone_exchange_id|phone_line_id|phone_id    |phone_intern_id|aditional_info_txt_desc|primary_phone_type|address_sequence_type|address_town_name|zipcode_id|province_id|customer_phone_status_type|phone_status_mod_date|contact_channel_type|sender_application_id|wrong_phone_type|normalization_status_type|normalization_reason_name|normalization_date|validity_start_date|validity_end_date|dlvy_day_monday_type|dlvy_day_tuesday_type|dlvy_day_wednesday_type|dlvy_day_thursday_type|dlvy_day_friday_type|dlvy_day_saturday_type|delivery_contact_start_hm_date|delivery_contact_end_hm_date|registry_entry_date|register_user_id|last_change_date|last_change_user_id|last_change_hms_date|last_change_terminal_id|operational_load_date  |personal_type|personal_id  |admission_date|sale_channel_id|operation_channel_id|branch_id|business_area_id|campaing_id|customer_situation_type|customer_condition_type|manager_id|tracking_manager_id|credit_manager_id|credit_recovery_manager_id|last_name       |second_last_name|first_name         |marital_status_type|gender_type|birth_date|country_nationality_id|residence_country_id|customer_subject_type|sector_type|customer_level_access_type|cust_bcra_econ_activity_type|internal_economic_activity_type|bbva_inhabilitation_type|customer_block_bbva_date|customer_unblock_bbva_date|customer_block_bcra_date|customer_unblock_bcra_date|customer_pending_notice_type|last_notice_number|last_reference_number_id|last_service_number|last_address_number|last_unlinking_account_date|customer_end_date|last_change_user_id|customer_pep_type|bbva_family_lnk_weighted_number|customer_status_type|scoring_activity_type|refinancing_number|refinancing_date|coholder_customer_id|customer_bcra_situation_id|customer_cuit_id|customer_position_vat_type|balance_closing_date|profession_id|bbva_cust_number|customer_linked_type|customer_entry_type|job_type|profession_start_date|customer_first_block_date|customer_registration_date|l_c_d_customer|last_change_hms_date|register_terminal_id|register_user_id|customer_type|customer_seniority_number|last_status_change_date|operational_load_date  |job_type_desc       |row_num|full_phone     |phone_contact                                                                                                                                                       |\n",
            "+-----------+--------------+-------------------+-----------------+----------+----------------+---------------+-------------+-------------------+-----------------+-------------+------------+---------------+-----------------------+------------------+---------------------+-----------------+----------+-----------+--------------------------+---------------------+--------------------+---------------------+----------------+-------------------------+-------------------------+------------------+-------------------+-----------------+--------------------+---------------------+-----------------------+----------------------+--------------------+----------------------+------------------------------+----------------------------+-------------------+----------------+----------------+-------------------+--------------------+-----------------------+-----------------------+-------------+-------------+--------------+---------------+--------------------+---------+----------------+-----------+-----------------------+-----------------------+----------+-------------------+-----------------+--------------------------+----------------+----------------+-------------------+-------------------+-----------+----------+----------------------+--------------------+---------------------+-----------+--------------------------+----------------------------+-------------------------------+------------------------+------------------------+--------------------------+------------------------+--------------------------+----------------------------+------------------+------------------------+-------------------+-------------------+---------------------------+-----------------+-------------------+-----------------+-------------------------------+--------------------+---------------------+------------------+----------------+--------------------+--------------------------+----------------+--------------------------+--------------------+-------------+----------------+--------------------+-------------------+--------+---------------------+-------------------------+--------------------------+--------------+--------------------+--------------------+----------------+-------------+-------------------------+-----------------------+-----------------------+--------------------+-------+---------------+--------------------------------------------------------------------------------------------------------------------------------------------------------------------+\n",
            "|06987700   |01            |0                  |2                |1         |080             |54             |11           |                   |4451             |4104         |5848841581  |               |04                     |N                 |N                    |                 |          |           |DECLARADO                 |2022-07-18           |01                  |CTES                 |                |NORM AUTO                |COPDTEL                  |2022-07-18        |2022-07-18         |1900-01-01       |                    |                     |                       |                      |                    |                      |00:00:00                      |00:00:00                    |2022-07-18         |A118828         |2022-07-18      |PCLE20N            |180221              |BATC                   |2022-11-30 00:42:41.236|00           |0000029918196|2006-04-27    |10000          |01                  |344      |30              |0          |1                      |1                      |643       |                   |                 |                          |OJEDA           |                |MIGUEL ANGEL       |5                  |M          |1983-06-03|80                    |080                 |201                  |100        |0                         |82                          |21101000                       |0                       |null                    |null                      |null                    |null                      |                            |13                |0                       |0                  |1                  |null                       |null             |GPROBATE           |2                |1                              |AC                  |28                   |null              |null            |                    |null                      |0020299181961   |042                       |null                |007          |006987700       |N                   |                   |001     |2009-10-15           |null                     |2006-04-27                |2021-04-30    |130632              |P37B                |VUELCO          |N            |null                     |2014-07-22             |2022-03-10 01:05:30.551|REL.DEPENDENCIA/FIJO|1      |54-11-4451-4104|{\"phone_type\":\"1\",\"phone_country_id\":\"080\",\"prefix_phone_id\":\"54\",\"phone_area_id\":\"11\",\"cellphone_prefix_id\":\"\",\"phone_exchange_id\":\"4451\",\"phone_line_id\":\"4104\"}  |\n",
            "|19801715   |01            |0                  |2                |1         |080             |54             |11           |                   |4544             |8655         |1059286565  |               |                       |N                 |N                    |                 |          |           |DECLARADO                 |2022-08-01           |01                  |CTES                 |                |NORM AUTO                |COPDTEL                  |2022-08-01        |1900-01-01         |1900-01-01       |                    |                     |                       |                      |                    |                      |00:00:00                      |00:00:00                    |2022-08-01         |A118556         |2022-08-01      |A118556            |100725              |6734                   |2022-11-30 00:42:41.236|00           |0000037870809|2013-01-16    |10000          |00                  |314      |34              |0          |1                      |1                      |605       |                   |                 |                          |MARINO          |                |TATIANA            |5                  |M          |1993-10-14|80                    |080                 |201                  |100        |0                         |82                          |21101000                       |0                       |null                    |null                      |null                    |null                      |                            |0                 |0                       |0                  |2                  |null                       |null             |PCLE06R            |2                |1                              |CA                  |47                   |null              |null            |                    |null                      |0020378708096   |042                       |null                |016          |019801715       |N                   |                   |001     |2013-02-07           |null                     |2013-01-16                |2018-01-15    |115455              |P37B                |PCLE510         |S            |null                     |null                   |2022-03-10 01:05:30.551|REL.DEPENDENCIA/FIJO|1      |54-11-4544-8655|{\"phone_type\":\"1\",\"phone_country_id\":\"080\",\"prefix_phone_id\":\"54\",\"phone_area_id\":\"11\",\"cellphone_prefix_id\":\"\",\"phone_exchange_id\":\"4544\",\"phone_line_id\":\"8655\"}  |\n",
            "|21162204   |00            |0                  |4                |3         |080             |54             |11           |15                 |6286             |0946         |113051084214|               |                       |N                 |N                    |                 |          |           |DECLARADO                 |2022-09-28           |01                  |WKFL                 |                |NORM AUTO                |COPDTEL                  |2022-09-28        |1900-01-01         |1900-01-01       |                    |                     |                       |                      |                    |                      |00:00:00                      |00:00:00                    |2022-09-28         |A127366         |2022-09-28      |A127366            |120448              |Y81K                   |2022-11-30 00:42:41.236|00           |0000029158799|2015-02-02    |10000          |39                  |142      |34              |0          |1                      |1                      |488       |080                |                 |                          |FABUNDI         |                |JESUS              |5                  |M          |1981-12-24|80                    |080                 |201                  |100        |0                         |82                          |21101000                       |0                       |null                    |null                      |null                    |null                      |                            |0                 |0                       |0                  |2                  |null                       |null             |PCLE05F            |2                |1                              |CA                  |48                   |null              |null            |                    |null                      |0020291587993   |042                       |null                |013          |021162204       |N                   |                   |001     |2015-02-18           |null                     |2015-02-02                |2018-01-13    |070251              |P37B                |GPROBANK        |S            |null                     |2015-02-18             |2022-03-10 01:05:30.551|REL.DEPENDENCIA/FIJO|1      |54-11-6286-0946|{\"phone_type\":\"3\",\"phone_country_id\":\"080\",\"prefix_phone_id\":\"54\",\"phone_area_id\":\"11\",\"cellphone_prefix_id\":\"15\",\"phone_exchange_id\":\"6286\",\"phone_line_id\":\"0946\"}|\n",
            "|23417903   |00            |2                  |1                |1         |080             |54             |11           |                   |4788             |3665         |2617017168  |               |                       |N                 |S                    |                 |          |           |COMPROBADO                |2022-11-08           |01                  |WKFL                 |                |NORM AUTO                |COPDTE                   |2022-11-02        |1900-01-01         |1900-01-01       |                    |                     |                       |                      |                    |                      |00:00:00                      |00:00:00                    |2022-11-02         |A86362          |2022-11-08      |XATM               |113856              |XATM                   |2022-11-30 00:42:41.236|00           |0000038989972|2016-12-01    |10000          |01                  |995      |34              |0          |1                      |8                      |2603      |                   |PVTA             |                          |GONZALEZ CANTERO|                |MAURICIO ADRIAN    |5                  |M          |1995-05-27|80                    |080                 |201                  |100        |0                         |82                          |21101000                       |0                       |null                    |null                      |null                    |null                      |0                           |0                 |0                       |0                  |0                  |null                       |null             |PCLE06R            |1                |1                              |PO                  |4                    |null              |null            |                    |null                      |0000000000000   |042                       |null                |016          |023417903       |N                   |MD                 |001     |2016-12-01           |null                     |2016-12-01                |2016-12-01    |172535              |P37B                |VW2CEVA0        |S            |null                     |null                   |2022-03-10 01:05:30.551|REL.DEPENDENCIA/FIJO|1      |54-11-4788-3665|{\"phone_type\":\"1\",\"phone_country_id\":\"080\",\"prefix_phone_id\":\"54\",\"phone_area_id\":\"11\",\"cellphone_prefix_id\":\"\",\"phone_exchange_id\":\"4788\",\"phone_line_id\":\"3665\"}  |\n",
            "|24401530   |00            |0                  |3                |3         |080             |54             |11           |15                 |5656             |3942         |356767213183|               |                       |N                 |N                    |                 |          |           |DECLARADO                 |2022-07-04           |35                  |TVTA                 |                |NORM AUTO                |COPDTEL                  |2022-07-04        |1900-01-01         |1900-01-01       |                    |                     |                       |                      |                    |                      |00:00:00                      |00:00:00                    |2022-07-04         |GPROTLVT        |2022-07-04      |GPROTLVT           |154256              |Y59G                   |2022-11-30 00:42:41.236|00           |0000025563603|2018-01-29    |10000          |01                  |170      |34              |0          |1                      |1                      |492       |080                |                 |                          |PARENTE         |                |CRISTINA NOEMI     |5                  |F          |1977-02-03|80                    |080                 |201                  |100        |0                         |82                          |21101000                       |0                       |null                    |null                      |null                    |null                      |0                           |0                 |0                       |0                  |1                  |null                       |null             |PCLE06R            |2                |1                              |PO                  |35                   |null              |null            |                    |null                      |0027255636036   |042                       |null                |007          |024401530       |N                   |                   |001     |2018-01-29           |null                     |2018-01-29                |2020-04-11    |182808              |P37B                |A127389         |S            |null                     |2018-01-29             |2022-03-10 01:05:30.551|REL.DEPENDENCIA/FIJO|1      |54-11-5656-3942|{\"phone_type\":\"3\",\"phone_country_id\":\"080\",\"prefix_phone_id\":\"54\",\"phone_area_id\":\"11\",\"cellphone_prefix_id\":\"15\",\"phone_exchange_id\":\"5656\",\"phone_line_id\":\"3942\"}|\n",
            "|24935788   |00            |0                  |3                |3         |080             |54             |3447         |15                 |64               |4382         |100854912474|               |                       |N                 |N                    |                 |          |           |DECLARADO                 |2022-10-11           |01                  |CTES                 |                |NORM AUTO                |COSM                     |2022-10-11        |1900-01-01         |1900-01-01       |                    |                     |                       |                      |                    |                      |00:00:00                      |00:00:00                    |2022-10-11         |A115541         |2022-10-11      |PCLESMS0           |211539              |4O03                   |2022-11-30 00:42:41.236|00           |0000032548258|2018-11-26    |10000          |00                  |52       |30              |0          |1                      |1                      |1300      |080                |                 |                          |ABANZINI        |                |GUSTAVO MAXIMILIANO|5                  |M          |1987-04-02|80                    |080                 |201                  |100        |0                         |82                          |21101000                       |0                       |null                    |null                      |null                    |null                      |                            |27                |0                       |0                  |2                  |null                       |null             |S1GFN690           |2                |1                              |AC                  |47                   |null              |null            |                    |null                      |0020325482584   |042                       |null                |016          |024935788       |N                   |                   |001     |2018-12-12           |null                     |2018-11-26                |2021-12-24    |111912              |ATM                 |PCLE510         |N            |null                     |null                   |2022-03-10 01:05:30.551|REL.DEPENDENCIA/FIJO|1      |54-3447-64-4382|{\"phone_type\":\"3\",\"phone_country_id\":\"080\",\"prefix_phone_id\":\"54\",\"phone_area_id\":\"3447\",\"cellphone_prefix_id\":\"15\",\"phone_exchange_id\":\"64\",\"phone_line_id\":\"4382\"}|\n",
            "|25633010   |00            |0                  |1                |3         |080             |54             |11           |15                 |5667             |3375         |535359608479|               |                       |N                 |N                    |                 |          |           |COMPROBADO                |2022-10-13           |01                  |CTES                 |                |NORM AUTO                |COPDTE                   |2022-09-30        |1900-01-01         |1900-01-01       |                    |                     |                       |                      |                    |                      |00:00:00                      |00:00:00                    |2022-09-26         |A129315         |2022-10-13      |XATM               |121932              |XATM                   |2022-11-30 00:42:41.236|00           |0000037668269|2019-05-10    |10000          |00                  |603      |34              |0          |1                      |8                      |2603      |                   |                 |                          |ACIAR           |                |NOELI MARIBEL      |1                  |F          |1993-07-07|80                    |080                 |201                  |100        |0                         |82                          |21101000                       |0                       |null                    |null                      |null                    |null                      |0                           |0                 |0                       |0                  |0                  |null                       |null             |PCLE06R            |1                |1                              |PO                  |47                   |null              |null            |                    |null                      |0027376682698   |042                       |null                |016          |025633010       |N                   |MD                 |001     |2019-05-10           |null                     |2019-05-10                |2019-05-10    |003635              |P37B                |PCLE25H         |S            |null                     |null                   |2022-03-10 01:05:30.551|REL.DEPENDENCIA/FIJO|1      |54-11-5667-3375|{\"phone_type\":\"3\",\"phone_country_id\":\"080\",\"prefix_phone_id\":\"54\",\"phone_area_id\":\"11\",\"cellphone_prefix_id\":\"15\",\"phone_exchange_id\":\"5667\",\"phone_line_id\":\"3375\"}|\n",
            "|25633010   |01            |0                  |2                |1         |080             |54             |11           |                   |4342             |8605         |8901935610  |               |                       |N                 |N                    |                 |          |           |DECLARADO                 |2022-09-30           |01                  |CTES                 |                |NORM AUTO                |COPDTEL                  |2022-09-30        |1900-01-01         |1900-01-01       |                    |                     |                       |                      |                    |                      |00:00:00                      |00:00:00                    |2022-09-30         |A129315         |2022-09-30      |A129315            |121932              |L0AX                   |2022-11-30 00:42:41.236|00           |0000037668269|2019-05-10    |10000          |00                  |603      |34              |0          |1                      |8                      |2603      |                   |                 |                          |ACIAR           |                |NOELI MARIBEL      |1                  |F          |1993-07-07|80                    |080                 |201                  |100        |0                         |82                          |21101000                       |0                       |null                    |null                      |null                    |null                      |0                           |0                 |0                       |0                  |0                  |null                       |null             |PCLE06R            |1                |1                              |PO                  |47                   |null              |null            |                    |null                      |0027376682698   |042                       |null                |016          |025633010       |N                   |MD                 |001     |2019-05-10           |null                     |2019-05-10                |2019-05-10    |003635              |P37B                |PCLE25H         |S            |null                     |null                   |2022-03-10 01:05:30.551|REL.DEPENDENCIA/FIJO|2      |54-11-4342-8605|{\"phone_type\":\"1\",\"phone_country_id\":\"080\",\"prefix_phone_id\":\"54\",\"phone_area_id\":\"11\",\"cellphone_prefix_id\":\"\",\"phone_exchange_id\":\"4342\",\"phone_line_id\":\"8605\"}  |\n",
            "|26183611   |00            |0                  |1                |1         |080             |54             |11           |                   |4341             |0084         |8056529871  |               |                       |N                 |N                    |                 |          |           |DECLARADO                 |2022-07-21           |09                  |CTES                 |                |NORM AUTO                |COSM                     |2022-07-21        |1900-01-01         |1900-01-01       |                    |                     |                       |                      |                    |                      |00:00:00                      |00:00:00                    |2022-07-21         |A59667          |2022-07-21      |A59667             |130651              |L49G                   |2022-11-30 00:42:41.236|00           |0000037752045|2019-08-16    |10000          |00                  |603      |34              |0          |1                      |8                      |2603      |                   |                 |                          |ALDREY          |                |AGUSTIN            |1                  |M          |1993-07-22|80                    |080                 |201                  |100        |0                         |82                          |21101000                       |0                       |null                    |null                      |null                    |null                      |0                           |0                 |0                       |0                  |0                  |null                       |null             |PCLE06R            |1                |1                              |PO                  |47                   |null              |null            |                    |null                      |0023377520459   |042                       |null                |016          |026183611       |N                   |MD                 |001     |2019-08-16           |null                     |2019-08-16                |2019-08-16    |004045              |P37B                |PCLE25H         |S            |null                     |null                   |2022-03-10 01:05:30.551|REL.DEPENDENCIA/FIJO|1      |54-11-4341-0084|{\"phone_type\":\"1\",\"phone_country_id\":\"080\",\"prefix_phone_id\":\"54\",\"phone_area_id\":\"11\",\"cellphone_prefix_id\":\"\",\"phone_exchange_id\":\"4341\",\"phone_line_id\":\"0084\"}  |\n",
            "|26183611   |00            |0                  |2                |1         |080             |54             |11           |                   |4341             |0084         |8056529871  |               |                       |N                 |N                    |                 |          |           |DECLARADO                 |2022-07-21           |01                  |CTES                 |                |NORM AUTO                |COPDTEL                  |2022-07-21        |1900-01-01         |1900-01-01       |                    |                     |                       |                      |                    |                      |00:00:00                      |00:00:00                    |2022-07-21         |GPROBANK        |2022-07-21      |GPROBANK           |130906              |4ZOE                   |2022-11-30 00:42:41.236|00           |0000037752045|2019-08-16    |10000          |00                  |603      |34              |0          |1                      |8                      |2603      |                   |                 |                          |ALDREY          |                |AGUSTIN            |1                  |M          |1993-07-22|80                    |080                 |201                  |100        |0                         |82                          |21101000                       |0                       |null                    |null                      |null                    |null                      |0                           |0                 |0                       |0                  |0                  |null                       |null             |PCLE06R            |1                |1                              |PO                  |47                   |null              |null            |                    |null                      |0023377520459   |042                       |null                |016          |026183611       |N                   |MD                 |001     |2019-08-16           |null                     |2019-08-16                |2019-08-16    |004045              |P37B                |PCLE25H         |S            |null                     |null                   |2022-03-10 01:05:30.551|REL.DEPENDENCIA/FIJO|2      |54-11-4341-0084|{\"phone_type\":\"1\",\"phone_country_id\":\"080\",\"prefix_phone_id\":\"54\",\"phone_area_id\":\"11\",\"cellphone_prefix_id\":\"\",\"phone_exchange_id\":\"4341\",\"phone_line_id\":\"0084\"}  |\n",
            "|26293280   |00            |0                  |2                |3         |080             |54             |2323         |15                 |67               |7206         |157089694205|               |                       |N                 |N                    |                 |          |           |DECLARADO                 |2022-07-21           |01                  |CTES                 |                |NORM AUTO                |COPDTEL                  |2022-07-21        |1900-01-01         |1900-01-01       |                    |                     |                       |                      |                    |                      |00:00:00                      |00:00:00                    |2022-07-21         |A126531         |2022-07-21      |A126531            |144115              |AH03                   |2022-11-30 00:42:41.236|00           |0000037681320|2019-09-30    |10000          |00                  |999      |30              |0          |1                      |1                      |2609      |080                |                 |                          |FERREYRA        |                |VICTORIA           |5                  |F          |1993-07-04|80                    |080                 |201                  |100        |0                         |82                          |21101000                       |0                       |null                    |null                      |null                    |null                      |2                           |24                |0                       |0                  |1                  |null                       |null             |PCLE825            |2                |2                              |AC                  |47                   |null              |null            |                    |21                        |0027376813202   |042                       |null                |016          |026293280       |N                   |                   |001     |2021-01-19           |null                     |2019-09-30                |2022-02-21    |125938              |B                   |PCLE25H         |N            |null                     |2021-01-19             |2022-03-10 01:05:30.551|REL.DEPENDENCIA/FIJO|1      |54-2323-67-7206|{\"phone_type\":\"3\",\"phone_country_id\":\"080\",\"prefix_phone_id\":\"54\",\"phone_area_id\":\"2323\",\"cellphone_prefix_id\":\"15\",\"phone_exchange_id\":\"67\",\"phone_line_id\":\"7206\"}|\n",
            "|26488506   |00            |0                  |1                |3         |080             |54             |2964         |15                 |54               |9154         |476804622398|               |                       |N                 |N                    |                 |          |           |DECLARADO                 |2022-09-01           |01                  |PVTA                 |                |NORM AUTO                |COSM                     |2022-09-01        |1900-01-01         |1900-01-01       |                    |                     |                       |                      |                    |                      |00:00:00                      |00:00:00                    |2022-09-01         |VW2CCON0        |2022-09-01      |VW2CCON0           |133038              |PVTA                   |2022-11-30 00:42:41.236|00           |0000036576678|2019-11-27    |10000          |00                  |603      |34              |0          |1                      |8                      |2603      |                   |                 |                          |PAREDES         |                |ANIBAL DARDO JAVIER|1                  |M          |1991-11-12|80                    |080                 |201                  |100        |0                         |82                          |21101000                       |0                       |null                    |null                      |null                    |null                      |0                           |0                 |0                       |0                  |0                  |null                       |null             |PCLE06R            |1                |1                              |PO                  |47                   |null              |null            |                    |null                      |0023365766789   |042                       |null                |016          |026488506       |N                   |MD                 |001     |2019-11-27           |null                     |2019-11-27                |2019-11-27    |003122              |P37B                |PCLE25H         |S            |null                     |null                   |2022-03-10 01:05:30.551|REL.DEPENDENCIA/FIJO|1      |54-2964-54-9154|{\"phone_type\":\"3\",\"phone_country_id\":\"080\",\"prefix_phone_id\":\"54\",\"phone_area_id\":\"2964\",\"cellphone_prefix_id\":\"15\",\"phone_exchange_id\":\"54\",\"phone_line_id\":\"9154\"}|\n",
            "|26923214   |00            |0                  |1                |3         |080             |54             |11           |15                 |6705             |6375         |080766214167|               |                       |N                 |N                    |                 |          |           |COMPROBADO                |2022-11-22           |01                  |CTES                 |                |NORM AUTO                |COPDTEL                  |2022-11-22        |1900-01-01         |1900-01-01       |                    |                     |                       |                      |                    |                      |00:00:00                      |00:00:00                    |2022-11-22         |A114673         |2022-11-22      |PCLUPCRT           |113939              |OSMS                   |2022-11-30 00:42:41.236|00           |0000038854045|2020-06-01    |10000          |00                  |13       |34              |0          |1                      |8                      |4556      |                   |                 |                          |DIAZ            |                |CLAUDIO JOEL       |5                  |M          |1995-04-16|80                    |080                 |201                  |100        |0                         |82                          |21101000                       |0                       |null                    |null                      |null                    |null                      |0                           |0                 |0                       |0                  |1                  |null                       |null             |PCLE06R            |1                |1                              |IN                  |50                   |null              |null            |                    |null                      |0020388540452   |042                       |null                |039          |026923214       |N                   |                   |004     |2020-06-01           |null                     |2020-06-01                |2020-06-01    |170423              |P37B                |PCLE15V         |S            |null                     |null                   |2022-03-10 01:05:30.551|-                   |1      |54-11-6705-6375|{\"phone_type\":\"3\",\"phone_country_id\":\"080\",\"prefix_phone_id\":\"54\",\"phone_area_id\":\"11\",\"cellphone_prefix_id\":\"15\",\"phone_exchange_id\":\"6705\",\"phone_line_id\":\"6375\"}|\n",
            "|27008407   |00            |0                  |1                |3         |080             |54             |2657         |15                 |22               |6503         |732058098884|               |                       |N                 |N                    |                 |          |           |DECLARADO                 |2022-10-24           |01                  |CTES                 |                |NORM AUTO                |COPDTE                   |2022-10-24        |1900-01-01         |1900-01-01       |                    |                     |                       |                      |                    |                      |00:00:00                      |00:00:00                    |2022-07-25         |A117815         |2022-10-24      |A127190            |092230              |5857                   |2022-11-30 00:42:41.236|00           |0000039396015|2020-07-01    |10000          |00                  |27       |34              |0          |1                      |8                      |4795      |                   |                 |                          |ORTIZ           |                |VICTOR JOSE LUIS   |5                  |M          |1996-05-14|80                    |080                 |201                  |100        |0                         |82                          |21101000                       |0                       |null                    |null                      |null                    |null                      |0                           |0                 |0                       |0                  |1                  |null                       |null             |PCLE06R            |1                |1                              |IN                  |50                   |null              |null            |                    |null                      |0023393960159   |042                       |null                |039          |027008407       |N                   |                   |004     |2020-07-01           |null                     |2020-07-01                |2020-07-01    |170330              |P37B                |PCLE15V         |S            |null                     |null                   |2022-03-10 01:05:30.551|-                   |1      |54-2657-22-6503|{\"phone_type\":\"3\",\"phone_country_id\":\"080\",\"prefix_phone_id\":\"54\",\"phone_area_id\":\"2657\",\"cellphone_prefix_id\":\"15\",\"phone_exchange_id\":\"22\",\"phone_line_id\":\"6503\"}|\n",
            "|27008407   |00            |0                  |2                |3         |080             |54             |2657         |15                 |31               |3231         |169530868436|               |                       |N                 |N                    |                 |          |           |DECLARADO                 |2022-10-24           |01                  |CTES                 |                |NORM AUTO                |COPDTEL                  |2022-10-24        |1900-01-01         |1900-01-01       |                    |                     |                       |                      |                    |                      |00:00:00                      |00:00:00                    |2022-10-24         |A127190         |2022-10-24      |A127190            |092230              |5857                   |2022-11-30 00:42:41.236|00           |0000039396015|2020-07-01    |10000          |00                  |27       |34              |0          |1                      |8                      |4795      |                   |                 |                          |ORTIZ           |                |VICTOR JOSE LUIS   |5                  |M          |1996-05-14|80                    |080                 |201                  |100        |0                         |82                          |21101000                       |0                       |null                    |null                      |null                    |null                      |0                           |0                 |0                       |0                  |1                  |null                       |null             |PCLE06R            |1                |1                              |IN                  |50                   |null              |null            |                    |null                      |0023393960159   |042                       |null                |039          |027008407       |N                   |                   |004     |2020-07-01           |null                     |2020-07-01                |2020-07-01    |170330              |P37B                |PCLE15V         |S            |null                     |null                   |2022-03-10 01:05:30.551|-                   |2      |54-2657-31-3231|{\"phone_type\":\"3\",\"phone_country_id\":\"080\",\"prefix_phone_id\":\"54\",\"phone_area_id\":\"2657\",\"cellphone_prefix_id\":\"15\",\"phone_exchange_id\":\"31\",\"phone_line_id\":\"3231\"}|\n",
            "|28445138   |00            |0                  |2                |3         |080             |54             |11           |15                 |6161             |5326         |222003974740|               |                       |N                 |N                    |                 |          |           |COMPROBADO                |2022-11-23           |01                  |CTES                 |                |NORM AUTO                |COSM                     |2022-11-23        |1900-01-01         |1900-01-01       |                    |                     |                       |                      |                    |                      |00:00:00                      |00:00:00                    |2022-11-23         |A61876          |2022-11-23      |XATM               |144737              |XATM                   |2022-11-30 00:42:41.236|00           |0000036790967|2022-02-08    |10000          |01                  |603      |30              |0          |1                      |8                      |2603      |080                |PVTA             |                          |ZALEWKI         |                |MATIAS             |5                  |F          |1992-09-05|80                    |080                 |201                  |100        |0                         |82                          |21101000                       |0                       |null                    |null                      |null                    |null                      |0                           |0                 |0                       |0                  |0                  |null                       |null             |UPROVTAS           |1                |1                              |PO                  |4                    |null              |null            |                    |null                      |0000000000000   |042                       |null                |016          |028445138       |N                   |MD                 |001     |2022-02-08           |null                     |2022-02-08                |2022-02-08    |144058              |P37B                |UPROVTAS        |S            |null                     |null                   |2022-03-10 01:05:30.551|REL.DEPENDENCIA/FIJO|1      |54-11-6161-5326|{\"phone_type\":\"3\",\"phone_country_id\":\"080\",\"prefix_phone_id\":\"54\",\"phone_area_id\":\"11\",\"cellphone_prefix_id\":\"15\",\"phone_exchange_id\":\"6161\",\"phone_line_id\":\"5326\"}|\n",
            "|28633515   |00            |0                  |1                |3         |080             |54             |351          |15                 |716              |8741         |283462903121|               |                       |N                 |N                    |                 |          |           |DECLARADO                 |2022-11-19           |01                  |PVTA                 |                |NORM AUTO                |COSM                     |2022-11-19        |1900-01-01         |1900-01-01       |                    |                     |                       |                      |                    |                      |00:00:00                      |00:00:00                    |2022-11-19         |VW2CCON0        |2022-11-19      |VW2CCON0           |202754              |PVTA                   |2022-11-30 00:42:41.236|00           |0000029606790|2022-02-24    |10000          |00                  |603      |30              |0          |1                      |8                      |2603      |                   |                 |                          |MARTINEZ        |                |OMAR HUMBERTO      |1                  |M          |1982-07-14|80                    |080                 |201                  |100        |0                         |82                          |21101000                       |0                       |null                    |null                      |null                    |null                      |0                           |0                 |0                       |0                  |0                  |null                       |null             |PCLE25H            |1                |1                              |                    |47                   |null              |null            |                    |null                      |0020296067904   |042                       |null                |016          |028633515       |N                   |MD                 |001     |2022-02-24           |null                     |2022-02-24                |2022-02-24    |003349              |P37B                |PCLE25H         |S            |null                     |null                   |2022-03-10 01:05:30.551|REL.DEPENDENCIA/FIJO|1      |54-351-716-8741|{\"phone_type\":\"3\",\"phone_country_id\":\"080\",\"prefix_phone_id\":\"54\",\"phone_area_id\":\"351\",\"cellphone_prefix_id\":\"15\",\"phone_exchange_id\":\"716\",\"phone_line_id\":\"8741\"}|\n",
            "|28660498   |01            |0                  |2                |1         |080             |54             |223          |                   |451              |2038         |3399484580  |               |                       |N                 |N                    |                 |          |           |DECLARADO                 |2022-09-12           |01                  |CTES                 |                |NORM AUTO                |COPDTEL                  |2022-09-12        |1900-01-01         |1900-01-01       |                    |                     |                       |                      |                    |                      |00:00:00                      |00:00:00                    |2022-09-12         |A118977         |2022-09-12      |A118977            |123816              |6544                   |2022-11-30 00:42:41.236|00           |0000037679303|2022-03-02    |10000          |01                  |94       |30              |0          |1                      |1                      |299       |080                |                 |1                         |MARTINEZ        |ACUNA           |CYNTHIA CAROLINA   |5                  |F          |1993-07-14|80                    |080                 |201                  |100        |0                         |82                          |21101000                       |0                       |null                    |null                      |null                    |null                      |                            |0                 |0                       |0                  |2                  |null                       |null             |PB5C0010           |2                |3                              |AC                  |47                   |null              |null            |                    |null                      |0027376793031   |042                       |null                |007          |028660498       |N                   |                   |001     |2022-03-04           |null                     |2022-03-02                |2022-03-08    |205729              |BATC                |A115719         |N            |null                     |2022-03-04             |2022-03-10 01:05:30.551|REL.DEPENDENCIA/FIJO|1      |54-223-451-2038|{\"phone_type\":\"1\",\"phone_country_id\":\"080\",\"prefix_phone_id\":\"54\",\"phone_area_id\":\"223\",\"cellphone_prefix_id\":\"\",\"phone_exchange_id\":\"451\",\"phone_line_id\":\"2038\"}  |\n",
            "+-----------+--------------+-------------------+-----------------+----------+----------------+---------------+-------------+-------------------+-----------------+-------------+------------+---------------+-----------------------+------------------+---------------------+-----------------+----------+-----------+--------------------------+---------------------+--------------------+---------------------+----------------+-------------------------+-------------------------+------------------+-------------------+-----------------+--------------------+---------------------+-----------------------+----------------------+--------------------+----------------------+------------------------------+----------------------------+-------------------+----------------+----------------+-------------------+--------------------+-----------------------+-----------------------+-------------+-------------+--------------+---------------+--------------------+---------+----------------+-----------+-----------------------+-----------------------+----------+-------------------+-----------------+--------------------------+----------------+----------------+-------------------+-------------------+-----------+----------+----------------------+--------------------+---------------------+-----------+--------------------------+----------------------------+-------------------------------+------------------------+------------------------+--------------------------+------------------------+--------------------------+----------------------------+------------------+------------------------+-------------------+-------------------+---------------------------+-----------------+-------------------+-----------------+-------------------------------+--------------------+---------------------+------------------+----------------+--------------------+--------------------------+----------------+--------------------------+--------------------+-------------+----------------+--------------------+-------------------+--------+---------------------+-------------------------+--------------------------+--------------+--------------------+--------------------+----------------+-------------+-------------------------+-----------------------+-----------------------+--------------------+-------+---------------+--------------------------------------------------------------------------------------------------------------------------------------------------------------------+\n",
            "\n"
          ]
        }
      ]
    },
    {
      "cell_type": "markdown",
      "source": [
        "####- 32 - Agregar una nueva columna al DataFrame de direcciones de clientes, resguardando el contacto en formato json contenido en string, con los datos: Calle, Número, Piso, Depto, Localidad, Provincia, Código postal"
      ],
      "metadata": {
        "id": "hDLIA0tOxBnB"
      }
    },
    {
      "cell_type": "code",
      "source": [
        "df_address_contact = df_address_contact.withColumn(\"address_contact\",to_json(struct(df_address_contact.full_address)))"
      ],
      "metadata": {
        "id": "rBQP_8IU5ymJ"
      },
      "execution_count": 133,
      "outputs": []
    },
    {
      "cell_type": "code",
      "source": [
        "df_address_contact.show(truncate=False)"
      ],
      "metadata": {
        "id": "qk59suBr6g0w",
        "outputId": "c00d1008-4bfe-41b7-e5f0-f3cf8d494364",
        "colab": {
          "base_uri": "https://localhost:8080/"
        }
      },
      "execution_count": 134,
      "outputs": [
        {
          "output_type": "stream",
          "name": "stdout",
          "text": [
            "+-----------+-----------------------+-------------------+--------------+-----------+------------------+---------------------------+-----------------+-------------+---------------------+-----------------+-----------------------+----------+---------------+-----------+------------------+----------------------+-------------------------+------------------+---------------------+------------------------------+-----------------------+--------------------+---------------------+------------------+-------------------------+-------------------------+------------------+-----------------------------+--------------------+---------------------+-----------------------+----------------------+--------------------+----------------------+------------------------------+----------------------------+------------------------+-------------------+----------------+----------------+-------------------+--------------------+-----------------------+-----------------+---------------------+-------------+-----------+--------------+---------------+--------------------+---------+----------------+-----------+-----------------------+-----------------------+----------+-------------------+-----------------+--------------------------+---------+----------------+----------+-------------------+-----------+----------+----------------------+--------------------+---------------------+-----------+--------------------------+----------------------------+-------------------------------+------------------------+------------------------+--------------------------+------------------------+--------------------------+----------------------------+------------------+------------------------+-------------------+-------------------+---------------------------+-----------------+-------------------+-----------------+-------------------------------+--------------------+---------------------+------------------+----------------+--------------------+--------------------------+----------------+--------------------------+--------------------+-------------+----------------+--------------------+-------------------+--------+---------------------+-------------------------+--------------------------+--------------+--------------------+--------------------+----------------+-------------+-------------------------+-----------------------+---------------------+-------------+-------+------------+---------------+\n",
            "|customer_id|address_priority_number|address_sequence_id|residence_type|street_name|address_outdoor_id|address_without_number_type|address_indoor_id|indoor_number|address_district_name|address_town_name|address_department_name|zipcode_id|long_zipcode_id|province_id|address_country_id|other_information_desc|address_relationship_type|address_start_date|address_verified_date|customer_locator_verified_type|address_status_mod_date|contact_channel_type|sender_application_id|returned_mail_type|normalization_status_type|normalization_reason_name|normalization_date|normalized_level_match_number|dlvy_day_monday_type|dlvy_day_tuesday_type|dlvy_day_wednesday_type|dlvy_day_thursday_type|dlvy_day_friday_type|dlvy_day_saturday_type|delivery_contact_start_hm_date|delivery_contact_end_hm_date|prev_address_sequence_id|registry_entry_date|register_user_id|last_change_date|last_change_user_id|last_change_hms_date|last_change_terminal_id|registration_type|operational_load_date|personal_type|personal_id|admission_date|sale_channel_id|operation_channel_id|branch_id|business_area_id|campaing_id|customer_situation_type|customer_condition_type|manager_id|tracking_manager_id|credit_manager_id|credit_recovery_manager_id|last_name|second_last_name|first_name|marital_status_type|gender_type|birth_date|country_nationality_id|residence_country_id|customer_subject_type|sector_type|customer_level_access_type|cust_bcra_econ_activity_type|internal_economic_activity_type|bbva_inhabilitation_type|customer_block_bbva_date|customer_unblock_bbva_date|customer_block_bcra_date|customer_unblock_bcra_date|customer_pending_notice_type|last_notice_number|last_reference_number_id|last_service_number|last_address_number|last_unlinking_account_date|customer_end_date|last_change_user_id|customer_pep_type|bbva_family_lnk_weighted_number|customer_status_type|scoring_activity_type|refinancing_number|refinancing_date|coholder_customer_id|customer_bcra_situation_id|customer_cuit_id|customer_position_vat_type|balance_closing_date|profession_id|bbva_cust_number|customer_linked_type|customer_entry_type|job_type|profession_start_date|customer_first_block_date|customer_registration_date|l_c_d_customer|last_change_hms_date|register_terminal_id|register_user_id|customer_type|customer_seniority_number|last_status_change_date|operational_load_date|job_type_desc|row_num|full_address|address_contact|\n",
            "+-----------+-----------------------+-------------------+--------------+-----------+------------------+---------------------------+-----------------+-------------+---------------------+-----------------+-----------------------+----------+---------------+-----------+------------------+----------------------+-------------------------+------------------+---------------------+------------------------------+-----------------------+--------------------+---------------------+------------------+-------------------------+-------------------------+------------------+-----------------------------+--------------------+---------------------+-----------------------+----------------------+--------------------+----------------------+------------------------------+----------------------------+------------------------+-------------------+----------------+----------------+-------------------+--------------------+-----------------------+-----------------+---------------------+-------------+-----------+--------------+---------------+--------------------+---------+----------------+-----------+-----------------------+-----------------------+----------+-------------------+-----------------+--------------------------+---------+----------------+----------+-------------------+-----------+----------+----------------------+--------------------+---------------------+-----------+--------------------------+----------------------------+-------------------------------+------------------------+------------------------+--------------------------+------------------------+--------------------------+----------------------------+------------------+------------------------+-------------------+-------------------+---------------------------+-----------------+-------------------+-----------------+-------------------------------+--------------------+---------------------+------------------+----------------+--------------------+--------------------------+----------------+--------------------------+--------------------+-------------+----------------+--------------------+-------------------+--------+---------------------+-------------------------+--------------------------+--------------+--------------------+--------------------+----------------+-------------+-------------------------+-----------------------+---------------------+-------------+-------+------------+---------------+\n",
            "+-----------+-----------------------+-------------------+--------------+-----------+------------------+---------------------------+-----------------+-------------+---------------------+-----------------+-----------------------+----------+---------------+-----------+------------------+----------------------+-------------------------+------------------+---------------------+------------------------------+-----------------------+--------------------+---------------------+------------------+-------------------------+-------------------------+------------------+-----------------------------+--------------------+---------------------+-----------------------+----------------------+--------------------+----------------------+------------------------------+----------------------------+------------------------+-------------------+----------------+----------------+-------------------+--------------------+-----------------------+-----------------+---------------------+-------------+-----------+--------------+---------------+--------------------+---------+----------------+-----------+-----------------------+-----------------------+----------+-------------------+-----------------+--------------------------+---------+----------------+----------+-------------------+-----------+----------+----------------------+--------------------+---------------------+-----------+--------------------------+----------------------------+-------------------------------+------------------------+------------------------+--------------------------+------------------------+--------------------------+----------------------------+------------------+------------------------+-------------------+-------------------+---------------------------+-----------------+-------------------+-----------------+-------------------------------+--------------------+---------------------+------------------+----------------+--------------------+--------------------------+----------------+--------------------------+--------------------+-------------+----------------+--------------------+-------------------+--------+---------------------+-------------------------+--------------------------+--------------+--------------------+--------------------+----------------+-------------+-------------------------+-----------------------+---------------------+-------------+-------+------------+---------------+\n",
            "\n"
          ]
        }
      ]
    },
    {
      "cell_type": "code",
      "source": [
        "df_address_contact.printSchema()"
      ],
      "metadata": {
        "id": "JAshgEl-7jna",
        "outputId": "1782ab58-9f95-43fd-b813-fd6372d47cac",
        "colab": {
          "base_uri": "https://localhost:8080/"
        }
      },
      "execution_count": 135,
      "outputs": [
        {
          "output_type": "stream",
          "name": "stdout",
          "text": [
            "root\n",
            " |-- customer_id: string (nullable = true)\n",
            " |-- address_priority_number: integer (nullable = true)\n",
            " |-- address_sequence_id: integer (nullable = true)\n",
            " |-- residence_type: string (nullable = true)\n",
            " |-- street_name: string (nullable = true)\n",
            " |-- address_outdoor_id: string (nullable = true)\n",
            " |-- address_without_number_type: string (nullable = true)\n",
            " |-- address_indoor_id: string (nullable = true)\n",
            " |-- indoor_number: string (nullable = true)\n",
            " |-- address_district_name: string (nullable = true)\n",
            " |-- address_town_name: string (nullable = true)\n",
            " |-- address_department_name: string (nullable = true)\n",
            " |-- zipcode_id: string (nullable = true)\n",
            " |-- long_zipcode_id: string (nullable = true)\n",
            " |-- province_id: string (nullable = true)\n",
            " |-- address_country_id: string (nullable = true)\n",
            " |-- other_information_desc: string (nullable = true)\n",
            " |-- address_relationship_type: integer (nullable = true)\n",
            " |-- address_start_date: date (nullable = true)\n",
            " |-- address_verified_date: date (nullable = true)\n",
            " |-- customer_locator_verified_type: string (nullable = true)\n",
            " |-- address_status_mod_date: date (nullable = true)\n",
            " |-- contact_channel_type: string (nullable = true)\n",
            " |-- sender_application_id: string (nullable = true)\n",
            " |-- returned_mail_type: string (nullable = true)\n",
            " |-- normalization_status_type: string (nullable = true)\n",
            " |-- normalization_reason_name: string (nullable = true)\n",
            " |-- normalization_date: date (nullable = true)\n",
            " |-- normalized_level_match_number: decimal(5,2) (nullable = true)\n",
            " |-- dlvy_day_monday_type: string (nullable = true)\n",
            " |-- dlvy_day_tuesday_type: string (nullable = true)\n",
            " |-- dlvy_day_wednesday_type: string (nullable = true)\n",
            " |-- dlvy_day_thursday_type: string (nullable = true)\n",
            " |-- dlvy_day_friday_type: string (nullable = true)\n",
            " |-- dlvy_day_saturday_type: string (nullable = true)\n",
            " |-- delivery_contact_start_hm_date: string (nullable = true)\n",
            " |-- delivery_contact_end_hm_date: string (nullable = true)\n",
            " |-- prev_address_sequence_id: integer (nullable = true)\n",
            " |-- registry_entry_date: date (nullable = true)\n",
            " |-- register_user_id: string (nullable = true)\n",
            " |-- last_change_date: date (nullable = true)\n",
            " |-- last_change_user_id: string (nullable = true)\n",
            " |-- last_change_hms_date: string (nullable = true)\n",
            " |-- last_change_terminal_id: string (nullable = true)\n",
            " |-- registration_type: string (nullable = true)\n",
            " |-- operational_load_date: timestamp (nullable = true)\n",
            " |-- personal_type: string (nullable = true)\n",
            " |-- personal_id: string (nullable = true)\n",
            " |-- admission_date: date (nullable = true)\n",
            " |-- sale_channel_id: string (nullable = true)\n",
            " |-- operation_channel_id: string (nullable = true)\n",
            " |-- branch_id: integer (nullable = true)\n",
            " |-- business_area_id: integer (nullable = true)\n",
            " |-- campaing_id: decimal(2,0) (nullable = true)\n",
            " |-- customer_situation_type: integer (nullable = true)\n",
            " |-- customer_condition_type: integer (nullable = true)\n",
            " |-- manager_id: integer (nullable = true)\n",
            " |-- tracking_manager_id: string (nullable = true)\n",
            " |-- credit_manager_id: string (nullable = true)\n",
            " |-- credit_recovery_manager_id: string (nullable = true)\n",
            " |-- last_name: string (nullable = true)\n",
            " |-- second_last_name: string (nullable = true)\n",
            " |-- first_name: string (nullable = true)\n",
            " |-- marital_status_type: integer (nullable = true)\n",
            " |-- gender_type: string (nullable = true)\n",
            " |-- birth_date: date (nullable = true)\n",
            " |-- country_nationality_id: integer (nullable = true)\n",
            " |-- residence_country_id: string (nullable = true)\n",
            " |-- customer_subject_type: string (nullable = true)\n",
            " |-- sector_type: integer (nullable = true)\n",
            " |-- customer_level_access_type: string (nullable = true)\n",
            " |-- cust_bcra_econ_activity_type: integer (nullable = true)\n",
            " |-- internal_economic_activity_type: integer (nullable = true)\n",
            " |-- bbva_inhabilitation_type: string (nullable = true)\n",
            " |-- customer_block_bbva_date: date (nullable = true)\n",
            " |-- customer_unblock_bbva_date: date (nullable = true)\n",
            " |-- customer_block_bcra_date: date (nullable = true)\n",
            " |-- customer_unblock_bcra_date: date (nullable = true)\n",
            " |-- customer_pending_notice_type: string (nullable = true)\n",
            " |-- last_notice_number: decimal(3,0) (nullable = true)\n",
            " |-- last_reference_number_id: decimal(3,0) (nullable = true)\n",
            " |-- last_service_number: decimal(3,0) (nullable = true)\n",
            " |-- last_address_number: decimal(3,0) (nullable = true)\n",
            " |-- last_unlinking_account_date: date (nullable = true)\n",
            " |-- customer_end_date: date (nullable = true)\n",
            " |-- last_change_user_id: string (nullable = true)\n",
            " |-- customer_pep_type: decimal(1,0) (nullable = true)\n",
            " |-- bbva_family_lnk_weighted_number: decimal(1,0) (nullable = true)\n",
            " |-- customer_status_type: string (nullable = true)\n",
            " |-- scoring_activity_type: integer (nullable = true)\n",
            " |-- refinancing_number: integer (nullable = true)\n",
            " |-- refinancing_date: date (nullable = true)\n",
            " |-- coholder_customer_id: string (nullable = true)\n",
            " |-- customer_bcra_situation_id: integer (nullable = true)\n",
            " |-- customer_cuit_id: string (nullable = true)\n",
            " |-- customer_position_vat_type: string (nullable = true)\n",
            " |-- balance_closing_date: date (nullable = true)\n",
            " |-- profession_id: string (nullable = true)\n",
            " |-- bbva_cust_number: string (nullable = true)\n",
            " |-- customer_linked_type: string (nullable = true)\n",
            " |-- customer_entry_type: string (nullable = true)\n",
            " |-- job_type: string (nullable = true)\n",
            " |-- profession_start_date: date (nullable = true)\n",
            " |-- customer_first_block_date: date (nullable = true)\n",
            " |-- customer_registration_date: date (nullable = true)\n",
            " |-- l_c_d_customer: date (nullable = true)\n",
            " |-- last_change_hms_date: string (nullable = true)\n",
            " |-- register_terminal_id: string (nullable = true)\n",
            " |-- register_user_id: string (nullable = true)\n",
            " |-- customer_type: string (nullable = true)\n",
            " |-- customer_seniority_number: decimal(4,0) (nullable = true)\n",
            " |-- last_status_change_date: date (nullable = true)\n",
            " |-- operational_load_date: timestamp (nullable = true)\n",
            " |-- job_type_desc: string (nullable = false)\n",
            " |-- row_num: integer (nullable = false)\n",
            " |-- full_address: string (nullable = true)\n",
            " |-- address_contact: string (nullable = true)\n",
            "\n"
          ]
        }
      ]
    },
    {
      "cell_type": "markdown",
      "source": [
        "####- 33 - Combinar los DataFrame de contactos telefónicos de clientes, direcciones de clientes y email de clientes en uno solo."
      ],
      "metadata": {
        "id": "Yoc083uLwsFv"
      }
    },
    {
      "cell_type": "code",
      "source": [
        "df_contacts = df_pivot_phone.join(df_pivot_email, \"customer_id\", how='full').join(df_pivot_address, \"customer_id\", how='full')"
      ],
      "metadata": {
        "id": "qutuktOKmYBt"
      },
      "execution_count": 136,
      "outputs": []
    },
    {
      "cell_type": "code",
      "source": [
        "df_contacts.toPandas()"
      ],
      "metadata": {
        "id": "D7yYs-Gjmnh7",
        "outputId": "d92963d6-ee48-4856-9420-b67ecc7dc87c",
        "colab": {
          "base_uri": "https://localhost:8080/",
          "height": 0
        }
      },
      "execution_count": 137,
      "outputs": [
        {
          "output_type": "execute_result",
          "data": {
            "text/plain": [
              "   customer_id          phone_1          phone_2 phone_3 email_1 email_2  \\\n",
              "0     26293280  54-2323-67-7206              ---     ---    None    None   \n",
              "1     28445138  54-11-6161-5326              ---     ---    None    None   \n",
              "2     27008407  54-2657-22-6503  54-2657-31-3231     ---    None    None   \n",
              "3     06987700  54-11-4451-4104              ---     ---    None    None   \n",
              "4     26488506  54-2964-54-9154              ---     ---    None    None   \n",
              "5     24401530  54-11-5656-3942              ---     ---    None    None   \n",
              "6     26923214  54-11-6705-6375              ---     ---    None    None   \n",
              "7     24935788  54-3447-64-4382              ---     ---    None    None   \n",
              "8     26183611  54-11-4341-0084  54-11-4341-0084     ---    None    None   \n",
              "9     19801715  54-11-4544-8655              ---     ---    None    None   \n",
              "10    28633515  54-351-716-8741              ---     ---    None    None   \n",
              "11    21162204  54-11-6286-0946              ---     ---    None    None   \n",
              "12    25633010  54-11-5667-3375  54-11-4342-8605     ---    None    None   \n",
              "13    28660498  54-223-451-2038              ---     ---    None    None   \n",
              "14    23417903  54-11-4788-3665              ---     ---    None    None   \n",
              "\n",
              "   email_3 address_1 address_2 address_3  \n",
              "0     None      None      None      None  \n",
              "1     None      None      None      None  \n",
              "2     None      None      None      None  \n",
              "3     None      None      None      None  \n",
              "4     None      None      None      None  \n",
              "5     None      None      None      None  \n",
              "6     None      None      None      None  \n",
              "7     None      None      None      None  \n",
              "8     None      None      None      None  \n",
              "9     None      None      None      None  \n",
              "10    None      None      None      None  \n",
              "11    None      None      None      None  \n",
              "12    None      None      None      None  \n",
              "13    None      None      None      None  \n",
              "14    None      None      None      None  "
            ],
            "text/html": [
              "\n",
              "  <div id=\"df-697396eb-2032-4a14-b17c-1d9ee0dfb464\">\n",
              "    <div class=\"colab-df-container\">\n",
              "      <div>\n",
              "<style scoped>\n",
              "    .dataframe tbody tr th:only-of-type {\n",
              "        vertical-align: middle;\n",
              "    }\n",
              "\n",
              "    .dataframe tbody tr th {\n",
              "        vertical-align: top;\n",
              "    }\n",
              "\n",
              "    .dataframe thead th {\n",
              "        text-align: right;\n",
              "    }\n",
              "</style>\n",
              "<table border=\"1\" class=\"dataframe\">\n",
              "  <thead>\n",
              "    <tr style=\"text-align: right;\">\n",
              "      <th></th>\n",
              "      <th>customer_id</th>\n",
              "      <th>phone_1</th>\n",
              "      <th>phone_2</th>\n",
              "      <th>phone_3</th>\n",
              "      <th>email_1</th>\n",
              "      <th>email_2</th>\n",
              "      <th>email_3</th>\n",
              "      <th>address_1</th>\n",
              "      <th>address_2</th>\n",
              "      <th>address_3</th>\n",
              "    </tr>\n",
              "  </thead>\n",
              "  <tbody>\n",
              "    <tr>\n",
              "      <th>0</th>\n",
              "      <td>26293280</td>\n",
              "      <td>54-2323-67-7206</td>\n",
              "      <td>---</td>\n",
              "      <td>---</td>\n",
              "      <td>None</td>\n",
              "      <td>None</td>\n",
              "      <td>None</td>\n",
              "      <td>None</td>\n",
              "      <td>None</td>\n",
              "      <td>None</td>\n",
              "    </tr>\n",
              "    <tr>\n",
              "      <th>1</th>\n",
              "      <td>28445138</td>\n",
              "      <td>54-11-6161-5326</td>\n",
              "      <td>---</td>\n",
              "      <td>---</td>\n",
              "      <td>None</td>\n",
              "      <td>None</td>\n",
              "      <td>None</td>\n",
              "      <td>None</td>\n",
              "      <td>None</td>\n",
              "      <td>None</td>\n",
              "    </tr>\n",
              "    <tr>\n",
              "      <th>2</th>\n",
              "      <td>27008407</td>\n",
              "      <td>54-2657-22-6503</td>\n",
              "      <td>54-2657-31-3231</td>\n",
              "      <td>---</td>\n",
              "      <td>None</td>\n",
              "      <td>None</td>\n",
              "      <td>None</td>\n",
              "      <td>None</td>\n",
              "      <td>None</td>\n",
              "      <td>None</td>\n",
              "    </tr>\n",
              "    <tr>\n",
              "      <th>3</th>\n",
              "      <td>06987700</td>\n",
              "      <td>54-11-4451-4104</td>\n",
              "      <td>---</td>\n",
              "      <td>---</td>\n",
              "      <td>None</td>\n",
              "      <td>None</td>\n",
              "      <td>None</td>\n",
              "      <td>None</td>\n",
              "      <td>None</td>\n",
              "      <td>None</td>\n",
              "    </tr>\n",
              "    <tr>\n",
              "      <th>4</th>\n",
              "      <td>26488506</td>\n",
              "      <td>54-2964-54-9154</td>\n",
              "      <td>---</td>\n",
              "      <td>---</td>\n",
              "      <td>None</td>\n",
              "      <td>None</td>\n",
              "      <td>None</td>\n",
              "      <td>None</td>\n",
              "      <td>None</td>\n",
              "      <td>None</td>\n",
              "    </tr>\n",
              "    <tr>\n",
              "      <th>5</th>\n",
              "      <td>24401530</td>\n",
              "      <td>54-11-5656-3942</td>\n",
              "      <td>---</td>\n",
              "      <td>---</td>\n",
              "      <td>None</td>\n",
              "      <td>None</td>\n",
              "      <td>None</td>\n",
              "      <td>None</td>\n",
              "      <td>None</td>\n",
              "      <td>None</td>\n",
              "    </tr>\n",
              "    <tr>\n",
              "      <th>6</th>\n",
              "      <td>26923214</td>\n",
              "      <td>54-11-6705-6375</td>\n",
              "      <td>---</td>\n",
              "      <td>---</td>\n",
              "      <td>None</td>\n",
              "      <td>None</td>\n",
              "      <td>None</td>\n",
              "      <td>None</td>\n",
              "      <td>None</td>\n",
              "      <td>None</td>\n",
              "    </tr>\n",
              "    <tr>\n",
              "      <th>7</th>\n",
              "      <td>24935788</td>\n",
              "      <td>54-3447-64-4382</td>\n",
              "      <td>---</td>\n",
              "      <td>---</td>\n",
              "      <td>None</td>\n",
              "      <td>None</td>\n",
              "      <td>None</td>\n",
              "      <td>None</td>\n",
              "      <td>None</td>\n",
              "      <td>None</td>\n",
              "    </tr>\n",
              "    <tr>\n",
              "      <th>8</th>\n",
              "      <td>26183611</td>\n",
              "      <td>54-11-4341-0084</td>\n",
              "      <td>54-11-4341-0084</td>\n",
              "      <td>---</td>\n",
              "      <td>None</td>\n",
              "      <td>None</td>\n",
              "      <td>None</td>\n",
              "      <td>None</td>\n",
              "      <td>None</td>\n",
              "      <td>None</td>\n",
              "    </tr>\n",
              "    <tr>\n",
              "      <th>9</th>\n",
              "      <td>19801715</td>\n",
              "      <td>54-11-4544-8655</td>\n",
              "      <td>---</td>\n",
              "      <td>---</td>\n",
              "      <td>None</td>\n",
              "      <td>None</td>\n",
              "      <td>None</td>\n",
              "      <td>None</td>\n",
              "      <td>None</td>\n",
              "      <td>None</td>\n",
              "    </tr>\n",
              "    <tr>\n",
              "      <th>10</th>\n",
              "      <td>28633515</td>\n",
              "      <td>54-351-716-8741</td>\n",
              "      <td>---</td>\n",
              "      <td>---</td>\n",
              "      <td>None</td>\n",
              "      <td>None</td>\n",
              "      <td>None</td>\n",
              "      <td>None</td>\n",
              "      <td>None</td>\n",
              "      <td>None</td>\n",
              "    </tr>\n",
              "    <tr>\n",
              "      <th>11</th>\n",
              "      <td>21162204</td>\n",
              "      <td>54-11-6286-0946</td>\n",
              "      <td>---</td>\n",
              "      <td>---</td>\n",
              "      <td>None</td>\n",
              "      <td>None</td>\n",
              "      <td>None</td>\n",
              "      <td>None</td>\n",
              "      <td>None</td>\n",
              "      <td>None</td>\n",
              "    </tr>\n",
              "    <tr>\n",
              "      <th>12</th>\n",
              "      <td>25633010</td>\n",
              "      <td>54-11-5667-3375</td>\n",
              "      <td>54-11-4342-8605</td>\n",
              "      <td>---</td>\n",
              "      <td>None</td>\n",
              "      <td>None</td>\n",
              "      <td>None</td>\n",
              "      <td>None</td>\n",
              "      <td>None</td>\n",
              "      <td>None</td>\n",
              "    </tr>\n",
              "    <tr>\n",
              "      <th>13</th>\n",
              "      <td>28660498</td>\n",
              "      <td>54-223-451-2038</td>\n",
              "      <td>---</td>\n",
              "      <td>---</td>\n",
              "      <td>None</td>\n",
              "      <td>None</td>\n",
              "      <td>None</td>\n",
              "      <td>None</td>\n",
              "      <td>None</td>\n",
              "      <td>None</td>\n",
              "    </tr>\n",
              "    <tr>\n",
              "      <th>14</th>\n",
              "      <td>23417903</td>\n",
              "      <td>54-11-4788-3665</td>\n",
              "      <td>---</td>\n",
              "      <td>---</td>\n",
              "      <td>None</td>\n",
              "      <td>None</td>\n",
              "      <td>None</td>\n",
              "      <td>None</td>\n",
              "      <td>None</td>\n",
              "      <td>None</td>\n",
              "    </tr>\n",
              "  </tbody>\n",
              "</table>\n",
              "</div>\n",
              "      <button class=\"colab-df-convert\" onclick=\"convertToInteractive('df-697396eb-2032-4a14-b17c-1d9ee0dfb464')\"\n",
              "              title=\"Convert this dataframe to an interactive table.\"\n",
              "              style=\"display:none;\">\n",
              "        \n",
              "  <svg xmlns=\"http://www.w3.org/2000/svg\" height=\"24px\"viewBox=\"0 0 24 24\"\n",
              "       width=\"24px\">\n",
              "    <path d=\"M0 0h24v24H0V0z\" fill=\"none\"/>\n",
              "    <path d=\"M18.56 5.44l.94 2.06.94-2.06 2.06-.94-2.06-.94-.94-2.06-.94 2.06-2.06.94zm-11 1L8.5 8.5l.94-2.06 2.06-.94-2.06-.94L8.5 2.5l-.94 2.06-2.06.94zm10 10l.94 2.06.94-2.06 2.06-.94-2.06-.94-.94-2.06-.94 2.06-2.06.94z\"/><path d=\"M17.41 7.96l-1.37-1.37c-.4-.4-.92-.59-1.43-.59-.52 0-1.04.2-1.43.59L10.3 9.45l-7.72 7.72c-.78.78-.78 2.05 0 2.83L4 21.41c.39.39.9.59 1.41.59.51 0 1.02-.2 1.41-.59l7.78-7.78 2.81-2.81c.8-.78.8-2.07 0-2.86zM5.41 20L4 18.59l7.72-7.72 1.47 1.35L5.41 20z\"/>\n",
              "  </svg>\n",
              "      </button>\n",
              "      \n",
              "  <style>\n",
              "    .colab-df-container {\n",
              "      display:flex;\n",
              "      flex-wrap:wrap;\n",
              "      gap: 12px;\n",
              "    }\n",
              "\n",
              "    .colab-df-convert {\n",
              "      background-color: #E8F0FE;\n",
              "      border: none;\n",
              "      border-radius: 50%;\n",
              "      cursor: pointer;\n",
              "      display: none;\n",
              "      fill: #1967D2;\n",
              "      height: 32px;\n",
              "      padding: 0 0 0 0;\n",
              "      width: 32px;\n",
              "    }\n",
              "\n",
              "    .colab-df-convert:hover {\n",
              "      background-color: #E2EBFA;\n",
              "      box-shadow: 0px 1px 2px rgba(60, 64, 67, 0.3), 0px 1px 3px 1px rgba(60, 64, 67, 0.15);\n",
              "      fill: #174EA6;\n",
              "    }\n",
              "\n",
              "    [theme=dark] .colab-df-convert {\n",
              "      background-color: #3B4455;\n",
              "      fill: #D2E3FC;\n",
              "    }\n",
              "\n",
              "    [theme=dark] .colab-df-convert:hover {\n",
              "      background-color: #434B5C;\n",
              "      box-shadow: 0px 1px 3px 1px rgba(0, 0, 0, 0.15);\n",
              "      filter: drop-shadow(0px 1px 2px rgba(0, 0, 0, 0.3));\n",
              "      fill: #FFFFFF;\n",
              "    }\n",
              "  </style>\n",
              "\n",
              "      <script>\n",
              "        const buttonEl =\n",
              "          document.querySelector('#df-697396eb-2032-4a14-b17c-1d9ee0dfb464 button.colab-df-convert');\n",
              "        buttonEl.style.display =\n",
              "          google.colab.kernel.accessAllowed ? 'block' : 'none';\n",
              "\n",
              "        async function convertToInteractive(key) {\n",
              "          const element = document.querySelector('#df-697396eb-2032-4a14-b17c-1d9ee0dfb464');\n",
              "          const dataTable =\n",
              "            await google.colab.kernel.invokeFunction('convertToInteractive',\n",
              "                                                     [key], {});\n",
              "          if (!dataTable) return;\n",
              "\n",
              "          const docLinkHtml = 'Like what you see? Visit the ' +\n",
              "            '<a target=\"_blank\" href=https://colab.research.google.com/notebooks/data_table.ipynb>data table notebook</a>'\n",
              "            + ' to learn more about interactive tables.';\n",
              "          element.innerHTML = '';\n",
              "          dataTable['output_type'] = 'display_data';\n",
              "          await google.colab.output.renderOutput(dataTable, element);\n",
              "          const docLink = document.createElement('div');\n",
              "          docLink.innerHTML = docLinkHtml;\n",
              "          element.appendChild(docLink);\n",
              "        }\n",
              "      </script>\n",
              "    </div>\n",
              "  </div>\n",
              "  "
            ]
          },
          "metadata": {},
          "execution_count": 137
        }
      ]
    },
    {
      "cell_type": "code",
      "source": [
        "df_short_contacts = df_contacts.select('customer_id','Phone_1','Email_1','Address_1')\n",
        "df_short_contacts.toPandas()"
      ],
      "metadata": {
        "id": "EJ1Q6xQDphY-",
        "outputId": "febbb8b5-a371-4bee-e81e-4224726ff438",
        "colab": {
          "base_uri": "https://localhost:8080/",
          "height": 0
        }
      },
      "execution_count": 138,
      "outputs": [
        {
          "output_type": "execute_result",
          "data": {
            "text/plain": [
              "   customer_id          Phone_1 Email_1 Address_1\n",
              "0     26293280  54-2323-67-7206    None      None\n",
              "1     28445138  54-11-6161-5326    None      None\n",
              "2     27008407  54-2657-22-6503    None      None\n",
              "3     06987700  54-11-4451-4104    None      None\n",
              "4     26488506  54-2964-54-9154    None      None\n",
              "5     24401530  54-11-5656-3942    None      None\n",
              "6     26923214  54-11-6705-6375    None      None\n",
              "7     24935788  54-3447-64-4382    None      None\n",
              "8     26183611  54-11-4341-0084    None      None\n",
              "9     19801715  54-11-4544-8655    None      None\n",
              "10    28633515  54-351-716-8741    None      None\n",
              "11    21162204  54-11-6286-0946    None      None\n",
              "12    25633010  54-11-5667-3375    None      None\n",
              "13    28660498  54-223-451-2038    None      None\n",
              "14    23417903  54-11-4788-3665    None      None"
            ],
            "text/html": [
              "\n",
              "  <div id=\"df-709c64e0-3c44-45a5-bc45-5391b9621a53\">\n",
              "    <div class=\"colab-df-container\">\n",
              "      <div>\n",
              "<style scoped>\n",
              "    .dataframe tbody tr th:only-of-type {\n",
              "        vertical-align: middle;\n",
              "    }\n",
              "\n",
              "    .dataframe tbody tr th {\n",
              "        vertical-align: top;\n",
              "    }\n",
              "\n",
              "    .dataframe thead th {\n",
              "        text-align: right;\n",
              "    }\n",
              "</style>\n",
              "<table border=\"1\" class=\"dataframe\">\n",
              "  <thead>\n",
              "    <tr style=\"text-align: right;\">\n",
              "      <th></th>\n",
              "      <th>customer_id</th>\n",
              "      <th>Phone_1</th>\n",
              "      <th>Email_1</th>\n",
              "      <th>Address_1</th>\n",
              "    </tr>\n",
              "  </thead>\n",
              "  <tbody>\n",
              "    <tr>\n",
              "      <th>0</th>\n",
              "      <td>26293280</td>\n",
              "      <td>54-2323-67-7206</td>\n",
              "      <td>None</td>\n",
              "      <td>None</td>\n",
              "    </tr>\n",
              "    <tr>\n",
              "      <th>1</th>\n",
              "      <td>28445138</td>\n",
              "      <td>54-11-6161-5326</td>\n",
              "      <td>None</td>\n",
              "      <td>None</td>\n",
              "    </tr>\n",
              "    <tr>\n",
              "      <th>2</th>\n",
              "      <td>27008407</td>\n",
              "      <td>54-2657-22-6503</td>\n",
              "      <td>None</td>\n",
              "      <td>None</td>\n",
              "    </tr>\n",
              "    <tr>\n",
              "      <th>3</th>\n",
              "      <td>06987700</td>\n",
              "      <td>54-11-4451-4104</td>\n",
              "      <td>None</td>\n",
              "      <td>None</td>\n",
              "    </tr>\n",
              "    <tr>\n",
              "      <th>4</th>\n",
              "      <td>26488506</td>\n",
              "      <td>54-2964-54-9154</td>\n",
              "      <td>None</td>\n",
              "      <td>None</td>\n",
              "    </tr>\n",
              "    <tr>\n",
              "      <th>5</th>\n",
              "      <td>24401530</td>\n",
              "      <td>54-11-5656-3942</td>\n",
              "      <td>None</td>\n",
              "      <td>None</td>\n",
              "    </tr>\n",
              "    <tr>\n",
              "      <th>6</th>\n",
              "      <td>26923214</td>\n",
              "      <td>54-11-6705-6375</td>\n",
              "      <td>None</td>\n",
              "      <td>None</td>\n",
              "    </tr>\n",
              "    <tr>\n",
              "      <th>7</th>\n",
              "      <td>24935788</td>\n",
              "      <td>54-3447-64-4382</td>\n",
              "      <td>None</td>\n",
              "      <td>None</td>\n",
              "    </tr>\n",
              "    <tr>\n",
              "      <th>8</th>\n",
              "      <td>26183611</td>\n",
              "      <td>54-11-4341-0084</td>\n",
              "      <td>None</td>\n",
              "      <td>None</td>\n",
              "    </tr>\n",
              "    <tr>\n",
              "      <th>9</th>\n",
              "      <td>19801715</td>\n",
              "      <td>54-11-4544-8655</td>\n",
              "      <td>None</td>\n",
              "      <td>None</td>\n",
              "    </tr>\n",
              "    <tr>\n",
              "      <th>10</th>\n",
              "      <td>28633515</td>\n",
              "      <td>54-351-716-8741</td>\n",
              "      <td>None</td>\n",
              "      <td>None</td>\n",
              "    </tr>\n",
              "    <tr>\n",
              "      <th>11</th>\n",
              "      <td>21162204</td>\n",
              "      <td>54-11-6286-0946</td>\n",
              "      <td>None</td>\n",
              "      <td>None</td>\n",
              "    </tr>\n",
              "    <tr>\n",
              "      <th>12</th>\n",
              "      <td>25633010</td>\n",
              "      <td>54-11-5667-3375</td>\n",
              "      <td>None</td>\n",
              "      <td>None</td>\n",
              "    </tr>\n",
              "    <tr>\n",
              "      <th>13</th>\n",
              "      <td>28660498</td>\n",
              "      <td>54-223-451-2038</td>\n",
              "      <td>None</td>\n",
              "      <td>None</td>\n",
              "    </tr>\n",
              "    <tr>\n",
              "      <th>14</th>\n",
              "      <td>23417903</td>\n",
              "      <td>54-11-4788-3665</td>\n",
              "      <td>None</td>\n",
              "      <td>None</td>\n",
              "    </tr>\n",
              "  </tbody>\n",
              "</table>\n",
              "</div>\n",
              "      <button class=\"colab-df-convert\" onclick=\"convertToInteractive('df-709c64e0-3c44-45a5-bc45-5391b9621a53')\"\n",
              "              title=\"Convert this dataframe to an interactive table.\"\n",
              "              style=\"display:none;\">\n",
              "        \n",
              "  <svg xmlns=\"http://www.w3.org/2000/svg\" height=\"24px\"viewBox=\"0 0 24 24\"\n",
              "       width=\"24px\">\n",
              "    <path d=\"M0 0h24v24H0V0z\" fill=\"none\"/>\n",
              "    <path d=\"M18.56 5.44l.94 2.06.94-2.06 2.06-.94-2.06-.94-.94-2.06-.94 2.06-2.06.94zm-11 1L8.5 8.5l.94-2.06 2.06-.94-2.06-.94L8.5 2.5l-.94 2.06-2.06.94zm10 10l.94 2.06.94-2.06 2.06-.94-2.06-.94-.94-2.06-.94 2.06-2.06.94z\"/><path d=\"M17.41 7.96l-1.37-1.37c-.4-.4-.92-.59-1.43-.59-.52 0-1.04.2-1.43.59L10.3 9.45l-7.72 7.72c-.78.78-.78 2.05 0 2.83L4 21.41c.39.39.9.59 1.41.59.51 0 1.02-.2 1.41-.59l7.78-7.78 2.81-2.81c.8-.78.8-2.07 0-2.86zM5.41 20L4 18.59l7.72-7.72 1.47 1.35L5.41 20z\"/>\n",
              "  </svg>\n",
              "      </button>\n",
              "      \n",
              "  <style>\n",
              "    .colab-df-container {\n",
              "      display:flex;\n",
              "      flex-wrap:wrap;\n",
              "      gap: 12px;\n",
              "    }\n",
              "\n",
              "    .colab-df-convert {\n",
              "      background-color: #E8F0FE;\n",
              "      border: none;\n",
              "      border-radius: 50%;\n",
              "      cursor: pointer;\n",
              "      display: none;\n",
              "      fill: #1967D2;\n",
              "      height: 32px;\n",
              "      padding: 0 0 0 0;\n",
              "      width: 32px;\n",
              "    }\n",
              "\n",
              "    .colab-df-convert:hover {\n",
              "      background-color: #E2EBFA;\n",
              "      box-shadow: 0px 1px 2px rgba(60, 64, 67, 0.3), 0px 1px 3px 1px rgba(60, 64, 67, 0.15);\n",
              "      fill: #174EA6;\n",
              "    }\n",
              "\n",
              "    [theme=dark] .colab-df-convert {\n",
              "      background-color: #3B4455;\n",
              "      fill: #D2E3FC;\n",
              "    }\n",
              "\n",
              "    [theme=dark] .colab-df-convert:hover {\n",
              "      background-color: #434B5C;\n",
              "      box-shadow: 0px 1px 3px 1px rgba(0, 0, 0, 0.15);\n",
              "      filter: drop-shadow(0px 1px 2px rgba(0, 0, 0, 0.3));\n",
              "      fill: #FFFFFF;\n",
              "    }\n",
              "  </style>\n",
              "\n",
              "      <script>\n",
              "        const buttonEl =\n",
              "          document.querySelector('#df-709c64e0-3c44-45a5-bc45-5391b9621a53 button.colab-df-convert');\n",
              "        buttonEl.style.display =\n",
              "          google.colab.kernel.accessAllowed ? 'block' : 'none';\n",
              "\n",
              "        async function convertToInteractive(key) {\n",
              "          const element = document.querySelector('#df-709c64e0-3c44-45a5-bc45-5391b9621a53');\n",
              "          const dataTable =\n",
              "            await google.colab.kernel.invokeFunction('convertToInteractive',\n",
              "                                                     [key], {});\n",
              "          if (!dataTable) return;\n",
              "\n",
              "          const docLinkHtml = 'Like what you see? Visit the ' +\n",
              "            '<a target=\"_blank\" href=https://colab.research.google.com/notebooks/data_table.ipynb>data table notebook</a>'\n",
              "            + ' to learn more about interactive tables.';\n",
              "          element.innerHTML = '';\n",
              "          dataTable['output_type'] = 'display_data';\n",
              "          await google.colab.output.renderOutput(dataTable, element);\n",
              "          const docLink = document.createElement('div');\n",
              "          docLink.innerHTML = docLinkHtml;\n",
              "          element.appendChild(docLink);\n",
              "        }\n",
              "      </script>\n",
              "    </div>\n",
              "  </div>\n",
              "  "
            ]
          },
          "metadata": {},
          "execution_count": 138
        }
      ]
    },
    {
      "cell_type": "markdown",
      "source": [
        "----"
      ],
      "metadata": {
        "id": "m1-yxfISnct5"
      }
    },
    {
      "cell_type": "code",
      "source": [
        "df_contact_types = df_phones_contact_col.join(df_address_contact_col, 'customer_id', how='full').join(df_emails_contact_col, 'customer_id', how='full')"
      ],
      "metadata": {
        "id": "pkiSBzQlkkSV"
      },
      "execution_count": 139,
      "outputs": []
    },
    {
      "cell_type": "code",
      "source": [
        "df_contact_types.select('customer_id','contact_type_phones','contact_type_address','contact_type_emails').toPandas()"
      ],
      "metadata": {
        "id": "WbULPOaqkwl2",
        "outputId": "e0e88fd5-a077-45b9-96fc-bcd6ed06fcde",
        "colab": {
          "base_uri": "https://localhost:8080/",
          "height": 0
        }
      },
      "execution_count": 140,
      "outputs": [
        {
          "output_type": "execute_result",
          "data": {
            "text/plain": [
              "       customer_id contact_type_phones contact_type_address  \\\n",
              "0         00000000                None                 None   \n",
              "1         00000000                None                 None   \n",
              "2         00000007               phone                 None   \n",
              "3         00000027                None              address   \n",
              "4         00000027                None              address   \n",
              "...            ...                 ...                  ...   \n",
              "432743    30976146               phone                 None   \n",
              "432744    30976148               phone                 None   \n",
              "432745    30976151               phone                 None   \n",
              "432746    30976154               phone                 None   \n",
              "432747    30976157               phone                 None   \n",
              "\n",
              "       contact_type_emails  \n",
              "0                   e-mail  \n",
              "1                   e-mail  \n",
              "2                     None  \n",
              "3                     None  \n",
              "4                     None  \n",
              "...                    ...  \n",
              "432743                None  \n",
              "432744                None  \n",
              "432745                None  \n",
              "432746                None  \n",
              "432747                None  \n",
              "\n",
              "[432748 rows x 4 columns]"
            ],
            "text/html": [
              "\n",
              "  <div id=\"df-ddb06afa-119d-4717-8583-e47a4a681bc6\">\n",
              "    <div class=\"colab-df-container\">\n",
              "      <div>\n",
              "<style scoped>\n",
              "    .dataframe tbody tr th:only-of-type {\n",
              "        vertical-align: middle;\n",
              "    }\n",
              "\n",
              "    .dataframe tbody tr th {\n",
              "        vertical-align: top;\n",
              "    }\n",
              "\n",
              "    .dataframe thead th {\n",
              "        text-align: right;\n",
              "    }\n",
              "</style>\n",
              "<table border=\"1\" class=\"dataframe\">\n",
              "  <thead>\n",
              "    <tr style=\"text-align: right;\">\n",
              "      <th></th>\n",
              "      <th>customer_id</th>\n",
              "      <th>contact_type_phones</th>\n",
              "      <th>contact_type_address</th>\n",
              "      <th>contact_type_emails</th>\n",
              "    </tr>\n",
              "  </thead>\n",
              "  <tbody>\n",
              "    <tr>\n",
              "      <th>0</th>\n",
              "      <td>00000000</td>\n",
              "      <td>None</td>\n",
              "      <td>None</td>\n",
              "      <td>e-mail</td>\n",
              "    </tr>\n",
              "    <tr>\n",
              "      <th>1</th>\n",
              "      <td>00000000</td>\n",
              "      <td>None</td>\n",
              "      <td>None</td>\n",
              "      <td>e-mail</td>\n",
              "    </tr>\n",
              "    <tr>\n",
              "      <th>2</th>\n",
              "      <td>00000007</td>\n",
              "      <td>phone</td>\n",
              "      <td>None</td>\n",
              "      <td>None</td>\n",
              "    </tr>\n",
              "    <tr>\n",
              "      <th>3</th>\n",
              "      <td>00000027</td>\n",
              "      <td>None</td>\n",
              "      <td>address</td>\n",
              "      <td>None</td>\n",
              "    </tr>\n",
              "    <tr>\n",
              "      <th>4</th>\n",
              "      <td>00000027</td>\n",
              "      <td>None</td>\n",
              "      <td>address</td>\n",
              "      <td>None</td>\n",
              "    </tr>\n",
              "    <tr>\n",
              "      <th>...</th>\n",
              "      <td>...</td>\n",
              "      <td>...</td>\n",
              "      <td>...</td>\n",
              "      <td>...</td>\n",
              "    </tr>\n",
              "    <tr>\n",
              "      <th>432743</th>\n",
              "      <td>30976146</td>\n",
              "      <td>phone</td>\n",
              "      <td>None</td>\n",
              "      <td>None</td>\n",
              "    </tr>\n",
              "    <tr>\n",
              "      <th>432744</th>\n",
              "      <td>30976148</td>\n",
              "      <td>phone</td>\n",
              "      <td>None</td>\n",
              "      <td>None</td>\n",
              "    </tr>\n",
              "    <tr>\n",
              "      <th>432745</th>\n",
              "      <td>30976151</td>\n",
              "      <td>phone</td>\n",
              "      <td>None</td>\n",
              "      <td>None</td>\n",
              "    </tr>\n",
              "    <tr>\n",
              "      <th>432746</th>\n",
              "      <td>30976154</td>\n",
              "      <td>phone</td>\n",
              "      <td>None</td>\n",
              "      <td>None</td>\n",
              "    </tr>\n",
              "    <tr>\n",
              "      <th>432747</th>\n",
              "      <td>30976157</td>\n",
              "      <td>phone</td>\n",
              "      <td>None</td>\n",
              "      <td>None</td>\n",
              "    </tr>\n",
              "  </tbody>\n",
              "</table>\n",
              "<p>432748 rows × 4 columns</p>\n",
              "</div>\n",
              "      <button class=\"colab-df-convert\" onclick=\"convertToInteractive('df-ddb06afa-119d-4717-8583-e47a4a681bc6')\"\n",
              "              title=\"Convert this dataframe to an interactive table.\"\n",
              "              style=\"display:none;\">\n",
              "        \n",
              "  <svg xmlns=\"http://www.w3.org/2000/svg\" height=\"24px\"viewBox=\"0 0 24 24\"\n",
              "       width=\"24px\">\n",
              "    <path d=\"M0 0h24v24H0V0z\" fill=\"none\"/>\n",
              "    <path d=\"M18.56 5.44l.94 2.06.94-2.06 2.06-.94-2.06-.94-.94-2.06-.94 2.06-2.06.94zm-11 1L8.5 8.5l.94-2.06 2.06-.94-2.06-.94L8.5 2.5l-.94 2.06-2.06.94zm10 10l.94 2.06.94-2.06 2.06-.94-2.06-.94-.94-2.06-.94 2.06-2.06.94z\"/><path d=\"M17.41 7.96l-1.37-1.37c-.4-.4-.92-.59-1.43-.59-.52 0-1.04.2-1.43.59L10.3 9.45l-7.72 7.72c-.78.78-.78 2.05 0 2.83L4 21.41c.39.39.9.59 1.41.59.51 0 1.02-.2 1.41-.59l7.78-7.78 2.81-2.81c.8-.78.8-2.07 0-2.86zM5.41 20L4 18.59l7.72-7.72 1.47 1.35L5.41 20z\"/>\n",
              "  </svg>\n",
              "      </button>\n",
              "      \n",
              "  <style>\n",
              "    .colab-df-container {\n",
              "      display:flex;\n",
              "      flex-wrap:wrap;\n",
              "      gap: 12px;\n",
              "    }\n",
              "\n",
              "    .colab-df-convert {\n",
              "      background-color: #E8F0FE;\n",
              "      border: none;\n",
              "      border-radius: 50%;\n",
              "      cursor: pointer;\n",
              "      display: none;\n",
              "      fill: #1967D2;\n",
              "      height: 32px;\n",
              "      padding: 0 0 0 0;\n",
              "      width: 32px;\n",
              "    }\n",
              "\n",
              "    .colab-df-convert:hover {\n",
              "      background-color: #E2EBFA;\n",
              "      box-shadow: 0px 1px 2px rgba(60, 64, 67, 0.3), 0px 1px 3px 1px rgba(60, 64, 67, 0.15);\n",
              "      fill: #174EA6;\n",
              "    }\n",
              "\n",
              "    [theme=dark] .colab-df-convert {\n",
              "      background-color: #3B4455;\n",
              "      fill: #D2E3FC;\n",
              "    }\n",
              "\n",
              "    [theme=dark] .colab-df-convert:hover {\n",
              "      background-color: #434B5C;\n",
              "      box-shadow: 0px 1px 3px 1px rgba(0, 0, 0, 0.15);\n",
              "      filter: drop-shadow(0px 1px 2px rgba(0, 0, 0, 0.3));\n",
              "      fill: #FFFFFF;\n",
              "    }\n",
              "  </style>\n",
              "\n",
              "      <script>\n",
              "        const buttonEl =\n",
              "          document.querySelector('#df-ddb06afa-119d-4717-8583-e47a4a681bc6 button.colab-df-convert');\n",
              "        buttonEl.style.display =\n",
              "          google.colab.kernel.accessAllowed ? 'block' : 'none';\n",
              "\n",
              "        async function convertToInteractive(key) {\n",
              "          const element = document.querySelector('#df-ddb06afa-119d-4717-8583-e47a4a681bc6');\n",
              "          const dataTable =\n",
              "            await google.colab.kernel.invokeFunction('convertToInteractive',\n",
              "                                                     [key], {});\n",
              "          if (!dataTable) return;\n",
              "\n",
              "          const docLinkHtml = 'Like what you see? Visit the ' +\n",
              "            '<a target=\"_blank\" href=https://colab.research.google.com/notebooks/data_table.ipynb>data table notebook</a>'\n",
              "            + ' to learn more about interactive tables.';\n",
              "          element.innerHTML = '';\n",
              "          dataTable['output_type'] = 'display_data';\n",
              "          await google.colab.output.renderOutput(dataTable, element);\n",
              "          const docLink = document.createElement('div');\n",
              "          docLink.innerHTML = docLinkHtml;\n",
              "          element.appendChild(docLink);\n",
              "        }\n",
              "      </script>\n",
              "    </div>\n",
              "  </div>\n",
              "  "
            ]
          },
          "metadata": {},
          "execution_count": 140
        }
      ]
    },
    {
      "cell_type": "markdown",
      "source": [
        "# Creacion de vistas temporales"
      ],
      "metadata": {
        "id": "OGYXHYUnnNnP"
      }
    },
    {
      "cell_type": "markdown",
      "source": [
        "####- 35 - Generar una vista temporal a partir del DataFrame de contactos."
      ],
      "metadata": {
        "id": "Rg9diwJJyLvf"
      }
    },
    {
      "cell_type": "code",
      "source": [
        "df_short_contacts.createTempView('tw_contacts')"
      ],
      "metadata": {
        "id": "h2uq8IRgqpc9",
        "outputId": "18fc0fc6-57bf-43a4-a855-27742e226223",
        "colab": {
          "base_uri": "https://localhost:8080/",
          "height": 311
        }
      },
      "execution_count": 141,
      "outputs": [
        {
          "output_type": "error",
          "ename": "AnalysisException",
          "evalue": "ignored",
          "traceback": [
            "\u001b[0;31m---------------------------------------------------------------------------\u001b[0m",
            "\u001b[0;31mAnalysisException\u001b[0m                         Traceback (most recent call last)",
            "\u001b[0;32m<ipython-input-141-2fcd527c3eba>\u001b[0m in \u001b[0;36m<cell line: 1>\u001b[0;34m()\u001b[0m\n\u001b[0;32m----> 1\u001b[0;31m \u001b[0mdf_short_contacts\u001b[0m\u001b[0;34m.\u001b[0m\u001b[0mcreateTempView\u001b[0m\u001b[0;34m(\u001b[0m\u001b[0;34m'tw_contacts'\u001b[0m\u001b[0;34m)\u001b[0m\u001b[0;34m\u001b[0m\u001b[0;34m\u001b[0m\u001b[0m\n\u001b[0m",
            "\u001b[0;32m/content/spark-3.3.2-bin-hadoop3/python/pyspark/sql/dataframe.py\u001b[0m in \u001b[0;36mcreateTempView\u001b[0;34m(self, name)\u001b[0m\n\u001b[1;32m    254\u001b[0m \u001b[0;34m\u001b[0m\u001b[0m\n\u001b[1;32m    255\u001b[0m         \"\"\"\n\u001b[0;32m--> 256\u001b[0;31m         \u001b[0mself\u001b[0m\u001b[0;34m.\u001b[0m\u001b[0m_jdf\u001b[0m\u001b[0;34m.\u001b[0m\u001b[0mcreateTempView\u001b[0m\u001b[0;34m(\u001b[0m\u001b[0mname\u001b[0m\u001b[0;34m)\u001b[0m\u001b[0;34m\u001b[0m\u001b[0;34m\u001b[0m\u001b[0m\n\u001b[0m\u001b[1;32m    257\u001b[0m \u001b[0;34m\u001b[0m\u001b[0m\n\u001b[1;32m    258\u001b[0m     \u001b[0;32mdef\u001b[0m \u001b[0mcreateOrReplaceTempView\u001b[0m\u001b[0;34m(\u001b[0m\u001b[0mself\u001b[0m\u001b[0;34m,\u001b[0m \u001b[0mname\u001b[0m\u001b[0;34m:\u001b[0m \u001b[0mstr\u001b[0m\u001b[0;34m)\u001b[0m \u001b[0;34m->\u001b[0m \u001b[0;32mNone\u001b[0m\u001b[0;34m:\u001b[0m\u001b[0;34m\u001b[0m\u001b[0;34m\u001b[0m\u001b[0m\n",
            "\u001b[0;32m/content/spark-3.3.2-bin-hadoop3/python/lib/py4j-0.10.9.5-src.zip/py4j/java_gateway.py\u001b[0m in \u001b[0;36m__call__\u001b[0;34m(self, *args)\u001b[0m\n\u001b[1;32m   1319\u001b[0m \u001b[0;34m\u001b[0m\u001b[0m\n\u001b[1;32m   1320\u001b[0m         \u001b[0manswer\u001b[0m \u001b[0;34m=\u001b[0m \u001b[0mself\u001b[0m\u001b[0;34m.\u001b[0m\u001b[0mgateway_client\u001b[0m\u001b[0;34m.\u001b[0m\u001b[0msend_command\u001b[0m\u001b[0;34m(\u001b[0m\u001b[0mcommand\u001b[0m\u001b[0;34m)\u001b[0m\u001b[0;34m\u001b[0m\u001b[0;34m\u001b[0m\u001b[0m\n\u001b[0;32m-> 1321\u001b[0;31m         return_value = get_return_value(\n\u001b[0m\u001b[1;32m   1322\u001b[0m             answer, self.gateway_client, self.target_id, self.name)\n\u001b[1;32m   1323\u001b[0m \u001b[0;34m\u001b[0m\u001b[0m\n",
            "\u001b[0;32m/content/spark-3.3.2-bin-hadoop3/python/pyspark/sql/utils.py\u001b[0m in \u001b[0;36mdeco\u001b[0;34m(*a, **kw)\u001b[0m\n\u001b[1;32m    194\u001b[0m                 \u001b[0;31m# Hide where the exception came from that shows a non-Pythonic\u001b[0m\u001b[0;34m\u001b[0m\u001b[0;34m\u001b[0m\u001b[0m\n\u001b[1;32m    195\u001b[0m                 \u001b[0;31m# JVM exception message.\u001b[0m\u001b[0;34m\u001b[0m\u001b[0;34m\u001b[0m\u001b[0m\n\u001b[0;32m--> 196\u001b[0;31m                 \u001b[0;32mraise\u001b[0m \u001b[0mconverted\u001b[0m \u001b[0;32mfrom\u001b[0m \u001b[0;32mNone\u001b[0m\u001b[0;34m\u001b[0m\u001b[0;34m\u001b[0m\u001b[0m\n\u001b[0m\u001b[1;32m    197\u001b[0m             \u001b[0;32melse\u001b[0m\u001b[0;34m:\u001b[0m\u001b[0;34m\u001b[0m\u001b[0;34m\u001b[0m\u001b[0m\n\u001b[1;32m    198\u001b[0m                 \u001b[0;32mraise\u001b[0m\u001b[0;34m\u001b[0m\u001b[0;34m\u001b[0m\u001b[0m\n",
            "\u001b[0;31mAnalysisException\u001b[0m: Temporary view 'tw_contacts' already exists"
          ]
        }
      ]
    },
    {
      "cell_type": "markdown",
      "source": [
        "####- 36 - Generar una vista temporal a partir del archivo t_abtq_customer_basics."
      ],
      "metadata": {
        "id": "TxiRzcShyRx1"
      }
    },
    {
      "cell_type": "code",
      "source": [
        "df_customer.createOrReplaceTempView('tw_customer_basics')"
      ],
      "metadata": {
        "id": "an26CU8Qqz5l"
      },
      "execution_count": null,
      "outputs": []
    },
    {
      "cell_type": "markdown",
      "source": [
        "####- 37 - Generar una vista temporal a partir del archivo t_acog_marital_status_type."
      ],
      "metadata": {
        "id": "PDHfXICEyWrK"
      }
    },
    {
      "cell_type": "code",
      "source": [
        "df_marital_status_ok.createOrReplaceTempView('tw_marital_status')"
      ],
      "metadata": {
        "id": "Rw83Cf5NrDwp"
      },
      "execution_count": null,
      "outputs": []
    },
    {
      "cell_type": "markdown",
      "source": [
        "####- 38 - Generar una vista temporal a partir del archivo t_acog_nationality."
      ],
      "metadata": {
        "id": "clZGiedoyZBY"
      }
    },
    {
      "cell_type": "code",
      "source": [
        "df_nationality.createOrReplaceTempView(\"tw_nationality\")"
      ],
      "metadata": {
        "id": "G_r_X02bqYiA"
      },
      "execution_count": null,
      "outputs": []
    },
    {
      "cell_type": "markdown",
      "source": [
        "# Querys en spark SQL."
      ],
      "metadata": {
        "id": "vzuddeSks_Ku"
      }
    },
    {
      "cell_type": "markdown",
      "source": [
        "####- 39 - Generar un público objetivo (1) que cumpla los siguientes puntos:\n",
        "* Cliente\n",
        "* Antigüedad superior a 5 años\n",
        "* Asalariado Fijo.\n",
        "* Estado civil: Casado\n"
      ],
      "metadata": {
        "id": "_CSfngFgyfgI"
      }
    },
    {
      "cell_type": "code",
      "source": [
        "publico_obj1 = sqlContext.sql('SELECT cb.customer_id, floor(datediff(current_date(), admission_date)/365) as years_diff, customer_condition_type, cb.job_type_desc, ms.martial_status_short_desc FROM tw_customer_basics as cb INNER JOIN tw_marital_status as ms ON cb.marital_status_type = ms.marital_status_type WHERE floor(datediff(current_date(), admission_date)/365) > 5 AND cb.marital_status_type = 01 AND cb.job_type = 001 AND cb.customer_condition_type = 1')"
      ],
      "metadata": {
        "id": "URMFtCg9v51p"
      },
      "execution_count": null,
      "outputs": []
    },
    {
      "cell_type": "code",
      "source": [
        "publico_obj1.toPandas()"
      ],
      "metadata": {
        "id": "zwXogF57580d"
      },
      "execution_count": null,
      "outputs": []
    },
    {
      "cell_type": "markdown",
      "source": [
        "####- 40 -  Generar un público objetivo (2) que cumpla los siguientes puntos:\n",
        "* Potencial Cliente\n",
        "* Sexo Femenino\n",
        "* Entre 30 y 45 años de Edad.\n",
        "* Nacionalidad No Argentina"
      ],
      "metadata": {
        "id": "c0pSjhqey2co"
      }
    },
    {
      "cell_type": "code",
      "source": [
        "publico_obj2 = sqlContext.sql('SELECT cb.customer_id, customer_condition_type, gender_type, floor(datediff(current_date(), birth_date)/365) as customer_age, n.country_name FROM tw_customer_basics AS cb INNER JOIN tw_nationality AS n ON cb.country_nationality_id == n.country_nationality_id WHERE floor(datediff(current_date(), birth_date)/365) > 30 AND floor(datediff(current_date(), birth_date)/365) < 45 AND gender_type = \"F\" AND customer_condition_type = 1 AND n.country_nationality_id <> 80')\n",
        "publico_obj2.toPandas()"
      ],
      "metadata": {
        "id": "uUfn8Qx7lrGJ"
      },
      "execution_count": null,
      "outputs": []
    },
    {
      "cell_type": "markdown",
      "source": [
        "####- 41 - Generar un público objetivo (3) que cumpla los siguientes puntos:\n",
        "* Potencial Cliente\n",
        "* Sexo Masculino.\n",
        "* Mayor a 25 años.\n",
        "* Estado civil Soltero"
      ],
      "metadata": {
        "id": "-YzIyMgKzHPq"
      }
    },
    {
      "cell_type": "code",
      "source": [
        "publico_obj3 = sqlContext.sql('SELECT cb.customer_id, customer_condition_type, gender_type, floor(datediff(current_date(), birth_date)/365) as customer_age, ms.martial_status_short_desc FROM tw_customer_basics AS cb INNER JOIN tw_marital_status as ms ON cb.marital_status_type = ms.marital_status_type WHERE customer_condition_type = 1 AND floor(datediff(current_date(), birth_date)/365) > 25 AND gender_type = \"M\" AND cb.marital_status_type = 5')\n",
        "publico_obj3.toPandas()"
      ],
      "metadata": {
        "id": "Gh1ZLwVHwW6f"
      },
      "execution_count": null,
      "outputs": []
    },
    {
      "cell_type": "markdown",
      "source": [
        "####- 42 - Generar un público objetivo (4) que cumpla los siguientes puntos:\n",
        "* Cliente\n",
        "* Edad superior a 52 años\n",
        "* Nacionalidad Argentina\n",
        "* Estado civil Viudo"
      ],
      "metadata": {
        "id": "O0YwTfG8zLns"
      }
    },
    {
      "cell_type": "code",
      "source": [
        "publico_obj4 = sqlContext.sql('SELECT cb.customer_id, floor(datediff(current_date(), birth_date)/365) as customer_age, n.country_name, ms.martial_status_short_desc FROM tw_customer_basics as cb INNER JOIN tw_nationality AS n ON cb.country_nationality_id == n.country_nationality_id INNER JOIN tw_marital_status as ms ON cb.marital_status_type = ms.marital_status_type WHERE floor(datediff(current_date(), birth_date)/365) > 52 AND cb.country_nationality_id = 80 AND cb.marital_status_type = 2')\n",
        "publico_obj4.toPandas()"
      ],
      "metadata": {
        "id": "xVJ2-CDyzp9n"
      },
      "execution_count": null,
      "outputs": []
    },
    {
      "cell_type": "markdown",
      "source": [
        "# Carga de datos, generacion de archivos .csv\n",
        "#### Los archivos deben cumplir los siguientes requerimientos: \n",
        "* Contener cabecera. \n",
        "* Separador “|”. \n",
        "* Máximo de 1000 registros por archivo (si el público objetivo tiene más de 1000 registros, se deberá crear más de un archivo)\n",
        "* Ser guardados en HDFS."
      ],
      "metadata": {
        "id": "AKaVLQPMzRiZ"
      }
    },
    {
      "cell_type": "markdown",
      "source": [
        "#### - 43 -  Generar archivos .csv a partir de los público objetivo 1. \n"
      ],
      "metadata": {
        "id": "Aa7xtVRSzUYG"
      }
    },
    {
      "cell_type": "markdown",
      "source": [
        "#### - 44 - Generar archivos .csv a partir del público objetivo 2. "
      ],
      "metadata": {
        "id": "-ghFgx1CzWiT"
      }
    },
    {
      "cell_type": "markdown",
      "source": [
        "####- 45 - Generar archivos .csv a partir del público objetivo 3. "
      ],
      "metadata": {
        "id": "RibK-HsmznSu"
      }
    },
    {
      "cell_type": "markdown",
      "source": [
        "####- 46 - Generar archivos .csv a partir del público objetivo 4. "
      ],
      "metadata": {
        "id": "HXNyvvYi0AkY"
      }
    },
    {
      "cell_type": "markdown",
      "source": [
        "# Extraccion de datos desde .csv, públicos objetivo"
      ],
      "metadata": {
        "id": "gsBzsNK20DsC"
      }
    },
    {
      "cell_type": "markdown",
      "source": [
        "#### - 47 - Cargar los datos de los publicos generados en un DataFrame."
      ],
      "metadata": {
        "id": "hyOSh9u70Khr"
      }
    },
    {
      "cell_type": "markdown",
      "source": [
        "# Calculo de agregaciones."
      ],
      "metadata": {
        "id": "L4z8RN3-0NWt"
      }
    },
    {
      "cell_type": "markdown",
      "source": [
        "####- 48 -  Contar al cantidad de personas contactada por publico objetivo."
      ],
      "metadata": {
        "id": "V4vo3ZIZ0Pu_"
      }
    },
    {
      "cell_type": "markdown",
      "source": [
        "####- 49 - Contar la cantidad de direcciones, mails y telefonos por publico objetivo."
      ],
      "metadata": {
        "id": "8ncFa_tW0UBx"
      }
    },
    {
      "cell_type": "markdown",
      "source": [
        "####- 50 - Contar la cantidad de hombres y mujeres por publico objetivo."
      ],
      "metadata": {
        "id": "IDX0Omzy0Wkg"
      }
    },
    {
      "cell_type": "markdown",
      "source": [
        "#### - 51 - Calcular la edad promedio por publico objetivo."
      ],
      "metadata": {
        "id": "bikW5zRF0ZNS"
      }
    },
    {
      "cell_type": "markdown",
      "source": [
        "# Carga de datos, generacion de archivos .parquet"
      ],
      "metadata": {
        "id": "tHmfq2rU0bNv"
      }
    },
    {
      "cell_type": "markdown",
      "source": [
        "####- 52 - Guardar las agregaciones generadas en un archivo parquet, particionado por mes de campaña y publico objetivo."
      ],
      "metadata": {
        "id": "n28g6npc0dY3"
      }
    },
    {
      "cell_type": "markdown",
      "source": [
        "####- 53 - Guardar las agregaciones generadas en un archivo parquet, particionado por mes de campaña y publico objetivo."
      ],
      "metadata": {
        "id": "sPCIsWcJ0fRL"
      }
    },
    {
      "cell_type": "markdown",
      "source": [
        "####- 54 - Guardar las agregaciones generadas en un archivo parquet, particionado por mes de campaña y publico objetivo."
      ],
      "metadata": {
        "id": "pgON20aV0hBj"
      }
    },
    {
      "cell_type": "markdown",
      "source": [
        "####- 55 - Guardar las agregaciones generadas en un archivo parquet, particionado por mes de campaña y publico objetivo."
      ],
      "metadata": {
        "id": "U16I98lN0ipN"
      }
    },
    {
      "cell_type": "markdown",
      "source": [
        "# Borrador"
      ],
      "metadata": {
        "id": "_tWEmVaR-BqO"
      }
    },
    {
      "cell_type": "code",
      "source": [
        "df_customer.show() # admission_date marital_status_type gender_type birth_date job_type profession_id\n",
        "#df_phones.toPandas()\n",
        "#df_address.toPandas()\n",
        "#df_emails.toPandas()\n",
        "#df_marital_status.toPandas() # marital_status_type martial_status_short_desc\n",
        "#df_segment_type.toPandas() \n",
        "#df_customer_documents.toPandas() \n",
        "#df_address_type.toPandas() # address_type address_type_short_desc ??\n",
        "#df_gender.toPandas() # gender_type gender_desc\n",
        "#df_nationality.toPandas() # country_nationality_id # country_nationality_id\n",
        "#df_personal_type.toPandas()\n",
        "#df_phone_type.toPandas() # phone_type\tphone_type_desc\t ??\n",
        "#df_province.toPandas()\n",
        "#df_customer_segment.show() \n",
        "#df_customer_info_temp.show()\n",
        "\n",
        "# VER DE NO IMPORTAR PARQUETS QUE NO USEMOS"
      ],
      "metadata": {
        "id": "VnHRq-pQsyIZ"
      },
      "execution_count": null,
      "outputs": []
    }
  ]
}