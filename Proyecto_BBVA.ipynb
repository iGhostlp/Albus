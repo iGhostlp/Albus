{
  "nbformat": 4,
  "nbformat_minor": 0,
  "metadata": {
    "colab": {
      "provenance": [],
      "authorship_tag": "ABX9TyPfzYe6eOcEkCetLkGz3ILC",
      "include_colab_link": true
    },
    "kernelspec": {
      "name": "python3",
      "display_name": "Python 3"
    },
    "language_info": {
      "name": "python"
    }
  },
  "cells": [
    {
      "cell_type": "markdown",
      "metadata": {
        "id": "view-in-github",
        "colab_type": "text"
      },
      "source": [
        "<a href=\"https://colab.research.google.com/github/iGhostlp/Albus/blob/Sin-Dientes/Proyecto_BBVA.ipynb\" target=\"_parent\"><img src=\"https://colab.research.google.com/assets/colab-badge.svg\" alt=\"Open In Colab\"/></a>"
      ]
    },
    {
      "cell_type": "code",
      "execution_count": null,
      "metadata": {
        "colab": {
          "base_uri": "https://localhost:8080/"
        },
        "id": "L096RbQuFQ6I",
        "outputId": "75ff235a-97ba-454d-dbfd-183526def451"
      },
      "outputs": [
        {
          "output_type": "stream",
          "name": "stdout",
          "text": [
            "Looking in indexes: https://pypi.org/simple, https://us-python.pkg.dev/colab-wheels/public/simple/\n",
            "Collecting docker\n",
            "  Downloading docker-6.0.1-py3-none-any.whl (147 kB)\n",
            "\u001b[2K     \u001b[90m━━━━━━━━━━━━━━━━━━━━━━━━━━━━━━━━━━━━━━━\u001b[0m \u001b[32m147.5/147.5 KB\u001b[0m \u001b[31m7.1 MB/s\u001b[0m eta \u001b[36m0:00:00\u001b[0m\n",
            "\u001b[?25hRequirement already satisfied: websocket-client>=0.32.0 in /usr/local/lib/python3.9/dist-packages (from docker) (1.5.1)\n",
            "Requirement already satisfied: urllib3>=1.26.0 in /usr/local/lib/python3.9/dist-packages (from docker) (1.26.15)\n",
            "Requirement already satisfied: packaging>=14.0 in /usr/local/lib/python3.9/dist-packages (from docker) (23.0)\n",
            "Requirement already satisfied: requests>=2.26.0 in /usr/local/lib/python3.9/dist-packages (from docker) (2.27.1)\n",
            "Requirement already satisfied: charset-normalizer~=2.0.0 in /usr/local/lib/python3.9/dist-packages (from requests>=2.26.0->docker) (2.0.12)\n",
            "Requirement already satisfied: certifi>=2017.4.17 in /usr/local/lib/python3.9/dist-packages (from requests>=2.26.0->docker) (2022.12.7)\n",
            "Requirement already satisfied: idna<4,>=2.5 in /usr/local/lib/python3.9/dist-packages (from requests>=2.26.0->docker) (3.4)\n",
            "Installing collected packages: docker\n",
            "Successfully installed docker-6.0.1\n"
          ]
        }
      ],
      "source": [
        "pip install docker"
      ]
    },
    {
      "cell_type": "code",
      "source": [
        "pip install pyspark"
      ],
      "metadata": {
        "colab": {
          "base_uri": "https://localhost:8080/"
        },
        "id": "p8edA0G1GhwD",
        "outputId": "c112bd30-c46b-4b30-c6a6-58c3afec7801"
      },
      "execution_count": null,
      "outputs": [
        {
          "output_type": "stream",
          "name": "stdout",
          "text": [
            "Looking in indexes: https://pypi.org/simple, https://us-python.pkg.dev/colab-wheels/public/simple/\n",
            "Collecting pyspark\n",
            "  Downloading pyspark-3.3.2.tar.gz (281.4 MB)\n",
            "\u001b[2K     \u001b[90m━━━━━━━━━━━━━━━━━━━━━━━━━━━━━━━━━━━━━━━\u001b[0m \u001b[32m281.4/281.4 MB\u001b[0m \u001b[31m4.7 MB/s\u001b[0m eta \u001b[36m0:00:00\u001b[0m\n",
            "\u001b[?25h  Preparing metadata (setup.py) ... \u001b[?25l\u001b[?25hdone\n",
            "Collecting py4j==0.10.9.5\n",
            "  Downloading py4j-0.10.9.5-py2.py3-none-any.whl (199 kB)\n",
            "\u001b[2K     \u001b[90m━━━━━━━━━━━━━━━━━━━━━━━━━━━━━━━━━━━━━━\u001b[0m \u001b[32m199.7/199.7 KB\u001b[0m \u001b[31m21.7 MB/s\u001b[0m eta \u001b[36m0:00:00\u001b[0m\n",
            "\u001b[?25hBuilding wheels for collected packages: pyspark\n",
            "  Building wheel for pyspark (setup.py) ... \u001b[?25l\u001b[?25hdone\n",
            "  Created wheel for pyspark: filename=pyspark-3.3.2-py2.py3-none-any.whl size=281824028 sha256=f7f58e39f79f85ac0a56686b7fc5d526692334578d53b03e8ff9bbb4fd6f05e9\n",
            "  Stored in directory: /root/.cache/pip/wheels/6c/e3/9b/0525ce8a69478916513509d43693511463c6468db0de237c86\n",
            "Successfully built pyspark\n",
            "Installing collected packages: py4j, pyspark\n",
            "  Attempting uninstall: py4j\n",
            "    Found existing installation: py4j 0.10.9.7\n",
            "    Uninstalling py4j-0.10.9.7:\n",
            "      Successfully uninstalled py4j-0.10.9.7\n",
            "Successfully installed py4j-0.10.9.5 pyspark-3.3.2\n"
          ]
        }
      ]
    },
    {
      "cell_type": "code",
      "source": [
        "pip install findspark"
      ],
      "metadata": {
        "id": "3mQRdIihGtRm",
        "colab": {
          "base_uri": "https://localhost:8080/"
        },
        "outputId": "7d3e5e13-3dd1-481d-feeb-2abd307251af"
      },
      "execution_count": 6,
      "outputs": [
        {
          "output_type": "stream",
          "name": "stdout",
          "text": [
            "Looking in indexes: https://pypi.org/simple, https://us-python.pkg.dev/colab-wheels/public/simple/\n",
            "Collecting findspark\n",
            "  Downloading findspark-2.0.1-py2.py3-none-any.whl (4.4 kB)\n",
            "Installing collected packages: findspark\n",
            "Successfully installed findspark-2.0.1\n"
          ]
        }
      ]
    },
    {
      "cell_type": "code",
      "source": [
        "import os\n",
        "os.environ[\"JAVA_HOME\"] = \"/usr/lib/jvm/java-11-openjdk-amd64\"\n",
        "os.environ[\"SPARK_HOME\"] = '/content/spark-3.3.2-bin-hadoop3'"
      ],
      "metadata": {
        "id": "Dso7B-hGRMrE"
      },
      "execution_count": 7,
      "outputs": []
    },
    {
      "cell_type": "code",
      "source": [
        "import findspark"
      ],
      "metadata": {
        "id": "vv6XivkUSJw1"
      },
      "execution_count": 10,
      "outputs": []
    },
    {
      "cell_type": "code",
      "source": [
        "!apt-get install openjdk-8-jdk-headless -qq > /dev/null"
      ],
      "metadata": {
        "id": "aFFpvGdzSYy9"
      },
      "execution_count": 11,
      "outputs": []
    },
    {
      "cell_type": "code",
      "source": [
        "!wget -q https://dlcdn.apache.org/spark/spark-3.3.2/spark-3.3.2-bin-hadoop3.tgz"
      ],
      "metadata": {
        "id": "V8rVeEtlScIl"
      },
      "execution_count": 12,
      "outputs": []
    },
    {
      "cell_type": "code",
      "source": [
        "ls"
      ],
      "metadata": {
        "colab": {
          "base_uri": "https://localhost:8080/"
        },
        "id": "tJvZCa5zSgHA",
        "outputId": "8cce0e6d-1644-4325-9cfd-7d1117761fc0"
      },
      "execution_count": 13,
      "outputs": [
        {
          "output_type": "stream",
          "name": "stdout",
          "text": [
            "\u001b[0m\u001b[01;34mDataset\u001b[0m/  spark-3.3.2-bin-hadoop3.tgz\n"
          ]
        }
      ]
    },
    {
      "cell_type": "code",
      "source": [
        "!tar xf spark-3.3.2-bin-hadoop3.tgz"
      ],
      "metadata": {
        "id": "tkY3GJRiShrT"
      },
      "execution_count": 14,
      "outputs": []
    },
    {
      "cell_type": "code",
      "source": [
        "!java -version"
      ],
      "metadata": {
        "colab": {
          "base_uri": "https://localhost:8080/"
        },
        "id": "RIkJVEC9SlHD",
        "outputId": "26a839a2-2576-413e-e3e9-c904d32e4e7d"
      },
      "execution_count": 15,
      "outputs": [
        {
          "output_type": "stream",
          "name": "stdout",
          "text": [
            "openjdk version \"11.0.18\" 2023-01-17\n",
            "OpenJDK Runtime Environment (build 11.0.18+10-post-Ubuntu-0ubuntu120.04.1)\n",
            "OpenJDK 64-Bit Server VM (build 11.0.18+10-post-Ubuntu-0ubuntu120.04.1, mixed mode, sharing)\n"
          ]
        }
      ]
    },
    {
      "cell_type": "code",
      "source": [
        "!readlink -f $(which java) | sed \"s:bin/java::\""
      ],
      "metadata": {
        "colab": {
          "base_uri": "https://localhost:8080/"
        },
        "id": "5s3qXR9CSmYT",
        "outputId": "5f6e73bd-8188-4e36-8443-e729e999619b"
      },
      "execution_count": 16,
      "outputs": [
        {
          "output_type": "stream",
          "name": "stdout",
          "text": [
            "/usr/lib/jvm/java-11-openjdk-amd64/\n"
          ]
        }
      ]
    },
    {
      "cell_type": "code",
      "source": [
        "!echo $JAVA_HOME"
      ],
      "metadata": {
        "colab": {
          "base_uri": "https://localhost:8080/"
        },
        "id": "GK9cftcwSwFq",
        "outputId": "45eb144c-5d99-42bb-a2e7-1b2bc5963ac4"
      },
      "execution_count": 17,
      "outputs": [
        {
          "output_type": "stream",
          "name": "stdout",
          "text": [
            "/usr/lib/jvm/java-11-openjdk-amd64\n"
          ]
        }
      ]
    },
    {
      "cell_type": "code",
      "source": [
        "!pip install -q findspark"
      ],
      "metadata": {
        "id": "rRg70X6TSyqf"
      },
      "execution_count": 18,
      "outputs": []
    },
    {
      "cell_type": "code",
      "source": [
        "!pip install pyspark "
      ],
      "metadata": {
        "colab": {
          "base_uri": "https://localhost:8080/"
        },
        "id": "tkCPZZG2S1Ve",
        "outputId": "e0f33bdb-a7ec-4b54-c5d7-83746312d2bd"
      },
      "execution_count": 19,
      "outputs": [
        {
          "output_type": "stream",
          "name": "stdout",
          "text": [
            "Looking in indexes: https://pypi.org/simple, https://us-python.pkg.dev/colab-wheels/public/simple/\n",
            "Requirement already satisfied: pyspark in /usr/local/lib/python3.9/dist-packages (3.3.2)\n",
            "Requirement already satisfied: py4j==0.10.9.5 in /usr/local/lib/python3.9/dist-packages (from pyspark) (0.10.9.5)\n"
          ]
        }
      ]
    },
    {
      "cell_type": "code",
      "source": [
        "import os\n",
        "os.environ[\"JAVA_HOME\"] = \"/usr/lib/jvm/java-11-openjdk-amd64\"\n",
        "os.environ[\"SPARK_HOME\"] = '/content/spark-3.3.2-bin-hadoop3'"
      ],
      "metadata": {
        "id": "Ar-kBMNzS5aS"
      },
      "execution_count": 20,
      "outputs": []
    },
    {
      "cell_type": "code",
      "source": [
        "import findspark"
      ],
      "metadata": {
        "id": "PvpFRzXIS7Ol"
      },
      "execution_count": 21,
      "outputs": []
    },
    {
      "cell_type": "code",
      "source": [
        "findspark.init()"
      ],
      "metadata": {
        "id": "R233IpUPS_Qa"
      },
      "execution_count": 22,
      "outputs": []
    },
    {
      "cell_type": "code",
      "source": [
        "findspark.find()"
      ],
      "metadata": {
        "colab": {
          "base_uri": "https://localhost:8080/",
          "height": 36
        },
        "id": "aX4L2WY8TBIE",
        "outputId": "fb04773e-5312-4bea-c911-f12ce7dce9f6"
      },
      "execution_count": 23,
      "outputs": [
        {
          "output_type": "execute_result",
          "data": {
            "text/plain": [
              "'/content/spark-3.3.2-bin-hadoop3'"
            ],
            "application/vnd.google.colaboratory.intrinsic+json": {
              "type": "string"
            }
          },
          "metadata": {},
          "execution_count": 23
        }
      ]
    },
    {
      "cell_type": "code",
      "source": [
        "from pyspark.sql import SparkSession"
      ],
      "metadata": {
        "id": "lcToqdWuTFr3"
      },
      "execution_count": 24,
      "outputs": []
    },
    {
      "cell_type": "code",
      "source": [
        "from pyspark.sql.functions import col\n"
      ],
      "metadata": {
        "id": "tDnfwaSNTJpS"
      },
      "execution_count": 26,
      "outputs": []
    },
    {
      "cell_type": "code",
      "source": [
        "spark = SparkSession.builder.master(\"local[*]\").config('spark.sql.parquet.datetimeRebaseModeInRead','CORRECTED').getOrCreate()"
      ],
      "metadata": {
        "id": "7vyWjzCfTMf2"
      },
      "execution_count": 56,
      "outputs": []
    },
    {
      "cell_type": "code",
      "source": [
        "spark"
      ],
      "metadata": {
        "colab": {
          "base_uri": "https://localhost:8080/",
          "height": 219
        },
        "id": "2z7H8UZnTQjr",
        "outputId": "a330777e-bda7-4a7f-affc-8a1d5bf09e41"
      },
      "execution_count": 57,
      "outputs": [
        {
          "output_type": "execute_result",
          "data": {
            "text/plain": [
              "<pyspark.sql.session.SparkSession at 0x7f5eff2d9040>"
            ],
            "text/html": [
              "\n",
              "            <div>\n",
              "                <p><b>SparkSession - in-memory</b></p>\n",
              "                \n",
              "        <div>\n",
              "            <p><b>SparkContext</b></p>\n",
              "\n",
              "            <p><a href=\"http://a9fabc063f7c:4040\">Spark UI</a></p>\n",
              "\n",
              "            <dl>\n",
              "              <dt>Version</dt>\n",
              "                <dd><code>v3.3.2</code></dd>\n",
              "              <dt>Master</dt>\n",
              "                <dd><code>local[*]</code></dd>\n",
              "              <dt>AppName</dt>\n",
              "                <dd><code>pyspark-shell</code></dd>\n",
              "            </dl>\n",
              "        </div>\n",
              "        \n",
              "            </div>\n",
              "        "
            ]
          },
          "metadata": {},
          "execution_count": 57
        }
      ]
    },
    {
      "cell_type": "code",
      "source": [
        "import pandas as pd"
      ],
      "metadata": {
        "id": "ORhOfVDiTwO2"
      },
      "execution_count": 58,
      "outputs": []
    },
    {
      "cell_type": "code",
      "source": [
        "# Creando el dataframe"
      ],
      "metadata": {
        "id": "hk7T4u34U9s-"
      },
      "execution_count": 59,
      "outputs": []
    },
    {
      "cell_type": "markdown",
      "source": [],
      "metadata": {
        "id": "-6YjdU-AXCKx"
      }
    },
    {
      "cell_type": "code",
      "source": [
        "df_mails = spark.read.load('/content/Dataset/email.snappy.parquet',format='parquet',sep=',',inferschema='true',header='true')"
      ],
      "metadata": {
        "id": "PFiDQQoEVeHr"
      },
      "execution_count": 60,
      "outputs": []
    },
    {
      "cell_type": "code",
      "source": [
        "df_address = spark.read.load('/content/Dataset/address.snappy.parquet',format='parquet',sep=',',inferschema='true',header='true')"
      ],
      "metadata": {
        "id": "mZXYm9PGXU76"
      },
      "execution_count": 61,
      "outputs": []
    },
    {
      "cell_type": "code",
      "source": [
        "df_customer = spark.read.load('/content/Dataset/customer.snappy.parquet',format='parquet',sep=',',inferschema='true',header='true')"
      ],
      "metadata": {
        "id": "e3UBTP7lXgRZ"
      },
      "execution_count": 62,
      "outputs": []
    },
    {
      "cell_type": "code",
      "source": [
        "df_customerb = spark.read.load('/content/Dataset/customer_basics.snappy.parquet',format='parquet',sep=',',inferschema='true',header='true')"
      ],
      "metadata": {
        "id": "ocY3RP__Xjmb"
      },
      "execution_count": 63,
      "outputs": []
    },
    {
      "cell_type": "code",
      "source": [
        "df_phones = spark.read.load('/content/Dataset/phones.snappy.parquet',format='parquet',sep=',',inferschema='true',header='true')"
      ],
      "metadata": {
        "id": "qagDR3aVXkrp"
      },
      "execution_count": 64,
      "outputs": []
    },
    {
      "cell_type": "code",
      "source": [
        "df_phones.show()"
      ],
      "metadata": {
        "colab": {
          "base_uri": "https://localhost:8080/"
        },
        "id": "j3p1HhMAek-w",
        "outputId": "b19165ec-a3a7-47b4-8c77-a8acc25112dc"
      },
      "execution_count": 65,
      "outputs": [
        {
          "output_type": "stream",
          "name": "stdout",
          "text": [
            "+-----------+--------------+-------------------+-----------------+----------+----------------+---------------+-------------+-------------------+-----------------+-------------+------------+---------------+-----------------------+------------------+---------------------+-----------------+----------+-----------+--------------------------+---------------------+--------------------+---------------------+----------------+-------------------------+-------------------------+------------------+-------------------+-----------------+--------------------+---------------------+-----------------------+----------------------+--------------------+----------------------+------------------------------+----------------------------+-------------------+----------------+----------------+-------------------+--------------------+-----------------------+---------------------+\n",
            "|customer_id|phone_use_type|address_sequence_id|phone_sequence_id|phone_type|phone_country_id|prefix_phone_id|phone_area_id|cellphone_prefix_id|phone_exchange_id|phone_line_id|    phone_id|phone_intern_id|aditional_info_txt_desc|primary_phone_type|address_sequence_type|address_town_name|zipcode_id|province_id|customer_phone_status_type|phone_status_mod_date|contact_channel_type|sender_application_id|wrong_phone_type|normalization_status_type|normalization_reason_name|normalization_date|validity_start_date|validity_end_date|dlvy_day_monday_type|dlvy_day_tuesday_type|dlvy_day_wednesday_type|dlvy_day_thursday_type|dlvy_day_friday_type|dlvy_day_saturday_type|delivery_contact_start_hm_date|delivery_contact_end_hm_date|registry_entry_date|register_user_id|last_change_date|last_change_user_id|last_change_hms_date|last_change_terminal_id|operational_load_date|\n",
            "+-----------+--------------+-------------------+-----------------+----------+----------------+---------------+-------------+-------------------+-----------------+-------------+------------+---------------+-----------------------+------------------+---------------------+-----------------+----------+-----------+--------------------------+---------------------+--------------------+---------------------+----------------+-------------------------+-------------------------+------------------+-------------------+-----------------+--------------------+---------------------+-----------------------+----------------------+--------------------+----------------------+------------------------------+----------------------------+-------------------+----------------+----------------+-------------------+--------------------+-----------------------+---------------------+\n",
            "|   29377168|            01|                  0|                2|         1|             080|             54|         2901|                   |               43|         1039|  4442167000|               |                       |                 N|                    N|                 |          |           |                  VALIDADO|           2022-06-24|                  16|                 CTES|                |                NORM AUTO|                  COPDTEL|        2022-06-24|         1900-01-01|       1900-01-01|                    |                     |                       |                      |                    |                      |                      00:00:00|                    00:00:00|         2022-06-24|         A127760|      2022-06-24|           UPROBCAT|              135827|                   LX8E| 2022-11-30 00:42:...|\n",
            "|   29385404|            00|                  0|                1|         3|             080|             54|         3442|                 15|               51|         6913|938021189197|               |                       |                 N|                    N|                 |          |           |                COMPROBADO|           2022-07-12|                  16|                 CTES|                |                NORM AUTO|                  COPDTEL|        2022-06-24|         1900-01-01|       1900-01-01|                    |                     |                       |                      |                    |                      |                      00:00:00|                    00:00:00|         2022-06-24|         A119168|      2022-07-12|               XATM|              225915|                   XATM| 2022-11-30 00:42:...|\n",
            "|   29385404|            01|                  0|                2|         1|             080|             54|         3442|                   |               42|         6301|  7536621207|               |                       |                 N|                    N|                 |          |           |                  VALIDADO|           2022-06-24|                  16|                 CTES|                |                NORM AUTO|                  COPDTEL|        2022-06-24|         1900-01-01|       1900-01-01|                    |                     |                       |                      |                    |                      |                      00:00:00|                    00:00:00|         2022-06-24|         A119168|      2022-06-24|           UPROBCAT|              230031|                   LX5J| 2022-11-30 00:42:...|\n",
            "|   29385454|            00|                  0|                2|         1|             080|             54|          341|                   |              499|         4411|  5771417420|               |                       |                 N|                    N|                 |          |           |                 DECLARADO|           2022-06-24|                  01|                 CTES|                |                NORM AUTO|                  COPDTEL|        2022-06-24|         1900-01-01|       1900-01-01|                    |                     |                       |                      |                    |                      |                      00:00:00|                    00:00:00|         2022-06-24|         A116217|      2022-06-24|            A116217|              085051|                   3841| 2022-11-30 00:42:...|\n",
            "|   27626595|            00|                  0|                3|         3|             080|             54|          299|                 15|              553|         4316|657755481955|               |                       |                 N|                    N|                 |          |           |                 DECLARADO|           2022-06-24|                  01|                 PVTA|                |                NORM AUTO|                  COPDTEL|        2022-06-24|         1900-01-01|       1900-01-01|                    |                     |                       |                      |                    |                      |                      00:00:00|                    00:00:00|         2022-06-24|        UPROVTAS|      2022-06-24|           UPROVTAS|              085146|                   PVTA| 2022-11-30 00:42:...|\n",
            "|   24349744|            00|                  0|                5|         3|             080|             54|         3571|                 15|               54|         1998|092279035503|               |                       |                 N|                    N|                 |          |           |                 DECLARADO|           2022-06-24|                  01|                 WKFL|                |                NORM AUTO|                  COPDTEL|        2022-06-24|         1900-01-01|       1900-01-01|                    |                     |                       |                      |                    |                      |                      00:00:00|                    00:00:00|         2022-06-24|         A115419|      2022-06-24|            A115419|              085152|                   P289| 2022-11-30 00:42:...|\n",
            "|   29389994|            00|                  0|                2|         3|             080|             54|          294|                 15|              459|         8781|260757206663|               |                     04|                 N|                    N|                 |          |           |                 DECLARADO|           2022-06-24|                  01|                 CTES|                |                NORM AUTO|                  COPDTEL|        2022-06-24|         2022-06-24|       1900-01-01|                    |                     |                       |                      |                    |                      |                      00:00:00|                    00:00:00|         2022-06-24|         A128064|      2022-06-24|            PCLE20N|              180221|                   BATC| 2022-11-30 00:42:...|\n",
            "|   29389999|            00|                  0|                2|         1|             080|             54|         2657|                   |               42|         2205|  8875809347|               |                       |                 N|                    N|                 |          |           |                  VALIDADO|           2022-08-05|                  16|                 CTES|                |                NORM AUTO|                  COPDTEL|        2022-06-24|         1900-01-01|       1900-01-01|                    |                     |                       |                      |                    |                      |                      00:00:00|                    00:00:00|         2022-06-24|         A116005|      2022-08-05|           GPROBANK|              113500|                   LW6I| 2022-11-30 00:42:...|\n",
            "|   01192665|            00|                  0|                3|         3|             080|             54|          341|                 15|              308|         6577|454114496630|               |                       |                 N|                    N|                 |          |           |                COMPROBADO|           2022-06-24|                  01|                 CTES|                |                NORM AUTO|                  COPDTEL|        2022-06-24|         1900-01-01|       1900-01-01|                    |                     |                       |                      |                    |                      |                      00:00:00|                    00:00:00|         2022-06-24|         A119036|      2022-06-24|               XATM|              085512|                   XATM| 2022-11-30 00:42:...|\n",
            "|   29359207|            01|                  0|                2|         1|             080|             54|         2966|                   |               42|         6622|  3846752614|               |                       |                 N|                    N|                 |          |           |                 DECLARADO|           2022-06-24|                  01|                 CTES|                |                NORM AUTO|                  COPDTEL|        2022-06-24|         1900-01-01|       1900-01-01|                    |                     |                       |                      |                    |                      |                      00:00:00|                    00:00:00|         2022-06-24|         A125037|      2022-06-24|            A125037|              085329|                   5905| 2022-11-30 00:42:...|\n",
            "|   29354182|            00|                  0|                1|         3|             080|             54|          379|                 15|              517|         4233|659759896353|               |                       |                 N|                    N|                 |     00000|         00|                 DECLARADO|           2022-06-24|                  01|                 CTES|                |                NORM OPER|                       NE|        2022-06-24|         1900-01-01|       1900-01-01|                    |                     |                       |                      |                    |                      |                      00:00:00|                    00:00:00|         2022-06-24|         A115967|      2022-06-24|            A115967|              085850|                   4455| 2022-11-30 00:42:...|\n",
            "|   22538341|            00|                  0|                1|         3|             080|             54|           11|                 15|             3422|         9301|742772853971|               |                       |                 N|                    N|                 |          |           |                COMPROBADO|           2022-06-24|                  01|                 PVTA|                |                NORM AUTO|                  COPDTEL|        2022-06-24|         1900-01-01|       1900-01-01|                    |                     |                       |                      |                    |                      |                      00:00:00|                    00:00:00|         2022-06-24|        VW2CCON0|      2022-06-24|           PCLUPCRT|              093138|                   OSMS| 2022-11-30 00:42:...|\n",
            "|   29387551|            00|                  0|                1|         3|             080|             54|          299|                 15|              468|         6952|318680558938|               |                       |                 N|                    N|                 |          |           |                 DECLARADO|           2022-06-24|                  01|                 CTES|                |                NORM AUTO|                   COPDTE|        2022-06-24|         1900-01-01|       1900-01-01|                    |                     |                       |                      |                    |                      |                      00:00:00|                    00:00:00|         2022-06-24|         A128188|      2022-06-24|           PCLESMS0|              210758|                   8V05| 2022-11-30 00:42:...|\n",
            "|   29387551|            01|                  0|                2|         1|             080|             54|           11|                   |             4131|         1252|  0054080522|               |                       |                 N|                    N|                 |          |           |                 DECLARADO|           2022-06-24|                  01|                 CTES|                |                NORM AUTO|                  COPDTEL|        2022-06-24|         1900-01-01|       1900-01-01|                    |                     |                       |                      |                    |                      |                      00:00:00|                    00:00:00|         2022-06-24|         A128188|      2022-06-24|            A128188|              085500|                   8V05| 2022-11-30 00:42:...|\n",
            "|   29353051|            00|                  0|                2|         3|             080|             54|          381|                 15|              534|         6781|572749724292|               |                       |                 N|                    N|                 |          |           |                 DECLARADO|           2022-06-24|                  01|                 CTES|                |                NORM AUTO|                  COPDTEL|        2022-06-24|         1900-01-01|       1900-01-01|                    |                     |                       |                      |                    |                      |                      00:00:00|                    00:00:00|         2022-06-24|         A118876|      2022-06-24|            A118876|              085500|                   4412| 2022-11-30 00:42:...|\n",
            "|   29132899|            00|                  0|                2|         1|             080|             54|          266|                   |              444|         9170|  1486139487|               |                       |                 N|                    N|                 |          |           |                 DECLARADO|           2022-06-24|                  01|                 CTES|                |                NORM AUTO|                  COPDTEL|        2022-06-24|         1900-01-01|       1900-01-01|                    |                     |                       |                      |                    |                      |                      00:00:00|                    00:00:00|         2022-06-24|         A125888|      2022-06-24|            A125888|              085508|                   5806| 2022-11-30 00:42:...|\n",
            "|   29390010|            00|                  0|                1|         3|             080|             54|          264|                 15|              551|         0219|849146516832|               |                       |                 N|                    N|                 |          |           |                COMPROBADO|           2022-06-24|                  01|                 CTES|                |                NORM AUTO|                   COPDTE|        2022-06-24|         1900-01-01|       1900-01-01|                    |                     |                       |                      |                    |                      |                      00:00:00|                    00:00:00|         2022-06-24|         A125772|      2022-06-24|           PCLUPCRT|              211047|                   OSMS| 2022-11-30 00:42:...|\n",
            "|   27617687|            00|                  0|                1|         3|             080|             54|         2657|                 15|               32|         7514|976399919812|               |                       |                 N|                    N|                 |          |           |                COMPROBADO|           2022-06-24|                  01|                 CTES|                |                NORM AUTO|                   COPDTE|        2022-06-24|         1900-01-01|       1900-01-01|                    |                     |                       |                      |                    |                      |                      00:00:00|                    00:00:00|         2022-06-24|         A117815|      2022-06-24|           PCLUPCRT|              162024|                   OSMS| 2022-11-30 00:42:...|\n",
            "|   27617687|            00|                  0|                2|         3|             080|             54|         2657|                 15|               39|         0843|121452424591|               |                       |                 N|                    N|                 |          |           |                 DECLARADO|           2022-06-24|                  01|                 CTES|                |                NORM AUTO|                  COPDTEL|        2022-06-24|         1900-01-01|       1900-01-01|                    |                     |                       |                      |                    |                      |                      00:00:00|                    00:00:00|         2022-06-24|         A117815|      2022-06-24|            A117815|              085528|                   5855| 2022-11-30 00:42:...|\n",
            "|   29387672|            00|                  0|                1|         3|             080|             54|           11|                 15|             5701|         3654|675169466397|               |                       |                 N|                    N|                 |          |           |                COMPROBADO|           2022-08-04|                  01|                 CTES|                |                NORM AUTO|                   COPDTE|        2022-07-21|         1900-01-01|       1900-01-01|                    |                     |                       |                      |                    |                      |                      00:00:00|                    00:00:00|         2022-07-20|         A125826|      2022-08-04|               XATM|              124621|                   XATM| 2022-11-30 00:42:...|\n",
            "+-----------+--------------+-------------------+-----------------+----------+----------------+---------------+-------------+-------------------+-----------------+-------------+------------+---------------+-----------------------+------------------+---------------------+-----------------+----------+-----------+--------------------------+---------------------+--------------------+---------------------+----------------+-------------------------+-------------------------+------------------+-------------------+-----------------+--------------------+---------------------+-----------------------+----------------------+--------------------+----------------------+------------------------------+----------------------------+-------------------+----------------+----------------+-------------------+--------------------+-----------------------+---------------------+\n",
            "only showing top 20 rows\n",
            "\n"
          ]
        }
      ]
    },
    {
      "cell_type": "code",
      "source": [
        "df_customer_mails = df_customerb.join(df_mails, ['customer_id'], how='left')"
      ],
      "metadata": {
        "id": "h868HxhYX-cu"
      },
      "execution_count": 66,
      "outputs": []
    },
    {
      "cell_type": "code",
      "source": [
        "df_customer_mails.printSchema()"
      ],
      "metadata": {
        "colab": {
          "base_uri": "https://localhost:8080/"
        },
        "id": "6QQVPBfDfD_D",
        "outputId": "a64d95d2-a929-4c92-c459-f110ea58993c"
      },
      "execution_count": 67,
      "outputs": [
        {
          "output_type": "stream",
          "name": "stdout",
          "text": [
            "root\n",
            " |-- customer_id: string (nullable = true)\n",
            " |-- personal_type: string (nullable = true)\n",
            " |-- personal_id: string (nullable = true)\n",
            " |-- admission_date: date (nullable = true)\n",
            " |-- sale_channel_id: string (nullable = true)\n",
            " |-- operation_channel_id: string (nullable = true)\n",
            " |-- branch_id: integer (nullable = true)\n",
            " |-- business_area_id: integer (nullable = true)\n",
            " |-- campaing_id: decimal(2,0) (nullable = true)\n",
            " |-- customer_situation_type: integer (nullable = true)\n",
            " |-- customer_condition_type: integer (nullable = true)\n",
            " |-- manager_id: integer (nullable = true)\n",
            " |-- tracking_manager_id: string (nullable = true)\n",
            " |-- credit_manager_id: string (nullable = true)\n",
            " |-- credit_recovery_manager_id: string (nullable = true)\n",
            " |-- last_name: string (nullable = true)\n",
            " |-- second_last_name: string (nullable = true)\n",
            " |-- first_name: string (nullable = true)\n",
            " |-- marital_status_type: integer (nullable = true)\n",
            " |-- gender_type: string (nullable = true)\n",
            " |-- birth_date: date (nullable = true)\n",
            " |-- country_nationality_id: integer (nullable = true)\n",
            " |-- residence_country_id: string (nullable = true)\n",
            " |-- customer_subject_type: string (nullable = true)\n",
            " |-- sector_type: integer (nullable = true)\n",
            " |-- customer_level_access_type: string (nullable = true)\n",
            " |-- cust_bcra_econ_activity_type: integer (nullable = true)\n",
            " |-- internal_economic_activity_type: integer (nullable = true)\n",
            " |-- bbva_inhabilitation_type: string (nullable = true)\n",
            " |-- customer_block_bbva_date: date (nullable = true)\n",
            " |-- customer_unblock_bbva_date: date (nullable = true)\n",
            " |-- customer_block_bcra_date: date (nullable = true)\n",
            " |-- customer_unblock_bcra_date: date (nullable = true)\n",
            " |-- customer_pending_notice_type: string (nullable = true)\n",
            " |-- last_notice_number: decimal(3,0) (nullable = true)\n",
            " |-- last_reference_number_id: decimal(3,0) (nullable = true)\n",
            " |-- last_service_number: decimal(3,0) (nullable = true)\n",
            " |-- last_address_number: decimal(3,0) (nullable = true)\n",
            " |-- last_unlinking_account_date: date (nullable = true)\n",
            " |-- customer_end_date: date (nullable = true)\n",
            " |-- last_change_user_id: string (nullable = true)\n",
            " |-- customer_pep_type: decimal(1,0) (nullable = true)\n",
            " |-- bbva_family_lnk_weighted_number: decimal(1,0) (nullable = true)\n",
            " |-- customer_status_type: string (nullable = true)\n",
            " |-- scoring_activity_type: integer (nullable = true)\n",
            " |-- refinancing_number: integer (nullable = true)\n",
            " |-- refinancing_date: date (nullable = true)\n",
            " |-- coholder_customer_id: string (nullable = true)\n",
            " |-- customer_bcra_situation_id: integer (nullable = true)\n",
            " |-- customer_cuit_id: string (nullable = true)\n",
            " |-- customer_position_vat_type: string (nullable = true)\n",
            " |-- balance_closing_date: date (nullable = true)\n",
            " |-- profession_id: string (nullable = true)\n",
            " |-- bbva_cust_number: string (nullable = true)\n",
            " |-- customer_linked_type: string (nullable = true)\n",
            " |-- customer_entry_type: string (nullable = true)\n",
            " |-- job_type: string (nullable = true)\n",
            " |-- profession_start_date: date (nullable = true)\n",
            " |-- customer_first_block_date: date (nullable = true)\n",
            " |-- customer_registration_date: date (nullable = true)\n",
            " |-- last_change_date: date (nullable = true)\n",
            " |-- last_change_hms_date: string (nullable = true)\n",
            " |-- register_terminal_id: string (nullable = true)\n",
            " |-- register_user_id: string (nullable = true)\n",
            " |-- customer_type: string (nullable = true)\n",
            " |-- customer_seniority_number: decimal(4,0) (nullable = true)\n",
            " |-- last_status_change_date: date (nullable = true)\n",
            " |-- operational_load_date: timestamp (nullable = true)\n",
            " |-- role_type: string (nullable = true)\n",
            " |-- address_sequence_id: integer (nullable = true)\n",
            " |-- residence_type: string (nullable = true)\n",
            " |-- email_type: string (nullable = true)\n",
            " |-- primary_email_type: integer (nullable = true)\n",
            " |-- email_desc: string (nullable = true)\n",
            " |-- email_domain_type: string (nullable = true)\n",
            " |-- encripted_type: string (nullable = true)\n",
            " |-- field_length_number: string (nullable = true)\n",
            " |-- comments_desc: string (nullable = true)\n",
            " |-- customer_email_status_type: string (nullable = true)\n",
            " |-- email_app_type: string (nullable = true)\n",
            " |-- register_user_id: string (nullable = true)\n",
            " |-- last_change_user_id: string (nullable = true)\n",
            " |-- last_change_hms_date: string (nullable = true)\n",
            " |-- last_change_terminal_id: string (nullable = true)\n",
            " |-- operational_load_date: timestamp (nullable = true)\n",
            " |-- customer_email_status_date: date (nullable = true)\n",
            " |-- registry_entry_date: date (nullable = true)\n",
            " |-- last_change_date: date (nullable = true)\n",
            "\n"
          ]
        }
      ]
    },
    {
      "cell_type": "code",
      "source": [
        "df_customer_mails.show()"
      ],
      "metadata": {
        "colab": {
          "base_uri": "https://localhost:8080/"
        },
        "id": "U3xHnlsvgVr1",
        "outputId": "084763f9-1e51-4bf0-a8f9-87f17ec65a17"
      },
      "execution_count": 68,
      "outputs": [
        {
          "output_type": "stream",
          "name": "stdout",
          "text": [
            "+-----------+-------------+-------------+--------------+---------------+--------------------+---------+----------------+-----------+-----------------------+-----------------------+----------+-------------------+-----------------+--------------------------+----------+----------------+-----------------+-------------------+-----------+----------+----------------------+--------------------+---------------------+-----------+--------------------------+----------------------------+-------------------------------+------------------------+------------------------+--------------------------+------------------------+--------------------------+----------------------------+------------------+------------------------+-------------------+-------------------+---------------------------+-----------------+-------------------+-----------------+-------------------------------+--------------------+---------------------+------------------+----------------+--------------------+--------------------------+----------------+--------------------------+--------------------+-------------+----------------+--------------------+-------------------+--------+---------------------+-------------------------+--------------------------+----------------+--------------------+--------------------+----------------+-------------+-------------------------+-----------------------+---------------------+---------+-------------------+--------------+----------+------------------+----------+-----------------+--------------+-------------------+-------------+--------------------------+--------------+----------------+-------------------+--------------------+-----------------------+---------------------+--------------------------+-------------------+----------------+\n",
            "|customer_id|personal_type|  personal_id|admission_date|sale_channel_id|operation_channel_id|branch_id|business_area_id|campaing_id|customer_situation_type|customer_condition_type|manager_id|tracking_manager_id|credit_manager_id|credit_recovery_manager_id| last_name|second_last_name|       first_name|marital_status_type|gender_type|birth_date|country_nationality_id|residence_country_id|customer_subject_type|sector_type|customer_level_access_type|cust_bcra_econ_activity_type|internal_economic_activity_type|bbva_inhabilitation_type|customer_block_bbva_date|customer_unblock_bbva_date|customer_block_bcra_date|customer_unblock_bcra_date|customer_pending_notice_type|last_notice_number|last_reference_number_id|last_service_number|last_address_number|last_unlinking_account_date|customer_end_date|last_change_user_id|customer_pep_type|bbva_family_lnk_weighted_number|customer_status_type|scoring_activity_type|refinancing_number|refinancing_date|coholder_customer_id|customer_bcra_situation_id|customer_cuit_id|customer_position_vat_type|balance_closing_date|profession_id|bbva_cust_number|customer_linked_type|customer_entry_type|job_type|profession_start_date|customer_first_block_date|customer_registration_date|last_change_date|last_change_hms_date|register_terminal_id|register_user_id|customer_type|customer_seniority_number|last_status_change_date|operational_load_date|role_type|address_sequence_id|residence_type|email_type|primary_email_type|email_desc|email_domain_type|encripted_type|field_length_number|comments_desc|customer_email_status_type|email_app_type|register_user_id|last_change_user_id|last_change_hms_date|last_change_terminal_id|operational_load_date|customer_email_status_date|registry_entry_date|last_change_date|\n",
            "+-----------+-------------+-------------+--------------+---------------+--------------------+---------+----------------+-----------+-----------------------+-----------------------+----------+-------------------+-----------------+--------------------------+----------+----------------+-----------------+-------------------+-----------+----------+----------------------+--------------------+---------------------+-----------+--------------------------+----------------------------+-------------------------------+------------------------+------------------------+--------------------------+------------------------+--------------------------+----------------------------+------------------+------------------------+-------------------+-------------------+---------------------------+-----------------+-------------------+-----------------+-------------------------------+--------------------+---------------------+------------------+----------------+--------------------+--------------------------+----------------+--------------------------+--------------------+-------------+----------------+--------------------+-------------------+--------+---------------------+-------------------------+--------------------------+----------------+--------------------+--------------------+----------------+-------------+-------------------------+-----------------------+---------------------+---------+-------------------+--------------+----------+------------------+----------+-----------------+--------------+-------------------+-------------+--------------------------+--------------+----------------+-------------------+--------------------+-----------------------+---------------------+--------------------------+-------------------+----------------+\n",
            "|   01157212|           00|0000013226627|    2008-08-28|          10000|                  00|       74|              30|          0|                      1|                      1|       192|                   |                 |                          |     RAMOS|                |  GERARDO GABRIEL|                  1|          M|1959-08-20|                    80|                 080|                  201|        100|                         0|                          82|                       21101000|                       0|                    null|                      null|                    null|                      null|                            |                11|                       0|                  0|                  1|                       null|             null|            A800118|                0|                              3|                  AC|                   50|              null|            null|                    |                      null|   0020132266272|                       042|                null|          035|       001157212|                   N|                   |     004|           2009-01-01|                     null|                2008-08-28|      2021-09-16|              112634|                3633|          VUELCO|            N|                     null|                   null| 2022-03-10 01:05:...|     null|               null|          null|      null|              null|      null|             null|          null|               null|         null|                      null|          null|            null|               null|                null|                   null|                 null|                      null|               null|            null|\n",
            "|   26745469|           00|0000013226860|    2020-04-20|          10000|                  00|      243|              30|          0|                      1|                      1|       226|                080|                 |                          |FRIEDERICH|                |      LEO IGNACIO|                  5|          M|1957-08-20|                    80|                 080|                  201|        100|                         0|                          82|                       21101000|                       0|                    null|                      null|                    null|                      null|                            |                 5|                       0|                  0|                  2|                       null|             null|            PCLE06R|                2|                              1|                  AC|                   18|              null|            null|                    |                      null|   0020132268607|                       042|                null|          007|       026745469|                   N|                   |     001|           2020-05-18|                     null|                2020-04-20|      2020-06-25|              174211|                P37B|         PCLE510|            N|                     null|             2020-05-18| 2022-03-10 01:05:...|     null|               null|          null|      null|              null|      null|             null|          null|               null|         null|                      null|          null|            null|               null|                null|                   null|                 null|                      null|               null|            null|\n",
            "|   19403025|           27|0000007880359|    2012-03-28|          10000|                  00|      418|              34|          0|                      1|                      8|       139|                   |                 |                          | VELAZQUEZ|                |         ROMUALDO|                  1|          M|1946-02-09|                    80|                 080|                  201|        100|                         0|                          82|                       21101000|                       0|                    null|                      null|                    null|                      null|                           0|                 0|                       0|                  0|                  1|                       null|             null|            PCLE25Q|                1|                              1|                  PO|                   47|              null|            null|                    |                      null|   0020078803593|                       042|                null|          016|       019403025|                   N|                 MD|     001|           2012-03-28|                     null|                2012-03-28|      2013-04-20|              175404|                P37B|         PCLE10P|            S|                     null|                   null| 2022-03-10 01:05:...|     null|               null|          null|      null|              null|      null|             null|          null|               null|         null|                      null|          null|            null|               null|                null|                   null|                 null|                      null|               null|            null|\n",
            "|   19963134|           27|0000007882950|    2013-05-28|          10000|                  01|      259|              30|          0|                      1|                      1|       553|                   |                 |                          |     ZUPEL|                |   RUBEN CEFERINO|                  5|          M|1949-03-07|                    80|                 080|                  201|        100|                         0|                          82|                       21101000|                       0|                    null|                      null|                    null|                      null|                           0|                 0|                       0|                  0|                  1|                       null|             null|            PCLE06R|                2|                              1|                  PO|                   50|              null|            null|                    |                      null|   0020078829509|                       042|                null|          038|       019963134|                   N|                   |     004|           2013-05-28|                     null|                2013-05-28|      2013-05-28|              175554|                P37B|         A118096|            S|                     null|                   null| 2022-03-10 01:05:...|     null|               null|          null|      null|              null|      null|             null|          null|               null|         null|                      null|          null|            null|               null|                null|                   null|                 null|                      null|               null|            null|\n",
            "|   06916693|           27|0000007883500|    2006-04-04|          10000|                    |      207|              34|          0|                      1|                      1|        11|                   |                 |                          |  SCARAFIA|                |          ALCIDES|                  1|          M|1948-08-26|                    80|                 080|                  201|        100|                         0|                          82|                       21101000|                       0|                    null|                      null|                    null|                      null|                            |                 0|                       0|                  0|                  1|                       null|             null|            PCLE25Q|                0|                              1|                  CA|                   47|              null|            null|                    |                      null|   0020078835002|                       042|                null|          016|       006916693|                   N|                   |     001|           2009-01-01|                     null|                2006-04-04|      2013-02-27|              174517|                P37B|          VUELCO|            S|                     null|                   null| 2022-03-10 01:05:...|     null|               null|          null|      null|              null|      null|             null|          null|               null|         null|                      null|          null|            null|               null|                null|                   null|                 null|                      null|               null|            null|\n",
            "|   19955757|           27|0000007885360|    2013-05-24|          10000|                  00|       15|              34|          0|                      1|                      8|        81|                   |                 |                          |    AVALOS|                |            LUCAS|                  1|          M|1949-01-01|                    80|                 080|                  201|        100|                         0|                          82|                       21101000|                       0|                    null|                      null|                    null|                      null|                           0|                 0|                       0|                  0|                  1|                       null|             null|            PCLE25Q|                1|                              1|                  PO|                   47|              null|            null|                    |                      null|   0020078853604|                       042|                null|          016|       019955757|                   N|                 MO|     001|           2013-05-24|                     null|                2013-05-24|      2013-05-24|              175554|                P37B|         PCLE10P|            S|                     null|                   null| 2022-03-10 01:05:...|     null|               null|          null|      null|              null|      null|             null|          null|               null|         null|                      null|          null|            null|               null|                null|                   null|                 null|                      null|               null|            null|\n",
            "|   01718049|           27|0000007889122|    2009-07-30|          74000|                  01|      237|              30|          0|                      1|                      1|       979|                   |                 |                          |   BARRERA|                | ALEJANDRO HECTOR|                  1|          M|1950-02-26|                    80|                 080|                  201|        100|                         0|                          82|                       21101000|                       0|                    null|                      null|                    null|                      null|                            |                 0|                       0|                  0|                  1|                       null|             null|            PCLE25Q|                0|                              1|                  PO|                   35|              null|            null|                    |                      null|   0020078891220|                       042|                null|          025|       001718049|                   N|                   |     003|           2009-07-30|                     null|                2009-07-30|      2009-07-30|              163820|                P37B|          VUELCO|            S|                     null|                   null| 2022-03-10 01:05:...|     null|               null|          null|      null|              null|      null|             null|          null|               null|         null|                      null|          null|            null|               null|                null|                   null|                 null|                      null|               null|            null|\n",
            "|   21466591|           27|0000007889212|    2015-04-23|          10000|                  00|      603|              34|          0|                      1|                      8|      2603|                   |                 |                          |    CORTEZ|                |          ROBERTO|                  1|          M|1950-02-05|                    80|                 080|                  201|        100|                         0|                          82|                       21101000|                       0|                    null|                      null|                    null|                      null|                           0|                 0|                       0|                  0|                  0|                       null|             null|            PCLE06R|                1|                              1|                  PO|                   47|              null|            null|                    |                      null|   0023078892129|                       042|                null|          016|       021466591|                   N|                 MD|     001|           2015-04-23|                     null|                2015-04-23|      2015-04-23|              231958|                P37B|         PCLE25H|            S|                     null|                   null| 2022-03-10 01:05:...|     null|               null|          null|      null|              null|      null|             null|          null|               null|         null|                      null|          null|            null|               null|                null|                   null|                 null|                      null|               null|            null|\n",
            "|   20706165|           27|0000007889953|    2014-09-15|          10000|                  00|      285|              34|          0|                      1|                      1|       487|                   |                 |                          |      CRUZ|                |      JUAN CARLOS|                  1|          M|1949-09-24|                    80|                 080|                  201|        100|                         0|                          82|                       21101000|                       0|                    null|                      null|                    null|                      null|                            |                 0|                       0|                  0|                  1|                       null|             null|           S1CFN667|                1|                              1|                  CA|                   47|              null|            null|                    |                      null|   0020078899531|                       042|                null|          016|       020706165|                   N|                   |     001|           2014-09-15|                     null|                2014-09-15|      2015-11-09|              184838|                P37B|         PCLE10P|            S|                     null|                   null| 2022-03-10 01:05:...|     null|               null|          null|      null|              null|      null|             null|          null|               null|         null|                      null|          null|            null|               null|                null|                   null|                 null|                      null|               null|            null|\n",
            "|   02997060|           25|0000007897097|    2011-02-28|          10000|                  00|      111|              34|          0|                      1|                      1|       378|                   |                 |                      BLOQ|      WYSS|                |     LUIS ROLANDO|                  1|          M|1942-08-27|                    80|                 080|                  201|        100|                         0|                          82|                       21101000|                       0|                    null|                      null|                    null|                      null|                           0|                 0|                       0|                  0|                  1|                       null|             null|            PCLE06R|                1|                              1|                  PO|                   47|              null|            null|                    |                      null|   0023078970979|                       042|                null|          016|       002997060|                   N|                   |     001|           2011-02-28|                     null|                2011-02-28|      2011-02-28|              162126|                P37B|          VUELCO|            S|                     null|                   null| 2022-03-10 01:05:...|     null|               null|          null|      null|              null|      null|             null|          null|               null|         null|                      null|          null|            null|               null|                null|                   null|                 null|                      null|               null|            null|\n",
            "|   04484525|           27|0000007898443|    1991-12-18|          10000|                  01|      218|              34|         13|                      1|                      1|       219|                   |                 |                          | BOGLIETTI|                |            RUBEN|                  1|          M|1942-02-12|                    80|                 080|                  201|        100|                         0|                          82|                       21101000|                       0|                    null|                      null|                    null|                      null|                           0|                 0|                       0|                  0|                  2|                       null|             null|            PCLE25Q|                0|                              1|                  CA|                   47|              null|            null|                    |                      null|   0020078984431|                       042|                null|          016|       004484525|                   N|                   |     001|           2009-01-01|                     null|                1999-02-17|      1999-02-17|              165931|                P37B|          VUELCO|            S|                     null|                   null| 2022-03-10 01:05:...|     null|               null|          null|      null|              null|      null|             null|          null|               null|         null|                      null|          null|            null|               null|                null|                   null|                 null|                      null|               null|            null|\n",
            "|   20405028|           25|0000007901907|    2014-03-12|          10000|                  00|      150|              34|          0|                      1|                      8|       498|                   |                 |                      BLOQ|   MENDOZA|                |  EPIFANIO VICTOR|                  1|          M|1949-04-07|                    80|                 080|                  201|        100|                         0|                          82|                       21101000|                       0|                    null|                      null|                    null|                      null|                           0|                 0|                       0|                  0|                  1|                       null|             null|            PCLE06R|                1|                              1|                  PO|                   47|              null|            null|                    |                      null|   0020079019071|                       042|                null|          016|       020405028|                   N|                 MO|     001|           2014-03-12|                     null|                2014-03-12|      2014-03-12|              161531|                P37B|         PCLE10P|            S|                     null|                   null| 2022-03-10 01:05:...|     null|               null|          null|      null|              null|      null|             null|          null|               null|         null|                      null|          null|            null|               null|                null|                   null|                 null|                      null|               null|            null|\n",
            "|   03099590|           27|0000007909556|    1997-05-22|          20050|                  01|      216|              34|          0|                      1|                      1|       225|                   |                 |                          |   PASCUAL|                |     JUAN ANTONIO|                  5|          M|1944-01-31|                    80|                 080|                  201|        100|                          |                          82|                       21101000|                       0|                    null|                      null|                    null|                      null|                            |                 0|                       0|                  0|                  3|                       null|             null|            PCLE07V|                0|                              1|                  CA|                   47|              null|            null|                    |                      null|   0020079095568|                       055|                null|          016|       001057996|                   N|                   |     001|           2009-01-01|                     null|                1997-05-22|      1998-07-05|              165345|                P37B|          VUELCO|            S|                     null|                   null| 2022-03-10 01:05:...|     null|               null|          null|      null|              null|      null|             null|          null|               null|         null|                      null|          null|            null|               null|                null|                   null|                 null|                      null|               null|            null|\n",
            "|   04762676|           00|0000025919431|    1999-08-13|          10000|                  01|      202|              34|          0|                      1|                      1|       522|                   |                 |                          |    MOYANO|                |   MARCOS ANTONIO|                  5|          M|1976-02-07|                    80|                 080|                  201|        100|                         0|                          82|                       21101000|                       0|                    null|                      null|                    null|                      null|                            |                 0|                       0|                  0|                  1|                       null|             null|            PCLE06R|                0|                              1|                  CA|                   47|              null|            null|                    |                      null|   0020259194319|                       042|                null|          016|       004762676|                   N|                   |     001|           2009-01-01|                     null|                1999-08-13|      2002-03-22|              111055|                P37B|          VUELCO|            S|                     null|                   null| 2022-03-10 01:05:...|     null|               null|          null|      null|              null|      null|             null|          null|               null|         null|                      null|          null|            null|               null|                null|                   null|                 null|                      null|               null|            null|\n",
            "|   23303554|           00|0000025919890|    2016-10-21|          10000|                  00|      603|              34|          0|                      1|                      8|      2603|                   |                 |                          |     GAIDO|                |GUSTAVO ALEJANDRO|                  1|          M|1977-07-24|                    80|                 080|                  201|        100|                         0|                          82|                       21101000|                       0|                    null|                      null|                    null|                      null|                           0|                 0|                       0|                  0|                  0|                       null|             null|            PCLE06R|                1|                              1|                  PO|                   47|              null|            null|                    |                      null|   0023259198909|                       042|                null|          016|       023303554|                   N|                 MD|     001|           2016-10-21|                     null|                2016-10-21|      2016-10-21|              231441|                P37B|         PCLE25H|            S|                     null|                   null| 2022-03-10 01:05:...|     null|               null|          null|      null|              null|      null|             null|          null|               null|         null|                      null|          null|            null|               null|                null|                   null|                 null|                      null|               null|            null|\n",
            "|   05483567|           00|0000025925477|    2001-05-17|          10000|                  01|       79|              34|          0|                      1|                      1|       216|                   |                 |                          |    TAIANA|                |      MAXIMILIANO|                  5|          M|1977-05-26|                    80|                 080|                  201|        100|                         0|                          82|                       21101000|                       0|                    null|                      null|                    null|                      null|                            |                 0|                       0|                  0|                  1|                       null|             null|            PCLE06R|                0|                              1|                  AC|                   47|              null|            null|                    |                      null|   0023259254779|                       042|                null|          016|       005483567|                   N|                   |     001|           2009-01-01|                     null|                2001-05-17|      2008-04-25|              044357|                P37B|          VUELCO|            N|                     null|                   null| 2022-03-10 01:05:...|     null|               null|          null|      null|              null|      null|             null|          null|               null|         null|                      null|          null|            null|               null|                null|                   null|                 null|                      null|               null|            null|\n",
            "|   02337659|           00|0000025926393|    2010-03-29|          10000|                  00|       76|              34|          0|                      1|                      1|       201|                   |                 |                          |   AGUIRRE|                |    GONZALO RAMON|                  1|          M|1977-07-22|                    80|                 080|                  201|        100|                         0|                          82|                       21101000|                       0|                    null|                      null|                    null|                      null|                            |                 0|                       0|                  0|                  2|                       null|             null|            PCLE06R|                2|                              1|                  CA|                   47|              null|            null|                    |                      null|   0020259263930|                       042|                null|          016|       002337659|                   N|                   |     001|           2013-08-26|                     null|                2010-03-29|      2016-11-08|              232012|                P37B|          VUELCO|            S|                     null|                   null| 2022-03-10 01:05:...|     null|               null|          null|      null|              null|      null|             null|          null|               null|         null|                      null|          null|            null|               null|                null|                   null|                 null|                      null|               null|            null|\n",
            "|   00888642|           00|0000017409288|    1992-10-29|          10000|                    |       91|              34|          0|                      1|                      1|        66|                   |                 |                          |     CITRO|                |    MARIA CLAUDIA|                  1|          F|1965-03-18|                    80|                 080|                  201|        100|                         0|                          82|                       21101000|                       0|                    null|                      null|                    null|                      null|                           0|                 0|                       0|                  0|                  0|                       null|             null|            PCLE06R|                0|                              1|                  CA|                   47|              null|            null|                    |                      null|   0027174092880|                       042|                null|          016|                |                   N|                   |     001|           2009-01-01|                     null|                1993-09-20|      2000-06-23|              105751|                P37B|          VUELCO|            S|                     null|                   null| 2022-03-10 01:05:...|     null|               null|          null|      null|              null|      null|             null|          null|               null|         null|                      null|          null|            null|               null|                null|                   null|                 null|                      null|               null|            null|\n",
            "|   27060621|           00|0000017411413|    2020-07-29|          10000|                  00|      603|              34|          0|                      1|                      8|      2603|                   |                 |                          |    MENDEZ|                |  ROSARIO BEATRIZ|                  1|          F|1965-04-28|                    80|                 080|                  201|        100|                         0|                          82|                       21101000|                       0|                    null|                      null|                    null|                      null|                           0|                 0|                       0|                  0|                  0|                       null|             null|            PCLE06R|                1|                              1|                  PO|                   47|              null|            null|                    |                      null|   0027174114132|                       042|                null|          016|       027060621|                   N|                 MD|     001|           2020-07-29|                     null|                2020-07-29|      2020-07-29|              003221|                P37B|         PCLE25H|            S|                     null|                   null| 2022-03-10 01:05:...|     null|               null|          null|      null|              null|      null|             null|          null|               null|         null|                      null|          null|            null|               null|                null|                   null|                 null|                      null|               null|            null|\n",
            "|   02169869|           00|0000017411728|    1997-07-14|          10000|                  01|        4|              34|          0|                      1|                      1|      1073|                080|                 |                          |    OLAZAR|                |     CLAUDIO LUIS|                  5|          M|1965-07-06|                    80|                 080|                  201|        100|                         0|                          82|                       21101000|                       0|                    null|                      null|                    null|                      null|                            |                 0|                       0|                  0|                  0|                       null|             null|            PCLE06R|                2|                              1|                  AC|                    4|              null|            null|                    |                      null|   0020174117285|                       042|          1995-01-01|          007|                |                   N|                   |     001|           2018-11-07|                     null|                1997-07-14|      2020-04-29|              230139|                P37C|          VUELCO|            N|                     null|                   null| 2022-03-10 01:05:...|     null|               null|          null|      null|              null|      null|             null|          null|               null|         null|                      null|          null|            null|               null|                null|                   null|                 null|                      null|               null|            null|\n",
            "+-----------+-------------+-------------+--------------+---------------+--------------------+---------+----------------+-----------+-----------------------+-----------------------+----------+-------------------+-----------------+--------------------------+----------+----------------+-----------------+-------------------+-----------+----------+----------------------+--------------------+---------------------+-----------+--------------------------+----------------------------+-------------------------------+------------------------+------------------------+--------------------------+------------------------+--------------------------+----------------------------+------------------+------------------------+-------------------+-------------------+---------------------------+-----------------+-------------------+-----------------+-------------------------------+--------------------+---------------------+------------------+----------------+--------------------+--------------------------+----------------+--------------------------+--------------------+-------------+----------------+--------------------+-------------------+--------+---------------------+-------------------------+--------------------------+----------------+--------------------+--------------------+----------------+-------------+-------------------------+-----------------------+---------------------+---------+-------------------+--------------+----------+------------------+----------+-----------------+--------------+-------------------+-------------+--------------------------+--------------+----------------+-------------------+--------------------+-----------------------+---------------------+--------------------------+-------------------+----------------+\n",
            "only showing top 20 rows\n",
            "\n"
          ]
        }
      ]
    }
  ]
}