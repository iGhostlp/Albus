{
  "nbformat": 4,
  "nbformat_minor": 0,
  "metadata": {
    "colab": {
      "provenance": [],
      "include_colab_link": true
    },
    "kernelspec": {
      "name": "python3",
      "display_name": "Python 3"
    },
    "language_info": {
      "name": "python"
    }
  },
  "cells": [
    {
      "cell_type": "markdown",
      "metadata": {
        "id": "view-in-github",
        "colab_type": "text"
      },
      "source": [
        "<a href=\"https://colab.research.google.com/github/iGhostlp/Albus/blob/Sin-Dientes/Proyecto_BBVA.ipynb\" target=\"_parent\"><img src=\"https://colab.research.google.com/assets/colab-badge.svg\" alt=\"Open In Colab\"/></a>"
      ]
    },
    {
      "cell_type": "markdown",
      "source": [
        "# Armado del entorno"
      ],
      "metadata": {
        "id": "HWni6Oa3Xst4"
      }
    },
    {
      "cell_type": "code",
      "execution_count": null,
      "metadata": {
        "id": "7oZjRfdSVnQa"
      },
      "outputs": [],
      "source": [
        "# Download Spark\n",
        "!wget -q https://dlcdn.apache.org/spark/spark-3.3.2/spark-3.3.2-bin-hadoop3.tgz"
      ]
    },
    {
      "cell_type": "code",
      "source": [
        "# Unzip the file\n",
        "!tar xf spark-3.3.2-bin-hadoop3.tgz"
      ],
      "metadata": {
        "id": "4AqJxH7ZVvNa"
      },
      "execution_count": null,
      "outputs": []
    },
    {
      "cell_type": "code",
      "source": [
        "!readlink -f $(which java) | sed \"s:bin/java::\""
      ],
      "metadata": {
        "colab": {
          "base_uri": "https://localhost:8080/"
        },
        "id": "jHCrfKNLWTsi",
        "outputId": "d85b088a-fcde-41c4-a58d-89fcaffbd953"
      },
      "execution_count": null,
      "outputs": [
        {
          "output_type": "stream",
          "name": "stdout",
          "text": [
            "/usr/lib/jvm/java-11-openjdk-amd64/\n"
          ]
        }
      ]
    },
    {
      "cell_type": "code",
      "source": [
        "# Set up the environment for Spark\n",
        "import os\n",
        "os.environ[\"JAVA_HOME\"] = \"/usr/lib/jvm/java-11-openjdk-amd64/\"\n",
        "os.environ[\"SPARK_HOME\"] = '/content/spark-3.3.2-bin-hadoop3'"
      ],
      "metadata": {
        "id": "7VjkyMMOWVOs"
      },
      "execution_count": null,
      "outputs": []
    },
    {
      "cell_type": "code",
      "source": [
        "# Install library for finding Spark\n",
        "!pip install -q findspark\n",
        "\n",
        "# Import the libary\n",
        "import findspark\n",
        "\n",
        "# Initiate findspark\n",
        "findspark.init()"
      ],
      "metadata": {
        "id": "idA0uSW7WW47"
      },
      "execution_count": null,
      "outputs": []
    },
    {
      "cell_type": "code",
      "source": [
        "# Import SparkSession\n",
        "from pyspark.sql import SparkSession\n",
        "\n",
        "# Create a Spark Session\n",
        "spark = SparkSession.builder.master(\"local[*]\").config('spark.sql.parquet.datetimeRebaseModeInRead','CORRECTED').getOrCreate()\n",
        "\n",
        "# Check Spark Session Information\n",
        "spark"
      ],
      "metadata": {
        "colab": {
          "base_uri": "https://localhost:8080/",
          "height": 219
        },
        "id": "RjQQ7TU0WYYg",
        "outputId": "8b314d75-0395-4fb3-813e-73ca77fa9484"
      },
      "execution_count": null,
      "outputs": [
        {
          "output_type": "execute_result",
          "data": {
            "text/plain": [
              "<pyspark.sql.session.SparkSession at 0x7f8950247af0>"
            ],
            "text/html": [
              "\n",
              "            <div>\n",
              "                <p><b>SparkSession - in-memory</b></p>\n",
              "                \n",
              "        <div>\n",
              "            <p><b>SparkContext</b></p>\n",
              "\n",
              "            <p><a href=\"http://f3e1855d2514:4040\">Spark UI</a></p>\n",
              "\n",
              "            <dl>\n",
              "              <dt>Version</dt>\n",
              "                <dd><code>v3.3.2</code></dd>\n",
              "              <dt>Master</dt>\n",
              "                <dd><code>local[*]</code></dd>\n",
              "              <dt>AppName</dt>\n",
              "                <dd><code>pyspark-shell</code></dd>\n",
              "            </dl>\n",
              "        </div>\n",
              "        \n",
              "            </div>\n",
              "        "
            ]
          },
          "metadata": {},
          "execution_count": 6
        }
      ]
    },
    {
      "cell_type": "markdown",
      "source": [
        "# Importado de funciones"
      ],
      "metadata": {
        "id": "ScNsjwRNsuLb"
      }
    },
    {
      "cell_type": "code",
      "source": [
        "import pyspark.sql.functions as F\n",
        "from pyspark.sql import SparkSession\n",
        "from pyspark.sql.functions import concat, concat_ws, col, row_number, desc, collect_list, to_json, struct, year, current_date, datediff, floor, when, lit\n",
        "from pyspark.sql.window import Window"
      ],
      "metadata": {
        "id": "V6pZxnWwOVBg"
      },
      "execution_count": null,
      "outputs": []
    },
    {
      "cell_type": "code",
      "source": [
        "#Creación de un SQL context\n",
        "from pyspark.sql import SQLContext\n",
        "sqlContext = SQLContext(spark)"
      ],
      "metadata": {
        "colab": {
          "base_uri": "https://localhost:8080/"
        },
        "id": "6r1MPCMLJJ18",
        "outputId": "1707d5e3-8f9d-46ff-fe16-b0c199dbe699"
      },
      "execution_count": null,
      "outputs": [
        {
          "output_type": "stream",
          "name": "stderr",
          "text": [
            "/content/spark-3.3.2-bin-hadoop3/python/pyspark/sql/context.py:112: FutureWarning: Deprecated in 3.0.0. Use SparkSession.builder.getOrCreate() instead.\n",
            "  warnings.warn(\n"
          ]
        }
      ]
    },
    {
      "cell_type": "markdown",
      "source": [
        "# Carga de parquets"
      ],
      "metadata": {
        "id": "Q5AVpwy7083X"
      }
    },
    {
      "cell_type": "code",
      "source": [
        "df_customer = spark.read.parquet('/content/Datasets/customer_basics.snappy.parquet')\n",
        "df_phones = spark.read.parquet('/content/Datasets/phones.snappy.parquet')\n",
        "df_address = spark.read.parquet('/content/Datasets/address.snappy.parquet')\n",
        "df_emails = spark.read.parquet('/content/Datasets/emails.snappy.parquet')\n",
        "df_marital_status = spark.read.parquet('/content/Datasets/marital_status_type.parquet')\n",
        "df_segment_type = spark.read.parquet('/content/Datasets/segment_type.parquet')\n",
        "df_customer_documents = spark.read.parquet('/content/Datasets/customer_documents.parquet')\n",
        "df_address_type = spark.read.parquet('/content/Datasets/address_type.parquet')\n",
        "df_gender = spark.read.parquet('/content/Datasets/gender.parquet')\n",
        "df_nationality = spark.read.parquet('/content/Datasets/nationality.parquet')\n",
        "df_personal_type = spark.read.parquet('/content/Datasets/personal_type.parquet')\n",
        "df_phone_type = spark.read.parquet('/content/Datasets/phone_type.parquet')\n",
        "df_province = spark.read.parquet('/content/Datasets/province.parquet')\n",
        "df_customer_segment = spark.read.parquet('/content/Datasets/customer_segment.parquet')\n",
        "df_customer_info_temp = spark.read.parquet('/content/Datasets/customer_info_temp.parquet')"
      ],
      "metadata": {
        "id": "KyG_qzVEWaV3"
      },
      "execution_count": null,
      "outputs": []
    },
    {
      "cell_type": "markdown",
      "source": [
        "### Normalización de datos"
      ],
      "metadata": {
        "id": "ZWXD1CqV0B7O"
      }
    },
    {
      "cell_type": "code",
      "source": [
        "df_customer = df_customer.withColumnRenamed('last_change_date', 'l_c_d_customer')"
      ],
      "metadata": {
        "id": "QFH6W5UwP4gS"
      },
      "execution_count": null,
      "outputs": []
    },
    {
      "cell_type": "code",
      "source": [
        "df_customer = df_customer.withColumn(\"job_type_desc\", \n",
        "                                             when(df_customer.job_type == 1, 'REL.DEPENDENCIA/FIJO')\n",
        "                                             .when(df_customer.job_type == 2, 'TEMPORAL')\n",
        "                                             .when(df_customer.job_type == 3, 'AUTONOMO/INDEPENDIENTE')\n",
        "                                             .when(df_customer.job_type == 3, 'OTROS')\n",
        "                                             .otherwise(\"-\"))"
      ],
      "metadata": {
        "id": "Z90hmVGjEIa-"
      },
      "execution_count": null,
      "outputs": []
    },
    {
      "cell_type": "code",
      "source": [
        "df_marital_status_ok = df_marital_status.withColumn(\"marital_status_type\", \n",
        "                                             when(df_marital_status.martial_status_short_desc == \"NO INFORMA\", 0)\n",
        "                                             .when(df_marital_status.martial_status_short_desc == \"CASADO/A  \", 1)\n",
        "                                             .when(df_marital_status.martial_status_short_desc == \"VIUDO/A   \", 2)\n",
        "                                             .when(df_marital_status.martial_status_short_desc == \"SEPARADO/A\", 3)\n",
        "                                             .when(df_marital_status.martial_status_short_desc == \"DIVORCIADO\", 4)\n",
        "                                             .when(df_marital_status.martial_status_short_desc == \"SOLTERO/A \", 5)\n",
        "                                             .when(df_marital_status.martial_status_short_desc == \"CONVIVIENT\", 6)\n",
        "                                             .when(df_marital_status.martial_status_short_desc == \"OTROS     \", 7)\n",
        "                                             .when(df_marital_status.martial_status_short_desc == \"CONV. INSC\", 8)\n",
        "                                             .otherwise(\"-\"))"
      ],
      "metadata": {
        "id": "lLUiJ5YC0E0d"
      },
      "execution_count": null,
      "outputs": []
    },
    {
      "cell_type": "markdown",
      "source": [
        "# Extraccion de datos\n",
        "\n"
      ],
      "metadata": {
        "id": "OMmwI7gkYZ5u"
      }
    },
    {
      "cell_type": "markdown",
      "source": [
        "### - 24 - Extraccion de datos desde parquet, clientes y teléfonos.\n",
        "####Crear un DataFrame que contenga el JOIN de la tabla t_abtq_customer_basics y tabla t_abtq_customer_phones."
      ],
      "metadata": {
        "id": "JNSaDeDCGImG"
      }
    },
    {
      "cell_type": "code",
      "source": [
        "df_customer_phones = df_phones.join(df_customer, 'customer_id')"
      ],
      "metadata": {
        "id": "lXvJoM9jWcHg"
      },
      "execution_count": null,
      "outputs": []
    },
    {
      "cell_type": "code",
      "source": [
        "df_customer_phones.show()"
      ],
      "metadata": {
        "id": "0qFd1difZvmA",
        "colab": {
          "base_uri": "https://localhost:8080/"
        },
        "outputId": "e73f9b3e-d31b-473c-e8bc-42e207f89b47"
      },
      "execution_count": null,
      "outputs": [
        {
          "output_type": "stream",
          "name": "stdout",
          "text": [
            "+-----------+--------------+-------------------+-----------------+----------+----------------+---------------+-------------+-------------------+-----------------+-------------+------------+---------------+-----------------------+------------------+---------------------+-----------------+----------+-----------+--------------------------+---------------------+--------------------+---------------------+----------------+-------------------------+-------------------------+------------------+-------------------+-----------------+--------------------+---------------------+-----------------------+----------------------+--------------------+----------------------+------------------------------+----------------------------+-------------------+----------------+----------------+-------------------+--------------------+-----------------------+---------------------+-------------+-------------+--------------+---------------+--------------------+---------+----------------+-----------+-----------------------+-----------------------+----------+-------------------+-----------------+--------------------------+-----------+----------------+-----------------+-------------------+-----------+----------+----------------------+--------------------+---------------------+-----------+--------------------------+----------------------------+-------------------------------+------------------------+------------------------+--------------------------+------------------------+--------------------------+----------------------------+------------------+------------------------+-------------------+-------------------+---------------------------+-----------------+-------------------+-----------------+-------------------------------+--------------------+---------------------+------------------+----------------+--------------------+--------------------------+----------------+--------------------------+--------------------+-------------+----------------+--------------------+-------------------+--------+---------------------+-------------------------+--------------------------+--------------+--------------------+--------------------+----------------+-------------+-------------------------+-----------------------+---------------------+--------------------+\n",
            "|customer_id|phone_use_type|address_sequence_id|phone_sequence_id|phone_type|phone_country_id|prefix_phone_id|phone_area_id|cellphone_prefix_id|phone_exchange_id|phone_line_id|    phone_id|phone_intern_id|aditional_info_txt_desc|primary_phone_type|address_sequence_type|address_town_name|zipcode_id|province_id|customer_phone_status_type|phone_status_mod_date|contact_channel_type|sender_application_id|wrong_phone_type|normalization_status_type|normalization_reason_name|normalization_date|validity_start_date|validity_end_date|dlvy_day_monday_type|dlvy_day_tuesday_type|dlvy_day_wednesday_type|dlvy_day_thursday_type|dlvy_day_friday_type|dlvy_day_saturday_type|delivery_contact_start_hm_date|delivery_contact_end_hm_date|registry_entry_date|register_user_id|last_change_date|last_change_user_id|last_change_hms_date|last_change_terminal_id|operational_load_date|personal_type|  personal_id|admission_date|sale_channel_id|operation_channel_id|branch_id|business_area_id|campaing_id|customer_situation_type|customer_condition_type|manager_id|tracking_manager_id|credit_manager_id|credit_recovery_manager_id|  last_name|second_last_name|       first_name|marital_status_type|gender_type|birth_date|country_nationality_id|residence_country_id|customer_subject_type|sector_type|customer_level_access_type|cust_bcra_econ_activity_type|internal_economic_activity_type|bbva_inhabilitation_type|customer_block_bbva_date|customer_unblock_bbva_date|customer_block_bcra_date|customer_unblock_bcra_date|customer_pending_notice_type|last_notice_number|last_reference_number_id|last_service_number|last_address_number|last_unlinking_account_date|customer_end_date|last_change_user_id|customer_pep_type|bbva_family_lnk_weighted_number|customer_status_type|scoring_activity_type|refinancing_number|refinancing_date|coholder_customer_id|customer_bcra_situation_id|customer_cuit_id|customer_position_vat_type|balance_closing_date|profession_id|bbva_cust_number|customer_linked_type|customer_entry_type|job_type|profession_start_date|customer_first_block_date|customer_registration_date|l_c_d_customer|last_change_hms_date|register_terminal_id|register_user_id|customer_type|customer_seniority_number|last_status_change_date|operational_load_date|       job_type_desc|\n",
            "+-----------+--------------+-------------------+-----------------+----------+----------------+---------------+-------------+-------------------+-----------------+-------------+------------+---------------+-----------------------+------------------+---------------------+-----------------+----------+-----------+--------------------------+---------------------+--------------------+---------------------+----------------+-------------------------+-------------------------+------------------+-------------------+-----------------+--------------------+---------------------+-----------------------+----------------------+--------------------+----------------------+------------------------------+----------------------------+-------------------+----------------+----------------+-------------------+--------------------+-----------------------+---------------------+-------------+-------------+--------------+---------------+--------------------+---------+----------------+-----------+-----------------------+-----------------------+----------+-------------------+-----------------+--------------------------+-----------+----------------+-----------------+-------------------+-----------+----------+----------------------+--------------------+---------------------+-----------+--------------------------+----------------------------+-------------------------------+------------------------+------------------------+--------------------------+------------------------+--------------------------+----------------------------+------------------+------------------------+-------------------+-------------------+---------------------------+-----------------+-------------------+-----------------+-------------------------------+--------------------+---------------------+------------------+----------------+--------------------+--------------------------+----------------+--------------------------+--------------------+-------------+----------------+--------------------+-------------------+--------+---------------------+-------------------------+--------------------------+--------------+--------------------+--------------------+----------------+-------------+-------------------------+-----------------------+---------------------+--------------------+\n",
            "|   22288382|            00|                  0|                4|         3|             080|             54|           11|                 15|             2634|         9000|048225806655|               |                       |                 N|                    N|                 |          |           |                COMPROBADO|           2022-08-05|                  01|                 CTES|                |                NORM AUTO|                  COPDTEL|        2022-06-30|         1900-01-01|       1900-01-01|                    |                     |                       |                      |                    |                      |                      00:00:00|                    00:00:00|         2022-06-30|         A117663|      2022-08-05|               XATM|              113350|                   XATM| 2022-11-30 00:42:...|           00|0000028090040|    2015-12-04|          10000|                  00|      603|              34|          0|                      1|                      8|      2603|                   |                 |                          |   BILLORDO|                |     MARIO ANDRES|                  1|          M|1980-04-13|                    80|                 080|                  201|        100|                         0|                          82|                       21101000|                       0|                    null|                      null|                    null|                      null|                           0|                 0|                       0|                  0|                  0|                       null|             null|            PCLE06R|                1|                              1|                  PO|                   47|              null|            null|                    |                      null|   0020280900401|                       042|                null|          016|       022288382|                   N|                 MD|     001|           2015-12-04|                     null|                2015-12-04|    2015-12-04|              235311|                P37B|         PCLE25H|            S|                     null|                   null| 2022-03-10 01:05:...|REL.DEPENDENCIA/FIJO|\n",
            "|   21126665|            00|                  0|                2|         3|             080|             54|         3444|                 15|               53|         5561|677225712027|               |                       |                 N|                    N|                 |          |           |                COMPROBADO|           2022-07-28|                  01|                 CTES|                |                NORM AUTO|                     COSM|        2022-07-28|         1900-01-01|       1900-01-01|                    |                     |                       |                      |                    |                      |                      00:00:00|                    00:00:00|         2022-07-28|         A118347|      2022-07-28|               XATM|              103346|                   XATM| 2022-11-30 00:42:...|           00|0000038854260|    2015-01-16|          10000|                  00|      603|              34|          0|                      1|                      8|      2603|                   |                 |                          |   BARRAGAN|                |    MIGUEL NAHUEL|                  1|          M|1995-05-07|                    80|                 080|                  201|        100|                         0|                          82|                       21101000|                       0|                    null|                      null|                    null|                      null|                           0|                 0|                       0|                  0|                  0|                       null|             null|            PCLE06R|                1|                              1|                  PO|                   47|              null|            null|                    |                      null|   0020388542609|                       042|                null|          016|       021126665|                   N|                 MD|     001|           2015-01-16|                     null|                2015-01-16|    2015-01-16|              231215|                P37B|         PCLE25H|            S|                     null|                   null| 2022-03-10 01:05:...|REL.DEPENDENCIA/FIJO|\n",
            "|   27124153|            00|                  0|                1|         3|             080|             54|           11|                 15|             3636|         7400|485482219628|               |                       |                 N|                    N|                 |          |           |                 DECLARADO|           2022-09-30|                  01|                 CTES|                |                NORM AUTO|                  COPDTEL|        2022-09-30|         1900-01-01|       1900-01-01|                    |                     |                       |                      |                    |                      |                      00:00:00|                    00:00:00|         2022-09-30|          A64302|      2022-09-30|           PCLESMS0|              211502|                   3016| 2022-11-30 00:42:...|           00|0000038921737|    2020-07-30|          10000|                  00|      603|              34|          0|                      1|                      8|      2603|                   |                 |                          |     ARANAS|                |      PAULA KAREN|                  1|          F|1995-03-24|                    80|                 080|                  201|        100|                         0|                          82|                       21101000|                       0|                    null|                      null|                    null|                      null|                           0|                 0|                       0|                  0|                  0|                       null|             null|            PCLE06R|                1|                              1|                  PO|                   47|              null|            null|                    |                      null|   0027389217374|                       042|                null|          016|       027124153|                   N|                 MD|     001|           2020-07-30|                     null|                2020-07-30|    2020-07-30|              003119|                P37B|         PCLE25H|            S|                     null|                   null| 2022-03-10 01:05:...|REL.DEPENDENCIA/FIJO|\n",
            "|   22999372|            00|                  0|                1|         3|             080|             54|         3541|                 15|               62|         1557|750325436808|               |                       |                 N|                    N|                 |          |           |                COMPROBADO|           2022-10-30|                  01|                 PVTA|                |                NORM AUTO|                     COSM|        2022-10-30|         1900-01-01|       1900-01-01|                    |                     |                       |                      |                    |                      |                      00:00:00|                    00:00:00|         2022-10-30|        VW2CCON0|      2022-10-30|           PCLUPCRT|              205017|                   OSMS| 2022-11-30 00:42:...|           00|0000036674400|    2016-07-29|          10000|                  00|       21|              34|          0|                      1|                      1|       702|                   |                 |                          |   SANDOVAL|                |   VICTOR ANTONIO|                  5|          M|1992-03-26|                    80|                 080|                  201|        100|                         0|                          82|                       21101000|                       0|                    null|                      null|                    null|                      null|                            |                11|                       0|                  0|                  1|                       null|             null|            PCLE06M|                1|                              1|                  AC|                   50|              null|            null|                    |                      null|   0020366744003|                       042|                null|          039|       022999372|                   N|                   |     004|           2016-07-29|                     null|                2016-07-29|    2021-05-11|              090130|                P37B|         PCLE15V|            N|                     null|                   null| 2022-03-10 01:05:...|                   -|\n",
            "|   30668415|            00|                  0|                1|         3|             080|             54|           11|                 15|             2366|         8711|929625826012|               |                       |                 N|                    N|                 |          |           |                COMPROBADO|           2022-11-16|                  01|                 CTES|                |                NORM AUTO|                   COPDTE|        2022-11-16|         1900-01-01|       1900-01-01|                    |                     |                       |                      |                    |                      |                      00:00:00|                    00:00:00|         2022-11-16|          A48833|      2022-11-16|             A33643|              111313|                   2305| 2022-11-30 00:42:...|           00|0000022062274|    2015-08-11|          10000|                  00|      603|              34|          0|                      1|                      8|      2603|                   |                 |                          |     TAYLOR|                |   ALFREDO FABIAN|                  1|          M|1971-01-28|                    80|                 080|                  201|        100|                         0|                          82|                       21101000|                       0|                    null|                      null|                    null|                      null|                           0|                 0|                       0|                  0|                  2|                       null|             null|            PCLE06R|                1|                              1|                  PO|                   47|              null|            null|                    |                      null|   0020220622747|                       042|                null|          016|       021812737|                   N|                 MD|     001|           2015-08-11|                     null|                2015-08-11|    2015-08-11|              232342|                P37B|         PCLE25H|            S|                     null|                   null| 2022-03-10 01:05:...|REL.DEPENDENCIA/FIJO|\n",
            "|   30668415|            01|                  0|                2|         3|             080|             54|           11|                 15|             2366|         8711|929625826012|               |                       |                 N|                    N|                 |          |           |                 DECLARADO|           2022-11-16|                  01|                 CTES|                |                NORM AUTO|                  COPDTEL|        2022-11-16|         1900-01-01|       1900-01-01|                    |                     |                       |                      |                    |                      |                      00:00:00|                    00:00:00|         2022-11-16|          A33643|      2022-11-16|             A33643|              111313|                   2305| 2022-11-30 00:42:...|           00|0000022062274|    2015-08-11|          10000|                  00|      603|              34|          0|                      1|                      8|      2603|                   |                 |                          |     TAYLOR|                |   ALFREDO FABIAN|                  1|          M|1971-01-28|                    80|                 080|                  201|        100|                         0|                          82|                       21101000|                       0|                    null|                      null|                    null|                      null|                           0|                 0|                       0|                  0|                  2|                       null|             null|            PCLE06R|                1|                              1|                  PO|                   47|              null|            null|                    |                      null|   0020220622747|                       042|                null|          016|       021812737|                   N|                 MD|     001|           2015-08-11|                     null|                2015-08-11|    2015-08-11|              232342|                P37B|         PCLE25H|            S|                     null|                   null| 2022-03-10 01:05:...|REL.DEPENDENCIA/FIJO|\n",
            "|   02856972|            00|                  0|                3|         3|             080|             54|           11|                 15|             7608|         3818|700232910447|               |                       |                 N|                    N|                 |     00000|         00|                 DECLARADO|           2022-06-24|                  01|                 CTES|                |                NORM OPER|                       NE|        2022-06-24|         1900-01-01|       1900-01-01|                    |                     |                       |                      |                    |                      |                      00:00:00|                    00:00:00|         2022-06-24|          A45587|      2022-06-24|             A45587|              120245|                   2734| 2022-11-30 00:42:...|           00|0000013147944|    2010-11-12|          10000|                  00|      336|              34|          0|                      1|                      1|       633|                   |                 |                          |     TREACY|                |   LORNA VIRGINIA|                  1|          F|1957-06-20|                    80|                 080|                  201|        100|                         0|                          82|                       21101000|                       0|                    null|                      null|                    null|                      null|                           0|                 0|                       0|                  0|                  1|                       null|             null|            PCLE06R|                1|                              1|                  PO|                   47|              null|            null|                    |                      null|   0027131479447|                       042|                null|          016|       002856972|                   N|                   |     001|           2010-11-12|                     null|                2010-11-12|    2010-11-12|              162832|                P37B|          VUELCO|            S|                     null|                   null| 2022-03-10 01:05:...|REL.DEPENDENCIA/FIJO|\n",
            "|   02369314|            00|                  0|                2|         3|             080|             54|          380|                 15|              475|         4624|069913142457|               |                       |                 S|                    N|                 |          |           |                COMPROBADO|           2022-10-29|                  01|                 CTES|                |                NORM AUTO|                     COSM|        2022-08-24|         1900-01-01|       1900-01-01|                    |                     |                       |                      |                    |                      |                      00:00:00|                    00:00:00|         2022-08-24|         A126618|      2022-10-29|               XATM|              211126|                   XATM| 2022-11-30 00:42:...|           00|0000029919195|    2010-04-21|          10000|                  00|       81|              92|          0|                      1|                      1|      8118|                080|                 |                          |      CIRES|                |      ENZO ANDRES|                  5|          M|1984-06-15|                    80|                 080|                  201|        100|                         0|                          82|                       21101000|                       0|                    null|                      null|                    null|                      null|                            |                 0|                       0|                  0|                  2|                       null|             null|            PCLE825|                2|                              1|                  AC|                   44|              null|            null|                    |                        21|   0020299191959|                       042|                null|          005|       002369314|                   N|                   |     001|           2010-05-05|                     null|                2010-04-21|    2022-02-21|              125837|                   B|          VUELCO|            N|                     null|                   null| 2022-03-10 01:05:...|REL.DEPENDENCIA/FIJO|\n",
            "|   04942990|            00|                  0|                2|         3|             080|             54|           11|                 15|             6987|         4382|020491180270|               |                       |                 N|                    N|                 |          |           |                COMPROBADO|           2022-09-09|                  01|                 WKFL|                |                NORM AUTO|                     COSM|        2022-09-09|         1900-01-01|       1900-01-01|                    |                     |                       |                      |                    |                      |                      00:00:00|                    00:00:00|         2022-09-09|         A126696|      2022-09-09|           PCLUPCRT|              124508|                   OSMS| 2022-11-30 00:42:...|           00|0000025646917|    1999-11-01|          10000|                  01|      166|              30|          0|                      1|                      1|       400|                   |                 |                          |    IRURZUN|                |           JAZMIN|                  5|          F|1977-02-21|                    80|                 080|                  201|        100|                         0|                          82|                       21101000|                       0|                    null|                      null|                    null|                      null|                            |                 0|                       0|                  0|                  1|                       null|             null|            PCLE06O|                0|                              1|                  CA|                   47|              null|            null|                  93|                      null|   0027256469176|                       042|                null|          016|       004942990|                   N|                   |     001|           2009-01-01|                     null|                1999-11-01|    2008-03-28|              223554|                   B|          VUELCO|            N|                     null|                   null| 2022-03-10 01:05:...|REL.DEPENDENCIA/FIJO|\n",
            "|   00051576|            00|                  0|                1|         3|             080|             54|           11|                 15|             2653|         1080|959943195039|               |                       |                 N|                    N|                 |          |           |                COMPROBADO|           2022-10-12|                  01|                 PVTA|                |                NORM AUTO|                     COSM|        2022-10-12|         1900-01-01|       1900-01-01|                    |                     |                       |                      |                    |                      |                      00:00:00|                    00:00:00|         2022-10-12|        VW2CCON0|      2022-10-12|           PCLUPCRT|              142116|                   OSMS| 2022-11-30 00:42:...|           28|0000000985182|    1989-03-16|          10000|                    |       38|              34|          0|                      1|                      8|       137|                   |                 |                          |BERAZATEGUI|                |           CARMEN|                  1|          F|1935-05-07|                    80|                 080|                  201|        100|                         0|                          82|                       21101000|                       0|                    null|                      null|                    null|                      null|                           0|                 0|                       0|                  0|                  5|                       null|             null|            PCLE25Q|                0|                              1|                  CA|                   47|              null|            null|                    |                      null|   0027009851823|                       045|                null|          016|       001017319|                   N|                 AD|     001|           2009-01-01|                     null|                1993-08-17|    2013-03-09|              162143|                P37B|          VUELCO|            S|                     null|                   null| 2022-03-10 01:05:...|REL.DEPENDENCIA/FIJO|\n",
            "|   30255141|            00|                  0|                1|         3|             080|             54|         2657|                 15|               20|         3098|681112840839|               |                       |                 N|                    N|                 |          |           |                COMPROBADO|           2022-11-18|                  16|                 CTES|                |                NORM AUTO|                   COPDTE|        2022-11-03|         1900-01-01|       1900-01-01|                    |                     |                       |                      |                    |                      |                      00:00:00|                    00:00:00|         2022-11-03|         A127190|      2022-11-18|               XATM|              085325|                   XATM| 2022-11-30 00:42:...|           00|0000022364138|    1998-06-18|          10000|                  01|      344|              34|          0|                      1|                      1|       643|                   |                 |                          |  RODRIGUEZ|                |      JULIA ELENA|                  1|          F|1971-09-17|                    80|                 080|                  201|        100|                         0|                          82|                       21101000|                       0|                    null|                      null|                    null|                      null|                            |                 0|                       0|                  0|                  0|                       null|             null|            PCLE06R|                0|                              1|                  CA|                   47|              null|            null|                    |                      null|   0027223641380|                       042|                null|          016|       004256320|                   N|                   |     001|           2009-01-01|                     null|                1998-06-18|    1998-07-05|              110819|                P37B|          VUELCO|            S|                     null|                   null| 2022-03-10 01:05:...|REL.DEPENDENCIA/FIJO|\n",
            "|   30255141|            00|                  0|                2|         3|             080|             54|         2657|                 15|               62|         3856|397111069167|               |                       |                 N|                    N|                 |          |           |                  VALIDADO|           2022-11-18|                  16|                 CTES|                |                NORM AUTO|                  COPDTEL|        2022-11-03|         1900-01-01|       1900-01-01|                    |                     |                       |                      |                    |                      |                      00:00:00|                    00:00:00|         2022-11-03|         A127190|      2022-11-18|           GPROBANK|              085337|                   LVI7| 2022-11-30 00:42:...|           00|0000022364138|    1998-06-18|          10000|                  01|      344|              34|          0|                      1|                      1|       643|                   |                 |                          |  RODRIGUEZ|                |      JULIA ELENA|                  1|          F|1971-09-17|                    80|                 080|                  201|        100|                         0|                          82|                       21101000|                       0|                    null|                      null|                    null|                      null|                            |                 0|                       0|                  0|                  0|                       null|             null|            PCLE06R|                0|                              1|                  CA|                   47|              null|            null|                    |                      null|   0027223641380|                       042|                null|          016|       004256320|                   N|                   |     001|           2009-01-01|                     null|                1998-06-18|    1998-07-05|              110819|                P37B|          VUELCO|            S|                     null|                   null| 2022-03-10 01:05:...|REL.DEPENDENCIA/FIJO|\n",
            "|   00093940|            00|                  0|                2|         3|             080|             54|          294|                 15|              465|         2918|833281785951|               |                       |                 N|                    N|                 |          |           |                 DECLARADO|           2022-11-04|                  01|                 CTES|                |                NORM AUTO|                  COPDTEL|        2022-11-04|         1900-01-01|       1900-01-01|                    |                     |                       |                      |                    |                      |                      00:00:00|                    00:00:00|         2022-11-04|         A126656|      2022-11-04|            A126656|              124017|                   8Z03| 2022-11-30 00:42:...|           26|0000001994808|    1993-09-13|          10000|                  01|      340|              34|          0|                      1|                      8|       211|                   |                 |                          | LACAMPAGNA|                |           AMELIA|                  2|          F|1921-11-22|                    80|                 080|                  201|        100|                         0|                          82|                       21101000|                       0|                    null|                      null|                    null|                      null|                           2|                 1|                       0|                  0|                  2|                       null|             null|            PCLE06R|                0|                              1|                  CA|                   47|              null|            null|                    |                      null|   0027019948086|                       042|                null|          016|                |                   N|                 AD|     001|           2009-01-01|                     null|                1994-11-22|    2013-03-09|              150515|                P37B|          VUELCO|            S|                     null|                   null| 2022-03-10 01:05:...|REL.DEPENDENCIA/FIJO|\n",
            "|   09502224|            00|                  0|                2|         3|             080|             54|          370|                 15|              499|         2155|574598098175|               |                       |                 N|                    N|                 |          |           |                 DECLARADO|           2022-11-17|                  01|                 WKFL|                |                NORM OPER|                       NE|        2022-11-17|         1900-01-01|       1900-01-01|                    |                     |                       |                      |                    |                      |                      00:00:00|                    00:00:00|         2022-11-17|         A127570|      2022-11-17|            A127570|              083214|                   5455| 2022-11-30 00:42:...|           00|0000022061947|    2010-08-12|          10000|                  00|       58|              34|          0|                      1|                      1|       164|                   |                 |                          |      GEMMA|                |  ALICIA VERONICA|                  1|          F|1971-05-29|                    80|                 080|                  201|        100|                         0|                          82|                       21101000|                       0|                    null|                      null|                    null|                      null|                           0|                 0|                       0|                  0|                  1|                       null|             null|            PCLE06R|                1|                              1|                  PO|                   47|              null|            null|                    |                      null|   0027220619473|                       042|                null|          016|       002573516|                   N|                   |     001|           2010-08-12|                     null|                2010-08-12|    2010-08-12|              163210|                P37B|          VUELCO|            S|                     null|                   null| 2022-03-10 01:05:...|REL.DEPENDENCIA/FIJO|\n",
            "|   04885794|            00|                  0|                2|         3|             080|             54|          297|                 15|              408|         8581|648671005228|               |                       |                 N|                    N|                 |          |           |                 DECLARADO|           2022-11-29|                  01|                 CTES|                |                NORM AUTO|                     COSM|        2022-11-29|         1900-01-01|       1900-01-01|                    |                     |                       |                      |                    |                      |                      00:00:00|                    00:00:00|         2022-11-29|         A119197|      2022-11-29|           PCLESMS0|              210940|                   L42X| 2022-11-30 00:42:...|           00|0000036891196|    2019-06-11|          10000|                  01|      995|              34|          0|                      1|                      8|      2603|                   |             PVTA|                          |    PALACIO|                |      MARIA ELENA|                  5|          F|1992-02-20|                    80|                 080|                  201|        100|                         0|                          82|                       21101000|                       0|                    null|                      null|                    null|                      null|                           0|                 0|                       0|                  0|                  0|                       null|             null|            PCLE06R|                1|                              1|                  PO|                    4|              null|            null|                    |                      null|   0000000000000|                       042|                null|          016|       025850055|                   N|                 MD|     001|           2019-06-11|                     null|                2019-06-11|    2019-06-11|              114348|                P37B|        VW2CEVA0|            S|                     null|                   null| 2022-03-10 01:05:...|REL.DEPENDENCIA/FIJO|\n",
            "|   09601024|            00|                  0|                1|         3|             080|             54|           11|                 15|             5632|         9614|974114628080|               |                     04|                 N|                    N|                 |          |           |                 DECLARADO|           2022-08-18|                  01|                 PVTA|                |                NORM AUTO|                     COSM|        2022-08-18|         2022-08-18|       1900-01-01|                    |                     |                       |                      |                    |                      |                      00:00:00|                    00:00:00|         2022-08-18|        VW2CCON0|      2022-08-18|            PCLE20N|              180241|                   BATC| 2022-11-30 00:42:...|           00|0000037739162|    2012-02-16|          10000|                  00|      344|              34|          0|                      1|                      1|       643|                   |                 |                          |      ORTIZ|           AMAYA|  ALEXIS EZEQUIEL|                  5|          M|1994-05-13|                    80|                 080|                  201|        100|                         0|                          82|                       21101000|                       0|                    null|                      null|                    null|                      null|                            |                 0|                       0|                  0|                  2|                       null|             null|           GPROBANK|                2|                              1|                  CA|                   47|              null|            null|                    |                      null|   0020377391625|                       042|                null|          016|       009601024|                   N|                   |     001|           2012-03-06|                     null|                2012-02-16|    2013-12-01|              192645|                P37B|         PCLE510|            S|                     null|                   null| 2022-03-10 01:05:...|REL.DEPENDENCIA/FIJO|\n",
            "|   03875505|            00|                  0|                2|         3|             080|             54|           11|                 15|             5425|         1649|899397119711|               |                       |                 N|                    N|                 |          |           |                 DECLARADO|           2022-11-04|                  01|                 WKFL|                |                NORM AUTO|                     COSM|        2022-11-04|         1900-01-01|       1900-01-01|                    |                     |                       |                      |                    |                      |                      00:00:00|                    00:00:00|         2022-11-04|          A95754|      2022-11-04|             A95754|              113252|                   P268| 2022-11-30 00:42:...|           00|0000036735732|    2011-05-23|          10000|                  01|      144|              34|          0|                      1|                      1|       215|                   |                 |                          |   SPERANZA|                |           CAMILA|                  5|          F|1992-01-29|                    80|                 080|                  201|        100|                         0|                          82|                       21101000|                       0|                    null|                      null|                    null|                      null|                            |                 0|                       0|                  0|                  1|                       null|             null|            PCLE06R|                2|                              1|                  PO|                   50|              null|            null|                    |                      null|   0027367357326|                       042|                null|          034|       003875505|                   N|                   |     004|           2011-05-23|                     null|                2011-05-23|    2011-05-23|              035525|                P37B|          A90180|            S|                     null|                   null| 2022-03-10 01:05:...|                   -|\n",
            "|   26184148|            00|                  0|                2|         3|             080|             54|          341|                 15|              375|         0800|993921678666|               |                       |                 N|                    N|                 |          |           |                COMPROBADO|           2022-08-04|                  01|                 CTES|                |                NORM AUTO|                   COPDTE|        2022-08-02|         1900-01-01|       1900-01-01|                    |                     |                       |                      |                    |                      |                      00:00:00|                    00:00:00|         2022-07-27|         A119279|      2022-08-04|               XATM|              112237|                   XATM| 2022-11-30 00:42:...|           00|0000037869033|    2019-08-16|          10000|                  00|      603|              34|          0|                      1|                      8|      2603|                   |                 |                          |    ALARCON|                |   JOHANNA MARIEL|                  1|          F|1993-08-30|                    80|                 080|                  201|        100|                         0|                          82|                       21101000|                       0|                    null|                      null|                    null|                      null|                           0|                 0|                       0|                  0|                  0|                       null|             null|            PCLE06R|                1|                              1|                  PO|                   47|              null|            null|                    |                      null|   0027378690337|                       042|                null|          016|       026184148|                   N|                 MD|     001|           2019-08-16|                     null|                2019-08-16|    2019-08-16|              004136|                P37B|         PCLE25H|            S|                     null|                   null| 2022-03-10 01:05:...|REL.DEPENDENCIA/FIJO|\n",
            "|   29326858|            00|                  0|                3|         3|             080|             54|           11|                 15|             2526|         5221|924659678253|               |                       |                 N|                    N|                 |          |           |                 DECLARADO|           2022-08-29|                  35|                 TVTA|                |                NORM AUTO|                     COSM|        2022-08-29|         1900-01-01|       1900-01-01|                    |                     |                       |                      |                    |                      |                      00:00:00|                    00:00:00|         2022-08-29|        GPROTLVT|      2022-08-29|           GPROTLVT|              165149|                   LV3T| 2022-11-30 00:42:...|           00|0000036880441|    2022-03-08|          10000|                  00|      603|              30|          0|                      1|                      8|      2603|                   |                 |                          |       VERA|                |LEONARDO FEDERICO|                  1|          M|1992-09-28|                    80|                 080|                  201|        100|                         0|                          82|                       21101000|                       0|                    null|                      null|                    null|                      null|                           0|                 0|                       0|                  0|                  0|                       null|             null|            PCLE25H|                1|                              0|                    |                   47|              null|            null|                    |                      null|   0020368804410|                       042|                null|          016|       028989980|                   N|                 MD|     001|           2022-03-08|                     null|                2022-03-08|    2022-03-08|              003155|                 BAT|         PCLE25H|             |                     null|                   null| 2022-03-10 01:05:...|REL.DEPENDENCIA/FIJO|\n",
            "|   23384749|            01|                  0|                2|         1|             080|             54|          221|                   |              513|         9898|  3932325985|               |                       |                 N|                    N|                 |          |           |                 DECLARADO|           2022-09-13|                  01|                 CTES|                |                NORM AUTO|                  COPDTEL|        2022-09-13|         1900-01-01|       1900-01-01|                    |                     |                       |                      |                    |                      |                      00:00:00|                    00:00:00|         2022-09-13|         A119036|      2022-09-13|            A119036|              165555|                   L0D8| 2022-11-30 00:42:...|           00|0000013243619|    2006-06-12|          10000|                    |      344|              34|          0|                      1|                      1|       643|                   |                 |                          |    POGONZA|                |    ANGEL RICARDO|                  1|          M|1957-04-24|                    80|                 080|                  201|        100|                         0|                          82|                       21101000|                       0|                    null|                      null|                    null|                      null|                           0|                 0|                       0|                  0|                  1|                       null|             null|            PCLE06R|                0|                              1|                  PO|                   47|              null|            null|                    |                      null|   0020132436194|                       042|                null|          016|       007099126|                   N|                   |     001|           2009-01-01|                     null|                2006-06-12|    2008-05-02|              183636|                P37B|          VUELCO|            S|                     null|                   null| 2022-03-10 01:05:...|REL.DEPENDENCIA/FIJO|\n",
            "+-----------+--------------+-------------------+-----------------+----------+----------------+---------------+-------------+-------------------+-----------------+-------------+------------+---------------+-----------------------+------------------+---------------------+-----------------+----------+-----------+--------------------------+---------------------+--------------------+---------------------+----------------+-------------------------+-------------------------+------------------+-------------------+-----------------+--------------------+---------------------+-----------------------+----------------------+--------------------+----------------------+------------------------------+----------------------------+-------------------+----------------+----------------+-------------------+--------------------+-----------------------+---------------------+-------------+-------------+--------------+---------------+--------------------+---------+----------------+-----------+-----------------------+-----------------------+----------+-------------------+-----------------+--------------------------+-----------+----------------+-----------------+-------------------+-----------+----------+----------------------+--------------------+---------------------+-----------+--------------------------+----------------------------+-------------------------------+------------------------+------------------------+--------------------------+------------------------+--------------------------+----------------------------+------------------+------------------------+-------------------+-------------------+---------------------------+-----------------+-------------------+-----------------+-------------------------------+--------------------+---------------------+------------------+----------------+--------------------+--------------------------+----------------+--------------------------+--------------------+-------------+----------------+--------------------+-------------------+--------+---------------------+-------------------------+--------------------------+--------------+--------------------+--------------------+----------------+-------------+-------------------------+-----------------------+---------------------+--------------------+\n",
            "only showing top 20 rows\n",
            "\n"
          ]
        }
      ]
    },
    {
      "cell_type": "markdown",
      "source": [
        "### - 25 - Extraccion de datos desde .parquet, clientes y direcciones\n",
        "####Crear un DataFrame que contenga el JOIN de la tabla t_abtq_customer_basics y tabla t_abtq_customer_adress."
      ],
      "metadata": {
        "id": "-0sm-Qx7kBVa"
      }
    },
    {
      "cell_type": "code",
      "source": [
        "df_customer_address = df_address.join(df_customer, 'customer_id')"
      ],
      "metadata": {
        "id": "wE8LkJZ6tjyN"
      },
      "execution_count": null,
      "outputs": []
    },
    {
      "cell_type": "code",
      "source": [
        "df_customer_address.show()"
      ],
      "metadata": {
        "id": "ewysTyLUXXx9",
        "colab": {
          "base_uri": "https://localhost:8080/"
        },
        "outputId": "42171989-bb26-41ff-9c9f-4f92e71c944f"
      },
      "execution_count": null,
      "outputs": [
        {
          "output_type": "stream",
          "name": "stdout",
          "text": [
            "+-----------+-----------------------+-------------------+--------------+--------------------+------------------+---------------------------+-----------------+-------------+---------------------+--------------------+-----------------------+----------+---------------+-----------+------------------+----------------------+-------------------------+------------------+---------------------+------------------------------+-----------------------+--------------------+---------------------+------------------+-------------------------+-------------------------+------------------+-----------------------------+--------------------+---------------------+-----------------------+----------------------+--------------------+----------------------+------------------------------+----------------------------+------------------------+-------------------+----------------+----------------+-------------------+--------------------+-----------------------+-----------------+---------------------+-------------+-------------+--------------+---------------+--------------------+---------+----------------+-----------+-----------------------+-----------------------+----------+-------------------+-----------------+--------------------------+----------+----------------+-------------------+-------------------+-----------+----------+----------------------+--------------------+---------------------+-----------+--------------------------+----------------------------+-------------------------------+------------------------+------------------------+--------------------------+------------------------+--------------------------+----------------------------+------------------+------------------------+-------------------+-------------------+---------------------------+-----------------+-------------------+-----------------+-------------------------------+--------------------+---------------------+------------------+----------------+--------------------+--------------------------+----------------+--------------------------+--------------------+-------------+----------------+--------------------+-------------------+--------+---------------------+-------------------------+--------------------------+--------------+--------------------+--------------------+----------------+-------------+-------------------------+-----------------------+---------------------+--------------------+\n",
            "|customer_id|address_priority_number|address_sequence_id|residence_type|         street_name|address_outdoor_id|address_without_number_type|address_indoor_id|indoor_number|address_district_name|   address_town_name|address_department_name|zipcode_id|long_zipcode_id|province_id|address_country_id|other_information_desc|address_relationship_type|address_start_date|address_verified_date|customer_locator_verified_type|address_status_mod_date|contact_channel_type|sender_application_id|returned_mail_type|normalization_status_type|normalization_reason_name|normalization_date|normalized_level_match_number|dlvy_day_monday_type|dlvy_day_tuesday_type|dlvy_day_wednesday_type|dlvy_day_thursday_type|dlvy_day_friday_type|dlvy_day_saturday_type|delivery_contact_start_hm_date|delivery_contact_end_hm_date|prev_address_sequence_id|registry_entry_date|register_user_id|last_change_date|last_change_user_id|last_change_hms_date|last_change_terminal_id|registration_type|operational_load_date|personal_type|  personal_id|admission_date|sale_channel_id|operation_channel_id|branch_id|business_area_id|campaing_id|customer_situation_type|customer_condition_type|manager_id|tracking_manager_id|credit_manager_id|credit_recovery_manager_id| last_name|second_last_name|         first_name|marital_status_type|gender_type|birth_date|country_nationality_id|residence_country_id|customer_subject_type|sector_type|customer_level_access_type|cust_bcra_econ_activity_type|internal_economic_activity_type|bbva_inhabilitation_type|customer_block_bbva_date|customer_unblock_bbva_date|customer_block_bcra_date|customer_unblock_bcra_date|customer_pending_notice_type|last_notice_number|last_reference_number_id|last_service_number|last_address_number|last_unlinking_account_date|customer_end_date|last_change_user_id|customer_pep_type|bbva_family_lnk_weighted_number|customer_status_type|scoring_activity_type|refinancing_number|refinancing_date|coholder_customer_id|customer_bcra_situation_id|customer_cuit_id|customer_position_vat_type|balance_closing_date|profession_id|bbva_cust_number|customer_linked_type|customer_entry_type|job_type|profession_start_date|customer_first_block_date|customer_registration_date|l_c_d_customer|last_change_hms_date|register_terminal_id|register_user_id|customer_type|customer_seniority_number|last_status_change_date|operational_load_date|       job_type_desc|\n",
            "+-----------+-----------------------+-------------------+--------------+--------------------+------------------+---------------------------+-----------------+-------------+---------------------+--------------------+-----------------------+----------+---------------+-----------+------------------+----------------------+-------------------------+------------------+---------------------+------------------------------+-----------------------+--------------------+---------------------+------------------+-------------------------+-------------------------+------------------+-----------------------------+--------------------+---------------------+-----------------------+----------------------+--------------------+----------------------+------------------------------+----------------------------+------------------------+-------------------+----------------+----------------+-------------------+--------------------+-----------------------+-----------------+---------------------+-------------+-------------+--------------+---------------+--------------------+---------+----------------+-----------+-----------------------+-----------------------+----------+-------------------+-----------------+--------------------------+----------+----------------+-------------------+-------------------+-----------+----------+----------------------+--------------------+---------------------+-----------+--------------------------+----------------------------+-------------------------------+------------------------+------------------------+--------------------------+------------------------+--------------------------+----------------------------+------------------+------------------------+-------------------+-------------------+---------------------------+-----------------+-------------------+-----------------+-------------------------------+--------------------+---------------------+------------------+----------------+--------------------+--------------------------+----------------+--------------------------+--------------------+-------------+----------------+--------------------+-------------------+--------+---------------------+-------------------------+--------------------------+--------------+--------------------+--------------------+----------------+-------------+-------------------------+-----------------------+---------------------+--------------------+\n",
            "|   07867437|                      1|                  0|            06|ALTE FRANCISCO SE...|           0001971|                          N|         PB      |      3      |                  ...|CIUDAD AUTONOMA B...|   CAPITAL FEDERAL  ...|     01416|       C1416BXQ|         01|               080|                   ...|                        0|              null|                 null|                    NO VERIF  |             2009-01-26|                  00|                 CTES|                 0|               NORM AUTO |               CO        |        2009-01-26|                         0.00|                    |                     |                       |                      |                    |                      |                          0000|                        0000|                       0|         2009-01-26|        PCLE07Q |      2009-01-26|           PCLE07Q |              155342|                   BAT |                -| 2022-01-13 21:32:...|           00|0000022367134|    2007-07-10|          10000|                    |      143|              34|          0|                      1|                      1|       489|                   |                 |                          |    KATTAN|                |    ALBERTO GERARDO|                  1|          M|1971-08-10|                    80|                 080|                  201|        100|                         0|                          82|                       21101000|                       0|                    null|                      null|                    null|                      null|                           0|                 0|                       0|                  0|                  1|                       null|             null|            PCLE06R|                0|                              1|                  PO|                   47|              null|            null|                    |                      null|   0023223671349|                       042|                null|          016|       007867437|                   N|                   |     001|           2009-01-01|                     null|                2007-07-10|    2008-05-02|              181547|                P37B|          VUELCO|            S|                     null|                   null| 2022-03-10 01:05:...|REL.DEPENDENCIA/FIJO|\n",
            "|   06813266|                      1|                  0|            06|EL TORDO         ...|           0000866|                          N|                 |             |                  ...|ITUZAINGO        ...|   ITUZAINGO        ...|     01714|       B1714PDJ|         02|               080|                   ...|                        0|              null|                 null|                    NO VERIF  |             2009-01-26|                  00|                 CTES|                 0|               NORM AUTO |               CO        |        2009-01-26|                         0.00|                    |                     |                       |                      |                    |                      |                          0000|                        0000|                       0|         2009-01-26|        PCLE07Q |      2009-01-26|           PCLE07Q |              155342|                   BAT |                -| 2022-01-13 21:32:...|           00|0000013343738|    2006-02-22|          10000|                    |      418|              34|          0|                      1|                      1|       139|                   |                 |                          |   FERRERO|                |       ISIDRO ROQUE|                  1|          M|1959-02-06|                    80|                 080|                  201|        100|                         0|                          82|                       21101000|                       0|                    null|                      null|                    null|                      null|                            |                 0|                       0|                  0|                  1|                       null|             null|            PCLE02P|                0|                              1|                  CA|                   47|              null|            null|                    |                      null|   0020133437380|                       043|                null|          016|       006813266|                   N|                   |     001|           2009-01-01|                     null|                2006-02-22|    2008-11-10|              145508|                P37B|          VUELCO|            S|                     null|                   null| 2022-03-10 01:05:...|REL.DEPENDENCIA/FIJO|\n",
            "|   28028529|                      1|                  0|            06|AMENEDO          ...|           0000302|                          N|                 |             | ALMIRANTE BROWN  ...|ADROGUE          ...|   ALMIRANTE BROWN  ...|     01846|       B1846DGH|         02|               080|                   ...|                        0|              null|                 null|                    NO VERIF  |             2009-01-26|                  00|                 CTES|                 0|               NORM AUTO |               CO        |        2009-01-26|                         0.00|                    |                     |                       |                      |                    |                      |                          0000|                        0000|                       0|         2009-01-26|        PCLE07Q |      2009-01-26|           PCLE07Q |              155342|                   BAT |                -| 2022-01-13 21:32:...|           00|0000039730521|    2021-08-24|          10000|                  01|      995|              34|          0|                      1|                      8|      2603|                   |             PVTA|                          |    ZURITA|                |             CARLOS|                  5|          M|1996-04-27|                    80|                 080|                  201|        100|                         0|                          82|                       21101000|                       0|                    null|                      null|                    null|                      null|                           0|                 0|                       0|                  0|                  0|                       null|             null|            PCLE06R|                1|                              1|                  PO|                    4|              null|            null|                    |                      null|   0000000000000|                       042|                null|          016|       028028529|                   N|                 MD|     001|           2021-08-24|                     null|                2021-08-24|    2021-08-24|              172924|                P37B|        VW2CEVA0|            S|                     null|                   null| 2022-03-10 01:05:...|REL.DEPENDENCIA/FIJO|\n",
            "|   28366580|                      1|                  1|            06|INCA AAA         ...|           0000155|                          N|                 |             |                  ...|LLAVALLOL        ...|   112233114455     ...|     01836|               |         03|                  |                   ...|                        7|              null|                 null|                              |                   null|                    |                     |                  |                         |                         |              null|                         0.07|                    |                     |                       |                      |                    |                      |                          0007|                        0007|                       7|               null|                |            null|                   |                    |                       |                -| 2022-01-13 21:32:...|           00|0000039786049|    2022-01-11|          10000|                  00|       82|              34|          0|                      1|                      1|       234|                080|                 |                          |  BEATRICE|                |   SEBASTIAN DANIEL|                  5|          M|1996-08-03|                    80|                 080|                  201|        100|                         0|                          82|                       21101000|                       0|                    null|                      null|                    null|                      null|                           0|                 2|                       0|                  0|                  2|                       null|             null|            PCLE06R|                2|                              2|                  AC|                   47|              null|            null|                    |                      null|   0020397860494|                       042|                null|          016|       028366580|                   N|                   |     001|           2022-01-20|                     null|                2022-01-11|    2022-01-25|              204956|                BATC|         PCLE510|            N|                     null|                   null| 2022-03-10 01:05:...|REL.DEPENDENCIA/FIJO|\n",
            "|   28366580|                      1|                  1|            05|INCA             ...|           0000155|                          N|                 |             |                  ...|LLAVALLOL        ...|   LOMAS DE ZAMORA  ...|     01836|       B1836BBC|         02|               080|                   ...|                        0|              null|                 null|                    DECLARADO |             2008-12-12|                  01|                 CTES|                 1|               NORM AUTO |               CO        |        2008-12-12|                         0.17|                   X|                    X|                      X|                     X|                   X|                     X|                          1400|                        1600|                       0|         2008-12-12|        E023466 |      2011-07-01|           PCLE05T |              144535|                   M921|                -| 2022-01-13 21:32:...|           00|0000039786049|    2022-01-11|          10000|                  00|       82|              34|          0|                      1|                      1|       234|                080|                 |                          |  BEATRICE|                |   SEBASTIAN DANIEL|                  5|          M|1996-08-03|                    80|                 080|                  201|        100|                         0|                          82|                       21101000|                       0|                    null|                      null|                    null|                      null|                           0|                 2|                       0|                  0|                  2|                       null|             null|            PCLE06R|                2|                              2|                  AC|                   47|              null|            null|                    |                      null|   0020397860494|                       042|                null|          016|       028366580|                   N|                   |     001|           2022-01-20|                     null|                2022-01-11|    2022-01-25|              204956|                BATC|         PCLE510|            N|                     null|                   null| 2022-03-10 01:05:...|REL.DEPENDENCIA/FIJO|\n",
            "|   02746969|                      1|                  0|            06|MERCEDES         ...|           0004364|                          N|         6       |      P      |                  ...|CIUDAD AUTONOMA B...|   CAPITAL FEDERAL  ...|     01419|       C1419BGP|         01|               080|                   ...|                        0|              null|                 null|                    NO VERIF  |             2009-01-26|                  00|                 CTES|                 0|               NORM AUTO |               CO        |        2009-01-26|                         0.00|                    |                     |                       |                      |                    |                      |                          0000|                        0000|                       0|         2009-01-26|        PCLE07Q |      2009-01-26|           PCLE07Q |              155342|                   BAT |                -| 2022-01-13 21:32:...|           00|0000025684535|    2010-10-21|          10000|                  00|       74|              34|          0|                      1|                      1|       192|                   |                 |                          |      RUIZ|                |RUIZ MIRIAM LILIANA|                  1|          F|1977-01-01|                    80|                 080|                  201|        100|                         0|                          82|                       21101000|                       0|                    null|                      null|                    null|                      null|                           0|                 0|                       0|                  0|                  1|                       null|             null|            PCLE06R|                1|                              1|                  PO|                   47|              null|            null|                    |                      null|   0027256845356|                       042|                null|          016|       002746969|                   N|                   |     001|           2010-10-21|                     null|                2010-10-21|    2010-10-21|              162741|                P37B|          VUELCO|            S|                     null|                   null| 2022-03-10 01:05:...|REL.DEPENDENCIA/FIJO|\n",
            "|   23441482|                      1|                  0|            06|AV 39            ...|           0005146|                          N|                 |             |                  ...|PLATANOS         ...|   BERAZATEGUI      ...|     01885|       B1861CIP|         02|               080|                   ...|                        0|              null|                 null|                    NO VERIF  |             2008-07-16|                  00|                 CTES|                 1|               NORM AUTO |               CO        |        2008-07-16|                         0.00|                    |                     |                       |                      |                    |                      |                          0000|                        0000|                       0|         2008-07-16|        PCLE510 |      2011-07-01|           PCLE05T |              144535|                   B   |                -| 2022-01-13 21:32:...|           00|0000038990587|    2016-12-22|          10000|                  00|      302|              34|          0|                      1|                      1|       591|                   |                 |                          |    ACOSTA|                |      FRANCO LEONEL|                  5|          M|1995-09-10|                    80|                 080|                  201|        100|                         0|                          82|                       21101000|                       0|                    null|                      null|                    null|                      null|                            |                 0|                       0|                  0|                  2|                       null|             null|            PCLE06R|                2|                              1|                  CA|                   47|              null|            null|                    |                      null|   0023389905879|                       042|                null|          007|       023441482|                   N|                   |     001|           2017-01-04|                     null|                2016-12-22|    2017-01-04|              035408|                P37B|         PCLE510|            S|                     null|             2017-01-04| 2022-03-10 01:05:...|REL.DEPENDENCIA/FIJO|\n",
            "|   25935956|                      1|                  0|            06|AV FERNANDEZ DE L...|           0001602|                          N|                 |             |                  ...|CIUDAD AUTONOMA B...|   CAPITAL FEDERAL  ...|     01437|       C1437GYV|         01|               080|                   ...|                        0|              null|                 null|                    NO VERIF  |             2009-01-26|                  00|                 CTES|                 0|               NORM AUTO |               CO        |        2009-01-26|                         0.00|                    |                     |                       |                      |                    |                      |                          0000|                        0000|                       0|         2009-01-26|        PCLE07Q |      2009-01-26|           PCLE07Q |              155342|                   BAT |                -| 2022-01-13 21:32:...|           00|0000036876523|    2019-06-24|          10000|                  01|       75|              30|          0|                      1|                      1|       200|                080|             PVTA|                          |   BUIATTI|                | VERONICA ESTEFANIA|                  5|          F|1992-05-12|                    80|                 080|                  201|        100|                         0|                          82|                       21101000|                       0|                    null|                      null|                    null|                      null|                           2|                30|                       0|                  0|                  1|                       null|             null|            PCLE02P|                2|                              3|                  AC|                    4|              null|            null|                    |                      null|   0027368765231|                       042|                null|          016|       025935956|                   N|                   |     001|           2019-06-24|                     null|                2019-06-24|    2022-01-20|              230746|                BATC|        VW2CEVA0|            N|                     null|                   null| 2022-03-10 01:05:...|REL.DEPENDENCIA/FIJO|\n",
            "|   01957163|                      1|                  0|            06|JOSE M DE MINOGUY...|           0001748|                          N|                 |             |                  ...|HURLINGHAM       ...|   HURLINGHAM       ...|     01686|       B1686CFB|         02|               080|                   ...|                        0|              null|                 null|                    NO VERIF  |             2009-01-26|                  00|                 CTES|                 0|               NORM AUTO |               CO        |        2009-01-26|                         0.00|                    |                     |                       |                      |                    |                      |                          0000|                        0000|                       0|         2009-01-26|        PCLE510 |      2009-01-26|           PCLE510 |              134000|                   B   |                -| 2022-01-13 21:32:...|           00|0000016394256|    2010-01-22|          10000|                  01|      136|              34|          0|                      1|                      1|       461|                   |                 |                          |PALAVECINO|                |      NELIDA ANGELI|                  5|          F|1963-10-20|                    80|                 080|                  201|        100|                         0|                          82|                       21101000|                       0|                    null|                      null|                    null|                      null|                           0|                 0|                       0|                  0|                  1|                       null|             null|            PCLE06R|                2|                              1|                  PO|                   47|              null|            null|                    |                      null|   0027163942564|                       042|                null|          016|       001957163|                   N|                   |     001|           2010-01-22|                     null|                2010-01-22|    2010-01-22|              121626|                P37B|          VUELCO|            S|                     null|                   null| 2022-03-10 01:05:...|REL.DEPENDENCIA/FIJO|\n",
            "|   06338965|                      1|                  0|            06|MADERO DR FRANCIS...|           0001125|                          N|                 |             |                  ...|ACASSUSO         ...|   112233114455     ...|     01641|               |         02|               080|                   ...|                        0|              null|                 null|                    NO VERIF  |             2009-01-26|                  00|                 CTES|                 0|               NORM USU  |               NECI      |        2009-01-26|                         0.00|                    |                     |                       |                      |                    |                      |                          0000|                        0000|                       0|         2009-01-26|        PCLE07Q |      2009-01-26|           PCLE07Q |              155342|                   BAT |                -| 2022-01-13 21:32:...|           00|0000030036232|    2004-04-29|          10000|                  01|      341|              34|          0|                      1|                      1|       639|                   |                 |                          |     LOPEZ|                |     LUCIANO MARTIN|                  5|          F|1982-12-28|                    80|                 080|                  201|        100|                         0|                          82|                       21101000|                       0|                    null|                      null|                    null|                      null|                            |                 0|                       0|                  0|                  1|                       null|             null|            PCLE06R|                0|                              1|                  CA|                   36|              null|            null|                    |                      null|   0027300362325|                       042|                null|          007|       006338965|                   N|                   |     001|           2009-01-01|                     null|                2004-04-29|    2005-12-23|              093844|                P37B|          VUELCO|            S|                     null|                   null| 2022-03-10 01:05:...|REL.DEPENDENCIA/FIJO|\n",
            "|   26205399|                      1|                  0|            06|SUIPACHA         ...|           0001081|                          N|                 |             |                  ...|SAN FRANCISCO    ...|   SAN JUSTO        ...|     02400|       X2400EOU|         04|               080|                   ...|                        0|              null|                 null|                    NO VERIF  |             2009-01-26|                  00|                 CTES|                 0|               NORM AUTO |               CO        |        2009-01-26|                         0.00|                    |                     |                       |                      |                    |                      |                          0000|                        0000|                       0|         2009-01-26|        PCLE510 |      2009-01-26|           PCLE510 |              134000|                   B   |                -| 2022-01-13 21:32:...|           00|0000038866205|    2019-08-30|          10000|                  01|      995|              34|          0|                      1|                      8|      2603|                   |             PVTA|                          |   VAZQUEZ|                |         JUAN PABLO|                  5|          M|1995-05-05|                    80|                 080|                  201|        100|                         0|                          82|                       21101000|                       0|                    null|                      null|                    null|                      null|                           0|                 0|                       0|                  0|                  0|                       null|             null|            PCLE06R|                1|                              1|                  PO|                    4|              null|            null|                    |                      null|   0000000000000|                       042|                null|          016|       026205399|                   N|                 MD|     001|           2019-08-30|                     null|                2019-08-30|    2019-08-30|              092342|                P37B|        VW2CEVA0|            S|                     null|                   null| 2022-03-10 01:05:...|REL.DEPENDENCIA/FIJO|\n",
            "|   03933825|                      1|                  0|            06|HENRY DUNANT     ...|           0001649|                          N|                 |             |                  ...|ITUZAINGO        ...|   ITUZAINGO        ...|     01714|       B1714HBU|         02|               080|                   ...|                        0|              null|                 null|                    NO VERIF  |             2009-01-26|                  00|                 CTES|                 0|               NORM AUTO |               CO        |        2009-01-26|                         0.00|                    |                     |                       |                      |                    |                      |                          0000|                        0000|                       0|         2009-01-26|        PCLE07Q |      2009-01-26|           PCLE07Q |              155342|                   BAT |                -| 2022-01-13 21:32:...|           00|0000025583974|    2011-07-13|          10000|                  00|      177|              34|          0|                      1|                      1|       600|                   |                 |                          |      SOSA|                |      MARIA CECILIA|                  1|          F|1977-08-04|                    80|                 080|                  201|        100|                         0|                          82|                       21101000|                       0|                    null|                      null|                    null|                      null|                           0|                 0|                       0|                  0|                  1|                       null|             null|            PCLE06R|                1|                              1|                  PO|                   47|              null|            null|                    |                      null|   0027255839743|                       042|                null|          016|       003933825|                   N|                   |     001|           2011-07-13|                     null|                2011-07-13|    2011-07-13|              161542|                P37B|         PCLE10P|            S|                     null|                   null| 2022-03-10 01:05:...|REL.DEPENDENCIA/FIJO|\n",
            "|   02568856|                      1|                  0|            06|CLAUDIO MAMERTO C...|           0003729|                          N|                 |             |                  ...|CIUDAD AUTONOMA B...|   CAPITAL FEDERAL  ...|     01419|       C1419AAE|         01|               080|                   ...|                        0|              null|                 null|                    NO VERIF  |             2009-01-26|                  00|                 CTES|                 0|               NORM AUTO |               CO        |        2009-01-26|                         0.00|                    |                     |                       |                      |                    |                      |                          0000|                        0000|                       0|         2009-01-26|        PCLE07Q |      2009-01-26|           PCLE07Q |              155342|                   BAT |                -| 2022-01-13 21:32:...|           00|0000017440976|    2010-08-12|          10000|                  00|      223|              34|          0|                      1|                      1|       729|                   |                 |                          |     ARIAS|                |  PATRICIA GRACIELA|                  1|          F|1965-08-04|                    80|                 080|                  201|        100|                         0|                          82|                       21101000|                       0|                    null|                      null|                    null|                      null|                           0|                 0|                       0|                  0|                  1|                       null|             null|            PCLE06R|                1|                              1|                  PO|                   47|              null|            null|                    |                      null|   0027174409760|                       042|                null|          016|       002568856|                   N|                   |     001|           2010-08-12|                     null|                2010-08-12|    2010-08-12|              163210|                P37B|          VUELCO|            S|                     null|                   null| 2022-03-10 01:05:...|REL.DEPENDENCIA/FIJO|\n",
            "|   04348412|                      1|                  0|            06|MANUEL DE SARRATE...|           0003551|                          N|                 |             |                  ...|VILLA MARTELLI   ...|   VICENTE LOPEZ    ...|     01603|       B1603BQA|         02|               080|                   ...|                        0|              null|                 null|                    NO VERIF  |             2009-01-26|                  00|                 CTES|                 0|               NORM AUTO |               CO        |        2009-01-26|                         0.00|                    |                     |                       |                      |                    |                      |                          0000|                        0000|                       0|         2009-01-26|        PCLE07Q |      2009-01-26|           PCLE07Q |              155342|                   BAT |                -| 2022-01-13 21:32:...|           26|0000000046479|    1998-08-28|          10000|                  01|      999|              34|          0|                      1|                      1|       901|                   |                 |                          |  MASLATON|                |             RAQUEL|                  1|          F|1929-10-06|                    80|                 080|                  201|        100|                         0|                          82|                       21101000|                       0|                    null|                      null|                    null|                      null|                            |                 0|                       0|                  0|                  0|                       null|             null|            PCLE06R|                0|                              1|                  CA|                   47|              null|            null|                    |                      null|   0027000464797|                       042|                null|          016|       004348412|                   N|                   |     001|           2009-01-01|                     null|                1998-08-28|    1998-08-28|              082606|                P37B|          VUELCO|            S|                     null|                   null| 2022-03-10 01:05:...|REL.DEPENDENCIA/FIJO|\n",
            "|   02382514|                      1|                  0|            06|FRAY JOSE W ACHAV...|           0002550|                          N|         PA      |             |                  ...|REMEDIOS DE ESCAL...|   LANUS            ...|     01826|       B1826CPH|         02|               080|                   ...|                        0|              null|                 null|                    NO VERIF  |             2009-01-26|                  00|                 CTES|                 0|               NORM AUTO |               CO        |        2009-01-26|                         0.00|                    |                     |                       |                      |                    |                      |                          0000|                        0000|                       0|         2009-01-26|        PCLE07Q |      2009-01-26|           PCLE07Q |              155342|                   BAT |                -| 2022-01-13 21:32:...|           00|0000038008979|    2010-04-23|          10000|                  00|      325|              34|          0|                      1|                      1|       619|                   |                 |                          |  MOLINARI|                |   ELIZABETH NATALI|                  5|          F|1993-02-27|                    80|                 080|                  201|        100|                         0|                          82|                       21101000|                       0|                    null|                      null|                    null|                      null|                            |                 0|                       0|                  0|                  2|                       null|             null|            PCLE861|                2|                              1|                  CA|                   47|              null|            null|                    |                      null|   0027380089799|                       042|                null|          016|       002382514|                   N|                   |     001|           2010-06-15|                     null|                2010-04-23|    2010-06-15|              044125|                P37B|          VUELCO|            S|                     null|                   null| 2022-03-10 01:05:...|REL.DEPENDENCIA/FIJO|\n",
            "|   03342631|                      1|                  0|            06|GRAL OBLIGADO    ...|           0000325|                          N|                 |             |                  ...|RESISTENCIA      ...|                    ...|     03500|               |         06|               080|                   ...|                        0|              null|                 null|                    NO VERIF  |             2007-12-21|                  00|                 VLCO|                 0|               NO NORM   |                         |              null|                         0.00|                    |                     |                       |                      |                    |                      |                          0000|                        0000|                       0|         1996-11-30|                |      1996-11-30|           CONV    |              173926|                   FUSI|                -| 2022-01-13 21:32:...|           00|0000017370947|    1993-06-08|          20050|                  01|      117|              30|          0|                      1|                      1|      4572|                   |                 |                          |    GINACA|                |       JOSE ANTONIO|                  5|          M|1965-06-08|                    80|                 080|                  201|        100|                          |                          82|                       21101000|                       0|                    null|                      null|                    null|                      null|                           2|                29|                       0|                  0|                  6|                       null|             null|            PCLE861|                2|                              1|                  AC|                   46|              null|            null|                    |                        21|   0020173709472|                       042|                null|          013|       000640077|                   N|                   |     001|           2010-06-25|                     null|                1993-06-08|    2022-02-21|              052701|                   B|          VUELCO|            N|                     null|             2015-06-01| 2022-03-10 01:05:...|REL.DEPENDENCIA/FIJO|\n",
            "|   21241089|                      1|                  0|            06|EL SALVADOR      ...|           0005751|                          N|         3       |             |                  ...|CIUDAD AUTONOMA B...|   CAPITAL FEDERAL  ...|     01414|       C1414BQG|         01|               080|                   ...|                        0|              null|                 null|                    NO VERIF  |             2009-01-26|                  00|                 CTES|                 0|               NORM AUTO |               CO        |        2009-01-26|                         0.00|                    |                     |                       |                      |                    |                      |                          0000|                        0000|                       0|         2009-01-26|        PCLE07Q |      2009-01-26|           PCLE07Q |              155342|                   BAT |                -| 2022-01-13 21:32:...|           00|0000013143653|    2015-03-17|          10000|                  00|      603|              34|          0|                      1|                      8|      2603|                   |                 |                          |   ENRIQUE|                |          RAUL ABEL|                  1|          M|1957-07-18|                    80|                 080|                  201|        100|                         0|                          82|                       21101000|                       0|                    null|                      null|                    null|                      null|                           0|                 0|                       0|                  0|                  0|                       null|             null|            PCLE06R|                1|                              1|                  PO|                   47|              null|            null|                    |                      null|   0020131436530|                       042|                null|          016|       021241089|                   N|                 MD|     001|           2015-03-17|                     null|                2015-03-17|    2015-03-17|              230125|                P37B|         PCLE25H|            S|                     null|                   null| 2022-03-10 01:05:...|REL.DEPENDENCIA/FIJO|\n",
            "|   00731569|                      1|                  0|            06|BLANCO ENCALADA  ...|           0002851|                          N|         5       |      H      |                  ...|CIUDAD AUTONOMA B...|   CAPITAL FEDERAL  ...|     01428|       C1428DDU|         01|               080|                   ...|                        0|              null|                 null|                    NO VERIF  |             2009-01-26|                  00|                 CTES|                 0|               NORM AUTO |               CO        |        2009-01-26|                         0.00|                    |                     |                       |                      |                    |                      |                          0000|                        0000|                       0|         2009-01-26|        PCLE07Q |      2009-01-26|           PCLE07Q |              155342|                   BAT |                -| 2022-01-13 21:32:...|           00|0000013144821|    1996-04-23|          10000|                    |      321|              30|          0|                      1|                      1|      4631|                   |                 |                          |      SOSA|                |             ADOLFO|                  5|          M|1959-07-04|                    80|                 080|                  201|        100|                         0|                          82|                       21101000|                       0|                    null|                      null|                    null|                      null|                           2|                17|                       0|                  0|                  3|                       null|             null|            PCLE825|                2|                              1|                  AC|                   35|              null|            null|                    |                        21|   0020131448210|                       042|                null|          007|                |                   N|                   |     001|           2009-10-19|                     null|                1996-04-23|    2022-02-21|              125638|                   B|          VUELCO|            N|                     null|             2016-07-15| 2022-03-10 01:05:...|REL.DEPENDENCIA/FIJO|\n",
            "|   26919628|                      1|                  0|            06|GAONA            ...|           0001402|                          N|                 |             |                  ...|BANFIELD         ...|   LOMAS DE ZAMORA  ...|     01828|       B1828EAD|         02|               080|                   ...|                        0|              null|                 null|                    NO VERIF  |             2009-01-26|                  00|                 CTES|                 0|               NORM AUTO |               CO        |        2009-01-26|                         0.00|                    |                     |                       |                      |                    |                      |                          0000|                        0000|                       0|         2009-01-26|        PCLE07Q |      2009-01-26|           PCLE07Q |              155342|                   BAT |                -| 2022-01-13 21:32:...|           00|0000039771587|    2020-05-27|          10000|                  01|      136|              34|          0|                      1|                      1|       479|                080|                 |                          |   SEGOVIA|                |      TAMARA NICOLE|                  5|          F|1996-03-06|                    80|                 080|                  201|        100|                         0|                          82|                       22999000|                       0|                    null|                      null|                    null|                      null|                            |                28|                       0|                  0|                  1|                       null|             null|            PCLE06M|                2|                              2|                  AC|                   50|              null|            null|                    |                      null|   0027397715871|                       042|                null|          036|       026919628|                   N|                   |     004|           2020-07-22|                     null|                2020-05-27|    2020-11-16|              194645|                P37B|         PCLE15W|            N|                     null|             2020-07-22| 2022-03-10 01:05:...|                   -|\n",
            "|   24856730|                      1|                  0|            06|AV CORDOBA       ...|           0002122|                          N|                 |             |                  ...|CIUDAD AUTONOMA B...|   CAPITAL FEDERAL  ...|     01120|       C1120AAQ|         01|               080|                   ...|                        0|              null|                 null|                    NO VERIF  |             2009-01-26|                  00|                 CTES|                 0|               NORM AUTO |               CO        |        2009-01-26|                         0.00|                    |                     |                       |                      |                    |                      |                          0000|                        0000|                       0|         2009-01-26|        PCLE07Q |      2009-01-26|           PCLE07Q |              155342|                   BAT |                -| 2022-01-13 21:32:...|           00|0000036643239|    2018-10-22|          10000|                  00|      603|              34|          0|                      1|                      8|      2603|                   |                 |                          |    ZANDRI|                |      MATIAS DANIEL|                  1|          M|1992-08-27|                    80|                 080|                  201|        100|                         0|                          82|                       21101000|                       0|                    null|                      null|                    null|                      null|                           0|                 0|                       0|                  0|                  0|                       null|             null|            PCLE06R|                1|                              1|                  PO|                   47|              null|            null|                    |                      null|   0020366432397|                       042|                null|          016|       024856730|                   N|                 MD|     001|           2018-10-22|                     null|                2018-10-22|    2018-10-22|              003147|                P37B|         PCLE25H|            S|                     null|                   null| 2022-03-10 01:05:...|REL.DEPENDENCIA/FIJO|\n",
            "+-----------+-----------------------+-------------------+--------------+--------------------+------------------+---------------------------+-----------------+-------------+---------------------+--------------------+-----------------------+----------+---------------+-----------+------------------+----------------------+-------------------------+------------------+---------------------+------------------------------+-----------------------+--------------------+---------------------+------------------+-------------------------+-------------------------+------------------+-----------------------------+--------------------+---------------------+-----------------------+----------------------+--------------------+----------------------+------------------------------+----------------------------+------------------------+-------------------+----------------+----------------+-------------------+--------------------+-----------------------+-----------------+---------------------+-------------+-------------+--------------+---------------+--------------------+---------+----------------+-----------+-----------------------+-----------------------+----------+-------------------+-----------------+--------------------------+----------+----------------+-------------------+-------------------+-----------+----------+----------------------+--------------------+---------------------+-----------+--------------------------+----------------------------+-------------------------------+------------------------+------------------------+--------------------------+------------------------+--------------------------+----------------------------+------------------+------------------------+-------------------+-------------------+---------------------------+-----------------+-------------------+-----------------+-------------------------------+--------------------+---------------------+------------------+----------------+--------------------+--------------------------+----------------+--------------------------+--------------------+-------------+----------------+--------------------+-------------------+--------+---------------------+-------------------------+--------------------------+--------------+--------------------+--------------------+----------------+-------------+-------------------------+-----------------------+---------------------+--------------------+\n",
            "only showing top 20 rows\n",
            "\n"
          ]
        }
      ]
    },
    {
      "cell_type": "markdown",
      "source": [
        "### - 26 - Extraccion de datos desde .parquet, clientes y correos electrónicos\n",
        "#### Crear un DataFrame que contenga el JOIN de la tabla t_abtq_customer_basics y tabla t_abtq_customer_email.   "
      ],
      "metadata": {
        "id": "D0SjaTWftWxp"
      }
    },
    {
      "cell_type": "code",
      "source": [
        "df_customer_emails = df_emails.join(df_customer, 'customer_id')"
      ],
      "metadata": {
        "id": "MFOQeJsFkBVb"
      },
      "execution_count": null,
      "outputs": []
    },
    {
      "cell_type": "code",
      "source": [
        "df_customer_emails.show()"
      ],
      "metadata": {
        "id": "KQdpYwwzaoop",
        "colab": {
          "base_uri": "https://localhost:8080/"
        },
        "outputId": "54990e08-88fc-4d3f-aaab-1777d690ab1f"
      },
      "execution_count": null,
      "outputs": [
        {
          "output_type": "stream",
          "name": "stdout",
          "text": [
            "+-----------+---------+-------------------+--------------+----------+------------------+--------------------+-----------------+--------------+-------------------+----------------+--------------------------+--------------+----------------+-------------------+--------------------+-----------------------+---------------------+--------------------------+-------------------+----------------+-------------+-------------+--------------+---------------+--------------------+---------+----------------+-----------+-----------------------+-----------------------+----------+-------------------+-----------------+--------------------------+------------------+----------------+-----------------+-------------------+-----------+----------+----------------------+--------------------+---------------------+-----------+--------------------------+----------------------------+-------------------------------+------------------------+------------------------+--------------------------+------------------------+--------------------------+----------------------------+------------------+------------------------+-------------------+-------------------+---------------------------+-----------------+-------------------+-----------------+-------------------------------+--------------------+---------------------+------------------+----------------+--------------------+--------------------------+----------------+--------------------------+--------------------+-------------+----------------+--------------------+-------------------+--------+---------------------+-------------------------+--------------------------+--------------+--------------------+--------------------+----------------+-------------+-------------------------+-----------------------+---------------------+--------------------+\n",
            "|customer_id|role_type|address_sequence_id|residence_type|email_type|primary_email_type|          email_desc|email_domain_type|encripted_type|field_length_number|   comments_desc|customer_email_status_type|email_app_type|register_user_id|last_change_user_id|last_change_hms_date|last_change_terminal_id|operational_load_date|customer_email_status_date|registry_entry_date|last_change_date|personal_type|  personal_id|admission_date|sale_channel_id|operation_channel_id|branch_id|business_area_id|campaing_id|customer_situation_type|customer_condition_type|manager_id|tracking_manager_id|credit_manager_id|credit_recovery_manager_id|         last_name|second_last_name|       first_name|marital_status_type|gender_type|birth_date|country_nationality_id|residence_country_id|customer_subject_type|sector_type|customer_level_access_type|cust_bcra_econ_activity_type|internal_economic_activity_type|bbva_inhabilitation_type|customer_block_bbva_date|customer_unblock_bbva_date|customer_block_bcra_date|customer_unblock_bcra_date|customer_pending_notice_type|last_notice_number|last_reference_number_id|last_service_number|last_address_number|last_unlinking_account_date|customer_end_date|last_change_user_id|customer_pep_type|bbva_family_lnk_weighted_number|customer_status_type|scoring_activity_type|refinancing_number|refinancing_date|coholder_customer_id|customer_bcra_situation_id|customer_cuit_id|customer_position_vat_type|balance_closing_date|profession_id|bbva_cust_number|customer_linked_type|customer_entry_type|job_type|profession_start_date|customer_first_block_date|customer_registration_date|l_c_d_customer|last_change_hms_date|register_terminal_id|register_user_id|customer_type|customer_seniority_number|last_status_change_date|operational_load_date|       job_type_desc|\n",
            "+-----------+---------+-------------------+--------------+----------+------------------+--------------------+-----------------+--------------+-------------------+----------------+--------------------------+--------------+----------------+-------------------+--------------------+-----------------------+---------------------+--------------------------+-------------------+----------------+-------------+-------------+--------------+---------------+--------------------+---------+----------------+-----------+-----------------------+-----------------------+----------+-------------------+-----------------+--------------------------+------------------+----------------+-----------------+-------------------+-----------+----------+----------------------+--------------------+---------------------+-----------+--------------------------+----------------------------+-------------------------------+------------------------+------------------------+--------------------------+------------------------+--------------------------+----------------------------+------------------+------------------------+-------------------+-------------------+---------------------------+-----------------+-------------------+-----------------+-------------------------------+--------------------+---------------------+------------------+----------------+--------------------+--------------------------+----------------+--------------------------+--------------------+-------------+----------------+--------------------+-------------------+--------+---------------------+-------------------------+--------------------------+--------------+--------------------+--------------------+----------------+-------------+-------------------------+-----------------------+---------------------+--------------------+\n",
            "|   26205399|       CL|                  1|             1|  PERSONAL|                 0|   DIONISI@YAHOO.COM|              COM|              |                 30|                |                 DECLARADO|          CTES|         A115641|            A115641|            14:33:37|                   9776| 2021-12-09 19:39:...|                2019-12-27|         2019-12-27|      2019-12-27|           00|0000038866205|    2019-08-30|          10000|                  01|      995|              34|          0|                      1|                      8|      2603|                   |             PVTA|                          |           VAZQUEZ|                |       JUAN PABLO|                  5|          M|1995-05-05|                    80|                 080|                  201|        100|                         0|                          82|                       21101000|                       0|                    null|                      null|                    null|                      null|                           0|                 0|                       0|                  0|                  0|                       null|             null|            PCLE06R|                1|                              1|                  PO|                    4|              null|            null|                    |                      null|   0000000000000|                       042|                null|          016|       026205399|                   N|                 MD|     001|           2019-08-30|                     null|                2019-08-30|    2019-08-30|              092342|                P37B|        VW2CEVA0|            S|                     null|                   null| 2022-03-10 01:05:...|REL.DEPENDENCIA/FIJO|\n",
            "|   03933825|       CL|                  1|             1|  PERSONAL|                 0|DIGITALIZACION@EE...|              COM|             N|                 30|                |                 DECLARADO|          CTES|          a48751|                   |                    |                   EECC| 2021-12-09 19:39:...|                1900-01-01|         1900-01-01|      1900-01-01|           00|0000025583974|    2011-07-13|          10000|                  00|      177|              34|          0|                      1|                      1|       600|                   |                 |                          |              SOSA|                |    MARIA CECILIA|                  1|          F|1977-08-04|                    80|                 080|                  201|        100|                         0|                          82|                       21101000|                       0|                    null|                      null|                    null|                      null|                           0|                 0|                       0|                  0|                  1|                       null|             null|            PCLE06R|                1|                              1|                  PO|                   47|              null|            null|                    |                      null|   0027255839743|                       042|                null|          016|       003933825|                   N|                   |     001|           2011-07-13|                     null|                2011-07-13|    2011-07-13|              161542|                P37B|         PCLE10P|            S|                     null|                   null| 2022-03-10 01:05:...|REL.DEPENDENCIA/FIJO|\n",
            "|   02382514|       CL|                  1|             2|  PERSONAL|                 0|admin@argenpower....|              com|             N|                 30|VUELCO FRONT END|                  NO VERIF|          VLCO|                |           GPROBANK|            12:00:00|                       | 2021-12-09 19:39:...|                2007-12-12|         2001-12-27|      2002-07-03|           00|0000038008979|    2010-04-23|          10000|                  00|      325|              34|          0|                      1|                      1|       619|                   |                 |                          |          MOLINARI|                | ELIZABETH NATALI|                  5|          F|1993-02-27|                    80|                 080|                  201|        100|                         0|                          82|                       21101000|                       0|                    null|                      null|                    null|                      null|                            |                 0|                       0|                  0|                  2|                       null|             null|            PCLE861|                2|                              1|                  CA|                   47|              null|            null|                    |                      null|   0027380089799|                       042|                null|          016|       002382514|                   N|                   |     001|           2010-06-15|                     null|                2010-04-23|    2010-06-15|              044125|                P37B|          VUELCO|            S|                     null|                   null| 2022-03-10 01:05:...|REL.DEPENDENCIA/FIJO|\n",
            "|   24856730|       CL|                  1|             1|  PERSONAL|                 0|elenafmoores@gmai...|              COM|              |                 30|                |                  VALIDADO|          FNET|                |           GPROBANK|            09:37:40|                   Y34D| 2021-12-09 19:39:...|                2015-02-03|         2005-07-20|      2015-02-03|           00|0000036643239|    2018-10-22|          10000|                  00|      603|              34|          0|                      1|                      8|      2603|                   |                 |                          |            ZANDRI|                |    MATIAS DANIEL|                  1|          M|1992-08-27|                    80|                 080|                  201|        100|                         0|                          82|                       21101000|                       0|                    null|                      null|                    null|                      null|                           0|                 0|                       0|                  0|                  0|                       null|             null|            PCLE06R|                1|                              1|                  PO|                   47|              null|            null|                    |                      null|   0020366432397|                       042|                null|          016|       024856730|                   N|                 MD|     001|           2018-10-22|                     null|                2018-10-22|    2018-10-22|              003147|                P37B|         PCLE25H|            S|                     null|                   null| 2022-03-10 01:05:...|REL.DEPENDENCIA/FIJO|\n",
            "|   21440084|       CL|                  1|             1|  PERSONAL|                 0|ANGEL.MANA@GMAIL.COM|              COM|              |                 30|                |                 DECLARADO|          WKFL|         a110227|            A110227|            17:03:58|                   EECC| 2021-12-09 19:39:...|                2018-08-14|         2018-08-14|      2018-08-14|           00|0000025664035|    2015-04-23|          10000|                  00|      603|              34|          0|                      1|                      8|      2603|                   |                 |                          |             RICCI|                |     PAULA AMANDA|                  1|          F|1976-11-04|                    80|                 080|                  201|        100|                         0|                          82|                       21101000|                       0|                    null|                      null|                    null|                      null|                           0|                 0|                       0|                  0|                  0|                       null|             null|            PCLE06R|                1|                              1|                  PO|                   47|              null|            null|                    |                      null|   0027256640355|                       042|                null|          016|       021440084|                   N|                 MD|     001|           2015-04-23|                     null|                2015-04-23|    2015-04-23|              231348|                P37B|         PCLE25H|            S|                     null|                   null| 2022-03-10 01:05:...|REL.DEPENDENCIA/FIJO|\n",
            "|   22090564|       CL|                  1|             1|  PERSONAL|                 0|alien99@ciudad.co...|              com|             N|                 30|VUELCO FRONT END|                  NO VERIF|          VLCO|                |            PCLE11O|            18:14:49|                       | 2021-12-09 19:39:...|                2007-12-12|         2002-10-15|      2009-06-27|           00|0000037041842|    2015-10-28|          10000|                  01|      603|              34|          0|                      1|                      8|      2603|                   |                 |                          |             NIZZI|                |         FORENCIA|                  5|          F|1992-08-14|                    80|                 080|                  201|        100|                         0|                          82|                       21101000|                       0|                    null|                      null|                    null|                      null|                           0|                 0|                       0|                  0|                  0|                       null|             null|            PCLE06R|                1|                              1|                  PO|                   47|              null|            null|                    |                      null|   0000000000000|                       042|                null|          016|       022090564|                   N|                 MD|     001|           2015-10-28|                     null|                2015-10-28|    2015-10-28|              011009|                P37B|        UPROFRGO|            S|                     null|                   null| 2022-03-10 01:05:...|REL.DEPENDENCIA/FIJO|\n",
            "|   04161701|       CL|                  1|             1|  PERSONAL|                 0|DANIELTUSET79@GMA...|              COM|              |                 30|                |                 DECLARADO|          CTES|         A115866|            A115866|            15:36:23|                   8W03| 2021-12-09 19:39:...|                2017-07-05|         2017-07-05|      2017-07-05|           28|0000001718995|    1998-04-13|          10000|                  01|      116|              34|          0|                      1|                      1|       397|                   |                 |                          |           GHIDINI|                | YOLANDA VIRGINIA|                  2|          F|1935-10-29|                    80|                 080|                  201|        100|                         0|                          82|                       21101000|                       0|                    null|                      null|                    null|                      null|                           0|                 0|                       0|                  0|                  0|                       null|             null|            PCLE25Q|                0|                              1|                  CA|                   47|              null|            null|                    |                      null|   0027017189951|                       042|                null|          016|       004161701|                   N|                   |     001|           2009-01-01|                     null|                1998-04-13|    1998-07-05|              165659|                P37B|          VUELCO|            S|                     null|                   null| 2022-03-10 01:05:...|REL.DEPENDENCIA/FIJO|\n",
            "|   19667033|       CL|                  1|             1|  PERSONAL|                 0|lindocampo@yahoo.com|              com|             N|                 30|VUELCO FRONT END|                  NO VERIF|          VLCO|                |            PCLE11O|            18:14:49|                       | 2021-12-09 19:39:...|                2007-12-12|         2001-07-19|      2009-06-27|           31|0000093738322|    2012-10-18|          10000|                  00|      114|              34|          0|                      1|                      1|       386|                   |                 |                          |QUINTERO FERNANDEZ|                | MARIA DEL CARMEN|                  5|          F|1958-10-19|                    10|                 080|                  201|        100|                         0|                          82|                       21101000|                       0|                    null|                      null|                    null|                      null|                            |                 0|                       0|                  0|                  2|                       null|             null|            PCLE06R|                2|                              1|                  CA|                   47|              null|            null|                    |                      null|   0027937383229|                       042|                null|          012|       019667033|                   N|                   |     001|           2012-11-29|                     null|                2012-10-18|    2017-09-13|              184725|                P37B|         PCLE10P|            S|                     null|                   null| 2022-03-10 01:05:...|REL.DEPENDENCIA/FIJO|\n",
            "|   28993945|       CL|                  1|             1|  PERSONAL|                 0|navyig@fibertel.c...|              COM|             N|                 30|                |                  NO VERIF|          VLCO|                |            PCLE11O|            18:14:49|                   Y60C| 2021-12-09 19:39:...|                2007-12-12|         2005-06-16|      2009-06-27|           00|0000037047136|    2022-03-08|          10000|                  00|      603|              30|          0|                      1|                      8|      2603|                   |                 |                          |              SAEZ|                | MIGUEL ALEJANDRO|                  1|          M|1992-09-08|                    80|                 080|                  201|        100|                         0|                          82|                       21101000|                       0|                    null|                      null|                    null|                      null|                           0|                 0|                       0|                  0|                  0|                       null|             null|            PCLE25H|                1|                              0|                    |                   47|              null|            null|                    |                      null|   0020370471364|                       042|                null|          016|       028993945|                   N|                 MD|     001|           2022-03-08|                     null|                2022-03-08|    2022-03-08|              003155|                 BAT|         PCLE25H|             |                     null|                   null| 2022-03-10 01:05:...|REL.DEPENDENCIA/FIJO|\n",
            "|   04936761|       CL|                  1|             1|  PERSONAL|                -1|PAPO.ARZUBIAGA@FA...|                 |              |                 30|                |                 DECLARADO|          FNET|        GPROBANK|                   |            04:06:16|                   4ZHI| 2021-12-09 19:39:...|                2012-02-02|         2012-02-02|      2012-02-02|           31|0000093708334|    1999-10-26|          10000|                  01|        5|              34|          0|                      1|                      1|        34|                   |                 |                          |          ALENCHIK|                |       VIACHESLAV|                  5|          M|1964-04-06|                    40|                 080|                  201|        100|                         0|                          82|                       21101000|                       0|                    null|                      null|                    null|                      null|                           0|                 0|                       0|                  0|                  1|                       null|             null|            PCLE06R|                0|                              1|                  CA|                   47|              null|            null|                    |                      null|   0020937083344|                       062|                null|          016|       004936761|                   N|                   |     001|           2009-01-01|                     null|                1999-10-26|    2002-03-22|              111123|                P37B|          VUELCO|            S|                     null|                   null| 2022-03-10 01:05:...|REL.DEPENDENCIA/FIJO|\n",
            "|   08730022|       CL|                  2|             1|  PERSONAL|                 0| NOTIENE@HOTMAIL.COM|              COM|              |                 30|                |                 DECLARADO|          WKFL|         a126585|            A126585|            11:56:30|                   EECC| 2021-12-09 19:39:...|                2018-09-28|         2018-09-28|      2018-09-28|           00|0000017560362|    2008-06-30|          10000|                  00|       72|              34|          0|                      1|                      1|        46|                   |                 |                          |        BELTRAMINO|                |CECILIA ELIZABETH|                  1|          F|1970-09-26|                    80|                 080|                  201|        100|                         0|                          82|                       21101000|                       0|                    null|                      null|                    null|                      null|                           0|                 0|                       0|                  0|                  1|                       null|             null|            PCLE06R|                0|                              1|                  PO|                   47|              null|            null|                    |                      null|   0027175603625|                       042|                null|          016|       008730022|                   N|                   |     001|           2009-01-01|                     null|                2008-06-30|    2008-06-30|              161639|                P37B|          VUELCO|            S|                     null|                   null| 2022-03-10 01:05:...|REL.DEPENDENCIA/FIJO|\n",
            "|   08730022|       CL|                  1|             1|  PERSONAL|                 0|DIGITALIZACION@EE...|              COM|             N|                 30|                |                 DECLARADO|          CTES|         a127445|            A127445|            14:00:52|                   2833| 2021-12-09 19:39:...|                1900-01-01|         1900-01-01|      2017-07-19|           00|0000017560362|    2008-06-30|          10000|                  00|       72|              34|          0|                      1|                      1|        46|                   |                 |                          |        BELTRAMINO|                |CECILIA ELIZABETH|                  1|          F|1970-09-26|                    80|                 080|                  201|        100|                         0|                          82|                       21101000|                       0|                    null|                      null|                    null|                      null|                           0|                 0|                       0|                  0|                  1|                       null|             null|            PCLE06R|                0|                              1|                  PO|                   47|              null|            null|                    |                      null|   0027175603625|                       042|                null|          016|       008730022|                   N|                   |     001|           2009-01-01|                     null|                2008-06-30|    2008-06-30|              161639|                P37B|          VUELCO|            S|                     null|                   null| 2022-03-10 01:05:...|REL.DEPENDENCIA/FIJO|\n",
            "|   03875505|       CL|                  1|             1|  PERSONAL|                 0| BZELMAN@HOTMAIL.COM|                 |             N|                 30|                |                  VALIDADO|          FNET|        GPROBANK|           GPROBANK|            15:12:44|                   4ZJM| 2021-12-09 19:39:...|                2012-07-13|         2012-07-13|      2012-07-13|           00|0000036735732|    2011-05-23|          10000|                  01|      144|              34|          0|                      1|                      1|       215|                   |                 |                          |          SPERANZA|                |           CAMILA|                  5|          F|1992-01-29|                    80|                 080|                  201|        100|                         0|                          82|                       21101000|                       0|                    null|                      null|                    null|                      null|                            |                 0|                       0|                  0|                  1|                       null|             null|            PCLE06R|                2|                              1|                  PO|                   50|              null|            null|                    |                      null|   0027367357326|                       042|                null|          034|       003875505|                   N|                   |     004|           2011-05-23|                     null|                2011-05-23|    2011-05-23|              035525|                P37B|          A90180|            S|                     null|                   null| 2022-03-10 01:05:...|                   -|\n",
            "|   27124230|       CL|                  3|             1|  PERSONAL|                 0|DIGITALIZACION@EE...|              COM|             N|                 30|                |                 DECLARADO|          CTES|         a115124|                   |                    |                   EECC| 2021-12-09 19:39:...|                1900-01-01|         1900-01-01|      1900-01-01|           00|0000038907239|    2020-07-30|          10000|                  00|      603|              34|          0|                      1|                      8|      2603|                   |                 |                          |          CASTILLO|                |    CRISTIAN HUGO|                  1|          M|1995-04-06|                    80|                 080|                  201|        100|                         0|                          82|                       21101000|                       0|                    null|                      null|                    null|                      null|                           0|                 0|                       0|                  0|                  0|                       null|             null|            PCLE06R|                1|                              1|                  PO|                   47|              null|            null|                    |                      null|   0020389072398|                       042|                null|          016|       027124230|                   N|                 MD|     001|           2020-07-30|                     null|                2020-07-30|    2020-07-30|              003119|                P37B|         PCLE25H|            S|                     null|                   null| 2022-03-10 01:05:...|REL.DEPENDENCIA/FIJO|\n",
            "|   27124230|       CL|                  2|             1|  PERSONAL|                 0|LAU_RINA@LIVE.COM.AR|              COM|              |                 30|                |                 DECLARADO|          WKFL|        GPROBANK|            a115124|            10:05:45|                   EECC| 2021-12-09 19:39:...|                2018-04-16|         2012-12-06|      2018-04-16|           00|0000038907239|    2020-07-30|          10000|                  00|      603|              34|          0|                      1|                      8|      2603|                   |                 |                          |          CASTILLO|                |    CRISTIAN HUGO|                  1|          M|1995-04-06|                    80|                 080|                  201|        100|                         0|                          82|                       21101000|                       0|                    null|                      null|                    null|                      null|                           0|                 0|                       0|                  0|                  0|                       null|             null|            PCLE06R|                1|                              1|                  PO|                   47|              null|            null|                    |                      null|   0020389072398|                       042|                null|          016|       027124230|                   N|                 MD|     001|           2020-07-30|                     null|                2020-07-30|    2020-07-30|              003119|                P37B|         PCLE25H|            S|                     null|                   null| 2022-03-10 01:05:...|REL.DEPENDENCIA/FIJO|\n",
            "|   27124230|       CL|                  1|             1|  PERSONAL|                 0|RINA_LAU@ARNET.CO...|              COM|              |                 30|                |                 DECLARADO|          WKFL|                |            a117517|            14:55:12|                   EECC| 2021-12-09 19:39:...|                2019-09-04|         2005-10-26|      2019-09-04|           00|0000038907239|    2020-07-30|          10000|                  00|      603|              34|          0|                      1|                      8|      2603|                   |                 |                          |          CASTILLO|                |    CRISTIAN HUGO|                  1|          M|1995-04-06|                    80|                 080|                  201|        100|                         0|                          82|                       21101000|                       0|                    null|                      null|                    null|                      null|                           0|                 0|                       0|                  0|                  0|                       null|             null|            PCLE06R|                1|                              1|                  PO|                   47|              null|            null|                    |                      null|   0020389072398|                       042|                null|          016|       027124230|                   N|                 MD|     001|           2020-07-30|                     null|                2020-07-30|    2020-07-30|              003119|                P37B|         PCLE25H|            S|                     null|                   null| 2022-03-10 01:05:...|REL.DEPENDENCIA/FIJO|\n",
            "|   26193940|       CL|                  1|             1|  PERSONAL|                 0|AILINMICHAELFUENT...|              COM|              |                 30|                |                  VALIDADO|          FNET|        UPRONETC|           GPROBANK|            16:53:56|                   4ZKC| 2021-12-09 19:39:...|                2021-01-28|         2021-01-25|      2021-01-28|           00|0000025565228|    2019-08-22|          10000|                  01|      104|              34|          0|                      1|                      8|      2603|                   |             PVTA|                          |            SUAREZ|                |        FRANCISCO|                  5|          M|1976-11-25|                    80|                 080|                  201|        100|                         0|                          82|                       21101000|                       0|                    null|                      null|                    null|                      null|                           0|                 0|                       0|                  0|                  0|                       null|             null|            PCLE06R|                1|                              1|                  PO|                    4|              null|            null|                    |                      null|   0000000000000|                       042|                null|          016|       026193940|                   N|                 MD|     001|           2019-08-22|                     null|                2019-08-22|    2019-08-22|              124439|                P37B|        VW2CEVA0|            S|                     null|                   null| 2022-03-10 01:05:...|REL.DEPENDENCIA/FIJO|\n",
            "|   26054589|       CL|                  2|             1|  PERSONAL|                 0|JORGEPINELLI@YAHO...|              COM|              |                 30|                |                 DECLARADO|          WKFL|        GPROBANK|             a31047|            14:17:39|                   EECC| 2021-12-09 19:39:...|                2019-12-18|         2017-12-07|      2019-12-18|           00|0000037866157|    2019-07-23|          10000|                  00|      603|              34|          0|                      1|                      8|      2603|                   |                 |                          |             HWANG|                |  DAIANA STEFANIA|                  1|          F|1993-10-06|                    80|                 080|                  201|        100|                         0|                          82|                       21101000|                       0|                    null|                      null|                    null|                      null|                           0|                 0|                       0|                  0|                  0|                       null|             null|            PCLE06R|                1|                              1|                  PO|                   47|              null|            null|                    |                      null|   0027378661574|                       042|                null|          016|       026054589|                   N|                 MD|     001|           2019-07-23|                     null|                2019-07-23|    2019-07-23|              003051|                P37B|         PCLE25H|            S|                     null|                   null| 2022-03-10 01:05:...|REL.DEPENDENCIA/FIJO|\n",
            "|   26054589|       CL|                  1|             1|  PERSONAL|                 0|JORGEPINELLI@YAHO...|              COM|             N|                 30|                |                  VALIDADO|          FNET|         a126947|           GPROBANK|            10:36:22|                   4ZGN| 2021-12-09 19:39:...|                2020-01-29|         1900-01-01|      2020-01-29|           00|0000037866157|    2019-07-23|          10000|                  00|      603|              34|          0|                      1|                      8|      2603|                   |                 |                          |             HWANG|                |  DAIANA STEFANIA|                  1|          F|1993-10-06|                    80|                 080|                  201|        100|                         0|                          82|                       21101000|                       0|                    null|                      null|                    null|                      null|                           0|                 0|                       0|                  0|                  0|                       null|             null|            PCLE06R|                1|                              1|                  PO|                   47|              null|            null|                    |                      null|   0027378661574|                       042|                null|          016|       026054589|                   N|                 MD|     001|           2019-07-23|                     null|                2019-07-23|    2019-07-23|              003051|                P37B|         PCLE25H|            S|                     null|                   null| 2022-03-10 01:05:...|REL.DEPENDENCIA/FIJO|\n",
            "|   03169528|       CL|                  2|             1|  PERSONAL|                 0|   MABRU@HOTMAIL.COM|                 |             N|                 30|                |                  VALIDADO|          FNET|        GPROBANK|           GPROBANK|            12:38:49|                   4ZIB| 2021-12-09 19:39:...|                2016-10-06|         2016-10-06|      2016-10-06|           00|0000011537731|    1997-01-16|          20050|                  01|      332|              34|          0|                      1|                      1|       628|                   |                 |                          |            LARREA|                |VIVIANE ELIZABETH|                  1|          F|1955-05-02|                    80|                 080|                  201|        100|                          |                          82|                       21101000|                       0|                    null|                      null|                    null|                      null|                            |                 0|                       0|                  0|                  3|                       null|             null|            PCLE07V|                0|                              1|                  CA|                   47|              null|            null|                    |                      null|   0027115377316|                       055|                null|          016|       001013960|                   N|                   |     001|           2009-01-01|                     null|                1997-01-16|    2007-11-02|              170915|                P37B|          VUELCO|            S|                     null|                   null| 2022-03-10 01:05:...|REL.DEPENDENCIA/FIJO|\n",
            "+-----------+---------+-------------------+--------------+----------+------------------+--------------------+-----------------+--------------+-------------------+----------------+--------------------------+--------------+----------------+-------------------+--------------------+-----------------------+---------------------+--------------------------+-------------------+----------------+-------------+-------------+--------------+---------------+--------------------+---------+----------------+-----------+-----------------------+-----------------------+----------+-------------------+-----------------+--------------------------+------------------+----------------+-----------------+-------------------+-----------+----------+----------------------+--------------------+---------------------+-----------+--------------------------+----------------------------+-------------------------------+------------------------+------------------------+--------------------------+------------------------+--------------------------+----------------------------+------------------+------------------------+-------------------+-------------------+---------------------------+-----------------+-------------------+-----------------+-------------------------------+--------------------+---------------------+------------------+----------------+--------------------+--------------------------+----------------+--------------------------+--------------------+-------------+----------------+--------------------+-------------------+--------+---------------------+-------------------------+--------------------------+--------------+--------------------+--------------------+----------------+-------------+-------------------------+-----------------------+---------------------+--------------------+\n",
            "only showing top 20 rows\n",
            "\n"
          ]
        }
      ]
    },
    {
      "cell_type": "markdown",
      "source": [
        "# Filtrar datos, reducir volumen"
      ],
      "metadata": {
        "id": "v898pfOnvE_d"
      }
    },
    {
      "cell_type": "markdown",
      "source": [
        "####- 27 - Filtrar el DataFrame de contactos telefónicos de clientes y resguardar los 3 contactos más actuales por cliente."
      ],
      "metadata": {
        "id": "cMRaId42aHMV"
      }
    },
    {
      "cell_type": "code",
      "source": [
        "df_customer_phones_sorted = df_customer_phones.orderBy([df_customer_phones.customer_id, desc('last_change_date')])"
      ],
      "metadata": {
        "id": "q_ftH3XKWwRS"
      },
      "execution_count": null,
      "outputs": []
    },
    {
      "cell_type": "code",
      "source": [
        "window = Window.partitionBy(df_customer_phones_sorted.customer_id).orderBy(desc(df_customer_phones_sorted.last_change_date))"
      ],
      "metadata": {
        "id": "fRs0zhTdXDtA"
      },
      "execution_count": null,
      "outputs": []
    },
    {
      "cell_type": "code",
      "source": [
        "df_phone_contact = df_customer_phones_sorted.withColumn('row_num', row_number().over(window))\n",
        "df_phone_contact = df_phone_contact.filter(df_phone_contact.row_num <= 3)"
      ],
      "metadata": {
        "id": "kUN3ajuZXFvz"
      },
      "execution_count": null,
      "outputs": []
    },
    {
      "cell_type": "code",
      "source": [
        "df_phone_contact = df_phone_contact.withColumn(\"full_phone\", concat_ws(\"-\", 'prefix_phone_id', 'phone_area_id', 'phone_exchange_id', 'phone_line_id'))"
      ],
      "metadata": {
        "id": "M_SLPUIEvXso"
      },
      "execution_count": null,
      "outputs": []
    },
    {
      "cell_type": "code",
      "source": [
        "df_pivot_pc = df_phone_contact.groupBy('customer_id').agg(collect_list('full_phone').alias('last_3_changes_list'))"
      ],
      "metadata": {
        "id": "K-AIfg0_c423"
      },
      "execution_count": null,
      "outputs": []
    },
    {
      "cell_type": "code",
      "source": [
        "df_pivot_phone = df_pivot_pc.selectExpr('customer_id', 'last_3_changes_list[0] as phone_1', 'last_3_changes_list[1] as phone_2', 'last_3_changes_list[2] as phone_3')"
      ],
      "metadata": {
        "id": "wklSvSASfGbH"
      },
      "execution_count": null,
      "outputs": []
    },
    {
      "cell_type": "code",
      "source": [
        "df_pivot_phone = df_pivot_phone.na.fill('---')\n",
        "df_pivot_phone.show()"
      ],
      "metadata": {
        "id": "m2D8d8s7hlUR",
        "colab": {
          "base_uri": "https://localhost:8080/"
        },
        "outputId": "ea5fcd72-2f57-42ce-cd34-71271b9c5d6d"
      },
      "execution_count": null,
      "outputs": [
        {
          "output_type": "stream",
          "name": "stdout",
          "text": [
            "+-----------+----------------+---------------+-------+\n",
            "|customer_id|         phone_1|        phone_2|phone_3|\n",
            "+-----------+----------------+---------------+-------+\n",
            "|   00000442| 54-297-472-9337|54-297-529-6284|    ---|\n",
            "|   00001419| 54-11-6679-3207|            ---|    ---|\n",
            "|   00001939| 54-11-3870-0150|            ---|    ---|\n",
            "|   00002707| 54-299-447-7116|            ---|    ---|\n",
            "|   00002790| 54-342-466-2478|54-342-488-3620|    ---|\n",
            "|   00004287|54-3541-5988-799|            ---|    ---|\n",
            "|   00004724| 54-11-2408-4447|            ---|    ---|\n",
            "|   00007932| 54-385-406-5887|            ---|    ---|\n",
            "|   00011850| 54-3489-49-3578|54-11-2578-1080|    ---|\n",
            "|   00012051| 54-3401-53-4381|            ---|    ---|\n",
            "|   00012611| 54-11-6114-1855|54-11-4344-3165|    ---|\n",
            "|   00013498| 54-221-620-8511|            ---|    ---|\n",
            "|   00014664| 54-11-6505-0605|            ---|    ---|\n",
            "|   00015497| 54-11-5105-2460|            ---|    ---|\n",
            "|   00051576| 54-11-2653-1080|            ---|    ---|\n",
            "|   00053993| 54-3718-46-6655|            ---|    ---|\n",
            "|   00056407| 54-336-457-7255|            ---|    ---|\n",
            "|   00056947| 54-297-457-7276|54-297-430-1718|    ---|\n",
            "|   00058519| 54-341-274-0967|            ---|    ---|\n",
            "|   00058801| 54-11-3663-8083|            ---|    ---|\n",
            "+-----------+----------------+---------------+-------+\n",
            "only showing top 20 rows\n",
            "\n"
          ]
        }
      ]
    },
    {
      "cell_type": "markdown",
      "source": [
        "####- 28 - Filtrar el DataFrame de direcciones de clientes y resguardar los 3 contactos más actuales por cliente."
      ],
      "metadata": {
        "id": "581jyCaHt3SU"
      }
    },
    {
      "cell_type": "code",
      "source": [
        "df_customer_address_sorted = df_customer_address.orderBy([df_customer_address.customer_id, desc('last_change_date')])"
      ],
      "metadata": {
        "id": "d6HSi_IFdrxa"
      },
      "execution_count": null,
      "outputs": []
    },
    {
      "cell_type": "code",
      "source": [
        "window = Window.partitionBy(df_customer_address_sorted.customer_id).orderBy(desc(df_customer_address_sorted.last_change_date))"
      ],
      "metadata": {
        "id": "j5gmni1Kdrxb"
      },
      "execution_count": null,
      "outputs": []
    },
    {
      "cell_type": "code",
      "source": [
        "df_address_contact = df_customer_address_sorted.withColumn('row_num', row_number().over(window))\n",
        "df_address_contact = df_address_contact.filter(df_address_contact.row_num <= 3)"
      ],
      "metadata": {
        "id": "19eIQVaWdrxb"
      },
      "execution_count": null,
      "outputs": []
    },
    {
      "cell_type": "code",
      "source": [
        "df_address_contact = df_address_contact.withColumn(\"full_address\", concat('street_name', 'address_outdoor_id', 'address_indoor_id', 'indoor_number', 'address_department_name', 'province_id', 'zipcode_id'))"
      ],
      "metadata": {
        "id": "fZUMeg4Bdrxb"
      },
      "execution_count": null,
      "outputs": []
    },
    {
      "cell_type": "code",
      "source": [
        "df_pivot_ad = df_address_contact.groupBy('customer_id').agg(collect_list('full_address').alias('last_3_changes_list'))"
      ],
      "metadata": {
        "id": "j2VpUVDQdrxb"
      },
      "execution_count": null,
      "outputs": []
    },
    {
      "cell_type": "code",
      "source": [
        "df_pivot_address = df_pivot_ad.selectExpr('customer_id', 'last_3_changes_list[0] as address_1', 'last_3_changes_list[1] as address_2', 'last_3_changes_list[2] as address_3')"
      ],
      "metadata": {
        "id": "U3Pvzadcdrxb"
      },
      "execution_count": null,
      "outputs": []
    },
    {
      "cell_type": "code",
      "source": [
        "df_pivot_address = df_pivot_address.na.fill('---')\n",
        "df_pivot_address.toPandas()"
      ],
      "metadata": {
        "id": "d_d1U18vdrxb",
        "colab": {
          "base_uri": "https://localhost:8080/"
        },
        "outputId": "743e788d-4e70-4163-a751-5026158a873c"
      },
      "execution_count": null,
      "outputs": [
        {
          "output_type": "execute_result",
          "data": {
            "text/plain": [
              "     customer_id                                          address_1 address_2  \\\n",
              "0       00000442  AGUERO                  0000842PB      B      ...       ---   \n",
              "1       00001419  ALTE G BROWN            00010741       A      ...       ---   \n",
              "2       00001939  JOSE HERNANDEZ          00020451       C      ...       ---   \n",
              "3       00002707  GUATEMALA               0001846               ...       ---   \n",
              "4       00002790  AV CORDOBA              00022064       30     ...       ---   \n",
              "...          ...                                                ...       ...   \n",
              "1206    29015563  IBANEZ TENIENTE 1 RO    0001355               ...       ---   \n",
              "1207    29015902  GARIBALDI               0001554               ...       ---   \n",
              "1208    29017100  DOMINGO MATHEU          0000972               ...       ---   \n",
              "1209    29017191  VIRREY ARREDONDO        00026413       B      ...       ---   \n",
              "1210    29022069  ACASSUSO                0002665               ...       ---   \n",
              "\n",
              "     address_3  \n",
              "0          ---  \n",
              "1          ---  \n",
              "2          ---  \n",
              "3          ---  \n",
              "4          ---  \n",
              "...        ...  \n",
              "1206       ---  \n",
              "1207       ---  \n",
              "1208       ---  \n",
              "1209       ---  \n",
              "1210       ---  \n",
              "\n",
              "[1211 rows x 4 columns]"
            ],
            "text/html": [
              "\n",
              "  <div id=\"df-d9e477ba-a23a-44ce-888a-67f9209c201d\">\n",
              "    <div class=\"colab-df-container\">\n",
              "      <div>\n",
              "<style scoped>\n",
              "    .dataframe tbody tr th:only-of-type {\n",
              "        vertical-align: middle;\n",
              "    }\n",
              "\n",
              "    .dataframe tbody tr th {\n",
              "        vertical-align: top;\n",
              "    }\n",
              "\n",
              "    .dataframe thead th {\n",
              "        text-align: right;\n",
              "    }\n",
              "</style>\n",
              "<table border=\"1\" class=\"dataframe\">\n",
              "  <thead>\n",
              "    <tr style=\"text-align: right;\">\n",
              "      <th></th>\n",
              "      <th>customer_id</th>\n",
              "      <th>address_1</th>\n",
              "      <th>address_2</th>\n",
              "      <th>address_3</th>\n",
              "    </tr>\n",
              "  </thead>\n",
              "  <tbody>\n",
              "    <tr>\n",
              "      <th>0</th>\n",
              "      <td>00000442</td>\n",
              "      <td>AGUERO                  0000842PB      B      ...</td>\n",
              "      <td>---</td>\n",
              "      <td>---</td>\n",
              "    </tr>\n",
              "    <tr>\n",
              "      <th>1</th>\n",
              "      <td>00001419</td>\n",
              "      <td>ALTE G BROWN            00010741       A      ...</td>\n",
              "      <td>---</td>\n",
              "      <td>---</td>\n",
              "    </tr>\n",
              "    <tr>\n",
              "      <th>2</th>\n",
              "      <td>00001939</td>\n",
              "      <td>JOSE HERNANDEZ          00020451       C      ...</td>\n",
              "      <td>---</td>\n",
              "      <td>---</td>\n",
              "    </tr>\n",
              "    <tr>\n",
              "      <th>3</th>\n",
              "      <td>00002707</td>\n",
              "      <td>GUATEMALA               0001846               ...</td>\n",
              "      <td>---</td>\n",
              "      <td>---</td>\n",
              "    </tr>\n",
              "    <tr>\n",
              "      <th>4</th>\n",
              "      <td>00002790</td>\n",
              "      <td>AV CORDOBA              00022064       30     ...</td>\n",
              "      <td>---</td>\n",
              "      <td>---</td>\n",
              "    </tr>\n",
              "    <tr>\n",
              "      <th>...</th>\n",
              "      <td>...</td>\n",
              "      <td>...</td>\n",
              "      <td>...</td>\n",
              "      <td>...</td>\n",
              "    </tr>\n",
              "    <tr>\n",
              "      <th>1206</th>\n",
              "      <td>29015563</td>\n",
              "      <td>IBANEZ TENIENTE 1 RO    0001355               ...</td>\n",
              "      <td>---</td>\n",
              "      <td>---</td>\n",
              "    </tr>\n",
              "    <tr>\n",
              "      <th>1207</th>\n",
              "      <td>29015902</td>\n",
              "      <td>GARIBALDI               0001554               ...</td>\n",
              "      <td>---</td>\n",
              "      <td>---</td>\n",
              "    </tr>\n",
              "    <tr>\n",
              "      <th>1208</th>\n",
              "      <td>29017100</td>\n",
              "      <td>DOMINGO MATHEU          0000972               ...</td>\n",
              "      <td>---</td>\n",
              "      <td>---</td>\n",
              "    </tr>\n",
              "    <tr>\n",
              "      <th>1209</th>\n",
              "      <td>29017191</td>\n",
              "      <td>VIRREY ARREDONDO        00026413       B      ...</td>\n",
              "      <td>---</td>\n",
              "      <td>---</td>\n",
              "    </tr>\n",
              "    <tr>\n",
              "      <th>1210</th>\n",
              "      <td>29022069</td>\n",
              "      <td>ACASSUSO                0002665               ...</td>\n",
              "      <td>---</td>\n",
              "      <td>---</td>\n",
              "    </tr>\n",
              "  </tbody>\n",
              "</table>\n",
              "<p>1211 rows × 4 columns</p>\n",
              "</div>\n",
              "      <button class=\"colab-df-convert\" onclick=\"convertToInteractive('df-d9e477ba-a23a-44ce-888a-67f9209c201d')\"\n",
              "              title=\"Convert this dataframe to an interactive table.\"\n",
              "              style=\"display:none;\">\n",
              "        \n",
              "  <svg xmlns=\"http://www.w3.org/2000/svg\" height=\"24px\"viewBox=\"0 0 24 24\"\n",
              "       width=\"24px\">\n",
              "    <path d=\"M0 0h24v24H0V0z\" fill=\"none\"/>\n",
              "    <path d=\"M18.56 5.44l.94 2.06.94-2.06 2.06-.94-2.06-.94-.94-2.06-.94 2.06-2.06.94zm-11 1L8.5 8.5l.94-2.06 2.06-.94-2.06-.94L8.5 2.5l-.94 2.06-2.06.94zm10 10l.94 2.06.94-2.06 2.06-.94-2.06-.94-.94-2.06-.94 2.06-2.06.94z\"/><path d=\"M17.41 7.96l-1.37-1.37c-.4-.4-.92-.59-1.43-.59-.52 0-1.04.2-1.43.59L10.3 9.45l-7.72 7.72c-.78.78-.78 2.05 0 2.83L4 21.41c.39.39.9.59 1.41.59.51 0 1.02-.2 1.41-.59l7.78-7.78 2.81-2.81c.8-.78.8-2.07 0-2.86zM5.41 20L4 18.59l7.72-7.72 1.47 1.35L5.41 20z\"/>\n",
              "  </svg>\n",
              "      </button>\n",
              "      \n",
              "  <style>\n",
              "    .colab-df-container {\n",
              "      display:flex;\n",
              "      flex-wrap:wrap;\n",
              "      gap: 12px;\n",
              "    }\n",
              "\n",
              "    .colab-df-convert {\n",
              "      background-color: #E8F0FE;\n",
              "      border: none;\n",
              "      border-radius: 50%;\n",
              "      cursor: pointer;\n",
              "      display: none;\n",
              "      fill: #1967D2;\n",
              "      height: 32px;\n",
              "      padding: 0 0 0 0;\n",
              "      width: 32px;\n",
              "    }\n",
              "\n",
              "    .colab-df-convert:hover {\n",
              "      background-color: #E2EBFA;\n",
              "      box-shadow: 0px 1px 2px rgba(60, 64, 67, 0.3), 0px 1px 3px 1px rgba(60, 64, 67, 0.15);\n",
              "      fill: #174EA6;\n",
              "    }\n",
              "\n",
              "    [theme=dark] .colab-df-convert {\n",
              "      background-color: #3B4455;\n",
              "      fill: #D2E3FC;\n",
              "    }\n",
              "\n",
              "    [theme=dark] .colab-df-convert:hover {\n",
              "      background-color: #434B5C;\n",
              "      box-shadow: 0px 1px 3px 1px rgba(0, 0, 0, 0.15);\n",
              "      filter: drop-shadow(0px 1px 2px rgba(0, 0, 0, 0.3));\n",
              "      fill: #FFFFFF;\n",
              "    }\n",
              "  </style>\n",
              "\n",
              "      <script>\n",
              "        const buttonEl =\n",
              "          document.querySelector('#df-d9e477ba-a23a-44ce-888a-67f9209c201d button.colab-df-convert');\n",
              "        buttonEl.style.display =\n",
              "          google.colab.kernel.accessAllowed ? 'block' : 'none';\n",
              "\n",
              "        async function convertToInteractive(key) {\n",
              "          const element = document.querySelector('#df-d9e477ba-a23a-44ce-888a-67f9209c201d');\n",
              "          const dataTable =\n",
              "            await google.colab.kernel.invokeFunction('convertToInteractive',\n",
              "                                                     [key], {});\n",
              "          if (!dataTable) return;\n",
              "\n",
              "          const docLinkHtml = 'Like what you see? Visit the ' +\n",
              "            '<a target=\"_blank\" href=https://colab.research.google.com/notebooks/data_table.ipynb>data table notebook</a>'\n",
              "            + ' to learn more about interactive tables.';\n",
              "          element.innerHTML = '';\n",
              "          dataTable['output_type'] = 'display_data';\n",
              "          await google.colab.output.renderOutput(dataTable, element);\n",
              "          const docLink = document.createElement('div');\n",
              "          docLink.innerHTML = docLinkHtml;\n",
              "          element.appendChild(docLink);\n",
              "        }\n",
              "      </script>\n",
              "    </div>\n",
              "  </div>\n",
              "  "
            ]
          },
          "metadata": {},
          "execution_count": 32
        }
      ]
    },
    {
      "cell_type": "markdown",
      "source": [
        "####- 29 - Filtrar el DataFrame de correos electrónicos de clientes  y resguardar los 3 contactos más actuales por cliente. "
      ],
      "metadata": {
        "id": "Fde4zMn4jXXD"
      }
    },
    {
      "cell_type": "code",
      "source": [
        "df_customer_emails_sorted = df_customer_emails.orderBy([df_customer_emails.customer_id, desc('last_change_date')])"
      ],
      "metadata": {
        "id": "wAtQGJfMgRHd"
      },
      "execution_count": null,
      "outputs": []
    },
    {
      "cell_type": "code",
      "source": [
        "window = Window.partitionBy(df_customer_emails_sorted.customer_id).orderBy(desc(df_customer_emails_sorted.last_change_date))"
      ],
      "metadata": {
        "id": "1oIrfS-LgRHd"
      },
      "execution_count": null,
      "outputs": []
    },
    {
      "cell_type": "code",
      "source": [
        "df_email_contact = df_customer_emails_sorted.withColumn('row_num', row_number().over(window))\n",
        "df_email_contact = df_email_contact.filter(df_email_contact.row_num <= 3)"
      ],
      "metadata": {
        "id": "zYMJ-3oLgRHd"
      },
      "execution_count": null,
      "outputs": []
    },
    {
      "cell_type": "code",
      "source": [
        "df_pivot_ec = df_email_contact.groupBy('customer_id').agg(collect_list('email_desc').alias('last_3_changes_list'))"
      ],
      "metadata": {
        "id": "GPO3eGmbgRHe"
      },
      "execution_count": null,
      "outputs": []
    },
    {
      "cell_type": "code",
      "source": [
        "df_pivot_email = df_pivot_ec.selectExpr('customer_id', 'last_3_changes_list[0] as email_1', 'last_3_changes_list[1] as email_2', 'last_3_changes_list[2] as email_3')"
      ],
      "metadata": {
        "id": "A0OnqllGgRHe"
      },
      "execution_count": null,
      "outputs": []
    },
    {
      "cell_type": "code",
      "source": [
        "df_pivot_email = df_pivot_email.na.fill('---')\n",
        "df_pivot_email.toPandas()"
      ],
      "metadata": {
        "id": "efrb8V-AgRHe",
        "colab": {
          "base_uri": "https://localhost:8080/"
        },
        "outputId": "d29075a1-d36a-446c-a45a-cdfcb0031774"
      },
      "execution_count": null,
      "outputs": [
        {
          "output_type": "execute_result",
          "data": {
            "text/plain": [
              "    customer_id                     email_1                      email_2  \\\n",
              "0      00001419          JU_LY1@HOTMAIL.COM  EMILIA.RUBIANES@HOTMAIL.COM   \n",
              "1      00002790         NOTIENE@HOIMAIL.COM      DIGITALIZACION@EECC.COM   \n",
              "2      00014664           alq@ciudad.com.ar                          ---   \n",
              "3      00056407     NELLY.S.GEREZ@GMAIL.COM                          ---   \n",
              "4      00058801  SOPLETESHLANDA@HOTMAIL.COM   SOPLETESHLANDA@HOTMAIL.COM   \n",
              "..          ...                         ...                          ...   \n",
              "317    28990339            ELSAMO@GMAIL.COM                          ---   \n",
              "318    28993945      navyig@fibertel.com.ar                          ---   \n",
              "319    29003190        ANLAU_08@LIVE.COM.AR                          ---   \n",
              "320    29008648       ROBERTOWINY@GMAIL.COM                          ---   \n",
              "321    29012113    DE_LA_GARMA@YAHOO.COM.AR                          ---   \n",
              "\n",
              "    email_3  \n",
              "0       ---  \n",
              "1       ---  \n",
              "2       ---  \n",
              "3       ---  \n",
              "4       ---  \n",
              "..      ...  \n",
              "317     ---  \n",
              "318     ---  \n",
              "319     ---  \n",
              "320     ---  \n",
              "321     ---  \n",
              "\n",
              "[322 rows x 4 columns]"
            ],
            "text/html": [
              "\n",
              "  <div id=\"df-ac1a4d8f-eff9-448f-a6fb-e105fb8a20e3\">\n",
              "    <div class=\"colab-df-container\">\n",
              "      <div>\n",
              "<style scoped>\n",
              "    .dataframe tbody tr th:only-of-type {\n",
              "        vertical-align: middle;\n",
              "    }\n",
              "\n",
              "    .dataframe tbody tr th {\n",
              "        vertical-align: top;\n",
              "    }\n",
              "\n",
              "    .dataframe thead th {\n",
              "        text-align: right;\n",
              "    }\n",
              "</style>\n",
              "<table border=\"1\" class=\"dataframe\">\n",
              "  <thead>\n",
              "    <tr style=\"text-align: right;\">\n",
              "      <th></th>\n",
              "      <th>customer_id</th>\n",
              "      <th>email_1</th>\n",
              "      <th>email_2</th>\n",
              "      <th>email_3</th>\n",
              "    </tr>\n",
              "  </thead>\n",
              "  <tbody>\n",
              "    <tr>\n",
              "      <th>0</th>\n",
              "      <td>00001419</td>\n",
              "      <td>JU_LY1@HOTMAIL.COM</td>\n",
              "      <td>EMILIA.RUBIANES@HOTMAIL.COM</td>\n",
              "      <td>---</td>\n",
              "    </tr>\n",
              "    <tr>\n",
              "      <th>1</th>\n",
              "      <td>00002790</td>\n",
              "      <td>NOTIENE@HOIMAIL.COM</td>\n",
              "      <td>DIGITALIZACION@EECC.COM</td>\n",
              "      <td>---</td>\n",
              "    </tr>\n",
              "    <tr>\n",
              "      <th>2</th>\n",
              "      <td>00014664</td>\n",
              "      <td>alq@ciudad.com.ar</td>\n",
              "      <td>---</td>\n",
              "      <td>---</td>\n",
              "    </tr>\n",
              "    <tr>\n",
              "      <th>3</th>\n",
              "      <td>00056407</td>\n",
              "      <td>NELLY.S.GEREZ@GMAIL.COM</td>\n",
              "      <td>---</td>\n",
              "      <td>---</td>\n",
              "    </tr>\n",
              "    <tr>\n",
              "      <th>4</th>\n",
              "      <td>00058801</td>\n",
              "      <td>SOPLETESHLANDA@HOTMAIL.COM</td>\n",
              "      <td>SOPLETESHLANDA@HOTMAIL.COM</td>\n",
              "      <td>---</td>\n",
              "    </tr>\n",
              "    <tr>\n",
              "      <th>...</th>\n",
              "      <td>...</td>\n",
              "      <td>...</td>\n",
              "      <td>...</td>\n",
              "      <td>...</td>\n",
              "    </tr>\n",
              "    <tr>\n",
              "      <th>317</th>\n",
              "      <td>28990339</td>\n",
              "      <td>ELSAMO@GMAIL.COM</td>\n",
              "      <td>---</td>\n",
              "      <td>---</td>\n",
              "    </tr>\n",
              "    <tr>\n",
              "      <th>318</th>\n",
              "      <td>28993945</td>\n",
              "      <td>navyig@fibertel.com.ar</td>\n",
              "      <td>---</td>\n",
              "      <td>---</td>\n",
              "    </tr>\n",
              "    <tr>\n",
              "      <th>319</th>\n",
              "      <td>29003190</td>\n",
              "      <td>ANLAU_08@LIVE.COM.AR</td>\n",
              "      <td>---</td>\n",
              "      <td>---</td>\n",
              "    </tr>\n",
              "    <tr>\n",
              "      <th>320</th>\n",
              "      <td>29008648</td>\n",
              "      <td>ROBERTOWINY@GMAIL.COM</td>\n",
              "      <td>---</td>\n",
              "      <td>---</td>\n",
              "    </tr>\n",
              "    <tr>\n",
              "      <th>321</th>\n",
              "      <td>29012113</td>\n",
              "      <td>DE_LA_GARMA@YAHOO.COM.AR</td>\n",
              "      <td>---</td>\n",
              "      <td>---</td>\n",
              "    </tr>\n",
              "  </tbody>\n",
              "</table>\n",
              "<p>322 rows × 4 columns</p>\n",
              "</div>\n",
              "      <button class=\"colab-df-convert\" onclick=\"convertToInteractive('df-ac1a4d8f-eff9-448f-a6fb-e105fb8a20e3')\"\n",
              "              title=\"Convert this dataframe to an interactive table.\"\n",
              "              style=\"display:none;\">\n",
              "        \n",
              "  <svg xmlns=\"http://www.w3.org/2000/svg\" height=\"24px\"viewBox=\"0 0 24 24\"\n",
              "       width=\"24px\">\n",
              "    <path d=\"M0 0h24v24H0V0z\" fill=\"none\"/>\n",
              "    <path d=\"M18.56 5.44l.94 2.06.94-2.06 2.06-.94-2.06-.94-.94-2.06-.94 2.06-2.06.94zm-11 1L8.5 8.5l.94-2.06 2.06-.94-2.06-.94L8.5 2.5l-.94 2.06-2.06.94zm10 10l.94 2.06.94-2.06 2.06-.94-2.06-.94-.94-2.06-.94 2.06-2.06.94z\"/><path d=\"M17.41 7.96l-1.37-1.37c-.4-.4-.92-.59-1.43-.59-.52 0-1.04.2-1.43.59L10.3 9.45l-7.72 7.72c-.78.78-.78 2.05 0 2.83L4 21.41c.39.39.9.59 1.41.59.51 0 1.02-.2 1.41-.59l7.78-7.78 2.81-2.81c.8-.78.8-2.07 0-2.86zM5.41 20L4 18.59l7.72-7.72 1.47 1.35L5.41 20z\"/>\n",
              "  </svg>\n",
              "      </button>\n",
              "      \n",
              "  <style>\n",
              "    .colab-df-container {\n",
              "      display:flex;\n",
              "      flex-wrap:wrap;\n",
              "      gap: 12px;\n",
              "    }\n",
              "\n",
              "    .colab-df-convert {\n",
              "      background-color: #E8F0FE;\n",
              "      border: none;\n",
              "      border-radius: 50%;\n",
              "      cursor: pointer;\n",
              "      display: none;\n",
              "      fill: #1967D2;\n",
              "      height: 32px;\n",
              "      padding: 0 0 0 0;\n",
              "      width: 32px;\n",
              "    }\n",
              "\n",
              "    .colab-df-convert:hover {\n",
              "      background-color: #E2EBFA;\n",
              "      box-shadow: 0px 1px 2px rgba(60, 64, 67, 0.3), 0px 1px 3px 1px rgba(60, 64, 67, 0.15);\n",
              "      fill: #174EA6;\n",
              "    }\n",
              "\n",
              "    [theme=dark] .colab-df-convert {\n",
              "      background-color: #3B4455;\n",
              "      fill: #D2E3FC;\n",
              "    }\n",
              "\n",
              "    [theme=dark] .colab-df-convert:hover {\n",
              "      background-color: #434B5C;\n",
              "      box-shadow: 0px 1px 3px 1px rgba(0, 0, 0, 0.15);\n",
              "      filter: drop-shadow(0px 1px 2px rgba(0, 0, 0, 0.3));\n",
              "      fill: #FFFFFF;\n",
              "    }\n",
              "  </style>\n",
              "\n",
              "      <script>\n",
              "        const buttonEl =\n",
              "          document.querySelector('#df-ac1a4d8f-eff9-448f-a6fb-e105fb8a20e3 button.colab-df-convert');\n",
              "        buttonEl.style.display =\n",
              "          google.colab.kernel.accessAllowed ? 'block' : 'none';\n",
              "\n",
              "        async function convertToInteractive(key) {\n",
              "          const element = document.querySelector('#df-ac1a4d8f-eff9-448f-a6fb-e105fb8a20e3');\n",
              "          const dataTable =\n",
              "            await google.colab.kernel.invokeFunction('convertToInteractive',\n",
              "                                                     [key], {});\n",
              "          if (!dataTable) return;\n",
              "\n",
              "          const docLinkHtml = 'Like what you see? Visit the ' +\n",
              "            '<a target=\"_blank\" href=https://colab.research.google.com/notebooks/data_table.ipynb>data table notebook</a>'\n",
              "            + ' to learn more about interactive tables.';\n",
              "          element.innerHTML = '';\n",
              "          dataTable['output_type'] = 'display_data';\n",
              "          await google.colab.output.renderOutput(dataTable, element);\n",
              "          const docLink = document.createElement('div');\n",
              "          docLink.innerHTML = docLinkHtml;\n",
              "          element.appendChild(docLink);\n",
              "        }\n",
              "      </script>\n",
              "    </div>\n",
              "  </div>\n",
              "  "
            ]
          },
          "metadata": {},
          "execution_count": 38
        }
      ]
    },
    {
      "cell_type": "markdown",
      "source": [
        "# Enrequecimiento de datos"
      ],
      "metadata": {
        "id": "kf8Hrr5n-M0Y"
      }
    },
    {
      "cell_type": "markdown",
      "source": [
        "####- 30 - Agregar una nueva columna a los DataFrame de contactos, indicando el contact_type según corresponda (address, email, phone)"
      ],
      "metadata": {
        "id": "XwqLG65oHfQU"
      }
    },
    {
      "cell_type": "code",
      "source": [
        "df_phones_contact_col = df_phones.withColumn('contact_type_phones', lit('phone'))\n",
        "df_phones_contact_col.select('customer_id','contact_type_phones').show()"
      ],
      "metadata": {
        "id": "qz6g1mpwlQoK",
        "colab": {
          "base_uri": "https://localhost:8080/"
        },
        "outputId": "d942bb75-4d69-4cdb-a03c-2b34fac09cad"
      },
      "execution_count": null,
      "outputs": [
        {
          "output_type": "stream",
          "name": "stdout",
          "text": [
            "+-----------+-------------------+\n",
            "|customer_id|contact_type_phones|\n",
            "+-----------+-------------------+\n",
            "|   29354201|              phone|\n",
            "|   29389432|              phone|\n",
            "|   29382041|              phone|\n",
            "|   07395331|              phone|\n",
            "|   29349520|              phone|\n",
            "|   29349520|              phone|\n",
            "|   29390571|              phone|\n",
            "|   29353393|              phone|\n",
            "|   29387501|              phone|\n",
            "|   29391432|              phone|\n",
            "|   29390553|              phone|\n",
            "|   29389361|              phone|\n",
            "|   29400313|              phone|\n",
            "|   29401025|              phone|\n",
            "|   29401299|              phone|\n",
            "|   29325999|              phone|\n",
            "|   29402665|              phone|\n",
            "|   29402665|              phone|\n",
            "|   29375587|              phone|\n",
            "|   29375587|              phone|\n",
            "+-----------+-------------------+\n",
            "only showing top 20 rows\n",
            "\n"
          ]
        }
      ]
    },
    {
      "cell_type": "code",
      "source": [
        "df_emails_contact_col = df_emails.withColumn('contact_type_emails', lit('e-mail'))\n",
        "df_emails_contact_col.select('customer_id','contact_type_emails').show()"
      ],
      "metadata": {
        "id": "CUL_CS3ZldKn",
        "colab": {
          "base_uri": "https://localhost:8080/"
        },
        "outputId": "3b5f2c82-b788-4439-9388-0fab33c0642b"
      },
      "execution_count": null,
      "outputs": [
        {
          "output_type": "stream",
          "name": "stdout",
          "text": [
            "+-----------+-------------------+\n",
            "|customer_id|contact_type_emails|\n",
            "+-----------+-------------------+\n",
            "|   00038638|             e-mail|\n",
            "|   00037083|             e-mail|\n",
            "|   06179762|             e-mail|\n",
            "|   06179762|             e-mail|\n",
            "|   26957165|             e-mail|\n",
            "|   01128123|             e-mail|\n",
            "|   28886249|             e-mail|\n",
            "|   27514348|             e-mail|\n",
            "|   27333422|             e-mail|\n",
            "|   00031275|             e-mail|\n",
            "|   21938599|             e-mail|\n",
            "|   28990339|             e-mail|\n",
            "|   00033622|             e-mail|\n",
            "|   00033991|             e-mail|\n",
            "|   03692218|             e-mail|\n",
            "|   08698875|             e-mail|\n",
            "|   27335212|             e-mail|\n",
            "|   00038389|             e-mail|\n",
            "|   00043705|             e-mail|\n",
            "|   00043705|             e-mail|\n",
            "+-----------+-------------------+\n",
            "only showing top 20 rows\n",
            "\n"
          ]
        }
      ]
    },
    {
      "cell_type": "code",
      "source": [
        "df_address_contact_col = df_address.withColumn('contact_type_address', lit('address'))\n",
        "df_address_contact_col.select('customer_id','contact_type_address').show()"
      ],
      "metadata": {
        "id": "vHPhk9tIluhv",
        "colab": {
          "base_uri": "https://localhost:8080/"
        },
        "outputId": "88ed61f5-7747-4652-f941-985cc3db975f"
      },
      "execution_count": null,
      "outputs": [
        {
          "output_type": "stream",
          "name": "stdout",
          "text": [
            "+-----------+--------------------+\n",
            "|customer_id|contact_type_address|\n",
            "+-----------+--------------------+\n",
            "|   00000660|             address|\n",
            "|   07121078|             address|\n",
            "|   22374047|             address|\n",
            "|   00002450|             address|\n",
            "|   00003925|             address|\n",
            "|   00004038|             address|\n",
            "|   01188067|             address|\n",
            "|   00006509|             address|\n",
            "|   00006754|             address|\n",
            "|   00009582|             address|\n",
            "|   26761763|             address|\n",
            "|   00012730|             address|\n",
            "|   23483616|             address|\n",
            "|   00051576|             address|\n",
            "|   00016049|             address|\n",
            "|   00016995|             address|\n",
            "|   26074313|             address|\n",
            "|   27666452|             address|\n",
            "|   00001213|             address|\n",
            "|   00001213|             address|\n",
            "+-----------+--------------------+\n",
            "only showing top 20 rows\n",
            "\n"
          ]
        }
      ]
    },
    {
      "cell_type": "markdown",
      "source": [
        "####- 31 - Agregar una nueva columna al DataFrame de contactos telefónicos de clientes, resguardando el contacto en formato json contenido en string, con los datos: Phone_type (mobile, landline ), Código país., Código de Área, Número teléfono."
      ],
      "metadata": {
        "id": "3XoMOFoyHgkq"
      }
    },
    {
      "cell_type": "code",
      "source": [
        "df_phone_contact = df_phone_contact.withColumn(\"phone_contact\", to_json(struct(df_phone_contact.phone_type, df_phone_contact.phone_country_id, df_phone_contact.prefix_phone_id, df_phone_contact.phone_area_id, df_phone_contact.cellphone_prefix_id, df_phone_contact.phone_exchange_id, df_phone_contact.phone_line_id)))"
      ],
      "metadata": {
        "id": "UpXne4NcU_xU"
      },
      "execution_count": null,
      "outputs": []
    },
    {
      "cell_type": "code",
      "source": [
        "df_phone_contact.show(truncate=False)"
      ],
      "metadata": {
        "id": "ZkMd0glic11C",
        "colab": {
          "base_uri": "https://localhost:8080/"
        },
        "outputId": "62e5642d-31d4-4bd4-a2ee-1467ed4bbc9e"
      },
      "execution_count": null,
      "outputs": [
        {
          "output_type": "stream",
          "name": "stdout",
          "text": [
            "+-----------+--------------+-------------------+-----------------+----------+----------------+---------------+-------------+-------------------+-----------------+-------------+-------------+---------------+-----------------------+------------------+---------------------+-----------------+----------+-----------+--------------------------+---------------------+--------------------+---------------------+----------------+-------------------------+-------------------------+------------------+-------------------+-----------------+--------------------+---------------------+-----------------------+----------------------+--------------------+----------------------+------------------------------+----------------------------+-------------------+----------------+----------------+-------------------+--------------------+-----------------------+-----------------------+-------------+-------------+--------------+---------------+--------------------+---------+----------------+-----------+-----------------------+-----------------------+----------+-------------------+-----------------+--------------------------+--------------------+----------------+--------------------+-------------------+-----------+----------+----------------------+--------------------+---------------------+-----------+--------------------------+----------------------------+-------------------------------+------------------------+------------------------+--------------------------+------------------------+--------------------------+----------------------------+------------------+------------------------+-------------------+-------------------+---------------------------+-----------------+-------------------+-----------------+-------------------------------+--------------------+---------------------+------------------+----------------+--------------------+--------------------------+----------------+--------------------------+--------------------+-------------+----------------+--------------------+-------------------+--------+---------------------+-------------------------+--------------------------+--------------+--------------------+--------------------+----------------+-------------+-------------------------+-----------------------+-----------------------+--------------------+-------+----------------+---------------------------------------------------------------------------------------------------------------------------------------------------------------------+\n",
            "|customer_id|phone_use_type|address_sequence_id|phone_sequence_id|phone_type|phone_country_id|prefix_phone_id|phone_area_id|cellphone_prefix_id|phone_exchange_id|phone_line_id|phone_id     |phone_intern_id|aditional_info_txt_desc|primary_phone_type|address_sequence_type|address_town_name|zipcode_id|province_id|customer_phone_status_type|phone_status_mod_date|contact_channel_type|sender_application_id|wrong_phone_type|normalization_status_type|normalization_reason_name|normalization_date|validity_start_date|validity_end_date|dlvy_day_monday_type|dlvy_day_tuesday_type|dlvy_day_wednesday_type|dlvy_day_thursday_type|dlvy_day_friday_type|dlvy_day_saturday_type|delivery_contact_start_hm_date|delivery_contact_end_hm_date|registry_entry_date|register_user_id|last_change_date|last_change_user_id|last_change_hms_date|last_change_terminal_id|operational_load_date  |personal_type|personal_id  |admission_date|sale_channel_id|operation_channel_id|branch_id|business_area_id|campaing_id|customer_situation_type|customer_condition_type|manager_id|tracking_manager_id|credit_manager_id|credit_recovery_manager_id|last_name           |second_last_name|first_name          |marital_status_type|gender_type|birth_date|country_nationality_id|residence_country_id|customer_subject_type|sector_type|customer_level_access_type|cust_bcra_econ_activity_type|internal_economic_activity_type|bbva_inhabilitation_type|customer_block_bbva_date|customer_unblock_bbva_date|customer_block_bcra_date|customer_unblock_bcra_date|customer_pending_notice_type|last_notice_number|last_reference_number_id|last_service_number|last_address_number|last_unlinking_account_date|customer_end_date|last_change_user_id|customer_pep_type|bbva_family_lnk_weighted_number|customer_status_type|scoring_activity_type|refinancing_number|refinancing_date|coholder_customer_id|customer_bcra_situation_id|customer_cuit_id|customer_position_vat_type|balance_closing_date|profession_id|bbva_cust_number|customer_linked_type|customer_entry_type|job_type|profession_start_date|customer_first_block_date|customer_registration_date|l_c_d_customer|last_change_hms_date|register_terminal_id|register_user_id|customer_type|customer_seniority_number|last_status_change_date|operational_load_date  |job_type_desc       |row_num|full_phone      |phone_contact                                                                                                                                                        |\n",
            "+-----------+--------------+-------------------+-----------------+----------+----------------+---------------+-------------+-------------------+-----------------+-------------+-------------+---------------+-----------------------+------------------+---------------------+-----------------+----------+-----------+--------------------------+---------------------+--------------------+---------------------+----------------+-------------------------+-------------------------+------------------+-------------------+-----------------+--------------------+---------------------+-----------------------+----------------------+--------------------+----------------------+------------------------------+----------------------------+-------------------+----------------+----------------+-------------------+--------------------+-----------------------+-----------------------+-------------+-------------+--------------+---------------+--------------------+---------+----------------+-----------+-----------------------+-----------------------+----------+-------------------+-----------------+--------------------------+--------------------+----------------+--------------------+-------------------+-----------+----------+----------------------+--------------------+---------------------+-----------+--------------------------+----------------------------+-------------------------------+------------------------+------------------------+--------------------------+------------------------+--------------------------+----------------------------+------------------+------------------------+-------------------+-------------------+---------------------------+-----------------+-------------------+-----------------+-------------------------------+--------------------+---------------------+------------------+----------------+--------------------+--------------------------+----------------+--------------------------+--------------------+-------------+----------------+--------------------+-------------------+--------+---------------------+-------------------------+--------------------------+--------------+--------------------+--------------------+----------------+-------------+-------------------------+-----------------------+-----------------------+--------------------+-------+----------------+---------------------------------------------------------------------------------------------------------------------------------------------------------------------+\n",
            "|00000442   |00            |0                  |1                |3         |080             |54             |297          |15                 |472              |9337         |384498667593 |               |                       |N                 |N                    |                 |          |           |DECLARADO                 |2022-07-20           |01                  |CTES                 |                |NORM AUTO                |COPDTE                   |2022-07-20        |1900-01-01         |1900-01-01       |                    |                     |                       |                      |                    |                      |00:00:00                      |00:00:00                    |2022-07-20         |A125588         |2022-07-20      |A125588            |122016              |E307                   |2022-11-30 00:42:41.236|27           |0000000000712|1994-12-23    |10000          |                    |340      |34              |0          |1                      |8                      |211       |                   |                 |                          |FELDMAN             |                |SAMUEL              |5                  |M          |1921-12-21|80                    |080                 |201                  |100        |0                         |82                          |21101000                       |0                       |null                    |null                      |null                    |null                      |0                           |0                 |0                       |0                  |1                  |null                       |null             |PCLE25Q            |0                |1                              |CA                  |47                   |null              |null            |                    |null                      |0027000007124   |042                       |null                |016          |                |N                   |OP                 |001     |2009-01-01           |null                     |1994-12-23                |2005-05-17    |161900              |P37B                |VUELCO          |S            |null                     |null                   |2022-03-10 01:05:30.551|REL.DEPENDENCIA/FIJO|1      |54-297-472-9337 |{\"phone_type\":\"3\",\"phone_country_id\":\"080\",\"prefix_phone_id\":\"54\",\"phone_area_id\":\"297\",\"cellphone_prefix_id\":\"15\",\"phone_exchange_id\":\"472\",\"phone_line_id\":\"9337\"} |\n",
            "|00000442   |02            |0                  |2                |3         |080             |54             |297          |15                 |529              |6284         |712455962424 |               |                       |N                 |N                    |                 |          |           |DECLARADO                 |2022-07-20           |01                  |CTES                 |                |NORM AUTO                |COPDTEL                  |2022-07-20        |1900-01-01         |1900-01-01       |                    |                     |                       |                      |                    |                      |00:00:00                      |00:00:00                    |2022-07-20         |A125588         |2022-07-20      |A125588            |122016              |E307                   |2022-11-30 00:42:41.236|27           |0000000000712|1994-12-23    |10000          |                    |340      |34              |0          |1                      |8                      |211       |                   |                 |                          |FELDMAN             |                |SAMUEL              |5                  |M          |1921-12-21|80                    |080                 |201                  |100        |0                         |82                          |21101000                       |0                       |null                    |null                      |null                    |null                      |0                           |0                 |0                       |0                  |1                  |null                       |null             |PCLE25Q            |0                |1                              |CA                  |47                   |null              |null            |                    |null                      |0027000007124   |042                       |null                |016          |                |N                   |OP                 |001     |2009-01-01           |null                     |1994-12-23                |2005-05-17    |161900              |P37B                |VUELCO          |S            |null                     |null                   |2022-03-10 01:05:30.551|REL.DEPENDENCIA/FIJO|2      |54-297-529-6284 |{\"phone_type\":\"3\",\"phone_country_id\":\"080\",\"prefix_phone_id\":\"54\",\"phone_area_id\":\"297\",\"cellphone_prefix_id\":\"15\",\"phone_exchange_id\":\"529\",\"phone_line_id\":\"6284\"} |\n",
            "|00001419   |00            |0                  |2                |3         |080             |54             |11           |15                 |6679             |3207         |044982237001 |               |                       |S                 |N                    |                 |          |           |COMPROBADO                |2022-11-01           |01                  |CTES                 |                |NORM AUTO                |COPDTEL                  |2022-11-01        |1900-01-01         |1900-01-01       |                    |                     |                       |                      |                    |                      |00:00:00                      |00:00:00                    |2022-11-01         |A126407         |2022-11-01      |A126407            |135527              |L0B2                   |2022-11-30 00:42:41.236|77           |0000000006055|1994-06-24    |00000          |                    |201      |30              |0          |1                      |8                      |521       |                   |                 |                          |ASOC.COOP.ESCUELA N'|                |SIMON DE IRIONDO    |null               |1          |1991-06-02|80                    |080                 |203                  |100        |0                         |74                          |86111000                       |0                       |null                    |null                      |null                    |null                      |0                           |0                 |0                       |0                  |0                  |null                       |null             |PCLE18Q            |0                |1                              |CA                  |null                 |null              |null            |                    |null                      |0000000000000   |062                       |null                |             |                |N                   |                   |        |2009-01-01           |null                     |1994-06-24                |2012-01-04    |060434              |P37B                |SINCRO          |S            |null                     |null                   |2022-03-10 01:05:30.551|-                   |1      |54-11-6679-3207 |{\"phone_type\":\"3\",\"phone_country_id\":\"080\",\"prefix_phone_id\":\"54\",\"phone_area_id\":\"11\",\"cellphone_prefix_id\":\"15\",\"phone_exchange_id\":\"6679\",\"phone_line_id\":\"3207\"} |\n",
            "|00001939   |00            |0                  |1                |3         |080             |54             |11           |15                 |3870             |0150         |008960137788 |               |                       |N                 |N                    |                 |          |           |COMPROBADO                |2022-09-21           |01                  |CTES                 |                |NORM AUTO                |COPDTEL                  |2022-09-21        |1900-01-01         |1900-01-01       |                    |                     |                       |                      |                    |                      |00:00:00                      |00:00:00                    |2022-09-21         |GPROBANK        |2022-09-21      |PCLUPCRT           |162941              |OSMS                   |2022-11-30 00:42:41.236|26           |0000000009434|1996-09-26    |10000          |                    |999      |34              |0          |1                      |8                      |901       |                   |                 |                          |SAN PEDRO           |                |MARTHA JUANA        |5                  |F          |null      |80                    |080                 |201                  |100        |0                         |82                          |21101000                       |0                       |null                    |null                      |null                    |null                      |0                           |0                 |0                       |0                  |0                  |null                       |null             |PCLE06MM           |0                |1                              |CA                  |47                   |null              |null            |                    |null                      |0000000000000   |042                       |null                |016          |                |N                   |                   |001     |2009-01-01           |null                     |1996-09-26                |2009-09-18    |161052              |P37B                |VUELCO          |S            |null                     |null                   |2022-03-10 01:05:30.551|REL.DEPENDENCIA/FIJO|1      |54-11-3870-0150 |{\"phone_type\":\"3\",\"phone_country_id\":\"080\",\"prefix_phone_id\":\"54\",\"phone_area_id\":\"11\",\"cellphone_prefix_id\":\"15\",\"phone_exchange_id\":\"3870\",\"phone_line_id\":\"0150\"} |\n",
            "|00002707   |01            |0                  |1                |1         |080             |54             |299          |                   |447              |7116         |6116490163   |               |                       |N                 |N                    |                 |          |           |DECLARADO                 |2022-08-12           |01                  |CTES                 |                |NORM AUTO                |COPDTE                   |2022-08-17        |1900-01-01         |1900-01-01       |                    |                     |                       |                      |                    |                      |00:00:00                      |00:00:00                    |2022-08-12         |A126869         |2022-08-17      |A126869            |141848              |5240                   |2022-11-30 00:42:41.236|27           |0000000015988|1995-11-21    |10000          |                    |81       |34              |0          |1                      |8                      |233       |                   |                 |                          |CAPITAINE           |                |FUNES CARLOS        |5                  |M          |null      |80                    |080                 |201                  |100        |0                         |82                          |21101000                       |0                       |null                    |null                      |null                    |null                      |0                           |0                 |0                       |0                  |0                  |null                       |null             |PCLE25Q            |0                |1                              |CA                  |47                   |null              |null            |                    |null                      |0000000000000   |042                       |null                |016          |                |N                   |                   |001     |2009-01-01           |null                     |1995-11-21                |2009-09-18    |161900              |P37B                |VUELCO          |S            |null                     |null                   |2022-03-10 01:05:30.551|REL.DEPENDENCIA/FIJO|1      |54-299-447-7116 |{\"phone_type\":\"1\",\"phone_country_id\":\"080\",\"prefix_phone_id\":\"54\",\"phone_area_id\":\"299\",\"cellphone_prefix_id\":\"\",\"phone_exchange_id\":\"447\",\"phone_line_id\":\"7116\"}   |\n",
            "|00002790   |00            |0                  |1                |3         |080             |54             |342          |15                 |466              |2478         |051880599267 |               |                       |N                 |N                    |                 |          |           |COMPROBADO                |2022-11-18           |16                  |CTES                 |                |NORM AUTO                |COPDTE                   |2022-10-03        |1900-01-01         |1900-01-01       |                    |                     |                       |                      |                    |                      |00:00:00                      |00:00:00                    |2022-10-03         |A118982         |2022-11-18      |XATM               |190233              |XATM                   |2022-11-30 00:42:41.236|27           |0000000016701|1995-11-21    |10000          |                    |81       |34              |0          |1                      |8                      |233       |                   |                 |                          |MANCINI             |                |MARCELINO A         |5                  |M          |null      |80                    |080                 |201                  |100        |0                         |82                          |21101000                       |0                       |null                    |null                      |null                    |null                      |0                           |0                 |0                       |0                  |2                  |null                       |null             |PCLE25Q            |0                |1                              |CA                  |47                   |null              |null            |                    |null                      |0000000000000   |042                       |null                |016          |                |N                   |                   |001     |2009-01-01           |null                     |1995-11-21                |2009-09-18    |161900              |P37B                |VUELCO          |S            |null                     |null                   |2022-03-10 01:05:30.551|REL.DEPENDENCIA/FIJO|1      |54-342-466-2478 |{\"phone_type\":\"3\",\"phone_country_id\":\"080\",\"prefix_phone_id\":\"54\",\"phone_area_id\":\"342\",\"cellphone_prefix_id\":\"15\",\"phone_exchange_id\":\"466\",\"phone_line_id\":\"2478\"} |\n",
            "|00002790   |00            |0                  |2                |1         |080             |54             |342          |                   |488              |3620         |4330463819   |               |                       |N                 |N                    |                 |          |           |VALIDADO                  |2022-10-08           |16                  |CTES                 |                |NORM AUTO                |COPDTEL                  |2022-10-03        |1900-01-01         |1900-01-01       |                    |                     |                       |                      |                    |                      |00:00:00                      |00:00:00                    |2022-10-03         |A118982         |2022-10-08      |UPROBCAT           |190239              |LTGJ                   |2022-11-30 00:42:41.236|27           |0000000016701|1995-11-21    |10000          |                    |81       |34              |0          |1                      |8                      |233       |                   |                 |                          |MANCINI             |                |MARCELINO A         |5                  |M          |null      |80                    |080                 |201                  |100        |0                         |82                          |21101000                       |0                       |null                    |null                      |null                    |null                      |0                           |0                 |0                       |0                  |2                  |null                       |null             |PCLE25Q            |0                |1                              |CA                  |47                   |null              |null            |                    |null                      |0000000000000   |042                       |null                |016          |                |N                   |                   |001     |2009-01-01           |null                     |1995-11-21                |2009-09-18    |161900              |P37B                |VUELCO          |S            |null                     |null                   |2022-03-10 01:05:30.551|REL.DEPENDENCIA/FIJO|2      |54-342-488-3620 |{\"phone_type\":\"1\",\"phone_country_id\":\"080\",\"prefix_phone_id\":\"54\",\"phone_area_id\":\"342\",\"cellphone_prefix_id\":\"\",\"phone_exchange_id\":\"488\",\"phone_line_id\":\"3620\"}   |\n",
            "|00004287   |00            |0                  |2                |3         |080             |54             |3541         |15                 |5988             |799          |1456900382957|               |                       |N                 |N                    |                 |00000     |00         |DECLARADO                 |2022-08-29           |01                  |CTES                 |                |NORM OPER                |NE                       |2022-08-29        |1900-01-01         |1900-01-01       |                    |                     |                       |                      |                    |                      |00:00:00                      |00:00:00                    |2022-08-29         |A128522         |2022-08-29      |A128522            |085936              |6004                   |2022-11-30 00:42:41.236|26           |0000000038418|1994-11-22    |10000          |                    |999      |34              |0          |1                      |8                      |113       |                   |                 |                          |BLANCO              |                |BLANCA ADA          |5                  |F          |null      |80                    |080                 |201                  |100        |0                         |82                          |21101000                       |0                       |null                    |null                      |null                    |null                      |                            |0                 |0                       |0                  |0                  |null                       |null             |PCLE06R            |0                |1                              |CA                  |47                   |null              |null            |                    |null                      |0027000384181   |042                       |null                |016          |                |N                   |                   |001     |2009-01-01           |null                     |1994-11-22                |2009-09-18    |161052              |P37B                |VUELCO          |S            |null                     |null                   |2022-03-10 01:05:30.551|REL.DEPENDENCIA/FIJO|1      |54-3541-5988-799|{\"phone_type\":\"3\",\"phone_country_id\":\"080\",\"prefix_phone_id\":\"54\",\"phone_area_id\":\"3541\",\"cellphone_prefix_id\":\"15\",\"phone_exchange_id\":\"5988\",\"phone_line_id\":\"799\"}|\n",
            "|00004724   |00            |0                  |1                |3         |080             |54             |11           |15                 |2408             |4447         |820582605809 |               |                       |N                 |N                    |                 |          |           |COMPROBADO                |2022-11-04           |01                  |PVTA                 |                |NORM AUTO                |COSM                     |2022-08-22        |1900-01-01         |1900-01-01       |                    |                     |                       |                      |                    |                      |00:00:00                      |00:00:00                    |2022-08-22         |VW2CCON0        |2022-11-04      |XATM               |134712              |XATM                   |2022-11-30 00:42:41.236|28           |0000000043807|1993-08-24    |10000          |                    |25       |34              |0          |1                      |1                      |113       |                   |                 |                          |TUEZZO              |                |TERESA              |5                  |F          |1920-02-20|80                    |080                 |201                  |100        |0                         |82                          |21101000                       |0                       |null                    |null                      |null                    |null                      |0                           |0                 |0                       |0                  |0                  |null                       |null             |PCLE25Q            |0                |1                              |CA                  |47                   |null              |null            |                    |null                      |0027000438079   |042                       |null                |016          |                |N                   |                   |001     |2009-01-01           |null                     |1993-08-24                |2009-12-14    |161900              |P37B                |VUELCO          |S            |null                     |null                   |2022-03-10 01:05:30.551|REL.DEPENDENCIA/FIJO|1      |54-11-2408-4447 |{\"phone_type\":\"3\",\"phone_country_id\":\"080\",\"prefix_phone_id\":\"54\",\"phone_area_id\":\"11\",\"cellphone_prefix_id\":\"15\",\"phone_exchange_id\":\"2408\",\"phone_line_id\":\"4447\"} |\n",
            "|00007932   |00            |0                  |1                |3         |080             |54             |385          |15                 |406              |5887         |402572158909 |               |                       |N                 |N                    |                 |          |           |DECLARADO                 |2022-09-29           |01                  |CTES                 |                |NORM AUTO                |COPDTEL                  |2022-09-29        |1900-01-01         |1900-01-01       |                    |                     |                       |                      |                    |                      |00:00:00                      |00:00:00                    |2022-09-29         |A126810         |2022-09-29      |A126810            |080344              |2433                   |2022-11-30 00:42:41.236|28           |0000000092563|1993-08-03    |10000          |                    |165      |34              |0          |1                      |8                      |495       |                   |                 |                          |MOMENTI             |                |PERLA               |5                  |F          |1924-01-23|80                    |080                 |201                  |100        |0                         |82                          |21101000                       |0                       |null                    |null                      |null                    |null                      |0                           |0                 |0                       |0                  |0                  |null                       |null             |PCLE25Q            |0                |1                              |CA                  |47                   |null              |null            |                    |null                      |0027000925638   |042                       |null                |016          |                |N                   |AD                 |001     |2009-01-01           |null                     |1993-08-03                |2013-03-09    |161900              |P37B                |VUELCO          |S            |null                     |null                   |2022-03-10 01:05:30.551|REL.DEPENDENCIA/FIJO|1      |54-385-406-5887 |{\"phone_type\":\"3\",\"phone_country_id\":\"080\",\"prefix_phone_id\":\"54\",\"phone_area_id\":\"385\",\"cellphone_prefix_id\":\"15\",\"phone_exchange_id\":\"406\",\"phone_line_id\":\"5887\"} |\n",
            "|00011850   |00            |0                  |1                |3         |080             |54             |3489         |15                 |49               |3578         |163848812051 |               |                       |N                 |N                    |                 |          |           |COMPROBADO                |2022-10-27           |01                  |CTES                 |                |NORM AUTO                |COPDTE                   |2022-10-24        |1900-01-01         |1900-01-01       |                    |                     |                       |                      |                    |                      |00:00:00                      |00:00:00                    |2022-10-24         |A128087         |2022-10-27      |XATM               |102418              |XATM                   |2022-11-30 00:42:41.236|50           |0000000104668|1979-08-31    |00000          |                    |999      |40              |0          |1                      |1                      |1101      |                   |                 |                          |BATTISTI PABLO CALIX|                |BATTISTI PABLO CALIX|null               |0          |null      |80                    |080                 |203                  |100        |0                         |74                          |86111000                       |0                       |null                    |null                      |null                    |null                      |                            |0                 |0                       |0                  |0                  |null                       |null             |RCLMCNE            |0                |1                              |CA                  |null                 |null              |null            |                    |null                      |0000000104668   |062                       |null                |             |                |N                   |                   |        |2009-01-01           |null                     |1994-06-24                |2021-04-06    |170226              |P37C                |VUELCO          |             |null                     |null                   |2022-03-10 01:05:30.551|-                   |1      |54-3489-49-3578 |{\"phone_type\":\"3\",\"phone_country_id\":\"080\",\"prefix_phone_id\":\"54\",\"phone_area_id\":\"3489\",\"cellphone_prefix_id\":\"15\",\"phone_exchange_id\":\"49\",\"phone_line_id\":\"3578\"} |\n",
            "|00011850   |02            |0                  |2                |3         |080             |54             |11           |15                 |2578             |1080         |790484486094 |               |                       |N                 |N                    |                 |          |           |DECLARADO                 |2022-10-24           |01                  |CTES                 |                |NORM AUTO                |COPDTEL                  |2022-10-24        |1900-01-01         |1900-01-01       |                    |                     |                       |                      |                    |                      |00:00:00                      |00:00:00                    |2022-10-24         |A128087         |2022-10-24      |A128087            |102418              |DJ02                   |2022-11-30 00:42:41.236|50           |0000000104668|1979-08-31    |00000          |                    |999      |40              |0          |1                      |1                      |1101      |                   |                 |                          |BATTISTI PABLO CALIX|                |BATTISTI PABLO CALIX|null               |0          |null      |80                    |080                 |203                  |100        |0                         |74                          |86111000                       |0                       |null                    |null                      |null                    |null                      |                            |0                 |0                       |0                  |0                  |null                       |null             |RCLMCNE            |0                |1                              |CA                  |null                 |null              |null            |                    |null                      |0000000104668   |062                       |null                |             |                |N                   |                   |        |2009-01-01           |null                     |1994-06-24                |2021-04-06    |170226              |P37C                |VUELCO          |             |null                     |null                   |2022-03-10 01:05:30.551|-                   |2      |54-11-2578-1080 |{\"phone_type\":\"3\",\"phone_country_id\":\"080\",\"prefix_phone_id\":\"54\",\"phone_area_id\":\"11\",\"cellphone_prefix_id\":\"15\",\"phone_exchange_id\":\"2578\",\"phone_line_id\":\"1080\"} |\n",
            "|00012051   |00            |0                  |1                |3         |080             |54             |3401         |15                 |53               |4381         |226398993225 |               |                       |N                 |N                    |                 |          |           |DECLARADO                 |2022-10-06           |01                  |PVTA                 |                |NORM AUTO                |COSM                     |2022-10-06        |1900-01-01         |1900-01-01       |                    |                     |                       |                      |                    |                      |00:00:00                      |00:00:00                    |2022-10-06         |VW2CCON0        |2022-10-06      |VW2CCON0           |103328              |PVTA                   |2022-11-30 00:42:41.236|50           |0000000104886|1979-08-31    |00000          |                    |999      |40              |0          |1                      |1                      |1101      |                   |                 |                          |OLIVERA FEDERICO    |                |OLIVERA FEDERICO    |null               |0          |null      |80                    |080                 |203                  |100        |0                         |74                          |86111000                       |0                       |null                    |null                      |null                    |null                      |                            |0                 |0                       |0                  |0                  |null                       |null             |RCLMCNE            |0                |1                              |CA                  |null                 |null              |null            |                    |null                      |0000000104886   |062                       |null                |             |                |N                   |                   |        |2009-01-01           |null                     |1994-06-22                |2021-04-06    |170226              |P37C                |VUELCO          |             |null                     |null                   |2022-03-10 01:05:30.551|-                   |1      |54-3401-53-4381 |{\"phone_type\":\"3\",\"phone_country_id\":\"080\",\"prefix_phone_id\":\"54\",\"phone_area_id\":\"3401\",\"cellphone_prefix_id\":\"15\",\"phone_exchange_id\":\"53\",\"phone_line_id\":\"4381\"} |\n",
            "|00012611   |00            |0                  |1                |3         |080             |54             |11           |15                 |6114             |1855         |162848642527 |               |                       |N                 |N                    |                 |          |           |COMPROBADO                |2022-08-30           |01                  |CTES                 |                |NORM AUTO                |COPDTE                   |2022-08-29        |1900-01-01         |1900-01-01       |                    |                     |                       |                      |                    |                      |00:00:00                      |00:00:00                    |2022-08-24         |A127359         |2022-08-30      |XATM               |084918              |XATM                   |2022-11-30 00:42:41.236|28           |0000000109388|1994-09-26    |10000          |                    |150      |34              |0          |1                      |8                      |498       |                   |                 |                          |ARISTEGUI           |                |JULIA               |5                  |F          |null      |80                    |080                 |201                  |100        |0                         |82                          |21101000                       |0                       |null                    |null                      |null                    |null                      |                            |0                 |0                       |0                  |0                  |null                       |null             |PCLE25Q            |0                |1                              |CA                  |47                   |null              |null            |                    |null                      |0027001093881   |042                       |null                |016          |                |N                   |                   |001     |2009-01-01           |null                     |1994-01-10                |2009-09-18    |161900              |P37B                |VUELCO          |S            |null                     |null                   |2022-03-10 01:05:30.551|REL.DEPENDENCIA/FIJO|1      |54-11-6114-1855 |{\"phone_type\":\"3\",\"phone_country_id\":\"080\",\"prefix_phone_id\":\"54\",\"phone_area_id\":\"11\",\"cellphone_prefix_id\":\"15\",\"phone_exchange_id\":\"6114\",\"phone_line_id\":\"1855\"} |\n",
            "|00012611   |00            |0                  |2                |1         |080             |54             |11           |                   |4344             |3165         |0647016054   |               |                       |N                 |N                    |                 |          |           |VALIDADO                  |2022-08-30           |16                  |CTES                 |                |NORM AUTO                |COPDTEL                  |2022-08-29        |1900-01-01         |1900-01-01       |                    |                     |                       |                      |                    |                      |00:00:00                      |00:00:00                    |2022-08-29         |A127359         |2022-08-30      |UPROBCAT           |150456              |Z322                   |2022-11-30 00:42:41.236|28           |0000000109388|1994-09-26    |10000          |                    |150      |34              |0          |1                      |8                      |498       |                   |                 |                          |ARISTEGUI           |                |JULIA               |5                  |F          |null      |80                    |080                 |201                  |100        |0                         |82                          |21101000                       |0                       |null                    |null                      |null                    |null                      |                            |0                 |0                       |0                  |0                  |null                       |null             |PCLE25Q            |0                |1                              |CA                  |47                   |null              |null            |                    |null                      |0027001093881   |042                       |null                |016          |                |N                   |                   |001     |2009-01-01           |null                     |1994-01-10                |2009-09-18    |161900              |P37B                |VUELCO          |S            |null                     |null                   |2022-03-10 01:05:30.551|REL.DEPENDENCIA/FIJO|2      |54-11-4344-3165 |{\"phone_type\":\"1\",\"phone_country_id\":\"080\",\"prefix_phone_id\":\"54\",\"phone_area_id\":\"11\",\"cellphone_prefix_id\":\"\",\"phone_exchange_id\":\"4344\",\"phone_line_id\":\"3165\"}   |\n",
            "|00013498   |02            |0                  |2                |3         |080             |54             |221          |15                 |620              |8511         |533666791591 |               |                       |N                 |N                    |                 |          |           |DECLARADO                 |2022-08-22           |35                  |TVTA                 |                |NORM AUTO                |COSM                     |2022-08-22        |1900-01-01         |1900-01-01       |                    |                     |                       |                      |                    |                      |00:00:00                      |00:00:00                    |2022-08-22         |GPROTLVT        |2022-08-22      |GPROTLVT           |155710              |Y53C                   |2022-11-30 00:42:41.236|26           |0000000121540|1996-09-26    |10000          |                    |999      |34              |0          |1                      |8                      |901       |                   |                 |                          |VILLAR              |                |ANA MARIA           |5                  |F          |null      |80                    |080                 |201                  |100        |0                         |82                          |21101000                       |0                       |null                    |null                      |null                    |null                      |0                           |0                 |0                       |0                  |0                  |null                       |null             |PCLE06MM           |0                |1                              |CA                  |47                   |null              |null            |                    |null                      |0027001215405   |042                       |null                |016          |                |N                   |                   |001     |2009-01-01           |null                     |1996-09-26                |2009-09-18    |161052              |P37B                |VUELCO          |S            |null                     |null                   |2022-03-10 01:05:30.551|REL.DEPENDENCIA/FIJO|1      |54-221-620-8511 |{\"phone_type\":\"3\",\"phone_country_id\":\"080\",\"prefix_phone_id\":\"54\",\"phone_area_id\":\"221\",\"cellphone_prefix_id\":\"15\",\"phone_exchange_id\":\"620\",\"phone_line_id\":\"8511\"} |\n",
            "|00014664   |00            |0                  |1                |3         |080             |54             |11           |15                 |6505             |0605         |451978668757 |               |04                     |N                 |N                    |                 |          |           |DECLARADO                 |2022-10-06           |01                  |PVTA                 |                |NORM AUTO                |COSM                     |2022-10-06        |2022-10-06         |1900-01-01       |                    |                     |                       |                      |                    |                      |00:00:00                      |00:00:00                    |2022-10-06         |VW2CCON0        |2022-10-06      |PCLE20N            |180327              |BATC                   |2022-11-30 00:42:41.236|28           |0000000135700|1993-04-12    |10000          |                    |140      |34              |0          |1                      |1                      |473       |                   |                 |                          |STOCHETTI           |                |ALICIA BETTY        |2                  |F          |1920-06-17|80                    |080                 |201                  |100        |0                         |82                          |21101000                       |0                       |null                    |null                      |null                    |null                      |0                           |0                 |0                       |0                  |0                  |null                       |null             |PCLE25Q            |0                |1                              |CA                  |47                   |null              |null            |                    |null                      |0027001357005   |042                       |null                |016          |                |N                   |                   |001     |2009-01-01           |null                     |1994-01-17                |2000-06-23    |161900              |P37B                |VUELCO          |S            |null                     |null                   |2022-03-10 01:05:30.551|REL.DEPENDENCIA/FIJO|1      |54-11-6505-0605 |{\"phone_type\":\"3\",\"phone_country_id\":\"080\",\"prefix_phone_id\":\"54\",\"phone_area_id\":\"11\",\"cellphone_prefix_id\":\"15\",\"phone_exchange_id\":\"6505\",\"phone_line_id\":\"0605\"} |\n",
            "|00015497   |00            |0                  |1                |3         |080             |54             |11           |15                 |5105             |2460         |975842902003 |               |                       |N                 |N                    |                 |          |           |COMPROBADO                |2022-07-28           |01                  |PVTA                 |                |NORM AUTO                |COSM                     |2022-07-28        |1900-01-01         |1900-01-01       |                    |                     |                       |                      |                    |                      |00:00:00                      |00:00:00                    |2022-07-28         |VW2CCON0        |2022-07-28      |PCLUPCRT           |164850              |OSMS                   |2022-11-30 00:42:41.236|30           |0000000146556|1993-03-12    |10000          |                    |108      |34              |0          |1                      |8                      |364       |                   |                 |                          |SANDFORD            |SMITH           |RUTH SARAH          |5                  |F          |1967-08-09|65                    |080                 |201                  |100        |0                         |82                          |21101000                       |0                       |null                    |null                      |null                    |null                      |0                           |0                 |0                       |0                  |0                  |null                       |null             |PCLE06R            |0                |1                              |CA                  |47                   |null              |null            |                    |null                      |0000000000000   |042                       |null                |016          |                |N                   |AD                 |001     |2009-01-01           |null                     |1993-11-17                |2013-03-09    |150515              |P37B                |VUELCO          |S            |null                     |null                   |2022-03-10 01:05:30.551|REL.DEPENDENCIA/FIJO|1      |54-11-5105-2460 |{\"phone_type\":\"3\",\"phone_country_id\":\"080\",\"prefix_phone_id\":\"54\",\"phone_area_id\":\"11\",\"cellphone_prefix_id\":\"15\",\"phone_exchange_id\":\"5105\",\"phone_line_id\":\"2460\"} |\n",
            "|00051576   |00            |0                  |1                |3         |080             |54             |11           |15                 |2653             |1080         |959943195039 |               |                       |N                 |N                    |                 |          |           |COMPROBADO                |2022-10-12           |01                  |PVTA                 |                |NORM AUTO                |COSM                     |2022-10-12        |1900-01-01         |1900-01-01       |                    |                     |                       |                      |                    |                      |00:00:00                      |00:00:00                    |2022-10-12         |VW2CCON0        |2022-10-12      |PCLUPCRT           |142116              |OSMS                   |2022-11-30 00:42:41.236|28           |0000000985182|1989-03-16    |10000          |                    |38       |34              |0          |1                      |8                      |137       |                   |                 |                          |BERAZATEGUI         |                |CARMEN              |1                  |F          |1935-05-07|80                    |080                 |201                  |100        |0                         |82                          |21101000                       |0                       |null                    |null                      |null                    |null                      |0                           |0                 |0                       |0                  |5                  |null                       |null             |PCLE25Q            |0                |1                              |CA                  |47                   |null              |null            |                    |null                      |0027009851823   |045                       |null                |016          |001017319       |N                   |AD                 |001     |2009-01-01           |null                     |1993-08-17                |2013-03-09    |162143              |P37B                |VUELCO          |S            |null                     |null                   |2022-03-10 01:05:30.551|REL.DEPENDENCIA/FIJO|1      |54-11-2653-1080 |{\"phone_type\":\"3\",\"phone_country_id\":\"080\",\"prefix_phone_id\":\"54\",\"phone_area_id\":\"11\",\"cellphone_prefix_id\":\"15\",\"phone_exchange_id\":\"2653\",\"phone_line_id\":\"1080\"} |\n",
            "|00053993   |00            |0                  |1                |3         |080             |54             |3718         |15                 |46               |6655         |730405560071 |               |                       |N                 |N                    |                 |          |           |COMPROBADO                |2022-08-09           |01                  |CTES                 |                |NORM AUTO                |COPDTEL                  |2022-08-09        |1900-01-01         |1900-01-01       |                    |                     |                       |                      |                    |                      |00:00:00                      |00:00:00                    |2022-08-09         |GPROBANK        |2022-08-12      |PCLUPCRT           |135710              |OSMS                   |2022-11-30 00:42:41.236|27           |0000001002139|1993-11-12    |10000          |                    |361      |34              |0          |1                      |8                      |738       |                   |                 |                          |RABARIO             |                |JOSE                |1                  |M          |1915-07-04|80                    |080                 |201                  |100        |0                         |82                          |21101000                       |0                       |null                    |null                      |null                    |null                      |0                           |0                 |0                       |0                  |0                  |null                       |null             |PCLE25Q            |0                |1                              |CA                  |47                   |null              |null            |                    |null                      |0020010021392   |042                       |null                |016          |                |N                   |AD                 |001     |2009-01-01           |null                     |1993-11-12                |2013-03-09    |162143              |P37B                |VUELCO          |S            |null                     |null                   |2022-03-10 01:05:30.551|REL.DEPENDENCIA/FIJO|1      |54-3718-46-6655 |{\"phone_type\":\"3\",\"phone_country_id\":\"080\",\"prefix_phone_id\":\"54\",\"phone_area_id\":\"3718\",\"cellphone_prefix_id\":\"15\",\"phone_exchange_id\":\"46\",\"phone_line_id\":\"6655\"} |\n",
            "+-----------+--------------+-------------------+-----------------+----------+----------------+---------------+-------------+-------------------+-----------------+-------------+-------------+---------------+-----------------------+------------------+---------------------+-----------------+----------+-----------+--------------------------+---------------------+--------------------+---------------------+----------------+-------------------------+-------------------------+------------------+-------------------+-----------------+--------------------+---------------------+-----------------------+----------------------+--------------------+----------------------+------------------------------+----------------------------+-------------------+----------------+----------------+-------------------+--------------------+-----------------------+-----------------------+-------------+-------------+--------------+---------------+--------------------+---------+----------------+-----------+-----------------------+-----------------------+----------+-------------------+-----------------+--------------------------+--------------------+----------------+--------------------+-------------------+-----------+----------+----------------------+--------------------+---------------------+-----------+--------------------------+----------------------------+-------------------------------+------------------------+------------------------+--------------------------+------------------------+--------------------------+----------------------------+------------------+------------------------+-------------------+-------------------+---------------------------+-----------------+-------------------+-----------------+-------------------------------+--------------------+---------------------+------------------+----------------+--------------------+--------------------------+----------------+--------------------------+--------------------+-------------+----------------+--------------------+-------------------+--------+---------------------+-------------------------+--------------------------+--------------+--------------------+--------------------+----------------+-------------+-------------------------+-----------------------+-----------------------+--------------------+-------+----------------+---------------------------------------------------------------------------------------------------------------------------------------------------------------------+\n",
            "only showing top 20 rows\n",
            "\n"
          ]
        }
      ]
    },
    {
      "cell_type": "markdown",
      "source": [
        "####- 32 - Agregar una nueva columna al DataFrame de direcciones de clientes, resguardando el contacto en formato json contenido en string, con los datos: Calle, Número, Piso, Depto, Localidad, Provincia, Código postal"
      ],
      "metadata": {
        "id": "pkvx-DLPLPNI"
      }
    },
    {
      "cell_type": "code",
      "source": [
        "df_address_contact = df_address_contact.withColumn(\"address_contact\",to_json(struct(df_address_contact.full_address)))"
      ],
      "metadata": {
        "id": "rBQP_8IU5ymJ"
      },
      "execution_count": null,
      "outputs": []
    },
    {
      "cell_type": "code",
      "source": [
        "df_address_contact.show(truncate=False)"
      ],
      "metadata": {
        "colab": {
          "base_uri": "https://localhost:8080/"
        },
        "id": "qk59suBr6g0w",
        "outputId": "fdc8aea2-efd9-4e31-dbc2-0da65fd94206"
      },
      "execution_count": null,
      "outputs": [
        {
          "output_type": "stream",
          "name": "stdout",
          "text": [
            "+-----------+-----------------------+-------------------+--------------+-----------+------------------+---------------------------+-----------------+-------------+---------------------+-----------------+-----------------------+----------+---------------+-----------+------------------+----------------------+-------------------------+------------------+---------------------+------------------------------+-----------------------+--------------------+---------------------+------------------+-------------------------+-------------------------+------------------+-----------------------------+--------------------+---------------------+-----------------------+----------------------+--------------------+----------------------+------------------------------+----------------------------+------------------------+-------------------+----------------+----------------+-------------------+--------------------+-----------------------+-----------------+---------------------+-------------+-----------+--------------+---------------+--------------------+---------+----------------+-----------+-----------------------+-----------------------+----------+-------------------+-----------------+--------------------------+---------+----------------+----------+-------------------+-----------+----------+----------------------+--------------------+---------------------+-----------+--------------------------+----------------------------+-------------------------------+------------------------+------------------------+--------------------------+------------------------+--------------------------+----------------------------+------------------+------------------------+-------------------+-------------------+---------------------------+-----------------+-------------------+-----------------+-------------------------------+--------------------+---------------------+------------------+----------------+--------------------+--------------------------+----------------+--------------------------+--------------------+-------------+----------------+--------------------+-------------------+--------+---------------------+-------------------------+--------------------------+--------------+--------------------+--------------------+----------------+-------------+-------------------------+-----------------------+---------------------+-------------+-------+------------+---------------+\n",
            "|customer_id|address_priority_number|address_sequence_id|residence_type|street_name|address_outdoor_id|address_without_number_type|address_indoor_id|indoor_number|address_district_name|address_town_name|address_department_name|zipcode_id|long_zipcode_id|province_id|address_country_id|other_information_desc|address_relationship_type|address_start_date|address_verified_date|customer_locator_verified_type|address_status_mod_date|contact_channel_type|sender_application_id|returned_mail_type|normalization_status_type|normalization_reason_name|normalization_date|normalized_level_match_number|dlvy_day_monday_type|dlvy_day_tuesday_type|dlvy_day_wednesday_type|dlvy_day_thursday_type|dlvy_day_friday_type|dlvy_day_saturday_type|delivery_contact_start_hm_date|delivery_contact_end_hm_date|prev_address_sequence_id|registry_entry_date|register_user_id|last_change_date|last_change_user_id|last_change_hms_date|last_change_terminal_id|registration_type|operational_load_date|personal_type|personal_id|admission_date|sale_channel_id|operation_channel_id|branch_id|business_area_id|campaing_id|customer_situation_type|customer_condition_type|manager_id|tracking_manager_id|credit_manager_id|credit_recovery_manager_id|last_name|second_last_name|first_name|marital_status_type|gender_type|birth_date|country_nationality_id|residence_country_id|customer_subject_type|sector_type|customer_level_access_type|cust_bcra_econ_activity_type|internal_economic_activity_type|bbva_inhabilitation_type|customer_block_bbva_date|customer_unblock_bbva_date|customer_block_bcra_date|customer_unblock_bcra_date|customer_pending_notice_type|last_notice_number|last_reference_number_id|last_service_number|last_address_number|last_unlinking_account_date|customer_end_date|last_change_user_id|customer_pep_type|bbva_family_lnk_weighted_number|customer_status_type|scoring_activity_type|refinancing_number|refinancing_date|coholder_customer_id|customer_bcra_situation_id|customer_cuit_id|customer_position_vat_type|balance_closing_date|profession_id|bbva_cust_number|customer_linked_type|customer_entry_type|job_type|profession_start_date|customer_first_block_date|customer_registration_date|l_c_d_customer|last_change_hms_date|register_terminal_id|register_user_id|customer_type|customer_seniority_number|last_status_change_date|operational_load_date|job_type_desc|row_num|full_address|address_contact|\n",
            "+-----------+-----------------------+-------------------+--------------+-----------+------------------+---------------------------+-----------------+-------------+---------------------+-----------------+-----------------------+----------+---------------+-----------+------------------+----------------------+-------------------------+------------------+---------------------+------------------------------+-----------------------+--------------------+---------------------+------------------+-------------------------+-------------------------+------------------+-----------------------------+--------------------+---------------------+-----------------------+----------------------+--------------------+----------------------+------------------------------+----------------------------+------------------------+-------------------+----------------+----------------+-------------------+--------------------+-----------------------+-----------------+---------------------+-------------+-----------+--------------+---------------+--------------------+---------+----------------+-----------+-----------------------+-----------------------+----------+-------------------+-----------------+--------------------------+---------+----------------+----------+-------------------+-----------+----------+----------------------+--------------------+---------------------+-----------+--------------------------+----------------------------+-------------------------------+------------------------+------------------------+--------------------------+------------------------+--------------------------+----------------------------+------------------+------------------------+-------------------+-------------------+---------------------------+-----------------+-------------------+-----------------+-------------------------------+--------------------+---------------------+------------------+----------------+--------------------+--------------------------+----------------+--------------------------+--------------------+-------------+----------------+--------------------+-------------------+--------+---------------------+-------------------------+--------------------------+--------------+--------------------+--------------------+----------------+-------------+-------------------------+-----------------------+---------------------+-------------+-------+------------+---------------+\n",
            "+-----------+-----------------------+-------------------+--------------+-----------+------------------+---------------------------+-----------------+-------------+---------------------+-----------------+-----------------------+----------+---------------+-----------+------------------+----------------------+-------------------------+------------------+---------------------+------------------------------+-----------------------+--------------------+---------------------+------------------+-------------------------+-------------------------+------------------+-----------------------------+--------------------+---------------------+-----------------------+----------------------+--------------------+----------------------+------------------------------+----------------------------+------------------------+-------------------+----------------+----------------+-------------------+--------------------+-----------------------+-----------------+---------------------+-------------+-----------+--------------+---------------+--------------------+---------+----------------+-----------+-----------------------+-----------------------+----------+-------------------+-----------------+--------------------------+---------+----------------+----------+-------------------+-----------+----------+----------------------+--------------------+---------------------+-----------+--------------------------+----------------------------+-------------------------------+------------------------+------------------------+--------------------------+------------------------+--------------------------+----------------------------+------------------+------------------------+-------------------+-------------------+---------------------------+-----------------+-------------------+-----------------+-------------------------------+--------------------+---------------------+------------------+----------------+--------------------+--------------------------+----------------+--------------------------+--------------------+-------------+----------------+--------------------+-------------------+--------+---------------------+-------------------------+--------------------------+--------------+--------------------+--------------------+----------------+-------------+-------------------------+-----------------------+---------------------+-------------+-------+------------+---------------+\n",
            "\n"
          ]
        }
      ]
    },
    {
      "cell_type": "code",
      "source": [
        "df_address_contact.select('full_address').show()"
      ],
      "metadata": {
        "colab": {
          "base_uri": "https://localhost:8080/"
        },
        "id": "JAshgEl-7jna",
        "outputId": "73238bc1-4e26-445a-d9b2-1ac8ce2dc662"
      },
      "execution_count": null,
      "outputs": [
        {
          "output_type": "stream",
          "name": "stdout",
          "text": [
            "+------------+\n",
            "|full_address|\n",
            "+------------+\n",
            "+------------+\n",
            "\n"
          ]
        }
      ]
    },
    {
      "cell_type": "markdown",
      "source": [
        "####- 33 - Combinar los DataFrame de contactos telefónicos de clientes, direcciones de clientes y email de clientes en uno solo."
      ],
      "metadata": {
        "id": "Yoc083uLwsFv"
      }
    },
    {
      "cell_type": "code",
      "source": [
        "df_contacts = df_pivot_phone.join(df_pivot_email, \"customer_id\", how='full').join(df_pivot_address, \"customer_id\", how='full')"
      ],
      "metadata": {
        "id": "qutuktOKmYBt"
      },
      "execution_count": null,
      "outputs": []
    },
    {
      "cell_type": "code",
      "source": [
        "df_contacts.toPandas()"
      ],
      "metadata": {
        "id": "D7yYs-Gjmnh7",
        "colab": {
          "base_uri": "https://localhost:8080/"
        },
        "outputId": "6b4d8712-087c-4dcc-fb8d-baaa99e7ac12"
      },
      "execution_count": null,
      "outputs": [
        {
          "output_type": "execute_result",
          "data": {
            "text/plain": [
              "     customer_id            phone_1          phone_2 phone_3  \\\n",
              "0       00000442    54-297-472-9337  54-297-529-6284     ---   \n",
              "1       00001419    54-11-6679-3207              ---     ---   \n",
              "2       00001939    54-11-3870-0150              ---     ---   \n",
              "3       00002707    54-299-447-7116              ---     ---   \n",
              "4       00002790    54-342-466-2478  54-342-488-3620     ---   \n",
              "...          ...                ...              ...     ...   \n",
              "1605    30965114  54-0011-3242-8160              ---     ---   \n",
              "1606    30970953    54-11-2292-3679              ---     ---   \n",
              "1607    30973215    54-291-513-7482              ---     ---   \n",
              "1608    30973892    54-11-3757-3423              ---     ---   \n",
              "1609    30974054    54-11-3654-4845              ---     ---   \n",
              "\n",
              "                  email_1                      email_2 email_3  \\\n",
              "0                    None                         None    None   \n",
              "1      JU_LY1@HOTMAIL.COM  EMILIA.RUBIANES@HOTMAIL.COM     ---   \n",
              "2                    None                         None    None   \n",
              "3                    None                         None    None   \n",
              "4     NOTIENE@HOIMAIL.COM      DIGITALIZACION@EECC.COM     ---   \n",
              "...                   ...                          ...     ...   \n",
              "1605                 None                         None    None   \n",
              "1606                 None                         None    None   \n",
              "1607                 None                         None    None   \n",
              "1608                 None                         None    None   \n",
              "1609                 None                         None    None   \n",
              "\n",
              "                                              address_1 address_2 address_3  \n",
              "0     AGUERO                  0000842PB      B      ...       ---       ---  \n",
              "1     ALTE G BROWN            00010741       A      ...       ---       ---  \n",
              "2     JOSE HERNANDEZ          00020451       C      ...       ---       ---  \n",
              "3     GUATEMALA               0001846               ...       ---       ---  \n",
              "4     AV CORDOBA              00022064       30     ...       ---       ---  \n",
              "...                                                 ...       ...       ...  \n",
              "1605                                               None      None      None  \n",
              "1606                                               None      None      None  \n",
              "1607                                               None      None      None  \n",
              "1608                                               None      None      None  \n",
              "1609                                               None      None      None  \n",
              "\n",
              "[1610 rows x 10 columns]"
            ],
            "text/html": [
              "\n",
              "  <div id=\"df-1bc93457-64d1-4a26-9bdf-9a949e6e3f1b\">\n",
              "    <div class=\"colab-df-container\">\n",
              "      <div>\n",
              "<style scoped>\n",
              "    .dataframe tbody tr th:only-of-type {\n",
              "        vertical-align: middle;\n",
              "    }\n",
              "\n",
              "    .dataframe tbody tr th {\n",
              "        vertical-align: top;\n",
              "    }\n",
              "\n",
              "    .dataframe thead th {\n",
              "        text-align: right;\n",
              "    }\n",
              "</style>\n",
              "<table border=\"1\" class=\"dataframe\">\n",
              "  <thead>\n",
              "    <tr style=\"text-align: right;\">\n",
              "      <th></th>\n",
              "      <th>customer_id</th>\n",
              "      <th>phone_1</th>\n",
              "      <th>phone_2</th>\n",
              "      <th>phone_3</th>\n",
              "      <th>email_1</th>\n",
              "      <th>email_2</th>\n",
              "      <th>email_3</th>\n",
              "      <th>address_1</th>\n",
              "      <th>address_2</th>\n",
              "      <th>address_3</th>\n",
              "    </tr>\n",
              "  </thead>\n",
              "  <tbody>\n",
              "    <tr>\n",
              "      <th>0</th>\n",
              "      <td>00000442</td>\n",
              "      <td>54-297-472-9337</td>\n",
              "      <td>54-297-529-6284</td>\n",
              "      <td>---</td>\n",
              "      <td>None</td>\n",
              "      <td>None</td>\n",
              "      <td>None</td>\n",
              "      <td>AGUERO                  0000842PB      B      ...</td>\n",
              "      <td>---</td>\n",
              "      <td>---</td>\n",
              "    </tr>\n",
              "    <tr>\n",
              "      <th>1</th>\n",
              "      <td>00001419</td>\n",
              "      <td>54-11-6679-3207</td>\n",
              "      <td>---</td>\n",
              "      <td>---</td>\n",
              "      <td>JU_LY1@HOTMAIL.COM</td>\n",
              "      <td>EMILIA.RUBIANES@HOTMAIL.COM</td>\n",
              "      <td>---</td>\n",
              "      <td>ALTE G BROWN            00010741       A      ...</td>\n",
              "      <td>---</td>\n",
              "      <td>---</td>\n",
              "    </tr>\n",
              "    <tr>\n",
              "      <th>2</th>\n",
              "      <td>00001939</td>\n",
              "      <td>54-11-3870-0150</td>\n",
              "      <td>---</td>\n",
              "      <td>---</td>\n",
              "      <td>None</td>\n",
              "      <td>None</td>\n",
              "      <td>None</td>\n",
              "      <td>JOSE HERNANDEZ          00020451       C      ...</td>\n",
              "      <td>---</td>\n",
              "      <td>---</td>\n",
              "    </tr>\n",
              "    <tr>\n",
              "      <th>3</th>\n",
              "      <td>00002707</td>\n",
              "      <td>54-299-447-7116</td>\n",
              "      <td>---</td>\n",
              "      <td>---</td>\n",
              "      <td>None</td>\n",
              "      <td>None</td>\n",
              "      <td>None</td>\n",
              "      <td>GUATEMALA               0001846               ...</td>\n",
              "      <td>---</td>\n",
              "      <td>---</td>\n",
              "    </tr>\n",
              "    <tr>\n",
              "      <th>4</th>\n",
              "      <td>00002790</td>\n",
              "      <td>54-342-466-2478</td>\n",
              "      <td>54-342-488-3620</td>\n",
              "      <td>---</td>\n",
              "      <td>NOTIENE@HOIMAIL.COM</td>\n",
              "      <td>DIGITALIZACION@EECC.COM</td>\n",
              "      <td>---</td>\n",
              "      <td>AV CORDOBA              00022064       30     ...</td>\n",
              "      <td>---</td>\n",
              "      <td>---</td>\n",
              "    </tr>\n",
              "    <tr>\n",
              "      <th>...</th>\n",
              "      <td>...</td>\n",
              "      <td>...</td>\n",
              "      <td>...</td>\n",
              "      <td>...</td>\n",
              "      <td>...</td>\n",
              "      <td>...</td>\n",
              "      <td>...</td>\n",
              "      <td>...</td>\n",
              "      <td>...</td>\n",
              "      <td>...</td>\n",
              "    </tr>\n",
              "    <tr>\n",
              "      <th>1605</th>\n",
              "      <td>30965114</td>\n",
              "      <td>54-0011-3242-8160</td>\n",
              "      <td>---</td>\n",
              "      <td>---</td>\n",
              "      <td>None</td>\n",
              "      <td>None</td>\n",
              "      <td>None</td>\n",
              "      <td>None</td>\n",
              "      <td>None</td>\n",
              "      <td>None</td>\n",
              "    </tr>\n",
              "    <tr>\n",
              "      <th>1606</th>\n",
              "      <td>30970953</td>\n",
              "      <td>54-11-2292-3679</td>\n",
              "      <td>---</td>\n",
              "      <td>---</td>\n",
              "      <td>None</td>\n",
              "      <td>None</td>\n",
              "      <td>None</td>\n",
              "      <td>None</td>\n",
              "      <td>None</td>\n",
              "      <td>None</td>\n",
              "    </tr>\n",
              "    <tr>\n",
              "      <th>1607</th>\n",
              "      <td>30973215</td>\n",
              "      <td>54-291-513-7482</td>\n",
              "      <td>---</td>\n",
              "      <td>---</td>\n",
              "      <td>None</td>\n",
              "      <td>None</td>\n",
              "      <td>None</td>\n",
              "      <td>None</td>\n",
              "      <td>None</td>\n",
              "      <td>None</td>\n",
              "    </tr>\n",
              "    <tr>\n",
              "      <th>1608</th>\n",
              "      <td>30973892</td>\n",
              "      <td>54-11-3757-3423</td>\n",
              "      <td>---</td>\n",
              "      <td>---</td>\n",
              "      <td>None</td>\n",
              "      <td>None</td>\n",
              "      <td>None</td>\n",
              "      <td>None</td>\n",
              "      <td>None</td>\n",
              "      <td>None</td>\n",
              "    </tr>\n",
              "    <tr>\n",
              "      <th>1609</th>\n",
              "      <td>30974054</td>\n",
              "      <td>54-11-3654-4845</td>\n",
              "      <td>---</td>\n",
              "      <td>---</td>\n",
              "      <td>None</td>\n",
              "      <td>None</td>\n",
              "      <td>None</td>\n",
              "      <td>None</td>\n",
              "      <td>None</td>\n",
              "      <td>None</td>\n",
              "    </tr>\n",
              "  </tbody>\n",
              "</table>\n",
              "<p>1610 rows × 10 columns</p>\n",
              "</div>\n",
              "      <button class=\"colab-df-convert\" onclick=\"convertToInteractive('df-1bc93457-64d1-4a26-9bdf-9a949e6e3f1b')\"\n",
              "              title=\"Convert this dataframe to an interactive table.\"\n",
              "              style=\"display:none;\">\n",
              "        \n",
              "  <svg xmlns=\"http://www.w3.org/2000/svg\" height=\"24px\"viewBox=\"0 0 24 24\"\n",
              "       width=\"24px\">\n",
              "    <path d=\"M0 0h24v24H0V0z\" fill=\"none\"/>\n",
              "    <path d=\"M18.56 5.44l.94 2.06.94-2.06 2.06-.94-2.06-.94-.94-2.06-.94 2.06-2.06.94zm-11 1L8.5 8.5l.94-2.06 2.06-.94-2.06-.94L8.5 2.5l-.94 2.06-2.06.94zm10 10l.94 2.06.94-2.06 2.06-.94-2.06-.94-.94-2.06-.94 2.06-2.06.94z\"/><path d=\"M17.41 7.96l-1.37-1.37c-.4-.4-.92-.59-1.43-.59-.52 0-1.04.2-1.43.59L10.3 9.45l-7.72 7.72c-.78.78-.78 2.05 0 2.83L4 21.41c.39.39.9.59 1.41.59.51 0 1.02-.2 1.41-.59l7.78-7.78 2.81-2.81c.8-.78.8-2.07 0-2.86zM5.41 20L4 18.59l7.72-7.72 1.47 1.35L5.41 20z\"/>\n",
              "  </svg>\n",
              "      </button>\n",
              "      \n",
              "  <style>\n",
              "    .colab-df-container {\n",
              "      display:flex;\n",
              "      flex-wrap:wrap;\n",
              "      gap: 12px;\n",
              "    }\n",
              "\n",
              "    .colab-df-convert {\n",
              "      background-color: #E8F0FE;\n",
              "      border: none;\n",
              "      border-radius: 50%;\n",
              "      cursor: pointer;\n",
              "      display: none;\n",
              "      fill: #1967D2;\n",
              "      height: 32px;\n",
              "      padding: 0 0 0 0;\n",
              "      width: 32px;\n",
              "    }\n",
              "\n",
              "    .colab-df-convert:hover {\n",
              "      background-color: #E2EBFA;\n",
              "      box-shadow: 0px 1px 2px rgba(60, 64, 67, 0.3), 0px 1px 3px 1px rgba(60, 64, 67, 0.15);\n",
              "      fill: #174EA6;\n",
              "    }\n",
              "\n",
              "    [theme=dark] .colab-df-convert {\n",
              "      background-color: #3B4455;\n",
              "      fill: #D2E3FC;\n",
              "    }\n",
              "\n",
              "    [theme=dark] .colab-df-convert:hover {\n",
              "      background-color: #434B5C;\n",
              "      box-shadow: 0px 1px 3px 1px rgba(0, 0, 0, 0.15);\n",
              "      filter: drop-shadow(0px 1px 2px rgba(0, 0, 0, 0.3));\n",
              "      fill: #FFFFFF;\n",
              "    }\n",
              "  </style>\n",
              "\n",
              "      <script>\n",
              "        const buttonEl =\n",
              "          document.querySelector('#df-1bc93457-64d1-4a26-9bdf-9a949e6e3f1b button.colab-df-convert');\n",
              "        buttonEl.style.display =\n",
              "          google.colab.kernel.accessAllowed ? 'block' : 'none';\n",
              "\n",
              "        async function convertToInteractive(key) {\n",
              "          const element = document.querySelector('#df-1bc93457-64d1-4a26-9bdf-9a949e6e3f1b');\n",
              "          const dataTable =\n",
              "            await google.colab.kernel.invokeFunction('convertToInteractive',\n",
              "                                                     [key], {});\n",
              "          if (!dataTable) return;\n",
              "\n",
              "          const docLinkHtml = 'Like what you see? Visit the ' +\n",
              "            '<a target=\"_blank\" href=https://colab.research.google.com/notebooks/data_table.ipynb>data table notebook</a>'\n",
              "            + ' to learn more about interactive tables.';\n",
              "          element.innerHTML = '';\n",
              "          dataTable['output_type'] = 'display_data';\n",
              "          await google.colab.output.renderOutput(dataTable, element);\n",
              "          const docLink = document.createElement('div');\n",
              "          docLink.innerHTML = docLinkHtml;\n",
              "          element.appendChild(docLink);\n",
              "        }\n",
              "      </script>\n",
              "    </div>\n",
              "  </div>\n",
              "  "
            ]
          },
          "metadata": {},
          "execution_count": 45
        }
      ]
    },
    {
      "cell_type": "code",
      "source": [
        "df_short_contacts = df_contacts.select('customer_id','Phone_1','Email_1','Address_1')\n",
        "df_short_contacts.toPandas()"
      ],
      "metadata": {
        "id": "EJ1Q6xQDphY-",
        "colab": {
          "base_uri": "https://localhost:8080/"
        },
        "outputId": "28608dcd-2c82-4b4a-d130-93e2571d9ddf"
      },
      "execution_count": null,
      "outputs": [
        {
          "output_type": "execute_result",
          "data": {
            "text/plain": [
              "     customer_id            Phone_1              Email_1  \\\n",
              "0       00000442    54-297-472-9337                 None   \n",
              "1       00001419    54-11-6679-3207   JU_LY1@HOTMAIL.COM   \n",
              "2       00001939    54-11-3870-0150                 None   \n",
              "3       00002707    54-299-447-7116                 None   \n",
              "4       00002790    54-342-466-2478  NOTIENE@HOIMAIL.COM   \n",
              "...          ...                ...                  ...   \n",
              "1605    30965114  54-0011-3242-8160                 None   \n",
              "1606    30970953    54-11-2292-3679                 None   \n",
              "1607    30973215    54-291-513-7482                 None   \n",
              "1608    30973892    54-11-3757-3423                 None   \n",
              "1609    30974054    54-11-3654-4845                 None   \n",
              "\n",
              "                                              Address_1  \n",
              "0     AGUERO                  0000842PB      B      ...  \n",
              "1     ALTE G BROWN            00010741       A      ...  \n",
              "2     JOSE HERNANDEZ          00020451       C      ...  \n",
              "3     GUATEMALA               0001846               ...  \n",
              "4     AV CORDOBA              00022064       30     ...  \n",
              "...                                                 ...  \n",
              "1605                                               None  \n",
              "1606                                               None  \n",
              "1607                                               None  \n",
              "1608                                               None  \n",
              "1609                                               None  \n",
              "\n",
              "[1610 rows x 4 columns]"
            ],
            "text/html": [
              "\n",
              "  <div id=\"df-1bba6c6d-ea0b-464d-8d96-1252bc311b6c\">\n",
              "    <div class=\"colab-df-container\">\n",
              "      <div>\n",
              "<style scoped>\n",
              "    .dataframe tbody tr th:only-of-type {\n",
              "        vertical-align: middle;\n",
              "    }\n",
              "\n",
              "    .dataframe tbody tr th {\n",
              "        vertical-align: top;\n",
              "    }\n",
              "\n",
              "    .dataframe thead th {\n",
              "        text-align: right;\n",
              "    }\n",
              "</style>\n",
              "<table border=\"1\" class=\"dataframe\">\n",
              "  <thead>\n",
              "    <tr style=\"text-align: right;\">\n",
              "      <th></th>\n",
              "      <th>customer_id</th>\n",
              "      <th>Phone_1</th>\n",
              "      <th>Email_1</th>\n",
              "      <th>Address_1</th>\n",
              "    </tr>\n",
              "  </thead>\n",
              "  <tbody>\n",
              "    <tr>\n",
              "      <th>0</th>\n",
              "      <td>00000442</td>\n",
              "      <td>54-297-472-9337</td>\n",
              "      <td>None</td>\n",
              "      <td>AGUERO                  0000842PB      B      ...</td>\n",
              "    </tr>\n",
              "    <tr>\n",
              "      <th>1</th>\n",
              "      <td>00001419</td>\n",
              "      <td>54-11-6679-3207</td>\n",
              "      <td>JU_LY1@HOTMAIL.COM</td>\n",
              "      <td>ALTE G BROWN            00010741       A      ...</td>\n",
              "    </tr>\n",
              "    <tr>\n",
              "      <th>2</th>\n",
              "      <td>00001939</td>\n",
              "      <td>54-11-3870-0150</td>\n",
              "      <td>None</td>\n",
              "      <td>JOSE HERNANDEZ          00020451       C      ...</td>\n",
              "    </tr>\n",
              "    <tr>\n",
              "      <th>3</th>\n",
              "      <td>00002707</td>\n",
              "      <td>54-299-447-7116</td>\n",
              "      <td>None</td>\n",
              "      <td>GUATEMALA               0001846               ...</td>\n",
              "    </tr>\n",
              "    <tr>\n",
              "      <th>4</th>\n",
              "      <td>00002790</td>\n",
              "      <td>54-342-466-2478</td>\n",
              "      <td>NOTIENE@HOIMAIL.COM</td>\n",
              "      <td>AV CORDOBA              00022064       30     ...</td>\n",
              "    </tr>\n",
              "    <tr>\n",
              "      <th>...</th>\n",
              "      <td>...</td>\n",
              "      <td>...</td>\n",
              "      <td>...</td>\n",
              "      <td>...</td>\n",
              "    </tr>\n",
              "    <tr>\n",
              "      <th>1605</th>\n",
              "      <td>30965114</td>\n",
              "      <td>54-0011-3242-8160</td>\n",
              "      <td>None</td>\n",
              "      <td>None</td>\n",
              "    </tr>\n",
              "    <tr>\n",
              "      <th>1606</th>\n",
              "      <td>30970953</td>\n",
              "      <td>54-11-2292-3679</td>\n",
              "      <td>None</td>\n",
              "      <td>None</td>\n",
              "    </tr>\n",
              "    <tr>\n",
              "      <th>1607</th>\n",
              "      <td>30973215</td>\n",
              "      <td>54-291-513-7482</td>\n",
              "      <td>None</td>\n",
              "      <td>None</td>\n",
              "    </tr>\n",
              "    <tr>\n",
              "      <th>1608</th>\n",
              "      <td>30973892</td>\n",
              "      <td>54-11-3757-3423</td>\n",
              "      <td>None</td>\n",
              "      <td>None</td>\n",
              "    </tr>\n",
              "    <tr>\n",
              "      <th>1609</th>\n",
              "      <td>30974054</td>\n",
              "      <td>54-11-3654-4845</td>\n",
              "      <td>None</td>\n",
              "      <td>None</td>\n",
              "    </tr>\n",
              "  </tbody>\n",
              "</table>\n",
              "<p>1610 rows × 4 columns</p>\n",
              "</div>\n",
              "      <button class=\"colab-df-convert\" onclick=\"convertToInteractive('df-1bba6c6d-ea0b-464d-8d96-1252bc311b6c')\"\n",
              "              title=\"Convert this dataframe to an interactive table.\"\n",
              "              style=\"display:none;\">\n",
              "        \n",
              "  <svg xmlns=\"http://www.w3.org/2000/svg\" height=\"24px\"viewBox=\"0 0 24 24\"\n",
              "       width=\"24px\">\n",
              "    <path d=\"M0 0h24v24H0V0z\" fill=\"none\"/>\n",
              "    <path d=\"M18.56 5.44l.94 2.06.94-2.06 2.06-.94-2.06-.94-.94-2.06-.94 2.06-2.06.94zm-11 1L8.5 8.5l.94-2.06 2.06-.94-2.06-.94L8.5 2.5l-.94 2.06-2.06.94zm10 10l.94 2.06.94-2.06 2.06-.94-2.06-.94-.94-2.06-.94 2.06-2.06.94z\"/><path d=\"M17.41 7.96l-1.37-1.37c-.4-.4-.92-.59-1.43-.59-.52 0-1.04.2-1.43.59L10.3 9.45l-7.72 7.72c-.78.78-.78 2.05 0 2.83L4 21.41c.39.39.9.59 1.41.59.51 0 1.02-.2 1.41-.59l7.78-7.78 2.81-2.81c.8-.78.8-2.07 0-2.86zM5.41 20L4 18.59l7.72-7.72 1.47 1.35L5.41 20z\"/>\n",
              "  </svg>\n",
              "      </button>\n",
              "      \n",
              "  <style>\n",
              "    .colab-df-container {\n",
              "      display:flex;\n",
              "      flex-wrap:wrap;\n",
              "      gap: 12px;\n",
              "    }\n",
              "\n",
              "    .colab-df-convert {\n",
              "      background-color: #E8F0FE;\n",
              "      border: none;\n",
              "      border-radius: 50%;\n",
              "      cursor: pointer;\n",
              "      display: none;\n",
              "      fill: #1967D2;\n",
              "      height: 32px;\n",
              "      padding: 0 0 0 0;\n",
              "      width: 32px;\n",
              "    }\n",
              "\n",
              "    .colab-df-convert:hover {\n",
              "      background-color: #E2EBFA;\n",
              "      box-shadow: 0px 1px 2px rgba(60, 64, 67, 0.3), 0px 1px 3px 1px rgba(60, 64, 67, 0.15);\n",
              "      fill: #174EA6;\n",
              "    }\n",
              "\n",
              "    [theme=dark] .colab-df-convert {\n",
              "      background-color: #3B4455;\n",
              "      fill: #D2E3FC;\n",
              "    }\n",
              "\n",
              "    [theme=dark] .colab-df-convert:hover {\n",
              "      background-color: #434B5C;\n",
              "      box-shadow: 0px 1px 3px 1px rgba(0, 0, 0, 0.15);\n",
              "      filter: drop-shadow(0px 1px 2px rgba(0, 0, 0, 0.3));\n",
              "      fill: #FFFFFF;\n",
              "    }\n",
              "  </style>\n",
              "\n",
              "      <script>\n",
              "        const buttonEl =\n",
              "          document.querySelector('#df-1bba6c6d-ea0b-464d-8d96-1252bc311b6c button.colab-df-convert');\n",
              "        buttonEl.style.display =\n",
              "          google.colab.kernel.accessAllowed ? 'block' : 'none';\n",
              "\n",
              "        async function convertToInteractive(key) {\n",
              "          const element = document.querySelector('#df-1bba6c6d-ea0b-464d-8d96-1252bc311b6c');\n",
              "          const dataTable =\n",
              "            await google.colab.kernel.invokeFunction('convertToInteractive',\n",
              "                                                     [key], {});\n",
              "          if (!dataTable) return;\n",
              "\n",
              "          const docLinkHtml = 'Like what you see? Visit the ' +\n",
              "            '<a target=\"_blank\" href=https://colab.research.google.com/notebooks/data_table.ipynb>data table notebook</a>'\n",
              "            + ' to learn more about interactive tables.';\n",
              "          element.innerHTML = '';\n",
              "          dataTable['output_type'] = 'display_data';\n",
              "          await google.colab.output.renderOutput(dataTable, element);\n",
              "          const docLink = document.createElement('div');\n",
              "          docLink.innerHTML = docLinkHtml;\n",
              "          element.appendChild(docLink);\n",
              "        }\n",
              "      </script>\n",
              "    </div>\n",
              "  </div>\n",
              "  "
            ]
          },
          "metadata": {},
          "execution_count": 46
        }
      ]
    },
    {
      "cell_type": "markdown",
      "source": [
        "----"
      ],
      "metadata": {
        "id": "m1-yxfISnct5"
      }
    },
    {
      "cell_type": "code",
      "source": [
        "df_contact_types = df_phones_contact_col.join(df_address_contact_col, 'customer_id', how='full').join(df_emails_contact_col, 'customer_id', how='full')"
      ],
      "metadata": {
        "id": "pkiSBzQlkkSV"
      },
      "execution_count": null,
      "outputs": []
    },
    {
      "cell_type": "code",
      "source": [
        "df_contact_types.select('customer_id','contact_type_phones','contact_type_address','contact_type_emails').toPandas()"
      ],
      "metadata": {
        "id": "WbULPOaqkwl2",
        "colab": {
          "base_uri": "https://localhost:8080/"
        },
        "outputId": "326fb07d-e5b9-4bbd-f936-6ad06165660a"
      },
      "execution_count": null,
      "outputs": [
        {
          "output_type": "execute_result",
          "data": {
            "text/plain": [
              "       customer_id contact_type_phones contact_type_address  \\\n",
              "0         00000007               phone                 None   \n",
              "1         00000188                None              address   \n",
              "2         00000204                None              address   \n",
              "3         00000228                None              address   \n",
              "4         00000274                None              address   \n",
              "...            ...                 ...                  ...   \n",
              "431239    30976146               phone                 None   \n",
              "431240    30976148               phone                 None   \n",
              "431241    30976151               phone                 None   \n",
              "431242    30976154               phone                 None   \n",
              "431243    30976157               phone                 None   \n",
              "\n",
              "       contact_type_emails  \n",
              "0                     None  \n",
              "1                     None  \n",
              "2                     None  \n",
              "3                     None  \n",
              "4                     None  \n",
              "...                    ...  \n",
              "431239                None  \n",
              "431240                None  \n",
              "431241                None  \n",
              "431242                None  \n",
              "431243                None  \n",
              "\n",
              "[431244 rows x 4 columns]"
            ],
            "text/html": [
              "\n",
              "  <div id=\"df-13091501-c2bf-418f-aeaf-b5a20565da84\">\n",
              "    <div class=\"colab-df-container\">\n",
              "      <div>\n",
              "<style scoped>\n",
              "    .dataframe tbody tr th:only-of-type {\n",
              "        vertical-align: middle;\n",
              "    }\n",
              "\n",
              "    .dataframe tbody tr th {\n",
              "        vertical-align: top;\n",
              "    }\n",
              "\n",
              "    .dataframe thead th {\n",
              "        text-align: right;\n",
              "    }\n",
              "</style>\n",
              "<table border=\"1\" class=\"dataframe\">\n",
              "  <thead>\n",
              "    <tr style=\"text-align: right;\">\n",
              "      <th></th>\n",
              "      <th>customer_id</th>\n",
              "      <th>contact_type_phones</th>\n",
              "      <th>contact_type_address</th>\n",
              "      <th>contact_type_emails</th>\n",
              "    </tr>\n",
              "  </thead>\n",
              "  <tbody>\n",
              "    <tr>\n",
              "      <th>0</th>\n",
              "      <td>00000007</td>\n",
              "      <td>phone</td>\n",
              "      <td>None</td>\n",
              "      <td>None</td>\n",
              "    </tr>\n",
              "    <tr>\n",
              "      <th>1</th>\n",
              "      <td>00000188</td>\n",
              "      <td>None</td>\n",
              "      <td>address</td>\n",
              "      <td>None</td>\n",
              "    </tr>\n",
              "    <tr>\n",
              "      <th>2</th>\n",
              "      <td>00000204</td>\n",
              "      <td>None</td>\n",
              "      <td>address</td>\n",
              "      <td>None</td>\n",
              "    </tr>\n",
              "    <tr>\n",
              "      <th>3</th>\n",
              "      <td>00000228</td>\n",
              "      <td>None</td>\n",
              "      <td>address</td>\n",
              "      <td>None</td>\n",
              "    </tr>\n",
              "    <tr>\n",
              "      <th>4</th>\n",
              "      <td>00000274</td>\n",
              "      <td>None</td>\n",
              "      <td>address</td>\n",
              "      <td>None</td>\n",
              "    </tr>\n",
              "    <tr>\n",
              "      <th>...</th>\n",
              "      <td>...</td>\n",
              "      <td>...</td>\n",
              "      <td>...</td>\n",
              "      <td>...</td>\n",
              "    </tr>\n",
              "    <tr>\n",
              "      <th>431239</th>\n",
              "      <td>30976146</td>\n",
              "      <td>phone</td>\n",
              "      <td>None</td>\n",
              "      <td>None</td>\n",
              "    </tr>\n",
              "    <tr>\n",
              "      <th>431240</th>\n",
              "      <td>30976148</td>\n",
              "      <td>phone</td>\n",
              "      <td>None</td>\n",
              "      <td>None</td>\n",
              "    </tr>\n",
              "    <tr>\n",
              "      <th>431241</th>\n",
              "      <td>30976151</td>\n",
              "      <td>phone</td>\n",
              "      <td>None</td>\n",
              "      <td>None</td>\n",
              "    </tr>\n",
              "    <tr>\n",
              "      <th>431242</th>\n",
              "      <td>30976154</td>\n",
              "      <td>phone</td>\n",
              "      <td>None</td>\n",
              "      <td>None</td>\n",
              "    </tr>\n",
              "    <tr>\n",
              "      <th>431243</th>\n",
              "      <td>30976157</td>\n",
              "      <td>phone</td>\n",
              "      <td>None</td>\n",
              "      <td>None</td>\n",
              "    </tr>\n",
              "  </tbody>\n",
              "</table>\n",
              "<p>431244 rows × 4 columns</p>\n",
              "</div>\n",
              "      <button class=\"colab-df-convert\" onclick=\"convertToInteractive('df-13091501-c2bf-418f-aeaf-b5a20565da84')\"\n",
              "              title=\"Convert this dataframe to an interactive table.\"\n",
              "              style=\"display:none;\">\n",
              "        \n",
              "  <svg xmlns=\"http://www.w3.org/2000/svg\" height=\"24px\"viewBox=\"0 0 24 24\"\n",
              "       width=\"24px\">\n",
              "    <path d=\"M0 0h24v24H0V0z\" fill=\"none\"/>\n",
              "    <path d=\"M18.56 5.44l.94 2.06.94-2.06 2.06-.94-2.06-.94-.94-2.06-.94 2.06-2.06.94zm-11 1L8.5 8.5l.94-2.06 2.06-.94-2.06-.94L8.5 2.5l-.94 2.06-2.06.94zm10 10l.94 2.06.94-2.06 2.06-.94-2.06-.94-.94-2.06-.94 2.06-2.06.94z\"/><path d=\"M17.41 7.96l-1.37-1.37c-.4-.4-.92-.59-1.43-.59-.52 0-1.04.2-1.43.59L10.3 9.45l-7.72 7.72c-.78.78-.78 2.05 0 2.83L4 21.41c.39.39.9.59 1.41.59.51 0 1.02-.2 1.41-.59l7.78-7.78 2.81-2.81c.8-.78.8-2.07 0-2.86zM5.41 20L4 18.59l7.72-7.72 1.47 1.35L5.41 20z\"/>\n",
              "  </svg>\n",
              "      </button>\n",
              "      \n",
              "  <style>\n",
              "    .colab-df-container {\n",
              "      display:flex;\n",
              "      flex-wrap:wrap;\n",
              "      gap: 12px;\n",
              "    }\n",
              "\n",
              "    .colab-df-convert {\n",
              "      background-color: #E8F0FE;\n",
              "      border: none;\n",
              "      border-radius: 50%;\n",
              "      cursor: pointer;\n",
              "      display: none;\n",
              "      fill: #1967D2;\n",
              "      height: 32px;\n",
              "      padding: 0 0 0 0;\n",
              "      width: 32px;\n",
              "    }\n",
              "\n",
              "    .colab-df-convert:hover {\n",
              "      background-color: #E2EBFA;\n",
              "      box-shadow: 0px 1px 2px rgba(60, 64, 67, 0.3), 0px 1px 3px 1px rgba(60, 64, 67, 0.15);\n",
              "      fill: #174EA6;\n",
              "    }\n",
              "\n",
              "    [theme=dark] .colab-df-convert {\n",
              "      background-color: #3B4455;\n",
              "      fill: #D2E3FC;\n",
              "    }\n",
              "\n",
              "    [theme=dark] .colab-df-convert:hover {\n",
              "      background-color: #434B5C;\n",
              "      box-shadow: 0px 1px 3px 1px rgba(0, 0, 0, 0.15);\n",
              "      filter: drop-shadow(0px 1px 2px rgba(0, 0, 0, 0.3));\n",
              "      fill: #FFFFFF;\n",
              "    }\n",
              "  </style>\n",
              "\n",
              "      <script>\n",
              "        const buttonEl =\n",
              "          document.querySelector('#df-13091501-c2bf-418f-aeaf-b5a20565da84 button.colab-df-convert');\n",
              "        buttonEl.style.display =\n",
              "          google.colab.kernel.accessAllowed ? 'block' : 'none';\n",
              "\n",
              "        async function convertToInteractive(key) {\n",
              "          const element = document.querySelector('#df-13091501-c2bf-418f-aeaf-b5a20565da84');\n",
              "          const dataTable =\n",
              "            await google.colab.kernel.invokeFunction('convertToInteractive',\n",
              "                                                     [key], {});\n",
              "          if (!dataTable) return;\n",
              "\n",
              "          const docLinkHtml = 'Like what you see? Visit the ' +\n",
              "            '<a target=\"_blank\" href=https://colab.research.google.com/notebooks/data_table.ipynb>data table notebook</a>'\n",
              "            + ' to learn more about interactive tables.';\n",
              "          element.innerHTML = '';\n",
              "          dataTable['output_type'] = 'display_data';\n",
              "          await google.colab.output.renderOutput(dataTable, element);\n",
              "          const docLink = document.createElement('div');\n",
              "          docLink.innerHTML = docLinkHtml;\n",
              "          element.appendChild(docLink);\n",
              "        }\n",
              "      </script>\n",
              "    </div>\n",
              "  </div>\n",
              "  "
            ]
          },
          "metadata": {},
          "execution_count": 48
        }
      ]
    },
    {
      "cell_type": "markdown",
      "source": [
        "# Creacion de vistas temporales"
      ],
      "metadata": {
        "id": "OGYXHYUnnNnP"
      }
    },
    {
      "cell_type": "markdown",
      "source": [
        "####- 35 - Generar una vista temporal a partir del DataFrame de contactos."
      ],
      "metadata": {
        "id": "Rg9diwJJyLvf"
      }
    },
    {
      "cell_type": "code",
      "source": [
        "df_short_contacts.createTempView('tw_contacts')"
      ],
      "metadata": {
        "id": "h2uq8IRgqpc9"
      },
      "execution_count": null,
      "outputs": []
    },
    {
      "cell_type": "markdown",
      "source": [
        "####- 36 - Generar una vista temporal a partir del archivo t_abtq_customer_basics."
      ],
      "metadata": {
        "id": "TxiRzcShyRx1"
      }
    },
    {
      "cell_type": "code",
      "source": [
        "df_customer.createOrReplaceTempView('tw_customer_basics')"
      ],
      "metadata": {
        "id": "an26CU8Qqz5l"
      },
      "execution_count": null,
      "outputs": []
    },
    {
      "cell_type": "markdown",
      "source": [
        "####- 37 - Generar una vista temporal a partir del archivo t_acog_marital_status_type."
      ],
      "metadata": {
        "id": "PDHfXICEyWrK"
      }
    },
    {
      "cell_type": "code",
      "source": [
        "df_marital_status_ok.createOrReplaceTempView('tw_marital_status')"
      ],
      "metadata": {
        "id": "Rw83Cf5NrDwp"
      },
      "execution_count": null,
      "outputs": []
    },
    {
      "cell_type": "markdown",
      "source": [
        "####- 38 - Generar una vista temporal a partir del archivo t_acog_nationality."
      ],
      "metadata": {
        "id": "clZGiedoyZBY"
      }
    },
    {
      "cell_type": "code",
      "source": [
        "df_nationality.createOrReplaceTempView(\"tw_nationality\")"
      ],
      "metadata": {
        "id": "G_r_X02bqYiA"
      },
      "execution_count": null,
      "outputs": []
    },
    {
      "cell_type": "markdown",
      "source": [
        "# Querys en spark SQL."
      ],
      "metadata": {
        "id": "vzuddeSks_Ku"
      }
    },
    {
      "cell_type": "markdown",
      "source": [
        "####- 39 - Generar un público objetivo (1) que cumpla los siguientes puntos:\n",
        "* Cliente\n",
        "* Antigüedad superior a 5 años\n",
        "* Asalariado Fijo.\n",
        "* Estado civil: Casado\n"
      ],
      "metadata": {
        "id": "_CSfngFgyfgI"
      }
    },
    {
      "cell_type": "code",
      "source": [
        "publico_obj1 = sqlContext.sql('SELECT cb.customer_id, floor(datediff(current_date(), admission_date)/365) as years_diff, customer_condition_type, cb.job_type_desc, ms.martial_status_short_desc FROM tw_customer_basics as cb INNER JOIN tw_marital_status as ms ON cb.marital_status_type = ms.marital_status_type WHERE floor(datediff(current_date(), admission_date)/365) > 5 AND cb.marital_status_type = 01 AND cb.job_type = 001 AND cb.customer_condition_type = 1')"
      ],
      "metadata": {
        "id": "URMFtCg9v51p"
      },
      "execution_count": null,
      "outputs": []
    },
    {
      "cell_type": "code",
      "source": [
        "publico_obj1.toPandas()"
      ],
      "metadata": {
        "colab": {
          "base_uri": "https://localhost:8080/",
          "height": 423
        },
        "id": "zwXogF57580d",
        "outputId": "078a6d43-f6cf-4137-bf09-1e4f6f437bcc"
      },
      "execution_count": null,
      "outputs": [
        {
          "output_type": "execute_result",
          "data": {
            "text/plain": [
              "    customer_id  years_diff  customer_condition_type         job_type_desc  \\\n",
              "0      07867437          15                        1  REL.DEPENDENCIA/FIJO   \n",
              "1      06813266          17                        1  REL.DEPENDENCIA/FIJO   \n",
              "2      02746969          12                        1  REL.DEPENDENCIA/FIJO   \n",
              "3      03933825          11                        1  REL.DEPENDENCIA/FIJO   \n",
              "4      02568856          12                        1  REL.DEPENDENCIA/FIJO   \n",
              "..          ...         ...                      ...                   ...   \n",
              "245    19821561          10                        1  REL.DEPENDENCIA/FIJO   \n",
              "246    07772581          15                        1  REL.DEPENDENCIA/FIJO   \n",
              "247    07162212          16                        1  REL.DEPENDENCIA/FIJO   \n",
              "248    07788948          15                        1  REL.DEPENDENCIA/FIJO   \n",
              "249    29436414          24                        1  REL.DEPENDENCIA/FIJO   \n",
              "\n",
              "    martial_status_short_desc  \n",
              "0                  CASADO/A    \n",
              "1                  CASADO/A    \n",
              "2                  CASADO/A    \n",
              "3                  CASADO/A    \n",
              "4                  CASADO/A    \n",
              "..                        ...  \n",
              "245                CASADO/A    \n",
              "246                CASADO/A    \n",
              "247                CASADO/A    \n",
              "248                CASADO/A    \n",
              "249                CASADO/A    \n",
              "\n",
              "[250 rows x 5 columns]"
            ],
            "text/html": [
              "\n",
              "  <div id=\"df-be992bc7-0367-475d-ba8a-45c96b62fc78\">\n",
              "    <div class=\"colab-df-container\">\n",
              "      <div>\n",
              "<style scoped>\n",
              "    .dataframe tbody tr th:only-of-type {\n",
              "        vertical-align: middle;\n",
              "    }\n",
              "\n",
              "    .dataframe tbody tr th {\n",
              "        vertical-align: top;\n",
              "    }\n",
              "\n",
              "    .dataframe thead th {\n",
              "        text-align: right;\n",
              "    }\n",
              "</style>\n",
              "<table border=\"1\" class=\"dataframe\">\n",
              "  <thead>\n",
              "    <tr style=\"text-align: right;\">\n",
              "      <th></th>\n",
              "      <th>customer_id</th>\n",
              "      <th>years_diff</th>\n",
              "      <th>customer_condition_type</th>\n",
              "      <th>job_type_desc</th>\n",
              "      <th>martial_status_short_desc</th>\n",
              "    </tr>\n",
              "  </thead>\n",
              "  <tbody>\n",
              "    <tr>\n",
              "      <th>0</th>\n",
              "      <td>07867437</td>\n",
              "      <td>15</td>\n",
              "      <td>1</td>\n",
              "      <td>REL.DEPENDENCIA/FIJO</td>\n",
              "      <td>CASADO/A</td>\n",
              "    </tr>\n",
              "    <tr>\n",
              "      <th>1</th>\n",
              "      <td>06813266</td>\n",
              "      <td>17</td>\n",
              "      <td>1</td>\n",
              "      <td>REL.DEPENDENCIA/FIJO</td>\n",
              "      <td>CASADO/A</td>\n",
              "    </tr>\n",
              "    <tr>\n",
              "      <th>2</th>\n",
              "      <td>02746969</td>\n",
              "      <td>12</td>\n",
              "      <td>1</td>\n",
              "      <td>REL.DEPENDENCIA/FIJO</td>\n",
              "      <td>CASADO/A</td>\n",
              "    </tr>\n",
              "    <tr>\n",
              "      <th>3</th>\n",
              "      <td>03933825</td>\n",
              "      <td>11</td>\n",
              "      <td>1</td>\n",
              "      <td>REL.DEPENDENCIA/FIJO</td>\n",
              "      <td>CASADO/A</td>\n",
              "    </tr>\n",
              "    <tr>\n",
              "      <th>4</th>\n",
              "      <td>02568856</td>\n",
              "      <td>12</td>\n",
              "      <td>1</td>\n",
              "      <td>REL.DEPENDENCIA/FIJO</td>\n",
              "      <td>CASADO/A</td>\n",
              "    </tr>\n",
              "    <tr>\n",
              "      <th>...</th>\n",
              "      <td>...</td>\n",
              "      <td>...</td>\n",
              "      <td>...</td>\n",
              "      <td>...</td>\n",
              "      <td>...</td>\n",
              "    </tr>\n",
              "    <tr>\n",
              "      <th>245</th>\n",
              "      <td>19821561</td>\n",
              "      <td>10</td>\n",
              "      <td>1</td>\n",
              "      <td>REL.DEPENDENCIA/FIJO</td>\n",
              "      <td>CASADO/A</td>\n",
              "    </tr>\n",
              "    <tr>\n",
              "      <th>246</th>\n",
              "      <td>07772581</td>\n",
              "      <td>15</td>\n",
              "      <td>1</td>\n",
              "      <td>REL.DEPENDENCIA/FIJO</td>\n",
              "      <td>CASADO/A</td>\n",
              "    </tr>\n",
              "    <tr>\n",
              "      <th>247</th>\n",
              "      <td>07162212</td>\n",
              "      <td>16</td>\n",
              "      <td>1</td>\n",
              "      <td>REL.DEPENDENCIA/FIJO</td>\n",
              "      <td>CASADO/A</td>\n",
              "    </tr>\n",
              "    <tr>\n",
              "      <th>248</th>\n",
              "      <td>07788948</td>\n",
              "      <td>15</td>\n",
              "      <td>1</td>\n",
              "      <td>REL.DEPENDENCIA/FIJO</td>\n",
              "      <td>CASADO/A</td>\n",
              "    </tr>\n",
              "    <tr>\n",
              "      <th>249</th>\n",
              "      <td>29436414</td>\n",
              "      <td>24</td>\n",
              "      <td>1</td>\n",
              "      <td>REL.DEPENDENCIA/FIJO</td>\n",
              "      <td>CASADO/A</td>\n",
              "    </tr>\n",
              "  </tbody>\n",
              "</table>\n",
              "<p>250 rows × 5 columns</p>\n",
              "</div>\n",
              "      <button class=\"colab-df-convert\" onclick=\"convertToInteractive('df-be992bc7-0367-475d-ba8a-45c96b62fc78')\"\n",
              "              title=\"Convert this dataframe to an interactive table.\"\n",
              "              style=\"display:none;\">\n",
              "        \n",
              "  <svg xmlns=\"http://www.w3.org/2000/svg\" height=\"24px\"viewBox=\"0 0 24 24\"\n",
              "       width=\"24px\">\n",
              "    <path d=\"M0 0h24v24H0V0z\" fill=\"none\"/>\n",
              "    <path d=\"M18.56 5.44l.94 2.06.94-2.06 2.06-.94-2.06-.94-.94-2.06-.94 2.06-2.06.94zm-11 1L8.5 8.5l.94-2.06 2.06-.94-2.06-.94L8.5 2.5l-.94 2.06-2.06.94zm10 10l.94 2.06.94-2.06 2.06-.94-2.06-.94-.94-2.06-.94 2.06-2.06.94z\"/><path d=\"M17.41 7.96l-1.37-1.37c-.4-.4-.92-.59-1.43-.59-.52 0-1.04.2-1.43.59L10.3 9.45l-7.72 7.72c-.78.78-.78 2.05 0 2.83L4 21.41c.39.39.9.59 1.41.59.51 0 1.02-.2 1.41-.59l7.78-7.78 2.81-2.81c.8-.78.8-2.07 0-2.86zM5.41 20L4 18.59l7.72-7.72 1.47 1.35L5.41 20z\"/>\n",
              "  </svg>\n",
              "      </button>\n",
              "      \n",
              "  <style>\n",
              "    .colab-df-container {\n",
              "      display:flex;\n",
              "      flex-wrap:wrap;\n",
              "      gap: 12px;\n",
              "    }\n",
              "\n",
              "    .colab-df-convert {\n",
              "      background-color: #E8F0FE;\n",
              "      border: none;\n",
              "      border-radius: 50%;\n",
              "      cursor: pointer;\n",
              "      display: none;\n",
              "      fill: #1967D2;\n",
              "      height: 32px;\n",
              "      padding: 0 0 0 0;\n",
              "      width: 32px;\n",
              "    }\n",
              "\n",
              "    .colab-df-convert:hover {\n",
              "      background-color: #E2EBFA;\n",
              "      box-shadow: 0px 1px 2px rgba(60, 64, 67, 0.3), 0px 1px 3px 1px rgba(60, 64, 67, 0.15);\n",
              "      fill: #174EA6;\n",
              "    }\n",
              "\n",
              "    [theme=dark] .colab-df-convert {\n",
              "      background-color: #3B4455;\n",
              "      fill: #D2E3FC;\n",
              "    }\n",
              "\n",
              "    [theme=dark] .colab-df-convert:hover {\n",
              "      background-color: #434B5C;\n",
              "      box-shadow: 0px 1px 3px 1px rgba(0, 0, 0, 0.15);\n",
              "      filter: drop-shadow(0px 1px 2px rgba(0, 0, 0, 0.3));\n",
              "      fill: #FFFFFF;\n",
              "    }\n",
              "  </style>\n",
              "\n",
              "      <script>\n",
              "        const buttonEl =\n",
              "          document.querySelector('#df-be992bc7-0367-475d-ba8a-45c96b62fc78 button.colab-df-convert');\n",
              "        buttonEl.style.display =\n",
              "          google.colab.kernel.accessAllowed ? 'block' : 'none';\n",
              "\n",
              "        async function convertToInteractive(key) {\n",
              "          const element = document.querySelector('#df-be992bc7-0367-475d-ba8a-45c96b62fc78');\n",
              "          const dataTable =\n",
              "            await google.colab.kernel.invokeFunction('convertToInteractive',\n",
              "                                                     [key], {});\n",
              "          if (!dataTable) return;\n",
              "\n",
              "          const docLinkHtml = 'Like what you see? Visit the ' +\n",
              "            '<a target=\"_blank\" href=https://colab.research.google.com/notebooks/data_table.ipynb>data table notebook</a>'\n",
              "            + ' to learn more about interactive tables.';\n",
              "          element.innerHTML = '';\n",
              "          dataTable['output_type'] = 'display_data';\n",
              "          await google.colab.output.renderOutput(dataTable, element);\n",
              "          const docLink = document.createElement('div');\n",
              "          docLink.innerHTML = docLinkHtml;\n",
              "          element.appendChild(docLink);\n",
              "        }\n",
              "      </script>\n",
              "    </div>\n",
              "  </div>\n",
              "  "
            ]
          },
          "metadata": {},
          "execution_count": 54
        }
      ]
    },
    {
      "cell_type": "markdown",
      "source": [
        "####- 40 -  Generar un público objetivo (2) que cumpla los siguientes puntos:\n",
        "* Potencial Cliente\n",
        "* Sexo Femenino\n",
        "* Entre 30 y 45 años de Edad.\n",
        "* Nacionalidad No Argentina"
      ],
      "metadata": {
        "id": "c0pSjhqey2co"
      }
    },
    {
      "cell_type": "code",
      "source": [
        "publico_obj2 = sqlContext.sql('SELECT cb.customer_id, customer_condition_type, gender_type, floor(datediff(current_date(), birth_date)/365) as customer_age, n.country_name FROM tw_customer_basics AS cb INNER JOIN tw_nationality AS n ON cb.country_nationality_id == n.country_nationality_id WHERE floor(datediff(current_date(), birth_date)/365) > 30 AND floor(datediff(current_date(), birth_date)/365) < 45 AND gender_type = \"F\" AND customer_condition_type = 1 AND n.country_nationality_id <> 80')\n",
        "publico_obj2.toPandas()"
      ],
      "metadata": {
        "id": "uUfn8Qx7lrGJ",
        "colab": {
          "base_uri": "https://localhost:8080/",
          "height": 112
        },
        "outputId": "20ed494a-41c1-4eea-f10e-3b8287a511ea"
      },
      "execution_count": null,
      "outputs": [
        {
          "output_type": "execute_result",
          "data": {
            "text/plain": [
              "  customer_id  customer_condition_type gender_type  customer_age country_name\n",
              "0    08576564                        1           F            44     PARAGUAY\n",
              "1    22184167                        1           F            33        CHINA"
            ],
            "text/html": [
              "\n",
              "  <div id=\"df-610d024e-2592-4847-a027-cbbc9bbd94cb\">\n",
              "    <div class=\"colab-df-container\">\n",
              "      <div>\n",
              "<style scoped>\n",
              "    .dataframe tbody tr th:only-of-type {\n",
              "        vertical-align: middle;\n",
              "    }\n",
              "\n",
              "    .dataframe tbody tr th {\n",
              "        vertical-align: top;\n",
              "    }\n",
              "\n",
              "    .dataframe thead th {\n",
              "        text-align: right;\n",
              "    }\n",
              "</style>\n",
              "<table border=\"1\" class=\"dataframe\">\n",
              "  <thead>\n",
              "    <tr style=\"text-align: right;\">\n",
              "      <th></th>\n",
              "      <th>customer_id</th>\n",
              "      <th>customer_condition_type</th>\n",
              "      <th>gender_type</th>\n",
              "      <th>customer_age</th>\n",
              "      <th>country_name</th>\n",
              "    </tr>\n",
              "  </thead>\n",
              "  <tbody>\n",
              "    <tr>\n",
              "      <th>0</th>\n",
              "      <td>08576564</td>\n",
              "      <td>1</td>\n",
              "      <td>F</td>\n",
              "      <td>44</td>\n",
              "      <td>PARAGUAY</td>\n",
              "    </tr>\n",
              "    <tr>\n",
              "      <th>1</th>\n",
              "      <td>22184167</td>\n",
              "      <td>1</td>\n",
              "      <td>F</td>\n",
              "      <td>33</td>\n",
              "      <td>CHINA</td>\n",
              "    </tr>\n",
              "  </tbody>\n",
              "</table>\n",
              "</div>\n",
              "      <button class=\"colab-df-convert\" onclick=\"convertToInteractive('df-610d024e-2592-4847-a027-cbbc9bbd94cb')\"\n",
              "              title=\"Convert this dataframe to an interactive table.\"\n",
              "              style=\"display:none;\">\n",
              "        \n",
              "  <svg xmlns=\"http://www.w3.org/2000/svg\" height=\"24px\"viewBox=\"0 0 24 24\"\n",
              "       width=\"24px\">\n",
              "    <path d=\"M0 0h24v24H0V0z\" fill=\"none\"/>\n",
              "    <path d=\"M18.56 5.44l.94 2.06.94-2.06 2.06-.94-2.06-.94-.94-2.06-.94 2.06-2.06.94zm-11 1L8.5 8.5l.94-2.06 2.06-.94-2.06-.94L8.5 2.5l-.94 2.06-2.06.94zm10 10l.94 2.06.94-2.06 2.06-.94-2.06-.94-.94-2.06-.94 2.06-2.06.94z\"/><path d=\"M17.41 7.96l-1.37-1.37c-.4-.4-.92-.59-1.43-.59-.52 0-1.04.2-1.43.59L10.3 9.45l-7.72 7.72c-.78.78-.78 2.05 0 2.83L4 21.41c.39.39.9.59 1.41.59.51 0 1.02-.2 1.41-.59l7.78-7.78 2.81-2.81c.8-.78.8-2.07 0-2.86zM5.41 20L4 18.59l7.72-7.72 1.47 1.35L5.41 20z\"/>\n",
              "  </svg>\n",
              "      </button>\n",
              "      \n",
              "  <style>\n",
              "    .colab-df-container {\n",
              "      display:flex;\n",
              "      flex-wrap:wrap;\n",
              "      gap: 12px;\n",
              "    }\n",
              "\n",
              "    .colab-df-convert {\n",
              "      background-color: #E8F0FE;\n",
              "      border: none;\n",
              "      border-radius: 50%;\n",
              "      cursor: pointer;\n",
              "      display: none;\n",
              "      fill: #1967D2;\n",
              "      height: 32px;\n",
              "      padding: 0 0 0 0;\n",
              "      width: 32px;\n",
              "    }\n",
              "\n",
              "    .colab-df-convert:hover {\n",
              "      background-color: #E2EBFA;\n",
              "      box-shadow: 0px 1px 2px rgba(60, 64, 67, 0.3), 0px 1px 3px 1px rgba(60, 64, 67, 0.15);\n",
              "      fill: #174EA6;\n",
              "    }\n",
              "\n",
              "    [theme=dark] .colab-df-convert {\n",
              "      background-color: #3B4455;\n",
              "      fill: #D2E3FC;\n",
              "    }\n",
              "\n",
              "    [theme=dark] .colab-df-convert:hover {\n",
              "      background-color: #434B5C;\n",
              "      box-shadow: 0px 1px 3px 1px rgba(0, 0, 0, 0.15);\n",
              "      filter: drop-shadow(0px 1px 2px rgba(0, 0, 0, 0.3));\n",
              "      fill: #FFFFFF;\n",
              "    }\n",
              "  </style>\n",
              "\n",
              "      <script>\n",
              "        const buttonEl =\n",
              "          document.querySelector('#df-610d024e-2592-4847-a027-cbbc9bbd94cb button.colab-df-convert');\n",
              "        buttonEl.style.display =\n",
              "          google.colab.kernel.accessAllowed ? 'block' : 'none';\n",
              "\n",
              "        async function convertToInteractive(key) {\n",
              "          const element = document.querySelector('#df-610d024e-2592-4847-a027-cbbc9bbd94cb');\n",
              "          const dataTable =\n",
              "            await google.colab.kernel.invokeFunction('convertToInteractive',\n",
              "                                                     [key], {});\n",
              "          if (!dataTable) return;\n",
              "\n",
              "          const docLinkHtml = 'Like what you see? Visit the ' +\n",
              "            '<a target=\"_blank\" href=https://colab.research.google.com/notebooks/data_table.ipynb>data table notebook</a>'\n",
              "            + ' to learn more about interactive tables.';\n",
              "          element.innerHTML = '';\n",
              "          dataTable['output_type'] = 'display_data';\n",
              "          await google.colab.output.renderOutput(dataTable, element);\n",
              "          const docLink = document.createElement('div');\n",
              "          docLink.innerHTML = docLinkHtml;\n",
              "          element.appendChild(docLink);\n",
              "        }\n",
              "      </script>\n",
              "    </div>\n",
              "  </div>\n",
              "  "
            ]
          },
          "metadata": {},
          "execution_count": 55
        }
      ]
    },
    {
      "cell_type": "markdown",
      "source": [
        "####- 41 - Generar un público objetivo (3) que cumpla los siguientes puntos:\n",
        "* Potencial Cliente\n",
        "* Sexo Masculino.\n",
        "* Mayor a 25 años.\n",
        "* Estado civil Soltero"
      ],
      "metadata": {
        "id": "-YzIyMgKzHPq"
      }
    },
    {
      "cell_type": "code",
      "source": [
        "publico_obj3 = sqlContext.sql('SELECT cb.customer_id, customer_condition_type, gender_type, floor(datediff(current_date(), birth_date)/365) as customer_age, ms.martial_status_short_desc FROM tw_customer_basics AS cb INNER JOIN tw_marital_status as ms ON cb.marital_status_type = ms.marital_status_type WHERE customer_condition_type = 1 AND floor(datediff(current_date(), birth_date)/365) > 25 AND gender_type = \"M\" AND cb.marital_status_type = 5')\n",
        "publico_obj3.toPandas()"
      ],
      "metadata": {
        "id": "Gh1ZLwVHwW6f",
        "colab": {
          "base_uri": "https://localhost:8080/",
          "height": 423
        },
        "outputId": "9a87617c-7b48-41eb-a805-0f5248bd1354"
      },
      "execution_count": null,
      "outputs": [
        {
          "output_type": "execute_result",
          "data": {
            "text/plain": [
              "    customer_id  customer_condition_type gender_type  customer_age  \\\n",
              "0      29604216                        1           M            53   \n",
              "1      28366580                        1           M            26   \n",
              "2      23441482                        1           M            27   \n",
              "3      25734307                        1           M            27   \n",
              "4      03342631                        1           M            57   \n",
              "..          ...                      ...         ...           ...   \n",
              "294    29422473                        1           M            66   \n",
              "295    00468968                        1           M            90   \n",
              "296    27283661                        1           M            27   \n",
              "297    08546725                        1           M            42   \n",
              "298    03594377                        1           M            74   \n",
              "\n",
              "    martial_status_short_desc  \n",
              "0                  SOLTERO/A   \n",
              "1                  SOLTERO/A   \n",
              "2                  SOLTERO/A   \n",
              "3                  SOLTERO/A   \n",
              "4                  SOLTERO/A   \n",
              "..                        ...  \n",
              "294                SOLTERO/A   \n",
              "295                SOLTERO/A   \n",
              "296                SOLTERO/A   \n",
              "297                SOLTERO/A   \n",
              "298                SOLTERO/A   \n",
              "\n",
              "[299 rows x 5 columns]"
            ],
            "text/html": [
              "\n",
              "  <div id=\"df-fc8e1076-a682-44ed-80eb-6e0c4615c6eb\">\n",
              "    <div class=\"colab-df-container\">\n",
              "      <div>\n",
              "<style scoped>\n",
              "    .dataframe tbody tr th:only-of-type {\n",
              "        vertical-align: middle;\n",
              "    }\n",
              "\n",
              "    .dataframe tbody tr th {\n",
              "        vertical-align: top;\n",
              "    }\n",
              "\n",
              "    .dataframe thead th {\n",
              "        text-align: right;\n",
              "    }\n",
              "</style>\n",
              "<table border=\"1\" class=\"dataframe\">\n",
              "  <thead>\n",
              "    <tr style=\"text-align: right;\">\n",
              "      <th></th>\n",
              "      <th>customer_id</th>\n",
              "      <th>customer_condition_type</th>\n",
              "      <th>gender_type</th>\n",
              "      <th>customer_age</th>\n",
              "      <th>martial_status_short_desc</th>\n",
              "    </tr>\n",
              "  </thead>\n",
              "  <tbody>\n",
              "    <tr>\n",
              "      <th>0</th>\n",
              "      <td>29604216</td>\n",
              "      <td>1</td>\n",
              "      <td>M</td>\n",
              "      <td>53</td>\n",
              "      <td>SOLTERO/A</td>\n",
              "    </tr>\n",
              "    <tr>\n",
              "      <th>1</th>\n",
              "      <td>28366580</td>\n",
              "      <td>1</td>\n",
              "      <td>M</td>\n",
              "      <td>26</td>\n",
              "      <td>SOLTERO/A</td>\n",
              "    </tr>\n",
              "    <tr>\n",
              "      <th>2</th>\n",
              "      <td>23441482</td>\n",
              "      <td>1</td>\n",
              "      <td>M</td>\n",
              "      <td>27</td>\n",
              "      <td>SOLTERO/A</td>\n",
              "    </tr>\n",
              "    <tr>\n",
              "      <th>3</th>\n",
              "      <td>25734307</td>\n",
              "      <td>1</td>\n",
              "      <td>M</td>\n",
              "      <td>27</td>\n",
              "      <td>SOLTERO/A</td>\n",
              "    </tr>\n",
              "    <tr>\n",
              "      <th>4</th>\n",
              "      <td>03342631</td>\n",
              "      <td>1</td>\n",
              "      <td>M</td>\n",
              "      <td>57</td>\n",
              "      <td>SOLTERO/A</td>\n",
              "    </tr>\n",
              "    <tr>\n",
              "      <th>...</th>\n",
              "      <td>...</td>\n",
              "      <td>...</td>\n",
              "      <td>...</td>\n",
              "      <td>...</td>\n",
              "      <td>...</td>\n",
              "    </tr>\n",
              "    <tr>\n",
              "      <th>294</th>\n",
              "      <td>29422473</td>\n",
              "      <td>1</td>\n",
              "      <td>M</td>\n",
              "      <td>66</td>\n",
              "      <td>SOLTERO/A</td>\n",
              "    </tr>\n",
              "    <tr>\n",
              "      <th>295</th>\n",
              "      <td>00468968</td>\n",
              "      <td>1</td>\n",
              "      <td>M</td>\n",
              "      <td>90</td>\n",
              "      <td>SOLTERO/A</td>\n",
              "    </tr>\n",
              "    <tr>\n",
              "      <th>296</th>\n",
              "      <td>27283661</td>\n",
              "      <td>1</td>\n",
              "      <td>M</td>\n",
              "      <td>27</td>\n",
              "      <td>SOLTERO/A</td>\n",
              "    </tr>\n",
              "    <tr>\n",
              "      <th>297</th>\n",
              "      <td>08546725</td>\n",
              "      <td>1</td>\n",
              "      <td>M</td>\n",
              "      <td>42</td>\n",
              "      <td>SOLTERO/A</td>\n",
              "    </tr>\n",
              "    <tr>\n",
              "      <th>298</th>\n",
              "      <td>03594377</td>\n",
              "      <td>1</td>\n",
              "      <td>M</td>\n",
              "      <td>74</td>\n",
              "      <td>SOLTERO/A</td>\n",
              "    </tr>\n",
              "  </tbody>\n",
              "</table>\n",
              "<p>299 rows × 5 columns</p>\n",
              "</div>\n",
              "      <button class=\"colab-df-convert\" onclick=\"convertToInteractive('df-fc8e1076-a682-44ed-80eb-6e0c4615c6eb')\"\n",
              "              title=\"Convert this dataframe to an interactive table.\"\n",
              "              style=\"display:none;\">\n",
              "        \n",
              "  <svg xmlns=\"http://www.w3.org/2000/svg\" height=\"24px\"viewBox=\"0 0 24 24\"\n",
              "       width=\"24px\">\n",
              "    <path d=\"M0 0h24v24H0V0z\" fill=\"none\"/>\n",
              "    <path d=\"M18.56 5.44l.94 2.06.94-2.06 2.06-.94-2.06-.94-.94-2.06-.94 2.06-2.06.94zm-11 1L8.5 8.5l.94-2.06 2.06-.94-2.06-.94L8.5 2.5l-.94 2.06-2.06.94zm10 10l.94 2.06.94-2.06 2.06-.94-2.06-.94-.94-2.06-.94 2.06-2.06.94z\"/><path d=\"M17.41 7.96l-1.37-1.37c-.4-.4-.92-.59-1.43-.59-.52 0-1.04.2-1.43.59L10.3 9.45l-7.72 7.72c-.78.78-.78 2.05 0 2.83L4 21.41c.39.39.9.59 1.41.59.51 0 1.02-.2 1.41-.59l7.78-7.78 2.81-2.81c.8-.78.8-2.07 0-2.86zM5.41 20L4 18.59l7.72-7.72 1.47 1.35L5.41 20z\"/>\n",
              "  </svg>\n",
              "      </button>\n",
              "      \n",
              "  <style>\n",
              "    .colab-df-container {\n",
              "      display:flex;\n",
              "      flex-wrap:wrap;\n",
              "      gap: 12px;\n",
              "    }\n",
              "\n",
              "    .colab-df-convert {\n",
              "      background-color: #E8F0FE;\n",
              "      border: none;\n",
              "      border-radius: 50%;\n",
              "      cursor: pointer;\n",
              "      display: none;\n",
              "      fill: #1967D2;\n",
              "      height: 32px;\n",
              "      padding: 0 0 0 0;\n",
              "      width: 32px;\n",
              "    }\n",
              "\n",
              "    .colab-df-convert:hover {\n",
              "      background-color: #E2EBFA;\n",
              "      box-shadow: 0px 1px 2px rgba(60, 64, 67, 0.3), 0px 1px 3px 1px rgba(60, 64, 67, 0.15);\n",
              "      fill: #174EA6;\n",
              "    }\n",
              "\n",
              "    [theme=dark] .colab-df-convert {\n",
              "      background-color: #3B4455;\n",
              "      fill: #D2E3FC;\n",
              "    }\n",
              "\n",
              "    [theme=dark] .colab-df-convert:hover {\n",
              "      background-color: #434B5C;\n",
              "      box-shadow: 0px 1px 3px 1px rgba(0, 0, 0, 0.15);\n",
              "      filter: drop-shadow(0px 1px 2px rgba(0, 0, 0, 0.3));\n",
              "      fill: #FFFFFF;\n",
              "    }\n",
              "  </style>\n",
              "\n",
              "      <script>\n",
              "        const buttonEl =\n",
              "          document.querySelector('#df-fc8e1076-a682-44ed-80eb-6e0c4615c6eb button.colab-df-convert');\n",
              "        buttonEl.style.display =\n",
              "          google.colab.kernel.accessAllowed ? 'block' : 'none';\n",
              "\n",
              "        async function convertToInteractive(key) {\n",
              "          const element = document.querySelector('#df-fc8e1076-a682-44ed-80eb-6e0c4615c6eb');\n",
              "          const dataTable =\n",
              "            await google.colab.kernel.invokeFunction('convertToInteractive',\n",
              "                                                     [key], {});\n",
              "          if (!dataTable) return;\n",
              "\n",
              "          const docLinkHtml = 'Like what you see? Visit the ' +\n",
              "            '<a target=\"_blank\" href=https://colab.research.google.com/notebooks/data_table.ipynb>data table notebook</a>'\n",
              "            + ' to learn more about interactive tables.';\n",
              "          element.innerHTML = '';\n",
              "          dataTable['output_type'] = 'display_data';\n",
              "          await google.colab.output.renderOutput(dataTable, element);\n",
              "          const docLink = document.createElement('div');\n",
              "          docLink.innerHTML = docLinkHtml;\n",
              "          element.appendChild(docLink);\n",
              "        }\n",
              "      </script>\n",
              "    </div>\n",
              "  </div>\n",
              "  "
            ]
          },
          "metadata": {},
          "execution_count": 56
        }
      ]
    },
    {
      "cell_type": "markdown",
      "source": [
        "####- 42 - Generar un público objetivo (4) que cumpla los siguientes puntos:\n",
        "* Cliente\n",
        "* Edad superior a 52 años\n",
        "* Nacionalidad Argentina\n",
        "* Estado civil Viudo"
      ],
      "metadata": {
        "id": "O0YwTfG8zLns"
      }
    },
    {
      "cell_type": "code",
      "source": [
        "publico_obj4 = sqlContext.sql('SELECT cb.customer_id, floor(datediff(current_date(), birth_date)/365) as customer_age, n.country_name, ms.martial_status_short_desc FROM tw_customer_basics as cb INNER JOIN tw_nationality AS n ON cb.country_nationality_id == n.country_nationality_id INNER JOIN tw_marital_status as ms ON cb.marital_status_type = ms.marital_status_type WHERE floor(datediff(current_date(), birth_date)/365) > 52 AND cb.country_nationality_id = 80 AND cb.marital_status_type = 2')\n",
        "publico_obj4.toPandas()"
      ],
      "metadata": {
        "id": "xVJ2-CDyzp9n",
        "colab": {
          "base_uri": "https://localhost:8080/",
          "height": 676
        },
        "outputId": "22059076-fecd-4a64-a4e4-a1eecc4c1aea"
      },
      "execution_count": null,
      "outputs": [
        {
          "output_type": "execute_result",
          "data": {
            "text/plain": [
              "   customer_id  customer_age country_name martial_status_short_desc\n",
              "0     04161701            87    ARGENTINA                VIUDO/A   \n",
              "1     29561692            57    ARGENTINA                VIUDO/A   \n",
              "2     29632753            57    ARGENTINA                VIUDO/A   \n",
              "3     04566883            96    ARGENTINA                VIUDO/A   \n",
              "4     00093940           101    ARGENTINA                VIUDO/A   \n",
              "5     29580724            73    ARGENTINA                VIUDO/A   \n",
              "6     00104838            95    ARGENTINA                VIUDO/A   \n",
              "7     00014664           102    ARGENTINA                VIUDO/A   \n",
              "8     29434917           102    ARGENTINA                VIUDO/A   \n",
              "9     04076446           104    ARGENTINA                VIUDO/A   \n",
              "10    03925479            57    ARGENTINA                VIUDO/A   \n",
              "11    05812127            98    ARGENTINA                VIUDO/A   \n",
              "12    07365248            86    ARGENTINA                VIUDO/A   \n",
              "13    27541480            87    ARGENTINA                VIUDO/A   \n",
              "14    26720788           101    ARGENTINA                VIUDO/A   \n",
              "15    02507194            73    ARGENTINA                VIUDO/A   \n",
              "16    01193254            88    ARGENTINA                VIUDO/A   \n",
              "17    04191069            89    ARGENTINA                VIUDO/A   \n",
              "18    03637822            92    ARGENTINA                VIUDO/A   \n",
              "19    29567911            87    ARGENTINA                VIUDO/A   "
            ],
            "text/html": [
              "\n",
              "  <div id=\"df-2c6dbe12-b677-4718-9bbf-3b2239e97bbc\">\n",
              "    <div class=\"colab-df-container\">\n",
              "      <div>\n",
              "<style scoped>\n",
              "    .dataframe tbody tr th:only-of-type {\n",
              "        vertical-align: middle;\n",
              "    }\n",
              "\n",
              "    .dataframe tbody tr th {\n",
              "        vertical-align: top;\n",
              "    }\n",
              "\n",
              "    .dataframe thead th {\n",
              "        text-align: right;\n",
              "    }\n",
              "</style>\n",
              "<table border=\"1\" class=\"dataframe\">\n",
              "  <thead>\n",
              "    <tr style=\"text-align: right;\">\n",
              "      <th></th>\n",
              "      <th>customer_id</th>\n",
              "      <th>customer_age</th>\n",
              "      <th>country_name</th>\n",
              "      <th>martial_status_short_desc</th>\n",
              "    </tr>\n",
              "  </thead>\n",
              "  <tbody>\n",
              "    <tr>\n",
              "      <th>0</th>\n",
              "      <td>04161701</td>\n",
              "      <td>87</td>\n",
              "      <td>ARGENTINA</td>\n",
              "      <td>VIUDO/A</td>\n",
              "    </tr>\n",
              "    <tr>\n",
              "      <th>1</th>\n",
              "      <td>29561692</td>\n",
              "      <td>57</td>\n",
              "      <td>ARGENTINA</td>\n",
              "      <td>VIUDO/A</td>\n",
              "    </tr>\n",
              "    <tr>\n",
              "      <th>2</th>\n",
              "      <td>29632753</td>\n",
              "      <td>57</td>\n",
              "      <td>ARGENTINA</td>\n",
              "      <td>VIUDO/A</td>\n",
              "    </tr>\n",
              "    <tr>\n",
              "      <th>3</th>\n",
              "      <td>04566883</td>\n",
              "      <td>96</td>\n",
              "      <td>ARGENTINA</td>\n",
              "      <td>VIUDO/A</td>\n",
              "    </tr>\n",
              "    <tr>\n",
              "      <th>4</th>\n",
              "      <td>00093940</td>\n",
              "      <td>101</td>\n",
              "      <td>ARGENTINA</td>\n",
              "      <td>VIUDO/A</td>\n",
              "    </tr>\n",
              "    <tr>\n",
              "      <th>5</th>\n",
              "      <td>29580724</td>\n",
              "      <td>73</td>\n",
              "      <td>ARGENTINA</td>\n",
              "      <td>VIUDO/A</td>\n",
              "    </tr>\n",
              "    <tr>\n",
              "      <th>6</th>\n",
              "      <td>00104838</td>\n",
              "      <td>95</td>\n",
              "      <td>ARGENTINA</td>\n",
              "      <td>VIUDO/A</td>\n",
              "    </tr>\n",
              "    <tr>\n",
              "      <th>7</th>\n",
              "      <td>00014664</td>\n",
              "      <td>102</td>\n",
              "      <td>ARGENTINA</td>\n",
              "      <td>VIUDO/A</td>\n",
              "    </tr>\n",
              "    <tr>\n",
              "      <th>8</th>\n",
              "      <td>29434917</td>\n",
              "      <td>102</td>\n",
              "      <td>ARGENTINA</td>\n",
              "      <td>VIUDO/A</td>\n",
              "    </tr>\n",
              "    <tr>\n",
              "      <th>9</th>\n",
              "      <td>04076446</td>\n",
              "      <td>104</td>\n",
              "      <td>ARGENTINA</td>\n",
              "      <td>VIUDO/A</td>\n",
              "    </tr>\n",
              "    <tr>\n",
              "      <th>10</th>\n",
              "      <td>03925479</td>\n",
              "      <td>57</td>\n",
              "      <td>ARGENTINA</td>\n",
              "      <td>VIUDO/A</td>\n",
              "    </tr>\n",
              "    <tr>\n",
              "      <th>11</th>\n",
              "      <td>05812127</td>\n",
              "      <td>98</td>\n",
              "      <td>ARGENTINA</td>\n",
              "      <td>VIUDO/A</td>\n",
              "    </tr>\n",
              "    <tr>\n",
              "      <th>12</th>\n",
              "      <td>07365248</td>\n",
              "      <td>86</td>\n",
              "      <td>ARGENTINA</td>\n",
              "      <td>VIUDO/A</td>\n",
              "    </tr>\n",
              "    <tr>\n",
              "      <th>13</th>\n",
              "      <td>27541480</td>\n",
              "      <td>87</td>\n",
              "      <td>ARGENTINA</td>\n",
              "      <td>VIUDO/A</td>\n",
              "    </tr>\n",
              "    <tr>\n",
              "      <th>14</th>\n",
              "      <td>26720788</td>\n",
              "      <td>101</td>\n",
              "      <td>ARGENTINA</td>\n",
              "      <td>VIUDO/A</td>\n",
              "    </tr>\n",
              "    <tr>\n",
              "      <th>15</th>\n",
              "      <td>02507194</td>\n",
              "      <td>73</td>\n",
              "      <td>ARGENTINA</td>\n",
              "      <td>VIUDO/A</td>\n",
              "    </tr>\n",
              "    <tr>\n",
              "      <th>16</th>\n",
              "      <td>01193254</td>\n",
              "      <td>88</td>\n",
              "      <td>ARGENTINA</td>\n",
              "      <td>VIUDO/A</td>\n",
              "    </tr>\n",
              "    <tr>\n",
              "      <th>17</th>\n",
              "      <td>04191069</td>\n",
              "      <td>89</td>\n",
              "      <td>ARGENTINA</td>\n",
              "      <td>VIUDO/A</td>\n",
              "    </tr>\n",
              "    <tr>\n",
              "      <th>18</th>\n",
              "      <td>03637822</td>\n",
              "      <td>92</td>\n",
              "      <td>ARGENTINA</td>\n",
              "      <td>VIUDO/A</td>\n",
              "    </tr>\n",
              "    <tr>\n",
              "      <th>19</th>\n",
              "      <td>29567911</td>\n",
              "      <td>87</td>\n",
              "      <td>ARGENTINA</td>\n",
              "      <td>VIUDO/A</td>\n",
              "    </tr>\n",
              "  </tbody>\n",
              "</table>\n",
              "</div>\n",
              "      <button class=\"colab-df-convert\" onclick=\"convertToInteractive('df-2c6dbe12-b677-4718-9bbf-3b2239e97bbc')\"\n",
              "              title=\"Convert this dataframe to an interactive table.\"\n",
              "              style=\"display:none;\">\n",
              "        \n",
              "  <svg xmlns=\"http://www.w3.org/2000/svg\" height=\"24px\"viewBox=\"0 0 24 24\"\n",
              "       width=\"24px\">\n",
              "    <path d=\"M0 0h24v24H0V0z\" fill=\"none\"/>\n",
              "    <path d=\"M18.56 5.44l.94 2.06.94-2.06 2.06-.94-2.06-.94-.94-2.06-.94 2.06-2.06.94zm-11 1L8.5 8.5l.94-2.06 2.06-.94-2.06-.94L8.5 2.5l-.94 2.06-2.06.94zm10 10l.94 2.06.94-2.06 2.06-.94-2.06-.94-.94-2.06-.94 2.06-2.06.94z\"/><path d=\"M17.41 7.96l-1.37-1.37c-.4-.4-.92-.59-1.43-.59-.52 0-1.04.2-1.43.59L10.3 9.45l-7.72 7.72c-.78.78-.78 2.05 0 2.83L4 21.41c.39.39.9.59 1.41.59.51 0 1.02-.2 1.41-.59l7.78-7.78 2.81-2.81c.8-.78.8-2.07 0-2.86zM5.41 20L4 18.59l7.72-7.72 1.47 1.35L5.41 20z\"/>\n",
              "  </svg>\n",
              "      </button>\n",
              "      \n",
              "  <style>\n",
              "    .colab-df-container {\n",
              "      display:flex;\n",
              "      flex-wrap:wrap;\n",
              "      gap: 12px;\n",
              "    }\n",
              "\n",
              "    .colab-df-convert {\n",
              "      background-color: #E8F0FE;\n",
              "      border: none;\n",
              "      border-radius: 50%;\n",
              "      cursor: pointer;\n",
              "      display: none;\n",
              "      fill: #1967D2;\n",
              "      height: 32px;\n",
              "      padding: 0 0 0 0;\n",
              "      width: 32px;\n",
              "    }\n",
              "\n",
              "    .colab-df-convert:hover {\n",
              "      background-color: #E2EBFA;\n",
              "      box-shadow: 0px 1px 2px rgba(60, 64, 67, 0.3), 0px 1px 3px 1px rgba(60, 64, 67, 0.15);\n",
              "      fill: #174EA6;\n",
              "    }\n",
              "\n",
              "    [theme=dark] .colab-df-convert {\n",
              "      background-color: #3B4455;\n",
              "      fill: #D2E3FC;\n",
              "    }\n",
              "\n",
              "    [theme=dark] .colab-df-convert:hover {\n",
              "      background-color: #434B5C;\n",
              "      box-shadow: 0px 1px 3px 1px rgba(0, 0, 0, 0.15);\n",
              "      filter: drop-shadow(0px 1px 2px rgba(0, 0, 0, 0.3));\n",
              "      fill: #FFFFFF;\n",
              "    }\n",
              "  </style>\n",
              "\n",
              "      <script>\n",
              "        const buttonEl =\n",
              "          document.querySelector('#df-2c6dbe12-b677-4718-9bbf-3b2239e97bbc button.colab-df-convert');\n",
              "        buttonEl.style.display =\n",
              "          google.colab.kernel.accessAllowed ? 'block' : 'none';\n",
              "\n",
              "        async function convertToInteractive(key) {\n",
              "          const element = document.querySelector('#df-2c6dbe12-b677-4718-9bbf-3b2239e97bbc');\n",
              "          const dataTable =\n",
              "            await google.colab.kernel.invokeFunction('convertToInteractive',\n",
              "                                                     [key], {});\n",
              "          if (!dataTable) return;\n",
              "\n",
              "          const docLinkHtml = 'Like what you see? Visit the ' +\n",
              "            '<a target=\"_blank\" href=https://colab.research.google.com/notebooks/data_table.ipynb>data table notebook</a>'\n",
              "            + ' to learn more about interactive tables.';\n",
              "          element.innerHTML = '';\n",
              "          dataTable['output_type'] = 'display_data';\n",
              "          await google.colab.output.renderOutput(dataTable, element);\n",
              "          const docLink = document.createElement('div');\n",
              "          docLink.innerHTML = docLinkHtml;\n",
              "          element.appendChild(docLink);\n",
              "        }\n",
              "      </script>\n",
              "    </div>\n",
              "  </div>\n",
              "  "
            ]
          },
          "metadata": {},
          "execution_count": 57
        }
      ]
    },
    {
      "cell_type": "markdown",
      "source": [
        "# Carga de datos, generacion de archivos .csv\n",
        "#### Los archivos deben cumplir los siguientes requerimientos: \n",
        "* Contener cabecera. \n",
        "* Separador “|”. \n",
        "* Máximo de 1000 registros por archivo (si el público objetivo tiene más de 1000 registros, se deberá crear más de un archivo)\n",
        "* Ser guardados en HDFS."
      ],
      "metadata": {
        "id": "AKaVLQPMzRiZ"
      }
    },
    {
      "cell_type": "code",
      "source": [
        "# los dataframes no contienen más de 1000 registros, por lo que no es necesrio partir los .csv. Para partirlos, hubieramos necesitado las funciones 'count' y 'repartition'"
      ],
      "metadata": {
        "id": "RB-GpCHfH96S"
      },
      "execution_count": null,
      "outputs": []
    },
    {
      "cell_type": "markdown",
      "source": [
        "#### - 43 -  Generar archivos .csv a partir de los público objetivo 1. \n"
      ],
      "metadata": {
        "id": "Aa7xtVRSzUYG"
      }
    },
    {
      "cell_type": "code",
      "source": [
        "# primero cuento la cantidad de celdas para ver si es necesario partir el archivo\n",
        "publico_obj1.count()"
      ],
      "metadata": {
        "colab": {
          "base_uri": "https://localhost:8080/"
        },
        "id": "MtcsKb8eHvyu",
        "outputId": "ca404f75-97fd-4e28-8bfb-8c9e6f013b65"
      },
      "execution_count": null,
      "outputs": [
        {
          "output_type": "execute_result",
          "data": {
            "text/plain": [
              "250"
            ]
          },
          "metadata": {},
          "execution_count": 61
        }
      ]
    },
    {
      "cell_type": "code",
      "source": [
        "# son 250 registros, por lo tanto no debo partir el data frame\n",
        "# no lo exporto como HDFS porque no estoy usando un contenedor, por lo tanto no tengo un número de puerto\n",
        "publico_obj1.write \\\n",
        "  .option(\"delimiter\", \"|\") \\\n",
        "  .option(\"header\", \"true\") \\\n",
        "  .csv(\"Datasets/P1\")"
      ],
      "metadata": {
        "id": "slcVZKP8HyOZ"
      },
      "execution_count": null,
      "outputs": []
    },
    {
      "cell_type": "markdown",
      "source": [
        "#### - 44 - Generar archivos .csv a partir del público objetivo 2. "
      ],
      "metadata": {
        "id": "-ghFgx1CzWiT"
      }
    },
    {
      "cell_type": "code",
      "source": [
        "# primero cuento la cantidad de celdas para ver si es necesario partir el archivo\n",
        "publico_obj2.count()"
      ],
      "metadata": {
        "colab": {
          "base_uri": "https://localhost:8080/"
        },
        "id": "A8x99lxcH2oz",
        "outputId": "40e9f661-7d08-4bf4-befa-e138dfe689d7"
      },
      "execution_count": null,
      "outputs": [
        {
          "output_type": "execute_result",
          "data": {
            "text/plain": [
              "2"
            ]
          },
          "metadata": {},
          "execution_count": 63
        }
      ]
    },
    {
      "cell_type": "code",
      "source": [
        "# son 2 registros, por lo tanto no debo partir el data frame\n",
        "# no lo exporto como HDFS porque no estoy usando un contenedor, por lo tanto no tengo un número de puerto\n",
        "publico_obj2.write \\\n",
        "  .option(\"delimiter\", \"|\") \\\n",
        "  .option(\"header\", \"true\") \\\n",
        "  .csv(\"Datasets/P2\")"
      ],
      "metadata": {
        "id": "ScZm2KRkIWd2"
      },
      "execution_count": null,
      "outputs": []
    },
    {
      "cell_type": "markdown",
      "source": [
        "####- 45 - Generar archivos .csv a partir del público objetivo 3. "
      ],
      "metadata": {
        "id": "RibK-HsmznSu"
      }
    },
    {
      "cell_type": "code",
      "source": [
        "# primero cuento la cantidad de celdas para ver si es necesario partir el archivo\n",
        "publico_obj3.count()"
      ],
      "metadata": {
        "colab": {
          "base_uri": "https://localhost:8080/"
        },
        "id": "gy6KOY5NGlul",
        "outputId": "5fd3e8c9-7050-4e07-f41a-a24ba2b12401"
      },
      "execution_count": null,
      "outputs": [
        {
          "output_type": "execute_result",
          "data": {
            "text/plain": [
              "299"
            ]
          },
          "metadata": {},
          "execution_count": 58
        }
      ]
    },
    {
      "cell_type": "code",
      "source": [
        "# son 299 registros, por lo tanto no debo partir el data frame\n",
        "# no lo exporto como HDFS porque no estoy usando un contenedor, por lo tanto no tengo un número de puerto\n",
        "publico_obj3.write \\\n",
        "  .option(\"delimiter\", \"|\") \\\n",
        "  .option(\"header\", \"true\") \\\n",
        "  .csv(\"Datasets/P3\")"
      ],
      "metadata": {
        "id": "RXFqcvBrG3YB"
      },
      "execution_count": null,
      "outputs": []
    },
    {
      "cell_type": "markdown",
      "source": [
        "####- 46 - Generar archivos .csv a partir del público objetivo 4. "
      ],
      "metadata": {
        "id": "HXNyvvYi0AkY"
      }
    },
    {
      "cell_type": "code",
      "source": [
        "# primero cuento la cantidad de celdas para ver si es necesario partir el archivo\n",
        "publico_obj4.count()"
      ],
      "metadata": {
        "colab": {
          "base_uri": "https://localhost:8080/"
        },
        "id": "dR1bVb4FIfc_",
        "outputId": "0a078c11-b8a4-479c-c39f-3a36ac54851c"
      },
      "execution_count": null,
      "outputs": [
        {
          "output_type": "execute_result",
          "data": {
            "text/plain": [
              "20"
            ]
          },
          "metadata": {},
          "execution_count": 65
        }
      ]
    },
    {
      "cell_type": "code",
      "source": [
        "# son 20 registros, por lo tanto no debo partir el data frame\n",
        "# no lo exporto como HDFS porque no estoy usando un contenedor, por lo tanto no tengo un número de puerto\n",
        "publico_obj4.write \\\n",
        "  .option(\"delimiter\", \"|\") \\\n",
        "  .option(\"header\", \"true\") \\\n",
        "  .csv(\"Datasets/P4\")"
      ],
      "metadata": {
        "id": "pN1-pqs4If0g"
      },
      "execution_count": null,
      "outputs": []
    },
    {
      "cell_type": "markdown",
      "source": [
        "# Extraccion de datos desde .csv, públicos objetivo"
      ],
      "metadata": {
        "id": "gsBzsNK20DsC"
      }
    },
    {
      "cell_type": "markdown",
      "source": [
        "#### - 47 - Cargar los datos de los publicos generados en un DataFrame."
      ],
      "metadata": {
        "id": "hyOSh9u70Khr"
      }
    },
    {
      "cell_type": "code",
      "source": [
        "df_pobj1csv = spark.read.format(\"csv\") \\\n",
        "  .option(\"delimiter\", \"|\") \\\n",
        "  .option(\"header\", \"false\") \\\n",
        "  .load(\"/content/Datasets/P1/part-00000-b3b88a32-8951-4f8f-9429-f5e1684307b3-c000.csv\")\n",
        "  \n",
        "df_pobj2csv = spark.read.format(\"csv\") \\\n",
        "  .option(\"delimiter\", \"|\") \\\n",
        "  .option(\"header\", \"false\") \\\n",
        "  .load(\"/content/Datasets/P2/part-00000-dc179214-a403-45ee-a865-e0791719467f-c000.csv\")\n",
        "  \n",
        "df_pobj3csv = spark.read.format(\"csv\") \\\n",
        "  .option(\"delimiter\", \"|\") \\\n",
        "  .option(\"header\", \"false\") \\\n",
        "  .load(\"/content/Datasets/P3/part-00000-fd03bdfe-0656-421a-89da-2f72b5d4babe-c000.csv\")\n",
        "\n",
        "df_pobj4csv = spark.read.format(\"csv\") \\\n",
        "  .option(\"delimiter\", \"|\") \\\n",
        "  .option(\"header\", \"false\") \\\n",
        "  .load(\"/content/Datasets/P4/part-00000-f4dd6ba1-39ab-49ee-a823-2502a1f59867-c000.csv\")"
      ],
      "metadata": {
        "id": "zqz9-UfnI9OR"
      },
      "execution_count": null,
      "outputs": []
    },
    {
      "cell_type": "markdown",
      "source": [
        "# Calculo de agregaciones."
      ],
      "metadata": {
        "id": "L4z8RN3-0NWt"
      }
    },
    {
      "cell_type": "markdown",
      "source": [
        "####- 48 -  Contar al cantidad de personas contactada por publico objetivo."
      ],
      "metadata": {
        "id": "V4vo3ZIZ0Pu_"
      }
    },
    {
      "cell_type": "code",
      "source": [
        "df_pobj4csv.show()"
      ],
      "metadata": {
        "colab": {
          "base_uri": "https://localhost:8080/"
        },
        "id": "24nL32V2LhIA",
        "outputId": "c3439388-a730-4ab6-e673-f9276a8b50a6"
      },
      "execution_count": null,
      "outputs": [
        {
          "output_type": "stream",
          "name": "stdout",
          "text": [
            "+-----------+------------+------------+--------------------+\n",
            "|        _c0|         _c1|         _c2|                 _c3|\n",
            "+-----------+------------+------------+--------------------+\n",
            "|customer_id|customer_age|country_name|martial_status_sh...|\n",
            "|   04161701|          87|   ARGENTINA|             VIUDO/A|\n",
            "|   29561692|          57|   ARGENTINA|             VIUDO/A|\n",
            "|   29632753|          57|   ARGENTINA|             VIUDO/A|\n",
            "|   04566883|          96|   ARGENTINA|             VIUDO/A|\n",
            "|   00093940|         101|   ARGENTINA|             VIUDO/A|\n",
            "|   29580724|          73|   ARGENTINA|             VIUDO/A|\n",
            "|   00104838|          95|   ARGENTINA|             VIUDO/A|\n",
            "|   00014664|         102|   ARGENTINA|             VIUDO/A|\n",
            "|   29434917|         102|   ARGENTINA|             VIUDO/A|\n",
            "|   04076446|         104|   ARGENTINA|             VIUDO/A|\n",
            "|   03925479|          57|   ARGENTINA|             VIUDO/A|\n",
            "|   05812127|          98|   ARGENTINA|             VIUDO/A|\n",
            "|   07365248|          86|   ARGENTINA|             VIUDO/A|\n",
            "|   27541480|          87|   ARGENTINA|             VIUDO/A|\n",
            "|   26720788|         101|   ARGENTINA|             VIUDO/A|\n",
            "|   02507194|          73|   ARGENTINA|             VIUDO/A|\n",
            "|   01193254|          88|   ARGENTINA|             VIUDO/A|\n",
            "|   04191069|          89|   ARGENTINA|             VIUDO/A|\n",
            "|   03637822|          92|   ARGENTINA|             VIUDO/A|\n",
            "+-----------+------------+------------+--------------------+\n",
            "only showing top 20 rows\n",
            "\n"
          ]
        }
      ]
    },
    {
      "cell_type": "code",
      "source": [
        "df_pobj1csv.select(\"_c0\").distinct().count() - 1"
      ],
      "metadata": {
        "colab": {
          "base_uri": "https://localhost:8080/"
        },
        "id": "iXvGaApyKCYQ",
        "outputId": "796fcad1-76a2-446d-d8d7-d97d98b15a72"
      },
      "execution_count": null,
      "outputs": [
        {
          "output_type": "execute_result",
          "data": {
            "text/plain": [
              "250"
            ]
          },
          "metadata": {},
          "execution_count": 84
        }
      ]
    },
    {
      "cell_type": "code",
      "source": [
        "df_pobj2csv.select(\"_c0\").distinct().count() - 1"
      ],
      "metadata": {
        "colab": {
          "base_uri": "https://localhost:8080/"
        },
        "id": "XKIR5mgxKFx6",
        "outputId": "706ae1a5-0941-4fe5-b8e3-aaf8b362fd0e"
      },
      "execution_count": null,
      "outputs": [
        {
          "output_type": "execute_result",
          "data": {
            "text/plain": [
              "2"
            ]
          },
          "metadata": {},
          "execution_count": 85
        }
      ]
    },
    {
      "cell_type": "code",
      "source": [
        "df_pobj3csv.select(\"_c0\").distinct().count() - 1"
      ],
      "metadata": {
        "colab": {
          "base_uri": "https://localhost:8080/"
        },
        "id": "2xtz8r2UKF1s",
        "outputId": "7593a69c-2015-4889-81ef-53299454b43b"
      },
      "execution_count": null,
      "outputs": [
        {
          "output_type": "execute_result",
          "data": {
            "text/plain": [
              "299"
            ]
          },
          "metadata": {},
          "execution_count": 86
        }
      ]
    },
    {
      "cell_type": "code",
      "source": [
        "df_pobj4csv.select(\"_c0\").distinct().count() - 1"
      ],
      "metadata": {
        "colab": {
          "base_uri": "https://localhost:8080/"
        },
        "id": "zUAqwQrVKF8D",
        "outputId": "3da8549c-1896-4fc6-c816-8e16b964eee3"
      },
      "execution_count": null,
      "outputs": [
        {
          "output_type": "execute_result",
          "data": {
            "text/plain": [
              "20"
            ]
          },
          "metadata": {},
          "execution_count": 87
        }
      ]
    },
    {
      "cell_type": "markdown",
      "source": [
        "####- 49 - Contar la cantidad de direcciones, mails y telefonos por publico objetivo."
      ],
      "metadata": {
        "id": "8ncFa_tW0UBx"
      }
    },
    {
      "cell_type": "markdown",
      "source": [
        "####- 50 - Contar la cantidad de hombres y mujeres por publico objetivo."
      ],
      "metadata": {
        "id": "IDX0Omzy0Wkg"
      }
    },
    {
      "cell_type": "markdown",
      "source": [
        "#### - 51 - Calcular la edad promedio por publico objetivo."
      ],
      "metadata": {
        "id": "bikW5zRF0ZNS"
      }
    },
    {
      "cell_type": "markdown",
      "source": [
        "# Carga de datos, generacion de archivos .parquet"
      ],
      "metadata": {
        "id": "tHmfq2rU0bNv"
      }
    },
    {
      "cell_type": "markdown",
      "source": [
        "####- 52 - Guardar las agregaciones generadas en un archivo parquet, particionado por mes de campaña y publico objetivo."
      ],
      "metadata": {
        "id": "n28g6npc0dY3"
      }
    },
    {
      "cell_type": "markdown",
      "source": [
        "####- 53 - Guardar las agregaciones generadas en un archivo parquet, particionado por mes de campaña y publico objetivo."
      ],
      "metadata": {
        "id": "sPCIsWcJ0fRL"
      }
    },
    {
      "cell_type": "markdown",
      "source": [
        "####- 54 - Guardar las agregaciones generadas en un archivo parquet, particionado por mes de campaña y publico objetivo."
      ],
      "metadata": {
        "id": "pgON20aV0hBj"
      }
    },
    {
      "cell_type": "markdown",
      "source": [
        "####- 55 - Guardar las agregaciones generadas en un archivo parquet, particionado por mes de campaña y publico objetivo."
      ],
      "metadata": {
        "id": "U16I98lN0ipN"
      }
    },
    {
      "cell_type": "markdown",
      "source": [
        "# Borrador"
      ],
      "metadata": {
        "id": "_tWEmVaR-BqO"
      }
    },
    {
      "cell_type": "code",
      "source": [
        "df_customer.show() # admission_date marital_status_type gender_type birth_date job_type profession_id\n",
        "#df_phones.toPandas()\n",
        "#df_address.toPandas()\n",
        "#df_emails.toPandas()\n",
        "#df_marital_status.toPandas() # marital_status_type martial_status_short_desc\n",
        "#df_segment_type.toPandas() \n",
        "#df_customer_documents.toPandas() \n",
        "#df_address_type.toPandas() # address_type address_type_short_desc ??\n",
        "#df_gender.toPandas() # gender_type gender_desc\n",
        "#df_nationality.toPandas() # country_nationality_id # country_nationality_id\n",
        "#df_personal_type.toPandas()\n",
        "#df_phone_type.toPandas() # phone_type\tphone_type_desc\t ??\n",
        "#df_province.toPandas()\n",
        "#df_customer_segment.show() \n",
        "#df_customer_info_temp.show()\n",
        "\n",
        "# VER DE NO IMPORTAR PARQUETS QUE NO USEMOS"
      ],
      "metadata": {
        "colab": {
          "base_uri": "https://localhost:8080/",
          "height": 895
        },
        "id": "VnHRq-pQsyIZ",
        "outputId": "c2f66f8e-e031-4f3e-8c9e-be3771bbf0da"
      },
      "execution_count": null,
      "outputs": [
        {
          "output_type": "stream",
          "name": "stdout",
          "text": [
            "+-----------+-------------+-------------+--------------+---------------+--------------------+---------+----------------+-----------+-----------------------+-----------------------+----------+-------------------+-----------------+--------------------------+------------+----------------+-------------------+-------------------+-----------+----------+----------------------+--------------------+---------------------+-----------+--------------------------+----------------------------+-------------------------------+------------------------+------------------------+--------------------------+------------------------+--------------------------+----------------------------+------------------+------------------------+-------------------+-------------------+---------------------------+-----------------+-------------------+-----------------+-------------------------------+--------------------+---------------------+------------------+----------------+--------------------+--------------------------+----------------+--------------------------+--------------------+-------------+----------------+--------------------+-------------------+--------+---------------------+-------------------------+--------------------------+--------------+--------------------+--------------------+----------------+-------------+-------------------------+-----------------------+---------------------+\n",
            "|customer_id|personal_type|  personal_id|admission_date|sale_channel_id|operation_channel_id|branch_id|business_area_id|campaing_id|customer_situation_type|customer_condition_type|manager_id|tracking_manager_id|credit_manager_id|credit_recovery_manager_id|   last_name|second_last_name|         first_name|marital_status_type|gender_type|birth_date|country_nationality_id|residence_country_id|customer_subject_type|sector_type|customer_level_access_type|cust_bcra_econ_activity_type|internal_economic_activity_type|bbva_inhabilitation_type|customer_block_bbva_date|customer_unblock_bbva_date|customer_block_bcra_date|customer_unblock_bcra_date|customer_pending_notice_type|last_notice_number|last_reference_number_id|last_service_number|last_address_number|last_unlinking_account_date|customer_end_date|last_change_user_id|customer_pep_type|bbva_family_lnk_weighted_number|customer_status_type|scoring_activity_type|refinancing_number|refinancing_date|coholder_customer_id|customer_bcra_situation_id|customer_cuit_id|customer_position_vat_type|balance_closing_date|profession_id|bbva_cust_number|customer_linked_type|customer_entry_type|job_type|profession_start_date|customer_first_block_date|customer_registration_date|l_c_d_customer|last_change_hms_date|register_terminal_id|register_user_id|customer_type|customer_seniority_number|last_status_change_date|operational_load_date|\n",
            "+-----------+-------------+-------------+--------------+---------------+--------------------+---------+----------------+-----------+-----------------------+-----------------------+----------+-------------------+-----------------+--------------------------+------------+----------------+-------------------+-------------------+-----------+----------+----------------------+--------------------+---------------------+-----------+--------------------------+----------------------------+-------------------------------+------------------------+------------------------+--------------------------+------------------------+--------------------------+----------------------------+------------------+------------------------+-------------------+-------------------+---------------------------+-----------------+-------------------+-----------------+-------------------------------+--------------------+---------------------+------------------+----------------+--------------------+--------------------------+----------------+--------------------------+--------------------+-------------+----------------+--------------------+-------------------+--------+---------------------+-------------------------+--------------------------+--------------+--------------------+--------------------+----------------+-------------+-------------------------+-----------------------+---------------------+\n",
            "|   07867437|           00|0000022367134|    2007-07-10|          10000|                    |      143|              34|          0|                      1|                      1|       489|                   |                 |                          |      KATTAN|                |    ALBERTO GERARDO|                  1|          M|1971-08-10|                    80|                 080|                  201|        100|                         0|                          82|                       21101000|                       0|                    null|                      null|                    null|                      null|                           0|                 0|                       0|                  0|                  1|                       null|             null|            PCLE06R|                0|                              1|                  PO|                   47|              null|            null|                    |                      null|   0023223671349|                       042|                null|          016|       007867437|                   N|                   |     001|           2009-01-01|                     null|                2007-07-10|    2008-05-02|              181547|                P37B|          VUELCO|            S|                     null|                   null| 2022-03-10 01:05:...|\n",
            "|   06813266|           00|0000013343738|    2006-02-22|          10000|                    |      418|              34|          0|                      1|                      1|       139|                   |                 |                          |     FERRERO|                |       ISIDRO ROQUE|                  1|          M|1959-02-06|                    80|                 080|                  201|        100|                         0|                          82|                       21101000|                       0|                    null|                      null|                    null|                      null|                            |                 0|                       0|                  0|                  1|                       null|             null|            PCLE02P|                0|                              1|                  CA|                   47|              null|            null|                    |                      null|   0020133437380|                       043|                null|          016|       006813266|                   N|                   |     001|           2009-01-01|                     null|                2006-02-22|    2008-11-10|              145508|                P37B|          VUELCO|            S|                     null|                   null| 2022-03-10 01:05:...|\n",
            "|   29604216|           00|0000020589841|    2001-08-17|          10000|                  01|      199|              30|          0|                      1|                      1|       661|                   |                 |                          |      TOLOZA|                |       MIGUEL ANGEL|                  5|          M|1969-11-03|                    80|                 080|                  201|        100|                         0|                          82|                       21101000|                       0|                    null|                      null|                    null|                      null|                            |                 0|                       0|                  0|                  3|                       null|             null|            PCLE825|                2|                              1|                  AC|                   18|              null|            null|                    |                        21|   0020205898418|                       042|                null|          013|       005564899|                   N|                   |     001|           2016-12-26|                     null|                2001-08-17|    2022-02-21|              125716|                   B|          VUELCO|            N|                     null|             2016-12-26| 2022-03-10 01:05:...|\n",
            "|   28028529|           00|0000039730521|    2021-08-24|          10000|                  01|      995|              34|          0|                      1|                      8|      2603|                   |             PVTA|                          |      ZURITA|                |             CARLOS|                  5|          M|1996-04-27|                    80|                 080|                  201|        100|                         0|                          82|                       21101000|                       0|                    null|                      null|                    null|                      null|                           0|                 0|                       0|                  0|                  0|                       null|             null|            PCLE06R|                1|                              1|                  PO|                    4|              null|            null|                    |                      null|   0000000000000|                       042|                null|          016|       028028529|                   N|                 MD|     001|           2021-08-24|                     null|                2021-08-24|    2021-08-24|              172924|                P37B|        VW2CEVA0|            S|                     null|                   null| 2022-03-10 01:05:...|\n",
            "|   28366580|           00|0000039786049|    2022-01-11|          10000|                  00|       82|              34|          0|                      1|                      1|       234|                080|                 |                          |    BEATRICE|                |   SEBASTIAN DANIEL|                  5|          M|1996-08-03|                    80|                 080|                  201|        100|                         0|                          82|                       21101000|                       0|                    null|                      null|                    null|                      null|                           0|                 2|                       0|                  0|                  2|                       null|             null|            PCLE06R|                2|                              2|                  AC|                   47|              null|            null|                    |                      null|   0020397860494|                       042|                null|          016|       028366580|                   N|                   |     001|           2022-01-20|                     null|                2022-01-11|    2022-01-25|              204956|                BATC|         PCLE510|            N|                     null|                   null| 2022-03-10 01:05:...|\n",
            "|   02746969|           00|0000025684535|    2010-10-21|          10000|                  00|       74|              34|          0|                      1|                      1|       192|                   |                 |                          |        RUIZ|                |RUIZ MIRIAM LILIANA|                  1|          F|1977-01-01|                    80|                 080|                  201|        100|                         0|                          82|                       21101000|                       0|                    null|                      null|                    null|                      null|                           0|                 0|                       0|                  0|                  1|                       null|             null|            PCLE06R|                1|                              1|                  PO|                   47|              null|            null|                    |                      null|   0027256845356|                       042|                null|          016|       002746969|                   N|                   |     001|           2010-10-21|                     null|                2010-10-21|    2010-10-21|              162741|                P37B|          VUELCO|            S|                     null|                   null| 2022-03-10 01:05:...|\n",
            "|   23441482|           00|0000038990587|    2016-12-22|          10000|                  00|      302|              34|          0|                      1|                      1|       591|                   |                 |                          |      ACOSTA|                |      FRANCO LEONEL|                  5|          M|1995-09-10|                    80|                 080|                  201|        100|                         0|                          82|                       21101000|                       0|                    null|                      null|                    null|                      null|                            |                 0|                       0|                  0|                  2|                       null|             null|            PCLE06R|                2|                              1|                  CA|                   47|              null|            null|                    |                      null|   0023389905879|                       042|                null|          007|       023441482|                   N|                   |     001|           2017-01-04|                     null|                2016-12-22|    2017-01-04|              035408|                P37B|         PCLE510|            S|                     null|             2017-01-04| 2022-03-10 01:05:...|\n",
            "|   23610540|           00|0000021823184|    2004-05-04|          10000|                  01|      130|              34|          0|                      1|                      1|       452|                   |                 |                          |   BALMACEDA|                |        MARIA ESTER|                  5|          F|1971-01-31|                    80|                 080|                  201|        100|                         0|                          82|                       21101000|                       0|                    null|                      null|                    null|                      null|                            |                 0|                       0|                  0|                  1|                       null|             null|            PCLE06R|                0|                              1|                  PO|                   50|              null|            null|                    |                      null|   0027218231840|                       042|                null|          034|       006341634|                   N|                   |     004|           2009-01-01|                     null|                2004-05-04|    2021-04-10|              191538|                P37B|          VUELCO|            S|                     null|             2014-07-17| 2022-03-10 01:05:...|\n",
            "|   25935956|           00|0000036876523|    2019-06-24|          10000|                  01|       75|              30|          0|                      1|                      1|       200|                080|             PVTA|                          |     BUIATTI|                | VERONICA ESTEFANIA|                  5|          F|1992-05-12|                    80|                 080|                  201|        100|                         0|                          82|                       21101000|                       0|                    null|                      null|                    null|                      null|                           2|                30|                       0|                  0|                  1|                       null|             null|            PCLE02P|                2|                              3|                  AC|                    4|              null|            null|                    |                      null|   0027368765231|                       042|                null|          016|       025935956|                   N|                   |     001|           2019-06-24|                     null|                2019-06-24|    2022-01-20|              230746|                BATC|        VW2CEVA0|            N|                     null|                   null| 2022-03-10 01:05:...|\n",
            "|   25848977|           00|0000036916954|    2022-03-08|          10000|                  00|      603|              30|          0|                      1|                      8|      2603|                   |                 |                          |    ONTIVERO|                |    NATALIA SOLEDAD|                  1|          F|1992-10-02|                    80|                 080|                  201|        100|                         0|                          82|                       21101000|                       0|                    null|                      null|                    null|                      null|                           0|                 0|                       0|                  0|                  0|                       null|             null|            PCLE25H|                1|                              0|                    |                   47|              null|            null|                    |                      null|   0027369169543|                       042|                null|          016|       028990968|                   N|                 MD|     001|           2022-03-08|                     null|                2022-03-08|    2022-03-08|              003155|                 BAT|         PCLE25H|             |                     null|                   null| 2022-03-10 01:05:...|\n",
            "|   01957163|           00|0000016394256|    2010-01-22|          10000|                  01|      136|              34|          0|                      1|                      1|       461|                   |                 |                          |  PALAVECINO|                |      NELIDA ANGELI|                  5|          F|1963-10-20|                    80|                 080|                  201|        100|                         0|                          82|                       21101000|                       0|                    null|                      null|                    null|                      null|                           0|                 0|                       0|                  0|                  1|                       null|             null|            PCLE06R|                2|                              1|                  PO|                   47|              null|            null|                    |                      null|   0027163942564|                       042|                null|          016|       001957163|                   N|                   |     001|           2010-01-22|                     null|                2010-01-22|    2010-01-22|              121626|                P37B|          VUELCO|            S|                     null|                   null| 2022-03-10 01:05:...|\n",
            "|   06338965|           00|0000030036232|    2004-04-29|          10000|                  01|      341|              34|          0|                      1|                      1|       639|                   |                 |                          |       LOPEZ|                |     LUCIANO MARTIN|                  5|          F|1982-12-28|                    80|                 080|                  201|        100|                         0|                          82|                       21101000|                       0|                    null|                      null|                    null|                      null|                            |                 0|                       0|                  0|                  1|                       null|             null|            PCLE06R|                0|                              1|                  CA|                   36|              null|            null|                    |                      null|   0027300362325|                       042|                null|          007|       006338965|                   N|                   |     001|           2009-01-01|                     null|                2004-04-29|    2005-12-23|              093844|                P37B|          VUELCO|            S|                     null|                   null| 2022-03-10 01:05:...|\n",
            "|   29676364|           28|0000002164659|    1993-05-24|          10000|                    |       14|              34|          0|                      1|                      8|        71|                   |                 |                          |     BAGNULO|                |              MARIA|                  5|          F|1907-05-28|                    80|                 080|                  201|        100|                         0|                          82|                       21101000|                       0|                    null|                      null|                    null|                      null|                           0|                 0|                       0|                  0|                  2|                       null|             null|            PCLE25Q|                0|                              1|                  CA|                   47|              null|            null|                    |                      null|   0027021646593|                       042|                null|          016|                |                   N|                   |     001|           2009-01-01|                     null|                1993-05-24|    2009-09-18|              162341|                P37B|          VUELCO|            S|                     null|                   null| 2022-03-10 01:05:...|\n",
            "|   26205399|           00|0000038866205|    2019-08-30|          10000|                  01|      995|              34|          0|                      1|                      8|      2603|                   |             PVTA|                          |     VAZQUEZ|                |         JUAN PABLO|                  5|          M|1995-05-05|                    80|                 080|                  201|        100|                         0|                          82|                       21101000|                       0|                    null|                      null|                    null|                      null|                           0|                 0|                       0|                  0|                  0|                       null|             null|            PCLE06R|                1|                              1|                  PO|                    4|              null|            null|                    |                      null|   0000000000000|                       042|                null|          016|       026205399|                   N|                 MD|     001|           2019-08-30|                     null|                2019-08-30|    2019-08-30|              092342|                P37B|        VW2CEVA0|            S|                     null|                   null| 2022-03-10 01:05:...|\n",
            "|   03933825|           00|0000025583974|    2011-07-13|          10000|                  00|      177|              34|          0|                      1|                      1|       600|                   |                 |                          |        SOSA|                |      MARIA CECILIA|                  1|          F|1977-08-04|                    80|                 080|                  201|        100|                         0|                          82|                       21101000|                       0|                    null|                      null|                    null|                      null|                           0|                 0|                       0|                  0|                  1|                       null|             null|            PCLE06R|                1|                              1|                  PO|                   47|              null|            null|                    |                      null|   0027255839743|                       042|                null|          016|       003933825|                   N|                   |     001|           2011-07-13|                     null|                2011-07-13|    2011-07-13|              161542|                P37B|         PCLE10P|            S|                     null|                   null| 2022-03-10 01:05:...|\n",
            "|   29416245|           27|0000007954354|    2014-10-07|          10000|                  00|      603|              34|          0|                      1|                      8|      2603|                   |                 |                          |   GERVASONI|                |     JOSE FRANCISCO|                  1|          M|1945-10-04|                    80|                 080|                  201|        100|                         0|                          82|                       21101000|                       0|                    null|                      null|                    null|                      null|                           0|                 0|                       0|                  0|                  0|                       null|             null|            PCLE25Q|                1|                              1|                  PO|                   47|              null|            null|                    |                      null|   0020079543544|                       042|                null|          016|       020773121|                   N|                 MD|     001|           2014-10-07|                     null|                2014-10-07|    2014-10-07|              175751|                P37B|         PCLE10P|            S|                     null|                   null| 2022-03-10 01:05:...|\n",
            "|   29497813|           25|0000001670239|    1992-06-20|          20050|                  01|      317|              34|          0|                      1|                      8|       609|                   |                 |                          |CIANCIABELLA|                |                JUA|                  1|          M|1922-06-25|                    80|                 080|                  201|        100|                          |                          82|                       21101000|                       0|                    null|                      null|                    null|                      null|                            |                 0|                       0|                  0|                  2|                       null|             null|            PCLE06R|                0|                              1|                  CA|                   47|              null|            null|                    |                      null|   0020016702391|                       042|                null|          016|       000569590|                   N|                 AD|     001|           2009-01-01|                     null|                1992-06-20|    2013-03-09|              150515|                P37B|          VUELCO|            S|                     null|                   null| 2022-03-10 01:05:...|\n",
            "|   02568856|           00|0000017440976|    2010-08-12|          10000|                  00|      223|              34|          0|                      1|                      1|       729|                   |                 |                          |       ARIAS|                |  PATRICIA GRACIELA|                  1|          F|1965-08-04|                    80|                 080|                  201|        100|                         0|                          82|                       21101000|                       0|                    null|                      null|                    null|                      null|                           0|                 0|                       0|                  0|                  1|                       null|             null|            PCLE06R|                1|                              1|                  PO|                   47|              null|            null|                    |                      null|   0027174409760|                       042|                null|          016|       002568856|                   N|                   |     001|           2010-08-12|                     null|                2010-08-12|    2010-08-12|              163210|                P37B|          VUELCO|            S|                     null|                   null| 2022-03-10 01:05:...|\n",
            "|   29681573|           27|0000007849347|    1994-12-23|          10000|                  01|      263|              34|          0|                      1|                      8|       151|                   |                 |                          |       VOZZI|                |             CARLOS|                  1|          M|1950-03-02|                    80|                 080|                  201|        100|                         0|                          82|                       21101000|                       0|                    null|                      null|                    null|                      null|                            |                 0|                       0|                  0|                  0|                       null|             null|            PCLE25Q|                0|                              1|                  CA|                   47|              null|            null|                    |                      null|   0020078493470|                       043|                null|          016|                |                   N|                   |     001|           2009-01-01|                     null|                1994-12-23|    2013-06-18|              163425|                P37B|          VUELCO|            S|                     null|                   null| 2022-03-10 01:05:...|\n",
            "|   04348412|           26|0000000046479|    1998-08-28|          10000|                  01|      999|              34|          0|                      1|                      1|       901|                   |                 |                          |    MASLATON|                |             RAQUEL|                  1|          F|1929-10-06|                    80|                 080|                  201|        100|                         0|                          82|                       21101000|                       0|                    null|                      null|                    null|                      null|                            |                 0|                       0|                  0|                  0|                       null|             null|            PCLE06R|                0|                              1|                  CA|                   47|              null|            null|                    |                      null|   0027000464797|                       042|                null|          016|       004348412|                   N|                   |     001|           2009-01-01|                     null|                1998-08-28|    1998-08-28|              082606|                P37B|          VUELCO|            S|                     null|                   null| 2022-03-10 01:05:...|\n",
            "+-----------+-------------+-------------+--------------+---------------+--------------------+---------+----------------+-----------+-----------------------+-----------------------+----------+-------------------+-----------------+--------------------------+------------+----------------+-------------------+-------------------+-----------+----------+----------------------+--------------------+---------------------+-----------+--------------------------+----------------------------+-------------------------------+------------------------+------------------------+--------------------------+------------------------+--------------------------+----------------------------+------------------+------------------------+-------------------+-------------------+---------------------------+-----------------+-------------------+-----------------+-------------------------------+--------------------+---------------------+------------------+----------------+--------------------+--------------------------+----------------+--------------------------+--------------------+-------------+----------------+--------------------+-------------------+--------+---------------------+-------------------------+--------------------------+--------------+--------------------+--------------------+----------------+-------------+-------------------------+-----------------------+---------------------+\n",
            "only showing top 20 rows\n",
            "\n"
          ]
        },
        {
          "output_type": "execute_result",
          "data": {
            "text/plain": [
              "     country_nationality_id country_group_branch_type phone_1_prefix_id  \\\n",
              "0                         1                                          44   \n",
              "1                         2                                           1   \n",
              "2                         3                                          49   \n",
              "3                         4                                          33   \n",
              "4                         5                                          41   \n",
              "..                      ...                       ...               ...   \n",
              "256                     348                                               \n",
              "257                     349                                         683   \n",
              "258                     350                                               \n",
              "259                     351                                         420   \n",
              "260                     352                                         420   \n",
              "\n",
              "                            country_name country_short_desc country_id  \\\n",
              "0                            REINO UNIDO                GBR         GB   \n",
              "1                         ESTADOS UNIDOS                USA         US   \n",
              "2                               ALEMANIA                DEU         DE   \n",
              "3                                FRANCIA                FRA         FR   \n",
              "4                                  SUIZA                CHE         CH   \n",
              "..                                   ...                ...        ...   \n",
              "256  UNITED STATES MINOR OUTLAYING ISLAN                            UM   \n",
              "257                                 NIUE                NIU         NU   \n",
              "258                               KOSOVO                KOS         XK   \n",
              "259                      REPUBLICA CHECA                CZE         CZ   \n",
              "260                           ESLOVAQUIA                CZE         CZ   \n",
              "\n",
              "      operational_load_date  \n",
              "0   2021-11-22 16:07:38.994  \n",
              "1   2021-11-22 16:07:38.994  \n",
              "2   2021-11-22 16:07:38.994  \n",
              "3   2021-11-22 16:07:38.994  \n",
              "4   2021-11-22 16:07:38.994  \n",
              "..                      ...  \n",
              "256 2021-11-22 16:07:38.994  \n",
              "257 2021-11-22 16:07:38.994  \n",
              "258 2021-11-22 16:07:38.994  \n",
              "259 2021-11-22 16:07:38.994  \n",
              "260 2021-11-22 16:07:38.994  \n",
              "\n",
              "[261 rows x 7 columns]"
            ],
            "text/html": [
              "\n",
              "  <div id=\"df-e9f7a8cd-1078-478c-a7c0-ed11d90c9e0a\">\n",
              "    <div class=\"colab-df-container\">\n",
              "      <div>\n",
              "<style scoped>\n",
              "    .dataframe tbody tr th:only-of-type {\n",
              "        vertical-align: middle;\n",
              "    }\n",
              "\n",
              "    .dataframe tbody tr th {\n",
              "        vertical-align: top;\n",
              "    }\n",
              "\n",
              "    .dataframe thead th {\n",
              "        text-align: right;\n",
              "    }\n",
              "</style>\n",
              "<table border=\"1\" class=\"dataframe\">\n",
              "  <thead>\n",
              "    <tr style=\"text-align: right;\">\n",
              "      <th></th>\n",
              "      <th>country_nationality_id</th>\n",
              "      <th>country_group_branch_type</th>\n",
              "      <th>phone_1_prefix_id</th>\n",
              "      <th>country_name</th>\n",
              "      <th>country_short_desc</th>\n",
              "      <th>country_id</th>\n",
              "      <th>operational_load_date</th>\n",
              "    </tr>\n",
              "  </thead>\n",
              "  <tbody>\n",
              "    <tr>\n",
              "      <th>0</th>\n",
              "      <td>1</td>\n",
              "      <td></td>\n",
              "      <td>44</td>\n",
              "      <td>REINO UNIDO</td>\n",
              "      <td>GBR</td>\n",
              "      <td>GB</td>\n",
              "      <td>2021-11-22 16:07:38.994</td>\n",
              "    </tr>\n",
              "    <tr>\n",
              "      <th>1</th>\n",
              "      <td>2</td>\n",
              "      <td></td>\n",
              "      <td>1</td>\n",
              "      <td>ESTADOS UNIDOS</td>\n",
              "      <td>USA</td>\n",
              "      <td>US</td>\n",
              "      <td>2021-11-22 16:07:38.994</td>\n",
              "    </tr>\n",
              "    <tr>\n",
              "      <th>2</th>\n",
              "      <td>3</td>\n",
              "      <td></td>\n",
              "      <td>49</td>\n",
              "      <td>ALEMANIA</td>\n",
              "      <td>DEU</td>\n",
              "      <td>DE</td>\n",
              "      <td>2021-11-22 16:07:38.994</td>\n",
              "    </tr>\n",
              "    <tr>\n",
              "      <th>3</th>\n",
              "      <td>4</td>\n",
              "      <td></td>\n",
              "      <td>33</td>\n",
              "      <td>FRANCIA</td>\n",
              "      <td>FRA</td>\n",
              "      <td>FR</td>\n",
              "      <td>2021-11-22 16:07:38.994</td>\n",
              "    </tr>\n",
              "    <tr>\n",
              "      <th>4</th>\n",
              "      <td>5</td>\n",
              "      <td></td>\n",
              "      <td>41</td>\n",
              "      <td>SUIZA</td>\n",
              "      <td>CHE</td>\n",
              "      <td>CH</td>\n",
              "      <td>2021-11-22 16:07:38.994</td>\n",
              "    </tr>\n",
              "    <tr>\n",
              "      <th>...</th>\n",
              "      <td>...</td>\n",
              "      <td>...</td>\n",
              "      <td>...</td>\n",
              "      <td>...</td>\n",
              "      <td>...</td>\n",
              "      <td>...</td>\n",
              "      <td>...</td>\n",
              "    </tr>\n",
              "    <tr>\n",
              "      <th>256</th>\n",
              "      <td>348</td>\n",
              "      <td></td>\n",
              "      <td></td>\n",
              "      <td>UNITED STATES MINOR OUTLAYING ISLAN</td>\n",
              "      <td></td>\n",
              "      <td>UM</td>\n",
              "      <td>2021-11-22 16:07:38.994</td>\n",
              "    </tr>\n",
              "    <tr>\n",
              "      <th>257</th>\n",
              "      <td>349</td>\n",
              "      <td></td>\n",
              "      <td>683</td>\n",
              "      <td>NIUE</td>\n",
              "      <td>NIU</td>\n",
              "      <td>NU</td>\n",
              "      <td>2021-11-22 16:07:38.994</td>\n",
              "    </tr>\n",
              "    <tr>\n",
              "      <th>258</th>\n",
              "      <td>350</td>\n",
              "      <td></td>\n",
              "      <td></td>\n",
              "      <td>KOSOVO</td>\n",
              "      <td>KOS</td>\n",
              "      <td>XK</td>\n",
              "      <td>2021-11-22 16:07:38.994</td>\n",
              "    </tr>\n",
              "    <tr>\n",
              "      <th>259</th>\n",
              "      <td>351</td>\n",
              "      <td></td>\n",
              "      <td>420</td>\n",
              "      <td>REPUBLICA CHECA</td>\n",
              "      <td>CZE</td>\n",
              "      <td>CZ</td>\n",
              "      <td>2021-11-22 16:07:38.994</td>\n",
              "    </tr>\n",
              "    <tr>\n",
              "      <th>260</th>\n",
              "      <td>352</td>\n",
              "      <td></td>\n",
              "      <td>420</td>\n",
              "      <td>ESLOVAQUIA</td>\n",
              "      <td>CZE</td>\n",
              "      <td>CZ</td>\n",
              "      <td>2021-11-22 16:07:38.994</td>\n",
              "    </tr>\n",
              "  </tbody>\n",
              "</table>\n",
              "<p>261 rows × 7 columns</p>\n",
              "</div>\n",
              "      <button class=\"colab-df-convert\" onclick=\"convertToInteractive('df-e9f7a8cd-1078-478c-a7c0-ed11d90c9e0a')\"\n",
              "              title=\"Convert this dataframe to an interactive table.\"\n",
              "              style=\"display:none;\">\n",
              "        \n",
              "  <svg xmlns=\"http://www.w3.org/2000/svg\" height=\"24px\"viewBox=\"0 0 24 24\"\n",
              "       width=\"24px\">\n",
              "    <path d=\"M0 0h24v24H0V0z\" fill=\"none\"/>\n",
              "    <path d=\"M18.56 5.44l.94 2.06.94-2.06 2.06-.94-2.06-.94-.94-2.06-.94 2.06-2.06.94zm-11 1L8.5 8.5l.94-2.06 2.06-.94-2.06-.94L8.5 2.5l-.94 2.06-2.06.94zm10 10l.94 2.06.94-2.06 2.06-.94-2.06-.94-.94-2.06-.94 2.06-2.06.94z\"/><path d=\"M17.41 7.96l-1.37-1.37c-.4-.4-.92-.59-1.43-.59-.52 0-1.04.2-1.43.59L10.3 9.45l-7.72 7.72c-.78.78-.78 2.05 0 2.83L4 21.41c.39.39.9.59 1.41.59.51 0 1.02-.2 1.41-.59l7.78-7.78 2.81-2.81c.8-.78.8-2.07 0-2.86zM5.41 20L4 18.59l7.72-7.72 1.47 1.35L5.41 20z\"/>\n",
              "  </svg>\n",
              "      </button>\n",
              "      \n",
              "  <style>\n",
              "    .colab-df-container {\n",
              "      display:flex;\n",
              "      flex-wrap:wrap;\n",
              "      gap: 12px;\n",
              "    }\n",
              "\n",
              "    .colab-df-convert {\n",
              "      background-color: #E8F0FE;\n",
              "      border: none;\n",
              "      border-radius: 50%;\n",
              "      cursor: pointer;\n",
              "      display: none;\n",
              "      fill: #1967D2;\n",
              "      height: 32px;\n",
              "      padding: 0 0 0 0;\n",
              "      width: 32px;\n",
              "    }\n",
              "\n",
              "    .colab-df-convert:hover {\n",
              "      background-color: #E2EBFA;\n",
              "      box-shadow: 0px 1px 2px rgba(60, 64, 67, 0.3), 0px 1px 3px 1px rgba(60, 64, 67, 0.15);\n",
              "      fill: #174EA6;\n",
              "    }\n",
              "\n",
              "    [theme=dark] .colab-df-convert {\n",
              "      background-color: #3B4455;\n",
              "      fill: #D2E3FC;\n",
              "    }\n",
              "\n",
              "    [theme=dark] .colab-df-convert:hover {\n",
              "      background-color: #434B5C;\n",
              "      box-shadow: 0px 1px 3px 1px rgba(0, 0, 0, 0.15);\n",
              "      filter: drop-shadow(0px 1px 2px rgba(0, 0, 0, 0.3));\n",
              "      fill: #FFFFFF;\n",
              "    }\n",
              "  </style>\n",
              "\n",
              "      <script>\n",
              "        const buttonEl =\n",
              "          document.querySelector('#df-e9f7a8cd-1078-478c-a7c0-ed11d90c9e0a button.colab-df-convert');\n",
              "        buttonEl.style.display =\n",
              "          google.colab.kernel.accessAllowed ? 'block' : 'none';\n",
              "\n",
              "        async function convertToInteractive(key) {\n",
              "          const element = document.querySelector('#df-e9f7a8cd-1078-478c-a7c0-ed11d90c9e0a');\n",
              "          const dataTable =\n",
              "            await google.colab.kernel.invokeFunction('convertToInteractive',\n",
              "                                                     [key], {});\n",
              "          if (!dataTable) return;\n",
              "\n",
              "          const docLinkHtml = 'Like what you see? Visit the ' +\n",
              "            '<a target=\"_blank\" href=https://colab.research.google.com/notebooks/data_table.ipynb>data table notebook</a>'\n",
              "            + ' to learn more about interactive tables.';\n",
              "          element.innerHTML = '';\n",
              "          dataTable['output_type'] = 'display_data';\n",
              "          await google.colab.output.renderOutput(dataTable, element);\n",
              "          const docLink = document.createElement('div');\n",
              "          docLink.innerHTML = docLinkHtml;\n",
              "          element.appendChild(docLink);\n",
              "        }\n",
              "      </script>\n",
              "    </div>\n",
              "  </div>\n",
              "  "
            ]
          },
          "metadata": {},
          "execution_count": 159
        }
      ]
    }
  ]
}