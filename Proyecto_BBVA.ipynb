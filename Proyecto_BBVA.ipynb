{
  "nbformat": 4,
  "nbformat_minor": 0,
  "metadata": {
    "colab": {
      "provenance": [],
      "toc_visible": true,
      "include_colab_link": true
    },
    "kernelspec": {
      "name": "python3",
      "display_name": "Python 3"
    },
    "language_info": {
      "name": "python"
    }
  },
  "cells": [
    {
      "cell_type": "markdown",
      "metadata": {
        "id": "view-in-github",
        "colab_type": "text"
      },
      "source": [
        "<a href=\"https://colab.research.google.com/github/iGhostlp/Albus/blob/Hermione/Proyecto_BBVA.ipynb\" target=\"_parent\"><img src=\"https://colab.research.google.com/assets/colab-badge.svg\" alt=\"Open In Colab\"/></a>"
      ]
    },
    {
      "cell_type": "markdown",
      "source": [
        "# Armado del entorno"
      ],
      "metadata": {
        "id": "HWni6Oa3Xst4"
      }
    },
    {
      "cell_type": "code",
      "execution_count": 1,
      "metadata": {
        "id": "7oZjRfdSVnQa"
      },
      "outputs": [],
      "source": [
        "# Download Spark\n",
        "!wget -q https://dlcdn.apache.org/spark/spark-3.3.2/spark-3.3.2-bin-hadoop3.tgz"
      ]
    },
    {
      "cell_type": "code",
      "source": [
        "# Unzip the file\n",
        "!tar xf spark-3.3.2-bin-hadoop3.tgz"
      ],
      "metadata": {
        "id": "4AqJxH7ZVvNa"
      },
      "execution_count": 2,
      "outputs": []
    },
    {
      "cell_type": "code",
      "source": [
        "!readlink -f $(which java) | sed \"s:bin/java::\""
      ],
      "metadata": {
        "colab": {
          "base_uri": "https://localhost:8080/"
        },
        "id": "jHCrfKNLWTsi",
        "outputId": "6f5b23c1-9922-464a-c3ae-8c5bce21fbcc"
      },
      "execution_count": 3,
      "outputs": [
        {
          "output_type": "stream",
          "name": "stdout",
          "text": [
            "/usr/lib/jvm/java-11-openjdk-amd64/\n"
          ]
        }
      ]
    },
    {
      "cell_type": "code",
      "source": [
        "# Set up the environment for Spark\n",
        "import os\n",
        "os.environ[\"JAVA_HOME\"] = \"/usr/lib/jvm/java-11-openjdk-amd64/\"\n",
        "os.environ[\"SPARK_HOME\"] = '/content/spark-3.3.2-bin-hadoop3'"
      ],
      "metadata": {
        "id": "7VjkyMMOWVOs"
      },
      "execution_count": 4,
      "outputs": []
    },
    {
      "cell_type": "code",
      "source": [
        "# Install library for finding Spark\n",
        "!pip install -q findspark\n",
        "\n",
        "# Import the libary\n",
        "import findspark\n",
        "\n",
        "# Initiate findspark\n",
        "findspark.init()"
      ],
      "metadata": {
        "id": "idA0uSW7WW47"
      },
      "execution_count": 5,
      "outputs": []
    },
    {
      "cell_type": "code",
      "source": [
        "# Import SparkSession\n",
        "from pyspark.sql import SparkSession\n",
        "\n",
        "# Create a Spark Session\n",
        "spark = SparkSession.builder.master(\"local[*]\").config('spark.sql.parquet.datetimeRebaseModeInRead','CORRECTED').getOrCreate()\n",
        "\n",
        "# Check Spark Session Information\n",
        "spark"
      ],
      "metadata": {
        "colab": {
          "base_uri": "https://localhost:8080/",
          "height": 219
        },
        "id": "RjQQ7TU0WYYg",
        "outputId": "394eeb05-3255-4477-f2d1-31ea15fed722"
      },
      "execution_count": 6,
      "outputs": [
        {
          "output_type": "execute_result",
          "data": {
            "text/plain": [
              "<pyspark.sql.session.SparkSession at 0x7fa7ebbde760>"
            ],
            "text/html": [
              "\n",
              "            <div>\n",
              "                <p><b>SparkSession - in-memory</b></p>\n",
              "                \n",
              "        <div>\n",
              "            <p><b>SparkContext</b></p>\n",
              "\n",
              "            <p><a href=\"http://8cb78820e943:4040\">Spark UI</a></p>\n",
              "\n",
              "            <dl>\n",
              "              <dt>Version</dt>\n",
              "                <dd><code>v3.3.2</code></dd>\n",
              "              <dt>Master</dt>\n",
              "                <dd><code>local[*]</code></dd>\n",
              "              <dt>AppName</dt>\n",
              "                <dd><code>pyspark-shell</code></dd>\n",
              "            </dl>\n",
              "        </div>\n",
              "        \n",
              "            </div>\n",
              "        "
            ]
          },
          "metadata": {},
          "execution_count": 6
        }
      ]
    },
    {
      "cell_type": "markdown",
      "source": [
        "# Importado de funciones"
      ],
      "metadata": {
        "id": "ScNsjwRNsuLb"
      }
    },
    {
      "cell_type": "code",
      "source": [
        "import pyspark.sql.functions as F\n",
        "from pyspark.sql import SparkSession\n",
        "from pyspark.sql.functions import concat, concat_ws, col, row_number, desc, collect_list, to_json, struct, year, current_date, datediff, floor, when, lit\n",
        "from pyspark.sql.window import Window"
      ],
      "metadata": {
        "id": "V6pZxnWwOVBg"
      },
      "execution_count": 49,
      "outputs": []
    },
    {
      "cell_type": "code",
      "source": [
        "#Creación de un SQL context\n",
        "from pyspark.sql import SQLContext\n",
        "sqlContext = SQLContext(spark)"
      ],
      "metadata": {
        "colab": {
          "base_uri": "https://localhost:8080/"
        },
        "id": "6r1MPCMLJJ18",
        "outputId": "b66f496b-e583-486f-ce2e-34b4115e94d2"
      },
      "execution_count": 8,
      "outputs": [
        {
          "output_type": "stream",
          "name": "stderr",
          "text": [
            "/content/spark-3.3.2-bin-hadoop3/python/pyspark/sql/context.py:112: FutureWarning: Deprecated in 3.0.0. Use SparkSession.builder.getOrCreate() instead.\n",
            "  warnings.warn(\n"
          ]
        }
      ]
    },
    {
      "cell_type": "markdown",
      "source": [
        "# Carga de parquets"
      ],
      "metadata": {
        "id": "Q5AVpwy7083X"
      }
    },
    {
      "cell_type": "code",
      "source": [
        "df_customer = spark.read.parquet('/content/Datasets/customer_basics.snappy.parquet')\n",
        "df_phones = spark.read.parquet('/content/Datasets/phones.snappy.parquet')\n",
        "df_address = spark.read.parquet('/content/Datasets/address.snappy.parquet')\n",
        "df_emails = spark.read.parquet('/content/Datasets/emails.snappy.parquet')\n",
        "df_marital_status = spark.read.parquet('/content/Datasets/marital_status_type.parquet')\n",
        "df_segment_type = spark.read.parquet('/content/Datasets/segment_type.parquet')\n",
        "df_customer_documents = spark.read.parquet('/content/Datasets/customer_documents.parquet')\n",
        "df_address_type = spark.read.parquet('/content/Datasets/address_type.parquet')\n",
        "df_gender = spark.read.parquet('/content/Datasets/gender.parquet')\n",
        "df_nationality = spark.read.parquet('/content/Datasets/nationality.parquet')\n",
        "df_personal_type = spark.read.parquet('/content/Datasets/personal_type.parquet')\n",
        "df_phone_type = spark.read.parquet('/content/Datasets/phone_type.parquet')\n",
        "df_province = spark.read.parquet('/content/Datasets/province.parquet')\n",
        "df_customer_segment = spark.read.parquet('/content/Datasets/customer_segment.parquet')\n",
        "df_customer_info_temp = spark.read.parquet('/content/Datasets/customer_info_temp.parquet')"
      ],
      "metadata": {
        "id": "KyG_qzVEWaV3"
      },
      "execution_count": 9,
      "outputs": []
    },
    {
      "cell_type": "markdown",
      "source": [
        "### Normalización de datos"
      ],
      "metadata": {
        "id": "ZWXD1CqV0B7O"
      }
    },
    {
      "cell_type": "code",
      "source": [
        "df_customer = df_customer.withColumnRenamed('last_change_date', 'l_c_d_customer')"
      ],
      "metadata": {
        "id": "QFH6W5UwP4gS"
      },
      "execution_count": 10,
      "outputs": []
    },
    {
      "cell_type": "code",
      "source": [
        "df_marital_status_ok = df_marital_status.withColumn(\"marital_status_type\", \n",
        "                                             when(df_marital_status.martial_status_short_desc == \"NO INFORMA\", 0)\n",
        "                                             .when(df_marital_status.martial_status_short_desc == \"CASADO/A  \", 1)\n",
        "                                             .when(df_marital_status.martial_status_short_desc == \"VIUDO/A   \", 2)\n",
        "                                             .when(df_marital_status.martial_status_short_desc == \"SEPARADO/A\", 3)\n",
        "                                             .when(df_marital_status.martial_status_short_desc == \"DIVORCIADO\", 4)\n",
        "                                             .when(df_marital_status.martial_status_short_desc == \"SOLTERO/A \", 5)\n",
        "                                             .when(df_marital_status.martial_status_short_desc == \"CONVIVIENT\", 6)\n",
        "                                             .when(df_marital_status.martial_status_short_desc == \"OTROS     \", 7)\n",
        "                                             .when(df_marital_status.martial_status_short_desc == \"CONV. INSC\", 8)\n",
        "                                             .otherwise(\"-\"))"
      ],
      "metadata": {
        "id": "lLUiJ5YC0E0d"
      },
      "execution_count": null,
      "outputs": []
    },
    {
      "cell_type": "markdown",
      "source": [
        "# Extraccion de datos\n",
        "\n"
      ],
      "metadata": {
        "id": "OMmwI7gkYZ5u"
      }
    },
    {
      "cell_type": "markdown",
      "source": [
        "### - 24 - Extraccion de datos desde parquet, clientes y teléfonos.\n",
        "####Crear un DataFrame que contenga el JOIN de la tabla t_abtq_customer_basics y tabla t_abtq_customer_phones."
      ],
      "metadata": {
        "id": "JNSaDeDCGImG"
      }
    },
    {
      "cell_type": "code",
      "source": [
        "df_customer_phones = df_phones.join(df_customer, 'customer_id')"
      ],
      "metadata": {
        "id": "lXvJoM9jWcHg"
      },
      "execution_count": 12,
      "outputs": []
    },
    {
      "cell_type": "code",
      "source": [
        "df_customer_phones.show()"
      ],
      "metadata": {
        "id": "0qFd1difZvmA"
      },
      "execution_count": null,
      "outputs": []
    },
    {
      "cell_type": "markdown",
      "source": [
        "### - 25 - Extraccion de datos desde .parquet, clientes y direcciones\n",
        "####Crear un DataFrame que contenga el JOIN de la tabla t_abtq_customer_basics y tabla t_abtq_customer_adress."
      ],
      "metadata": {
        "id": "-0sm-Qx7kBVa"
      }
    },
    {
      "cell_type": "code",
      "source": [
        "df_customer_address = df_address.join(df_customer, 'customer_id')"
      ],
      "metadata": {
        "id": "wE8LkJZ6tjyN"
      },
      "execution_count": 14,
      "outputs": []
    },
    {
      "cell_type": "code",
      "source": [
        "df_customer_address.show()"
      ],
      "metadata": {
        "id": "ewysTyLUXXx9"
      },
      "execution_count": null,
      "outputs": []
    },
    {
      "cell_type": "markdown",
      "source": [
        "### - 26 - Extraccion de datos desde .parquet, clientes y correos electrónicos\n",
        "#### Crear un DataFrame que contenga el JOIN de la tabla t_abtq_customer_basics y tabla t_abtq_customer_email.   "
      ],
      "metadata": {
        "id": "D0SjaTWftWxp"
      }
    },
    {
      "cell_type": "code",
      "source": [
        "df_customer_emails = df_emails.join(df_customer, 'customer_id')"
      ],
      "metadata": {
        "id": "MFOQeJsFkBVb"
      },
      "execution_count": 16,
      "outputs": []
    },
    {
      "cell_type": "code",
      "source": [
        "df_customer_emails.show()"
      ],
      "metadata": {
        "id": "KQdpYwwzaoop"
      },
      "execution_count": null,
      "outputs": []
    },
    {
      "cell_type": "markdown",
      "source": [
        "# Filtrar datos, reducir volumen"
      ],
      "metadata": {
        "id": "v898pfOnvE_d"
      }
    },
    {
      "cell_type": "markdown",
      "source": [
        "####- 27 - Filtrar el DataFrame de contactos telefónicos de clientes y resguardar los 3 contactos más actuales por cliente."
      ],
      "metadata": {
        "id": "cMRaId42aHMV"
      }
    },
    {
      "cell_type": "code",
      "source": [
        "df_customer_phones_sorted = df_customer_phones.orderBy([df_customer_phones.customer_id, desc('last_change_date')])"
      ],
      "metadata": {
        "id": "q_ftH3XKWwRS"
      },
      "execution_count": 19,
      "outputs": []
    },
    {
      "cell_type": "code",
      "source": [
        "window = Window.partitionBy(df_customer_phones_sorted.customer_id).orderBy(desc(df_customer_phones_sorted.last_change_date))"
      ],
      "metadata": {
        "id": "fRs0zhTdXDtA"
      },
      "execution_count": 20,
      "outputs": []
    },
    {
      "cell_type": "code",
      "source": [
        "df_phone_contact = df_customer_phones_sorted.withColumn('row_num', row_number().over(window))\n",
        "df_phone_contact = df_phone_contact.filter(df_phone_contact.row_num <= 3)"
      ],
      "metadata": {
        "id": "kUN3ajuZXFvz"
      },
      "execution_count": 21,
      "outputs": []
    },
    {
      "cell_type": "code",
      "source": [
        "df_phone_contact = df_phone_contact.withColumn(\"full_phone\", concat_ws(\"-\", 'prefix_phone_id', 'phone_area_id', 'phone_exchange_id', 'phone_line_id'))"
      ],
      "metadata": {
        "id": "M_SLPUIEvXso"
      },
      "execution_count": 22,
      "outputs": []
    },
    {
      "cell_type": "code",
      "source": [
        "df_pivot_pc = df_phone_contact.groupBy('customer_id').agg(collect_list('full_phone').alias('last_3_changes_list'))"
      ],
      "metadata": {
        "id": "K-AIfg0_c423"
      },
      "execution_count": 23,
      "outputs": []
    },
    {
      "cell_type": "code",
      "source": [
        "df_pivot_phone = df_pivot_pc.selectExpr('customer_id', 'last_3_changes_list[0] as phone_1', 'last_3_changes_list[1] as phone_2', 'last_3_changes_list[2] as phone_3')"
      ],
      "metadata": {
        "id": "wklSvSASfGbH"
      },
      "execution_count": 24,
      "outputs": []
    },
    {
      "cell_type": "code",
      "source": [
        "df_pivot_phone = df_pivot_phone.na.fill('---')\n",
        "df_pivot_phone.show()"
      ],
      "metadata": {
        "id": "m2D8d8s7hlUR"
      },
      "execution_count": null,
      "outputs": []
    },
    {
      "cell_type": "markdown",
      "source": [
        "####- 28 - Filtrar el DataFrame de direcciones de clientes y resguardar los 3 contactos más actuales por cliente."
      ],
      "metadata": {
        "id": "581jyCaHt3SU"
      }
    },
    {
      "cell_type": "code",
      "source": [
        "df_customer_address_sorted = df_customer_address.orderBy([df_customer_address.customer_id, desc('last_change_date')])"
      ],
      "metadata": {
        "id": "d6HSi_IFdrxa"
      },
      "execution_count": 26,
      "outputs": []
    },
    {
      "cell_type": "code",
      "source": [
        "window = Window.partitionBy(df_customer_address_sorted.customer_id).orderBy(desc(df_customer_address_sorted.last_change_date))"
      ],
      "metadata": {
        "id": "j5gmni1Kdrxb"
      },
      "execution_count": 27,
      "outputs": []
    },
    {
      "cell_type": "code",
      "source": [
        "df_address_contact = df_customer_address_sorted.withColumn('row_num', row_number().over(window))\n",
        "df_address_contact = df_address_contact.filter(df_address_contact.row_num <= 3)"
      ],
      "metadata": {
        "id": "19eIQVaWdrxb"
      },
      "execution_count": 28,
      "outputs": []
    },
    {
      "cell_type": "code",
      "source": [
        "df_address_contact = df_address_contact.withColumn(\"full_address\", concat('street_name', 'address_outdoor_id', 'address_indoor_id', 'indoor_number', 'address_department_name', 'province_id', 'zipcode_id'))"
      ],
      "metadata": {
        "id": "fZUMeg4Bdrxb"
      },
      "execution_count": 29,
      "outputs": []
    },
    {
      "cell_type": "code",
      "source": [
        "df_pivot_ad = df_address_contact.groupBy('customer_id').agg(collect_list('full_address').alias('last_3_changes_list'))"
      ],
      "metadata": {
        "id": "j2VpUVDQdrxb"
      },
      "execution_count": 30,
      "outputs": []
    },
    {
      "cell_type": "code",
      "source": [
        "df_pivot_address = df_pivot_ad.selectExpr('customer_id', 'last_3_changes_list[0] as address_1', 'last_3_changes_list[1] as address_2', 'last_3_changes_list[2] as address_3')"
      ],
      "metadata": {
        "id": "U3Pvzadcdrxb"
      },
      "execution_count": 31,
      "outputs": []
    },
    {
      "cell_type": "code",
      "source": [
        "df_pivot_address = df_pivot_address.na.fill('---')\n",
        "df_pivot_address.toPandas()"
      ],
      "metadata": {
        "id": "d_d1U18vdrxb"
      },
      "execution_count": null,
      "outputs": []
    },
    {
      "cell_type": "markdown",
      "source": [
        "####- 29 - Filtrar el DataFrame de correos electrónicos de clientes  y resguardar los 3 contactos más actuales por cliente. "
      ],
      "metadata": {
        "id": "Fde4zMn4jXXD"
      }
    },
    {
      "cell_type": "code",
      "source": [
        "df_customer_emails_sorted = df_customer_emails.orderBy([df_customer_emails.customer_id, desc('last_change_date')])"
      ],
      "metadata": {
        "id": "wAtQGJfMgRHd"
      },
      "execution_count": 35,
      "outputs": []
    },
    {
      "cell_type": "code",
      "source": [
        "window = Window.partitionBy(df_customer_emails_sorted.customer_id).orderBy(desc(df_customer_emails_sorted.last_change_date))"
      ],
      "metadata": {
        "id": "1oIrfS-LgRHd"
      },
      "execution_count": 36,
      "outputs": []
    },
    {
      "cell_type": "code",
      "source": [
        "df_email_contact = df_customer_emails_sorted.withColumn('row_num', row_number().over(window))\n",
        "df_email_contact = df_email_contact.filter(df_email_contact.row_num <= 3)"
      ],
      "metadata": {
        "id": "zYMJ-3oLgRHd"
      },
      "execution_count": 38,
      "outputs": []
    },
    {
      "cell_type": "code",
      "source": [
        "df_pivot_ec = df_email_contact.groupBy('customer_id').agg(collect_list('email_desc').alias('last_3_changes_list'))"
      ],
      "metadata": {
        "id": "GPO3eGmbgRHe"
      },
      "execution_count": 41,
      "outputs": []
    },
    {
      "cell_type": "code",
      "source": [
        "df_pivot_email = df_pivot_ec.selectExpr('customer_id', 'last_3_changes_list[0] as email_1', 'last_3_changes_list[1] as email_2', 'last_3_changes_list[2] as email_3')"
      ],
      "metadata": {
        "id": "A0OnqllGgRHe"
      },
      "execution_count": 42,
      "outputs": []
    },
    {
      "cell_type": "code",
      "source": [
        "df_pivot_email = df_pivot_email.na.fill('---')\n",
        "df_pivot_email.toPandas()"
      ],
      "metadata": {
        "id": "efrb8V-AgRHe"
      },
      "execution_count": null,
      "outputs": []
    },
    {
      "cell_type": "markdown",
      "source": [
        "# Enrequecimiento de datos"
      ],
      "metadata": {
        "id": "kf8Hrr5n-M0Y"
      }
    },
    {
      "cell_type": "markdown",
      "source": [
        "####- 30 - Agregar una nueva columna a los DataFrame de contactos, indicando el contact_type según corresponda (address, email, phone)"
      ],
      "metadata": {
        "id": "XwqLG65oHfQU"
      }
    },
    {
      "cell_type": "code",
      "source": [
        "df_phones_contact_col = df_phones.withColumn('contact_type_phones', lit('phone'))\n",
        "df_phones_contact_col.select('customer_id','contact_type_phones').show()"
      ],
      "metadata": {
        "id": "qz6g1mpwlQoK"
      },
      "execution_count": null,
      "outputs": []
    },
    {
      "cell_type": "code",
      "source": [
        "df_emails_contact_col = df_emails.withColumn('contact_type_emails', lit('e-mail'))\n",
        "df_emails_contact_col.select('customer_id','contact_type_emails').show()"
      ],
      "metadata": {
        "id": "CUL_CS3ZldKn"
      },
      "execution_count": null,
      "outputs": []
    },
    {
      "cell_type": "code",
      "source": [
        "df_address_contact_col = df_address.withColumn('contact_type_address', lit('address'))\n",
        "df_address_contact_col.select('customer_id','contact_type_address').show()"
      ],
      "metadata": {
        "id": "vHPhk9tIluhv"
      },
      "execution_count": null,
      "outputs": []
    },
    {
      "cell_type": "markdown",
      "source": [
        "####- 31 - Agregar una nueva columna al DataFrame de contactos telefónicos de clientes, resguardando el contacto en formato json contenido en string, con los datos: Phone_type (mobile, landline ), Código país., Código de Área, Número teléfono."
      ],
      "metadata": {
        "id": "3XoMOFoyHgkq"
      }
    },
    {
      "cell_type": "code",
      "source": [
        "df_phone_contact = df_phone_contact.withColumn(\"phone_contact\", to_json(struct(df_phone_contact.phone_type, df_phone_contact.phone_country_id, df_phone_contact.prefix_phone_id, df_phone_contact.phone_area_id, df_phone_contact.cellphone_prefix_id, df_phone_contact.phone_exchange_id, df_phone_contact.phone_line_id)))"
      ],
      "metadata": {
        "id": "UpXne4NcU_xU"
      },
      "execution_count": 45,
      "outputs": []
    },
    {
      "cell_type": "code",
      "source": [
        "df_phone_contact.show(truncate=False)"
      ],
      "metadata": {
        "id": "ZkMd0glic11C"
      },
      "execution_count": null,
      "outputs": []
    },
    {
      "cell_type": "markdown",
      "source": [
        "####- 32 - Agregar una nueva columna al DataFrame de direcciones de clientes, resguardando el contacto en formato json contenido en string, con los datos: Calle, Número, Piso, Depto, Localidad, Provincia, Código postal"
      ],
      "metadata": {
        "id": "hDLIA0tOxBnB"
      }
    },
    {
      "cell_type": "markdown",
      "source": [
        "####- 33 - Combinar los DataFrame de contactos telefónicos de clientes, direcciones de clientes y email de clientes en uno solo."
      ],
      "metadata": {
        "id": "Yoc083uLwsFv"
      }
    },
    {
      "cell_type": "code",
      "source": [
        "df_contacts = df_pivot_phone.join(df_pivot_email, \"customer_id\", how='full').join(df_pivot_address, \"customer_id\", how='full')"
      ],
      "metadata": {
        "id": "qutuktOKmYBt"
      },
      "execution_count": 84,
      "outputs": []
    },
    {
      "cell_type": "code",
      "source": [
        "df_contacts.toPandas()"
      ],
      "metadata": {
        "id": "D7yYs-Gjmnh7"
      },
      "execution_count": null,
      "outputs": []
    },
    {
      "cell_type": "code",
      "source": [
        "df_short_contacts = df_contacts.select('customer_id','Phone_1','Email_1','Address_1')\n",
        "df_short_contacts.toPandas()"
      ],
      "metadata": {
        "id": "EJ1Q6xQDphY-"
      },
      "execution_count": null,
      "outputs": []
    },
    {
      "cell_type": "markdown",
      "source": [
        "----"
      ],
      "metadata": {
        "id": "m1-yxfISnct5"
      }
    },
    {
      "cell_type": "code",
      "source": [
        "df_contact_types = df_phones_contact_col.join(df_address_contact_col, 'customer_id', how='full').join(df_emails_contact_col, 'customer_id', how='full')"
      ],
      "metadata": {
        "id": "pkiSBzQlkkSV"
      },
      "execution_count": 74,
      "outputs": []
    },
    {
      "cell_type": "code",
      "source": [
        "df_contact_types.select('customer_id','contact_type_phones','contact_type_address','contact_type_emails').toPandas()"
      ],
      "metadata": {
        "id": "WbULPOaqkwl2"
      },
      "execution_count": null,
      "outputs": []
    },
    {
      "cell_type": "markdown",
      "source": [
        "# Creacion de vistas temporales"
      ],
      "metadata": {
        "id": "OGYXHYUnnNnP"
      }
    },
    {
      "cell_type": "markdown",
      "source": [
        "####- 35 - Generar una vista temporal a partir del DataFrame de contactos."
      ],
      "metadata": {
        "id": "Rg9diwJJyLvf"
      }
    },
    {
      "cell_type": "code",
      "source": [
        "df_short_contacts.createTempView('tw_contacts')"
      ],
      "metadata": {
        "id": "h2uq8IRgqpc9"
      },
      "execution_count": 88,
      "outputs": []
    },
    {
      "cell_type": "markdown",
      "source": [
        "####- 36 - Generar una vista temporal a partir del archivo t_abtq_customer_basics."
      ],
      "metadata": {
        "id": "TxiRzcShyRx1"
      }
    },
    {
      "cell_type": "code",
      "source": [
        "df_customer.createOrReplaceTempView('tw_customer_basics')"
      ],
      "metadata": {
        "id": "an26CU8Qqz5l"
      },
      "execution_count": 90,
      "outputs": []
    },
    {
      "cell_type": "markdown",
      "source": [
        "####- 37 - Generar una vista temporal a partir del archivo t_acog_marital_status_type."
      ],
      "metadata": {
        "id": "PDHfXICEyWrK"
      }
    },
    {
      "cell_type": "code",
      "source": [
        "df_marital_status_ok.createOrReplaceTempView('tw_marital_status')"
      ],
      "metadata": {
        "id": "Rw83Cf5NrDwp"
      },
      "execution_count": 148,
      "outputs": []
    },
    {
      "cell_type": "markdown",
      "source": [
        "####- 38 - Generar una vista temporal a partir del archivo t_acog_nationality."
      ],
      "metadata": {
        "id": "clZGiedoyZBY"
      }
    },
    {
      "cell_type": "code",
      "source": [
        "df_nationality.createOrReplaceTempView(\"tw_nationality\")"
      ],
      "metadata": {
        "id": "G_r_X02bqYiA"
      },
      "execution_count": 94,
      "outputs": []
    },
    {
      "cell_type": "markdown",
      "source": [
        "# Querys en spark SQL."
      ],
      "metadata": {
        "id": "vzuddeSks_Ku"
      }
    },
    {
      "cell_type": "markdown",
      "source": [
        "####- 39 - Generar un público objetivo (1) que cumpla los siguientes puntos:\n",
        "* Cliente\n",
        "* Antigüedad superior a 5 años\n",
        "* Asalariado Fijo.\n",
        "* Estado civil: Casado\n"
      ],
      "metadata": {
        "id": "_CSfngFgyfgI"
      }
    },
    {
      "cell_type": "code",
      "source": [
        "publico_obj1 = sqlContext.sql('SELECT cb.customer_id, floor(datediff(current_date(), admission_date)/365) as years_diff, customer_condition_type, job_type, ms.martial_status_short_desc FROM tw_customer_basics as cb INNER JOIN tw_marital_status as ms ON cb.marital_status_type = ms.marital_status_type WHERE floor(datediff(current_date(), admission_date)/365) > 5 AND cb.marital_status_type = 01 AND cb.job_type = 001 AND cb.customer_condition_type = 1')"
      ],
      "metadata": {
        "id": "URMFtCg9v51p"
      },
      "execution_count": 157,
      "outputs": []
    },
    {
      "cell_type": "code",
      "source": [
        "publico_obj1.toPandas()"
      ],
      "metadata": {
        "colab": {
          "base_uri": "https://localhost:8080/",
          "height": 424
        },
        "id": "zwXogF57580d",
        "outputId": "cccb711d-36c0-4c49-e5ec-43a423dbe257"
      },
      "execution_count": 158,
      "outputs": [
        {
          "output_type": "execute_result",
          "data": {
            "text/plain": [
              "    customer_id  years_diff  customer_condition_type job_type  \\\n",
              "0      07867437          15                        1      001   \n",
              "1      06813266          17                        1      001   \n",
              "2      02746969          12                        1      001   \n",
              "3      03933825          11                        1      001   \n",
              "4      02568856          12                        1      001   \n",
              "..          ...         ...                      ...      ...   \n",
              "245    19821561          10                        1      001   \n",
              "246    07772581          15                        1      001   \n",
              "247    07162212          16                        1      001   \n",
              "248    07788948          15                        1      001   \n",
              "249    29436414          24                        1      001   \n",
              "\n",
              "    martial_status_short_desc  \n",
              "0                  CASADO/A    \n",
              "1                  CASADO/A    \n",
              "2                  CASADO/A    \n",
              "3                  CASADO/A    \n",
              "4                  CASADO/A    \n",
              "..                        ...  \n",
              "245                CASADO/A    \n",
              "246                CASADO/A    \n",
              "247                CASADO/A    \n",
              "248                CASADO/A    \n",
              "249                CASADO/A    \n",
              "\n",
              "[250 rows x 5 columns]"
            ],
            "text/html": [
              "\n",
              "  <div id=\"df-0da81cd1-868f-414a-9e81-f0d1b92e7e47\">\n",
              "    <div class=\"colab-df-container\">\n",
              "      <div>\n",
              "<style scoped>\n",
              "    .dataframe tbody tr th:only-of-type {\n",
              "        vertical-align: middle;\n",
              "    }\n",
              "\n",
              "    .dataframe tbody tr th {\n",
              "        vertical-align: top;\n",
              "    }\n",
              "\n",
              "    .dataframe thead th {\n",
              "        text-align: right;\n",
              "    }\n",
              "</style>\n",
              "<table border=\"1\" class=\"dataframe\">\n",
              "  <thead>\n",
              "    <tr style=\"text-align: right;\">\n",
              "      <th></th>\n",
              "      <th>customer_id</th>\n",
              "      <th>years_diff</th>\n",
              "      <th>customer_condition_type</th>\n",
              "      <th>job_type</th>\n",
              "      <th>martial_status_short_desc</th>\n",
              "    </tr>\n",
              "  </thead>\n",
              "  <tbody>\n",
              "    <tr>\n",
              "      <th>0</th>\n",
              "      <td>07867437</td>\n",
              "      <td>15</td>\n",
              "      <td>1</td>\n",
              "      <td>001</td>\n",
              "      <td>CASADO/A</td>\n",
              "    </tr>\n",
              "    <tr>\n",
              "      <th>1</th>\n",
              "      <td>06813266</td>\n",
              "      <td>17</td>\n",
              "      <td>1</td>\n",
              "      <td>001</td>\n",
              "      <td>CASADO/A</td>\n",
              "    </tr>\n",
              "    <tr>\n",
              "      <th>2</th>\n",
              "      <td>02746969</td>\n",
              "      <td>12</td>\n",
              "      <td>1</td>\n",
              "      <td>001</td>\n",
              "      <td>CASADO/A</td>\n",
              "    </tr>\n",
              "    <tr>\n",
              "      <th>3</th>\n",
              "      <td>03933825</td>\n",
              "      <td>11</td>\n",
              "      <td>1</td>\n",
              "      <td>001</td>\n",
              "      <td>CASADO/A</td>\n",
              "    </tr>\n",
              "    <tr>\n",
              "      <th>4</th>\n",
              "      <td>02568856</td>\n",
              "      <td>12</td>\n",
              "      <td>1</td>\n",
              "      <td>001</td>\n",
              "      <td>CASADO/A</td>\n",
              "    </tr>\n",
              "    <tr>\n",
              "      <th>...</th>\n",
              "      <td>...</td>\n",
              "      <td>...</td>\n",
              "      <td>...</td>\n",
              "      <td>...</td>\n",
              "      <td>...</td>\n",
              "    </tr>\n",
              "    <tr>\n",
              "      <th>245</th>\n",
              "      <td>19821561</td>\n",
              "      <td>10</td>\n",
              "      <td>1</td>\n",
              "      <td>001</td>\n",
              "      <td>CASADO/A</td>\n",
              "    </tr>\n",
              "    <tr>\n",
              "      <th>246</th>\n",
              "      <td>07772581</td>\n",
              "      <td>15</td>\n",
              "      <td>1</td>\n",
              "      <td>001</td>\n",
              "      <td>CASADO/A</td>\n",
              "    </tr>\n",
              "    <tr>\n",
              "      <th>247</th>\n",
              "      <td>07162212</td>\n",
              "      <td>16</td>\n",
              "      <td>1</td>\n",
              "      <td>001</td>\n",
              "      <td>CASADO/A</td>\n",
              "    </tr>\n",
              "    <tr>\n",
              "      <th>248</th>\n",
              "      <td>07788948</td>\n",
              "      <td>15</td>\n",
              "      <td>1</td>\n",
              "      <td>001</td>\n",
              "      <td>CASADO/A</td>\n",
              "    </tr>\n",
              "    <tr>\n",
              "      <th>249</th>\n",
              "      <td>29436414</td>\n",
              "      <td>24</td>\n",
              "      <td>1</td>\n",
              "      <td>001</td>\n",
              "      <td>CASADO/A</td>\n",
              "    </tr>\n",
              "  </tbody>\n",
              "</table>\n",
              "<p>250 rows × 5 columns</p>\n",
              "</div>\n",
              "      <button class=\"colab-df-convert\" onclick=\"convertToInteractive('df-0da81cd1-868f-414a-9e81-f0d1b92e7e47')\"\n",
              "              title=\"Convert this dataframe to an interactive table.\"\n",
              "              style=\"display:none;\">\n",
              "        \n",
              "  <svg xmlns=\"http://www.w3.org/2000/svg\" height=\"24px\"viewBox=\"0 0 24 24\"\n",
              "       width=\"24px\">\n",
              "    <path d=\"M0 0h24v24H0V0z\" fill=\"none\"/>\n",
              "    <path d=\"M18.56 5.44l.94 2.06.94-2.06 2.06-.94-2.06-.94-.94-2.06-.94 2.06-2.06.94zm-11 1L8.5 8.5l.94-2.06 2.06-.94-2.06-.94L8.5 2.5l-.94 2.06-2.06.94zm10 10l.94 2.06.94-2.06 2.06-.94-2.06-.94-.94-2.06-.94 2.06-2.06.94z\"/><path d=\"M17.41 7.96l-1.37-1.37c-.4-.4-.92-.59-1.43-.59-.52 0-1.04.2-1.43.59L10.3 9.45l-7.72 7.72c-.78.78-.78 2.05 0 2.83L4 21.41c.39.39.9.59 1.41.59.51 0 1.02-.2 1.41-.59l7.78-7.78 2.81-2.81c.8-.78.8-2.07 0-2.86zM5.41 20L4 18.59l7.72-7.72 1.47 1.35L5.41 20z\"/>\n",
              "  </svg>\n",
              "      </button>\n",
              "      \n",
              "  <style>\n",
              "    .colab-df-container {\n",
              "      display:flex;\n",
              "      flex-wrap:wrap;\n",
              "      gap: 12px;\n",
              "    }\n",
              "\n",
              "    .colab-df-convert {\n",
              "      background-color: #E8F0FE;\n",
              "      border: none;\n",
              "      border-radius: 50%;\n",
              "      cursor: pointer;\n",
              "      display: none;\n",
              "      fill: #1967D2;\n",
              "      height: 32px;\n",
              "      padding: 0 0 0 0;\n",
              "      width: 32px;\n",
              "    }\n",
              "\n",
              "    .colab-df-convert:hover {\n",
              "      background-color: #E2EBFA;\n",
              "      box-shadow: 0px 1px 2px rgba(60, 64, 67, 0.3), 0px 1px 3px 1px rgba(60, 64, 67, 0.15);\n",
              "      fill: #174EA6;\n",
              "    }\n",
              "\n",
              "    [theme=dark] .colab-df-convert {\n",
              "      background-color: #3B4455;\n",
              "      fill: #D2E3FC;\n",
              "    }\n",
              "\n",
              "    [theme=dark] .colab-df-convert:hover {\n",
              "      background-color: #434B5C;\n",
              "      box-shadow: 0px 1px 3px 1px rgba(0, 0, 0, 0.15);\n",
              "      filter: drop-shadow(0px 1px 2px rgba(0, 0, 0, 0.3));\n",
              "      fill: #FFFFFF;\n",
              "    }\n",
              "  </style>\n",
              "\n",
              "      <script>\n",
              "        const buttonEl =\n",
              "          document.querySelector('#df-0da81cd1-868f-414a-9e81-f0d1b92e7e47 button.colab-df-convert');\n",
              "        buttonEl.style.display =\n",
              "          google.colab.kernel.accessAllowed ? 'block' : 'none';\n",
              "\n",
              "        async function convertToInteractive(key) {\n",
              "          const element = document.querySelector('#df-0da81cd1-868f-414a-9e81-f0d1b92e7e47');\n",
              "          const dataTable =\n",
              "            await google.colab.kernel.invokeFunction('convertToInteractive',\n",
              "                                                     [key], {});\n",
              "          if (!dataTable) return;\n",
              "\n",
              "          const docLinkHtml = 'Like what you see? Visit the ' +\n",
              "            '<a target=\"_blank\" href=https://colab.research.google.com/notebooks/data_table.ipynb>data table notebook</a>'\n",
              "            + ' to learn more about interactive tables.';\n",
              "          element.innerHTML = '';\n",
              "          dataTable['output_type'] = 'display_data';\n",
              "          await google.colab.output.renderOutput(dataTable, element);\n",
              "          const docLink = document.createElement('div');\n",
              "          docLink.innerHTML = docLinkHtml;\n",
              "          element.appendChild(docLink);\n",
              "        }\n",
              "      </script>\n",
              "    </div>\n",
              "  </div>\n",
              "  "
            ]
          },
          "metadata": {},
          "execution_count": 158
        }
      ]
    },
    {
      "cell_type": "markdown",
      "source": [
        "####- 40 -  Generar un público objetivo (2) que cumpla los siguientes puntos:\n",
        "* Potencial Cliente\n",
        "* Sexo Femenino\n",
        "* Entre 30 y 45 años de Edad.\n",
        "* Nacionalidad No Argentina"
      ],
      "metadata": {
        "id": "c0pSjhqey2co"
      }
    },
    {
      "cell_type": "code",
      "source": [
        "publico_obj2 = sqlContext.sql('SELECT cb.customer_id, customer_condition_type, gender_type, floor(datediff(current_date(), birth_date)/365) as customer_age, n.country_name FROM tw_customer_basics AS cb INNER JOIN tw_nationality AS n ON cb.country_nationality_id == n.country_nationality_id WHERE floor(datediff(current_date(), birth_date)/365) > 30 AND floor(datediff(current_date(), birth_date)/365) < 45 AND gender_type = \"F\" AND customer_condition_type = 1 AND n.country_nationality_id <> 80')\n",
        "publico_obj2.toPandas()"
      ],
      "metadata": {
        "id": "uUfn8Qx7lrGJ",
        "colab": {
          "base_uri": "https://localhost:8080/",
          "height": 112
        },
        "outputId": "e73c876c-90b6-406e-a7d2-1a52c62562cb"
      },
      "execution_count": 162,
      "outputs": [
        {
          "output_type": "execute_result",
          "data": {
            "text/plain": [
              "  customer_id  customer_condition_type gender_type  customer_age country_name\n",
              "0    08576564                        1           F            44     PARAGUAY\n",
              "1    22184167                        1           F            33        CHINA"
            ],
            "text/html": [
              "\n",
              "  <div id=\"df-11f48b1e-e7f0-4e80-9b6a-e80530e2a8e5\">\n",
              "    <div class=\"colab-df-container\">\n",
              "      <div>\n",
              "<style scoped>\n",
              "    .dataframe tbody tr th:only-of-type {\n",
              "        vertical-align: middle;\n",
              "    }\n",
              "\n",
              "    .dataframe tbody tr th {\n",
              "        vertical-align: top;\n",
              "    }\n",
              "\n",
              "    .dataframe thead th {\n",
              "        text-align: right;\n",
              "    }\n",
              "</style>\n",
              "<table border=\"1\" class=\"dataframe\">\n",
              "  <thead>\n",
              "    <tr style=\"text-align: right;\">\n",
              "      <th></th>\n",
              "      <th>customer_id</th>\n",
              "      <th>customer_condition_type</th>\n",
              "      <th>gender_type</th>\n",
              "      <th>customer_age</th>\n",
              "      <th>country_name</th>\n",
              "    </tr>\n",
              "  </thead>\n",
              "  <tbody>\n",
              "    <tr>\n",
              "      <th>0</th>\n",
              "      <td>08576564</td>\n",
              "      <td>1</td>\n",
              "      <td>F</td>\n",
              "      <td>44</td>\n",
              "      <td>PARAGUAY</td>\n",
              "    </tr>\n",
              "    <tr>\n",
              "      <th>1</th>\n",
              "      <td>22184167</td>\n",
              "      <td>1</td>\n",
              "      <td>F</td>\n",
              "      <td>33</td>\n",
              "      <td>CHINA</td>\n",
              "    </tr>\n",
              "  </tbody>\n",
              "</table>\n",
              "</div>\n",
              "      <button class=\"colab-df-convert\" onclick=\"convertToInteractive('df-11f48b1e-e7f0-4e80-9b6a-e80530e2a8e5')\"\n",
              "              title=\"Convert this dataframe to an interactive table.\"\n",
              "              style=\"display:none;\">\n",
              "        \n",
              "  <svg xmlns=\"http://www.w3.org/2000/svg\" height=\"24px\"viewBox=\"0 0 24 24\"\n",
              "       width=\"24px\">\n",
              "    <path d=\"M0 0h24v24H0V0z\" fill=\"none\"/>\n",
              "    <path d=\"M18.56 5.44l.94 2.06.94-2.06 2.06-.94-2.06-.94-.94-2.06-.94 2.06-2.06.94zm-11 1L8.5 8.5l.94-2.06 2.06-.94-2.06-.94L8.5 2.5l-.94 2.06-2.06.94zm10 10l.94 2.06.94-2.06 2.06-.94-2.06-.94-.94-2.06-.94 2.06-2.06.94z\"/><path d=\"M17.41 7.96l-1.37-1.37c-.4-.4-.92-.59-1.43-.59-.52 0-1.04.2-1.43.59L10.3 9.45l-7.72 7.72c-.78.78-.78 2.05 0 2.83L4 21.41c.39.39.9.59 1.41.59.51 0 1.02-.2 1.41-.59l7.78-7.78 2.81-2.81c.8-.78.8-2.07 0-2.86zM5.41 20L4 18.59l7.72-7.72 1.47 1.35L5.41 20z\"/>\n",
              "  </svg>\n",
              "      </button>\n",
              "      \n",
              "  <style>\n",
              "    .colab-df-container {\n",
              "      display:flex;\n",
              "      flex-wrap:wrap;\n",
              "      gap: 12px;\n",
              "    }\n",
              "\n",
              "    .colab-df-convert {\n",
              "      background-color: #E8F0FE;\n",
              "      border: none;\n",
              "      border-radius: 50%;\n",
              "      cursor: pointer;\n",
              "      display: none;\n",
              "      fill: #1967D2;\n",
              "      height: 32px;\n",
              "      padding: 0 0 0 0;\n",
              "      width: 32px;\n",
              "    }\n",
              "\n",
              "    .colab-df-convert:hover {\n",
              "      background-color: #E2EBFA;\n",
              "      box-shadow: 0px 1px 2px rgba(60, 64, 67, 0.3), 0px 1px 3px 1px rgba(60, 64, 67, 0.15);\n",
              "      fill: #174EA6;\n",
              "    }\n",
              "\n",
              "    [theme=dark] .colab-df-convert {\n",
              "      background-color: #3B4455;\n",
              "      fill: #D2E3FC;\n",
              "    }\n",
              "\n",
              "    [theme=dark] .colab-df-convert:hover {\n",
              "      background-color: #434B5C;\n",
              "      box-shadow: 0px 1px 3px 1px rgba(0, 0, 0, 0.15);\n",
              "      filter: drop-shadow(0px 1px 2px rgba(0, 0, 0, 0.3));\n",
              "      fill: #FFFFFF;\n",
              "    }\n",
              "  </style>\n",
              "\n",
              "      <script>\n",
              "        const buttonEl =\n",
              "          document.querySelector('#df-11f48b1e-e7f0-4e80-9b6a-e80530e2a8e5 button.colab-df-convert');\n",
              "        buttonEl.style.display =\n",
              "          google.colab.kernel.accessAllowed ? 'block' : 'none';\n",
              "\n",
              "        async function convertToInteractive(key) {\n",
              "          const element = document.querySelector('#df-11f48b1e-e7f0-4e80-9b6a-e80530e2a8e5');\n",
              "          const dataTable =\n",
              "            await google.colab.kernel.invokeFunction('convertToInteractive',\n",
              "                                                     [key], {});\n",
              "          if (!dataTable) return;\n",
              "\n",
              "          const docLinkHtml = 'Like what you see? Visit the ' +\n",
              "            '<a target=\"_blank\" href=https://colab.research.google.com/notebooks/data_table.ipynb>data table notebook</a>'\n",
              "            + ' to learn more about interactive tables.';\n",
              "          element.innerHTML = '';\n",
              "          dataTable['output_type'] = 'display_data';\n",
              "          await google.colab.output.renderOutput(dataTable, element);\n",
              "          const docLink = document.createElement('div');\n",
              "          docLink.innerHTML = docLinkHtml;\n",
              "          element.appendChild(docLink);\n",
              "        }\n",
              "      </script>\n",
              "    </div>\n",
              "  </div>\n",
              "  "
            ]
          },
          "metadata": {},
          "execution_count": 162
        }
      ]
    },
    {
      "cell_type": "markdown",
      "source": [
        "####- 41 - Generar un público objetivo (3) que cumpla los siguientes puntos:\n",
        "* Potencial Cliente\n",
        "* Sexo Masculino.\n",
        "* Mayor a 25 años.\n",
        "* Estado civil Soltero"
      ],
      "metadata": {
        "id": "-YzIyMgKzHPq"
      }
    },
    {
      "cell_type": "code",
      "source": [
        "publico_obj3 = sqlContext.sql('SELECT cb.customer_id, customer_condition_type, gender_type, floor(datediff(current_date(), birth_date)/365) as customer_age, ms.martial_status_short_desc FROM tw_customer_basics AS cb INNER JOIN tw_marital_status as ms ON cb.marital_status_type = ms.marital_status_type WHERE customer_condition_type = 1 AND floor(datediff(current_date(), birth_date)/365) > 25 AND gender_type = \"M\" AND cb.marital_status_type = 5')\n",
        "publico_obj3.toPandas()"
      ],
      "metadata": {
        "id": "Gh1ZLwVHwW6f",
        "colab": {
          "base_uri": "https://localhost:8080/",
          "height": 424
        },
        "outputId": "f63c8786-5987-460d-ffa8-41afb56f9be2"
      },
      "execution_count": 165,
      "outputs": [
        {
          "output_type": "execute_result",
          "data": {
            "text/plain": [
              "    customer_id  customer_condition_type gender_type  customer_age  \\\n",
              "0      29604216                        1           M            53   \n",
              "1      28366580                        1           M            26   \n",
              "2      23441482                        1           M            27   \n",
              "3      25734307                        1           M            27   \n",
              "4      03342631                        1           M            57   \n",
              "..          ...                      ...         ...           ...   \n",
              "294    29422473                        1           M            66   \n",
              "295    00468968                        1           M            90   \n",
              "296    27283661                        1           M            27   \n",
              "297    08546725                        1           M            42   \n",
              "298    03594377                        1           M            74   \n",
              "\n",
              "    martial_status_short_desc  \n",
              "0                  SOLTERO/A   \n",
              "1                  SOLTERO/A   \n",
              "2                  SOLTERO/A   \n",
              "3                  SOLTERO/A   \n",
              "4                  SOLTERO/A   \n",
              "..                        ...  \n",
              "294                SOLTERO/A   \n",
              "295                SOLTERO/A   \n",
              "296                SOLTERO/A   \n",
              "297                SOLTERO/A   \n",
              "298                SOLTERO/A   \n",
              "\n",
              "[299 rows x 5 columns]"
            ],
            "text/html": [
              "\n",
              "  <div id=\"df-29cd46c8-dc85-480c-8b25-85903f14fb64\">\n",
              "    <div class=\"colab-df-container\">\n",
              "      <div>\n",
              "<style scoped>\n",
              "    .dataframe tbody tr th:only-of-type {\n",
              "        vertical-align: middle;\n",
              "    }\n",
              "\n",
              "    .dataframe tbody tr th {\n",
              "        vertical-align: top;\n",
              "    }\n",
              "\n",
              "    .dataframe thead th {\n",
              "        text-align: right;\n",
              "    }\n",
              "</style>\n",
              "<table border=\"1\" class=\"dataframe\">\n",
              "  <thead>\n",
              "    <tr style=\"text-align: right;\">\n",
              "      <th></th>\n",
              "      <th>customer_id</th>\n",
              "      <th>customer_condition_type</th>\n",
              "      <th>gender_type</th>\n",
              "      <th>customer_age</th>\n",
              "      <th>martial_status_short_desc</th>\n",
              "    </tr>\n",
              "  </thead>\n",
              "  <tbody>\n",
              "    <tr>\n",
              "      <th>0</th>\n",
              "      <td>29604216</td>\n",
              "      <td>1</td>\n",
              "      <td>M</td>\n",
              "      <td>53</td>\n",
              "      <td>SOLTERO/A</td>\n",
              "    </tr>\n",
              "    <tr>\n",
              "      <th>1</th>\n",
              "      <td>28366580</td>\n",
              "      <td>1</td>\n",
              "      <td>M</td>\n",
              "      <td>26</td>\n",
              "      <td>SOLTERO/A</td>\n",
              "    </tr>\n",
              "    <tr>\n",
              "      <th>2</th>\n",
              "      <td>23441482</td>\n",
              "      <td>1</td>\n",
              "      <td>M</td>\n",
              "      <td>27</td>\n",
              "      <td>SOLTERO/A</td>\n",
              "    </tr>\n",
              "    <tr>\n",
              "      <th>3</th>\n",
              "      <td>25734307</td>\n",
              "      <td>1</td>\n",
              "      <td>M</td>\n",
              "      <td>27</td>\n",
              "      <td>SOLTERO/A</td>\n",
              "    </tr>\n",
              "    <tr>\n",
              "      <th>4</th>\n",
              "      <td>03342631</td>\n",
              "      <td>1</td>\n",
              "      <td>M</td>\n",
              "      <td>57</td>\n",
              "      <td>SOLTERO/A</td>\n",
              "    </tr>\n",
              "    <tr>\n",
              "      <th>...</th>\n",
              "      <td>...</td>\n",
              "      <td>...</td>\n",
              "      <td>...</td>\n",
              "      <td>...</td>\n",
              "      <td>...</td>\n",
              "    </tr>\n",
              "    <tr>\n",
              "      <th>294</th>\n",
              "      <td>29422473</td>\n",
              "      <td>1</td>\n",
              "      <td>M</td>\n",
              "      <td>66</td>\n",
              "      <td>SOLTERO/A</td>\n",
              "    </tr>\n",
              "    <tr>\n",
              "      <th>295</th>\n",
              "      <td>00468968</td>\n",
              "      <td>1</td>\n",
              "      <td>M</td>\n",
              "      <td>90</td>\n",
              "      <td>SOLTERO/A</td>\n",
              "    </tr>\n",
              "    <tr>\n",
              "      <th>296</th>\n",
              "      <td>27283661</td>\n",
              "      <td>1</td>\n",
              "      <td>M</td>\n",
              "      <td>27</td>\n",
              "      <td>SOLTERO/A</td>\n",
              "    </tr>\n",
              "    <tr>\n",
              "      <th>297</th>\n",
              "      <td>08546725</td>\n",
              "      <td>1</td>\n",
              "      <td>M</td>\n",
              "      <td>42</td>\n",
              "      <td>SOLTERO/A</td>\n",
              "    </tr>\n",
              "    <tr>\n",
              "      <th>298</th>\n",
              "      <td>03594377</td>\n",
              "      <td>1</td>\n",
              "      <td>M</td>\n",
              "      <td>74</td>\n",
              "      <td>SOLTERO/A</td>\n",
              "    </tr>\n",
              "  </tbody>\n",
              "</table>\n",
              "<p>299 rows × 5 columns</p>\n",
              "</div>\n",
              "      <button class=\"colab-df-convert\" onclick=\"convertToInteractive('df-29cd46c8-dc85-480c-8b25-85903f14fb64')\"\n",
              "              title=\"Convert this dataframe to an interactive table.\"\n",
              "              style=\"display:none;\">\n",
              "        \n",
              "  <svg xmlns=\"http://www.w3.org/2000/svg\" height=\"24px\"viewBox=\"0 0 24 24\"\n",
              "       width=\"24px\">\n",
              "    <path d=\"M0 0h24v24H0V0z\" fill=\"none\"/>\n",
              "    <path d=\"M18.56 5.44l.94 2.06.94-2.06 2.06-.94-2.06-.94-.94-2.06-.94 2.06-2.06.94zm-11 1L8.5 8.5l.94-2.06 2.06-.94-2.06-.94L8.5 2.5l-.94 2.06-2.06.94zm10 10l.94 2.06.94-2.06 2.06-.94-2.06-.94-.94-2.06-.94 2.06-2.06.94z\"/><path d=\"M17.41 7.96l-1.37-1.37c-.4-.4-.92-.59-1.43-.59-.52 0-1.04.2-1.43.59L10.3 9.45l-7.72 7.72c-.78.78-.78 2.05 0 2.83L4 21.41c.39.39.9.59 1.41.59.51 0 1.02-.2 1.41-.59l7.78-7.78 2.81-2.81c.8-.78.8-2.07 0-2.86zM5.41 20L4 18.59l7.72-7.72 1.47 1.35L5.41 20z\"/>\n",
              "  </svg>\n",
              "      </button>\n",
              "      \n",
              "  <style>\n",
              "    .colab-df-container {\n",
              "      display:flex;\n",
              "      flex-wrap:wrap;\n",
              "      gap: 12px;\n",
              "    }\n",
              "\n",
              "    .colab-df-convert {\n",
              "      background-color: #E8F0FE;\n",
              "      border: none;\n",
              "      border-radius: 50%;\n",
              "      cursor: pointer;\n",
              "      display: none;\n",
              "      fill: #1967D2;\n",
              "      height: 32px;\n",
              "      padding: 0 0 0 0;\n",
              "      width: 32px;\n",
              "    }\n",
              "\n",
              "    .colab-df-convert:hover {\n",
              "      background-color: #E2EBFA;\n",
              "      box-shadow: 0px 1px 2px rgba(60, 64, 67, 0.3), 0px 1px 3px 1px rgba(60, 64, 67, 0.15);\n",
              "      fill: #174EA6;\n",
              "    }\n",
              "\n",
              "    [theme=dark] .colab-df-convert {\n",
              "      background-color: #3B4455;\n",
              "      fill: #D2E3FC;\n",
              "    }\n",
              "\n",
              "    [theme=dark] .colab-df-convert:hover {\n",
              "      background-color: #434B5C;\n",
              "      box-shadow: 0px 1px 3px 1px rgba(0, 0, 0, 0.15);\n",
              "      filter: drop-shadow(0px 1px 2px rgba(0, 0, 0, 0.3));\n",
              "      fill: #FFFFFF;\n",
              "    }\n",
              "  </style>\n",
              "\n",
              "      <script>\n",
              "        const buttonEl =\n",
              "          document.querySelector('#df-29cd46c8-dc85-480c-8b25-85903f14fb64 button.colab-df-convert');\n",
              "        buttonEl.style.display =\n",
              "          google.colab.kernel.accessAllowed ? 'block' : 'none';\n",
              "\n",
              "        async function convertToInteractive(key) {\n",
              "          const element = document.querySelector('#df-29cd46c8-dc85-480c-8b25-85903f14fb64');\n",
              "          const dataTable =\n",
              "            await google.colab.kernel.invokeFunction('convertToInteractive',\n",
              "                                                     [key], {});\n",
              "          if (!dataTable) return;\n",
              "\n",
              "          const docLinkHtml = 'Like what you see? Visit the ' +\n",
              "            '<a target=\"_blank\" href=https://colab.research.google.com/notebooks/data_table.ipynb>data table notebook</a>'\n",
              "            + ' to learn more about interactive tables.';\n",
              "          element.innerHTML = '';\n",
              "          dataTable['output_type'] = 'display_data';\n",
              "          await google.colab.output.renderOutput(dataTable, element);\n",
              "          const docLink = document.createElement('div');\n",
              "          docLink.innerHTML = docLinkHtml;\n",
              "          element.appendChild(docLink);\n",
              "        }\n",
              "      </script>\n",
              "    </div>\n",
              "  </div>\n",
              "  "
            ]
          },
          "metadata": {},
          "execution_count": 165
        }
      ]
    },
    {
      "cell_type": "markdown",
      "source": [
        "####- 42 - Generar un público objetivo (4) que cumpla los siguientes puntos:\n",
        "* Cliente\n",
        "* Edad superior a 52 años\n",
        "* Nacionalidad Argentina\n",
        "* Estado civil Viudo"
      ],
      "metadata": {
        "id": "O0YwTfG8zLns"
      }
    },
    {
      "cell_type": "code",
      "source": [
        "publico_obj4 = sqlContext.sql('SELECT cb.customer_id, floor(datediff(current_date(), birth_date)/365) as customer_age, n.country_name, ms.martial_status_short_desc FROM tw_customer_basics as cb INNER JOIN tw_nationality AS n ON cb.country_nationality_id == n.country_nationality_id INNER JOIN tw_marital_status as ms ON cb.marital_status_type = ms.marital_status_type WHERE floor(datediff(current_date(), birth_date)/365) > 52 AND cb.country_nationality_id = 80 AND cb.marital_status_type = 2')\n",
        "publico_obj4.toPandas()"
      ],
      "metadata": {
        "id": "xVJ2-CDyzp9n",
        "colab": {
          "base_uri": "https://localhost:8080/",
          "height": 677
        },
        "outputId": "12c1bb10-7819-4cbe-d778-c349f2abf890"
      },
      "execution_count": 169,
      "outputs": [
        {
          "output_type": "execute_result",
          "data": {
            "text/plain": [
              "   customer_id  customer_age country_name martial_status_short_desc\n",
              "0     04161701            87    ARGENTINA                VIUDO/A   \n",
              "1     29561692            57    ARGENTINA                VIUDO/A   \n",
              "2     29632753            57    ARGENTINA                VIUDO/A   \n",
              "3     04566883            96    ARGENTINA                VIUDO/A   \n",
              "4     00093940           101    ARGENTINA                VIUDO/A   \n",
              "5     29580724            73    ARGENTINA                VIUDO/A   \n",
              "6     00104838            95    ARGENTINA                VIUDO/A   \n",
              "7     00014664           102    ARGENTINA                VIUDO/A   \n",
              "8     29434917           102    ARGENTINA                VIUDO/A   \n",
              "9     04076446           104    ARGENTINA                VIUDO/A   \n",
              "10    03925479            57    ARGENTINA                VIUDO/A   \n",
              "11    05812127            98    ARGENTINA                VIUDO/A   \n",
              "12    07365248            86    ARGENTINA                VIUDO/A   \n",
              "13    27541480            87    ARGENTINA                VIUDO/A   \n",
              "14    26720788           101    ARGENTINA                VIUDO/A   \n",
              "15    02507194            73    ARGENTINA                VIUDO/A   \n",
              "16    01193254            88    ARGENTINA                VIUDO/A   \n",
              "17    04191069            89    ARGENTINA                VIUDO/A   \n",
              "18    03637822            92    ARGENTINA                VIUDO/A   \n",
              "19    29567911            87    ARGENTINA                VIUDO/A   "
            ],
            "text/html": [
              "\n",
              "  <div id=\"df-8ca5f9c2-c820-4a5f-a68e-f5cb14866151\">\n",
              "    <div class=\"colab-df-container\">\n",
              "      <div>\n",
              "<style scoped>\n",
              "    .dataframe tbody tr th:only-of-type {\n",
              "        vertical-align: middle;\n",
              "    }\n",
              "\n",
              "    .dataframe tbody tr th {\n",
              "        vertical-align: top;\n",
              "    }\n",
              "\n",
              "    .dataframe thead th {\n",
              "        text-align: right;\n",
              "    }\n",
              "</style>\n",
              "<table border=\"1\" class=\"dataframe\">\n",
              "  <thead>\n",
              "    <tr style=\"text-align: right;\">\n",
              "      <th></th>\n",
              "      <th>customer_id</th>\n",
              "      <th>customer_age</th>\n",
              "      <th>country_name</th>\n",
              "      <th>martial_status_short_desc</th>\n",
              "    </tr>\n",
              "  </thead>\n",
              "  <tbody>\n",
              "    <tr>\n",
              "      <th>0</th>\n",
              "      <td>04161701</td>\n",
              "      <td>87</td>\n",
              "      <td>ARGENTINA</td>\n",
              "      <td>VIUDO/A</td>\n",
              "    </tr>\n",
              "    <tr>\n",
              "      <th>1</th>\n",
              "      <td>29561692</td>\n",
              "      <td>57</td>\n",
              "      <td>ARGENTINA</td>\n",
              "      <td>VIUDO/A</td>\n",
              "    </tr>\n",
              "    <tr>\n",
              "      <th>2</th>\n",
              "      <td>29632753</td>\n",
              "      <td>57</td>\n",
              "      <td>ARGENTINA</td>\n",
              "      <td>VIUDO/A</td>\n",
              "    </tr>\n",
              "    <tr>\n",
              "      <th>3</th>\n",
              "      <td>04566883</td>\n",
              "      <td>96</td>\n",
              "      <td>ARGENTINA</td>\n",
              "      <td>VIUDO/A</td>\n",
              "    </tr>\n",
              "    <tr>\n",
              "      <th>4</th>\n",
              "      <td>00093940</td>\n",
              "      <td>101</td>\n",
              "      <td>ARGENTINA</td>\n",
              "      <td>VIUDO/A</td>\n",
              "    </tr>\n",
              "    <tr>\n",
              "      <th>5</th>\n",
              "      <td>29580724</td>\n",
              "      <td>73</td>\n",
              "      <td>ARGENTINA</td>\n",
              "      <td>VIUDO/A</td>\n",
              "    </tr>\n",
              "    <tr>\n",
              "      <th>6</th>\n",
              "      <td>00104838</td>\n",
              "      <td>95</td>\n",
              "      <td>ARGENTINA</td>\n",
              "      <td>VIUDO/A</td>\n",
              "    </tr>\n",
              "    <tr>\n",
              "      <th>7</th>\n",
              "      <td>00014664</td>\n",
              "      <td>102</td>\n",
              "      <td>ARGENTINA</td>\n",
              "      <td>VIUDO/A</td>\n",
              "    </tr>\n",
              "    <tr>\n",
              "      <th>8</th>\n",
              "      <td>29434917</td>\n",
              "      <td>102</td>\n",
              "      <td>ARGENTINA</td>\n",
              "      <td>VIUDO/A</td>\n",
              "    </tr>\n",
              "    <tr>\n",
              "      <th>9</th>\n",
              "      <td>04076446</td>\n",
              "      <td>104</td>\n",
              "      <td>ARGENTINA</td>\n",
              "      <td>VIUDO/A</td>\n",
              "    </tr>\n",
              "    <tr>\n",
              "      <th>10</th>\n",
              "      <td>03925479</td>\n",
              "      <td>57</td>\n",
              "      <td>ARGENTINA</td>\n",
              "      <td>VIUDO/A</td>\n",
              "    </tr>\n",
              "    <tr>\n",
              "      <th>11</th>\n",
              "      <td>05812127</td>\n",
              "      <td>98</td>\n",
              "      <td>ARGENTINA</td>\n",
              "      <td>VIUDO/A</td>\n",
              "    </tr>\n",
              "    <tr>\n",
              "      <th>12</th>\n",
              "      <td>07365248</td>\n",
              "      <td>86</td>\n",
              "      <td>ARGENTINA</td>\n",
              "      <td>VIUDO/A</td>\n",
              "    </tr>\n",
              "    <tr>\n",
              "      <th>13</th>\n",
              "      <td>27541480</td>\n",
              "      <td>87</td>\n",
              "      <td>ARGENTINA</td>\n",
              "      <td>VIUDO/A</td>\n",
              "    </tr>\n",
              "    <tr>\n",
              "      <th>14</th>\n",
              "      <td>26720788</td>\n",
              "      <td>101</td>\n",
              "      <td>ARGENTINA</td>\n",
              "      <td>VIUDO/A</td>\n",
              "    </tr>\n",
              "    <tr>\n",
              "      <th>15</th>\n",
              "      <td>02507194</td>\n",
              "      <td>73</td>\n",
              "      <td>ARGENTINA</td>\n",
              "      <td>VIUDO/A</td>\n",
              "    </tr>\n",
              "    <tr>\n",
              "      <th>16</th>\n",
              "      <td>01193254</td>\n",
              "      <td>88</td>\n",
              "      <td>ARGENTINA</td>\n",
              "      <td>VIUDO/A</td>\n",
              "    </tr>\n",
              "    <tr>\n",
              "      <th>17</th>\n",
              "      <td>04191069</td>\n",
              "      <td>89</td>\n",
              "      <td>ARGENTINA</td>\n",
              "      <td>VIUDO/A</td>\n",
              "    </tr>\n",
              "    <tr>\n",
              "      <th>18</th>\n",
              "      <td>03637822</td>\n",
              "      <td>92</td>\n",
              "      <td>ARGENTINA</td>\n",
              "      <td>VIUDO/A</td>\n",
              "    </tr>\n",
              "    <tr>\n",
              "      <th>19</th>\n",
              "      <td>29567911</td>\n",
              "      <td>87</td>\n",
              "      <td>ARGENTINA</td>\n",
              "      <td>VIUDO/A</td>\n",
              "    </tr>\n",
              "  </tbody>\n",
              "</table>\n",
              "</div>\n",
              "      <button class=\"colab-df-convert\" onclick=\"convertToInteractive('df-8ca5f9c2-c820-4a5f-a68e-f5cb14866151')\"\n",
              "              title=\"Convert this dataframe to an interactive table.\"\n",
              "              style=\"display:none;\">\n",
              "        \n",
              "  <svg xmlns=\"http://www.w3.org/2000/svg\" height=\"24px\"viewBox=\"0 0 24 24\"\n",
              "       width=\"24px\">\n",
              "    <path d=\"M0 0h24v24H0V0z\" fill=\"none\"/>\n",
              "    <path d=\"M18.56 5.44l.94 2.06.94-2.06 2.06-.94-2.06-.94-.94-2.06-.94 2.06-2.06.94zm-11 1L8.5 8.5l.94-2.06 2.06-.94-2.06-.94L8.5 2.5l-.94 2.06-2.06.94zm10 10l.94 2.06.94-2.06 2.06-.94-2.06-.94-.94-2.06-.94 2.06-2.06.94z\"/><path d=\"M17.41 7.96l-1.37-1.37c-.4-.4-.92-.59-1.43-.59-.52 0-1.04.2-1.43.59L10.3 9.45l-7.72 7.72c-.78.78-.78 2.05 0 2.83L4 21.41c.39.39.9.59 1.41.59.51 0 1.02-.2 1.41-.59l7.78-7.78 2.81-2.81c.8-.78.8-2.07 0-2.86zM5.41 20L4 18.59l7.72-7.72 1.47 1.35L5.41 20z\"/>\n",
              "  </svg>\n",
              "      </button>\n",
              "      \n",
              "  <style>\n",
              "    .colab-df-container {\n",
              "      display:flex;\n",
              "      flex-wrap:wrap;\n",
              "      gap: 12px;\n",
              "    }\n",
              "\n",
              "    .colab-df-convert {\n",
              "      background-color: #E8F0FE;\n",
              "      border: none;\n",
              "      border-radius: 50%;\n",
              "      cursor: pointer;\n",
              "      display: none;\n",
              "      fill: #1967D2;\n",
              "      height: 32px;\n",
              "      padding: 0 0 0 0;\n",
              "      width: 32px;\n",
              "    }\n",
              "\n",
              "    .colab-df-convert:hover {\n",
              "      background-color: #E2EBFA;\n",
              "      box-shadow: 0px 1px 2px rgba(60, 64, 67, 0.3), 0px 1px 3px 1px rgba(60, 64, 67, 0.15);\n",
              "      fill: #174EA6;\n",
              "    }\n",
              "\n",
              "    [theme=dark] .colab-df-convert {\n",
              "      background-color: #3B4455;\n",
              "      fill: #D2E3FC;\n",
              "    }\n",
              "\n",
              "    [theme=dark] .colab-df-convert:hover {\n",
              "      background-color: #434B5C;\n",
              "      box-shadow: 0px 1px 3px 1px rgba(0, 0, 0, 0.15);\n",
              "      filter: drop-shadow(0px 1px 2px rgba(0, 0, 0, 0.3));\n",
              "      fill: #FFFFFF;\n",
              "    }\n",
              "  </style>\n",
              "\n",
              "      <script>\n",
              "        const buttonEl =\n",
              "          document.querySelector('#df-8ca5f9c2-c820-4a5f-a68e-f5cb14866151 button.colab-df-convert');\n",
              "        buttonEl.style.display =\n",
              "          google.colab.kernel.accessAllowed ? 'block' : 'none';\n",
              "\n",
              "        async function convertToInteractive(key) {\n",
              "          const element = document.querySelector('#df-8ca5f9c2-c820-4a5f-a68e-f5cb14866151');\n",
              "          const dataTable =\n",
              "            await google.colab.kernel.invokeFunction('convertToInteractive',\n",
              "                                                     [key], {});\n",
              "          if (!dataTable) return;\n",
              "\n",
              "          const docLinkHtml = 'Like what you see? Visit the ' +\n",
              "            '<a target=\"_blank\" href=https://colab.research.google.com/notebooks/data_table.ipynb>data table notebook</a>'\n",
              "            + ' to learn more about interactive tables.';\n",
              "          element.innerHTML = '';\n",
              "          dataTable['output_type'] = 'display_data';\n",
              "          await google.colab.output.renderOutput(dataTable, element);\n",
              "          const docLink = document.createElement('div');\n",
              "          docLink.innerHTML = docLinkHtml;\n",
              "          element.appendChild(docLink);\n",
              "        }\n",
              "      </script>\n",
              "    </div>\n",
              "  </div>\n",
              "  "
            ]
          },
          "metadata": {},
          "execution_count": 169
        }
      ]
    },
    {
      "cell_type": "markdown",
      "source": [
        "# Carga de datos, generacion de archivos .csv\n",
        "#### Los archivos deben cumplir los siguientes requerimientos: \n",
        "* Contener cabecera. \n",
        "* Separador “|”. \n",
        "* Máximo de 1000 registros por archivo (si el público objetivo tiene más de 1000 registros, se deberá crear más de un archivo)\n",
        "* Ser guardados en HDFS."
      ],
      "metadata": {
        "id": "AKaVLQPMzRiZ"
      }
    },
    {
      "cell_type": "markdown",
      "source": [
        "#### - 43 -  Generar archivos .csv a partir de los público objetivo 1. \n"
      ],
      "metadata": {
        "id": "Aa7xtVRSzUYG"
      }
    },
    {
      "cell_type": "markdown",
      "source": [
        "#### - 44 - Generar archivos .csv a partir del público objetivo 2. "
      ],
      "metadata": {
        "id": "-ghFgx1CzWiT"
      }
    },
    {
      "cell_type": "markdown",
      "source": [
        "####- 45 - Generar archivos .csv a partir del público objetivo 3. "
      ],
      "metadata": {
        "id": "RibK-HsmznSu"
      }
    },
    {
      "cell_type": "markdown",
      "source": [
        "####- 46 - Generar archivos .csv a partir del público objetivo 4. "
      ],
      "metadata": {
        "id": "HXNyvvYi0AkY"
      }
    },
    {
      "cell_type": "markdown",
      "source": [
        "# Extraccion de datos desde .csv, públicos objetivo"
      ],
      "metadata": {
        "id": "gsBzsNK20DsC"
      }
    },
    {
      "cell_type": "markdown",
      "source": [
        "#### - 47 - Cargar los datos de los publicos generados en un DataFrame."
      ],
      "metadata": {
        "id": "hyOSh9u70Khr"
      }
    },
    {
      "cell_type": "markdown",
      "source": [
        "# Calculo de agregaciones."
      ],
      "metadata": {
        "id": "L4z8RN3-0NWt"
      }
    },
    {
      "cell_type": "markdown",
      "source": [
        "####- 48 -  Contar al cantidad de personas contactada por publico objetivo."
      ],
      "metadata": {
        "id": "V4vo3ZIZ0Pu_"
      }
    },
    {
      "cell_type": "markdown",
      "source": [
        "####- 49 - Contar la cantidad de direcciones, mails y telefonos por publico objetivo."
      ],
      "metadata": {
        "id": "8ncFa_tW0UBx"
      }
    },
    {
      "cell_type": "markdown",
      "source": [
        "####- 50 - Contar la cantidad de hombres y mujeres por publico objetivo."
      ],
      "metadata": {
        "id": "IDX0Omzy0Wkg"
      }
    },
    {
      "cell_type": "markdown",
      "source": [
        "#### - 51 - Calcular la edad promedio por publico objetivo."
      ],
      "metadata": {
        "id": "bikW5zRF0ZNS"
      }
    },
    {
      "cell_type": "markdown",
      "source": [
        "# Carga de datos, generacion de archivos .parquet"
      ],
      "metadata": {
        "id": "tHmfq2rU0bNv"
      }
    },
    {
      "cell_type": "markdown",
      "source": [
        "####- 52 - Guardar las agregaciones generadas en un archivo parquet, particionado por mes de campaña y publico objetivo."
      ],
      "metadata": {
        "id": "n28g6npc0dY3"
      }
    },
    {
      "cell_type": "markdown",
      "source": [
        "####- 53 - Guardar las agregaciones generadas en un archivo parquet, particionado por mes de campaña y publico objetivo."
      ],
      "metadata": {
        "id": "sPCIsWcJ0fRL"
      }
    },
    {
      "cell_type": "markdown",
      "source": [
        "####- 54 - Guardar las agregaciones generadas en un archivo parquet, particionado por mes de campaña y publico objetivo."
      ],
      "metadata": {
        "id": "pgON20aV0hBj"
      }
    },
    {
      "cell_type": "markdown",
      "source": [
        "####- 55 - Guardar las agregaciones generadas en un archivo parquet, particionado por mes de campaña y publico objetivo."
      ],
      "metadata": {
        "id": "U16I98lN0ipN"
      }
    },
    {
      "cell_type": "markdown",
      "source": [
        "# Borrador"
      ],
      "metadata": {
        "id": "_tWEmVaR-BqO"
      }
    },
    {
      "cell_type": "code",
      "source": [
        "df_customer.show() # admission_date marital_status_type gender_type birth_date job_type profession_id\n",
        "#df_phones.toPandas()\n",
        "#df_address.toPandas()\n",
        "#df_emails.toPandas()\n",
        "#df_marital_status.toPandas() # marital_status_type martial_status_short_desc\n",
        "#df_segment_type.toPandas() \n",
        "#df_customer_documents.toPandas() \n",
        "#df_address_type.toPandas() # address_type address_type_short_desc ??\n",
        "#df_gender.toPandas() # gender_type gender_desc\n",
        "#df_nationality.toPandas() # country_nationality_id # country_nationality_id\n",
        "#df_personal_type.toPandas()\n",
        "#df_phone_type.toPandas() # phone_type\tphone_type_desc\t ??\n",
        "#df_province.toPandas()\n",
        "#df_customer_segment.show() \n",
        "#df_customer_info_temp.show()\n",
        "\n",
        "# VER DE NO IMPORTAR PARQUETS QUE NO USEMOS"
      ],
      "metadata": {
        "colab": {
          "base_uri": "https://localhost:8080/",
          "height": 895
        },
        "id": "VnHRq-pQsyIZ",
        "outputId": "c2f66f8e-e031-4f3e-8c9e-be3771bbf0da"
      },
      "execution_count": 159,
      "outputs": [
        {
          "output_type": "stream",
          "name": "stdout",
          "text": [
            "+-----------+-------------+-------------+--------------+---------------+--------------------+---------+----------------+-----------+-----------------------+-----------------------+----------+-------------------+-----------------+--------------------------+------------+----------------+-------------------+-------------------+-----------+----------+----------------------+--------------------+---------------------+-----------+--------------------------+----------------------------+-------------------------------+------------------------+------------------------+--------------------------+------------------------+--------------------------+----------------------------+------------------+------------------------+-------------------+-------------------+---------------------------+-----------------+-------------------+-----------------+-------------------------------+--------------------+---------------------+------------------+----------------+--------------------+--------------------------+----------------+--------------------------+--------------------+-------------+----------------+--------------------+-------------------+--------+---------------------+-------------------------+--------------------------+--------------+--------------------+--------------------+----------------+-------------+-------------------------+-----------------------+---------------------+\n",
            "|customer_id|personal_type|  personal_id|admission_date|sale_channel_id|operation_channel_id|branch_id|business_area_id|campaing_id|customer_situation_type|customer_condition_type|manager_id|tracking_manager_id|credit_manager_id|credit_recovery_manager_id|   last_name|second_last_name|         first_name|marital_status_type|gender_type|birth_date|country_nationality_id|residence_country_id|customer_subject_type|sector_type|customer_level_access_type|cust_bcra_econ_activity_type|internal_economic_activity_type|bbva_inhabilitation_type|customer_block_bbva_date|customer_unblock_bbva_date|customer_block_bcra_date|customer_unblock_bcra_date|customer_pending_notice_type|last_notice_number|last_reference_number_id|last_service_number|last_address_number|last_unlinking_account_date|customer_end_date|last_change_user_id|customer_pep_type|bbva_family_lnk_weighted_number|customer_status_type|scoring_activity_type|refinancing_number|refinancing_date|coholder_customer_id|customer_bcra_situation_id|customer_cuit_id|customer_position_vat_type|balance_closing_date|profession_id|bbva_cust_number|customer_linked_type|customer_entry_type|job_type|profession_start_date|customer_first_block_date|customer_registration_date|l_c_d_customer|last_change_hms_date|register_terminal_id|register_user_id|customer_type|customer_seniority_number|last_status_change_date|operational_load_date|\n",
            "+-----------+-------------+-------------+--------------+---------------+--------------------+---------+----------------+-----------+-----------------------+-----------------------+----------+-------------------+-----------------+--------------------------+------------+----------------+-------------------+-------------------+-----------+----------+----------------------+--------------------+---------------------+-----------+--------------------------+----------------------------+-------------------------------+------------------------+------------------------+--------------------------+------------------------+--------------------------+----------------------------+------------------+------------------------+-------------------+-------------------+---------------------------+-----------------+-------------------+-----------------+-------------------------------+--------------------+---------------------+------------------+----------------+--------------------+--------------------------+----------------+--------------------------+--------------------+-------------+----------------+--------------------+-------------------+--------+---------------------+-------------------------+--------------------------+--------------+--------------------+--------------------+----------------+-------------+-------------------------+-----------------------+---------------------+\n",
            "|   07867437|           00|0000022367134|    2007-07-10|          10000|                    |      143|              34|          0|                      1|                      1|       489|                   |                 |                          |      KATTAN|                |    ALBERTO GERARDO|                  1|          M|1971-08-10|                    80|                 080|                  201|        100|                         0|                          82|                       21101000|                       0|                    null|                      null|                    null|                      null|                           0|                 0|                       0|                  0|                  1|                       null|             null|            PCLE06R|                0|                              1|                  PO|                   47|              null|            null|                    |                      null|   0023223671349|                       042|                null|          016|       007867437|                   N|                   |     001|           2009-01-01|                     null|                2007-07-10|    2008-05-02|              181547|                P37B|          VUELCO|            S|                     null|                   null| 2022-03-10 01:05:...|\n",
            "|   06813266|           00|0000013343738|    2006-02-22|          10000|                    |      418|              34|          0|                      1|                      1|       139|                   |                 |                          |     FERRERO|                |       ISIDRO ROQUE|                  1|          M|1959-02-06|                    80|                 080|                  201|        100|                         0|                          82|                       21101000|                       0|                    null|                      null|                    null|                      null|                            |                 0|                       0|                  0|                  1|                       null|             null|            PCLE02P|                0|                              1|                  CA|                   47|              null|            null|                    |                      null|   0020133437380|                       043|                null|          016|       006813266|                   N|                   |     001|           2009-01-01|                     null|                2006-02-22|    2008-11-10|              145508|                P37B|          VUELCO|            S|                     null|                   null| 2022-03-10 01:05:...|\n",
            "|   29604216|           00|0000020589841|    2001-08-17|          10000|                  01|      199|              30|          0|                      1|                      1|       661|                   |                 |                          |      TOLOZA|                |       MIGUEL ANGEL|                  5|          M|1969-11-03|                    80|                 080|                  201|        100|                         0|                          82|                       21101000|                       0|                    null|                      null|                    null|                      null|                            |                 0|                       0|                  0|                  3|                       null|             null|            PCLE825|                2|                              1|                  AC|                   18|              null|            null|                    |                        21|   0020205898418|                       042|                null|          013|       005564899|                   N|                   |     001|           2016-12-26|                     null|                2001-08-17|    2022-02-21|              125716|                   B|          VUELCO|            N|                     null|             2016-12-26| 2022-03-10 01:05:...|\n",
            "|   28028529|           00|0000039730521|    2021-08-24|          10000|                  01|      995|              34|          0|                      1|                      8|      2603|                   |             PVTA|                          |      ZURITA|                |             CARLOS|                  5|          M|1996-04-27|                    80|                 080|                  201|        100|                         0|                          82|                       21101000|                       0|                    null|                      null|                    null|                      null|                           0|                 0|                       0|                  0|                  0|                       null|             null|            PCLE06R|                1|                              1|                  PO|                    4|              null|            null|                    |                      null|   0000000000000|                       042|                null|          016|       028028529|                   N|                 MD|     001|           2021-08-24|                     null|                2021-08-24|    2021-08-24|              172924|                P37B|        VW2CEVA0|            S|                     null|                   null| 2022-03-10 01:05:...|\n",
            "|   28366580|           00|0000039786049|    2022-01-11|          10000|                  00|       82|              34|          0|                      1|                      1|       234|                080|                 |                          |    BEATRICE|                |   SEBASTIAN DANIEL|                  5|          M|1996-08-03|                    80|                 080|                  201|        100|                         0|                          82|                       21101000|                       0|                    null|                      null|                    null|                      null|                           0|                 2|                       0|                  0|                  2|                       null|             null|            PCLE06R|                2|                              2|                  AC|                   47|              null|            null|                    |                      null|   0020397860494|                       042|                null|          016|       028366580|                   N|                   |     001|           2022-01-20|                     null|                2022-01-11|    2022-01-25|              204956|                BATC|         PCLE510|            N|                     null|                   null| 2022-03-10 01:05:...|\n",
            "|   02746969|           00|0000025684535|    2010-10-21|          10000|                  00|       74|              34|          0|                      1|                      1|       192|                   |                 |                          |        RUIZ|                |RUIZ MIRIAM LILIANA|                  1|          F|1977-01-01|                    80|                 080|                  201|        100|                         0|                          82|                       21101000|                       0|                    null|                      null|                    null|                      null|                           0|                 0|                       0|                  0|                  1|                       null|             null|            PCLE06R|                1|                              1|                  PO|                   47|              null|            null|                    |                      null|   0027256845356|                       042|                null|          016|       002746969|                   N|                   |     001|           2010-10-21|                     null|                2010-10-21|    2010-10-21|              162741|                P37B|          VUELCO|            S|                     null|                   null| 2022-03-10 01:05:...|\n",
            "|   23441482|           00|0000038990587|    2016-12-22|          10000|                  00|      302|              34|          0|                      1|                      1|       591|                   |                 |                          |      ACOSTA|                |      FRANCO LEONEL|                  5|          M|1995-09-10|                    80|                 080|                  201|        100|                         0|                          82|                       21101000|                       0|                    null|                      null|                    null|                      null|                            |                 0|                       0|                  0|                  2|                       null|             null|            PCLE06R|                2|                              1|                  CA|                   47|              null|            null|                    |                      null|   0023389905879|                       042|                null|          007|       023441482|                   N|                   |     001|           2017-01-04|                     null|                2016-12-22|    2017-01-04|              035408|                P37B|         PCLE510|            S|                     null|             2017-01-04| 2022-03-10 01:05:...|\n",
            "|   23610540|           00|0000021823184|    2004-05-04|          10000|                  01|      130|              34|          0|                      1|                      1|       452|                   |                 |                          |   BALMACEDA|                |        MARIA ESTER|                  5|          F|1971-01-31|                    80|                 080|                  201|        100|                         0|                          82|                       21101000|                       0|                    null|                      null|                    null|                      null|                            |                 0|                       0|                  0|                  1|                       null|             null|            PCLE06R|                0|                              1|                  PO|                   50|              null|            null|                    |                      null|   0027218231840|                       042|                null|          034|       006341634|                   N|                   |     004|           2009-01-01|                     null|                2004-05-04|    2021-04-10|              191538|                P37B|          VUELCO|            S|                     null|             2014-07-17| 2022-03-10 01:05:...|\n",
            "|   25935956|           00|0000036876523|    2019-06-24|          10000|                  01|       75|              30|          0|                      1|                      1|       200|                080|             PVTA|                          |     BUIATTI|                | VERONICA ESTEFANIA|                  5|          F|1992-05-12|                    80|                 080|                  201|        100|                         0|                          82|                       21101000|                       0|                    null|                      null|                    null|                      null|                           2|                30|                       0|                  0|                  1|                       null|             null|            PCLE02P|                2|                              3|                  AC|                    4|              null|            null|                    |                      null|   0027368765231|                       042|                null|          016|       025935956|                   N|                   |     001|           2019-06-24|                     null|                2019-06-24|    2022-01-20|              230746|                BATC|        VW2CEVA0|            N|                     null|                   null| 2022-03-10 01:05:...|\n",
            "|   25848977|           00|0000036916954|    2022-03-08|          10000|                  00|      603|              30|          0|                      1|                      8|      2603|                   |                 |                          |    ONTIVERO|                |    NATALIA SOLEDAD|                  1|          F|1992-10-02|                    80|                 080|                  201|        100|                         0|                          82|                       21101000|                       0|                    null|                      null|                    null|                      null|                           0|                 0|                       0|                  0|                  0|                       null|             null|            PCLE25H|                1|                              0|                    |                   47|              null|            null|                    |                      null|   0027369169543|                       042|                null|          016|       028990968|                   N|                 MD|     001|           2022-03-08|                     null|                2022-03-08|    2022-03-08|              003155|                 BAT|         PCLE25H|             |                     null|                   null| 2022-03-10 01:05:...|\n",
            "|   01957163|           00|0000016394256|    2010-01-22|          10000|                  01|      136|              34|          0|                      1|                      1|       461|                   |                 |                          |  PALAVECINO|                |      NELIDA ANGELI|                  5|          F|1963-10-20|                    80|                 080|                  201|        100|                         0|                          82|                       21101000|                       0|                    null|                      null|                    null|                      null|                           0|                 0|                       0|                  0|                  1|                       null|             null|            PCLE06R|                2|                              1|                  PO|                   47|              null|            null|                    |                      null|   0027163942564|                       042|                null|          016|       001957163|                   N|                   |     001|           2010-01-22|                     null|                2010-01-22|    2010-01-22|              121626|                P37B|          VUELCO|            S|                     null|                   null| 2022-03-10 01:05:...|\n",
            "|   06338965|           00|0000030036232|    2004-04-29|          10000|                  01|      341|              34|          0|                      1|                      1|       639|                   |                 |                          |       LOPEZ|                |     LUCIANO MARTIN|                  5|          F|1982-12-28|                    80|                 080|                  201|        100|                         0|                          82|                       21101000|                       0|                    null|                      null|                    null|                      null|                            |                 0|                       0|                  0|                  1|                       null|             null|            PCLE06R|                0|                              1|                  CA|                   36|              null|            null|                    |                      null|   0027300362325|                       042|                null|          007|       006338965|                   N|                   |     001|           2009-01-01|                     null|                2004-04-29|    2005-12-23|              093844|                P37B|          VUELCO|            S|                     null|                   null| 2022-03-10 01:05:...|\n",
            "|   29676364|           28|0000002164659|    1993-05-24|          10000|                    |       14|              34|          0|                      1|                      8|        71|                   |                 |                          |     BAGNULO|                |              MARIA|                  5|          F|1907-05-28|                    80|                 080|                  201|        100|                         0|                          82|                       21101000|                       0|                    null|                      null|                    null|                      null|                           0|                 0|                       0|                  0|                  2|                       null|             null|            PCLE25Q|                0|                              1|                  CA|                   47|              null|            null|                    |                      null|   0027021646593|                       042|                null|          016|                |                   N|                   |     001|           2009-01-01|                     null|                1993-05-24|    2009-09-18|              162341|                P37B|          VUELCO|            S|                     null|                   null| 2022-03-10 01:05:...|\n",
            "|   26205399|           00|0000038866205|    2019-08-30|          10000|                  01|      995|              34|          0|                      1|                      8|      2603|                   |             PVTA|                          |     VAZQUEZ|                |         JUAN PABLO|                  5|          M|1995-05-05|                    80|                 080|                  201|        100|                         0|                          82|                       21101000|                       0|                    null|                      null|                    null|                      null|                           0|                 0|                       0|                  0|                  0|                       null|             null|            PCLE06R|                1|                              1|                  PO|                    4|              null|            null|                    |                      null|   0000000000000|                       042|                null|          016|       026205399|                   N|                 MD|     001|           2019-08-30|                     null|                2019-08-30|    2019-08-30|              092342|                P37B|        VW2CEVA0|            S|                     null|                   null| 2022-03-10 01:05:...|\n",
            "|   03933825|           00|0000025583974|    2011-07-13|          10000|                  00|      177|              34|          0|                      1|                      1|       600|                   |                 |                          |        SOSA|                |      MARIA CECILIA|                  1|          F|1977-08-04|                    80|                 080|                  201|        100|                         0|                          82|                       21101000|                       0|                    null|                      null|                    null|                      null|                           0|                 0|                       0|                  0|                  1|                       null|             null|            PCLE06R|                1|                              1|                  PO|                   47|              null|            null|                    |                      null|   0027255839743|                       042|                null|          016|       003933825|                   N|                   |     001|           2011-07-13|                     null|                2011-07-13|    2011-07-13|              161542|                P37B|         PCLE10P|            S|                     null|                   null| 2022-03-10 01:05:...|\n",
            "|   29416245|           27|0000007954354|    2014-10-07|          10000|                  00|      603|              34|          0|                      1|                      8|      2603|                   |                 |                          |   GERVASONI|                |     JOSE FRANCISCO|                  1|          M|1945-10-04|                    80|                 080|                  201|        100|                         0|                          82|                       21101000|                       0|                    null|                      null|                    null|                      null|                           0|                 0|                       0|                  0|                  0|                       null|             null|            PCLE25Q|                1|                              1|                  PO|                   47|              null|            null|                    |                      null|   0020079543544|                       042|                null|          016|       020773121|                   N|                 MD|     001|           2014-10-07|                     null|                2014-10-07|    2014-10-07|              175751|                P37B|         PCLE10P|            S|                     null|                   null| 2022-03-10 01:05:...|\n",
            "|   29497813|           25|0000001670239|    1992-06-20|          20050|                  01|      317|              34|          0|                      1|                      8|       609|                   |                 |                          |CIANCIABELLA|                |                JUA|                  1|          M|1922-06-25|                    80|                 080|                  201|        100|                          |                          82|                       21101000|                       0|                    null|                      null|                    null|                      null|                            |                 0|                       0|                  0|                  2|                       null|             null|            PCLE06R|                0|                              1|                  CA|                   47|              null|            null|                    |                      null|   0020016702391|                       042|                null|          016|       000569590|                   N|                 AD|     001|           2009-01-01|                     null|                1992-06-20|    2013-03-09|              150515|                P37B|          VUELCO|            S|                     null|                   null| 2022-03-10 01:05:...|\n",
            "|   02568856|           00|0000017440976|    2010-08-12|          10000|                  00|      223|              34|          0|                      1|                      1|       729|                   |                 |                          |       ARIAS|                |  PATRICIA GRACIELA|                  1|          F|1965-08-04|                    80|                 080|                  201|        100|                         0|                          82|                       21101000|                       0|                    null|                      null|                    null|                      null|                           0|                 0|                       0|                  0|                  1|                       null|             null|            PCLE06R|                1|                              1|                  PO|                   47|              null|            null|                    |                      null|   0027174409760|                       042|                null|          016|       002568856|                   N|                   |     001|           2010-08-12|                     null|                2010-08-12|    2010-08-12|              163210|                P37B|          VUELCO|            S|                     null|                   null| 2022-03-10 01:05:...|\n",
            "|   29681573|           27|0000007849347|    1994-12-23|          10000|                  01|      263|              34|          0|                      1|                      8|       151|                   |                 |                          |       VOZZI|                |             CARLOS|                  1|          M|1950-03-02|                    80|                 080|                  201|        100|                         0|                          82|                       21101000|                       0|                    null|                      null|                    null|                      null|                            |                 0|                       0|                  0|                  0|                       null|             null|            PCLE25Q|                0|                              1|                  CA|                   47|              null|            null|                    |                      null|   0020078493470|                       043|                null|          016|                |                   N|                   |     001|           2009-01-01|                     null|                1994-12-23|    2013-06-18|              163425|                P37B|          VUELCO|            S|                     null|                   null| 2022-03-10 01:05:...|\n",
            "|   04348412|           26|0000000046479|    1998-08-28|          10000|                  01|      999|              34|          0|                      1|                      1|       901|                   |                 |                          |    MASLATON|                |             RAQUEL|                  1|          F|1929-10-06|                    80|                 080|                  201|        100|                         0|                          82|                       21101000|                       0|                    null|                      null|                    null|                      null|                            |                 0|                       0|                  0|                  0|                       null|             null|            PCLE06R|                0|                              1|                  CA|                   47|              null|            null|                    |                      null|   0027000464797|                       042|                null|          016|       004348412|                   N|                   |     001|           2009-01-01|                     null|                1998-08-28|    1998-08-28|              082606|                P37B|          VUELCO|            S|                     null|                   null| 2022-03-10 01:05:...|\n",
            "+-----------+-------------+-------------+--------------+---------------+--------------------+---------+----------------+-----------+-----------------------+-----------------------+----------+-------------------+-----------------+--------------------------+------------+----------------+-------------------+-------------------+-----------+----------+----------------------+--------------------+---------------------+-----------+--------------------------+----------------------------+-------------------------------+------------------------+------------------------+--------------------------+------------------------+--------------------------+----------------------------+------------------+------------------------+-------------------+-------------------+---------------------------+-----------------+-------------------+-----------------+-------------------------------+--------------------+---------------------+------------------+----------------+--------------------+--------------------------+----------------+--------------------------+--------------------+-------------+----------------+--------------------+-------------------+--------+---------------------+-------------------------+--------------------------+--------------+--------------------+--------------------+----------------+-------------+-------------------------+-----------------------+---------------------+\n",
            "only showing top 20 rows\n",
            "\n"
          ]
        },
        {
          "output_type": "execute_result",
          "data": {
            "text/plain": [
              "     country_nationality_id country_group_branch_type phone_1_prefix_id  \\\n",
              "0                         1                                          44   \n",
              "1                         2                                           1   \n",
              "2                         3                                          49   \n",
              "3                         4                                          33   \n",
              "4                         5                                          41   \n",
              "..                      ...                       ...               ...   \n",
              "256                     348                                               \n",
              "257                     349                                         683   \n",
              "258                     350                                               \n",
              "259                     351                                         420   \n",
              "260                     352                                         420   \n",
              "\n",
              "                            country_name country_short_desc country_id  \\\n",
              "0                            REINO UNIDO                GBR         GB   \n",
              "1                         ESTADOS UNIDOS                USA         US   \n",
              "2                               ALEMANIA                DEU         DE   \n",
              "3                                FRANCIA                FRA         FR   \n",
              "4                                  SUIZA                CHE         CH   \n",
              "..                                   ...                ...        ...   \n",
              "256  UNITED STATES MINOR OUTLAYING ISLAN                            UM   \n",
              "257                                 NIUE                NIU         NU   \n",
              "258                               KOSOVO                KOS         XK   \n",
              "259                      REPUBLICA CHECA                CZE         CZ   \n",
              "260                           ESLOVAQUIA                CZE         CZ   \n",
              "\n",
              "      operational_load_date  \n",
              "0   2021-11-22 16:07:38.994  \n",
              "1   2021-11-22 16:07:38.994  \n",
              "2   2021-11-22 16:07:38.994  \n",
              "3   2021-11-22 16:07:38.994  \n",
              "4   2021-11-22 16:07:38.994  \n",
              "..                      ...  \n",
              "256 2021-11-22 16:07:38.994  \n",
              "257 2021-11-22 16:07:38.994  \n",
              "258 2021-11-22 16:07:38.994  \n",
              "259 2021-11-22 16:07:38.994  \n",
              "260 2021-11-22 16:07:38.994  \n",
              "\n",
              "[261 rows x 7 columns]"
            ],
            "text/html": [
              "\n",
              "  <div id=\"df-e9f7a8cd-1078-478c-a7c0-ed11d90c9e0a\">\n",
              "    <div class=\"colab-df-container\">\n",
              "      <div>\n",
              "<style scoped>\n",
              "    .dataframe tbody tr th:only-of-type {\n",
              "        vertical-align: middle;\n",
              "    }\n",
              "\n",
              "    .dataframe tbody tr th {\n",
              "        vertical-align: top;\n",
              "    }\n",
              "\n",
              "    .dataframe thead th {\n",
              "        text-align: right;\n",
              "    }\n",
              "</style>\n",
              "<table border=\"1\" class=\"dataframe\">\n",
              "  <thead>\n",
              "    <tr style=\"text-align: right;\">\n",
              "      <th></th>\n",
              "      <th>country_nationality_id</th>\n",
              "      <th>country_group_branch_type</th>\n",
              "      <th>phone_1_prefix_id</th>\n",
              "      <th>country_name</th>\n",
              "      <th>country_short_desc</th>\n",
              "      <th>country_id</th>\n",
              "      <th>operational_load_date</th>\n",
              "    </tr>\n",
              "  </thead>\n",
              "  <tbody>\n",
              "    <tr>\n",
              "      <th>0</th>\n",
              "      <td>1</td>\n",
              "      <td></td>\n",
              "      <td>44</td>\n",
              "      <td>REINO UNIDO</td>\n",
              "      <td>GBR</td>\n",
              "      <td>GB</td>\n",
              "      <td>2021-11-22 16:07:38.994</td>\n",
              "    </tr>\n",
              "    <tr>\n",
              "      <th>1</th>\n",
              "      <td>2</td>\n",
              "      <td></td>\n",
              "      <td>1</td>\n",
              "      <td>ESTADOS UNIDOS</td>\n",
              "      <td>USA</td>\n",
              "      <td>US</td>\n",
              "      <td>2021-11-22 16:07:38.994</td>\n",
              "    </tr>\n",
              "    <tr>\n",
              "      <th>2</th>\n",
              "      <td>3</td>\n",
              "      <td></td>\n",
              "      <td>49</td>\n",
              "      <td>ALEMANIA</td>\n",
              "      <td>DEU</td>\n",
              "      <td>DE</td>\n",
              "      <td>2021-11-22 16:07:38.994</td>\n",
              "    </tr>\n",
              "    <tr>\n",
              "      <th>3</th>\n",
              "      <td>4</td>\n",
              "      <td></td>\n",
              "      <td>33</td>\n",
              "      <td>FRANCIA</td>\n",
              "      <td>FRA</td>\n",
              "      <td>FR</td>\n",
              "      <td>2021-11-22 16:07:38.994</td>\n",
              "    </tr>\n",
              "    <tr>\n",
              "      <th>4</th>\n",
              "      <td>5</td>\n",
              "      <td></td>\n",
              "      <td>41</td>\n",
              "      <td>SUIZA</td>\n",
              "      <td>CHE</td>\n",
              "      <td>CH</td>\n",
              "      <td>2021-11-22 16:07:38.994</td>\n",
              "    </tr>\n",
              "    <tr>\n",
              "      <th>...</th>\n",
              "      <td>...</td>\n",
              "      <td>...</td>\n",
              "      <td>...</td>\n",
              "      <td>...</td>\n",
              "      <td>...</td>\n",
              "      <td>...</td>\n",
              "      <td>...</td>\n",
              "    </tr>\n",
              "    <tr>\n",
              "      <th>256</th>\n",
              "      <td>348</td>\n",
              "      <td></td>\n",
              "      <td></td>\n",
              "      <td>UNITED STATES MINOR OUTLAYING ISLAN</td>\n",
              "      <td></td>\n",
              "      <td>UM</td>\n",
              "      <td>2021-11-22 16:07:38.994</td>\n",
              "    </tr>\n",
              "    <tr>\n",
              "      <th>257</th>\n",
              "      <td>349</td>\n",
              "      <td></td>\n",
              "      <td>683</td>\n",
              "      <td>NIUE</td>\n",
              "      <td>NIU</td>\n",
              "      <td>NU</td>\n",
              "      <td>2021-11-22 16:07:38.994</td>\n",
              "    </tr>\n",
              "    <tr>\n",
              "      <th>258</th>\n",
              "      <td>350</td>\n",
              "      <td></td>\n",
              "      <td></td>\n",
              "      <td>KOSOVO</td>\n",
              "      <td>KOS</td>\n",
              "      <td>XK</td>\n",
              "      <td>2021-11-22 16:07:38.994</td>\n",
              "    </tr>\n",
              "    <tr>\n",
              "      <th>259</th>\n",
              "      <td>351</td>\n",
              "      <td></td>\n",
              "      <td>420</td>\n",
              "      <td>REPUBLICA CHECA</td>\n",
              "      <td>CZE</td>\n",
              "      <td>CZ</td>\n",
              "      <td>2021-11-22 16:07:38.994</td>\n",
              "    </tr>\n",
              "    <tr>\n",
              "      <th>260</th>\n",
              "      <td>352</td>\n",
              "      <td></td>\n",
              "      <td>420</td>\n",
              "      <td>ESLOVAQUIA</td>\n",
              "      <td>CZE</td>\n",
              "      <td>CZ</td>\n",
              "      <td>2021-11-22 16:07:38.994</td>\n",
              "    </tr>\n",
              "  </tbody>\n",
              "</table>\n",
              "<p>261 rows × 7 columns</p>\n",
              "</div>\n",
              "      <button class=\"colab-df-convert\" onclick=\"convertToInteractive('df-e9f7a8cd-1078-478c-a7c0-ed11d90c9e0a')\"\n",
              "              title=\"Convert this dataframe to an interactive table.\"\n",
              "              style=\"display:none;\">\n",
              "        \n",
              "  <svg xmlns=\"http://www.w3.org/2000/svg\" height=\"24px\"viewBox=\"0 0 24 24\"\n",
              "       width=\"24px\">\n",
              "    <path d=\"M0 0h24v24H0V0z\" fill=\"none\"/>\n",
              "    <path d=\"M18.56 5.44l.94 2.06.94-2.06 2.06-.94-2.06-.94-.94-2.06-.94 2.06-2.06.94zm-11 1L8.5 8.5l.94-2.06 2.06-.94-2.06-.94L8.5 2.5l-.94 2.06-2.06.94zm10 10l.94 2.06.94-2.06 2.06-.94-2.06-.94-.94-2.06-.94 2.06-2.06.94z\"/><path d=\"M17.41 7.96l-1.37-1.37c-.4-.4-.92-.59-1.43-.59-.52 0-1.04.2-1.43.59L10.3 9.45l-7.72 7.72c-.78.78-.78 2.05 0 2.83L4 21.41c.39.39.9.59 1.41.59.51 0 1.02-.2 1.41-.59l7.78-7.78 2.81-2.81c.8-.78.8-2.07 0-2.86zM5.41 20L4 18.59l7.72-7.72 1.47 1.35L5.41 20z\"/>\n",
              "  </svg>\n",
              "      </button>\n",
              "      \n",
              "  <style>\n",
              "    .colab-df-container {\n",
              "      display:flex;\n",
              "      flex-wrap:wrap;\n",
              "      gap: 12px;\n",
              "    }\n",
              "\n",
              "    .colab-df-convert {\n",
              "      background-color: #E8F0FE;\n",
              "      border: none;\n",
              "      border-radius: 50%;\n",
              "      cursor: pointer;\n",
              "      display: none;\n",
              "      fill: #1967D2;\n",
              "      height: 32px;\n",
              "      padding: 0 0 0 0;\n",
              "      width: 32px;\n",
              "    }\n",
              "\n",
              "    .colab-df-convert:hover {\n",
              "      background-color: #E2EBFA;\n",
              "      box-shadow: 0px 1px 2px rgba(60, 64, 67, 0.3), 0px 1px 3px 1px rgba(60, 64, 67, 0.15);\n",
              "      fill: #174EA6;\n",
              "    }\n",
              "\n",
              "    [theme=dark] .colab-df-convert {\n",
              "      background-color: #3B4455;\n",
              "      fill: #D2E3FC;\n",
              "    }\n",
              "\n",
              "    [theme=dark] .colab-df-convert:hover {\n",
              "      background-color: #434B5C;\n",
              "      box-shadow: 0px 1px 3px 1px rgba(0, 0, 0, 0.15);\n",
              "      filter: drop-shadow(0px 1px 2px rgba(0, 0, 0, 0.3));\n",
              "      fill: #FFFFFF;\n",
              "    }\n",
              "  </style>\n",
              "\n",
              "      <script>\n",
              "        const buttonEl =\n",
              "          document.querySelector('#df-e9f7a8cd-1078-478c-a7c0-ed11d90c9e0a button.colab-df-convert');\n",
              "        buttonEl.style.display =\n",
              "          google.colab.kernel.accessAllowed ? 'block' : 'none';\n",
              "\n",
              "        async function convertToInteractive(key) {\n",
              "          const element = document.querySelector('#df-e9f7a8cd-1078-478c-a7c0-ed11d90c9e0a');\n",
              "          const dataTable =\n",
              "            await google.colab.kernel.invokeFunction('convertToInteractive',\n",
              "                                                     [key], {});\n",
              "          if (!dataTable) return;\n",
              "\n",
              "          const docLinkHtml = 'Like what you see? Visit the ' +\n",
              "            '<a target=\"_blank\" href=https://colab.research.google.com/notebooks/data_table.ipynb>data table notebook</a>'\n",
              "            + ' to learn more about interactive tables.';\n",
              "          element.innerHTML = '';\n",
              "          dataTable['output_type'] = 'display_data';\n",
              "          await google.colab.output.renderOutput(dataTable, element);\n",
              "          const docLink = document.createElement('div');\n",
              "          docLink.innerHTML = docLinkHtml;\n",
              "          element.appendChild(docLink);\n",
              "        }\n",
              "      </script>\n",
              "    </div>\n",
              "  </div>\n",
              "  "
            ]
          },
          "metadata": {},
          "execution_count": 159
        }
      ]
    }
  ]
}