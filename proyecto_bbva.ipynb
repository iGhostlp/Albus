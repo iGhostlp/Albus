{
  "nbformat": 4,
  "nbformat_minor": 0,
  "metadata": {
    "colab": {
      "provenance": [],
      "include_colab_link": true
    },
    "kernelspec": {
      "name": "python3",
      "display_name": "Python 3"
    },
    "language_info": {
      "name": "python"
    }
  },
  "cells": [
    {
      "cell_type": "markdown",
      "metadata": {
        "id": "view-in-github",
        "colab_type": "text"
      },
      "source": [
        "<a href=\"https://colab.research.google.com/github/iGhostlp/Albus/blob/Sin-Dientes/proyecto_bbva.ipynb\" target=\"_parent\"><img src=\"https://colab.research.google.com/assets/colab-badge.svg\" alt=\"Open In Colab\"/></a>"
      ]
    },
    {
      "cell_type": "markdown",
      "source": [
        "# Armado del entorno"
      ],
      "metadata": {
        "id": "HWni6Oa3Xst4"
      }
    },
    {
      "cell_type": "code",
      "execution_count": null,
      "metadata": {
        "id": "7oZjRfdSVnQa"
      },
      "outputs": [],
      "source": [
        "# Download Spark\n",
        "!wget -q https://dlcdn.apache.org/spark/spark-3.3.2/spark-3.3.2-bin-hadoop3.tgz"
      ]
    },
    {
      "cell_type": "code",
      "source": [
        "# Unzip the file\n",
        "!tar xf spark-3.3.2-bin-hadoop3.tgz"
      ],
      "metadata": {
        "id": "4AqJxH7ZVvNa"
      },
      "execution_count": null,
      "outputs": []
    },
    {
      "cell_type": "code",
      "source": [
        "!readlink -f $(which java) | sed \"s:bin/java::\""
      ],
      "metadata": {
        "colab": {
          "base_uri": "https://localhost:8080/"
        },
        "id": "jHCrfKNLWTsi",
        "outputId": "a7d843a0-1d8a-467e-9f4c-a8b341fcda65"
      },
      "execution_count": null,
      "outputs": [
        {
          "output_type": "stream",
          "name": "stdout",
          "text": [
            "/usr/lib/jvm/java-11-openjdk-amd64/\n"
          ]
        }
      ]
    },
    {
      "cell_type": "code",
      "source": [
        "# Set up the environment for Spark\n",
        "import os\n",
        "os.environ[\"JAVA_HOME\"] = \"/usr/lib/jvm/java-11-openjdk-amd64/\"\n",
        "os.environ[\"SPARK_HOME\"] = '/content/spark-3.3.2-bin-hadoop3'"
      ],
      "metadata": {
        "id": "7VjkyMMOWVOs"
      },
      "execution_count": null,
      "outputs": []
    },
    {
      "cell_type": "code",
      "source": [
        "# Install library for finding Spark\n",
        "!pip install -q findspark\n",
        "\n",
        "# Import the libary\n",
        "import findspark\n",
        "\n",
        "# Initiate findspark\n",
        "findspark.init()"
      ],
      "metadata": {
        "id": "idA0uSW7WW47"
      },
      "execution_count": null,
      "outputs": []
    },
    {
      "cell_type": "code",
      "source": [
        "# Import SparkSession\n",
        "from pyspark.sql import SparkSession\n",
        "\n",
        "# Create a Spark Session\n",
        "spark = SparkSession.builder.master(\"local[*]\").config('spark.sql.parquet.datetimeRebaseModeInRead','CORRECTED').getOrCreate()\n",
        "\n",
        "# Check Spark Session Information\n",
        "spark"
      ],
      "metadata": {
        "colab": {
          "base_uri": "https://localhost:8080/",
          "height": 219
        },
        "id": "RjQQ7TU0WYYg",
        "outputId": "5a31be80-ab9d-476c-b90d-c76c5932c15f"
      },
      "execution_count": null,
      "outputs": [
        {
          "output_type": "execute_result",
          "data": {
            "text/plain": [
              "<pyspark.sql.session.SparkSession at 0x7f9fac9aad60>"
            ],
            "text/html": [
              "\n",
              "            <div>\n",
              "                <p><b>SparkSession - in-memory</b></p>\n",
              "                \n",
              "        <div>\n",
              "            <p><b>SparkContext</b></p>\n",
              "\n",
              "            <p><a href=\"http://96203899c6cc:4040\">Spark UI</a></p>\n",
              "\n",
              "            <dl>\n",
              "              <dt>Version</dt>\n",
              "                <dd><code>v3.3.2</code></dd>\n",
              "              <dt>Master</dt>\n",
              "                <dd><code>local[*]</code></dd>\n",
              "              <dt>AppName</dt>\n",
              "                <dd><code>pyspark-shell</code></dd>\n",
              "            </dl>\n",
              "        </div>\n",
              "        \n",
              "            </div>\n",
              "        "
            ]
          },
          "metadata": {},
          "execution_count": 83
        }
      ]
    },
    {
      "cell_type": "markdown",
      "source": [
        "# Importado de funciones"
      ],
      "metadata": {
        "id": "ScNsjwRNsuLb"
      }
    },
    {
      "cell_type": "code",
      "source": [
        "import pyspark.sql.functions as F\n",
        "from pyspark.sql import SparkSession\n",
        "from pyspark.sql.functions import concat, concat_ws, col, row_number, desc, collect_list, to_json, struct, year, current_date, datediff, floor, when, lit\n",
        "from pyspark.sql.window import Window"
      ],
      "metadata": {
        "id": "V6pZxnWwOVBg"
      },
      "execution_count": null,
      "outputs": []
    },
    {
      "cell_type": "code",
      "source": [
        "#Creación de un SQL context\n",
        "from pyspark.sql import SQLContext\n",
        "sqlContext = SQLContext(spark)"
      ],
      "metadata": {
        "colab": {
          "base_uri": "https://localhost:8080/"
        },
        "id": "6r1MPCMLJJ18",
        "outputId": "5d70d011-dbde-406a-968b-8fc1d065fa98"
      },
      "execution_count": null,
      "outputs": [
        {
          "output_type": "stream",
          "name": "stderr",
          "text": [
            "/content/spark-3.3.2-bin-hadoop3/python/pyspark/sql/context.py:112: FutureWarning: Deprecated in 3.0.0. Use SparkSession.builder.getOrCreate() instead.\n",
            "  warnings.warn(\n"
          ]
        }
      ]
    },
    {
      "cell_type": "markdown",
      "source": [
        "# Carga de parquets"
      ],
      "metadata": {
        "id": "Q5AVpwy7083X"
      }
    },
    {
      "cell_type": "code",
      "source": [
        "df_customer = spark.read.parquet('/content/Datasets/customer_basics.snappy.parquet')\n",
        "df_phones = spark.read.parquet('/content/Datasets/phones.snappy.parquet')\n",
        "df_address = spark.read.parquet('/content/Datasets/address.snappy.parquet')\n",
        "df_emails = spark.read.parquet('/content/Datasets/emails.snappy.parquet')\n",
        "df_marital_status = spark.read.parquet('/content/Datasets/marital_status_type.parquet')\n",
        "df_segment_type = spark.read.parquet('/content/Datasets/segment_type.parquet')\n",
        "df_customer_documents = spark.read.parquet('/content/Datasets/customer_documents.parquet')\n",
        "df_address_type = spark.read.parquet('/content/Datasets/address_type.parquet')\n",
        "df_gender = spark.read.parquet('/content/Datasets/gender.parquet')\n",
        "df_nationality = spark.read.parquet('/content/Datasets/nationality.parquet')\n",
        "df_personal_type = spark.read.parquet('/content/Datasets/personal_type.parquet')\n",
        "df_phone_type = spark.read.parquet('/content/Datasets/phone_type.parquet')\n",
        "df_province = spark.read.parquet('/content/Datasets/province.parquet')\n",
        "df_customer_segment = spark.read.parquet('/content/Datasets/customer_segment.parquet')\n",
        "df_customer_info_temp = spark.read.parquet('/content/Datasets/customer_info_temp.parquet')"
      ],
      "metadata": {
        "id": "KyG_qzVEWaV3"
      },
      "execution_count": null,
      "outputs": []
    },
    {
      "cell_type": "markdown",
      "source": [
        "### Normalización de datos"
      ],
      "metadata": {
        "id": "ZWXD1CqV0B7O"
      }
    },
    {
      "cell_type": "code",
      "source": [
        "df_customer = df_customer.withColumnRenamed('last_change_date', 'l_c_d_customer')"
      ],
      "metadata": {
        "id": "QFH6W5UwP4gS"
      },
      "execution_count": null,
      "outputs": []
    },
    {
      "cell_type": "code",
      "source": [
        "df_customer = df_customer.withColumn(\"job_type_desc\", \n",
        "                                             when(df_customer.job_type == 1, 'REL.DEPENDENCIA/FIJO')\n",
        "                                             .when(df_customer.job_type == 2, 'TEMPORAL')\n",
        "                                             .when(df_customer.job_type == 3, 'AUTONOMO/INDEPENDIENTE')\n",
        "                                             .when(df_customer.job_type == 3, 'OTROS')\n",
        "                                             .otherwise(\"-\"))"
      ],
      "metadata": {
        "id": "Z90hmVGjEIa-"
      },
      "execution_count": null,
      "outputs": []
    },
    {
      "cell_type": "code",
      "source": [
        "df_marital_status_ok = df_marital_status.withColumn(\"marital_status_type\", \n",
        "                                             when(df_marital_status.martial_status_short_desc == \"NO INFORMA\", 0)\n",
        "                                             .when(df_marital_status.martial_status_short_desc == \"CASADO/A  \", 1)\n",
        "                                             .when(df_marital_status.martial_status_short_desc == \"VIUDO/A   \", 2)\n",
        "                                             .when(df_marital_status.martial_status_short_desc == \"SEPARADO/A\", 3)\n",
        "                                             .when(df_marital_status.martial_status_short_desc == \"DIVORCIADO\", 4)\n",
        "                                             .when(df_marital_status.martial_status_short_desc == \"SOLTERO/A \", 5)\n",
        "                                             .when(df_marital_status.martial_status_short_desc == \"CONVIVIENT\", 6)\n",
        "                                             .when(df_marital_status.martial_status_short_desc == \"OTROS     \", 7)\n",
        "                                             .when(df_marital_status.martial_status_short_desc == \"CONV. INSC\", 8)\n",
        "                                             .otherwise(\"-\"))"
      ],
      "metadata": {
        "id": "lLUiJ5YC0E0d"
      },
      "execution_count": null,
      "outputs": []
    },
    {
      "cell_type": "markdown",
      "source": [
        "# Extraccion de datos\n",
        "\n"
      ],
      "metadata": {
        "id": "OMmwI7gkYZ5u"
      }
    },
    {
      "cell_type": "markdown",
      "source": [
        "### - 24 - Extraccion de datos desde parquet, clientes y teléfonos.\n",
        "####Crear un DataFrame que contenga el JOIN de la tabla t_abtq_customer_basics y tabla t_abtq_customer_phones."
      ],
      "metadata": {
        "id": "JNSaDeDCGImG"
      }
    },
    {
      "cell_type": "code",
      "source": [
        "df_customer_phones = df_phones.join(df_customer, 'customer_id')"
      ],
      "metadata": {
        "id": "lXvJoM9jWcHg"
      },
      "execution_count": null,
      "outputs": []
    },
    {
      "cell_type": "code",
      "source": [
        "df_customer_phones.show()"
      ],
      "metadata": {
        "id": "0qFd1difZvmA",
        "colab": {
          "base_uri": "https://localhost:8080/"
        },
        "outputId": "37b1dbda-6426-49bb-e46b-81de6af48367"
      },
      "execution_count": null,
      "outputs": [
        {
          "output_type": "stream",
          "name": "stdout",
          "text": [
            "+-----------+--------------+-------------------+-----------------+----------+----------------+---------------+-------------+-------------------+-----------------+-------------+-------------+---------------+-----------------------+------------------+---------------------+-----------------+----------+-----------+--------------------------+---------------------+--------------------+---------------------+----------------+-------------------------+-------------------------+------------------+-------------------+-----------------+--------------------+---------------------+-----------------------+----------------------+--------------------+----------------------+------------------------------+----------------------------+-------------------+----------------+----------------+-------------------+--------------------+-----------------------+---------------------+-------------+-------------+--------------+---------------+--------------------+---------+----------------+-----------+-----------------------+-----------------------+----------+-------------------+-----------------+--------------------------+-------------+----------------+-----------------+-------------------+-----------+----------+----------------------+--------------------+---------------------+-----------+--------------------------+----------------------------+-------------------------------+------------------------+------------------------+--------------------------+------------------------+--------------------------+----------------------------+------------------+------------------------+-------------------+-------------------+---------------------------+-----------------+-------------------+-----------------+-------------------------------+--------------------+---------------------+------------------+----------------+--------------------+--------------------------+----------------+--------------------------+--------------------+-------------+----------------+--------------------+-------------------+--------+---------------------+-------------------------+--------------------------+--------------+--------------------+--------------------+----------------+-------------+-------------------------+-----------------------+---------------------+--------------------+\n",
            "|customer_id|phone_use_type|address_sequence_id|phone_sequence_id|phone_type|phone_country_id|prefix_phone_id|phone_area_id|cellphone_prefix_id|phone_exchange_id|phone_line_id|     phone_id|phone_intern_id|aditional_info_txt_desc|primary_phone_type|address_sequence_type|address_town_name|zipcode_id|province_id|customer_phone_status_type|phone_status_mod_date|contact_channel_type|sender_application_id|wrong_phone_type|normalization_status_type|normalization_reason_name|normalization_date|validity_start_date|validity_end_date|dlvy_day_monday_type|dlvy_day_tuesday_type|dlvy_day_wednesday_type|dlvy_day_thursday_type|dlvy_day_friday_type|dlvy_day_saturday_type|delivery_contact_start_hm_date|delivery_contact_end_hm_date|registry_entry_date|register_user_id|last_change_date|last_change_user_id|last_change_hms_date|last_change_terminal_id|operational_load_date|personal_type|  personal_id|admission_date|sale_channel_id|operation_channel_id|branch_id|business_area_id|campaing_id|customer_situation_type|customer_condition_type|manager_id|tracking_manager_id|credit_manager_id|credit_recovery_manager_id|    last_name|second_last_name|       first_name|marital_status_type|gender_type|birth_date|country_nationality_id|residence_country_id|customer_subject_type|sector_type|customer_level_access_type|cust_bcra_econ_activity_type|internal_economic_activity_type|bbva_inhabilitation_type|customer_block_bbva_date|customer_unblock_bbva_date|customer_block_bcra_date|customer_unblock_bcra_date|customer_pending_notice_type|last_notice_number|last_reference_number_id|last_service_number|last_address_number|last_unlinking_account_date|customer_end_date|last_change_user_id|customer_pep_type|bbva_family_lnk_weighted_number|customer_status_type|scoring_activity_type|refinancing_number|refinancing_date|coholder_customer_id|customer_bcra_situation_id|customer_cuit_id|customer_position_vat_type|balance_closing_date|profession_id|bbva_cust_number|customer_linked_type|customer_entry_type|job_type|profession_start_date|customer_first_block_date|customer_registration_date|l_c_d_customer|last_change_hms_date|register_terminal_id|register_user_id|customer_type|customer_seniority_number|last_status_change_date|operational_load_date|       job_type_desc|\n",
            "+-----------+--------------+-------------------+-----------------+----------+----------------+---------------+-------------+-------------------+-----------------+-------------+-------------+---------------+-----------------------+------------------+---------------------+-----------------+----------+-----------+--------------------------+---------------------+--------------------+---------------------+----------------+-------------------------+-------------------------+------------------+-------------------+-----------------+--------------------+---------------------+-----------------------+----------------------+--------------------+----------------------+------------------------------+----------------------------+-------------------+----------------+----------------+-------------------+--------------------+-----------------------+---------------------+-------------+-------------+--------------+---------------+--------------------+---------+----------------+-----------+-----------------------+-----------------------+----------+-------------------+-----------------+--------------------------+-------------+----------------+-----------------+-------------------+-----------+----------+----------------------+--------------------+---------------------+-----------+--------------------------+----------------------------+-------------------------------+------------------------+------------------------+--------------------------+------------------------+--------------------------+----------------------------+------------------+------------------------+-------------------+-------------------+---------------------------+-----------------+-------------------+-----------------+-------------------------------+--------------------+---------------------+------------------+----------------+--------------------+--------------------------+----------------+--------------------------+--------------------+-------------+----------------+--------------------+-------------------+--------+---------------------+-------------------------+--------------------------+--------------+--------------------+--------------------+----------------+-------------+-------------------------+-----------------------+---------------------+--------------------+\n",
            "|   08742699|            00|                  0|                4|         3|             080|             54|           11|                 15|             6551|         4559| 651100101319|               |                       |                  |                    N|                 |          |           |                 DECLARADO|           2022-06-24|                  01|                 CTES|                |                NORM AUTO|                  COPDTEL|        2022-06-24|         1900-01-01|       1900-01-01|                    |                     |                       |                      |                    |                      |                      00:00:00|                    00:00:00|         2022-06-24|        GPROBANK|      2022-06-24|           GPROBANK|              153644|                   4ZO5| 2022-11-30 00:42:...|           00|0000037747236|    2022-03-08|          10000|                  00|      603|              30|          0|                      1|                      8|      2603|                   |                 |                          |        TAPIA|                | FLORENCIA ISABEL|                  1|          F|1994-03-02|                    80|                 080|                  201|        100|                         0|                          82|                       21101000|                       0|                    null|                      null|                    null|                      null|                           0|                 0|                       0|                  0|                  0|                       null|             null|            PCLE25H|                1|                              0|                    |                   47|              null|            null|                    |                      null|   0027377472360|                       042|                null|          016|       029008328|                   N|                 MD|     001|           2022-03-08|                     null|                2022-03-08|    2022-03-08|              003238|                 BAT|         PCLE25H|             |                     null|                   null| 2022-03-10 01:05:...|REL.DEPENDENCIA/FIJO|\n",
            "|   29136340|            00|                  0|                2|         3|             080|             54|           11|                 15|             6633|         0555| 155113726434|               |                       |                 N|                    N|                 |          |           |                 DECLARADO|           2022-06-24|                  01|                 PVTA|                |                NORM AUTO|                  COPDTEL|        2022-06-24|         1900-01-01|       1900-01-01|                    |                     |                       |                      |                    |                      |                      00:00:00|                    00:00:00|         2022-06-24|        VW2CCON0|      2022-06-24|           VW2CCON0|              124413|                   PVTA| 2022-11-30 00:42:...|           00|0000037939781|    2020-12-14|          10000|                  00|      603|              34|          0|                      1|                      8|      2603|                   |                 |                          |          PAZ|                |    TAMARA YANINA|                  1|          F|1993-12-14|                    80|                 080|                  201|        100|                         0|                          82|                       21101000|                       0|                    null|                      null|                    null|                      null|                           0|                 0|                       0|                  0|                  0|                       null|             null|            PCLE06R|                1|                              1|                  PO|                   47|              null|            null|                    |                      null|   0027379397811|                       042|                null|          016|       027479480|                   N|                 MD|     001|           2020-12-14|                     null|                2020-12-14|    2020-12-14|              003359|                P37B|         PCLE25H|            S|                     null|                   null| 2022-03-10 01:05:...|REL.DEPENDENCIA/FIJO|\n",
            "|   29366856|            00|                  0|                1|         3|             080|             54|          341|                 15|              392|         6855| 063898629215|               |                       |                 N|                    N|                 |          |           |                 DECLARADO|           2022-06-24|                  01|                 CTES|                |                NORM AUTO|                  COPDTEL|        2022-06-24|         1900-01-01|       1900-01-01|                    |                     |                       |                      |                    |                      |                      00:00:00|                    00:00:00|         2022-06-24|        GPROBANK|      2022-06-24|           GPROBANK|              182815|                   K108| 2022-11-30 00:42:...|           00|0000038154081|    2020-11-16|          10000|                  01|      320|              34|          0|                      1|                      1|      4631|                080|                 |                         1|        LOPEZ|                |         EMILIANO|                  5|          M|1994-04-12|                    80|                 080|                  201|        100|                         0|                          82|                       21101000|                       0|                    null|                      null|                    null|                      null|                            |                 6|                       0|                  0|                  2|                       null|             null|           UPROBCAT|                2|                              2|                  AC|                   32|              null|            null|                    |                      null|   0020381540813|                       042|                null|          016|       027408412|                   N|                   |     001|           2020-11-17|                     null|                2020-11-16|    2021-02-11|              222823|                P37B|         A117092|            N|                     null|                   null| 2022-03-10 01:05:...|REL.DEPENDENCIA/FIJO|\n",
            "|   29403387|            00|                  0|                1|         3|             080|             54|         3743|                 15|               45|         1343| 206973163471|               |                       |                 N|                    N|                 |          |           |                COMPROBADO|           2022-07-08|                  16|                 CTES|                |                NORM AUTO|                     COSM|        2022-07-08|         1900-01-01|       1900-01-01|                   X|                    X|                      X|                     X|                   X|                     X|                      09:00:00|                    16:00:00|         2022-06-28|         A115560|      2022-07-08|               XATM|              161553|                   XATM| 2022-11-30 00:42:...|           00|0000012450093|    1999-07-23|          10000|                  01|       72|              34|          0|                      1|                      1|        46|                   |                 |                          |       BUSTOS|                |   CRISTINA MABEL|                  1|          F|1958-08-06|                    80|                 080|                  201|        100|                         0|                          82|                       21101000|                       0|                    null|                      null|                    null|                      null|                            |                 0|                       1|                  0|                  2|                       null|             null|            PCLE06R|                0|                              1|                  CA|                   24|              null|            null|                    |                      null|   0027124500937|                       042|                null|          011|       004741947|                   N|                   |     001|           2009-01-01|                     null|                1999-07-23|    2004-01-09|              000246|                P37B|          VUELCO|            S|                     null|                   null| 2022-03-10 01:05:...|REL.DEPENDENCIA/FIJO|\n",
            "|   25627500|            00|                  0|                1|         3|             080|             54|          297|                 15|              414|         1064| 932555800241|               |                       |                 N|                    N|                 |          |           |                COMPROBADO|           2022-09-25|                  01|                 CTES|                |                NORM AUTO|                   COPDTE|        2022-06-30|         1900-01-01|       1900-01-01|                    |                     |                       |                      |                    |                      |                      00:00:00|                    00:00:00|         2022-06-29|         A127528|      2022-09-25|               XATM|              150756|                   XATM| 2022-11-30 00:42:...|           00|0000037017606|    2012-03-01|          74001|                  01|       11|              30|          0|                      1|                      1|        48|                080|                 |                          |        ACUQA|                |  MARIA MAGDALENA|                  5|          F|1992-04-19|                    80|                 080|                  201|        100|                         0|                          82|                       21101000|                       0|                    null|                      null|                    null|                      null|                            |                26|                       0|                  0|                  1|                       null|             null|           UPROBCAT|                2|                              1|                  AC|                   50|              null|            null|                    |                      null|   0027370176065|                       042|                null|          033|       009623846|                   N|                   |     004|           2012-03-01|                     null|                2012-03-01|    2018-10-02|              104759|                P37B|         A118710|            N|                     null|             2014-08-05| 2022-03-10 01:05:...|                   -|\n",
            "|   25700418|            00|                  0|                1|         3|             080|             54|         3857|                 15|               67|         1464| 856043408495|               |                       |                 N|                    N|                 |          |           |                 DECLARADO|           2022-06-29|                  01|                 PVTA|                |                NORM AUTO|                  COPDTEL|        2022-06-29|         1900-01-01|       1900-01-01|                    |                     |                       |                      |                    |                      |                      00:00:00|                    00:00:00|         2022-06-29|        VW2CCON0|      2022-06-29|           VW2CCON0|              232413|                   PVTA| 2022-11-30 00:42:...|           00|0000012473850|    2016-08-01|          10000|                  00|      603|              34|          0|                      1|                      8|      2603|                   |                 |                          |  GARCIA DIEZ|                |      JOSE MIGUEL|                  1|          M|1958-11-20|                    80|                 080|                  201|        100|                         0|                          82|                       21101000|                       0|                    null|                      null|                    null|                      null|                           0|                 0|                       0|                  0|                  0|                       null|             null|            PCLE06R|                1|                              1|                  PO|                   47|              null|            null|                    |                      null|   0020124738505|                       042|                null|          016|       023064790|                   N|                 MD|     001|           2016-08-01|                     null|                2016-08-01|    2016-08-01|              000021|                P37B|         PCLE25H|            S|                     null|                   null| 2022-03-10 01:05:...|REL.DEPENDENCIA/FIJO|\n",
            "|   29410066|            00|                  0|                1|         1|             080|             54|          370|                   |              481|         0180|   6270436427|               |                       |                 N|                    N|      RESISTENCIA|     03500|         06|                 DECLARADO|           2022-06-30|                  01|                 CTES|                |                NORM AUTO|                  COPDTEL|        2022-06-30|         1900-01-01|       1900-01-01|                    |                     |                       |                      |                    |                      |                      00:00:00|                    00:00:00|         2022-06-30|         A118707|      2022-06-30|            A118707|              112251|                   6736| 2022-11-30 00:42:...|           00|0000039592716|    2017-09-13|          10000|                  01|      293|              30|          0|                      1|                      1|       813|                080|             PVTA|                          |       AZCONA|                |            AILIN|                  5|          F|1996-07-08|                    80|                 080|                  201|        100|                         0|                          82|                       21101000|                       0|                    null|                      null|                    null|                      null|                            |                11|                       0|                  0|                  1|                       null|             null|            PCLE825|                2|                              1|                  AC|                    4|              null|            null|                    |                        21|   0027395927162|                       042|                null|          016|       024035621|                   N|                   |     001|           2017-09-14|                     null|                2017-09-13|    2022-02-21|              125948|                   B|        VW2CEVA0|            N|                     null|             2017-09-14| 2022-03-10 01:05:...|REL.DEPENDENCIA/FIJO|\n",
            "|   25627500|            01|                  0|                2|         1|             080|             54|           11|                   |             4754|         6899|   0302073387|               |                       |                 N|                    N|                 |          |           |                 DECLARADO|           2022-06-30|                  01|                 CTES|                |                NORM AUTO|                  COPDTEL|        2022-06-30|         1900-01-01|       1900-01-01|                    |                     |                       |                      |                    |                      |                      00:00:00|                    00:00:00|         2022-06-30|         A127528|      2022-06-30|            A127528|              150756|                   L0BR| 2022-11-30 00:42:...|           00|0000037017606|    2012-03-01|          74001|                  01|       11|              30|          0|                      1|                      1|        48|                080|                 |                          |        ACUQA|                |  MARIA MAGDALENA|                  5|          F|1992-04-19|                    80|                 080|                  201|        100|                         0|                          82|                       21101000|                       0|                    null|                      null|                    null|                      null|                            |                26|                       0|                  0|                  1|                       null|             null|           UPROBCAT|                2|                              1|                  AC|                   50|              null|            null|                    |                      null|   0027370176065|                       042|                null|          033|       009623846|                   N|                   |     004|           2012-03-01|                     null|                2012-03-01|    2018-10-02|              104759|                P37B|         A118710|            N|                     null|             2014-08-05| 2022-03-10 01:05:...|                   -|\n",
            "|   21506384|            00|                  0|                2|         3|             080|             54|          364|                 15|              433|         5263| 950829456632|               |                       |                 N|                    N|                 |          |           |                 DECLARADO|           2022-07-01|                  01|                 CTES|                |                NORM AUTO|                   COPDTE|        2022-07-01|         1900-01-01|       1900-01-01|                    |                     |                       |                      |                    |                      |                      00:00:00|                    00:00:00|         2022-07-01|         A126562|      2022-07-01|            A126562|              111044|                   7178| 2022-11-30 00:42:...|           31|0000093866472|    2001-06-07|          10000|                  01|      331|              34|          0|                      1|                      4|       627|                   |                 |                          |   ETCHEMENDY|                |     EDUARDO JOSE|                  5|          M|1951-11-17|                    10|                 080|                  201|        100|                         0|                          82|                       21101000|                       0|                    null|                      null|                    null|                      null|                           2|                 1|                       0|                  0|                  2|                       null|             null|            PCLE02P|                0|                              1|                  AC|                   47|              null|            null|                    |                      null|   0020938664723|                       043|                null|          016|       005505214|                   N|                   |     001|           2009-01-01|                     null|                2001-06-07|    2017-06-08|              154045|                P37B|          VUELCO|            N|                     null|                   null| 2022-03-10 01:05:...|REL.DEPENDENCIA/FIJO|\n",
            "|   08758723|            00|                  0|                3|         3|             080|             54|           11|                 15|             5183|         2874| 283488885766|               |                       |                 N|                    N|                 |          |           |                 DECLARADO|           2022-07-01|                  01|                 CTES|                |                NORM AUTO|                  COPDTEL|        2022-07-01|         1900-01-01|       1900-01-01|                    |                     |                       |                      |                    |                      |                      00:00:00|                    00:00:00|         2022-07-01|        GPROBANK|      2022-07-01|           GPROBANK|              150333|                   4ZO8| 2022-11-30 00:42:...|           28|0000001086125|    2004-03-26|          10000|                  01|      337|              34|          0|                      1|                      1|       634|                   |                 |                          |    ZUBILLAGA|                |       GRISELDA E|                  1|          F|1934-05-08|                    80|                 080|                  201|        100|                         0|                          82|                       21101000|                       0|                    null|                      null|                    null|                      null|                            |                 0|                       0|                  0|                  1|                       null|             null|            PCLE25Q|                0|                              1|                  CA|                   50|              null|            null|                    |                      null|   0027010861255|                       042|                null|          034|       006317716|                   N|                   |     004|           2009-01-01|                     null|                2004-03-26|    2004-03-26|              174142|                P37B|          VUELCO|            S|                     null|                   null| 2022-03-10 01:05:...|                   -|\n",
            "|   29416245|            00|                  0|                1|         3|             080|             54|           11|                 15|             6618|         9888| 954372345810|               |                       |                 N|                    N|                 |          |           |                COMPROBADO|           2022-07-03|                  01|                 PVTA|                |                NORM AUTO|                  COPDTEL|        2022-07-03|         1900-01-01|       1900-01-01|                    |                     |                       |                      |                    |                      |                      00:00:00|                    00:00:00|         2022-07-03|        VW2CCON0|      2022-07-03|           PCLUPCRT|              143413|                   OSMS| 2022-11-30 00:42:...|           27|0000007954354|    2014-10-07|          10000|                  00|      603|              34|          0|                      1|                      8|      2603|                   |                 |                          |    GERVASONI|                |   JOSE FRANCISCO|                  1|          M|1945-10-04|                    80|                 080|                  201|        100|                         0|                          82|                       21101000|                       0|                    null|                      null|                    null|                      null|                           0|                 0|                       0|                  0|                  0|                       null|             null|            PCLE25Q|                1|                              1|                  PO|                   47|              null|            null|                    |                      null|   0020079543544|                       042|                null|          016|       020773121|                   N|                 MD|     001|           2014-10-07|                     null|                2014-10-07|    2014-10-07|              175751|                P37B|         PCLE10P|            S|                     null|                   null| 2022-03-10 01:05:...|REL.DEPENDENCIA/FIJO|\n",
            "|   29407655|            00|                  0|                1|         3|             080|             54|          370|                 15|              464|         3587| 116330576448|               |                       |                 N|                    N|                 |          |           |                COMPROBADO|           2022-07-03|                  01|                 CTES|                |                NORM AUTO|                   COPDTE|        2022-08-23|         1900-01-01|       1900-01-01|                    |                     |                       |                      |                    |                      |                      00:00:00|                    00:00:00|         2022-07-03|         A126494|      2022-08-23|            A117945|              094858|                   5458| 2022-11-30 00:42:...|           00|0000028111225|    2016-10-31|          10000|                  00|      603|              34|          0|                      1|                      8|      2603|                   |                 |                          |      ROURICH|                |         PATRICIO|                  1|          M|1980-06-12|                    80|                 080|                  201|        100|                         0|                          82|                       21101000|                       0|                    null|                      null|                    null|                      null|                           0|                 0|                       0|                  0|                  0|                       null|             null|            PCLE06R|                1|                              1|                  PO|                   47|              null|            null|                    |                      null|   0020281112253|                       042|                null|          016|       023370845|                   N|                 MD|     001|           2016-10-31|                     null|                2016-10-31|    2016-10-31|              231728|                P37B|         PCLE25H|            S|                     null|                   null| 2022-03-10 01:05:...|REL.DEPENDENCIA/FIJO|\n",
            "|   09636082|            00|                  0|                2|         3|             080|             54|           11|                 15|             3048|         7035| 295584735156|               |                       |                 N|                    N|                 |          |           |                 DECLARADO|           2022-07-04|                  01|                 CTES|                |                NORM AUTO|                   COPDTE|        2022-07-04|         1900-01-01|       1900-01-01|                    |                     |                       |                      |                    |                      |                      00:00:00|                    00:00:00|         2022-07-04|          A58711|      2022-07-04|           PCLESMS0|              210642|                   0558| 2022-11-30 00:42:...|           00|0000012480644|    2010-07-19|          10000|                  01|       66|              34|          0|                      1|                      1|       169|                   |                 |                          |       TOLEDO|                |   ROBERTO MIGUEL|                  4|          M|1956-08-31|                    80|                 080|                  201|        100|                         0|                          82|                       21101000|                       0|                    null|                      null|                    null|                      null|                           2|                 1|                       0|                  0|                  2|                       null|             null|             A77909|                2|                              1|                  CA|                   35|              null|            null|                    |                      null|   0020124806446|                       042|                null|          025|       002500705|                   N|                   |     003|           2010-07-19|                     null|                2010-07-19|    2011-11-18|              103854|                P37B|          VUELCO|            S|                     null|                   null| 2022-03-10 01:05:...|AUTONOMO/INDEPEND...|\n",
            "|   24401530|            00|                  0|                3|         3|             080|             54|           11|                 15|             5656|         3942| 356767213183|               |                       |                 N|                    N|                 |          |           |                 DECLARADO|           2022-07-04|                  35|                 TVTA|                |                NORM AUTO|                  COPDTEL|        2022-07-04|         1900-01-01|       1900-01-01|                    |                     |                       |                      |                    |                      |                      00:00:00|                    00:00:00|         2022-07-04|        GPROTLVT|      2022-07-04|           GPROTLVT|              154256|                   Y59G| 2022-11-30 00:42:...|           00|0000025563603|    2018-01-29|          10000|                  01|      170|              34|          0|                      1|                      1|       492|                080|                 |                          |      PARENTE|                |   CRISTINA NOEMI|                  5|          F|1977-02-03|                    80|                 080|                  201|        100|                         0|                          82|                       21101000|                       0|                    null|                      null|                    null|                      null|                           0|                 0|                       0|                  0|                  1|                       null|             null|            PCLE06R|                2|                              1|                  PO|                   35|              null|            null|                    |                      null|   0027255636036|                       042|                null|          007|       024401530|                   N|                   |     001|           2018-01-29|                     null|                2018-01-29|    2020-04-11|              182808|                P37B|         A127389|            S|                     null|             2018-01-29| 2022-03-10 01:05:...|REL.DEPENDENCIA/FIJO|\n",
            "|   29419011|            00|                  0|                1|         3|             080|             54|         3773|                 15|               41|         3784| 868903051144|               |                       |                 N|                    N|                 |          |           |                COMPROBADO|           2022-07-16|                  01|                 CTES|                |                NORM AUTO|                  COPDTEL|        2022-07-04|         1900-01-01|       1900-01-01|                    |                     |                       |                      |                    |                      |                      00:00:00|                    00:00:00|         2022-07-04|        GPROBANK|      2022-07-16|               XATM|              195024|                   XATM| 2022-11-30 00:42:...|           00|0000022420180|    2011-12-06|          10000|                  00|      334|              34|          0|                      1|                      1|       631|                   |                 |                          |     CASASOLA|                |      VILMA EDITH|                  1|          F|1971-10-17|                    80|                 080|                  201|        100|                         0|                          82|                       21101000|                       0|                    null|                      null|                    null|                      null|                           0|                 0|                       0|                  0|                  1|                       null|             null|            PCLE06R|                1|                              1|                  PO|                   47|              null|            null|                    |                      null|   0027224201805|                       042|                null|          016|       008989512|                   N|                   |     001|           2011-12-06|                     null|                2011-12-06|    2011-12-06|              170143|                P37B|         PCLE10P|            S|                     null|                   null| 2022-03-10 01:05:...|REL.DEPENDENCIA/FIJO|\n",
            "|   06072637|            00|                  0|                2|         3|             080|             54|         3442|                 15|               52|         3251| 735241336255|               |                       |                 N|                    N|                 |          |           |                COMPROBADO|           2022-07-05|                  01|                 CTES|                |                NORM AUTO|                   COPDTE|        2022-07-05|         1900-01-01|       1900-01-01|                    |                     |                       |                      |                    |                      |                      00:00:00|                    00:00:00|         2022-07-05|         A117806|      2022-07-05|           PCLUPCRT|              105709|                   OSMS| 2022-11-30 00:42:...|           00|0000028112227|    2007-10-12|          10000|                    |        8|              34|          0|                      1|                      1|        43|                   |                 |                          |     MARTINEZ|                |DAIANA CINTIA MAR|                  1|          F|1980-06-30|                    80|                 080|                  201|        100|                         0|                          82|                       21101000|                       0|                    null|                      null|                    null|                      null|                           0|                 0|                       0|                  0|                  1|                       null|             null|            PCLE06R|                0|                              1|                  PO|                   47|              null|            null|                    |                      null|   0023281122274|                       042|                null|          016|       008230547|                   N|                   |     001|           2009-01-01|                     null|                2007-10-12|    2008-05-02|              181547|                P37B|          VUELCO|            S|                     null|                   null| 2022-03-10 01:05:...|REL.DEPENDENCIA/FIJO|\n",
            "|   29352574|            00|                  0|                1|         3|             080|             54|          381|                 15|              624|         9454| 997804551958|               |                       |                 N|                    N|                 |          |           |                COMPROBADO|           2022-08-17|                  01|                 WKFL|                |                NORM AUTO|                     COSM|        2022-08-17|         1900-01-01|       1900-01-01|                    |                     |                       |                      |                    |                      |                      00:00:00|                    00:00:00|         2022-07-05|         A125917|      2022-08-17|           PCLUPCRT|              112903|                   OSMS| 2022-11-30 00:42:...|           00|0000025672298|    2006-11-13|          10000|                    |      216|              34|          0|                      1|                      1|       225|                   |                 |                          |       FIRMAN|                |           ANDRES|                  1|          M|1977-02-19|                    80|                 080|                  201|        100|                         0|                          82|                       21101000|                       0|                    null|                      null|                    null|                      null|                           0|                 0|                       0|                  0|                  1|                       null|             null|            PCLE06R|                0|                              1|                  PO|                   47|              null|            null|                    |                      null|   0020256722985|                       042|                null|          016|       007416835|                   N|                   |     001|           2009-01-01|                     null|                2006-11-13|    2008-05-02|              183636|                P37B|          VUELCO|            S|                     null|                   null| 2022-03-10 01:05:...|REL.DEPENDENCIA/FIJO|\n",
            "|   29420216|            00|                  0|                1|         3|             080|             54|         0351|                 15|              345|         4183|5902084753133|               |                       |                 N|                    N|                 |          |           |                 DECLARADO|           2022-07-05|                  01|                 CTES|                |                         |                         |        1900-01-01|         1900-01-01|       1900-01-01|                    |                     |                       |                      |                    |                      |                      00:00:00|                    00:00:00|         2022-07-05|        GPROBANK|      2022-07-05|           GPROBANK|              112005|                   LRCJ| 2022-11-30 00:42:...|           00|0000017535464|    2007-07-10|          10000|                    |      321|              34|          0|                      1|                      1|       614|                   |                 |                          |MONTES DE OCA|                |   MARCELO FABIAN|                  1|          M|1965-08-11|                    80|                 080|                  201|        100|                         0|                          82|                       21101000|                       0|                    null|                      null|                    null|                      null|                           0|                 0|                       0|                  0|                  1|                       null|             null|            PCLE06R|                0|                              1|                  PO|                   47|              null|            null|                    |                      null|   0020175354647|                       042|                null|          016|       007856169|                   N|                   |     001|           2009-01-01|                     null|                2007-07-10|    2008-05-02|              181547|                P37B|          VUELCO|            S|                     null|                   null| 2022-03-10 01:05:...|REL.DEPENDENCIA/FIJO|\n",
            "|   24239241|            00|                  0|                1|         3|             080|             54|           11|                 15|             3648|         8912| 997148011677|               |                     04|                 N|                    N|                 |          |           |                COMPROBADO|           2022-09-13|                  01|                 WKFL|                |                NORM AUTO|                     COSM|        2022-07-11|         2022-07-05|       1900-01-01|                    |                     |                       |                      |                    |                      |                      00:00:00|                    00:00:00|         2022-07-05|         A126306|      2022-09-13|               XATM|              210855|                   XATM| 2022-11-30 00:42:...|           00|0000036827904|    2014-10-30|          10000|                  39|      368|              34|          0|                      1|                      1|      1251|                080|                 |                          |   ALBARENQUE|                |     MATIAS ARIEL|                  5|          M|1992-08-19|                    80|                 080|                  201|        100|                         0|                          82|                       21101000|                       0|                    null|                      null|                    null|                      null|                            |                 0|                       0|                  0|                  2|                       null|             null|            PCLE06R|                2|                              1|                  CA|                   50|              null|            null|                    |                      null|   0020368279049|                       042|                null|          036|       020844712|                   N|                   |     004|           2014-11-19|                     null|                2014-10-30|    2017-12-12|              121736|                P37B|        GPROBANK|            S|                     null|             2014-11-19| 2022-03-10 01:05:...|                   -|\n",
            "|   27619371|            00|                  0|                1|         3|             080|             54|          387|                 15|              473|         0482| 429677796820|               |                       |                 N|                    N|                 |          |           |                 DECLARADO|           2022-07-05|                  01|                 PVTA|                |                NORM AUTO|                  COPDTEL|        2022-07-05|         1900-01-01|       1900-01-01|                    |                     |                       |                      |                    |                      |                      00:00:00|                    00:00:00|         2022-07-05|        VW2CCON0|      2022-07-05|           VW2CCON0|              181034|                   PVTA| 2022-11-30 00:42:...|           00|0000036727630|    2017-10-12|          10000|                  01|      603|              34|          0|                      1|                      8|      2603|                   |                 |                          |        ROMEO|                |            LAURA|                  5|          F|1992-02-19|                    80|                 080|                  201|        100|                         0|                          82|                       21101000|                       0|                    null|                      null|                    null|                      null|                           0|                 0|                       0|                  0|                  0|                       null|             null|            PCLE06R|                1|                              1|                  PO|                   47|              null|            null|                    |                      null|   0000000000000|                       042|                null|          016|       024125116|                   N|                 MD|     001|           2017-10-12|                     null|                2017-10-12|    2017-10-12|              234523|                P37B|        UPROFRGO|            S|                     null|                   null| 2022-03-10 01:05:...|REL.DEPENDENCIA/FIJO|\n",
            "+-----------+--------------+-------------------+-----------------+----------+----------------+---------------+-------------+-------------------+-----------------+-------------+-------------+---------------+-----------------------+------------------+---------------------+-----------------+----------+-----------+--------------------------+---------------------+--------------------+---------------------+----------------+-------------------------+-------------------------+------------------+-------------------+-----------------+--------------------+---------------------+-----------------------+----------------------+--------------------+----------------------+------------------------------+----------------------------+-------------------+----------------+----------------+-------------------+--------------------+-----------------------+---------------------+-------------+-------------+--------------+---------------+--------------------+---------+----------------+-----------+-----------------------+-----------------------+----------+-------------------+-----------------+--------------------------+-------------+----------------+-----------------+-------------------+-----------+----------+----------------------+--------------------+---------------------+-----------+--------------------------+----------------------------+-------------------------------+------------------------+------------------------+--------------------------+------------------------+--------------------------+----------------------------+------------------+------------------------+-------------------+-------------------+---------------------------+-----------------+-------------------+-----------------+-------------------------------+--------------------+---------------------+------------------+----------------+--------------------+--------------------------+----------------+--------------------------+--------------------+-------------+----------------+--------------------+-------------------+--------+---------------------+-------------------------+--------------------------+--------------+--------------------+--------------------+----------------+-------------+-------------------------+-----------------------+---------------------+--------------------+\n",
            "only showing top 20 rows\n",
            "\n"
          ]
        }
      ]
    },
    {
      "cell_type": "markdown",
      "source": [
        "### - 25 - Extraccion de datos desde .parquet, clientes y direcciones\n",
        "####Crear un DataFrame que contenga el JOIN de la tabla t_abtq_customer_basics y tabla t_abtq_customer_adress."
      ],
      "metadata": {
        "id": "-0sm-Qx7kBVa"
      }
    },
    {
      "cell_type": "code",
      "source": [
        "df_customer_address = df_address.join(df_customer, 'customer_id')"
      ],
      "metadata": {
        "id": "wE8LkJZ6tjyN"
      },
      "execution_count": null,
      "outputs": []
    },
    {
      "cell_type": "code",
      "source": [
        "df_customer_address.show()"
      ],
      "metadata": {
        "id": "ewysTyLUXXx9",
        "colab": {
          "base_uri": "https://localhost:8080/"
        },
        "outputId": "61f14499-8758-4fcc-c7e8-fb3ce6053f5e"
      },
      "execution_count": null,
      "outputs": [
        {
          "output_type": "stream",
          "name": "stdout",
          "text": [
            "+-----------+-----------------------+-------------------+--------------+--------------------+------------------+---------------------------+-----------------+-------------+---------------------+--------------------+-----------------------+----------+---------------+-----------+------------------+----------------------+-------------------------+------------------+---------------------+------------------------------+-----------------------+--------------------+---------------------+------------------+-------------------------+-------------------------+------------------+-----------------------------+--------------------+---------------------+-----------------------+----------------------+--------------------+----------------------+------------------------------+----------------------------+------------------------+-------------------+----------------+----------------+-------------------+--------------------+-----------------------+-----------------+---------------------+-------------+-------------+--------------+---------------+--------------------+---------+----------------+-----------+-----------------------+-----------------------+----------+-------------------+-----------------+--------------------------+----------+----------------+-------------------+-------------------+-----------+----------+----------------------+--------------------+---------------------+-----------+--------------------------+----------------------------+-------------------------------+------------------------+------------------------+--------------------------+------------------------+--------------------------+----------------------------+------------------+------------------------+-------------------+-------------------+---------------------------+-----------------+-------------------+-----------------+-------------------------------+--------------------+---------------------+------------------+----------------+--------------------+--------------------------+----------------+--------------------------+--------------------+-------------+----------------+--------------------+-------------------+--------+---------------------+-------------------------+--------------------------+--------------+--------------------+--------------------+----------------+-------------+-------------------------+-----------------------+---------------------+--------------------+\n",
            "|customer_id|address_priority_number|address_sequence_id|residence_type|         street_name|address_outdoor_id|address_without_number_type|address_indoor_id|indoor_number|address_district_name|   address_town_name|address_department_name|zipcode_id|long_zipcode_id|province_id|address_country_id|other_information_desc|address_relationship_type|address_start_date|address_verified_date|customer_locator_verified_type|address_status_mod_date|contact_channel_type|sender_application_id|returned_mail_type|normalization_status_type|normalization_reason_name|normalization_date|normalized_level_match_number|dlvy_day_monday_type|dlvy_day_tuesday_type|dlvy_day_wednesday_type|dlvy_day_thursday_type|dlvy_day_friday_type|dlvy_day_saturday_type|delivery_contact_start_hm_date|delivery_contact_end_hm_date|prev_address_sequence_id|registry_entry_date|register_user_id|last_change_date|last_change_user_id|last_change_hms_date|last_change_terminal_id|registration_type|operational_load_date|personal_type|  personal_id|admission_date|sale_channel_id|operation_channel_id|branch_id|business_area_id|campaing_id|customer_situation_type|customer_condition_type|manager_id|tracking_manager_id|credit_manager_id|credit_recovery_manager_id| last_name|second_last_name|         first_name|marital_status_type|gender_type|birth_date|country_nationality_id|residence_country_id|customer_subject_type|sector_type|customer_level_access_type|cust_bcra_econ_activity_type|internal_economic_activity_type|bbva_inhabilitation_type|customer_block_bbva_date|customer_unblock_bbva_date|customer_block_bcra_date|customer_unblock_bcra_date|customer_pending_notice_type|last_notice_number|last_reference_number_id|last_service_number|last_address_number|last_unlinking_account_date|customer_end_date|last_change_user_id|customer_pep_type|bbva_family_lnk_weighted_number|customer_status_type|scoring_activity_type|refinancing_number|refinancing_date|coholder_customer_id|customer_bcra_situation_id|customer_cuit_id|customer_position_vat_type|balance_closing_date|profession_id|bbva_cust_number|customer_linked_type|customer_entry_type|job_type|profession_start_date|customer_first_block_date|customer_registration_date|l_c_d_customer|last_change_hms_date|register_terminal_id|register_user_id|customer_type|customer_seniority_number|last_status_change_date|operational_load_date|       job_type_desc|\n",
            "+-----------+-----------------------+-------------------+--------------+--------------------+------------------+---------------------------+-----------------+-------------+---------------------+--------------------+-----------------------+----------+---------------+-----------+------------------+----------------------+-------------------------+------------------+---------------------+------------------------------+-----------------------+--------------------+---------------------+------------------+-------------------------+-------------------------+------------------+-----------------------------+--------------------+---------------------+-----------------------+----------------------+--------------------+----------------------+------------------------------+----------------------------+------------------------+-------------------+----------------+----------------+-------------------+--------------------+-----------------------+-----------------+---------------------+-------------+-------------+--------------+---------------+--------------------+---------+----------------+-----------+-----------------------+-----------------------+----------+-------------------+-----------------+--------------------------+----------+----------------+-------------------+-------------------+-----------+----------+----------------------+--------------------+---------------------+-----------+--------------------------+----------------------------+-------------------------------+------------------------+------------------------+--------------------------+------------------------+--------------------------+----------------------------+------------------+------------------------+-------------------+-------------------+---------------------------+-----------------+-------------------+-----------------+-------------------------------+--------------------+---------------------+------------------+----------------+--------------------+--------------------------+----------------+--------------------------+--------------------+-------------+----------------+--------------------+-------------------+--------+---------------------+-------------------------+--------------------------+--------------+--------------------+--------------------+----------------+-------------+-------------------------+-----------------------+---------------------+--------------------+\n",
            "|   07867437|                      1|                  0|            06|ALTE FRANCISCO SE...|           0001971|                          N|         PB      |      3      |                  ...|CIUDAD AUTONOMA B...|   CAPITAL FEDERAL  ...|     01416|       C1416BXQ|         01|               080|                   ...|                        0|              null|                 null|                    NO VERIF  |             2009-01-26|                  00|                 CTES|                 0|               NORM AUTO |               CO        |        2009-01-26|                         0.00|                    |                     |                       |                      |                    |                      |                          0000|                        0000|                       0|         2009-01-26|        PCLE07Q |      2009-01-26|           PCLE07Q |              155342|                   BAT |                -| 2022-01-13 21:32:...|           00|0000022367134|    2007-07-10|          10000|                    |      143|              34|          0|                      1|                      1|       489|                   |                 |                          |    KATTAN|                |    ALBERTO GERARDO|                  1|          M|1971-08-10|                    80|                 080|                  201|        100|                         0|                          82|                       21101000|                       0|                    null|                      null|                    null|                      null|                           0|                 0|                       0|                  0|                  1|                       null|             null|            PCLE06R|                0|                              1|                  PO|                   47|              null|            null|                    |                      null|   0023223671349|                       042|                null|          016|       007867437|                   N|                   |     001|           2009-01-01|                     null|                2007-07-10|    2008-05-02|              181547|                P37B|          VUELCO|            S|                     null|                   null| 2022-03-10 01:05:...|REL.DEPENDENCIA/FIJO|\n",
            "|   06813266|                      1|                  0|            06|EL TORDO         ...|           0000866|                          N|                 |             |                  ...|ITUZAINGO        ...|   ITUZAINGO        ...|     01714|       B1714PDJ|         02|               080|                   ...|                        0|              null|                 null|                    NO VERIF  |             2009-01-26|                  00|                 CTES|                 0|               NORM AUTO |               CO        |        2009-01-26|                         0.00|                    |                     |                       |                      |                    |                      |                          0000|                        0000|                       0|         2009-01-26|        PCLE07Q |      2009-01-26|           PCLE07Q |              155342|                   BAT |                -| 2022-01-13 21:32:...|           00|0000013343738|    2006-02-22|          10000|                    |      418|              34|          0|                      1|                      1|       139|                   |                 |                          |   FERRERO|                |       ISIDRO ROQUE|                  1|          M|1959-02-06|                    80|                 080|                  201|        100|                         0|                          82|                       21101000|                       0|                    null|                      null|                    null|                      null|                            |                 0|                       0|                  0|                  1|                       null|             null|            PCLE02P|                0|                              1|                  CA|                   47|              null|            null|                    |                      null|   0020133437380|                       043|                null|          016|       006813266|                   N|                   |     001|           2009-01-01|                     null|                2006-02-22|    2008-11-10|              145508|                P37B|          VUELCO|            S|                     null|                   null| 2022-03-10 01:05:...|REL.DEPENDENCIA/FIJO|\n",
            "|   28028529|                      1|                  0|            06|AMENEDO          ...|           0000302|                          N|                 |             | ALMIRANTE BROWN  ...|ADROGUE          ...|   ALMIRANTE BROWN  ...|     01846|       B1846DGH|         02|               080|                   ...|                        0|              null|                 null|                    NO VERIF  |             2009-01-26|                  00|                 CTES|                 0|               NORM AUTO |               CO        |        2009-01-26|                         0.00|                    |                     |                       |                      |                    |                      |                          0000|                        0000|                       0|         2009-01-26|        PCLE07Q |      2009-01-26|           PCLE07Q |              155342|                   BAT |                -| 2022-01-13 21:32:...|           00|0000039730521|    2021-08-24|          10000|                  01|      995|              34|          0|                      1|                      8|      2603|                   |             PVTA|                          |    ZURITA|                |             CARLOS|                  5|          M|1996-04-27|                    80|                 080|                  201|        100|                         0|                          82|                       21101000|                       0|                    null|                      null|                    null|                      null|                           0|                 0|                       0|                  0|                  0|                       null|             null|            PCLE06R|                1|                              1|                  PO|                    4|              null|            null|                    |                      null|   0000000000000|                       042|                null|          016|       028028529|                   N|                 MD|     001|           2021-08-24|                     null|                2021-08-24|    2021-08-24|              172924|                P37B|        VW2CEVA0|            S|                     null|                   null| 2022-03-10 01:05:...|REL.DEPENDENCIA/FIJO|\n",
            "|   28366580|                      1|                  1|            06|INCA AAA         ...|           0000155|                          N|                 |             |                  ...|LLAVALLOL        ...|   112233114455     ...|     01836|               |         03|                  |                   ...|                        7|              null|                 null|                              |                   null|                    |                     |                  |                         |                         |              null|                         0.07|                    |                     |                       |                      |                    |                      |                          0007|                        0007|                       7|               null|                |            null|                   |                    |                       |                -| 2022-01-13 21:32:...|           00|0000039786049|    2022-01-11|          10000|                  00|       82|              34|          0|                      1|                      1|       234|                080|                 |                          |  BEATRICE|                |   SEBASTIAN DANIEL|                  5|          M|1996-08-03|                    80|                 080|                  201|        100|                         0|                          82|                       21101000|                       0|                    null|                      null|                    null|                      null|                           0|                 2|                       0|                  0|                  2|                       null|             null|            PCLE06R|                2|                              2|                  AC|                   47|              null|            null|                    |                      null|   0020397860494|                       042|                null|          016|       028366580|                   N|                   |     001|           2022-01-20|                     null|                2022-01-11|    2022-01-25|              204956|                BATC|         PCLE510|            N|                     null|                   null| 2022-03-10 01:05:...|REL.DEPENDENCIA/FIJO|\n",
            "|   28366580|                      1|                  1|            05|INCA             ...|           0000155|                          N|                 |             |                  ...|LLAVALLOL        ...|   LOMAS DE ZAMORA  ...|     01836|       B1836BBC|         02|               080|                   ...|                        0|              null|                 null|                    DECLARADO |             2008-12-12|                  01|                 CTES|                 1|               NORM AUTO |               CO        |        2008-12-12|                         0.17|                   X|                    X|                      X|                     X|                   X|                     X|                          1400|                        1600|                       0|         2008-12-12|        E023466 |      2011-07-01|           PCLE05T |              144535|                   M921|                -| 2022-01-13 21:32:...|           00|0000039786049|    2022-01-11|          10000|                  00|       82|              34|          0|                      1|                      1|       234|                080|                 |                          |  BEATRICE|                |   SEBASTIAN DANIEL|                  5|          M|1996-08-03|                    80|                 080|                  201|        100|                         0|                          82|                       21101000|                       0|                    null|                      null|                    null|                      null|                           0|                 2|                       0|                  0|                  2|                       null|             null|            PCLE06R|                2|                              2|                  AC|                   47|              null|            null|                    |                      null|   0020397860494|                       042|                null|          016|       028366580|                   N|                   |     001|           2022-01-20|                     null|                2022-01-11|    2022-01-25|              204956|                BATC|         PCLE510|            N|                     null|                   null| 2022-03-10 01:05:...|REL.DEPENDENCIA/FIJO|\n",
            "|   02746969|                      1|                  0|            06|MERCEDES         ...|           0004364|                          N|         6       |      P      |                  ...|CIUDAD AUTONOMA B...|   CAPITAL FEDERAL  ...|     01419|       C1419BGP|         01|               080|                   ...|                        0|              null|                 null|                    NO VERIF  |             2009-01-26|                  00|                 CTES|                 0|               NORM AUTO |               CO        |        2009-01-26|                         0.00|                    |                     |                       |                      |                    |                      |                          0000|                        0000|                       0|         2009-01-26|        PCLE07Q |      2009-01-26|           PCLE07Q |              155342|                   BAT |                -| 2022-01-13 21:32:...|           00|0000025684535|    2010-10-21|          10000|                  00|       74|              34|          0|                      1|                      1|       192|                   |                 |                          |      RUIZ|                |RUIZ MIRIAM LILIANA|                  1|          F|1977-01-01|                    80|                 080|                  201|        100|                         0|                          82|                       21101000|                       0|                    null|                      null|                    null|                      null|                           0|                 0|                       0|                  0|                  1|                       null|             null|            PCLE06R|                1|                              1|                  PO|                   47|              null|            null|                    |                      null|   0027256845356|                       042|                null|          016|       002746969|                   N|                   |     001|           2010-10-21|                     null|                2010-10-21|    2010-10-21|              162741|                P37B|          VUELCO|            S|                     null|                   null| 2022-03-10 01:05:...|REL.DEPENDENCIA/FIJO|\n",
            "|   23441482|                      1|                  0|            06|AV 39            ...|           0005146|                          N|                 |             |                  ...|PLATANOS         ...|   BERAZATEGUI      ...|     01885|       B1861CIP|         02|               080|                   ...|                        0|              null|                 null|                    NO VERIF  |             2008-07-16|                  00|                 CTES|                 1|               NORM AUTO |               CO        |        2008-07-16|                         0.00|                    |                     |                       |                      |                    |                      |                          0000|                        0000|                       0|         2008-07-16|        PCLE510 |      2011-07-01|           PCLE05T |              144535|                   B   |                -| 2022-01-13 21:32:...|           00|0000038990587|    2016-12-22|          10000|                  00|      302|              34|          0|                      1|                      1|       591|                   |                 |                          |    ACOSTA|                |      FRANCO LEONEL|                  5|          M|1995-09-10|                    80|                 080|                  201|        100|                         0|                          82|                       21101000|                       0|                    null|                      null|                    null|                      null|                            |                 0|                       0|                  0|                  2|                       null|             null|            PCLE06R|                2|                              1|                  CA|                   47|              null|            null|                    |                      null|   0023389905879|                       042|                null|          007|       023441482|                   N|                   |     001|           2017-01-04|                     null|                2016-12-22|    2017-01-04|              035408|                P37B|         PCLE510|            S|                     null|             2017-01-04| 2022-03-10 01:05:...|REL.DEPENDENCIA/FIJO|\n",
            "|   25935956|                      1|                  0|            06|AV FERNANDEZ DE L...|           0001602|                          N|                 |             |                  ...|CIUDAD AUTONOMA B...|   CAPITAL FEDERAL  ...|     01437|       C1437GYV|         01|               080|                   ...|                        0|              null|                 null|                    NO VERIF  |             2009-01-26|                  00|                 CTES|                 0|               NORM AUTO |               CO        |        2009-01-26|                         0.00|                    |                     |                       |                      |                    |                      |                          0000|                        0000|                       0|         2009-01-26|        PCLE07Q |      2009-01-26|           PCLE07Q |              155342|                   BAT |                -| 2022-01-13 21:32:...|           00|0000036876523|    2019-06-24|          10000|                  01|       75|              30|          0|                      1|                      1|       200|                080|             PVTA|                          |   BUIATTI|                | VERONICA ESTEFANIA|                  5|          F|1992-05-12|                    80|                 080|                  201|        100|                         0|                          82|                       21101000|                       0|                    null|                      null|                    null|                      null|                           2|                30|                       0|                  0|                  1|                       null|             null|            PCLE02P|                2|                              3|                  AC|                    4|              null|            null|                    |                      null|   0027368765231|                       042|                null|          016|       025935956|                   N|                   |     001|           2019-06-24|                     null|                2019-06-24|    2022-01-20|              230746|                BATC|        VW2CEVA0|            N|                     null|                   null| 2022-03-10 01:05:...|REL.DEPENDENCIA/FIJO|\n",
            "|   01957163|                      1|                  0|            06|JOSE M DE MINOGUY...|           0001748|                          N|                 |             |                  ...|HURLINGHAM       ...|   HURLINGHAM       ...|     01686|       B1686CFB|         02|               080|                   ...|                        0|              null|                 null|                    NO VERIF  |             2009-01-26|                  00|                 CTES|                 0|               NORM AUTO |               CO        |        2009-01-26|                         0.00|                    |                     |                       |                      |                    |                      |                          0000|                        0000|                       0|         2009-01-26|        PCLE510 |      2009-01-26|           PCLE510 |              134000|                   B   |                -| 2022-01-13 21:32:...|           00|0000016394256|    2010-01-22|          10000|                  01|      136|              34|          0|                      1|                      1|       461|                   |                 |                          |PALAVECINO|                |      NELIDA ANGELI|                  5|          F|1963-10-20|                    80|                 080|                  201|        100|                         0|                          82|                       21101000|                       0|                    null|                      null|                    null|                      null|                           0|                 0|                       0|                  0|                  1|                       null|             null|            PCLE06R|                2|                              1|                  PO|                   47|              null|            null|                    |                      null|   0027163942564|                       042|                null|          016|       001957163|                   N|                   |     001|           2010-01-22|                     null|                2010-01-22|    2010-01-22|              121626|                P37B|          VUELCO|            S|                     null|                   null| 2022-03-10 01:05:...|REL.DEPENDENCIA/FIJO|\n",
            "|   06338965|                      1|                  0|            06|MADERO DR FRANCIS...|           0001125|                          N|                 |             |                  ...|ACASSUSO         ...|   112233114455     ...|     01641|               |         02|               080|                   ...|                        0|              null|                 null|                    NO VERIF  |             2009-01-26|                  00|                 CTES|                 0|               NORM USU  |               NECI      |        2009-01-26|                         0.00|                    |                     |                       |                      |                    |                      |                          0000|                        0000|                       0|         2009-01-26|        PCLE07Q |      2009-01-26|           PCLE07Q |              155342|                   BAT |                -| 2022-01-13 21:32:...|           00|0000030036232|    2004-04-29|          10000|                  01|      341|              34|          0|                      1|                      1|       639|                   |                 |                          |     LOPEZ|                |     LUCIANO MARTIN|                  5|          F|1982-12-28|                    80|                 080|                  201|        100|                         0|                          82|                       21101000|                       0|                    null|                      null|                    null|                      null|                            |                 0|                       0|                  0|                  1|                       null|             null|            PCLE06R|                0|                              1|                  CA|                   36|              null|            null|                    |                      null|   0027300362325|                       042|                null|          007|       006338965|                   N|                   |     001|           2009-01-01|                     null|                2004-04-29|    2005-12-23|              093844|                P37B|          VUELCO|            S|                     null|                   null| 2022-03-10 01:05:...|REL.DEPENDENCIA/FIJO|\n",
            "|   26205399|                      1|                  0|            06|SUIPACHA         ...|           0001081|                          N|                 |             |                  ...|SAN FRANCISCO    ...|   SAN JUSTO        ...|     02400|       X2400EOU|         04|               080|                   ...|                        0|              null|                 null|                    NO VERIF  |             2009-01-26|                  00|                 CTES|                 0|               NORM AUTO |               CO        |        2009-01-26|                         0.00|                    |                     |                       |                      |                    |                      |                          0000|                        0000|                       0|         2009-01-26|        PCLE510 |      2009-01-26|           PCLE510 |              134000|                   B   |                -| 2022-01-13 21:32:...|           00|0000038866205|    2019-08-30|          10000|                  01|      995|              34|          0|                      1|                      8|      2603|                   |             PVTA|                          |   VAZQUEZ|                |         JUAN PABLO|                  5|          M|1995-05-05|                    80|                 080|                  201|        100|                         0|                          82|                       21101000|                       0|                    null|                      null|                    null|                      null|                           0|                 0|                       0|                  0|                  0|                       null|             null|            PCLE06R|                1|                              1|                  PO|                    4|              null|            null|                    |                      null|   0000000000000|                       042|                null|          016|       026205399|                   N|                 MD|     001|           2019-08-30|                     null|                2019-08-30|    2019-08-30|              092342|                P37B|        VW2CEVA0|            S|                     null|                   null| 2022-03-10 01:05:...|REL.DEPENDENCIA/FIJO|\n",
            "|   03933825|                      1|                  0|            06|HENRY DUNANT     ...|           0001649|                          N|                 |             |                  ...|ITUZAINGO        ...|   ITUZAINGO        ...|     01714|       B1714HBU|         02|               080|                   ...|                        0|              null|                 null|                    NO VERIF  |             2009-01-26|                  00|                 CTES|                 0|               NORM AUTO |               CO        |        2009-01-26|                         0.00|                    |                     |                       |                      |                    |                      |                          0000|                        0000|                       0|         2009-01-26|        PCLE07Q |      2009-01-26|           PCLE07Q |              155342|                   BAT |                -| 2022-01-13 21:32:...|           00|0000025583974|    2011-07-13|          10000|                  00|      177|              34|          0|                      1|                      1|       600|                   |                 |                          |      SOSA|                |      MARIA CECILIA|                  1|          F|1977-08-04|                    80|                 080|                  201|        100|                         0|                          82|                       21101000|                       0|                    null|                      null|                    null|                      null|                           0|                 0|                       0|                  0|                  1|                       null|             null|            PCLE06R|                1|                              1|                  PO|                   47|              null|            null|                    |                      null|   0027255839743|                       042|                null|          016|       003933825|                   N|                   |     001|           2011-07-13|                     null|                2011-07-13|    2011-07-13|              161542|                P37B|         PCLE10P|            S|                     null|                   null| 2022-03-10 01:05:...|REL.DEPENDENCIA/FIJO|\n",
            "|   02568856|                      1|                  0|            06|CLAUDIO MAMERTO C...|           0003729|                          N|                 |             |                  ...|CIUDAD AUTONOMA B...|   CAPITAL FEDERAL  ...|     01419|       C1419AAE|         01|               080|                   ...|                        0|              null|                 null|                    NO VERIF  |             2009-01-26|                  00|                 CTES|                 0|               NORM AUTO |               CO        |        2009-01-26|                         0.00|                    |                     |                       |                      |                    |                      |                          0000|                        0000|                       0|         2009-01-26|        PCLE07Q |      2009-01-26|           PCLE07Q |              155342|                   BAT |                -| 2022-01-13 21:32:...|           00|0000017440976|    2010-08-12|          10000|                  00|      223|              34|          0|                      1|                      1|       729|                   |                 |                          |     ARIAS|                |  PATRICIA GRACIELA|                  1|          F|1965-08-04|                    80|                 080|                  201|        100|                         0|                          82|                       21101000|                       0|                    null|                      null|                    null|                      null|                           0|                 0|                       0|                  0|                  1|                       null|             null|            PCLE06R|                1|                              1|                  PO|                   47|              null|            null|                    |                      null|   0027174409760|                       042|                null|          016|       002568856|                   N|                   |     001|           2010-08-12|                     null|                2010-08-12|    2010-08-12|              163210|                P37B|          VUELCO|            S|                     null|                   null| 2022-03-10 01:05:...|REL.DEPENDENCIA/FIJO|\n",
            "|   04348412|                      1|                  0|            06|MANUEL DE SARRATE...|           0003551|                          N|                 |             |                  ...|VILLA MARTELLI   ...|   VICENTE LOPEZ    ...|     01603|       B1603BQA|         02|               080|                   ...|                        0|              null|                 null|                    NO VERIF  |             2009-01-26|                  00|                 CTES|                 0|               NORM AUTO |               CO        |        2009-01-26|                         0.00|                    |                     |                       |                      |                    |                      |                          0000|                        0000|                       0|         2009-01-26|        PCLE07Q |      2009-01-26|           PCLE07Q |              155342|                   BAT |                -| 2022-01-13 21:32:...|           26|0000000046479|    1998-08-28|          10000|                  01|      999|              34|          0|                      1|                      1|       901|                   |                 |                          |  MASLATON|                |             RAQUEL|                  1|          F|1929-10-06|                    80|                 080|                  201|        100|                         0|                          82|                       21101000|                       0|                    null|                      null|                    null|                      null|                            |                 0|                       0|                  0|                  0|                       null|             null|            PCLE06R|                0|                              1|                  CA|                   47|              null|            null|                    |                      null|   0027000464797|                       042|                null|          016|       004348412|                   N|                   |     001|           2009-01-01|                     null|                1998-08-28|    1998-08-28|              082606|                P37B|          VUELCO|            S|                     null|                   null| 2022-03-10 01:05:...|REL.DEPENDENCIA/FIJO|\n",
            "|   02382514|                      1|                  0|            06|FRAY JOSE W ACHAV...|           0002550|                          N|         PA      |             |                  ...|REMEDIOS DE ESCAL...|   LANUS            ...|     01826|       B1826CPH|         02|               080|                   ...|                        0|              null|                 null|                    NO VERIF  |             2009-01-26|                  00|                 CTES|                 0|               NORM AUTO |               CO        |        2009-01-26|                         0.00|                    |                     |                       |                      |                    |                      |                          0000|                        0000|                       0|         2009-01-26|        PCLE07Q |      2009-01-26|           PCLE07Q |              155342|                   BAT |                -| 2022-01-13 21:32:...|           00|0000038008979|    2010-04-23|          10000|                  00|      325|              34|          0|                      1|                      1|       619|                   |                 |                          |  MOLINARI|                |   ELIZABETH NATALI|                  5|          F|1993-02-27|                    80|                 080|                  201|        100|                         0|                          82|                       21101000|                       0|                    null|                      null|                    null|                      null|                            |                 0|                       0|                  0|                  2|                       null|             null|            PCLE861|                2|                              1|                  CA|                   47|              null|            null|                    |                      null|   0027380089799|                       042|                null|          016|       002382514|                   N|                   |     001|           2010-06-15|                     null|                2010-04-23|    2010-06-15|              044125|                P37B|          VUELCO|            S|                     null|                   null| 2022-03-10 01:05:...|REL.DEPENDENCIA/FIJO|\n",
            "|   03342631|                      1|                  0|            06|GRAL OBLIGADO    ...|           0000325|                          N|                 |             |                  ...|RESISTENCIA      ...|                    ...|     03500|               |         06|               080|                   ...|                        0|              null|                 null|                    NO VERIF  |             2007-12-21|                  00|                 VLCO|                 0|               NO NORM   |                         |              null|                         0.00|                    |                     |                       |                      |                    |                      |                          0000|                        0000|                       0|         1996-11-30|                |      1996-11-30|           CONV    |              173926|                   FUSI|                -| 2022-01-13 21:32:...|           00|0000017370947|    1993-06-08|          20050|                  01|      117|              30|          0|                      1|                      1|      4572|                   |                 |                          |    GINACA|                |       JOSE ANTONIO|                  5|          M|1965-06-08|                    80|                 080|                  201|        100|                          |                          82|                       21101000|                       0|                    null|                      null|                    null|                      null|                           2|                29|                       0|                  0|                  6|                       null|             null|            PCLE861|                2|                              1|                  AC|                   46|              null|            null|                    |                        21|   0020173709472|                       042|                null|          013|       000640077|                   N|                   |     001|           2010-06-25|                     null|                1993-06-08|    2022-02-21|              052701|                   B|          VUELCO|            N|                     null|             2015-06-01| 2022-03-10 01:05:...|REL.DEPENDENCIA/FIJO|\n",
            "|   21241089|                      1|                  0|            06|EL SALVADOR      ...|           0005751|                          N|         3       |             |                  ...|CIUDAD AUTONOMA B...|   CAPITAL FEDERAL  ...|     01414|       C1414BQG|         01|               080|                   ...|                        0|              null|                 null|                    NO VERIF  |             2009-01-26|                  00|                 CTES|                 0|               NORM AUTO |               CO        |        2009-01-26|                         0.00|                    |                     |                       |                      |                    |                      |                          0000|                        0000|                       0|         2009-01-26|        PCLE07Q |      2009-01-26|           PCLE07Q |              155342|                   BAT |                -| 2022-01-13 21:32:...|           00|0000013143653|    2015-03-17|          10000|                  00|      603|              34|          0|                      1|                      8|      2603|                   |                 |                          |   ENRIQUE|                |          RAUL ABEL|                  1|          M|1957-07-18|                    80|                 080|                  201|        100|                         0|                          82|                       21101000|                       0|                    null|                      null|                    null|                      null|                           0|                 0|                       0|                  0|                  0|                       null|             null|            PCLE06R|                1|                              1|                  PO|                   47|              null|            null|                    |                      null|   0020131436530|                       042|                null|          016|       021241089|                   N|                 MD|     001|           2015-03-17|                     null|                2015-03-17|    2015-03-17|              230125|                P37B|         PCLE25H|            S|                     null|                   null| 2022-03-10 01:05:...|REL.DEPENDENCIA/FIJO|\n",
            "|   00731569|                      1|                  0|            06|BLANCO ENCALADA  ...|           0002851|                          N|         5       |      H      |                  ...|CIUDAD AUTONOMA B...|   CAPITAL FEDERAL  ...|     01428|       C1428DDU|         01|               080|                   ...|                        0|              null|                 null|                    NO VERIF  |             2009-01-26|                  00|                 CTES|                 0|               NORM AUTO |               CO        |        2009-01-26|                         0.00|                    |                     |                       |                      |                    |                      |                          0000|                        0000|                       0|         2009-01-26|        PCLE07Q |      2009-01-26|           PCLE07Q |              155342|                   BAT |                -| 2022-01-13 21:32:...|           00|0000013144821|    1996-04-23|          10000|                    |      321|              30|          0|                      1|                      1|      4631|                   |                 |                          |      SOSA|                |             ADOLFO|                  5|          M|1959-07-04|                    80|                 080|                  201|        100|                         0|                          82|                       21101000|                       0|                    null|                      null|                    null|                      null|                           2|                17|                       0|                  0|                  3|                       null|             null|            PCLE825|                2|                              1|                  AC|                   35|              null|            null|                    |                        21|   0020131448210|                       042|                null|          007|                |                   N|                   |     001|           2009-10-19|                     null|                1996-04-23|    2022-02-21|              125638|                   B|          VUELCO|            N|                     null|             2016-07-15| 2022-03-10 01:05:...|REL.DEPENDENCIA/FIJO|\n",
            "|   26919628|                      1|                  0|            06|GAONA            ...|           0001402|                          N|                 |             |                  ...|BANFIELD         ...|   LOMAS DE ZAMORA  ...|     01828|       B1828EAD|         02|               080|                   ...|                        0|              null|                 null|                    NO VERIF  |             2009-01-26|                  00|                 CTES|                 0|               NORM AUTO |               CO        |        2009-01-26|                         0.00|                    |                     |                       |                      |                    |                      |                          0000|                        0000|                       0|         2009-01-26|        PCLE07Q |      2009-01-26|           PCLE07Q |              155342|                   BAT |                -| 2022-01-13 21:32:...|           00|0000039771587|    2020-05-27|          10000|                  01|      136|              34|          0|                      1|                      1|       479|                080|                 |                          |   SEGOVIA|                |      TAMARA NICOLE|                  5|          F|1996-03-06|                    80|                 080|                  201|        100|                         0|                          82|                       22999000|                       0|                    null|                      null|                    null|                      null|                            |                28|                       0|                  0|                  1|                       null|             null|            PCLE06M|                2|                              2|                  AC|                   50|              null|            null|                    |                      null|   0027397715871|                       042|                null|          036|       026919628|                   N|                   |     004|           2020-07-22|                     null|                2020-05-27|    2020-11-16|              194645|                P37B|         PCLE15W|            N|                     null|             2020-07-22| 2022-03-10 01:05:...|                   -|\n",
            "|   24856730|                      1|                  0|            06|AV CORDOBA       ...|           0002122|                          N|                 |             |                  ...|CIUDAD AUTONOMA B...|   CAPITAL FEDERAL  ...|     01120|       C1120AAQ|         01|               080|                   ...|                        0|              null|                 null|                    NO VERIF  |             2009-01-26|                  00|                 CTES|                 0|               NORM AUTO |               CO        |        2009-01-26|                         0.00|                    |                     |                       |                      |                    |                      |                          0000|                        0000|                       0|         2009-01-26|        PCLE07Q |      2009-01-26|           PCLE07Q |              155342|                   BAT |                -| 2022-01-13 21:32:...|           00|0000036643239|    2018-10-22|          10000|                  00|      603|              34|          0|                      1|                      8|      2603|                   |                 |                          |    ZANDRI|                |      MATIAS DANIEL|                  1|          M|1992-08-27|                    80|                 080|                  201|        100|                         0|                          82|                       21101000|                       0|                    null|                      null|                    null|                      null|                           0|                 0|                       0|                  0|                  0|                       null|             null|            PCLE06R|                1|                              1|                  PO|                   47|              null|            null|                    |                      null|   0020366432397|                       042|                null|          016|       024856730|                   N|                 MD|     001|           2018-10-22|                     null|                2018-10-22|    2018-10-22|              003147|                P37B|         PCLE25H|            S|                     null|                   null| 2022-03-10 01:05:...|REL.DEPENDENCIA/FIJO|\n",
            "+-----------+-----------------------+-------------------+--------------+--------------------+------------------+---------------------------+-----------------+-------------+---------------------+--------------------+-----------------------+----------+---------------+-----------+------------------+----------------------+-------------------------+------------------+---------------------+------------------------------+-----------------------+--------------------+---------------------+------------------+-------------------------+-------------------------+------------------+-----------------------------+--------------------+---------------------+-----------------------+----------------------+--------------------+----------------------+------------------------------+----------------------------+------------------------+-------------------+----------------+----------------+-------------------+--------------------+-----------------------+-----------------+---------------------+-------------+-------------+--------------+---------------+--------------------+---------+----------------+-----------+-----------------------+-----------------------+----------+-------------------+-----------------+--------------------------+----------+----------------+-------------------+-------------------+-----------+----------+----------------------+--------------------+---------------------+-----------+--------------------------+----------------------------+-------------------------------+------------------------+------------------------+--------------------------+------------------------+--------------------------+----------------------------+------------------+------------------------+-------------------+-------------------+---------------------------+-----------------+-------------------+-----------------+-------------------------------+--------------------+---------------------+------------------+----------------+--------------------+--------------------------+----------------+--------------------------+--------------------+-------------+----------------+--------------------+-------------------+--------+---------------------+-------------------------+--------------------------+--------------+--------------------+--------------------+----------------+-------------+-------------------------+-----------------------+---------------------+--------------------+\n",
            "only showing top 20 rows\n",
            "\n"
          ]
        }
      ]
    },
    {
      "cell_type": "markdown",
      "source": [
        "### - 26 - Extraccion de datos desde .parquet, clientes y correos electrónicos\n",
        "#### Crear un DataFrame que contenga el JOIN de la tabla t_abtq_customer_basics y tabla t_abtq_customer_email.   "
      ],
      "metadata": {
        "id": "D0SjaTWftWxp"
      }
    },
    {
      "cell_type": "code",
      "source": [
        "df_customer_emails = df_emails.join(df_customer, 'customer_id')"
      ],
      "metadata": {
        "id": "MFOQeJsFkBVb"
      },
      "execution_count": null,
      "outputs": []
    },
    {
      "cell_type": "code",
      "source": [
        "df_customer_emails.show()"
      ],
      "metadata": {
        "id": "KQdpYwwzaoop",
        "colab": {
          "base_uri": "https://localhost:8080/"
        },
        "outputId": "8f3c0959-ec05-407c-d61a-7aa284fafe62"
      },
      "execution_count": null,
      "outputs": [
        {
          "output_type": "stream",
          "name": "stdout",
          "text": [
            "+-----------+---------+-------------------+--------------+----------+------------------+--------------------+-----------------+--------------+-------------------+----------------+--------------------------+--------------+----------------+-------------------+--------------------+-----------------------+---------------------+--------------------------+-------------------+----------------+-------------+-------------+--------------+---------------+--------------------+---------+----------------+-----------+-----------------------+-----------------------+----------+-------------------+-----------------+--------------------------+------------------+----------------+-----------------+-------------------+-----------+----------+----------------------+--------------------+---------------------+-----------+--------------------------+----------------------------+-------------------------------+------------------------+------------------------+--------------------------+------------------------+--------------------------+----------------------------+------------------+------------------------+-------------------+-------------------+---------------------------+-----------------+-------------------+-----------------+-------------------------------+--------------------+---------------------+------------------+----------------+--------------------+--------------------------+----------------+--------------------------+--------------------+-------------+----------------+--------------------+-------------------+--------+---------------------+-------------------------+--------------------------+--------------+--------------------+--------------------+----------------+-------------+-------------------------+-----------------------+---------------------+--------------------+\n",
            "|customer_id|role_type|address_sequence_id|residence_type|email_type|primary_email_type|          email_desc|email_domain_type|encripted_type|field_length_number|   comments_desc|customer_email_status_type|email_app_type|register_user_id|last_change_user_id|last_change_hms_date|last_change_terminal_id|operational_load_date|customer_email_status_date|registry_entry_date|last_change_date|personal_type|  personal_id|admission_date|sale_channel_id|operation_channel_id|branch_id|business_area_id|campaing_id|customer_situation_type|customer_condition_type|manager_id|tracking_manager_id|credit_manager_id|credit_recovery_manager_id|         last_name|second_last_name|       first_name|marital_status_type|gender_type|birth_date|country_nationality_id|residence_country_id|customer_subject_type|sector_type|customer_level_access_type|cust_bcra_econ_activity_type|internal_economic_activity_type|bbva_inhabilitation_type|customer_block_bbva_date|customer_unblock_bbva_date|customer_block_bcra_date|customer_unblock_bcra_date|customer_pending_notice_type|last_notice_number|last_reference_number_id|last_service_number|last_address_number|last_unlinking_account_date|customer_end_date|last_change_user_id|customer_pep_type|bbva_family_lnk_weighted_number|customer_status_type|scoring_activity_type|refinancing_number|refinancing_date|coholder_customer_id|customer_bcra_situation_id|customer_cuit_id|customer_position_vat_type|balance_closing_date|profession_id|bbva_cust_number|customer_linked_type|customer_entry_type|job_type|profession_start_date|customer_first_block_date|customer_registration_date|l_c_d_customer|last_change_hms_date|register_terminal_id|register_user_id|customer_type|customer_seniority_number|last_status_change_date|operational_load_date|       job_type_desc|\n",
            "+-----------+---------+-------------------+--------------+----------+------------------+--------------------+-----------------+--------------+-------------------+----------------+--------------------------+--------------+----------------+-------------------+--------------------+-----------------------+---------------------+--------------------------+-------------------+----------------+-------------+-------------+--------------+---------------+--------------------+---------+----------------+-----------+-----------------------+-----------------------+----------+-------------------+-----------------+--------------------------+------------------+----------------+-----------------+-------------------+-----------+----------+----------------------+--------------------+---------------------+-----------+--------------------------+----------------------------+-------------------------------+------------------------+------------------------+--------------------------+------------------------+--------------------------+----------------------------+------------------+------------------------+-------------------+-------------------+---------------------------+-----------------+-------------------+-----------------+-------------------------------+--------------------+---------------------+------------------+----------------+--------------------+--------------------------+----------------+--------------------------+--------------------+-------------+----------------+--------------------+-------------------+--------+---------------------+-------------------------+--------------------------+--------------+--------------------+--------------------+----------------+-------------+-------------------------+-----------------------+---------------------+--------------------+\n",
            "|   26205399|       CL|                  1|             1|  PERSONAL|                 0|   DIONISI@YAHOO.COM|              COM|              |                 30|                |                 DECLARADO|          CTES|         A115641|            A115641|            14:33:37|                   9776| 2021-12-09 19:39:...|                2019-12-27|         2019-12-27|      2019-12-27|           00|0000038866205|    2019-08-30|          10000|                  01|      995|              34|          0|                      1|                      8|      2603|                   |             PVTA|                          |           VAZQUEZ|                |       JUAN PABLO|                  5|          M|1995-05-05|                    80|                 080|                  201|        100|                         0|                          82|                       21101000|                       0|                    null|                      null|                    null|                      null|                           0|                 0|                       0|                  0|                  0|                       null|             null|            PCLE06R|                1|                              1|                  PO|                    4|              null|            null|                    |                      null|   0000000000000|                       042|                null|          016|       026205399|                   N|                 MD|     001|           2019-08-30|                     null|                2019-08-30|    2019-08-30|              092342|                P37B|        VW2CEVA0|            S|                     null|                   null| 2022-03-10 01:05:...|REL.DEPENDENCIA/FIJO|\n",
            "|   03933825|       CL|                  1|             1|  PERSONAL|                 0|DIGITALIZACION@EE...|              COM|             N|                 30|                |                 DECLARADO|          CTES|          a48751|                   |                    |                   EECC| 2021-12-09 19:39:...|                1900-01-01|         1900-01-01|      1900-01-01|           00|0000025583974|    2011-07-13|          10000|                  00|      177|              34|          0|                      1|                      1|       600|                   |                 |                          |              SOSA|                |    MARIA CECILIA|                  1|          F|1977-08-04|                    80|                 080|                  201|        100|                         0|                          82|                       21101000|                       0|                    null|                      null|                    null|                      null|                           0|                 0|                       0|                  0|                  1|                       null|             null|            PCLE06R|                1|                              1|                  PO|                   47|              null|            null|                    |                      null|   0027255839743|                       042|                null|          016|       003933825|                   N|                   |     001|           2011-07-13|                     null|                2011-07-13|    2011-07-13|              161542|                P37B|         PCLE10P|            S|                     null|                   null| 2022-03-10 01:05:...|REL.DEPENDENCIA/FIJO|\n",
            "|   02382514|       CL|                  1|             2|  PERSONAL|                 0|admin@argenpower....|              com|             N|                 30|VUELCO FRONT END|                  NO VERIF|          VLCO|                |           GPROBANK|            12:00:00|                       | 2021-12-09 19:39:...|                2007-12-12|         2001-12-27|      2002-07-03|           00|0000038008979|    2010-04-23|          10000|                  00|      325|              34|          0|                      1|                      1|       619|                   |                 |                          |          MOLINARI|                | ELIZABETH NATALI|                  5|          F|1993-02-27|                    80|                 080|                  201|        100|                         0|                          82|                       21101000|                       0|                    null|                      null|                    null|                      null|                            |                 0|                       0|                  0|                  2|                       null|             null|            PCLE861|                2|                              1|                  CA|                   47|              null|            null|                    |                      null|   0027380089799|                       042|                null|          016|       002382514|                   N|                   |     001|           2010-06-15|                     null|                2010-04-23|    2010-06-15|              044125|                P37B|          VUELCO|            S|                     null|                   null| 2022-03-10 01:05:...|REL.DEPENDENCIA/FIJO|\n",
            "|   24856730|       CL|                  1|             1|  PERSONAL|                 0|elenafmoores@gmai...|              COM|              |                 30|                |                  VALIDADO|          FNET|                |           GPROBANK|            09:37:40|                   Y34D| 2021-12-09 19:39:...|                2015-02-03|         2005-07-20|      2015-02-03|           00|0000036643239|    2018-10-22|          10000|                  00|      603|              34|          0|                      1|                      8|      2603|                   |                 |                          |            ZANDRI|                |    MATIAS DANIEL|                  1|          M|1992-08-27|                    80|                 080|                  201|        100|                         0|                          82|                       21101000|                       0|                    null|                      null|                    null|                      null|                           0|                 0|                       0|                  0|                  0|                       null|             null|            PCLE06R|                1|                              1|                  PO|                   47|              null|            null|                    |                      null|   0020366432397|                       042|                null|          016|       024856730|                   N|                 MD|     001|           2018-10-22|                     null|                2018-10-22|    2018-10-22|              003147|                P37B|         PCLE25H|            S|                     null|                   null| 2022-03-10 01:05:...|REL.DEPENDENCIA/FIJO|\n",
            "|   21440084|       CL|                  1|             1|  PERSONAL|                 0|ANGEL.MANA@GMAIL.COM|              COM|              |                 30|                |                 DECLARADO|          WKFL|         a110227|            A110227|            17:03:58|                   EECC| 2021-12-09 19:39:...|                2018-08-14|         2018-08-14|      2018-08-14|           00|0000025664035|    2015-04-23|          10000|                  00|      603|              34|          0|                      1|                      8|      2603|                   |                 |                          |             RICCI|                |     PAULA AMANDA|                  1|          F|1976-11-04|                    80|                 080|                  201|        100|                         0|                          82|                       21101000|                       0|                    null|                      null|                    null|                      null|                           0|                 0|                       0|                  0|                  0|                       null|             null|            PCLE06R|                1|                              1|                  PO|                   47|              null|            null|                    |                      null|   0027256640355|                       042|                null|          016|       021440084|                   N|                 MD|     001|           2015-04-23|                     null|                2015-04-23|    2015-04-23|              231348|                P37B|         PCLE25H|            S|                     null|                   null| 2022-03-10 01:05:...|REL.DEPENDENCIA/FIJO|\n",
            "|   22090564|       CL|                  1|             1|  PERSONAL|                 0|alien99@ciudad.co...|              com|             N|                 30|VUELCO FRONT END|                  NO VERIF|          VLCO|                |            PCLE11O|            18:14:49|                       | 2021-12-09 19:39:...|                2007-12-12|         2002-10-15|      2009-06-27|           00|0000037041842|    2015-10-28|          10000|                  01|      603|              34|          0|                      1|                      8|      2603|                   |                 |                          |             NIZZI|                |         FORENCIA|                  5|          F|1992-08-14|                    80|                 080|                  201|        100|                         0|                          82|                       21101000|                       0|                    null|                      null|                    null|                      null|                           0|                 0|                       0|                  0|                  0|                       null|             null|            PCLE06R|                1|                              1|                  PO|                   47|              null|            null|                    |                      null|   0000000000000|                       042|                null|          016|       022090564|                   N|                 MD|     001|           2015-10-28|                     null|                2015-10-28|    2015-10-28|              011009|                P37B|        UPROFRGO|            S|                     null|                   null| 2022-03-10 01:05:...|REL.DEPENDENCIA/FIJO|\n",
            "|   04161701|       CL|                  1|             1|  PERSONAL|                 0|DANIELTUSET79@GMA...|              COM|              |                 30|                |                 DECLARADO|          CTES|         A115866|            A115866|            15:36:23|                   8W03| 2021-12-09 19:39:...|                2017-07-05|         2017-07-05|      2017-07-05|           28|0000001718995|    1998-04-13|          10000|                  01|      116|              34|          0|                      1|                      1|       397|                   |                 |                          |           GHIDINI|                | YOLANDA VIRGINIA|                  2|          F|1935-10-29|                    80|                 080|                  201|        100|                         0|                          82|                       21101000|                       0|                    null|                      null|                    null|                      null|                           0|                 0|                       0|                  0|                  0|                       null|             null|            PCLE25Q|                0|                              1|                  CA|                   47|              null|            null|                    |                      null|   0027017189951|                       042|                null|          016|       004161701|                   N|                   |     001|           2009-01-01|                     null|                1998-04-13|    1998-07-05|              165659|                P37B|          VUELCO|            S|                     null|                   null| 2022-03-10 01:05:...|REL.DEPENDENCIA/FIJO|\n",
            "|   19667033|       CL|                  1|             1|  PERSONAL|                 0|lindocampo@yahoo.com|              com|             N|                 30|VUELCO FRONT END|                  NO VERIF|          VLCO|                |            PCLE11O|            18:14:49|                       | 2021-12-09 19:39:...|                2007-12-12|         2001-07-19|      2009-06-27|           31|0000093738322|    2012-10-18|          10000|                  00|      114|              34|          0|                      1|                      1|       386|                   |                 |                          |QUINTERO FERNANDEZ|                | MARIA DEL CARMEN|                  5|          F|1958-10-19|                    10|                 080|                  201|        100|                         0|                          82|                       21101000|                       0|                    null|                      null|                    null|                      null|                            |                 0|                       0|                  0|                  2|                       null|             null|            PCLE06R|                2|                              1|                  CA|                   47|              null|            null|                    |                      null|   0027937383229|                       042|                null|          012|       019667033|                   N|                   |     001|           2012-11-29|                     null|                2012-10-18|    2017-09-13|              184725|                P37B|         PCLE10P|            S|                     null|                   null| 2022-03-10 01:05:...|REL.DEPENDENCIA/FIJO|\n",
            "|   28993945|       CL|                  1|             1|  PERSONAL|                 0|navyig@fibertel.c...|              COM|             N|                 30|                |                  NO VERIF|          VLCO|                |            PCLE11O|            18:14:49|                   Y60C| 2021-12-09 19:39:...|                2007-12-12|         2005-06-16|      2009-06-27|           00|0000037047136|    2022-03-08|          10000|                  00|      603|              30|          0|                      1|                      8|      2603|                   |                 |                          |              SAEZ|                | MIGUEL ALEJANDRO|                  1|          M|1992-09-08|                    80|                 080|                  201|        100|                         0|                          82|                       21101000|                       0|                    null|                      null|                    null|                      null|                           0|                 0|                       0|                  0|                  0|                       null|             null|            PCLE25H|                1|                              0|                    |                   47|              null|            null|                    |                      null|   0020370471364|                       042|                null|          016|       028993945|                   N|                 MD|     001|           2022-03-08|                     null|                2022-03-08|    2022-03-08|              003155|                 BAT|         PCLE25H|             |                     null|                   null| 2022-03-10 01:05:...|REL.DEPENDENCIA/FIJO|\n",
            "|   04936761|       CL|                  1|             1|  PERSONAL|                -1|PAPO.ARZUBIAGA@FA...|                 |              |                 30|                |                 DECLARADO|          FNET|        GPROBANK|                   |            04:06:16|                   4ZHI| 2021-12-09 19:39:...|                2012-02-02|         2012-02-02|      2012-02-02|           31|0000093708334|    1999-10-26|          10000|                  01|        5|              34|          0|                      1|                      1|        34|                   |                 |                          |          ALENCHIK|                |       VIACHESLAV|                  5|          M|1964-04-06|                    40|                 080|                  201|        100|                         0|                          82|                       21101000|                       0|                    null|                      null|                    null|                      null|                           0|                 0|                       0|                  0|                  1|                       null|             null|            PCLE06R|                0|                              1|                  CA|                   47|              null|            null|                    |                      null|   0020937083344|                       062|                null|          016|       004936761|                   N|                   |     001|           2009-01-01|                     null|                1999-10-26|    2002-03-22|              111123|                P37B|          VUELCO|            S|                     null|                   null| 2022-03-10 01:05:...|REL.DEPENDENCIA/FIJO|\n",
            "|   08730022|       CL|                  2|             1|  PERSONAL|                 0| NOTIENE@HOTMAIL.COM|              COM|              |                 30|                |                 DECLARADO|          WKFL|         a126585|            A126585|            11:56:30|                   EECC| 2021-12-09 19:39:...|                2018-09-28|         2018-09-28|      2018-09-28|           00|0000017560362|    2008-06-30|          10000|                  00|       72|              34|          0|                      1|                      1|        46|                   |                 |                          |        BELTRAMINO|                |CECILIA ELIZABETH|                  1|          F|1970-09-26|                    80|                 080|                  201|        100|                         0|                          82|                       21101000|                       0|                    null|                      null|                    null|                      null|                           0|                 0|                       0|                  0|                  1|                       null|             null|            PCLE06R|                0|                              1|                  PO|                   47|              null|            null|                    |                      null|   0027175603625|                       042|                null|          016|       008730022|                   N|                   |     001|           2009-01-01|                     null|                2008-06-30|    2008-06-30|              161639|                P37B|          VUELCO|            S|                     null|                   null| 2022-03-10 01:05:...|REL.DEPENDENCIA/FIJO|\n",
            "|   08730022|       CL|                  1|             1|  PERSONAL|                 0|DIGITALIZACION@EE...|              COM|             N|                 30|                |                 DECLARADO|          CTES|         a127445|            A127445|            14:00:52|                   2833| 2021-12-09 19:39:...|                1900-01-01|         1900-01-01|      2017-07-19|           00|0000017560362|    2008-06-30|          10000|                  00|       72|              34|          0|                      1|                      1|        46|                   |                 |                          |        BELTRAMINO|                |CECILIA ELIZABETH|                  1|          F|1970-09-26|                    80|                 080|                  201|        100|                         0|                          82|                       21101000|                       0|                    null|                      null|                    null|                      null|                           0|                 0|                       0|                  0|                  1|                       null|             null|            PCLE06R|                0|                              1|                  PO|                   47|              null|            null|                    |                      null|   0027175603625|                       042|                null|          016|       008730022|                   N|                   |     001|           2009-01-01|                     null|                2008-06-30|    2008-06-30|              161639|                P37B|          VUELCO|            S|                     null|                   null| 2022-03-10 01:05:...|REL.DEPENDENCIA/FIJO|\n",
            "|   03875505|       CL|                  1|             1|  PERSONAL|                 0| BZELMAN@HOTMAIL.COM|                 |             N|                 30|                |                  VALIDADO|          FNET|        GPROBANK|           GPROBANK|            15:12:44|                   4ZJM| 2021-12-09 19:39:...|                2012-07-13|         2012-07-13|      2012-07-13|           00|0000036735732|    2011-05-23|          10000|                  01|      144|              34|          0|                      1|                      1|       215|                   |                 |                          |          SPERANZA|                |           CAMILA|                  5|          F|1992-01-29|                    80|                 080|                  201|        100|                         0|                          82|                       21101000|                       0|                    null|                      null|                    null|                      null|                            |                 0|                       0|                  0|                  1|                       null|             null|            PCLE06R|                2|                              1|                  PO|                   50|              null|            null|                    |                      null|   0027367357326|                       042|                null|          034|       003875505|                   N|                   |     004|           2011-05-23|                     null|                2011-05-23|    2011-05-23|              035525|                P37B|          A90180|            S|                     null|                   null| 2022-03-10 01:05:...|                   -|\n",
            "|   27124230|       CL|                  3|             1|  PERSONAL|                 0|DIGITALIZACION@EE...|              COM|             N|                 30|                |                 DECLARADO|          CTES|         a115124|                   |                    |                   EECC| 2021-12-09 19:39:...|                1900-01-01|         1900-01-01|      1900-01-01|           00|0000038907239|    2020-07-30|          10000|                  00|      603|              34|          0|                      1|                      8|      2603|                   |                 |                          |          CASTILLO|                |    CRISTIAN HUGO|                  1|          M|1995-04-06|                    80|                 080|                  201|        100|                         0|                          82|                       21101000|                       0|                    null|                      null|                    null|                      null|                           0|                 0|                       0|                  0|                  0|                       null|             null|            PCLE06R|                1|                              1|                  PO|                   47|              null|            null|                    |                      null|   0020389072398|                       042|                null|          016|       027124230|                   N|                 MD|     001|           2020-07-30|                     null|                2020-07-30|    2020-07-30|              003119|                P37B|         PCLE25H|            S|                     null|                   null| 2022-03-10 01:05:...|REL.DEPENDENCIA/FIJO|\n",
            "|   27124230|       CL|                  2|             1|  PERSONAL|                 0|LAU_RINA@LIVE.COM.AR|              COM|              |                 30|                |                 DECLARADO|          WKFL|        GPROBANK|            a115124|            10:05:45|                   EECC| 2021-12-09 19:39:...|                2018-04-16|         2012-12-06|      2018-04-16|           00|0000038907239|    2020-07-30|          10000|                  00|      603|              34|          0|                      1|                      8|      2603|                   |                 |                          |          CASTILLO|                |    CRISTIAN HUGO|                  1|          M|1995-04-06|                    80|                 080|                  201|        100|                         0|                          82|                       21101000|                       0|                    null|                      null|                    null|                      null|                           0|                 0|                       0|                  0|                  0|                       null|             null|            PCLE06R|                1|                              1|                  PO|                   47|              null|            null|                    |                      null|   0020389072398|                       042|                null|          016|       027124230|                   N|                 MD|     001|           2020-07-30|                     null|                2020-07-30|    2020-07-30|              003119|                P37B|         PCLE25H|            S|                     null|                   null| 2022-03-10 01:05:...|REL.DEPENDENCIA/FIJO|\n",
            "|   27124230|       CL|                  1|             1|  PERSONAL|                 0|RINA_LAU@ARNET.CO...|              COM|              |                 30|                |                 DECLARADO|          WKFL|                |            a117517|            14:55:12|                   EECC| 2021-12-09 19:39:...|                2019-09-04|         2005-10-26|      2019-09-04|           00|0000038907239|    2020-07-30|          10000|                  00|      603|              34|          0|                      1|                      8|      2603|                   |                 |                          |          CASTILLO|                |    CRISTIAN HUGO|                  1|          M|1995-04-06|                    80|                 080|                  201|        100|                         0|                          82|                       21101000|                       0|                    null|                      null|                    null|                      null|                           0|                 0|                       0|                  0|                  0|                       null|             null|            PCLE06R|                1|                              1|                  PO|                   47|              null|            null|                    |                      null|   0020389072398|                       042|                null|          016|       027124230|                   N|                 MD|     001|           2020-07-30|                     null|                2020-07-30|    2020-07-30|              003119|                P37B|         PCLE25H|            S|                     null|                   null| 2022-03-10 01:05:...|REL.DEPENDENCIA/FIJO|\n",
            "|   26193940|       CL|                  1|             1|  PERSONAL|                 0|AILINMICHAELFUENT...|              COM|              |                 30|                |                  VALIDADO|          FNET|        UPRONETC|           GPROBANK|            16:53:56|                   4ZKC| 2021-12-09 19:39:...|                2021-01-28|         2021-01-25|      2021-01-28|           00|0000025565228|    2019-08-22|          10000|                  01|      104|              34|          0|                      1|                      8|      2603|                   |             PVTA|                          |            SUAREZ|                |        FRANCISCO|                  5|          M|1976-11-25|                    80|                 080|                  201|        100|                         0|                          82|                       21101000|                       0|                    null|                      null|                    null|                      null|                           0|                 0|                       0|                  0|                  0|                       null|             null|            PCLE06R|                1|                              1|                  PO|                    4|              null|            null|                    |                      null|   0000000000000|                       042|                null|          016|       026193940|                   N|                 MD|     001|           2019-08-22|                     null|                2019-08-22|    2019-08-22|              124439|                P37B|        VW2CEVA0|            S|                     null|                   null| 2022-03-10 01:05:...|REL.DEPENDENCIA/FIJO|\n",
            "|   26054589|       CL|                  2|             1|  PERSONAL|                 0|JORGEPINELLI@YAHO...|              COM|              |                 30|                |                 DECLARADO|          WKFL|        GPROBANK|             a31047|            14:17:39|                   EECC| 2021-12-09 19:39:...|                2019-12-18|         2017-12-07|      2019-12-18|           00|0000037866157|    2019-07-23|          10000|                  00|      603|              34|          0|                      1|                      8|      2603|                   |                 |                          |             HWANG|                |  DAIANA STEFANIA|                  1|          F|1993-10-06|                    80|                 080|                  201|        100|                         0|                          82|                       21101000|                       0|                    null|                      null|                    null|                      null|                           0|                 0|                       0|                  0|                  0|                       null|             null|            PCLE06R|                1|                              1|                  PO|                   47|              null|            null|                    |                      null|   0027378661574|                       042|                null|          016|       026054589|                   N|                 MD|     001|           2019-07-23|                     null|                2019-07-23|    2019-07-23|              003051|                P37B|         PCLE25H|            S|                     null|                   null| 2022-03-10 01:05:...|REL.DEPENDENCIA/FIJO|\n",
            "|   26054589|       CL|                  1|             1|  PERSONAL|                 0|JORGEPINELLI@YAHO...|              COM|             N|                 30|                |                  VALIDADO|          FNET|         a126947|           GPROBANK|            10:36:22|                   4ZGN| 2021-12-09 19:39:...|                2020-01-29|         1900-01-01|      2020-01-29|           00|0000037866157|    2019-07-23|          10000|                  00|      603|              34|          0|                      1|                      8|      2603|                   |                 |                          |             HWANG|                |  DAIANA STEFANIA|                  1|          F|1993-10-06|                    80|                 080|                  201|        100|                         0|                          82|                       21101000|                       0|                    null|                      null|                    null|                      null|                           0|                 0|                       0|                  0|                  0|                       null|             null|            PCLE06R|                1|                              1|                  PO|                   47|              null|            null|                    |                      null|   0027378661574|                       042|                null|          016|       026054589|                   N|                 MD|     001|           2019-07-23|                     null|                2019-07-23|    2019-07-23|              003051|                P37B|         PCLE25H|            S|                     null|                   null| 2022-03-10 01:05:...|REL.DEPENDENCIA/FIJO|\n",
            "|   03169528|       CL|                  2|             1|  PERSONAL|                 0|   MABRU@HOTMAIL.COM|                 |             N|                 30|                |                  VALIDADO|          FNET|        GPROBANK|           GPROBANK|            12:38:49|                   4ZIB| 2021-12-09 19:39:...|                2016-10-06|         2016-10-06|      2016-10-06|           00|0000011537731|    1997-01-16|          20050|                  01|      332|              34|          0|                      1|                      1|       628|                   |                 |                          |            LARREA|                |VIVIANE ELIZABETH|                  1|          F|1955-05-02|                    80|                 080|                  201|        100|                          |                          82|                       21101000|                       0|                    null|                      null|                    null|                      null|                            |                 0|                       0|                  0|                  3|                       null|             null|            PCLE07V|                0|                              1|                  CA|                   47|              null|            null|                    |                      null|   0027115377316|                       055|                null|          016|       001013960|                   N|                   |     001|           2009-01-01|                     null|                1997-01-16|    2007-11-02|              170915|                P37B|          VUELCO|            S|                     null|                   null| 2022-03-10 01:05:...|REL.DEPENDENCIA/FIJO|\n",
            "+-----------+---------+-------------------+--------------+----------+------------------+--------------------+-----------------+--------------+-------------------+----------------+--------------------------+--------------+----------------+-------------------+--------------------+-----------------------+---------------------+--------------------------+-------------------+----------------+-------------+-------------+--------------+---------------+--------------------+---------+----------------+-----------+-----------------------+-----------------------+----------+-------------------+-----------------+--------------------------+------------------+----------------+-----------------+-------------------+-----------+----------+----------------------+--------------------+---------------------+-----------+--------------------------+----------------------------+-------------------------------+------------------------+------------------------+--------------------------+------------------------+--------------------------+----------------------------+------------------+------------------------+-------------------+-------------------+---------------------------+-----------------+-------------------+-----------------+-------------------------------+--------------------+---------------------+------------------+----------------+--------------------+--------------------------+----------------+--------------------------+--------------------+-------------+----------------+--------------------+-------------------+--------+---------------------+-------------------------+--------------------------+--------------+--------------------+--------------------+----------------+-------------+-------------------------+-----------------------+---------------------+--------------------+\n",
            "only showing top 20 rows\n",
            "\n"
          ]
        }
      ]
    },
    {
      "cell_type": "markdown",
      "source": [
        "# Filtrar datos, reducir volumen"
      ],
      "metadata": {
        "id": "v898pfOnvE_d"
      }
    },
    {
      "cell_type": "markdown",
      "source": [
        "####- 27 - Filtrar el DataFrame de contactos telefónicos de clientes y resguardar los 3 contactos más actuales por cliente."
      ],
      "metadata": {
        "id": "cMRaId42aHMV"
      }
    },
    {
      "cell_type": "code",
      "source": [
        "df_customer_phones_sorted = df_customer_phones.orderBy([df_customer_phones.customer_id, desc('last_change_date')])"
      ],
      "metadata": {
        "id": "q_ftH3XKWwRS"
      },
      "execution_count": null,
      "outputs": []
    },
    {
      "cell_type": "code",
      "source": [
        "window = Window.partitionBy(df_customer_phones_sorted.customer_id).orderBy(desc(df_customer_phones_sorted.last_change_date))"
      ],
      "metadata": {
        "id": "fRs0zhTdXDtA"
      },
      "execution_count": null,
      "outputs": []
    },
    {
      "cell_type": "code",
      "source": [
        "df_phone_contact = df_customer_phones_sorted.withColumn('row_num', row_number().over(window))\n",
        "df_phone_contact = df_phone_contact.filter(df_phone_contact.row_num <= 3)"
      ],
      "metadata": {
        "id": "kUN3ajuZXFvz"
      },
      "execution_count": null,
      "outputs": []
    },
    {
      "cell_type": "code",
      "source": [
        "df_phone_contact = df_phone_contact.withColumn(\"full_phone\", concat_ws(\"-\", 'prefix_phone_id', 'phone_area_id', 'phone_exchange_id', 'phone_line_id'))"
      ],
      "metadata": {
        "id": "M_SLPUIEvXso"
      },
      "execution_count": null,
      "outputs": []
    },
    {
      "cell_type": "code",
      "source": [
        "df_pivot_pc = df_phone_contact.groupBy('customer_id').agg(collect_list('full_phone').alias('last_3_changes_list'))"
      ],
      "metadata": {
        "id": "K-AIfg0_c423"
      },
      "execution_count": null,
      "outputs": []
    },
    {
      "cell_type": "code",
      "source": [
        "df_pivot_phone = df_pivot_pc.selectExpr('customer_id', 'last_3_changes_list[0] as phone_1', 'last_3_changes_list[1] as phone_2', 'last_3_changes_list[2] as phone_3')"
      ],
      "metadata": {
        "id": "wklSvSASfGbH"
      },
      "execution_count": null,
      "outputs": []
    },
    {
      "cell_type": "code",
      "source": [
        "df_pivot_phone = df_pivot_phone.na.fill('---')\n",
        "df_pivot_phone.show()"
      ],
      "metadata": {
        "id": "m2D8d8s7hlUR",
        "colab": {
          "base_uri": "https://localhost:8080/"
        },
        "outputId": "5a17cabe-50e5-4af0-a18a-5a6cb22c387b"
      },
      "execution_count": null,
      "outputs": [
        {
          "output_type": "stream",
          "name": "stdout",
          "text": [
            "+-----------+---------------+---------------+-------+\n",
            "|customer_id|        phone_1|        phone_2|phone_3|\n",
            "+-----------+---------------+---------------+-------+\n",
            "|   00221785|54-11-3696-6021|            ---|    ---|\n",
            "|   00585832|54-11-5339-4383|            ---|    ---|\n",
            "|   00857998|54-388-409-9742|            ---|    ---|\n",
            "|   00890271|54-11-2492-4876|            ---|    ---|\n",
            "|   01035263|54-294-425-7373|            ---|    ---|\n",
            "|   01042668|54-11-2295-2413|            ---|    ---|\n",
            "|   01136850|54-11-6959-8581|            ---|    ---|\n",
            "|   01508497|54-11-3868-8489|            ---|    ---|\n",
            "|   01552941|54-11-3104-0391|            ---|    ---|\n",
            "|   01554790|54-11-3096-4113|            ---|    ---|\n",
            "|   01867148|54-263-444-9082|            ---|    ---|\n",
            "|   01944559|54-3462-23-4113|54-3462-42-2372|    ---|\n",
            "|   01967286|54-11-5961-9424|54-11-5329-3089|    ---|\n",
            "|   02394468|54-221-461-6821|54-11-6513-6425|    ---|\n",
            "|   02409159|54-336-434-6906|            ---|    ---|\n",
            "|   02425744|54-261-255-1104|            ---|    ---|\n",
            "|   02437816|54-2246-50-6591|            ---|    ---|\n",
            "|   02452116|54-261-692-4069|            ---|    ---|\n",
            "|   02576652|54-11-2289-3333|            ---|    ---|\n",
            "|   02857003|54-358-417-1893|            ---|    ---|\n",
            "+-----------+---------------+---------------+-------+\n",
            "only showing top 20 rows\n",
            "\n"
          ]
        }
      ]
    },
    {
      "cell_type": "markdown",
      "source": [
        "####- 28 - Filtrar el DataFrame de direcciones de clientes y resguardar los 3 contactos más actuales por cliente."
      ],
      "metadata": {
        "id": "581jyCaHt3SU"
      }
    },
    {
      "cell_type": "code",
      "source": [
        "df_customer_address_sorted = df_customer_address.orderBy([df_customer_address.customer_id, desc('last_change_date')])"
      ],
      "metadata": {
        "id": "d6HSi_IFdrxa"
      },
      "execution_count": null,
      "outputs": []
    },
    {
      "cell_type": "code",
      "source": [
        "window = Window.partitionBy(df_customer_address_sorted.customer_id).orderBy(desc(df_customer_address_sorted.last_change_date))"
      ],
      "metadata": {
        "id": "j5gmni1Kdrxb"
      },
      "execution_count": null,
      "outputs": []
    },
    {
      "cell_type": "code",
      "source": [
        "df_address_contact = df_customer_address_sorted.withColumn('row_num', row_number().over(window))\n",
        "df_address_contact = df_address_contact.filter(df_address_contact.row_num <= 3)"
      ],
      "metadata": {
        "id": "19eIQVaWdrxb"
      },
      "execution_count": null,
      "outputs": []
    },
    {
      "cell_type": "code",
      "source": [
        "df_address_contact = df_address_contact.withColumn(\"full_address\", concat('street_name', 'address_outdoor_id', 'address_indoor_id', 'indoor_number', 'address_department_name', 'province_id', 'zipcode_id'))"
      ],
      "metadata": {
        "id": "fZUMeg4Bdrxb"
      },
      "execution_count": null,
      "outputs": []
    },
    {
      "cell_type": "code",
      "source": [
        "df_pivot_ad = df_address_contact.groupBy('customer_id').agg(collect_list('full_address').alias('last_3_changes_list'))"
      ],
      "metadata": {
        "id": "j2VpUVDQdrxb"
      },
      "execution_count": null,
      "outputs": []
    },
    {
      "cell_type": "code",
      "source": [
        "df_pivot_address = df_pivot_ad.selectExpr('customer_id', 'last_3_changes_list[0] as address_1', 'last_3_changes_list[1] as address_2', 'last_3_changes_list[2] as address_3')"
      ],
      "metadata": {
        "id": "U3Pvzadcdrxb"
      },
      "execution_count": null,
      "outputs": []
    },
    {
      "cell_type": "code",
      "source": [
        "df_pivot_address = df_pivot_address.na.fill('---')\n",
        "df_pivot_address.toPandas()"
      ],
      "metadata": {
        "id": "d_d1U18vdrxb",
        "colab": {
          "base_uri": "https://localhost:8080/",
          "height": 423
        },
        "outputId": "9c50229e-d98e-4dab-8833-f55a3c7322bd"
      },
      "execution_count": null,
      "outputs": [
        {
          "output_type": "execute_result",
          "data": {
            "text/plain": [
              "     customer_id                                          address_1 address_2  \\\n",
              "0       00000442  AGUERO                  0000842PB      B      ...       ---   \n",
              "1       00001419  ALTE G BROWN            00010741       A      ...       ---   \n",
              "2       00001939  JOSE HERNANDEZ          00020451       C      ...       ---   \n",
              "3       00002707  GUATEMALA               0001846               ...       ---   \n",
              "4       00002790  AV CORDOBA              00022064       30     ...       ---   \n",
              "...          ...                                                ...       ...   \n",
              "1206    29015563  IBANEZ TENIENTE 1 RO    0001355               ...       ---   \n",
              "1207    29015902  GARIBALDI               0001554               ...       ---   \n",
              "1208    29017100  DOMINGO MATHEU          0000972               ...       ---   \n",
              "1209    29017191  VIRREY ARREDONDO        00026413       B      ...       ---   \n",
              "1210    29022069  ACASSUSO                0002665               ...       ---   \n",
              "\n",
              "     address_3  \n",
              "0          ---  \n",
              "1          ---  \n",
              "2          ---  \n",
              "3          ---  \n",
              "4          ---  \n",
              "...        ...  \n",
              "1206       ---  \n",
              "1207       ---  \n",
              "1208       ---  \n",
              "1209       ---  \n",
              "1210       ---  \n",
              "\n",
              "[1211 rows x 4 columns]"
            ],
            "text/html": [
              "\n",
              "  <div id=\"df-6845912f-2df7-42f4-96cf-0c87dec0a093\">\n",
              "    <div class=\"colab-df-container\">\n",
              "      <div>\n",
              "<style scoped>\n",
              "    .dataframe tbody tr th:only-of-type {\n",
              "        vertical-align: middle;\n",
              "    }\n",
              "\n",
              "    .dataframe tbody tr th {\n",
              "        vertical-align: top;\n",
              "    }\n",
              "\n",
              "    .dataframe thead th {\n",
              "        text-align: right;\n",
              "    }\n",
              "</style>\n",
              "<table border=\"1\" class=\"dataframe\">\n",
              "  <thead>\n",
              "    <tr style=\"text-align: right;\">\n",
              "      <th></th>\n",
              "      <th>customer_id</th>\n",
              "      <th>address_1</th>\n",
              "      <th>address_2</th>\n",
              "      <th>address_3</th>\n",
              "    </tr>\n",
              "  </thead>\n",
              "  <tbody>\n",
              "    <tr>\n",
              "      <th>0</th>\n",
              "      <td>00000442</td>\n",
              "      <td>AGUERO                  0000842PB      B      ...</td>\n",
              "      <td>---</td>\n",
              "      <td>---</td>\n",
              "    </tr>\n",
              "    <tr>\n",
              "      <th>1</th>\n",
              "      <td>00001419</td>\n",
              "      <td>ALTE G BROWN            00010741       A      ...</td>\n",
              "      <td>---</td>\n",
              "      <td>---</td>\n",
              "    </tr>\n",
              "    <tr>\n",
              "      <th>2</th>\n",
              "      <td>00001939</td>\n",
              "      <td>JOSE HERNANDEZ          00020451       C      ...</td>\n",
              "      <td>---</td>\n",
              "      <td>---</td>\n",
              "    </tr>\n",
              "    <tr>\n",
              "      <th>3</th>\n",
              "      <td>00002707</td>\n",
              "      <td>GUATEMALA               0001846               ...</td>\n",
              "      <td>---</td>\n",
              "      <td>---</td>\n",
              "    </tr>\n",
              "    <tr>\n",
              "      <th>4</th>\n",
              "      <td>00002790</td>\n",
              "      <td>AV CORDOBA              00022064       30     ...</td>\n",
              "      <td>---</td>\n",
              "      <td>---</td>\n",
              "    </tr>\n",
              "    <tr>\n",
              "      <th>...</th>\n",
              "      <td>...</td>\n",
              "      <td>...</td>\n",
              "      <td>...</td>\n",
              "      <td>...</td>\n",
              "    </tr>\n",
              "    <tr>\n",
              "      <th>1206</th>\n",
              "      <td>29015563</td>\n",
              "      <td>IBANEZ TENIENTE 1 RO    0001355               ...</td>\n",
              "      <td>---</td>\n",
              "      <td>---</td>\n",
              "    </tr>\n",
              "    <tr>\n",
              "      <th>1207</th>\n",
              "      <td>29015902</td>\n",
              "      <td>GARIBALDI               0001554               ...</td>\n",
              "      <td>---</td>\n",
              "      <td>---</td>\n",
              "    </tr>\n",
              "    <tr>\n",
              "      <th>1208</th>\n",
              "      <td>29017100</td>\n",
              "      <td>DOMINGO MATHEU          0000972               ...</td>\n",
              "      <td>---</td>\n",
              "      <td>---</td>\n",
              "    </tr>\n",
              "    <tr>\n",
              "      <th>1209</th>\n",
              "      <td>29017191</td>\n",
              "      <td>VIRREY ARREDONDO        00026413       B      ...</td>\n",
              "      <td>---</td>\n",
              "      <td>---</td>\n",
              "    </tr>\n",
              "    <tr>\n",
              "      <th>1210</th>\n",
              "      <td>29022069</td>\n",
              "      <td>ACASSUSO                0002665               ...</td>\n",
              "      <td>---</td>\n",
              "      <td>---</td>\n",
              "    </tr>\n",
              "  </tbody>\n",
              "</table>\n",
              "<p>1211 rows × 4 columns</p>\n",
              "</div>\n",
              "      <button class=\"colab-df-convert\" onclick=\"convertToInteractive('df-6845912f-2df7-42f4-96cf-0c87dec0a093')\"\n",
              "              title=\"Convert this dataframe to an interactive table.\"\n",
              "              style=\"display:none;\">\n",
              "        \n",
              "  <svg xmlns=\"http://www.w3.org/2000/svg\" height=\"24px\"viewBox=\"0 0 24 24\"\n",
              "       width=\"24px\">\n",
              "    <path d=\"M0 0h24v24H0V0z\" fill=\"none\"/>\n",
              "    <path d=\"M18.56 5.44l.94 2.06.94-2.06 2.06-.94-2.06-.94-.94-2.06-.94 2.06-2.06.94zm-11 1L8.5 8.5l.94-2.06 2.06-.94-2.06-.94L8.5 2.5l-.94 2.06-2.06.94zm10 10l.94 2.06.94-2.06 2.06-.94-2.06-.94-.94-2.06-.94 2.06-2.06.94z\"/><path d=\"M17.41 7.96l-1.37-1.37c-.4-.4-.92-.59-1.43-.59-.52 0-1.04.2-1.43.59L10.3 9.45l-7.72 7.72c-.78.78-.78 2.05 0 2.83L4 21.41c.39.39.9.59 1.41.59.51 0 1.02-.2 1.41-.59l7.78-7.78 2.81-2.81c.8-.78.8-2.07 0-2.86zM5.41 20L4 18.59l7.72-7.72 1.47 1.35L5.41 20z\"/>\n",
              "  </svg>\n",
              "      </button>\n",
              "      \n",
              "  <style>\n",
              "    .colab-df-container {\n",
              "      display:flex;\n",
              "      flex-wrap:wrap;\n",
              "      gap: 12px;\n",
              "    }\n",
              "\n",
              "    .colab-df-convert {\n",
              "      background-color: #E8F0FE;\n",
              "      border: none;\n",
              "      border-radius: 50%;\n",
              "      cursor: pointer;\n",
              "      display: none;\n",
              "      fill: #1967D2;\n",
              "      height: 32px;\n",
              "      padding: 0 0 0 0;\n",
              "      width: 32px;\n",
              "    }\n",
              "\n",
              "    .colab-df-convert:hover {\n",
              "      background-color: #E2EBFA;\n",
              "      box-shadow: 0px 1px 2px rgba(60, 64, 67, 0.3), 0px 1px 3px 1px rgba(60, 64, 67, 0.15);\n",
              "      fill: #174EA6;\n",
              "    }\n",
              "\n",
              "    [theme=dark] .colab-df-convert {\n",
              "      background-color: #3B4455;\n",
              "      fill: #D2E3FC;\n",
              "    }\n",
              "\n",
              "    [theme=dark] .colab-df-convert:hover {\n",
              "      background-color: #434B5C;\n",
              "      box-shadow: 0px 1px 3px 1px rgba(0, 0, 0, 0.15);\n",
              "      filter: drop-shadow(0px 1px 2px rgba(0, 0, 0, 0.3));\n",
              "      fill: #FFFFFF;\n",
              "    }\n",
              "  </style>\n",
              "\n",
              "      <script>\n",
              "        const buttonEl =\n",
              "          document.querySelector('#df-6845912f-2df7-42f4-96cf-0c87dec0a093 button.colab-df-convert');\n",
              "        buttonEl.style.display =\n",
              "          google.colab.kernel.accessAllowed ? 'block' : 'none';\n",
              "\n",
              "        async function convertToInteractive(key) {\n",
              "          const element = document.querySelector('#df-6845912f-2df7-42f4-96cf-0c87dec0a093');\n",
              "          const dataTable =\n",
              "            await google.colab.kernel.invokeFunction('convertToInteractive',\n",
              "                                                     [key], {});\n",
              "          if (!dataTable) return;\n",
              "\n",
              "          const docLinkHtml = 'Like what you see? Visit the ' +\n",
              "            '<a target=\"_blank\" href=https://colab.research.google.com/notebooks/data_table.ipynb>data table notebook</a>'\n",
              "            + ' to learn more about interactive tables.';\n",
              "          element.innerHTML = '';\n",
              "          dataTable['output_type'] = 'display_data';\n",
              "          await google.colab.output.renderOutput(dataTable, element);\n",
              "          const docLink = document.createElement('div');\n",
              "          docLink.innerHTML = docLinkHtml;\n",
              "          element.appendChild(docLink);\n",
              "        }\n",
              "      </script>\n",
              "    </div>\n",
              "  </div>\n",
              "  "
            ]
          },
          "metadata": {},
          "execution_count": 109
        }
      ]
    },
    {
      "cell_type": "markdown",
      "source": [
        "####- 29 - Filtrar el DataFrame de correos electrónicos de clientes  y resguardar los 3 contactos más actuales por cliente. "
      ],
      "metadata": {
        "id": "Fde4zMn4jXXD"
      }
    },
    {
      "cell_type": "code",
      "source": [
        "df_customer_emails_sorted = df_customer_emails.orderBy([df_customer_emails.customer_id, desc('last_change_date')])"
      ],
      "metadata": {
        "id": "wAtQGJfMgRHd"
      },
      "execution_count": null,
      "outputs": []
    },
    {
      "cell_type": "code",
      "source": [
        "window = Window.partitionBy(df_customer_emails_sorted.customer_id).orderBy(desc(df_customer_emails_sorted.last_change_date))"
      ],
      "metadata": {
        "id": "1oIrfS-LgRHd"
      },
      "execution_count": null,
      "outputs": []
    },
    {
      "cell_type": "code",
      "source": [
        "df_email_contact = df_customer_emails_sorted.withColumn('row_num', row_number().over(window))\n",
        "df_email_contact = df_email_contact.filter(df_email_contact.row_num <= 3)"
      ],
      "metadata": {
        "id": "zYMJ-3oLgRHd"
      },
      "execution_count": null,
      "outputs": []
    },
    {
      "cell_type": "code",
      "source": [
        "df_pivot_ec = df_email_contact.groupBy('customer_id').agg(collect_list('email_desc').alias('last_3_changes_list'))"
      ],
      "metadata": {
        "id": "GPO3eGmbgRHe"
      },
      "execution_count": null,
      "outputs": []
    },
    {
      "cell_type": "code",
      "source": [
        "df_pivot_email = df_pivot_ec.selectExpr('customer_id', 'last_3_changes_list[0] as email_1', 'last_3_changes_list[1] as email_2', 'last_3_changes_list[2] as email_3')"
      ],
      "metadata": {
        "id": "A0OnqllGgRHe"
      },
      "execution_count": null,
      "outputs": []
    },
    {
      "cell_type": "code",
      "source": [
        "df_pivot_email = df_pivot_email.na.fill('---')\n",
        "df_pivot_email.toPandas()"
      ],
      "metadata": {
        "id": "efrb8V-AgRHe",
        "colab": {
          "base_uri": "https://localhost:8080/",
          "height": 423
        },
        "outputId": "2829fc0c-22d7-4666-d7ee-8431399e4054"
      },
      "execution_count": null,
      "outputs": [
        {
          "output_type": "execute_result",
          "data": {
            "text/plain": [
              "    customer_id                     email_1                      email_2  \\\n",
              "0      00001419          JU_LY1@HOTMAIL.COM  EMILIA.RUBIANES@HOTMAIL.COM   \n",
              "1      00002790         NOTIENE@HOIMAIL.COM      DIGITALIZACION@EECC.COM   \n",
              "2      00014664           alq@ciudad.com.ar                          ---   \n",
              "3      00056407     NELLY.S.GEREZ@GMAIL.COM                          ---   \n",
              "4      00058801  SOPLETESHLANDA@HOTMAIL.COM   SOPLETESHLANDA@HOTMAIL.COM   \n",
              "..          ...                         ...                          ...   \n",
              "317    28990339            ELSAMO@GMAIL.COM                          ---   \n",
              "318    28993945      navyig@fibertel.com.ar                          ---   \n",
              "319    29003190        ANLAU_08@LIVE.COM.AR                          ---   \n",
              "320    29008648       ROBERTOWINY@GMAIL.COM                          ---   \n",
              "321    29012113    DE_LA_GARMA@YAHOO.COM.AR                          ---   \n",
              "\n",
              "    email_3  \n",
              "0       ---  \n",
              "1       ---  \n",
              "2       ---  \n",
              "3       ---  \n",
              "4       ---  \n",
              "..      ...  \n",
              "317     ---  \n",
              "318     ---  \n",
              "319     ---  \n",
              "320     ---  \n",
              "321     ---  \n",
              "\n",
              "[322 rows x 4 columns]"
            ],
            "text/html": [
              "\n",
              "  <div id=\"df-ec9d0de6-9a9f-45ab-a202-b9d248fbfcfb\">\n",
              "    <div class=\"colab-df-container\">\n",
              "      <div>\n",
              "<style scoped>\n",
              "    .dataframe tbody tr th:only-of-type {\n",
              "        vertical-align: middle;\n",
              "    }\n",
              "\n",
              "    .dataframe tbody tr th {\n",
              "        vertical-align: top;\n",
              "    }\n",
              "\n",
              "    .dataframe thead th {\n",
              "        text-align: right;\n",
              "    }\n",
              "</style>\n",
              "<table border=\"1\" class=\"dataframe\">\n",
              "  <thead>\n",
              "    <tr style=\"text-align: right;\">\n",
              "      <th></th>\n",
              "      <th>customer_id</th>\n",
              "      <th>email_1</th>\n",
              "      <th>email_2</th>\n",
              "      <th>email_3</th>\n",
              "    </tr>\n",
              "  </thead>\n",
              "  <tbody>\n",
              "    <tr>\n",
              "      <th>0</th>\n",
              "      <td>00001419</td>\n",
              "      <td>JU_LY1@HOTMAIL.COM</td>\n",
              "      <td>EMILIA.RUBIANES@HOTMAIL.COM</td>\n",
              "      <td>---</td>\n",
              "    </tr>\n",
              "    <tr>\n",
              "      <th>1</th>\n",
              "      <td>00002790</td>\n",
              "      <td>NOTIENE@HOIMAIL.COM</td>\n",
              "      <td>DIGITALIZACION@EECC.COM</td>\n",
              "      <td>---</td>\n",
              "    </tr>\n",
              "    <tr>\n",
              "      <th>2</th>\n",
              "      <td>00014664</td>\n",
              "      <td>alq@ciudad.com.ar</td>\n",
              "      <td>---</td>\n",
              "      <td>---</td>\n",
              "    </tr>\n",
              "    <tr>\n",
              "      <th>3</th>\n",
              "      <td>00056407</td>\n",
              "      <td>NELLY.S.GEREZ@GMAIL.COM</td>\n",
              "      <td>---</td>\n",
              "      <td>---</td>\n",
              "    </tr>\n",
              "    <tr>\n",
              "      <th>4</th>\n",
              "      <td>00058801</td>\n",
              "      <td>SOPLETESHLANDA@HOTMAIL.COM</td>\n",
              "      <td>SOPLETESHLANDA@HOTMAIL.COM</td>\n",
              "      <td>---</td>\n",
              "    </tr>\n",
              "    <tr>\n",
              "      <th>...</th>\n",
              "      <td>...</td>\n",
              "      <td>...</td>\n",
              "      <td>...</td>\n",
              "      <td>...</td>\n",
              "    </tr>\n",
              "    <tr>\n",
              "      <th>317</th>\n",
              "      <td>28990339</td>\n",
              "      <td>ELSAMO@GMAIL.COM</td>\n",
              "      <td>---</td>\n",
              "      <td>---</td>\n",
              "    </tr>\n",
              "    <tr>\n",
              "      <th>318</th>\n",
              "      <td>28993945</td>\n",
              "      <td>navyig@fibertel.com.ar</td>\n",
              "      <td>---</td>\n",
              "      <td>---</td>\n",
              "    </tr>\n",
              "    <tr>\n",
              "      <th>319</th>\n",
              "      <td>29003190</td>\n",
              "      <td>ANLAU_08@LIVE.COM.AR</td>\n",
              "      <td>---</td>\n",
              "      <td>---</td>\n",
              "    </tr>\n",
              "    <tr>\n",
              "      <th>320</th>\n",
              "      <td>29008648</td>\n",
              "      <td>ROBERTOWINY@GMAIL.COM</td>\n",
              "      <td>---</td>\n",
              "      <td>---</td>\n",
              "    </tr>\n",
              "    <tr>\n",
              "      <th>321</th>\n",
              "      <td>29012113</td>\n",
              "      <td>DE_LA_GARMA@YAHOO.COM.AR</td>\n",
              "      <td>---</td>\n",
              "      <td>---</td>\n",
              "    </tr>\n",
              "  </tbody>\n",
              "</table>\n",
              "<p>322 rows × 4 columns</p>\n",
              "</div>\n",
              "      <button class=\"colab-df-convert\" onclick=\"convertToInteractive('df-ec9d0de6-9a9f-45ab-a202-b9d248fbfcfb')\"\n",
              "              title=\"Convert this dataframe to an interactive table.\"\n",
              "              style=\"display:none;\">\n",
              "        \n",
              "  <svg xmlns=\"http://www.w3.org/2000/svg\" height=\"24px\"viewBox=\"0 0 24 24\"\n",
              "       width=\"24px\">\n",
              "    <path d=\"M0 0h24v24H0V0z\" fill=\"none\"/>\n",
              "    <path d=\"M18.56 5.44l.94 2.06.94-2.06 2.06-.94-2.06-.94-.94-2.06-.94 2.06-2.06.94zm-11 1L8.5 8.5l.94-2.06 2.06-.94-2.06-.94L8.5 2.5l-.94 2.06-2.06.94zm10 10l.94 2.06.94-2.06 2.06-.94-2.06-.94-.94-2.06-.94 2.06-2.06.94z\"/><path d=\"M17.41 7.96l-1.37-1.37c-.4-.4-.92-.59-1.43-.59-.52 0-1.04.2-1.43.59L10.3 9.45l-7.72 7.72c-.78.78-.78 2.05 0 2.83L4 21.41c.39.39.9.59 1.41.59.51 0 1.02-.2 1.41-.59l7.78-7.78 2.81-2.81c.8-.78.8-2.07 0-2.86zM5.41 20L4 18.59l7.72-7.72 1.47 1.35L5.41 20z\"/>\n",
              "  </svg>\n",
              "      </button>\n",
              "      \n",
              "  <style>\n",
              "    .colab-df-container {\n",
              "      display:flex;\n",
              "      flex-wrap:wrap;\n",
              "      gap: 12px;\n",
              "    }\n",
              "\n",
              "    .colab-df-convert {\n",
              "      background-color: #E8F0FE;\n",
              "      border: none;\n",
              "      border-radius: 50%;\n",
              "      cursor: pointer;\n",
              "      display: none;\n",
              "      fill: #1967D2;\n",
              "      height: 32px;\n",
              "      padding: 0 0 0 0;\n",
              "      width: 32px;\n",
              "    }\n",
              "\n",
              "    .colab-df-convert:hover {\n",
              "      background-color: #E2EBFA;\n",
              "      box-shadow: 0px 1px 2px rgba(60, 64, 67, 0.3), 0px 1px 3px 1px rgba(60, 64, 67, 0.15);\n",
              "      fill: #174EA6;\n",
              "    }\n",
              "\n",
              "    [theme=dark] .colab-df-convert {\n",
              "      background-color: #3B4455;\n",
              "      fill: #D2E3FC;\n",
              "    }\n",
              "\n",
              "    [theme=dark] .colab-df-convert:hover {\n",
              "      background-color: #434B5C;\n",
              "      box-shadow: 0px 1px 3px 1px rgba(0, 0, 0, 0.15);\n",
              "      filter: drop-shadow(0px 1px 2px rgba(0, 0, 0, 0.3));\n",
              "      fill: #FFFFFF;\n",
              "    }\n",
              "  </style>\n",
              "\n",
              "      <script>\n",
              "        const buttonEl =\n",
              "          document.querySelector('#df-ec9d0de6-9a9f-45ab-a202-b9d248fbfcfb button.colab-df-convert');\n",
              "        buttonEl.style.display =\n",
              "          google.colab.kernel.accessAllowed ? 'block' : 'none';\n",
              "\n",
              "        async function convertToInteractive(key) {\n",
              "          const element = document.querySelector('#df-ec9d0de6-9a9f-45ab-a202-b9d248fbfcfb');\n",
              "          const dataTable =\n",
              "            await google.colab.kernel.invokeFunction('convertToInteractive',\n",
              "                                                     [key], {});\n",
              "          if (!dataTable) return;\n",
              "\n",
              "          const docLinkHtml = 'Like what you see? Visit the ' +\n",
              "            '<a target=\"_blank\" href=https://colab.research.google.com/notebooks/data_table.ipynb>data table notebook</a>'\n",
              "            + ' to learn more about interactive tables.';\n",
              "          element.innerHTML = '';\n",
              "          dataTable['output_type'] = 'display_data';\n",
              "          await google.colab.output.renderOutput(dataTable, element);\n",
              "          const docLink = document.createElement('div');\n",
              "          docLink.innerHTML = docLinkHtml;\n",
              "          element.appendChild(docLink);\n",
              "        }\n",
              "      </script>\n",
              "    </div>\n",
              "  </div>\n",
              "  "
            ]
          },
          "metadata": {},
          "execution_count": 115
        }
      ]
    },
    {
      "cell_type": "markdown",
      "source": [
        "# Enrequecimiento de datos"
      ],
      "metadata": {
        "id": "kf8Hrr5n-M0Y"
      }
    },
    {
      "cell_type": "markdown",
      "source": [
        "####- 30 - Agregar una nueva columna a los DataFrame de contactos, indicando el contact_type según corresponda (address, email, phone)"
      ],
      "metadata": {
        "id": "XwqLG65oHfQU"
      }
    },
    {
      "cell_type": "code",
      "source": [
        "df_phones_contact_col = df_phones.withColumn('contact_type_phones', lit('phone'))\n",
        "df_phones_contact_col.select('customer_id','contact_type_phones').show()"
      ],
      "metadata": {
        "id": "qz6g1mpwlQoK",
        "colab": {
          "base_uri": "https://localhost:8080/"
        },
        "outputId": "571057da-6b9f-4327-9434-d4beba17f95e"
      },
      "execution_count": null,
      "outputs": [
        {
          "output_type": "stream",
          "name": "stdout",
          "text": [
            "+-----------+-------------------+\n",
            "|customer_id|contact_type_phones|\n",
            "+-----------+-------------------+\n",
            "|   29377168|              phone|\n",
            "|   29385404|              phone|\n",
            "|   29385404|              phone|\n",
            "|   29385454|              phone|\n",
            "|   27626595|              phone|\n",
            "|   24349744|              phone|\n",
            "|   29389994|              phone|\n",
            "|   29389999|              phone|\n",
            "|   01192665|              phone|\n",
            "|   29359207|              phone|\n",
            "|   29354182|              phone|\n",
            "|   22538341|              phone|\n",
            "|   29387551|              phone|\n",
            "|   29387551|              phone|\n",
            "|   29353051|              phone|\n",
            "|   29132899|              phone|\n",
            "|   29390010|              phone|\n",
            "|   27617687|              phone|\n",
            "|   27617687|              phone|\n",
            "|   29387672|              phone|\n",
            "+-----------+-------------------+\n",
            "only showing top 20 rows\n",
            "\n"
          ]
        }
      ]
    },
    {
      "cell_type": "code",
      "source": [
        "df_emails_contact_col = df_emails.withColumn('contact_type_emails', lit('e-mail'))\n",
        "df_emails_contact_col.select('customer_id','contact_type_emails').show()"
      ],
      "metadata": {
        "id": "CUL_CS3ZldKn",
        "colab": {
          "base_uri": "https://localhost:8080/"
        },
        "outputId": "dd4e6928-0e54-4af2-c6b4-ec07d32b8b6c"
      },
      "execution_count": null,
      "outputs": [
        {
          "output_type": "stream",
          "name": "stdout",
          "text": [
            "+-----------+-------------------+\n",
            "|customer_id|contact_type_emails|\n",
            "+-----------+-------------------+\n",
            "|   00038638|             e-mail|\n",
            "|   00037083|             e-mail|\n",
            "|   06179762|             e-mail|\n",
            "|   06179762|             e-mail|\n",
            "|   26957165|             e-mail|\n",
            "|   01128123|             e-mail|\n",
            "|   28886249|             e-mail|\n",
            "|   27514348|             e-mail|\n",
            "|   27333422|             e-mail|\n",
            "|   00031275|             e-mail|\n",
            "|   21938599|             e-mail|\n",
            "|   28990339|             e-mail|\n",
            "|   00033622|             e-mail|\n",
            "|   00033991|             e-mail|\n",
            "|   03692218|             e-mail|\n",
            "|   08698875|             e-mail|\n",
            "|   27335212|             e-mail|\n",
            "|   00038389|             e-mail|\n",
            "|   00043705|             e-mail|\n",
            "|   00043705|             e-mail|\n",
            "+-----------+-------------------+\n",
            "only showing top 20 rows\n",
            "\n"
          ]
        }
      ]
    },
    {
      "cell_type": "code",
      "source": [
        "df_address_contact_col = df_address.withColumn('contact_type_address', lit('address'))\n",
        "df_address_contact_col.select('customer_id','contact_type_address').show()"
      ],
      "metadata": {
        "id": "vHPhk9tIluhv",
        "colab": {
          "base_uri": "https://localhost:8080/"
        },
        "outputId": "755bcc7a-5df3-4c48-a04a-b6820de18be0"
      },
      "execution_count": null,
      "outputs": [
        {
          "output_type": "stream",
          "name": "stdout",
          "text": [
            "+-----------+--------------------+\n",
            "|customer_id|contact_type_address|\n",
            "+-----------+--------------------+\n",
            "|   00000660|             address|\n",
            "|   07121078|             address|\n",
            "|   22374047|             address|\n",
            "|   00002450|             address|\n",
            "|   00003925|             address|\n",
            "|   00004038|             address|\n",
            "|   01188067|             address|\n",
            "|   00006509|             address|\n",
            "|   00006754|             address|\n",
            "|   00009582|             address|\n",
            "|   26761763|             address|\n",
            "|   00012730|             address|\n",
            "|   23483616|             address|\n",
            "|   00051576|             address|\n",
            "|   00016049|             address|\n",
            "|   00016995|             address|\n",
            "|   26074313|             address|\n",
            "|   27666452|             address|\n",
            "|   00001213|             address|\n",
            "|   00001213|             address|\n",
            "+-----------+--------------------+\n",
            "only showing top 20 rows\n",
            "\n"
          ]
        }
      ]
    },
    {
      "cell_type": "markdown",
      "source": [
        "####- 31 - Agregar una nueva columna al DataFrame de contactos telefónicos de clientes, resguardando el contacto en formato json contenido en string, con los datos: Phone_type (mobile, landline ), Código país., Código de Área, Número teléfono."
      ],
      "metadata": {
        "id": "3XoMOFoyHgkq"
      }
    },
    {
      "cell_type": "code",
      "source": [
        "df_phone_contact = df_phone_contact.withColumn(\"phone_contact\", to_json(struct(df_phone_contact.phone_type, df_phone_contact.phone_country_id, df_phone_contact.prefix_phone_id, df_phone_contact.phone_area_id, df_phone_contact.cellphone_prefix_id, df_phone_contact.phone_exchange_id, df_phone_contact.phone_line_id)))"
      ],
      "metadata": {
        "id": "UpXne4NcU_xU"
      },
      "execution_count": null,
      "outputs": []
    },
    {
      "cell_type": "code",
      "source": [
        "df_phone_contact.show(truncate=False)"
      ],
      "metadata": {
        "id": "ZkMd0glic11C",
        "colab": {
          "base_uri": "https://localhost:8080/"
        },
        "outputId": "b61a19c6-3cdc-48db-e4e6-f89f6939b8f7"
      },
      "execution_count": null,
      "outputs": [
        {
          "output_type": "stream",
          "name": "stdout",
          "text": [
            "+-----------+--------------+-------------------+-----------------+----------+----------------+---------------+-------------+-------------------+-----------------+-------------+------------+---------------+-----------------------+------------------+---------------------+-----------------+----------+-----------+--------------------------+---------------------+--------------------+---------------------+----------------+-------------------------+-------------------------+------------------+-------------------+-----------------+--------------------+---------------------+-----------------------+----------------------+--------------------+----------------------+------------------------------+----------------------------+-------------------+----------------+----------------+-------------------+--------------------+-----------------------+-----------------------+-------------+-------------+--------------+---------------+--------------------+---------+----------------+-----------+-----------------------+-----------------------+----------+-------------------+-----------------+--------------------------+--------------+----------------+----------------+-------------------+-----------+----------+----------------------+--------------------+---------------------+-----------+--------------------------+----------------------------+-------------------------------+------------------------+------------------------+--------------------------+------------------------+--------------------------+----------------------------+------------------+------------------------+-------------------+-------------------+---------------------------+-----------------+-------------------+-----------------+-------------------------------+--------------------+---------------------+------------------+----------------+--------------------+--------------------------+----------------+--------------------------+--------------------+-------------+----------------+--------------------+-------------------+--------+---------------------+-------------------------+--------------------------+--------------+--------------------+--------------------+----------------+-------------+-------------------------+-----------------------+-----------------------+--------------------+-------+---------------+--------------------------------------------------------------------------------------------------------------------------------------------------------------------+\n",
            "|customer_id|phone_use_type|address_sequence_id|phone_sequence_id|phone_type|phone_country_id|prefix_phone_id|phone_area_id|cellphone_prefix_id|phone_exchange_id|phone_line_id|phone_id    |phone_intern_id|aditional_info_txt_desc|primary_phone_type|address_sequence_type|address_town_name|zipcode_id|province_id|customer_phone_status_type|phone_status_mod_date|contact_channel_type|sender_application_id|wrong_phone_type|normalization_status_type|normalization_reason_name|normalization_date|validity_start_date|validity_end_date|dlvy_day_monday_type|dlvy_day_tuesday_type|dlvy_day_wednesday_type|dlvy_day_thursday_type|dlvy_day_friday_type|dlvy_day_saturday_type|delivery_contact_start_hm_date|delivery_contact_end_hm_date|registry_entry_date|register_user_id|last_change_date|last_change_user_id|last_change_hms_date|last_change_terminal_id|operational_load_date  |personal_type|personal_id  |admission_date|sale_channel_id|operation_channel_id|branch_id|business_area_id|campaing_id|customer_situation_type|customer_condition_type|manager_id|tracking_manager_id|credit_manager_id|credit_recovery_manager_id|last_name     |second_last_name|first_name      |marital_status_type|gender_type|birth_date|country_nationality_id|residence_country_id|customer_subject_type|sector_type|customer_level_access_type|cust_bcra_econ_activity_type|internal_economic_activity_type|bbva_inhabilitation_type|customer_block_bbva_date|customer_unblock_bbva_date|customer_block_bcra_date|customer_unblock_bcra_date|customer_pending_notice_type|last_notice_number|last_reference_number_id|last_service_number|last_address_number|last_unlinking_account_date|customer_end_date|last_change_user_id|customer_pep_type|bbva_family_lnk_weighted_number|customer_status_type|scoring_activity_type|refinancing_number|refinancing_date|coholder_customer_id|customer_bcra_situation_id|customer_cuit_id|customer_position_vat_type|balance_closing_date|profession_id|bbva_cust_number|customer_linked_type|customer_entry_type|job_type|profession_start_date|customer_first_block_date|customer_registration_date|l_c_d_customer|last_change_hms_date|register_terminal_id|register_user_id|customer_type|customer_seniority_number|last_status_change_date|operational_load_date  |job_type_desc       |row_num|full_phone     |phone_contact                                                                                                                                                       |\n",
            "+-----------+--------------+-------------------+-----------------+----------+----------------+---------------+-------------+-------------------+-----------------+-------------+------------+---------------+-----------------------+------------------+---------------------+-----------------+----------+-----------+--------------------------+---------------------+--------------------+---------------------+----------------+-------------------------+-------------------------+------------------+-------------------+-----------------+--------------------+---------------------+-----------------------+----------------------+--------------------+----------------------+------------------------------+----------------------------+-------------------+----------------+----------------+-------------------+--------------------+-----------------------+-----------------------+-------------+-------------+--------------+---------------+--------------------+---------+----------------+-----------+-----------------------+-----------------------+----------+-------------------+-----------------+--------------------------+--------------+----------------+----------------+-------------------+-----------+----------+----------------------+--------------------+---------------------+-----------+--------------------------+----------------------------+-------------------------------+------------------------+------------------------+--------------------------+------------------------+--------------------------+----------------------------+------------------+------------------------+-------------------+-------------------+---------------------------+-----------------+-------------------+-----------------+-------------------------------+--------------------+---------------------+------------------+----------------+--------------------+--------------------------+----------------+--------------------------+--------------------+-------------+----------------+--------------------+-------------------+--------+---------------------+-------------------------+--------------------------+--------------+--------------------+--------------------+----------------+-------------+-------------------------+-----------------------+-----------------------+--------------------+-------+---------------+--------------------------------------------------------------------------------------------------------------------------------------------------------------------+\n",
            "|00221785   |00            |0                  |1                |3         |080             |54             |11           |15                 |3696             |6021         |370603596368|               |                       |N                 |N                    |                 |          |           |COMPROBADO                |2022-08-25           |01                  |CTES                 |                |NORM AUTO                |COSM                     |2022-08-03        |1900-01-01         |1900-01-01       |                    |                     |                       |                      |                    |                      |00:00:00                      |00:00:00                    |2022-08-03         |A128211         |2022-08-25      |XATM               |100824              |XATM                   |2022-11-30 00:42:41.236|00           |0000037870809|2013-01-16    |10000          |00                  |314      |34              |0          |1                      |1                      |605       |                   |                 |                          |MARINO        |                |TATIANA         |5                  |M          |1993-10-14|80                    |080                 |201                  |100        |0                         |82                          |21101000                       |0                       |null                    |null                      |null                    |null                      |                            |0                 |0                       |0                  |2                  |null                       |null             |PCLE06R            |2                |1                              |CA                  |47                   |null              |null            |                    |null                      |0020378708096   |042                       |null                |016          |019801715       |N                   |                   |001     |2013-02-07           |null                     |2013-01-16                |2018-01-15    |115455              |P37B                |PCLE510         |S            |null                     |null                   |2022-03-10 01:05:30.551|REL.DEPENDENCIA/FIJO|1      |54-11-3696-6021|{\"phone_type\":\"3\",\"phone_country_id\":\"080\",\"prefix_phone_id\":\"54\",\"phone_area_id\":\"11\",\"cellphone_prefix_id\":\"15\",\"phone_exchange_id\":\"3696\",\"phone_line_id\":\"6021\"}|\n",
            "|00585832   |00            |1                  |1                |3         |080             |54             |11           |15                 |5339             |4383         |049644675774|               |04                     |N                 |N                    |                 |          |           |DECLARADO                 |2022-11-04           |01                  |CTES                 |                |NORM AUTO                |COSM                     |2022-11-04        |2022-11-04         |1900-01-01       |                    |                     |                       |                      |                    |                      |00:00:00                      |00:00:00                    |2022-11-04         |A126771         |2022-11-04      |PCLE20N            |180252              |BATC                   |2022-11-30 00:42:41.236|00           |0000037752045|2019-08-16    |10000          |00                  |603      |34              |0          |1                      |8                      |2603      |                   |                 |                          |ALDREY        |                |AGUSTIN         |1                  |M          |1993-07-22|80                    |080                 |201                  |100        |0                         |82                          |21101000                       |0                       |null                    |null                      |null                    |null                      |0                           |0                 |0                       |0                  |0                  |null                       |null             |PCLE06R            |1                |1                              |PO                  |47                   |null              |null            |                    |null                      |0023377520459   |042                       |null                |016          |026183611       |N                   |MD                 |001     |2019-08-16           |null                     |2019-08-16                |2019-08-16    |004045              |P37B                |PCLE25H         |S            |null                     |null                   |2022-03-10 01:05:30.551|REL.DEPENDENCIA/FIJO|1      |54-11-5339-4383|{\"phone_type\":\"3\",\"phone_country_id\":\"080\",\"prefix_phone_id\":\"54\",\"phone_area_id\":\"11\",\"cellphone_prefix_id\":\"15\",\"phone_exchange_id\":\"5339\",\"phone_line_id\":\"4383\"}|\n",
            "|00857998   |00            |4                  |1                |3         |080             |54             |388          |15                 |409              |9742         |652142012322|               |                       |N                 |N                    |                 |          |           |COMPROBADO                |2022-10-12           |01                  |PVTA                 |                |NORM AUTO                |COSM                     |2022-10-12        |1900-01-01         |1900-01-01       |                    |                     |                       |                      |                    |                      |00:00:00                      |00:00:00                    |2022-10-12         |VW2CCON0        |2022-10-12      |PCLUPCRT           |101502              |OSMS                   |2022-11-30 00:42:41.236|00           |0000032544656|2010-04-09    |10000          |00                  |292      |34              |0          |1                      |1                      |290       |080                |                 |                          |BEROISA       |                |NATALI ELIZABETH|5                  |F          |1986-09-09|80                    |080                 |201                  |100        |0                         |82                          |21101000                       |0                       |null                    |null                      |null                    |null                      |                            |0                 |0                       |0                  |2                  |null                       |null             |PCLE06O            |2                |1                              |AC                  |24                   |null              |null            |33                  |null                      |0027325446566   |042                       |null                |007          |002352095       |N                   |                   |001     |2020-08-21           |null                     |2010-04-09                |2020-08-21    |223518              |B                   |VUELCO          |N            |null                     |null                   |2022-03-10 01:05:30.551|REL.DEPENDENCIA/FIJO|1      |54-388-409-9742|{\"phone_type\":\"3\",\"phone_country_id\":\"080\",\"prefix_phone_id\":\"54\",\"phone_area_id\":\"388\",\"cellphone_prefix_id\":\"15\",\"phone_exchange_id\":\"409\",\"phone_line_id\":\"9742\"}|\n",
            "|00890271   |00            |0                  |3                |3         |080             |54             |11           |15                 |2492             |4876         |117581306807|               |                       |N                 |N                    |                 |          |           |COMPROBADO                |2022-07-14           |01                  |WKFL                 |                |NORM AUTO                |COPDTEL                  |2022-07-15        |1900-01-01         |1900-01-01       |                    |                     |                       |                      |                    |                      |00:00:00                      |00:00:00                    |2022-07-14         |A128574         |2022-07-15      |A128574            |103928              |Y2HG                   |2022-11-30 00:42:41.236|00           |0000025556714|2011-09-16    |10000          |01                  |16       |30              |0          |1                      |1                      |85        |                   |                 |                          |LACHITIELLO   |                |DANIELA VERO    |5                  |F          |1976-10-04|80                    |080                 |201                  |100        |0                         |82                          |21101000                       |0                       |null                    |null                      |null                    |null                      |                            |28                |0                       |0                  |1                  |null                       |null             |PCLE06O            |2                |1                              |AC                  |50                   |null              |null            |93                  |null                      |0023255567144   |042                       |null                |034          |008838438       |N                   |                   |004     |2011-09-16           |null                     |2011-09-16                |2013-06-06    |223604              |B                   |A92408          |N            |null                     |null                   |2022-03-10 01:05:30.551|-                   |1      |54-11-2492-4876|{\"phone_type\":\"3\",\"phone_country_id\":\"080\",\"prefix_phone_id\":\"54\",\"phone_area_id\":\"11\",\"cellphone_prefix_id\":\"15\",\"phone_exchange_id\":\"2492\",\"phone_line_id\":\"4876\"}|\n",
            "|01035263   |00            |0                  |2                |3         |080             |54             |294          |15                 |425              |7373         |883549902704|               |04                     |N                 |N                    |                 |          |           |COMPROBADO                |2022-07-22           |01                  |CTES                 |                |NORM AUTO                |COPDTEL                  |2022-07-08        |2022-07-08         |1900-01-01       |                    |                     |                       |                      |                    |                      |00:00:00                      |00:00:00                    |2022-07-08         |A125033         |2022-07-22      |XATM               |180313              |XATM                   |2022-11-30 00:42:41.236|00           |0000013330017|2003-07-21    |10000          |01                  |58       |34              |0          |1                      |1                      |164       |                   |                 |                          |SEGUNDO       |                |MAXIMO AMERICO  |5                  |M          |1958-10-12|80                    |080                 |201                  |100        |0                         |82                          |21101000                       |0                       |null                    |null                      |null                    |null                      |                            |0                 |0                       |0                  |1                  |null                       |null             |PCLE06R            |0                |1                              |CM                  |32                   |null              |null            |                    |null                      |0020133300172   |042                       |null                |007          |006163987       |N                   |                   |001     |2009-01-01           |null                     |2003-07-21                |2010-08-27    |072537              |P37B                |VUELCO          |S            |null                     |null                   |2022-03-10 01:05:30.551|REL.DEPENDENCIA/FIJO|1      |54-294-425-7373|{\"phone_type\":\"3\",\"phone_country_id\":\"080\",\"prefix_phone_id\":\"54\",\"phone_area_id\":\"294\",\"cellphone_prefix_id\":\"15\",\"phone_exchange_id\":\"425\",\"phone_line_id\":\"7373\"}|\n",
            "|01042668   |00            |0                  |3                |3         |080             |54             |11           |15                 |2295             |2413         |110200420394|               |                       |N                 |N                    |                 |          |           |DECLARADO                 |2022-11-03           |01                  |CTES                 |                |NORM AUTO                |COPDTEL                  |2022-11-03        |1900-01-01         |1900-01-01       |                    |                     |                       |                      |                    |                      |00:00:00                      |00:00:00                    |2022-11-03         |GPROBANK        |2022-11-03      |GPROBANK           |143849              |4ZP2                   |2022-11-30 00:42:41.236|28           |0000002135172|1921-10-27    |20050          |01                  |14       |34              |0          |1                      |8                      |71        |                   |                 |                          |ARAMBURU      |                |PURA            |1                  |F          |1913-08-11|80                    |080                 |201                  |100        |                          |82                          |21101000                       |0                       |null                    |null                      |null                    |null                      |                            |0                 |0                       |0                  |2                  |null                       |null             |PCLE25Q            |0                |1                              |CA                  |47                   |null              |null            |                    |null                      |0027021351720   |042                       |null                |016          |000374362       |N                   |AD                 |001     |2009-01-01           |null                     |1921-10-27                |2013-03-09    |164830              |P37B                |VUELCO          |S            |null                     |null                   |2022-03-10 01:05:30.551|REL.DEPENDENCIA/FIJO|1      |54-11-2295-2413|{\"phone_type\":\"3\",\"phone_country_id\":\"080\",\"prefix_phone_id\":\"54\",\"phone_area_id\":\"11\",\"cellphone_prefix_id\":\"15\",\"phone_exchange_id\":\"2295\",\"phone_line_id\":\"2413\"}|\n",
            "|01136850   |00            |0                  |3                |3         |080             |54             |11           |15                 |6959             |8581         |786713970748|               |                       |N                 |N                    |                 |          |           |DECLARADO                 |2022-11-04           |01                  |CTES                 |                |NORM AUTO                |COPDTEL                  |2022-11-04        |1900-01-01         |1900-01-01       |                    |                     |                       |                      |                    |                      |00:00:00                      |00:00:00                    |2022-11-04         |GPROBANK        |2022-11-04      |GPROBANK           |140309              |4ZO9                   |2022-11-30 00:42:41.236|00           |0000028129750|2016-06-14    |10000          |00                  |128      |30              |0          |1                      |1                      |471       |                   |                 |1                         |ESPINOSA VIALE|                |FACUNDO         |5                  |M          |1980-07-16|80                    |080                 |201                  |100        |0                         |82                          |21101000                       |0                       |null                    |null                      |null                    |null                      |2                           |29                |0                       |0                  |1                  |null                       |null             |PCLE825            |2                |1                              |AC                  |49                   |null              |null            |                    |21                        |0020281297504   |042                       |null                |040          |021841474       |N                   |                   |001     |2016-06-13           |null                     |2015-08-11                |2022-02-21    |125821              |B                   |PCLE25H         |N            |null                     |2016-06-14             |2022-03-10 01:05:30.551|REL.DEPENDENCIA/FIJO|1      |54-11-6959-8581|{\"phone_type\":\"3\",\"phone_country_id\":\"080\",\"prefix_phone_id\":\"54\",\"phone_area_id\":\"11\",\"cellphone_prefix_id\":\"15\",\"phone_exchange_id\":\"6959\",\"phone_line_id\":\"8581\"}|\n",
            "|01508497   |00            |0                  |2                |3         |080             |54             |11           |15                 |3868             |8489         |898658863568|               |                       |N                 |N                    |                 |          |           |DECLARADO                 |2022-10-17           |01                  |CTES                 |                |NORM AUTO                |COSM                     |2022-10-17        |1900-01-01         |1900-01-01       |                    |                     |                       |                      |                    |                      |00:00:00                      |00:00:00                    |2022-10-17         |A127562         |2022-10-17      |A127562            |115618              |Y822                   |2022-11-30 00:42:41.236|00           |0000013343459|2013-10-24    |10000          |00                  |91       |34              |0          |1                      |8                      |66        |                   |                 |                          |ALONSO        |                |SILVIA          |1                  |F          |1959-12-14|80                    |080                 |201                  |100        |0                         |82                          |21101000                       |0                       |null                    |null                      |null                    |null                      |0                           |0                 |0                       |0                  |1                  |null                       |null             |PCLE06R            |1                |1                              |PO                  |47                   |null              |null            |                    |null                      |0027133434599   |042                       |null                |016          |020183620       |N                   |MO                 |001     |2013-10-24           |null                     |2013-10-24                |2013-10-24    |161602              |P37B                |PCLE10P         |S            |null                     |null                   |2022-03-10 01:05:30.551|REL.DEPENDENCIA/FIJO|1      |54-11-3868-8489|{\"phone_type\":\"3\",\"phone_country_id\":\"080\",\"prefix_phone_id\":\"54\",\"phone_area_id\":\"11\",\"cellphone_prefix_id\":\"15\",\"phone_exchange_id\":\"3868\",\"phone_line_id\":\"8489\"}|\n",
            "|01552941   |00            |0                  |3                |3         |080             |54             |11           |15                 |3104             |0391         |968219127861|               |                       |N                 |N                    |                 |          |           |DECLARADO                 |2022-10-09           |01                  |PVTA                 |                |NORM AUTO                |COSM                     |2022-10-09        |1900-01-01         |1900-01-01       |                    |                     |                       |                      |                    |                      |00:00:00                      |00:00:00                    |2022-10-09         |VW2CCON0        |2022-10-09      |VW2CCON0           |151347              |PVTA                   |2022-11-30 00:42:41.236|00           |0000037609555|2015-03-09    |10000          |00                  |68       |34              |0          |1                      |8                      |42        |                   |                 |                          |VELOZ         |                |MAURICIO        |5                  |M          |1993-08-26|80                    |080                 |201                  |100        |0                         |82                          |21101000                       |0                       |null                    |null                      |null                    |null                      |                            |0                 |0                       |0                  |2                  |null                       |null             |PCLE861            |1                |1                              |CA                  |47                   |null              |null            |                    |null                      |0020376095550   |042                       |null                |016          |021204262       |N                   |PS                 |001     |2015-03-09           |null                     |2015-03-09                |2015-03-09    |052323              |P37B                |PCLE510         |S            |null                     |null                   |2022-03-10 01:05:30.551|REL.DEPENDENCIA/FIJO|1      |54-11-3104-0391|{\"phone_type\":\"3\",\"phone_country_id\":\"080\",\"prefix_phone_id\":\"54\",\"phone_area_id\":\"11\",\"cellphone_prefix_id\":\"15\",\"phone_exchange_id\":\"3104\",\"phone_line_id\":\"0391\"}|\n",
            "|01554790   |00            |0                  |4                |3         |080             |54             |11           |15                 |3096             |4113         |589386119684|               |                       |N                 |N                    |                 |          |           |COMPROBADO                |2022-10-17           |01                  |PVTA                 |                |NORM AUTO                |COSM                     |2022-10-17        |1900-01-01         |1900-01-01       |                    |                     |                       |                      |                    |                      |00:00:00                      |00:00:00                    |2022-10-17         |UPROVTAS        |2022-10-28      |PCLUPCRT           |125206              |OSMS                   |2022-11-30 00:42:41.236|27           |0000007543108|1993-08-31    |10000          |                    |243      |34              |0          |1                      |8                      |226       |                   |                 |                          |VILLALBA      |                |CARMELO         |1                  |M          |1937-07-16|80                    |080                 |201                  |100        |0                         |82                          |21101000                       |0                       |null                    |null                      |null                    |null                      |0                           |0                 |0                       |0                  |0                  |null                       |null             |PCLE25Q            |0                |1                              |CA                  |47                   |null              |null            |                    |null                      |0020075431083   |042                       |null                |016          |                |N                   |AD                 |001     |2009-01-01           |null                     |1993-08-31                |2013-03-09    |163326              |P37B                |VUELCO          |S            |null                     |null                   |2022-03-10 01:05:30.551|REL.DEPENDENCIA/FIJO|1      |54-11-3096-4113|{\"phone_type\":\"3\",\"phone_country_id\":\"080\",\"prefix_phone_id\":\"54\",\"phone_area_id\":\"11\",\"cellphone_prefix_id\":\"15\",\"phone_exchange_id\":\"3096\",\"phone_line_id\":\"4113\"}|\n",
            "|01867148   |01            |0                  |2                |5         |080             |54             |263          |                   |444              |9082         |6481913268  |               |                       |N                 |N                    |                 |          |           |DECLARADO                 |2022-09-12           |01                  |CTES                 |                |NORM AUTO                |COPDTEL                  |2022-09-12        |1900-01-01         |1900-01-01       |                    |                     |                       |                      |                    |                      |00:00:00                      |00:00:00                    |2022-09-12         |A24137          |2022-09-12      |A24137             |092145              |5406                   |2022-11-30 00:42:41.236|00           |0000022344433|2010-01-27    |10000          |00                  |15       |34              |0          |1                      |1                      |81        |                   |                 |                          |VUOTTO        |                |ANDRES LEOPOLDO |1                  |M          |1971-11-30|80                    |080                 |201                  |100        |0                         |82                          |21101000                       |0                       |null                    |null                      |null                    |null                      |0                           |0                 |0                       |0                  |1                  |null                       |null             |PCLE06R            |1                |1                              |PO                  |47                   |null              |null            |                    |null                      |0020223444335   |042                       |null                |016          |001965440       |N                   |                   |001     |2010-01-27           |null                     |2010-01-27                |2010-01-27    |161525              |P37B                |VUELCO          |S            |null                     |null                   |2022-03-10 01:05:30.551|REL.DEPENDENCIA/FIJO|1      |54-263-444-9082|{\"phone_type\":\"5\",\"phone_country_id\":\"080\",\"prefix_phone_id\":\"54\",\"phone_area_id\":\"263\",\"cellphone_prefix_id\":\"\",\"phone_exchange_id\":\"444\",\"phone_line_id\":\"9082\"}  |\n",
            "|01944559   |00            |0                  |1                |3         |080             |54             |3462         |15                 |23               |4113         |066601131275|               |                       |N                 |N                    |                 |          |           |DECLARADO                 |2022-11-29           |01                  |CTES                 |                |NORM OPER                |NE                       |2022-11-29        |1900-01-01         |1900-01-01       |                    |                     |                       |                      |                    |                      |00:00:00                      |00:00:00                    |2022-11-29         |A127304         |2022-11-29      |A127304            |111850              |L0D2                   |2022-11-30 00:42:41.236|00           |0000036736452|2016-03-09    |10000          |39                  |3        |30              |0          |1                      |1                      |8         |080                |                 |                          |VILLAMAYOR    |                |DAIANA GISELLE  |5                  |F          |1992-04-15|80                    |080                 |201                  |100        |0                         |82                          |21101000                       |0                       |null                    |null                      |null                    |null                      |2                           |35                |0                       |0                  |2                  |null                       |null             |PCLE825            |2                |1                              |AC                  |43                   |null              |null            |                    |21                        |0027367364527   |042                       |null                |007          |022554726       |N                   |                   |001     |2016-04-25           |null                     |2016-03-09                |2022-02-21    |125932              |B                   |GPROBANK        |N            |null                     |2016-04-25             |2022-03-10 01:05:30.551|REL.DEPENDENCIA/FIJO|1      |54-3462-23-4113|{\"phone_type\":\"3\",\"phone_country_id\":\"080\",\"prefix_phone_id\":\"54\",\"phone_area_id\":\"3462\",\"cellphone_prefix_id\":\"15\",\"phone_exchange_id\":\"23\",\"phone_line_id\":\"4113\"}|\n",
            "|01944559   |01            |0                  |2                |1         |080             |54             |3462         |                   |42               |2372         |7007183762  |               |                       |N                 |N                    |                 |          |           |DECLARADO                 |2022-11-29           |01                  |CTES                 |                |NORM AUTO                |COPDTEL                  |2022-11-29        |1900-01-01         |1900-01-01       |                    |                     |                       |                      |                    |                      |00:00:00                      |00:00:00                    |2022-11-29         |A127304         |2022-11-29      |A127304            |111850              |L0D2                   |2022-11-30 00:42:41.236|00           |0000036736452|2016-03-09    |10000          |39                  |3        |30              |0          |1                      |1                      |8         |080                |                 |                          |VILLAMAYOR    |                |DAIANA GISELLE  |5                  |F          |1992-04-15|80                    |080                 |201                  |100        |0                         |82                          |21101000                       |0                       |null                    |null                      |null                    |null                      |2                           |35                |0                       |0                  |2                  |null                       |null             |PCLE825            |2                |1                              |AC                  |43                   |null              |null            |                    |21                        |0027367364527   |042                       |null                |007          |022554726       |N                   |                   |001     |2016-04-25           |null                     |2016-03-09                |2022-02-21    |125932              |B                   |GPROBANK        |N            |null                     |2016-04-25             |2022-03-10 01:05:30.551|REL.DEPENDENCIA/FIJO|2      |54-3462-42-2372|{\"phone_type\":\"1\",\"phone_country_id\":\"080\",\"prefix_phone_id\":\"54\",\"phone_area_id\":\"3462\",\"cellphone_prefix_id\":\"\",\"phone_exchange_id\":\"42\",\"phone_line_id\":\"2372\"}  |\n",
            "|01967286   |00            |0                  |2                |3         |080             |54             |11           |15                 |5961             |9424         |575941007005|               |PRENDARIO              |N                 |N                    |                 |          |           |COMPROBADO                |2022-08-26           |01                  |VINC                 |                |NORM AUTO                |COSM                     |2022-08-26        |1900-01-01         |1900-01-01       |                    |                     |                       |                      |                    |                      |00:00:00                      |00:00:00                    |2022-08-26         |A32173          |2022-08-26      |PCLUPCRT           |152420              |OSMS                   |2022-11-30 00:42:41.236|00           |0000017546990|2007-07-10    |10000          |                    |116      |34              |0          |1                      |1                      |451       |                   |                 |                          |LATTUADA      |                |PABLO GERMAN    |1                  |M          |1965-02-09|80                    |080                 |201                  |100        |0                         |82                          |21101000                       |0                       |null                    |null                      |null                    |null                      |0                           |0                 |0                       |0                  |1                  |null                       |null             |PCLE06MM           |0                |1                              |PO                  |47                   |null              |null            |                    |null                      |0020175469908   |042                       |null                |016          |007856218       |N                   |                   |001     |2009-01-01           |null                     |2007-07-10                |2008-05-02    |181547              |P37B                |VUELCO          |S            |null                     |null                   |2022-03-10 01:05:30.551|REL.DEPENDENCIA/FIJO|1      |54-11-5961-9424|{\"phone_type\":\"3\",\"phone_country_id\":\"080\",\"prefix_phone_id\":\"54\",\"phone_area_id\":\"11\",\"cellphone_prefix_id\":\"15\",\"phone_exchange_id\":\"5961\",\"phone_line_id\":\"9424\"}|\n",
            "|01967286   |01            |0                  |3                |3         |080             |54             |11           |15                 |5329             |3089         |752433735066|               |PRENDARIO              |N                 |N                    |                 |          |           |DECLARADO                 |2022-08-26           |01                  |VINC                 |                |NORM AUTO                |COSM                     |2022-08-26        |1900-01-01         |1900-01-01       |                    |                     |                       |                      |                    |                      |00:00:00                      |00:00:00                    |2022-08-26         |A32173          |2022-08-26      |A32173             |145622              |ÑCMD                   |2022-11-30 00:42:41.236|00           |0000017546990|2007-07-10    |10000          |                    |116      |34              |0          |1                      |1                      |451       |                   |                 |                          |LATTUADA      |                |PABLO GERMAN    |1                  |M          |1965-02-09|80                    |080                 |201                  |100        |0                         |82                          |21101000                       |0                       |null                    |null                      |null                    |null                      |0                           |0                 |0                       |0                  |1                  |null                       |null             |PCLE06MM           |0                |1                              |PO                  |47                   |null              |null            |                    |null                      |0020175469908   |042                       |null                |016          |007856218       |N                   |                   |001     |2009-01-01           |null                     |2007-07-10                |2008-05-02    |181547              |P37B                |VUELCO          |S            |null                     |null                   |2022-03-10 01:05:30.551|REL.DEPENDENCIA/FIJO|2      |54-11-5329-3089|{\"phone_type\":\"3\",\"phone_country_id\":\"080\",\"prefix_phone_id\":\"54\",\"phone_area_id\":\"11\",\"cellphone_prefix_id\":\"15\",\"phone_exchange_id\":\"5329\",\"phone_line_id\":\"3089\"}|\n",
            "|02394468   |00            |0                  |3                |1         |080             |54             |221          |                   |461              |6821         |1469189164  |               |                       |N                 |N                    |                 |          |           |DECLARADO                 |2022-10-26           |01                  |CTES                 |                |NORM AUTO                |COSM                     |2022-10-26        |1900-01-01         |1900-01-01       |                    |                     |                       |                      |                    |                      |00:00:00                      |00:00:00                    |2022-10-26         |A58708          |2022-10-26      |A58708             |102821              |Y1C5                   |2022-11-30 00:42:41.236|00           |0000017547625|2014-11-04    |10000          |00                  |603      |34              |0          |1                      |8                      |2603      |                   |                 |                          |NERI          |                |RICARDO LUIS    |1                  |M          |1965-11-25|80                    |080                 |201                  |100        |0                         |82                          |21101000                       |0                       |null                    |null                      |null                    |null                      |0                           |0                 |0                       |0                  |0                  |null                       |null             |PCLE06R            |1                |1                              |PO                  |47                   |null              |null            |                    |null                      |0020175476254   |042                       |null                |016          |020856100       |N                   |MD                 |001     |2014-11-04           |null                     |2014-11-04                |2014-11-04    |161527              |P37B                |PCLE10P         |S            |null                     |null                   |2022-03-10 01:05:30.551|REL.DEPENDENCIA/FIJO|1      |54-221-461-6821|{\"phone_type\":\"1\",\"phone_country_id\":\"080\",\"prefix_phone_id\":\"54\",\"phone_area_id\":\"221\",\"cellphone_prefix_id\":\"\",\"phone_exchange_id\":\"461\",\"phone_line_id\":\"6821\"}  |\n",
            "|02394468   |00            |0                  |4                |3         |080             |54             |11           |15                 |6513             |6425         |524116800302|               |                       |N                 |N                    |                 |          |           |COMPROBADO                |2022-10-26           |01                  |CTES                 |                |NORM AUTO                |COSM                     |2022-10-26        |1900-01-01         |1900-01-01       |                    |                     |                       |                      |                    |                      |00:00:00                      |00:00:00                    |2022-10-26         |A58708          |2022-10-26      |PCLUPCRT           |163558              |OSMS                   |2022-11-30 00:42:41.236|00           |0000017547625|2014-11-04    |10000          |00                  |603      |34              |0          |1                      |8                      |2603      |                   |                 |                          |NERI          |                |RICARDO LUIS    |1                  |M          |1965-11-25|80                    |080                 |201                  |100        |0                         |82                          |21101000                       |0                       |null                    |null                      |null                    |null                      |0                           |0                 |0                       |0                  |0                  |null                       |null             |PCLE06R            |1                |1                              |PO                  |47                   |null              |null            |                    |null                      |0020175476254   |042                       |null                |016          |020856100       |N                   |MD                 |001     |2014-11-04           |null                     |2014-11-04                |2014-11-04    |161527              |P37B                |PCLE10P         |S            |null                     |null                   |2022-03-10 01:05:30.551|REL.DEPENDENCIA/FIJO|2      |54-11-6513-6425|{\"phone_type\":\"3\",\"phone_country_id\":\"080\",\"prefix_phone_id\":\"54\",\"phone_area_id\":\"11\",\"cellphone_prefix_id\":\"15\",\"phone_exchange_id\":\"6513\",\"phone_line_id\":\"6425\"}|\n",
            "|02409159   |00            |0                  |2                |3         |080             |54             |336          |15                 |434              |6906         |887253651797|               |                       |N                 |N                    |                 |          |           |VALIDADO                  |2022-08-22           |01                  |WKFL                 |                |NORM AUTO                |COSM                     |2022-08-22        |1900-01-01         |1900-01-01       |                    |                     |                       |                      |                    |                      |00:00:00                      |00:00:00                    |2022-08-12         |A126278         |2022-08-22      |PCLESMS0           |211254              |P079                   |2022-11-30 00:42:41.236|00           |0000029590205|2019-05-27    |10000          |00                  |603      |34              |0          |1                      |8                      |2603      |                   |                 |                          |ANYER         |                |CLARA INES      |1                  |F          |1982-10-30|80                    |080                 |201                  |100        |0                         |82                          |21101000                       |0                       |null                    |null                      |null                    |null                      |0                           |0                 |0                       |0                  |0                  |null                       |null             |PCLE06R            |1                |1                              |PO                  |47                   |null              |null            |                    |null                      |0027295902057   |042                       |null                |016          |025719087       |N                   |MD                 |001     |2019-05-27           |null                     |2019-05-27                |2019-05-27    |003534              |P37B                |PCLE25H         |S            |null                     |null                   |2022-03-10 01:05:30.551|REL.DEPENDENCIA/FIJO|1      |54-336-434-6906|{\"phone_type\":\"3\",\"phone_country_id\":\"080\",\"prefix_phone_id\":\"54\",\"phone_area_id\":\"336\",\"cellphone_prefix_id\":\"15\",\"phone_exchange_id\":\"434\",\"phone_line_id\":\"6906\"}|\n",
            "|02425744   |00            |0                  |3                |3         |080             |54             |261          |15                 |255              |1104         |854346228244|               |                       |N                 |N                    |                 |          |           |COMPROBADO                |2022-10-24           |01                  |WKFL                 |                |NORM AUTO                |COSM                     |2022-10-24        |1900-01-01         |1900-01-01       |                    |                     |                       |                      |                    |                      |00:00:00                      |00:00:00                    |2022-10-24         |A117606         |2022-10-24      |PCLUPCRT           |103951              |OSMS                   |2022-11-30 00:42:41.236|27           |0000008031154|2020-07-30    |10000          |00                  |603      |34              |0          |1                      |8                      |2603      |                   |                 |                          |GONZALEZ      |                |LUIS RAUL       |1                  |M          |1946-08-25|80                    |080                 |201                  |100        |0                         |82                          |21101000                       |0                       |null                    |null                      |null                    |null                      |0                           |0                 |0                       |0                  |0                  |null                       |null             |PCLE06R            |1                |1                              |PO                  |47                   |null              |null            |                    |null                      |0020080311541   |042                       |null                |016          |027141305       |N                   |MD                 |001     |2020-07-30           |null                     |2020-07-30                |2020-07-30    |003216              |P37B                |PCLE25H         |S            |null                     |null                   |2022-03-10 01:05:30.551|REL.DEPENDENCIA/FIJO|1      |54-261-255-1104|{\"phone_type\":\"3\",\"phone_country_id\":\"080\",\"prefix_phone_id\":\"54\",\"phone_area_id\":\"261\",\"cellphone_prefix_id\":\"15\",\"phone_exchange_id\":\"255\",\"phone_line_id\":\"1104\"}|\n",
            "|02437816   |00            |0                  |2                |3         |080             |54             |2246         |15                 |50               |6591         |721257397568|               |                       |N                 |N                    |                 |          |           |COMPROBADO                |2022-08-31           |01                  |PVTA                 |                |NORM AUTO                |COSM                     |2022-08-31        |1900-01-01         |1900-01-01       |                    |                     |                       |                      |                    |                      |00:00:00                      |00:00:00                    |2022-08-31         |VW2CCON0        |2022-08-31      |PCLUPCRT           |125338              |OSMS                   |2022-11-30 00:42:41.236|27           |0000007961084|1996-04-26    |10000          |                    |151      |92              |0          |1                      |1                      |680       |080                |                 |                          |VAZQUEZ       |                |VICTOR EDUARDO  |5                  |M          |1949-09-12|80                    |080                 |201                  |100        |0                         |82                          |21101000                       |0                       |null                    |null                      |null                    |null                      |2                           |39                |0                       |0                  |2                  |null                       |null             |PCLE825            |2                |1                              |AC                  |50                   |null              |null            |                    |21                        |0020079610845   |042                       |null                |039          |                |N                   |                   |004     |2014-04-16           |null                     |1996-04-26                |2022-02-21    |130011              |B                   |VUELCO          |N            |null                     |2014-04-16             |2022-03-10 01:05:30.551|-                   |1      |54-2246-50-6591|{\"phone_type\":\"3\",\"phone_country_id\":\"080\",\"prefix_phone_id\":\"54\",\"phone_area_id\":\"2246\",\"cellphone_prefix_id\":\"15\",\"phone_exchange_id\":\"50\",\"phone_line_id\":\"6591\"}|\n",
            "+-----------+--------------+-------------------+-----------------+----------+----------------+---------------+-------------+-------------------+-----------------+-------------+------------+---------------+-----------------------+------------------+---------------------+-----------------+----------+-----------+--------------------------+---------------------+--------------------+---------------------+----------------+-------------------------+-------------------------+------------------+-------------------+-----------------+--------------------+---------------------+-----------------------+----------------------+--------------------+----------------------+------------------------------+----------------------------+-------------------+----------------+----------------+-------------------+--------------------+-----------------------+-----------------------+-------------+-------------+--------------+---------------+--------------------+---------+----------------+-----------+-----------------------+-----------------------+----------+-------------------+-----------------+--------------------------+--------------+----------------+----------------+-------------------+-----------+----------+----------------------+--------------------+---------------------+-----------+--------------------------+----------------------------+-------------------------------+------------------------+------------------------+--------------------------+------------------------+--------------------------+----------------------------+------------------+------------------------+-------------------+-------------------+---------------------------+-----------------+-------------------+-----------------+-------------------------------+--------------------+---------------------+------------------+----------------+--------------------+--------------------------+----------------+--------------------------+--------------------+-------------+----------------+--------------------+-------------------+--------+---------------------+-------------------------+--------------------------+--------------+--------------------+--------------------+----------------+-------------+-------------------------+-----------------------+-----------------------+--------------------+-------+---------------+--------------------------------------------------------------------------------------------------------------------------------------------------------------------+\n",
            "only showing top 20 rows\n",
            "\n"
          ]
        }
      ]
    },
    {
      "cell_type": "markdown",
      "source": [
        "####- 32 - Agregar una nueva columna al DataFrame de direcciones de clientes, resguardando el contacto en formato json contenido en string, con los datos: Calle, Número, Piso, Depto, Localidad, Provincia, Código postal"
      ],
      "metadata": {
        "id": "pkvx-DLPLPNI"
      }
    },
    {
      "cell_type": "code",
      "source": [
        "df_address_contact = df_address_contact.withColumn(\"address_contact\",to_json(struct(df_address_contact.street_name,df_address_contact.address_outdoor_id,df_address_contact.address_indoor_id,df_address_contact.indoor_number,df_address_contact.address_district_name, df_address_contact.address_town_name,df_address_contact.zipcode_id)))"
      ],
      "metadata": {
        "id": "rBQP_8IU5ymJ"
      },
      "execution_count": null,
      "outputs": []
    },
    {
      "cell_type": "code",
      "source": [
        "df_address_contact.show(truncate=False)"
      ],
      "metadata": {
        "colab": {
          "base_uri": "https://localhost:8080/"
        },
        "id": "qk59suBr6g0w",
        "outputId": "f2fcb841-e41a-4126-f1aa-a8e3882167f3"
      },
      "execution_count": null,
      "outputs": [
        {
          "output_type": "stream",
          "name": "stdout",
          "text": [
            "+-----------+-----------------------+-------------------+--------------+------------------------+------------------+---------------------------+-----------------+-------------+------------------------------+------------------------------+------------------------------+----------+---------------+-----------+------------------+------------------------------------------------------------+-------------------------+------------------+---------------------+------------------------------+-----------------------+--------------------+---------------------+------------------+-------------------------+-------------------------+------------------+-----------------------------+--------------------+---------------------+-----------------------+----------------------+--------------------+----------------------+------------------------------+----------------------------+------------------------+-------------------+----------------+----------------+-------------------+--------------------+-----------------------+-----------------+-----------------------+-------------+-------------+--------------+---------------+--------------------+---------+----------------+-----------+-----------------------+-----------------------+----------+-------------------+-----------------+--------------------------+--------------------+----------------+--------------------+-------------------+-----------+----------+----------------------+--------------------+---------------------+-----------+--------------------------+----------------------------+-------------------------------+------------------------+------------------------+--------------------------+------------------------+--------------------------+----------------------------+------------------+------------------------+-------------------+-------------------+---------------------------+-----------------+-------------------+-----------------+-------------------------------+--------------------+---------------------+------------------+----------------+--------------------+--------------------------+----------------+--------------------------+--------------------+-------------+----------------+--------------------+-------------------+--------+---------------------+-------------------------+--------------------------+--------------+--------------------+--------------------+----------------+-------------+-------------------------+-----------------------+-----------------------+--------------------+-------+-----------------------------------------------------------------------------------+---------------------------------------------------------------------------------------------------------------------------------------------------------------------------------------------------------------------------------------------------------------------+\n",
            "|customer_id|address_priority_number|address_sequence_id|residence_type|street_name             |address_outdoor_id|address_without_number_type|address_indoor_id|indoor_number|address_district_name         |address_town_name             |address_department_name       |zipcode_id|long_zipcode_id|province_id|address_country_id|other_information_desc                                      |address_relationship_type|address_start_date|address_verified_date|customer_locator_verified_type|address_status_mod_date|contact_channel_type|sender_application_id|returned_mail_type|normalization_status_type|normalization_reason_name|normalization_date|normalized_level_match_number|dlvy_day_monday_type|dlvy_day_tuesday_type|dlvy_day_wednesday_type|dlvy_day_thursday_type|dlvy_day_friday_type|dlvy_day_saturday_type|delivery_contact_start_hm_date|delivery_contact_end_hm_date|prev_address_sequence_id|registry_entry_date|register_user_id|last_change_date|last_change_user_id|last_change_hms_date|last_change_terminal_id|registration_type|operational_load_date  |personal_type|personal_id  |admission_date|sale_channel_id|operation_channel_id|branch_id|business_area_id|campaing_id|customer_situation_type|customer_condition_type|manager_id|tracking_manager_id|credit_manager_id|credit_recovery_manager_id|last_name           |second_last_name|first_name          |marital_status_type|gender_type|birth_date|country_nationality_id|residence_country_id|customer_subject_type|sector_type|customer_level_access_type|cust_bcra_econ_activity_type|internal_economic_activity_type|bbva_inhabilitation_type|customer_block_bbva_date|customer_unblock_bbva_date|customer_block_bcra_date|customer_unblock_bcra_date|customer_pending_notice_type|last_notice_number|last_reference_number_id|last_service_number|last_address_number|last_unlinking_account_date|customer_end_date|last_change_user_id|customer_pep_type|bbva_family_lnk_weighted_number|customer_status_type|scoring_activity_type|refinancing_number|refinancing_date|coholder_customer_id|customer_bcra_situation_id|customer_cuit_id|customer_position_vat_type|balance_closing_date|profession_id|bbva_cust_number|customer_linked_type|customer_entry_type|job_type|profession_start_date|customer_first_block_date|customer_registration_date|l_c_d_customer|last_change_hms_date|register_terminal_id|register_user_id|customer_type|customer_seniority_number|last_status_change_date|operational_load_date  |job_type_desc       |row_num|full_address                                                                       |address_contact                                                                                                                                                                                                                                                      |\n",
            "+-----------+-----------------------+-------------------+--------------+------------------------+------------------+---------------------------+-----------------+-------------+------------------------------+------------------------------+------------------------------+----------+---------------+-----------+------------------+------------------------------------------------------------+-------------------------+------------------+---------------------+------------------------------+-----------------------+--------------------+---------------------+------------------+-------------------------+-------------------------+------------------+-----------------------------+--------------------+---------------------+-----------------------+----------------------+--------------------+----------------------+------------------------------+----------------------------+------------------------+-------------------+----------------+----------------+-------------------+--------------------+-----------------------+-----------------+-----------------------+-------------+-------------+--------------+---------------+--------------------+---------+----------------+-----------+-----------------------+-----------------------+----------+-------------------+-----------------+--------------------------+--------------------+----------------+--------------------+-------------------+-----------+----------+----------------------+--------------------+---------------------+-----------+--------------------------+----------------------------+-------------------------------+------------------------+------------------------+--------------------------+------------------------+--------------------------+----------------------------+------------------+------------------------+-------------------+-------------------+---------------------------+-----------------+-------------------+-----------------+-------------------------------+--------------------+---------------------+------------------+----------------+--------------------+--------------------------+----------------+--------------------------+--------------------+-------------+----------------+--------------------+-------------------+--------+---------------------+-------------------------+--------------------------+--------------+--------------------+--------------------+----------------+-------------+-------------------------+-----------------------+-----------------------+--------------------+-------+-----------------------------------------------------------------------------------+---------------------------------------------------------------------------------------------------------------------------------------------------------------------------------------------------------------------------------------------------------------------+\n",
            "|00000442   |1                      |0                  |06            |AGUERO                  |0000842           |N                          |PB               |B            |                              |CAPITAL FEDERAL               |112233114455                  |01171     |               |01         |080               |                                                            |1                        |2007-05-01        |1982-12-15           |A VERIF                       |2008-04-21             |00                  |VLCO                 |0                 |NO NORM                  |                         |null              |0.00                         |                    |                     |                       |                      |                    |                      |0000                          |0000                        |0                       |1996-11-30         |                |2008-04-21      |PCLE12Q            |061037              |CONV                   |-                |2022-01-13 21:32:57.144|27           |0000000000712|1994-12-23    |10000          |                    |340      |34              |0          |1                      |8                      |211       |                   |                 |                          |FELDMAN             |                |SAMUEL              |5                  |M          |1921-12-21|80                    |080                 |201                  |100        |0                         |82                          |21101000                       |0                       |null                    |null                      |null                    |null                      |0                           |0                 |0                       |0                  |1                  |null                       |null             |PCLE25Q            |0                |1                              |CA                  |47                   |null              |null            |                    |null                      |0027000007124   |042                       |null                |016          |                |N                   |OP                 |001     |2009-01-01           |null                     |1994-12-23                |2005-05-17    |161900              |P37B                |VUELCO          |S            |null                     |null                   |2022-03-10 01:05:30.551|REL.DEPENDENCIA/FIJO|1      |AGUERO                  0000842PB      B      112233114455                  0101171|{\"street_name\":\"AGUERO                  \",\"address_outdoor_id\":\"0000842\",\"address_indoor_id\":\"PB      \",\"indoor_number\":\"B      \",\"address_district_name\":\"                              \",\"address_town_name\":\"CAPITAL FEDERAL               \",\"zipcode_id\":\"01171\"}|\n",
            "|00001419   |1                      |0                  |06            |ALTE G BROWN            |0001074           |N                          |1                |A            |                              |MORON                         |MORON                         |01708     |B1708EFT       |02         |080               |                                                            |0                        |null              |null                 |NO VERIF                      |2009-01-26             |00                  |CTES                 |0                 |NORM AUTO                |CO                       |2009-01-26        |0.00                         |                    |                     |                       |                      |                    |                      |0000                          |0000                        |0                       |2009-01-26         |PCLE510         |2009-01-26      |PCLE510            |134000              |B                      |-                |2022-01-13 21:32:57.144|77           |0000000006055|1994-06-24    |00000          |                    |201      |30              |0          |1                      |8                      |521       |                   |                 |                          |ASOC.COOP.ESCUELA N'|                |SIMON DE IRIONDO    |null               |1          |1991-06-02|80                    |080                 |203                  |100        |0                         |74                          |86111000                       |0                       |null                    |null                      |null                    |null                      |0                           |0                 |0                       |0                  |0                  |null                       |null             |PCLE18Q            |0                |1                              |CA                  |null                 |null              |null            |                    |null                      |0000000000000   |062                       |null                |             |                |N                   |                   |        |2009-01-01           |null                     |1994-06-24                |2012-01-04    |060434              |P37B                |SINCRO          |S            |null                     |null                   |2022-03-10 01:05:30.551|-                   |1      |ALTE G BROWN            00010741       A      MORON                         0201708|{\"street_name\":\"ALTE G BROWN            \",\"address_outdoor_id\":\"0001074\",\"address_indoor_id\":\"1       \",\"indoor_number\":\"A      \",\"address_district_name\":\"                              \",\"address_town_name\":\"MORON                         \",\"zipcode_id\":\"01708\"}|\n",
            "|00001939   |1                      |0                  |06            |JOSE HERNANDEZ          |0002045           |N                          |1                |C            |                              |CIUDAD AUTONOMA BUENOS AIRES  |CAPITAL FEDERAL               |01426     |C1426EOI       |01         |080               |                                                            |0                        |null              |null                 |NO VERIF                      |2009-01-26             |00                  |CTES                 |0                 |NORM AUTO                |CO                       |2009-01-26        |0.00                         |                    |                     |                       |                      |                    |                      |0000                          |0000                        |0                       |2009-01-26         |PCLE07Q         |2009-01-26      |PCLE07Q            |155342              |BAT                    |-                |2022-01-13 21:32:57.144|26           |0000000009434|1996-09-26    |10000          |                    |999      |34              |0          |1                      |8                      |901       |                   |                 |                          |SAN PEDRO           |                |MARTHA JUANA        |5                  |F          |null      |80                    |080                 |201                  |100        |0                         |82                          |21101000                       |0                       |null                    |null                      |null                    |null                      |0                           |0                 |0                       |0                  |0                  |null                       |null             |PCLE06MM           |0                |1                              |CA                  |47                   |null              |null            |                    |null                      |0000000000000   |042                       |null                |016          |                |N                   |                   |001     |2009-01-01           |null                     |1996-09-26                |2009-09-18    |161052              |P37B                |VUELCO          |S            |null                     |null                   |2022-03-10 01:05:30.551|REL.DEPENDENCIA/FIJO|1      |JOSE HERNANDEZ          00020451       C      CAPITAL FEDERAL               0101426|{\"street_name\":\"JOSE HERNANDEZ          \",\"address_outdoor_id\":\"0002045\",\"address_indoor_id\":\"1       \",\"indoor_number\":\"C      \",\"address_district_name\":\"                              \",\"address_town_name\":\"CIUDAD AUTONOMA BUENOS AIRES  \",\"zipcode_id\":\"01426\"}|\n",
            "|00002707   |1                      |0                  |06            |GUATEMALA               |0001846           |N                          |                 |             |                              |VIRREYES                      |112233114455                  |01646     |               |02         |080               |                                                            |0                        |null              |null                 |NO VERIF                      |2008-07-16             |00                  |CTES                 |1                 |NORM USU                 |NEAI                     |2008-07-16        |0.00                         |                    |                     |                       |                      |                    |                      |0000                          |0000                        |0                       |2008-07-16         |PCLE510         |2011-07-01      |PCLE05T            |144535              |B                      |-                |2022-01-13 21:32:57.144|27           |0000000015988|1995-11-21    |10000          |                    |81       |34              |0          |1                      |8                      |233       |                   |                 |                          |CAPITAINE           |                |FUNES CARLOS        |5                  |M          |null      |80                    |080                 |201                  |100        |0                         |82                          |21101000                       |0                       |null                    |null                      |null                    |null                      |0                           |0                 |0                       |0                  |0                  |null                       |null             |PCLE25Q            |0                |1                              |CA                  |47                   |null              |null            |                    |null                      |0000000000000   |042                       |null                |016          |                |N                   |                   |001     |2009-01-01           |null                     |1995-11-21                |2009-09-18    |161900              |P37B                |VUELCO          |S            |null                     |null                   |2022-03-10 01:05:30.551|REL.DEPENDENCIA/FIJO|1      |GUATEMALA               0001846               112233114455                  0201646|{\"street_name\":\"GUATEMALA               \",\"address_outdoor_id\":\"0001846\",\"address_indoor_id\":\"        \",\"indoor_number\":\"       \",\"address_district_name\":\"                              \",\"address_town_name\":\"VIRREYES                      \",\"zipcode_id\":\"01646\"}|\n",
            "|00002790   |1                      |0                  |06            |AV CORDOBA              |0002206           |N                          |4                |30           |                              |CIUDAD AUTONOMA BUENOS AIRES  |CAPITAL FEDERAL               |01120     |C1120AAR       |01         |080               |                                                            |0                        |null              |null                 |NO VERIF                      |2009-01-26             |00                  |CTES                 |0                 |NORM AUTO                |CO                       |2009-01-26        |0.00                         |                    |                     |                       |                      |                    |                      |0000                          |0000                        |0                       |2009-01-26         |PCLE07Q         |2009-01-26      |PCLE07Q            |155342              |BAT                    |-                |2022-01-13 21:32:57.144|27           |0000000016701|1995-11-21    |10000          |                    |81       |34              |0          |1                      |8                      |233       |                   |                 |                          |MANCINI             |                |MARCELINO A         |5                  |M          |null      |80                    |080                 |201                  |100        |0                         |82                          |21101000                       |0                       |null                    |null                      |null                    |null                      |0                           |0                 |0                       |0                  |2                  |null                       |null             |PCLE25Q            |0                |1                              |CA                  |47                   |null              |null            |                    |null                      |0000000000000   |042                       |null                |016          |                |N                   |                   |001     |2009-01-01           |null                     |1995-11-21                |2009-09-18    |161900              |P37B                |VUELCO          |S            |null                     |null                   |2022-03-10 01:05:30.551|REL.DEPENDENCIA/FIJO|1      |AV CORDOBA              00022064       30     CAPITAL FEDERAL               0101120|{\"street_name\":\"AV CORDOBA              \",\"address_outdoor_id\":\"0002206\",\"address_indoor_id\":\"4       \",\"indoor_number\":\"30     \",\"address_district_name\":\"                              \",\"address_town_name\":\"CIUDAD AUTONOMA BUENOS AIRES  \",\"zipcode_id\":\"01120\"}|\n",
            "|00004287   |1                      |0                  |06            |CNEL DE MARINA ROSALES  |0002750           |N                          |5                |C            |                              |OLIVOS                        |VICENTE LOPEZ                 |01636     |B1636DRB       |02         |080               |                                                            |0                        |null              |null                 |NO VERIF                      |2009-01-26             |00                  |CTES                 |0                 |NORM AUTO                |CO                       |2009-01-26        |0.00                         |                    |                     |                       |                      |                    |                      |0000                          |0000                        |0                       |2009-01-26         |PCLE510         |2009-01-26      |PCLE510            |134000              |B                      |-                |2022-01-13 21:32:57.144|26           |0000000038418|1994-11-22    |10000          |                    |999      |34              |0          |1                      |8                      |113       |                   |                 |                          |BLANCO              |                |BLANCA ADA          |5                  |F          |null      |80                    |080                 |201                  |100        |0                         |82                          |21101000                       |0                       |null                    |null                      |null                    |null                      |                            |0                 |0                       |0                  |0                  |null                       |null             |PCLE06R            |0                |1                              |CA                  |47                   |null              |null            |                    |null                      |0027000384181   |042                       |null                |016          |                |N                   |                   |001     |2009-01-01           |null                     |1994-11-22                |2009-09-18    |161052              |P37B                |VUELCO          |S            |null                     |null                   |2022-03-10 01:05:30.551|REL.DEPENDENCIA/FIJO|1      |CNEL DE MARINA ROSALES  00027505       C      VICENTE LOPEZ                 0201636|{\"street_name\":\"CNEL DE MARINA ROSALES  \",\"address_outdoor_id\":\"0002750\",\"address_indoor_id\":\"5       \",\"indoor_number\":\"C      \",\"address_district_name\":\"                              \",\"address_town_name\":\"OLIVOS                        \",\"zipcode_id\":\"01636\"}|\n",
            "|00004724   |1                      |0                  |06            |PJE MUTUALISMO          |0002559           |N                          |                 |             |                              |CIUDAD AUTONOMA BUENOS AIRES  |CAPITAL FEDERAL               |01284     |C1284AFA       |01         |080               |                                                            |0                        |null              |null                 |NO VERIF                      |2009-01-26             |00                  |CTES                 |0                 |NORM AUTO                |CO                       |2009-01-26        |0.00                         |                    |                     |                       |                      |                    |                      |0000                          |0000                        |0                       |2009-01-26         |PCLE07Q         |2009-01-26      |PCLE07Q            |155342              |BAT                    |-                |2022-01-13 21:32:57.144|28           |0000000043807|1993-08-24    |10000          |                    |25       |34              |0          |1                      |1                      |113       |                   |                 |                          |TUEZZO              |                |TERESA              |5                  |F          |1920-02-20|80                    |080                 |201                  |100        |0                         |82                          |21101000                       |0                       |null                    |null                      |null                    |null                      |0                           |0                 |0                       |0                  |0                  |null                       |null             |PCLE25Q            |0                |1                              |CA                  |47                   |null              |null            |                    |null                      |0027000438079   |042                       |null                |016          |                |N                   |                   |001     |2009-01-01           |null                     |1993-08-24                |2009-12-14    |161900              |P37B                |VUELCO          |S            |null                     |null                   |2022-03-10 01:05:30.551|REL.DEPENDENCIA/FIJO|1      |PJE MUTUALISMO          0002559               CAPITAL FEDERAL               0101284|{\"street_name\":\"PJE MUTUALISMO          \",\"address_outdoor_id\":\"0002559\",\"address_indoor_id\":\"        \",\"indoor_number\":\"       \",\"address_district_name\":\"                              \",\"address_town_name\":\"CIUDAD AUTONOMA BUENOS AIRES  \",\"zipcode_id\":\"01284\"}|\n",
            "|00007932   |2                      |1                  |03            |AV FELIX DE OLAZABAL    |0005392           |N                          |1                |C            |                              |CIUDAD AUTONOMA BUENOS AIRES  |CAPITAL FEDERAL               |01431     |C1431CGW       |01         |080               |                                                            |1                        |1994-04-01        |1998-05-27           |NO VERIF                      |2007-12-21             |00                  |VLCO                 |0                 |NORM AUTO                |CO                       |2007-11-01        |0.00                         |                    |                     |                       |                      |                    |                      |0000                          |0000                        |1                       |1999-10-14         |                |2007-11-02      |PCLE12F            |174055              |CONV                   |-                |2022-01-13 21:32:57.144|28           |0000000092563|1993-08-03    |10000          |                    |165      |34              |0          |1                      |8                      |495       |                   |                 |                          |MOMENTI             |                |PERLA               |5                  |F          |1924-01-23|80                    |080                 |201                  |100        |0                         |82                          |21101000                       |0                       |null                    |null                      |null                    |null                      |0                           |0                 |0                       |0                  |0                  |null                       |null             |PCLE25Q            |0                |1                              |CA                  |47                   |null              |null            |                    |null                      |0027000925638   |042                       |null                |016          |                |N                   |AD                 |001     |2009-01-01           |null                     |1993-08-03                |2013-03-09    |161900              |P37B                |VUELCO          |S            |null                     |null                   |2022-03-10 01:05:30.551|REL.DEPENDENCIA/FIJO|1      |AV FELIX DE OLAZABAL    00053921       C      CAPITAL FEDERAL               0101431|{\"street_name\":\"AV FELIX DE OLAZABAL    \",\"address_outdoor_id\":\"0005392\",\"address_indoor_id\":\"1       \",\"indoor_number\":\"C      \",\"address_district_name\":\"                              \",\"address_town_name\":\"CIUDAD AUTONOMA BUENOS AIRES  \",\"zipcode_id\":\"01431\"}|\n",
            "|00011850   |1                      |0                  |06            |JUNCAL                  |0001027           |N                          |                 |             |                              |CIUDAD AUTONOMA BUENOS AIRES  |CAPITAL FEDERAL               |01062     |C1062ABI       |01         |080               |                                                            |0                        |null              |null                 |NO VERIF                      |2009-01-26             |00                  |CTES                 |0                 |NORM AUTO                |CO                       |2009-01-26        |0.00                         |                    |                     |                       |                      |                    |                      |0000                          |0000                        |0                       |2009-01-26         |PCLE07Q         |2009-01-26      |PCLE07Q            |155342              |BAT                    |-                |2022-01-13 21:32:57.144|50           |0000000104668|1979-08-31    |00000          |                    |999      |40              |0          |1                      |1                      |1101      |                   |                 |                          |BATTISTI PABLO CALIX|                |BATTISTI PABLO CALIX|null               |0          |null      |80                    |080                 |203                  |100        |0                         |74                          |86111000                       |0                       |null                    |null                      |null                    |null                      |                            |0                 |0                       |0                  |0                  |null                       |null             |RCLMCNE            |0                |1                              |CA                  |null                 |null              |null            |                    |null                      |0000000104668   |062                       |null                |             |                |N                   |                   |        |2009-01-01           |null                     |1994-06-24                |2021-04-06    |170226              |P37C                |VUELCO          |             |null                     |null                   |2022-03-10 01:05:30.551|-                   |1      |JUNCAL                  0001027               CAPITAL FEDERAL               0101062|{\"street_name\":\"JUNCAL                  \",\"address_outdoor_id\":\"0001027\",\"address_indoor_id\":\"        \",\"indoor_number\":\"       \",\"address_district_name\":\"                              \",\"address_town_name\":\"CIUDAD AUTONOMA BUENOS AIRES  \",\"zipcode_id\":\"01062\"}|\n",
            "|00012051   |1                      |0                  |06            |AV GRAL JOSE MARIA PAZ  |0005310           |N                          |3                |E            |                              |CIUDAD AUTONOMA BUENOS AIRES  |CAPITAL FEDERAL               |01419     |C1419FYQ       |01         |080               |                                                            |0                        |null              |null                 |NO VERIF                      |2009-01-26             |00                  |CTES                 |0                 |NORM AUTO                |CO                       |2009-01-26        |0.00                         |                    |                     |                       |                      |                    |                      |0000                          |0000                        |0                       |2009-01-26         |PCLE07Q         |2009-01-26      |PCLE07Q            |155342              |BAT                    |-                |2022-01-13 21:32:57.144|50           |0000000104886|1979-08-31    |00000          |                    |999      |40              |0          |1                      |1                      |1101      |                   |                 |                          |OLIVERA FEDERICO    |                |OLIVERA FEDERICO    |null               |0          |null      |80                    |080                 |203                  |100        |0                         |74                          |86111000                       |0                       |null                    |null                      |null                    |null                      |                            |0                 |0                       |0                  |0                  |null                       |null             |RCLMCNE            |0                |1                              |CA                  |null                 |null              |null            |                    |null                      |0000000104886   |062                       |null                |             |                |N                   |                   |        |2009-01-01           |null                     |1994-06-22                |2021-04-06    |170226              |P37C                |VUELCO          |             |null                     |null                   |2022-03-10 01:05:30.551|-                   |1      |AV GRAL JOSE MARIA PAZ  00053103       E      CAPITAL FEDERAL               0101419|{\"street_name\":\"AV GRAL JOSE MARIA PAZ  \",\"address_outdoor_id\":\"0005310\",\"address_indoor_id\":\"3       \",\"indoor_number\":\"E      \",\"address_district_name\":\"                              \",\"address_town_name\":\"CIUDAD AUTONOMA BUENOS AIRES  \",\"zipcode_id\":\"01419\"}|\n",
            "|00012611   |1                      |0                  |06            |ALBERTO LARROQUE        |0000991           |N                          |                 |             |                              |BANFIELD                      |LOMAS DE ZAMORA               |01828     |B1828HPS       |02         |080               |                                                            |0                        |null              |null                 |NO VERIF                      |2009-01-26             |00                  |CTES                 |0                 |NORM AUTO                |CO                       |2009-01-26        |0.00                         |                    |                     |                       |                      |                    |                      |0000                          |0000                        |0                       |2009-01-26         |PCLE510         |2009-01-26      |PCLE510            |134000              |B                      |-                |2022-01-13 21:32:57.144|28           |0000000109388|1994-09-26    |10000          |                    |150      |34              |0          |1                      |8                      |498       |                   |                 |                          |ARISTEGUI           |                |JULIA               |5                  |F          |null      |80                    |080                 |201                  |100        |0                         |82                          |21101000                       |0                       |null                    |null                      |null                    |null                      |                            |0                 |0                       |0                  |0                  |null                       |null             |PCLE25Q            |0                |1                              |CA                  |47                   |null              |null            |                    |null                      |0027001093881   |042                       |null                |016          |                |N                   |                   |001     |2009-01-01           |null                     |1994-01-10                |2009-09-18    |161900              |P37B                |VUELCO          |S            |null                     |null                   |2022-03-10 01:05:30.551|REL.DEPENDENCIA/FIJO|1      |ALBERTO LARROQUE        0000991               LOMAS DE ZAMORA               0201828|{\"street_name\":\"ALBERTO LARROQUE        \",\"address_outdoor_id\":\"0000991\",\"address_indoor_id\":\"        \",\"indoor_number\":\"       \",\"address_district_name\":\"                              \",\"address_town_name\":\"BANFIELD                      \",\"zipcode_id\":\"01828\"}|\n",
            "|00013498   |1                      |0                  |06            |AV PTE H YRIGOYEN       |0010600           |N                          |                 |             |                              |TEMPERLEY                     |LOMAS DE ZAMORA               |01834     |B1834GTT       |02         |080               |                                                            |0                        |null              |null                 |NO VERIF                      |2009-01-26             |00                  |CTES                 |0                 |NORM AUTO                |CO                       |2009-01-26        |0.00                         |                    |                     |                       |                      |                    |                      |0000                          |0000                        |0                       |2009-01-26         |PCLE07Q         |2009-01-26      |PCLE07Q            |155342              |BAT                    |-                |2022-01-13 21:32:57.144|26           |0000000121540|1996-09-26    |10000          |                    |999      |34              |0          |1                      |8                      |901       |                   |                 |                          |VILLAR              |                |ANA MARIA           |5                  |F          |null      |80                    |080                 |201                  |100        |0                         |82                          |21101000                       |0                       |null                    |null                      |null                    |null                      |0                           |0                 |0                       |0                  |0                  |null                       |null             |PCLE06MM           |0                |1                              |CA                  |47                   |null              |null            |                    |null                      |0027001215405   |042                       |null                |016          |                |N                   |                   |001     |2009-01-01           |null                     |1996-09-26                |2009-09-18    |161052              |P37B                |VUELCO          |S            |null                     |null                   |2022-03-10 01:05:30.551|REL.DEPENDENCIA/FIJO|1      |AV PTE H YRIGOYEN       0010600               LOMAS DE ZAMORA               0201834|{\"street_name\":\"AV PTE H YRIGOYEN       \",\"address_outdoor_id\":\"0010600\",\"address_indoor_id\":\"        \",\"indoor_number\":\"       \",\"address_district_name\":\"                              \",\"address_town_name\":\"TEMPERLEY                     \",\"zipcode_id\":\"01834\"}|\n",
            "|00014664   |1                      |0                  |06            |AV TRIUNVIRATO          |0004337           |N                          |PB               |C            |                              |CIUDAD AUTONOMA BUENOS AIRES  |CAPITAL FEDERAL               |01431     |C1431FBG       |01         |080               |                                                            |0                        |null              |null                 |NO VERIF                      |2009-01-26             |00                  |CTES                 |0                 |NORM AUTO                |CO                       |2009-01-26        |0.00                         |                    |                     |                       |                      |                    |                      |0000                          |0000                        |0                       |2009-01-26         |PCLE07Q         |2009-01-26      |PCLE07Q            |155342              |BAT                    |-                |2022-01-13 21:32:57.144|28           |0000000135700|1993-04-12    |10000          |                    |140      |34              |0          |1                      |1                      |473       |                   |                 |                          |STOCHETTI           |                |ALICIA BETTY        |2                  |F          |1920-06-17|80                    |080                 |201                  |100        |0                         |82                          |21101000                       |0                       |null                    |null                      |null                    |null                      |0                           |0                 |0                       |0                  |0                  |null                       |null             |PCLE25Q            |0                |1                              |CA                  |47                   |null              |null            |                    |null                      |0027001357005   |042                       |null                |016          |                |N                   |                   |001     |2009-01-01           |null                     |1994-01-17                |2000-06-23    |161900              |P37B                |VUELCO          |S            |null                     |null                   |2022-03-10 01:05:30.551|REL.DEPENDENCIA/FIJO|1      |AV TRIUNVIRATO          0004337PB      C      CAPITAL FEDERAL               0101431|{\"street_name\":\"AV TRIUNVIRATO          \",\"address_outdoor_id\":\"0004337\",\"address_indoor_id\":\"PB      \",\"indoor_number\":\"C      \",\"address_district_name\":\"                              \",\"address_town_name\":\"CIUDAD AUTONOMA BUENOS AIRES  \",\"zipcode_id\":\"01431\"}|\n",
            "|00015497   |1                      |0                  |06            |VUELTA DE OBLIGADO      |0002561           |N                          |7                |A            |                              |CIUDAD AUTONOMA BUENOS AIRES  |CAPITAL FEDERAL               |01428     |C1428ADO       |01         |080               |                                                            |0                        |null              |null                 |NO VERIF                      |2009-01-26             |00                  |CTES                 |0                 |NORM AUTO                |CO                       |2009-01-26        |0.00                         |                    |                     |                       |                      |                    |                      |0000                          |0000                        |0                       |2009-01-26         |PCLE07Q         |2009-01-26      |PCLE07Q            |155342              |BAT                    |-                |2022-01-13 21:32:57.144|30           |0000000146556|1993-03-12    |10000          |                    |108      |34              |0          |1                      |8                      |364       |                   |                 |                          |SANDFORD            |SMITH           |RUTH SARAH          |5                  |F          |1967-08-09|65                    |080                 |201                  |100        |0                         |82                          |21101000                       |0                       |null                    |null                      |null                    |null                      |0                           |0                 |0                       |0                  |0                  |null                       |null             |PCLE06R            |0                |1                              |CA                  |47                   |null              |null            |                    |null                      |0000000000000   |042                       |null                |016          |                |N                   |AD                 |001     |2009-01-01           |null                     |1993-11-17                |2013-03-09    |150515              |P37B                |VUELCO          |S            |null                     |null                   |2022-03-10 01:05:30.551|REL.DEPENDENCIA/FIJO|1      |VUELTA DE OBLIGADO      00025617       A      CAPITAL FEDERAL               0101428|{\"street_name\":\"VUELTA DE OBLIGADO      \",\"address_outdoor_id\":\"0002561\",\"address_indoor_id\":\"7       \",\"indoor_number\":\"A      \",\"address_district_name\":\"                              \",\"address_town_name\":\"CIUDAD AUTONOMA BUENOS AIRES  \",\"zipcode_id\":\"01428\"}|\n",
            "|00051576   |1                      |0                  |06            |ING GUILLERMO MARCONI   |0003215           |N                          |                 |             |                              |BECCAR                        |SAN ISIDRO                    |01643     |B1643FFQ       |02         |080               |                                                            |0                        |null              |null                 |NO VERIF                      |2009-01-26             |00                  |CTES                 |0                 |NORM AUTO                |CO                       |2009-01-26        |0.00                         |                    |                     |                       |                      |                    |                      |0000                          |0000                        |0                       |2009-01-26         |PCLE07Q         |2009-01-26      |PCLE07Q            |155342              |BAT                    |-                |2022-01-13 21:32:57.144|28           |0000000985182|1989-03-16    |10000          |                    |38       |34              |0          |1                      |8                      |137       |                   |                 |                          |BERAZATEGUI         |                |CARMEN              |1                  |F          |1935-05-07|80                    |080                 |201                  |100        |0                         |82                          |21101000                       |0                       |null                    |null                      |null                    |null                      |0                           |0                 |0                       |0                  |5                  |null                       |null             |PCLE25Q            |0                |1                              |CA                  |47                   |null              |null            |                    |null                      |0027009851823   |045                       |null                |016          |001017319       |N                   |AD                 |001     |2009-01-01           |null                     |1993-08-17                |2013-03-09    |162143              |P37B                |VUELCO          |S            |null                     |null                   |2022-03-10 01:05:30.551|REL.DEPENDENCIA/FIJO|1      |ING GUILLERMO MARCONI   0003215               SAN ISIDRO                    0201643|{\"street_name\":\"ING GUILLERMO MARCONI   \",\"address_outdoor_id\":\"0003215\",\"address_indoor_id\":\"        \",\"indoor_number\":\"       \",\"address_district_name\":\"                              \",\"address_town_name\":\"BECCAR                        \",\"zipcode_id\":\"01643\"}|\n",
            "|00053993   |1                      |0                  |06            |CALLE 899               |0001434           |N                          |                 |             |                              |QUILMES OESTE                 |QUILMES                       |01879     |B1879LIH       |02         |080               |                                                            |0                        |null              |null                 |NO VERIF                      |2009-01-26             |00                  |CTES                 |0                 |NORM AUTO                |CO                       |2009-01-26        |0.00                         |                    |                     |                       |                      |                    |                      |0000                          |0000                        |0                       |2009-01-26         |PCLE07Q         |2009-01-26      |PCLE07Q            |155342              |BAT                    |-                |2022-01-13 21:32:57.144|27           |0000001002139|1993-11-12    |10000          |                    |361      |34              |0          |1                      |8                      |738       |                   |                 |                          |RABARIO             |                |JOSE                |1                  |M          |1915-07-04|80                    |080                 |201                  |100        |0                         |82                          |21101000                       |0                       |null                    |null                      |null                    |null                      |0                           |0                 |0                       |0                  |0                  |null                       |null             |PCLE25Q            |0                |1                              |CA                  |47                   |null              |null            |                    |null                      |0020010021392   |042                       |null                |016          |                |N                   |AD                 |001     |2009-01-01           |null                     |1993-11-12                |2013-03-09    |162143              |P37B                |VUELCO          |S            |null                     |null                   |2022-03-10 01:05:30.551|REL.DEPENDENCIA/FIJO|1      |CALLE 899               0001434               QUILMES                       0201879|{\"street_name\":\"CALLE 899               \",\"address_outdoor_id\":\"0001434\",\"address_indoor_id\":\"        \",\"indoor_number\":\"       \",\"address_district_name\":\"                              \",\"address_town_name\":\"QUILMES OESTE                 \",\"zipcode_id\":\"01879\"}|\n",
            "|00056407   |1                      |0                  |06            |AV DR J BAUTISTA JUSTO  |0001421           |N                          |2                |C            |                              |CIUDAD AUTONOMA BUENOS AIRES  |CAPITAL FEDERAL               |01414     |C1414CWD       |01         |080               |                                                            |0                        |null              |null                 |NO VERIF                      |2009-01-26             |00                  |CTES                 |0                 |NORM AUTO                |CO                       |2009-01-26        |0.00                         |                    |                     |                       |                      |                    |                      |0000                          |0000                        |0                       |2009-01-26         |PCLE07Q         |2009-01-26      |PCLE07Q            |155342              |BAT                    |-                |2022-01-13 21:32:57.144|95           |0000001004493|1994-07-20    |00000          |                    |999      |30              |0          |1                      |8                      |901       |                   |                 |                          |BRAGA GERARDO       |                |                    |null               |0          |null      |80                    |080                 |203                  |100        |0                         |74                          |86111000                       |0                       |null                    |null                      |null                    |null                      |0                           |0                 |0                       |0                  |0                  |null                       |null             |PCLE18Q            |0                |1                              |CA                  |null                 |null              |null            |                    |null                      |0000000000000   |062                       |null                |             |                |N                   |                   |        |2009-01-01           |null                     |1994-07-20                |2012-01-04    |060452              |P37C                |SINCRO          |S            |null                     |null                   |2022-03-10 01:05:30.551|-                   |1      |AV DR J BAUTISTA JUSTO  00014212       C      CAPITAL FEDERAL               0101414|{\"street_name\":\"AV DR J BAUTISTA JUSTO  \",\"address_outdoor_id\":\"0001421\",\"address_indoor_id\":\"2       \",\"indoor_number\":\"C      \",\"address_district_name\":\"                              \",\"address_town_name\":\"CIUDAD AUTONOMA BUENOS AIRES  \",\"zipcode_id\":\"01414\"}|\n",
            "|00056947   |1                      |0                  |06            |AV 25 DE MAYO           |0001301           |N                          |                 |             |                              |LANUS                         |LANUS                         |01824     |B1824NNA       |02         |080               |                                                            |0                        |null              |null                 |NO VERIF                      |2009-01-26             |00                  |CTES                 |0                 |NORM AUTO                |CO                       |2009-01-26        |0.00                         |                    |                     |                       |                      |                    |                      |0000                          |0000                        |0                       |2009-01-26         |PCLE07Q         |2009-01-26      |PCLE07Q            |155342              |BAT                    |-                |2022-01-13 21:32:57.144|95           |0000001005027|1994-07-15    |10000          |                    |999      |34              |0          |1                      |8                      |901       |                   |                 |                          |LUIS                |                |JORGE               |5                  |M          |null      |80                    |080                 |201                  |100        |0                         |82                          |21101000                       |0                       |null                    |null                      |null                    |null                      |0                           |0                 |0                       |0                  |0                  |null                       |null             |PCLE06MM           |0                |1                              |CA                  |47                   |null              |null            |                    |null                      |0000000000000   |042                       |null                |016          |                |N                   |                   |001     |2009-01-01           |null                     |1994-07-15                |2012-01-04    |060454              |P37B                |SINCRO          |S            |null                     |null                   |2022-03-10 01:05:30.551|REL.DEPENDENCIA/FIJO|1      |AV 25 DE MAYO           0001301               LANUS                         0201824|{\"street_name\":\"AV 25 DE MAYO           \",\"address_outdoor_id\":\"0001301\",\"address_indoor_id\":\"        \",\"indoor_number\":\"       \",\"address_district_name\":\"                              \",\"address_town_name\":\"LANUS                         \",\"zipcode_id\":\"01824\"}|\n",
            "|00058519   |1                      |0                  |06            |CNEL AREVALO            |0002301           |N                          |                 |             |                              |CIUDAD AUTONOMA BUENOS AIRES  |CAPITAL FEDERAL               |01425     |C1425FZE       |01         |080               |                                                            |1                        |1997-12-12        |null                 |DECLARADO                     |2008-08-05             |01                  |CTES                 |1                 |NORM AUTO                |CO                       |2008-08-05        |0.00                         |                    |                     |                       |                      |                    |                      |0000                          |0000                        |0                       |2008-08-05         |E05085          |2011-07-01      |PCLE05T            |144535              |M965                   |-                |2022-01-13 21:32:57.144|95           |0000001006573|1994-07-15    |10000          |                    |999      |34              |0          |1                      |8                      |901       |                   |                 |                          |WUST                |                |ALEJANDRO           |5                  |M          |null      |80                    |080                 |201                  |100        |0                         |82                          |21101000                       |0                       |null                    |null                      |null                    |null                      |0                           |0                 |0                       |0                  |0                  |null                       |null             |PCLE06MM           |0                |1                              |CA                  |47                   |null              |null            |                    |null                      |0000000000000   |042                       |null                |016          |                |N                   |                   |001     |2009-01-01           |null                     |1994-07-15                |2012-01-04    |060457              |P37B                |SINCRO          |S            |null                     |null                   |2022-03-10 01:05:30.551|REL.DEPENDENCIA/FIJO|1      |CNEL AREVALO            0002301               CAPITAL FEDERAL               0101425|{\"street_name\":\"CNEL AREVALO            \",\"address_outdoor_id\":\"0002301\",\"address_indoor_id\":\"        \",\"indoor_number\":\"       \",\"address_district_name\":\"                              \",\"address_town_name\":\"CIUDAD AUTONOMA BUENOS AIRES  \",\"zipcode_id\":\"01425\"}|\n",
            "|00058801   |1                      |0                  |06            |MENDOZA                 |0000920           |N                          |PB               |             |                              |LUIS GUILLON                  |ESTEBAN ECHEVERRIA            |01838     |B1838DDT       |02         |080               |                                                            |0                        |null              |null                 |NO VERIF                      |2009-01-26             |00                  |CTES                 |0                 |NORM AUTO                |CO                       |2009-01-26        |0.00                         |                    |                     |                       |                      |                    |                      |0000                          |0000                        |0                       |2009-01-26         |PCLE07Q         |2009-01-26      |PCLE07Q            |155342              |BAT                    |-                |2022-01-13 21:32:57.144|28           |0000001013449|1996-10-14    |10000          |                    |132      |34              |0          |1                      |8                      |453       |                   |                 |                          |FLORES              |                |NORMA E             |5                  |F          |1951-11-09|80                    |080                 |201                  |100        |0                         |82                          |21101000                       |0                       |null                    |null                      |null                    |null                      |0                           |0                 |0                       |0                  |0                  |null                       |null             |PCLE25Q            |0                |1                              |CA                  |47                   |null              |null            |                    |null                      |0000000000000   |042                       |null                |016          |                |N                   |AD                 |001     |2009-01-01           |null                     |1996-10-14                |2013-03-09    |162143              |P37B                |VUELCO          |S            |null                     |null                   |2022-03-10 01:05:30.551|REL.DEPENDENCIA/FIJO|1      |MENDOZA                 0000920PB             ESTEBAN ECHEVERRIA            0201838|{\"street_name\":\"MENDOZA                 \",\"address_outdoor_id\":\"0000920\",\"address_indoor_id\":\"PB      \",\"indoor_number\":\"       \",\"address_district_name\":\"                              \",\"address_town_name\":\"LUIS GUILLON                  \",\"zipcode_id\":\"01838\"}|\n",
            "+-----------+-----------------------+-------------------+--------------+------------------------+------------------+---------------------------+-----------------+-------------+------------------------------+------------------------------+------------------------------+----------+---------------+-----------+------------------+------------------------------------------------------------+-------------------------+------------------+---------------------+------------------------------+-----------------------+--------------------+---------------------+------------------+-------------------------+-------------------------+------------------+-----------------------------+--------------------+---------------------+-----------------------+----------------------+--------------------+----------------------+------------------------------+----------------------------+------------------------+-------------------+----------------+----------------+-------------------+--------------------+-----------------------+-----------------+-----------------------+-------------+-------------+--------------+---------------+--------------------+---------+----------------+-----------+-----------------------+-----------------------+----------+-------------------+-----------------+--------------------------+--------------------+----------------+--------------------+-------------------+-----------+----------+----------------------+--------------------+---------------------+-----------+--------------------------+----------------------------+-------------------------------+------------------------+------------------------+--------------------------+------------------------+--------------------------+----------------------------+------------------+------------------------+-------------------+-------------------+---------------------------+-----------------+-------------------+-----------------+-------------------------------+--------------------+---------------------+------------------+----------------+--------------------+--------------------------+----------------+--------------------------+--------------------+-------------+----------------+--------------------+-------------------+--------+---------------------+-------------------------+--------------------------+--------------+--------------------+--------------------+----------------+-------------+-------------------------+-----------------------+-----------------------+--------------------+-------+-----------------------------------------------------------------------------------+---------------------------------------------------------------------------------------------------------------------------------------------------------------------------------------------------------------------------------------------------------------------+\n",
            "only showing top 20 rows\n",
            "\n"
          ]
        }
      ]
    },
    {
      "cell_type": "markdown",
      "source": [
        "####- 33 - Combinar los DataFrame de contactos telefónicos de clientes, direcciones de clientes y email de clientes en uno solo."
      ],
      "metadata": {
        "id": "Yoc083uLwsFv"
      }
    },
    {
      "cell_type": "code",
      "source": [
        "df_contacts = df_pivot_phone.join(df_pivot_email, \"customer_id\", how='full').join(df_pivot_address, \"customer_id\", how='full')"
      ],
      "metadata": {
        "id": "qutuktOKmYBt"
      },
      "execution_count": null,
      "outputs": []
    },
    {
      "cell_type": "code",
      "source": [
        "df_contacts.toPandas()"
      ],
      "metadata": {
        "id": "D7yYs-Gjmnh7",
        "colab": {
          "base_uri": "https://localhost:8080/",
          "height": 423
        },
        "outputId": "6985513f-b4c9-4c28-89d0-a1a4072f1570"
      },
      "execution_count": null,
      "outputs": [
        {
          "output_type": "execute_result",
          "data": {
            "text/plain": [
              "     customer_id            phone_1 phone_2 phone_3              email_1  \\\n",
              "0       00000442               None    None    None                 None   \n",
              "1       00001419               None    None    None   JU_LY1@HOTMAIL.COM   \n",
              "2       00001939               None    None    None                 None   \n",
              "3       00002707               None    None    None                 None   \n",
              "4       00002790               None    None    None  NOTIENE@HOIMAIL.COM   \n",
              "...          ...                ...     ...     ...                  ...   \n",
              "1607    30965114  54-0011-3242-8160     ---     ---                 None   \n",
              "1608    30970953    54-11-2292-3679     ---     ---                 None   \n",
              "1609    30973215    54-291-513-7482     ---     ---                 None   \n",
              "1610    30973892    54-11-3757-3423     ---     ---                 None   \n",
              "1611    30974054    54-11-3654-4845     ---     ---                 None   \n",
              "\n",
              "                          email_2 email_3  \\\n",
              "0                            None    None   \n",
              "1     EMILIA.RUBIANES@HOTMAIL.COM     ---   \n",
              "2                            None    None   \n",
              "3                            None    None   \n",
              "4         DIGITALIZACION@EECC.COM     ---   \n",
              "...                           ...     ...   \n",
              "1607                         None    None   \n",
              "1608                         None    None   \n",
              "1609                         None    None   \n",
              "1610                         None    None   \n",
              "1611                         None    None   \n",
              "\n",
              "                                              address_1 address_2 address_3  \n",
              "0     AGUERO                  0000842PB      B      ...       ---       ---  \n",
              "1     ALTE G BROWN            00010741       A      ...       ---       ---  \n",
              "2     JOSE HERNANDEZ          00020451       C      ...       ---       ---  \n",
              "3     GUATEMALA               0001846               ...       ---       ---  \n",
              "4     AV CORDOBA              00022064       30     ...       ---       ---  \n",
              "...                                                 ...       ...       ...  \n",
              "1607                                               None      None      None  \n",
              "1608                                               None      None      None  \n",
              "1609                                               None      None      None  \n",
              "1610                                               None      None      None  \n",
              "1611                                               None      None      None  \n",
              "\n",
              "[1612 rows x 10 columns]"
            ],
            "text/html": [
              "\n",
              "  <div id=\"df-fe9e287a-5550-424d-91a8-3d9cafaf8e3e\">\n",
              "    <div class=\"colab-df-container\">\n",
              "      <div>\n",
              "<style scoped>\n",
              "    .dataframe tbody tr th:only-of-type {\n",
              "        vertical-align: middle;\n",
              "    }\n",
              "\n",
              "    .dataframe tbody tr th {\n",
              "        vertical-align: top;\n",
              "    }\n",
              "\n",
              "    .dataframe thead th {\n",
              "        text-align: right;\n",
              "    }\n",
              "</style>\n",
              "<table border=\"1\" class=\"dataframe\">\n",
              "  <thead>\n",
              "    <tr style=\"text-align: right;\">\n",
              "      <th></th>\n",
              "      <th>customer_id</th>\n",
              "      <th>phone_1</th>\n",
              "      <th>phone_2</th>\n",
              "      <th>phone_3</th>\n",
              "      <th>email_1</th>\n",
              "      <th>email_2</th>\n",
              "      <th>email_3</th>\n",
              "      <th>address_1</th>\n",
              "      <th>address_2</th>\n",
              "      <th>address_3</th>\n",
              "    </tr>\n",
              "  </thead>\n",
              "  <tbody>\n",
              "    <tr>\n",
              "      <th>0</th>\n",
              "      <td>00000442</td>\n",
              "      <td>None</td>\n",
              "      <td>None</td>\n",
              "      <td>None</td>\n",
              "      <td>None</td>\n",
              "      <td>None</td>\n",
              "      <td>None</td>\n",
              "      <td>AGUERO                  0000842PB      B      ...</td>\n",
              "      <td>---</td>\n",
              "      <td>---</td>\n",
              "    </tr>\n",
              "    <tr>\n",
              "      <th>1</th>\n",
              "      <td>00001419</td>\n",
              "      <td>None</td>\n",
              "      <td>None</td>\n",
              "      <td>None</td>\n",
              "      <td>JU_LY1@HOTMAIL.COM</td>\n",
              "      <td>EMILIA.RUBIANES@HOTMAIL.COM</td>\n",
              "      <td>---</td>\n",
              "      <td>ALTE G BROWN            00010741       A      ...</td>\n",
              "      <td>---</td>\n",
              "      <td>---</td>\n",
              "    </tr>\n",
              "    <tr>\n",
              "      <th>2</th>\n",
              "      <td>00001939</td>\n",
              "      <td>None</td>\n",
              "      <td>None</td>\n",
              "      <td>None</td>\n",
              "      <td>None</td>\n",
              "      <td>None</td>\n",
              "      <td>None</td>\n",
              "      <td>JOSE HERNANDEZ          00020451       C      ...</td>\n",
              "      <td>---</td>\n",
              "      <td>---</td>\n",
              "    </tr>\n",
              "    <tr>\n",
              "      <th>3</th>\n",
              "      <td>00002707</td>\n",
              "      <td>None</td>\n",
              "      <td>None</td>\n",
              "      <td>None</td>\n",
              "      <td>None</td>\n",
              "      <td>None</td>\n",
              "      <td>None</td>\n",
              "      <td>GUATEMALA               0001846               ...</td>\n",
              "      <td>---</td>\n",
              "      <td>---</td>\n",
              "    </tr>\n",
              "    <tr>\n",
              "      <th>4</th>\n",
              "      <td>00002790</td>\n",
              "      <td>None</td>\n",
              "      <td>None</td>\n",
              "      <td>None</td>\n",
              "      <td>NOTIENE@HOIMAIL.COM</td>\n",
              "      <td>DIGITALIZACION@EECC.COM</td>\n",
              "      <td>---</td>\n",
              "      <td>AV CORDOBA              00022064       30     ...</td>\n",
              "      <td>---</td>\n",
              "      <td>---</td>\n",
              "    </tr>\n",
              "    <tr>\n",
              "      <th>...</th>\n",
              "      <td>...</td>\n",
              "      <td>...</td>\n",
              "      <td>...</td>\n",
              "      <td>...</td>\n",
              "      <td>...</td>\n",
              "      <td>...</td>\n",
              "      <td>...</td>\n",
              "      <td>...</td>\n",
              "      <td>...</td>\n",
              "      <td>...</td>\n",
              "    </tr>\n",
              "    <tr>\n",
              "      <th>1607</th>\n",
              "      <td>30965114</td>\n",
              "      <td>54-0011-3242-8160</td>\n",
              "      <td>---</td>\n",
              "      <td>---</td>\n",
              "      <td>None</td>\n",
              "      <td>None</td>\n",
              "      <td>None</td>\n",
              "      <td>None</td>\n",
              "      <td>None</td>\n",
              "      <td>None</td>\n",
              "    </tr>\n",
              "    <tr>\n",
              "      <th>1608</th>\n",
              "      <td>30970953</td>\n",
              "      <td>54-11-2292-3679</td>\n",
              "      <td>---</td>\n",
              "      <td>---</td>\n",
              "      <td>None</td>\n",
              "      <td>None</td>\n",
              "      <td>None</td>\n",
              "      <td>None</td>\n",
              "      <td>None</td>\n",
              "      <td>None</td>\n",
              "    </tr>\n",
              "    <tr>\n",
              "      <th>1609</th>\n",
              "      <td>30973215</td>\n",
              "      <td>54-291-513-7482</td>\n",
              "      <td>---</td>\n",
              "      <td>---</td>\n",
              "      <td>None</td>\n",
              "      <td>None</td>\n",
              "      <td>None</td>\n",
              "      <td>None</td>\n",
              "      <td>None</td>\n",
              "      <td>None</td>\n",
              "    </tr>\n",
              "    <tr>\n",
              "      <th>1610</th>\n",
              "      <td>30973892</td>\n",
              "      <td>54-11-3757-3423</td>\n",
              "      <td>---</td>\n",
              "      <td>---</td>\n",
              "      <td>None</td>\n",
              "      <td>None</td>\n",
              "      <td>None</td>\n",
              "      <td>None</td>\n",
              "      <td>None</td>\n",
              "      <td>None</td>\n",
              "    </tr>\n",
              "    <tr>\n",
              "      <th>1611</th>\n",
              "      <td>30974054</td>\n",
              "      <td>54-11-3654-4845</td>\n",
              "      <td>---</td>\n",
              "      <td>---</td>\n",
              "      <td>None</td>\n",
              "      <td>None</td>\n",
              "      <td>None</td>\n",
              "      <td>None</td>\n",
              "      <td>None</td>\n",
              "      <td>None</td>\n",
              "    </tr>\n",
              "  </tbody>\n",
              "</table>\n",
              "<p>1612 rows × 10 columns</p>\n",
              "</div>\n",
              "      <button class=\"colab-df-convert\" onclick=\"convertToInteractive('df-fe9e287a-5550-424d-91a8-3d9cafaf8e3e')\"\n",
              "              title=\"Convert this dataframe to an interactive table.\"\n",
              "              style=\"display:none;\">\n",
              "        \n",
              "  <svg xmlns=\"http://www.w3.org/2000/svg\" height=\"24px\"viewBox=\"0 0 24 24\"\n",
              "       width=\"24px\">\n",
              "    <path d=\"M0 0h24v24H0V0z\" fill=\"none\"/>\n",
              "    <path d=\"M18.56 5.44l.94 2.06.94-2.06 2.06-.94-2.06-.94-.94-2.06-.94 2.06-2.06.94zm-11 1L8.5 8.5l.94-2.06 2.06-.94-2.06-.94L8.5 2.5l-.94 2.06-2.06.94zm10 10l.94 2.06.94-2.06 2.06-.94-2.06-.94-.94-2.06-.94 2.06-2.06.94z\"/><path d=\"M17.41 7.96l-1.37-1.37c-.4-.4-.92-.59-1.43-.59-.52 0-1.04.2-1.43.59L10.3 9.45l-7.72 7.72c-.78.78-.78 2.05 0 2.83L4 21.41c.39.39.9.59 1.41.59.51 0 1.02-.2 1.41-.59l7.78-7.78 2.81-2.81c.8-.78.8-2.07 0-2.86zM5.41 20L4 18.59l7.72-7.72 1.47 1.35L5.41 20z\"/>\n",
              "  </svg>\n",
              "      </button>\n",
              "      \n",
              "  <style>\n",
              "    .colab-df-container {\n",
              "      display:flex;\n",
              "      flex-wrap:wrap;\n",
              "      gap: 12px;\n",
              "    }\n",
              "\n",
              "    .colab-df-convert {\n",
              "      background-color: #E8F0FE;\n",
              "      border: none;\n",
              "      border-radius: 50%;\n",
              "      cursor: pointer;\n",
              "      display: none;\n",
              "      fill: #1967D2;\n",
              "      height: 32px;\n",
              "      padding: 0 0 0 0;\n",
              "      width: 32px;\n",
              "    }\n",
              "\n",
              "    .colab-df-convert:hover {\n",
              "      background-color: #E2EBFA;\n",
              "      box-shadow: 0px 1px 2px rgba(60, 64, 67, 0.3), 0px 1px 3px 1px rgba(60, 64, 67, 0.15);\n",
              "      fill: #174EA6;\n",
              "    }\n",
              "\n",
              "    [theme=dark] .colab-df-convert {\n",
              "      background-color: #3B4455;\n",
              "      fill: #D2E3FC;\n",
              "    }\n",
              "\n",
              "    [theme=dark] .colab-df-convert:hover {\n",
              "      background-color: #434B5C;\n",
              "      box-shadow: 0px 1px 3px 1px rgba(0, 0, 0, 0.15);\n",
              "      filter: drop-shadow(0px 1px 2px rgba(0, 0, 0, 0.3));\n",
              "      fill: #FFFFFF;\n",
              "    }\n",
              "  </style>\n",
              "\n",
              "      <script>\n",
              "        const buttonEl =\n",
              "          document.querySelector('#df-fe9e287a-5550-424d-91a8-3d9cafaf8e3e button.colab-df-convert');\n",
              "        buttonEl.style.display =\n",
              "          google.colab.kernel.accessAllowed ? 'block' : 'none';\n",
              "\n",
              "        async function convertToInteractive(key) {\n",
              "          const element = document.querySelector('#df-fe9e287a-5550-424d-91a8-3d9cafaf8e3e');\n",
              "          const dataTable =\n",
              "            await google.colab.kernel.invokeFunction('convertToInteractive',\n",
              "                                                     [key], {});\n",
              "          if (!dataTable) return;\n",
              "\n",
              "          const docLinkHtml = 'Like what you see? Visit the ' +\n",
              "            '<a target=\"_blank\" href=https://colab.research.google.com/notebooks/data_table.ipynb>data table notebook</a>'\n",
              "            + ' to learn more about interactive tables.';\n",
              "          element.innerHTML = '';\n",
              "          dataTable['output_type'] = 'display_data';\n",
              "          await google.colab.output.renderOutput(dataTable, element);\n",
              "          const docLink = document.createElement('div');\n",
              "          docLink.innerHTML = docLinkHtml;\n",
              "          element.appendChild(docLink);\n",
              "        }\n",
              "      </script>\n",
              "    </div>\n",
              "  </div>\n",
              "  "
            ]
          },
          "metadata": {},
          "execution_count": 124
        }
      ]
    },
    {
      "cell_type": "code",
      "source": [
        "df_short_contacts = df_contacts.select('customer_id','Phone_1','Email_1','Address_1')\n",
        "df_short_contacts.toPandas()"
      ],
      "metadata": {
        "id": "EJ1Q6xQDphY-",
        "colab": {
          "base_uri": "https://localhost:8080/",
          "height": 423
        },
        "outputId": "16b23cb6-6361-42bf-b717-62b6f1119edb"
      },
      "execution_count": null,
      "outputs": [
        {
          "output_type": "execute_result",
          "data": {
            "text/plain": [
              "     customer_id            Phone_1              Email_1  \\\n",
              "0       00000442               None                 None   \n",
              "1       00001419               None   JU_LY1@HOTMAIL.COM   \n",
              "2       00001939               None                 None   \n",
              "3       00002707               None                 None   \n",
              "4       00002790               None  NOTIENE@HOIMAIL.COM   \n",
              "...          ...                ...                  ...   \n",
              "1607    30965114  54-0011-3242-8160                 None   \n",
              "1608    30970953    54-11-2292-3679                 None   \n",
              "1609    30973215    54-291-513-7482                 None   \n",
              "1610    30973892    54-11-3757-3423                 None   \n",
              "1611    30974054    54-11-3654-4845                 None   \n",
              "\n",
              "                                              Address_1  \n",
              "0     AGUERO                  0000842PB      B      ...  \n",
              "1     ALTE G BROWN            00010741       A      ...  \n",
              "2     JOSE HERNANDEZ          00020451       C      ...  \n",
              "3     GUATEMALA               0001846               ...  \n",
              "4     AV CORDOBA              00022064       30     ...  \n",
              "...                                                 ...  \n",
              "1607                                               None  \n",
              "1608                                               None  \n",
              "1609                                               None  \n",
              "1610                                               None  \n",
              "1611                                               None  \n",
              "\n",
              "[1612 rows x 4 columns]"
            ],
            "text/html": [
              "\n",
              "  <div id=\"df-d32dd831-3937-4ae7-897e-d8d5a8e877d0\">\n",
              "    <div class=\"colab-df-container\">\n",
              "      <div>\n",
              "<style scoped>\n",
              "    .dataframe tbody tr th:only-of-type {\n",
              "        vertical-align: middle;\n",
              "    }\n",
              "\n",
              "    .dataframe tbody tr th {\n",
              "        vertical-align: top;\n",
              "    }\n",
              "\n",
              "    .dataframe thead th {\n",
              "        text-align: right;\n",
              "    }\n",
              "</style>\n",
              "<table border=\"1\" class=\"dataframe\">\n",
              "  <thead>\n",
              "    <tr style=\"text-align: right;\">\n",
              "      <th></th>\n",
              "      <th>customer_id</th>\n",
              "      <th>Phone_1</th>\n",
              "      <th>Email_1</th>\n",
              "      <th>Address_1</th>\n",
              "    </tr>\n",
              "  </thead>\n",
              "  <tbody>\n",
              "    <tr>\n",
              "      <th>0</th>\n",
              "      <td>00000442</td>\n",
              "      <td>None</td>\n",
              "      <td>None</td>\n",
              "      <td>AGUERO                  0000842PB      B      ...</td>\n",
              "    </tr>\n",
              "    <tr>\n",
              "      <th>1</th>\n",
              "      <td>00001419</td>\n",
              "      <td>None</td>\n",
              "      <td>JU_LY1@HOTMAIL.COM</td>\n",
              "      <td>ALTE G BROWN            00010741       A      ...</td>\n",
              "    </tr>\n",
              "    <tr>\n",
              "      <th>2</th>\n",
              "      <td>00001939</td>\n",
              "      <td>None</td>\n",
              "      <td>None</td>\n",
              "      <td>JOSE HERNANDEZ          00020451       C      ...</td>\n",
              "    </tr>\n",
              "    <tr>\n",
              "      <th>3</th>\n",
              "      <td>00002707</td>\n",
              "      <td>None</td>\n",
              "      <td>None</td>\n",
              "      <td>GUATEMALA               0001846               ...</td>\n",
              "    </tr>\n",
              "    <tr>\n",
              "      <th>4</th>\n",
              "      <td>00002790</td>\n",
              "      <td>None</td>\n",
              "      <td>NOTIENE@HOIMAIL.COM</td>\n",
              "      <td>AV CORDOBA              00022064       30     ...</td>\n",
              "    </tr>\n",
              "    <tr>\n",
              "      <th>...</th>\n",
              "      <td>...</td>\n",
              "      <td>...</td>\n",
              "      <td>...</td>\n",
              "      <td>...</td>\n",
              "    </tr>\n",
              "    <tr>\n",
              "      <th>1607</th>\n",
              "      <td>30965114</td>\n",
              "      <td>54-0011-3242-8160</td>\n",
              "      <td>None</td>\n",
              "      <td>None</td>\n",
              "    </tr>\n",
              "    <tr>\n",
              "      <th>1608</th>\n",
              "      <td>30970953</td>\n",
              "      <td>54-11-2292-3679</td>\n",
              "      <td>None</td>\n",
              "      <td>None</td>\n",
              "    </tr>\n",
              "    <tr>\n",
              "      <th>1609</th>\n",
              "      <td>30973215</td>\n",
              "      <td>54-291-513-7482</td>\n",
              "      <td>None</td>\n",
              "      <td>None</td>\n",
              "    </tr>\n",
              "    <tr>\n",
              "      <th>1610</th>\n",
              "      <td>30973892</td>\n",
              "      <td>54-11-3757-3423</td>\n",
              "      <td>None</td>\n",
              "      <td>None</td>\n",
              "    </tr>\n",
              "    <tr>\n",
              "      <th>1611</th>\n",
              "      <td>30974054</td>\n",
              "      <td>54-11-3654-4845</td>\n",
              "      <td>None</td>\n",
              "      <td>None</td>\n",
              "    </tr>\n",
              "  </tbody>\n",
              "</table>\n",
              "<p>1612 rows × 4 columns</p>\n",
              "</div>\n",
              "      <button class=\"colab-df-convert\" onclick=\"convertToInteractive('df-d32dd831-3937-4ae7-897e-d8d5a8e877d0')\"\n",
              "              title=\"Convert this dataframe to an interactive table.\"\n",
              "              style=\"display:none;\">\n",
              "        \n",
              "  <svg xmlns=\"http://www.w3.org/2000/svg\" height=\"24px\"viewBox=\"0 0 24 24\"\n",
              "       width=\"24px\">\n",
              "    <path d=\"M0 0h24v24H0V0z\" fill=\"none\"/>\n",
              "    <path d=\"M18.56 5.44l.94 2.06.94-2.06 2.06-.94-2.06-.94-.94-2.06-.94 2.06-2.06.94zm-11 1L8.5 8.5l.94-2.06 2.06-.94-2.06-.94L8.5 2.5l-.94 2.06-2.06.94zm10 10l.94 2.06.94-2.06 2.06-.94-2.06-.94-.94-2.06-.94 2.06-2.06.94z\"/><path d=\"M17.41 7.96l-1.37-1.37c-.4-.4-.92-.59-1.43-.59-.52 0-1.04.2-1.43.59L10.3 9.45l-7.72 7.72c-.78.78-.78 2.05 0 2.83L4 21.41c.39.39.9.59 1.41.59.51 0 1.02-.2 1.41-.59l7.78-7.78 2.81-2.81c.8-.78.8-2.07 0-2.86zM5.41 20L4 18.59l7.72-7.72 1.47 1.35L5.41 20z\"/>\n",
              "  </svg>\n",
              "      </button>\n",
              "      \n",
              "  <style>\n",
              "    .colab-df-container {\n",
              "      display:flex;\n",
              "      flex-wrap:wrap;\n",
              "      gap: 12px;\n",
              "    }\n",
              "\n",
              "    .colab-df-convert {\n",
              "      background-color: #E8F0FE;\n",
              "      border: none;\n",
              "      border-radius: 50%;\n",
              "      cursor: pointer;\n",
              "      display: none;\n",
              "      fill: #1967D2;\n",
              "      height: 32px;\n",
              "      padding: 0 0 0 0;\n",
              "      width: 32px;\n",
              "    }\n",
              "\n",
              "    .colab-df-convert:hover {\n",
              "      background-color: #E2EBFA;\n",
              "      box-shadow: 0px 1px 2px rgba(60, 64, 67, 0.3), 0px 1px 3px 1px rgba(60, 64, 67, 0.15);\n",
              "      fill: #174EA6;\n",
              "    }\n",
              "\n",
              "    [theme=dark] .colab-df-convert {\n",
              "      background-color: #3B4455;\n",
              "      fill: #D2E3FC;\n",
              "    }\n",
              "\n",
              "    [theme=dark] .colab-df-convert:hover {\n",
              "      background-color: #434B5C;\n",
              "      box-shadow: 0px 1px 3px 1px rgba(0, 0, 0, 0.15);\n",
              "      filter: drop-shadow(0px 1px 2px rgba(0, 0, 0, 0.3));\n",
              "      fill: #FFFFFF;\n",
              "    }\n",
              "  </style>\n",
              "\n",
              "      <script>\n",
              "        const buttonEl =\n",
              "          document.querySelector('#df-d32dd831-3937-4ae7-897e-d8d5a8e877d0 button.colab-df-convert');\n",
              "        buttonEl.style.display =\n",
              "          google.colab.kernel.accessAllowed ? 'block' : 'none';\n",
              "\n",
              "        async function convertToInteractive(key) {\n",
              "          const element = document.querySelector('#df-d32dd831-3937-4ae7-897e-d8d5a8e877d0');\n",
              "          const dataTable =\n",
              "            await google.colab.kernel.invokeFunction('convertToInteractive',\n",
              "                                                     [key], {});\n",
              "          if (!dataTable) return;\n",
              "\n",
              "          const docLinkHtml = 'Like what you see? Visit the ' +\n",
              "            '<a target=\"_blank\" href=https://colab.research.google.com/notebooks/data_table.ipynb>data table notebook</a>'\n",
              "            + ' to learn more about interactive tables.';\n",
              "          element.innerHTML = '';\n",
              "          dataTable['output_type'] = 'display_data';\n",
              "          await google.colab.output.renderOutput(dataTable, element);\n",
              "          const docLink = document.createElement('div');\n",
              "          docLink.innerHTML = docLinkHtml;\n",
              "          element.appendChild(docLink);\n",
              "        }\n",
              "      </script>\n",
              "    </div>\n",
              "  </div>\n",
              "  "
            ]
          },
          "metadata": {},
          "execution_count": 125
        }
      ]
    },
    {
      "cell_type": "markdown",
      "source": [
        "----"
      ],
      "metadata": {
        "id": "m1-yxfISnct5"
      }
    },
    {
      "cell_type": "code",
      "source": [
        "df_contact_types = df_phones_contact_col.join(df_address_contact_col, 'customer_id', how='full').join(df_emails_contact_col, 'customer_id', how='full')"
      ],
      "metadata": {
        "id": "pkiSBzQlkkSV"
      },
      "execution_count": null,
      "outputs": []
    },
    {
      "cell_type": "code",
      "source": [
        "df_contact_types.select('customer_id','contact_type_phones','contact_type_address','contact_type_emails').toPandas()"
      ],
      "metadata": {
        "id": "WbULPOaqkwl2",
        "colab": {
          "base_uri": "https://localhost:8080/",
          "height": 423
        },
        "outputId": "6f479f5a-43f1-4e38-c487-cc411ca988fb"
      },
      "execution_count": null,
      "outputs": [
        {
          "output_type": "execute_result",
          "data": {
            "text/plain": [
              "       customer_id contact_type_phones contact_type_address  \\\n",
              "0         00000007               phone                 None   \n",
              "1         00000188                None              address   \n",
              "2         00000204                None              address   \n",
              "3         00000228                None              address   \n",
              "4         00000274                None              address   \n",
              "...            ...                 ...                  ...   \n",
              "432414    30976146               phone                 None   \n",
              "432415    30976148               phone                 None   \n",
              "432416    30976151               phone                 None   \n",
              "432417    30976154               phone                 None   \n",
              "432418    30976157               phone                 None   \n",
              "\n",
              "       contact_type_emails  \n",
              "0                     None  \n",
              "1                     None  \n",
              "2                     None  \n",
              "3                     None  \n",
              "4                     None  \n",
              "...                    ...  \n",
              "432414                None  \n",
              "432415                None  \n",
              "432416                None  \n",
              "432417                None  \n",
              "432418                None  \n",
              "\n",
              "[432419 rows x 4 columns]"
            ],
            "text/html": [
              "\n",
              "  <div id=\"df-a4cd609a-62f6-4d2d-b287-479660651409\">\n",
              "    <div class=\"colab-df-container\">\n",
              "      <div>\n",
              "<style scoped>\n",
              "    .dataframe tbody tr th:only-of-type {\n",
              "        vertical-align: middle;\n",
              "    }\n",
              "\n",
              "    .dataframe tbody tr th {\n",
              "        vertical-align: top;\n",
              "    }\n",
              "\n",
              "    .dataframe thead th {\n",
              "        text-align: right;\n",
              "    }\n",
              "</style>\n",
              "<table border=\"1\" class=\"dataframe\">\n",
              "  <thead>\n",
              "    <tr style=\"text-align: right;\">\n",
              "      <th></th>\n",
              "      <th>customer_id</th>\n",
              "      <th>contact_type_phones</th>\n",
              "      <th>contact_type_address</th>\n",
              "      <th>contact_type_emails</th>\n",
              "    </tr>\n",
              "  </thead>\n",
              "  <tbody>\n",
              "    <tr>\n",
              "      <th>0</th>\n",
              "      <td>00000007</td>\n",
              "      <td>phone</td>\n",
              "      <td>None</td>\n",
              "      <td>None</td>\n",
              "    </tr>\n",
              "    <tr>\n",
              "      <th>1</th>\n",
              "      <td>00000188</td>\n",
              "      <td>None</td>\n",
              "      <td>address</td>\n",
              "      <td>None</td>\n",
              "    </tr>\n",
              "    <tr>\n",
              "      <th>2</th>\n",
              "      <td>00000204</td>\n",
              "      <td>None</td>\n",
              "      <td>address</td>\n",
              "      <td>None</td>\n",
              "    </tr>\n",
              "    <tr>\n",
              "      <th>3</th>\n",
              "      <td>00000228</td>\n",
              "      <td>None</td>\n",
              "      <td>address</td>\n",
              "      <td>None</td>\n",
              "    </tr>\n",
              "    <tr>\n",
              "      <th>4</th>\n",
              "      <td>00000274</td>\n",
              "      <td>None</td>\n",
              "      <td>address</td>\n",
              "      <td>None</td>\n",
              "    </tr>\n",
              "    <tr>\n",
              "      <th>...</th>\n",
              "      <td>...</td>\n",
              "      <td>...</td>\n",
              "      <td>...</td>\n",
              "      <td>...</td>\n",
              "    </tr>\n",
              "    <tr>\n",
              "      <th>432414</th>\n",
              "      <td>30976146</td>\n",
              "      <td>phone</td>\n",
              "      <td>None</td>\n",
              "      <td>None</td>\n",
              "    </tr>\n",
              "    <tr>\n",
              "      <th>432415</th>\n",
              "      <td>30976148</td>\n",
              "      <td>phone</td>\n",
              "      <td>None</td>\n",
              "      <td>None</td>\n",
              "    </tr>\n",
              "    <tr>\n",
              "      <th>432416</th>\n",
              "      <td>30976151</td>\n",
              "      <td>phone</td>\n",
              "      <td>None</td>\n",
              "      <td>None</td>\n",
              "    </tr>\n",
              "    <tr>\n",
              "      <th>432417</th>\n",
              "      <td>30976154</td>\n",
              "      <td>phone</td>\n",
              "      <td>None</td>\n",
              "      <td>None</td>\n",
              "    </tr>\n",
              "    <tr>\n",
              "      <th>432418</th>\n",
              "      <td>30976157</td>\n",
              "      <td>phone</td>\n",
              "      <td>None</td>\n",
              "      <td>None</td>\n",
              "    </tr>\n",
              "  </tbody>\n",
              "</table>\n",
              "<p>432419 rows × 4 columns</p>\n",
              "</div>\n",
              "      <button class=\"colab-df-convert\" onclick=\"convertToInteractive('df-a4cd609a-62f6-4d2d-b287-479660651409')\"\n",
              "              title=\"Convert this dataframe to an interactive table.\"\n",
              "              style=\"display:none;\">\n",
              "        \n",
              "  <svg xmlns=\"http://www.w3.org/2000/svg\" height=\"24px\"viewBox=\"0 0 24 24\"\n",
              "       width=\"24px\">\n",
              "    <path d=\"M0 0h24v24H0V0z\" fill=\"none\"/>\n",
              "    <path d=\"M18.56 5.44l.94 2.06.94-2.06 2.06-.94-2.06-.94-.94-2.06-.94 2.06-2.06.94zm-11 1L8.5 8.5l.94-2.06 2.06-.94-2.06-.94L8.5 2.5l-.94 2.06-2.06.94zm10 10l.94 2.06.94-2.06 2.06-.94-2.06-.94-.94-2.06-.94 2.06-2.06.94z\"/><path d=\"M17.41 7.96l-1.37-1.37c-.4-.4-.92-.59-1.43-.59-.52 0-1.04.2-1.43.59L10.3 9.45l-7.72 7.72c-.78.78-.78 2.05 0 2.83L4 21.41c.39.39.9.59 1.41.59.51 0 1.02-.2 1.41-.59l7.78-7.78 2.81-2.81c.8-.78.8-2.07 0-2.86zM5.41 20L4 18.59l7.72-7.72 1.47 1.35L5.41 20z\"/>\n",
              "  </svg>\n",
              "      </button>\n",
              "      \n",
              "  <style>\n",
              "    .colab-df-container {\n",
              "      display:flex;\n",
              "      flex-wrap:wrap;\n",
              "      gap: 12px;\n",
              "    }\n",
              "\n",
              "    .colab-df-convert {\n",
              "      background-color: #E8F0FE;\n",
              "      border: none;\n",
              "      border-radius: 50%;\n",
              "      cursor: pointer;\n",
              "      display: none;\n",
              "      fill: #1967D2;\n",
              "      height: 32px;\n",
              "      padding: 0 0 0 0;\n",
              "      width: 32px;\n",
              "    }\n",
              "\n",
              "    .colab-df-convert:hover {\n",
              "      background-color: #E2EBFA;\n",
              "      box-shadow: 0px 1px 2px rgba(60, 64, 67, 0.3), 0px 1px 3px 1px rgba(60, 64, 67, 0.15);\n",
              "      fill: #174EA6;\n",
              "    }\n",
              "\n",
              "    [theme=dark] .colab-df-convert {\n",
              "      background-color: #3B4455;\n",
              "      fill: #D2E3FC;\n",
              "    }\n",
              "\n",
              "    [theme=dark] .colab-df-convert:hover {\n",
              "      background-color: #434B5C;\n",
              "      box-shadow: 0px 1px 3px 1px rgba(0, 0, 0, 0.15);\n",
              "      filter: drop-shadow(0px 1px 2px rgba(0, 0, 0, 0.3));\n",
              "      fill: #FFFFFF;\n",
              "    }\n",
              "  </style>\n",
              "\n",
              "      <script>\n",
              "        const buttonEl =\n",
              "          document.querySelector('#df-a4cd609a-62f6-4d2d-b287-479660651409 button.colab-df-convert');\n",
              "        buttonEl.style.display =\n",
              "          google.colab.kernel.accessAllowed ? 'block' : 'none';\n",
              "\n",
              "        async function convertToInteractive(key) {\n",
              "          const element = document.querySelector('#df-a4cd609a-62f6-4d2d-b287-479660651409');\n",
              "          const dataTable =\n",
              "            await google.colab.kernel.invokeFunction('convertToInteractive',\n",
              "                                                     [key], {});\n",
              "          if (!dataTable) return;\n",
              "\n",
              "          const docLinkHtml = 'Like what you see? Visit the ' +\n",
              "            '<a target=\"_blank\" href=https://colab.research.google.com/notebooks/data_table.ipynb>data table notebook</a>'\n",
              "            + ' to learn more about interactive tables.';\n",
              "          element.innerHTML = '';\n",
              "          dataTable['output_type'] = 'display_data';\n",
              "          await google.colab.output.renderOutput(dataTable, element);\n",
              "          const docLink = document.createElement('div');\n",
              "          docLink.innerHTML = docLinkHtml;\n",
              "          element.appendChild(docLink);\n",
              "        }\n",
              "      </script>\n",
              "    </div>\n",
              "  </div>\n",
              "  "
            ]
          },
          "metadata": {},
          "execution_count": 127
        }
      ]
    },
    {
      "cell_type": "markdown",
      "source": [
        "# Creacion de vistas temporales"
      ],
      "metadata": {
        "id": "OGYXHYUnnNnP"
      }
    },
    {
      "cell_type": "markdown",
      "source": [
        "####- 35 - Generar una vista temporal a partir del DataFrame de contactos."
      ],
      "metadata": {
        "id": "Rg9diwJJyLvf"
      }
    },
    {
      "cell_type": "code",
      "source": [
        "df_short_contacts.createTempView('tw_contacts')"
      ],
      "metadata": {
        "id": "h2uq8IRgqpc9",
        "colab": {
          "base_uri": "https://localhost:8080/",
          "height": 311
        },
        "outputId": "478953ee-9666-4bf1-ae6e-6bed852d8337"
      },
      "execution_count": null,
      "outputs": [
        {
          "output_type": "error",
          "ename": "AnalysisException",
          "evalue": "ignored",
          "traceback": [
            "\u001b[0;31m---------------------------------------------------------------------------\u001b[0m",
            "\u001b[0;31mAnalysisException\u001b[0m                         Traceback (most recent call last)",
            "\u001b[0;32m<ipython-input-128-2fcd527c3eba>\u001b[0m in \u001b[0;36m<cell line: 1>\u001b[0;34m()\u001b[0m\n\u001b[0;32m----> 1\u001b[0;31m \u001b[0mdf_short_contacts\u001b[0m\u001b[0;34m.\u001b[0m\u001b[0mcreateTempView\u001b[0m\u001b[0;34m(\u001b[0m\u001b[0;34m'tw_contacts'\u001b[0m\u001b[0;34m)\u001b[0m\u001b[0;34m\u001b[0m\u001b[0;34m\u001b[0m\u001b[0m\n\u001b[0m",
            "\u001b[0;32m/content/spark-3.3.2-bin-hadoop3/python/pyspark/sql/dataframe.py\u001b[0m in \u001b[0;36mcreateTempView\u001b[0;34m(self, name)\u001b[0m\n\u001b[1;32m    254\u001b[0m \u001b[0;34m\u001b[0m\u001b[0m\n\u001b[1;32m    255\u001b[0m         \"\"\"\n\u001b[0;32m--> 256\u001b[0;31m         \u001b[0mself\u001b[0m\u001b[0;34m.\u001b[0m\u001b[0m_jdf\u001b[0m\u001b[0;34m.\u001b[0m\u001b[0mcreateTempView\u001b[0m\u001b[0;34m(\u001b[0m\u001b[0mname\u001b[0m\u001b[0;34m)\u001b[0m\u001b[0;34m\u001b[0m\u001b[0;34m\u001b[0m\u001b[0m\n\u001b[0m\u001b[1;32m    257\u001b[0m \u001b[0;34m\u001b[0m\u001b[0m\n\u001b[1;32m    258\u001b[0m     \u001b[0;32mdef\u001b[0m \u001b[0mcreateOrReplaceTempView\u001b[0m\u001b[0;34m(\u001b[0m\u001b[0mself\u001b[0m\u001b[0;34m,\u001b[0m \u001b[0mname\u001b[0m\u001b[0;34m:\u001b[0m \u001b[0mstr\u001b[0m\u001b[0;34m)\u001b[0m \u001b[0;34m->\u001b[0m \u001b[0;32mNone\u001b[0m\u001b[0;34m:\u001b[0m\u001b[0;34m\u001b[0m\u001b[0;34m\u001b[0m\u001b[0m\n",
            "\u001b[0;32m/content/spark-3.3.2-bin-hadoop3/python/lib/py4j-0.10.9.5-src.zip/py4j/java_gateway.py\u001b[0m in \u001b[0;36m__call__\u001b[0;34m(self, *args)\u001b[0m\n\u001b[1;32m   1319\u001b[0m \u001b[0;34m\u001b[0m\u001b[0m\n\u001b[1;32m   1320\u001b[0m         \u001b[0manswer\u001b[0m \u001b[0;34m=\u001b[0m \u001b[0mself\u001b[0m\u001b[0;34m.\u001b[0m\u001b[0mgateway_client\u001b[0m\u001b[0;34m.\u001b[0m\u001b[0msend_command\u001b[0m\u001b[0;34m(\u001b[0m\u001b[0mcommand\u001b[0m\u001b[0;34m)\u001b[0m\u001b[0;34m\u001b[0m\u001b[0;34m\u001b[0m\u001b[0m\n\u001b[0;32m-> 1321\u001b[0;31m         return_value = get_return_value(\n\u001b[0m\u001b[1;32m   1322\u001b[0m             answer, self.gateway_client, self.target_id, self.name)\n\u001b[1;32m   1323\u001b[0m \u001b[0;34m\u001b[0m\u001b[0m\n",
            "\u001b[0;32m/content/spark-3.3.2-bin-hadoop3/python/pyspark/sql/utils.py\u001b[0m in \u001b[0;36mdeco\u001b[0;34m(*a, **kw)\u001b[0m\n\u001b[1;32m    194\u001b[0m                 \u001b[0;31m# Hide where the exception came from that shows a non-Pythonic\u001b[0m\u001b[0;34m\u001b[0m\u001b[0;34m\u001b[0m\u001b[0m\n\u001b[1;32m    195\u001b[0m                 \u001b[0;31m# JVM exception message.\u001b[0m\u001b[0;34m\u001b[0m\u001b[0;34m\u001b[0m\u001b[0m\n\u001b[0;32m--> 196\u001b[0;31m                 \u001b[0;32mraise\u001b[0m \u001b[0mconverted\u001b[0m \u001b[0;32mfrom\u001b[0m \u001b[0;32mNone\u001b[0m\u001b[0;34m\u001b[0m\u001b[0;34m\u001b[0m\u001b[0m\n\u001b[0m\u001b[1;32m    197\u001b[0m             \u001b[0;32melse\u001b[0m\u001b[0;34m:\u001b[0m\u001b[0;34m\u001b[0m\u001b[0;34m\u001b[0m\u001b[0m\n\u001b[1;32m    198\u001b[0m                 \u001b[0;32mraise\u001b[0m\u001b[0;34m\u001b[0m\u001b[0;34m\u001b[0m\u001b[0m\n",
            "\u001b[0;31mAnalysisException\u001b[0m: Temporary view 'tw_contacts' already exists"
          ]
        }
      ]
    },
    {
      "cell_type": "markdown",
      "source": [
        "####- 36 - Generar una vista temporal a partir del archivo t_abtq_customer_basics."
      ],
      "metadata": {
        "id": "TxiRzcShyRx1"
      }
    },
    {
      "cell_type": "code",
      "source": [
        "df_customer.createOrReplaceTempView('tw_customer_basics')"
      ],
      "metadata": {
        "id": "an26CU8Qqz5l"
      },
      "execution_count": null,
      "outputs": []
    },
    {
      "cell_type": "markdown",
      "source": [
        "####- 37 - Generar una vista temporal a partir del archivo t_acog_marital_status_type."
      ],
      "metadata": {
        "id": "PDHfXICEyWrK"
      }
    },
    {
      "cell_type": "code",
      "source": [
        "df_marital_status_ok.createOrReplaceTempView('tw_marital_status')"
      ],
      "metadata": {
        "id": "Rw83Cf5NrDwp"
      },
      "execution_count": null,
      "outputs": []
    },
    {
      "cell_type": "markdown",
      "source": [
        "####- 38 - Generar una vista temporal a partir del archivo t_acog_nationality."
      ],
      "metadata": {
        "id": "clZGiedoyZBY"
      }
    },
    {
      "cell_type": "code",
      "source": [
        "df_nationality.createOrReplaceTempView(\"tw_nationality\")"
      ],
      "metadata": {
        "id": "G_r_X02bqYiA"
      },
      "execution_count": null,
      "outputs": []
    },
    {
      "cell_type": "markdown",
      "source": [
        "# Querys en spark SQL."
      ],
      "metadata": {
        "id": "vzuddeSks_Ku"
      }
    },
    {
      "cell_type": "markdown",
      "source": [
        "####- 39 - Generar un público objetivo (1) que cumpla los siguientes puntos:\n",
        "* Cliente\n",
        "* Antigüedad superior a 5 años\n",
        "* Asalariado Fijo.\n",
        "* Estado civil: Casado\n"
      ],
      "metadata": {
        "id": "_CSfngFgyfgI"
      }
    },
    {
      "cell_type": "code",
      "source": [
        "publico_obj1 = sqlContext.sql('SELECT cb.customer_id, floor(datediff(current_date(), admission_date)/365) as years_diff, customer_condition_type, cb.job_type_desc, ms.martial_status_short_desc FROM tw_customer_basics as cb INNER JOIN tw_marital_status as ms ON cb.marital_status_type = ms.marital_status_type WHERE floor(datediff(current_date(), admission_date)/365) > 5 AND cb.marital_status_type = 01 AND cb.job_type = 001 AND cb.customer_condition_type = 1')"
      ],
      "metadata": {
        "id": "URMFtCg9v51p"
      },
      "execution_count": null,
      "outputs": []
    },
    {
      "cell_type": "code",
      "source": [
        "publico_obj1.toPandas()"
      ],
      "metadata": {
        "id": "zwXogF57580d"
      },
      "execution_count": null,
      "outputs": []
    },
    {
      "cell_type": "markdown",
      "source": [
        "####- 40 -  Generar un público objetivo (2) que cumpla los siguientes puntos:\n",
        "* Potencial Cliente\n",
        "* Sexo Femenino\n",
        "* Entre 30 y 45 años de Edad.\n",
        "* Nacionalidad No Argentina"
      ],
      "metadata": {
        "id": "c0pSjhqey2co"
      }
    },
    {
      "cell_type": "code",
      "source": [
        "publico_obj2 = sqlContext.sql('SELECT cb.customer_id, customer_condition_type, gender_type, floor(datediff(current_date(), birth_date)/365) as customer_age, n.country_name FROM tw_customer_basics AS cb INNER JOIN tw_nationality AS n ON cb.country_nationality_id == n.country_nationality_id WHERE floor(datediff(current_date(), birth_date)/365) > 30 AND floor(datediff(current_date(), birth_date)/365) < 45 AND gender_type = \"F\" AND customer_condition_type = 1 AND n.country_nationality_id <> 80')\n",
        "publico_obj2.toPandas()"
      ],
      "metadata": {
        "id": "uUfn8Qx7lrGJ"
      },
      "execution_count": null,
      "outputs": []
    },
    {
      "cell_type": "markdown",
      "source": [
        "####- 41 - Generar un público objetivo (3) que cumpla los siguientes puntos:\n",
        "* Potencial Cliente\n",
        "* Sexo Masculino.\n",
        "* Mayor a 25 años.\n",
        "* Estado civil Soltero"
      ],
      "metadata": {
        "id": "-YzIyMgKzHPq"
      }
    },
    {
      "cell_type": "code",
      "source": [
        "publico_obj3 = sqlContext.sql('SELECT cb.customer_id, customer_condition_type, gender_type, floor(datediff(current_date(), birth_date)/365) as customer_age, ms.martial_status_short_desc FROM tw_customer_basics AS cb INNER JOIN tw_marital_status as ms ON cb.marital_status_type = ms.marital_status_type WHERE customer_condition_type = 1 AND floor(datediff(current_date(), birth_date)/365) > 25 AND gender_type = \"M\" AND cb.marital_status_type = 5')\n",
        "publico_obj3.toPandas()"
      ],
      "metadata": {
        "id": "Gh1ZLwVHwW6f"
      },
      "execution_count": null,
      "outputs": []
    },
    {
      "cell_type": "markdown",
      "source": [
        "####- 42 - Generar un público objetivo (4) que cumpla los siguientes puntos:\n",
        "* Cliente\n",
        "* Edad superior a 52 años\n",
        "* Nacionalidad Argentina\n",
        "* Estado civil Viudo"
      ],
      "metadata": {
        "id": "O0YwTfG8zLns"
      }
    },
    {
      "cell_type": "code",
      "source": [
        "publico_obj4 = sqlContext.sql('SELECT cb.customer_id, floor(datediff(current_date(), birth_date)/365) as customer_age, n.country_name, ms.martial_status_short_desc FROM tw_customer_basics as cb INNER JOIN tw_nationality AS n ON cb.country_nationality_id == n.country_nationality_id INNER JOIN tw_marital_status as ms ON cb.marital_status_type = ms.marital_status_type WHERE floor(datediff(current_date(), birth_date)/365) > 52 AND cb.country_nationality_id = 80 AND cb.marital_status_type = 2')\n",
        "publico_obj4.toPandas()"
      ],
      "metadata": {
        "id": "xVJ2-CDyzp9n"
      },
      "execution_count": null,
      "outputs": []
    },
    {
      "cell_type": "markdown",
      "source": [
        "# Carga de datos, generacion de archivos .csv\n",
        "#### Los archivos deben cumplir los siguientes requerimientos: \n",
        "* Contener cabecera. \n",
        "* Separador “|”. \n",
        "* Máximo de 1000 registros por archivo (si el público objetivo tiene más de 1000 registros, se deberá crear más de un archivo)\n",
        "* Ser guardados en HDFS."
      ],
      "metadata": {
        "id": "AKaVLQPMzRiZ"
      }
    },
    {
      "cell_type": "code",
      "source": [
        "# los dataframes no contienen más de 1000 registros, por lo que no es necesrio partir los .csv. Para partirlos, hubieramos necesitado las funciones 'count' y 'repartition'"
      ],
      "metadata": {
        "id": "RB-GpCHfH96S"
      },
      "execution_count": null,
      "outputs": []
    },
    {
      "cell_type": "markdown",
      "source": [
        "#### - 43 -  Generar archivos .csv a partir de los público objetivo 1. \n"
      ],
      "metadata": {
        "id": "Aa7xtVRSzUYG"
      }
    },
    {
      "cell_type": "code",
      "source": [
        "# primero cuento la cantidad de celdas para ver si es necesario partir el archivo\n",
        "publico_obj1.count()"
      ],
      "metadata": {
        "id": "MtcsKb8eHvyu"
      },
      "execution_count": null,
      "outputs": []
    },
    {
      "cell_type": "code",
      "source": [
        "# son 250 registros, por lo tanto no debo partir el data frame\n",
        "# no lo exporto como HDFS porque no estoy usando un contenedor, por lo tanto no tengo un número de puerto\n",
        "publico_obj1.write \\\n",
        "  .option(\"delimiter\", \"|\") \\\n",
        "  .option(\"header\", \"true\") \\\n",
        "  .csv(\"Datasets/P1\")"
      ],
      "metadata": {
        "id": "slcVZKP8HyOZ"
      },
      "execution_count": null,
      "outputs": []
    },
    {
      "cell_type": "markdown",
      "source": [
        "#### - 44 - Generar archivos .csv a partir del público objetivo 2. "
      ],
      "metadata": {
        "id": "-ghFgx1CzWiT"
      }
    },
    {
      "cell_type": "code",
      "source": [
        "# primero cuento la cantidad de celdas para ver si es necesario partir el archivo\n",
        "publico_obj2.count()"
      ],
      "metadata": {
        "id": "A8x99lxcH2oz"
      },
      "execution_count": null,
      "outputs": []
    },
    {
      "cell_type": "code",
      "source": [
        "# son 2 registros, por lo tanto no debo partir el data frame\n",
        "# no lo exporto como HDFS porque no estoy usando un contenedor, por lo tanto no tengo un número de puerto\n",
        "publico_obj2.write \\\n",
        "  .option(\"delimiter\", \"|\") \\\n",
        "  .option(\"header\", \"true\") \\\n",
        "  .csv(\"Datasets/P2\")"
      ],
      "metadata": {
        "id": "ScZm2KRkIWd2"
      },
      "execution_count": null,
      "outputs": []
    },
    {
      "cell_type": "markdown",
      "source": [
        "####- 45 - Generar archivos .csv a partir del público objetivo 3. "
      ],
      "metadata": {
        "id": "RibK-HsmznSu"
      }
    },
    {
      "cell_type": "code",
      "source": [
        "# primero cuento la cantidad de celdas para ver si es necesario partir el archivo\n",
        "publico_obj3.count()"
      ],
      "metadata": {
        "id": "gy6KOY5NGlul"
      },
      "execution_count": null,
      "outputs": []
    },
    {
      "cell_type": "code",
      "source": [
        "# son 299 registros, por lo tanto no debo partir el data frame\n",
        "# no lo exporto como HDFS porque no estoy usando un contenedor, por lo tanto no tengo un número de puerto\n",
        "publico_obj3.write \\\n",
        "  .option(\"delimiter\", \"|\") \\\n",
        "  .option(\"header\", \"true\") \\\n",
        "  .csv(\"Datasets/P3\")"
      ],
      "metadata": {
        "id": "RXFqcvBrG3YB"
      },
      "execution_count": null,
      "outputs": []
    },
    {
      "cell_type": "markdown",
      "source": [
        "####- 46 - Generar archivos .csv a partir del público objetivo 4. "
      ],
      "metadata": {
        "id": "HXNyvvYi0AkY"
      }
    },
    {
      "cell_type": "code",
      "source": [
        "# primero cuento la cantidad de celdas para ver si es necesario partir el archivo\n",
        "publico_obj4.count()"
      ],
      "metadata": {
        "id": "dR1bVb4FIfc_"
      },
      "execution_count": null,
      "outputs": []
    },
    {
      "cell_type": "code",
      "source": [
        "# son 20 registros, por lo tanto no debo partir el data frame\n",
        "# no lo exporto como HDFS porque no estoy usando un contenedor, por lo tanto no tengo un número de puerto\n",
        "publico_obj4.write \\\n",
        "  .option(\"delimiter\", \"|\") \\\n",
        "  .option(\"header\", \"true\") \\\n",
        "  .csv(\"Datasets/P4\")"
      ],
      "metadata": {
        "id": "pN1-pqs4If0g"
      },
      "execution_count": null,
      "outputs": []
    },
    {
      "cell_type": "markdown",
      "source": [
        "# Extraccion de datos desde .csv, públicos objetivo"
      ],
      "metadata": {
        "id": "gsBzsNK20DsC"
      }
    },
    {
      "cell_type": "markdown",
      "source": [
        "#### - 47 - Cargar los datos de los publicos generados en un DataFrame."
      ],
      "metadata": {
        "id": "hyOSh9u70Khr"
      }
    },
    {
      "cell_type": "code",
      "source": [
        "df_pobj1csv = spark.read.format(\"csv\") \\\n",
        "  .option(\"delimiter\", \"|\") \\\n",
        "  .option(\"header\", \"false\") \\\n",
        "  .load(\"/content/Datasets/P1/part-00000-b3b88a32-8951-4f8f-9429-f5e1684307b3-c000.csv\")\n",
        "  \n",
        "df_pobj2csv = spark.read.format(\"csv\") \\\n",
        "  .option(\"delimiter\", \"|\") \\\n",
        "  .option(\"header\", \"false\") \\\n",
        "  .load(\"/content/Datasets/P2/part-00000-dc179214-a403-45ee-a865-e0791719467f-c000.csv\")\n",
        "  \n",
        "df_pobj3csv = spark.read.format(\"csv\") \\\n",
        "  .option(\"delimiter\", \"|\") \\\n",
        "  .option(\"header\", \"false\") \\\n",
        "  .load(\"/content/Datasets/P3/part-00000-fd03bdfe-0656-421a-89da-2f72b5d4babe-c000.csv\")\n",
        "\n",
        "df_pobj4csv = spark.read.format(\"csv\") \\\n",
        "  .option(\"delimiter\", \"|\") \\\n",
        "  .option(\"header\", \"false\") \\\n",
        "  .load(\"/content/Datasets/P4/part-00000-f4dd6ba1-39ab-49ee-a823-2502a1f59867-c000.csv\")"
      ],
      "metadata": {
        "id": "zqz9-UfnI9OR"
      },
      "execution_count": null,
      "outputs": []
    },
    {
      "cell_type": "markdown",
      "source": [
        "# Calculo de agregaciones."
      ],
      "metadata": {
        "id": "L4z8RN3-0NWt"
      }
    },
    {
      "cell_type": "markdown",
      "source": [
        "####- 48 -  Contar al cantidad de personas contactada por publico objetivo."
      ],
      "metadata": {
        "id": "V4vo3ZIZ0Pu_"
      }
    },
    {
      "cell_type": "code",
      "source": [
        "df_pobj4csv.show()"
      ],
      "metadata": {
        "id": "24nL32V2LhIA"
      },
      "execution_count": null,
      "outputs": []
    },
    {
      "cell_type": "code",
      "source": [
        "df_pobj1csv.select(\"_c0\").distinct().count() - 1"
      ],
      "metadata": {
        "id": "iXvGaApyKCYQ"
      },
      "execution_count": null,
      "outputs": []
    },
    {
      "cell_type": "code",
      "source": [
        "df_pobj2csv.select(\"_c0\").distinct().count() - 1"
      ],
      "metadata": {
        "id": "XKIR5mgxKFx6"
      },
      "execution_count": null,
      "outputs": []
    },
    {
      "cell_type": "code",
      "source": [
        "df_pobj3csv.select(\"_c0\").distinct().count() - 1"
      ],
      "metadata": {
        "id": "2xtz8r2UKF1s"
      },
      "execution_count": null,
      "outputs": []
    },
    {
      "cell_type": "code",
      "source": [
        "df_pobj4csv.select(\"_c0\").distinct().count() - 1"
      ],
      "metadata": {
        "id": "zUAqwQrVKF8D"
      },
      "execution_count": null,
      "outputs": []
    },
    {
      "cell_type": "markdown",
      "source": [
        "####- 49 - Contar la cantidad de direcciones, mails y telefonos por publico objetivo."
      ],
      "metadata": {
        "id": "8ncFa_tW0UBx"
      }
    },
    {
      "cell_type": "markdown",
      "source": [
        "####- 50 - Contar la cantidad de hombres y mujeres por publico objetivo."
      ],
      "metadata": {
        "id": "IDX0Omzy0Wkg"
      }
    },
    {
      "cell_type": "markdown",
      "source": [
        "#### - 51 - Calcular la edad promedio por publico objetivo."
      ],
      "metadata": {
        "id": "bikW5zRF0ZNS"
      }
    },
    {
      "cell_type": "markdown",
      "source": [
        "# Carga de datos, generacion de archivos .parquet"
      ],
      "metadata": {
        "id": "tHmfq2rU0bNv"
      }
    },
    {
      "cell_type": "markdown",
      "source": [
        "####- 52 - Guardar las agregaciones generadas en un archivo parquet, particionado por mes de campaña y publico objetivo."
      ],
      "metadata": {
        "id": "n28g6npc0dY3"
      }
    },
    {
      "cell_type": "markdown",
      "source": [
        "####- 53 - Guardar las agregaciones generadas en un archivo parquet, particionado por mes de campaña y publico objetivo."
      ],
      "metadata": {
        "id": "sPCIsWcJ0fRL"
      }
    },
    {
      "cell_type": "markdown",
      "source": [
        "####- 54 - Guardar las agregaciones generadas en un archivo parquet, particionado por mes de campaña y publico objetivo."
      ],
      "metadata": {
        "id": "pgON20aV0hBj"
      }
    },
    {
      "cell_type": "markdown",
      "source": [
        "####- 55 - Guardar las agregaciones generadas en un archivo parquet, particionado por mes de campaña y publico objetivo."
      ],
      "metadata": {
        "id": "U16I98lN0ipN"
      }
    },
    {
      "cell_type": "markdown",
      "source": [
        "# Borrador"
      ],
      "metadata": {
        "id": "_tWEmVaR-BqO"
      }
    },
    {
      "cell_type": "code",
      "source": [
        "df_customer.show() # admission_date marital_status_type gender_type birth_date job_type profession_id\n",
        "#df_phones.toPandas()\n",
        "#df_address.toPandas()\n",
        "#df_emails.toPandas()\n",
        "#df_marital_status.toPandas() # marital_status_type martial_status_short_desc\n",
        "#df_segment_type.toPandas() \n",
        "#df_customer_documents.toPandas() \n",
        "#df_address_type.toPandas() # address_type address_type_short_desc ??\n",
        "#df_gender.toPandas() # gender_type gender_desc\n",
        "#df_nationality.toPandas() # country_nationality_id # country_nationality_id\n",
        "#df_personal_type.toPandas()\n",
        "#df_phone_type.toPandas() # phone_type\tphone_type_desc\t ??\n",
        "#df_province.toPandas()\n",
        "#df_customer_segment.show() \n",
        "#df_customer_info_temp.show()\n",
        "\n",
        "# VER DE NO IMPORTAR PARQUETS QUE NO USEMOS"
      ],
      "metadata": {
        "id": "VnHRq-pQsyIZ"
      },
      "execution_count": null,
      "outputs": []
    }
  ]
}