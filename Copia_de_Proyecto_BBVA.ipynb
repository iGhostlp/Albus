{
  "nbformat": 4,
  "nbformat_minor": 0,
  "metadata": {
    "colab": {
      "provenance": [],
      "include_colab_link": true
    },
    "kernelspec": {
      "name": "python3",
      "display_name": "Python 3"
    },
    "language_info": {
      "name": "python"
    }
  },
  "cells": [
    {
      "cell_type": "markdown",
      "metadata": {
        "id": "view-in-github",
        "colab_type": "text"
      },
      "source": [
        "<a href=\"https://colab.research.google.com/github/iGhostlp/Albus/blob/Sin-Dientes/Copia_de_Proyecto_BBVA.ipynb\" target=\"_parent\"><img src=\"https://colab.research.google.com/assets/colab-badge.svg\" alt=\"Open In Colab\"/></a>"
      ]
    },
    {
      "cell_type": "markdown",
      "source": [
        "# Armado del entorno"
      ],
      "metadata": {
        "id": "HWni6Oa3Xst4"
      }
    },
    {
      "cell_type": "code",
      "execution_count": 1,
      "metadata": {
        "id": "7oZjRfdSVnQa"
      },
      "outputs": [],
      "source": [
        "# Download Spark\n",
        "!wget -q https://dlcdn.apache.org/spark/spark-3.3.2/spark-3.3.2-bin-hadoop3.tgz"
      ]
    },
    {
      "cell_type": "code",
      "source": [
        "# Unzip the file\n",
        "!tar xf spark-3.3.2-bin-hadoop3.tgz"
      ],
      "metadata": {
        "id": "4AqJxH7ZVvNa"
      },
      "execution_count": 2,
      "outputs": []
    },
    {
      "cell_type": "code",
      "source": [
        "!readlink -f $(which java) | sed \"s:bin/java::\""
      ],
      "metadata": {
        "colab": {
          "base_uri": "https://localhost:8080/"
        },
        "id": "jHCrfKNLWTsi",
        "outputId": "29d91162-a38d-4080-901d-fc466b00b071"
      },
      "execution_count": 3,
      "outputs": [
        {
          "output_type": "stream",
          "name": "stdout",
          "text": [
            "/usr/lib/jvm/java-11-openjdk-amd64/\n"
          ]
        }
      ]
    },
    {
      "cell_type": "code",
      "source": [
        "# Set up the environment for Spark\n",
        "import os\n",
        "os.environ[\"JAVA_HOME\"] = \"/usr/lib/jvm/java-11-openjdk-amd64/\"\n",
        "os.environ[\"SPARK_HOME\"] = '/content/spark-3.3.2-bin-hadoop3'"
      ],
      "metadata": {
        "id": "7VjkyMMOWVOs"
      },
      "execution_count": 4,
      "outputs": []
    },
    {
      "cell_type": "code",
      "source": [
        "# Install library for finding Spark\n",
        "!pip install -q findspark\n",
        "\n",
        "# Import the libary\n",
        "import findspark\n",
        "\n",
        "# Initiate findspark\n",
        "findspark.init()"
      ],
      "metadata": {
        "id": "idA0uSW7WW47"
      },
      "execution_count": 5,
      "outputs": []
    },
    {
      "cell_type": "code",
      "source": [
        "# Import SparkSession\n",
        "from pyspark.sql import SparkSession\n",
        "\n",
        "# Create a Spark Session\n",
        "spark = SparkSession.builder.master(\"local[*]\").config('spark.sql.parquet.datetimeRebaseModeInRead','CORRECTED').getOrCreate()\n",
        "\n",
        "# Check Spark Session Information\n",
        "spark"
      ],
      "metadata": {
        "colab": {
          "base_uri": "https://localhost:8080/",
          "height": 219
        },
        "id": "RjQQ7TU0WYYg",
        "outputId": "e348c511-b6ab-42d9-a257-99162b19a702"
      },
      "execution_count": 6,
      "outputs": [
        {
          "output_type": "execute_result",
          "data": {
            "text/plain": [
              "<pyspark.sql.session.SparkSession at 0x7f83a4189700>"
            ],
            "text/html": [
              "\n",
              "            <div>\n",
              "                <p><b>SparkSession - in-memory</b></p>\n",
              "                \n",
              "        <div>\n",
              "            <p><b>SparkContext</b></p>\n",
              "\n",
              "            <p><a href=\"http://05d3c6a68659:4040\">Spark UI</a></p>\n",
              "\n",
              "            <dl>\n",
              "              <dt>Version</dt>\n",
              "                <dd><code>v3.3.2</code></dd>\n",
              "              <dt>Master</dt>\n",
              "                <dd><code>local[*]</code></dd>\n",
              "              <dt>AppName</dt>\n",
              "                <dd><code>pyspark-shell</code></dd>\n",
              "            </dl>\n",
              "        </div>\n",
              "        \n",
              "            </div>\n",
              "        "
            ]
          },
          "metadata": {},
          "execution_count": 6
        }
      ]
    },
    {
      "cell_type": "markdown",
      "source": [
        "## Extraccion de datos desde parquet, clientes y teléfonos."
      ],
      "metadata": {
        "id": "OMmwI7gkYZ5u"
      }
    },
    {
      "cell_type": "code",
      "source": [
        "df_customer = spark.read.parquet('/content/Datasets/customer_basics.snappy.parquet')\n",
        "df_phones = spark.read.parquet('/content/Datasets/phones.snappy.parquet')"
      ],
      "metadata": {
        "id": "KyG_qzVEWaV3"
      },
      "execution_count": 7,
      "outputs": []
    },
    {
      "cell_type": "code",
      "source": [
        "from pyspark.sql.functions import col\n",
        "from pyspark.sql import SparkSession"
      ],
      "metadata": {
        "id": "Pcsfr5dRSgQ9"
      },
      "execution_count": 8,
      "outputs": []
    },
    {
      "cell_type": "code",
      "source": [],
      "metadata": {
        "id": "K2RFVgu6SgpG"
      },
      "execution_count": 8,
      "outputs": []
    },
    {
      "cell_type": "code",
      "source": [
        "#df_customer_phones = df_phones.join(df_customer, 'customer_id')\n",
        "df_customer_phones = df_phones.join(df_customer.select(col(\"customer_id\"), col(\"last_change_date\").alias(\"l_c_d_customer\")), \"customer_id\")\n"
      ],
      "metadata": {
        "id": "lXvJoM9jWcHg"
      },
      "execution_count": 9,
      "outputs": []
    },
    {
      "cell_type": "code",
      "source": [
        "df_customer_phones.printSchema()"
      ],
      "metadata": {
        "colab": {
          "base_uri": "https://localhost:8080/"
        },
        "id": "MQe06B2dRrcW",
        "outputId": "cfd81b86-d170-432b-e916-a79c082da8ed"
      },
      "execution_count": 10,
      "outputs": [
        {
          "output_type": "stream",
          "name": "stdout",
          "text": [
            "root\n",
            " |-- customer_id: string (nullable = true)\n",
            " |-- phone_use_type: string (nullable = true)\n",
            " |-- address_sequence_id: integer (nullable = true)\n",
            " |-- phone_sequence_id: integer (nullable = true)\n",
            " |-- phone_type: string (nullable = true)\n",
            " |-- phone_country_id: string (nullable = true)\n",
            " |-- prefix_phone_id: string (nullable = true)\n",
            " |-- phone_area_id: string (nullable = true)\n",
            " |-- cellphone_prefix_id: string (nullable = true)\n",
            " |-- phone_exchange_id: string (nullable = true)\n",
            " |-- phone_line_id: string (nullable = true)\n",
            " |-- phone_id: string (nullable = true)\n",
            " |-- phone_intern_id: string (nullable = true)\n",
            " |-- aditional_info_txt_desc: string (nullable = true)\n",
            " |-- primary_phone_type: string (nullable = true)\n",
            " |-- address_sequence_type: string (nullable = true)\n",
            " |-- address_town_name: string (nullable = true)\n",
            " |-- zipcode_id: string (nullable = true)\n",
            " |-- province_id: string (nullable = true)\n",
            " |-- customer_phone_status_type: string (nullable = true)\n",
            " |-- phone_status_mod_date: date (nullable = true)\n",
            " |-- contact_channel_type: string (nullable = true)\n",
            " |-- sender_application_id: string (nullable = true)\n",
            " |-- wrong_phone_type: string (nullable = true)\n",
            " |-- normalization_status_type: string (nullable = true)\n",
            " |-- normalization_reason_name: string (nullable = true)\n",
            " |-- normalization_date: date (nullable = true)\n",
            " |-- validity_start_date: date (nullable = true)\n",
            " |-- validity_end_date: date (nullable = true)\n",
            " |-- dlvy_day_monday_type: string (nullable = true)\n",
            " |-- dlvy_day_tuesday_type: string (nullable = true)\n",
            " |-- dlvy_day_wednesday_type: string (nullable = true)\n",
            " |-- dlvy_day_thursday_type: string (nullable = true)\n",
            " |-- dlvy_day_friday_type: string (nullable = true)\n",
            " |-- dlvy_day_saturday_type: string (nullable = true)\n",
            " |-- delivery_contact_start_hm_date: string (nullable = true)\n",
            " |-- delivery_contact_end_hm_date: string (nullable = true)\n",
            " |-- registry_entry_date: date (nullable = true)\n",
            " |-- register_user_id: string (nullable = true)\n",
            " |-- last_change_date: date (nullable = true)\n",
            " |-- last_change_user_id: string (nullable = true)\n",
            " |-- last_change_hms_date: string (nullable = true)\n",
            " |-- last_change_terminal_id: string (nullable = true)\n",
            " |-- operational_load_date: timestamp (nullable = true)\n",
            " |-- l_c_d_customer: date (nullable = true)\n",
            "\n"
          ]
        }
      ]
    },
    {
      "cell_type": "markdown",
      "source": [
        "### Filtrado phones"
      ],
      "metadata": {
        "id": "cMRaId42aHMV"
      }
    },
    {
      "cell_type": "code",
      "source": [
        "import pyspark.sql.functions as F\n",
        "from pyspark.sql import SparkSession\n",
        "from pyspark.sql.functions import concat,col, row_number, desc, collect_list\n",
        "from pyspark.sql.window import Window"
      ],
      "metadata": {
        "id": "VEzfV2IkY-kj"
      },
      "execution_count": 11,
      "outputs": []
    },
    {
      "cell_type": "code",
      "source": [
        "df_phones_cut = df_customer_phones.drop('contact_channel_type','wrong_phone_type','registry_entry_date','register_user_id','last_change_user_id','l_c_d_customer','last_change_hms_date','last_change_terminal_id','phone_intern_id','phone_country_id', 'aditional_info_txt_desc', 'primary_phone_type','address_sequence_type','address_town_name','zipcode_id', 'province_id','sender_application_id','normalization_status_type','normalization_reason_name','validity_start_date','validity_end_date','dlvy_day_monday_type','dlvy_day_tuesday_type','dlvy_day_wednesday_type','dlvy_day_thursday_type','dlvy_day_friday_type','dlvy_day_friday_type','dlvy_day_saturday_type','delivery_contact_start_hm_date','delivery_contact_end_hm_date','operational_load_date','normalization_date')"
      ],
      "metadata": {
        "id": "9tf_fKEjWsZA"
      },
      "execution_count": 55,
      "outputs": []
    },
    {
      "cell_type": "code",
      "source": [
        "df_phones_sorted = df_phones_cut.orderBy([df_phones_cut.customer_id, desc('last_change_date')])\n",
        "df_phones_sorted.show()"
      ],
      "metadata": {
        "id": "q_ftH3XKWwRS",
        "colab": {
          "base_uri": "https://localhost:8080/"
        },
        "outputId": "c13335d3-6a3d-4bd3-9c95-102f62acceca"
      },
      "execution_count": 56,
      "outputs": [
        {
          "output_type": "stream",
          "name": "stdout",
          "text": [
            "+-----------+--------------+-------------------+-----------------+----------+---------------+-------------+-------------------+-----------------+-------------+-------------+--------------------------+---------------------+----------------+\n",
            "|customer_id|phone_use_type|address_sequence_id|phone_sequence_id|phone_type|prefix_phone_id|phone_area_id|cellphone_prefix_id|phone_exchange_id|phone_line_id|     phone_id|customer_phone_status_type|phone_status_mod_date|last_change_date|\n",
            "+-----------+--------------+-------------------+-----------------+----------+---------------+-------------+-------------------+-----------------+-------------+-------------+--------------------------+---------------------+----------------+\n",
            "|   00000442|            00|                  0|                1|         3|             54|          297|                 15|              472|         9337| 384498667593|                 DECLARADO|           2022-07-20|      2022-07-20|\n",
            "|   00000442|            02|                  0|                2|         3|             54|          297|                 15|              529|         6284| 712455962424|                 DECLARADO|           2022-07-20|      2022-07-20|\n",
            "|   00001419|            00|                  0|                2|         3|             54|           11|                 15|             6679|         3207| 044982237001|                COMPROBADO|           2022-11-01|      2022-11-01|\n",
            "|   00001939|            00|                  0|                1|         3|             54|           11|                 15|             3870|         0150| 008960137788|                COMPROBADO|           2022-09-21|      2022-09-21|\n",
            "|   00002707|            01|                  0|                1|         1|             54|          299|                   |              447|         7116|   6116490163|                 DECLARADO|           2022-08-12|      2022-08-17|\n",
            "|   00002790|            00|                  0|                1|         3|             54|          342|                 15|              466|         2478| 051880599267|                COMPROBADO|           2022-11-18|      2022-11-18|\n",
            "|   00002790|            00|                  0|                2|         1|             54|          342|                   |              488|         3620|   4330463819|                  VALIDADO|           2022-10-08|      2022-10-08|\n",
            "|   00004287|            00|                  0|                2|         3|             54|         3541|                 15|             5988|          799|1456900382957|                 DECLARADO|           2022-08-29|      2022-08-29|\n",
            "|   00004724|            00|                  0|                1|         3|             54|           11|                 15|             2408|         4447| 820582605809|                COMPROBADO|           2022-11-04|      2022-11-04|\n",
            "|   00007932|            00|                  0|                1|         3|             54|          385|                 15|              406|         5887| 402572158909|                 DECLARADO|           2022-09-29|      2022-09-29|\n",
            "|   00011850|            00|                  0|                1|         3|             54|         3489|                 15|               49|         3578| 163848812051|                COMPROBADO|           2022-10-27|      2022-10-27|\n",
            "|   00011850|            02|                  0|                2|         3|             54|           11|                 15|             2578|         1080| 790484486094|                 DECLARADO|           2022-10-24|      2022-10-24|\n",
            "|   00012051|            00|                  0|                1|         3|             54|         3401|                 15|               53|         4381| 226398993225|                 DECLARADO|           2022-10-06|      2022-10-06|\n",
            "|   00012611|            00|                  0|                2|         1|             54|           11|                   |             4344|         3165|   0647016054|                  VALIDADO|           2022-08-30|      2022-08-30|\n",
            "|   00012611|            00|                  0|                1|         3|             54|           11|                 15|             6114|         1855| 162848642527|                COMPROBADO|           2022-08-30|      2022-08-30|\n",
            "|   00013498|            02|                  0|                2|         3|             54|          221|                 15|              620|         8511| 533666791591|                 DECLARADO|           2022-08-22|      2022-08-22|\n",
            "|   00014664|            00|                  0|                1|         3|             54|           11|                 15|             6505|         0605| 451978668757|                 DECLARADO|           2022-10-06|      2022-10-06|\n",
            "|   00015497|            00|                  0|                1|         3|             54|           11|                 15|             5105|         2460| 975842902003|                COMPROBADO|           2022-07-28|      2022-07-28|\n",
            "|   00051576|            00|                  0|                1|         3|             54|           11|                 15|             2653|         1080| 959943195039|                COMPROBADO|           2022-10-12|      2022-10-12|\n",
            "|   00053993|            00|                  0|                1|         3|             54|         3718|                 15|               46|         6655| 730405560071|                COMPROBADO|           2022-08-09|      2022-08-12|\n",
            "+-----------+--------------+-------------------+-----------------+----------+---------------+-------------+-------------------+-----------------+-------------+-------------+--------------------------+---------------------+----------------+\n",
            "only showing top 20 rows\n",
            "\n"
          ]
        }
      ]
    },
    {
      "cell_type": "code",
      "source": [
        "#df_phones_sorted = df_phones_sorted.select(concat(df_phones_sorted.prefix_phone_id,df_phones_sorted.phone_area_id,df_phones_sorted.phone_exchange_id,df_phones_sorted.phone_line_id).alias('Full_Phone'),'customer_id','last_change_date')"
      ],
      "metadata": {
        "id": "QsBmCpYpZA7R"
      },
      "execution_count": 14,
      "outputs": []
    },
    {
      "cell_type": "code",
      "source": [
        "from pyspark.sql.functions import concat_ws\n",
        "\n",
        "df_phones_sorted = df_phones_sorted.select(concat_ws('-', df_phones_sorted.prefix_phone_id,df_phones_sorted.phone_area_id,df_phones_sorted.phone_exchange_id,df_phones_sorted.phone_line_id).alias('Full_Phone'),'customer_id','last_change_date')\n"
      ],
      "metadata": {
        "id": "APCq4C-I_E23"
      },
      "execution_count": 57,
      "outputs": []
    },
    {
      "cell_type": "code",
      "source": [
        "df_phones_sorted.show()"
      ],
      "metadata": {
        "id": "JatJ5YpDZCwh",
        "colab": {
          "base_uri": "https://localhost:8080/"
        },
        "outputId": "210e4840-7179-4660-dea7-58d695b22435"
      },
      "execution_count": 58,
      "outputs": [
        {
          "output_type": "stream",
          "name": "stdout",
          "text": [
            "+----------------+-----------+----------------+\n",
            "|      Full_Phone|customer_id|last_change_date|\n",
            "+----------------+-----------+----------------+\n",
            "| 54-297-472-9337|   00000442|      2022-07-20|\n",
            "| 54-297-529-6284|   00000442|      2022-07-20|\n",
            "| 54-11-6679-3207|   00001419|      2022-11-01|\n",
            "| 54-11-3870-0150|   00001939|      2022-09-21|\n",
            "| 54-299-447-7116|   00002707|      2022-08-17|\n",
            "| 54-342-466-2478|   00002790|      2022-11-18|\n",
            "| 54-342-488-3620|   00002790|      2022-10-08|\n",
            "|54-3541-5988-799|   00004287|      2022-08-29|\n",
            "| 54-11-2408-4447|   00004724|      2022-11-04|\n",
            "| 54-385-406-5887|   00007932|      2022-09-29|\n",
            "| 54-3489-49-3578|   00011850|      2022-10-27|\n",
            "| 54-11-2578-1080|   00011850|      2022-10-24|\n",
            "| 54-3401-53-4381|   00012051|      2022-10-06|\n",
            "| 54-11-4344-3165|   00012611|      2022-08-30|\n",
            "| 54-11-6114-1855|   00012611|      2022-08-30|\n",
            "| 54-221-620-8511|   00013498|      2022-08-22|\n",
            "| 54-11-6505-0605|   00014664|      2022-10-06|\n",
            "| 54-11-5105-2460|   00015497|      2022-07-28|\n",
            "| 54-11-2653-1080|   00051576|      2022-10-12|\n",
            "| 54-3718-46-6655|   00053993|      2022-08-12|\n",
            "+----------------+-----------+----------------+\n",
            "only showing top 20 rows\n",
            "\n"
          ]
        }
      ]
    },
    {
      "cell_type": "code",
      "source": [
        "window = Window.partitionBy(df_phones_sorted.customer_id).orderBy(desc(df_phones_sorted.last_change_date))"
      ],
      "metadata": {
        "id": "fRs0zhTdXDtA"
      },
      "execution_count": 59,
      "outputs": []
    },
    {
      "cell_type": "code",
      "source": [
        "df_phone = df_phones_sorted.withColumn('row_num', row_number().over(window))"
      ],
      "metadata": {
        "id": "kUN3ajuZXFvz"
      },
      "execution_count": 60,
      "outputs": []
    },
    {
      "cell_type": "code",
      "source": [
        "df_phone = df_phone.filter(df_phone.row_num <= 3)"
      ],
      "metadata": {
        "id": "jJgO0sNHXHEf"
      },
      "execution_count": 61,
      "outputs": []
    },
    {
      "cell_type": "code",
      "source": [
        "df_phone.show()"
      ],
      "metadata": {
        "id": "8eoCrcTLXIVS",
        "colab": {
          "base_uri": "https://localhost:8080/"
        },
        "outputId": "9a4c8296-8087-4442-e3d6-2ae90f8890ed"
      },
      "execution_count": 62,
      "outputs": [
        {
          "output_type": "stream",
          "name": "stdout",
          "text": [
            "+----------------+-----------+----------------+-------+\n",
            "|      Full_Phone|customer_id|last_change_date|row_num|\n",
            "+----------------+-----------+----------------+-------+\n",
            "| 54-297-472-9337|   00000442|      2022-07-20|      1|\n",
            "| 54-297-529-6284|   00000442|      2022-07-20|      2|\n",
            "| 54-11-6679-3207|   00001419|      2022-11-01|      1|\n",
            "| 54-11-3870-0150|   00001939|      2022-09-21|      1|\n",
            "| 54-299-447-7116|   00002707|      2022-08-17|      1|\n",
            "| 54-342-466-2478|   00002790|      2022-11-18|      1|\n",
            "| 54-342-488-3620|   00002790|      2022-10-08|      2|\n",
            "|54-3541-5988-799|   00004287|      2022-08-29|      1|\n",
            "| 54-11-2408-4447|   00004724|      2022-11-04|      1|\n",
            "| 54-385-406-5887|   00007932|      2022-09-29|      1|\n",
            "| 54-3489-49-3578|   00011850|      2022-10-27|      1|\n",
            "| 54-11-2578-1080|   00011850|      2022-10-24|      2|\n",
            "| 54-3401-53-4381|   00012051|      2022-10-06|      1|\n",
            "| 54-11-6114-1855|   00012611|      2022-08-30|      1|\n",
            "| 54-11-4344-3165|   00012611|      2022-08-30|      2|\n",
            "| 54-221-620-8511|   00013498|      2022-08-22|      1|\n",
            "| 54-11-6505-0605|   00014664|      2022-10-06|      1|\n",
            "| 54-11-5105-2460|   00015497|      2022-07-28|      1|\n",
            "| 54-11-2653-1080|   00051576|      2022-10-12|      1|\n",
            "| 54-3718-46-6655|   00053993|      2022-08-12|      1|\n",
            "+----------------+-----------+----------------+-------+\n",
            "only showing top 20 rows\n",
            "\n"
          ]
        }
      ]
    },
    {
      "cell_type": "code",
      "source": [
        "df_pivot_phone = df_phone.groupBy('customer_id').agg(collect_list('Full_Phone').alias('last_3_changes_list'))"
      ],
      "metadata": {
        "id": "K-AIfg0_c423"
      },
      "execution_count": 63,
      "outputs": []
    },
    {
      "cell_type": "code",
      "source": [
        "df_pivot_phone = df_pivot_phone.selectExpr('customer_id', 'last_3_changes_list[0] as Phone_1', 'last_3_changes_list[1] as Phone_2', 'last_3_changes_list[2] as Phone_3')"
      ],
      "metadata": {
        "id": "wklSvSASfGbH"
      },
      "execution_count": 64,
      "outputs": []
    },
    {
      "cell_type": "code",
      "source": [
        "df_pivot_phone.show()"
      ],
      "metadata": {
        "id": "tMSLXkrRfNRl",
        "colab": {
          "base_uri": "https://localhost:8080/"
        },
        "outputId": "8581dbb5-d352-44ea-8ce0-9b850559eb6f"
      },
      "execution_count": 65,
      "outputs": [
        {
          "output_type": "stream",
          "name": "stdout",
          "text": [
            "+-----------+----------------+---------------+-------+\n",
            "|customer_id|         Phone_1|        Phone_2|Phone_3|\n",
            "+-----------+----------------+---------------+-------+\n",
            "|   00000442| 54-297-472-9337|54-297-529-6284|   null|\n",
            "|   00001419| 54-11-6679-3207|           null|   null|\n",
            "|   00001939| 54-11-3870-0150|           null|   null|\n",
            "|   00002707| 54-299-447-7116|           null|   null|\n",
            "|   00002790| 54-342-466-2478|54-342-488-3620|   null|\n",
            "|   00004287|54-3541-5988-799|           null|   null|\n",
            "|   00004724| 54-11-2408-4447|           null|   null|\n",
            "|   00007932| 54-385-406-5887|           null|   null|\n",
            "|   00011850| 54-3489-49-3578|54-11-2578-1080|   null|\n",
            "|   00012051| 54-3401-53-4381|           null|   null|\n",
            "|   00012611| 54-11-6114-1855|54-11-4344-3165|   null|\n",
            "|   00013498| 54-221-620-8511|           null|   null|\n",
            "|   00014664| 54-11-6505-0605|           null|   null|\n",
            "|   00015497| 54-11-5105-2460|           null|   null|\n",
            "|   00051576| 54-11-2653-1080|           null|   null|\n",
            "|   00053993| 54-3718-46-6655|           null|   null|\n",
            "|   00056407| 54-336-457-7255|           null|   null|\n",
            "|   00056947| 54-297-457-7276|54-297-430-1718|   null|\n",
            "|   00058519| 54-341-274-0967|           null|   null|\n",
            "|   00058801| 54-11-3663-8083|           null|   null|\n",
            "+-----------+----------------+---------------+-------+\n",
            "only showing top 20 rows\n",
            "\n"
          ]
        }
      ]
    },
    {
      "cell_type": "markdown",
      "source": [
        "#Tabla filtrada de phones"
      ],
      "metadata": {
        "id": "RFZ5aLUD_2v7"
      }
    },
    {
      "cell_type": "code",
      "source": [
        "df_pivot_phone = df_pivot_phone.na.fill('---')\n",
        "df_pivot_phone.show()"
      ],
      "metadata": {
        "colab": {
          "base_uri": "https://localhost:8080/"
        },
        "id": "m2D8d8s7hlUR",
        "outputId": "70f7848e-620f-4b1c-c657-05997537975e"
      },
      "execution_count": 66,
      "outputs": [
        {
          "output_type": "stream",
          "name": "stdout",
          "text": [
            "+-----------+----------------+---------------+-------+\n",
            "|customer_id|         Phone_1|        Phone_2|Phone_3|\n",
            "+-----------+----------------+---------------+-------+\n",
            "|   00000442| 54-297-472-9337|54-297-529-6284|    ---|\n",
            "|   00001419| 54-11-6679-3207|            ---|    ---|\n",
            "|   00001939| 54-11-3870-0150|            ---|    ---|\n",
            "|   00002707| 54-299-447-7116|            ---|    ---|\n",
            "|   00002790| 54-342-466-2478|54-342-488-3620|    ---|\n",
            "|   00004287|54-3541-5988-799|            ---|    ---|\n",
            "|   00004724| 54-11-2408-4447|            ---|    ---|\n",
            "|   00007932| 54-385-406-5887|            ---|    ---|\n",
            "|   00011850| 54-3489-49-3578|54-11-2578-1080|    ---|\n",
            "|   00012051| 54-3401-53-4381|            ---|    ---|\n",
            "|   00012611| 54-11-6114-1855|54-11-4344-3165|    ---|\n",
            "|   00013498| 54-221-620-8511|            ---|    ---|\n",
            "|   00014664| 54-11-6505-0605|            ---|    ---|\n",
            "|   00015497| 54-11-5105-2460|            ---|    ---|\n",
            "|   00051576| 54-11-2653-1080|            ---|    ---|\n",
            "|   00053993| 54-3718-46-6655|            ---|    ---|\n",
            "|   00056407| 54-336-457-7255|            ---|    ---|\n",
            "|   00056947| 54-297-457-7276|54-297-430-1718|    ---|\n",
            "|   00058519| 54-341-274-0967|            ---|    ---|\n",
            "|   00058801| 54-11-3663-8083|            ---|    ---|\n",
            "+-----------+----------------+---------------+-------+\n",
            "only showing top 20 rows\n",
            "\n"
          ]
        }
      ]
    },
    {
      "cell_type": "markdown",
      "source": [
        "## Extraccion de datos desde parquet, clientes y emails."
      ],
      "metadata": {
        "id": "-0sm-Qx7kBVa"
      }
    },
    {
      "cell_type": "code",
      "source": [
        "df_emails = spark.read.parquet('/content/Datasets/emails.snappy.parquet')"
      ],
      "metadata": {
        "id": "Lx3nM1XIkBVb"
      },
      "execution_count": 24,
      "outputs": []
    },
    {
      "cell_type": "code",
      "source": [
        "sorted(df_emails.columns)"
      ],
      "metadata": {
        "colab": {
          "base_uri": "https://localhost:8080/"
        },
        "id": "uGNN-1nA8ITK",
        "outputId": "08af9870-fcb5-4645-82cf-c203f44f2d1b"
      },
      "execution_count": 38,
      "outputs": [
        {
          "output_type": "execute_result",
          "data": {
            "text/plain": [
              "['address_sequence_id',\n",
              " 'comments_desc',\n",
              " 'customer_email_status_date',\n",
              " 'customer_email_status_type',\n",
              " 'customer_id',\n",
              " 'email_app_type',\n",
              " 'email_desc',\n",
              " 'email_domain_type',\n",
              " 'email_type',\n",
              " 'encripted_type',\n",
              " 'field_length_number',\n",
              " 'last_change_date',\n",
              " 'last_change_hms_date',\n",
              " 'last_change_terminal_id',\n",
              " 'last_change_user_id',\n",
              " 'operational_load_date',\n",
              " 'primary_email_type',\n",
              " 'register_user_id',\n",
              " 'registry_entry_date',\n",
              " 'residence_type',\n",
              " 'role_type']"
            ]
          },
          "metadata": {},
          "execution_count": 38
        }
      ]
    },
    {
      "cell_type": "code",
      "source": [
        "#df_customer_emails = df_emails.join(df_customer, 'customer_id', how=\"right\")\n",
        "df_customer_emails = df_customer.join(df_emails.select(col(\"customer_id\"),col(\"email_desc\"), col(\"last_change_date\").alias(\"last_change_date_e\")), \"customer_id\")"
      ],
      "metadata": {
        "id": "MFOQeJsFkBVb"
      },
      "execution_count": 40,
      "outputs": []
    },
    {
      "cell_type": "code",
      "source": [
        "sorted(df_customer_emails.columns)"
      ],
      "metadata": {
        "colab": {
          "base_uri": "https://localhost:8080/"
        },
        "id": "yj561lcsV8z5",
        "outputId": "ae8f9265-d701-40de-b86f-08cab53771d2"
      },
      "execution_count": 41,
      "outputs": [
        {
          "output_type": "execute_result",
          "data": {
            "text/plain": [
              "['admission_date',\n",
              " 'balance_closing_date',\n",
              " 'bbva_cust_number',\n",
              " 'bbva_family_lnk_weighted_number',\n",
              " 'bbva_inhabilitation_type',\n",
              " 'birth_date',\n",
              " 'branch_id',\n",
              " 'business_area_id',\n",
              " 'campaing_id',\n",
              " 'coholder_customer_id',\n",
              " 'country_nationality_id',\n",
              " 'credit_manager_id',\n",
              " 'credit_recovery_manager_id',\n",
              " 'cust_bcra_econ_activity_type',\n",
              " 'customer_bcra_situation_id',\n",
              " 'customer_block_bbva_date',\n",
              " 'customer_block_bcra_date',\n",
              " 'customer_condition_type',\n",
              " 'customer_cuit_id',\n",
              " 'customer_end_date',\n",
              " 'customer_entry_type',\n",
              " 'customer_first_block_date',\n",
              " 'customer_id',\n",
              " 'customer_level_access_type',\n",
              " 'customer_linked_type',\n",
              " 'customer_pending_notice_type',\n",
              " 'customer_pep_type',\n",
              " 'customer_position_vat_type',\n",
              " 'customer_registration_date',\n",
              " 'customer_seniority_number',\n",
              " 'customer_situation_type',\n",
              " 'customer_status_type',\n",
              " 'customer_subject_type',\n",
              " 'customer_type',\n",
              " 'customer_unblock_bbva_date',\n",
              " 'customer_unblock_bcra_date',\n",
              " 'email_desc',\n",
              " 'first_name',\n",
              " 'gender_type',\n",
              " 'internal_economic_activity_type',\n",
              " 'job_type',\n",
              " 'last_address_number',\n",
              " 'last_change_date',\n",
              " 'last_change_date_e',\n",
              " 'last_change_hms_date',\n",
              " 'last_change_user_id',\n",
              " 'last_name',\n",
              " 'last_notice_number',\n",
              " 'last_reference_number_id',\n",
              " 'last_service_number',\n",
              " 'last_status_change_date',\n",
              " 'last_unlinking_account_date',\n",
              " 'manager_id',\n",
              " 'marital_status_type',\n",
              " 'operation_channel_id',\n",
              " 'operational_load_date',\n",
              " 'personal_id',\n",
              " 'personal_type',\n",
              " 'profession_id',\n",
              " 'profession_start_date',\n",
              " 'refinancing_date',\n",
              " 'refinancing_number',\n",
              " 'register_terminal_id',\n",
              " 'register_user_id',\n",
              " 'residence_country_id',\n",
              " 'sale_channel_id',\n",
              " 'scoring_activity_type',\n",
              " 'second_last_name',\n",
              " 'sector_type',\n",
              " 'tracking_manager_id']"
            ]
          },
          "metadata": {},
          "execution_count": 41
        }
      ]
    },
    {
      "cell_type": "markdown",
      "source": [
        "### Filtrado emails"
      ],
      "metadata": {
        "id": "Fde4zMn4jXXD"
      }
    },
    {
      "cell_type": "code",
      "source": [],
      "metadata": {
        "id": "1n_36-Wk6_1b"
      },
      "execution_count": null,
      "outputs": []
    },
    {
      "cell_type": "code",
      "source": [
        "#df_emails_cut = df_customer_emails.drop('role_type', 'email_type','address_sequence_id','residence_type','primary_email_type','email_domain_type','encripted_type','field_length_number','comments_desc','customer_email_status_type','email_app_type','register_user_id','last_change_user_id','last_change_hms_date','last_change_terminal_id','operational_load_date','customer_email_status_date','registry_entry_date')\n",
        "df_emails_cut = df_customer_emails.select('customer_id','email_desc','last_change_date_e')"
      ],
      "metadata": {
        "id": "FPik2PVDk7c9"
      },
      "execution_count": 42,
      "outputs": []
    },
    {
      "cell_type": "code",
      "source": [
        "df_emails_sorted = df_emails_cut.orderBy([df_emails_cut.customer_id, desc('last_change_date_e')])\n",
        "\n",
        "df_emails_sorted.toPandas()"
      ],
      "metadata": {
        "id": "fpGW5Bhiny1I",
        "colab": {
          "base_uri": "https://localhost:8080/",
          "height": 423
        },
        "outputId": "4f72f4fb-d2a6-469d-fdfd-2384899a757f"
      },
      "execution_count": 43,
      "outputs": [
        {
          "output_type": "execute_result",
          "data": {
            "text/plain": [
              "    customer_id                   email_desc last_change_date_e\n",
              "0      00001419           JU_LY1@HOTMAIL.COM         2019-05-11\n",
              "1      00001419  EMILIA.RUBIANES@HOTMAIL.COM         2015-10-08\n",
              "2      00002790          NOTIENE@HOIMAIL.COM         2019-07-29\n",
              "3      00002790      DIGITALIZACION@EECC.COM         1900-01-01\n",
              "4      00014664            alq@ciudad.com.ar         2009-06-27\n",
              "..          ...                          ...                ...\n",
              "369    28990339             ELSAMO@GMAIL.COM         2019-11-08\n",
              "370    28993945       navyig@fibertel.com.ar         2009-06-27\n",
              "371    29003190         ANLAU_08@LIVE.COM.AR         2020-06-01\n",
              "372    29008648        ROBERTOWINY@GMAIL.COM         2013-01-23\n",
              "373    29012113     DE_LA_GARMA@YAHOO.COM.AR         2013-05-28\n",
              "\n",
              "[374 rows x 3 columns]"
            ],
            "text/html": [
              "\n",
              "  <div id=\"df-06b77497-277b-43df-9cfd-bae278297aae\">\n",
              "    <div class=\"colab-df-container\">\n",
              "      <div>\n",
              "<style scoped>\n",
              "    .dataframe tbody tr th:only-of-type {\n",
              "        vertical-align: middle;\n",
              "    }\n",
              "\n",
              "    .dataframe tbody tr th {\n",
              "        vertical-align: top;\n",
              "    }\n",
              "\n",
              "    .dataframe thead th {\n",
              "        text-align: right;\n",
              "    }\n",
              "</style>\n",
              "<table border=\"1\" class=\"dataframe\">\n",
              "  <thead>\n",
              "    <tr style=\"text-align: right;\">\n",
              "      <th></th>\n",
              "      <th>customer_id</th>\n",
              "      <th>email_desc</th>\n",
              "      <th>last_change_date_e</th>\n",
              "    </tr>\n",
              "  </thead>\n",
              "  <tbody>\n",
              "    <tr>\n",
              "      <th>0</th>\n",
              "      <td>00001419</td>\n",
              "      <td>JU_LY1@HOTMAIL.COM</td>\n",
              "      <td>2019-05-11</td>\n",
              "    </tr>\n",
              "    <tr>\n",
              "      <th>1</th>\n",
              "      <td>00001419</td>\n",
              "      <td>EMILIA.RUBIANES@HOTMAIL.COM</td>\n",
              "      <td>2015-10-08</td>\n",
              "    </tr>\n",
              "    <tr>\n",
              "      <th>2</th>\n",
              "      <td>00002790</td>\n",
              "      <td>NOTIENE@HOIMAIL.COM</td>\n",
              "      <td>2019-07-29</td>\n",
              "    </tr>\n",
              "    <tr>\n",
              "      <th>3</th>\n",
              "      <td>00002790</td>\n",
              "      <td>DIGITALIZACION@EECC.COM</td>\n",
              "      <td>1900-01-01</td>\n",
              "    </tr>\n",
              "    <tr>\n",
              "      <th>4</th>\n",
              "      <td>00014664</td>\n",
              "      <td>alq@ciudad.com.ar</td>\n",
              "      <td>2009-06-27</td>\n",
              "    </tr>\n",
              "    <tr>\n",
              "      <th>...</th>\n",
              "      <td>...</td>\n",
              "      <td>...</td>\n",
              "      <td>...</td>\n",
              "    </tr>\n",
              "    <tr>\n",
              "      <th>369</th>\n",
              "      <td>28990339</td>\n",
              "      <td>ELSAMO@GMAIL.COM</td>\n",
              "      <td>2019-11-08</td>\n",
              "    </tr>\n",
              "    <tr>\n",
              "      <th>370</th>\n",
              "      <td>28993945</td>\n",
              "      <td>navyig@fibertel.com.ar</td>\n",
              "      <td>2009-06-27</td>\n",
              "    </tr>\n",
              "    <tr>\n",
              "      <th>371</th>\n",
              "      <td>29003190</td>\n",
              "      <td>ANLAU_08@LIVE.COM.AR</td>\n",
              "      <td>2020-06-01</td>\n",
              "    </tr>\n",
              "    <tr>\n",
              "      <th>372</th>\n",
              "      <td>29008648</td>\n",
              "      <td>ROBERTOWINY@GMAIL.COM</td>\n",
              "      <td>2013-01-23</td>\n",
              "    </tr>\n",
              "    <tr>\n",
              "      <th>373</th>\n",
              "      <td>29012113</td>\n",
              "      <td>DE_LA_GARMA@YAHOO.COM.AR</td>\n",
              "      <td>2013-05-28</td>\n",
              "    </tr>\n",
              "  </tbody>\n",
              "</table>\n",
              "<p>374 rows × 3 columns</p>\n",
              "</div>\n",
              "      <button class=\"colab-df-convert\" onclick=\"convertToInteractive('df-06b77497-277b-43df-9cfd-bae278297aae')\"\n",
              "              title=\"Convert this dataframe to an interactive table.\"\n",
              "              style=\"display:none;\">\n",
              "        \n",
              "  <svg xmlns=\"http://www.w3.org/2000/svg\" height=\"24px\"viewBox=\"0 0 24 24\"\n",
              "       width=\"24px\">\n",
              "    <path d=\"M0 0h24v24H0V0z\" fill=\"none\"/>\n",
              "    <path d=\"M18.56 5.44l.94 2.06.94-2.06 2.06-.94-2.06-.94-.94-2.06-.94 2.06-2.06.94zm-11 1L8.5 8.5l.94-2.06 2.06-.94-2.06-.94L8.5 2.5l-.94 2.06-2.06.94zm10 10l.94 2.06.94-2.06 2.06-.94-2.06-.94-.94-2.06-.94 2.06-2.06.94z\"/><path d=\"M17.41 7.96l-1.37-1.37c-.4-.4-.92-.59-1.43-.59-.52 0-1.04.2-1.43.59L10.3 9.45l-7.72 7.72c-.78.78-.78 2.05 0 2.83L4 21.41c.39.39.9.59 1.41.59.51 0 1.02-.2 1.41-.59l7.78-7.78 2.81-2.81c.8-.78.8-2.07 0-2.86zM5.41 20L4 18.59l7.72-7.72 1.47 1.35L5.41 20z\"/>\n",
              "  </svg>\n",
              "      </button>\n",
              "      \n",
              "  <style>\n",
              "    .colab-df-container {\n",
              "      display:flex;\n",
              "      flex-wrap:wrap;\n",
              "      gap: 12px;\n",
              "    }\n",
              "\n",
              "    .colab-df-convert {\n",
              "      background-color: #E8F0FE;\n",
              "      border: none;\n",
              "      border-radius: 50%;\n",
              "      cursor: pointer;\n",
              "      display: none;\n",
              "      fill: #1967D2;\n",
              "      height: 32px;\n",
              "      padding: 0 0 0 0;\n",
              "      width: 32px;\n",
              "    }\n",
              "\n",
              "    .colab-df-convert:hover {\n",
              "      background-color: #E2EBFA;\n",
              "      box-shadow: 0px 1px 2px rgba(60, 64, 67, 0.3), 0px 1px 3px 1px rgba(60, 64, 67, 0.15);\n",
              "      fill: #174EA6;\n",
              "    }\n",
              "\n",
              "    [theme=dark] .colab-df-convert {\n",
              "      background-color: #3B4455;\n",
              "      fill: #D2E3FC;\n",
              "    }\n",
              "\n",
              "    [theme=dark] .colab-df-convert:hover {\n",
              "      background-color: #434B5C;\n",
              "      box-shadow: 0px 1px 3px 1px rgba(0, 0, 0, 0.15);\n",
              "      filter: drop-shadow(0px 1px 2px rgba(0, 0, 0, 0.3));\n",
              "      fill: #FFFFFF;\n",
              "    }\n",
              "  </style>\n",
              "\n",
              "      <script>\n",
              "        const buttonEl =\n",
              "          document.querySelector('#df-06b77497-277b-43df-9cfd-bae278297aae button.colab-df-convert');\n",
              "        buttonEl.style.display =\n",
              "          google.colab.kernel.accessAllowed ? 'block' : 'none';\n",
              "\n",
              "        async function convertToInteractive(key) {\n",
              "          const element = document.querySelector('#df-06b77497-277b-43df-9cfd-bae278297aae');\n",
              "          const dataTable =\n",
              "            await google.colab.kernel.invokeFunction('convertToInteractive',\n",
              "                                                     [key], {});\n",
              "          if (!dataTable) return;\n",
              "\n",
              "          const docLinkHtml = 'Like what you see? Visit the ' +\n",
              "            '<a target=\"_blank\" href=https://colab.research.google.com/notebooks/data_table.ipynb>data table notebook</a>'\n",
              "            + ' to learn more about interactive tables.';\n",
              "          element.innerHTML = '';\n",
              "          dataTable['output_type'] = 'display_data';\n",
              "          await google.colab.output.renderOutput(dataTable, element);\n",
              "          const docLink = document.createElement('div');\n",
              "          docLink.innerHTML = docLinkHtml;\n",
              "          element.appendChild(docLink);\n",
              "        }\n",
              "      </script>\n",
              "    </div>\n",
              "  </div>\n",
              "  "
            ]
          },
          "metadata": {},
          "execution_count": 43
        }
      ]
    },
    {
      "cell_type": "code",
      "source": [
        "window = Window.partitionBy(df_emails_sorted.customer_id).orderBy(desc(df_emails_sorted.last_change_date_e))"
      ],
      "metadata": {
        "id": "_l0ihHQVqwik"
      },
      "execution_count": 44,
      "outputs": []
    },
    {
      "cell_type": "code",
      "source": [
        "df_email = df_emails_sorted.withColumn('row_num', row_number().over(window))"
      ],
      "metadata": {
        "id": "hyKJT4uMsE4V"
      },
      "execution_count": 45,
      "outputs": []
    },
    {
      "cell_type": "code",
      "source": [
        "df_email = df_email.filter(df_email.row_num <= 3)"
      ],
      "metadata": {
        "id": "DyWusGCFsE4V"
      },
      "execution_count": 46,
      "outputs": []
    },
    {
      "cell_type": "code",
      "source": [
        "df_email.toPandas()"
      ],
      "metadata": {
        "id": "b_R9h6FpsE4V",
        "colab": {
          "base_uri": "https://localhost:8080/",
          "height": 423
        },
        "outputId": "9b0cb70d-7620-4f32-dc22-2db4bceffa29"
      },
      "execution_count": 47,
      "outputs": [
        {
          "output_type": "execute_result",
          "data": {
            "text/plain": [
              "    customer_id                   email_desc last_change_date_e  row_num\n",
              "0      00001419           JU_LY1@HOTMAIL.COM         2019-05-11        1\n",
              "1      00001419  EMILIA.RUBIANES@HOTMAIL.COM         2015-10-08        2\n",
              "2      00002790          NOTIENE@HOIMAIL.COM         2019-07-29        1\n",
              "3      00002790      DIGITALIZACION@EECC.COM         1900-01-01        2\n",
              "4      00014664            alq@ciudad.com.ar         2009-06-27        1\n",
              "..          ...                          ...                ...      ...\n",
              "369    28990339             ELSAMO@GMAIL.COM         2019-11-08        1\n",
              "370    28993945       navyig@fibertel.com.ar         2009-06-27        1\n",
              "371    29003190         ANLAU_08@LIVE.COM.AR         2020-06-01        1\n",
              "372    29008648        ROBERTOWINY@GMAIL.COM         2013-01-23        1\n",
              "373    29012113     DE_LA_GARMA@YAHOO.COM.AR         2013-05-28        1\n",
              "\n",
              "[374 rows x 4 columns]"
            ],
            "text/html": [
              "\n",
              "  <div id=\"df-a549227e-a630-4807-bb12-555e86e85218\">\n",
              "    <div class=\"colab-df-container\">\n",
              "      <div>\n",
              "<style scoped>\n",
              "    .dataframe tbody tr th:only-of-type {\n",
              "        vertical-align: middle;\n",
              "    }\n",
              "\n",
              "    .dataframe tbody tr th {\n",
              "        vertical-align: top;\n",
              "    }\n",
              "\n",
              "    .dataframe thead th {\n",
              "        text-align: right;\n",
              "    }\n",
              "</style>\n",
              "<table border=\"1\" class=\"dataframe\">\n",
              "  <thead>\n",
              "    <tr style=\"text-align: right;\">\n",
              "      <th></th>\n",
              "      <th>customer_id</th>\n",
              "      <th>email_desc</th>\n",
              "      <th>last_change_date_e</th>\n",
              "      <th>row_num</th>\n",
              "    </tr>\n",
              "  </thead>\n",
              "  <tbody>\n",
              "    <tr>\n",
              "      <th>0</th>\n",
              "      <td>00001419</td>\n",
              "      <td>JU_LY1@HOTMAIL.COM</td>\n",
              "      <td>2019-05-11</td>\n",
              "      <td>1</td>\n",
              "    </tr>\n",
              "    <tr>\n",
              "      <th>1</th>\n",
              "      <td>00001419</td>\n",
              "      <td>EMILIA.RUBIANES@HOTMAIL.COM</td>\n",
              "      <td>2015-10-08</td>\n",
              "      <td>2</td>\n",
              "    </tr>\n",
              "    <tr>\n",
              "      <th>2</th>\n",
              "      <td>00002790</td>\n",
              "      <td>NOTIENE@HOIMAIL.COM</td>\n",
              "      <td>2019-07-29</td>\n",
              "      <td>1</td>\n",
              "    </tr>\n",
              "    <tr>\n",
              "      <th>3</th>\n",
              "      <td>00002790</td>\n",
              "      <td>DIGITALIZACION@EECC.COM</td>\n",
              "      <td>1900-01-01</td>\n",
              "      <td>2</td>\n",
              "    </tr>\n",
              "    <tr>\n",
              "      <th>4</th>\n",
              "      <td>00014664</td>\n",
              "      <td>alq@ciudad.com.ar</td>\n",
              "      <td>2009-06-27</td>\n",
              "      <td>1</td>\n",
              "    </tr>\n",
              "    <tr>\n",
              "      <th>...</th>\n",
              "      <td>...</td>\n",
              "      <td>...</td>\n",
              "      <td>...</td>\n",
              "      <td>...</td>\n",
              "    </tr>\n",
              "    <tr>\n",
              "      <th>369</th>\n",
              "      <td>28990339</td>\n",
              "      <td>ELSAMO@GMAIL.COM</td>\n",
              "      <td>2019-11-08</td>\n",
              "      <td>1</td>\n",
              "    </tr>\n",
              "    <tr>\n",
              "      <th>370</th>\n",
              "      <td>28993945</td>\n",
              "      <td>navyig@fibertel.com.ar</td>\n",
              "      <td>2009-06-27</td>\n",
              "      <td>1</td>\n",
              "    </tr>\n",
              "    <tr>\n",
              "      <th>371</th>\n",
              "      <td>29003190</td>\n",
              "      <td>ANLAU_08@LIVE.COM.AR</td>\n",
              "      <td>2020-06-01</td>\n",
              "      <td>1</td>\n",
              "    </tr>\n",
              "    <tr>\n",
              "      <th>372</th>\n",
              "      <td>29008648</td>\n",
              "      <td>ROBERTOWINY@GMAIL.COM</td>\n",
              "      <td>2013-01-23</td>\n",
              "      <td>1</td>\n",
              "    </tr>\n",
              "    <tr>\n",
              "      <th>373</th>\n",
              "      <td>29012113</td>\n",
              "      <td>DE_LA_GARMA@YAHOO.COM.AR</td>\n",
              "      <td>2013-05-28</td>\n",
              "      <td>1</td>\n",
              "    </tr>\n",
              "  </tbody>\n",
              "</table>\n",
              "<p>374 rows × 4 columns</p>\n",
              "</div>\n",
              "      <button class=\"colab-df-convert\" onclick=\"convertToInteractive('df-a549227e-a630-4807-bb12-555e86e85218')\"\n",
              "              title=\"Convert this dataframe to an interactive table.\"\n",
              "              style=\"display:none;\">\n",
              "        \n",
              "  <svg xmlns=\"http://www.w3.org/2000/svg\" height=\"24px\"viewBox=\"0 0 24 24\"\n",
              "       width=\"24px\">\n",
              "    <path d=\"M0 0h24v24H0V0z\" fill=\"none\"/>\n",
              "    <path d=\"M18.56 5.44l.94 2.06.94-2.06 2.06-.94-2.06-.94-.94-2.06-.94 2.06-2.06.94zm-11 1L8.5 8.5l.94-2.06 2.06-.94-2.06-.94L8.5 2.5l-.94 2.06-2.06.94zm10 10l.94 2.06.94-2.06 2.06-.94-2.06-.94-.94-2.06-.94 2.06-2.06.94z\"/><path d=\"M17.41 7.96l-1.37-1.37c-.4-.4-.92-.59-1.43-.59-.52 0-1.04.2-1.43.59L10.3 9.45l-7.72 7.72c-.78.78-.78 2.05 0 2.83L4 21.41c.39.39.9.59 1.41.59.51 0 1.02-.2 1.41-.59l7.78-7.78 2.81-2.81c.8-.78.8-2.07 0-2.86zM5.41 20L4 18.59l7.72-7.72 1.47 1.35L5.41 20z\"/>\n",
              "  </svg>\n",
              "      </button>\n",
              "      \n",
              "  <style>\n",
              "    .colab-df-container {\n",
              "      display:flex;\n",
              "      flex-wrap:wrap;\n",
              "      gap: 12px;\n",
              "    }\n",
              "\n",
              "    .colab-df-convert {\n",
              "      background-color: #E8F0FE;\n",
              "      border: none;\n",
              "      border-radius: 50%;\n",
              "      cursor: pointer;\n",
              "      display: none;\n",
              "      fill: #1967D2;\n",
              "      height: 32px;\n",
              "      padding: 0 0 0 0;\n",
              "      width: 32px;\n",
              "    }\n",
              "\n",
              "    .colab-df-convert:hover {\n",
              "      background-color: #E2EBFA;\n",
              "      box-shadow: 0px 1px 2px rgba(60, 64, 67, 0.3), 0px 1px 3px 1px rgba(60, 64, 67, 0.15);\n",
              "      fill: #174EA6;\n",
              "    }\n",
              "\n",
              "    [theme=dark] .colab-df-convert {\n",
              "      background-color: #3B4455;\n",
              "      fill: #D2E3FC;\n",
              "    }\n",
              "\n",
              "    [theme=dark] .colab-df-convert:hover {\n",
              "      background-color: #434B5C;\n",
              "      box-shadow: 0px 1px 3px 1px rgba(0, 0, 0, 0.15);\n",
              "      filter: drop-shadow(0px 1px 2px rgba(0, 0, 0, 0.3));\n",
              "      fill: #FFFFFF;\n",
              "    }\n",
              "  </style>\n",
              "\n",
              "      <script>\n",
              "        const buttonEl =\n",
              "          document.querySelector('#df-a549227e-a630-4807-bb12-555e86e85218 button.colab-df-convert');\n",
              "        buttonEl.style.display =\n",
              "          google.colab.kernel.accessAllowed ? 'block' : 'none';\n",
              "\n",
              "        async function convertToInteractive(key) {\n",
              "          const element = document.querySelector('#df-a549227e-a630-4807-bb12-555e86e85218');\n",
              "          const dataTable =\n",
              "            await google.colab.kernel.invokeFunction('convertToInteractive',\n",
              "                                                     [key], {});\n",
              "          if (!dataTable) return;\n",
              "\n",
              "          const docLinkHtml = 'Like what you see? Visit the ' +\n",
              "            '<a target=\"_blank\" href=https://colab.research.google.com/notebooks/data_table.ipynb>data table notebook</a>'\n",
              "            + ' to learn more about interactive tables.';\n",
              "          element.innerHTML = '';\n",
              "          dataTable['output_type'] = 'display_data';\n",
              "          await google.colab.output.renderOutput(dataTable, element);\n",
              "          const docLink = document.createElement('div');\n",
              "          docLink.innerHTML = docLinkHtml;\n",
              "          element.appendChild(docLink);\n",
              "        }\n",
              "      </script>\n",
              "    </div>\n",
              "  </div>\n",
              "  "
            ]
          },
          "metadata": {},
          "execution_count": 47
        }
      ]
    },
    {
      "cell_type": "code",
      "source": [
        "df_pivot_email = df_email.groupBy('customer_id').agg(collect_list('email_desc').alias('last_3_changes_list'))"
      ],
      "metadata": {
        "id": "RQL8xQPNsE4V"
      },
      "execution_count": 48,
      "outputs": []
    },
    {
      "cell_type": "code",
      "source": [
        "df_pivot_email = df_pivot_email.selectExpr('customer_id', 'last_3_changes_list[0] as Email_1', 'last_3_changes_list[1] as Email_2', 'last_3_changes_list[2] as Email_3')"
      ],
      "metadata": {
        "id": "1JPA_QSxsE4V"
      },
      "execution_count": 49,
      "outputs": []
    },
    {
      "cell_type": "code",
      "source": [
        "df_pivot_email.toPandas()"
      ],
      "metadata": {
        "id": "XVz1TIcAsE4W",
        "colab": {
          "base_uri": "https://localhost:8080/",
          "height": 423
        },
        "outputId": "d11a3d9c-4526-40b2-8f21-a554696ef8b8"
      },
      "execution_count": 50,
      "outputs": [
        {
          "output_type": "execute_result",
          "data": {
            "text/plain": [
              "    customer_id                     Email_1                      Email_2  \\\n",
              "0      00001419          JU_LY1@HOTMAIL.COM  EMILIA.RUBIANES@HOTMAIL.COM   \n",
              "1      00002790         NOTIENE@HOIMAIL.COM      DIGITALIZACION@EECC.COM   \n",
              "2      00014664           alq@ciudad.com.ar                         None   \n",
              "3      00056407     NELLY.S.GEREZ@GMAIL.COM                         None   \n",
              "4      00058801  SOPLETESHLANDA@HOTMAIL.COM   SOPLETESHLANDA@HOTMAIL.COM   \n",
              "..          ...                         ...                          ...   \n",
              "317    28990339            ELSAMO@GMAIL.COM                         None   \n",
              "318    28993945      navyig@fibertel.com.ar                         None   \n",
              "319    29003190        ANLAU_08@LIVE.COM.AR                         None   \n",
              "320    29008648       ROBERTOWINY@GMAIL.COM                         None   \n",
              "321    29012113    DE_LA_GARMA@YAHOO.COM.AR                         None   \n",
              "\n",
              "    Email_3  \n",
              "0      None  \n",
              "1      None  \n",
              "2      None  \n",
              "3      None  \n",
              "4      None  \n",
              "..      ...  \n",
              "317    None  \n",
              "318    None  \n",
              "319    None  \n",
              "320    None  \n",
              "321    None  \n",
              "\n",
              "[322 rows x 4 columns]"
            ],
            "text/html": [
              "\n",
              "  <div id=\"df-d02924e3-761f-49c9-8b31-8911fca3f4d2\">\n",
              "    <div class=\"colab-df-container\">\n",
              "      <div>\n",
              "<style scoped>\n",
              "    .dataframe tbody tr th:only-of-type {\n",
              "        vertical-align: middle;\n",
              "    }\n",
              "\n",
              "    .dataframe tbody tr th {\n",
              "        vertical-align: top;\n",
              "    }\n",
              "\n",
              "    .dataframe thead th {\n",
              "        text-align: right;\n",
              "    }\n",
              "</style>\n",
              "<table border=\"1\" class=\"dataframe\">\n",
              "  <thead>\n",
              "    <tr style=\"text-align: right;\">\n",
              "      <th></th>\n",
              "      <th>customer_id</th>\n",
              "      <th>Email_1</th>\n",
              "      <th>Email_2</th>\n",
              "      <th>Email_3</th>\n",
              "    </tr>\n",
              "  </thead>\n",
              "  <tbody>\n",
              "    <tr>\n",
              "      <th>0</th>\n",
              "      <td>00001419</td>\n",
              "      <td>JU_LY1@HOTMAIL.COM</td>\n",
              "      <td>EMILIA.RUBIANES@HOTMAIL.COM</td>\n",
              "      <td>None</td>\n",
              "    </tr>\n",
              "    <tr>\n",
              "      <th>1</th>\n",
              "      <td>00002790</td>\n",
              "      <td>NOTIENE@HOIMAIL.COM</td>\n",
              "      <td>DIGITALIZACION@EECC.COM</td>\n",
              "      <td>None</td>\n",
              "    </tr>\n",
              "    <tr>\n",
              "      <th>2</th>\n",
              "      <td>00014664</td>\n",
              "      <td>alq@ciudad.com.ar</td>\n",
              "      <td>None</td>\n",
              "      <td>None</td>\n",
              "    </tr>\n",
              "    <tr>\n",
              "      <th>3</th>\n",
              "      <td>00056407</td>\n",
              "      <td>NELLY.S.GEREZ@GMAIL.COM</td>\n",
              "      <td>None</td>\n",
              "      <td>None</td>\n",
              "    </tr>\n",
              "    <tr>\n",
              "      <th>4</th>\n",
              "      <td>00058801</td>\n",
              "      <td>SOPLETESHLANDA@HOTMAIL.COM</td>\n",
              "      <td>SOPLETESHLANDA@HOTMAIL.COM</td>\n",
              "      <td>None</td>\n",
              "    </tr>\n",
              "    <tr>\n",
              "      <th>...</th>\n",
              "      <td>...</td>\n",
              "      <td>...</td>\n",
              "      <td>...</td>\n",
              "      <td>...</td>\n",
              "    </tr>\n",
              "    <tr>\n",
              "      <th>317</th>\n",
              "      <td>28990339</td>\n",
              "      <td>ELSAMO@GMAIL.COM</td>\n",
              "      <td>None</td>\n",
              "      <td>None</td>\n",
              "    </tr>\n",
              "    <tr>\n",
              "      <th>318</th>\n",
              "      <td>28993945</td>\n",
              "      <td>navyig@fibertel.com.ar</td>\n",
              "      <td>None</td>\n",
              "      <td>None</td>\n",
              "    </tr>\n",
              "    <tr>\n",
              "      <th>319</th>\n",
              "      <td>29003190</td>\n",
              "      <td>ANLAU_08@LIVE.COM.AR</td>\n",
              "      <td>None</td>\n",
              "      <td>None</td>\n",
              "    </tr>\n",
              "    <tr>\n",
              "      <th>320</th>\n",
              "      <td>29008648</td>\n",
              "      <td>ROBERTOWINY@GMAIL.COM</td>\n",
              "      <td>None</td>\n",
              "      <td>None</td>\n",
              "    </tr>\n",
              "    <tr>\n",
              "      <th>321</th>\n",
              "      <td>29012113</td>\n",
              "      <td>DE_LA_GARMA@YAHOO.COM.AR</td>\n",
              "      <td>None</td>\n",
              "      <td>None</td>\n",
              "    </tr>\n",
              "  </tbody>\n",
              "</table>\n",
              "<p>322 rows × 4 columns</p>\n",
              "</div>\n",
              "      <button class=\"colab-df-convert\" onclick=\"convertToInteractive('df-d02924e3-761f-49c9-8b31-8911fca3f4d2')\"\n",
              "              title=\"Convert this dataframe to an interactive table.\"\n",
              "              style=\"display:none;\">\n",
              "        \n",
              "  <svg xmlns=\"http://www.w3.org/2000/svg\" height=\"24px\"viewBox=\"0 0 24 24\"\n",
              "       width=\"24px\">\n",
              "    <path d=\"M0 0h24v24H0V0z\" fill=\"none\"/>\n",
              "    <path d=\"M18.56 5.44l.94 2.06.94-2.06 2.06-.94-2.06-.94-.94-2.06-.94 2.06-2.06.94zm-11 1L8.5 8.5l.94-2.06 2.06-.94-2.06-.94L8.5 2.5l-.94 2.06-2.06.94zm10 10l.94 2.06.94-2.06 2.06-.94-2.06-.94-.94-2.06-.94 2.06-2.06.94z\"/><path d=\"M17.41 7.96l-1.37-1.37c-.4-.4-.92-.59-1.43-.59-.52 0-1.04.2-1.43.59L10.3 9.45l-7.72 7.72c-.78.78-.78 2.05 0 2.83L4 21.41c.39.39.9.59 1.41.59.51 0 1.02-.2 1.41-.59l7.78-7.78 2.81-2.81c.8-.78.8-2.07 0-2.86zM5.41 20L4 18.59l7.72-7.72 1.47 1.35L5.41 20z\"/>\n",
              "  </svg>\n",
              "      </button>\n",
              "      \n",
              "  <style>\n",
              "    .colab-df-container {\n",
              "      display:flex;\n",
              "      flex-wrap:wrap;\n",
              "      gap: 12px;\n",
              "    }\n",
              "\n",
              "    .colab-df-convert {\n",
              "      background-color: #E8F0FE;\n",
              "      border: none;\n",
              "      border-radius: 50%;\n",
              "      cursor: pointer;\n",
              "      display: none;\n",
              "      fill: #1967D2;\n",
              "      height: 32px;\n",
              "      padding: 0 0 0 0;\n",
              "      width: 32px;\n",
              "    }\n",
              "\n",
              "    .colab-df-convert:hover {\n",
              "      background-color: #E2EBFA;\n",
              "      box-shadow: 0px 1px 2px rgba(60, 64, 67, 0.3), 0px 1px 3px 1px rgba(60, 64, 67, 0.15);\n",
              "      fill: #174EA6;\n",
              "    }\n",
              "\n",
              "    [theme=dark] .colab-df-convert {\n",
              "      background-color: #3B4455;\n",
              "      fill: #D2E3FC;\n",
              "    }\n",
              "\n",
              "    [theme=dark] .colab-df-convert:hover {\n",
              "      background-color: #434B5C;\n",
              "      box-shadow: 0px 1px 3px 1px rgba(0, 0, 0, 0.15);\n",
              "      filter: drop-shadow(0px 1px 2px rgba(0, 0, 0, 0.3));\n",
              "      fill: #FFFFFF;\n",
              "    }\n",
              "  </style>\n",
              "\n",
              "      <script>\n",
              "        const buttonEl =\n",
              "          document.querySelector('#df-d02924e3-761f-49c9-8b31-8911fca3f4d2 button.colab-df-convert');\n",
              "        buttonEl.style.display =\n",
              "          google.colab.kernel.accessAllowed ? 'block' : 'none';\n",
              "\n",
              "        async function convertToInteractive(key) {\n",
              "          const element = document.querySelector('#df-d02924e3-761f-49c9-8b31-8911fca3f4d2');\n",
              "          const dataTable =\n",
              "            await google.colab.kernel.invokeFunction('convertToInteractive',\n",
              "                                                     [key], {});\n",
              "          if (!dataTable) return;\n",
              "\n",
              "          const docLinkHtml = 'Like what you see? Visit the ' +\n",
              "            '<a target=\"_blank\" href=https://colab.research.google.com/notebooks/data_table.ipynb>data table notebook</a>'\n",
              "            + ' to learn more about interactive tables.';\n",
              "          element.innerHTML = '';\n",
              "          dataTable['output_type'] = 'display_data';\n",
              "          await google.colab.output.renderOutput(dataTable, element);\n",
              "          const docLink = document.createElement('div');\n",
              "          docLink.innerHTML = docLinkHtml;\n",
              "          element.appendChild(docLink);\n",
              "        }\n",
              "      </script>\n",
              "    </div>\n",
              "  </div>\n",
              "  "
            ]
          },
          "metadata": {},
          "execution_count": 50
        }
      ]
    },
    {
      "cell_type": "code",
      "source": [
        "df_pivot_email = df_pivot_email.na.fill('---')\n",
        "df_pivot_email.toPandas()"
      ],
      "metadata": {
        "id": "1Zc-3aU5sE4W",
        "colab": {
          "base_uri": "https://localhost:8080/",
          "height": 423
        },
        "outputId": "d8f2e2a3-9ad3-4c79-ede2-234688a7c7a3"
      },
      "execution_count": 51,
      "outputs": [
        {
          "output_type": "execute_result",
          "data": {
            "text/plain": [
              "    customer_id                     Email_1                      Email_2  \\\n",
              "0      00001419          JU_LY1@HOTMAIL.COM  EMILIA.RUBIANES@HOTMAIL.COM   \n",
              "1      00002790         NOTIENE@HOIMAIL.COM      DIGITALIZACION@EECC.COM   \n",
              "2      00014664           alq@ciudad.com.ar                          ---   \n",
              "3      00056407     NELLY.S.GEREZ@GMAIL.COM                          ---   \n",
              "4      00058801  SOPLETESHLANDA@HOTMAIL.COM   SOPLETESHLANDA@HOTMAIL.COM   \n",
              "..          ...                         ...                          ...   \n",
              "317    28990339            ELSAMO@GMAIL.COM                          ---   \n",
              "318    28993945      navyig@fibertel.com.ar                          ---   \n",
              "319    29003190        ANLAU_08@LIVE.COM.AR                          ---   \n",
              "320    29008648       ROBERTOWINY@GMAIL.COM                          ---   \n",
              "321    29012113    DE_LA_GARMA@YAHOO.COM.AR                          ---   \n",
              "\n",
              "    Email_3  \n",
              "0       ---  \n",
              "1       ---  \n",
              "2       ---  \n",
              "3       ---  \n",
              "4       ---  \n",
              "..      ...  \n",
              "317     ---  \n",
              "318     ---  \n",
              "319     ---  \n",
              "320     ---  \n",
              "321     ---  \n",
              "\n",
              "[322 rows x 4 columns]"
            ],
            "text/html": [
              "\n",
              "  <div id=\"df-146cff3f-ed91-4df9-9377-0d70c12c6f93\">\n",
              "    <div class=\"colab-df-container\">\n",
              "      <div>\n",
              "<style scoped>\n",
              "    .dataframe tbody tr th:only-of-type {\n",
              "        vertical-align: middle;\n",
              "    }\n",
              "\n",
              "    .dataframe tbody tr th {\n",
              "        vertical-align: top;\n",
              "    }\n",
              "\n",
              "    .dataframe thead th {\n",
              "        text-align: right;\n",
              "    }\n",
              "</style>\n",
              "<table border=\"1\" class=\"dataframe\">\n",
              "  <thead>\n",
              "    <tr style=\"text-align: right;\">\n",
              "      <th></th>\n",
              "      <th>customer_id</th>\n",
              "      <th>Email_1</th>\n",
              "      <th>Email_2</th>\n",
              "      <th>Email_3</th>\n",
              "    </tr>\n",
              "  </thead>\n",
              "  <tbody>\n",
              "    <tr>\n",
              "      <th>0</th>\n",
              "      <td>00001419</td>\n",
              "      <td>JU_LY1@HOTMAIL.COM</td>\n",
              "      <td>EMILIA.RUBIANES@HOTMAIL.COM</td>\n",
              "      <td>---</td>\n",
              "    </tr>\n",
              "    <tr>\n",
              "      <th>1</th>\n",
              "      <td>00002790</td>\n",
              "      <td>NOTIENE@HOIMAIL.COM</td>\n",
              "      <td>DIGITALIZACION@EECC.COM</td>\n",
              "      <td>---</td>\n",
              "    </tr>\n",
              "    <tr>\n",
              "      <th>2</th>\n",
              "      <td>00014664</td>\n",
              "      <td>alq@ciudad.com.ar</td>\n",
              "      <td>---</td>\n",
              "      <td>---</td>\n",
              "    </tr>\n",
              "    <tr>\n",
              "      <th>3</th>\n",
              "      <td>00056407</td>\n",
              "      <td>NELLY.S.GEREZ@GMAIL.COM</td>\n",
              "      <td>---</td>\n",
              "      <td>---</td>\n",
              "    </tr>\n",
              "    <tr>\n",
              "      <th>4</th>\n",
              "      <td>00058801</td>\n",
              "      <td>SOPLETESHLANDA@HOTMAIL.COM</td>\n",
              "      <td>SOPLETESHLANDA@HOTMAIL.COM</td>\n",
              "      <td>---</td>\n",
              "    </tr>\n",
              "    <tr>\n",
              "      <th>...</th>\n",
              "      <td>...</td>\n",
              "      <td>...</td>\n",
              "      <td>...</td>\n",
              "      <td>...</td>\n",
              "    </tr>\n",
              "    <tr>\n",
              "      <th>317</th>\n",
              "      <td>28990339</td>\n",
              "      <td>ELSAMO@GMAIL.COM</td>\n",
              "      <td>---</td>\n",
              "      <td>---</td>\n",
              "    </tr>\n",
              "    <tr>\n",
              "      <th>318</th>\n",
              "      <td>28993945</td>\n",
              "      <td>navyig@fibertel.com.ar</td>\n",
              "      <td>---</td>\n",
              "      <td>---</td>\n",
              "    </tr>\n",
              "    <tr>\n",
              "      <th>319</th>\n",
              "      <td>29003190</td>\n",
              "      <td>ANLAU_08@LIVE.COM.AR</td>\n",
              "      <td>---</td>\n",
              "      <td>---</td>\n",
              "    </tr>\n",
              "    <tr>\n",
              "      <th>320</th>\n",
              "      <td>29008648</td>\n",
              "      <td>ROBERTOWINY@GMAIL.COM</td>\n",
              "      <td>---</td>\n",
              "      <td>---</td>\n",
              "    </tr>\n",
              "    <tr>\n",
              "      <th>321</th>\n",
              "      <td>29012113</td>\n",
              "      <td>DE_LA_GARMA@YAHOO.COM.AR</td>\n",
              "      <td>---</td>\n",
              "      <td>---</td>\n",
              "    </tr>\n",
              "  </tbody>\n",
              "</table>\n",
              "<p>322 rows × 4 columns</p>\n",
              "</div>\n",
              "      <button class=\"colab-df-convert\" onclick=\"convertToInteractive('df-146cff3f-ed91-4df9-9377-0d70c12c6f93')\"\n",
              "              title=\"Convert this dataframe to an interactive table.\"\n",
              "              style=\"display:none;\">\n",
              "        \n",
              "  <svg xmlns=\"http://www.w3.org/2000/svg\" height=\"24px\"viewBox=\"0 0 24 24\"\n",
              "       width=\"24px\">\n",
              "    <path d=\"M0 0h24v24H0V0z\" fill=\"none\"/>\n",
              "    <path d=\"M18.56 5.44l.94 2.06.94-2.06 2.06-.94-2.06-.94-.94-2.06-.94 2.06-2.06.94zm-11 1L8.5 8.5l.94-2.06 2.06-.94-2.06-.94L8.5 2.5l-.94 2.06-2.06.94zm10 10l.94 2.06.94-2.06 2.06-.94-2.06-.94-.94-2.06-.94 2.06-2.06.94z\"/><path d=\"M17.41 7.96l-1.37-1.37c-.4-.4-.92-.59-1.43-.59-.52 0-1.04.2-1.43.59L10.3 9.45l-7.72 7.72c-.78.78-.78 2.05 0 2.83L4 21.41c.39.39.9.59 1.41.59.51 0 1.02-.2 1.41-.59l7.78-7.78 2.81-2.81c.8-.78.8-2.07 0-2.86zM5.41 20L4 18.59l7.72-7.72 1.47 1.35L5.41 20z\"/>\n",
              "  </svg>\n",
              "      </button>\n",
              "      \n",
              "  <style>\n",
              "    .colab-df-container {\n",
              "      display:flex;\n",
              "      flex-wrap:wrap;\n",
              "      gap: 12px;\n",
              "    }\n",
              "\n",
              "    .colab-df-convert {\n",
              "      background-color: #E8F0FE;\n",
              "      border: none;\n",
              "      border-radius: 50%;\n",
              "      cursor: pointer;\n",
              "      display: none;\n",
              "      fill: #1967D2;\n",
              "      height: 32px;\n",
              "      padding: 0 0 0 0;\n",
              "      width: 32px;\n",
              "    }\n",
              "\n",
              "    .colab-df-convert:hover {\n",
              "      background-color: #E2EBFA;\n",
              "      box-shadow: 0px 1px 2px rgba(60, 64, 67, 0.3), 0px 1px 3px 1px rgba(60, 64, 67, 0.15);\n",
              "      fill: #174EA6;\n",
              "    }\n",
              "\n",
              "    [theme=dark] .colab-df-convert {\n",
              "      background-color: #3B4455;\n",
              "      fill: #D2E3FC;\n",
              "    }\n",
              "\n",
              "    [theme=dark] .colab-df-convert:hover {\n",
              "      background-color: #434B5C;\n",
              "      box-shadow: 0px 1px 3px 1px rgba(0, 0, 0, 0.15);\n",
              "      filter: drop-shadow(0px 1px 2px rgba(0, 0, 0, 0.3));\n",
              "      fill: #FFFFFF;\n",
              "    }\n",
              "  </style>\n",
              "\n",
              "      <script>\n",
              "        const buttonEl =\n",
              "          document.querySelector('#df-146cff3f-ed91-4df9-9377-0d70c12c6f93 button.colab-df-convert');\n",
              "        buttonEl.style.display =\n",
              "          google.colab.kernel.accessAllowed ? 'block' : 'none';\n",
              "\n",
              "        async function convertToInteractive(key) {\n",
              "          const element = document.querySelector('#df-146cff3f-ed91-4df9-9377-0d70c12c6f93');\n",
              "          const dataTable =\n",
              "            await google.colab.kernel.invokeFunction('convertToInteractive',\n",
              "                                                     [key], {});\n",
              "          if (!dataTable) return;\n",
              "\n",
              "          const docLinkHtml = 'Like what you see? Visit the ' +\n",
              "            '<a target=\"_blank\" href=https://colab.research.google.com/notebooks/data_table.ipynb>data table notebook</a>'\n",
              "            + ' to learn more about interactive tables.';\n",
              "          element.innerHTML = '';\n",
              "          dataTable['output_type'] = 'display_data';\n",
              "          await google.colab.output.renderOutput(dataTable, element);\n",
              "          const docLink = document.createElement('div');\n",
              "          docLink.innerHTML = docLinkHtml;\n",
              "          element.appendChild(docLink);\n",
              "        }\n",
              "      </script>\n",
              "    </div>\n",
              "  </div>\n",
              "  "
            ]
          },
          "metadata": {},
          "execution_count": 51
        }
      ]
    },
    {
      "cell_type": "markdown",
      "source": [
        "## Extraccion de datos desde .parquet, clientes y direcciones."
      ],
      "metadata": {
        "id": "D0SjaTWftWxp"
      }
    },
    {
      "cell_type": "code",
      "source": [
        "df_address = spark.read.parquet('/content/Datasets/address.snappy.parquet')"
      ],
      "metadata": {
        "id": "LXzpXH6ttjyM"
      },
      "execution_count": 53,
      "outputs": []
    },
    {
      "cell_type": "code",
      "source": [
        "sorted(df_address.columns)"
      ],
      "metadata": {
        "colab": {
          "base_uri": "https://localhost:8080/"
        },
        "id": "lPAct84gA3RT",
        "outputId": "c211dbe5-249e-4bc0-8828-f2c8d76b3aaa"
      },
      "execution_count": 67,
      "outputs": [
        {
          "output_type": "execute_result",
          "data": {
            "text/plain": [
              "['address_country_id',\n",
              " 'address_department_name',\n",
              " 'address_district_name',\n",
              " 'address_indoor_id',\n",
              " 'address_outdoor_id',\n",
              " 'address_priority_number',\n",
              " 'address_relationship_type',\n",
              " 'address_sequence_id',\n",
              " 'address_start_date',\n",
              " 'address_status_mod_date',\n",
              " 'address_town_name',\n",
              " 'address_verified_date',\n",
              " 'address_without_number_type',\n",
              " 'contact_channel_type',\n",
              " 'customer_id',\n",
              " 'customer_locator_verified_type',\n",
              " 'delivery_contact_end_hm_date',\n",
              " 'delivery_contact_start_hm_date',\n",
              " 'dlvy_day_friday_type',\n",
              " 'dlvy_day_monday_type',\n",
              " 'dlvy_day_saturday_type',\n",
              " 'dlvy_day_thursday_type',\n",
              " 'dlvy_day_tuesday_type',\n",
              " 'dlvy_day_wednesday_type',\n",
              " 'indoor_number',\n",
              " 'last_change_date',\n",
              " 'last_change_hms_date',\n",
              " 'last_change_terminal_id',\n",
              " 'last_change_user_id',\n",
              " 'long_zipcode_id',\n",
              " 'normalization_date',\n",
              " 'normalization_reason_name',\n",
              " 'normalization_status_type',\n",
              " 'normalized_level_match_number',\n",
              " 'operational_load_date',\n",
              " 'other_information_desc',\n",
              " 'prev_address_sequence_id',\n",
              " 'province_id',\n",
              " 'register_user_id',\n",
              " 'registration_type',\n",
              " 'registry_entry_date',\n",
              " 'residence_type',\n",
              " 'returned_mail_type',\n",
              " 'sender_application_id',\n",
              " 'street_name',\n",
              " 'zipcode_id']"
            ]
          },
          "metadata": {},
          "execution_count": 67
        }
      ]
    },
    {
      "cell_type": "code",
      "source": [
        "df_address.show()"
      ],
      "metadata": {
        "colab": {
          "base_uri": "https://localhost:8080/"
        },
        "id": "9wLtpBjEC-Je",
        "outputId": "378b27e3-a625-45d3-c8a9-9486a8c2ed85"
      },
      "execution_count": 70,
      "outputs": [
        {
          "output_type": "stream",
          "name": "stdout",
          "text": [
            "+-----------+-----------------------+-------------------+--------------+--------------------+------------------+---------------------------+-----------------+-------------+---------------------+--------------------+-----------------------+----------+---------------+-----------+------------------+----------------------+-------------------------+------------------+---------------------+------------------------------+-----------------------+--------------------+---------------------+------------------+-------------------------+-------------------------+------------------+-----------------------------+--------------------+---------------------+-----------------------+----------------------+--------------------+----------------------+------------------------------+----------------------------+------------------------+-------------------+----------------+----------------+-------------------+--------------------+-----------------------+-----------------+---------------------+\n",
            "|customer_id|address_priority_number|address_sequence_id|residence_type|         street_name|address_outdoor_id|address_without_number_type|address_indoor_id|indoor_number|address_district_name|   address_town_name|address_department_name|zipcode_id|long_zipcode_id|province_id|address_country_id|other_information_desc|address_relationship_type|address_start_date|address_verified_date|customer_locator_verified_type|address_status_mod_date|contact_channel_type|sender_application_id|returned_mail_type|normalization_status_type|normalization_reason_name|normalization_date|normalized_level_match_number|dlvy_day_monday_type|dlvy_day_tuesday_type|dlvy_day_wednesday_type|dlvy_day_thursday_type|dlvy_day_friday_type|dlvy_day_saturday_type|delivery_contact_start_hm_date|delivery_contact_end_hm_date|prev_address_sequence_id|registry_entry_date|register_user_id|last_change_date|last_change_user_id|last_change_hms_date|last_change_terminal_id|registration_type|operational_load_date|\n",
            "+-----------+-----------------------+-------------------+--------------+--------------------+------------------+---------------------------+-----------------+-------------+---------------------+--------------------+-----------------------+----------+---------------+-----------+------------------+----------------------+-------------------------+------------------+---------------------+------------------------------+-----------------------+--------------------+---------------------+------------------+-------------------------+-------------------------+------------------+-----------------------------+--------------------+---------------------+-----------------------+----------------------+--------------------+----------------------+------------------------------+----------------------------+------------------------+-------------------+----------------+----------------+-------------------+--------------------+-----------------------+-----------------+---------------------+\n",
            "|   00000660|                      1|                  0|            06|PASCUALA DEL JUNC...|           0000850|                          N|                 |             |                  ...|VIRREYES         ...|   112233114455     ...|     01646|               |         02|               080|                   ...|                        0|              null|                 null|                    NO VERIF  |             2008-07-16|                  00|                 CTES|                 1|               NORM USU  |               NEAI      |        2008-07-16|                         0.00|                    |                     |                       |                      |                    |                      |                          0000|                        0000|                       0|         2008-07-16|        PCLE510 |      2011-07-01|           PCLE05T |              144535|                   B   |                -| 2022-01-13 21:32:...|\n",
            "|   07121078|                      1|                  0|            06|SAN NICOLAS      ...|           0002478|                          N|                 |             |                  ...|VILLA VATTEONE   ...|   FLORENCIO VARELA ...|     01888|       B1853AMP|         02|               080|                   ...|                        0|              null|                 null|                    NO VERIF  |             2008-07-16|                  00|                 CTES|                 1|               NORM AUTO |               CO        |        2008-07-16|                         0.00|                    |                     |                       |                      |                    |                      |                          0000|                        0000|                       0|         2008-07-16|        PCLE510 |      2016-09-29|           PCLE05T |              145753|                   D265|                -| 2022-01-13 21:32:...|\n",
            "|   22374047|                      1|                  0|            06|J DE LA CRUZ CONT...|           0000408|                          N|                 |             |                  ...|FLORENCIO VARELA ...|   FLORENCIO VARELA ...|     01888|       B1888IIJ|         02|               080|                   ...|                        0|              null|                 null|                    NO VERIF  |             2008-07-16|                  00|                 CTES|                 1|               NORM AUTO |               CO        |        2008-07-16|                         0.00|                    |                     |                       |                      |                    |                      |                          0000|                        0000|                       0|         2008-07-16|        PCLE510 |      2011-07-01|           PCLE05T |              144535|                   B   |                -| 2022-01-13 21:32:...|\n",
            "|   00002450|                      1|                  0|            06|BACACAY          ...|           0001466|                          N|                 |             |                  ...|ITUZAINGO        ...|   ITUZAINGO        ...|     01714|       B1714ERV|         02|               080|                   ...|                        0|              null|                 null|                    NO VERIF  |             2009-01-26|                  00|                 CTES|                 0|               NORM AUTO |               CO        |        2009-01-26|                         0.00|                    |                     |                       |                      |                    |                      |                          0000|                        0000|                       0|         2009-01-26|        PCLE510 |      2009-01-26|           PCLE510 |              134000|                   B   |                -| 2022-01-13 21:32:...|\n",
            "|   00003925|                      1|                  0|            06|MANUELA PEDRAZA  ...|           0001715|                          N|         5       |      B      |                  ...|CIUDAD AUTONOMA B...|   CAPITAL FEDERAL  ...|     01429|       C1429CBE|         01|               080|                   ...|                        0|              null|                 null|                    NO VERIF  |             2009-01-26|                  00|                 CTES|                 0|               NORM AUTO |               CO        |        2009-01-26|                         0.00|                    |                     |                       |                      |                    |                      |                          0000|                        0000|                       0|         2009-01-26|        PCLE07Q |      2009-01-26|           PCLE07Q |              155342|                   BAT |                -| 2022-01-13 21:32:...|\n",
            "|   00004038|                      1|                  0|            06|BELGRANO         ...|           0001445|                          N|                 |             |                  ...|QUILMES          ...|   QUILMES          ...|     01878|       B1878GLC|         02|               080|                   ...|                        0|              null|                 null|                    NO VERIF  |             2009-01-26|                  00|                 CTES|                 0|               NORM AUTO |               CO        |        2009-01-26|                         0.00|                    |                     |                       |                      |                    |                      |                          0000|                        0000|                       0|         2009-01-26|        PCLE07Q |      2009-01-26|           PCLE07Q |              155342|                   BAT |                -| 2022-01-13 21:32:...|\n",
            "|   01188067|                      1|                  0|            06|VENTURA BOSCH    ...|           0006320|                          N|                 |             |                  ...|CIUDAD AUTONOMA B...|   CAPITAL FEDERAL  ...|     01408|       C1408ECB|         01|               080|                   ...|                        0|              null|                 null|                    NO VERIF  |             2009-01-26|                  00|                 CTES|                 0|               NORM AUTO |               CO        |        2009-01-26|                         0.00|                    |                     |                       |                      |                    |                      |                          0000|                        0000|                       0|         2009-01-26|        PCLE07Q |      2009-01-26|           PCLE07Q |              155342|                   BAT |                -| 2022-01-13 21:32:...|\n",
            "|   00006509|                      1|                  0|            06|CHILE            ...|           0000672|                          N|         4       |      16     |                  ...|CIUDAD AUTONOMA B...|   CAPITAL FEDERAL  ...|     01098|       C1098AAN|         01|               080|                   ...|                        0|              null|                 null|                    NO VERIF  |             2009-01-26|                  00|                 CTES|                 0|               NORM AUTO |               CO        |        2009-01-26|                         0.00|                    |                     |                       |                      |                    |                      |                          0000|                        0000|                       0|         2009-01-26|        PCLE07Q |      2009-01-26|           PCLE07Q |              155342|                   BAT |                -| 2022-01-13 21:32:...|\n",
            "|   00006754|                      1|                  0|            06|CHASSAING        ...|           0004377|                          N|                 |             |                  ...|GREGORIO DE LAFER...|   LA MATANZA       ...|     01757|       B1757LIO|         02|               080|                   ...|                        0|              null|                 null|                    NO VERIF  |             2009-01-26|                  00|                 CTES|                 0|               NORM AUTO |               CO        |        2009-01-26|                         0.00|                    |                     |                       |                      |                    |                      |                          0000|                        0000|                       0|         2009-01-26|        PCLE07Q |      2009-01-26|           PCLE07Q |              155342|                   BAT |                -| 2022-01-13 21:32:...|\n",
            "|   00009582|                      1|                  0|            06|J DE GARAY       ...|           0004818|                          N|                 |             |                  ...|CASEROS          ...|   TRES DE FEBRERO  ...|     01678|       B1678BJV|         02|               080|                   ...|                        0|              null|                 null|                    NO VERIF  |             2009-01-26|                  00|                 CTES|                 0|               NORM AUTO |               CO        |        2009-01-26|                         0.00|                    |                     |                       |                      |                    |                      |                          0000|                        0000|                       0|         2009-01-26|        PCLE07Q |      2009-01-26|           PCLE07Q |              155342|                   BAT |                -| 2022-01-13 21:32:...|\n",
            "|   26761763|                      1|                  0|            06|PICO             ...|           0003366|                          N|         1       |             |                  ...|CIUDAD AUTONOMA B...|   CAPITAL FEDERAL  ...|     01429|       C1429EGH|         01|               080|                   ...|                        0|              null|                 null|                    NO VERIF  |             2009-01-26|                  00|                 CTES|                 0|               NORM AUTO |               CO        |        2009-01-26|                         0.00|                    |                     |                       |                      |                    |                      |                          0000|                        0000|                       0|         2009-01-26|        PCLE07Q |      2009-01-26|           PCLE07Q |              155342|                   BAT |                -| 2022-01-13 21:32:...|\n",
            "|   00012730|                      1|                  0|            06|DR SALVADOR MAZZA...|           0003170|                          N|                 |             |                  ...|QUILMES OESTE    ...|   QUILMES          ...|     01879|       B1879CMB|         02|               080|                   ...|                        0|              null|                 null|                    NO VERIF  |             2009-01-26|                  00|                 CTES|                 0|               NORM AUTO |               CO        |        2009-01-26|                         0.00|                    |                     |                       |                      |                    |                      |                          0000|                        0000|                       0|         2009-01-26|        PCLE07Q |      2009-01-26|           PCLE07Q |              155342|                   BAT |                -| 2022-01-13 21:32:...|\n",
            "|   23483616|                      1|                  0|            06|NICOLAS MEDINA   ...|           0000667|                          N|                 |             |                  ...|CIUDAD AUTONOMA B...|   CAPITAL FEDERAL  ...|     01407|       C1407JEM|         01|               080|                   ...|                        0|              null|                 null|                    NO VERIF  |             2009-01-26|                  00|                 CTES|                 0|               NORM AUTO |               CO        |        2009-01-26|                         0.00|                    |                     |                       |                      |                    |                      |                          0000|                        0000|                       0|         2009-01-26|        PCLE07Q |      2009-01-26|           PCLE07Q |              155342|                   BAT |                -| 2022-01-13 21:32:...|\n",
            "|   00051576|                      1|                  0|            06|ING GUILLERMO MAR...|           0003215|                          N|                 |             |                  ...|BECCAR           ...|   SAN ISIDRO       ...|     01643|       B1643FFQ|         02|               080|                   ...|                        0|              null|                 null|                    NO VERIF  |             2009-01-26|                  00|                 CTES|                 0|               NORM AUTO |               CO        |        2009-01-26|                         0.00|                    |                     |                       |                      |                    |                      |                          0000|                        0000|                       0|         2009-01-26|        PCLE07Q |      2009-01-26|           PCLE07Q |              155342|                   BAT |                -| 2022-01-13 21:32:...|\n",
            "|   00016049|                      4|                  0|            10|*****************...|           0000000|                          S|                 |             |                  ...|*****************...|   112233114455     ...|     00000|               |         00|               080|                   ...|                        0|              null|                 null|                    NO VERIF  |             2007-12-21|                  00|                 VLCO|                 0|               NO NORM   |                         |              null|                         0.00|                    |                     |                       |                      |                    |                      |                          0000|                        0000|                       0|         1996-11-30|                |      1996-11-30|           CONV    |              173959|                   FUSI|                -| 2022-01-13 21:32:...|\n",
            "|   00016995|                      1|                  0|            06|AGUERO           ...|           0000777|                          N|         2       |      7      |                  ...|CIUDAD AUTONOMA B...|   CAPITAL FEDERAL  ...|     01171|       C1171ABK|         01|               080|                   ...|                        0|              null|                 null|                    NO VERIF  |             2009-01-26|                  00|                 CTES|                 0|               NORM AUTO |               CO        |        2009-01-26|                         0.00|                    |                     |                       |                      |                    |                      |                          0000|                        0000|                       0|         2009-01-26|        PCLE07Q |      2009-01-26|           PCLE07Q |              155342|                   BAT |                -| 2022-01-13 21:32:...|\n",
            "|   26074313|                      1|                  0|            06|GRAL M DE AZCUENA...|           0000396|                          N|         2       |      A      |                  ...|CIUDAD AUTONOMA B...|   CAPITAL FEDERAL  ...|     01029|       C1029AAH|         01|               080|                   ...|                        0|              null|                 null|                    NO VERIF  |             2009-01-26|                  00|                 CTES|                 0|               NORM AUTO |               CO        |        2009-01-26|                         0.00|                    |                     |                       |                      |                    |                      |                          0000|                        0000|                       0|         2009-01-26|        PCLE07Q |      2009-01-26|           PCLE07Q |              155342|                   BAT |                -| 2022-01-13 21:32:...|\n",
            "|   27666452|                      1|                  0|            06|PUEYRREDON       ...|           0002728|                          N|                 |             |                  ...|MANUEL ALBERTI   ...|   PILAR            ...|     01667|       B1664JLA|         02|               080|                   ...|                        0|              null|                 null|                    NO VERIF  |             2008-07-16|                  00|                 CTES|                 1|               NORM AUTO |               CO        |        2008-07-16|                         0.00|                    |                     |                       |                      |                    |                      |                          0000|                        0000|                       0|         2008-07-16|        PCLE510 |      2011-07-01|           PCLE05T |              144535|                   B   |                -| 2022-01-13 21:32:...|\n",
            "|   00001213|                      8|                  3|            00|CLAUDIO MAMERTO C...|           0000111|                          N|         1       |      C      |                  ...|CIUDAD AUTONOMA B...|   CAPITAL FEDERAL  ...|     01406|       C1406ARA|         01|               080|                   ...|                        0|              null|                 null|                    DECLARADO |             2008-12-16|                  01|                 CTES|                 0|               NORM AUTO |               CO        |        2008-12-16|                         0.00|                    |                     |                       |                      |                    |                      |                          0000|                        0000|                       0|         2008-12-16|        XA01006 |      2008-12-16|           XA01006 |              105545|                   M903|                -| 2022-01-13 21:32:...|\n",
            "|   00001213|                      3|                  2|            01|TUCUMAN          ...|           0001332|                          N|         4       |      B      |                  ...|CIUDAD AUTONOMA B...|   CAPITAL FEDERAL  ...|     01050|       C1050AAB|         01|               080|                   ...|                        0|              null|                 null|                    DECLARADO |             2008-12-17|                  01|                 CTES|                 0|               NORM AUTO |               CO        |        2008-12-17|                         0.00|                    |                     |                       |                      |                    |                      |                          0000|                        0000|                       0|         2008-12-12|        XA01006 |      2008-12-17|           XA01006 |              111852|                   M903|                -| 2022-01-13 21:32:...|\n",
            "+-----------+-----------------------+-------------------+--------------+--------------------+------------------+---------------------------+-----------------+-------------+---------------------+--------------------+-----------------------+----------+---------------+-----------+------------------+----------------------+-------------------------+------------------+---------------------+------------------------------+-----------------------+--------------------+---------------------+------------------+-------------------------+-------------------------+------------------+-----------------------------+--------------------+---------------------+-----------------------+----------------------+--------------------+----------------------+------------------------------+----------------------------+------------------------+-------------------+----------------+----------------+-------------------+--------------------+-----------------------+-----------------+---------------------+\n",
            "only showing top 20 rows\n",
            "\n"
          ]
        }
      ]
    },
    {
      "cell_type": "code",
      "source": [
        "df_customer.show()"
      ],
      "metadata": {
        "colab": {
          "base_uri": "https://localhost:8080/"
        },
        "id": "ZRfSUhB3EIBZ",
        "outputId": "e64d7cfc-b518-4d6a-88d1-994e2da6ee87"
      },
      "execution_count": 71,
      "outputs": [
        {
          "output_type": "stream",
          "name": "stdout",
          "text": [
            "+-----------+-------------+-------------+--------------+---------------+--------------------+---------+----------------+-----------+-----------------------+-----------------------+----------+-------------------+-----------------+--------------------------+------------+----------------+-------------------+-------------------+-----------+----------+----------------------+--------------------+---------------------+-----------+--------------------------+----------------------------+-------------------------------+------------------------+------------------------+--------------------------+------------------------+--------------------------+----------------------------+------------------+------------------------+-------------------+-------------------+---------------------------+-----------------+-------------------+-----------------+-------------------------------+--------------------+---------------------+------------------+----------------+--------------------+--------------------------+----------------+--------------------------+--------------------+-------------+----------------+--------------------+-------------------+--------+---------------------+-------------------------+--------------------------+----------------+--------------------+--------------------+----------------+-------------+-------------------------+-----------------------+---------------------+\n",
            "|customer_id|personal_type|  personal_id|admission_date|sale_channel_id|operation_channel_id|branch_id|business_area_id|campaing_id|customer_situation_type|customer_condition_type|manager_id|tracking_manager_id|credit_manager_id|credit_recovery_manager_id|   last_name|second_last_name|         first_name|marital_status_type|gender_type|birth_date|country_nationality_id|residence_country_id|customer_subject_type|sector_type|customer_level_access_type|cust_bcra_econ_activity_type|internal_economic_activity_type|bbva_inhabilitation_type|customer_block_bbva_date|customer_unblock_bbva_date|customer_block_bcra_date|customer_unblock_bcra_date|customer_pending_notice_type|last_notice_number|last_reference_number_id|last_service_number|last_address_number|last_unlinking_account_date|customer_end_date|last_change_user_id|customer_pep_type|bbva_family_lnk_weighted_number|customer_status_type|scoring_activity_type|refinancing_number|refinancing_date|coholder_customer_id|customer_bcra_situation_id|customer_cuit_id|customer_position_vat_type|balance_closing_date|profession_id|bbva_cust_number|customer_linked_type|customer_entry_type|job_type|profession_start_date|customer_first_block_date|customer_registration_date|last_change_date|last_change_hms_date|register_terminal_id|register_user_id|customer_type|customer_seniority_number|last_status_change_date|operational_load_date|\n",
            "+-----------+-------------+-------------+--------------+---------------+--------------------+---------+----------------+-----------+-----------------------+-----------------------+----------+-------------------+-----------------+--------------------------+------------+----------------+-------------------+-------------------+-----------+----------+----------------------+--------------------+---------------------+-----------+--------------------------+----------------------------+-------------------------------+------------------------+------------------------+--------------------------+------------------------+--------------------------+----------------------------+------------------+------------------------+-------------------+-------------------+---------------------------+-----------------+-------------------+-----------------+-------------------------------+--------------------+---------------------+------------------+----------------+--------------------+--------------------------+----------------+--------------------------+--------------------+-------------+----------------+--------------------+-------------------+--------+---------------------+-------------------------+--------------------------+----------------+--------------------+--------------------+----------------+-------------+-------------------------+-----------------------+---------------------+\n",
            "|   07867437|           00|0000022367134|    2007-07-10|          10000|                    |      143|              34|          0|                      1|                      1|       489|                   |                 |                          |      KATTAN|                |    ALBERTO GERARDO|                  1|          M|1971-08-10|                    80|                 080|                  201|        100|                         0|                          82|                       21101000|                       0|                    null|                      null|                    null|                      null|                           0|                 0|                       0|                  0|                  1|                       null|             null|            PCLE06R|                0|                              1|                  PO|                   47|              null|            null|                    |                      null|   0023223671349|                       042|                null|          016|       007867437|                   N|                   |     001|           2009-01-01|                     null|                2007-07-10|      2008-05-02|              181547|                P37B|          VUELCO|            S|                     null|                   null| 2022-03-10 01:05:...|\n",
            "|   06813266|           00|0000013343738|    2006-02-22|          10000|                    |      418|              34|          0|                      1|                      1|       139|                   |                 |                          |     FERRERO|                |       ISIDRO ROQUE|                  1|          M|1959-02-06|                    80|                 080|                  201|        100|                         0|                          82|                       21101000|                       0|                    null|                      null|                    null|                      null|                            |                 0|                       0|                  0|                  1|                       null|             null|            PCLE02P|                0|                              1|                  CA|                   47|              null|            null|                    |                      null|   0020133437380|                       043|                null|          016|       006813266|                   N|                   |     001|           2009-01-01|                     null|                2006-02-22|      2008-11-10|              145508|                P37B|          VUELCO|            S|                     null|                   null| 2022-03-10 01:05:...|\n",
            "|   29604216|           00|0000020589841|    2001-08-17|          10000|                  01|      199|              30|          0|                      1|                      1|       661|                   |                 |                          |      TOLOZA|                |       MIGUEL ANGEL|                  5|          M|1969-11-03|                    80|                 080|                  201|        100|                         0|                          82|                       21101000|                       0|                    null|                      null|                    null|                      null|                            |                 0|                       0|                  0|                  3|                       null|             null|            PCLE825|                2|                              1|                  AC|                   18|              null|            null|                    |                        21|   0020205898418|                       042|                null|          013|       005564899|                   N|                   |     001|           2016-12-26|                     null|                2001-08-17|      2022-02-21|              125716|                   B|          VUELCO|            N|                     null|             2016-12-26| 2022-03-10 01:05:...|\n",
            "|   28028529|           00|0000039730521|    2021-08-24|          10000|                  01|      995|              34|          0|                      1|                      8|      2603|                   |             PVTA|                          |      ZURITA|                |             CARLOS|                  5|          M|1996-04-27|                    80|                 080|                  201|        100|                         0|                          82|                       21101000|                       0|                    null|                      null|                    null|                      null|                           0|                 0|                       0|                  0|                  0|                       null|             null|            PCLE06R|                1|                              1|                  PO|                    4|              null|            null|                    |                      null|   0000000000000|                       042|                null|          016|       028028529|                   N|                 MD|     001|           2021-08-24|                     null|                2021-08-24|      2021-08-24|              172924|                P37B|        VW2CEVA0|            S|                     null|                   null| 2022-03-10 01:05:...|\n",
            "|   28366580|           00|0000039786049|    2022-01-11|          10000|                  00|       82|              34|          0|                      1|                      1|       234|                080|                 |                          |    BEATRICE|                |   SEBASTIAN DANIEL|                  5|          M|1996-08-03|                    80|                 080|                  201|        100|                         0|                          82|                       21101000|                       0|                    null|                      null|                    null|                      null|                           0|                 2|                       0|                  0|                  2|                       null|             null|            PCLE06R|                2|                              2|                  AC|                   47|              null|            null|                    |                      null|   0020397860494|                       042|                null|          016|       028366580|                   N|                   |     001|           2022-01-20|                     null|                2022-01-11|      2022-01-25|              204956|                BATC|         PCLE510|            N|                     null|                   null| 2022-03-10 01:05:...|\n",
            "|   02746969|           00|0000025684535|    2010-10-21|          10000|                  00|       74|              34|          0|                      1|                      1|       192|                   |                 |                          |        RUIZ|                |RUIZ MIRIAM LILIANA|                  1|          F|1977-01-01|                    80|                 080|                  201|        100|                         0|                          82|                       21101000|                       0|                    null|                      null|                    null|                      null|                           0|                 0|                       0|                  0|                  1|                       null|             null|            PCLE06R|                1|                              1|                  PO|                   47|              null|            null|                    |                      null|   0027256845356|                       042|                null|          016|       002746969|                   N|                   |     001|           2010-10-21|                     null|                2010-10-21|      2010-10-21|              162741|                P37B|          VUELCO|            S|                     null|                   null| 2022-03-10 01:05:...|\n",
            "|   23441482|           00|0000038990587|    2016-12-22|          10000|                  00|      302|              34|          0|                      1|                      1|       591|                   |                 |                          |      ACOSTA|                |      FRANCO LEONEL|                  5|          M|1995-09-10|                    80|                 080|                  201|        100|                         0|                          82|                       21101000|                       0|                    null|                      null|                    null|                      null|                            |                 0|                       0|                  0|                  2|                       null|             null|            PCLE06R|                2|                              1|                  CA|                   47|              null|            null|                    |                      null|   0023389905879|                       042|                null|          007|       023441482|                   N|                   |     001|           2017-01-04|                     null|                2016-12-22|      2017-01-04|              035408|                P37B|         PCLE510|            S|                     null|             2017-01-04| 2022-03-10 01:05:...|\n",
            "|   23610540|           00|0000021823184|    2004-05-04|          10000|                  01|      130|              34|          0|                      1|                      1|       452|                   |                 |                          |   BALMACEDA|                |        MARIA ESTER|                  5|          F|1971-01-31|                    80|                 080|                  201|        100|                         0|                          82|                       21101000|                       0|                    null|                      null|                    null|                      null|                            |                 0|                       0|                  0|                  1|                       null|             null|            PCLE06R|                0|                              1|                  PO|                   50|              null|            null|                    |                      null|   0027218231840|                       042|                null|          034|       006341634|                   N|                   |     004|           2009-01-01|                     null|                2004-05-04|      2021-04-10|              191538|                P37B|          VUELCO|            S|                     null|             2014-07-17| 2022-03-10 01:05:...|\n",
            "|   25935956|           00|0000036876523|    2019-06-24|          10000|                  01|       75|              30|          0|                      1|                      1|       200|                080|             PVTA|                          |     BUIATTI|                | VERONICA ESTEFANIA|                  5|          F|1992-05-12|                    80|                 080|                  201|        100|                         0|                          82|                       21101000|                       0|                    null|                      null|                    null|                      null|                           2|                30|                       0|                  0|                  1|                       null|             null|            PCLE02P|                2|                              3|                  AC|                    4|              null|            null|                    |                      null|   0027368765231|                       042|                null|          016|       025935956|                   N|                   |     001|           2019-06-24|                     null|                2019-06-24|      2022-01-20|              230746|                BATC|        VW2CEVA0|            N|                     null|                   null| 2022-03-10 01:05:...|\n",
            "|   25848977|           00|0000036916954|    2022-03-08|          10000|                  00|      603|              30|          0|                      1|                      8|      2603|                   |                 |                          |    ONTIVERO|                |    NATALIA SOLEDAD|                  1|          F|1992-10-02|                    80|                 080|                  201|        100|                         0|                          82|                       21101000|                       0|                    null|                      null|                    null|                      null|                           0|                 0|                       0|                  0|                  0|                       null|             null|            PCLE25H|                1|                              0|                    |                   47|              null|            null|                    |                      null|   0027369169543|                       042|                null|          016|       028990968|                   N|                 MD|     001|           2022-03-08|                     null|                2022-03-08|      2022-03-08|              003155|                 BAT|         PCLE25H|             |                     null|                   null| 2022-03-10 01:05:...|\n",
            "|   01957163|           00|0000016394256|    2010-01-22|          10000|                  01|      136|              34|          0|                      1|                      1|       461|                   |                 |                          |  PALAVECINO|                |      NELIDA ANGELI|                  5|          F|1963-10-20|                    80|                 080|                  201|        100|                         0|                          82|                       21101000|                       0|                    null|                      null|                    null|                      null|                           0|                 0|                       0|                  0|                  1|                       null|             null|            PCLE06R|                2|                              1|                  PO|                   47|              null|            null|                    |                      null|   0027163942564|                       042|                null|          016|       001957163|                   N|                   |     001|           2010-01-22|                     null|                2010-01-22|      2010-01-22|              121626|                P37B|          VUELCO|            S|                     null|                   null| 2022-03-10 01:05:...|\n",
            "|   06338965|           00|0000030036232|    2004-04-29|          10000|                  01|      341|              34|          0|                      1|                      1|       639|                   |                 |                          |       LOPEZ|                |     LUCIANO MARTIN|                  5|          F|1982-12-28|                    80|                 080|                  201|        100|                         0|                          82|                       21101000|                       0|                    null|                      null|                    null|                      null|                            |                 0|                       0|                  0|                  1|                       null|             null|            PCLE06R|                0|                              1|                  CA|                   36|              null|            null|                    |                      null|   0027300362325|                       042|                null|          007|       006338965|                   N|                   |     001|           2009-01-01|                     null|                2004-04-29|      2005-12-23|              093844|                P37B|          VUELCO|            S|                     null|                   null| 2022-03-10 01:05:...|\n",
            "|   29676364|           28|0000002164659|    1993-05-24|          10000|                    |       14|              34|          0|                      1|                      8|        71|                   |                 |                          |     BAGNULO|                |              MARIA|                  5|          F|1907-05-28|                    80|                 080|                  201|        100|                         0|                          82|                       21101000|                       0|                    null|                      null|                    null|                      null|                           0|                 0|                       0|                  0|                  2|                       null|             null|            PCLE25Q|                0|                              1|                  CA|                   47|              null|            null|                    |                      null|   0027021646593|                       042|                null|          016|                |                   N|                   |     001|           2009-01-01|                     null|                1993-05-24|      2009-09-18|              162341|                P37B|          VUELCO|            S|                     null|                   null| 2022-03-10 01:05:...|\n",
            "|   26205399|           00|0000038866205|    2019-08-30|          10000|                  01|      995|              34|          0|                      1|                      8|      2603|                   |             PVTA|                          |     VAZQUEZ|                |         JUAN PABLO|                  5|          M|1995-05-05|                    80|                 080|                  201|        100|                         0|                          82|                       21101000|                       0|                    null|                      null|                    null|                      null|                           0|                 0|                       0|                  0|                  0|                       null|             null|            PCLE06R|                1|                              1|                  PO|                    4|              null|            null|                    |                      null|   0000000000000|                       042|                null|          016|       026205399|                   N|                 MD|     001|           2019-08-30|                     null|                2019-08-30|      2019-08-30|              092342|                P37B|        VW2CEVA0|            S|                     null|                   null| 2022-03-10 01:05:...|\n",
            "|   03933825|           00|0000025583974|    2011-07-13|          10000|                  00|      177|              34|          0|                      1|                      1|       600|                   |                 |                          |        SOSA|                |      MARIA CECILIA|                  1|          F|1977-08-04|                    80|                 080|                  201|        100|                         0|                          82|                       21101000|                       0|                    null|                      null|                    null|                      null|                           0|                 0|                       0|                  0|                  1|                       null|             null|            PCLE06R|                1|                              1|                  PO|                   47|              null|            null|                    |                      null|   0027255839743|                       042|                null|          016|       003933825|                   N|                   |     001|           2011-07-13|                     null|                2011-07-13|      2011-07-13|              161542|                P37B|         PCLE10P|            S|                     null|                   null| 2022-03-10 01:05:...|\n",
            "|   29416245|           27|0000007954354|    2014-10-07|          10000|                  00|      603|              34|          0|                      1|                      8|      2603|                   |                 |                          |   GERVASONI|                |     JOSE FRANCISCO|                  1|          M|1945-10-04|                    80|                 080|                  201|        100|                         0|                          82|                       21101000|                       0|                    null|                      null|                    null|                      null|                           0|                 0|                       0|                  0|                  0|                       null|             null|            PCLE25Q|                1|                              1|                  PO|                   47|              null|            null|                    |                      null|   0020079543544|                       042|                null|          016|       020773121|                   N|                 MD|     001|           2014-10-07|                     null|                2014-10-07|      2014-10-07|              175751|                P37B|         PCLE10P|            S|                     null|                   null| 2022-03-10 01:05:...|\n",
            "|   29497813|           25|0000001670239|    1992-06-20|          20050|                  01|      317|              34|          0|                      1|                      8|       609|                   |                 |                          |CIANCIABELLA|                |                JUA|                  1|          M|1922-06-25|                    80|                 080|                  201|        100|                          |                          82|                       21101000|                       0|                    null|                      null|                    null|                      null|                            |                 0|                       0|                  0|                  2|                       null|             null|            PCLE06R|                0|                              1|                  CA|                   47|              null|            null|                    |                      null|   0020016702391|                       042|                null|          016|       000569590|                   N|                 AD|     001|           2009-01-01|                     null|                1992-06-20|      2013-03-09|              150515|                P37B|          VUELCO|            S|                     null|                   null| 2022-03-10 01:05:...|\n",
            "|   02568856|           00|0000017440976|    2010-08-12|          10000|                  00|      223|              34|          0|                      1|                      1|       729|                   |                 |                          |       ARIAS|                |  PATRICIA GRACIELA|                  1|          F|1965-08-04|                    80|                 080|                  201|        100|                         0|                          82|                       21101000|                       0|                    null|                      null|                    null|                      null|                           0|                 0|                       0|                  0|                  1|                       null|             null|            PCLE06R|                1|                              1|                  PO|                   47|              null|            null|                    |                      null|   0027174409760|                       042|                null|          016|       002568856|                   N|                   |     001|           2010-08-12|                     null|                2010-08-12|      2010-08-12|              163210|                P37B|          VUELCO|            S|                     null|                   null| 2022-03-10 01:05:...|\n",
            "|   29681573|           27|0000007849347|    1994-12-23|          10000|                  01|      263|              34|          0|                      1|                      8|       151|                   |                 |                          |       VOZZI|                |             CARLOS|                  1|          M|1950-03-02|                    80|                 080|                  201|        100|                         0|                          82|                       21101000|                       0|                    null|                      null|                    null|                      null|                            |                 0|                       0|                  0|                  0|                       null|             null|            PCLE25Q|                0|                              1|                  CA|                   47|              null|            null|                    |                      null|   0020078493470|                       043|                null|          016|                |                   N|                   |     001|           2009-01-01|                     null|                1994-12-23|      2013-06-18|              163425|                P37B|          VUELCO|            S|                     null|                   null| 2022-03-10 01:05:...|\n",
            "|   04348412|           26|0000000046479|    1998-08-28|          10000|                  01|      999|              34|          0|                      1|                      1|       901|                   |                 |                          |    MASLATON|                |             RAQUEL|                  1|          F|1929-10-06|                    80|                 080|                  201|        100|                         0|                          82|                       21101000|                       0|                    null|                      null|                    null|                      null|                            |                 0|                       0|                  0|                  0|                       null|             null|            PCLE06R|                0|                              1|                  CA|                   47|              null|            null|                    |                      null|   0027000464797|                       042|                null|          016|       004348412|                   N|                   |     001|           2009-01-01|                     null|                1998-08-28|      1998-08-28|              082606|                P37B|          VUELCO|            S|                     null|                   null| 2022-03-10 01:05:...|\n",
            "+-----------+-------------+-------------+--------------+---------------+--------------------+---------+----------------+-----------+-----------------------+-----------------------+----------+-------------------+-----------------+--------------------------+------------+----------------+-------------------+-------------------+-----------+----------+----------------------+--------------------+---------------------+-----------+--------------------------+----------------------------+-------------------------------+------------------------+------------------------+--------------------------+------------------------+--------------------------+----------------------------+------------------+------------------------+-------------------+-------------------+---------------------------+-----------------+-------------------+-----------------+-------------------------------+--------------------+---------------------+------------------+----------------+--------------------+--------------------------+----------------+--------------------------+--------------------+-------------+----------------+--------------------+-------------------+--------+---------------------+-------------------------+--------------------------+----------------+--------------------+--------------------+----------------+-------------+-------------------------+-----------------------+---------------------+\n",
            "only showing top 20 rows\n",
            "\n"
          ]
        }
      ]
    },
    {
      "cell_type": "code",
      "source": [
        "#df_customer_address = df_address.join(df_customer, 'customer_id')\n",
        "#df_customer_address = df_address.join(df_customer.select(col(\"customer_id\"), col(\"last_change_date\").alias(\"l_c_d_customer\")), \"customer_id\")"
      ],
      "metadata": {
        "id": "wE8LkJZ6tjyN"
      },
      "execution_count": null,
      "outputs": []
    },
    {
      "cell_type": "markdown",
      "source": [
        "### Filtrado Address"
      ],
      "metadata": {
        "id": "581jyCaHt3SU"
      }
    },
    {
      "cell_type": "code",
      "source": [
        "#antes de hacer el join, voy a hacer un nuevo dataframe, con los campos que se solicitan en el Ticket 32: --- Calle, Número, Piso, Depto, Localidad, Provincia, Código postal ---"
      ],
      "metadata": {
        "id": "NpAar0jxBXey"
      },
      "execution_count": null,
      "outputs": []
    },
    {
      "cell_type": "code",
      "source": [
        "df_address_cut = df_address.select(col(\"customer_id\"),col(\"street_name\"),col(\"address_outdoor_id\"),col(\"address_indoor_id\"),col(\"indoor_number\"),col(\"address_department_name\"),col(\"province_id\"),col(\"zipcode_id\"),col(\"last_change_date\").alias(\"last_change_date_a\"))"
      ],
      "metadata": {
        "id": "J6uDSJKUt7Qv"
      },
      "execution_count": 79,
      "outputs": []
    },
    {
      "cell_type": "code",
      "source": [
        "df_address_cut.toPandas()"
      ],
      "metadata": {
        "colab": {
          "base_uri": "https://localhost:8080/",
          "height": 423
        },
        "id": "bRk8CelvutD_",
        "outputId": "62abd031-b413-4121-830b-6d3eb4d63302"
      },
      "execution_count": 80,
      "outputs": [
        {
          "output_type": "execute_result",
          "data": {
            "text/plain": [
              "     customer_id               street_name address_outdoor_id  \\\n",
              "0       00000660  PASCUALA DEL JUNCAL                 0000850   \n",
              "1       07121078  SAN NICOLAS                         0002478   \n",
              "2       22374047  J DE LA CRUZ CONTRERAS              0000408   \n",
              "3       00002450  BACACAY                             0001466   \n",
              "4       00003925  MANUELA PEDRAZA                     0001715   \n",
              "...          ...                       ...                ...   \n",
              "2495    00005200  PARAGUAY                            0003091   \n",
              "2496    08341355  AV CORRIENTES                       0004923   \n",
              "2497    06987700  ESTADOS UNIDOS                      0002772   \n",
              "2498    00015314  AV ALVAREZ THOMAS                   0000195   \n",
              "2499    00016258  MONTA�ESES                          0002325   \n",
              "\n",
              "     address_indoor_id indoor_number         address_department_name  \\\n",
              "0                                     112233114455                     \n",
              "1                                     FLORENCIO VARELA                 \n",
              "2                                     FLORENCIO VARELA                 \n",
              "3                                     ITUZAINGO                        \n",
              "4             5              B        CAPITAL FEDERAL                  \n",
              "...                ...           ...                             ...   \n",
              "2495                                  CAPITAL FEDERAL                  \n",
              "2496          2              F        CAPITAL FEDERAL                  \n",
              "2497          2              B        CAPITAL FEDERAL                  \n",
              "2498          13             A        CAPITAL FEDERAL                  \n",
              "2499                                  CAPITAL FEDERAL                  \n",
              "\n",
              "     province_id zipcode_id last_change_date_a  \n",
              "0             02      01646         2011-07-01  \n",
              "1             02      01888         2016-09-29  \n",
              "2             02      01888         2011-07-01  \n",
              "3             02      01714         2009-01-26  \n",
              "4             01      01429         2009-01-26  \n",
              "...          ...        ...                ...  \n",
              "2495          01      01425         2009-01-26  \n",
              "2496          01      01414         2009-01-26  \n",
              "2497          01      01227         2009-01-26  \n",
              "2498          01      01427         2009-01-26  \n",
              "2499          01      01428         2009-01-26  \n",
              "\n",
              "[2500 rows x 9 columns]"
            ],
            "text/html": [
              "\n",
              "  <div id=\"df-f98e3207-a8f1-42de-8a1d-ab9248124014\">\n",
              "    <div class=\"colab-df-container\">\n",
              "      <div>\n",
              "<style scoped>\n",
              "    .dataframe tbody tr th:only-of-type {\n",
              "        vertical-align: middle;\n",
              "    }\n",
              "\n",
              "    .dataframe tbody tr th {\n",
              "        vertical-align: top;\n",
              "    }\n",
              "\n",
              "    .dataframe thead th {\n",
              "        text-align: right;\n",
              "    }\n",
              "</style>\n",
              "<table border=\"1\" class=\"dataframe\">\n",
              "  <thead>\n",
              "    <tr style=\"text-align: right;\">\n",
              "      <th></th>\n",
              "      <th>customer_id</th>\n",
              "      <th>street_name</th>\n",
              "      <th>address_outdoor_id</th>\n",
              "      <th>address_indoor_id</th>\n",
              "      <th>indoor_number</th>\n",
              "      <th>address_department_name</th>\n",
              "      <th>province_id</th>\n",
              "      <th>zipcode_id</th>\n",
              "      <th>last_change_date_a</th>\n",
              "    </tr>\n",
              "  </thead>\n",
              "  <tbody>\n",
              "    <tr>\n",
              "      <th>0</th>\n",
              "      <td>00000660</td>\n",
              "      <td>PASCUALA DEL JUNCAL</td>\n",
              "      <td>0000850</td>\n",
              "      <td></td>\n",
              "      <td></td>\n",
              "      <td>112233114455</td>\n",
              "      <td>02</td>\n",
              "      <td>01646</td>\n",
              "      <td>2011-07-01</td>\n",
              "    </tr>\n",
              "    <tr>\n",
              "      <th>1</th>\n",
              "      <td>07121078</td>\n",
              "      <td>SAN NICOLAS</td>\n",
              "      <td>0002478</td>\n",
              "      <td></td>\n",
              "      <td></td>\n",
              "      <td>FLORENCIO VARELA</td>\n",
              "      <td>02</td>\n",
              "      <td>01888</td>\n",
              "      <td>2016-09-29</td>\n",
              "    </tr>\n",
              "    <tr>\n",
              "      <th>2</th>\n",
              "      <td>22374047</td>\n",
              "      <td>J DE LA CRUZ CONTRERAS</td>\n",
              "      <td>0000408</td>\n",
              "      <td></td>\n",
              "      <td></td>\n",
              "      <td>FLORENCIO VARELA</td>\n",
              "      <td>02</td>\n",
              "      <td>01888</td>\n",
              "      <td>2011-07-01</td>\n",
              "    </tr>\n",
              "    <tr>\n",
              "      <th>3</th>\n",
              "      <td>00002450</td>\n",
              "      <td>BACACAY</td>\n",
              "      <td>0001466</td>\n",
              "      <td></td>\n",
              "      <td></td>\n",
              "      <td>ITUZAINGO</td>\n",
              "      <td>02</td>\n",
              "      <td>01714</td>\n",
              "      <td>2009-01-26</td>\n",
              "    </tr>\n",
              "    <tr>\n",
              "      <th>4</th>\n",
              "      <td>00003925</td>\n",
              "      <td>MANUELA PEDRAZA</td>\n",
              "      <td>0001715</td>\n",
              "      <td>5</td>\n",
              "      <td>B</td>\n",
              "      <td>CAPITAL FEDERAL</td>\n",
              "      <td>01</td>\n",
              "      <td>01429</td>\n",
              "      <td>2009-01-26</td>\n",
              "    </tr>\n",
              "    <tr>\n",
              "      <th>...</th>\n",
              "      <td>...</td>\n",
              "      <td>...</td>\n",
              "      <td>...</td>\n",
              "      <td>...</td>\n",
              "      <td>...</td>\n",
              "      <td>...</td>\n",
              "      <td>...</td>\n",
              "      <td>...</td>\n",
              "      <td>...</td>\n",
              "    </tr>\n",
              "    <tr>\n",
              "      <th>2495</th>\n",
              "      <td>00005200</td>\n",
              "      <td>PARAGUAY</td>\n",
              "      <td>0003091</td>\n",
              "      <td></td>\n",
              "      <td></td>\n",
              "      <td>CAPITAL FEDERAL</td>\n",
              "      <td>01</td>\n",
              "      <td>01425</td>\n",
              "      <td>2009-01-26</td>\n",
              "    </tr>\n",
              "    <tr>\n",
              "      <th>2496</th>\n",
              "      <td>08341355</td>\n",
              "      <td>AV CORRIENTES</td>\n",
              "      <td>0004923</td>\n",
              "      <td>2</td>\n",
              "      <td>F</td>\n",
              "      <td>CAPITAL FEDERAL</td>\n",
              "      <td>01</td>\n",
              "      <td>01414</td>\n",
              "      <td>2009-01-26</td>\n",
              "    </tr>\n",
              "    <tr>\n",
              "      <th>2497</th>\n",
              "      <td>06987700</td>\n",
              "      <td>ESTADOS UNIDOS</td>\n",
              "      <td>0002772</td>\n",
              "      <td>2</td>\n",
              "      <td>B</td>\n",
              "      <td>CAPITAL FEDERAL</td>\n",
              "      <td>01</td>\n",
              "      <td>01227</td>\n",
              "      <td>2009-01-26</td>\n",
              "    </tr>\n",
              "    <tr>\n",
              "      <th>2498</th>\n",
              "      <td>00015314</td>\n",
              "      <td>AV ALVAREZ THOMAS</td>\n",
              "      <td>0000195</td>\n",
              "      <td>13</td>\n",
              "      <td>A</td>\n",
              "      <td>CAPITAL FEDERAL</td>\n",
              "      <td>01</td>\n",
              "      <td>01427</td>\n",
              "      <td>2009-01-26</td>\n",
              "    </tr>\n",
              "    <tr>\n",
              "      <th>2499</th>\n",
              "      <td>00016258</td>\n",
              "      <td>MONTA�ESES</td>\n",
              "      <td>0002325</td>\n",
              "      <td></td>\n",
              "      <td></td>\n",
              "      <td>CAPITAL FEDERAL</td>\n",
              "      <td>01</td>\n",
              "      <td>01428</td>\n",
              "      <td>2009-01-26</td>\n",
              "    </tr>\n",
              "  </tbody>\n",
              "</table>\n",
              "<p>2500 rows × 9 columns</p>\n",
              "</div>\n",
              "      <button class=\"colab-df-convert\" onclick=\"convertToInteractive('df-f98e3207-a8f1-42de-8a1d-ab9248124014')\"\n",
              "              title=\"Convert this dataframe to an interactive table.\"\n",
              "              style=\"display:none;\">\n",
              "        \n",
              "  <svg xmlns=\"http://www.w3.org/2000/svg\" height=\"24px\"viewBox=\"0 0 24 24\"\n",
              "       width=\"24px\">\n",
              "    <path d=\"M0 0h24v24H0V0z\" fill=\"none\"/>\n",
              "    <path d=\"M18.56 5.44l.94 2.06.94-2.06 2.06-.94-2.06-.94-.94-2.06-.94 2.06-2.06.94zm-11 1L8.5 8.5l.94-2.06 2.06-.94-2.06-.94L8.5 2.5l-.94 2.06-2.06.94zm10 10l.94 2.06.94-2.06 2.06-.94-2.06-.94-.94-2.06-.94 2.06-2.06.94z\"/><path d=\"M17.41 7.96l-1.37-1.37c-.4-.4-.92-.59-1.43-.59-.52 0-1.04.2-1.43.59L10.3 9.45l-7.72 7.72c-.78.78-.78 2.05 0 2.83L4 21.41c.39.39.9.59 1.41.59.51 0 1.02-.2 1.41-.59l7.78-7.78 2.81-2.81c.8-.78.8-2.07 0-2.86zM5.41 20L4 18.59l7.72-7.72 1.47 1.35L5.41 20z\"/>\n",
              "  </svg>\n",
              "      </button>\n",
              "      \n",
              "  <style>\n",
              "    .colab-df-container {\n",
              "      display:flex;\n",
              "      flex-wrap:wrap;\n",
              "      gap: 12px;\n",
              "    }\n",
              "\n",
              "    .colab-df-convert {\n",
              "      background-color: #E8F0FE;\n",
              "      border: none;\n",
              "      border-radius: 50%;\n",
              "      cursor: pointer;\n",
              "      display: none;\n",
              "      fill: #1967D2;\n",
              "      height: 32px;\n",
              "      padding: 0 0 0 0;\n",
              "      width: 32px;\n",
              "    }\n",
              "\n",
              "    .colab-df-convert:hover {\n",
              "      background-color: #E2EBFA;\n",
              "      box-shadow: 0px 1px 2px rgba(60, 64, 67, 0.3), 0px 1px 3px 1px rgba(60, 64, 67, 0.15);\n",
              "      fill: #174EA6;\n",
              "    }\n",
              "\n",
              "    [theme=dark] .colab-df-convert {\n",
              "      background-color: #3B4455;\n",
              "      fill: #D2E3FC;\n",
              "    }\n",
              "\n",
              "    [theme=dark] .colab-df-convert:hover {\n",
              "      background-color: #434B5C;\n",
              "      box-shadow: 0px 1px 3px 1px rgba(0, 0, 0, 0.15);\n",
              "      filter: drop-shadow(0px 1px 2px rgba(0, 0, 0, 0.3));\n",
              "      fill: #FFFFFF;\n",
              "    }\n",
              "  </style>\n",
              "\n",
              "      <script>\n",
              "        const buttonEl =\n",
              "          document.querySelector('#df-f98e3207-a8f1-42de-8a1d-ab9248124014 button.colab-df-convert');\n",
              "        buttonEl.style.display =\n",
              "          google.colab.kernel.accessAllowed ? 'block' : 'none';\n",
              "\n",
              "        async function convertToInteractive(key) {\n",
              "          const element = document.querySelector('#df-f98e3207-a8f1-42de-8a1d-ab9248124014');\n",
              "          const dataTable =\n",
              "            await google.colab.kernel.invokeFunction('convertToInteractive',\n",
              "                                                     [key], {});\n",
              "          if (!dataTable) return;\n",
              "\n",
              "          const docLinkHtml = 'Like what you see? Visit the ' +\n",
              "            '<a target=\"_blank\" href=https://colab.research.google.com/notebooks/data_table.ipynb>data table notebook</a>'\n",
              "            + ' to learn more about interactive tables.';\n",
              "          element.innerHTML = '';\n",
              "          dataTable['output_type'] = 'display_data';\n",
              "          await google.colab.output.renderOutput(dataTable, element);\n",
              "          const docLink = document.createElement('div');\n",
              "          docLink.innerHTML = docLinkHtml;\n",
              "          element.appendChild(docLink);\n",
              "        }\n",
              "      </script>\n",
              "    </div>\n",
              "  </div>\n",
              "  "
            ]
          },
          "metadata": {},
          "execution_count": 80
        }
      ]
    },
    {
      "cell_type": "code",
      "source": [
        "df_address_sorted = df_address_cut.orderBy([df_address_cut.customer_id, desc('last_change_date_a')])\n"
      ],
      "metadata": {
        "id": "13HHk7i6urRS"
      },
      "execution_count": 81,
      "outputs": []
    },
    {
      "cell_type": "code",
      "source": [
        "#df_address_sorted = df_address_sorted.select('customer_id', concat(df_address_sorted.street_name,df_address_sorted.address_outdoor_id,df_address_sorted.address_indoor_id,df_address_sorted.indoor_number).alias('Full_Address'),'address_district_name','address_town_name','address_department_name','zipcode_id','long_zipcode_id','last_change_date')\n",
        "df_address_sorted = df_address_sorted.select('customer_id', concat_ws('-', df_address_sorted.street_name,df_address_sorted.address_outdoor_id,df_address_sorted.address_indoor_id,df_address_sorted.indoor_number,df_address_sorted.address_department_name,df_address_sorted.province_id,df_address_sorted.zipcode_id).alias('Full_Address'),'last_change_date_a')"
      ],
      "metadata": {
        "id": "FnEaH7uuw1px"
      },
      "execution_count": 82,
      "outputs": []
    },
    {
      "cell_type": "code",
      "source": [
        "df_address_sorted.toPandas()"
      ],
      "metadata": {
        "colab": {
          "base_uri": "https://localhost:8080/",
          "height": 423
        },
        "id": "w7TGCjvZxXw2",
        "outputId": "cba22c04-aeae-477c-d615-744d152c0541"
      },
      "execution_count": 83,
      "outputs": [
        {
          "output_type": "execute_result",
          "data": {
            "text/plain": [
              "     customer_id                                       Full_Address  \\\n",
              "0       00000003  AV PRES BARTOLOME MITRE -0001500-        -    ...   \n",
              "1       00000050  DR A ALSINA             -0002849-        -    ...   \n",
              "2       00000050  DR A ALSINA             -0002849-        -    ...   \n",
              "3       00000173  CALLE 150               -0003726-        -    ...   \n",
              "4       00000173  CALLE 150               -0003726-        -    ...   \n",
              "...          ...                                                ...   \n",
              "2495    29015563  IBANEZ TENIENTE 1 RO    -0001355-        -    ...   \n",
              "2496    29015902  GARIBALDI               -0001554-        -    ...   \n",
              "2497    29017100  DOMINGO MATHEU          -0000972-        -    ...   \n",
              "2498    29017191  VIRREY ARREDONDO        -0002641-3       -B   ...   \n",
              "2499    29022069  ACASSUSO                -0002665-        -    ...   \n",
              "\n",
              "     last_change_date_a  \n",
              "0            2011-09-07  \n",
              "1            2017-04-18  \n",
              "2            2016-10-12  \n",
              "3            2016-10-12  \n",
              "4            2016-10-12  \n",
              "...                 ...  \n",
              "2495         2009-01-26  \n",
              "2496         2009-01-26  \n",
              "2497         2009-01-26  \n",
              "2498         2009-01-26  \n",
              "2499         2009-01-26  \n",
              "\n",
              "[2500 rows x 3 columns]"
            ],
            "text/html": [
              "\n",
              "  <div id=\"df-0afb0396-e316-4fbf-a728-d76bf31014c7\">\n",
              "    <div class=\"colab-df-container\">\n",
              "      <div>\n",
              "<style scoped>\n",
              "    .dataframe tbody tr th:only-of-type {\n",
              "        vertical-align: middle;\n",
              "    }\n",
              "\n",
              "    .dataframe tbody tr th {\n",
              "        vertical-align: top;\n",
              "    }\n",
              "\n",
              "    .dataframe thead th {\n",
              "        text-align: right;\n",
              "    }\n",
              "</style>\n",
              "<table border=\"1\" class=\"dataframe\">\n",
              "  <thead>\n",
              "    <tr style=\"text-align: right;\">\n",
              "      <th></th>\n",
              "      <th>customer_id</th>\n",
              "      <th>Full_Address</th>\n",
              "      <th>last_change_date_a</th>\n",
              "    </tr>\n",
              "  </thead>\n",
              "  <tbody>\n",
              "    <tr>\n",
              "      <th>0</th>\n",
              "      <td>00000003</td>\n",
              "      <td>AV PRES BARTOLOME MITRE -0001500-        -    ...</td>\n",
              "      <td>2011-09-07</td>\n",
              "    </tr>\n",
              "    <tr>\n",
              "      <th>1</th>\n",
              "      <td>00000050</td>\n",
              "      <td>DR A ALSINA             -0002849-        -    ...</td>\n",
              "      <td>2017-04-18</td>\n",
              "    </tr>\n",
              "    <tr>\n",
              "      <th>2</th>\n",
              "      <td>00000050</td>\n",
              "      <td>DR A ALSINA             -0002849-        -    ...</td>\n",
              "      <td>2016-10-12</td>\n",
              "    </tr>\n",
              "    <tr>\n",
              "      <th>3</th>\n",
              "      <td>00000173</td>\n",
              "      <td>CALLE 150               -0003726-        -    ...</td>\n",
              "      <td>2016-10-12</td>\n",
              "    </tr>\n",
              "    <tr>\n",
              "      <th>4</th>\n",
              "      <td>00000173</td>\n",
              "      <td>CALLE 150               -0003726-        -    ...</td>\n",
              "      <td>2016-10-12</td>\n",
              "    </tr>\n",
              "    <tr>\n",
              "      <th>...</th>\n",
              "      <td>...</td>\n",
              "      <td>...</td>\n",
              "      <td>...</td>\n",
              "    </tr>\n",
              "    <tr>\n",
              "      <th>2495</th>\n",
              "      <td>29015563</td>\n",
              "      <td>IBANEZ TENIENTE 1 RO    -0001355-        -    ...</td>\n",
              "      <td>2009-01-26</td>\n",
              "    </tr>\n",
              "    <tr>\n",
              "      <th>2496</th>\n",
              "      <td>29015902</td>\n",
              "      <td>GARIBALDI               -0001554-        -    ...</td>\n",
              "      <td>2009-01-26</td>\n",
              "    </tr>\n",
              "    <tr>\n",
              "      <th>2497</th>\n",
              "      <td>29017100</td>\n",
              "      <td>DOMINGO MATHEU          -0000972-        -    ...</td>\n",
              "      <td>2009-01-26</td>\n",
              "    </tr>\n",
              "    <tr>\n",
              "      <th>2498</th>\n",
              "      <td>29017191</td>\n",
              "      <td>VIRREY ARREDONDO        -0002641-3       -B   ...</td>\n",
              "      <td>2009-01-26</td>\n",
              "    </tr>\n",
              "    <tr>\n",
              "      <th>2499</th>\n",
              "      <td>29022069</td>\n",
              "      <td>ACASSUSO                -0002665-        -    ...</td>\n",
              "      <td>2009-01-26</td>\n",
              "    </tr>\n",
              "  </tbody>\n",
              "</table>\n",
              "<p>2500 rows × 3 columns</p>\n",
              "</div>\n",
              "      <button class=\"colab-df-convert\" onclick=\"convertToInteractive('df-0afb0396-e316-4fbf-a728-d76bf31014c7')\"\n",
              "              title=\"Convert this dataframe to an interactive table.\"\n",
              "              style=\"display:none;\">\n",
              "        \n",
              "  <svg xmlns=\"http://www.w3.org/2000/svg\" height=\"24px\"viewBox=\"0 0 24 24\"\n",
              "       width=\"24px\">\n",
              "    <path d=\"M0 0h24v24H0V0z\" fill=\"none\"/>\n",
              "    <path d=\"M18.56 5.44l.94 2.06.94-2.06 2.06-.94-2.06-.94-.94-2.06-.94 2.06-2.06.94zm-11 1L8.5 8.5l.94-2.06 2.06-.94-2.06-.94L8.5 2.5l-.94 2.06-2.06.94zm10 10l.94 2.06.94-2.06 2.06-.94-2.06-.94-.94-2.06-.94 2.06-2.06.94z\"/><path d=\"M17.41 7.96l-1.37-1.37c-.4-.4-.92-.59-1.43-.59-.52 0-1.04.2-1.43.59L10.3 9.45l-7.72 7.72c-.78.78-.78 2.05 0 2.83L4 21.41c.39.39.9.59 1.41.59.51 0 1.02-.2 1.41-.59l7.78-7.78 2.81-2.81c.8-.78.8-2.07 0-2.86zM5.41 20L4 18.59l7.72-7.72 1.47 1.35L5.41 20z\"/>\n",
              "  </svg>\n",
              "      </button>\n",
              "      \n",
              "  <style>\n",
              "    .colab-df-container {\n",
              "      display:flex;\n",
              "      flex-wrap:wrap;\n",
              "      gap: 12px;\n",
              "    }\n",
              "\n",
              "    .colab-df-convert {\n",
              "      background-color: #E8F0FE;\n",
              "      border: none;\n",
              "      border-radius: 50%;\n",
              "      cursor: pointer;\n",
              "      display: none;\n",
              "      fill: #1967D2;\n",
              "      height: 32px;\n",
              "      padding: 0 0 0 0;\n",
              "      width: 32px;\n",
              "    }\n",
              "\n",
              "    .colab-df-convert:hover {\n",
              "      background-color: #E2EBFA;\n",
              "      box-shadow: 0px 1px 2px rgba(60, 64, 67, 0.3), 0px 1px 3px 1px rgba(60, 64, 67, 0.15);\n",
              "      fill: #174EA6;\n",
              "    }\n",
              "\n",
              "    [theme=dark] .colab-df-convert {\n",
              "      background-color: #3B4455;\n",
              "      fill: #D2E3FC;\n",
              "    }\n",
              "\n",
              "    [theme=dark] .colab-df-convert:hover {\n",
              "      background-color: #434B5C;\n",
              "      box-shadow: 0px 1px 3px 1px rgba(0, 0, 0, 0.15);\n",
              "      filter: drop-shadow(0px 1px 2px rgba(0, 0, 0, 0.3));\n",
              "      fill: #FFFFFF;\n",
              "    }\n",
              "  </style>\n",
              "\n",
              "      <script>\n",
              "        const buttonEl =\n",
              "          document.querySelector('#df-0afb0396-e316-4fbf-a728-d76bf31014c7 button.colab-df-convert');\n",
              "        buttonEl.style.display =\n",
              "          google.colab.kernel.accessAllowed ? 'block' : 'none';\n",
              "\n",
              "        async function convertToInteractive(key) {\n",
              "          const element = document.querySelector('#df-0afb0396-e316-4fbf-a728-d76bf31014c7');\n",
              "          const dataTable =\n",
              "            await google.colab.kernel.invokeFunction('convertToInteractive',\n",
              "                                                     [key], {});\n",
              "          if (!dataTable) return;\n",
              "\n",
              "          const docLinkHtml = 'Like what you see? Visit the ' +\n",
              "            '<a target=\"_blank\" href=https://colab.research.google.com/notebooks/data_table.ipynb>data table notebook</a>'\n",
              "            + ' to learn more about interactive tables.';\n",
              "          element.innerHTML = '';\n",
              "          dataTable['output_type'] = 'display_data';\n",
              "          await google.colab.output.renderOutput(dataTable, element);\n",
              "          const docLink = document.createElement('div');\n",
              "          docLink.innerHTML = docLinkHtml;\n",
              "          element.appendChild(docLink);\n",
              "        }\n",
              "      </script>\n",
              "    </div>\n",
              "  </div>\n",
              "  "
            ]
          },
          "metadata": {},
          "execution_count": 83
        }
      ]
    },
    {
      "cell_type": "code",
      "source": [
        "window = Window.partitionBy(df_address_sorted.customer_id).orderBy(desc(df_address_sorted.last_change_date_a))"
      ],
      "metadata": {
        "id": "egRyTwTnwT30"
      },
      "execution_count": 84,
      "outputs": []
    },
    {
      "cell_type": "code",
      "source": [
        "df_address = df_address_sorted.withColumn('row_num', row_number().over(window))"
      ],
      "metadata": {
        "id": "evibxyAHwXlC"
      },
      "execution_count": 85,
      "outputs": []
    },
    {
      "cell_type": "code",
      "source": [
        "df_address = df_address.filter(df_address.row_num <= 3)\n",
        "df_address.toPandas()"
      ],
      "metadata": {
        "colab": {
          "base_uri": "https://localhost:8080/",
          "height": 423
        },
        "id": "HFwdtNlHwivy",
        "outputId": "d72028a2-5e4a-45ff-c3a7-8bde75c69d8f"
      },
      "execution_count": 86,
      "outputs": [
        {
          "output_type": "execute_result",
          "data": {
            "text/plain": [
              "     customer_id                                       Full_Address  \\\n",
              "0       00000003  AV PRES BARTOLOME MITRE -0001500-        -    ...   \n",
              "1       00000050  DR A ALSINA             -0002849-        -    ...   \n",
              "2       00000050  DR A ALSINA             -0002849-        -    ...   \n",
              "3       00000173  CALLE 150               -0003726-        -    ...   \n",
              "4       00000173  CALLE 150               -0003726-        -    ...   \n",
              "...          ...                                                ...   \n",
              "2478    29015563  IBANEZ TENIENTE 1 RO    -0001355-        -    ...   \n",
              "2479    29015902  GARIBALDI               -0001554-        -    ...   \n",
              "2480    29017100  DOMINGO MATHEU          -0000972-        -    ...   \n",
              "2481    29017191  VIRREY ARREDONDO        -0002641-3       -B   ...   \n",
              "2482    29022069  ACASSUSO                -0002665-        -    ...   \n",
              "\n",
              "     last_change_date_a  row_num  \n",
              "0            2011-09-07        1  \n",
              "1            2017-04-18        1  \n",
              "2            2016-10-12        2  \n",
              "3            2016-10-12        1  \n",
              "4            2016-10-12        2  \n",
              "...                 ...      ...  \n",
              "2478         2009-01-26        1  \n",
              "2479         2009-01-26        1  \n",
              "2480         2009-01-26        1  \n",
              "2481         2009-01-26        1  \n",
              "2482         2009-01-26        1  \n",
              "\n",
              "[2483 rows x 4 columns]"
            ],
            "text/html": [
              "\n",
              "  <div id=\"df-f57648ae-fede-498e-b2a5-9ca47d48d99d\">\n",
              "    <div class=\"colab-df-container\">\n",
              "      <div>\n",
              "<style scoped>\n",
              "    .dataframe tbody tr th:only-of-type {\n",
              "        vertical-align: middle;\n",
              "    }\n",
              "\n",
              "    .dataframe tbody tr th {\n",
              "        vertical-align: top;\n",
              "    }\n",
              "\n",
              "    .dataframe thead th {\n",
              "        text-align: right;\n",
              "    }\n",
              "</style>\n",
              "<table border=\"1\" class=\"dataframe\">\n",
              "  <thead>\n",
              "    <tr style=\"text-align: right;\">\n",
              "      <th></th>\n",
              "      <th>customer_id</th>\n",
              "      <th>Full_Address</th>\n",
              "      <th>last_change_date_a</th>\n",
              "      <th>row_num</th>\n",
              "    </tr>\n",
              "  </thead>\n",
              "  <tbody>\n",
              "    <tr>\n",
              "      <th>0</th>\n",
              "      <td>00000003</td>\n",
              "      <td>AV PRES BARTOLOME MITRE -0001500-        -    ...</td>\n",
              "      <td>2011-09-07</td>\n",
              "      <td>1</td>\n",
              "    </tr>\n",
              "    <tr>\n",
              "      <th>1</th>\n",
              "      <td>00000050</td>\n",
              "      <td>DR A ALSINA             -0002849-        -    ...</td>\n",
              "      <td>2017-04-18</td>\n",
              "      <td>1</td>\n",
              "    </tr>\n",
              "    <tr>\n",
              "      <th>2</th>\n",
              "      <td>00000050</td>\n",
              "      <td>DR A ALSINA             -0002849-        -    ...</td>\n",
              "      <td>2016-10-12</td>\n",
              "      <td>2</td>\n",
              "    </tr>\n",
              "    <tr>\n",
              "      <th>3</th>\n",
              "      <td>00000173</td>\n",
              "      <td>CALLE 150               -0003726-        -    ...</td>\n",
              "      <td>2016-10-12</td>\n",
              "      <td>1</td>\n",
              "    </tr>\n",
              "    <tr>\n",
              "      <th>4</th>\n",
              "      <td>00000173</td>\n",
              "      <td>CALLE 150               -0003726-        -    ...</td>\n",
              "      <td>2016-10-12</td>\n",
              "      <td>2</td>\n",
              "    </tr>\n",
              "    <tr>\n",
              "      <th>...</th>\n",
              "      <td>...</td>\n",
              "      <td>...</td>\n",
              "      <td>...</td>\n",
              "      <td>...</td>\n",
              "    </tr>\n",
              "    <tr>\n",
              "      <th>2478</th>\n",
              "      <td>29015563</td>\n",
              "      <td>IBANEZ TENIENTE 1 RO    -0001355-        -    ...</td>\n",
              "      <td>2009-01-26</td>\n",
              "      <td>1</td>\n",
              "    </tr>\n",
              "    <tr>\n",
              "      <th>2479</th>\n",
              "      <td>29015902</td>\n",
              "      <td>GARIBALDI               -0001554-        -    ...</td>\n",
              "      <td>2009-01-26</td>\n",
              "      <td>1</td>\n",
              "    </tr>\n",
              "    <tr>\n",
              "      <th>2480</th>\n",
              "      <td>29017100</td>\n",
              "      <td>DOMINGO MATHEU          -0000972-        -    ...</td>\n",
              "      <td>2009-01-26</td>\n",
              "      <td>1</td>\n",
              "    </tr>\n",
              "    <tr>\n",
              "      <th>2481</th>\n",
              "      <td>29017191</td>\n",
              "      <td>VIRREY ARREDONDO        -0002641-3       -B   ...</td>\n",
              "      <td>2009-01-26</td>\n",
              "      <td>1</td>\n",
              "    </tr>\n",
              "    <tr>\n",
              "      <th>2482</th>\n",
              "      <td>29022069</td>\n",
              "      <td>ACASSUSO                -0002665-        -    ...</td>\n",
              "      <td>2009-01-26</td>\n",
              "      <td>1</td>\n",
              "    </tr>\n",
              "  </tbody>\n",
              "</table>\n",
              "<p>2483 rows × 4 columns</p>\n",
              "</div>\n",
              "      <button class=\"colab-df-convert\" onclick=\"convertToInteractive('df-f57648ae-fede-498e-b2a5-9ca47d48d99d')\"\n",
              "              title=\"Convert this dataframe to an interactive table.\"\n",
              "              style=\"display:none;\">\n",
              "        \n",
              "  <svg xmlns=\"http://www.w3.org/2000/svg\" height=\"24px\"viewBox=\"0 0 24 24\"\n",
              "       width=\"24px\">\n",
              "    <path d=\"M0 0h24v24H0V0z\" fill=\"none\"/>\n",
              "    <path d=\"M18.56 5.44l.94 2.06.94-2.06 2.06-.94-2.06-.94-.94-2.06-.94 2.06-2.06.94zm-11 1L8.5 8.5l.94-2.06 2.06-.94-2.06-.94L8.5 2.5l-.94 2.06-2.06.94zm10 10l.94 2.06.94-2.06 2.06-.94-2.06-.94-.94-2.06-.94 2.06-2.06.94z\"/><path d=\"M17.41 7.96l-1.37-1.37c-.4-.4-.92-.59-1.43-.59-.52 0-1.04.2-1.43.59L10.3 9.45l-7.72 7.72c-.78.78-.78 2.05 0 2.83L4 21.41c.39.39.9.59 1.41.59.51 0 1.02-.2 1.41-.59l7.78-7.78 2.81-2.81c.8-.78.8-2.07 0-2.86zM5.41 20L4 18.59l7.72-7.72 1.47 1.35L5.41 20z\"/>\n",
              "  </svg>\n",
              "      </button>\n",
              "      \n",
              "  <style>\n",
              "    .colab-df-container {\n",
              "      display:flex;\n",
              "      flex-wrap:wrap;\n",
              "      gap: 12px;\n",
              "    }\n",
              "\n",
              "    .colab-df-convert {\n",
              "      background-color: #E8F0FE;\n",
              "      border: none;\n",
              "      border-radius: 50%;\n",
              "      cursor: pointer;\n",
              "      display: none;\n",
              "      fill: #1967D2;\n",
              "      height: 32px;\n",
              "      padding: 0 0 0 0;\n",
              "      width: 32px;\n",
              "    }\n",
              "\n",
              "    .colab-df-convert:hover {\n",
              "      background-color: #E2EBFA;\n",
              "      box-shadow: 0px 1px 2px rgba(60, 64, 67, 0.3), 0px 1px 3px 1px rgba(60, 64, 67, 0.15);\n",
              "      fill: #174EA6;\n",
              "    }\n",
              "\n",
              "    [theme=dark] .colab-df-convert {\n",
              "      background-color: #3B4455;\n",
              "      fill: #D2E3FC;\n",
              "    }\n",
              "\n",
              "    [theme=dark] .colab-df-convert:hover {\n",
              "      background-color: #434B5C;\n",
              "      box-shadow: 0px 1px 3px 1px rgba(0, 0, 0, 0.15);\n",
              "      filter: drop-shadow(0px 1px 2px rgba(0, 0, 0, 0.3));\n",
              "      fill: #FFFFFF;\n",
              "    }\n",
              "  </style>\n",
              "\n",
              "      <script>\n",
              "        const buttonEl =\n",
              "          document.querySelector('#df-f57648ae-fede-498e-b2a5-9ca47d48d99d button.colab-df-convert');\n",
              "        buttonEl.style.display =\n",
              "          google.colab.kernel.accessAllowed ? 'block' : 'none';\n",
              "\n",
              "        async function convertToInteractive(key) {\n",
              "          const element = document.querySelector('#df-f57648ae-fede-498e-b2a5-9ca47d48d99d');\n",
              "          const dataTable =\n",
              "            await google.colab.kernel.invokeFunction('convertToInteractive',\n",
              "                                                     [key], {});\n",
              "          if (!dataTable) return;\n",
              "\n",
              "          const docLinkHtml = 'Like what you see? Visit the ' +\n",
              "            '<a target=\"_blank\" href=https://colab.research.google.com/notebooks/data_table.ipynb>data table notebook</a>'\n",
              "            + ' to learn more about interactive tables.';\n",
              "          element.innerHTML = '';\n",
              "          dataTable['output_type'] = 'display_data';\n",
              "          await google.colab.output.renderOutput(dataTable, element);\n",
              "          const docLink = document.createElement('div');\n",
              "          docLink.innerHTML = docLinkHtml;\n",
              "          element.appendChild(docLink);\n",
              "        }\n",
              "      </script>\n",
              "    </div>\n",
              "  </div>\n",
              "  "
            ]
          },
          "metadata": {},
          "execution_count": 86
        }
      ]
    },
    {
      "cell_type": "code",
      "source": [
        "df_pivot_address = df_address.groupBy('customer_id').agg(collect_list('Full_Address').alias('last_3_changes_list'))"
      ],
      "metadata": {
        "id": "6hoFDOqjyg-H"
      },
      "execution_count": 88,
      "outputs": []
    },
    {
      "cell_type": "code",
      "source": [
        "df_pivot_address = df_pivot_address.selectExpr('customer_id', 'last_3_changes_list[0] as Address_1', 'last_3_changes_list[1] as Address_2', 'last_3_changes_list[2] as Address_3')\n"
      ],
      "metadata": {
        "id": "cMOifc4Fyg-I"
      },
      "execution_count": 90,
      "outputs": []
    },
    {
      "cell_type": "code",
      "source": [
        "df_pivot_address = df_pivot_address.na.fill('---')\n",
        "df_pivot_address.toPandas()"
      ],
      "metadata": {
        "colab": {
          "base_uri": "https://localhost:8080/",
          "height": 423
        },
        "outputId": "d0fc47ee-b559-42b3-b696-88453e2f0918",
        "id": "OkShni9iyg-I"
      },
      "execution_count": 91,
      "outputs": [
        {
          "output_type": "execute_result",
          "data": {
            "text/plain": [
              "     customer_id                                          Address_1  \\\n",
              "0       00000003  AV PRES BARTOLOME MITRE -0001500-        -    ...   \n",
              "1       00000050  DR A ALSINA             -0002849-        -    ...   \n",
              "2       00000173  CALLE 150               -0003726-        -    ...   \n",
              "3       00000188  CALLE 156               -0004344-        -    ...   \n",
              "4       00000204  GRAL PINTO              -0002441-        -    ...   \n",
              "...          ...                                                ...   \n",
              "2395    29015563  IBANEZ TENIENTE 1 RO    -0001355-        -    ...   \n",
              "2396    29015902  GARIBALDI               -0001554-        -    ...   \n",
              "2397    29017100  DOMINGO MATHEU          -0000972-        -    ...   \n",
              "2398    29017191  VIRREY ARREDONDO        -0002641-3       -B   ...   \n",
              "2399    29022069  ACASSUSO                -0002665-        -    ...   \n",
              "\n",
              "                                              Address_2  \\\n",
              "0                                                   ---   \n",
              "1     DR A ALSINA             -0002849-        -    ...   \n",
              "2     CALLE 150               -0003726-        -    ...   \n",
              "3                                                   ---   \n",
              "4                                                   ---   \n",
              "...                                                 ...   \n",
              "2395                                                ---   \n",
              "2396                                                ---   \n",
              "2397                                                ---   \n",
              "2398                                                ---   \n",
              "2399                                                ---   \n",
              "\n",
              "                                              Address_3  \n",
              "0                                                   ---  \n",
              "1                                                   ---  \n",
              "2     CALLE 150               -0003726-        -    ...  \n",
              "3                                                   ---  \n",
              "4                                                   ---  \n",
              "...                                                 ...  \n",
              "2395                                                ---  \n",
              "2396                                                ---  \n",
              "2397                                                ---  \n",
              "2398                                                ---  \n",
              "2399                                                ---  \n",
              "\n",
              "[2400 rows x 4 columns]"
            ],
            "text/html": [
              "\n",
              "  <div id=\"df-0aa6e1ef-2b95-4824-ba05-333fa896ddfb\">\n",
              "    <div class=\"colab-df-container\">\n",
              "      <div>\n",
              "<style scoped>\n",
              "    .dataframe tbody tr th:only-of-type {\n",
              "        vertical-align: middle;\n",
              "    }\n",
              "\n",
              "    .dataframe tbody tr th {\n",
              "        vertical-align: top;\n",
              "    }\n",
              "\n",
              "    .dataframe thead th {\n",
              "        text-align: right;\n",
              "    }\n",
              "</style>\n",
              "<table border=\"1\" class=\"dataframe\">\n",
              "  <thead>\n",
              "    <tr style=\"text-align: right;\">\n",
              "      <th></th>\n",
              "      <th>customer_id</th>\n",
              "      <th>Address_1</th>\n",
              "      <th>Address_2</th>\n",
              "      <th>Address_3</th>\n",
              "    </tr>\n",
              "  </thead>\n",
              "  <tbody>\n",
              "    <tr>\n",
              "      <th>0</th>\n",
              "      <td>00000003</td>\n",
              "      <td>AV PRES BARTOLOME MITRE -0001500-        -    ...</td>\n",
              "      <td>---</td>\n",
              "      <td>---</td>\n",
              "    </tr>\n",
              "    <tr>\n",
              "      <th>1</th>\n",
              "      <td>00000050</td>\n",
              "      <td>DR A ALSINA             -0002849-        -    ...</td>\n",
              "      <td>DR A ALSINA             -0002849-        -    ...</td>\n",
              "      <td>---</td>\n",
              "    </tr>\n",
              "    <tr>\n",
              "      <th>2</th>\n",
              "      <td>00000173</td>\n",
              "      <td>CALLE 150               -0003726-        -    ...</td>\n",
              "      <td>CALLE 150               -0003726-        -    ...</td>\n",
              "      <td>CALLE 150               -0003726-        -    ...</td>\n",
              "    </tr>\n",
              "    <tr>\n",
              "      <th>3</th>\n",
              "      <td>00000188</td>\n",
              "      <td>CALLE 156               -0004344-        -    ...</td>\n",
              "      <td>---</td>\n",
              "      <td>---</td>\n",
              "    </tr>\n",
              "    <tr>\n",
              "      <th>4</th>\n",
              "      <td>00000204</td>\n",
              "      <td>GRAL PINTO              -0002441-        -    ...</td>\n",
              "      <td>---</td>\n",
              "      <td>---</td>\n",
              "    </tr>\n",
              "    <tr>\n",
              "      <th>...</th>\n",
              "      <td>...</td>\n",
              "      <td>...</td>\n",
              "      <td>...</td>\n",
              "      <td>...</td>\n",
              "    </tr>\n",
              "    <tr>\n",
              "      <th>2395</th>\n",
              "      <td>29015563</td>\n",
              "      <td>IBANEZ TENIENTE 1 RO    -0001355-        -    ...</td>\n",
              "      <td>---</td>\n",
              "      <td>---</td>\n",
              "    </tr>\n",
              "    <tr>\n",
              "      <th>2396</th>\n",
              "      <td>29015902</td>\n",
              "      <td>GARIBALDI               -0001554-        -    ...</td>\n",
              "      <td>---</td>\n",
              "      <td>---</td>\n",
              "    </tr>\n",
              "    <tr>\n",
              "      <th>2397</th>\n",
              "      <td>29017100</td>\n",
              "      <td>DOMINGO MATHEU          -0000972-        -    ...</td>\n",
              "      <td>---</td>\n",
              "      <td>---</td>\n",
              "    </tr>\n",
              "    <tr>\n",
              "      <th>2398</th>\n",
              "      <td>29017191</td>\n",
              "      <td>VIRREY ARREDONDO        -0002641-3       -B   ...</td>\n",
              "      <td>---</td>\n",
              "      <td>---</td>\n",
              "    </tr>\n",
              "    <tr>\n",
              "      <th>2399</th>\n",
              "      <td>29022069</td>\n",
              "      <td>ACASSUSO                -0002665-        -    ...</td>\n",
              "      <td>---</td>\n",
              "      <td>---</td>\n",
              "    </tr>\n",
              "  </tbody>\n",
              "</table>\n",
              "<p>2400 rows × 4 columns</p>\n",
              "</div>\n",
              "      <button class=\"colab-df-convert\" onclick=\"convertToInteractive('df-0aa6e1ef-2b95-4824-ba05-333fa896ddfb')\"\n",
              "              title=\"Convert this dataframe to an interactive table.\"\n",
              "              style=\"display:none;\">\n",
              "        \n",
              "  <svg xmlns=\"http://www.w3.org/2000/svg\" height=\"24px\"viewBox=\"0 0 24 24\"\n",
              "       width=\"24px\">\n",
              "    <path d=\"M0 0h24v24H0V0z\" fill=\"none\"/>\n",
              "    <path d=\"M18.56 5.44l.94 2.06.94-2.06 2.06-.94-2.06-.94-.94-2.06-.94 2.06-2.06.94zm-11 1L8.5 8.5l.94-2.06 2.06-.94-2.06-.94L8.5 2.5l-.94 2.06-2.06.94zm10 10l.94 2.06.94-2.06 2.06-.94-2.06-.94-.94-2.06-.94 2.06-2.06.94z\"/><path d=\"M17.41 7.96l-1.37-1.37c-.4-.4-.92-.59-1.43-.59-.52 0-1.04.2-1.43.59L10.3 9.45l-7.72 7.72c-.78.78-.78 2.05 0 2.83L4 21.41c.39.39.9.59 1.41.59.51 0 1.02-.2 1.41-.59l7.78-7.78 2.81-2.81c.8-.78.8-2.07 0-2.86zM5.41 20L4 18.59l7.72-7.72 1.47 1.35L5.41 20z\"/>\n",
              "  </svg>\n",
              "      </button>\n",
              "      \n",
              "  <style>\n",
              "    .colab-df-container {\n",
              "      display:flex;\n",
              "      flex-wrap:wrap;\n",
              "      gap: 12px;\n",
              "    }\n",
              "\n",
              "    .colab-df-convert {\n",
              "      background-color: #E8F0FE;\n",
              "      border: none;\n",
              "      border-radius: 50%;\n",
              "      cursor: pointer;\n",
              "      display: none;\n",
              "      fill: #1967D2;\n",
              "      height: 32px;\n",
              "      padding: 0 0 0 0;\n",
              "      width: 32px;\n",
              "    }\n",
              "\n",
              "    .colab-df-convert:hover {\n",
              "      background-color: #E2EBFA;\n",
              "      box-shadow: 0px 1px 2px rgba(60, 64, 67, 0.3), 0px 1px 3px 1px rgba(60, 64, 67, 0.15);\n",
              "      fill: #174EA6;\n",
              "    }\n",
              "\n",
              "    [theme=dark] .colab-df-convert {\n",
              "      background-color: #3B4455;\n",
              "      fill: #D2E3FC;\n",
              "    }\n",
              "\n",
              "    [theme=dark] .colab-df-convert:hover {\n",
              "      background-color: #434B5C;\n",
              "      box-shadow: 0px 1px 3px 1px rgba(0, 0, 0, 0.15);\n",
              "      filter: drop-shadow(0px 1px 2px rgba(0, 0, 0, 0.3));\n",
              "      fill: #FFFFFF;\n",
              "    }\n",
              "  </style>\n",
              "\n",
              "      <script>\n",
              "        const buttonEl =\n",
              "          document.querySelector('#df-0aa6e1ef-2b95-4824-ba05-333fa896ddfb button.colab-df-convert');\n",
              "        buttonEl.style.display =\n",
              "          google.colab.kernel.accessAllowed ? 'block' : 'none';\n",
              "\n",
              "        async function convertToInteractive(key) {\n",
              "          const element = document.querySelector('#df-0aa6e1ef-2b95-4824-ba05-333fa896ddfb');\n",
              "          const dataTable =\n",
              "            await google.colab.kernel.invokeFunction('convertToInteractive',\n",
              "                                                     [key], {});\n",
              "          if (!dataTable) return;\n",
              "\n",
              "          const docLinkHtml = 'Like what you see? Visit the ' +\n",
              "            '<a target=\"_blank\" href=https://colab.research.google.com/notebooks/data_table.ipynb>data table notebook</a>'\n",
              "            + ' to learn more about interactive tables.';\n",
              "          element.innerHTML = '';\n",
              "          dataTable['output_type'] = 'display_data';\n",
              "          await google.colab.output.renderOutput(dataTable, element);\n",
              "          const docLink = document.createElement('div');\n",
              "          docLink.innerHTML = docLinkHtml;\n",
              "          element.appendChild(docLink);\n",
              "        }\n",
              "      </script>\n",
              "    </div>\n",
              "  </div>\n",
              "  "
            ]
          },
          "metadata": {},
          "execution_count": 91
        }
      ]
    },
    {
      "cell_type": "markdown",
      "source": [
        "#Join de las 3 tablas de contactos"
      ],
      "metadata": {
        "id": "r7-F0k1dabKy"
      }
    },
    {
      "cell_type": "code",
      "source": [
        "df_contactos = df_pivot_phone.join(df_pivot_email, \"customer_id\") \\\n",
        "                   .join(df_pivot_address, \"customer_id\")"
      ],
      "metadata": {
        "id": "ZWSXrxNwahor"
      },
      "execution_count": 93,
      "outputs": []
    },
    {
      "cell_type": "code",
      "source": [
        "sorted(df_contactos.columns)"
      ],
      "metadata": {
        "id": "OO62TMS_ahrX",
        "outputId": "3a5f0e89-1c3d-4fe9-a81b-d009fbd96ced",
        "colab": {
          "base_uri": "https://localhost:8080/"
        }
      },
      "execution_count": 94,
      "outputs": [
        {
          "output_type": "execute_result",
          "data": {
            "text/plain": [
              "['Address_1',\n",
              " 'Address_2',\n",
              " 'Address_3',\n",
              " 'Email_1',\n",
              " 'Email_2',\n",
              " 'Email_3',\n",
              " 'Phone_1',\n",
              " 'Phone_2',\n",
              " 'Phone_3',\n",
              " 'customer_id']"
            ]
          },
          "metadata": {},
          "execution_count": 94
        }
      ]
    },
    {
      "cell_type": "code",
      "source": [
        "df_contactos.show()"
      ],
      "metadata": {
        "colab": {
          "base_uri": "https://localhost:8080/"
        },
        "id": "RawMP46HJPe7",
        "outputId": "cd3e0500-f65e-4427-f039-f1e735f93896"
      },
      "execution_count": 96,
      "outputs": [
        {
          "output_type": "stream",
          "name": "stdout",
          "text": [
            "+-----------+---------------+---------------+-------+--------------------+--------------------+-------+--------------------+---------+---------+\n",
            "|customer_id|        Phone_1|        Phone_2|Phone_3|             Email_1|             Email_2|Email_3|           Address_1|Address_2|Address_3|\n",
            "+-----------+---------------+---------------+-------+--------------------+--------------------+-------+--------------------+---------+---------+\n",
            "|   00001419|54-11-6679-3207|            ---|    ---|  JU_LY1@HOTMAIL.COM|EMILIA.RUBIANES@H...|    ---|ALTE G BROWN     ...|      ---|      ---|\n",
            "|   00002790|54-342-466-2478|54-342-488-3620|    ---| NOTIENE@HOIMAIL.COM|DIGITALIZACION@EE...|    ---|AV CORDOBA       ...|      ---|      ---|\n",
            "|   00014664|54-11-6505-0605|            ---|    ---|   alq@ciudad.com.ar|                 ---|    ---|AV TRIUNVIRATO   ...|      ---|      ---|\n",
            "|   00056407|54-336-457-7255|            ---|    ---|NELLY.S.GEREZ@GMA...|                 ---|    ---|AV DR J BAUTISTA ...|      ---|      ---|\n",
            "|   00058801|54-11-3663-8083|            ---|    ---|SOPLETESHLANDA@HO...|SOPLETESHLANDA@HO...|    ---|MENDOZA          ...|      ---|      ---|\n",
            "|   00058909|54-11-2522-2584|            ---|    ---|jmanau@fibertel.c...|                 ---|    ---|AV PTE J D PERON ...|      ---|      ---|\n",
            "|   00061198|54-3442-54-6062|            ---|    ---|GUSTAVOGARCIA2009...|                 ---|    ---|QUITO            ...|      ---|      ---|\n",
            "|   00079642|54-11-6870-7818|            ---|    ---| MARITA@4HOTMAIL.COM|                 ---|    ---|VICTORIANO AGUILA...|      ---|      ---|\n",
            "|   00096670|54-11-4407-1782|            ---|    ---|CONTACTO@COMPRESO...|                 ---|    ---|CATTANEO         ...|      ---|      ---|\n",
            "|   00098340|54-351-361-8014|54-351-432-9734|    ---|NELLYARNONI@YAHOO...|                 ---|    ---|ARENALES         ...|      ---|      ---|\n",
            "|   00099612|54-351-753-2530|            ---|    ---|GRA.SOUTO@HOTMAIL...|                 ---|    ---|AV SALVADOR M DEL...|      ---|      ---|\n",
            "|   00100409|54-280-495-3104|            ---|    ---|JULIUSORTEGUS5@GM...|JULIUSCORTGUS5@GM...|    ---|SOLIS            ...|      ---|      ---|\n",
            "|   00101437|54-381-585-3371|            ---|    ---|   NOTIENE@GMAIL.COM|                 ---|    ---|CALLE 51         ...|      ---|      ---|\n",
            "|   00101679|54-11-6596-0038|54-11-3303-3879|    ---|GUALDIN@FIBERTEL....|                 ---|    ---|CALLE 20         ...|      ---|      ---|\n",
            "|   00477803|54-341-664-6849|            ---|    ---|LEMOS-LILIANA@HOT...|                 ---|    ---|PTE D F SARMIENTO...|      ---|      ---|\n",
            "|   00510760|54-11-3796-5049|            ---|    ---|GABYLINDEN@GMAIL.COM|BEATRIZSABULSKY@G...|    ---|ESMERALDA        ...|      ---|      ---|\n",
            "|   00729305|54-297-513-0940|            ---|    ---|   AURELIAK@LIVE.COM|   AURELIA@GMAIL.COM|    ---|AV DARDO ROCHA   ...|      ---|      ---|\n",
            "|   00730948|54-15-2365-5880|            ---|    ---|   WEI7082@GMAIL.COM|                 ---|    ---|AV CASEROS       ...|      ---|      ---|\n",
            "|   00736194|54-11-7363-3586|            ---|    ---|EDITHDELIA@HOTMAI...|                 ---|    ---|AV GRAL JOSE MARI...|      ---|      ---|\n",
            "|   01010176|54-381-642-5198|            ---|    ---|  CORTESMT@GMAIL.COM|                 ---|    ---|DEAN FUNES       ...|      ---|      ---|\n",
            "+-----------+---------------+---------------+-------+--------------------+--------------------+-------+--------------------+---------+---------+\n",
            "only showing top 20 rows\n",
            "\n"
          ]
        }
      ]
    }
  ]
}