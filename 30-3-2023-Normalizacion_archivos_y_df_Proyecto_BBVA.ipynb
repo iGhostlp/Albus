{
  "nbformat": 4,
  "nbformat_minor": 0,
  "metadata": {
    "colab": {
      "provenance": [],
      "collapsed_sections": [
        "HWni6Oa3Xst4",
        "mVvrPJ6_sgb3",
        "XxT3otPGthe2",
        "WN-dO_THvIuf",
        "gsBzsNK20DsC",
        "L4z8RN3-0NWt",
        "tHmfq2rU0bNv"
      ],
      "toc_visible": true,
      "include_colab_link": true
    },
    "kernelspec": {
      "name": "python3",
      "display_name": "Python 3"
    },
    "language_info": {
      "name": "python"
    }
  },
  "cells": [
    {
      "cell_type": "markdown",
      "metadata": {
        "id": "view-in-github",
        "colab_type": "text"
      },
      "source": [
        "<a href=\"https://colab.research.google.com/github/iGhostlp/Albus/blob/Sin-Dientes/30-3-2023-Normalizacion_archivos_y_df_Proyecto_BBVA.ipynb\" target=\"_parent\"><img src=\"https://colab.research.google.com/assets/colab-badge.svg\" alt=\"Open In Colab\"/></a>"
      ]
    },
    {
      "cell_type": "markdown",
      "source": [
        "# Armado del entorno "
      ],
      "metadata": {
        "id": "HWni6Oa3Xst4"
      }
    },
    {
      "cell_type": "code",
      "execution_count": 1,
      "metadata": {
        "id": "7oZjRfdSVnQa"
      },
      "outputs": [],
      "source": [
        "# Download Spark\n",
        "!wget -q https://dlcdn.apache.org/spark/spark-3.3.2/spark-3.3.2-bin-hadoop3.tgz"
      ]
    },
    {
      "cell_type": "code",
      "source": [
        "# Unzip the file\n",
        "!tar xf spark-3.3.2-bin-hadoop3.tgz"
      ],
      "metadata": {
        "id": "4AqJxH7ZVvNa"
      },
      "execution_count": 2,
      "outputs": []
    },
    {
      "cell_type": "code",
      "source": [
        "!readlink -f $(which java) | sed \"s:bin/java::\""
      ],
      "metadata": {
        "colab": {
          "base_uri": "https://localhost:8080/"
        },
        "id": "jHCrfKNLWTsi",
        "outputId": "86da176a-c50d-459d-bbf1-57d2af5cc7f0"
      },
      "execution_count": 3,
      "outputs": [
        {
          "output_type": "stream",
          "name": "stdout",
          "text": [
            "/usr/lib/jvm/java-11-openjdk-amd64/\n"
          ]
        }
      ]
    },
    {
      "cell_type": "code",
      "source": [
        "# Set up the environment for Spark\n",
        "import os\n",
        "os.environ[\"JAVA_HOME\"] = \"/usr/lib/jvm/java-11-openjdk-amd64/\"\n",
        "os.environ[\"SPARK_HOME\"] = '/content/spark-3.3.2-bin-hadoop3'"
      ],
      "metadata": {
        "id": "7VjkyMMOWVOs"
      },
      "execution_count": 4,
      "outputs": []
    },
    {
      "cell_type": "code",
      "source": [
        "# Install library for finding Spark\n",
        "!pip install -q findspark\n",
        "\n",
        "# Import the libary\n",
        "import findspark\n",
        "\n",
        "# Initiate findspark\n",
        "findspark.init()"
      ],
      "metadata": {
        "id": "idA0uSW7WW47"
      },
      "execution_count": 5,
      "outputs": []
    },
    {
      "cell_type": "code",
      "source": [
        "# Import SparkSession\n",
        "from pyspark.sql import SparkSession\n",
        "\n",
        "# Create a Spark Session\n",
        "spark = SparkSession.builder.master(\"local[*]\").config('spark.sql.parquet.datetimeRebaseModeInRead','CORRECTED').getOrCreate()\n",
        "\n",
        "# Check Spark Session Information\n",
        "spark"
      ],
      "metadata": {
        "colab": {
          "base_uri": "https://localhost:8080/",
          "height": 219
        },
        "id": "RjQQ7TU0WYYg",
        "outputId": "11d1f1b3-90f8-466c-8ab3-a8b3d7afcbaf"
      },
      "execution_count": 6,
      "outputs": [
        {
          "output_type": "execute_result",
          "data": {
            "text/plain": [
              "<pyspark.sql.session.SparkSession at 0x7fa04029ff40>"
            ],
            "text/html": [
              "\n",
              "            <div>\n",
              "                <p><b>SparkSession - in-memory</b></p>\n",
              "                \n",
              "        <div>\n",
              "            <p><b>SparkContext</b></p>\n",
              "\n",
              "            <p><a href=\"http://ead2335eb31f:4040\">Spark UI</a></p>\n",
              "\n",
              "            <dl>\n",
              "              <dt>Version</dt>\n",
              "                <dd><code>v3.3.2</code></dd>\n",
              "              <dt>Master</dt>\n",
              "                <dd><code>local[*]</code></dd>\n",
              "              <dt>AppName</dt>\n",
              "                <dd><code>pyspark-shell</code></dd>\n",
              "            </dl>\n",
              "        </div>\n",
              "        \n",
              "            </div>\n",
              "        "
            ]
          },
          "metadata": {},
          "execution_count": 6
        }
      ]
    },
    {
      "cell_type": "markdown",
      "source": [
        "# Importado de funciones"
      ],
      "metadata": {
        "id": "ScNsjwRNsuLb"
      }
    },
    {
      "cell_type": "code",
      "source": [
        "import pyspark.sql.functions as F\n",
        "from pyspark.sql import SparkSession\n",
        "from pyspark.sql.functions import concat, concat_ws, col, row_number, desc, collect_list, to_json, struct, year, current_date, datediff, floor, when\n",
        "from pyspark.sql.window import Window\n"
      ],
      "metadata": {
        "id": "q7h4z7BVtAKm"
      },
      "execution_count": 58,
      "outputs": []
    },
    {
      "cell_type": "code",
      "source": [
        "#Creación de un SQL context\n",
        "from pyspark.sql import SQLContext\n",
        "sqlContext = SQLContext(spark)"
      ],
      "metadata": {
        "colab": {
          "base_uri": "https://localhost:8080/"
        },
        "id": "UMzhbJpYtiXC",
        "outputId": "5276a773-30df-45a7-ebb8-9fe6598db1e9"
      },
      "execution_count": 8,
      "outputs": [
        {
          "output_type": "stream",
          "name": "stderr",
          "text": [
            "/content/spark-3.3.2-bin-hadoop3/python/pyspark/sql/context.py:112: FutureWarning: Deprecated in 3.0.0. Use SparkSession.builder.getOrCreate() instead.\n",
            "  warnings.warn(\n"
          ]
        }
      ]
    },
    {
      "cell_type": "code",
      "source": [],
      "metadata": {
        "id": "Cw4cnu6-c8IP"
      },
      "execution_count": 8,
      "outputs": []
    },
    {
      "cell_type": "markdown",
      "source": [
        "# Carga de parquets"
      ],
      "metadata": {
        "id": "Q5AVpwy7083X"
      }
    },
    {
      "cell_type": "code",
      "source": [
        "df_customer = spark.read.parquet('/content/Datasets/customer_basics.snappy.parquet')\n",
        "df_phones = spark.read.parquet('/content/Datasets/phones.snappy.parquet')\n",
        "df_address = spark.read.parquet('/content/Datasets/address.snappy.parquet')\n",
        "df_emails = spark.read.parquet('/content/Datasets/email.snappy.parquet')\n",
        "df_customer_basics = spark.read.parquet('/content/Datasets/customer_basics.snappy.parquet')\n",
        "df_marital_status = spark.read.parquet('/content/Datasets/marital_status_type.parquet')\n",
        "df_segment_type = spark.read.parquet('/content/Datasets/segment_type.parquet')\n",
        "df_customer_documents = spark.read.parquet('/content/Datasets/customer_documents.parquet')\n",
        "df_address_type = spark.read.parquet('/content/Datasets/address_type.parquet')\n",
        "df_gender = spark.read.parquet('/content/Datasets/gender.parquet')\n",
        "df_nationality = spark.read.parquet('/content/Datasets/nationality.parquet')\n",
        "df_personal_type = spark.read.parquet('/content/Datasets/personal_type.parquet')\n",
        "df_phone_type = spark.read.parquet('/content/Datasets/phone_type.parquet')\n",
        "df_province = spark.read.parquet('/content/Datasets/province.parquet')\n",
        "df_customer_segment = spark.read.parquet('/content/Datasets/customer_segment.parquet')\n",
        "df_customer_info_temp = spark.read.parquet('/content/Datasets/customer_info_temp.parquet')"
      ],
      "metadata": {
        "id": "KyG_qzVEWaV3"
      },
      "execution_count": 9,
      "outputs": []
    },
    {
      "cell_type": "markdown",
      "source": [
        "### Normalización de datos"
      ],
      "metadata": {
        "id": "ZWXD1CqV0B7O"
      }
    },
    {
      "cell_type": "code",
      "source": [
        "df_marital_ok = df_marital_status.withColumn(\"marital_status_type\",\n",
        "                                             when(df_marital_status.martial_status_short_desc == \"NO INFORMA\", 0)\n",
        "                                             .when(df_marital_status.martial_status_short_desc == \"CASADO/A\", 1)\n",
        "                                             .when(df_marital_status.martial_status_short_desc == \"VIUDO/A\", 2)\n",
        "                                             .otherwise(\"NULO\"))\n",
        "\n"
      ],
      "metadata": {
        "id": "lLUiJ5YC0E0d"
      },
      "execution_count": 93,
      "outputs": []
    },
    {
      "cell_type": "code",
      "source": [
        "\n",
        "NO INFORMA                                        |NO INFORMA               |2016-08-11         |2016-08-11      |205030              |BTCH                   |TC4C0100           |2022-01-14 02:08:08.335|1900-01-01       |\n",
        "|3                  |C                       |00001                    |CASADO/A                                          |CASADO/A                 |2016-08-11         |2016-08-11      |205030              |BTCH                   |TC4C0100           |2022-01-14 02:08:08.335|1900-01-01       |\n",
        "|3                  |                        |00002                    |VIUDO/A                                           |VIUDO/A                  |2016-08-11         |2016-08-11      |205030              |BTCH                   |TC4C0100           |2022-01-14 02:08:08.335|1900-01-01       |\n",
        "|3                  |C                       |00003                    |SEPARADO/A                                        |SEPARADO/A               |2016-08-11         |2016-08-11      |205030              |BTCH                   |TC4C0100           |2022-01-14 02:08:08.335|1900-01-01       |\n",
        "|3                  |                        |00003                    |DIVORCIADO                                        |DIVORCIADO               |2016-08-11         |2016-08-11      |205030              |BTCH                   |TC4C0100           |2022-01-14 02:08:08.335|1900-01-01       |\n",
        "|3                  |                        |00000                    |SOLTERO/A                                         |SOLTERO/A                |2016-08-11         |2016-08-11      |205030              |BTCH                   |TC4C0100           |2022-01-14 02:08:08.335|1900-01-01       |\n",
        "|3                  |                        |                         |CONVIVIENT                                        |CONVIVIENT               |2016-08-11         |2016-08-11      |205030              |BTCH                   |TC4C0100           |2022-01-14 02:08:08.335|1900-01-01       |\n",
        "|3                  |                        |                         |OTROS                                             |OTROS                    |2016-08-11         |2016-08-11      |205030              |BTCH                   |TC4C0100           |2022-01-14 02:08:08.335|1900-01-01       |\n",
        "|3                  |                        |                         |CONV. INSC   "
      ],
      "metadata": {
        "id": "-hacLOai3OF1"
      },
      "execution_count": null,
      "outputs": []
    },
    {
      "cell_type": "markdown",
      "source": [
        "# Extraccion de datos\n"
      ],
      "metadata": {
        "id": "OMmwI7gkYZ5u"
      }
    },
    {
      "cell_type": "markdown",
      "source": [
        "### - 24 - Extraccion de datos desde parquet, clientes y teléfonos.\n",
        "####Crear un DataFrame que contenga el JOIN de la tabla t_abtq_customer_basics y tabla t_abtq_customer_phones."
      ],
      "metadata": {
        "id": "mVvrPJ6_sgb3"
      }
    },
    {
      "cell_type": "code",
      "source": [
        "#df_customer_phones = df_phones.join(df_customer, 'customer_id')\n",
        "df_customer_phones = df_phones.join(df_customer.select(col(\"customer_id\"), col(\"last_change_date\").alias(\"l_c_d_customer\")), \"customer_id\")\n"
      ],
      "metadata": {
        "id": "lXvJoM9jWcHg"
      },
      "execution_count": 10,
      "outputs": []
    },
    {
      "cell_type": "code",
      "source": [
        "df_customer_phones.printSchema()"
      ],
      "metadata": {
        "colab": {
          "base_uri": "https://localhost:8080/"
        },
        "id": "MQe06B2dRrcW",
        "outputId": "6d2e96a2-16b1-49cf-bbbd-83030227a0af"
      },
      "execution_count": 11,
      "outputs": [
        {
          "output_type": "stream",
          "name": "stdout",
          "text": [
            "root\n",
            " |-- customer_id: string (nullable = true)\n",
            " |-- phone_use_type: string (nullable = true)\n",
            " |-- address_sequence_id: integer (nullable = true)\n",
            " |-- phone_sequence_id: integer (nullable = true)\n",
            " |-- phone_type: string (nullable = true)\n",
            " |-- phone_country_id: string (nullable = true)\n",
            " |-- prefix_phone_id: string (nullable = true)\n",
            " |-- phone_area_id: string (nullable = true)\n",
            " |-- cellphone_prefix_id: string (nullable = true)\n",
            " |-- phone_exchange_id: string (nullable = true)\n",
            " |-- phone_line_id: string (nullable = true)\n",
            " |-- phone_id: string (nullable = true)\n",
            " |-- phone_intern_id: string (nullable = true)\n",
            " |-- aditional_info_txt_desc: string (nullable = true)\n",
            " |-- primary_phone_type: string (nullable = true)\n",
            " |-- address_sequence_type: string (nullable = true)\n",
            " |-- address_town_name: string (nullable = true)\n",
            " |-- zipcode_id: string (nullable = true)\n",
            " |-- province_id: string (nullable = true)\n",
            " |-- customer_phone_status_type: string (nullable = true)\n",
            " |-- phone_status_mod_date: date (nullable = true)\n",
            " |-- contact_channel_type: string (nullable = true)\n",
            " |-- sender_application_id: string (nullable = true)\n",
            " |-- wrong_phone_type: string (nullable = true)\n",
            " |-- normalization_status_type: string (nullable = true)\n",
            " |-- normalization_reason_name: string (nullable = true)\n",
            " |-- normalization_date: date (nullable = true)\n",
            " |-- validity_start_date: date (nullable = true)\n",
            " |-- validity_end_date: date (nullable = true)\n",
            " |-- dlvy_day_monday_type: string (nullable = true)\n",
            " |-- dlvy_day_tuesday_type: string (nullable = true)\n",
            " |-- dlvy_day_wednesday_type: string (nullable = true)\n",
            " |-- dlvy_day_thursday_type: string (nullable = true)\n",
            " |-- dlvy_day_friday_type: string (nullable = true)\n",
            " |-- dlvy_day_saturday_type: string (nullable = true)\n",
            " |-- delivery_contact_start_hm_date: string (nullable = true)\n",
            " |-- delivery_contact_end_hm_date: string (nullable = true)\n",
            " |-- registry_entry_date: date (nullable = true)\n",
            " |-- register_user_id: string (nullable = true)\n",
            " |-- last_change_date: date (nullable = true)\n",
            " |-- last_change_user_id: string (nullable = true)\n",
            " |-- last_change_hms_date: string (nullable = true)\n",
            " |-- last_change_terminal_id: string (nullable = true)\n",
            " |-- operational_load_date: timestamp (nullable = true)\n",
            " |-- l_c_d_customer: date (nullable = true)\n",
            "\n"
          ]
        }
      ]
    },
    {
      "cell_type": "markdown",
      "source": [
        "### - 25 - Extraccion de datos desde .parquet, clientes y direcciones\n",
        "####Crear un DataFrame que contenga el JOIN de la tabla t_abtq_customer_basics y tabla t_abtq_customer_adress."
      ],
      "metadata": {
        "id": "XxT3otPGthe2"
      }
    },
    {
      "cell_type": "code",
      "source": [
        "sorted(df_address.columns)"
      ],
      "metadata": {
        "colab": {
          "base_uri": "https://localhost:8080/"
        },
        "id": "lPAct84gA3RT",
        "outputId": "a417ac9a-d7d2-4aae-db72-38cbcc19b26f"
      },
      "execution_count": 12,
      "outputs": [
        {
          "output_type": "execute_result",
          "data": {
            "text/plain": [
              "['address_country_id',\n",
              " 'address_department_name',\n",
              " 'address_district_name',\n",
              " 'address_indoor_id',\n",
              " 'address_outdoor_id',\n",
              " 'address_priority_number',\n",
              " 'address_relationship_type',\n",
              " 'address_sequence_id',\n",
              " 'address_start_date',\n",
              " 'address_status_mod_date',\n",
              " 'address_town_name',\n",
              " 'address_verified_date',\n",
              " 'address_without_number_type',\n",
              " 'contact_channel_type',\n",
              " 'customer_id',\n",
              " 'customer_locator_verified_type',\n",
              " 'delivery_contact_end_hm_date',\n",
              " 'delivery_contact_start_hm_date',\n",
              " 'dlvy_day_friday_type',\n",
              " 'dlvy_day_monday_type',\n",
              " 'dlvy_day_saturday_type',\n",
              " 'dlvy_day_thursday_type',\n",
              " 'dlvy_day_tuesday_type',\n",
              " 'dlvy_day_wednesday_type',\n",
              " 'indoor_number',\n",
              " 'last_change_date',\n",
              " 'last_change_hms_date',\n",
              " 'last_change_terminal_id',\n",
              " 'last_change_user_id',\n",
              " 'long_zipcode_id',\n",
              " 'normalization_date',\n",
              " 'normalization_reason_name',\n",
              " 'normalization_status_type',\n",
              " 'normalized_level_match_number',\n",
              " 'operational_load_date',\n",
              " 'other_information_desc',\n",
              " 'prev_address_sequence_id',\n",
              " 'province_id',\n",
              " 'register_user_id',\n",
              " 'registration_type',\n",
              " 'registry_entry_date',\n",
              " 'residence_type',\n",
              " 'returned_mail_type',\n",
              " 'sender_application_id',\n",
              " 'street_name',\n",
              " 'zipcode_id']"
            ]
          },
          "metadata": {},
          "execution_count": 12
        }
      ]
    },
    {
      "cell_type": "code",
      "source": [
        "df_address.show()"
      ],
      "metadata": {
        "colab": {
          "base_uri": "https://localhost:8080/"
        },
        "id": "9wLtpBjEC-Je",
        "outputId": "9cce3f72-4c5f-4722-b2b1-53e5e18fc735"
      },
      "execution_count": 13,
      "outputs": [
        {
          "output_type": "stream",
          "name": "stdout",
          "text": [
            "+-----------+-----------------------+-------------------+--------------+--------------------+------------------+---------------------------+-----------------+-------------+---------------------+--------------------+-----------------------+----------+---------------+-----------+------------------+----------------------+-------------------------+------------------+---------------------+------------------------------+-----------------------+--------------------+---------------------+------------------+-------------------------+-------------------------+------------------+-----------------------------+--------------------+---------------------+-----------------------+----------------------+--------------------+----------------------+------------------------------+----------------------------+------------------------+-------------------+----------------+----------------+-------------------+--------------------+-----------------------+-----------------+---------------------+\n",
            "|customer_id|address_priority_number|address_sequence_id|residence_type|         street_name|address_outdoor_id|address_without_number_type|address_indoor_id|indoor_number|address_district_name|   address_town_name|address_department_name|zipcode_id|long_zipcode_id|province_id|address_country_id|other_information_desc|address_relationship_type|address_start_date|address_verified_date|customer_locator_verified_type|address_status_mod_date|contact_channel_type|sender_application_id|returned_mail_type|normalization_status_type|normalization_reason_name|normalization_date|normalized_level_match_number|dlvy_day_monday_type|dlvy_day_tuesday_type|dlvy_day_wednesday_type|dlvy_day_thursday_type|dlvy_day_friday_type|dlvy_day_saturday_type|delivery_contact_start_hm_date|delivery_contact_end_hm_date|prev_address_sequence_id|registry_entry_date|register_user_id|last_change_date|last_change_user_id|last_change_hms_date|last_change_terminal_id|registration_type|operational_load_date|\n",
            "+-----------+-----------------------+-------------------+--------------+--------------------+------------------+---------------------------+-----------------+-------------+---------------------+--------------------+-----------------------+----------+---------------+-----------+------------------+----------------------+-------------------------+------------------+---------------------+------------------------------+-----------------------+--------------------+---------------------+------------------+-------------------------+-------------------------+------------------+-----------------------------+--------------------+---------------------+-----------------------+----------------------+--------------------+----------------------+------------------------------+----------------------------+------------------------+-------------------+----------------+----------------+-------------------+--------------------+-----------------------+-----------------+---------------------+\n",
            "|   00000003|                      1|                  0|            06|AV PRES BARTOLOME...|           0001500|                          N|                 |             |                  ...|CRUCESITA        ...|   AVELLANEDA       ...|     01870|       B1873AMN|         02|               080|                   ...|                        0|              null|                 null|                    DECLARADO |             2011-09-07|                  01|                 CTES|                 0|               NORM AUTO |               CO        |        2011-09-07|                         0.00|                    |                     |                       |                      |                    |                      |                          0000|                        0000|                       0|         2011-09-07|        XA02735 |      2011-09-07|           XA02735 |              111900|                   M911|                -| 2022-01-13 21:32:...|\n",
            "|   00000009|                      1|                 44|            06|CNEL AREVALO     ...|           0002391|                          N|                 |             |                  ...|CIUDAD AUTONOMA B...|   CAPITAL FEDERAL  ...|     01425|       C1425FZE|         01|               080|                   ...|                        0|              null|                 null|                    VALIDADO  |             2014-07-22|                  01|                 WKFL|                 0|               NORM AUTO |               CO        |        2008-12-05|                         0.00|                   X|                    X|                      X|                     X|                   X|                     X|                          0900|                        1800|                       0|         2008-12-05|        E05085  |      2014-07-22|           XA03406 |              145035|                   D257|                -| 2022-01-13 21:32:...|\n",
            "|   00000009|                      4|                  2|            10|VENEZUELA 538    ...|           23     |                          1|         1       |      CAPITAL| MONSERRAT        ...|                 ...|   112233114455     ...|     11111|       11111111|         11|               11 |                   ...|                        4|        2006-02-01|           2008-04-05|                    1154      |             1999-02-02|                  12|                 1111|                 0|               11215     |               21245     |        2000-02-03|                         0.01|                   S|                    S|                      S|                     S|                   S|                     S|                          0900|                        2200|                      15|         0000-12-30|        E025255 |      2017-04-18|           PLCE31K |              104150|                   E31K|                -| 2022-01-13 21:32:...|\n",
            "|   00000011|                      2|                  1|            03|AV FELIX DE OLAZA...|           0005392|                          N|         1       |      C      |                  ...|CIUDAD AUTONOMA B...|   CAPITAL FEDERAL  ...|     01431|       C1431CGW|         01|               080|                   ...|                        1|        1994-04-01|           1998-05-27|                    NO VERIF  |             2007-12-21|                  00|                 VLCO|                 0|               NORM AUTO |               CO        |        2007-11-01|                         0.00|                    |                     |                       |                      |                    |                      |                          0000|                        0000|                       1|         1999-10-14|                |      2007-11-02|           PCLE12F |              174055|                   CONV|                -| 2022-01-13 21:32:...|\n",
            "|   00000027|                      4|                  0|            01|HEROES DE MALVI  ...|           0001944|                          N|         00      |             |                  ...|LANUS            ...|   112233114455     ...|     01824|               |         02|               080|                   ...|                        4|        1976-02-20|           1998-12-18|                              |                   null|                  00|                 VLCO|                 0|               NORM AUTO |               1234567891|        2007-11-10|                         0.00|                    |                     |                       |                      |                    |                      |                          0000|                        0000|                       2|         1998-06-05|                |      1998-12-18|           A72515  |              175140|                   1590|                -| 2022-01-13 21:32:...|\n",
            "|   00000027|                      1|                  2|            05|PJE JACHAL       ...|           0003547|                          N|                 |             |                  ...|CIUDAD AUTONOMA B...|   CAPITAL FEDERAL  ...|     01417|       C1417GSA|         01|               080|                   ...|                        0|              null|                 null|                    DECLARADO |             2008-12-05|                  01|                 CTES|                 0|               NORM AUTO |               CO        |        2008-12-05|                         0.00|                    |                     |                       |                      |                    |                      |                          0000|                        0000|                       0|         2008-12-05|        E023466 |      2008-12-05|           E023466 |              114633|                   M920|                -| 2022-01-13 21:32:...|\n",
            "|   00000027|                      1|                  3|            06|AVENIDA DE MAYO  ...|           0001465|                          N|         2       |      AA     | CABA             ...|CIUDAD AUTONOMA B...|   CAPITAL FEDERAL  ...|     01098|       C1098ABC|         02|               080|                   ...|                        0|        1996-01-31|           1996-02-27|                    DECLARADO |             2010-01-25|                  01|                 WKFL|                 0|               NORM AUTO |               CO        |        2010-01-25|                         0.00|                   X|                    X|                      X|                     X|                   X|                     X|                          0900|                        1800|                       0|         2010-01-25|        XA01645 |      2010-01-25|           XA01645 |              172559|                   M936|                -| 2022-01-13 21:32:...|\n",
            "|   00000028|                      1|                  0|            06|NECOCHEA         ...|           0004653|                          N|         35      |      1      |                  ...|LA TABLADA       ...|   LA MATANZA       ...|     01766|       B1766FVO|         02|               080|                   ...|                        0|              null|                 null|                              |                   null|                  01|                 CTES|                 0|               NORM AUTO |               1234567891|        2007-11-10|                         0.00|                    |                     |                       |                      |                    |                      |                          0000|                        0000|                       0|         2007-11-20|        A115546 |      2017-04-18|           PLCE31K |              104150|                   E31K|                -| 2022-01-13 21:32:...|\n",
            "|   00000035|                      1|                  0|            06|AGUSTIN ALVAREZ  ...|           0003051|                          N|                 |             |                  ...|FLORIDA          ...|   VICENTE LOPEZ    ...|     01602|       B1602ECE|         02|               080|                   ...|                        0|              null|                 null|                    DECLARADO |             2010-12-20|                  01|                 CTES|                 0|               NORM AUTO |               CO        |        2010-12-20|                         0.00|                    |                     |                       |                      |                    |                      |                          0000|                        0000|                       0|         2008-07-15|        E05085  |      2017-04-18|           PLCE31K |              104150|                   E31K|                -| 2022-01-13 21:32:...|\n",
            "|   00000035|                      1|                  2|            06|ALMONACID        ...|           0000238|                          N|                 |             |                  ...|MANUEL ALBERTI   ...|   PILAR            ...|     01667|       B1664CIF|         02|               080|                   ...|                        0|              null|                 null|                    NO VERIF  |             2008-07-16|                  00|                 CTES|                 0|               NORM AUTO |               CO        |        2008-07-16|                         0.00|                    |                     |                       |                      |                    |                      |                          0000|                        0000|                       0|         2008-07-16|        PCLE510 |      2017-04-18|           PLCE31K |              104150|                   E31K|                -| 2022-01-13 21:32:...|\n",
            "|   00000035|                      1|                  9|            06|AGUSTIN ALVAREZ  ...|           0003051|                          N|                 |             |                  ...|                 ...|   VICENTE LOPEZ    ...|     01602|               |         02|               080|                   ...|                        0|              null|                 null|                    DECLARADO |             2016-10-12|                  1 |                 CLIE|                 0|                         |               SDSM      |              null|                         0.00|                    |                     |                       |                      |                    |                      |                          0000|                        0000|                       0|         2016-10-12|        PCLE30T |      2016-10-12|           PCLE30T |              143547|                   BATC|                -| 2022-01-13 21:32:...|\n",
            "|   00000035|                      1|                 10|            06|ALMONACID        ...|           0000238|                          N|                 |             |                  ...|                 ...|   PILAR            ...|     01667|               |         02|               080|                   ...|                        0|              null|                 null|                    DECLARADO |             2016-10-12|                  1 |                 CLIE|                 0|                         |               SDSM      |              null|                         0.00|                    |                     |                       |                      |                    |                      |                          0000|                        0000|                       0|         2016-10-12|        PCLE30T |      2016-10-12|           PCLE30T |              143547|                   BATC|                -| 2022-01-13 21:32:...|\n",
            "|   00000050|                      1|                  0|            06|DR A ALSINA      ...|           0002849|                          N|                 |             |                  ...|FLORIDA          ...|   VICENTE LOPEZ    ...|     01602|       B1602EEA|         02|               080|                   ...|                        1|        1997-12-12|                 null|                    DECLARADO |             2010-12-20|                  01|                 CTES|                 0|               NORM AUTO |               CO        |        2010-12-20|                         0.00|                    |                     |                       |                      |                    |                      |                          0000|                        0000|                       0|         2008-07-16|        E05085  |      2017-04-18|           PLCE31K |              104150|                   E31K|                -| 2022-01-13 21:32:...|\n",
            "|   00000050|                      1|                  5|            06|DR A ALSINA      ...|           0002849|                          N|                 |             |                  ...|                 ...|   VICENTE LOPEZ    ...|     01602|               |         02|               080|                   ...|                        0|              null|                 null|                    DECLARADO |             2016-10-12|                  1 |                 CLIE|                 0|                         |               SDSM      |              null|                         0.00|                    |                     |                       |                      |                    |                      |                          0000|                        0000|                       0|         2016-10-12|        PCLE30T |      2016-10-12|           PCLE30T |              143547|                   BATC|                -| 2022-01-13 21:32:...|\n",
            "|   00000052|                      3|                  2|            01|FRAY LUIS BELTRAN...|           0000707|                          N|                 |             |                  ...|CIUDAD AUTONOMA B...|   CAPITAL FEDERAL  ...|     01063|       C1063ACH|         01|               080|                   ...|                        0|              null|           2000-05-18|                    NO VERIF  |             2007-12-21|                  00|                 VLCO|                 0|               NORM AUTO |               CO        |        2007-09-24|                         0.00|                    |                     |                       |                      |                    |                      |                          0000|                        0000|                       3|         1997-06-26|                |      2013-01-17|           XA05033 |              111406|                   D229|                -| 2022-01-13 21:32:...|\n",
            "|   00000052|                      1|                  0|            06|GRAL LAS HERAS   ...|           0002586|                          N|                 |             |                  ...|FLORIDA          ...|   VICENTE LOPEZ    ...|     01602|       B1602DWV|         02|               080|                   ...|                        1|        1997-12-12|                 null|                    DECLARADO |             2008-07-16|                  01|                 CTES|                 0|               NORM AUTO |               CO        |        2008-07-16|                         0.00|                    |                     |                       |                      |                    |                      |                          0000|                        0000|                       0|         2008-07-16|        E05085  |      2017-04-18|           PLCE31K |              104150|                   E31K|                -| 2022-01-13 21:32:...|\n",
            "|   00000052|                      1|                  3|            06|FRAY LUIS BELTRAN...|           0000075|                          N|                 |             |                  ...|CIUDAD AUTONOMA B...|   CAPITAL FEDERAL  ...|     01003|       C1003ABA|         01|               080|                   ...|                        1|        1997-12-12|                 null|                    DECLARADO |             2008-07-16|                  01|                 CTES|                 0|               NORM AUTO |               CO        |        2008-07-16|                         0.00|                    |                     |                       |                      |                    |                      |                          0000|                        0000|                       0|         2008-07-16|        E091230 |      2017-04-18|           PLCE31K |              104150|                   E31K|                -| 2022-01-13 21:32:...|\n",
            "|   00000052|                      1|                  7|            06|GRAL LAS HERAS   ...|           0002586|                          N|                 |             |                  ...|                 ...|   VICENTE LOPEZ    ...|     01602|               |         02|               080|                   ...|                        0|              null|                 null|                    DECLARADO |             2016-10-12|                  1 |                 CLIE|                 0|                         |               SDSM      |              null|                         0.00|                    |                     |                       |                      |                    |                      |                          0000|                        0000|                       0|         2016-10-12|        PCLE30T |      2016-10-12|           PCLE30T |              143547|                   BATC|                -| 2022-01-13 21:32:...|\n",
            "|   25567249|                      1|                  0|            06|RIO IGUAZU       ...|           0001768|                          N|                 |             |                  ...|VILLA VATTEONE   ...|   FLORENCIO VARELA ...|     01888|       B1853ASD|         02|               080|                   ...|                        0|              null|                 null|                    NO VERIF  |             2008-07-16|                  00|                 CTES|                 0|               NORM AUTO |               CO        |        2008-07-16|                         0.00|                    |                     |                       |                      |                    |                      |                          0000|                        0000|                       0|         2008-07-16|        PCLE510 |      2017-04-21|           PLCE31K |              110911|                   E31K|                -| 2022-01-13 21:32:...|\n",
            "|   01096851|                      1|                  0|            06|RIO BERMEJO      ...|           0001948|                          N|                 |             |                  ...|VILLA VATTEONE   ...|   FLORENCIO VARELA ...|     01888|       B1853GXJ|         02|               080|                   ...|                        0|              null|                 null|                    NO VERIF  |             2008-07-16|                  00|                 CTES|                 0|               NORM AUTO |               CO        |        2008-07-16|                         0.00|                    |                     |                       |                      |                    |                      |                          0000|                        0000|                       0|         2008-07-16|        PCLE510 |      2017-04-18|           PLCE31K |              104150|                   E31K|                -| 2022-01-13 21:32:...|\n",
            "+-----------+-----------------------+-------------------+--------------+--------------------+------------------+---------------------------+-----------------+-------------+---------------------+--------------------+-----------------------+----------+---------------+-----------+------------------+----------------------+-------------------------+------------------+---------------------+------------------------------+-----------------------+--------------------+---------------------+------------------+-------------------------+-------------------------+------------------+-----------------------------+--------------------+---------------------+-----------------------+----------------------+--------------------+----------------------+------------------------------+----------------------------+------------------------+-------------------+----------------+----------------+-------------------+--------------------+-----------------------+-----------------+---------------------+\n",
            "only showing top 20 rows\n",
            "\n"
          ]
        }
      ]
    },
    {
      "cell_type": "code",
      "source": [
        "df_customer.show()"
      ],
      "metadata": {
        "colab": {
          "base_uri": "https://localhost:8080/"
        },
        "id": "ZRfSUhB3EIBZ",
        "outputId": "1cdc1a4b-22d4-4e20-bc29-17b0b611515f"
      },
      "execution_count": 14,
      "outputs": [
        {
          "output_type": "stream",
          "name": "stdout",
          "text": [
            "+-----------+-------------+-------------+--------------+---------------+--------------------+---------+----------------+-----------+-----------------------+-----------------------+----------+-------------------+-----------------+--------------------------+----------+----------------+-----------------+-------------------+-----------+----------+----------------------+--------------------+---------------------+-----------+--------------------------+----------------------------+-------------------------------+------------------------+------------------------+--------------------------+------------------------+--------------------------+----------------------------+------------------+------------------------+-------------------+-------------------+---------------------------+-----------------+-------------------+-----------------+-------------------------------+--------------------+---------------------+------------------+----------------+--------------------+--------------------------+----------------+--------------------------+--------------------+-------------+----------------+--------------------+-------------------+--------+---------------------+-------------------------+--------------------------+----------------+--------------------+--------------------+----------------+-------------+-------------------------+-----------------------+---------------------+\n",
            "|customer_id|personal_type|  personal_id|admission_date|sale_channel_id|operation_channel_id|branch_id|business_area_id|campaing_id|customer_situation_type|customer_condition_type|manager_id|tracking_manager_id|credit_manager_id|credit_recovery_manager_id| last_name|second_last_name|       first_name|marital_status_type|gender_type|birth_date|country_nationality_id|residence_country_id|customer_subject_type|sector_type|customer_level_access_type|cust_bcra_econ_activity_type|internal_economic_activity_type|bbva_inhabilitation_type|customer_block_bbva_date|customer_unblock_bbva_date|customer_block_bcra_date|customer_unblock_bcra_date|customer_pending_notice_type|last_notice_number|last_reference_number_id|last_service_number|last_address_number|last_unlinking_account_date|customer_end_date|last_change_user_id|customer_pep_type|bbva_family_lnk_weighted_number|customer_status_type|scoring_activity_type|refinancing_number|refinancing_date|coholder_customer_id|customer_bcra_situation_id|customer_cuit_id|customer_position_vat_type|balance_closing_date|profession_id|bbva_cust_number|customer_linked_type|customer_entry_type|job_type|profession_start_date|customer_first_block_date|customer_registration_date|last_change_date|last_change_hms_date|register_terminal_id|register_user_id|customer_type|customer_seniority_number|last_status_change_date|operational_load_date|\n",
            "+-----------+-------------+-------------+--------------+---------------+--------------------+---------+----------------+-----------+-----------------------+-----------------------+----------+-------------------+-----------------+--------------------------+----------+----------------+-----------------+-------------------+-----------+----------+----------------------+--------------------+---------------------+-----------+--------------------------+----------------------------+-------------------------------+------------------------+------------------------+--------------------------+------------------------+--------------------------+----------------------------+------------------+------------------------+-------------------+-------------------+---------------------------+-----------------+-------------------+-----------------+-------------------------------+--------------------+---------------------+------------------+----------------+--------------------+--------------------------+----------------+--------------------------+--------------------+-------------+----------------+--------------------+-------------------+--------+---------------------+-------------------------+--------------------------+----------------+--------------------+--------------------+----------------+-------------+-------------------------+-----------------------+---------------------+\n",
            "|   01157212|           00|0000013226627|    2008-08-28|          10000|                  00|       74|              30|          0|                      1|                      1|       192|                   |                 |                          |     RAMOS|                |  GERARDO GABRIEL|                  1|          M|1959-08-20|                    80|                 080|                  201|        100|                         0|                          82|                       21101000|                       0|                    null|                      null|                    null|                      null|                            |                11|                       0|                  0|                  1|                       null|             null|            A800118|                0|                              3|                  AC|                   50|              null|            null|                    |                      null|   0020132266272|                       042|                null|          035|       001157212|                   N|                   |     004|           2009-01-01|                     null|                2008-08-28|      2021-09-16|              112634|                3633|          VUELCO|            N|                     null|                   null| 2022-03-10 01:05:...|\n",
            "|   26745469|           00|0000013226860|    2020-04-20|          10000|                  00|      243|              30|          0|                      1|                      1|       226|                080|                 |                          |FRIEDERICH|                |      LEO IGNACIO|                  5|          M|1957-08-20|                    80|                 080|                  201|        100|                         0|                          82|                       21101000|                       0|                    null|                      null|                    null|                      null|                            |                 5|                       0|                  0|                  2|                       null|             null|            PCLE06R|                2|                              1|                  AC|                   18|              null|            null|                    |                      null|   0020132268607|                       042|                null|          007|       026745469|                   N|                   |     001|           2020-05-18|                     null|                2020-04-20|      2020-06-25|              174211|                P37B|         PCLE510|            N|                     null|             2020-05-18| 2022-03-10 01:05:...|\n",
            "|   19403025|           27|0000007880359|    2012-03-28|          10000|                  00|      418|              34|          0|                      1|                      8|       139|                   |                 |                          | VELAZQUEZ|                |         ROMUALDO|                  1|          M|1946-02-09|                    80|                 080|                  201|        100|                         0|                          82|                       21101000|                       0|                    null|                      null|                    null|                      null|                           0|                 0|                       0|                  0|                  1|                       null|             null|            PCLE25Q|                1|                              1|                  PO|                   47|              null|            null|                    |                      null|   0020078803593|                       042|                null|          016|       019403025|                   N|                 MD|     001|           2012-03-28|                     null|                2012-03-28|      2013-04-20|              175404|                P37B|         PCLE10P|            S|                     null|                   null| 2022-03-10 01:05:...|\n",
            "|   19963134|           27|0000007882950|    2013-05-28|          10000|                  01|      259|              30|          0|                      1|                      1|       553|                   |                 |                          |     ZUPEL|                |   RUBEN CEFERINO|                  5|          M|1949-03-07|                    80|                 080|                  201|        100|                         0|                          82|                       21101000|                       0|                    null|                      null|                    null|                      null|                           0|                 0|                       0|                  0|                  1|                       null|             null|            PCLE06R|                2|                              1|                  PO|                   50|              null|            null|                    |                      null|   0020078829509|                       042|                null|          038|       019963134|                   N|                   |     004|           2013-05-28|                     null|                2013-05-28|      2013-05-28|              175554|                P37B|         A118096|            S|                     null|                   null| 2022-03-10 01:05:...|\n",
            "|   06916693|           27|0000007883500|    2006-04-04|          10000|                    |      207|              34|          0|                      1|                      1|        11|                   |                 |                          |  SCARAFIA|                |          ALCIDES|                  1|          M|1948-08-26|                    80|                 080|                  201|        100|                         0|                          82|                       21101000|                       0|                    null|                      null|                    null|                      null|                            |                 0|                       0|                  0|                  1|                       null|             null|            PCLE25Q|                0|                              1|                  CA|                   47|              null|            null|                    |                      null|   0020078835002|                       042|                null|          016|       006916693|                   N|                   |     001|           2009-01-01|                     null|                2006-04-04|      2013-02-27|              174517|                P37B|          VUELCO|            S|                     null|                   null| 2022-03-10 01:05:...|\n",
            "|   19955757|           27|0000007885360|    2013-05-24|          10000|                  00|       15|              34|          0|                      1|                      8|        81|                   |                 |                          |    AVALOS|                |            LUCAS|                  1|          M|1949-01-01|                    80|                 080|                  201|        100|                         0|                          82|                       21101000|                       0|                    null|                      null|                    null|                      null|                           0|                 0|                       0|                  0|                  1|                       null|             null|            PCLE25Q|                1|                              1|                  PO|                   47|              null|            null|                    |                      null|   0020078853604|                       042|                null|          016|       019955757|                   N|                 MO|     001|           2013-05-24|                     null|                2013-05-24|      2013-05-24|              175554|                P37B|         PCLE10P|            S|                     null|                   null| 2022-03-10 01:05:...|\n",
            "|   01718049|           27|0000007889122|    2009-07-30|          74000|                  01|      237|              30|          0|                      1|                      1|       979|                   |                 |                          |   BARRERA|                | ALEJANDRO HECTOR|                  1|          M|1950-02-26|                    80|                 080|                  201|        100|                         0|                          82|                       21101000|                       0|                    null|                      null|                    null|                      null|                            |                 0|                       0|                  0|                  1|                       null|             null|            PCLE25Q|                0|                              1|                  PO|                   35|              null|            null|                    |                      null|   0020078891220|                       042|                null|          025|       001718049|                   N|                   |     003|           2009-07-30|                     null|                2009-07-30|      2009-07-30|              163820|                P37B|          VUELCO|            S|                     null|                   null| 2022-03-10 01:05:...|\n",
            "|   21466591|           27|0000007889212|    2015-04-23|          10000|                  00|      603|              34|          0|                      1|                      8|      2603|                   |                 |                          |    CORTEZ|                |          ROBERTO|                  1|          M|1950-02-05|                    80|                 080|                  201|        100|                         0|                          82|                       21101000|                       0|                    null|                      null|                    null|                      null|                           0|                 0|                       0|                  0|                  0|                       null|             null|            PCLE06R|                1|                              1|                  PO|                   47|              null|            null|                    |                      null|   0023078892129|                       042|                null|          016|       021466591|                   N|                 MD|     001|           2015-04-23|                     null|                2015-04-23|      2015-04-23|              231958|                P37B|         PCLE25H|            S|                     null|                   null| 2022-03-10 01:05:...|\n",
            "|   20706165|           27|0000007889953|    2014-09-15|          10000|                  00|      285|              34|          0|                      1|                      1|       487|                   |                 |                          |      CRUZ|                |      JUAN CARLOS|                  1|          M|1949-09-24|                    80|                 080|                  201|        100|                         0|                          82|                       21101000|                       0|                    null|                      null|                    null|                      null|                            |                 0|                       0|                  0|                  1|                       null|             null|           S1CFN667|                1|                              1|                  CA|                   47|              null|            null|                    |                      null|   0020078899531|                       042|                null|          016|       020706165|                   N|                   |     001|           2014-09-15|                     null|                2014-09-15|      2015-11-09|              184838|                P37B|         PCLE10P|            S|                     null|                   null| 2022-03-10 01:05:...|\n",
            "|   02997060|           25|0000007897097|    2011-02-28|          10000|                  00|      111|              34|          0|                      1|                      1|       378|                   |                 |                      BLOQ|      WYSS|                |     LUIS ROLANDO|                  1|          M|1942-08-27|                    80|                 080|                  201|        100|                         0|                          82|                       21101000|                       0|                    null|                      null|                    null|                      null|                           0|                 0|                       0|                  0|                  1|                       null|             null|            PCLE06R|                1|                              1|                  PO|                   47|              null|            null|                    |                      null|   0023078970979|                       042|                null|          016|       002997060|                   N|                   |     001|           2011-02-28|                     null|                2011-02-28|      2011-02-28|              162126|                P37B|          VUELCO|            S|                     null|                   null| 2022-03-10 01:05:...|\n",
            "|   04484525|           27|0000007898443|    1991-12-18|          10000|                  01|      218|              34|         13|                      1|                      1|       219|                   |                 |                          | BOGLIETTI|                |            RUBEN|                  1|          M|1942-02-12|                    80|                 080|                  201|        100|                         0|                          82|                       21101000|                       0|                    null|                      null|                    null|                      null|                           0|                 0|                       0|                  0|                  2|                       null|             null|            PCLE25Q|                0|                              1|                  CA|                   47|              null|            null|                    |                      null|   0020078984431|                       042|                null|          016|       004484525|                   N|                   |     001|           2009-01-01|                     null|                1999-02-17|      1999-02-17|              165931|                P37B|          VUELCO|            S|                     null|                   null| 2022-03-10 01:05:...|\n",
            "|   20405028|           25|0000007901907|    2014-03-12|          10000|                  00|      150|              34|          0|                      1|                      8|       498|                   |                 |                      BLOQ|   MENDOZA|                |  EPIFANIO VICTOR|                  1|          M|1949-04-07|                    80|                 080|                  201|        100|                         0|                          82|                       21101000|                       0|                    null|                      null|                    null|                      null|                           0|                 0|                       0|                  0|                  1|                       null|             null|            PCLE06R|                1|                              1|                  PO|                   47|              null|            null|                    |                      null|   0020079019071|                       042|                null|          016|       020405028|                   N|                 MO|     001|           2014-03-12|                     null|                2014-03-12|      2014-03-12|              161531|                P37B|         PCLE10P|            S|                     null|                   null| 2022-03-10 01:05:...|\n",
            "|   03099590|           27|0000007909556|    1997-05-22|          20050|                  01|      216|              34|          0|                      1|                      1|       225|                   |                 |                          |   PASCUAL|                |     JUAN ANTONIO|                  5|          M|1944-01-31|                    80|                 080|                  201|        100|                          |                          82|                       21101000|                       0|                    null|                      null|                    null|                      null|                            |                 0|                       0|                  0|                  3|                       null|             null|            PCLE07V|                0|                              1|                  CA|                   47|              null|            null|                    |                      null|   0020079095568|                       055|                null|          016|       001057996|                   N|                   |     001|           2009-01-01|                     null|                1997-05-22|      1998-07-05|              165345|                P37B|          VUELCO|            S|                     null|                   null| 2022-03-10 01:05:...|\n",
            "|   04762676|           00|0000025919431|    1999-08-13|          10000|                  01|      202|              34|          0|                      1|                      1|       522|                   |                 |                          |    MOYANO|                |   MARCOS ANTONIO|                  5|          M|1976-02-07|                    80|                 080|                  201|        100|                         0|                          82|                       21101000|                       0|                    null|                      null|                    null|                      null|                            |                 0|                       0|                  0|                  1|                       null|             null|            PCLE06R|                0|                              1|                  CA|                   47|              null|            null|                    |                      null|   0020259194319|                       042|                null|          016|       004762676|                   N|                   |     001|           2009-01-01|                     null|                1999-08-13|      2002-03-22|              111055|                P37B|          VUELCO|            S|                     null|                   null| 2022-03-10 01:05:...|\n",
            "|   23303554|           00|0000025919890|    2016-10-21|          10000|                  00|      603|              34|          0|                      1|                      8|      2603|                   |                 |                          |     GAIDO|                |GUSTAVO ALEJANDRO|                  1|          M|1977-07-24|                    80|                 080|                  201|        100|                         0|                          82|                       21101000|                       0|                    null|                      null|                    null|                      null|                           0|                 0|                       0|                  0|                  0|                       null|             null|            PCLE06R|                1|                              1|                  PO|                   47|              null|            null|                    |                      null|   0023259198909|                       042|                null|          016|       023303554|                   N|                 MD|     001|           2016-10-21|                     null|                2016-10-21|      2016-10-21|              231441|                P37B|         PCLE25H|            S|                     null|                   null| 2022-03-10 01:05:...|\n",
            "|   05483567|           00|0000025925477|    2001-05-17|          10000|                  01|       79|              34|          0|                      1|                      1|       216|                   |                 |                          |    TAIANA|                |      MAXIMILIANO|                  5|          M|1977-05-26|                    80|                 080|                  201|        100|                         0|                          82|                       21101000|                       0|                    null|                      null|                    null|                      null|                            |                 0|                       0|                  0|                  1|                       null|             null|            PCLE06R|                0|                              1|                  AC|                   47|              null|            null|                    |                      null|   0023259254779|                       042|                null|          016|       005483567|                   N|                   |     001|           2009-01-01|                     null|                2001-05-17|      2008-04-25|              044357|                P37B|          VUELCO|            N|                     null|                   null| 2022-03-10 01:05:...|\n",
            "|   02337659|           00|0000025926393|    2010-03-29|          10000|                  00|       76|              34|          0|                      1|                      1|       201|                   |                 |                          |   AGUIRRE|                |    GONZALO RAMON|                  1|          M|1977-07-22|                    80|                 080|                  201|        100|                         0|                          82|                       21101000|                       0|                    null|                      null|                    null|                      null|                            |                 0|                       0|                  0|                  2|                       null|             null|            PCLE06R|                2|                              1|                  CA|                   47|              null|            null|                    |                      null|   0020259263930|                       042|                null|          016|       002337659|                   N|                   |     001|           2013-08-26|                     null|                2010-03-29|      2016-11-08|              232012|                P37B|          VUELCO|            S|                     null|                   null| 2022-03-10 01:05:...|\n",
            "|   00888642|           00|0000017409288|    1992-10-29|          10000|                    |       91|              34|          0|                      1|                      1|        66|                   |                 |                          |     CITRO|                |    MARIA CLAUDIA|                  1|          F|1965-03-18|                    80|                 080|                  201|        100|                         0|                          82|                       21101000|                       0|                    null|                      null|                    null|                      null|                           0|                 0|                       0|                  0|                  0|                       null|             null|            PCLE06R|                0|                              1|                  CA|                   47|              null|            null|                    |                      null|   0027174092880|                       042|                null|          016|                |                   N|                   |     001|           2009-01-01|                     null|                1993-09-20|      2000-06-23|              105751|                P37B|          VUELCO|            S|                     null|                   null| 2022-03-10 01:05:...|\n",
            "|   27060621|           00|0000017411413|    2020-07-29|          10000|                  00|      603|              34|          0|                      1|                      8|      2603|                   |                 |                          |    MENDEZ|                |  ROSARIO BEATRIZ|                  1|          F|1965-04-28|                    80|                 080|                  201|        100|                         0|                          82|                       21101000|                       0|                    null|                      null|                    null|                      null|                           0|                 0|                       0|                  0|                  0|                       null|             null|            PCLE06R|                1|                              1|                  PO|                   47|              null|            null|                    |                      null|   0027174114132|                       042|                null|          016|       027060621|                   N|                 MD|     001|           2020-07-29|                     null|                2020-07-29|      2020-07-29|              003221|                P37B|         PCLE25H|            S|                     null|                   null| 2022-03-10 01:05:...|\n",
            "|   02169869|           00|0000017411728|    1997-07-14|          10000|                  01|        4|              34|          0|                      1|                      1|      1073|                080|                 |                          |    OLAZAR|                |     CLAUDIO LUIS|                  5|          M|1965-07-06|                    80|                 080|                  201|        100|                         0|                          82|                       21101000|                       0|                    null|                      null|                    null|                      null|                            |                 0|                       0|                  0|                  0|                       null|             null|            PCLE06R|                2|                              1|                  AC|                    4|              null|            null|                    |                      null|   0020174117285|                       042|          1995-01-01|          007|                |                   N|                   |     001|           2018-11-07|                     null|                1997-07-14|      2020-04-29|              230139|                P37C|          VUELCO|            N|                     null|                   null| 2022-03-10 01:05:...|\n",
            "+-----------+-------------+-------------+--------------+---------------+--------------------+---------+----------------+-----------+-----------------------+-----------------------+----------+-------------------+-----------------+--------------------------+----------+----------------+-----------------+-------------------+-----------+----------+----------------------+--------------------+---------------------+-----------+--------------------------+----------------------------+-------------------------------+------------------------+------------------------+--------------------------+------------------------+--------------------------+----------------------------+------------------+------------------------+-------------------+-------------------+---------------------------+-----------------+-------------------+-----------------+-------------------------------+--------------------+---------------------+------------------+----------------+--------------------+--------------------------+----------------+--------------------------+--------------------+-------------+----------------+--------------------+-------------------+--------+---------------------+-------------------------+--------------------------+----------------+--------------------+--------------------+----------------+-------------+-------------------------+-----------------------+---------------------+\n",
            "only showing top 20 rows\n",
            "\n"
          ]
        }
      ]
    },
    {
      "cell_type": "code",
      "source": [
        "#df_customer_address = df_address.join(df_customer, 'customer_id')\n",
        "#df_customer_address = df_address.join(df_customer.select(col(\"customer_id\"), col(\"last_change_date\").alias(\"l_c_d_customer\")), \"customer_id\")"
      ],
      "metadata": {
        "id": "wE8LkJZ6tjyN"
      },
      "execution_count": 15,
      "outputs": []
    },
    {
      "cell_type": "markdown",
      "source": [
        "### - 26 - Extraccion de datos desde .parquet, clientes y correos electrónicos\n",
        "#### Crear un DataFrame que contenga el JOIN de la tabla t_abtq_customer_basics y tabla t_abtq_customer_email.  "
      ],
      "metadata": {
        "id": "fKGSLVuxtrCk"
      }
    },
    {
      "cell_type": "code",
      "source": [
        "sorted(df_emails.columns)"
      ],
      "metadata": {
        "colab": {
          "base_uri": "https://localhost:8080/"
        },
        "id": "uGNN-1nA8ITK",
        "outputId": "e2200731-53ce-4fe0-9674-eb10a1e6fd3e"
      },
      "execution_count": 16,
      "outputs": [
        {
          "output_type": "execute_result",
          "data": {
            "text/plain": [
              "['address_sequence_id',\n",
              " 'comments_desc',\n",
              " 'customer_email_status_date',\n",
              " 'customer_email_status_type',\n",
              " 'customer_id',\n",
              " 'email_app_type',\n",
              " 'email_desc',\n",
              " 'email_domain_type',\n",
              " 'email_type',\n",
              " 'encripted_type',\n",
              " 'field_length_number',\n",
              " 'last_change_date',\n",
              " 'last_change_hms_date',\n",
              " 'last_change_terminal_id',\n",
              " 'last_change_user_id',\n",
              " 'operational_load_date',\n",
              " 'primary_email_type',\n",
              " 'register_user_id',\n",
              " 'registry_entry_date',\n",
              " 'residence_type',\n",
              " 'role_type']"
            ]
          },
          "metadata": {},
          "execution_count": 16
        }
      ]
    },
    {
      "cell_type": "code",
      "source": [
        "#df_customer_emails = df_emails.join(df_customer, 'customer_id', how=\"right\")\n",
        "df_customer_emails = df_customer.join(df_emails.select(col(\"customer_id\"),col(\"email_desc\"), col(\"last_change_date\").alias(\"last_change_date_e\")), \"customer_id\")"
      ],
      "metadata": {
        "id": "MFOQeJsFkBVb"
      },
      "execution_count": 17,
      "outputs": []
    },
    {
      "cell_type": "code",
      "source": [
        "sorted(df_customer_emails.columns)"
      ],
      "metadata": {
        "colab": {
          "base_uri": "https://localhost:8080/"
        },
        "id": "yj561lcsV8z5",
        "outputId": "cb7e8c4e-9330-4836-d20f-c530ce21e15f"
      },
      "execution_count": 18,
      "outputs": [
        {
          "output_type": "execute_result",
          "data": {
            "text/plain": [
              "['admission_date',\n",
              " 'balance_closing_date',\n",
              " 'bbva_cust_number',\n",
              " 'bbva_family_lnk_weighted_number',\n",
              " 'bbva_inhabilitation_type',\n",
              " 'birth_date',\n",
              " 'branch_id',\n",
              " 'business_area_id',\n",
              " 'campaing_id',\n",
              " 'coholder_customer_id',\n",
              " 'country_nationality_id',\n",
              " 'credit_manager_id',\n",
              " 'credit_recovery_manager_id',\n",
              " 'cust_bcra_econ_activity_type',\n",
              " 'customer_bcra_situation_id',\n",
              " 'customer_block_bbva_date',\n",
              " 'customer_block_bcra_date',\n",
              " 'customer_condition_type',\n",
              " 'customer_cuit_id',\n",
              " 'customer_end_date',\n",
              " 'customer_entry_type',\n",
              " 'customer_first_block_date',\n",
              " 'customer_id',\n",
              " 'customer_level_access_type',\n",
              " 'customer_linked_type',\n",
              " 'customer_pending_notice_type',\n",
              " 'customer_pep_type',\n",
              " 'customer_position_vat_type',\n",
              " 'customer_registration_date',\n",
              " 'customer_seniority_number',\n",
              " 'customer_situation_type',\n",
              " 'customer_status_type',\n",
              " 'customer_subject_type',\n",
              " 'customer_type',\n",
              " 'customer_unblock_bbva_date',\n",
              " 'customer_unblock_bcra_date',\n",
              " 'email_desc',\n",
              " 'first_name',\n",
              " 'gender_type',\n",
              " 'internal_economic_activity_type',\n",
              " 'job_type',\n",
              " 'last_address_number',\n",
              " 'last_change_date',\n",
              " 'last_change_date_e',\n",
              " 'last_change_hms_date',\n",
              " 'last_change_user_id',\n",
              " 'last_name',\n",
              " 'last_notice_number',\n",
              " 'last_reference_number_id',\n",
              " 'last_service_number',\n",
              " 'last_status_change_date',\n",
              " 'last_unlinking_account_date',\n",
              " 'manager_id',\n",
              " 'marital_status_type',\n",
              " 'operation_channel_id',\n",
              " 'operational_load_date',\n",
              " 'personal_id',\n",
              " 'personal_type',\n",
              " 'profession_id',\n",
              " 'profession_start_date',\n",
              " 'refinancing_date',\n",
              " 'refinancing_number',\n",
              " 'register_terminal_id',\n",
              " 'register_user_id',\n",
              " 'residence_country_id',\n",
              " 'sale_channel_id',\n",
              " 'scoring_activity_type',\n",
              " 'second_last_name',\n",
              " 'sector_type',\n",
              " 'tracking_manager_id']"
            ]
          },
          "metadata": {},
          "execution_count": 18
        }
      ]
    },
    {
      "cell_type": "markdown",
      "source": [
        "# Filtrar datos, reducir volumen"
      ],
      "metadata": {
        "id": "v898pfOnvE_d"
      }
    },
    {
      "cell_type": "markdown",
      "source": [
        "####- 27 - Filtrar el DataFrame de contactos telefónicos de clientes y resguardar los 3 contactos más actuales por cliente."
      ],
      "metadata": {
        "id": "X2US5yNWvGfL"
      }
    },
    {
      "cell_type": "code",
      "source": [
        "df_phones_cut = df_customer_phones.drop('contact_channel_type','wrong_phone_type','registry_entry_date','register_user_id','last_change_user_id','l_c_d_customer','last_change_hms_date','last_change_terminal_id','phone_intern_id','phone_country_id', 'aditional_info_txt_desc', 'primary_phone_type','address_sequence_type','address_town_name','zipcode_id', 'province_id','sender_application_id','normalization_status_type','normalization_reason_name','validity_start_date','validity_end_date','dlvy_day_monday_type','dlvy_day_tuesday_type','dlvy_day_wednesday_type','dlvy_day_thursday_type','dlvy_day_friday_type','dlvy_day_friday_type','dlvy_day_saturday_type','delivery_contact_start_hm_date','delivery_contact_end_hm_date','operational_load_date','normalization_date')"
      ],
      "metadata": {
        "id": "9tf_fKEjWsZA"
      },
      "execution_count": 19,
      "outputs": []
    },
    {
      "cell_type": "code",
      "source": [
        "df_phones_sorted = df_phones_cut.orderBy([df_phones_cut.customer_id, desc('last_change_date')])\n",
        "df_phones_sorted.show()"
      ],
      "metadata": {
        "id": "q_ftH3XKWwRS",
        "colab": {
          "base_uri": "https://localhost:8080/"
        },
        "outputId": "ef3cf92c-01fc-4628-dba5-81df2213247f"
      },
      "execution_count": 20,
      "outputs": [
        {
          "output_type": "stream",
          "name": "stdout",
          "text": [
            "+-----------+--------------+-------------------+-----------------+----------+---------------+-------------+-------------------+-----------------+-------------+------------+--------------------------+---------------------+----------------+\n",
            "|customer_id|phone_use_type|address_sequence_id|phone_sequence_id|phone_type|prefix_phone_id|phone_area_id|cellphone_prefix_id|phone_exchange_id|phone_line_id|    phone_id|customer_phone_status_type|phone_status_mod_date|last_change_date|\n",
            "+-----------+--------------+-------------------+-----------------+----------+---------------+-------------+-------------------+-----------------+-------------+------------+--------------------------+---------------------+----------------+\n",
            "|   06987700|            01|                  0|                2|         1|             54|           11|                   |             4451|         4104|  5848841581|                 DECLARADO|           2022-07-18|      2022-07-18|\n",
            "|   19801715|            01|                  0|                2|         1|             54|           11|                   |             4544|         8655|  1059286565|                 DECLARADO|           2022-08-01|      2022-08-01|\n",
            "|   21162204|            00|                  0|                4|         3|             54|           11|                 15|             6286|         0946|113051084214|                 DECLARADO|           2022-09-28|      2022-09-28|\n",
            "|   23417903|            00|                  2|                1|         1|             54|           11|                   |             4788|         3665|  2617017168|                COMPROBADO|           2022-11-08|      2022-11-08|\n",
            "|   24401530|            00|                  0|                3|         3|             54|           11|                 15|             5656|         3942|356767213183|                 DECLARADO|           2022-07-04|      2022-07-04|\n",
            "|   24935788|            00|                  0|                3|         3|             54|         3447|                 15|               64|         4382|100854912474|                 DECLARADO|           2022-10-11|      2022-10-11|\n",
            "|   25633010|            00|                  0|                1|         3|             54|           11|                 15|             5667|         3375|535359608479|                COMPROBADO|           2022-10-13|      2022-10-13|\n",
            "|   25633010|            01|                  0|                2|         1|             54|           11|                   |             4342|         8605|  8901935610|                 DECLARADO|           2022-09-30|      2022-09-30|\n",
            "|   26183611|            00|                  0|                2|         1|             54|           11|                   |             4341|         0084|  8056529871|                 DECLARADO|           2022-07-21|      2022-07-21|\n",
            "|   26183611|            00|                  0|                1|         1|             54|           11|                   |             4341|         0084|  8056529871|                 DECLARADO|           2022-07-21|      2022-07-21|\n",
            "|   26293280|            00|                  0|                2|         3|             54|         2323|                 15|               67|         7206|157089694205|                 DECLARADO|           2022-07-21|      2022-07-21|\n",
            "|   26488506|            00|                  0|                1|         3|             54|         2964|                 15|               54|         9154|476804622398|                 DECLARADO|           2022-09-01|      2022-09-01|\n",
            "|   26923214|            00|                  0|                1|         3|             54|           11|                 15|             6705|         6375|080766214167|                COMPROBADO|           2022-11-22|      2022-11-22|\n",
            "|   27008407|            00|                  0|                2|         3|             54|         2657|                 15|               31|         3231|169530868436|                 DECLARADO|           2022-10-24|      2022-10-24|\n",
            "|   27008407|            00|                  0|                1|         3|             54|         2657|                 15|               22|         6503|732058098884|                 DECLARADO|           2022-10-24|      2022-10-24|\n",
            "|   28445138|            00|                  0|                2|         3|             54|           11|                 15|             6161|         5326|222003974740|                COMPROBADO|           2022-11-23|      2022-11-23|\n",
            "|   28633515|            00|                  0|                1|         3|             54|          351|                 15|              716|         8741|283462903121|                 DECLARADO|           2022-11-19|      2022-11-19|\n",
            "|   28660498|            01|                  0|                2|         1|             54|          223|                   |              451|         2038|  3399484580|                 DECLARADO|           2022-09-12|      2022-09-12|\n",
            "+-----------+--------------+-------------------+-----------------+----------+---------------+-------------+-------------------+-----------------+-------------+------------+--------------------------+---------------------+----------------+\n",
            "\n"
          ]
        }
      ]
    },
    {
      "cell_type": "code",
      "source": [
        "#df_phones_sorted = df_phones_sorted.select(concat(df_phones_sorted.prefix_phone_id,df_phones_sorted.phone_area_id,df_phones_sorted.phone_exchange_id,df_phones_sorted.phone_line_id).alias('Full_Phone'),'customer_id','last_change_date')"
      ],
      "metadata": {
        "id": "QsBmCpYpZA7R"
      },
      "execution_count": 21,
      "outputs": []
    },
    {
      "cell_type": "code",
      "source": [
        "df_phones_sorted = df_phones_sorted.select(concat_ws('-', df_phones_sorted.prefix_phone_id,df_phones_sorted.phone_area_id,df_phones_sorted.phone_exchange_id,df_phones_sorted.phone_line_id).alias('Full_Phone'),'customer_id','last_change_date')"
      ],
      "metadata": {
        "id": "APCq4C-I_E23"
      },
      "execution_count": 22,
      "outputs": []
    },
    {
      "cell_type": "code",
      "source": [
        "df_phones_sorted.show()"
      ],
      "metadata": {
        "id": "JatJ5YpDZCwh",
        "colab": {
          "base_uri": "https://localhost:8080/"
        },
        "outputId": "a24a9f77-8112-477f-a442-d791c41514a2"
      },
      "execution_count": 23,
      "outputs": [
        {
          "output_type": "stream",
          "name": "stdout",
          "text": [
            "+---------------+-----------+----------------+\n",
            "|     Full_Phone|customer_id|last_change_date|\n",
            "+---------------+-----------+----------------+\n",
            "|54-11-4451-4104|   06987700|      2022-07-18|\n",
            "|54-11-4544-8655|   19801715|      2022-08-01|\n",
            "|54-11-6286-0946|   21162204|      2022-09-28|\n",
            "|54-11-4788-3665|   23417903|      2022-11-08|\n",
            "|54-11-5656-3942|   24401530|      2022-07-04|\n",
            "|54-3447-64-4382|   24935788|      2022-10-11|\n",
            "|54-11-5667-3375|   25633010|      2022-10-13|\n",
            "|54-11-4342-8605|   25633010|      2022-09-30|\n",
            "|54-11-4341-0084|   26183611|      2022-07-21|\n",
            "|54-11-4341-0084|   26183611|      2022-07-21|\n",
            "|54-2323-67-7206|   26293280|      2022-07-21|\n",
            "|54-2964-54-9154|   26488506|      2022-09-01|\n",
            "|54-11-6705-6375|   26923214|      2022-11-22|\n",
            "|54-2657-31-3231|   27008407|      2022-10-24|\n",
            "|54-2657-22-6503|   27008407|      2022-10-24|\n",
            "|54-11-6161-5326|   28445138|      2022-11-23|\n",
            "|54-351-716-8741|   28633515|      2022-11-19|\n",
            "|54-223-451-2038|   28660498|      2022-09-12|\n",
            "+---------------+-----------+----------------+\n",
            "\n"
          ]
        }
      ]
    },
    {
      "cell_type": "code",
      "source": [
        "window = Window.partitionBy(df_phones_sorted.customer_id).orderBy(desc(df_phones_sorted.last_change_date))"
      ],
      "metadata": {
        "id": "fRs0zhTdXDtA"
      },
      "execution_count": 24,
      "outputs": []
    },
    {
      "cell_type": "code",
      "source": [
        "df_phone = df_phones_sorted.withColumn('row_num', row_number().over(window))"
      ],
      "metadata": {
        "id": "kUN3ajuZXFvz"
      },
      "execution_count": 25,
      "outputs": []
    },
    {
      "cell_type": "code",
      "source": [
        "df_phone = df_phone.filter(df_phone.row_num <= 3)"
      ],
      "metadata": {
        "id": "jJgO0sNHXHEf"
      },
      "execution_count": 26,
      "outputs": []
    },
    {
      "cell_type": "code",
      "source": [
        "df_phone.show()"
      ],
      "metadata": {
        "id": "8eoCrcTLXIVS",
        "colab": {
          "base_uri": "https://localhost:8080/"
        },
        "outputId": "2d070af2-cbfe-4c60-b70d-7127325f17a2"
      },
      "execution_count": 27,
      "outputs": [
        {
          "output_type": "stream",
          "name": "stdout",
          "text": [
            "+---------------+-----------+----------------+-------+\n",
            "|     Full_Phone|customer_id|last_change_date|row_num|\n",
            "+---------------+-----------+----------------+-------+\n",
            "|54-11-4451-4104|   06987700|      2022-07-18|      1|\n",
            "|54-11-4544-8655|   19801715|      2022-08-01|      1|\n",
            "|54-11-6286-0946|   21162204|      2022-09-28|      1|\n",
            "|54-11-4788-3665|   23417903|      2022-11-08|      1|\n",
            "|54-11-5656-3942|   24401530|      2022-07-04|      1|\n",
            "|54-3447-64-4382|   24935788|      2022-10-11|      1|\n",
            "|54-11-5667-3375|   25633010|      2022-10-13|      1|\n",
            "|54-11-4342-8605|   25633010|      2022-09-30|      2|\n",
            "|54-11-4341-0084|   26183611|      2022-07-21|      1|\n",
            "|54-11-4341-0084|   26183611|      2022-07-21|      2|\n",
            "|54-2323-67-7206|   26293280|      2022-07-21|      1|\n",
            "|54-2964-54-9154|   26488506|      2022-09-01|      1|\n",
            "|54-11-6705-6375|   26923214|      2022-11-22|      1|\n",
            "|54-2657-22-6503|   27008407|      2022-10-24|      1|\n",
            "|54-2657-31-3231|   27008407|      2022-10-24|      2|\n",
            "|54-11-6161-5326|   28445138|      2022-11-23|      1|\n",
            "|54-351-716-8741|   28633515|      2022-11-19|      1|\n",
            "|54-223-451-2038|   28660498|      2022-09-12|      1|\n",
            "+---------------+-----------+----------------+-------+\n",
            "\n"
          ]
        }
      ]
    },
    {
      "cell_type": "code",
      "source": [
        "df_pivot_phone = df_phone.groupBy('customer_id').agg(collect_list('Full_Phone').alias('last_3_changes_list'))"
      ],
      "metadata": {
        "id": "K-AIfg0_c423"
      },
      "execution_count": 28,
      "outputs": []
    },
    {
      "cell_type": "code",
      "source": [
        "df_pivot_phone = df_pivot_phone.selectExpr('customer_id', 'last_3_changes_list[0] as Phone_1', 'last_3_changes_list[1] as Phone_2', 'last_3_changes_list[2] as Phone_3')"
      ],
      "metadata": {
        "id": "wklSvSASfGbH"
      },
      "execution_count": 29,
      "outputs": []
    },
    {
      "cell_type": "code",
      "source": [
        "df_pivot_phone.show()"
      ],
      "metadata": {
        "id": "tMSLXkrRfNRl",
        "colab": {
          "base_uri": "https://localhost:8080/"
        },
        "outputId": "962f68d8-7b56-451e-aa1d-94d259187d9f"
      },
      "execution_count": 30,
      "outputs": [
        {
          "output_type": "stream",
          "name": "stdout",
          "text": [
            "+-----------+---------------+---------------+-------+\n",
            "|customer_id|        Phone_1|        Phone_2|Phone_3|\n",
            "+-----------+---------------+---------------+-------+\n",
            "|   06987700|54-11-4451-4104|           null|   null|\n",
            "|   19801715|54-11-4544-8655|           null|   null|\n",
            "|   21162204|54-11-6286-0946|           null|   null|\n",
            "|   23417903|54-11-4788-3665|           null|   null|\n",
            "|   24401530|54-11-5656-3942|           null|   null|\n",
            "|   24935788|54-3447-64-4382|           null|   null|\n",
            "|   25633010|54-11-5667-3375|54-11-4342-8605|   null|\n",
            "|   26183611|54-11-4341-0084|54-11-4341-0084|   null|\n",
            "|   26293280|54-2323-67-7206|           null|   null|\n",
            "|   26488506|54-2964-54-9154|           null|   null|\n",
            "|   26923214|54-11-6705-6375|           null|   null|\n",
            "|   27008407|54-2657-22-6503|54-2657-31-3231|   null|\n",
            "|   28445138|54-11-6161-5326|           null|   null|\n",
            "|   28633515|54-351-716-8741|           null|   null|\n",
            "|   28660498|54-223-451-2038|           null|   null|\n",
            "+-----------+---------------+---------------+-------+\n",
            "\n"
          ]
        }
      ]
    },
    {
      "cell_type": "code",
      "source": [
        "# preparar para json"
      ],
      "metadata": {
        "id": "M0_Kig2IdNJR"
      },
      "execution_count": 31,
      "outputs": []
    },
    {
      "cell_type": "code",
      "source": [
        "df_phones_json = df_phones.select('customer_id','Phone_type','prefix_phone_id','phone_area_id','phone_exchange_id','phone_line_id')\n",
        "#df_phones_json = df_phones.select('Phone_type','prefix_phone_id','phone_area_id','phone_exchange_id','phone_line_id')"
      ],
      "metadata": {
        "id": "6o_6aVDGdP-p"
      },
      "execution_count": 32,
      "outputs": []
    },
    {
      "cell_type": "code",
      "source": [
        "df_phones_json.printSchema()"
      ],
      "metadata": {
        "colab": {
          "base_uri": "https://localhost:8080/"
        },
        "id": "GmrIE3yJeHYH",
        "outputId": "1cd74b4c-704d-4129-d115-35e9749c1d27"
      },
      "execution_count": 33,
      "outputs": [
        {
          "output_type": "stream",
          "name": "stdout",
          "text": [
            "root\n",
            " |-- customer_id: string (nullable = true)\n",
            " |-- Phone_type: string (nullable = true)\n",
            " |-- prefix_phone_id: string (nullable = true)\n",
            " |-- phone_area_id: string (nullable = true)\n",
            " |-- phone_exchange_id: string (nullable = true)\n",
            " |-- phone_line_id: string (nullable = true)\n",
            "\n"
          ]
        }
      ]
    },
    {
      "cell_type": "code",
      "source": [
        "from pyspark.sql.functions import to_json"
      ],
      "metadata": {
        "id": "6BeFigf9fV3Y"
      },
      "execution_count": 34,
      "outputs": []
    },
    {
      "cell_type": "code",
      "source": [
        "df_json_concat = df_phones_json.select(concat_ws(\"-\", df_phones_json.Phone_type, df_phones_json.prefix_phone_id, df_phones_json.phone_area_id, df_phones_json.phone_exchange_id, df_phones_json.phone_line_id).alias('Full_Phone_json'))\n",
        "#df_phones_sorted = df_phones_sorted.select(concat_ws('-', df_phones_sorted.prefix_phone_id,df_phones_sorted.phone_area_id,df_phones_sorted.phone_exchange_id,df_phones_sorted.phone_line_id).alias('Full_Phone'),'customer_id','last_change_date')\n"
      ],
      "metadata": {
        "id": "oKuNux4rfhAa"
      },
      "execution_count": 35,
      "outputs": []
    },
    {
      "cell_type": "code",
      "source": [
        "df_json_concat.show()"
      ],
      "metadata": {
        "colab": {
          "base_uri": "https://localhost:8080/"
        },
        "id": "gBFtVhishD9x",
        "outputId": "743073aa-3c3f-4e49-d697-2cc89bb3e78f"
      },
      "execution_count": 36,
      "outputs": [
        {
          "output_type": "stream",
          "name": "stdout",
          "text": [
            "+-----------------+\n",
            "|  Full_Phone_json|\n",
            "+-----------------+\n",
            "|1-54-2901-43-1039|\n",
            "|3-54-3442-51-6913|\n",
            "|1-54-3442-42-6301|\n",
            "|1-54-341-499-4411|\n",
            "|3-54-299-553-4316|\n",
            "|3-54-3571-54-1998|\n",
            "|3-54-294-459-8781|\n",
            "|1-54-2657-42-2205|\n",
            "|3-54-341-308-6577|\n",
            "|1-54-2966-42-6622|\n",
            "|3-54-379-517-4233|\n",
            "|3-54-11-3422-9301|\n",
            "|3-54-299-468-6952|\n",
            "|1-54-11-4131-1252|\n",
            "|3-54-381-534-6781|\n",
            "|1-54-266-444-9170|\n",
            "|3-54-264-551-0219|\n",
            "|3-54-2657-32-7514|\n",
            "|3-54-2657-39-0843|\n",
            "|3-54-11-5701-3654|\n",
            "+-----------------+\n",
            "only showing top 20 rows\n",
            "\n"
          ]
        }
      ]
    },
    {
      "cell_type": "markdown",
      "source": [
        "#####Tabla filtrada de phones"
      ],
      "metadata": {
        "id": "RFZ5aLUD_2v7"
      }
    },
    {
      "cell_type": "code",
      "source": [
        "df_pivot_phone = df_pivot_phone.na.fill('---')\n",
        "df_pivot_phone.show()"
      ],
      "metadata": {
        "colab": {
          "base_uri": "https://localhost:8080/"
        },
        "id": "m2D8d8s7hlUR",
        "outputId": "09547434-bf71-4f27-c045-0574028857ae"
      },
      "execution_count": 37,
      "outputs": [
        {
          "output_type": "stream",
          "name": "stdout",
          "text": [
            "+-----------+---------------+---------------+-------+\n",
            "|customer_id|        Phone_1|        Phone_2|Phone_3|\n",
            "+-----------+---------------+---------------+-------+\n",
            "|   06987700|54-11-4451-4104|            ---|    ---|\n",
            "|   19801715|54-11-4544-8655|            ---|    ---|\n",
            "|   21162204|54-11-6286-0946|            ---|    ---|\n",
            "|   23417903|54-11-4788-3665|            ---|    ---|\n",
            "|   24401530|54-11-5656-3942|            ---|    ---|\n",
            "|   24935788|54-3447-64-4382|            ---|    ---|\n",
            "|   25633010|54-11-5667-3375|54-11-4342-8605|    ---|\n",
            "|   26183611|54-11-4341-0084|54-11-4341-0084|    ---|\n",
            "|   26293280|54-2323-67-7206|            ---|    ---|\n",
            "|   26488506|54-2964-54-9154|            ---|    ---|\n",
            "|   26923214|54-11-6705-6375|            ---|    ---|\n",
            "|   27008407|54-2657-22-6503|54-2657-31-3231|    ---|\n",
            "|   28445138|54-11-6161-5326|            ---|    ---|\n",
            "|   28633515|54-351-716-8741|            ---|    ---|\n",
            "|   28660498|54-223-451-2038|            ---|    ---|\n",
            "+-----------+---------------+---------------+-------+\n",
            "\n"
          ]
        }
      ]
    },
    {
      "cell_type": "markdown",
      "source": [
        "####- 28 - Filtrar el DataFrame de direcciones de clientes y resguardar los 3 contactos más actuales por cliente."
      ],
      "metadata": {
        "id": "WN-dO_THvIuf"
      }
    },
    {
      "cell_type": "code",
      "source": [],
      "metadata": {
        "id": "FIugAOAgwaFU"
      },
      "execution_count": 37,
      "outputs": []
    },
    {
      "cell_type": "code",
      "source": [
        "#antes de hacer el join, voy a hacer un nuevo dataframe, con los campos que se solicitan en el Ticket 32: --- Calle, Número, Piso, Depto, Localidad, Provincia, Código postal ---"
      ],
      "metadata": {
        "id": "NpAar0jxBXey"
      },
      "execution_count": 38,
      "outputs": []
    },
    {
      "cell_type": "code",
      "source": [
        "df_address_cut = df_address.select(col(\"customer_id\"),col(\"street_name\"),col(\"address_outdoor_id\"),col(\"address_indoor_id\"),col(\"indoor_number\"),col(\"address_department_name\"),col(\"province_id\"),col(\"zipcode_id\"),col(\"last_change_date\").alias(\"last_change_date_a\"))"
      ],
      "metadata": {
        "id": "J6uDSJKUt7Qv"
      },
      "execution_count": 39,
      "outputs": []
    },
    {
      "cell_type": "code",
      "source": [
        "df_address_cut.toPandas()"
      ],
      "metadata": {
        "colab": {
          "base_uri": "https://localhost:8080/",
          "height": 0
        },
        "id": "bRk8CelvutD_",
        "outputId": "eded7e4d-5c2e-494b-f079-8ef42d32e5d0"
      },
      "execution_count": 40,
      "outputs": [
        {
          "output_type": "execute_result",
          "data": {
            "text/plain": [
              "     customer_id               street_name address_outdoor_id  \\\n",
              "0       00000003  AV PRES BARTOLOME MITRE             0001500   \n",
              "1       00000009  CNEL AREVALO                        0002391   \n",
              "2       00000009  VENEZUELA 538                       23        \n",
              "3       00000011  AV FELIX DE OLAZABAL                0005392   \n",
              "4       00000027  HEROES DE MALVI                     0001944   \n",
              "...          ...                       ...                ...   \n",
              "2495    00017540  AV DIRECTORIO                       0004901   \n",
              "2496    00017558  CAJARAVILLA                         0004704   \n",
              "2497    00017561  ALMEYRA                             0003012   \n",
              "2498    00017568  ARAOZ                               0002083   \n",
              "2499    00017572  BOLIVIA                             0000420   \n",
              "\n",
              "     address_indoor_id indoor_number         address_department_name  \\\n",
              "0                                     AVELLANEDA                       \n",
              "1                                     CAPITAL FEDERAL                  \n",
              "2             1              CAPITAL  112233114455                     \n",
              "3             1              C        CAPITAL FEDERAL                  \n",
              "4             00                      112233114455                     \n",
              "...                ...           ...                             ...   \n",
              "2495          PB                      CAPITAL FEDERAL                  \n",
              "2496                                  CAPITAL FEDERAL                  \n",
              "2497                                  GENERAL SAN MARTIN               \n",
              "2498                                  MALVINAS ARGENTINAS              \n",
              "2499                                  CAPITAL FEDERAL                  \n",
              "\n",
              "     province_id zipcode_id last_change_date_a  \n",
              "0             02      01870         2011-09-07  \n",
              "1             01      01425         2014-07-22  \n",
              "2             11      11111         2017-04-18  \n",
              "3             01      01431         2007-11-02  \n",
              "4             02      01824         1998-12-18  \n",
              "...          ...        ...                ...  \n",
              "2495          01      01440         2009-01-26  \n",
              "2496          01      01407         2009-01-26  \n",
              "2497          02      01650         2009-01-26  \n",
              "2498          02      01613         2009-01-26  \n",
              "2499          01      01406         2009-01-26  \n",
              "\n",
              "[2500 rows x 9 columns]"
            ],
            "text/html": [
              "\n",
              "  <div id=\"df-ef768dbb-c731-4298-bef6-9b0dad253ebb\">\n",
              "    <div class=\"colab-df-container\">\n",
              "      <div>\n",
              "<style scoped>\n",
              "    .dataframe tbody tr th:only-of-type {\n",
              "        vertical-align: middle;\n",
              "    }\n",
              "\n",
              "    .dataframe tbody tr th {\n",
              "        vertical-align: top;\n",
              "    }\n",
              "\n",
              "    .dataframe thead th {\n",
              "        text-align: right;\n",
              "    }\n",
              "</style>\n",
              "<table border=\"1\" class=\"dataframe\">\n",
              "  <thead>\n",
              "    <tr style=\"text-align: right;\">\n",
              "      <th></th>\n",
              "      <th>customer_id</th>\n",
              "      <th>street_name</th>\n",
              "      <th>address_outdoor_id</th>\n",
              "      <th>address_indoor_id</th>\n",
              "      <th>indoor_number</th>\n",
              "      <th>address_department_name</th>\n",
              "      <th>province_id</th>\n",
              "      <th>zipcode_id</th>\n",
              "      <th>last_change_date_a</th>\n",
              "    </tr>\n",
              "  </thead>\n",
              "  <tbody>\n",
              "    <tr>\n",
              "      <th>0</th>\n",
              "      <td>00000003</td>\n",
              "      <td>AV PRES BARTOLOME MITRE</td>\n",
              "      <td>0001500</td>\n",
              "      <td></td>\n",
              "      <td></td>\n",
              "      <td>AVELLANEDA</td>\n",
              "      <td>02</td>\n",
              "      <td>01870</td>\n",
              "      <td>2011-09-07</td>\n",
              "    </tr>\n",
              "    <tr>\n",
              "      <th>1</th>\n",
              "      <td>00000009</td>\n",
              "      <td>CNEL AREVALO</td>\n",
              "      <td>0002391</td>\n",
              "      <td></td>\n",
              "      <td></td>\n",
              "      <td>CAPITAL FEDERAL</td>\n",
              "      <td>01</td>\n",
              "      <td>01425</td>\n",
              "      <td>2014-07-22</td>\n",
              "    </tr>\n",
              "    <tr>\n",
              "      <th>2</th>\n",
              "      <td>00000009</td>\n",
              "      <td>VENEZUELA 538</td>\n",
              "      <td>23</td>\n",
              "      <td>1</td>\n",
              "      <td>CAPITAL</td>\n",
              "      <td>112233114455</td>\n",
              "      <td>11</td>\n",
              "      <td>11111</td>\n",
              "      <td>2017-04-18</td>\n",
              "    </tr>\n",
              "    <tr>\n",
              "      <th>3</th>\n",
              "      <td>00000011</td>\n",
              "      <td>AV FELIX DE OLAZABAL</td>\n",
              "      <td>0005392</td>\n",
              "      <td>1</td>\n",
              "      <td>C</td>\n",
              "      <td>CAPITAL FEDERAL</td>\n",
              "      <td>01</td>\n",
              "      <td>01431</td>\n",
              "      <td>2007-11-02</td>\n",
              "    </tr>\n",
              "    <tr>\n",
              "      <th>4</th>\n",
              "      <td>00000027</td>\n",
              "      <td>HEROES DE MALVI</td>\n",
              "      <td>0001944</td>\n",
              "      <td>00</td>\n",
              "      <td></td>\n",
              "      <td>112233114455</td>\n",
              "      <td>02</td>\n",
              "      <td>01824</td>\n",
              "      <td>1998-12-18</td>\n",
              "    </tr>\n",
              "    <tr>\n",
              "      <th>...</th>\n",
              "      <td>...</td>\n",
              "      <td>...</td>\n",
              "      <td>...</td>\n",
              "      <td>...</td>\n",
              "      <td>...</td>\n",
              "      <td>...</td>\n",
              "      <td>...</td>\n",
              "      <td>...</td>\n",
              "      <td>...</td>\n",
              "    </tr>\n",
              "    <tr>\n",
              "      <th>2495</th>\n",
              "      <td>00017540</td>\n",
              "      <td>AV DIRECTORIO</td>\n",
              "      <td>0004901</td>\n",
              "      <td>PB</td>\n",
              "      <td></td>\n",
              "      <td>CAPITAL FEDERAL</td>\n",
              "      <td>01</td>\n",
              "      <td>01440</td>\n",
              "      <td>2009-01-26</td>\n",
              "    </tr>\n",
              "    <tr>\n",
              "      <th>2496</th>\n",
              "      <td>00017558</td>\n",
              "      <td>CAJARAVILLA</td>\n",
              "      <td>0004704</td>\n",
              "      <td></td>\n",
              "      <td></td>\n",
              "      <td>CAPITAL FEDERAL</td>\n",
              "      <td>01</td>\n",
              "      <td>01407</td>\n",
              "      <td>2009-01-26</td>\n",
              "    </tr>\n",
              "    <tr>\n",
              "      <th>2497</th>\n",
              "      <td>00017561</td>\n",
              "      <td>ALMEYRA</td>\n",
              "      <td>0003012</td>\n",
              "      <td></td>\n",
              "      <td></td>\n",
              "      <td>GENERAL SAN MARTIN</td>\n",
              "      <td>02</td>\n",
              "      <td>01650</td>\n",
              "      <td>2009-01-26</td>\n",
              "    </tr>\n",
              "    <tr>\n",
              "      <th>2498</th>\n",
              "      <td>00017568</td>\n",
              "      <td>ARAOZ</td>\n",
              "      <td>0002083</td>\n",
              "      <td></td>\n",
              "      <td></td>\n",
              "      <td>MALVINAS ARGENTINAS</td>\n",
              "      <td>02</td>\n",
              "      <td>01613</td>\n",
              "      <td>2009-01-26</td>\n",
              "    </tr>\n",
              "    <tr>\n",
              "      <th>2499</th>\n",
              "      <td>00017572</td>\n",
              "      <td>BOLIVIA</td>\n",
              "      <td>0000420</td>\n",
              "      <td></td>\n",
              "      <td></td>\n",
              "      <td>CAPITAL FEDERAL</td>\n",
              "      <td>01</td>\n",
              "      <td>01406</td>\n",
              "      <td>2009-01-26</td>\n",
              "    </tr>\n",
              "  </tbody>\n",
              "</table>\n",
              "<p>2500 rows × 9 columns</p>\n",
              "</div>\n",
              "      <button class=\"colab-df-convert\" onclick=\"convertToInteractive('df-ef768dbb-c731-4298-bef6-9b0dad253ebb')\"\n",
              "              title=\"Convert this dataframe to an interactive table.\"\n",
              "              style=\"display:none;\">\n",
              "        \n",
              "  <svg xmlns=\"http://www.w3.org/2000/svg\" height=\"24px\"viewBox=\"0 0 24 24\"\n",
              "       width=\"24px\">\n",
              "    <path d=\"M0 0h24v24H0V0z\" fill=\"none\"/>\n",
              "    <path d=\"M18.56 5.44l.94 2.06.94-2.06 2.06-.94-2.06-.94-.94-2.06-.94 2.06-2.06.94zm-11 1L8.5 8.5l.94-2.06 2.06-.94-2.06-.94L8.5 2.5l-.94 2.06-2.06.94zm10 10l.94 2.06.94-2.06 2.06-.94-2.06-.94-.94-2.06-.94 2.06-2.06.94z\"/><path d=\"M17.41 7.96l-1.37-1.37c-.4-.4-.92-.59-1.43-.59-.52 0-1.04.2-1.43.59L10.3 9.45l-7.72 7.72c-.78.78-.78 2.05 0 2.83L4 21.41c.39.39.9.59 1.41.59.51 0 1.02-.2 1.41-.59l7.78-7.78 2.81-2.81c.8-.78.8-2.07 0-2.86zM5.41 20L4 18.59l7.72-7.72 1.47 1.35L5.41 20z\"/>\n",
              "  </svg>\n",
              "      </button>\n",
              "      \n",
              "  <style>\n",
              "    .colab-df-container {\n",
              "      display:flex;\n",
              "      flex-wrap:wrap;\n",
              "      gap: 12px;\n",
              "    }\n",
              "\n",
              "    .colab-df-convert {\n",
              "      background-color: #E8F0FE;\n",
              "      border: none;\n",
              "      border-radius: 50%;\n",
              "      cursor: pointer;\n",
              "      display: none;\n",
              "      fill: #1967D2;\n",
              "      height: 32px;\n",
              "      padding: 0 0 0 0;\n",
              "      width: 32px;\n",
              "    }\n",
              "\n",
              "    .colab-df-convert:hover {\n",
              "      background-color: #E2EBFA;\n",
              "      box-shadow: 0px 1px 2px rgba(60, 64, 67, 0.3), 0px 1px 3px 1px rgba(60, 64, 67, 0.15);\n",
              "      fill: #174EA6;\n",
              "    }\n",
              "\n",
              "    [theme=dark] .colab-df-convert {\n",
              "      background-color: #3B4455;\n",
              "      fill: #D2E3FC;\n",
              "    }\n",
              "\n",
              "    [theme=dark] .colab-df-convert:hover {\n",
              "      background-color: #434B5C;\n",
              "      box-shadow: 0px 1px 3px 1px rgba(0, 0, 0, 0.15);\n",
              "      filter: drop-shadow(0px 1px 2px rgba(0, 0, 0, 0.3));\n",
              "      fill: #FFFFFF;\n",
              "    }\n",
              "  </style>\n",
              "\n",
              "      <script>\n",
              "        const buttonEl =\n",
              "          document.querySelector('#df-ef768dbb-c731-4298-bef6-9b0dad253ebb button.colab-df-convert');\n",
              "        buttonEl.style.display =\n",
              "          google.colab.kernel.accessAllowed ? 'block' : 'none';\n",
              "\n",
              "        async function convertToInteractive(key) {\n",
              "          const element = document.querySelector('#df-ef768dbb-c731-4298-bef6-9b0dad253ebb');\n",
              "          const dataTable =\n",
              "            await google.colab.kernel.invokeFunction('convertToInteractive',\n",
              "                                                     [key], {});\n",
              "          if (!dataTable) return;\n",
              "\n",
              "          const docLinkHtml = 'Like what you see? Visit the ' +\n",
              "            '<a target=\"_blank\" href=https://colab.research.google.com/notebooks/data_table.ipynb>data table notebook</a>'\n",
              "            + ' to learn more about interactive tables.';\n",
              "          element.innerHTML = '';\n",
              "          dataTable['output_type'] = 'display_data';\n",
              "          await google.colab.output.renderOutput(dataTable, element);\n",
              "          const docLink = document.createElement('div');\n",
              "          docLink.innerHTML = docLinkHtml;\n",
              "          element.appendChild(docLink);\n",
              "        }\n",
              "      </script>\n",
              "    </div>\n",
              "  </div>\n",
              "  "
            ]
          },
          "metadata": {},
          "execution_count": 40
        }
      ]
    },
    {
      "cell_type": "code",
      "source": [
        "df_address_sorted = df_address_cut.orderBy([df_address_cut.customer_id, desc('last_change_date_a')])\n"
      ],
      "metadata": {
        "id": "13HHk7i6urRS"
      },
      "execution_count": 41,
      "outputs": []
    },
    {
      "cell_type": "code",
      "source": [
        "#df_address_sorted = df_address_sorted.select('customer_id', concat(df_address_sorted.street_name,df_address_sorted.address_outdoor_id,df_address_sorted.address_indoor_id,df_address_sorted.indoor_number).alias('Full_Address'),'address_district_name','address_town_name','address_department_name','zipcode_id','long_zipcode_id','last_change_date')\n",
        "df_address_sorted = df_address_sorted.select('customer_id', concat_ws('-', df_address_sorted.street_name,df_address_sorted.address_outdoor_id,df_address_sorted.address_indoor_id,df_address_sorted.indoor_number,df_address_sorted.address_department_name,df_address_sorted.province_id,df_address_sorted.zipcode_id).alias('Full_Address'),'last_change_date_a')"
      ],
      "metadata": {
        "id": "FnEaH7uuw1px"
      },
      "execution_count": 42,
      "outputs": []
    },
    {
      "cell_type": "code",
      "source": [
        "df_address_sorted.toPandas()"
      ],
      "metadata": {
        "colab": {
          "base_uri": "https://localhost:8080/",
          "height": 0
        },
        "id": "w7TGCjvZxXw2",
        "outputId": "86198ee3-3dda-49b1-f464-9a8b4e44d9ef"
      },
      "execution_count": 43,
      "outputs": [
        {
          "output_type": "execute_result",
          "data": {
            "text/plain": [
              "     customer_id                                       Full_Address  \\\n",
              "0       00000003  AV PRES BARTOLOME MITRE -0001500-        -    ...   \n",
              "1       00000009  VENEZUELA 538           -23     -1       -CAPI...   \n",
              "2       00000009  CNEL AREVALO            -0002391-        -    ...   \n",
              "3       00000011  AV FELIX DE OLAZABAL    -0005392-1       -C   ...   \n",
              "4       00000027  AVENIDA DE MAYO         -0001465-2       -AA  ...   \n",
              "...          ...                                                ...   \n",
              "2495    27282128  SAAVEDRA                -0002548-        -    ...   \n",
              "2496    27408820  ELOY FUENTES            -0000041-        -    ...   \n",
              "2497    27564067  ZEBALLOS                -0000900-        -    ...   \n",
              "2498    27568614  AVDA 25                 -0002500-        -    ...   \n",
              "2499    28028548  CALLE 125               -0000528-        -    ...   \n",
              "\n",
              "     last_change_date_a  \n",
              "0            2011-09-07  \n",
              "1            2017-04-18  \n",
              "2            2014-07-22  \n",
              "3            2007-11-02  \n",
              "4            2010-01-25  \n",
              "...                 ...  \n",
              "2495         2011-07-01  \n",
              "2496         2021-12-14  \n",
              "2497         2014-02-17  \n",
              "2498         2020-11-25  \n",
              "2499         2021-10-22  \n",
              "\n",
              "[2500 rows x 3 columns]"
            ],
            "text/html": [
              "\n",
              "  <div id=\"df-a612ddd0-1f52-4867-a5b0-2005419c9e23\">\n",
              "    <div class=\"colab-df-container\">\n",
              "      <div>\n",
              "<style scoped>\n",
              "    .dataframe tbody tr th:only-of-type {\n",
              "        vertical-align: middle;\n",
              "    }\n",
              "\n",
              "    .dataframe tbody tr th {\n",
              "        vertical-align: top;\n",
              "    }\n",
              "\n",
              "    .dataframe thead th {\n",
              "        text-align: right;\n",
              "    }\n",
              "</style>\n",
              "<table border=\"1\" class=\"dataframe\">\n",
              "  <thead>\n",
              "    <tr style=\"text-align: right;\">\n",
              "      <th></th>\n",
              "      <th>customer_id</th>\n",
              "      <th>Full_Address</th>\n",
              "      <th>last_change_date_a</th>\n",
              "    </tr>\n",
              "  </thead>\n",
              "  <tbody>\n",
              "    <tr>\n",
              "      <th>0</th>\n",
              "      <td>00000003</td>\n",
              "      <td>AV PRES BARTOLOME MITRE -0001500-        -    ...</td>\n",
              "      <td>2011-09-07</td>\n",
              "    </tr>\n",
              "    <tr>\n",
              "      <th>1</th>\n",
              "      <td>00000009</td>\n",
              "      <td>VENEZUELA 538           -23     -1       -CAPI...</td>\n",
              "      <td>2017-04-18</td>\n",
              "    </tr>\n",
              "    <tr>\n",
              "      <th>2</th>\n",
              "      <td>00000009</td>\n",
              "      <td>CNEL AREVALO            -0002391-        -    ...</td>\n",
              "      <td>2014-07-22</td>\n",
              "    </tr>\n",
              "    <tr>\n",
              "      <th>3</th>\n",
              "      <td>00000011</td>\n",
              "      <td>AV FELIX DE OLAZABAL    -0005392-1       -C   ...</td>\n",
              "      <td>2007-11-02</td>\n",
              "    </tr>\n",
              "    <tr>\n",
              "      <th>4</th>\n",
              "      <td>00000027</td>\n",
              "      <td>AVENIDA DE MAYO         -0001465-2       -AA  ...</td>\n",
              "      <td>2010-01-25</td>\n",
              "    </tr>\n",
              "    <tr>\n",
              "      <th>...</th>\n",
              "      <td>...</td>\n",
              "      <td>...</td>\n",
              "      <td>...</td>\n",
              "    </tr>\n",
              "    <tr>\n",
              "      <th>2495</th>\n",
              "      <td>27282128</td>\n",
              "      <td>SAAVEDRA                -0002548-        -    ...</td>\n",
              "      <td>2011-07-01</td>\n",
              "    </tr>\n",
              "    <tr>\n",
              "      <th>2496</th>\n",
              "      <td>27408820</td>\n",
              "      <td>ELOY FUENTES            -0000041-        -    ...</td>\n",
              "      <td>2021-12-14</td>\n",
              "    </tr>\n",
              "    <tr>\n",
              "      <th>2497</th>\n",
              "      <td>27564067</td>\n",
              "      <td>ZEBALLOS                -0000900-        -    ...</td>\n",
              "      <td>2014-02-17</td>\n",
              "    </tr>\n",
              "    <tr>\n",
              "      <th>2498</th>\n",
              "      <td>27568614</td>\n",
              "      <td>AVDA 25                 -0002500-        -    ...</td>\n",
              "      <td>2020-11-25</td>\n",
              "    </tr>\n",
              "    <tr>\n",
              "      <th>2499</th>\n",
              "      <td>28028548</td>\n",
              "      <td>CALLE 125               -0000528-        -    ...</td>\n",
              "      <td>2021-10-22</td>\n",
              "    </tr>\n",
              "  </tbody>\n",
              "</table>\n",
              "<p>2500 rows × 3 columns</p>\n",
              "</div>\n",
              "      <button class=\"colab-df-convert\" onclick=\"convertToInteractive('df-a612ddd0-1f52-4867-a5b0-2005419c9e23')\"\n",
              "              title=\"Convert this dataframe to an interactive table.\"\n",
              "              style=\"display:none;\">\n",
              "        \n",
              "  <svg xmlns=\"http://www.w3.org/2000/svg\" height=\"24px\"viewBox=\"0 0 24 24\"\n",
              "       width=\"24px\">\n",
              "    <path d=\"M0 0h24v24H0V0z\" fill=\"none\"/>\n",
              "    <path d=\"M18.56 5.44l.94 2.06.94-2.06 2.06-.94-2.06-.94-.94-2.06-.94 2.06-2.06.94zm-11 1L8.5 8.5l.94-2.06 2.06-.94-2.06-.94L8.5 2.5l-.94 2.06-2.06.94zm10 10l.94 2.06.94-2.06 2.06-.94-2.06-.94-.94-2.06-.94 2.06-2.06.94z\"/><path d=\"M17.41 7.96l-1.37-1.37c-.4-.4-.92-.59-1.43-.59-.52 0-1.04.2-1.43.59L10.3 9.45l-7.72 7.72c-.78.78-.78 2.05 0 2.83L4 21.41c.39.39.9.59 1.41.59.51 0 1.02-.2 1.41-.59l7.78-7.78 2.81-2.81c.8-.78.8-2.07 0-2.86zM5.41 20L4 18.59l7.72-7.72 1.47 1.35L5.41 20z\"/>\n",
              "  </svg>\n",
              "      </button>\n",
              "      \n",
              "  <style>\n",
              "    .colab-df-container {\n",
              "      display:flex;\n",
              "      flex-wrap:wrap;\n",
              "      gap: 12px;\n",
              "    }\n",
              "\n",
              "    .colab-df-convert {\n",
              "      background-color: #E8F0FE;\n",
              "      border: none;\n",
              "      border-radius: 50%;\n",
              "      cursor: pointer;\n",
              "      display: none;\n",
              "      fill: #1967D2;\n",
              "      height: 32px;\n",
              "      padding: 0 0 0 0;\n",
              "      width: 32px;\n",
              "    }\n",
              "\n",
              "    .colab-df-convert:hover {\n",
              "      background-color: #E2EBFA;\n",
              "      box-shadow: 0px 1px 2px rgba(60, 64, 67, 0.3), 0px 1px 3px 1px rgba(60, 64, 67, 0.15);\n",
              "      fill: #174EA6;\n",
              "    }\n",
              "\n",
              "    [theme=dark] .colab-df-convert {\n",
              "      background-color: #3B4455;\n",
              "      fill: #D2E3FC;\n",
              "    }\n",
              "\n",
              "    [theme=dark] .colab-df-convert:hover {\n",
              "      background-color: #434B5C;\n",
              "      box-shadow: 0px 1px 3px 1px rgba(0, 0, 0, 0.15);\n",
              "      filter: drop-shadow(0px 1px 2px rgba(0, 0, 0, 0.3));\n",
              "      fill: #FFFFFF;\n",
              "    }\n",
              "  </style>\n",
              "\n",
              "      <script>\n",
              "        const buttonEl =\n",
              "          document.querySelector('#df-a612ddd0-1f52-4867-a5b0-2005419c9e23 button.colab-df-convert');\n",
              "        buttonEl.style.display =\n",
              "          google.colab.kernel.accessAllowed ? 'block' : 'none';\n",
              "\n",
              "        async function convertToInteractive(key) {\n",
              "          const element = document.querySelector('#df-a612ddd0-1f52-4867-a5b0-2005419c9e23');\n",
              "          const dataTable =\n",
              "            await google.colab.kernel.invokeFunction('convertToInteractive',\n",
              "                                                     [key], {});\n",
              "          if (!dataTable) return;\n",
              "\n",
              "          const docLinkHtml = 'Like what you see? Visit the ' +\n",
              "            '<a target=\"_blank\" href=https://colab.research.google.com/notebooks/data_table.ipynb>data table notebook</a>'\n",
              "            + ' to learn more about interactive tables.';\n",
              "          element.innerHTML = '';\n",
              "          dataTable['output_type'] = 'display_data';\n",
              "          await google.colab.output.renderOutput(dataTable, element);\n",
              "          const docLink = document.createElement('div');\n",
              "          docLink.innerHTML = docLinkHtml;\n",
              "          element.appendChild(docLink);\n",
              "        }\n",
              "      </script>\n",
              "    </div>\n",
              "  </div>\n",
              "  "
            ]
          },
          "metadata": {},
          "execution_count": 43
        }
      ]
    },
    {
      "cell_type": "code",
      "source": [
        "window = Window.partitionBy(df_address_sorted.customer_id).orderBy(desc(df_address_sorted.last_change_date_a))"
      ],
      "metadata": {
        "id": "egRyTwTnwT30"
      },
      "execution_count": 44,
      "outputs": []
    },
    {
      "cell_type": "code",
      "source": [
        "df_address = df_address_sorted.withColumn('row_num', row_number().over(window))"
      ],
      "metadata": {
        "id": "evibxyAHwXlC"
      },
      "execution_count": 45,
      "outputs": []
    },
    {
      "cell_type": "code",
      "source": [
        "df_address = df_address.filter(df_address.row_num <= 3)\n",
        "df_address.toPandas()"
      ],
      "metadata": {
        "colab": {
          "base_uri": "https://localhost:8080/",
          "height": 0
        },
        "id": "HFwdtNlHwivy",
        "outputId": "217f8119-393c-4b80-e964-9a6c6721be2c"
      },
      "execution_count": 46,
      "outputs": [
        {
          "output_type": "execute_result",
          "data": {
            "text/plain": [
              "     customer_id                                       Full_Address  \\\n",
              "0       00000003  AV PRES BARTOLOME MITRE -0001500-        -    ...   \n",
              "1       00000009  VENEZUELA 538           -23     -1       -CAPI...   \n",
              "2       00000009  CNEL AREVALO            -0002391-        -    ...   \n",
              "3       00000011  AV FELIX DE OLAZABAL    -0005392-1       -C   ...   \n",
              "4       00000027  AVENIDA DE MAYO         -0001465-2       -AA  ...   \n",
              "...          ...                                                ...   \n",
              "2478    27282128  SAAVEDRA                -0002548-        -    ...   \n",
              "2479    27408820  ELOY FUENTES            -0000041-        -    ...   \n",
              "2480    27564067  ZEBALLOS                -0000900-        -    ...   \n",
              "2481    27568614  AVDA 25                 -0002500-        -    ...   \n",
              "2482    28028548  CALLE 125               -0000528-        -    ...   \n",
              "\n",
              "     last_change_date_a  row_num  \n",
              "0            2011-09-07        1  \n",
              "1            2017-04-18        1  \n",
              "2            2014-07-22        2  \n",
              "3            2007-11-02        1  \n",
              "4            2010-01-25        1  \n",
              "...                 ...      ...  \n",
              "2478         2011-07-01        2  \n",
              "2479         2021-12-14        1  \n",
              "2480         2014-02-17        1  \n",
              "2481         2020-11-25        1  \n",
              "2482         2021-10-22        1  \n",
              "\n",
              "[2483 rows x 4 columns]"
            ],
            "text/html": [
              "\n",
              "  <div id=\"df-4a325db8-2a1c-481e-b951-6e9908b88a72\">\n",
              "    <div class=\"colab-df-container\">\n",
              "      <div>\n",
              "<style scoped>\n",
              "    .dataframe tbody tr th:only-of-type {\n",
              "        vertical-align: middle;\n",
              "    }\n",
              "\n",
              "    .dataframe tbody tr th {\n",
              "        vertical-align: top;\n",
              "    }\n",
              "\n",
              "    .dataframe thead th {\n",
              "        text-align: right;\n",
              "    }\n",
              "</style>\n",
              "<table border=\"1\" class=\"dataframe\">\n",
              "  <thead>\n",
              "    <tr style=\"text-align: right;\">\n",
              "      <th></th>\n",
              "      <th>customer_id</th>\n",
              "      <th>Full_Address</th>\n",
              "      <th>last_change_date_a</th>\n",
              "      <th>row_num</th>\n",
              "    </tr>\n",
              "  </thead>\n",
              "  <tbody>\n",
              "    <tr>\n",
              "      <th>0</th>\n",
              "      <td>00000003</td>\n",
              "      <td>AV PRES BARTOLOME MITRE -0001500-        -    ...</td>\n",
              "      <td>2011-09-07</td>\n",
              "      <td>1</td>\n",
              "    </tr>\n",
              "    <tr>\n",
              "      <th>1</th>\n",
              "      <td>00000009</td>\n",
              "      <td>VENEZUELA 538           -23     -1       -CAPI...</td>\n",
              "      <td>2017-04-18</td>\n",
              "      <td>1</td>\n",
              "    </tr>\n",
              "    <tr>\n",
              "      <th>2</th>\n",
              "      <td>00000009</td>\n",
              "      <td>CNEL AREVALO            -0002391-        -    ...</td>\n",
              "      <td>2014-07-22</td>\n",
              "      <td>2</td>\n",
              "    </tr>\n",
              "    <tr>\n",
              "      <th>3</th>\n",
              "      <td>00000011</td>\n",
              "      <td>AV FELIX DE OLAZABAL    -0005392-1       -C   ...</td>\n",
              "      <td>2007-11-02</td>\n",
              "      <td>1</td>\n",
              "    </tr>\n",
              "    <tr>\n",
              "      <th>4</th>\n",
              "      <td>00000027</td>\n",
              "      <td>AVENIDA DE MAYO         -0001465-2       -AA  ...</td>\n",
              "      <td>2010-01-25</td>\n",
              "      <td>1</td>\n",
              "    </tr>\n",
              "    <tr>\n",
              "      <th>...</th>\n",
              "      <td>...</td>\n",
              "      <td>...</td>\n",
              "      <td>...</td>\n",
              "      <td>...</td>\n",
              "    </tr>\n",
              "    <tr>\n",
              "      <th>2478</th>\n",
              "      <td>27282128</td>\n",
              "      <td>SAAVEDRA                -0002548-        -    ...</td>\n",
              "      <td>2011-07-01</td>\n",
              "      <td>2</td>\n",
              "    </tr>\n",
              "    <tr>\n",
              "      <th>2479</th>\n",
              "      <td>27408820</td>\n",
              "      <td>ELOY FUENTES            -0000041-        -    ...</td>\n",
              "      <td>2021-12-14</td>\n",
              "      <td>1</td>\n",
              "    </tr>\n",
              "    <tr>\n",
              "      <th>2480</th>\n",
              "      <td>27564067</td>\n",
              "      <td>ZEBALLOS                -0000900-        -    ...</td>\n",
              "      <td>2014-02-17</td>\n",
              "      <td>1</td>\n",
              "    </tr>\n",
              "    <tr>\n",
              "      <th>2481</th>\n",
              "      <td>27568614</td>\n",
              "      <td>AVDA 25                 -0002500-        -    ...</td>\n",
              "      <td>2020-11-25</td>\n",
              "      <td>1</td>\n",
              "    </tr>\n",
              "    <tr>\n",
              "      <th>2482</th>\n",
              "      <td>28028548</td>\n",
              "      <td>CALLE 125               -0000528-        -    ...</td>\n",
              "      <td>2021-10-22</td>\n",
              "      <td>1</td>\n",
              "    </tr>\n",
              "  </tbody>\n",
              "</table>\n",
              "<p>2483 rows × 4 columns</p>\n",
              "</div>\n",
              "      <button class=\"colab-df-convert\" onclick=\"convertToInteractive('df-4a325db8-2a1c-481e-b951-6e9908b88a72')\"\n",
              "              title=\"Convert this dataframe to an interactive table.\"\n",
              "              style=\"display:none;\">\n",
              "        \n",
              "  <svg xmlns=\"http://www.w3.org/2000/svg\" height=\"24px\"viewBox=\"0 0 24 24\"\n",
              "       width=\"24px\">\n",
              "    <path d=\"M0 0h24v24H0V0z\" fill=\"none\"/>\n",
              "    <path d=\"M18.56 5.44l.94 2.06.94-2.06 2.06-.94-2.06-.94-.94-2.06-.94 2.06-2.06.94zm-11 1L8.5 8.5l.94-2.06 2.06-.94-2.06-.94L8.5 2.5l-.94 2.06-2.06.94zm10 10l.94 2.06.94-2.06 2.06-.94-2.06-.94-.94-2.06-.94 2.06-2.06.94z\"/><path d=\"M17.41 7.96l-1.37-1.37c-.4-.4-.92-.59-1.43-.59-.52 0-1.04.2-1.43.59L10.3 9.45l-7.72 7.72c-.78.78-.78 2.05 0 2.83L4 21.41c.39.39.9.59 1.41.59.51 0 1.02-.2 1.41-.59l7.78-7.78 2.81-2.81c.8-.78.8-2.07 0-2.86zM5.41 20L4 18.59l7.72-7.72 1.47 1.35L5.41 20z\"/>\n",
              "  </svg>\n",
              "      </button>\n",
              "      \n",
              "  <style>\n",
              "    .colab-df-container {\n",
              "      display:flex;\n",
              "      flex-wrap:wrap;\n",
              "      gap: 12px;\n",
              "    }\n",
              "\n",
              "    .colab-df-convert {\n",
              "      background-color: #E8F0FE;\n",
              "      border: none;\n",
              "      border-radius: 50%;\n",
              "      cursor: pointer;\n",
              "      display: none;\n",
              "      fill: #1967D2;\n",
              "      height: 32px;\n",
              "      padding: 0 0 0 0;\n",
              "      width: 32px;\n",
              "    }\n",
              "\n",
              "    .colab-df-convert:hover {\n",
              "      background-color: #E2EBFA;\n",
              "      box-shadow: 0px 1px 2px rgba(60, 64, 67, 0.3), 0px 1px 3px 1px rgba(60, 64, 67, 0.15);\n",
              "      fill: #174EA6;\n",
              "    }\n",
              "\n",
              "    [theme=dark] .colab-df-convert {\n",
              "      background-color: #3B4455;\n",
              "      fill: #D2E3FC;\n",
              "    }\n",
              "\n",
              "    [theme=dark] .colab-df-convert:hover {\n",
              "      background-color: #434B5C;\n",
              "      box-shadow: 0px 1px 3px 1px rgba(0, 0, 0, 0.15);\n",
              "      filter: drop-shadow(0px 1px 2px rgba(0, 0, 0, 0.3));\n",
              "      fill: #FFFFFF;\n",
              "    }\n",
              "  </style>\n",
              "\n",
              "      <script>\n",
              "        const buttonEl =\n",
              "          document.querySelector('#df-4a325db8-2a1c-481e-b951-6e9908b88a72 button.colab-df-convert');\n",
              "        buttonEl.style.display =\n",
              "          google.colab.kernel.accessAllowed ? 'block' : 'none';\n",
              "\n",
              "        async function convertToInteractive(key) {\n",
              "          const element = document.querySelector('#df-4a325db8-2a1c-481e-b951-6e9908b88a72');\n",
              "          const dataTable =\n",
              "            await google.colab.kernel.invokeFunction('convertToInteractive',\n",
              "                                                     [key], {});\n",
              "          if (!dataTable) return;\n",
              "\n",
              "          const docLinkHtml = 'Like what you see? Visit the ' +\n",
              "            '<a target=\"_blank\" href=https://colab.research.google.com/notebooks/data_table.ipynb>data table notebook</a>'\n",
              "            + ' to learn more about interactive tables.';\n",
              "          element.innerHTML = '';\n",
              "          dataTable['output_type'] = 'display_data';\n",
              "          await google.colab.output.renderOutput(dataTable, element);\n",
              "          const docLink = document.createElement('div');\n",
              "          docLink.innerHTML = docLinkHtml;\n",
              "          element.appendChild(docLink);\n",
              "        }\n",
              "      </script>\n",
              "    </div>\n",
              "  </div>\n",
              "  "
            ]
          },
          "metadata": {},
          "execution_count": 46
        }
      ]
    },
    {
      "cell_type": "code",
      "source": [
        "df_pivot_address = df_address.groupBy('customer_id').agg(collect_list('Full_Address').alias('last_3_changes_list'))"
      ],
      "metadata": {
        "id": "6hoFDOqjyg-H"
      },
      "execution_count": 47,
      "outputs": []
    },
    {
      "cell_type": "code",
      "source": [
        "df_pivot_address = df_pivot_address.selectExpr('customer_id', 'last_3_changes_list[0] as Address_1', 'last_3_changes_list[1] as Address_2', 'last_3_changes_list[2] as Address_3')\n"
      ],
      "metadata": {
        "id": "cMOifc4Fyg-I"
      },
      "execution_count": 48,
      "outputs": []
    },
    {
      "cell_type": "code",
      "source": [
        "df_pivot_address = df_pivot_address.na.fill('---')\n",
        "df_pivot_address.toPandas()"
      ],
      "metadata": {
        "colab": {
          "base_uri": "https://localhost:8080/",
          "height": 0
        },
        "outputId": "fb06f0db-9b22-46e7-f851-ca545fcb4c01",
        "id": "OkShni9iyg-I"
      },
      "execution_count": 49,
      "outputs": [
        {
          "output_type": "execute_result",
          "data": {
            "text/plain": [
              "     customer_id                                          Address_1  \\\n",
              "0       00000003  AV PRES BARTOLOME MITRE -0001500-        -    ...   \n",
              "1       00000009  VENEZUELA 538           -23     -1       -CAPI...   \n",
              "2       00000011  AV FELIX DE OLAZABAL    -0005392-1       -C   ...   \n",
              "3       00000027  AVENIDA DE MAYO         -0001465-2       -AA  ...   \n",
              "4       00000028  NECOCHEA                -0004653-35      -1   ...   \n",
              "...          ...                                                ...   \n",
              "2395    27282128  SAAVEDRA                -0002548-        -    ...   \n",
              "2396    27408820  ELOY FUENTES            -0000041-        -    ...   \n",
              "2397    27564067  ZEBALLOS                -0000900-        -    ...   \n",
              "2398    27568614  AVDA 25                 -0002500-        -    ...   \n",
              "2399    28028548  CALLE 125               -0000528-        -    ...   \n",
              "\n",
              "                                              Address_2  \\\n",
              "0                                                   ---   \n",
              "1     CNEL AREVALO            -0002391-        -    ...   \n",
              "2                                                   ---   \n",
              "3     PJE JACHAL              -0003547-        -    ...   \n",
              "4                                                   ---   \n",
              "...                                                 ...   \n",
              "2395  SAAVEDRA                -0002548-        -    ...   \n",
              "2396                                                ---   \n",
              "2397                                                ---   \n",
              "2398                                                ---   \n",
              "2399                                                ---   \n",
              "\n",
              "                                              Address_3  \n",
              "0                                                   ---  \n",
              "1                                                   ---  \n",
              "2                                                   ---  \n",
              "3     HEROES DE MALVI         -0001944-00      -    ...  \n",
              "4                                                   ---  \n",
              "...                                                 ...  \n",
              "2395                                                ---  \n",
              "2396                                                ---  \n",
              "2397                                                ---  \n",
              "2398                                                ---  \n",
              "2399                                                ---  \n",
              "\n",
              "[2400 rows x 4 columns]"
            ],
            "text/html": [
              "\n",
              "  <div id=\"df-189038b1-fd61-496c-902d-ab72d3df4573\">\n",
              "    <div class=\"colab-df-container\">\n",
              "      <div>\n",
              "<style scoped>\n",
              "    .dataframe tbody tr th:only-of-type {\n",
              "        vertical-align: middle;\n",
              "    }\n",
              "\n",
              "    .dataframe tbody tr th {\n",
              "        vertical-align: top;\n",
              "    }\n",
              "\n",
              "    .dataframe thead th {\n",
              "        text-align: right;\n",
              "    }\n",
              "</style>\n",
              "<table border=\"1\" class=\"dataframe\">\n",
              "  <thead>\n",
              "    <tr style=\"text-align: right;\">\n",
              "      <th></th>\n",
              "      <th>customer_id</th>\n",
              "      <th>Address_1</th>\n",
              "      <th>Address_2</th>\n",
              "      <th>Address_3</th>\n",
              "    </tr>\n",
              "  </thead>\n",
              "  <tbody>\n",
              "    <tr>\n",
              "      <th>0</th>\n",
              "      <td>00000003</td>\n",
              "      <td>AV PRES BARTOLOME MITRE -0001500-        -    ...</td>\n",
              "      <td>---</td>\n",
              "      <td>---</td>\n",
              "    </tr>\n",
              "    <tr>\n",
              "      <th>1</th>\n",
              "      <td>00000009</td>\n",
              "      <td>VENEZUELA 538           -23     -1       -CAPI...</td>\n",
              "      <td>CNEL AREVALO            -0002391-        -    ...</td>\n",
              "      <td>---</td>\n",
              "    </tr>\n",
              "    <tr>\n",
              "      <th>2</th>\n",
              "      <td>00000011</td>\n",
              "      <td>AV FELIX DE OLAZABAL    -0005392-1       -C   ...</td>\n",
              "      <td>---</td>\n",
              "      <td>---</td>\n",
              "    </tr>\n",
              "    <tr>\n",
              "      <th>3</th>\n",
              "      <td>00000027</td>\n",
              "      <td>AVENIDA DE MAYO         -0001465-2       -AA  ...</td>\n",
              "      <td>PJE JACHAL              -0003547-        -    ...</td>\n",
              "      <td>HEROES DE MALVI         -0001944-00      -    ...</td>\n",
              "    </tr>\n",
              "    <tr>\n",
              "      <th>4</th>\n",
              "      <td>00000028</td>\n",
              "      <td>NECOCHEA                -0004653-35      -1   ...</td>\n",
              "      <td>---</td>\n",
              "      <td>---</td>\n",
              "    </tr>\n",
              "    <tr>\n",
              "      <th>...</th>\n",
              "      <td>...</td>\n",
              "      <td>...</td>\n",
              "      <td>...</td>\n",
              "      <td>...</td>\n",
              "    </tr>\n",
              "    <tr>\n",
              "      <th>2395</th>\n",
              "      <td>27282128</td>\n",
              "      <td>SAAVEDRA                -0002548-        -    ...</td>\n",
              "      <td>SAAVEDRA                -0002548-        -    ...</td>\n",
              "      <td>---</td>\n",
              "    </tr>\n",
              "    <tr>\n",
              "      <th>2396</th>\n",
              "      <td>27408820</td>\n",
              "      <td>ELOY FUENTES            -0000041-        -    ...</td>\n",
              "      <td>---</td>\n",
              "      <td>---</td>\n",
              "    </tr>\n",
              "    <tr>\n",
              "      <th>2397</th>\n",
              "      <td>27564067</td>\n",
              "      <td>ZEBALLOS                -0000900-        -    ...</td>\n",
              "      <td>---</td>\n",
              "      <td>---</td>\n",
              "    </tr>\n",
              "    <tr>\n",
              "      <th>2398</th>\n",
              "      <td>27568614</td>\n",
              "      <td>AVDA 25                 -0002500-        -    ...</td>\n",
              "      <td>---</td>\n",
              "      <td>---</td>\n",
              "    </tr>\n",
              "    <tr>\n",
              "      <th>2399</th>\n",
              "      <td>28028548</td>\n",
              "      <td>CALLE 125               -0000528-        -    ...</td>\n",
              "      <td>---</td>\n",
              "      <td>---</td>\n",
              "    </tr>\n",
              "  </tbody>\n",
              "</table>\n",
              "<p>2400 rows × 4 columns</p>\n",
              "</div>\n",
              "      <button class=\"colab-df-convert\" onclick=\"convertToInteractive('df-189038b1-fd61-496c-902d-ab72d3df4573')\"\n",
              "              title=\"Convert this dataframe to an interactive table.\"\n",
              "              style=\"display:none;\">\n",
              "        \n",
              "  <svg xmlns=\"http://www.w3.org/2000/svg\" height=\"24px\"viewBox=\"0 0 24 24\"\n",
              "       width=\"24px\">\n",
              "    <path d=\"M0 0h24v24H0V0z\" fill=\"none\"/>\n",
              "    <path d=\"M18.56 5.44l.94 2.06.94-2.06 2.06-.94-2.06-.94-.94-2.06-.94 2.06-2.06.94zm-11 1L8.5 8.5l.94-2.06 2.06-.94-2.06-.94L8.5 2.5l-.94 2.06-2.06.94zm10 10l.94 2.06.94-2.06 2.06-.94-2.06-.94-.94-2.06-.94 2.06-2.06.94z\"/><path d=\"M17.41 7.96l-1.37-1.37c-.4-.4-.92-.59-1.43-.59-.52 0-1.04.2-1.43.59L10.3 9.45l-7.72 7.72c-.78.78-.78 2.05 0 2.83L4 21.41c.39.39.9.59 1.41.59.51 0 1.02-.2 1.41-.59l7.78-7.78 2.81-2.81c.8-.78.8-2.07 0-2.86zM5.41 20L4 18.59l7.72-7.72 1.47 1.35L5.41 20z\"/>\n",
              "  </svg>\n",
              "      </button>\n",
              "      \n",
              "  <style>\n",
              "    .colab-df-container {\n",
              "      display:flex;\n",
              "      flex-wrap:wrap;\n",
              "      gap: 12px;\n",
              "    }\n",
              "\n",
              "    .colab-df-convert {\n",
              "      background-color: #E8F0FE;\n",
              "      border: none;\n",
              "      border-radius: 50%;\n",
              "      cursor: pointer;\n",
              "      display: none;\n",
              "      fill: #1967D2;\n",
              "      height: 32px;\n",
              "      padding: 0 0 0 0;\n",
              "      width: 32px;\n",
              "    }\n",
              "\n",
              "    .colab-df-convert:hover {\n",
              "      background-color: #E2EBFA;\n",
              "      box-shadow: 0px 1px 2px rgba(60, 64, 67, 0.3), 0px 1px 3px 1px rgba(60, 64, 67, 0.15);\n",
              "      fill: #174EA6;\n",
              "    }\n",
              "\n",
              "    [theme=dark] .colab-df-convert {\n",
              "      background-color: #3B4455;\n",
              "      fill: #D2E3FC;\n",
              "    }\n",
              "\n",
              "    [theme=dark] .colab-df-convert:hover {\n",
              "      background-color: #434B5C;\n",
              "      box-shadow: 0px 1px 3px 1px rgba(0, 0, 0, 0.15);\n",
              "      filter: drop-shadow(0px 1px 2px rgba(0, 0, 0, 0.3));\n",
              "      fill: #FFFFFF;\n",
              "    }\n",
              "  </style>\n",
              "\n",
              "      <script>\n",
              "        const buttonEl =\n",
              "          document.querySelector('#df-189038b1-fd61-496c-902d-ab72d3df4573 button.colab-df-convert');\n",
              "        buttonEl.style.display =\n",
              "          google.colab.kernel.accessAllowed ? 'block' : 'none';\n",
              "\n",
              "        async function convertToInteractive(key) {\n",
              "          const element = document.querySelector('#df-189038b1-fd61-496c-902d-ab72d3df4573');\n",
              "          const dataTable =\n",
              "            await google.colab.kernel.invokeFunction('convertToInteractive',\n",
              "                                                     [key], {});\n",
              "          if (!dataTable) return;\n",
              "\n",
              "          const docLinkHtml = 'Like what you see? Visit the ' +\n",
              "            '<a target=\"_blank\" href=https://colab.research.google.com/notebooks/data_table.ipynb>data table notebook</a>'\n",
              "            + ' to learn more about interactive tables.';\n",
              "          element.innerHTML = '';\n",
              "          dataTable['output_type'] = 'display_data';\n",
              "          await google.colab.output.renderOutput(dataTable, element);\n",
              "          const docLink = document.createElement('div');\n",
              "          docLink.innerHTML = docLinkHtml;\n",
              "          element.appendChild(docLink);\n",
              "        }\n",
              "      </script>\n",
              "    </div>\n",
              "  </div>\n",
              "  "
            ]
          },
          "metadata": {},
          "execution_count": 49
        }
      ]
    },
    {
      "cell_type": "markdown",
      "source": [
        "####- 29 - Filtrar el DataFrame de correos electrónicos de clientes  y resguardar los 3 contactos más actuales por cliente."
      ],
      "metadata": {
        "id": "cG_t_EtZvS99"
      }
    },
    {
      "cell_type": "code",
      "source": [
        "#df_emails_cut = df_customer_emails.drop('role_type', 'email_type','address_sequence_id','residence_type','primary_email_type','email_domain_type','encripted_type','field_length_number','comments_desc','customer_email_status_type','email_app_type','register_user_id','last_change_user_id','last_change_hms_date','last_change_terminal_id','operational_load_date','customer_email_status_date','registry_entry_date')\n",
        "df_emails_cut = df_customer_emails.select('customer_id','email_desc','last_change_date_e')"
      ],
      "metadata": {
        "id": "FPik2PVDk7c9"
      },
      "execution_count": null,
      "outputs": []
    },
    {
      "cell_type": "code",
      "source": [
        "df_customer_emails.show()"
      ],
      "metadata": {
        "colab": {
          "base_uri": "https://localhost:8080/"
        },
        "id": "SyA5X38Sj6Sn",
        "outputId": "a6098669-6317-4141-8dd0-e51a9e4800f2"
      },
      "execution_count": null,
      "outputs": [
        {
          "output_type": "stream",
          "name": "stdout",
          "text": [
            "+-----------+-------------+-----------+--------------+---------------+--------------------+---------+----------------+-----------+-----------------------+-----------------------+----------+-------------------+-----------------+--------------------------+---------+----------------+----------+-------------------+-----------+----------+----------------------+--------------------+---------------------+-----------+--------------------------+----------------------------+-------------------------------+------------------------+------------------------+--------------------------+------------------------+--------------------------+----------------------------+------------------+------------------------+-------------------+-------------------+---------------------------+-----------------+-------------------+-----------------+-------------------------------+--------------------+---------------------+------------------+----------------+--------------------+--------------------------+----------------+--------------------------+--------------------+-------------+----------------+--------------------+-------------------+--------+---------------------+-------------------------+--------------------------+----------------+--------------------+--------------------+----------------+-------------+-------------------------+-----------------------+---------------------+----------+------------------+\n",
            "|customer_id|personal_type|personal_id|admission_date|sale_channel_id|operation_channel_id|branch_id|business_area_id|campaing_id|customer_situation_type|customer_condition_type|manager_id|tracking_manager_id|credit_manager_id|credit_recovery_manager_id|last_name|second_last_name|first_name|marital_status_type|gender_type|birth_date|country_nationality_id|residence_country_id|customer_subject_type|sector_type|customer_level_access_type|cust_bcra_econ_activity_type|internal_economic_activity_type|bbva_inhabilitation_type|customer_block_bbva_date|customer_unblock_bbva_date|customer_block_bcra_date|customer_unblock_bcra_date|customer_pending_notice_type|last_notice_number|last_reference_number_id|last_service_number|last_address_number|last_unlinking_account_date|customer_end_date|last_change_user_id|customer_pep_type|bbva_family_lnk_weighted_number|customer_status_type|scoring_activity_type|refinancing_number|refinancing_date|coholder_customer_id|customer_bcra_situation_id|customer_cuit_id|customer_position_vat_type|balance_closing_date|profession_id|bbva_cust_number|customer_linked_type|customer_entry_type|job_type|profession_start_date|customer_first_block_date|customer_registration_date|last_change_date|last_change_hms_date|register_terminal_id|register_user_id|customer_type|customer_seniority_number|last_status_change_date|operational_load_date|email_desc|last_change_date_e|\n",
            "+-----------+-------------+-----------+--------------+---------------+--------------------+---------+----------------+-----------+-----------------------+-----------------------+----------+-------------------+-----------------+--------------------------+---------+----------------+----------+-------------------+-----------+----------+----------------------+--------------------+---------------------+-----------+--------------------------+----------------------------+-------------------------------+------------------------+------------------------+--------------------------+------------------------+--------------------------+----------------------------+------------------+------------------------+-------------------+-------------------+---------------------------+-----------------+-------------------+-----------------+-------------------------------+--------------------+---------------------+------------------+----------------+--------------------+--------------------------+----------------+--------------------------+--------------------+-------------+----------------+--------------------+-------------------+--------+---------------------+-------------------------+--------------------------+----------------+--------------------+--------------------+----------------+-------------+-------------------------+-----------------------+---------------------+----------+------------------+\n",
            "+-----------+-------------+-----------+--------------+---------------+--------------------+---------+----------------+-----------+-----------------------+-----------------------+----------+-------------------+-----------------+--------------------------+---------+----------------+----------+-------------------+-----------+----------+----------------------+--------------------+---------------------+-----------+--------------------------+----------------------------+-------------------------------+------------------------+------------------------+--------------------------+------------------------+--------------------------+----------------------------+------------------+------------------------+-------------------+-------------------+---------------------------+-----------------+-------------------+-----------------+-------------------------------+--------------------+---------------------+------------------+----------------+--------------------+--------------------------+----------------+--------------------------+--------------------+-------------+----------------+--------------------+-------------------+--------+---------------------+-------------------------+--------------------------+----------------+--------------------+--------------------+----------------+-------------+-------------------------+-----------------------+---------------------+----------+------------------+\n",
            "\n"
          ]
        }
      ]
    },
    {
      "cell_type": "code",
      "source": [
        "df_emails_sorted = df_emails_cut.orderBy([df_emails_cut.customer_id, desc('last_change_date_e')])\n",
        "\n",
        "df_emails_sorted.show()"
      ],
      "metadata": {
        "id": "fpGW5Bhiny1I",
        "colab": {
          "base_uri": "https://localhost:8080/"
        },
        "outputId": "22704f36-2680-4d50-944c-232e30e0aad1"
      },
      "execution_count": null,
      "outputs": [
        {
          "output_type": "stream",
          "name": "stdout",
          "text": [
            "+-----------+----------+------------------+\n",
            "|customer_id|email_desc|last_change_date_e|\n",
            "+-----------+----------+------------------+\n",
            "+-----------+----------+------------------+\n",
            "\n"
          ]
        }
      ]
    },
    {
      "cell_type": "code",
      "source": [
        "window = Window.partitionBy(df_emails_sorted.customer_id).orderBy(desc(df_emails_sorted.last_change_date_e))"
      ],
      "metadata": {
        "id": "_l0ihHQVqwik"
      },
      "execution_count": null,
      "outputs": []
    },
    {
      "cell_type": "code",
      "source": [
        "df_email = df_emails_sorted.withColumn('row_num', row_number().over(window))"
      ],
      "metadata": {
        "id": "hyKJT4uMsE4V"
      },
      "execution_count": null,
      "outputs": []
    },
    {
      "cell_type": "code",
      "source": [
        "df_email = df_email.filter(df_email.row_num <= 3)"
      ],
      "metadata": {
        "id": "DyWusGCFsE4V"
      },
      "execution_count": null,
      "outputs": []
    },
    {
      "cell_type": "code",
      "source": [
        "df_email.toPandas()"
      ],
      "metadata": {
        "id": "b_R9h6FpsE4V",
        "colab": {
          "base_uri": "https://localhost:8080/",
          "height": 49
        },
        "outputId": "651bcece-fdcd-4701-9d8e-7cd55f358a0c"
      },
      "execution_count": null,
      "outputs": [
        {
          "output_type": "execute_result",
          "data": {
            "text/plain": [
              "Empty DataFrame\n",
              "Columns: [customer_id, email_desc, last_change_date_e, row_num]\n",
              "Index: []"
            ],
            "text/html": [
              "\n",
              "  <div id=\"df-ee91e3cc-902d-4017-9ca9-6b7d52779e06\">\n",
              "    <div class=\"colab-df-container\">\n",
              "      <div>\n",
              "<style scoped>\n",
              "    .dataframe tbody tr th:only-of-type {\n",
              "        vertical-align: middle;\n",
              "    }\n",
              "\n",
              "    .dataframe tbody tr th {\n",
              "        vertical-align: top;\n",
              "    }\n",
              "\n",
              "    .dataframe thead th {\n",
              "        text-align: right;\n",
              "    }\n",
              "</style>\n",
              "<table border=\"1\" class=\"dataframe\">\n",
              "  <thead>\n",
              "    <tr style=\"text-align: right;\">\n",
              "      <th></th>\n",
              "      <th>customer_id</th>\n",
              "      <th>email_desc</th>\n",
              "      <th>last_change_date_e</th>\n",
              "      <th>row_num</th>\n",
              "    </tr>\n",
              "  </thead>\n",
              "  <tbody>\n",
              "  </tbody>\n",
              "</table>\n",
              "</div>\n",
              "      <button class=\"colab-df-convert\" onclick=\"convertToInteractive('df-ee91e3cc-902d-4017-9ca9-6b7d52779e06')\"\n",
              "              title=\"Convert this dataframe to an interactive table.\"\n",
              "              style=\"display:none;\">\n",
              "        \n",
              "  <svg xmlns=\"http://www.w3.org/2000/svg\" height=\"24px\"viewBox=\"0 0 24 24\"\n",
              "       width=\"24px\">\n",
              "    <path d=\"M0 0h24v24H0V0z\" fill=\"none\"/>\n",
              "    <path d=\"M18.56 5.44l.94 2.06.94-2.06 2.06-.94-2.06-.94-.94-2.06-.94 2.06-2.06.94zm-11 1L8.5 8.5l.94-2.06 2.06-.94-2.06-.94L8.5 2.5l-.94 2.06-2.06.94zm10 10l.94 2.06.94-2.06 2.06-.94-2.06-.94-.94-2.06-.94 2.06-2.06.94z\"/><path d=\"M17.41 7.96l-1.37-1.37c-.4-.4-.92-.59-1.43-.59-.52 0-1.04.2-1.43.59L10.3 9.45l-7.72 7.72c-.78.78-.78 2.05 0 2.83L4 21.41c.39.39.9.59 1.41.59.51 0 1.02-.2 1.41-.59l7.78-7.78 2.81-2.81c.8-.78.8-2.07 0-2.86zM5.41 20L4 18.59l7.72-7.72 1.47 1.35L5.41 20z\"/>\n",
              "  </svg>\n",
              "      </button>\n",
              "      \n",
              "  <style>\n",
              "    .colab-df-container {\n",
              "      display:flex;\n",
              "      flex-wrap:wrap;\n",
              "      gap: 12px;\n",
              "    }\n",
              "\n",
              "    .colab-df-convert {\n",
              "      background-color: #E8F0FE;\n",
              "      border: none;\n",
              "      border-radius: 50%;\n",
              "      cursor: pointer;\n",
              "      display: none;\n",
              "      fill: #1967D2;\n",
              "      height: 32px;\n",
              "      padding: 0 0 0 0;\n",
              "      width: 32px;\n",
              "    }\n",
              "\n",
              "    .colab-df-convert:hover {\n",
              "      background-color: #E2EBFA;\n",
              "      box-shadow: 0px 1px 2px rgba(60, 64, 67, 0.3), 0px 1px 3px 1px rgba(60, 64, 67, 0.15);\n",
              "      fill: #174EA6;\n",
              "    }\n",
              "\n",
              "    [theme=dark] .colab-df-convert {\n",
              "      background-color: #3B4455;\n",
              "      fill: #D2E3FC;\n",
              "    }\n",
              "\n",
              "    [theme=dark] .colab-df-convert:hover {\n",
              "      background-color: #434B5C;\n",
              "      box-shadow: 0px 1px 3px 1px rgba(0, 0, 0, 0.15);\n",
              "      filter: drop-shadow(0px 1px 2px rgba(0, 0, 0, 0.3));\n",
              "      fill: #FFFFFF;\n",
              "    }\n",
              "  </style>\n",
              "\n",
              "      <script>\n",
              "        const buttonEl =\n",
              "          document.querySelector('#df-ee91e3cc-902d-4017-9ca9-6b7d52779e06 button.colab-df-convert');\n",
              "        buttonEl.style.display =\n",
              "          google.colab.kernel.accessAllowed ? 'block' : 'none';\n",
              "\n",
              "        async function convertToInteractive(key) {\n",
              "          const element = document.querySelector('#df-ee91e3cc-902d-4017-9ca9-6b7d52779e06');\n",
              "          const dataTable =\n",
              "            await google.colab.kernel.invokeFunction('convertToInteractive',\n",
              "                                                     [key], {});\n",
              "          if (!dataTable) return;\n",
              "\n",
              "          const docLinkHtml = 'Like what you see? Visit the ' +\n",
              "            '<a target=\"_blank\" href=https://colab.research.google.com/notebooks/data_table.ipynb>data table notebook</a>'\n",
              "            + ' to learn more about interactive tables.';\n",
              "          element.innerHTML = '';\n",
              "          dataTable['output_type'] = 'display_data';\n",
              "          await google.colab.output.renderOutput(dataTable, element);\n",
              "          const docLink = document.createElement('div');\n",
              "          docLink.innerHTML = docLinkHtml;\n",
              "          element.appendChild(docLink);\n",
              "        }\n",
              "      </script>\n",
              "    </div>\n",
              "  </div>\n",
              "  "
            ]
          },
          "metadata": {},
          "execution_count": 153
        }
      ]
    },
    {
      "cell_type": "code",
      "source": [
        "df_pivot_email = df_email.groupBy('customer_id').agg(collect_list('email_desc').alias('last_3_changes_list'))"
      ],
      "metadata": {
        "id": "RQL8xQPNsE4V"
      },
      "execution_count": null,
      "outputs": []
    },
    {
      "cell_type": "code",
      "source": [
        "df_pivot_email = df_pivot_email.selectExpr('customer_id', 'last_3_changes_list[0] as Email_1', 'last_3_changes_list[1] as Email_2', 'last_3_changes_list[2] as Email_3')"
      ],
      "metadata": {
        "id": "1JPA_QSxsE4V"
      },
      "execution_count": null,
      "outputs": []
    },
    {
      "cell_type": "code",
      "source": [
        "df_pivot_email.toPandas()"
      ],
      "metadata": {
        "id": "XVz1TIcAsE4W",
        "colab": {
          "base_uri": "https://localhost:8080/",
          "height": 49
        },
        "outputId": "5a940ac6-4629-4974-8ac0-e7e67a7b372e"
      },
      "execution_count": null,
      "outputs": [
        {
          "output_type": "execute_result",
          "data": {
            "text/plain": [
              "Empty DataFrame\n",
              "Columns: [customer_id, Email_1, Email_2, Email_3]\n",
              "Index: []"
            ],
            "text/html": [
              "\n",
              "  <div id=\"df-0e001f60-a343-4ae6-9158-74e304a3e4cc\">\n",
              "    <div class=\"colab-df-container\">\n",
              "      <div>\n",
              "<style scoped>\n",
              "    .dataframe tbody tr th:only-of-type {\n",
              "        vertical-align: middle;\n",
              "    }\n",
              "\n",
              "    .dataframe tbody tr th {\n",
              "        vertical-align: top;\n",
              "    }\n",
              "\n",
              "    .dataframe thead th {\n",
              "        text-align: right;\n",
              "    }\n",
              "</style>\n",
              "<table border=\"1\" class=\"dataframe\">\n",
              "  <thead>\n",
              "    <tr style=\"text-align: right;\">\n",
              "      <th></th>\n",
              "      <th>customer_id</th>\n",
              "      <th>Email_1</th>\n",
              "      <th>Email_2</th>\n",
              "      <th>Email_3</th>\n",
              "    </tr>\n",
              "  </thead>\n",
              "  <tbody>\n",
              "  </tbody>\n",
              "</table>\n",
              "</div>\n",
              "      <button class=\"colab-df-convert\" onclick=\"convertToInteractive('df-0e001f60-a343-4ae6-9158-74e304a3e4cc')\"\n",
              "              title=\"Convert this dataframe to an interactive table.\"\n",
              "              style=\"display:none;\">\n",
              "        \n",
              "  <svg xmlns=\"http://www.w3.org/2000/svg\" height=\"24px\"viewBox=\"0 0 24 24\"\n",
              "       width=\"24px\">\n",
              "    <path d=\"M0 0h24v24H0V0z\" fill=\"none\"/>\n",
              "    <path d=\"M18.56 5.44l.94 2.06.94-2.06 2.06-.94-2.06-.94-.94-2.06-.94 2.06-2.06.94zm-11 1L8.5 8.5l.94-2.06 2.06-.94-2.06-.94L8.5 2.5l-.94 2.06-2.06.94zm10 10l.94 2.06.94-2.06 2.06-.94-2.06-.94-.94-2.06-.94 2.06-2.06.94z\"/><path d=\"M17.41 7.96l-1.37-1.37c-.4-.4-.92-.59-1.43-.59-.52 0-1.04.2-1.43.59L10.3 9.45l-7.72 7.72c-.78.78-.78 2.05 0 2.83L4 21.41c.39.39.9.59 1.41.59.51 0 1.02-.2 1.41-.59l7.78-7.78 2.81-2.81c.8-.78.8-2.07 0-2.86zM5.41 20L4 18.59l7.72-7.72 1.47 1.35L5.41 20z\"/>\n",
              "  </svg>\n",
              "      </button>\n",
              "      \n",
              "  <style>\n",
              "    .colab-df-container {\n",
              "      display:flex;\n",
              "      flex-wrap:wrap;\n",
              "      gap: 12px;\n",
              "    }\n",
              "\n",
              "    .colab-df-convert {\n",
              "      background-color: #E8F0FE;\n",
              "      border: none;\n",
              "      border-radius: 50%;\n",
              "      cursor: pointer;\n",
              "      display: none;\n",
              "      fill: #1967D2;\n",
              "      height: 32px;\n",
              "      padding: 0 0 0 0;\n",
              "      width: 32px;\n",
              "    }\n",
              "\n",
              "    .colab-df-convert:hover {\n",
              "      background-color: #E2EBFA;\n",
              "      box-shadow: 0px 1px 2px rgba(60, 64, 67, 0.3), 0px 1px 3px 1px rgba(60, 64, 67, 0.15);\n",
              "      fill: #174EA6;\n",
              "    }\n",
              "\n",
              "    [theme=dark] .colab-df-convert {\n",
              "      background-color: #3B4455;\n",
              "      fill: #D2E3FC;\n",
              "    }\n",
              "\n",
              "    [theme=dark] .colab-df-convert:hover {\n",
              "      background-color: #434B5C;\n",
              "      box-shadow: 0px 1px 3px 1px rgba(0, 0, 0, 0.15);\n",
              "      filter: drop-shadow(0px 1px 2px rgba(0, 0, 0, 0.3));\n",
              "      fill: #FFFFFF;\n",
              "    }\n",
              "  </style>\n",
              "\n",
              "      <script>\n",
              "        const buttonEl =\n",
              "          document.querySelector('#df-0e001f60-a343-4ae6-9158-74e304a3e4cc button.colab-df-convert');\n",
              "        buttonEl.style.display =\n",
              "          google.colab.kernel.accessAllowed ? 'block' : 'none';\n",
              "\n",
              "        async function convertToInteractive(key) {\n",
              "          const element = document.querySelector('#df-0e001f60-a343-4ae6-9158-74e304a3e4cc');\n",
              "          const dataTable =\n",
              "            await google.colab.kernel.invokeFunction('convertToInteractive',\n",
              "                                                     [key], {});\n",
              "          if (!dataTable) return;\n",
              "\n",
              "          const docLinkHtml = 'Like what you see? Visit the ' +\n",
              "            '<a target=\"_blank\" href=https://colab.research.google.com/notebooks/data_table.ipynb>data table notebook</a>'\n",
              "            + ' to learn more about interactive tables.';\n",
              "          element.innerHTML = '';\n",
              "          dataTable['output_type'] = 'display_data';\n",
              "          await google.colab.output.renderOutput(dataTable, element);\n",
              "          const docLink = document.createElement('div');\n",
              "          docLink.innerHTML = docLinkHtml;\n",
              "          element.appendChild(docLink);\n",
              "        }\n",
              "      </script>\n",
              "    </div>\n",
              "  </div>\n",
              "  "
            ]
          },
          "metadata": {},
          "execution_count": 156
        }
      ]
    },
    {
      "cell_type": "code",
      "source": [
        "df_pivot_email = df_pivot_email.na.fill('---')\n",
        "df_pivot_email.toPandas()"
      ],
      "metadata": {
        "id": "1Zc-3aU5sE4W",
        "colab": {
          "base_uri": "https://localhost:8080/",
          "height": 49
        },
        "outputId": "176aac45-a360-442d-8b40-4ee4644677ba"
      },
      "execution_count": null,
      "outputs": [
        {
          "output_type": "execute_result",
          "data": {
            "text/plain": [
              "Empty DataFrame\n",
              "Columns: [customer_id, Email_1, Email_2, Email_3]\n",
              "Index: []"
            ],
            "text/html": [
              "\n",
              "  <div id=\"df-9befedc3-e56a-45eb-8d74-9b1a0f2f61e5\">\n",
              "    <div class=\"colab-df-container\">\n",
              "      <div>\n",
              "<style scoped>\n",
              "    .dataframe tbody tr th:only-of-type {\n",
              "        vertical-align: middle;\n",
              "    }\n",
              "\n",
              "    .dataframe tbody tr th {\n",
              "        vertical-align: top;\n",
              "    }\n",
              "\n",
              "    .dataframe thead th {\n",
              "        text-align: right;\n",
              "    }\n",
              "</style>\n",
              "<table border=\"1\" class=\"dataframe\">\n",
              "  <thead>\n",
              "    <tr style=\"text-align: right;\">\n",
              "      <th></th>\n",
              "      <th>customer_id</th>\n",
              "      <th>Email_1</th>\n",
              "      <th>Email_2</th>\n",
              "      <th>Email_3</th>\n",
              "    </tr>\n",
              "  </thead>\n",
              "  <tbody>\n",
              "  </tbody>\n",
              "</table>\n",
              "</div>\n",
              "      <button class=\"colab-df-convert\" onclick=\"convertToInteractive('df-9befedc3-e56a-45eb-8d74-9b1a0f2f61e5')\"\n",
              "              title=\"Convert this dataframe to an interactive table.\"\n",
              "              style=\"display:none;\">\n",
              "        \n",
              "  <svg xmlns=\"http://www.w3.org/2000/svg\" height=\"24px\"viewBox=\"0 0 24 24\"\n",
              "       width=\"24px\">\n",
              "    <path d=\"M0 0h24v24H0V0z\" fill=\"none\"/>\n",
              "    <path d=\"M18.56 5.44l.94 2.06.94-2.06 2.06-.94-2.06-.94-.94-2.06-.94 2.06-2.06.94zm-11 1L8.5 8.5l.94-2.06 2.06-.94-2.06-.94L8.5 2.5l-.94 2.06-2.06.94zm10 10l.94 2.06.94-2.06 2.06-.94-2.06-.94-.94-2.06-.94 2.06-2.06.94z\"/><path d=\"M17.41 7.96l-1.37-1.37c-.4-.4-.92-.59-1.43-.59-.52 0-1.04.2-1.43.59L10.3 9.45l-7.72 7.72c-.78.78-.78 2.05 0 2.83L4 21.41c.39.39.9.59 1.41.59.51 0 1.02-.2 1.41-.59l7.78-7.78 2.81-2.81c.8-.78.8-2.07 0-2.86zM5.41 20L4 18.59l7.72-7.72 1.47 1.35L5.41 20z\"/>\n",
              "  </svg>\n",
              "      </button>\n",
              "      \n",
              "  <style>\n",
              "    .colab-df-container {\n",
              "      display:flex;\n",
              "      flex-wrap:wrap;\n",
              "      gap: 12px;\n",
              "    }\n",
              "\n",
              "    .colab-df-convert {\n",
              "      background-color: #E8F0FE;\n",
              "      border: none;\n",
              "      border-radius: 50%;\n",
              "      cursor: pointer;\n",
              "      display: none;\n",
              "      fill: #1967D2;\n",
              "      height: 32px;\n",
              "      padding: 0 0 0 0;\n",
              "      width: 32px;\n",
              "    }\n",
              "\n",
              "    .colab-df-convert:hover {\n",
              "      background-color: #E2EBFA;\n",
              "      box-shadow: 0px 1px 2px rgba(60, 64, 67, 0.3), 0px 1px 3px 1px rgba(60, 64, 67, 0.15);\n",
              "      fill: #174EA6;\n",
              "    }\n",
              "\n",
              "    [theme=dark] .colab-df-convert {\n",
              "      background-color: #3B4455;\n",
              "      fill: #D2E3FC;\n",
              "    }\n",
              "\n",
              "    [theme=dark] .colab-df-convert:hover {\n",
              "      background-color: #434B5C;\n",
              "      box-shadow: 0px 1px 3px 1px rgba(0, 0, 0, 0.15);\n",
              "      filter: drop-shadow(0px 1px 2px rgba(0, 0, 0, 0.3));\n",
              "      fill: #FFFFFF;\n",
              "    }\n",
              "  </style>\n",
              "\n",
              "      <script>\n",
              "        const buttonEl =\n",
              "          document.querySelector('#df-9befedc3-e56a-45eb-8d74-9b1a0f2f61e5 button.colab-df-convert');\n",
              "        buttonEl.style.display =\n",
              "          google.colab.kernel.accessAllowed ? 'block' : 'none';\n",
              "\n",
              "        async function convertToInteractive(key) {\n",
              "          const element = document.querySelector('#df-9befedc3-e56a-45eb-8d74-9b1a0f2f61e5');\n",
              "          const dataTable =\n",
              "            await google.colab.kernel.invokeFunction('convertToInteractive',\n",
              "                                                     [key], {});\n",
              "          if (!dataTable) return;\n",
              "\n",
              "          const docLinkHtml = 'Like what you see? Visit the ' +\n",
              "            '<a target=\"_blank\" href=https://colab.research.google.com/notebooks/data_table.ipynb>data table notebook</a>'\n",
              "            + ' to learn more about interactive tables.';\n",
              "          element.innerHTML = '';\n",
              "          dataTable['output_type'] = 'display_data';\n",
              "          await google.colab.output.renderOutput(dataTable, element);\n",
              "          const docLink = document.createElement('div');\n",
              "          docLink.innerHTML = docLinkHtml;\n",
              "          element.appendChild(docLink);\n",
              "        }\n",
              "      </script>\n",
              "    </div>\n",
              "  </div>\n",
              "  "
            ]
          },
          "metadata": {},
          "execution_count": 157
        }
      ]
    },
    {
      "cell_type": "markdown",
      "source": [
        "#Enrequecimiento de datos."
      ],
      "metadata": {
        "id": "r7-F0k1dabKy"
      }
    },
    {
      "cell_type": "markdown",
      "source": [
        "####- 30 - Agregar una nueva columna a los DataFrame de contactos, indicando el contact_type según corresponda (address, email, phone)"
      ],
      "metadata": {
        "id": "0Ihney2Lw5Mo"
      }
    },
    {
      "cell_type": "code",
      "source": [
        "df_contact_types = df_phones_contact_col.join(df_address_contact_col, 'customer_id', how='full')\\\n",
        ".join(df_emails_contact_col, 'customer_id', how='full')"
      ],
      "metadata": {
        "id": "p-5M2zJQxJfK",
        "colab": {
          "base_uri": "https://localhost:8080/",
          "height": 182
        },
        "outputId": "3ce0f609-5a9d-4e48-a15c-7e73f5450d88"
      },
      "execution_count": null,
      "outputs": [
        {
          "output_type": "error",
          "ename": "NameError",
          "evalue": "ignored",
          "traceback": [
            "\u001b[0;31m---------------------------------------------------------------------------\u001b[0m",
            "\u001b[0;31mNameError\u001b[0m                                 Traceback (most recent call last)",
            "\u001b[0;32m<ipython-input-96-4ba049099932>\u001b[0m in \u001b[0;36m<cell line: 1>\u001b[0;34m()\u001b[0m\n\u001b[0;32m----> 1\u001b[0;31m \u001b[0mdf_contact_types\u001b[0m \u001b[0;34m=\u001b[0m \u001b[0mdf_phones_contact_col\u001b[0m\u001b[0;34m.\u001b[0m\u001b[0mjoin\u001b[0m\u001b[0;34m(\u001b[0m\u001b[0mdf_address_contact_col\u001b[0m\u001b[0;34m,\u001b[0m \u001b[0;34m'customer_id'\u001b[0m\u001b[0;34m,\u001b[0m \u001b[0mhow\u001b[0m\u001b[0;34m=\u001b[0m\u001b[0;34m'full'\u001b[0m\u001b[0;34m)\u001b[0m\u001b[0;31m\\\u001b[0m\u001b[0;34m\u001b[0m\u001b[0;34m\u001b[0m\u001b[0m\n\u001b[0m\u001b[1;32m      2\u001b[0m \u001b[0;34m.\u001b[0m\u001b[0mjoin\u001b[0m\u001b[0;34m(\u001b[0m\u001b[0mdf_emails_contact_col\u001b[0m\u001b[0;34m,\u001b[0m \u001b[0;34m'customer_id'\u001b[0m\u001b[0;34m,\u001b[0m \u001b[0mhow\u001b[0m\u001b[0;34m=\u001b[0m\u001b[0;34m'full'\u001b[0m\u001b[0;34m)\u001b[0m\u001b[0;34m\u001b[0m\u001b[0;34m\u001b[0m\u001b[0m\n",
            "\u001b[0;31mNameError\u001b[0m: name 'df_phones_contact_col' is not defined"
          ]
        }
      ]
    },
    {
      "cell_type": "code",
      "source": [
        "df_contact_types.select('customer_id','contact_type_phones','contact_type_address','contact_type_emails').show()"
      ],
      "metadata": {
        "id": "N-9F_dLz5DUW",
        "outputId": "bae7becb-5e39-4f1c-afce-e7abd6b4cc2d",
        "colab": {
          "base_uri": "https://localhost:8080/",
          "height": 165
        }
      },
      "execution_count": null,
      "outputs": [
        {
          "output_type": "error",
          "ename": "NameError",
          "evalue": "ignored",
          "traceback": [
            "\u001b[0;31m---------------------------------------------------------------------------\u001b[0m",
            "\u001b[0;31mNameError\u001b[0m                                 Traceback (most recent call last)",
            "\u001b[0;32m<ipython-input-97-7d5cc5ba082f>\u001b[0m in \u001b[0;36m<cell line: 1>\u001b[0;34m()\u001b[0m\n\u001b[0;32m----> 1\u001b[0;31m \u001b[0mdf_contact_types\u001b[0m\u001b[0;34m.\u001b[0m\u001b[0mselect\u001b[0m\u001b[0;34m(\u001b[0m\u001b[0;34m'customer_id'\u001b[0m\u001b[0;34m,\u001b[0m\u001b[0;34m'contact_type_phones'\u001b[0m\u001b[0;34m,\u001b[0m\u001b[0;34m'contact_type_address'\u001b[0m\u001b[0;34m,\u001b[0m\u001b[0;34m'contact_type_emails'\u001b[0m\u001b[0;34m)\u001b[0m\u001b[0;34m.\u001b[0m\u001b[0mshow\u001b[0m\u001b[0;34m(\u001b[0m\u001b[0;34m)\u001b[0m\u001b[0;34m\u001b[0m\u001b[0;34m\u001b[0m\u001b[0m\n\u001b[0m",
            "\u001b[0;31mNameError\u001b[0m: name 'df_contact_types' is not defined"
          ]
        }
      ]
    },
    {
      "cell_type": "markdown",
      "source": [
        "Join tablas pivot"
      ],
      "metadata": {
        "id": "b9EpJA1hs_X5"
      }
    },
    {
      "cell_type": "code",
      "source": [
        "df_contactos = df_pivot_phone.join(df_pivot_email, \"customer_id\") \\\n",
        "                   .join(df_pivot_address, \"customer_id\")"
      ],
      "metadata": {
        "id": "7kJLqRSO34Y_"
      },
      "execution_count": null,
      "outputs": []
    },
    {
      "cell_type": "code",
      "source": [
        "sorted(df_contactos.columns)"
      ],
      "metadata": {
        "colab": {
          "base_uri": "https://localhost:8080/"
        },
        "id": "hWlNHHSJmyUF",
        "outputId": "109f0ed1-4a35-4dfa-a780-5a47c076dfc3"
      },
      "execution_count": null,
      "outputs": [
        {
          "output_type": "execute_result",
          "data": {
            "text/plain": [
              "['Address_1',\n",
              " 'Address_2',\n",
              " 'Address_3',\n",
              " 'Email_1',\n",
              " 'Email_2',\n",
              " 'Email_3',\n",
              " 'Phone_1',\n",
              " 'Phone_2',\n",
              " 'Phone_3',\n",
              " 'customer_id']"
            ]
          },
          "metadata": {},
          "execution_count": 95
        }
      ]
    },
    {
      "cell_type": "code",
      "source": [
        "df_contactos.show()"
      ],
      "metadata": {
        "colab": {
          "base_uri": "https://localhost:8080/"
        },
        "id": "3Z0lCMc3m0LE",
        "outputId": "85a546ad-043b-457b-c137-723a9203a742"
      },
      "execution_count": null,
      "outputs": [
        {
          "output_type": "stream",
          "name": "stdout",
          "text": [
            "+-----------+-------+-------+-------+-------+-------+-------+---------+---------+---------+\n",
            "|customer_id|Phone_1|Phone_2|Phone_3|Email_1|Email_2|Email_3|Address_1|Address_2|Address_3|\n",
            "+-----------+-------+-------+-------+-------+-------+-------+---------+---------+---------+\n",
            "+-----------+-------+-------+-------+-------+-------+-------+---------+---------+---------+\n",
            "\n"
          ]
        }
      ]
    },
    {
      "cell_type": "markdown",
      "source": [
        "####- 31 - Agregar una nueva columna al DataFrame de contactos telefónicos de clientes, resguardando el contacto en formato json contenido en string, con los datos: Phone_type (mobile, landline ), Código país., Código de Área, Número teléfono."
      ],
      "metadata": {
        "id": "MnX2n20Ew9WK"
      }
    },
    {
      "cell_type": "code",
      "source": [
        "df_phone_contact = df_phone_contact.withColumn(\"phone_contact\", to_json(struct(df_phone_contact.phone_type, df_phone_contact.phone_country_id, df_phone_contact.prefix_phone_id, df_phone_contact.phone_area_id, df_phone_contact.cellphone_prefix_id, df_phone_contact.phone_exchange_id, df_phone_contact.phone_line_id)))"
      ],
      "metadata": {
        "id": "UpXne4NcU_xU",
        "colab": {
          "base_uri": "https://localhost:8080/",
          "height": 182
        },
        "outputId": "c22770dd-897e-477a-8650-b73ee404e268"
      },
      "execution_count": null,
      "outputs": [
        {
          "output_type": "error",
          "ename": "NameError",
          "evalue": "ignored",
          "traceback": [
            "\u001b[0;31m---------------------------------------------------------------------------\u001b[0m",
            "\u001b[0;31mNameError\u001b[0m                                 Traceback (most recent call last)",
            "\u001b[0;32m<ipython-input-91-7fa22c936910>\u001b[0m in \u001b[0;36m<cell line: 1>\u001b[0;34m()\u001b[0m\n\u001b[0;32m----> 1\u001b[0;31m \u001b[0mdf_phone_contact\u001b[0m \u001b[0;34m=\u001b[0m \u001b[0mdf_phone_contact\u001b[0m\u001b[0;34m.\u001b[0m\u001b[0mwithColumn\u001b[0m\u001b[0;34m(\u001b[0m\u001b[0;34m\"phone_contact\"\u001b[0m\u001b[0;34m,\u001b[0m \u001b[0mto_json\u001b[0m\u001b[0;34m(\u001b[0m\u001b[0mstruct\u001b[0m\u001b[0;34m(\u001b[0m\u001b[0mdf_phone_contact\u001b[0m\u001b[0;34m.\u001b[0m\u001b[0mphone_type\u001b[0m\u001b[0;34m,\u001b[0m \u001b[0mdf_phone_contact\u001b[0m\u001b[0;34m.\u001b[0m\u001b[0mphone_country_id\u001b[0m\u001b[0;34m,\u001b[0m \u001b[0mdf_phone_contact\u001b[0m\u001b[0;34m.\u001b[0m\u001b[0mprefix_phone_id\u001b[0m\u001b[0;34m,\u001b[0m \u001b[0mdf_phone_contact\u001b[0m\u001b[0;34m.\u001b[0m\u001b[0mphone_area_id\u001b[0m\u001b[0;34m,\u001b[0m \u001b[0mdf_phone_contact\u001b[0m\u001b[0;34m.\u001b[0m\u001b[0mcellphone_prefix_id\u001b[0m\u001b[0;34m,\u001b[0m \u001b[0mdf_phone_contact\u001b[0m\u001b[0;34m.\u001b[0m\u001b[0mphone_exchange_id\u001b[0m\u001b[0;34m,\u001b[0m \u001b[0mdf_phone_contact\u001b[0m\u001b[0;34m.\u001b[0m\u001b[0mphone_line_id\u001b[0m\u001b[0;34m)\u001b[0m\u001b[0;34m)\u001b[0m\u001b[0;34m)\u001b[0m\u001b[0;34m\u001b[0m\u001b[0;34m\u001b[0m\u001b[0m\n\u001b[0m",
            "\u001b[0;31mNameError\u001b[0m: name 'df_phone_contact' is not defined"
          ]
        }
      ]
    },
    {
      "cell_type": "code",
      "source": [
        "df_phone_contact.show(truncate=False)"
      ],
      "metadata": {
        "colab": {
          "base_uri": "https://localhost:8080/",
          "height": 165
        },
        "id": "ZkMd0glic11C",
        "outputId": "6814c4ae-c1d6-4dd9-f889-509db059487e"
      },
      "execution_count": null,
      "outputs": [
        {
          "output_type": "error",
          "ename": "NameError",
          "evalue": "ignored",
          "traceback": [
            "\u001b[0;31m---------------------------------------------------------------------------\u001b[0m",
            "\u001b[0;31mNameError\u001b[0m                                 Traceback (most recent call last)",
            "\u001b[0;32m<ipython-input-90-8f44ef57d2d0>\u001b[0m in \u001b[0;36m<cell line: 1>\u001b[0;34m()\u001b[0m\n\u001b[0;32m----> 1\u001b[0;31m \u001b[0mdf_phone_contact\u001b[0m\u001b[0;34m.\u001b[0m\u001b[0mshow\u001b[0m\u001b[0;34m(\u001b[0m\u001b[0mtruncate\u001b[0m\u001b[0;34m=\u001b[0m\u001b[0;32mFalse\u001b[0m\u001b[0;34m)\u001b[0m\u001b[0;34m\u001b[0m\u001b[0;34m\u001b[0m\u001b[0m\n\u001b[0m",
            "\u001b[0;31mNameError\u001b[0m: name 'df_phone_contact' is not defined"
          ]
        }
      ]
    },
    {
      "cell_type": "markdown",
      "source": [
        "####- 32 - Agregar una nueva columna al DataFrame de direcciones de clientes, resguardando el contacto en formato json contenido en string, con los datos: Calle, Número, Piso, Depto, Localidad, Provincia, Código postal"
      ],
      "metadata": {
        "id": "hDLIA0tOxBnB"
      }
    },
    {
      "cell_type": "markdown",
      "source": [
        "####- 33 - Combinar los DataFrame de contactos telefónicos de clientes, direcciones de clientes y email de clientes en uno solo."
      ],
      "metadata": {
        "id": "Yoc083uLwsFv"
      }
    },
    {
      "cell_type": "code",
      "source": [
        "#BBVAW2T2-33\n",
        "\n",
        "\n",
        "df_contactos = df_pivot_phone.join(df_pivot_email, \"customer_id\") \\\n",
        "                   .join(df_pivot_address, \"customer_id\")"
      ],
      "metadata": {
        "id": "ZWSXrxNwahor"
      },
      "execution_count": null,
      "outputs": []
    },
    {
      "cell_type": "code",
      "source": [
        "sorted(df_contactos.columns)"
      ],
      "metadata": {
        "id": "OO62TMS_ahrX",
        "outputId": "9662dcb6-7022-4c88-d3c3-ac48575fb9bd",
        "colab": {
          "base_uri": "https://localhost:8080/"
        }
      },
      "execution_count": null,
      "outputs": [
        {
          "output_type": "execute_result",
          "data": {
            "text/plain": [
              "['Address_1',\n",
              " 'Address_2',\n",
              " 'Address_3',\n",
              " 'Email_1',\n",
              " 'Email_2',\n",
              " 'Email_3',\n",
              " 'Phone_1',\n",
              " 'Phone_2',\n",
              " 'Phone_3',\n",
              " 'customer_id']"
            ]
          },
          "metadata": {},
          "execution_count": 99
        }
      ]
    },
    {
      "cell_type": "code",
      "source": [
        "df_contactos.printSchema()"
      ],
      "metadata": {
        "colab": {
          "base_uri": "https://localhost:8080/"
        },
        "id": "RawMP46HJPe7",
        "outputId": "e7c2ddc4-85b9-44ee-e5af-7dcd93300d0c"
      },
      "execution_count": null,
      "outputs": [
        {
          "output_type": "stream",
          "name": "stdout",
          "text": [
            "root\n",
            " |-- customer_id: string (nullable = false)\n",
            " |-- Phone_1: string (nullable = false)\n",
            " |-- Phone_2: string (nullable = false)\n",
            " |-- Phone_3: string (nullable = false)\n",
            " |-- Email_1: string (nullable = false)\n",
            " |-- Email_2: string (nullable = false)\n",
            " |-- Email_3: string (nullable = false)\n",
            " |-- Address_1: string (nullable = false)\n",
            " |-- Address_2: string (nullable = false)\n",
            " |-- Address_3: string (nullable = false)\n",
            "\n"
          ]
        }
      ]
    },
    {
      "cell_type": "code",
      "source": [
        "df_contactos_1 = df_contactos.select('customer_id','Phone_1','Email_1','Address_1')"
      ],
      "metadata": {
        "id": "dqkNRBGAXRm1"
      },
      "execution_count": null,
      "outputs": []
    },
    {
      "cell_type": "code",
      "source": [
        "df_contactos_1.createOrReplaceTempView(\"contactos_temp\")\n",
        "\n"
      ],
      "metadata": {
        "id": "D9U4dqwTaqW9"
      },
      "execution_count": null,
      "outputs": []
    },
    {
      "cell_type": "code",
      "source": [
        "df_contactos_1.show()"
      ],
      "metadata": {
        "colab": {
          "base_uri": "https://localhost:8080/"
        },
        "id": "DrgcTxmXbLVz",
        "outputId": "ddc3348d-e299-4afc-d997-1577a6c2c421"
      },
      "execution_count": null,
      "outputs": [
        {
          "output_type": "stream",
          "name": "stdout",
          "text": [
            "+-----------+-------+-------+---------+\n",
            "|customer_id|Phone_1|Email_1|Address_1|\n",
            "+-----------+-------+-------+---------+\n",
            "+-----------+-------+-------+---------+\n",
            "\n"
          ]
        }
      ]
    },
    {
      "cell_type": "markdown",
      "source": [
        "# Creacion de vistas temporales."
      ],
      "metadata": {
        "id": "x3SDp11Fghvs"
      }
    },
    {
      "cell_type": "markdown",
      "source": [
        "####- 35 - Generar una vista temporal a partir del DataFrame de contactos."
      ],
      "metadata": {
        "id": "Rg9diwJJyLvf"
      }
    },
    {
      "cell_type": "code",
      "source": [
        "df_contactos_1.createTempView('tw_contactos_1')"
      ],
      "metadata": {
        "id": "w6mFNUCngr--",
        "colab": {
          "base_uri": "https://localhost:8080/",
          "height": 165
        },
        "outputId": "0b06faa4-4650-4aa9-9911-7a220099273e"
      },
      "execution_count": 51,
      "outputs": [
        {
          "output_type": "error",
          "ename": "NameError",
          "evalue": "ignored",
          "traceback": [
            "\u001b[0;31m---------------------------------------------------------------------------\u001b[0m",
            "\u001b[0;31mNameError\u001b[0m                                 Traceback (most recent call last)",
            "\u001b[0;32m<ipython-input-51-d666b79f2f81>\u001b[0m in \u001b[0;36m<cell line: 1>\u001b[0;34m()\u001b[0m\n\u001b[0;32m----> 1\u001b[0;31m \u001b[0mdf_contactos_1\u001b[0m\u001b[0;34m.\u001b[0m\u001b[0mcreateTempView\u001b[0m\u001b[0;34m(\u001b[0m\u001b[0;34m'tw_contactos_1'\u001b[0m\u001b[0;34m)\u001b[0m\u001b[0;34m\u001b[0m\u001b[0;34m\u001b[0m\u001b[0m\n\u001b[0m",
            "\u001b[0;31mNameError\u001b[0m: name 'df_contactos_1' is not defined"
          ]
        }
      ]
    },
    {
      "cell_type": "markdown",
      "source": [
        "####- 36 - Generar una vista temporal a partir del archivo t_abtq_customer_basics."
      ],
      "metadata": {
        "id": "TxiRzcShyRx1"
      }
    },
    {
      "cell_type": "code",
      "source": [
        "df_customer_basics.createOrReplaceTempView('tw_customer_basics')"
      ],
      "metadata": {
        "id": "wGNN_s8aq4Tv"
      },
      "execution_count": 52,
      "outputs": []
    },
    {
      "cell_type": "markdown",
      "source": [
        "####- 37 - Generar una vista temporal a partir del archivo t_acog_marital_status_type."
      ],
      "metadata": {
        "id": "PDHfXICEyWrK"
      }
    },
    {
      "cell_type": "code",
      "source": [
        "df_marital_status.createOrReplaceTempView('tw_marital_status')"
      ],
      "metadata": {
        "id": "2uSBjUKpnQVH"
      },
      "execution_count": 53,
      "outputs": []
    },
    {
      "cell_type": "markdown",
      "source": [
        "####- 38 - Generar una vista temporal a partir del archivo t_acog_nationality."
      ],
      "metadata": {
        "id": "clZGiedoyZBY"
      }
    },
    {
      "cell_type": "code",
      "source": [
        "df_nationality.createOrReplaceTempView('tw_nationality')"
      ],
      "metadata": {
        "id": "fL0FL99OoxHc"
      },
      "execution_count": 54,
      "outputs": []
    },
    {
      "cell_type": "markdown",
      "source": [
        "# Querys en spark SQL."
      ],
      "metadata": {
        "id": "vzuddeSks_Ku"
      }
    },
    {
      "cell_type": "markdown",
      "source": [
        "####- 39 - Generar un público objetivo (1) que cumpla los siguientes puntos:\n",
        "* Cliente\n",
        "* Antigüedad superior a 5 años\n",
        "* Asalariado Fijo.\n",
        "* Estado civil: Casado\n"
      ],
      "metadata": {
        "id": "_CSfngFgyfgI"
      }
    },
    {
      "cell_type": "code",
      "source": [
        "publico_obj1 = sqlContext.sql('select customer_id, customer_condition_type, marital_status_type,job_type,floor(datediff(current_date(), admission_date)/365) as years_diff  FROM tw_customer_basics where floor(datediff(current_date(), admission_date)/365) > 5 AND marital_status_type = 01 AND job_type = 001 AND customer_condition_type = 1')"
      ],
      "metadata": {
        "id": "RkvKjdWYWj26"
      },
      "execution_count": null,
      "outputs": []
    },
    {
      "cell_type": "code",
      "source": [
        "publico_obj1.show()"
      ],
      "metadata": {
        "id": "gQE3pIo3Vreg",
        "colab": {
          "base_uri": "https://localhost:8080/"
        },
        "outputId": "cf4a5cf7-c6d4-4615-9f4f-94319cf19d30"
      },
      "execution_count": null,
      "outputs": [
        {
          "output_type": "stream",
          "name": "stdout",
          "text": [
            "+-----------+-----------------------+-------------------+--------+----------+\n",
            "|customer_id|customer_condition_type|marital_status_type|job_type|years_diff|\n",
            "+-----------+-----------------------+-------------------+--------+----------+\n",
            "|   06916693|                      1|                  1|     001|        16|\n",
            "|   20706165|                      1|                  1|     001|         8|\n",
            "|   02997060|                      1|                  1|     001|        12|\n",
            "|   04484525|                      1|                  1|     001|        31|\n",
            "|   02337659|                      1|                  1|     001|        13|\n",
            "|   00888642|                      1|                  1|     001|        30|\n",
            "|   06452202|                      1|                  1|     001|        18|\n",
            "|   08792054|                      1|                  1|     001|        14|\n",
            "|   04154408|                      1|                  1|     001|        24|\n",
            "|   07007301|                      1|                  1|     001|        16|\n",
            "|   01962947|                      1|                  1|     001|        13|\n",
            "|   04010119|                      1|                  1|     001|        25|\n",
            "|   00505761|                      1|                  1|     001|        26|\n",
            "|   03775782|                      1|                  1|     001|        12|\n",
            "|   02815103|                      1|                  1|     001|        12|\n",
            "|   02357090|                      1|                  1|     001|        12|\n",
            "|   21418914|                      1|                  1|     001|         7|\n",
            "|   03933330|                      1|                  1|     001|        11|\n",
            "|   07099126|                      1|                  1|     001|        16|\n",
            "|   05021199|                      1|                  1|     001|        23|\n",
            "+-----------+-----------------------+-------------------+--------+----------+\n",
            "only showing top 20 rows\n",
            "\n"
          ]
        }
      ]
    },
    {
      "cell_type": "markdown",
      "source": [
        "####- 40 -  Generar un público objetivo (2) que cumpla los siguientes puntos:\n",
        "* Potencial Cliente\n",
        "* Sexo Femenino\n",
        "* Entre 30 y 45 años de Edad.\n",
        "* Nacionalidad No Argentina"
      ],
      "metadata": {
        "id": "c0pSjhqey2co"
      }
    },
    {
      "cell_type": "code",
      "source": [
        "publico_obj2 = sqlContext.sql('select customer_id, country_nationality_id, customer_condition_type, gender_type,floor(datediff(current_date(), birth_date)/365) as customer_age  FROM tw_customer_basics WHERE floor(datediff(current_date(), birth_date)/365) > 30 AND floor(datediff(current_date(), birth_date)/365) < 45 AND gender_type = \"F\" AND customer_condition_type = 1 AND country_nationality_id <> 80')\n"
      ],
      "metadata": {
        "id": "uUfn8Qx7lrGJ"
      },
      "execution_count": null,
      "outputs": []
    },
    {
      "cell_type": "code",
      "source": [
        "publico_obj2.show()"
      ],
      "metadata": {
        "colab": {
          "base_uri": "https://localhost:8080/"
        },
        "id": "iVODytY9lrIv",
        "outputId": "718630da-9a2b-4c67-88ea-ade777e7081d"
      },
      "execution_count": null,
      "outputs": [
        {
          "output_type": "stream",
          "name": "stdout",
          "text": [
            "+-----------+----------------------+-----------------------+-----------+------------+\n",
            "|customer_id|country_nationality_id|customer_condition_type|gender_type|customer_age|\n",
            "+-----------+----------------------+-----------------------+-----------+------------+\n",
            "|   08576564|                    69|                      1|          F|          44|\n",
            "|   22184167|                    83|                      1|          F|          33|\n",
            "+-----------+----------------------+-----------------------+-----------+------------+\n",
            "\n"
          ]
        }
      ]
    },
    {
      "cell_type": "code",
      "source": [],
      "metadata": {
        "id": "aq6wY_5DlrRh"
      },
      "execution_count": null,
      "outputs": []
    },
    {
      "cell_type": "markdown",
      "source": [
        "####- 41 - Generar un público objetivo (3) que cumpla los siguientes puntos:\n",
        "* Potencial Cliente\n",
        "* Sexo Masculino.\n",
        "* Mayor a 25 años.\n",
        "* Estado civil Soltero"
      ],
      "metadata": {
        "id": "-YzIyMgKzHPq"
      }
    },
    {
      "cell_type": "code",
      "source": [
        "publico_obj3 = sqlContext.sql('select customer_id, customer_condition_type, gender_type, marital_status_type, floor(datediff(current_date(), birth_date)/365) as customer_age  FROM tw_customer_basics WHERE floor(datediff(current_date(), birth_date)/365) > 25 AND gender_type = \"M\" AND marital_status_type = 5')\n",
        "#AND customer_condition_type = 1"
      ],
      "metadata": {
        "id": "Gh1ZLwVHwW6f"
      },
      "execution_count": null,
      "outputs": []
    },
    {
      "cell_type": "code",
      "source": [
        "publico_obj3.show()"
      ],
      "metadata": {
        "colab": {
          "base_uri": "https://localhost:8080/"
        },
        "id": "eS12wW5PxUbN",
        "outputId": "31962a91-043c-49d2-a408-b41b5680c311"
      },
      "execution_count": null,
      "outputs": [
        {
          "output_type": "stream",
          "name": "stdout",
          "text": [
            "+-----------+-----------------------+-----------+-------------------+------------+\n",
            "|customer_id|customer_condition_type|gender_type|marital_status_type|customer_age|\n",
            "+-----------+-----------------------+-----------+-------------------+------------+\n",
            "|   26745469|                      1|          M|                  5|          65|\n",
            "|   19963134|                      1|          M|                  5|          74|\n",
            "|   03099590|                      1|          M|                  5|          79|\n",
            "|   04762676|                      1|          M|                  5|          47|\n",
            "|   05483567|                      1|          M|                  5|          45|\n",
            "|   02169869|                      1|          M|                  5|          57|\n",
            "|   26817297|                      8|          M|                  5|          27|\n",
            "|   03613890|                      8|          M|                  5|          77|\n",
            "|   06771433|                      1|          M|                  5|          45|\n",
            "|   20148609|                      1|          M|                  5|          45|\n",
            "|   26112865|                      8|          M|                  5|          26|\n",
            "|   22042448|                      1|          M|                  5|          27|\n",
            "|   24740298|                      1|          M|                  5|          26|\n",
            "|   28362526|                      8|          M|                  5|          27|\n",
            "|   21697799|                      8|          M|                  5|          26|\n",
            "|   22629204|                      8|          M|                  5|          27|\n",
            "|   22931175|                      8|          M|                  5|          39|\n",
            "|   06087397|                      1|          M|                  5|          50|\n",
            "|   19687239|                      1|          M|                  5|          39|\n",
            "|   20025578|                      1|          M|                  5|          26|\n",
            "+-----------+-----------------------+-----------+-------------------+------------+\n",
            "only showing top 20 rows\n",
            "\n"
          ]
        }
      ]
    },
    {
      "cell_type": "markdown",
      "source": [
        "####- 42 - Generar un público objetivo (4) que cumpla los siguientes puntos:\n",
        "* Cliente\n",
        "* Edad superior a 52 años\n",
        "* Nacionalidad Argentina\n",
        "* Estado civil Viudo"
      ],
      "metadata": {
        "id": "O0YwTfG8zLns"
      }
    },
    {
      "cell_type": "code",
      "source": [
        "publico_obj4 = sqlContext.sql('select customer_id, customer_condition_type, country_nationality_id, marital_status_type, floor(datediff(current_date(), birth_date)/365) as customer_age  FROM tw_customer_basics WHERE floor(datediff(current_date(), birth_date)/365) > 52 AND country_nationality_id = 80 AND marital_status_type = 2 AND customer_condition_type = 1')\n"
      ],
      "metadata": {
        "id": "xVJ2-CDyzp9n"
      },
      "execution_count": 55,
      "outputs": []
    },
    {
      "cell_type": "code",
      "source": [
        "publico_obj4.show()"
      ],
      "metadata": {
        "colab": {
          "base_uri": "https://localhost:8080/"
        },
        "id": "J9lCs7al0Bhj",
        "outputId": "69f06b6b-7660-429f-cdb1-69ec305cb0d8"
      },
      "execution_count": 56,
      "outputs": [
        {
          "output_type": "stream",
          "name": "stdout",
          "text": [
            "+-----------+-----------------------+----------------------+-------------------+------------+\n",
            "|customer_id|customer_condition_type|country_nationality_id|marital_status_type|customer_age|\n",
            "+-----------+-----------------------+----------------------+-------------------+------------+\n",
            "|   04191069|                      1|                    80|                  2|          89|\n",
            "|   03925479|                      1|                    80|                  2|          57|\n",
            "|   04161701|                      1|                    80|                  2|          87|\n",
            "|   27541480|                      1|                    80|                  2|          87|\n",
            "|   04374298|                      1|                    80|                  2|          57|\n",
            "|   05353458|                      1|                    80|                  2|         102|\n",
            "|   05812127|                      1|                    80|                  2|          98|\n",
            "|   08713474|                      1|                    80|                  2|          57|\n",
            "|   04566883|                      1|                    80|                  2|          96|\n",
            "|   00104838|                      1|                    80|                  2|          95|\n",
            "|   07365248|                      1|                    80|                  2|          86|\n",
            "|   04076446|                      1|                    80|                  2|         104|\n",
            "|   00013774|                      1|                    80|                  2|         101|\n",
            "|   00014664|                      1|                    80|                  2|         102|\n",
            "|   02507194|                      1|                    80|                  2|          73|\n",
            "|   23641874|                      1|                    80|                  2|          73|\n",
            "+-----------+-----------------------+----------------------+-------------------+------------+\n",
            "\n"
          ]
        }
      ]
    },
    {
      "cell_type": "markdown",
      "source": [
        "# Carga de datos, generacion de archivos .csv\n",
        "#### Los archivos deben cumplir los siguientes requerimientos: \n",
        "* Contener cabecera. \n",
        "* Separador “|”. \n",
        "* Máximo de 1000 registros por archivo (si el público objetivo tiene más de 1000 registros, se deberá crear más de un archivo)\n",
        "* Ser guardados en HDFS."
      ],
      "metadata": {
        "id": "AKaVLQPMzRiZ"
      }
    },
    {
      "cell_type": "markdown",
      "source": [
        "#### - 43 -  Generar archivos .csv a partir de los público objetivo 1. \n"
      ],
      "metadata": {
        "id": "Aa7xtVRSzUYG"
      }
    },
    {
      "cell_type": "code",
      "source": [
        "# Importar librerías necesarias\n",
        "from pyspark.sql import SparkSession\n",
        "\n",
        "# Crear sesión de Spark\n",
        "spark = SparkSession.builder.appName('Export to CSV').getOrCreate()\n",
        "\n",
        "# Cargar DataFrame\n",
        "df = spark.read.format('csv').option('header', 'true').load('ruta/al/archivo')\n",
        "\n",
        "# Dividir DataFrame en bloques de 1000 registros\n",
        "n = 1000\n",
        "dfs = [df.limit(n).offset(i*n) for i in range(int(df.count()/n)+1)]\n",
        "\n",
        "# Exportar cada bloque a un archivo CSV\n",
        "for i, df_part in enumerate(dfs):\n",
        "    # Definir ruta y nombre de archivo\n",
        "    filename = 'ruta/en/hdfs/archivo_{}.csv'.format(i)\n",
        "    \n",
        "    # Exportar DataFrame a CSV con separador '|'\n",
        "    df_part.write.format('csv').option('header', 'true').option('delimiter', '|').mode('overwrite').save(filename)\n"
      ],
      "metadata": {
        "id": "V4jl6_rA2pgI"
      },
      "execution_count": null,
      "outputs": []
    },
    {
      "cell_type": "code",
      "source": [],
      "metadata": {
        "id": "GmIOcpuT2pkZ"
      },
      "execution_count": null,
      "outputs": []
    },
    {
      "cell_type": "code",
      "source": [],
      "metadata": {
        "id": "sV9RH6-72pnV"
      },
      "execution_count": null,
      "outputs": []
    },
    {
      "cell_type": "code",
      "source": [],
      "metadata": {
        "id": "2Le5Lako2pp3"
      },
      "execution_count": null,
      "outputs": []
    },
    {
      "cell_type": "code",
      "source": [],
      "metadata": {
        "id": "u8y9IMnP2pvh"
      },
      "execution_count": null,
      "outputs": []
    },
    {
      "cell_type": "markdown",
      "source": [
        "#### - 44 - Generar archivos .csv a partir del público objetivo 2. "
      ],
      "metadata": {
        "id": "-ghFgx1CzWiT"
      }
    },
    {
      "cell_type": "markdown",
      "source": [
        "####- 45 - Generar archivos .csv a partir del público objetivo 3. "
      ],
      "metadata": {
        "id": "RibK-HsmznSu"
      }
    },
    {
      "cell_type": "markdown",
      "source": [
        "####- 46 - Generar archivos .csv a partir del público objetivo 4. "
      ],
      "metadata": {
        "id": "HXNyvvYi0AkY"
      }
    },
    {
      "cell_type": "markdown",
      "source": [
        "# Extraccion de datos desde .csv, públicos objetivo"
      ],
      "metadata": {
        "id": "gsBzsNK20DsC"
      }
    },
    {
      "cell_type": "markdown",
      "source": [
        "#### - 47 - Cargar los datos de los publicos generados en un DataFrame."
      ],
      "metadata": {
        "id": "hyOSh9u70Khr"
      }
    },
    {
      "cell_type": "markdown",
      "source": [
        "# Calculo de agregaciones."
      ],
      "metadata": {
        "id": "L4z8RN3-0NWt"
      }
    },
    {
      "cell_type": "markdown",
      "source": [
        "####- 48 -  Contar al cantidad de personas contactada por publico objetivo."
      ],
      "metadata": {
        "id": "V4vo3ZIZ0Pu_"
      }
    },
    {
      "cell_type": "markdown",
      "source": [
        "####- 49 - Contar la cantidad de direcciones, mails y telefonos por publico objetivo."
      ],
      "metadata": {
        "id": "8ncFa_tW0UBx"
      }
    },
    {
      "cell_type": "markdown",
      "source": [
        "####- 50 - Contar la cantidad de hombres y mujeres por publico objetivo."
      ],
      "metadata": {
        "id": "IDX0Omzy0Wkg"
      }
    },
    {
      "cell_type": "markdown",
      "source": [
        "#### - 51 - Calcular la edad promedio por publico objetivo."
      ],
      "metadata": {
        "id": "bikW5zRF0ZNS"
      }
    },
    {
      "cell_type": "markdown",
      "source": [
        "# Carga de datos, generacion de archivos .parquet"
      ],
      "metadata": {
        "id": "tHmfq2rU0bNv"
      }
    },
    {
      "cell_type": "markdown",
      "source": [
        "####- 52 - Guardar las agregaciones generadas en un archivo parquet, particionado por mes de campaña y publico objetivo."
      ],
      "metadata": {
        "id": "n28g6npc0dY3"
      }
    },
    {
      "cell_type": "markdown",
      "source": [
        "####- 53 - Guardar las agregaciones generadas en un archivo parquet, particionado por mes de campaña y publico objetivo."
      ],
      "metadata": {
        "id": "sPCIsWcJ0fRL"
      }
    },
    {
      "cell_type": "markdown",
      "source": [
        "####- 54 - Guardar las agregaciones generadas en un archivo parquet, particionado por mes de campaña y publico objetivo."
      ],
      "metadata": {
        "id": "pgON20aV0hBj"
      }
    },
    {
      "cell_type": "markdown",
      "source": [
        "####- 55 - Guardar las agregaciones generadas en un archivo parquet, particionado por mes de campaña y publico objetivo."
      ],
      "metadata": {
        "id": "U16I98lN0ipN"
      }
    },
    {
      "cell_type": "markdown",
      "source": [
        "#Borrador"
      ],
      "metadata": {
        "id": "atfxD5tNfQX2"
      }
    },
    {
      "cell_type": "code",
      "source": [
        "#df_marital_status.show()\n",
        "df_marital_ok.show(truncate=False)\n",
        "#df_segment_type.show()\n",
        "#df_customer_documents.show()\n",
        "#df_address_type.show()\n",
        "#df_gender.show()\n",
        "#df_nationality.show(n=85)\n",
        "#df_personal_type.show()\n",
        "#df_phone_type.show()\n",
        "#df_province.show()\n",
        "#df_customer_segment.show()\n",
        "#df_customer_info_temp.show()\n",
        "#df_customer_basics.show(n=200)"
      ],
      "metadata": {
        "colab": {
          "base_uri": "https://localhost:8080/"
        },
        "id": "GK8_GPgofStB",
        "outputId": "e7bc43a6-6237-4f82-ec60-fe41ca5f1525"
      },
      "execution_count": 94,
      "outputs": [
        {
          "output_type": "stream",
          "name": "stdout",
          "text": [
            "+-------------------+------------------------+-------------------------+--------------------------------------------------+-------------------------+-------------------+----------------+--------------------+-----------------------+-------------------+-----------------------+-----------------+\n",
            "|marital_status_type|first_record_filter_type|second_record_filter_type|martial_status_desc                               |martial_status_short_desc|registry_entry_date|last_change_date|last_change_hms_date|last_change_terminal_id|last_change_user_id|operational_load_date  |customer_end_date|\n",
            "+-------------------+------------------------+-------------------------+--------------------------------------------------+-------------------------+-------------------+----------------+--------------------+-----------------------+-------------------+-----------------------+-----------------+\n",
            "|0                  |                        |                         |NO INFORMA                                        |NO INFORMA               |2016-08-11         |2016-08-11      |205030              |BTCH                   |TC4C0100           |2022-01-14 02:08:08.335|1900-01-01       |\n",
            "|NULO               |C                       |00001                    |CASADO/A                                          |CASADO/A                 |2016-08-11         |2016-08-11      |205030              |BTCH                   |TC4C0100           |2022-01-14 02:08:08.335|1900-01-01       |\n",
            "|NULO               |                        |00002                    |VIUDO/A                                           |VIUDO/A                  |2016-08-11         |2016-08-11      |205030              |BTCH                   |TC4C0100           |2022-01-14 02:08:08.335|1900-01-01       |\n",
            "|NULO               |C                       |00003                    |SEPARADO/A                                        |SEPARADO/A               |2016-08-11         |2016-08-11      |205030              |BTCH                   |TC4C0100           |2022-01-14 02:08:08.335|1900-01-01       |\n",
            "|NULO               |                        |00003                    |DIVORCIADO                                        |DIVORCIADO               |2016-08-11         |2016-08-11      |205030              |BTCH                   |TC4C0100           |2022-01-14 02:08:08.335|1900-01-01       |\n",
            "|NULO               |                        |00000                    |SOLTERO/A                                         |SOLTERO/A                |2016-08-11         |2016-08-11      |205030              |BTCH                   |TC4C0100           |2022-01-14 02:08:08.335|1900-01-01       |\n",
            "|NULO               |                        |                         |CONVIVIENT                                        |CONVIVIENT               |2016-08-11         |2016-08-11      |205030              |BTCH                   |TC4C0100           |2022-01-14 02:08:08.335|1900-01-01       |\n",
            "|NULO               |                        |                         |OTROS                                             |OTROS                    |2016-08-11         |2016-08-11      |205030              |BTCH                   |TC4C0100           |2022-01-14 02:08:08.335|1900-01-01       |\n",
            "|NULO               |                        |                         |CONV. INSC                                        |CONV. INSC               |2016-08-11         |2016-08-11      |205030              |BTCH                   |TC4C0100           |2022-01-14 02:08:08.335|1900-01-01       |\n",
            "+-------------------+------------------------+-------------------------+--------------------------------------------------+-------------------------+-------------------+----------------+--------------------+-----------------------+-------------------+-----------------------+-----------------+\n",
            "\n"
          ]
        }
      ]
    }
  ]
}